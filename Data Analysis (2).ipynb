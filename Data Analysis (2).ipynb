{
 "cells": [
  {
   "cell_type": "code",
   "execution_count": 1,
   "metadata": {},
   "outputs": [
    {
     "name": "stderr",
     "output_type": "stream",
     "text": [
      "Warning message:\n",
      "\"package 'nnet' was built under R version 3.6.3\"Warning message:\n",
      "\"package 'caret' was built under R version 3.6.3\"Loading required package: lattice\n",
      "Loading required package: ggplot2\n",
      "Warning message:\n",
      "\"package 'ggplot2' was built under R version 3.6.2\"Warning message:\n",
      "\"package 'plotmo' was built under R version 3.6.2\"Loading required package: Formula\n",
      "Loading required package: plotrix\n",
      "Loading required package: TeachingDemos\n",
      "Warning message:\n",
      "\"package 'TeachingDemos' was built under R version 3.6.2\"Warning message:\n",
      "\"package 'readr' was built under R version 3.6.2\"Warning message:\n",
      "\"package 'faraway' was built under R version 3.6.2\"\n",
      "Attaching package: 'faraway'\n",
      "\n",
      "The following object is masked from 'package:lattice':\n",
      "\n",
      "    melanoma\n",
      "\n",
      "Warning message:\n",
      "\"package 'glmnet' was built under R version 3.6.2\"Loading required package: Matrix\n",
      "Loaded glmnet 3.0-2\n",
      "\n",
      "Warning message:\n",
      "\"package 'e1071' was built under R version 3.6.2\"randomForest 4.6-14\n",
      "Type rfNews() to see new features/changes/bug fixes.\n",
      "\n",
      "Attaching package: 'randomForest'\n",
      "\n",
      "The following object is masked from 'package:ggplot2':\n",
      "\n",
      "    margin\n",
      "\n"
     ]
    }
   ],
   "source": [
    "library(MASS)\n",
    "library(nnet)\n",
    "library(caret)\n",
    "library(plotmo)\n",
    "library(readr)\n",
    "library(faraway)\n",
    "library(ggplot2)\n",
    "library(glmnet)\n",
    "library(e1071)\n",
    "library(randomForest)"
   ]
  },
  {
   "cell_type": "markdown",
   "metadata": {},
   "source": [
    "# Load Data and Final Clean"
   ]
  },
  {
   "cell_type": "code",
   "execution_count": 2,
   "metadata": {
    "scrolled": true
   },
   "outputs": [
    {
     "data": {
      "text/html": [
       "<ol class=list-inline>\n",
       "\t<li>2470</li>\n",
       "\t<li>47</li>\n",
       "</ol>\n"
      ],
      "text/latex": [
       "\\begin{enumerate*}\n",
       "\\item 2470\n",
       "\\item 47\n",
       "\\end{enumerate*}\n"
      ],
      "text/markdown": [
       "1. 2470\n",
       "2. 47\n",
       "\n",
       "\n"
      ],
      "text/plain": [
       "[1] 2470   47"
      ]
     },
     "metadata": {},
     "output_type": "display_data"
    }
   ],
   "source": [
    "df <- read.csv(file=\"cleaned_data_0330.csv\",sep=\",\",header=TRUE)\n",
    "df = df[,-1]\n",
    "dim(df)"
   ]
  },
  {
   "cell_type": "markdown",
   "metadata": {},
   "source": [
    "## Scale and center some variables:"
   ]
  },
  {
   "cell_type": "code",
   "execution_count": 3,
   "metadata": {},
   "outputs": [],
   "source": [
    "mean_age = mean(df$Start_age)\n",
    "sd_age = sd(df$Start_age)\n",
    "df$s_start_age = round((df$Start_age - mean_age)/sd_age,5)\n",
    "mean_net = mean(df$net_cost)\n",
    "sd_net = sd(df$net_cost)\n",
    "df$s_net_cost = round((df$net_cost - mean_net)/sd_net,5)\n",
    "mean_year = mean(df$Start_year)\n",
    "sd_year = sd(df$Start_year)\n",
    "df$s_start_year = round((df$Start_year - mean_year)/sd_year,5)\n",
    "av_net_cost = ifelse(df$Valid.term > 0, df$net_cost / df$Valid.term, df$net_cost)\n",
    "av_mean_net = mean(av_net_cost)\n",
    "av_sd_net = sd(av_net_cost)\n",
    "df$avs_net_cost = round((av_net_cost - av_mean_net)/av_sd_net,5)\n",
    "mean_Average.Precol.GPA = mean(df$Average.Precol.GPA)\n",
    "sd_Average.Precol.GPA = sd(df$Average.Precol.GPA)\n",
    "df$Precol.GPA = round((df$Average.Precol.GPA - mean_Average.Precol.GPA)/sd_Average.Precol.GPA,5)\n",
    "mean_GRE.Combined.General.Write.Score = mean(df$GRE.Combined.General.Write.Score)\n",
    "sd_GRE.Combined.General.Write.Score = sd(df$GRE.Combined.General.Write.Score)\n",
    "df$GRE_Write = round((df$GRE.Combined.General.Write.Score - mean_GRE.Combined.General.Write.Score)/sd_GRE.Combined.General.Write.Score,5)\n",
    "mean_GRE.Combined.Quantitative.Score = mean(df$GRE.Combined.Quantitative.Score)\n",
    "sd_GRE.Combined.Quantitative.Score = sd(df$GRE.Combined.Quantitative.Score)\n",
    "df$GRE.Quant = round((df$GRE.Combined.Quantitative.Score - mean_GRE.Combined.Quantitative.Score)/sd_GRE.Combined.Quantitative.Score,5)\n",
    "mean_GRE.Combined.General.Verbal.Score = mean(df$GRE.Combined.General.Verbal.Score)\n",
    "sd_GRE.Combined.General.Verbal.Score = sd(df$GRE.Combined.General.Verbal.Score)\n",
    "df$GRE.Verbal = round((df$GRE.Combined.General.Verbal.Score - mean_GRE.Combined.General.Verbal.Score)/sd_GRE.Combined.General.Verbal.Score,5)\n",
    "mean_GMAT.Score = mean(df$GMAT.Score)\n",
    "sd_GMAT.Score = sd(df$GMAT.Score)\n",
    "df$GMAT.Score = round((df$GMAT.Score - mean_GMAT.Score)/sd_GMAT.Score,5)\n",
    "mean_gpa = mean(df$Average_GPA)\n",
    "sd_gpa = sd(df$Average_GPA)\n",
    "df$average_gpa = round((df$Average_GPA - mean_gpa)/sd_gpa,2)"
   ]
  },
  {
   "cell_type": "code",
   "execution_count": 230,
   "metadata": {},
   "outputs": [],
   "source": [
    "# mean_SAPC1 = mean(df$SAPC1)\n",
    "# sd_SAPC1 = sd(df$SAPC1)\n",
    "# df$s_SAPC1 = (df$SAPC1 - mean_SAPC1)/sd_SAPC1\n",
    "# mean_SAPC2 = mean(df$SAPC2)\n",
    "# sd_SAPC2 = sd(df$SAPC2)\n",
    "# df$s_SAPC2 = (df$SAPC2 - mean_SAPC2)/sd_SAPC2\n",
    "# mean_SAPC3 = mean(df$SAPC3)\n",
    "# sd_SAPC3 = sd(df$SAPC3)\n",
    "# df$s_SAPC3 = (df$SAPC3 - mean_SAPC3)/sd_SAPC3"
   ]
  },
  {
   "cell_type": "markdown",
   "metadata": {},
   "source": [
    "##  Add No GRE Indicator"
   ]
  },
  {
   "cell_type": "code",
   "execution_count": 4,
   "metadata": {},
   "outputs": [],
   "source": [
    "df$has_gre = C(factor(ifelse(df$GRE.Quant == 0,1,0)),treatment)\n",
    "df$has_gre1 = C(factor(ifelse(df$GRE.Quant == 0,0,1)),treatment)"
   ]
  },
  {
   "cell_type": "markdown",
   "metadata": {},
   "source": [
    "## Seperate by School"
   ]
  },
  {
   "cell_type": "markdown",
   "metadata": {},
   "source": [
    "Different Schools"
   ]
  },
  {
   "cell_type": "code",
   "execution_count": 5,
   "metadata": {},
   "outputs": [],
   "source": [
    "schools = levels(factor(df$College))"
   ]
  },
  {
   "cell_type": "code",
   "execution_count": 6,
   "metadata": {},
   "outputs": [],
   "source": [
    "Harpur_df = df[df$College %in% schools[1:4],]\n",
    "Management_df = df[df$College==\"GD Management\",]\n",
    "Nursing_df = df[df$College==\"GD Nursing\",]\n",
    "Watson_df = df[df$College==\"GD Watson\",]"
   ]
  },
  {
   "cell_type": "code",
   "execution_count": 7,
   "metadata": {
    "scrolled": false
   },
   "outputs": [
    {
     "data": {
      "text/html": [
       "<ol class=list-inline>\n",
       "\t<li>Translation Studies</li>\n",
       "\t<li>Chemistry</li>\n",
       "\t<li>Behavioral Neuroscience</li>\n",
       "\t<li>Cognitive Psychology</li>\n",
       "\t<li>Physics</li>\n",
       "\t<li>Mathematics</li>\n",
       "\t<li>Comparative Literature</li>\n",
       "\t<li>Educational Theory and Practic</li>\n",
       "\t<li>Philosophy Interpretation and</li>\n",
       "\t<li>Biological Sciences</li>\n",
       "\t<li>English</li>\n",
       "\t<li>Materials Science and Engineer</li>\n",
       "\t<li>History</li>\n",
       "\t<li>Anthropology</li>\n",
       "\t<li>Sociology</li>\n",
       "\t<li>Material Sci and Eng-Engineerg</li>\n",
       "\t<li>Clinical Psychology</li>\n",
       "\t<li>Economics</li>\n",
       "\t<li>Geology</li>\n",
       "\t<li>Philosophy SPEL</li>\n",
       "\t<li>Political Science</li>\n",
       "\t<li>Community and Public Affairs</li>\n",
       "\t<li>Art History</li>\n",
       "\t<li>Materials Science and Engr</li>\n",
       "\t<li>Biological Sciences EEB</li>\n",
       "\t<li>X Geology</li>\n",
       "\t<li>Art History Combined MA PhD</li>\n",
       "\t<li>Mechanical Engineering</li>\n",
       "\t<li>Mathematics/Economics</li>\n",
       "</ol>\n",
       "\n",
       "<details>\n",
       "\t<summary style=display:list-item;cursor:pointer>\n",
       "\t\t<strong>Levels</strong>:\n",
       "\t</summary>\n",
       "\t<ol class=list-inline>\n",
       "\t\t<li>'Anthropology'</li>\n",
       "\t\t<li>'Art History'</li>\n",
       "\t\t<li>'Art History Combined MA PhD'</li>\n",
       "\t\t<li>'Behavioral Neuroscience'</li>\n",
       "\t\t<li>'Biological Sciences'</li>\n",
       "\t\t<li>'Biological Sciences EEB'</li>\n",
       "\t\t<li>'Biomedical Engineering'</li>\n",
       "\t\t<li>'Chemistry'</li>\n",
       "\t\t<li>'Clinical Psychology'</li>\n",
       "\t\t<li>'Cognitive Psychology'</li>\n",
       "\t\t<li>'Community and Public Affairs'</li>\n",
       "\t\t<li>'Community Health NP'</li>\n",
       "\t\t<li>'Comparative Literature'</li>\n",
       "\t\t<li>'Computer Science'</li>\n",
       "\t\t<li>'Economics'</li>\n",
       "\t\t<li>'Educational Theory and Practic'</li>\n",
       "\t\t<li>'Electrical and Computer Engr'</li>\n",
       "\t\t<li>'Electrical Engineering'</li>\n",
       "\t\t<li>'English'</li>\n",
       "\t\t<li>'Family Nurse Practitioner'</li>\n",
       "\t\t<li>'Family Psych Mental Health NP'</li>\n",
       "\t\t<li>'Geology'</li>\n",
       "\t\t<li>'History'</li>\n",
       "\t\t<li>'Industrial and Systems Enginee'</li>\n",
       "\t\t<li>'Management PHD'</li>\n",
       "\t\t<li>'Material Sci and Eng-Engineerg'</li>\n",
       "\t\t<li>'Materials Engineering'</li>\n",
       "\t\t<li>'Materials Science and Engineer'</li>\n",
       "\t\t<li>'Materials Science and Engr'</li>\n",
       "\t\t<li>'Mathematics'</li>\n",
       "\t\t<li>'Mathematics/Economics'</li>\n",
       "\t\t<li>'Mechanical Engineering'</li>\n",
       "\t\t<li>'Nursing'</li>\n",
       "\t\t<li>'Philosophy Interpretation and'</li>\n",
       "\t\t<li>'Philosophy SPEL'</li>\n",
       "\t\t<li>'Physics'</li>\n",
       "\t\t<li>'Political Science'</li>\n",
       "\t\t<li>'Sociology'</li>\n",
       "\t\t<li>'Systems Science'</li>\n",
       "\t\t<li>'Systems Science/Biomedical Engineering'</li>\n",
       "\t\t<li>'Systems Science/EE'</li>\n",
       "\t\t<li>'Translation Studies'</li>\n",
       "\t\t<li>'X Geology'</li>\n",
       "\t\t<li>'X Gerontological NP'</li>\n",
       "\t\t<li>'XGerontolog Clin Nurse Special'</li>\n",
       "\t</ol>\n",
       "</details>"
      ],
      "text/latex": [
       "\\begin{enumerate*}\n",
       "\\item Translation Studies\n",
       "\\item Chemistry\n",
       "\\item Behavioral Neuroscience\n",
       "\\item Cognitive Psychology\n",
       "\\item Physics\n",
       "\\item Mathematics\n",
       "\\item Comparative Literature\n",
       "\\item Educational Theory and Practic\n",
       "\\item Philosophy Interpretation and\n",
       "\\item Biological Sciences\n",
       "\\item English\n",
       "\\item Materials Science and Engineer\n",
       "\\item History\n",
       "\\item Anthropology\n",
       "\\item Sociology\n",
       "\\item Material Sci and Eng-Engineerg\n",
       "\\item Clinical Psychology\n",
       "\\item Economics\n",
       "\\item Geology\n",
       "\\item Philosophy SPEL\n",
       "\\item Political Science\n",
       "\\item Community and Public Affairs\n",
       "\\item Art History\n",
       "\\item Materials Science and Engr\n",
       "\\item Biological Sciences EEB\n",
       "\\item X Geology\n",
       "\\item Art History Combined MA PhD\n",
       "\\item Mechanical Engineering\n",
       "\\item Mathematics/Economics\n",
       "\\end{enumerate*}\n",
       "\n",
       "\\emph{Levels}: \\begin{enumerate*}\n",
       "\\item 'Anthropology'\n",
       "\\item 'Art History'\n",
       "\\item 'Art History Combined MA PhD'\n",
       "\\item 'Behavioral Neuroscience'\n",
       "\\item 'Biological Sciences'\n",
       "\\item 'Biological Sciences EEB'\n",
       "\\item 'Biomedical Engineering'\n",
       "\\item 'Chemistry'\n",
       "\\item 'Clinical Psychology'\n",
       "\\item 'Cognitive Psychology'\n",
       "\\item 'Community and Public Affairs'\n",
       "\\item 'Community Health NP'\n",
       "\\item 'Comparative Literature'\n",
       "\\item 'Computer Science'\n",
       "\\item 'Economics'\n",
       "\\item 'Educational Theory and Practic'\n",
       "\\item 'Electrical and Computer Engr'\n",
       "\\item 'Electrical Engineering'\n",
       "\\item 'English'\n",
       "\\item 'Family Nurse Practitioner'\n",
       "\\item 'Family Psych Mental Health NP'\n",
       "\\item 'Geology'\n",
       "\\item 'History'\n",
       "\\item 'Industrial and Systems Enginee'\n",
       "\\item 'Management PHD'\n",
       "\\item 'Material Sci and Eng-Engineerg'\n",
       "\\item 'Materials Engineering'\n",
       "\\item 'Materials Science and Engineer'\n",
       "\\item 'Materials Science and Engr'\n",
       "\\item 'Mathematics'\n",
       "\\item 'Mathematics/Economics'\n",
       "\\item 'Mechanical Engineering'\n",
       "\\item 'Nursing'\n",
       "\\item 'Philosophy Interpretation and'\n",
       "\\item 'Philosophy SPEL'\n",
       "\\item 'Physics'\n",
       "\\item 'Political Science'\n",
       "\\item 'Sociology'\n",
       "\\item 'Systems Science'\n",
       "\\item 'Systems Science/Biomedical Engineering'\n",
       "\\item 'Systems Science/EE'\n",
       "\\item 'Translation Studies'\n",
       "\\item 'X Geology'\n",
       "\\item 'X Gerontological NP'\n",
       "\\item 'XGerontolog Clin Nurse Special'\n",
       "\\end{enumerate*}\n"
      ],
      "text/markdown": [
       "1. Translation Studies\n",
       "2. Chemistry\n",
       "3. Behavioral Neuroscience\n",
       "4. Cognitive Psychology\n",
       "5. Physics\n",
       "6. Mathematics\n",
       "7. Comparative Literature\n",
       "8. Educational Theory and Practic\n",
       "9. Philosophy Interpretation and\n",
       "10. Biological Sciences\n",
       "11. English\n",
       "12. Materials Science and Engineer\n",
       "13. History\n",
       "14. Anthropology\n",
       "15. Sociology\n",
       "16. Material Sci and Eng-Engineerg\n",
       "17. Clinical Psychology\n",
       "18. Economics\n",
       "19. Geology\n",
       "20. Philosophy SPEL\n",
       "21. Political Science\n",
       "22. Community and Public Affairs\n",
       "23. Art History\n",
       "24. Materials Science and Engr\n",
       "25. Biological Sciences EEB\n",
       "26. X Geology\n",
       "27. Art History Combined MA PhD\n",
       "28. Mechanical Engineering\n",
       "29. Mathematics/Economics\n",
       "\n",
       "\n",
       "\n",
       "**Levels**: 1. 'Anthropology'\n",
       "2. 'Art History'\n",
       "3. 'Art History Combined MA PhD'\n",
       "4. 'Behavioral Neuroscience'\n",
       "5. 'Biological Sciences'\n",
       "6. 'Biological Sciences EEB'\n",
       "7. 'Biomedical Engineering'\n",
       "8. 'Chemistry'\n",
       "9. 'Clinical Psychology'\n",
       "10. 'Cognitive Psychology'\n",
       "11. 'Community and Public Affairs'\n",
       "12. 'Community Health NP'\n",
       "13. 'Comparative Literature'\n",
       "14. 'Computer Science'\n",
       "15. 'Economics'\n",
       "16. 'Educational Theory and Practic'\n",
       "17. 'Electrical and Computer Engr'\n",
       "18. 'Electrical Engineering'\n",
       "19. 'English'\n",
       "20. 'Family Nurse Practitioner'\n",
       "21. 'Family Psych Mental Health NP'\n",
       "22. 'Geology'\n",
       "23. 'History'\n",
       "24. 'Industrial and Systems Enginee'\n",
       "25. 'Management PHD'\n",
       "26. 'Material Sci and Eng-Engineerg'\n",
       "27. 'Materials Engineering'\n",
       "28. 'Materials Science and Engineer'\n",
       "29. 'Materials Science and Engr'\n",
       "30. 'Mathematics'\n",
       "31. 'Mathematics/Economics'\n",
       "32. 'Mechanical Engineering'\n",
       "33. 'Nursing'\n",
       "34. 'Philosophy Interpretation and'\n",
       "35. 'Philosophy SPEL'\n",
       "36. 'Physics'\n",
       "37. 'Political Science'\n",
       "38. 'Sociology'\n",
       "39. 'Systems Science'\n",
       "40. 'Systems Science/Biomedical Engineering'\n",
       "41. 'Systems Science/EE'\n",
       "42. 'Translation Studies'\n",
       "43. 'X Geology'\n",
       "44. 'X Gerontological NP'\n",
       "45. 'XGerontolog Clin Nurse Special'\n",
       "\n",
       "\n"
      ],
      "text/plain": [
       " [1] Translation Studies            Chemistry                     \n",
       " [3] Behavioral Neuroscience        Cognitive Psychology          \n",
       " [5] Physics                        Mathematics                   \n",
       " [7] Comparative Literature         Educational Theory and Practic\n",
       " [9] Philosophy Interpretation and  Biological Sciences           \n",
       "[11] English                        Materials Science and Engineer\n",
       "[13] History                        Anthropology                  \n",
       "[15] Sociology                      Material Sci and Eng-Engineerg\n",
       "[17] Clinical Psychology            Economics                     \n",
       "[19] Geology                        Philosophy SPEL               \n",
       "[21] Political Science              Community and Public Affairs  \n",
       "[23] Art History                    Materials Science and Engr    \n",
       "[25] Biological Sciences EEB        X Geology                     \n",
       "[27] Art History Combined MA PhD    Mechanical Engineering        \n",
       "[29] Mathematics/Economics         \n",
       "45 Levels: Anthropology Art History ... XGerontolog Clin Nurse Special"
      ]
     },
     "metadata": {},
     "output_type": "display_data"
    }
   ],
   "source": [
    "unique(Harpur_df$Major)"
   ]
  },
  {
   "cell_type": "code",
   "execution_count": 8,
   "metadata": {},
   "outputs": [],
   "source": [
    "harpur_sciences <- c(\"Chemistry\", \"Behavioral Neuroscience\",\"Cognitive Psychology\",\"Physics\",\"Mathematics\",\n",
    "                     \"Biological Sciences\",\"Materials Science and Engineer\",\"Material Sci and Eng-Engineerg\",\n",
    "                     \"Clinical Psychology\",\"Economics\",\"Geology\",\"Political Science\",\"Materials Science and Engr\",\n",
    "                     \"Biological Sciences EEB\", \"X Geology\",\"Mathematics/Economics\")\n",
    "harpur_arts <- c(\"Comparative Literature\",\"Translation Studies\",\"Educational Theory and Practic\",\n",
    "                 \"Philosophy Interpretation and\", \"English\",\"History\",\"Anthropology\",\"Sociology\",\"Philosophy SPEL\",\n",
    "                 \"Community and Public Affairs\",\"Art History\",\"Art History Combined MA PhD\")"
   ]
  },
  {
   "cell_type": "code",
   "execution_count": 9,
   "metadata": {},
   "outputs": [],
   "source": [
    "Harpur_sciences = Harpur_df[Harpur_df$Major %in% harpur_sciences,]\n",
    "Harpur_arts = Harpur_df[Harpur_df$Major %in% harpur_arts,]"
   ]
  },
  {
   "cell_type": "code",
   "execution_count": 10,
   "metadata": {},
   "outputs": [],
   "source": [
    "Harpur_sciences <- within(Harpur_sciences, Citizenship <- relevel(Citizenship, ref = \"White\"))\n",
    "Harpur_arts <- within(Harpur_arts, Citizenship <- relevel(Citizenship, ref = \"White\"))\n",
    "Management_df <- within(Management_df, Citizenship <- relevel(Citizenship, ref = \"White\"))\n",
    "Watson_df <- within(Watson_df, Citizenship <- relevel(Citizenship, ref = \"White\"))\n",
    "Nursing_df <- within(Nursing_df, Citizenship <- relevel(Citizenship, ref = \"White\"))"
   ]
  },
  {
   "cell_type": "code",
   "execution_count": 11,
   "metadata": {},
   "outputs": [
    {
     "data": {
      "text/html": [
       "861"
      ],
      "text/latex": [
       "861"
      ],
      "text/markdown": [
       "861"
      ],
      "text/plain": [
       "[1] 861"
      ]
     },
     "metadata": {},
     "output_type": "display_data"
    },
    {
     "data": {
      "text/html": [
       "918"
      ],
      "text/latex": [
       "918"
      ],
      "text/markdown": [
       "918"
      ],
      "text/plain": [
       "[1] 918"
      ]
     },
     "metadata": {},
     "output_type": "display_data"
    },
    {
     "data": {
      "text/html": [
       "1780"
      ],
      "text/latex": [
       "1780"
      ],
      "text/markdown": [
       "1780"
      ],
      "text/plain": [
       "[1] 1780"
      ]
     },
     "metadata": {},
     "output_type": "display_data"
    }
   ],
   "source": [
    "dim(Harpur_sciences)[1]\n",
    "dim(Harpur_arts)[1]\n",
    "dim(Harpur_df)[1]"
   ]
  },
  {
   "cell_type": "code",
   "execution_count": 12,
   "metadata": {
    "scrolled": false
   },
   "outputs": [
    {
     "data": {
      "text/html": [
       "<table>\n",
       "<thead><tr><th scope=col>School</th><th scope=col>Total</th><th scope=col>Successful.Graduates</th><th scope=col>Unsuccessful.Graduates</th></tr></thead>\n",
       "<tbody>\n",
       "\t<tr><td>Harpur sciences</td><td>861            </td><td>542            </td><td>319            </td></tr>\n",
       "\t<tr><td>Harpur_arts    </td><td>918            </td><td>534            </td><td>384            </td></tr>\n",
       "\t<tr><td>SOM            </td><td> 58            </td><td> 38            </td><td> 20            </td></tr>\n",
       "\t<tr><td>Nursing        </td><td>117            </td><td> 72            </td><td> 45            </td></tr>\n",
       "\t<tr><td>Watson         </td><td>515            </td><td>343            </td><td>172            </td></tr>\n",
       "</tbody>\n",
       "</table>\n"
      ],
      "text/latex": [
       "\\begin{tabular}{r|llll}\n",
       " School & Total & Successful.Graduates & Unsuccessful.Graduates\\\\\n",
       "\\hline\n",
       "\t Harpur sciences & 861             & 542             & 319            \\\\\n",
       "\t Harpur\\_arts     & 918               & 534               & 384              \\\\\n",
       "\t SOM             &  58             &  38             &  20            \\\\\n",
       "\t Nursing         & 117             &  72             &  45            \\\\\n",
       "\t Watson          & 515             & 343             & 172            \\\\\n",
       "\\end{tabular}\n"
      ],
      "text/markdown": [
       "\n",
       "| School | Total | Successful.Graduates | Unsuccessful.Graduates |\n",
       "|---|---|---|---|\n",
       "| Harpur sciences | 861             | 542             | 319             |\n",
       "| Harpur_arts     | 918             | 534             | 384             |\n",
       "| SOM             |  58             |  38             |  20             |\n",
       "| Nursing         | 117             |  72             |  45             |\n",
       "| Watson          | 515             | 343             | 172             |\n",
       "\n"
      ],
      "text/plain": [
       "  School          Total Successful.Graduates Unsuccessful.Graduates\n",
       "1 Harpur sciences 861   542                  319                   \n",
       "2 Harpur_arts     918   534                  384                   \n",
       "3 SOM              58    38                   20                   \n",
       "4 Nursing         117    72                   45                   \n",
       "5 Watson          515   343                  172                   "
      ]
     },
     "metadata": {},
     "output_type": "display_data"
    }
   ],
   "source": [
    "a_n = dim(Harpur_sciences)[1]\n",
    "a_1 = sum(Harpur_sciences$Y)\n",
    "a_0 = a_n - a_1\n",
    "b_n = dim(Harpur_arts)[1]\n",
    "b_1 = sum(Harpur_arts$Y)\n",
    "b_0 = b_n - b_1\n",
    "c_n = dim(Management_df)[1]\n",
    "c_1 = sum(Management_df$Y)\n",
    "c_0 = c_n - c_1\n",
    "d_n = dim(Nursing_df)[1]\n",
    "d_1 = sum(Nursing_df$Y)\n",
    "d_0 = d_n - d_1\n",
    "e_n = dim(Watson_df)[1]\n",
    "e_1 = sum(Watson_df$Y)\n",
    "e_0 = e_n - e_1\n",
    "School = c(\"Harpur sciences\",\"Harpur_arts\",\"SOM\",\"Nursing\",\"Watson\")\n",
    "sch_total = c(a_n,b_n,c_n,d_n,e_n)\n",
    "succ_total = c(a_1,b_1,c_1,d_1,e_1)\n",
    "unsucc_total = c(a_0,b_0,c_0,d_0,e_0)\n",
    "data.frame(\"School\"=School,\"Total\"=sch_total,\"Successful Graduates\"=succ_total,\"Unsuccessful Graduates\"=unsucc_total)"
   ]
  },
  {
   "cell_type": "code",
   "execution_count": 13,
   "metadata": {},
   "outputs": [],
   "source": [
    "Harpur_sciences$college_1 = 1\n",
    "Harpur_arts$college_1 = 2\n",
    "Management_df$college_1 = 5\n",
    "Watson_df$college_1 = 3\n",
    "Nursing_df$college_1 = 4\n",
    "df1 = rbind(Harpur_sciences, Harpur_arts, Management_df, Watson_df, Nursing_df)"
   ]
  },
  {
   "cell_type": "markdown",
   "metadata": {},
   "source": [
    "# Harpur Sciences Analysis"
   ]
  },
  {
   "cell_type": "markdown",
   "metadata": {},
   "source": [
    "Won't use Degree column since it does not accurately show the student's major"
   ]
  },
  {
   "cell_type": "markdown",
   "metadata": {},
   "source": [
    "<b> Logistic regression model:"
   ]
  },
  {
   "cell_type": "code",
   "execution_count": 241,
   "metadata": {},
   "outputs": [],
   "source": [
    "log_mod_h_s = glm(Y~s_start_age+factor(Gender)+s_start_year+factor(funding_indicator)+factor(Citizenship)+\n",
    "                avs_net_cost+Precol.GPA+ factor(gap_indicator)+GPA_trend+average_gpa+\n",
    "                +factor(has_gre)+factor(has_gre1)*GRE_Write+factor(has_gre1)*GRE.Quant+factor(has_gre1)*GRE.Verbal,\n",
    "                data=Harpur_sciences,family=\"binomial\")\n",
    "# round(summary(log_mod_h_s)$coeff[which(summary(log_mod_h_s)$coef[,4] <= .05),c(1,4)],5)"
   ]
  },
  {
   "cell_type": "markdown",
   "metadata": {},
   "source": [
    "<b> Both BIC"
   ]
  },
  {
   "cell_type": "code",
   "execution_count": 242,
   "metadata": {},
   "outputs": [],
   "source": [
    "log_mod_h_s_bic = stepAIC(log_mod_h_s, direction = \"both\", k = log(b_n),trace=0)"
   ]
  },
  {
   "cell_type": "code",
   "execution_count": 243,
   "metadata": {
    "scrolled": true
   },
   "outputs": [
    {
     "data": {
      "text/html": [
       "<table>\n",
       "<thead><tr><th></th><th scope=col>Estimate</th><th scope=col>Pr(&gt;|z|)</th></tr></thead>\n",
       "<tbody>\n",
       "\t<tr><th scope=row>s_start_year</th><td>-1.33439</td><td>0.00000 </td></tr>\n",
       "\t<tr><th scope=row>factor(funding_indicator)1</th><td> 1.10597</td><td>0.00001 </td></tr>\n",
       "\t<tr><th scope=row>avs_net_cost</th><td> 0.40391</td><td>0.00083 </td></tr>\n",
       "\t<tr><th scope=row>average_gpa</th><td> 0.41468</td><td>0.00001 </td></tr>\n",
       "</tbody>\n",
       "</table>\n"
      ],
      "text/latex": [
       "\\begin{tabular}{r|ll}\n",
       "  & Estimate & Pr(>\\textbar{}z\\textbar{})\\\\\n",
       "\\hline\n",
       "\ts\\_start\\_year & -1.33439 & 0.00000 \\\\\n",
       "\tfactor(funding\\_indicator)1 &  1.10597 & 0.00001 \\\\\n",
       "\tavs\\_net\\_cost &  0.40391 & 0.00083 \\\\\n",
       "\taverage\\_gpa &  0.41468 & 0.00001 \\\\\n",
       "\\end{tabular}\n"
      ],
      "text/markdown": [
       "\n",
       "| <!--/--> | Estimate | Pr(>|z|) |\n",
       "|---|---|---|\n",
       "| s_start_year | -1.33439 | 0.00000  |\n",
       "| factor(funding_indicator)1 |  1.10597 | 0.00001  |\n",
       "| avs_net_cost |  0.40391 | 0.00083  |\n",
       "| average_gpa |  0.41468 | 0.00001  |\n",
       "\n"
      ],
      "text/plain": [
       "                           Estimate Pr(>|z|)\n",
       "s_start_year               -1.33439 0.00000 \n",
       "factor(funding_indicator)1  1.10597 0.00001 \n",
       "avs_net_cost                0.40391 0.00083 \n",
       "average_gpa                 0.41468 0.00001 "
      ]
     },
     "metadata": {},
     "output_type": "display_data"
    }
   ],
   "source": [
    "round(summary(log_mod_h_s_bic)$coeff[which(summary(log_mod_h_s_bic)$coef[,4] <= .05),c(1,4)],5)"
   ]
  },
  {
   "cell_type": "code",
   "execution_count": 244,
   "metadata": {},
   "outputs": [
    {
     "data": {
      "text/plain": [
       "\n",
       "Call:\n",
       "glm(formula = Y ~ s_start_year + factor(funding_indicator) + \n",
       "    avs_net_cost + average_gpa, family = \"binomial\", data = Harpur_sciences)\n",
       "\n",
       "Deviance Residuals: \n",
       "    Min       1Q   Median       3Q      Max  \n",
       "-3.3969  -0.9619   0.5772   0.8600   2.2088  \n",
       "\n",
       "Coefficients:\n",
       "                           Estimate Std. Error z value Pr(>|z|)    \n",
       "(Intercept)                -0.05770    0.21340  -0.270  0.78685    \n",
       "s_start_year               -1.33439    0.12875 -10.364  < 2e-16 ***\n",
       "factor(funding_indicator)1  1.10597    0.24726   4.473 7.72e-06 ***\n",
       "avs_net_cost                0.40391    0.12083   3.343  0.00083 ***\n",
       "average_gpa                 0.41468    0.09543   4.345 1.39e-05 ***\n",
       "---\n",
       "Signif. codes:  0 '***' 0.001 '**' 0.01 '*' 0.05 '.' 0.1 ' ' 1\n",
       "\n",
       "(Dispersion parameter for binomial family taken to be 1)\n",
       "\n",
       "    Null deviance: 1135.18  on 860  degrees of freedom\n",
       "Residual deviance:  962.76  on 856  degrees of freedom\n",
       "AIC: 972.76\n",
       "\n",
       "Number of Fisher Scoring iterations: 4\n"
      ]
     },
     "metadata": {},
     "output_type": "display_data"
    }
   ],
   "source": [
    "summary(log_mod_h_s_bic)"
   ]
  },
  {
   "cell_type": "markdown",
   "metadata": {},
   "source": [
    "# Harpur Arts Analysis"
   ]
  },
  {
   "cell_type": "markdown",
   "metadata": {},
   "source": [
    "<b> Logistic regression model:"
   ]
  },
  {
   "cell_type": "code",
   "execution_count": 245,
   "metadata": {
    "scrolled": false
   },
   "outputs": [],
   "source": [
    "log_mod_h_a = glm(Y~s_start_age+factor(Gender)+s_start_year+factor(funding_indicator)+factor(Citizenship)+\n",
    "                avs_net_cost+Precol.GPA+ factor(gap_indicator)+GPA_trend+average_gpa+\n",
    "                +factor(has_gre)+factor(has_gre1)*GRE_Write+factor(has_gre1)*GRE.Quant+factor(has_gre1)*GRE.Verbal,\n",
    "                data=Harpur_arts,family=\"binomial\")"
   ]
  },
  {
   "cell_type": "markdown",
   "metadata": {},
   "source": [
    "<b> Both AIC:"
   ]
  },
  {
   "cell_type": "code",
   "execution_count": 246,
   "metadata": {},
   "outputs": [],
   "source": [
    "# log_mod_h_a_aic = stepAIC(log_mod_h_a, direction = 'both')\n",
    "# round(summary(log_mod_h_a_aic)$coeff[which(summary(log_mod_h_a_aic)$coef[,4] <= .05),c(1,4)],5)"
   ]
  },
  {
   "cell_type": "markdown",
   "metadata": {},
   "source": [
    "<b> Both BIC"
   ]
  },
  {
   "cell_type": "code",
   "execution_count": 247,
   "metadata": {
    "scrolled": false
   },
   "outputs": [],
   "source": [
    "log_mod_h_a_bic = stepAIC(log_mod_h_a, direction = \"both\", k = log(b_n),trace=0)"
   ]
  },
  {
   "cell_type": "markdown",
   "metadata": {},
   "source": [
    "<b> Significant variables both BIC selects:"
   ]
  },
  {
   "cell_type": "code",
   "execution_count": 248,
   "metadata": {},
   "outputs": [
    {
     "data": {
      "text/plain": [
       "\n",
       "Call:\n",
       "glm(formula = Y ~ s_start_year + factor(funding_indicator) + \n",
       "    average_gpa + factor(has_gre), family = \"binomial\", data = Harpur_arts)\n",
       "\n",
       "Deviance Residuals: \n",
       "    Min       1Q   Median       3Q      Max  \n",
       "-1.8295  -1.1350   0.7538   0.9647   1.8477  \n",
       "\n",
       "Coefficients:\n",
       "                           Estimate Std. Error z value Pr(>|z|)    \n",
       "(Intercept)                -0.74585    0.18548  -4.021 5.79e-05 ***\n",
       "s_start_year               -0.25131    0.08054  -3.120 0.001806 ** \n",
       "factor(funding_indicator)1  0.67883    0.17227   3.941 8.13e-05 ***\n",
       "average_gpa                 0.31227    0.09436   3.309 0.000935 ***\n",
       "factor(has_gre)1            0.89446    0.18848   4.746 2.08e-06 ***\n",
       "---\n",
       "Signif. codes:  0 '***' 0.001 '**' 0.01 '*' 0.05 '.' 0.1 ' ' 1\n",
       "\n",
       "(Dispersion parameter for binomial family taken to be 1)\n",
       "\n",
       "    Null deviance: 1248.0  on 917  degrees of freedom\n",
       "Residual deviance: 1158.9  on 913  degrees of freedom\n",
       "AIC: 1168.9\n",
       "\n",
       "Number of Fisher Scoring iterations: 4\n"
      ]
     },
     "metadata": {},
     "output_type": "display_data"
    }
   ],
   "source": [
    "summary(log_mod_h_a_bic)"
   ]
  },
  {
   "cell_type": "markdown",
   "metadata": {},
   "source": [
    "# Management Analysis"
   ]
  },
  {
   "cell_type": "markdown",
   "metadata": {},
   "source": [
    "<b> Logistic regression model:"
   ]
  },
  {
   "cell_type": "code",
   "execution_count": 249,
   "metadata": {},
   "outputs": [],
   "source": [
    "log_mod_m = glm(Y~s_start_age+factor(Gender)+s_start_year+factor(Citizenship)+\n",
    "                avs_net_cost+Precol.GPA+ factor(gap_indicator)+GPA_trend+average_gpa+\n",
    "                +factor(has_gre)+factor(has_gre1)*GRE_Write+factor(has_gre1)*GRE.Quant+factor(has_gre1)*GRE.Verbal,\n",
    "                data=Management_df,family=\"binomial\")"
   ]
  },
  {
   "cell_type": "markdown",
   "metadata": {},
   "source": [
    "<b> Both BIC:"
   ]
  },
  {
   "cell_type": "code",
   "execution_count": 250,
   "metadata": {
    "scrolled": false
   },
   "outputs": [],
   "source": [
    "log_mod_m_bic = stepAIC(log_mod_m, direction = \"both\", k = log(c_n),trace=0)"
   ]
  },
  {
   "cell_type": "markdown",
   "metadata": {},
   "source": [
    "<b> Significant variables both BIC selects:"
   ]
  },
  {
   "cell_type": "code",
   "execution_count": 251,
   "metadata": {},
   "outputs": [
    {
     "data": {
      "text/html": [
       "<table>\n",
       "<thead><tr><th></th><th scope=col>Estimate</th><th scope=col>Pr(&gt;|z|)</th></tr></thead>\n",
       "<tbody>\n",
       "\t<tr><th scope=row>(Intercept)</th><td>-2.62893</td><td>0.00680 </td></tr>\n",
       "\t<tr><th scope=row>s_start_age</th><td> 2.00724</td><td>0.02719 </td></tr>\n",
       "\t<tr><th scope=row>average_gpa</th><td> 7.07830</td><td>0.00028 </td></tr>\n",
       "\t<tr><th scope=row>factor(has_gre)1</th><td> 3.13347</td><td>0.00263 </td></tr>\n",
       "</tbody>\n",
       "</table>\n"
      ],
      "text/latex": [
       "\\begin{tabular}{r|ll}\n",
       "  & Estimate & Pr(>\\textbar{}z\\textbar{})\\\\\n",
       "\\hline\n",
       "\t(Intercept) & -2.62893 & 0.00680 \\\\\n",
       "\ts\\_start\\_age &  2.00724 & 0.02719 \\\\\n",
       "\taverage\\_gpa &  7.07830 & 0.00028 \\\\\n",
       "\tfactor(has\\_gre)1 &  3.13347 & 0.00263 \\\\\n",
       "\\end{tabular}\n"
      ],
      "text/markdown": [
       "\n",
       "| <!--/--> | Estimate | Pr(>|z|) |\n",
       "|---|---|---|\n",
       "| (Intercept) | -2.62893 | 0.00680  |\n",
       "| s_start_age |  2.00724 | 0.02719  |\n",
       "| average_gpa |  7.07830 | 0.00028  |\n",
       "| factor(has_gre)1 |  3.13347 | 0.00263  |\n",
       "\n"
      ],
      "text/plain": [
       "                 Estimate Pr(>|z|)\n",
       "(Intercept)      -2.62893 0.00680 \n",
       "s_start_age       2.00724 0.02719 \n",
       "average_gpa       7.07830 0.00028 \n",
       "factor(has_gre)1  3.13347 0.00263 "
      ]
     },
     "metadata": {},
     "output_type": "display_data"
    },
    {
     "data": {
      "text/plain": [
       "\n",
       "Call:\n",
       "glm(formula = Y ~ s_start_age + average_gpa + factor(has_gre), \n",
       "    family = \"binomial\", data = Management_df)\n",
       "\n",
       "Deviance Residuals: \n",
       "    Min       1Q   Median       3Q      Max  \n",
       "-2.1868  -0.5733   0.2320   0.5893   1.9024  \n",
       "\n",
       "Coefficients:\n",
       "                 Estimate Std. Error z value Pr(>|z|)    \n",
       "(Intercept)       -2.6289     0.9714  -2.706 0.006803 ** \n",
       "s_start_age        2.0072     0.9087   2.209 0.027186 *  \n",
       "average_gpa        7.0783     1.9458   3.638 0.000275 ***\n",
       "factor(has_gre)1   3.1335     1.0416   3.008 0.002626 ** \n",
       "---\n",
       "Signif. codes:  0 '***' 0.001 '**' 0.01 '*' 0.05 '.' 0.1 ' ' 1\n",
       "\n",
       "(Dispersion parameter for binomial family taken to be 1)\n",
       "\n",
       "    Null deviance: 74.726  on 57  degrees of freedom\n",
       "Residual deviance: 41.303  on 54  degrees of freedom\n",
       "AIC: 49.303\n",
       "\n",
       "Number of Fisher Scoring iterations: 6\n"
      ]
     },
     "metadata": {},
     "output_type": "display_data"
    }
   ],
   "source": [
    "round(summary(log_mod_m_bic)$coeff[which(summary(log_mod_m_bic)$coef[,4] <= .05),c(1,4)],5)\n",
    "summary(log_mod_m_bic)"
   ]
  },
  {
   "cell_type": "markdown",
   "metadata": {},
   "source": [
    "# Nursing Analysis"
   ]
  },
  {
   "cell_type": "markdown",
   "metadata": {},
   "source": [
    "<b> Logistic regression model:"
   ]
  },
  {
   "cell_type": "code",
   "execution_count": 252,
   "metadata": {},
   "outputs": [],
   "source": [
    "log_mod_n = glm(Y~s_start_age+factor(Gender)+s_start_year+factor(funding_indicator)+\n",
    "                avs_net_cost+Precol.GPA+ factor(gap_indicator)+GPA_trend+average_gpa+\n",
    "                +factor(has_gre1)*GRE_Write+factor(has_gre1)*GRE.Quant+factor(has_gre1)*GRE.Verbal,\n",
    "                data=Nursing_df,family=\"binomial\")"
   ]
  },
  {
   "cell_type": "markdown",
   "metadata": {},
   "source": [
    "<b> Both BIC:"
   ]
  },
  {
   "cell_type": "code",
   "execution_count": 253,
   "metadata": {
    "scrolled": false
   },
   "outputs": [
    {
     "name": "stderr",
     "output_type": "stream",
     "text": [
      "Warning message:\n",
      "\"glm.fit: fitted probabilities numerically 0 or 1 occurred\""
     ]
    }
   ],
   "source": [
    "log_mod_n_bic = stepAIC(log_mod_n, direction = \"both\", k = log(d_n),trace=0)"
   ]
  },
  {
   "cell_type": "code",
   "execution_count": 254,
   "metadata": {},
   "outputs": [
    {
     "data": {
      "text/plain": [
       "\n",
       "Call:\n",
       "glm(formula = Y ~ s_start_year + average_gpa + factor(has_gre1), \n",
       "    family = \"binomial\", data = Nursing_df)\n",
       "\n",
       "Deviance Residuals: \n",
       "    Min       1Q   Median       3Q      Max  \n",
       "-2.1675  -1.0764   0.3518   0.9639   2.4148  \n",
       "\n",
       "Coefficients:\n",
       "                   Estimate Std. Error z value Pr(>|z|)   \n",
       "(Intercept)          0.5469     0.2602   2.102  0.03557 * \n",
       "s_start_year        -0.7407     0.2732  -2.711  0.00671 **\n",
       "average_gpa          0.6010     0.3179   1.890  0.05871 . \n",
       "factor(has_gre1)1   17.4553  1181.6295   0.015  0.98821   \n",
       "---\n",
       "Signif. codes:  0 '***' 0.001 '**' 0.01 '*' 0.05 '.' 0.1 ' ' 1\n",
       "\n",
       "(Dispersion parameter for binomial family taken to be 1)\n",
       "\n",
       "    Null deviance: 155.91  on 116  degrees of freedom\n",
       "Residual deviance: 126.66  on 113  degrees of freedom\n",
       "AIC: 134.66\n",
       "\n",
       "Number of Fisher Scoring iterations: 16\n"
      ]
     },
     "metadata": {},
     "output_type": "display_data"
    }
   ],
   "source": [
    "summary(log_mod_n_bic)"
   ]
  },
  {
   "cell_type": "markdown",
   "metadata": {},
   "source": [
    "# Watson Analysis "
   ]
  },
  {
   "cell_type": "markdown",
   "metadata": {},
   "source": [
    "<b> Logistic regression model:"
   ]
  },
  {
   "cell_type": "code",
   "execution_count": 255,
   "metadata": {},
   "outputs": [],
   "source": [
    "log_mod_w = glm(Y~s_start_age+factor(Gender)+s_start_year+factor(funding_indicator)+factor(Citizenship)+\n",
    "                avs_net_cost+Precol.GPA+ factor(gap_indicator)+GPA_trend+average_gpa+\n",
    "                +factor(has_gre)+factor(has_gre1)*GRE_Write+factor(has_gre1)*GRE.Quant+factor(has_gre1)*GRE.Verbal,\n",
    "                data=Watson_df,family=\"binomial\")"
   ]
  },
  {
   "cell_type": "markdown",
   "metadata": {},
   "source": [
    "<b> Both BIC:"
   ]
  },
  {
   "cell_type": "code",
   "execution_count": 256,
   "metadata": {
    "scrolled": false
   },
   "outputs": [],
   "source": [
    "log_mod_w_bic = stepAIC(log_mod_w, direction = \"both\", k = log(e_n),trace=0)"
   ]
  },
  {
   "cell_type": "markdown",
   "metadata": {},
   "source": [
    "<b> Significant variables both BIC selects:"
   ]
  },
  {
   "cell_type": "code",
   "execution_count": 257,
   "metadata": {
    "scrolled": false
   },
   "outputs": [
    {
     "data": {
      "text/plain": [
       "\n",
       "Call:\n",
       "glm(formula = Y ~ s_start_year + factor(funding_indicator) + \n",
       "    avs_net_cost, family = \"binomial\", data = Watson_df)\n",
       "\n",
       "Deviance Residuals: \n",
       "    Min       1Q   Median       3Q      Max  \n",
       "-2.8893  -0.9101   0.5567   0.8484   1.7719  \n",
       "\n",
       "Coefficients:\n",
       "                           Estimate Std. Error z value Pr(>|z|)    \n",
       "(Intercept)                 -0.5034     0.2001  -2.516   0.0119 *  \n",
       "s_start_year                -1.0004     0.1437  -6.963 3.34e-12 ***\n",
       "factor(funding_indicator)1   2.0988     0.2644   7.939 2.04e-15 ***\n",
       "avs_net_cost                 0.3515     0.1548   2.270   0.0232 *  \n",
       "---\n",
       "Signif. codes:  0 '***' 0.001 '**' 0.01 '*' 0.05 '.' 0.1 ' ' 1\n",
       "\n",
       "(Dispersion parameter for binomial family taken to be 1)\n",
       "\n",
       "    Null deviance: 656.07  on 514  degrees of freedom\n",
       "Residual deviance: 551.63  on 511  degrees of freedom\n",
       "AIC: 559.63\n",
       "\n",
       "Number of Fisher Scoring iterations: 4\n"
      ]
     },
     "metadata": {},
     "output_type": "display_data"
    }
   ],
   "source": [
    "summary(log_mod_w_bic)"
   ]
  },
  {
   "cell_type": "code",
   "execution_count": 258,
   "metadata": {},
   "outputs": [
    {
     "data": {
      "text/html": [
       "<strong>1:</strong> 0.376746828488915"
      ],
      "text/latex": [
       "\\textbf{1:} 0.376746828488915"
      ],
      "text/markdown": [
       "**1:** 0.376746828488915"
      ],
      "text/plain": [
       "        1 \n",
       "0.3767468 "
      ]
     },
     "metadata": {},
     "output_type": "display_data"
    }
   ],
   "source": [
    "yyy = mean(df$s_start_year)\n",
    "fi = 0\n",
    "cost = mean(df$avs_net_cost)\n",
    "ggg = data.frame(\"s_start_year\"=yyy,\"funding_indicator\"=fi,\"avs_net_cost\"=cost)\n",
    "predict(log_mod_w_bic, newdata=ggg,type=\"response\")"
   ]
  },
  {
   "cell_type": "code",
   "execution_count": 259,
   "metadata": {},
   "outputs": [
    {
     "data": {
      "text/html": [
       "<strong>1:</strong> 0.376746828488915"
      ],
      "text/latex": [
       "\\textbf{1:} 0.376746828488915"
      ],
      "text/markdown": [
       "**1:** 0.376746828488915"
      ],
      "text/plain": [
       "        1 \n",
       "0.3767468 "
      ]
     },
     "metadata": {},
     "output_type": "display_data"
    }
   ],
   "source": [
    "predict(log_mod_w_bic, newdata=ggg,type=\"response\")"
   ]
  },
  {
   "cell_type": "code",
   "execution_count": 260,
   "metadata": {},
   "outputs": [
    {
     "data": {
      "text/html": [
       "1.22140275816017"
      ],
      "text/latex": [
       "1.22140275816017"
      ],
      "text/markdown": [
       "1.22140275816017"
      ],
      "text/plain": [
       "[1] 1.221403"
      ]
     },
     "metadata": {},
     "output_type": "display_data"
    },
    {
     "data": {
      "text/html": [
       "0.549833997312478"
      ],
      "text/latex": [
       "0.549833997312478"
      ],
      "text/markdown": [
       "0.549833997312478"
      ],
      "text/plain": [
       "[1] 0.549834"
      ]
     },
     "metadata": {},
     "output_type": "display_data"
    }
   ],
   "source": [
    "(odds = exp(.2))\n",
    "(odds)/(1+odds)"
   ]
  },
  {
   "cell_type": "code",
   "execution_count": 261,
   "metadata": {},
   "outputs": [
    {
     "data": {
      "text/html": [
       "0.778985749108035"
      ],
      "text/latex": [
       "0.778985749108035"
      ],
      "text/markdown": [
       "0.778985749108035"
      ],
      "text/plain": [
       "[1] 0.7789857"
      ]
     },
     "metadata": {},
     "output_type": "display_data"
    }
   ],
   "source": [
    "sd(df$Average_GPA)"
   ]
  },
  {
   "cell_type": "markdown",
   "metadata": {},
   "source": [
    "# Joint Analysis"
   ]
  },
  {
   "cell_type": "markdown",
   "metadata": {},
   "source": [
    "<b> Logistic regression model:"
   ]
  },
  {
   "cell_type": "code",
   "execution_count": 262,
   "metadata": {},
   "outputs": [],
   "source": [
    "# int_chn = function(x) ifelse(x=='China',1,0)\n",
    "# int_afc = function(x) ifelse(x=='Africa',1,0)\n",
    "# int_asia = function(x) ifelse(x=='Asia',1,0)\n",
    "# df <- within(df, s_Citizenship <- relevel(s_Citizenship, ref = \"White\"))\n",
    "# df <- within(df, s_College <- relevel(s_College, ref = \"GD Non-Harpur\"))"
   ]
  },
  {
   "cell_type": "code",
   "execution_count": 263,
   "metadata": {},
   "outputs": [],
   "source": [
    "df1$Citizenship = C(df1$Citizenship,sum)\n",
    "df1$college <- C(factor(df1$college_1),sum)"
   ]
  },
  {
   "cell_type": "code",
   "execution_count": 264,
   "metadata": {},
   "outputs": [],
   "source": [
    "df1$ha_wa = C(factor(ifelse(df1$college_1 %in% c(1,5),1,0)),sum)\n",
    "df1$is_som = C(factor(ifelse(df1$college_1 == 3,1,0)),sum)\n",
    "df1$a_s_n = C(factor(ifelse(df1$college_1 %in% c(2,3,4),1,0)),sum)\n",
    "df1$is_nurse = C(factor(ifelse(df1$college_1 == 4,1,0)),sum)"
   ]
  },
  {
   "cell_type": "code",
   "execution_count": 265,
   "metadata": {},
   "outputs": [],
   "source": [
    "df1$has_gre = C(df1$has_gre,treatment)"
   ]
  },
  {
   "cell_type": "code",
   "execution_count": 266,
   "metadata": {},
   "outputs": [],
   "source": [
    "log_mod_total = glm(Y~s_start_age+factor(Gender)+s_start_year+factor(funding_indicator)+factor(Citizenship)+\n",
    "                avs_net_cost+Precol.GPA+ factor(gap_indicator)+GPA_trend+average_gpa+\n",
    "                +factor(has_gre)+GRE_Write+GRE.Quant+GRE.Verbal+college,\n",
    "                data=df1,family=\"binomial\")"
   ]
  },
  {
   "cell_type": "markdown",
   "metadata": {},
   "source": [
    "<b> Both BIC:"
   ]
  },
  {
   "cell_type": "code",
   "execution_count": 267,
   "metadata": {
    "scrolled": false
   },
   "outputs": [],
   "source": [
    "log_mod_total_bic = stepAIC(log_mod_total, direction = \"both\", k = log(e_n),trace=0)"
   ]
  },
  {
   "cell_type": "markdown",
   "metadata": {},
   "source": [
    "<b>Significant variables both BIC selects:"
   ]
  },
  {
   "cell_type": "code",
   "execution_count": 268,
   "metadata": {},
   "outputs": [
    {
     "data": {
      "text/plain": [
       "\n",
       "Call:\n",
       "glm(formula = Y ~ s_start_year + factor(funding_indicator) + \n",
       "    avs_net_cost + Precol.GPA + GPA_trend + average_gpa + factor(has_gre) + \n",
       "    GRE_Write + college, family = \"binomial\", data = df1)\n",
       "\n",
       "Deviance Residuals: \n",
       "    Min       1Q   Median       3Q      Max  \n",
       "-2.5970  -1.0903   0.6496   0.9174   2.1561  \n",
       "\n",
       "Coefficients:\n",
       "                            Estimate Std. Error z value Pr(>|z|)    \n",
       "(Intercept)                -0.351975   0.144814  -2.431  0.01508 *  \n",
       "s_start_year               -0.595698   0.067106  -8.877  < 2e-16 ***\n",
       "factor(funding_indicator)1  0.966458   0.117345   8.236  < 2e-16 ***\n",
       "avs_net_cost                0.154880   0.048185   3.214  0.00131 ** \n",
       "Precol.GPA                  0.131529   0.046570   2.824  0.00474 ** \n",
       "GPA_trend                   0.875739   0.272290   3.216  0.00130 ** \n",
       "average_gpa                 0.337687   0.051908   6.505 7.75e-11 ***\n",
       "factor(has_gre)1            0.496923   0.120302   4.131 3.62e-05 ***\n",
       "GRE_Write                  -0.136074   0.045995  -2.958  0.00309 ** \n",
       "college1                    0.006614   0.101583   0.065  0.94809    \n",
       "college2                   -0.418034   0.102320  -4.086 4.40e-05 ***\n",
       "college3                    0.239967   0.113658   2.111  0.03475 *  \n",
       "college4                    0.228691   0.184963   1.236  0.21630    \n",
       "---\n",
       "Signif. codes:  0 '***' 0.001 '**' 0.01 '*' 0.05 '.' 0.1 ' ' 1\n",
       "\n",
       "(Dispersion parameter for binomial family taken to be 1)\n",
       "\n",
       "    Null deviance: 3280.9  on 2468  degrees of freedom\n",
       "Residual deviance: 2924.8  on 2456  degrees of freedom\n",
       "AIC: 2950.8\n",
       "\n",
       "Number of Fisher Scoring iterations: 4\n"
      ]
     },
     "metadata": {},
     "output_type": "display_data"
    }
   ],
   "source": [
    "summary(log_mod_total_bic)"
   ]
  },
  {
   "cell_type": "code",
   "execution_count": 269,
   "metadata": {},
   "outputs": [
    {
     "data": {
      "text/html": [
       "-0.046"
      ],
      "text/latex": [
       "-0.046"
      ],
      "text/markdown": [
       "-0.046"
      ],
      "text/plain": [
       "[1] -0.046"
      ]
     },
     "metadata": {},
     "output_type": "display_data"
    }
   ],
   "source": [
    "-.006 + .41 -.23 -.22"
   ]
  },
  {
   "cell_type": "markdown",
   "metadata": {},
   "source": [
    "# Prediction"
   ]
  },
  {
   "cell_type": "code",
   "execution_count": 14,
   "metadata": {},
   "outputs": [],
   "source": [
    "df_save = df"
   ]
  },
  {
   "cell_type": "code",
   "execution_count": 18,
   "metadata": {
    "scrolled": true
   },
   "outputs": [],
   "source": [
    "df = df_save"
   ]
  },
  {
   "cell_type": "code",
   "execution_count": 19,
   "metadata": {},
   "outputs": [
    {
     "data": {
      "text/html": [
       "<ol class=list-inline>\n",
       "\t<li>'X1st_Term_Funding'</li>\n",
       "\t<li>'X2nd_Term_Funding'</li>\n",
       "\t<li>'X3rd_Term_Funding'</li>\n",
       "\t<li>'X4th_Term_Funding'</li>\n",
       "\t<li>'Start_year'</li>\n",
       "\t<li>'Start_age'</li>\n",
       "\t<li>'College'</li>\n",
       "\t<li>'Age'</li>\n",
       "\t<li>'Degree'</li>\n",
       "\t<li>'Gender'</li>\n",
       "\t<li>'funding_indicator'</li>\n",
       "\t<li>'ID'</li>\n",
       "\t<li>'Citizenship'</li>\n",
       "\t<li>'Major_id'</li>\n",
       "\t<li>'Major'</li>\n",
       "\t<li>'net_cost'</li>\n",
       "\t<li>'Program'</li>\n",
       "\t<li>'Prep.Level'</li>\n",
       "\t<li>'Total.Charges'</li>\n",
       "\t<li>'Total.Funding.Amount'</li>\n",
       "\t<li>'Y'</li>\n",
       "\t<li>'PC1'</li>\n",
       "\t<li>'PC2'</li>\n",
       "\t<li>'PC3'</li>\n",
       "\t<li>'Term.1.GPA'</li>\n",
       "\t<li>'Term.2.GPA'</li>\n",
       "\t<li>'Term.3.GPA'</li>\n",
       "\t<li>'Term.4.GPA'</li>\n",
       "\t<li>'Term.5.GPA'</li>\n",
       "\t<li>'Term.6.GPA'</li>\n",
       "\t<li>'Term.7.GPA'</li>\n",
       "\t<li>'Term.8.GPA'</li>\n",
       "\t<li>'gap_indicator'</li>\n",
       "\t<li>'GPA_trend'</li>\n",
       "\t<li>'Valid.term'</li>\n",
       "\t<li>'Average_GPA'</li>\n",
       "\t<li>'academic_period'</li>\n",
       "\t<li>'s_College'</li>\n",
       "\t<li>'s_Citizenship'</li>\n",
       "\t<li>'SAPC1'</li>\n",
       "\t<li>'SAPC2'</li>\n",
       "\t<li>'SAPC3'</li>\n",
       "\t<li>'Average.Precol.GPA'</li>\n",
       "\t<li>'GMAT.Score'</li>\n",
       "\t<li>'GRE.Combined.General.Write.Score'</li>\n",
       "\t<li>'GRE.Combined.Quantitative.Score'</li>\n",
       "\t<li>'GRE.Combined.General.Verbal.Score'</li>\n",
       "\t<li>'s_start_age'</li>\n",
       "\t<li>'s_net_cost'</li>\n",
       "\t<li>'s_start_year'</li>\n",
       "\t<li>'avs_net_cost'</li>\n",
       "\t<li>'Precol.GPA'</li>\n",
       "\t<li>'GRE_Write'</li>\n",
       "\t<li>'GRE.Quant'</li>\n",
       "\t<li>'GRE.Verbal'</li>\n",
       "\t<li>'average_gpa'</li>\n",
       "\t<li>'has_gre'</li>\n",
       "\t<li>'has_gre1'</li>\n",
       "</ol>\n"
      ],
      "text/latex": [
       "\\begin{enumerate*}\n",
       "\\item 'X1st\\_Term\\_Funding'\n",
       "\\item 'X2nd\\_Term\\_Funding'\n",
       "\\item 'X3rd\\_Term\\_Funding'\n",
       "\\item 'X4th\\_Term\\_Funding'\n",
       "\\item 'Start\\_year'\n",
       "\\item 'Start\\_age'\n",
       "\\item 'College'\n",
       "\\item 'Age'\n",
       "\\item 'Degree'\n",
       "\\item 'Gender'\n",
       "\\item 'funding\\_indicator'\n",
       "\\item 'ID'\n",
       "\\item 'Citizenship'\n",
       "\\item 'Major\\_id'\n",
       "\\item 'Major'\n",
       "\\item 'net\\_cost'\n",
       "\\item 'Program'\n",
       "\\item 'Prep.Level'\n",
       "\\item 'Total.Charges'\n",
       "\\item 'Total.Funding.Amount'\n",
       "\\item 'Y'\n",
       "\\item 'PC1'\n",
       "\\item 'PC2'\n",
       "\\item 'PC3'\n",
       "\\item 'Term.1.GPA'\n",
       "\\item 'Term.2.GPA'\n",
       "\\item 'Term.3.GPA'\n",
       "\\item 'Term.4.GPA'\n",
       "\\item 'Term.5.GPA'\n",
       "\\item 'Term.6.GPA'\n",
       "\\item 'Term.7.GPA'\n",
       "\\item 'Term.8.GPA'\n",
       "\\item 'gap\\_indicator'\n",
       "\\item 'GPA\\_trend'\n",
       "\\item 'Valid.term'\n",
       "\\item 'Average\\_GPA'\n",
       "\\item 'academic\\_period'\n",
       "\\item 's\\_College'\n",
       "\\item 's\\_Citizenship'\n",
       "\\item 'SAPC1'\n",
       "\\item 'SAPC2'\n",
       "\\item 'SAPC3'\n",
       "\\item 'Average.Precol.GPA'\n",
       "\\item 'GMAT.Score'\n",
       "\\item 'GRE.Combined.General.Write.Score'\n",
       "\\item 'GRE.Combined.Quantitative.Score'\n",
       "\\item 'GRE.Combined.General.Verbal.Score'\n",
       "\\item 's\\_start\\_age'\n",
       "\\item 's\\_net\\_cost'\n",
       "\\item 's\\_start\\_year'\n",
       "\\item 'avs\\_net\\_cost'\n",
       "\\item 'Precol.GPA'\n",
       "\\item 'GRE\\_Write'\n",
       "\\item 'GRE.Quant'\n",
       "\\item 'GRE.Verbal'\n",
       "\\item 'average\\_gpa'\n",
       "\\item 'has\\_gre'\n",
       "\\item 'has\\_gre1'\n",
       "\\end{enumerate*}\n"
      ],
      "text/markdown": [
       "1. 'X1st_Term_Funding'\n",
       "2. 'X2nd_Term_Funding'\n",
       "3. 'X3rd_Term_Funding'\n",
       "4. 'X4th_Term_Funding'\n",
       "5. 'Start_year'\n",
       "6. 'Start_age'\n",
       "7. 'College'\n",
       "8. 'Age'\n",
       "9. 'Degree'\n",
       "10. 'Gender'\n",
       "11. 'funding_indicator'\n",
       "12. 'ID'\n",
       "13. 'Citizenship'\n",
       "14. 'Major_id'\n",
       "15. 'Major'\n",
       "16. 'net_cost'\n",
       "17. 'Program'\n",
       "18. 'Prep.Level'\n",
       "19. 'Total.Charges'\n",
       "20. 'Total.Funding.Amount'\n",
       "21. 'Y'\n",
       "22. 'PC1'\n",
       "23. 'PC2'\n",
       "24. 'PC3'\n",
       "25. 'Term.1.GPA'\n",
       "26. 'Term.2.GPA'\n",
       "27. 'Term.3.GPA'\n",
       "28. 'Term.4.GPA'\n",
       "29. 'Term.5.GPA'\n",
       "30. 'Term.6.GPA'\n",
       "31. 'Term.7.GPA'\n",
       "32. 'Term.8.GPA'\n",
       "33. 'gap_indicator'\n",
       "34. 'GPA_trend'\n",
       "35. 'Valid.term'\n",
       "36. 'Average_GPA'\n",
       "37. 'academic_period'\n",
       "38. 's_College'\n",
       "39. 's_Citizenship'\n",
       "40. 'SAPC1'\n",
       "41. 'SAPC2'\n",
       "42. 'SAPC3'\n",
       "43. 'Average.Precol.GPA'\n",
       "44. 'GMAT.Score'\n",
       "45. 'GRE.Combined.General.Write.Score'\n",
       "46. 'GRE.Combined.Quantitative.Score'\n",
       "47. 'GRE.Combined.General.Verbal.Score'\n",
       "48. 's_start_age'\n",
       "49. 's_net_cost'\n",
       "50. 's_start_year'\n",
       "51. 'avs_net_cost'\n",
       "52. 'Precol.GPA'\n",
       "53. 'GRE_Write'\n",
       "54. 'GRE.Quant'\n",
       "55. 'GRE.Verbal'\n",
       "56. 'average_gpa'\n",
       "57. 'has_gre'\n",
       "58. 'has_gre1'\n",
       "\n",
       "\n"
      ],
      "text/plain": [
       " [1] \"X1st_Term_Funding\"                 \"X2nd_Term_Funding\"                \n",
       " [3] \"X3rd_Term_Funding\"                 \"X4th_Term_Funding\"                \n",
       " [5] \"Start_year\"                        \"Start_age\"                        \n",
       " [7] \"College\"                           \"Age\"                              \n",
       " [9] \"Degree\"                            \"Gender\"                           \n",
       "[11] \"funding_indicator\"                 \"ID\"                               \n",
       "[13] \"Citizenship\"                       \"Major_id\"                         \n",
       "[15] \"Major\"                             \"net_cost\"                         \n",
       "[17] \"Program\"                           \"Prep.Level\"                       \n",
       "[19] \"Total.Charges\"                     \"Total.Funding.Amount\"             \n",
       "[21] \"Y\"                                 \"PC1\"                              \n",
       "[23] \"PC2\"                               \"PC3\"                              \n",
       "[25] \"Term.1.GPA\"                        \"Term.2.GPA\"                       \n",
       "[27] \"Term.3.GPA\"                        \"Term.4.GPA\"                       \n",
       "[29] \"Term.5.GPA\"                        \"Term.6.GPA\"                       \n",
       "[31] \"Term.7.GPA\"                        \"Term.8.GPA\"                       \n",
       "[33] \"gap_indicator\"                     \"GPA_trend\"                        \n",
       "[35] \"Valid.term\"                        \"Average_GPA\"                      \n",
       "[37] \"academic_period\"                   \"s_College\"                        \n",
       "[39] \"s_Citizenship\"                     \"SAPC1\"                            \n",
       "[41] \"SAPC2\"                             \"SAPC3\"                            \n",
       "[43] \"Average.Precol.GPA\"                \"GMAT.Score\"                       \n",
       "[45] \"GRE.Combined.General.Write.Score\"  \"GRE.Combined.Quantitative.Score\"  \n",
       "[47] \"GRE.Combined.General.Verbal.Score\" \"s_start_age\"                      \n",
       "[49] \"s_net_cost\"                        \"s_start_year\"                     \n",
       "[51] \"avs_net_cost\"                      \"Precol.GPA\"                       \n",
       "[53] \"GRE_Write\"                         \"GRE.Quant\"                        \n",
       "[55] \"GRE.Verbal\"                        \"average_gpa\"                      \n",
       "[57] \"has_gre\"                           \"has_gre1\"                         "
      ]
     },
     "metadata": {},
     "output_type": "display_data"
    }
   ],
   "source": [
    "colnames(df)"
   ]
  },
  {
   "cell_type": "code",
   "execution_count": 27,
   "metadata": {},
   "outputs": [],
   "source": [
    "column_to_keep_name = c('Y','Gender','Average_GPA','s_start_year','s_Citizenship','avs_net_cost','Gender','s_Average.Precol.GPA','s_GRE.Combined.General.Write.Score','s_GRE.Combined.Quantitative.Score','s_GRE.Combined.General.Verbal.Score','College','funding_indicator','Citizenship','gap_indicator','GPA_trend','has_gre')\n",
    "column_to_keep = NULL\n",
    "for (i in 1:length(column_to_keep_name)){\n",
    "    column_to_keep = c(column_to_keep,which(colnames(df)==column_to_keep_name[i]))\n",
    "}"
   ]
  },
  {
   "cell_type": "code",
   "execution_count": 28,
   "metadata": {},
   "outputs": [
    {
     "data": {
      "text/html": [
       "<ol class=list-inline>\n",
       "\t<li>'Y'</li>\n",
       "\t<li>'Gender'</li>\n",
       "\t<li>'Average_GPA'</li>\n",
       "\t<li>'s_start_year'</li>\n",
       "\t<li>'s_Citizenship'</li>\n",
       "\t<li>'avs_net_cost'</li>\n",
       "\t<li>'Gender.1'</li>\n",
       "\t<li>'College'</li>\n",
       "\t<li>'funding_indicator'</li>\n",
       "\t<li>'Citizenship'</li>\n",
       "\t<li>'gap_indicator'</li>\n",
       "\t<li>'GPA_trend'</li>\n",
       "\t<li>'has_gre'</li>\n",
       "</ol>\n"
      ],
      "text/latex": [
       "\\begin{enumerate*}\n",
       "\\item 'Y'\n",
       "\\item 'Gender'\n",
       "\\item 'Average\\_GPA'\n",
       "\\item 's\\_start\\_year'\n",
       "\\item 's\\_Citizenship'\n",
       "\\item 'avs\\_net\\_cost'\n",
       "\\item 'Gender.1'\n",
       "\\item 'College'\n",
       "\\item 'funding\\_indicator'\n",
       "\\item 'Citizenship'\n",
       "\\item 'gap\\_indicator'\n",
       "\\item 'GPA\\_trend'\n",
       "\\item 'has\\_gre'\n",
       "\\end{enumerate*}\n"
      ],
      "text/markdown": [
       "1. 'Y'\n",
       "2. 'Gender'\n",
       "3. 'Average_GPA'\n",
       "4. 's_start_year'\n",
       "5. 's_Citizenship'\n",
       "6. 'avs_net_cost'\n",
       "7. 'Gender.1'\n",
       "8. 'College'\n",
       "9. 'funding_indicator'\n",
       "10. 'Citizenship'\n",
       "11. 'gap_indicator'\n",
       "12. 'GPA_trend'\n",
       "13. 'has_gre'\n",
       "\n",
       "\n"
      ],
      "text/plain": [
       " [1] \"Y\"                 \"Gender\"            \"Average_GPA\"      \n",
       " [4] \"s_start_year\"      \"s_Citizenship\"     \"avs_net_cost\"     \n",
       " [7] \"Gender.1\"          \"College\"           \"funding_indicator\"\n",
       "[10] \"Citizenship\"       \"gap_indicator\"     \"GPA_trend\"        \n",
       "[13] \"has_gre\"          "
      ]
     },
     "metadata": {},
     "output_type": "display_data"
    }
   ],
   "source": [
    "df = df[,column_to_keep]\n",
    "colnames(df)"
   ]
  },
  {
   "cell_type": "code",
   "execution_count": 29,
   "metadata": {},
   "outputs": [
    {
     "data": {
      "text/html": [
       "<ol class=list-inline>\n",
       "\t<li>1235</li>\n",
       "\t<li>13</li>\n",
       "</ol>\n"
      ],
      "text/latex": [
       "\\begin{enumerate*}\n",
       "\\item 1235\n",
       "\\item 13\n",
       "\\end{enumerate*}\n"
      ],
      "text/markdown": [
       "1. 1235\n",
       "2. 13\n",
       "\n",
       "\n"
      ],
      "text/plain": [
       "[1] 1235   13"
      ]
     },
     "metadata": {},
     "output_type": "display_data"
    },
    {
     "data": {
      "text/html": [
       "<ol class=list-inline>\n",
       "\t<li>617</li>\n",
       "\t<li>13</li>\n",
       "</ol>\n"
      ],
      "text/latex": [
       "\\begin{enumerate*}\n",
       "\\item 617\n",
       "\\item 13\n",
       "\\end{enumerate*}\n"
      ],
      "text/markdown": [
       "1. 617\n",
       "2. 13\n",
       "\n",
       "\n"
      ],
      "text/plain": [
       "[1] 617  13"
      ]
     },
     "metadata": {},
     "output_type": "display_data"
    }
   ],
   "source": [
    "set.seed(123)\n",
    "s1 = sample(nrow(df),0.5*nrow(df))\n",
    "train = df[s1,]\n",
    "non_train = df[-s1,]\n",
    "s2 = sample(nrow(non_train),0.5*nrow(non_train))\n",
    "test = non_train[s2,]\n",
    "vld = non_train[-s2,]\n",
    "\n",
    "train_y=train[,1]\n",
    "train_x=train[,-1]\n",
    "test_y=test[,1]\n",
    "test_x=test[,-1]\n",
    "vld_y=vld[,1]\n",
    "vld_x=vld[,-1]\n",
    "dim(train)\n",
    "dim(test)"
   ]
  },
  {
   "cell_type": "markdown",
   "metadata": {},
   "source": [
    "## Random Forest"
   ]
  },
  {
   "cell_type": "code",
   "execution_count": 30,
   "metadata": {
    "scrolled": false
   },
   "outputs": [
    {
     "name": "stdout",
     "output_type": "stream",
     "text": [
      "\n",
      "Call:\n",
      " randomForest(formula = as.factor(train$Y) ~ ., data = train,      mtry = i, ntree = 1000) \n",
      "               Type of random forest: classification\n",
      "                     Number of trees: 1000\n",
      "No. of variables tried at each split: 1\n",
      "\n",
      "        OOB estimate of  error rate: 29.96%\n",
      "Confusion matrix:\n",
      "   0   1 class.error\n",
      "0 93 369 0.798701299\n",
      "1  1 772 0.001293661\n",
      "\n",
      "Call:\n",
      " randomForest(formula = as.factor(train$Y) ~ ., data = train,      mtry = i, ntree = 1000) \n",
      "               Type of random forest: classification\n",
      "                     Number of trees: 1000\n",
      "No. of variables tried at each split: 2\n",
      "\n",
      "        OOB estimate of  error rate: 22.35%\n",
      "Confusion matrix:\n",
      "    0   1 class.error\n",
      "0 238 224  0.48484848\n",
      "1  52 721  0.06727038\n",
      "\n",
      "Call:\n",
      " randomForest(formula = as.factor(train$Y) ~ ., data = train,      mtry = i, ntree = 1000) \n",
      "               Type of random forest: classification\n",
      "                     Number of trees: 1000\n",
      "No. of variables tried at each split: 3\n",
      "\n",
      "        OOB estimate of  error rate: 22.75%\n",
      "Confusion matrix:\n",
      "    0   1 class.error\n",
      "0 256 206  0.44588745\n",
      "1  75 698  0.09702458\n",
      "\n",
      "Call:\n",
      " randomForest(formula = as.factor(train$Y) ~ ., data = train,      mtry = i, ntree = 1000) \n",
      "               Type of random forest: classification\n",
      "                     Number of trees: 1000\n",
      "No. of variables tried at each split: 4\n",
      "\n",
      "        OOB estimate of  error rate: 22.35%\n",
      "Confusion matrix:\n",
      "    0   1 class.error\n",
      "0 267 195   0.4220779\n",
      "1  81 692   0.1047865\n",
      "\n",
      "Call:\n",
      " randomForest(formula = as.factor(train$Y) ~ ., data = train,      mtry = i, ntree = 1000) \n",
      "               Type of random forest: classification\n",
      "                     Number of trees: 1000\n",
      "No. of variables tried at each split: 5\n",
      "\n",
      "        OOB estimate of  error rate: 23.24%\n",
      "Confusion matrix:\n",
      "    0   1 class.error\n",
      "0 262 200   0.4329004\n",
      "1  87 686   0.1125485\n",
      "\n",
      "Call:\n",
      " randomForest(formula = as.factor(train$Y) ~ ., data = train,      mtry = i, ntree = 1000) \n",
      "               Type of random forest: classification\n",
      "                     Number of trees: 1000\n",
      "No. of variables tried at each split: 6\n",
      "\n",
      "        OOB estimate of  error rate: 22.75%\n",
      "Confusion matrix:\n",
      "    0   1 class.error\n",
      "0 265 197   0.4264069\n",
      "1  84 689   0.1086675\n",
      "\n",
      "Call:\n",
      " randomForest(formula = as.factor(train$Y) ~ ., data = train,      mtry = i, ntree = 1000) \n",
      "               Type of random forest: classification\n",
      "                     Number of trees: 1000\n",
      "No. of variables tried at each split: 7\n",
      "\n",
      "        OOB estimate of  error rate: 23.4%\n",
      "Confusion matrix:\n",
      "    0   1 class.error\n",
      "0 259 203   0.4393939\n",
      "1  86 687   0.1112549\n",
      "\n",
      "Call:\n",
      " randomForest(formula = as.factor(train$Y) ~ ., data = train,      mtry = i, ntree = 1000) \n",
      "               Type of random forest: classification\n",
      "                     Number of trees: 1000\n",
      "No. of variables tried at each split: 8\n",
      "\n",
      "        OOB estimate of  error rate: 23.32%\n",
      "Confusion matrix:\n",
      "    0   1 class.error\n",
      "0 266 196   0.4242424\n",
      "1  92 681   0.1190168\n",
      "\n",
      "Call:\n",
      " randomForest(formula = as.factor(train$Y) ~ ., data = train,      mtry = i, ntree = 1000) \n",
      "               Type of random forest: classification\n",
      "                     Number of trees: 1000\n",
      "No. of variables tried at each split: 9\n",
      "\n",
      "        OOB estimate of  error rate: 23.56%\n",
      "Confusion matrix:\n",
      "    0   1 class.error\n",
      "0 260 202   0.4372294\n",
      "1  89 684   0.1151358\n",
      "\n",
      "Call:\n",
      " randomForest(formula = as.factor(train$Y) ~ ., data = train,      mtry = i, ntree = 1000) \n",
      "               Type of random forest: classification\n",
      "                     Number of trees: 1000\n",
      "No. of variables tried at each split: 10\n",
      "\n",
      "        OOB estimate of  error rate: 23.48%\n",
      "Confusion matrix:\n",
      "    0   1 class.error\n",
      "0 265 197   0.4264069\n",
      "1  93 680   0.1203105\n",
      "\n",
      "Call:\n",
      " randomForest(formula = as.factor(train$Y) ~ ., data = train,      mtry = i, ntree = 1000) \n",
      "               Type of random forest: classification\n",
      "                     Number of trees: 1000\n",
      "No. of variables tried at each split: 11\n",
      "\n",
      "        OOB estimate of  error rate: 24.05%\n",
      "Confusion matrix:\n",
      "    0   1 class.error\n",
      "0 258 204   0.4415584\n",
      "1  93 680   0.1203105\n",
      "\n",
      "Call:\n",
      " randomForest(formula = as.factor(train$Y) ~ ., data = train,      mtry = i, ntree = 1000) \n",
      "               Type of random forest: classification\n",
      "                     Number of trees: 1000\n",
      "No. of variables tried at each split: 12\n",
      "\n",
      "        OOB estimate of  error rate: 23%\n",
      "Confusion matrix:\n",
      "    0   1 class.error\n",
      "0 266 196   0.4242424\n",
      "1  88 685   0.1138422\n"
     ]
    }
   ],
   "source": [
    "library(\"randomForest\")\n",
    "n<-length(names(train)) \n",
    "rate=1\n",
    "for(i in 1:(n-1)){\n",
    "  set.seed(1234)\n",
    "  rf_train<-randomForest(as.factor(train$Y)~.,data=train,mtry=i,ntree=1000)\n",
    "  rate[i]<-mean(rf_train$err.rate)  \n",
    "  print(rf_train)    \n",
    "}"
   ]
  },
  {
   "cell_type": "code",
   "execution_count": 31,
   "metadata": {
    "scrolled": false
   },
   "outputs": [
    {
     "data": {
      "text/html": [
       "<ol class=list-inline>\n",
       "\t<li>0.369619853006385</li>\n",
       "\t<li>0.261680504711719</li>\n",
       "\t<li>0.260611954195179</li>\n",
       "\t<li>0.260592361577522</li>\n",
       "\t<li>0.262209045981417</li>\n",
       "\t<li>0.26463435997352</li>\n",
       "\t<li>0.265443986489765</li>\n",
       "\t<li>0.261011992572353</li>\n",
       "\t<li>0.264732313020034</li>\n",
       "\t<li>0.265832865418035</li>\n",
       "\t<li>0.26473812647411</li>\n",
       "\t<li>0.260306092689658</li>\n",
       "</ol>\n"
      ],
      "text/latex": [
       "\\begin{enumerate*}\n",
       "\\item 0.369619853006385\n",
       "\\item 0.261680504711719\n",
       "\\item 0.260611954195179\n",
       "\\item 0.260592361577522\n",
       "\\item 0.262209045981417\n",
       "\\item 0.26463435997352\n",
       "\\item 0.265443986489765\n",
       "\\item 0.261011992572353\n",
       "\\item 0.264732313020034\n",
       "\\item 0.265832865418035\n",
       "\\item 0.26473812647411\n",
       "\\item 0.260306092689658\n",
       "\\end{enumerate*}\n"
      ],
      "text/markdown": [
       "1. 0.369619853006385\n",
       "2. 0.261680504711719\n",
       "3. 0.260611954195179\n",
       "4. 0.260592361577522\n",
       "5. 0.262209045981417\n",
       "6. 0.26463435997352\n",
       "7. 0.265443986489765\n",
       "8. 0.261011992572353\n",
       "9. 0.264732313020034\n",
       "10. 0.265832865418035\n",
       "11. 0.26473812647411\n",
       "12. 0.260306092689658\n",
       "\n",
       "\n"
      ],
      "text/plain": [
       " [1] 0.3696199 0.2616805 0.2606120 0.2605924 0.2622090 0.2646344 0.2654440\n",
       " [8] 0.2610120 0.2647323 0.2658329 0.2647381 0.2603061"
      ]
     },
     "metadata": {},
     "output_type": "display_data"
    },
    {
     "data": {
      "image/png": "[encoded data removed]",
      "text/plain": [
       "plot without title"
      ]
     },
     "metadata": {},
     "output_type": "display_data"
    }
   ],
   "source": [
    "rate  \n",
    "plot(rate)"
   ]
  },
  {
   "cell_type": "code",
   "execution_count": 32,
   "metadata": {
    "scrolled": false
   },
   "outputs": [
    {
     "data": {
      "image/png": "[encoded data removed]",
      "text/plain": [
       "Plot with title \"rf_train\""
      ]
     },
     "metadata": {},
     "output_type": "display_data"
    }
   ],
   "source": [
    "rf_train<-randomForest(as.factor(train$Y)~.,data=train,mtry=6)\n",
    "plot(rf_train)    \n",
    "legend(800,0.02,\"Y=0\",cex=0.9,bty=\"n\")    \n",
    "legend(800,0.0245,\"total\",cex=0.09,bty=\"n\")   "
   ]
  },
  {
   "cell_type": "code",
   "execution_count": 33,
   "metadata": {
    "scrolled": true
   },
   "outputs": [
    {
     "data": {
      "text/plain": [
       "\n",
       "Call:\n",
       " randomForest(formula = as.factor(train$Y) ~ ., data = as.data.frame(train),      mtry = 6, importance = TRUE) \n",
       "               Type of random forest: classification\n",
       "                     Number of trees: 500\n",
       "No. of variables tried at each split: 6\n",
       "\n",
       "        OOB estimate of  error rate: 23.56%\n",
       "Confusion matrix:\n",
       "    0   1 class.error\n",
       "0 258 204   0.4415584\n",
       "1  87 686   0.1125485"
      ]
     },
     "metadata": {},
     "output_type": "display_data"
    }
   ],
   "source": [
    "set.seed(100)\n",
    "rf_train<-randomForest(as.factor(train$Y)~.,data=as.data.frame(train),mtry = 6,importance=TRUE)\n",
    "rf_train"
   ]
  },
  {
   "cell_type": "code",
   "execution_count": 73,
   "metadata": {},
   "outputs": [
    {
     "data": {
      "text/html": [
       "0.5238"
      ],
      "text/latex": [
       "0.5238"
      ],
      "text/markdown": [
       "0.5238"
      ],
      "text/plain": [
       "[1] 0.5238"
      ]
     },
     "metadata": {},
     "output_type": "display_data"
    }
   ],
   "source": [
    "rf_pred = predict(rf_train, newdata = test[which(test$Y==0),])\n",
    "(rf_acc = round(sum(rf_pred == test[which(test$Y==0),]$Y)/length(rf_pred),4))"
   ]
  },
  {
   "cell_type": "code",
   "execution_count": 35,
   "metadata": {},
   "outputs": [
    {
     "data": {
      "text/html": [
       "<table>\n",
       "<thead><tr><th></th><th scope=col>0</th><th scope=col>1</th><th scope=col>MeanDecreaseAccuracy</th><th scope=col>MeanDecreaseGini</th></tr></thead>\n",
       "<tbody>\n",
       "\t<tr><th scope=row>Gender</th><td> 1.2177830</td><td> 2.8620350</td><td> 2.896865 </td><td>  8.293541</td></tr>\n",
       "\t<tr><th scope=row>Average_GPA</th><td>25.6673093</td><td>36.2179256</td><td>45.119313 </td><td>128.979701</td></tr>\n",
       "\t<tr><th scope=row>s_start_year</th><td>32.3487693</td><td>40.2260819</td><td>52.000652 </td><td>109.951715</td></tr>\n",
       "\t<tr><th scope=row>s_Citizenship</th><td> 6.8709515</td><td>-0.6307738</td><td> 4.571580 </td><td>  9.281207</td></tr>\n",
       "\t<tr><th scope=row>avs_net_cost</th><td>16.9572093</td><td>16.7214238</td><td>23.658673 </td><td>114.113691</td></tr>\n",
       "\t<tr><th scope=row>Gender.1</th><td> 1.0465371</td><td> 3.8813197</td><td> 3.851352 </td><td>  8.153768</td></tr>\n",
       "\t<tr><th scope=row>College</th><td> 7.7600357</td><td> 9.1173287</td><td>12.794358 </td><td> 28.737256</td></tr>\n",
       "\t<tr><th scope=row>funding_indicator</th><td> 5.8192530</td><td> 9.7025109</td><td>11.552473 </td><td> 13.197794</td></tr>\n",
       "\t<tr><th scope=row>Citizenship</th><td>14.4458291</td><td> 3.6783684</td><td>12.025804 </td><td> 57.536957</td></tr>\n",
       "\t<tr><th scope=row>gap_indicator</th><td> 9.1921531</td><td>-0.2107103</td><td> 5.851514 </td><td>  9.382457</td></tr>\n",
       "\t<tr><th scope=row>GPA_trend</th><td> 0.9421281</td><td>20.0709258</td><td>17.637119 </td><td> 75.438965</td></tr>\n",
       "\t<tr><th scope=row>has_gre</th><td> 3.8777041</td><td>14.5133848</td><td>16.151754 </td><td> 12.419465</td></tr>\n",
       "</tbody>\n",
       "</table>\n"
      ],
      "text/latex": [
       "\\begin{tabular}{r|llll}\n",
       "  & 0 & 1 & MeanDecreaseAccuracy & MeanDecreaseGini\\\\\n",
       "\\hline\n",
       "\tGender &  1.2177830 &  2.8620350 &  2.896865  &   8.293541\\\\\n",
       "\tAverage\\_GPA & 25.6673093 & 36.2179256 & 45.119313  & 128.979701\\\\\n",
       "\ts\\_start\\_year & 32.3487693 & 40.2260819 & 52.000652  & 109.951715\\\\\n",
       "\ts\\_Citizenship &  6.8709515 & -0.6307738 &  4.571580  &   9.281207\\\\\n",
       "\tavs\\_net\\_cost & 16.9572093 & 16.7214238 & 23.658673  & 114.113691\\\\\n",
       "\tGender.1 &  1.0465371 &  3.8813197 &  3.851352  &   8.153768\\\\\n",
       "\tCollege &  7.7600357 &  9.1173287 & 12.794358  &  28.737256\\\\\n",
       "\tfunding\\_indicator &  5.8192530 &  9.7025109 & 11.552473  &  13.197794\\\\\n",
       "\tCitizenship & 14.4458291 &  3.6783684 & 12.025804  &  57.536957\\\\\n",
       "\tgap\\_indicator &  9.1921531 & -0.2107103 &  5.851514  &   9.382457\\\\\n",
       "\tGPA\\_trend &  0.9421281 & 20.0709258 & 17.637119  &  75.438965\\\\\n",
       "\thas\\_gre &  3.8777041 & 14.5133848 & 16.151754  &  12.419465\\\\\n",
       "\\end{tabular}\n"
      ],
      "text/markdown": [
       "\n",
       "| <!--/--> | 0 | 1 | MeanDecreaseAccuracy | MeanDecreaseGini |\n",
       "|---|---|---|---|---|\n",
       "| Gender |  1.2177830 |  2.8620350 |  2.896865  |   8.293541 |\n",
       "| Average_GPA | 25.6673093 | 36.2179256 | 45.119313  | 128.979701 |\n",
       "| s_start_year | 32.3487693 | 40.2260819 | 52.000652  | 109.951715 |\n",
       "| s_Citizenship |  6.8709515 | -0.6307738 |  4.571580  |   9.281207 |\n",
       "| avs_net_cost | 16.9572093 | 16.7214238 | 23.658673  | 114.113691 |\n",
       "| Gender.1 |  1.0465371 |  3.8813197 |  3.851352  |   8.153768 |\n",
       "| College |  7.7600357 |  9.1173287 | 12.794358  |  28.737256 |\n",
       "| funding_indicator |  5.8192530 |  9.7025109 | 11.552473  |  13.197794 |\n",
       "| Citizenship | 14.4458291 |  3.6783684 | 12.025804  |  57.536957 |\n",
       "| gap_indicator |  9.1921531 | -0.2107103 |  5.851514  |   9.382457 |\n",
       "| GPA_trend |  0.9421281 | 20.0709258 | 17.637119  |  75.438965 |\n",
       "| has_gre |  3.8777041 | 14.5133848 | 16.151754  |  12.419465 |\n",
       "\n"
      ],
      "text/plain": [
       "                  0          1          MeanDecreaseAccuracy MeanDecreaseGini\n",
       "Gender             1.2177830  2.8620350  2.896865              8.293541      \n",
       "Average_GPA       25.6673093 36.2179256 45.119313            128.979701      \n",
       "s_start_year      32.3487693 40.2260819 52.000652            109.951715      \n",
       "s_Citizenship      6.8709515 -0.6307738  4.571580              9.281207      \n",
       "avs_net_cost      16.9572093 16.7214238 23.658673            114.113691      \n",
       "Gender.1           1.0465371  3.8813197  3.851352              8.153768      \n",
       "College            7.7600357  9.1173287 12.794358             28.737256      \n",
       "funding_indicator  5.8192530  9.7025109 11.552473             13.197794      \n",
       "Citizenship       14.4458291  3.6783684 12.025804             57.536957      \n",
       "gap_indicator      9.1921531 -0.2107103  5.851514              9.382457      \n",
       "GPA_trend          0.9421281 20.0709258 17.637119             75.438965      \n",
       "has_gre            3.8777041 14.5133848 16.151754             12.419465      "
      ]
     },
     "metadata": {},
     "output_type": "display_data"
    },
    {
     "data": {
      "image/png": "[encoded data removed]",
      "text/plain": [
       "plot without title"
      ]
     },
     "metadata": {},
     "output_type": "display_data"
    }
   ],
   "source": [
    "importance(rf_train)\n",
    "varImpPlot(rf_train)"
   ]
  },
  {
   "cell_type": "markdown",
   "metadata": {},
   "source": [
    "## LDA"
   ]
  },
  {
   "cell_type": "code",
   "execution_count": 64,
   "metadata": {},
   "outputs": [
    {
     "name": "stderr",
     "output_type": "stream",
     "text": [
      "Warning message in lda.default(x, grouping, ...):\n",
      "\"variables are collinear\"Warning message:\n",
      "\"contrasts dropped from factor has_gre\""
     ]
    }
   ],
   "source": [
    "mod_lda = lda(Y~., data = as.data.frame(train))\n",
    "lda_pred = predict(mod_lda, newdata = test[which(test$Y==0),])"
   ]
  },
  {
   "cell_type": "code",
   "execution_count": 65,
   "metadata": {
    "scrolled": true
   },
   "outputs": [
    {
     "data": {
      "text/html": [
       "0.368"
      ],
      "text/latex": [
       "0.368"
      ],
      "text/markdown": [
       "0.368"
      ],
      "text/plain": [
       "[1] 0.368"
      ]
     },
     "metadata": {},
     "output_type": "display_data"
    }
   ],
   "source": [
    "(lda_acc = round(sum(lda_pred$class == test[which(test$Y==0),]$Y)/length(lda_pred$class),4))"
   ]
  },
  {
   "cell_type": "markdown",
   "metadata": {},
   "source": [
    "<b> Summary"
   ]
  },
  {
   "cell_type": "code",
   "execution_count": null,
   "metadata": {},
   "outputs": [],
   "source": [
    "mod_lda$scaling"
   ]
  },
  {
   "cell_type": "markdown",
   "metadata": {},
   "source": [
    "## Neural Network"
   ]
  },
  {
   "cell_type": "code",
   "execution_count": 66,
   "metadata": {},
   "outputs": [
    {
     "name": "stderr",
     "output_type": "stream",
     "text": [
      "Warning message:\n",
      "\"contrasts dropped from factor has_gre\"Warning message:\n",
      "\"contrasts dropped from factor has_gre\"Warning message:\n",
      "\"contrasts dropped from factor has_gre\"Warning message:\n",
      "\"contrasts dropped from factor has_gre\"Warning message:\n",
      "\"contrasts dropped from factor has_gre\"Warning message:\n",
      "\"contrasts dropped from factor has_gre\"Warning message:\n",
      "\"contrasts dropped from factor has_gre\"Warning message:\n",
      "\"contrasts dropped from factor has_gre\"Warning message:\n",
      "\"contrasts dropped from factor has_gre\"Warning message:\n",
      "\"contrasts dropped from factor has_gre\"Warning message:\n",
      "\"contrasts dropped from factor has_gre\"Warning message:\n",
      "\"contrasts dropped from factor has_gre\"Warning message:\n",
      "\"contrasts dropped from factor has_gre\"Warning message:\n",
      "\"contrasts dropped from factor has_gre\"Warning message:\n",
      "\"contrasts dropped from factor has_gre\"Warning message:\n",
      "\"contrasts dropped from factor has_gre\"Warning message:\n",
      "\"contrasts dropped from factor has_gre\"Warning message:\n",
      "\"contrasts dropped from factor has_gre\"Warning message:\n",
      "\"contrasts dropped from factor has_gre\"Warning message:\n",
      "\"contrasts dropped from factor has_gre\""
     ]
    },
    {
     "data": {
      "text/html": [
       "1"
      ],
      "text/latex": [
       "1"
      ],
      "text/markdown": [
       "1"
      ],
      "text/plain": [
       "[1] 1"
      ]
     },
     "metadata": {},
     "output_type": "display_data"
    }
   ],
   "source": [
    "nnet_vld = NULL\n",
    "for (i in seq(1,20,1)){\n",
    "    mod_nnet = nnet(Y~., data = train, size  = i,trace = FALSE, decay =.1, rang = 0, maxit = 250)\n",
    "    nn_pred = predict(mod_nnet, newdata = vld)\n",
    "    nn_pred = as.numeric(nn_pred>=.5)\n",
    "    nnet_vld = c(nnet_vld, sum(nn_pred == vld$Y)/length(nn_pred))\n",
    "}\n",
    "(tr_size = which.max(nnet_vld))"
   ]
  },
  {
   "cell_type": "code",
   "execution_count": 67,
   "metadata": {},
   "outputs": [
    {
     "name": "stderr",
     "output_type": "stream",
     "text": [
      "Warning message:\n",
      "\"contrasts dropped from factor has_gre\""
     ]
    }
   ],
   "source": [
    "mod_nnet = nnet(Y~., data = train, size  = tr_size,trace = FALSE, decay =.1, rang = 0, maxit = 250)\n",
    "nn_pred = as.numeric(predict(mod_nnet, newdata = test[which(test$Y==0),])>= .7)"
   ]
  },
  {
   "cell_type": "code",
   "execution_count": 68,
   "metadata": {},
   "outputs": [
    {
     "data": {
      "text/html": [
       "0.684"
      ],
      "text/latex": [
       "0.684"
      ],
      "text/markdown": [
       "0.684"
      ],
      "text/plain": [
       "[1] 0.684"
      ]
     },
     "metadata": {},
     "output_type": "display_data"
    }
   ],
   "source": [
    "(nnet_acc = round(sum(nn_pred == test[which(test$Y==0),]$Y)/length(nn_pred),4))"
   ]
  },
  {
   "cell_type": "markdown",
   "metadata": {},
   "source": [
    "<b> Summary"
   ]
  },
  {
   "cell_type": "code",
   "execution_count": 50,
   "metadata": {},
   "outputs": [
    {
     "data": {
      "text/plain": [
       "a 28-1-1 network with 31 weights\n",
       "options were - decay=0.1\n",
       "  b->h1  i1->h1  i2->h1  i3->h1  i4->h1  i5->h1  i6->h1  i7->h1  i8->h1  i9->h1 \n",
       "  -3.94    0.15    1.66   -0.86   -0.42   -0.55   -1.18    0.13    0.15   -0.87 \n",
       "i10->h1 i11->h1 i12->h1 i13->h1 i14->h1 i15->h1 i16->h1 i17->h1 i18->h1 i19->h1 \n",
       "   5.18   -1.07   -0.55   -0.13   -0.70    0.57   -0.42   -0.36    0.22   -0.55 \n",
       "i20->h1 i21->h1 i22->h1 i23->h1 i24->h1 i25->h1 i26->h1 i27->h1 i28->h1 \n",
       "  -0.17   -0.24    0.03   -0.21   -0.29   -0.15    0.58    1.32   -0.21 \n",
       " b->o h1->o \n",
       "-2.80  5.38 "
      ]
     },
     "metadata": {},
     "output_type": "display_data"
    }
   ],
   "source": [
    "summary(mod_nnet)"
   ]
  },
  {
   "cell_type": "markdown",
   "metadata": {},
   "source": [
    "## Logistic Regression"
   ]
  },
  {
   "cell_type": "code",
   "execution_count": 69,
   "metadata": {},
   "outputs": [
    {
     "name": "stderr",
     "output_type": "stream",
     "text": [
      "Warning message:\n",
      "\"contrasts dropped from factor has_gre\"Warning message in predict.lm(object, newdata, se.fit, scale = 1, type = if (type == :\n",
      "\"prediction from a rank-deficient fit may be misleading\""
     ]
    }
   ],
   "source": [
    "mod_glm = glm(Y~., data = train, family=binomial())\n",
    "glm_pred = as.numeric(predict(mod_glm, newdata = test[which(test$Y==0),], type=\"response\") >= .7)"
   ]
  },
  {
   "cell_type": "code",
   "execution_count": 70,
   "metadata": {
    "scrolled": true
   },
   "outputs": [
    {
     "data": {
      "text/html": [
       "0.684"
      ],
      "text/latex": [
       "0.684"
      ],
      "text/markdown": [
       "0.684"
      ],
      "text/plain": [
       "[1] 0.684"
      ]
     },
     "metadata": {},
     "output_type": "display_data"
    }
   ],
   "source": [
    "(glm_acc = round(sum(glm_pred == test[which(test$Y==0),]$Y)/length(glm_pred),4))"
   ]
  },
  {
   "cell_type": "markdown",
   "metadata": {},
   "source": [
    "<b> Summary"
   ]
  },
  {
   "cell_type": "code",
   "execution_count": null,
   "metadata": {},
   "outputs": [],
   "source": [
    "summary(mod_glm)"
   ]
  },
  {
   "cell_type": "markdown",
   "metadata": {},
   "source": [
    "## SVM"
   ]
  },
  {
   "cell_type": "code",
   "execution_count": 71,
   "metadata": {},
   "outputs": [],
   "source": [
    "mod_svm = svm(Y~., data = train, family=binomial())\n",
    "svm_pred = as.numeric(predict(mod_svm, newdata = test[which(test$Y==0),], type=\"response\") >= .7)"
   ]
  },
  {
   "cell_type": "code",
   "execution_count": 72,
   "metadata": {
    "scrolled": true
   },
   "outputs": [
    {
     "data": {
      "text/html": [
       "0.4892"
      ],
      "text/latex": [
       "0.4892"
      ],
      "text/markdown": [
       "0.4892"
      ],
      "text/plain": [
       "[1] 0.4892"
      ]
     },
     "metadata": {},
     "output_type": "display_data"
    }
   ],
   "source": [
    "(svm_acc = round(sum(svm_pred == test[which(test$Y==0),]$Y)/length(svm_pred),4))"
   ]
  },
  {
   "cell_type": "markdown",
   "metadata": {},
   "source": [
    "<b> Summary"
   ]
  },
  {
   "cell_type": "code",
   "execution_count": null,
   "metadata": {
    "scrolled": false
   },
   "outputs": [],
   "source": [
    "summary(mod_svm)\n",
    "colMeans(mod_svm$SV)\n",
    "#The resulting support vectors (possibly scaled)."
   ]
  },
  {
   "cell_type": "markdown",
   "metadata": {},
   "source": [
    "## LASSO"
   ]
  },
  {
   "cell_type": "code",
   "execution_count": 74,
   "metadata": {},
   "outputs": [],
   "source": [
    "train_x = model.matrix(~., data = train_x)\n",
    "test_x = model.matrix(~., data = test_x)"
   ]
  },
  {
   "cell_type": "code",
   "execution_count": 75,
   "metadata": {
    "scrolled": false
   },
   "outputs": [
    {
     "data": {
      "image/png": "[encoded data removed]",
      "text/plain": [
       "plot without title"
      ]
     },
     "metadata": {},
     "output_type": "display_data"
    },
    {
     "data": {
      "image/png": "[encoded data removed]",
      "text/plain": [
       "Plot with title \"\""
      ]
     },
     "metadata": {},
     "output_type": "display_data"
    }
   ],
   "source": [
    "cvfit = cv.glmnet(train_x,train_y,alpha=1,family='binomial',type.measure='mse')\n",
    "mod_lasso = glmnet(train_x,train_y,alpha=1, family = \"binomial\",lambda = cvfit$lambda)\n",
    "plot(cvfit)\n",
    "plot_glmnet(mod_lasso)\n",
    "mod_lasso <- glmnet(train_x,train_y,alpha=1, family = \"binomial\",lambda = cvfit$lambda.min)"
   ]
  },
  {
   "cell_type": "code",
   "execution_count": 80,
   "metadata": {
    "scrolled": true
   },
   "outputs": [
    {
     "data": {
      "text/html": [
       "0.3896"
      ],
      "text/latex": [
       "0.3896"
      ],
      "text/markdown": [
       "0.3896"
      ],
      "text/plain": [
       "[1] 0.3896"
      ]
     },
     "metadata": {},
     "output_type": "display_data"
    }
   ],
   "source": [
    "lasso_pred = predict(mod_lasso, test_x[which(test_y==0),], type=\"class\")\n",
    "lasso_right = colSums(lasso_pred == test_y[which(test_y==0)])\n",
    "(lasso_acc = round(max(lasso_right)/length(test_y[which(test_y==0)]),4))"
   ]
  },
  {
   "cell_type": "markdown",
   "metadata": {},
   "source": [
    "<b> Summary"
   ]
  },
  {
   "cell_type": "code",
   "execution_count": null,
   "metadata": {
    "scrolled": false
   },
   "outputs": [],
   "source": [
    "mod_lasso$beta"
   ]
  },
  {
   "cell_type": "markdown",
   "metadata": {},
   "source": [
    "## Prediction Summary"
   ]
  },
  {
   "cell_type": "code",
   "execution_count": 81,
   "metadata": {},
   "outputs": [
    {
     "data": {
      "text/html": [
       "<table>\n",
       "<thead><tr><th></th><th scope=col>Accuracy</th></tr></thead>\n",
       "<tbody>\n",
       "\t<tr><th scope=row>Random Forest</th><td>0.5238</td></tr>\n",
       "\t<tr><th scope=row>LDA</th><td>0.3680</td></tr>\n",
       "\t<tr><th scope=row>Neural Network</th><td>0.6840</td></tr>\n",
       "\t<tr><th scope=row>Logistic Regression</th><td>0.6840</td></tr>\n",
       "\t<tr><th scope=row>SVM</th><td>0.4892</td></tr>\n",
       "\t<tr><th scope=row>LASSO</th><td>0.3896</td></tr>\n",
       "</tbody>\n",
       "</table>\n"
      ],
      "text/latex": [
       "\\begin{tabular}{r|l}\n",
       "  & Accuracy\\\\\n",
       "\\hline\n",
       "\tRandom Forest & 0.5238\\\\\n",
       "\tLDA & 0.3680\\\\\n",
       "\tNeural Network & 0.6840\\\\\n",
       "\tLogistic Regression & 0.6840\\\\\n",
       "\tSVM & 0.4892\\\\\n",
       "\tLASSO & 0.3896\\\\\n",
       "\\end{tabular}\n"
      ],
      "text/markdown": [
       "\n",
       "| <!--/--> | Accuracy |\n",
       "|---|---|\n",
       "| Random Forest | 0.5238 |\n",
       "| LDA | 0.3680 |\n",
       "| Neural Network | 0.6840 |\n",
       "| Logistic Regression | 0.6840 |\n",
       "| SVM | 0.4892 |\n",
       "| LASSO | 0.3896 |\n",
       "\n"
      ],
      "text/plain": [
       "                    Accuracy\n",
       "Random Forest       0.5238  \n",
       "LDA                 0.3680  \n",
       "Neural Network      0.6840  \n",
       "Logistic Regression 0.6840  \n",
       "SVM                 0.4892  \n",
       "LASSO               0.3896  "
      ]
     },
     "metadata": {},
     "output_type": "display_data"
    }
   ],
   "source": [
    "res = data.frame(rbind(rf_acc, lda_acc, nnet_acc, glm_acc,svm_acc,lasso_acc))\n",
    "colnames(res) = 'Accuracy'\n",
    "rownames(res) = c('Random Forest','LDA', 'Neural Network', 'Logistic Regression', 'SVM', 'LASSO')\n",
    "res"
   ]
  },
  {
   "cell_type": "code",
   "execution_count": 82,
   "metadata": {},
   "outputs": [
    {
     "data": {
      "text/html": [
       "854.058762526152"
      ],
      "text/latex": [
       "854.058762526152"
      ],
      "text/markdown": [
       "854.058762526152"
      ],
      "text/plain": [
       "[1] 854.0588"
      ]
     },
     "metadata": {},
     "output_type": "display_data"
    }
   ],
   "source": [
    "odds = exp(1.35*5)\n",
    "p = (odds)/(1+odds)\n",
    "odds"
   ]
  }
 ],
 "metadata": {
  "hide_input": false,
  "kernelspec": {
   "display_name": "R",
   "language": "R",
   "name": "ir"
  },
  "language_info": {
   "codemirror_mode": "r",
   "file_extension": ".r",
   "mimetype": "text/x-r-source",
   "name": "R",
   "pygments_lexer": "r",
   "version": "3.6.1"
  },
  "latex_envs": {
   "LaTeX_envs_menu_present": true,
   "autoclose": false,
   "autocomplete": true,
   "bibliofile": "biblio.bib",
   "cite_by": "apalike",
   "current_citInitial": 1,
   "eqLabelWithNumbers": true,
   "eqNumInitial": 1,
   "hotkeys": {
    "equation": "Ctrl-E",
    "itemize": "Ctrl-I"
   },
   "labels_anchors": false,
   "latex_user_defs": false,
   "report_style_numbering": false,
   "user_envs_cfg": false
  },
  "toc": {
   "base_numbering": 1,
   "nav_menu": {},
   "number_sections": true,
   "sideBar": true,
   "skip_h1_title": false,
   "title_cell": "Table of Contents",
   "title_sidebar": "Contents",
   "toc_cell": false,
   "toc_position": {
    "height": "calc(100% - 180px)",
    "left": "10px",
    "top": "150px",
    "width": "196.91px"
   },
   "toc_section_display": true,
   "toc_window_display": true
  }
 },
 "nbformat": 4,
 "nbformat_minor": 2
}
