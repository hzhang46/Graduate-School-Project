{
 "cells": [
  {
   "cell_type": "code",
   "execution_count": 1,
   "metadata": {},
   "outputs": [
    {
     "name": "stderr",
     "output_type": "stream",
     "text": [
      "Warning message:\n",
      "\"package 'nnet' was built under R version 3.6.3\"Warning message:\n",
      "\"package 'caret' was built under R version 3.6.3\"Loading required package: lattice\n",
      "Loading required package: ggplot2\n",
      "Warning message:\n",
      "\"package 'ggplot2' was built under R version 3.6.3\"Warning message:\n",
      "\"package 'plotmo' was built under R version 3.6.3\"Loading required package: Formula\n",
      "Loading required package: plotrix\n",
      "Loading required package: TeachingDemos\n",
      "Warning message:\n",
      "\"package 'TeachingDemos' was built under R version 3.6.3\"Warning message:\n",
      "\"package 'readr' was built under R version 3.6.3\"Warning message:\n",
      "\"package 'faraway' was built under R version 3.6.2\"\n",
      "Attaching package: 'faraway'\n",
      "\n",
      "The following object is masked from 'package:lattice':\n",
      "\n",
      "    melanoma\n",
      "\n",
      "Warning message:\n",
      "\"package 'glmnet' was built under R version 3.6.3\"Loading required package: Matrix\n",
      "Loaded glmnet 3.0-2\n",
      "\n",
      "Warning message:\n",
      "\"package 'e1071' was built under R version 3.6.3\"Warning message:\n",
      "\"package 'randomForest' was built under R version 3.6.3\"randomForest 4.6-14\n",
      "Type rfNews() to see new features/changes/bug fixes.\n",
      "\n",
      "Attaching package: 'randomForest'\n",
      "\n",
      "The following object is masked from 'package:ggplot2':\n",
      "\n",
      "    margin\n",
      "\n"
     ]
    }
   ],
   "source": [
    "library(MASS)\n",
    "library(nnet)\n",
    "library(caret)\n",
    "library(plotmo)\n",
    "library(readr)\n",
    "library(faraway)\n",
    "library(ggplot2)\n",
    "library(glmnet)\n",
    "library(e1071)\n",
    "library(randomForest)"
   ]
  },
  {
   "cell_type": "markdown",
   "metadata": {},
   "source": [
    "# Load Data and Final Clean"
   ]
  },
  {
   "cell_type": "code",
   "execution_count": 2,
   "metadata": {
    "scrolled": true
   },
   "outputs": [
    {
     "data": {
      "text/html": [
       "<ol class=list-inline>\n",
       "\t<li>2470</li>\n",
       "\t<li>47</li>\n",
       "</ol>\n"
      ],
      "text/latex": [
       "\\begin{enumerate*}\n",
       "\\item 2470\n",
       "\\item 47\n",
       "\\end{enumerate*}\n"
      ],
      "text/markdown": [
       "1. 2470\n",
       "2. 47\n",
       "\n",
       "\n"
      ],
      "text/plain": [
       "[1] 2470   47"
      ]
     },
     "metadata": {},
     "output_type": "display_data"
    }
   ],
   "source": [
    "df <- read.csv(file=\"cleaned_data_0330.csv\",sep=\",\",header=TRUE)\n",
    "df = df[,-1]\n",
    "dim(df)"
   ]
  },
  {
   "cell_type": "markdown",
   "metadata": {},
   "source": [
    "## Scale and center some variables:"
   ]
  },
  {
   "cell_type": "code",
   "execution_count": 3,
   "metadata": {},
   "outputs": [],
   "source": [
    "mean_age = mean(df$Start_age)\n",
    "sd_age = sd(df$Start_age)\n",
    "df$s_start_age = round((df$Start_age - mean_age)/sd_age,5)\n",
    "mean_net = mean(df$net_cost)\n",
    "sd_net = sd(df$net_cost)\n",
    "df$s_net_cost = round((df$net_cost - mean_net)/sd_net,5)\n",
    "mean_year = mean(df$Start_year)\n",
    "sd_year = sd(df$Start_year)\n",
    "df$s_start_year = round((df$Start_year - mean_year)/sd_year,5)\n",
    "av_net_cost = ifelse(df$Valid.term > 0, df$net_cost / df$Valid.term, df$net_cost)\n",
    "av_mean_net = mean(av_net_cost)\n",
    "av_sd_net = sd(av_net_cost)\n",
    "df$avs_net_cost = round((av_net_cost - av_mean_net)/av_sd_net,5)\n",
    "mean_Average.Precol.GPA = mean(df$Average.Precol.GPA)\n",
    "sd_Average.Precol.GPA = sd(df$Average.Precol.GPA)\n",
    "df$Precol.GPA = round((df$Average.Precol.GPA - mean_Average.Precol.GPA)/sd_Average.Precol.GPA,5)\n",
    "mean_GRE.Combined.General.Write.Score = mean(df$GRE.Combined.General.Write.Score)\n",
    "sd_GRE.Combined.General.Write.Score = sd(df$GRE.Combined.General.Write.Score)\n",
    "df$GRE_Write = round((df$GRE.Combined.General.Write.Score - mean_GRE.Combined.General.Write.Score)/sd_GRE.Combined.General.Write.Score,5)\n",
    "mean_GRE.Combined.Quantitative.Score = mean(df$GRE.Combined.Quantitative.Score)\n",
    "sd_GRE.Combined.Quantitative.Score = sd(df$GRE.Combined.Quantitative.Score)\n",
    "df$GRE.Quant = round((df$GRE.Combined.Quantitative.Score - mean_GRE.Combined.Quantitative.Score)/sd_GRE.Combined.Quantitative.Score,5)\n",
    "mean_GRE.Combined.General.Verbal.Score = mean(df$GRE.Combined.General.Verbal.Score)\n",
    "sd_GRE.Combined.General.Verbal.Score = sd(df$GRE.Combined.General.Verbal.Score)\n",
    "df$GRE.Verbal = round((df$GRE.Combined.General.Verbal.Score - mean_GRE.Combined.General.Verbal.Score)/sd_GRE.Combined.General.Verbal.Score,5)\n",
    "mean_GMAT.Score = mean(df$GMAT.Score)\n",
    "sd_GMAT.Score = sd(df$GMAT.Score)\n",
    "df$GMAT.Score = round((df$GMAT.Score - mean_GMAT.Score)/sd_GMAT.Score,5)\n",
    "mean_gpa = mean(df$Average_GPA)\n",
    "sd_gpa = sd(df$Average_GPA)\n",
    "df$average_gpa = round((df$Average_GPA - mean_gpa)/sd_gpa,2)"
   ]
  },
  {
   "cell_type": "code",
   "execution_count": 4,
   "metadata": {},
   "outputs": [],
   "source": [
    "# mean_SAPC1 = mean(df$SAPC1)\n",
    "# sd_SAPC1 = sd(df$SAPC1)\n",
    "# df$s_SAPC1 = (df$SAPC1 - mean_SAPC1)/sd_SAPC1\n",
    "# mean_SAPC2 = mean(df$SAPC2)\n",
    "# sd_SAPC2 = sd(df$SAPC2)\n",
    "# df$s_SAPC2 = (df$SAPC2 - mean_SAPC2)/sd_SAPC2\n",
    "# mean_SAPC3 = mean(df$SAPC3)\n",
    "# sd_SAPC3 = sd(df$SAPC3)\n",
    "# df$s_SAPC3 = (df$SAPC3 - mean_SAPC3)/sd_SAPC3"
   ]
  },
  {
   "cell_type": "markdown",
   "metadata": {},
   "source": [
    "##  Add No GRE Indicator"
   ]
  },
  {
   "cell_type": "code",
   "execution_count": 5,
   "metadata": {},
   "outputs": [],
   "source": [
    "df$has_gre = C(factor(ifelse(df$GRE.Quant == 0,1,0)),treatment)\n",
    "df$has_gre1 = C(factor(ifelse(df$GRE.Quant == 0,0,1)),treatment)"
   ]
  },
  {
   "cell_type": "markdown",
   "metadata": {},
   "source": [
    "## Seperate by School"
   ]
  },
  {
   "cell_type": "markdown",
   "metadata": {},
   "source": [
    "Different Schools"
   ]
  },
  {
   "cell_type": "code",
   "execution_count": 6,
   "metadata": {},
   "outputs": [],
   "source": [
    "schools = levels(factor(df$College))"
   ]
  },
  {
   "cell_type": "code",
   "execution_count": 7,
   "metadata": {},
   "outputs": [],
   "source": [
    "Harpur_df = df[df$College %in% schools[1:4],]\n",
    "Management_df = df[df$College==\"GD Management\",]\n",
    "Nursing_df = df[df$College==\"GD Nursing\",]\n",
    "Watson_df = df[df$College==\"GD Watson\",]"
   ]
  },
  {
   "cell_type": "code",
   "execution_count": 8,
   "metadata": {
    "scrolled": false
   },
   "outputs": [
    {
     "data": {
      "text/html": [
       "<ol class=list-inline>\n",
       "\t<li>Translation Studies</li>\n",
       "\t<li>Chemistry</li>\n",
       "\t<li>Behavioral Neuroscience</li>\n",
       "\t<li>Cognitive Psychology</li>\n",
       "\t<li>Physics</li>\n",
       "\t<li>Mathematics</li>\n",
       "\t<li>Comparative Literature</li>\n",
       "\t<li>Educational Theory and Practic</li>\n",
       "\t<li>Philosophy Interpretation and</li>\n",
       "\t<li>Biological Sciences</li>\n",
       "\t<li>English</li>\n",
       "\t<li>Materials Science and Engineer</li>\n",
       "\t<li>History</li>\n",
       "\t<li>Anthropology</li>\n",
       "\t<li>Sociology</li>\n",
       "\t<li>Material Sci and Eng-Engineerg</li>\n",
       "\t<li>Clinical Psychology</li>\n",
       "\t<li>Economics</li>\n",
       "\t<li>Geology</li>\n",
       "\t<li>Philosophy SPEL</li>\n",
       "\t<li>Political Science</li>\n",
       "\t<li>Community and Public Affairs</li>\n",
       "\t<li>Art History</li>\n",
       "\t<li>Materials Science and Engr</li>\n",
       "\t<li>Biological Sciences EEB</li>\n",
       "\t<li>X Geology</li>\n",
       "\t<li>Art History Combined MA PhD</li>\n",
       "\t<li>Mechanical Engineering</li>\n",
       "\t<li>Mathematics/Economics</li>\n",
       "</ol>\n",
       "\n",
       "<details>\n",
       "\t<summary style=display:list-item;cursor:pointer>\n",
       "\t\t<strong>Levels</strong>:\n",
       "\t</summary>\n",
       "\t<ol class=list-inline>\n",
       "\t\t<li>'Anthropology'</li>\n",
       "\t\t<li>'Art History'</li>\n",
       "\t\t<li>'Art History Combined MA PhD'</li>\n",
       "\t\t<li>'Behavioral Neuroscience'</li>\n",
       "\t\t<li>'Biological Sciences'</li>\n",
       "\t\t<li>'Biological Sciences EEB'</li>\n",
       "\t\t<li>'Biomedical Engineering'</li>\n",
       "\t\t<li>'Chemistry'</li>\n",
       "\t\t<li>'Clinical Psychology'</li>\n",
       "\t\t<li>'Cognitive Psychology'</li>\n",
       "\t\t<li>'Community and Public Affairs'</li>\n",
       "\t\t<li>'Community Health NP'</li>\n",
       "\t\t<li>'Comparative Literature'</li>\n",
       "\t\t<li>'Computer Science'</li>\n",
       "\t\t<li>'Economics'</li>\n",
       "\t\t<li>'Educational Theory and Practic'</li>\n",
       "\t\t<li>'Electrical and Computer Engr'</li>\n",
       "\t\t<li>'Electrical Engineering'</li>\n",
       "\t\t<li>'English'</li>\n",
       "\t\t<li>'Family Nurse Practitioner'</li>\n",
       "\t\t<li>'Family Psych Mental Health NP'</li>\n",
       "\t\t<li>'Geology'</li>\n",
       "\t\t<li>'History'</li>\n",
       "\t\t<li>'Industrial and Systems Enginee'</li>\n",
       "\t\t<li>'Management PHD'</li>\n",
       "\t\t<li>'Material Sci and Eng-Engineerg'</li>\n",
       "\t\t<li>'Materials Engineering'</li>\n",
       "\t\t<li>'Materials Science and Engineer'</li>\n",
       "\t\t<li>'Materials Science and Engr'</li>\n",
       "\t\t<li>'Mathematics'</li>\n",
       "\t\t<li>'Mathematics/Economics'</li>\n",
       "\t\t<li>'Mechanical Engineering'</li>\n",
       "\t\t<li>'Nursing'</li>\n",
       "\t\t<li>'Philosophy Interpretation and'</li>\n",
       "\t\t<li>'Philosophy SPEL'</li>\n",
       "\t\t<li>'Physics'</li>\n",
       "\t\t<li>'Political Science'</li>\n",
       "\t\t<li>'Sociology'</li>\n",
       "\t\t<li>'Systems Science'</li>\n",
       "\t\t<li>'Systems Science/Biomedical Engineering'</li>\n",
       "\t\t<li>'Systems Science/EE'</li>\n",
       "\t\t<li>'Translation Studies'</li>\n",
       "\t\t<li>'X Geology'</li>\n",
       "\t\t<li>'X Gerontological NP'</li>\n",
       "\t\t<li>'XGerontolog Clin Nurse Special'</li>\n",
       "\t</ol>\n",
       "</details>"
      ],
      "text/latex": [
       "\\begin{enumerate*}\n",
       "\\item Translation Studies\n",
       "\\item Chemistry\n",
       "\\item Behavioral Neuroscience\n",
       "\\item Cognitive Psychology\n",
       "\\item Physics\n",
       "\\item Mathematics\n",
       "\\item Comparative Literature\n",
       "\\item Educational Theory and Practic\n",
       "\\item Philosophy Interpretation and\n",
       "\\item Biological Sciences\n",
       "\\item English\n",
       "\\item Materials Science and Engineer\n",
       "\\item History\n",
       "\\item Anthropology\n",
       "\\item Sociology\n",
       "\\item Material Sci and Eng-Engineerg\n",
       "\\item Clinical Psychology\n",
       "\\item Economics\n",
       "\\item Geology\n",
       "\\item Philosophy SPEL\n",
       "\\item Political Science\n",
       "\\item Community and Public Affairs\n",
       "\\item Art History\n",
       "\\item Materials Science and Engr\n",
       "\\item Biological Sciences EEB\n",
       "\\item X Geology\n",
       "\\item Art History Combined MA PhD\n",
       "\\item Mechanical Engineering\n",
       "\\item Mathematics/Economics\n",
       "\\end{enumerate*}\n",
       "\n",
       "\\emph{Levels}: \\begin{enumerate*}\n",
       "\\item 'Anthropology'\n",
       "\\item 'Art History'\n",
       "\\item 'Art History Combined MA PhD'\n",
       "\\item 'Behavioral Neuroscience'\n",
       "\\item 'Biological Sciences'\n",
       "\\item 'Biological Sciences EEB'\n",
       "\\item 'Biomedical Engineering'\n",
       "\\item 'Chemistry'\n",
       "\\item 'Clinical Psychology'\n",
       "\\item 'Cognitive Psychology'\n",
       "\\item 'Community and Public Affairs'\n",
       "\\item 'Community Health NP'\n",
       "\\item 'Comparative Literature'\n",
       "\\item 'Computer Science'\n",
       "\\item 'Economics'\n",
       "\\item 'Educational Theory and Practic'\n",
       "\\item 'Electrical and Computer Engr'\n",
       "\\item 'Electrical Engineering'\n",
       "\\item 'English'\n",
       "\\item 'Family Nurse Practitioner'\n",
       "\\item 'Family Psych Mental Health NP'\n",
       "\\item 'Geology'\n",
       "\\item 'History'\n",
       "\\item 'Industrial and Systems Enginee'\n",
       "\\item 'Management PHD'\n",
       "\\item 'Material Sci and Eng-Engineerg'\n",
       "\\item 'Materials Engineering'\n",
       "\\item 'Materials Science and Engineer'\n",
       "\\item 'Materials Science and Engr'\n",
       "\\item 'Mathematics'\n",
       "\\item 'Mathematics/Economics'\n",
       "\\item 'Mechanical Engineering'\n",
       "\\item 'Nursing'\n",
       "\\item 'Philosophy Interpretation and'\n",
       "\\item 'Philosophy SPEL'\n",
       "\\item 'Physics'\n",
       "\\item 'Political Science'\n",
       "\\item 'Sociology'\n",
       "\\item 'Systems Science'\n",
       "\\item 'Systems Science/Biomedical Engineering'\n",
       "\\item 'Systems Science/EE'\n",
       "\\item 'Translation Studies'\n",
       "\\item 'X Geology'\n",
       "\\item 'X Gerontological NP'\n",
       "\\item 'XGerontolog Clin Nurse Special'\n",
       "\\end{enumerate*}\n"
      ],
      "text/markdown": [
       "1. Translation Studies\n",
       "2. Chemistry\n",
       "3. Behavioral Neuroscience\n",
       "4. Cognitive Psychology\n",
       "5. Physics\n",
       "6. Mathematics\n",
       "7. Comparative Literature\n",
       "8. Educational Theory and Practic\n",
       "9. Philosophy Interpretation and\n",
       "10. Biological Sciences\n",
       "11. English\n",
       "12. Materials Science and Engineer\n",
       "13. History\n",
       "14. Anthropology\n",
       "15. Sociology\n",
       "16. Material Sci and Eng-Engineerg\n",
       "17. Clinical Psychology\n",
       "18. Economics\n",
       "19. Geology\n",
       "20. Philosophy SPEL\n",
       "21. Political Science\n",
       "22. Community and Public Affairs\n",
       "23. Art History\n",
       "24. Materials Science and Engr\n",
       "25. Biological Sciences EEB\n",
       "26. X Geology\n",
       "27. Art History Combined MA PhD\n",
       "28. Mechanical Engineering\n",
       "29. Mathematics/Economics\n",
       "\n",
       "\n",
       "\n",
       "**Levels**: 1. 'Anthropology'\n",
       "2. 'Art History'\n",
       "3. 'Art History Combined MA PhD'\n",
       "4. 'Behavioral Neuroscience'\n",
       "5. 'Biological Sciences'\n",
       "6. 'Biological Sciences EEB'\n",
       "7. 'Biomedical Engineering'\n",
       "8. 'Chemistry'\n",
       "9. 'Clinical Psychology'\n",
       "10. 'Cognitive Psychology'\n",
       "11. 'Community and Public Affairs'\n",
       "12. 'Community Health NP'\n",
       "13. 'Comparative Literature'\n",
       "14. 'Computer Science'\n",
       "15. 'Economics'\n",
       "16. 'Educational Theory and Practic'\n",
       "17. 'Electrical and Computer Engr'\n",
       "18. 'Electrical Engineering'\n",
       "19. 'English'\n",
       "20. 'Family Nurse Practitioner'\n",
       "21. 'Family Psych Mental Health NP'\n",
       "22. 'Geology'\n",
       "23. 'History'\n",
       "24. 'Industrial and Systems Enginee'\n",
       "25. 'Management PHD'\n",
       "26. 'Material Sci and Eng-Engineerg'\n",
       "27. 'Materials Engineering'\n",
       "28. 'Materials Science and Engineer'\n",
       "29. 'Materials Science and Engr'\n",
       "30. 'Mathematics'\n",
       "31. 'Mathematics/Economics'\n",
       "32. 'Mechanical Engineering'\n",
       "33. 'Nursing'\n",
       "34. 'Philosophy Interpretation and'\n",
       "35. 'Philosophy SPEL'\n",
       "36. 'Physics'\n",
       "37. 'Political Science'\n",
       "38. 'Sociology'\n",
       "39. 'Systems Science'\n",
       "40. 'Systems Science/Biomedical Engineering'\n",
       "41. 'Systems Science/EE'\n",
       "42. 'Translation Studies'\n",
       "43. 'X Geology'\n",
       "44. 'X Gerontological NP'\n",
       "45. 'XGerontolog Clin Nurse Special'\n",
       "\n",
       "\n"
      ],
      "text/plain": [
       " [1] Translation Studies            Chemistry                     \n",
       " [3] Behavioral Neuroscience        Cognitive Psychology          \n",
       " [5] Physics                        Mathematics                   \n",
       " [7] Comparative Literature         Educational Theory and Practic\n",
       " [9] Philosophy Interpretation and  Biological Sciences           \n",
       "[11] English                        Materials Science and Engineer\n",
       "[13] History                        Anthropology                  \n",
       "[15] Sociology                      Material Sci and Eng-Engineerg\n",
       "[17] Clinical Psychology            Economics                     \n",
       "[19] Geology                        Philosophy SPEL               \n",
       "[21] Political Science              Community and Public Affairs  \n",
       "[23] Art History                    Materials Science and Engr    \n",
       "[25] Biological Sciences EEB        X Geology                     \n",
       "[27] Art History Combined MA PhD    Mechanical Engineering        \n",
       "[29] Mathematics/Economics         \n",
       "45 Levels: Anthropology Art History ... XGerontolog Clin Nurse Special"
      ]
     },
     "metadata": {},
     "output_type": "display_data"
    }
   ],
   "source": [
    "unique(Harpur_df$Major)"
   ]
  },
  {
   "cell_type": "code",
   "execution_count": 9,
   "metadata": {},
   "outputs": [],
   "source": [
    "harpur_sciences <- c(\"Chemistry\", \"Behavioral Neuroscience\",\"Cognitive Psychology\",\"Physics\",\"Mathematics\",\n",
    "                     \"Biological Sciences\",\"Materials Science and Engineer\",\"Material Sci and Eng-Engineerg\",\n",
    "                     \"Clinical Psychology\",\"Economics\",\"Geology\",\"Political Science\",\"Materials Science and Engr\",\n",
    "                     \"Biological Sciences EEB\", \"X Geology\",\"Mathematics/Economics\")\n",
    "harpur_arts <- c(\"Comparative Literature\",\"Translation Studies\",\"Educational Theory and Practic\",\n",
    "                 \"Philosophy Interpretation and\", \"English\",\"History\",\"Anthropology\",\"Sociology\",\"Philosophy SPEL\",\n",
    "                 \"Community and Public Affairs\",\"Art History\",\"Art History Combined MA PhD\")"
   ]
  },
  {
   "cell_type": "code",
   "execution_count": 10,
   "metadata": {},
   "outputs": [],
   "source": [
    "Harpur_sciences = Harpur_df[Harpur_df$Major %in% harpur_sciences,]\n",
    "Harpur_arts = Harpur_df[Harpur_df$Major %in% harpur_arts,]"
   ]
  },
  {
   "cell_type": "code",
   "execution_count": 11,
   "metadata": {},
   "outputs": [],
   "source": [
    "Harpur_sciences <- within(Harpur_sciences, Citizenship <- relevel(Citizenship, ref = \"White\"))\n",
    "Harpur_arts <- within(Harpur_arts, Citizenship <- relevel(Citizenship, ref = \"White\"))\n",
    "Management_df <- within(Management_df, Citizenship <- relevel(Citizenship, ref = \"White\"))\n",
    "Watson_df <- within(Watson_df, Citizenship <- relevel(Citizenship, ref = \"White\"))\n",
    "Nursing_df <- within(Nursing_df, Citizenship <- relevel(Citizenship, ref = \"White\"))"
   ]
  },
  {
   "cell_type": "code",
   "execution_count": 12,
   "metadata": {},
   "outputs": [
    {
     "data": {
      "text/html": [
       "861"
      ],
      "text/latex": [
       "861"
      ],
      "text/markdown": [
       "861"
      ],
      "text/plain": [
       "[1] 861"
      ]
     },
     "metadata": {},
     "output_type": "display_data"
    },
    {
     "data": {
      "text/html": [
       "918"
      ],
      "text/latex": [
       "918"
      ],
      "text/markdown": [
       "918"
      ],
      "text/plain": [
       "[1] 918"
      ]
     },
     "metadata": {},
     "output_type": "display_data"
    },
    {
     "data": {
      "text/html": [
       "1780"
      ],
      "text/latex": [
       "1780"
      ],
      "text/markdown": [
       "1780"
      ],
      "text/plain": [
       "[1] 1780"
      ]
     },
     "metadata": {},
     "output_type": "display_data"
    }
   ],
   "source": [
    "dim(Harpur_sciences)[1]\n",
    "dim(Harpur_arts)[1]\n",
    "dim(Harpur_df)[1]"
   ]
  },
  {
   "cell_type": "code",
   "execution_count": 13,
   "metadata": {
    "scrolled": false
   },
   "outputs": [
    {
     "data": {
      "text/html": [
       "<table>\n",
       "<thead><tr><th scope=col>School</th><th scope=col>Total</th><th scope=col>Successful.Graduates</th><th scope=col>Unsuccessful.Graduates</th></tr></thead>\n",
       "<tbody>\n",
       "\t<tr><td>Harpur sciences</td><td>861            </td><td>542            </td><td>319            </td></tr>\n",
       "\t<tr><td>Harpur_arts    </td><td>918            </td><td>534            </td><td>384            </td></tr>\n",
       "\t<tr><td>SOM            </td><td> 58            </td><td> 38            </td><td> 20            </td></tr>\n",
       "\t<tr><td>Nursing        </td><td>117            </td><td> 72            </td><td> 45            </td></tr>\n",
       "\t<tr><td>Watson         </td><td>515            </td><td>343            </td><td>172            </td></tr>\n",
       "</tbody>\n",
       "</table>\n"
      ],
      "text/latex": [
       "\\begin{tabular}{r|llll}\n",
       " School & Total & Successful.Graduates & Unsuccessful.Graduates\\\\\n",
       "\\hline\n",
       "\t Harpur sciences & 861             & 542             & 319            \\\\\n",
       "\t Harpur\\_arts     & 918               & 534               & 384              \\\\\n",
       "\t SOM             &  58             &  38             &  20            \\\\\n",
       "\t Nursing         & 117             &  72             &  45            \\\\\n",
       "\t Watson          & 515             & 343             & 172            \\\\\n",
       "\\end{tabular}\n"
      ],
      "text/markdown": [
       "\n",
       "| School | Total | Successful.Graduates | Unsuccessful.Graduates |\n",
       "|---|---|---|---|\n",
       "| Harpur sciences | 861             | 542             | 319             |\n",
       "| Harpur_arts     | 918             | 534             | 384             |\n",
       "| SOM             |  58             |  38             |  20             |\n",
       "| Nursing         | 117             |  72             |  45             |\n",
       "| Watson          | 515             | 343             | 172             |\n",
       "\n"
      ],
      "text/plain": [
       "  School          Total Successful.Graduates Unsuccessful.Graduates\n",
       "1 Harpur sciences 861   542                  319                   \n",
       "2 Harpur_arts     918   534                  384                   \n",
       "3 SOM              58    38                   20                   \n",
       "4 Nursing         117    72                   45                   \n",
       "5 Watson          515   343                  172                   "
      ]
     },
     "metadata": {},
     "output_type": "display_data"
    }
   ],
   "source": [
    "a_n = dim(Harpur_sciences)[1]\n",
    "a_1 = sum(Harpur_sciences$Y)\n",
    "a_0 = a_n - a_1\n",
    "b_n = dim(Harpur_arts)[1]\n",
    "b_1 = sum(Harpur_arts$Y)\n",
    "b_0 = b_n - b_1\n",
    "c_n = dim(Management_df)[1]\n",
    "c_1 = sum(Management_df$Y)\n",
    "c_0 = c_n - c_1\n",
    "d_n = dim(Nursing_df)[1]\n",
    "d_1 = sum(Nursing_df$Y)\n",
    "d_0 = d_n - d_1\n",
    "e_n = dim(Watson_df)[1]\n",
    "e_1 = sum(Watson_df$Y)\n",
    "e_0 = e_n - e_1\n",
    "School = c(\"Harpur sciences\",\"Harpur_arts\",\"SOM\",\"Nursing\",\"Watson\")\n",
    "sch_total = c(a_n,b_n,c_n,d_n,e_n)\n",
    "succ_total = c(a_1,b_1,c_1,d_1,e_1)\n",
    "unsucc_total = c(a_0,b_0,c_0,d_0,e_0)\n",
    "data.frame(\"School\"=School,\"Total\"=sch_total,\"Successful Graduates\"=succ_total,\"Unsuccessful Graduates\"=unsucc_total)"
   ]
  },
  {
   "cell_type": "code",
   "execution_count": 14,
   "metadata": {},
   "outputs": [],
   "source": [
    "Harpur_sciences$college_1 = 1\n",
    "Harpur_arts$college_1 = 2\n",
    "Management_df$college_1 = 3\n",
    "Watson_df$college_1 = 4\n",
    "Nursing_df$college_1 = 5\n",
    "df1 = rbind(Harpur_sciences, Harpur_arts, Management_df, Watson_df, Nursing_df)"
   ]
  },
  {
   "cell_type": "markdown",
   "metadata": {},
   "source": [
    "# Harpur Sciences Analysis"
   ]
  },
  {
   "cell_type": "markdown",
   "metadata": {},
   "source": [
    "Won't use Degree column since it does not accurately show the student's major"
   ]
  },
  {
   "cell_type": "markdown",
   "metadata": {},
   "source": [
    "<b> Logistic regression model:"
   ]
  },
  {
   "cell_type": "code",
   "execution_count": 15,
   "metadata": {},
   "outputs": [],
   "source": [
    "log_mod_h_s = glm(Y~s_start_age+factor(Gender)+s_start_year+factor(funding_indicator)+factor(Citizenship)+\n",
    "                avs_net_cost+Precol.GPA+ factor(gap_indicator)+GPA_trend+average_gpa+\n",
    "                +factor(has_gre)+factor(has_gre1)*GRE_Write+factor(has_gre1)*GRE.Quant+factor(has_gre1)*GRE.Verbal,\n",
    "                data=Harpur_sciences,family=\"binomial\")\n",
    "# round(summary(log_mod_h_s)$coeff[which(summary(log_mod_h_s)$coef[,4] <= .05),c(1,4)],5)"
   ]
  },
  {
   "cell_type": "markdown",
   "metadata": {},
   "source": [
    "<b> Both BIC"
   ]
  },
  {
   "cell_type": "code",
   "execution_count": 16,
   "metadata": {},
   "outputs": [],
   "source": [
    "log_mod_h_s_bic = stepAIC(log_mod_h_s, direction = \"both\", k = log(b_n),trace=0)"
   ]
  },
  {
   "cell_type": "code",
   "execution_count": 17,
   "metadata": {
    "scrolled": true
   },
   "outputs": [
    {
     "data": {
      "text/html": [
       "<table>\n",
       "<thead><tr><th></th><th scope=col>Estimate</th><th scope=col>Pr(&gt;|z|)</th></tr></thead>\n",
       "<tbody>\n",
       "\t<tr><th scope=row>s_start_year</th><td>-1.33439</td><td>0.00000 </td></tr>\n",
       "\t<tr><th scope=row>factor(funding_indicator)1</th><td> 1.10597</td><td>0.00001 </td></tr>\n",
       "\t<tr><th scope=row>avs_net_cost</th><td> 0.40391</td><td>0.00083 </td></tr>\n",
       "\t<tr><th scope=row>average_gpa</th><td> 0.41468</td><td>0.00001 </td></tr>\n",
       "</tbody>\n",
       "</table>\n"
      ],
      "text/latex": [
       "\\begin{tabular}{r|ll}\n",
       "  & Estimate & Pr(>\\textbar{}z\\textbar{})\\\\\n",
       "\\hline\n",
       "\ts\\_start\\_year & -1.33439 & 0.00000 \\\\\n",
       "\tfactor(funding\\_indicator)1 &  1.10597 & 0.00001 \\\\\n",
       "\tavs\\_net\\_cost &  0.40391 & 0.00083 \\\\\n",
       "\taverage\\_gpa &  0.41468 & 0.00001 \\\\\n",
       "\\end{tabular}\n"
      ],
      "text/markdown": [
       "\n",
       "| <!--/--> | Estimate | Pr(>|z|) |\n",
       "|---|---|---|\n",
       "| s_start_year | -1.33439 | 0.00000  |\n",
       "| factor(funding_indicator)1 |  1.10597 | 0.00001  |\n",
       "| avs_net_cost |  0.40391 | 0.00083  |\n",
       "| average_gpa |  0.41468 | 0.00001  |\n",
       "\n"
      ],
      "text/plain": [
       "                           Estimate Pr(>|z|)\n",
       "s_start_year               -1.33439 0.00000 \n",
       "factor(funding_indicator)1  1.10597 0.00001 \n",
       "avs_net_cost                0.40391 0.00083 \n",
       "average_gpa                 0.41468 0.00001 "
      ]
     },
     "metadata": {},
     "output_type": "display_data"
    }
   ],
   "source": [
    "round(summary(log_mod_h_s_bic)$coeff[which(summary(log_mod_h_s_bic)$coef[,4] <= .05),c(1,4)],5)"
   ]
  },
  {
   "cell_type": "code",
   "execution_count": 18,
   "metadata": {},
   "outputs": [
    {
     "data": {
      "text/plain": [
       "\n",
       "Call:\n",
       "glm(formula = Y ~ s_start_year + factor(funding_indicator) + \n",
       "    avs_net_cost + average_gpa, family = \"binomial\", data = Harpur_sciences)\n",
       "\n",
       "Deviance Residuals: \n",
       "    Min       1Q   Median       3Q      Max  \n",
       "-3.3969  -0.9619   0.5772   0.8600   2.2088  \n",
       "\n",
       "Coefficients:\n",
       "                           Estimate Std. Error z value Pr(>|z|)    \n",
       "(Intercept)                -0.05770    0.21340  -0.270  0.78685    \n",
       "s_start_year               -1.33439    0.12875 -10.364  < 2e-16 ***\n",
       "factor(funding_indicator)1  1.10597    0.24726   4.473 7.72e-06 ***\n",
       "avs_net_cost                0.40391    0.12083   3.343  0.00083 ***\n",
       "average_gpa                 0.41468    0.09543   4.345 1.39e-05 ***\n",
       "---\n",
       "Signif. codes:  0 '***' 0.001 '**' 0.01 '*' 0.05 '.' 0.1 ' ' 1\n",
       "\n",
       "(Dispersion parameter for binomial family taken to be 1)\n",
       "\n",
       "    Null deviance: 1135.18  on 860  degrees of freedom\n",
       "Residual deviance:  962.76  on 856  degrees of freedom\n",
       "AIC: 972.76\n",
       "\n",
       "Number of Fisher Scoring iterations: 4\n"
      ]
     },
     "metadata": {},
     "output_type": "display_data"
    }
   ],
   "source": [
    "summary(log_mod_h_s_bic)"
   ]
  },
  {
   "cell_type": "markdown",
   "metadata": {},
   "source": [
    "# Harpur Arts Analysis"
   ]
  },
  {
   "cell_type": "markdown",
   "metadata": {},
   "source": [
    "<b> Logistic regression model:"
   ]
  },
  {
   "cell_type": "code",
   "execution_count": 19,
   "metadata": {
    "scrolled": false
   },
   "outputs": [],
   "source": [
    "log_mod_h_a = glm(Y~s_start_age+factor(Gender)+s_start_year+factor(funding_indicator)+factor(Citizenship)+\n",
    "                avs_net_cost+Precol.GPA+ factor(gap_indicator)+GPA_trend+average_gpa+\n",
    "                +factor(has_gre)+factor(has_gre1)*GRE_Write+factor(has_gre1)*GRE.Quant+factor(has_gre1)*GRE.Verbal,\n",
    "                data=Harpur_arts,family=\"binomial\")"
   ]
  },
  {
   "cell_type": "markdown",
   "metadata": {},
   "source": [
    "<b> Both AIC:"
   ]
  },
  {
   "cell_type": "code",
   "execution_count": 20,
   "metadata": {},
   "outputs": [],
   "source": [
    "# log_mod_h_a_aic = stepAIC(log_mod_h_a, direction = 'both')\n",
    "# round(summary(log_mod_h_a_aic)$coeff[which(summary(log_mod_h_a_aic)$coef[,4] <= .05),c(1,4)],5)"
   ]
  },
  {
   "cell_type": "markdown",
   "metadata": {},
   "source": [
    "<b> Both BIC"
   ]
  },
  {
   "cell_type": "code",
   "execution_count": 21,
   "metadata": {
    "scrolled": false
   },
   "outputs": [],
   "source": [
    "log_mod_h_a_bic = stepAIC(log_mod_h_a, direction = \"both\", k = log(b_n),trace=0)"
   ]
  },
  {
   "cell_type": "markdown",
   "metadata": {},
   "source": [
    "<b> Significant variables both BIC selects:"
   ]
  },
  {
   "cell_type": "code",
   "execution_count": 22,
   "metadata": {},
   "outputs": [
    {
     "data": {
      "text/plain": [
       "\n",
       "Call:\n",
       "glm(formula = Y ~ s_start_year + factor(funding_indicator) + \n",
       "    average_gpa + factor(has_gre), family = \"binomial\", data = Harpur_arts)\n",
       "\n",
       "Deviance Residuals: \n",
       "    Min       1Q   Median       3Q      Max  \n",
       "-1.8295  -1.1350   0.7538   0.9647   1.8477  \n",
       "\n",
       "Coefficients:\n",
       "                           Estimate Std. Error z value Pr(>|z|)    \n",
       "(Intercept)                -0.74585    0.18548  -4.021 5.79e-05 ***\n",
       "s_start_year               -0.25131    0.08054  -3.120 0.001806 ** \n",
       "factor(funding_indicator)1  0.67883    0.17227   3.941 8.13e-05 ***\n",
       "average_gpa                 0.31227    0.09436   3.309 0.000935 ***\n",
       "factor(has_gre)1            0.89446    0.18848   4.746 2.08e-06 ***\n",
       "---\n",
       "Signif. codes:  0 '***' 0.001 '**' 0.01 '*' 0.05 '.' 0.1 ' ' 1\n",
       "\n",
       "(Dispersion parameter for binomial family taken to be 1)\n",
       "\n",
       "    Null deviance: 1248.0  on 917  degrees of freedom\n",
       "Residual deviance: 1158.9  on 913  degrees of freedom\n",
       "AIC: 1168.9\n",
       "\n",
       "Number of Fisher Scoring iterations: 4\n"
      ]
     },
     "metadata": {},
     "output_type": "display_data"
    }
   ],
   "source": [
    "summary(log_mod_h_a_bic)"
   ]
  },
  {
   "cell_type": "markdown",
   "metadata": {},
   "source": [
    "# Management Analysis"
   ]
  },
  {
   "cell_type": "markdown",
   "metadata": {},
   "source": [
    "<b> Logistic regression model:"
   ]
  },
  {
   "cell_type": "code",
   "execution_count": 23,
   "metadata": {},
   "outputs": [],
   "source": [
    "log_mod_m = glm(Y~s_start_age+factor(Gender)+s_start_year+factor(Citizenship)+\n",
    "                avs_net_cost+Precol.GPA+ factor(gap_indicator)+GPA_trend+average_gpa+\n",
    "                +factor(has_gre)+factor(has_gre1)*GRE_Write+factor(has_gre1)*GRE.Quant+factor(has_gre1)*GRE.Verbal,\n",
    "                data=Management_df,family=\"binomial\")"
   ]
  },
  {
   "cell_type": "markdown",
   "metadata": {},
   "source": [
    "<b> Both BIC:"
   ]
  },
  {
   "cell_type": "code",
   "execution_count": 24,
   "metadata": {
    "scrolled": false
   },
   "outputs": [],
   "source": [
    "log_mod_m_bic = stepAIC(log_mod_m, direction = \"both\", k = log(c_n),trace=0)"
   ]
  },
  {
   "cell_type": "markdown",
   "metadata": {},
   "source": [
    "<b> Significant variables both BIC selects:"
   ]
  },
  {
   "cell_type": "code",
   "execution_count": 25,
   "metadata": {},
   "outputs": [
    {
     "data": {
      "text/html": [
       "<table>\n",
       "<thead><tr><th></th><th scope=col>Estimate</th><th scope=col>Pr(&gt;|z|)</th></tr></thead>\n",
       "<tbody>\n",
       "\t<tr><th scope=row>(Intercept)</th><td>-2.62893</td><td>0.00680 </td></tr>\n",
       "\t<tr><th scope=row>s_start_age</th><td> 2.00724</td><td>0.02719 </td></tr>\n",
       "\t<tr><th scope=row>average_gpa</th><td> 7.07830</td><td>0.00028 </td></tr>\n",
       "\t<tr><th scope=row>factor(has_gre)1</th><td> 3.13347</td><td>0.00263 </td></tr>\n",
       "</tbody>\n",
       "</table>\n"
      ],
      "text/latex": [
       "\\begin{tabular}{r|ll}\n",
       "  & Estimate & Pr(>\\textbar{}z\\textbar{})\\\\\n",
       "\\hline\n",
       "\t(Intercept) & -2.62893 & 0.00680 \\\\\n",
       "\ts\\_start\\_age &  2.00724 & 0.02719 \\\\\n",
       "\taverage\\_gpa &  7.07830 & 0.00028 \\\\\n",
       "\tfactor(has\\_gre)1 &  3.13347 & 0.00263 \\\\\n",
       "\\end{tabular}\n"
      ],
      "text/markdown": [
       "\n",
       "| <!--/--> | Estimate | Pr(>|z|) |\n",
       "|---|---|---|\n",
       "| (Intercept) | -2.62893 | 0.00680  |\n",
       "| s_start_age |  2.00724 | 0.02719  |\n",
       "| average_gpa |  7.07830 | 0.00028  |\n",
       "| factor(has_gre)1 |  3.13347 | 0.00263  |\n",
       "\n"
      ],
      "text/plain": [
       "                 Estimate Pr(>|z|)\n",
       "(Intercept)      -2.62893 0.00680 \n",
       "s_start_age       2.00724 0.02719 \n",
       "average_gpa       7.07830 0.00028 \n",
       "factor(has_gre)1  3.13347 0.00263 "
      ]
     },
     "metadata": {},
     "output_type": "display_data"
    },
    {
     "data": {
      "text/plain": [
       "\n",
       "Call:\n",
       "glm(formula = Y ~ s_start_age + average_gpa + factor(has_gre), \n",
       "    family = \"binomial\", data = Management_df)\n",
       "\n",
       "Deviance Residuals: \n",
       "    Min       1Q   Median       3Q      Max  \n",
       "-2.1868  -0.5733   0.2320   0.5893   1.9024  \n",
       "\n",
       "Coefficients:\n",
       "                 Estimate Std. Error z value Pr(>|z|)    \n",
       "(Intercept)       -2.6289     0.9714  -2.706 0.006803 ** \n",
       "s_start_age        2.0072     0.9087   2.209 0.027186 *  \n",
       "average_gpa        7.0783     1.9458   3.638 0.000275 ***\n",
       "factor(has_gre)1   3.1335     1.0416   3.008 0.002626 ** \n",
       "---\n",
       "Signif. codes:  0 '***' 0.001 '**' 0.01 '*' 0.05 '.' 0.1 ' ' 1\n",
       "\n",
       "(Dispersion parameter for binomial family taken to be 1)\n",
       "\n",
       "    Null deviance: 74.726  on 57  degrees of freedom\n",
       "Residual deviance: 41.303  on 54  degrees of freedom\n",
       "AIC: 49.303\n",
       "\n",
       "Number of Fisher Scoring iterations: 6\n"
      ]
     },
     "metadata": {},
     "output_type": "display_data"
    }
   ],
   "source": [
    "round(summary(log_mod_m_bic)$coeff[which(summary(log_mod_m_bic)$coef[,4] <= .05),c(1,4)],5)\n",
    "summary(log_mod_m_bic)"
   ]
  },
  {
   "cell_type": "markdown",
   "metadata": {},
   "source": [
    "# Nursing Analysis"
   ]
  },
  {
   "cell_type": "markdown",
   "metadata": {},
   "source": [
    "<b> Logistic regression model:"
   ]
  },
  {
   "cell_type": "code",
   "execution_count": 26,
   "metadata": {},
   "outputs": [],
   "source": [
    "log_mod_n = glm(Y~s_start_age+factor(Gender)+s_start_year+factor(funding_indicator)+\n",
    "                avs_net_cost+Precol.GPA+ factor(gap_indicator)+GPA_trend+average_gpa+\n",
    "                +factor(has_gre1)*GRE_Write+factor(has_gre1)*GRE.Quant+factor(has_gre1)*GRE.Verbal,\n",
    "                data=Nursing_df,family=\"binomial\")"
   ]
  },
  {
   "cell_type": "markdown",
   "metadata": {},
   "source": [
    "<b> Both BIC:"
   ]
  },
  {
   "cell_type": "code",
   "execution_count": 27,
   "metadata": {
    "scrolled": false
   },
   "outputs": [
    {
     "name": "stderr",
     "output_type": "stream",
     "text": [
      "Warning message:\n",
      "\"glm.fit: fitted probabilities numerically 0 or 1 occurred\""
     ]
    }
   ],
   "source": [
    "log_mod_n_bic = stepAIC(log_mod_n, direction = \"both\", k = log(d_n),trace=0)"
   ]
  },
  {
   "cell_type": "code",
   "execution_count": 28,
   "metadata": {},
   "outputs": [
    {
     "data": {
      "text/plain": [
       "\n",
       "Call:\n",
       "glm(formula = Y ~ s_start_year + average_gpa + factor(has_gre1), \n",
       "    family = \"binomial\", data = Nursing_df)\n",
       "\n",
       "Deviance Residuals: \n",
       "    Min       1Q   Median       3Q      Max  \n",
       "-2.1675  -1.0764   0.3518   0.9639   2.4148  \n",
       "\n",
       "Coefficients:\n",
       "                   Estimate Std. Error z value Pr(>|z|)   \n",
       "(Intercept)          0.5469     0.2602   2.102  0.03557 * \n",
       "s_start_year        -0.7407     0.2732  -2.711  0.00671 **\n",
       "average_gpa          0.6010     0.3179   1.890  0.05871 . \n",
       "factor(has_gre1)1   17.4553  1181.6295   0.015  0.98821   \n",
       "---\n",
       "Signif. codes:  0 '***' 0.001 '**' 0.01 '*' 0.05 '.' 0.1 ' ' 1\n",
       "\n",
       "(Dispersion parameter for binomial family taken to be 1)\n",
       "\n",
       "    Null deviance: 155.91  on 116  degrees of freedom\n",
       "Residual deviance: 126.66  on 113  degrees of freedom\n",
       "AIC: 134.66\n",
       "\n",
       "Number of Fisher Scoring iterations: 16\n"
      ]
     },
     "metadata": {},
     "output_type": "display_data"
    }
   ],
   "source": [
    "summary(log_mod_n_bic)"
   ]
  },
  {
   "cell_type": "markdown",
   "metadata": {},
   "source": [
    "# Watson Analysis "
   ]
  },
  {
   "cell_type": "markdown",
   "metadata": {},
   "source": [
    "<b> Logistic regression model:"
   ]
  },
  {
   "cell_type": "code",
   "execution_count": 29,
   "metadata": {},
   "outputs": [],
   "source": [
    "log_mod_w = glm(Y~s_start_age+factor(Gender)+s_start_year+factor(funding_indicator)+factor(Citizenship)+\n",
    "                avs_net_cost+Precol.GPA+ factor(gap_indicator)+GPA_trend+average_gpa+\n",
    "                +factor(has_gre)+factor(has_gre1)*GRE_Write+factor(has_gre1)*GRE.Quant+factor(has_gre1)*GRE.Verbal,\n",
    "                data=Watson_df,family=\"binomial\")"
   ]
  },
  {
   "cell_type": "markdown",
   "metadata": {},
   "source": [
    "<b> Both BIC:"
   ]
  },
  {
   "cell_type": "code",
   "execution_count": 30,
   "metadata": {
    "scrolled": false
   },
   "outputs": [],
   "source": [
    "log_mod_w_bic = stepAIC(log_mod_w, direction = \"both\", k = log(e_n),trace=0)"
   ]
  },
  {
   "cell_type": "markdown",
   "metadata": {},
   "source": [
    "<b> Significant variables both BIC selects:"
   ]
  },
  {
   "cell_type": "code",
   "execution_count": 31,
   "metadata": {
    "scrolled": false
   },
   "outputs": [
    {
     "data": {
      "text/plain": [
       "\n",
       "Call:\n",
       "glm(formula = Y ~ s_start_year + factor(funding_indicator) + \n",
       "    avs_net_cost, family = \"binomial\", data = Watson_df)\n",
       "\n",
       "Deviance Residuals: \n",
       "    Min       1Q   Median       3Q      Max  \n",
       "-2.8893  -0.9101   0.5567   0.8484   1.7719  \n",
       "\n",
       "Coefficients:\n",
       "                           Estimate Std. Error z value Pr(>|z|)    \n",
       "(Intercept)                 -0.5034     0.2001  -2.516   0.0119 *  \n",
       "s_start_year                -1.0004     0.1437  -6.963 3.34e-12 ***\n",
       "factor(funding_indicator)1   2.0988     0.2644   7.939 2.04e-15 ***\n",
       "avs_net_cost                 0.3515     0.1548   2.270   0.0232 *  \n",
       "---\n",
       "Signif. codes:  0 '***' 0.001 '**' 0.01 '*' 0.05 '.' 0.1 ' ' 1\n",
       "\n",
       "(Dispersion parameter for binomial family taken to be 1)\n",
       "\n",
       "    Null deviance: 656.07  on 514  degrees of freedom\n",
       "Residual deviance: 551.63  on 511  degrees of freedom\n",
       "AIC: 559.63\n",
       "\n",
       "Number of Fisher Scoring iterations: 4\n"
      ]
     },
     "metadata": {},
     "output_type": "display_data"
    }
   ],
   "source": [
    "summary(log_mod_w_bic)"
   ]
  },
  {
   "cell_type": "code",
   "execution_count": 32,
   "metadata": {},
   "outputs": [
    {
     "data": {
      "text/html": [
       "<strong>1:</strong> 0.376746828488915"
      ],
      "text/latex": [
       "\\textbf{1:} 0.376746828488915"
      ],
      "text/markdown": [
       "**1:** 0.376746828488915"
      ],
      "text/plain": [
       "        1 \n",
       "0.3767468 "
      ]
     },
     "metadata": {},
     "output_type": "display_data"
    }
   ],
   "source": [
    "yyy = mean(df$s_start_year)\n",
    "fi = 0\n",
    "cost = mean(df$avs_net_cost)\n",
    "ggg = data.frame(\"s_start_year\"=yyy,\"funding_indicator\"=fi,\"avs_net_cost\"=cost)\n",
    "predict(log_mod_w_bic, newdata=ggg,type=\"response\")"
   ]
  },
  {
   "cell_type": "code",
   "execution_count": 33,
   "metadata": {},
   "outputs": [
    {
     "data": {
      "text/html": [
       "<strong>1:</strong> 0.376746828488915"
      ],
      "text/latex": [
       "\\textbf{1:} 0.376746828488915"
      ],
      "text/markdown": [
       "**1:** 0.376746828488915"
      ],
      "text/plain": [
       "        1 \n",
       "0.3767468 "
      ]
     },
     "metadata": {},
     "output_type": "display_data"
    }
   ],
   "source": [
    "predict(log_mod_w_bic, newdata=ggg,type=\"response\")"
   ]
  },
  {
   "cell_type": "code",
   "execution_count": 34,
   "metadata": {},
   "outputs": [
    {
     "data": {
      "text/html": [
       "1096.63315842846"
      ],
      "text/latex": [
       "1096.63315842846"
      ],
      "text/markdown": [
       "1096.63315842846"
      ],
      "text/plain": [
       "[1] 1096.633"
      ]
     },
     "metadata": {},
     "output_type": "display_data"
    },
    {
     "data": {
      "text/html": [
       "0.999088948805599"
      ],
      "text/latex": [
       "0.999088948805599"
      ],
      "text/markdown": [
       "0.999088948805599"
      ],
      "text/plain": [
       "[1] 0.9990889"
      ]
     },
     "metadata": {},
     "output_type": "display_data"
    }
   ],
   "source": [
    "(odds = exp(7))\n",
    "(odds)/(1+odds)"
   ]
  },
  {
   "cell_type": "code",
   "execution_count": 35,
   "metadata": {},
   "outputs": [
    {
     "data": {
      "text/html": [
       "0.778985749108035"
      ],
      "text/latex": [
       "0.778985749108035"
      ],
      "text/markdown": [
       "0.778985749108035"
      ],
      "text/plain": [
       "[1] 0.7789857"
      ]
     },
     "metadata": {},
     "output_type": "display_data"
    }
   ],
   "source": [
    "sd(df$Average_GPA)"
   ]
  },
  {
   "cell_type": "markdown",
   "metadata": {},
   "source": [
    "# Joint Analysis"
   ]
  },
  {
   "cell_type": "markdown",
   "metadata": {},
   "source": [
    "<b> Logistic regression model:"
   ]
  },
  {
   "cell_type": "code",
   "execution_count": 36,
   "metadata": {},
   "outputs": [],
   "source": [
    "# int_chn = function(x) ifelse(x=='China',1,0)\n",
    "# int_afc = function(x) ifelse(x=='Africa',1,0)\n",
    "# int_asia = function(x) ifelse(x=='Asia',1,0)\n",
    "# df <- within(df, s_Citizenship <- relevel(s_Citizenship, ref = \"White\"))\n",
    "# df <- within(df, s_College <- relevel(s_College, ref = \"GD Non-Harpur\"))"
   ]
  },
  {
   "cell_type": "code",
   "execution_count": 37,
   "metadata": {},
   "outputs": [],
   "source": [
    "df1$Citizenship = C(df1$Citizenship,sum)\n",
    "df1$college <- C(factor(df1$college_1),sum)"
   ]
  },
  {
   "cell_type": "code",
   "execution_count": 38,
   "metadata": {},
   "outputs": [],
   "source": [
    "df1$ha_wa = C(factor(ifelse(df1$college_1 %in% c(1,5),1,0)),sum)\n",
    "df1$is_som = C(factor(ifelse(df1$college_1 == 3,1,0)),sum)\n",
    "df1$a_s_n = C(factor(ifelse(df1$college_1 %in% c(2,3,4),1,0)),sum)\n",
    "df1$is_nurse = C(factor(ifelse(df1$college_1 == 4,1,0)),sum)"
   ]
  },
  {
   "cell_type": "code",
   "execution_count": 39,
   "metadata": {},
   "outputs": [],
   "source": [
    "df1$has_gre = C(df1$has_gre,treatment)"
   ]
  },
  {
   "cell_type": "code",
   "execution_count": 40,
   "metadata": {},
   "outputs": [],
   "source": [
    "log_mod_total = glm(Y~s_start_age+factor(Gender)+s_start_year+factor(funding_indicator)+factor(Citizenship)+\n",
    "                avs_net_cost+Precol.GPA+ factor(gap_indicator)+GPA_trend+average_gpa+\n",
    "                +factor(has_gre)+GRE_Write+GRE.Quant+GRE.Verbal+college,\n",
    "                data=df1,family=\"binomial\")"
   ]
  },
  {
   "cell_type": "markdown",
   "metadata": {},
   "source": [
    "<b> Both BIC:"
   ]
  },
  {
   "cell_type": "code",
   "execution_count": 41,
   "metadata": {
    "scrolled": false
   },
   "outputs": [],
   "source": [
    "log_mod_total_bic = stepAIC(log_mod_total, direction = \"both\", k = log(e_n),trace=0)"
   ]
  },
  {
   "cell_type": "markdown",
   "metadata": {},
   "source": [
    "<b>Significant variables both BIC selects:"
   ]
  },
  {
   "cell_type": "code",
   "execution_count": 42,
   "metadata": {
    "scrolled": false
   },
   "outputs": [
    {
     "data": {
      "text/plain": [
       "\n",
       "Call:\n",
       "glm(formula = Y ~ s_start_year + factor(funding_indicator) + \n",
       "    avs_net_cost + Precol.GPA + GPA_trend + average_gpa + factor(has_gre) + \n",
       "    GRE_Write + college, family = \"binomial\", data = df1)\n",
       "\n",
       "Deviance Residuals: \n",
       "    Min       1Q   Median       3Q      Max  \n",
       "-2.5970  -1.0903   0.6496   0.9174   2.1561  \n",
       "\n",
       "Coefficients:\n",
       "                            Estimate Std. Error z value Pr(>|z|)    \n",
       "(Intercept)                -0.351975   0.144814  -2.431  0.01508 *  \n",
       "s_start_year               -0.595698   0.067106  -8.877  < 2e-16 ***\n",
       "factor(funding_indicator)1  0.966458   0.117345   8.236  < 2e-16 ***\n",
       "avs_net_cost                0.154880   0.048185   3.214  0.00131 ** \n",
       "Precol.GPA                  0.131529   0.046570   2.824  0.00474 ** \n",
       "GPA_trend                   0.875739   0.272290   3.216  0.00130 ** \n",
       "average_gpa                 0.337687   0.051908   6.505 7.75e-11 ***\n",
       "factor(has_gre)1            0.496923   0.120302   4.131 3.62e-05 ***\n",
       "GRE_Write                  -0.136074   0.045995  -2.958  0.00309 ** \n",
       "college1                    0.006614   0.101583   0.065  0.94809    \n",
       "college2                   -0.418034   0.102320  -4.086 4.40e-05 ***\n",
       "college3                   -0.057237   0.238802  -0.240  0.81057    \n",
       "college4                    0.239967   0.113658   2.111  0.03475 *  \n",
       "---\n",
       "Signif. codes:  0 '***' 0.001 '**' 0.01 '*' 0.05 '.' 0.1 ' ' 1\n",
       "\n",
       "(Dispersion parameter for binomial family taken to be 1)\n",
       "\n",
       "    Null deviance: 3280.9  on 2468  degrees of freedom\n",
       "Residual deviance: 2924.8  on 2456  degrees of freedom\n",
       "AIC: 2950.8\n",
       "\n",
       "Number of Fisher Scoring iterations: 4\n"
      ]
     },
     "metadata": {},
     "output_type": "display_data"
    }
   ],
   "source": [
    "summary(log_mod_total_bic)"
   ]
  },
  {
   "cell_type": "code",
   "execution_count": 52,
   "metadata": {},
   "outputs": [
    {
     "data": {
      "text/plain": [
       "\n",
       "Call:\n",
       "lm(formula = Y ~ college, data = df1)\n",
       "\n",
       "Residuals:\n",
       "    Min      1Q  Median      3Q     Max \n",
       "-0.6660 -0.5817  0.3340  0.3705  0.4183 \n",
       "\n",
       "Coefficients:\n",
       "              Estimate Std. Error t value Pr(>|t|)    \n",
       "(Intercept)  6.296e-01  1.679e-02  37.485   <2e-16 ***\n",
       "college1    -5.469e-05  2.112e-02  -0.003    0.998    \n",
       "college2    -4.786e-02  2.088e-02  -2.292    0.022 *  \n",
       "college3     2.562e-02  5.211e-02   0.492    0.623    \n",
       "college4     3.646e-02  2.358e-02   1.546    0.122    \n",
       "---\n",
       "Signif. codes:  0 '***' 0.001 '**' 0.01 '*' 0.05 '.' 0.1 ' ' 1\n",
       "\n",
       "Residual standard error: 0.485 on 2464 degrees of freedom\n",
       "Multiple R-squared:  0.004446,\tAdjusted R-squared:  0.00283 \n",
       "F-statistic: 2.751 on 4 and 2464 DF,  p-value: 0.02675\n"
      ]
     },
     "metadata": {},
     "output_type": "display_data"
    },
    {
     "ename": "ERROR",
     "evalue": "Error in UseMethod(\"TukeyHSD\"): \"TukeyHSD\"没有适用于\"formula\"目标对象的方法\n",
     "output_type": "error",
     "traceback": [
      "Error in UseMethod(\"TukeyHSD\"): \"TukeyHSD\"没有适用于\"formula\"目标对象的方法\nTraceback:\n",
      "1. TukeyHSD(Y ~ s_start_age + factor(Gender) + s_start_year + factor(funding_indicator) + \n .     factor(Citizenship) + avs_net_cost + Precol.GPA + factor(gap_indicator) + \n .     GPA_trend + average_gpa + +factor(has_gre) + GRE_Write + \n .     GRE.Quant + GRE.Verbal + college, data = df1, df1)"
     ]
    }
   ],
   "source": [
    "lmod <- lm(Y ~ college, df1)\n",
    "summary(lmod)\n",
    "tci <- TukeyHSD(aov(Y ~ college, df1))\n",
    "tci"
   ]
  },
  {
   "cell_type": "markdown",
   "metadata": {},
   "source": [
    "# Prediction"
   ]
  },
  {
   "cell_type": "code",
   "execution_count": 212,
   "metadata": {},
   "outputs": [],
   "source": [
    "df = df_save"
   ]
  },
  {
   "cell_type": "code",
   "execution_count": 213,
   "metadata": {},
   "outputs": [],
   "source": [
    "column_to_keep_name = c('Y','Gender','Average_GPA','s_start_year','s_Citizenship','avs_net_cost','Gender','s_Average.Precol.GPA','s_GRE.Combined.General.Write.Score','s_GRE.Combined.Quantitative.Score','s_GRE.Combined.General.Verbal.Score','College','funding_indicator','Citizenship','gap_indicator','GPA_trend')\n",
    "column_to_keep = NULL\n",
    "for (i in 1:length(column_to_keep_name)){\n",
    "    column_to_keep = c(column_to_keep,which(colnames(df)==column_to_keep_name[i]))\n",
    "}"
   ]
  },
  {
   "cell_type": "code",
   "execution_count": 214,
   "metadata": {},
   "outputs": [
    {
     "data": {
      "text/html": [
       "<ol class=list-inline>\n",
       "\t<li>'Y'</li>\n",
       "\t<li>'Gender'</li>\n",
       "\t<li>'Average_GPA'</li>\n",
       "\t<li>'s_start_year'</li>\n",
       "\t<li>'s_Citizenship'</li>\n",
       "\t<li>'avs_net_cost'</li>\n",
       "\t<li>'Gender.1'</li>\n",
       "\t<li>'s_Average.Precol.GPA'</li>\n",
       "\t<li>'College'</li>\n",
       "\t<li>'funding_indicator'</li>\n",
       "\t<li>'Citizenship'</li>\n",
       "\t<li>'gap_indicator'</li>\n",
       "\t<li>'GPA_trend'</li>\n",
       "</ol>\n"
      ],
      "text/latex": [
       "\\begin{enumerate*}\n",
       "\\item 'Y'\n",
       "\\item 'Gender'\n",
       "\\item 'Average\\_GPA'\n",
       "\\item 's\\_start\\_year'\n",
       "\\item 's\\_Citizenship'\n",
       "\\item 'avs\\_net\\_cost'\n",
       "\\item 'Gender.1'\n",
       "\\item 's\\_Average.Precol.GPA'\n",
       "\\item 'College'\n",
       "\\item 'funding\\_indicator'\n",
       "\\item 'Citizenship'\n",
       "\\item 'gap\\_indicator'\n",
       "\\item 'GPA\\_trend'\n",
       "\\end{enumerate*}\n"
      ],
      "text/markdown": [
       "1. 'Y'\n",
       "2. 'Gender'\n",
       "3. 'Average_GPA'\n",
       "4. 's_start_year'\n",
       "5. 's_Citizenship'\n",
       "6. 'avs_net_cost'\n",
       "7. 'Gender.1'\n",
       "8. 's_Average.Precol.GPA'\n",
       "9. 'College'\n",
       "10. 'funding_indicator'\n",
       "11. 'Citizenship'\n",
       "12. 'gap_indicator'\n",
       "13. 'GPA_trend'\n",
       "\n",
       "\n"
      ],
      "text/plain": [
       " [1] \"Y\"                    \"Gender\"               \"Average_GPA\"         \n",
       " [4] \"s_start_year\"         \"s_Citizenship\"        \"avs_net_cost\"        \n",
       " [7] \"Gender.1\"             \"s_Average.Precol.GPA\" \"College\"             \n",
       "[10] \"funding_indicator\"    \"Citizenship\"          \"gap_indicator\"       \n",
       "[13] \"GPA_trend\"           "
      ]
     },
     "metadata": {},
     "output_type": "display_data"
    }
   ],
   "source": [
    "df = df[,column_to_keep]\n",
    "colnames(df)"
   ]
  },
  {
   "cell_type": "code",
   "execution_count": 215,
   "metadata": {},
   "outputs": [
    {
     "data": {
      "text/html": [
       "<ol class=list-inline>\n",
       "\t<li>1235</li>\n",
       "\t<li>13</li>\n",
       "</ol>\n"
      ],
      "text/latex": [
       "\\begin{enumerate*}\n",
       "\\item 1235\n",
       "\\item 13\n",
       "\\end{enumerate*}\n"
      ],
      "text/markdown": [
       "1. 1235\n",
       "2. 13\n",
       "\n",
       "\n"
      ],
      "text/plain": [
       "[1] 1235   13"
      ]
     },
     "metadata": {},
     "output_type": "display_data"
    },
    {
     "data": {
      "text/html": [
       "<ol class=list-inline>\n",
       "\t<li>617</li>\n",
       "\t<li>13</li>\n",
       "</ol>\n"
      ],
      "text/latex": [
       "\\begin{enumerate*}\n",
       "\\item 617\n",
       "\\item 13\n",
       "\\end{enumerate*}\n"
      ],
      "text/markdown": [
       "1. 617\n",
       "2. 13\n",
       "\n",
       "\n"
      ],
      "text/plain": [
       "[1] 617  13"
      ]
     },
     "metadata": {},
     "output_type": "display_data"
    }
   ],
   "source": [
    "set.seed(123)\n",
    "s1 = sample(nrow(df),0.5*nrow(df))\n",
    "train = df[s1,]\n",
    "non_train = df[-s1,]\n",
    "s2 = sample(nrow(non_train),0.5*nrow(non_train))\n",
    "test = non_train[s2,]\n",
    "vld = non_train[-s2,]\n",
    "\n",
    "train_y=train[,1]\n",
    "train_x=train[,-1]\n",
    "test_y=test[,1]\n",
    "test_x=test[,-1]\n",
    "vld_y=vld[,1]\n",
    "vld_x=vld[,-1]\n",
    "dim(train)\n",
    "dim(test)"
   ]
  },
  {
   "cell_type": "markdown",
   "metadata": {},
   "source": [
    "## Random Forest"
   ]
  },
  {
   "cell_type": "code",
   "execution_count": 216,
   "metadata": {
    "scrolled": false
   },
   "outputs": [
    {
     "name": "stdout",
     "output_type": "stream",
     "text": [
      "\n",
      "Call:\n",
      " randomForest(formula = as.factor(train$Y) ~ ., data = train,      mtry = i, ntree = 1000) \n",
      "               Type of random forest: classification\n",
      "                     Number of trees: 1000\n",
      "No. of variables tried at each split: 1\n",
      "\n",
      "        OOB estimate of  error rate: 31.34%\n",
      "Confusion matrix:\n",
      "   0   1 class.error\n",
      "0 81 381 0.824675325\n",
      "1  6 767 0.007761966\n",
      "\n",
      "Call:\n",
      " randomForest(formula = as.factor(train$Y) ~ ., data = train,      mtry = i, ntree = 1000) \n",
      "               Type of random forest: classification\n",
      "                     Number of trees: 1000\n",
      "No. of variables tried at each split: 2\n",
      "\n",
      "        OOB estimate of  error rate: 22.91%\n",
      "Confusion matrix:\n",
      "    0   1 class.error\n",
      "0 238 224   0.4848485\n",
      "1  59 714   0.0763260\n",
      "\n",
      "Call:\n",
      " randomForest(formula = as.factor(train$Y) ~ ., data = train,      mtry = i, ntree = 1000) \n",
      "               Type of random forest: classification\n",
      "                     Number of trees: 1000\n",
      "No. of variables tried at each split: 3\n",
      "\n",
      "        OOB estimate of  error rate: 23.16%\n",
      "Confusion matrix:\n",
      "    0   1 class.error\n",
      "0 249 213  0.46103896\n",
      "1  73 700  0.09443726\n",
      "\n",
      "Call:\n",
      " randomForest(formula = as.factor(train$Y) ~ ., data = train,      mtry = i, ntree = 1000) \n",
      "               Type of random forest: classification\n",
      "                     Number of trees: 1000\n",
      "No. of variables tried at each split: 4\n",
      "\n",
      "        OOB estimate of  error rate: 23.64%\n",
      "Confusion matrix:\n",
      "    0   1 class.error\n",
      "0 252 210   0.4545455\n",
      "1  82 691   0.1060802\n",
      "\n",
      "Call:\n",
      " randomForest(formula = as.factor(train$Y) ~ ., data = train,      mtry = i, ntree = 1000) \n",
      "               Type of random forest: classification\n",
      "                     Number of trees: 1000\n",
      "No. of variables tried at each split: 5\n",
      "\n",
      "        OOB estimate of  error rate: 23.56%\n",
      "Confusion matrix:\n",
      "    0   1 class.error\n",
      "0 252 210   0.4545455\n",
      "1  81 692   0.1047865\n",
      "\n",
      "Call:\n",
      " randomForest(formula = as.factor(train$Y) ~ ., data = train,      mtry = i, ntree = 1000) \n",
      "               Type of random forest: classification\n",
      "                     Number of trees: 1000\n",
      "No. of variables tried at each split: 6\n",
      "\n",
      "        OOB estimate of  error rate: 23.81%\n",
      "Confusion matrix:\n",
      "    0   1 class.error\n",
      "0 251 211   0.4567100\n",
      "1  83 690   0.1073739\n",
      "\n",
      "Call:\n",
      " randomForest(formula = as.factor(train$Y) ~ ., data = train,      mtry = i, ntree = 1000) \n",
      "               Type of random forest: classification\n",
      "                     Number of trees: 1000\n",
      "No. of variables tried at each split: 7\n",
      "\n",
      "        OOB estimate of  error rate: 23.32%\n",
      "Confusion matrix:\n",
      "    0   1 class.error\n",
      "0 256 206   0.4458874\n",
      "1  82 691   0.1060802\n",
      "\n",
      "Call:\n",
      " randomForest(formula = as.factor(train$Y) ~ ., data = train,      mtry = i, ntree = 1000) \n",
      "               Type of random forest: classification\n",
      "                     Number of trees: 1000\n",
      "No. of variables tried at each split: 8\n",
      "\n",
      "        OOB estimate of  error rate: 23.72%\n",
      "Confusion matrix:\n",
      "    0   1 class.error\n",
      "0 256 206   0.4458874\n",
      "1  87 686   0.1125485\n",
      "\n",
      "Call:\n",
      " randomForest(formula = as.factor(train$Y) ~ ., data = train,      mtry = i, ntree = 1000) \n",
      "               Type of random forest: classification\n",
      "                     Number of trees: 1000\n",
      "No. of variables tried at each split: 9\n",
      "\n",
      "        OOB estimate of  error rate: 23.81%\n",
      "Confusion matrix:\n",
      "    0   1 class.error\n",
      "0 260 202   0.4372294\n",
      "1  92 681   0.1190168\n",
      "\n",
      "Call:\n",
      " randomForest(formula = as.factor(train$Y) ~ ., data = train,      mtry = i, ntree = 1000) \n",
      "               Type of random forest: classification\n",
      "                     Number of trees: 1000\n",
      "No. of variables tried at each split: 10\n",
      "\n",
      "        OOB estimate of  error rate: 23.81%\n",
      "Confusion matrix:\n",
      "    0   1 class.error\n",
      "0 259 203   0.4393939\n",
      "1  91 682   0.1177232\n",
      "\n",
      "Call:\n",
      " randomForest(formula = as.factor(train$Y) ~ ., data = train,      mtry = i, ntree = 1000) \n",
      "               Type of random forest: classification\n",
      "                     Number of trees: 1000\n",
      "No. of variables tried at each split: 11\n",
      "\n",
      "        OOB estimate of  error rate: 23.72%\n",
      "Confusion matrix:\n",
      "    0   1 class.error\n",
      "0 260 202   0.4372294\n",
      "1  91 682   0.1177232\n",
      "\n",
      "Call:\n",
      " randomForest(formula = as.factor(train$Y) ~ ., data = train,      mtry = i, ntree = 1000) \n",
      "               Type of random forest: classification\n",
      "                     Number of trees: 1000\n",
      "No. of variables tried at each split: 12\n",
      "\n",
      "        OOB estimate of  error rate: 24.05%\n",
      "Confusion matrix:\n",
      "    0   1 class.error\n",
      "0 256 206   0.4458874\n",
      "1  91 682   0.1177232\n"
     ]
    }
   ],
   "source": [
    "library(\"randomForest\")\n",
    "n<-length(names(train)) \n",
    "rate=1\n",
    "for(i in 1:(n-1)){\n",
    "  set.seed(1234)\n",
    "  rf_train<-randomForest(as.factor(train$Y)~.,data=train,mtry=i,ntree=1000)\n",
    "  rate[i]<-mean(rf_train$err.rate)  \n",
    "  print(rf_train)    \n",
    "}"
   ]
  },
  {
   "cell_type": "code",
   "execution_count": 217,
   "metadata": {
    "scrolled": false
   },
   "outputs": [
    {
     "data": {
      "text/html": [
       "<ol class=list-inline>\n",
       "\t<li>0.371324067421155</li>\n",
       "\t<li>0.267592067261721</li>\n",
       "\t<li>0.267219141169845</li>\n",
       "\t<li>0.267148608356147</li>\n",
       "\t<li>0.268345060323847</li>\n",
       "\t<li>0.26998591422064</li>\n",
       "\t<li>0.270781066322134</li>\n",
       "\t<li>0.267442617614497</li>\n",
       "\t<li>0.269117294105553</li>\n",
       "\t<li>0.26959158541787</li>\n",
       "\t<li>0.269980842530642</li>\n",
       "\t<li>0.270080382337023</li>\n",
       "</ol>\n"
      ],
      "text/latex": [
       "\\begin{enumerate*}\n",
       "\\item 0.371324067421155\n",
       "\\item 0.267592067261721\n",
       "\\item 0.267219141169845\n",
       "\\item 0.267148608356147\n",
       "\\item 0.268345060323847\n",
       "\\item 0.26998591422064\n",
       "\\item 0.270781066322134\n",
       "\\item 0.267442617614497\n",
       "\\item 0.269117294105553\n",
       "\\item 0.26959158541787\n",
       "\\item 0.269980842530642\n",
       "\\item 0.270080382337023\n",
       "\\end{enumerate*}\n"
      ],
      "text/markdown": [
       "1. 0.371324067421155\n",
       "2. 0.267592067261721\n",
       "3. 0.267219141169845\n",
       "4. 0.267148608356147\n",
       "5. 0.268345060323847\n",
       "6. 0.26998591422064\n",
       "7. 0.270781066322134\n",
       "8. 0.267442617614497\n",
       "9. 0.269117294105553\n",
       "10. 0.26959158541787\n",
       "11. 0.269980842530642\n",
       "12. 0.270080382337023\n",
       "\n",
       "\n"
      ],
      "text/plain": [
       " [1] 0.3713241 0.2675921 0.2672191 0.2671486 0.2683451 0.2699859 0.2707811\n",
       " [8] 0.2674426 0.2691173 0.2695916 0.2699808 0.2700804"
      ]
     },
     "metadata": {},
     "output_type": "display_data"
    },
    {
     "data": {
      "image/png": "[encoded data removed]",
      "text/plain": [
       "plot without title"
      ]
     },
     "metadata": {},
     "output_type": "display_data"
    }
   ],
   "source": [
    "rate  \n",
    "plot(rate)"
   ]
  },
  {
   "cell_type": "code",
   "execution_count": 218,
   "metadata": {
    "scrolled": false
   },
   "outputs": [
    {
     "data": {
      "image/png": "[encoded data removed]",
      "text/plain": [
       "Plot with title \"rf_train\""
      ]
     },
     "metadata": {},
     "output_type": "display_data"
    }
   ],
   "source": [
    "rf_train<-randomForest(as.factor(train$Y)~.,data=train,mtry=6)\n",
    "plot(rf_train)    \n",
    "legend(800,0.02,\"Y=0\",cex=0.9,bty=\"n\")    \n",
    "legend(800,0.0245,\"total\",cex=0.09,bty=\"n\")   "
   ]
  },
  {
   "cell_type": "code",
   "execution_count": 142,
   "metadata": {
    "scrolled": true
   },
   "outputs": [
    {
     "data": {
      "text/plain": [
       "\n",
       "Call:\n",
       " randomForest(formula = as.factor(train$Y) ~ ., data = as.data.frame(train),      mtry = 6, importance = TRUE) \n",
       "               Type of random forest: classification\n",
       "                     Number of trees: 500\n",
       "No. of variables tried at each split: 6\n",
       "\n",
       "        OOB estimate of  error rate: 23.97%\n",
       "Confusion matrix:\n",
       "    0   1 class.error\n",
       "0 244 218   0.4718615\n",
       "1  78 695   0.1009056"
      ]
     },
     "metadata": {},
     "output_type": "display_data"
    }
   ],
   "source": [
    "set.seed(100)\n",
    "rf_train<-randomForest(as.factor(train$Y)~.,data=as.data.frame(train),mtry = 6,importance=TRUE)\n",
    "rf_train"
   ]
  },
  {
   "cell_type": "code",
   "execution_count": 143,
   "metadata": {},
   "outputs": [
    {
     "data": {
      "text/html": [
       "0.7601"
      ],
      "text/latex": [
       "0.7601"
      ],
      "text/markdown": [
       "0.7601"
      ],
      "text/plain": [
       "[1] 0.7601"
      ]
     },
     "metadata": {},
     "output_type": "display_data"
    }
   ],
   "source": [
    "rf_pred = predict(rf_train, newdata = test)\n",
    "(rf_acc = round(sum(rf_pred == test$Y)/length(rf_pred),4))"
   ]
  },
  {
   "cell_type": "code",
   "execution_count": 219,
   "metadata": {},
   "outputs": [
    {
     "data": {
      "text/html": [
       "<table>\n",
       "<thead><tr><th></th><th scope=col>MeanDecreaseGini</th></tr></thead>\n",
       "<tbody>\n",
       "\t<tr><th scope=row>Gender</th><td>  7.296652</td></tr>\n",
       "\t<tr><th scope=row>Average_GPA</th><td>120.375164</td></tr>\n",
       "\t<tr><th scope=row>s_start_year</th><td>104.782834</td></tr>\n",
       "\t<tr><th scope=row>s_Citizenship</th><td>  8.620803</td></tr>\n",
       "\t<tr><th scope=row>avs_net_cost</th><td>102.301805</td></tr>\n",
       "\t<tr><th scope=row>Gender.1</th><td>  7.294950</td></tr>\n",
       "\t<tr><th scope=row>s_Average.Precol.GPA</th><td> 54.221848</td></tr>\n",
       "\t<tr><th scope=row>College</th><td> 26.482746</td></tr>\n",
       "\t<tr><th scope=row>funding_indicator</th><td> 12.515407</td></tr>\n",
       "\t<tr><th scope=row>Citizenship</th><td> 54.840312</td></tr>\n",
       "\t<tr><th scope=row>gap_indicator</th><td>  8.430289</td></tr>\n",
       "\t<tr><th scope=row>GPA_trend</th><td> 69.120967</td></tr>\n",
       "</tbody>\n",
       "</table>\n"
      ],
      "text/latex": [
       "\\begin{tabular}{r|l}\n",
       "  & MeanDecreaseGini\\\\\n",
       "\\hline\n",
       "\tGender &   7.296652\\\\\n",
       "\tAverage\\_GPA & 120.375164\\\\\n",
       "\ts\\_start\\_year & 104.782834\\\\\n",
       "\ts\\_Citizenship &   8.620803\\\\\n",
       "\tavs\\_net\\_cost & 102.301805\\\\\n",
       "\tGender.1 &   7.294950\\\\\n",
       "\ts\\_Average.Precol.GPA &  54.221848\\\\\n",
       "\tCollege &  26.482746\\\\\n",
       "\tfunding\\_indicator &  12.515407\\\\\n",
       "\tCitizenship &  54.840312\\\\\n",
       "\tgap\\_indicator &   8.430289\\\\\n",
       "\tGPA\\_trend &  69.120967\\\\\n",
       "\\end{tabular}\n"
      ],
      "text/markdown": [
       "\n",
       "| <!--/--> | MeanDecreaseGini |\n",
       "|---|---|\n",
       "| Gender |   7.296652 |\n",
       "| Average_GPA | 120.375164 |\n",
       "| s_start_year | 104.782834 |\n",
       "| s_Citizenship |   8.620803 |\n",
       "| avs_net_cost | 102.301805 |\n",
       "| Gender.1 |   7.294950 |\n",
       "| s_Average.Precol.GPA |  54.221848 |\n",
       "| College |  26.482746 |\n",
       "| funding_indicator |  12.515407 |\n",
       "| Citizenship |  54.840312 |\n",
       "| gap_indicator |   8.430289 |\n",
       "| GPA_trend |  69.120967 |\n",
       "\n"
      ],
      "text/plain": [
       "                     MeanDecreaseGini\n",
       "Gender                 7.296652      \n",
       "Average_GPA          120.375164      \n",
       "s_start_year         104.782834      \n",
       "s_Citizenship          8.620803      \n",
       "avs_net_cost         102.301805      \n",
       "Gender.1               7.294950      \n",
       "s_Average.Precol.GPA  54.221848      \n",
       "College               26.482746      \n",
       "funding_indicator     12.515407      \n",
       "Citizenship           54.840312      \n",
       "gap_indicator          8.430289      \n",
       "GPA_trend             69.120967      "
      ]
     },
     "metadata": {},
     "output_type": "display_data"
    },
    {
     "data": {
      "image/png": "[encoded data removed]",
      "text/plain": [
       "Plot with title \"rf_train\""
      ]
     },
     "metadata": {},
     "output_type": "display_data"
    }
   ],
   "source": [
    "importance(rf_train)\n",
    "varImpPlot(rf_train)"
   ]
  },
  {
   "cell_type": "markdown",
   "metadata": {},
   "source": [
    "## LDA"
   ]
  },
  {
   "cell_type": "code",
   "execution_count": 122,
   "metadata": {},
   "outputs": [
    {
     "name": "stderr",
     "output_type": "stream",
     "text": [
      "Warning message in lda.default(x, grouping, ...):\n",
      "\"variables are collinear\""
     ]
    }
   ],
   "source": [
    "mod_lda = lda(Y~., data = as.data.frame(train))\n",
    "lda_pred = predict(mod_lda, newdata = test)"
   ]
  },
  {
   "cell_type": "code",
   "execution_count": 123,
   "metadata": {},
   "outputs": [
    {
     "data": {
      "text/html": [
       "0.7164"
      ],
      "text/latex": [
       "0.7164"
      ],
      "text/markdown": [
       "0.7164"
      ],
      "text/plain": [
       "[1] 0.7164"
      ]
     },
     "metadata": {},
     "output_type": "display_data"
    }
   ],
   "source": [
    "(lda_acc = round(sum(lda_pred$class == test$Y)/length(lda_pred$class),4))"
   ]
  },
  {
   "cell_type": "markdown",
   "metadata": {},
   "source": [
    "<b> Summary"
   ]
  },
  {
   "cell_type": "code",
   "execution_count": 124,
   "metadata": {},
   "outputs": [
    {
     "data": {
      "text/html": [
       "<table>\n",
       "<thead><tr><th></th><th scope=col>LD1</th></tr></thead>\n",
       "<tbody>\n",
       "\t<tr><th scope=row>GenderMale</th><td> 0.15861060</td></tr>\n",
       "\t<tr><th scope=row>Average_GPA</th><td> 0.61905577</td></tr>\n",
       "\t<tr><th scope=row>s_start_year</th><td>-0.75898310</td></tr>\n",
       "\t<tr><th scope=row>s_CitizenshipAsia</th><td>-0.29331910</td></tr>\n",
       "\t<tr><th scope=row>s_CitizenshipChina</th><td>-0.39924550</td></tr>\n",
       "\t<tr><th scope=row>s_CitizenshipWhite</th><td>-0.83318958</td></tr>\n",
       "\t<tr><th scope=row>avs_net_cost</th><td> 0.10807050</td></tr>\n",
       "\t<tr><th scope=row>Gender.1Male</th><td> 0.15861060</td></tr>\n",
       "\t<tr><th scope=row>s_Average.Precol.GPA</th><td> 0.06589271</td></tr>\n",
       "\t<tr><th scope=row>s_GRE.Combined.General.Write.Score</th><td> 0.05595929</td></tr>\n",
       "\t<tr><th scope=row>s_GRE.Combined.Quantitative.Score</th><td> 0.03193554</td></tr>\n",
       "\t<tr><th scope=row>s_GRE.Combined.General.Verbal.Score</th><td>-0.07470856</td></tr>\n",
       "\t<tr><th scope=row>CollegeGD Education</th><td> 0.14946947</td></tr>\n",
       "\t<tr><th scope=row>CollegeGD Grad School</th><td> 2.55836023</td></tr>\n",
       "\t<tr><th scope=row>CollegeGD Harpur</th><td>-0.10082299</td></tr>\n",
       "\t<tr><th scope=row>CollegeGD Management</th><td> 0.29561667</td></tr>\n",
       "\t<tr><th scope=row>CollegeGD Nursing</th><td> 0.94251734</td></tr>\n",
       "\t<tr><th scope=row>CollegeGD Watson</th><td> 0.42606402</td></tr>\n",
       "\t<tr><th scope=row>funding_indicator</th><td> 0.82788954</td></tr>\n",
       "\t<tr><th scope=row>CitizenshipAsia</th><td>-0.29331910</td></tr>\n",
       "\t<tr><th scope=row>CitizenshipAsian</th><td>-0.70932701</td></tr>\n",
       "\t<tr><th scope=row>CitizenshipBlack or African American</th><td> 0.35784790</td></tr>\n",
       "\t<tr><th scope=row>CitizenshipChina</th><td>-0.39924550</td></tr>\n",
       "\t<tr><th scope=row>CitizenshipEurope</th><td>-0.02879569</td></tr>\n",
       "\t<tr><th scope=row>CitizenshipHispanic or Latino</th><td>-0.70459694</td></tr>\n",
       "\t<tr><th scope=row>CitizenshipIndia</th><td>-0.25234500</td></tr>\n",
       "\t<tr><th scope=row>CitizenshipOther International Students</th><td>-0.09696372</td></tr>\n",
       "\t<tr><th scope=row>CitizenshipUnknown</th><td>-0.34529668</td></tr>\n",
       "\t<tr><th scope=row>CitizenshipWhite</th><td>-0.37419243</td></tr>\n",
       "\t<tr><th scope=row>gap_indicator</th><td> 0.38233033</td></tr>\n",
       "\t<tr><th scope=row>GPA_trend</th><td> 1.54849189</td></tr>\n",
       "</tbody>\n",
       "</table>\n"
      ],
      "text/latex": [
       "\\begin{tabular}{r|l}\n",
       "  & LD1\\\\\n",
       "\\hline\n",
       "\tGenderMale &  0.15861060\\\\\n",
       "\tAverage\\_GPA &  0.61905577\\\\\n",
       "\ts\\_start\\_year & -0.75898310\\\\\n",
       "\ts\\_CitizenshipAsia & -0.29331910\\\\\n",
       "\ts\\_CitizenshipChina & -0.39924550\\\\\n",
       "\ts\\_CitizenshipWhite & -0.83318958\\\\\n",
       "\tavs\\_net\\_cost &  0.10807050\\\\\n",
       "\tGender.1Male &  0.15861060\\\\\n",
       "\ts\\_Average.Precol.GPA &  0.06589271\\\\\n",
       "\ts\\_GRE.Combined.General.Write.Score &  0.05595929\\\\\n",
       "\ts\\_GRE.Combined.Quantitative.Score &  0.03193554\\\\\n",
       "\ts\\_GRE.Combined.General.Verbal.Score & -0.07470856\\\\\n",
       "\tCollegeGD Education &  0.14946947\\\\\n",
       "\tCollegeGD Grad School &  2.55836023\\\\\n",
       "\tCollegeGD Harpur & -0.10082299\\\\\n",
       "\tCollegeGD Management &  0.29561667\\\\\n",
       "\tCollegeGD Nursing &  0.94251734\\\\\n",
       "\tCollegeGD Watson &  0.42606402\\\\\n",
       "\tfunding\\_indicator &  0.82788954\\\\\n",
       "\tCitizenshipAsia & -0.29331910\\\\\n",
       "\tCitizenshipAsian & -0.70932701\\\\\n",
       "\tCitizenshipBlack or African American &  0.35784790\\\\\n",
       "\tCitizenshipChina & -0.39924550\\\\\n",
       "\tCitizenshipEurope & -0.02879569\\\\\n",
       "\tCitizenshipHispanic or Latino & -0.70459694\\\\\n",
       "\tCitizenshipIndia & -0.25234500\\\\\n",
       "\tCitizenshipOther International Students & -0.09696372\\\\\n",
       "\tCitizenshipUnknown & -0.34529668\\\\\n",
       "\tCitizenshipWhite & -0.37419243\\\\\n",
       "\tgap\\_indicator &  0.38233033\\\\\n",
       "\tGPA\\_trend &  1.54849189\\\\\n",
       "\\end{tabular}\n"
      ],
      "text/markdown": [
       "\n",
       "| <!--/--> | LD1 |\n",
       "|---|---|\n",
       "| GenderMale |  0.15861060 |\n",
       "| Average_GPA |  0.61905577 |\n",
       "| s_start_year | -0.75898310 |\n",
       "| s_CitizenshipAsia | -0.29331910 |\n",
       "| s_CitizenshipChina | -0.39924550 |\n",
       "| s_CitizenshipWhite | -0.83318958 |\n",
       "| avs_net_cost |  0.10807050 |\n",
       "| Gender.1Male |  0.15861060 |\n",
       "| s_Average.Precol.GPA |  0.06589271 |\n",
       "| s_GRE.Combined.General.Write.Score |  0.05595929 |\n",
       "| s_GRE.Combined.Quantitative.Score |  0.03193554 |\n",
       "| s_GRE.Combined.General.Verbal.Score | -0.07470856 |\n",
       "| CollegeGD Education |  0.14946947 |\n",
       "| CollegeGD Grad School |  2.55836023 |\n",
       "| CollegeGD Harpur | -0.10082299 |\n",
       "| CollegeGD Management |  0.29561667 |\n",
       "| CollegeGD Nursing |  0.94251734 |\n",
       "| CollegeGD Watson |  0.42606402 |\n",
       "| funding_indicator |  0.82788954 |\n",
       "| CitizenshipAsia | -0.29331910 |\n",
       "| CitizenshipAsian | -0.70932701 |\n",
       "| CitizenshipBlack or African American |  0.35784790 |\n",
       "| CitizenshipChina | -0.39924550 |\n",
       "| CitizenshipEurope | -0.02879569 |\n",
       "| CitizenshipHispanic or Latino | -0.70459694 |\n",
       "| CitizenshipIndia | -0.25234500 |\n",
       "| CitizenshipOther International Students | -0.09696372 |\n",
       "| CitizenshipUnknown | -0.34529668 |\n",
       "| CitizenshipWhite | -0.37419243 |\n",
       "| gap_indicator |  0.38233033 |\n",
       "| GPA_trend |  1.54849189 |\n",
       "\n"
      ],
      "text/plain": [
       "                                        LD1        \n",
       "GenderMale                               0.15861060\n",
       "Average_GPA                              0.61905577\n",
       "s_start_year                            -0.75898310\n",
       "s_CitizenshipAsia                       -0.29331910\n",
       "s_CitizenshipChina                      -0.39924550\n",
       "s_CitizenshipWhite                      -0.83318958\n",
       "avs_net_cost                             0.10807050\n",
       "Gender.1Male                             0.15861060\n",
       "s_Average.Precol.GPA                     0.06589271\n",
       "s_GRE.Combined.General.Write.Score       0.05595929\n",
       "s_GRE.Combined.Quantitative.Score        0.03193554\n",
       "s_GRE.Combined.General.Verbal.Score     -0.07470856\n",
       "CollegeGD Education                      0.14946947\n",
       "CollegeGD Grad School                    2.55836023\n",
       "CollegeGD Harpur                        -0.10082299\n",
       "CollegeGD Management                     0.29561667\n",
       "CollegeGD Nursing                        0.94251734\n",
       "CollegeGD Watson                         0.42606402\n",
       "funding_indicator                        0.82788954\n",
       "CitizenshipAsia                         -0.29331910\n",
       "CitizenshipAsian                        -0.70932701\n",
       "CitizenshipBlack or African American     0.35784790\n",
       "CitizenshipChina                        -0.39924550\n",
       "CitizenshipEurope                       -0.02879569\n",
       "CitizenshipHispanic or Latino           -0.70459694\n",
       "CitizenshipIndia                        -0.25234500\n",
       "CitizenshipOther International Students -0.09696372\n",
       "CitizenshipUnknown                      -0.34529668\n",
       "CitizenshipWhite                        -0.37419243\n",
       "gap_indicator                            0.38233033\n",
       "GPA_trend                                1.54849189"
      ]
     },
     "metadata": {},
     "output_type": "display_data"
    }
   ],
   "source": [
    "mod_lda$scaling"
   ]
  },
  {
   "cell_type": "markdown",
   "metadata": {},
   "source": [
    "## Neural Network"
   ]
  },
  {
   "cell_type": "code",
   "execution_count": 125,
   "metadata": {},
   "outputs": [
    {
     "data": {
      "text/html": [
       "2"
      ],
      "text/latex": [
       "2"
      ],
      "text/markdown": [
       "2"
      ],
      "text/plain": [
       "[1] 2"
      ]
     },
     "metadata": {},
     "output_type": "display_data"
    }
   ],
   "source": [
    "nnet_vld = NULL\n",
    "for (i in seq(1,20,1)){\n",
    "    mod_nnet = nnet(Y~., data = train, size  = i,trace = FALSE, decay =.1, rang = 0, maxit = 250)\n",
    "    nn_pred = predict(mod_nnet, newdata = vld)\n",
    "    nn_pred = as.numeric(nn_pred>=.5)\n",
    "    nnet_vld = c(nnet_vld, sum(nn_pred == vld$Y)/length(nn_pred))\n",
    "}\n",
    "(tr_size = which.max(nnet_vld))"
   ]
  },
  {
   "cell_type": "code",
   "execution_count": 126,
   "metadata": {},
   "outputs": [],
   "source": [
    "mod_nnet = nnet(Y~., data = train, size  = tr_size,trace = FALSE, decay =.1, rang = 0, maxit = 250)\n",
    "nn_pred = as.numeric(predict(mod_nnet, newdata = test)>= .5)"
   ]
  },
  {
   "cell_type": "code",
   "execution_count": 127,
   "metadata": {},
   "outputs": [
    {
     "data": {
      "text/html": [
       "0.7229"
      ],
      "text/latex": [
       "0.7229"
      ],
      "text/markdown": [
       "0.7229"
      ],
      "text/plain": [
       "[1] 0.7229"
      ]
     },
     "metadata": {},
     "output_type": "display_data"
    }
   ],
   "source": [
    "(nnet_acc = round(sum(nn_pred == test$Y)/length(nn_pred),4))"
   ]
  },
  {
   "cell_type": "markdown",
   "metadata": {},
   "source": [
    "<b> Summary"
   ]
  },
  {
   "cell_type": "code",
   "execution_count": 128,
   "metadata": {},
   "outputs": [
    {
     "data": {
      "text/plain": [
       "a 31-2-1 network with 67 weights\n",
       "options were - decay=0.1\n",
       "  b->h1  i1->h1  i2->h1  i3->h1  i4->h1  i5->h1  i6->h1  i7->h1  i8->h1  i9->h1 \n",
       "  -3.40    0.01    1.62   -0.02   -0.37   -0.59   -1.30   -0.16    0.01   -0.06 \n",
       "i10->h1 i11->h1 i12->h1 i13->h1 i14->h1 i15->h1 i16->h1 i17->h1 i18->h1 i19->h1 \n",
       "  -0.23    0.40    0.20   -1.36    4.69   -1.38   -0.59   -0.88   -1.20    0.41 \n",
       "i20->h1 i21->h1 i22->h1 i23->h1 i24->h1 i25->h1 i26->h1 i27->h1 i28->h1 i29->h1 \n",
       "  -0.37   -0.49    0.23   -0.59    0.26   -0.37   -0.28    0.17   -0.54   -0.29 \n",
       "i30->h1 i31->h1 \n",
       "   0.04   -0.36 \n",
       "  b->h2  i1->h2  i2->h2  i3->h2  i4->h2  i5->h2  i6->h2  i7->h2  i8->h2  i9->h2 \n",
       "  -0.34    0.28    0.34   -1.54   -0.07    0.16    0.07    0.93    0.28    0.12 \n",
       "i10->h2 i11->h2 i12->h2 i13->h2 i14->h2 i15->h2 i16->h2 i17->h2 i18->h2 i19->h2 \n",
       "   0.28   -0.96   -0.26    0.69    0.97    0.02   -0.16    0.55    0.38    0.64 \n",
       "i20->h2 i21->h2 i22->h2 i23->h2 i24->h2 i25->h2 i26->h2 i27->h2 i28->h2 i29->h2 \n",
       "  -0.07    0.34    0.29    0.16   -1.00   -0.08    0.58   -0.73    0.46    0.21 \n",
       "i30->h2 i31->h2 \n",
       "   1.54    3.38 \n",
       " b->o h1->o h2->o \n",
       "-5.43  4.49  4.30 "
      ]
     },
     "metadata": {},
     "output_type": "display_data"
    }
   ],
   "source": [
    "summary(mod_nnet)"
   ]
  },
  {
   "cell_type": "markdown",
   "metadata": {},
   "source": [
    "## Logistic Regression"
   ]
  },
  {
   "cell_type": "code",
   "execution_count": 129,
   "metadata": {},
   "outputs": [
    {
     "name": "stderr",
     "output_type": "stream",
     "text": [
      "Warning message in predict.lm(object, newdata, se.fit, scale = 1, type = if (type == :\n",
      "\"prediction from a rank-deficient fit may be misleading\""
     ]
    }
   ],
   "source": [
    "mod_glm = glm(Y~., data = train, family=binomial())\n",
    "glm_pred = as.numeric(predict(mod_glm, newdata = test, type=\"response\") >= .5)"
   ]
  },
  {
   "cell_type": "code",
   "execution_count": 130,
   "metadata": {
    "scrolled": true
   },
   "outputs": [
    {
     "data": {
      "text/html": [
       "0.7164"
      ],
      "text/latex": [
       "0.7164"
      ],
      "text/markdown": [
       "0.7164"
      ],
      "text/plain": [
       "[1] 0.7164"
      ]
     },
     "metadata": {},
     "output_type": "display_data"
    }
   ],
   "source": [
    "(glm_acc = round(sum(glm_pred == test$Y)/length(glm_pred),4))"
   ]
  },
  {
   "cell_type": "markdown",
   "metadata": {},
   "source": [
    "<b> Summary"
   ]
  },
  {
   "cell_type": "code",
   "execution_count": 131,
   "metadata": {},
   "outputs": [
    {
     "data": {
      "text/plain": [
       "\n",
       "Call:\n",
       "glm(formula = Y ~ ., family = binomial(), data = train)\n",
       "\n",
       "Deviance Residuals: \n",
       "    Min       1Q   Median       3Q      Max  \n",
       "-2.5222  -1.0673   0.6306   0.9005   2.6069  \n",
       "\n",
       "Coefficients: (4 not defined because of singularities)\n",
       "                                          Estimate Std. Error z value Pr(>|z|)\n",
       "(Intercept)                             -1.3519815  0.9476446  -1.427  0.15367\n",
       "GenderMale                               0.2954337  0.1411657   2.093  0.03637\n",
       "Average_GPA                              0.6377503  0.1173186   5.436 5.45e-08\n",
       "s_start_year                            -0.7448138  0.0886730  -8.400  < 2e-16\n",
       "s_CitizenshipAsia                       -0.6270261  0.5893894  -1.064  0.28739\n",
       "s_CitizenshipChina                      -0.7642329  0.5909230  -1.293  0.19591\n",
       "s_CitizenshipWhite                      -1.2021457  0.5632633  -2.134  0.03282\n",
       "avs_net_cost                             0.1021013  0.0664638   1.536  0.12449\n",
       "Gender.1Male                                    NA         NA      NA       NA\n",
       "s_Average.Precol.GPA                     0.0562713  0.0731085   0.770  0.44148\n",
       "s_GRE.Combined.General.Write.Score       0.0147781  0.0843002   0.175  0.86084\n",
       "s_GRE.Combined.Quantitative.Score       -0.2338052  0.2360903  -0.990  0.32202\n",
       "s_GRE.Combined.General.Verbal.Score      0.0208466  0.1705733   0.122  0.90273\n",
       "CollegeGD Education                     -0.0670363  0.7543443  -0.089  0.92919\n",
       "CollegeGD Grad School                    3.1254570  1.0734951   2.911  0.00360\n",
       "CollegeGD Harpur                        -0.3544612  0.6577762  -0.539  0.58997\n",
       "CollegeGD Management                    -0.0041443  0.7879186  -0.005  0.99580\n",
       "CollegeGD Nursing                        0.7196845  0.7025311   1.024  0.30564\n",
       "CollegeGD Watson                         0.1637891  0.6769332   0.242  0.80881\n",
       "funding_indicator                        0.7849413  0.1724067   4.553 5.29e-06\n",
       "CitizenshipAsia                                 NA         NA      NA       NA\n",
       "CitizenshipAsian                        -0.3080801  0.3361915  -0.916  0.35947\n",
       "CitizenshipBlack or African American     0.6968108  0.4246436   1.641  0.10081\n",
       "CitizenshipChina                                NA         NA      NA       NA\n",
       "CitizenshipEurope                        0.2710711  0.4318070   0.628  0.53016\n",
       "CitizenshipHispanic or Latino           -0.2582503  0.3288150  -0.785  0.43222\n",
       "CitizenshipIndia                         0.2142404  0.3634800   0.589  0.55558\n",
       "CitizenshipOther International Students  0.1772048  0.5127203   0.346  0.72963\n",
       "CitizenshipUnknown                       0.0009262  0.2580292   0.004  0.99714\n",
       "CitizenshipWhite                                NA         NA      NA       NA\n",
       "gap_indicator                            0.3943836  0.2257201   1.747  0.08060\n",
       "GPA_trend                                1.4993861  0.4833509   3.102  0.00192\n",
       "                                           \n",
       "(Intercept)                                \n",
       "GenderMale                              *  \n",
       "Average_GPA                             ***\n",
       "s_start_year                            ***\n",
       "s_CitizenshipAsia                          \n",
       "s_CitizenshipChina                         \n",
       "s_CitizenshipWhite                      *  \n",
       "avs_net_cost                               \n",
       "Gender.1Male                               \n",
       "s_Average.Precol.GPA                       \n",
       "s_GRE.Combined.General.Write.Score         \n",
       "s_GRE.Combined.Quantitative.Score          \n",
       "s_GRE.Combined.General.Verbal.Score        \n",
       "CollegeGD Education                        \n",
       "CollegeGD Grad School                   ** \n",
       "CollegeGD Harpur                           \n",
       "CollegeGD Management                       \n",
       "CollegeGD Nursing                          \n",
       "CollegeGD Watson                           \n",
       "funding_indicator                       ***\n",
       "CitizenshipAsia                            \n",
       "CitizenshipAsian                           \n",
       "CitizenshipBlack or African American       \n",
       "CitizenshipChina                           \n",
       "CitizenshipEurope                          \n",
       "CitizenshipHispanic or Latino              \n",
       "CitizenshipIndia                           \n",
       "CitizenshipOther International Students    \n",
       "CitizenshipUnknown                         \n",
       "CitizenshipWhite                           \n",
       "gap_indicator                           .  \n",
       "GPA_trend                               ** \n",
       "---\n",
       "Signif. codes:  0 '***' 0.001 '**' 0.01 '*' 0.05 '.' 0.1 ' ' 1\n",
       "\n",
       "(Dispersion parameter for binomial family taken to be 1)\n",
       "\n",
       "    Null deviance: 1632.9  on 1234  degrees of freedom\n",
       "Residual deviance: 1403.4  on 1207  degrees of freedom\n",
       "AIC: 1459.4\n",
       "\n",
       "Number of Fisher Scoring iterations: 6\n"
      ]
     },
     "metadata": {},
     "output_type": "display_data"
    }
   ],
   "source": [
    "summary(mod_glm)"
   ]
  },
  {
   "cell_type": "markdown",
   "metadata": {},
   "source": [
    "## SVM"
   ]
  },
  {
   "cell_type": "code",
   "execution_count": 132,
   "metadata": {},
   "outputs": [],
   "source": [
    "mod_svm = svm(Y~., data = train, family=binomial())\n",
    "svm_pred = as.numeric(predict(mod_svm, newdata = test, type=\"response\") >= .5)"
   ]
  },
  {
   "cell_type": "code",
   "execution_count": 133,
   "metadata": {
    "scrolled": true
   },
   "outputs": [
    {
     "data": {
      "text/html": [
       "0.7018"
      ],
      "text/latex": [
       "0.7018"
      ],
      "text/markdown": [
       "0.7018"
      ],
      "text/plain": [
       "[1] 0.7018"
      ]
     },
     "metadata": {},
     "output_type": "display_data"
    }
   ],
   "source": [
    "(svm_acc = round(sum(svm_pred == test$Y)/length(svm_pred),4))"
   ]
  },
  {
   "cell_type": "markdown",
   "metadata": {},
   "source": [
    "<b> Summary"
   ]
  },
  {
   "cell_type": "code",
   "execution_count": 134,
   "metadata": {
    "scrolled": false
   },
   "outputs": [
    {
     "data": {
      "text/plain": [
       "\n",
       "Call:\n",
       "svm(formula = Y ~ ., data = train, family = binomial())\n",
       "\n",
       "\n",
       "Parameters:\n",
       "   SVM-Type:  eps-regression \n",
       " SVM-Kernel:  radial \n",
       "       cost:  1 \n",
       "      gamma:  0.03125 \n",
       "    epsilon:  0.1 \n",
       "\n",
       "\n",
       "Number of Support Vectors:  1001\n",
       "\n",
       "\n",
       "\n",
       "\n"
      ]
     },
     "metadata": {},
     "output_type": "display_data"
    },
    {
     "data": {
      "text/html": [
       "<dl class=dl-horizontal>\n",
       "\t<dt>GenderFemale</dt>\n",
       "\t\t<dd>0.464535464535465</dd>\n",
       "\t<dt>GenderMale</dt>\n",
       "\t\t<dd>0.535464535464535</dd>\n",
       "\t<dt>Average_GPA</dt>\n",
       "\t\t<dd>-0.0607653196473238</dd>\n",
       "\t<dt>s_start_year</dt>\n",
       "\t\t<dd>0.109074019209957</dd>\n",
       "\t<dt>s_CitizenshipAsia</dt>\n",
       "\t\t<dd>0.126873126873127</dd>\n",
       "\t<dt>s_CitizenshipChina</dt>\n",
       "\t\t<dd>0.134865134865135</dd>\n",
       "\t<dt>s_CitizenshipWhite</dt>\n",
       "\t\t<dd>0.715284715284715</dd>\n",
       "\t<dt>avs_net_cost</dt>\n",
       "\t\t<dd>0.0157306753722701</dd>\n",
       "\t<dt>Gender.1Male</dt>\n",
       "\t\t<dd>0.535464535464535</dd>\n",
       "\t<dt>s_Average.Precol.GPA</dt>\n",
       "\t\t<dd>0.00745300405385959</dd>\n",
       "\t<dt>s_GRE.Combined.General.Write.Score</dt>\n",
       "\t\t<dd>0.0385404575714552</dd>\n",
       "\t<dt>s_GRE.Combined.Quantitative.Score</dt>\n",
       "\t\t<dd>-0.00314552277149265</dd>\n",
       "\t<dt>s_GRE.Combined.General.Verbal.Score</dt>\n",
       "\t\t<dd>0.0150696424770825</dd>\n",
       "\t<dt>CollegeGD.Education</dt>\n",
       "\t\t<dd>0.027972027972028</dd>\n",
       "\t<dt>CollegeGD.Grad.School</dt>\n",
       "\t\t<dd>0.023976023976024</dd>\n",
       "\t<dt>CollegeGD.Harpur</dt>\n",
       "\t\t<dd>0.664335664335664</dd>\n",
       "\t<dt>CollegeGD.Management</dt>\n",
       "\t\t<dd>0.022977022977023</dd>\n",
       "\t<dt>CollegeGD.Nursing</dt>\n",
       "\t\t<dd>0.048951048951049</dd>\n",
       "\t<dt>CollegeGD.Watson</dt>\n",
       "\t\t<dd>0.1998001998002</dd>\n",
       "\t<dt>funding_indicator</dt>\n",
       "\t\t<dd>-0.0154891730882483</dd>\n",
       "\t<dt>CitizenshipAsia</dt>\n",
       "\t\t<dd>0.126873126873127</dd>\n",
       "\t<dt>CitizenshipAsian</dt>\n",
       "\t\t<dd>0.040959040959041</dd>\n",
       "\t<dt>CitizenshipBlack.or.African.American</dt>\n",
       "\t\t<dd>0.032967032967033</dd>\n",
       "\t<dt>CitizenshipChina</dt>\n",
       "\t\t<dd>0.134865134865135</dd>\n",
       "\t<dt>CitizenshipEurope</dt>\n",
       "\t\t<dd>0.020979020979021</dd>\n",
       "\t<dt>CitizenshipHispanic.or.Latino</dt>\n",
       "\t\t<dd>0.03996003996004</dd>\n",
       "\t<dt>CitizenshipIndia</dt>\n",
       "\t\t<dd>0.046953046953047</dd>\n",
       "\t<dt>CitizenshipOther.International.Students</dt>\n",
       "\t\t<dd>0.016983016983017</dd>\n",
       "\t<dt>CitizenshipUnknown</dt>\n",
       "\t\t<dd>0.0669330669330669</dd>\n",
       "\t<dt>CitizenshipWhite</dt>\n",
       "\t\t<dd>0.44955044955045</dd>\n",
       "\t<dt>gap_indicator</dt>\n",
       "\t\t<dd>-0.0294486010709027</dd>\n",
       "\t<dt>GPA_trend</dt>\n",
       "\t\t<dd>-0.00851275334027022</dd>\n",
       "</dl>\n"
      ],
      "text/latex": [
       "\\begin{description*}\n",
       "\\item[GenderFemale] 0.464535464535465\n",
       "\\item[GenderMale] 0.535464535464535\n",
       "\\item[Average\\textbackslash{}\\_GPA] -0.0607653196473238\n",
       "\\item[s\\textbackslash{}\\_start\\textbackslash{}\\_year] 0.109074019209957\n",
       "\\item[s\\textbackslash{}\\_CitizenshipAsia] 0.126873126873127\n",
       "\\item[s\\textbackslash{}\\_CitizenshipChina] 0.134865134865135\n",
       "\\item[s\\textbackslash{}\\_CitizenshipWhite] 0.715284715284715\n",
       "\\item[avs\\textbackslash{}\\_net\\textbackslash{}\\_cost] 0.0157306753722701\n",
       "\\item[Gender.1Male] 0.535464535464535\n",
       "\\item[s\\textbackslash{}\\_Average.Precol.GPA] 0.00745300405385959\n",
       "\\item[s\\textbackslash{}\\_GRE.Combined.General.Write.Score] 0.0385404575714552\n",
       "\\item[s\\textbackslash{}\\_GRE.Combined.Quantitative.Score] -0.00314552277149265\n",
       "\\item[s\\textbackslash{}\\_GRE.Combined.General.Verbal.Score] 0.0150696424770825\n",
       "\\item[CollegeGD.Education] 0.027972027972028\n",
       "\\item[CollegeGD.Grad.School] 0.023976023976024\n",
       "\\item[CollegeGD.Harpur] 0.664335664335664\n",
       "\\item[CollegeGD.Management] 0.022977022977023\n",
       "\\item[CollegeGD.Nursing] 0.048951048951049\n",
       "\\item[CollegeGD.Watson] 0.1998001998002\n",
       "\\item[funding\\textbackslash{}\\_indicator] -0.0154891730882483\n",
       "\\item[CitizenshipAsia] 0.126873126873127\n",
       "\\item[CitizenshipAsian] 0.040959040959041\n",
       "\\item[CitizenshipBlack.or.African.American] 0.032967032967033\n",
       "\\item[CitizenshipChina] 0.134865134865135\n",
       "\\item[CitizenshipEurope] 0.020979020979021\n",
       "\\item[CitizenshipHispanic.or.Latino] 0.03996003996004\n",
       "\\item[CitizenshipIndia] 0.046953046953047\n",
       "\\item[CitizenshipOther.International.Students] 0.016983016983017\n",
       "\\item[CitizenshipUnknown] 0.0669330669330669\n",
       "\\item[CitizenshipWhite] 0.44955044955045\n",
       "\\item[gap\\textbackslash{}\\_indicator] -0.0294486010709027\n",
       "\\item[GPA\\textbackslash{}\\_trend] -0.00851275334027022\n",
       "\\end{description*}\n"
      ],
      "text/markdown": [
       "GenderFemale\n",
       ":   0.464535464535465GenderMale\n",
       ":   0.535464535464535Average_GPA\n",
       ":   -0.0607653196473238s_start_year\n",
       ":   0.109074019209957s_CitizenshipAsia\n",
       ":   0.126873126873127s_CitizenshipChina\n",
       ":   0.134865134865135s_CitizenshipWhite\n",
       ":   0.715284715284715avs_net_cost\n",
       ":   0.0157306753722701Gender.1Male\n",
       ":   0.535464535464535s_Average.Precol.GPA\n",
       ":   0.00745300405385959s_GRE.Combined.General.Write.Score\n",
       ":   0.0385404575714552s_GRE.Combined.Quantitative.Score\n",
       ":   -0.00314552277149265s_GRE.Combined.General.Verbal.Score\n",
       ":   0.0150696424770825CollegeGD.Education\n",
       ":   0.027972027972028CollegeGD.Grad.School\n",
       ":   0.023976023976024CollegeGD.Harpur\n",
       ":   0.664335664335664CollegeGD.Management\n",
       ":   0.022977022977023CollegeGD.Nursing\n",
       ":   0.048951048951049CollegeGD.Watson\n",
       ":   0.1998001998002funding_indicator\n",
       ":   -0.0154891730882483CitizenshipAsia\n",
       ":   0.126873126873127CitizenshipAsian\n",
       ":   0.040959040959041CitizenshipBlack.or.African.American\n",
       ":   0.032967032967033CitizenshipChina\n",
       ":   0.134865134865135CitizenshipEurope\n",
       ":   0.020979020979021CitizenshipHispanic.or.Latino\n",
       ":   0.03996003996004CitizenshipIndia\n",
       ":   0.046953046953047CitizenshipOther.International.Students\n",
       ":   0.016983016983017CitizenshipUnknown\n",
       ":   0.0669330669330669CitizenshipWhite\n",
       ":   0.44955044955045gap_indicator\n",
       ":   -0.0294486010709027GPA_trend\n",
       ":   -0.00851275334027022\n",
       "\n"
      ],
      "text/plain": [
       "                           GenderFemale                              GenderMale \n",
       "                            0.464535465                             0.535464535 \n",
       "                            Average_GPA                            s_start_year \n",
       "                           -0.060765320                             0.109074019 \n",
       "                      s_CitizenshipAsia                      s_CitizenshipChina \n",
       "                            0.126873127                             0.134865135 \n",
       "                     s_CitizenshipWhite                            avs_net_cost \n",
       "                            0.715284715                             0.015730675 \n",
       "                           Gender.1Male                    s_Average.Precol.GPA \n",
       "                            0.535464535                             0.007453004 \n",
       "     s_GRE.Combined.General.Write.Score       s_GRE.Combined.Quantitative.Score \n",
       "                            0.038540458                            -0.003145523 \n",
       "    s_GRE.Combined.General.Verbal.Score                     CollegeGD.Education \n",
       "                            0.015069642                             0.027972028 \n",
       "                  CollegeGD.Grad.School                        CollegeGD.Harpur \n",
       "                            0.023976024                             0.664335664 \n",
       "                   CollegeGD.Management                       CollegeGD.Nursing \n",
       "                            0.022977023                             0.048951049 \n",
       "                       CollegeGD.Watson                       funding_indicator \n",
       "                            0.199800200                            -0.015489173 \n",
       "                        CitizenshipAsia                        CitizenshipAsian \n",
       "                            0.126873127                             0.040959041 \n",
       "   CitizenshipBlack.or.African.American                        CitizenshipChina \n",
       "                            0.032967033                             0.134865135 \n",
       "                      CitizenshipEurope           CitizenshipHispanic.or.Latino \n",
       "                            0.020979021                             0.039960040 \n",
       "                       CitizenshipIndia CitizenshipOther.International.Students \n",
       "                            0.046953047                             0.016983017 \n",
       "                     CitizenshipUnknown                        CitizenshipWhite \n",
       "                            0.066933067                             0.449550450 \n",
       "                          gap_indicator                               GPA_trend \n",
       "                           -0.029448601                            -0.008512753 "
      ]
     },
     "metadata": {},
     "output_type": "display_data"
    }
   ],
   "source": [
    "summary(mod_svm)\n",
    "colMeans(mod_svm$SV)\n",
    "#The resulting support vectors (possibly scaled)."
   ]
  },
  {
   "cell_type": "markdown",
   "metadata": {},
   "source": [
    "## LASSO"
   ]
  },
  {
   "cell_type": "code",
   "execution_count": 135,
   "metadata": {},
   "outputs": [],
   "source": [
    "train_x = model.matrix(~., data = train_x)\n",
    "test_x = model.matrix(~., data = test_x)"
   ]
  },
  {
   "cell_type": "code",
   "execution_count": 136,
   "metadata": {
    "scrolled": false
   },
   "outputs": [
    {
     "data": {
      "image/png": "[encoded data removed]",
      "text/plain": [
       "plot without title"
      ]
     },
     "metadata": {},
     "output_type": "display_data"
    },
    {
     "data": {
      "image/png": "[encoded data removed]",
      "text/plain": [
       "Plot with title \"\""
      ]
     },
     "metadata": {},
     "output_type": "display_data"
    }
   ],
   "source": [
    "cvfit = cv.glmnet(train_x,train_y,alpha=1,family='binomial',type.measure='mse')\n",
    "mod_lasso = glmnet(train_x,train_y,alpha=1, family = \"binomial\",lambda = cvfit$lambda)\n",
    "plot(cvfit)\n",
    "plot_glmnet(mod_lasso)\n",
    "mod_lasso <- glmnet(train_x,train_y,alpha=1, family = \"binomial\",lambda = cvfit$lambda.min)"
   ]
  },
  {
   "cell_type": "code",
   "execution_count": 137,
   "metadata": {
    "scrolled": true
   },
   "outputs": [
    {
     "data": {
      "text/html": [
       "0.718"
      ],
      "text/latex": [
       "0.718"
      ],
      "text/markdown": [
       "0.718"
      ],
      "text/plain": [
       "[1] 0.718"
      ]
     },
     "metadata": {},
     "output_type": "display_data"
    }
   ],
   "source": [
    "lasso_pred = predict(mod_lasso, test_x, type=\"class\")\n",
    "lasso_right = colSums(lasso_pred == test_y)\n",
    "(lasso_acc = round(max(lasso_right)/length(test_y),4))"
   ]
  },
  {
   "cell_type": "markdown",
   "metadata": {},
   "source": [
    "<b> Summary"
   ]
  },
  {
   "cell_type": "code",
   "execution_count": 138,
   "metadata": {
    "scrolled": false
   },
   "outputs": [
    {
     "data": {
      "text/plain": [
       "32 x 1 sparse Matrix of class \"dgCMatrix\"\n",
       "                                                  s0\n",
       "(Intercept)                              .          \n",
       "GenderMale                               0.064072188\n",
       "Average_GPA                              0.580199378\n",
       "s_start_year                            -0.707438846\n",
       "s_CitizenshipAsia                        .          \n",
       "s_CitizenshipChina                       .          \n",
       "s_CitizenshipWhite                      -0.493806771\n",
       "avs_net_cost                             0.077545147\n",
       "Gender.1Male                             0.193333187\n",
       "s_Average.Precol.GPA                     0.036061025\n",
       "s_GRE.Combined.General.Write.Score       0.001396758\n",
       "s_GRE.Combined.Quantitative.Score       -0.127946847\n",
       "s_GRE.Combined.General.Verbal.Score      .          \n",
       "CollegeGD Education                     -0.019215033\n",
       "CollegeGD Grad School                    2.709025411\n",
       "CollegeGD Harpur                        -0.325760503\n",
       "CollegeGD Management                     .          \n",
       "CollegeGD Nursing                        0.611371551\n",
       "CollegeGD Watson                         0.103897085\n",
       "funding_indicator                        0.736486958\n",
       "CitizenshipAsia                          .          \n",
       "CitizenshipAsian                        -0.275230075\n",
       "CitizenshipBlack or African American     0.539159526\n",
       "CitizenshipChina                        -0.109834153\n",
       "CitizenshipEurope                        0.124419593\n",
       "CitizenshipHispanic or Latino           -0.247678323\n",
       "CitizenshipIndia                         0.091740750\n",
       "CitizenshipOther International Students  0.015033512\n",
       "CitizenshipUnknown                       .          \n",
       "CitizenshipWhite                        -0.032428235\n",
       "gap_indicator                            0.343416883\n",
       "GPA_trend                                1.363760259"
      ]
     },
     "metadata": {},
     "output_type": "display_data"
    }
   ],
   "source": [
    "mod_lasso$beta"
   ]
  },
  {
   "cell_type": "markdown",
   "metadata": {},
   "source": [
    "## Prediction Summary"
   ]
  },
  {
   "cell_type": "code",
   "execution_count": 146,
   "metadata": {},
   "outputs": [
    {
     "data": {
      "text/html": [
       "<table>\n",
       "<thead><tr><th></th><th scope=col>Accuracy</th></tr></thead>\n",
       "<tbody>\n",
       "\t<tr><th scope=row>Random Forest</th><td>0.7601</td></tr>\n",
       "\t<tr><th scope=row>LDA</th><td>0.7164</td></tr>\n",
       "\t<tr><th scope=row>Neural Network</th><td>0.7229</td></tr>\n",
       "\t<tr><th scope=row>Logistic Regression</th><td>0.7164</td></tr>\n",
       "\t<tr><th scope=row>SVM</th><td>0.7018</td></tr>\n",
       "\t<tr><th scope=row>LASSO</th><td>0.7180</td></tr>\n",
       "</tbody>\n",
       "</table>\n"
      ],
      "text/latex": [
       "\\begin{tabular}{r|l}\n",
       "  & Accuracy\\\\\n",
       "\\hline\n",
       "\tRandom Forest & 0.7601\\\\\n",
       "\tLDA & 0.7164\\\\\n",
       "\tNeural Network & 0.7229\\\\\n",
       "\tLogistic Regression & 0.7164\\\\\n",
       "\tSVM & 0.7018\\\\\n",
       "\tLASSO & 0.7180\\\\\n",
       "\\end{tabular}\n"
      ],
      "text/markdown": [
       "\n",
       "| <!--/--> | Accuracy |\n",
       "|---|---|\n",
       "| Random Forest | 0.7601 |\n",
       "| LDA | 0.7164 |\n",
       "| Neural Network | 0.7229 |\n",
       "| Logistic Regression | 0.7164 |\n",
       "| SVM | 0.7018 |\n",
       "| LASSO | 0.7180 |\n",
       "\n"
      ],
      "text/plain": [
       "                    Accuracy\n",
       "Random Forest       0.7601  \n",
       "LDA                 0.7164  \n",
       "Neural Network      0.7229  \n",
       "Logistic Regression 0.7164  \n",
       "SVM                 0.7018  \n",
       "LASSO               0.7180  "
      ]
     },
     "metadata": {},
     "output_type": "display_data"
    }
   ],
   "source": [
    "res = data.frame(rbind(rf_acc, lda_acc, nnet_acc, glm_acc,svm_acc,lasso_acc))\n",
    "colnames(res) = 'Accuracy'\n",
    "rownames(res) = c('Random Forest','LDA', 'Neural Network', 'Logistic Regression', 'SVM', 'LASSO')\n",
    "res"
   ]
  },
  {
   "cell_type": "code",
   "execution_count": 10,
   "metadata": {},
   "outputs": [
    {
     "data": {
      "text/html": [
       "854.058762526152"
      ],
      "text/latex": [
       "854.058762526152"
      ],
      "text/markdown": [
       "854.058762526152"
      ],
      "text/plain": [
       "[1] 854.0588"
      ]
     },
     "metadata": {},
     "output_type": "display_data"
    }
   ],
   "source": [
    "odds = exp(1.35*5)\n",
    "p = (odds)/(1+odds)\n",
    "odds"
   ]
  }
 ],
 "metadata": {
  "hide_input": false,
  "kernelspec": {
   "display_name": "R",
   "language": "R",
   "name": "ir"
  },
  "language_info": {
   "codemirror_mode": "r",
   "file_extension": ".r",
   "mimetype": "text/x-r-source",
   "name": "R",
   "pygments_lexer": "r",
   "version": "3.6.1"
  },
  "latex_envs": {
   "LaTeX_envs_menu_present": true,
   "autoclose": false,
   "autocomplete": true,
   "bibliofile": "biblio.bib",
   "cite_by": "apalike",
   "current_citInitial": 1,
   "eqLabelWithNumbers": true,
   "eqNumInitial": 1,
   "hotkeys": {
    "equation": "Ctrl-E",
    "itemize": "Ctrl-I"
   },
   "labels_anchors": false,
   "latex_user_defs": false,
   "report_style_numbering": false,
   "user_envs_cfg": false
  },
  "toc": {
   "base_numbering": 1,
   "nav_menu": {},
   "number_sections": true,
   "sideBar": true,
   "skip_h1_title": false,
   "title_cell": "Table of Contents",
   "title_sidebar": "Contents",
   "toc_cell": false,
   "toc_position": {
    "height": "calc(100% - 180px)",
    "left": "10px",
    "top": "150px",
    "width": "196.91px"
   },
   "toc_section_display": true,
   "toc_window_display": true
  }
 },
 "nbformat": 4,
 "nbformat_minor": 2
}
