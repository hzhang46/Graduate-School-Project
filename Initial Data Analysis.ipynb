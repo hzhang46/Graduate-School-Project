{
 "cells": [
  {
   "cell_type": "markdown",
   "metadata": {},
   "source": [
    "# Load Data and Final Clean"
   ]
  },
  {
   "cell_type": "code",
   "execution_count": 3,
   "metadata": {},
   "outputs": [
    {
     "data": {
      "text/html": [
       "<ol class=list-inline>\n",
       "\t<li>'X1st_Term_Funding'</li>\n",
       "\t<li>'X2nd_Term_Funding'</li>\n",
       "\t<li>'X3rd_Term_Funding'</li>\n",
       "\t<li>'X4th_Term_Funding'</li>\n",
       "\t<li>'Start_year'</li>\n",
       "\t<li>'Start_age'</li>\n",
       "\t<li>'College'</li>\n",
       "\t<li>'Age'</li>\n",
       "\t<li>'Degree'</li>\n",
       "\t<li>'Gender'</li>\n",
       "\t<li>'funding_indicator'</li>\n",
       "\t<li>'ID'</li>\n",
       "\t<li>'Citizenship'</li>\n",
       "\t<li>'Major_id'</li>\n",
       "\t<li>'Major'</li>\n",
       "\t<li>'net_cost'</li>\n",
       "\t<li>'Program'</li>\n",
       "\t<li>'Prep.Level'</li>\n",
       "\t<li>'Total.Charges'</li>\n",
       "\t<li>'Total.Funding.Amount'</li>\n",
       "\t<li>'Y'</li>\n",
       "\t<li>'PC1'</li>\n",
       "\t<li>'PC2'</li>\n",
       "\t<li>'PC3'</li>\n",
       "\t<li>'Term.1.GPA'</li>\n",
       "\t<li>'Term.2.GPA'</li>\n",
       "\t<li>'Term.3.GPA'</li>\n",
       "\t<li>'Term.4.GPA'</li>\n",
       "\t<li>'Term.5.GPA'</li>\n",
       "\t<li>'Term.6.GPA'</li>\n",
       "\t<li>'Term.7.GPA'</li>\n",
       "\t<li>'Term.8.GPA'</li>\n",
       "\t<li>'gap_indicator'</li>\n",
       "\t<li>'GPA_trend'</li>\n",
       "\t<li>'Valid.term'</li>\n",
       "\t<li>'Average_GPA'</li>\n",
       "\t<li>'academic_period'</li>\n",
       "</ol>\n"
      ],
      "text/latex": [
       "\\begin{enumerate*}\n",
       "\\item 'X1st\\_Term\\_Funding'\n",
       "\\item 'X2nd\\_Term\\_Funding'\n",
       "\\item 'X3rd\\_Term\\_Funding'\n",
       "\\item 'X4th\\_Term\\_Funding'\n",
       "\\item 'Start\\_year'\n",
       "\\item 'Start\\_age'\n",
       "\\item 'College'\n",
       "\\item 'Age'\n",
       "\\item 'Degree'\n",
       "\\item 'Gender'\n",
       "\\item 'funding\\_indicator'\n",
       "\\item 'ID'\n",
       "\\item 'Citizenship'\n",
       "\\item 'Major\\_id'\n",
       "\\item 'Major'\n",
       "\\item 'net\\_cost'\n",
       "\\item 'Program'\n",
       "\\item 'Prep.Level'\n",
       "\\item 'Total.Charges'\n",
       "\\item 'Total.Funding.Amount'\n",
       "\\item 'Y'\n",
       "\\item 'PC1'\n",
       "\\item 'PC2'\n",
       "\\item 'PC3'\n",
       "\\item 'Term.1.GPA'\n",
       "\\item 'Term.2.GPA'\n",
       "\\item 'Term.3.GPA'\n",
       "\\item 'Term.4.GPA'\n",
       "\\item 'Term.5.GPA'\n",
       "\\item 'Term.6.GPA'\n",
       "\\item 'Term.7.GPA'\n",
       "\\item 'Term.8.GPA'\n",
       "\\item 'gap\\_indicator'\n",
       "\\item 'GPA\\_trend'\n",
       "\\item 'Valid.term'\n",
       "\\item 'Average\\_GPA'\n",
       "\\item 'academic\\_period'\n",
       "\\end{enumerate*}\n"
      ],
      "text/markdown": [
       "1. 'X1st_Term_Funding'\n",
       "2. 'X2nd_Term_Funding'\n",
       "3. 'X3rd_Term_Funding'\n",
       "4. 'X4th_Term_Funding'\n",
       "5. 'Start_year'\n",
       "6. 'Start_age'\n",
       "7. 'College'\n",
       "8. 'Age'\n",
       "9. 'Degree'\n",
       "10. 'Gender'\n",
       "11. 'funding_indicator'\n",
       "12. 'ID'\n",
       "13. 'Citizenship'\n",
       "14. 'Major_id'\n",
       "15. 'Major'\n",
       "16. 'net_cost'\n",
       "17. 'Program'\n",
       "18. 'Prep.Level'\n",
       "19. 'Total.Charges'\n",
       "20. 'Total.Funding.Amount'\n",
       "21. 'Y'\n",
       "22. 'PC1'\n",
       "23. 'PC2'\n",
       "24. 'PC3'\n",
       "25. 'Term.1.GPA'\n",
       "26. 'Term.2.GPA'\n",
       "27. 'Term.3.GPA'\n",
       "28. 'Term.4.GPA'\n",
       "29. 'Term.5.GPA'\n",
       "30. 'Term.6.GPA'\n",
       "31. 'Term.7.GPA'\n",
       "32. 'Term.8.GPA'\n",
       "33. 'gap_indicator'\n",
       "34. 'GPA_trend'\n",
       "35. 'Valid.term'\n",
       "36. 'Average_GPA'\n",
       "37. 'academic_period'\n",
       "\n",
       "\n"
      ],
      "text/plain": [
       " [1] \"X1st_Term_Funding\"    \"X2nd_Term_Funding\"    \"X3rd_Term_Funding\"   \n",
       " [4] \"X4th_Term_Funding\"    \"Start_year\"           \"Start_age\"           \n",
       " [7] \"College\"              \"Age\"                  \"Degree\"              \n",
       "[10] \"Gender\"               \"funding_indicator\"    \"ID\"                  \n",
       "[13] \"Citizenship\"          \"Major_id\"             \"Major\"               \n",
       "[16] \"net_cost\"             \"Program\"              \"Prep.Level\"          \n",
       "[19] \"Total.Charges\"        \"Total.Funding.Amount\" \"Y\"                   \n",
       "[22] \"PC1\"                  \"PC2\"                  \"PC3\"                 \n",
       "[25] \"Term.1.GPA\"           \"Term.2.GPA\"           \"Term.3.GPA\"          \n",
       "[28] \"Term.4.GPA\"           \"Term.5.GPA\"           \"Term.6.GPA\"          \n",
       "[31] \"Term.7.GPA\"           \"Term.8.GPA\"           \"gap_indicator\"       \n",
       "[34] \"GPA_trend\"            \"Valid.term\"           \"Average_GPA\"         \n",
       "[37] \"academic_period\"     "
      ]
     },
     "metadata": {},
     "output_type": "display_data"
    },
    {
     "data": {
      "text/html": [
       "<ol class=list-inline>\n",
       "\t<li>2470</li>\n",
       "\t<li>37</li>\n",
       "</ol>\n"
      ],
      "text/latex": [
       "\\begin{enumerate*}\n",
       "\\item 2470\n",
       "\\item 37\n",
       "\\end{enumerate*}\n"
      ],
      "text/markdown": [
       "1. 2470\n",
       "2. 37\n",
       "\n",
       "\n"
      ],
      "text/plain": [
       "[1] 2470   37"
      ]
     },
     "metadata": {},
     "output_type": "display_data"
    }
   ],
   "source": [
    "df <- read.csv(file=\"data_020320_cleaned.csv\",sep=\",\",header=TRUE)\n",
    "df = df[,c(-1,-2)]\n",
    "colnames(df)\n",
    "dim(df)"
   ]
  },
  {
   "cell_type": "markdown",
   "metadata": {},
   "source": [
    "Scale and center some variables:"
   ]
  },
  {
   "cell_type": "code",
   "execution_count": 4,
   "metadata": {},
   "outputs": [],
   "source": [
    "mean_age = mean(df$Start_age)\n",
    "sd_age = sd(df$Start_age)\n",
    "df$s_start_age = (df$Start_age - mean_age)/sd_age\n",
    "mean_net = mean(df$net_cost)\n",
    "sd_net = sd(df$net_cost)\n",
    "df$s_net_cost = (df$net_cost - mean_net)/sd_net\n",
    "mean_year = mean(df$Start_year)\n",
    "sd_year = sd(df$Start_year)\n",
    "df$s_start_year = (df$Start_year - mean_year)/sd_year"
   ]
  },
  {
   "cell_type": "markdown",
   "metadata": {},
   "source": [
    "## Seperate by School"
   ]
  },
  {
   "cell_type": "markdown",
   "metadata": {},
   "source": [
    "Different Schools"
   ]
  },
  {
   "cell_type": "code",
   "execution_count": 5,
   "metadata": {},
   "outputs": [],
   "source": [
    "schools = levels(factor(df$College))"
   ]
  },
  {
   "cell_type": "code",
   "execution_count": 6,
   "metadata": {},
   "outputs": [],
   "source": [
    "Harpur_df = df[df$College %in% schools[1:4],]\n",
    "Management_df = df[df$College==\"GD Management\",]\n",
    "Nursing_df = df[df$College==\"GD Nursing\",]\n",
    "Watson_df = df[df$College==\"GD Watson\",]"
   ]
  },
  {
   "cell_type": "code",
   "execution_count": 7,
   "metadata": {
    "scrolled": false
   },
   "outputs": [
    {
     "data": {
      "text/html": [
       "<ol class=list-inline>\n",
       "\t<li>Chemistry</li>\n",
       "\t<li>Behavioral Neuroscience</li>\n",
       "\t<li>Cognitive Psychology</li>\n",
       "\t<li>Physics</li>\n",
       "\t<li>Mathematics</li>\n",
       "\t<li>Comparative Literature</li>\n",
       "\t<li>Translation Studies</li>\n",
       "\t<li>Educational Theory and Practic</li>\n",
       "\t<li>Philosophy Interpretation and</li>\n",
       "\t<li>Biological Sciences</li>\n",
       "\t<li>English</li>\n",
       "\t<li>Materials Science and Engineer</li>\n",
       "\t<li>History</li>\n",
       "\t<li>Anthropology</li>\n",
       "\t<li>Sociology</li>\n",
       "\t<li>Material Sci and Eng-Engineerg</li>\n",
       "\t<li>Clinical Psychology</li>\n",
       "\t<li>Economics</li>\n",
       "\t<li>Geology</li>\n",
       "\t<li>Philosophy SPEL</li>\n",
       "\t<li>Political Science</li>\n",
       "\t<li>Community and Public Affairs</li>\n",
       "\t<li>Art History</li>\n",
       "\t<li>Materials Science and Engr</li>\n",
       "\t<li>Biological Sciences EEB</li>\n",
       "\t<li>X Geology</li>\n",
       "\t<li>Art History Combined MA PhD</li>\n",
       "\t<li>Mechanical Engineering</li>\n",
       "\t<li>Mathematics/Economics</li>\n",
       "</ol>\n",
       "\n",
       "<details>\n",
       "\t<summary style=display:list-item;cursor:pointer>\n",
       "\t\t<strong>Levels</strong>:\n",
       "\t</summary>\n",
       "\t<ol class=list-inline>\n",
       "\t\t<li>'Anthropology'</li>\n",
       "\t\t<li>'Art History'</li>\n",
       "\t\t<li>'Art History Combined MA PhD'</li>\n",
       "\t\t<li>'Behavioral Neuroscience'</li>\n",
       "\t\t<li>'Biological Sciences'</li>\n",
       "\t\t<li>'Biological Sciences EEB'</li>\n",
       "\t\t<li>'Biomedical Engineering'</li>\n",
       "\t\t<li>'Chemistry'</li>\n",
       "\t\t<li>'Clinical Psychology'</li>\n",
       "\t\t<li>'Cognitive Psychology'</li>\n",
       "\t\t<li>'Community and Public Affairs'</li>\n",
       "\t\t<li>'Community Health NP'</li>\n",
       "\t\t<li>'Comparative Literature'</li>\n",
       "\t\t<li>'Computer Science'</li>\n",
       "\t\t<li>'Economics'</li>\n",
       "\t\t<li>'Educational Theory and Practic'</li>\n",
       "\t\t<li>'Electrical and Computer Engr'</li>\n",
       "\t\t<li>'Electrical Engineering'</li>\n",
       "\t\t<li>'English'</li>\n",
       "\t\t<li>'Family Nurse Practitioner'</li>\n",
       "\t\t<li>'Family Psych Mental Health NP'</li>\n",
       "\t\t<li>'Geology'</li>\n",
       "\t\t<li>'History'</li>\n",
       "\t\t<li>'Industrial and Systems Enginee'</li>\n",
       "\t\t<li>'Management PHD'</li>\n",
       "\t\t<li>'Material Sci and Eng-Engineerg'</li>\n",
       "\t\t<li>'Materials Engineering'</li>\n",
       "\t\t<li>'Materials Science and Engineer'</li>\n",
       "\t\t<li>'Materials Science and Engr'</li>\n",
       "\t\t<li>'Mathematics'</li>\n",
       "\t\t<li>'Mathematics/Economics'</li>\n",
       "\t\t<li>'Mechanical Engineering'</li>\n",
       "\t\t<li>'Nursing'</li>\n",
       "\t\t<li>'Philosophy Interpretation and'</li>\n",
       "\t\t<li>'Philosophy SPEL'</li>\n",
       "\t\t<li>'Physics'</li>\n",
       "\t\t<li>'Political Science'</li>\n",
       "\t\t<li>'Sociology'</li>\n",
       "\t\t<li>'Systems Science'</li>\n",
       "\t\t<li>'Systems Science/Biomedical Engineering'</li>\n",
       "\t\t<li>'Systems Science/EE'</li>\n",
       "\t\t<li>'Translation Studies'</li>\n",
       "\t\t<li>'X Geology'</li>\n",
       "\t\t<li>'X Gerontological NP'</li>\n",
       "\t\t<li>'XGerontolog Clin Nurse Special'</li>\n",
       "\t</ol>\n",
       "</details>"
      ],
      "text/latex": [
       "\\begin{enumerate*}\n",
       "\\item Chemistry\n",
       "\\item Behavioral Neuroscience\n",
       "\\item Cognitive Psychology\n",
       "\\item Physics\n",
       "\\item Mathematics\n",
       "\\item Comparative Literature\n",
       "\\item Translation Studies\n",
       "\\item Educational Theory and Practic\n",
       "\\item Philosophy Interpretation and\n",
       "\\item Biological Sciences\n",
       "\\item English\n",
       "\\item Materials Science and Engineer\n",
       "\\item History\n",
       "\\item Anthropology\n",
       "\\item Sociology\n",
       "\\item Material Sci and Eng-Engineerg\n",
       "\\item Clinical Psychology\n",
       "\\item Economics\n",
       "\\item Geology\n",
       "\\item Philosophy SPEL\n",
       "\\item Political Science\n",
       "\\item Community and Public Affairs\n",
       "\\item Art History\n",
       "\\item Materials Science and Engr\n",
       "\\item Biological Sciences EEB\n",
       "\\item X Geology\n",
       "\\item Art History Combined MA PhD\n",
       "\\item Mechanical Engineering\n",
       "\\item Mathematics/Economics\n",
       "\\end{enumerate*}\n",
       "\n",
       "\\emph{Levels}: \\begin{enumerate*}\n",
       "\\item 'Anthropology'\n",
       "\\item 'Art History'\n",
       "\\item 'Art History Combined MA PhD'\n",
       "\\item 'Behavioral Neuroscience'\n",
       "\\item 'Biological Sciences'\n",
       "\\item 'Biological Sciences EEB'\n",
       "\\item 'Biomedical Engineering'\n",
       "\\item 'Chemistry'\n",
       "\\item 'Clinical Psychology'\n",
       "\\item 'Cognitive Psychology'\n",
       "\\item 'Community and Public Affairs'\n",
       "\\item 'Community Health NP'\n",
       "\\item 'Comparative Literature'\n",
       "\\item 'Computer Science'\n",
       "\\item 'Economics'\n",
       "\\item 'Educational Theory and Practic'\n",
       "\\item 'Electrical and Computer Engr'\n",
       "\\item 'Electrical Engineering'\n",
       "\\item 'English'\n",
       "\\item 'Family Nurse Practitioner'\n",
       "\\item 'Family Psych Mental Health NP'\n",
       "\\item 'Geology'\n",
       "\\item 'History'\n",
       "\\item 'Industrial and Systems Enginee'\n",
       "\\item 'Management PHD'\n",
       "\\item 'Material Sci and Eng-Engineerg'\n",
       "\\item 'Materials Engineering'\n",
       "\\item 'Materials Science and Engineer'\n",
       "\\item 'Materials Science and Engr'\n",
       "\\item 'Mathematics'\n",
       "\\item 'Mathematics/Economics'\n",
       "\\item 'Mechanical Engineering'\n",
       "\\item 'Nursing'\n",
       "\\item 'Philosophy Interpretation and'\n",
       "\\item 'Philosophy SPEL'\n",
       "\\item 'Physics'\n",
       "\\item 'Political Science'\n",
       "\\item 'Sociology'\n",
       "\\item 'Systems Science'\n",
       "\\item 'Systems Science/Biomedical Engineering'\n",
       "\\item 'Systems Science/EE'\n",
       "\\item 'Translation Studies'\n",
       "\\item 'X Geology'\n",
       "\\item 'X Gerontological NP'\n",
       "\\item 'XGerontolog Clin Nurse Special'\n",
       "\\end{enumerate*}\n"
      ],
      "text/markdown": [
       "1. Chemistry\n",
       "2. Behavioral Neuroscience\n",
       "3. Cognitive Psychology\n",
       "4. Physics\n",
       "5. Mathematics\n",
       "6. Comparative Literature\n",
       "7. Translation Studies\n",
       "8. Educational Theory and Practic\n",
       "9. Philosophy Interpretation and\n",
       "10. Biological Sciences\n",
       "11. English\n",
       "12. Materials Science and Engineer\n",
       "13. History\n",
       "14. Anthropology\n",
       "15. Sociology\n",
       "16. Material Sci and Eng-Engineerg\n",
       "17. Clinical Psychology\n",
       "18. Economics\n",
       "19. Geology\n",
       "20. Philosophy SPEL\n",
       "21. Political Science\n",
       "22. Community and Public Affairs\n",
       "23. Art History\n",
       "24. Materials Science and Engr\n",
       "25. Biological Sciences EEB\n",
       "26. X Geology\n",
       "27. Art History Combined MA PhD\n",
       "28. Mechanical Engineering\n",
       "29. Mathematics/Economics\n",
       "\n",
       "\n",
       "\n",
       "**Levels**: 1. 'Anthropology'\n",
       "2. 'Art History'\n",
       "3. 'Art History Combined MA PhD'\n",
       "4. 'Behavioral Neuroscience'\n",
       "5. 'Biological Sciences'\n",
       "6. 'Biological Sciences EEB'\n",
       "7. 'Biomedical Engineering'\n",
       "8. 'Chemistry'\n",
       "9. 'Clinical Psychology'\n",
       "10. 'Cognitive Psychology'\n",
       "11. 'Community and Public Affairs'\n",
       "12. 'Community Health NP'\n",
       "13. 'Comparative Literature'\n",
       "14. 'Computer Science'\n",
       "15. 'Economics'\n",
       "16. 'Educational Theory and Practic'\n",
       "17. 'Electrical and Computer Engr'\n",
       "18. 'Electrical Engineering'\n",
       "19. 'English'\n",
       "20. 'Family Nurse Practitioner'\n",
       "21. 'Family Psych Mental Health NP'\n",
       "22. 'Geology'\n",
       "23. 'History'\n",
       "24. 'Industrial and Systems Enginee'\n",
       "25. 'Management PHD'\n",
       "26. 'Material Sci and Eng-Engineerg'\n",
       "27. 'Materials Engineering'\n",
       "28. 'Materials Science and Engineer'\n",
       "29. 'Materials Science and Engr'\n",
       "30. 'Mathematics'\n",
       "31. 'Mathematics/Economics'\n",
       "32. 'Mechanical Engineering'\n",
       "33. 'Nursing'\n",
       "34. 'Philosophy Interpretation and'\n",
       "35. 'Philosophy SPEL'\n",
       "36. 'Physics'\n",
       "37. 'Political Science'\n",
       "38. 'Sociology'\n",
       "39. 'Systems Science'\n",
       "40. 'Systems Science/Biomedical Engineering'\n",
       "41. 'Systems Science/EE'\n",
       "42. 'Translation Studies'\n",
       "43. 'X Geology'\n",
       "44. 'X Gerontological NP'\n",
       "45. 'XGerontolog Clin Nurse Special'\n",
       "\n",
       "\n"
      ],
      "text/plain": [
       " [1] Chemistry                      Behavioral Neuroscience       \n",
       " [3] Cognitive Psychology           Physics                       \n",
       " [5] Mathematics                    Comparative Literature        \n",
       " [7] Translation Studies            Educational Theory and Practic\n",
       " [9] Philosophy Interpretation and  Biological Sciences           \n",
       "[11] English                        Materials Science and Engineer\n",
       "[13] History                        Anthropology                  \n",
       "[15] Sociology                      Material Sci and Eng-Engineerg\n",
       "[17] Clinical Psychology            Economics                     \n",
       "[19] Geology                        Philosophy SPEL               \n",
       "[21] Political Science              Community and Public Affairs  \n",
       "[23] Art History                    Materials Science and Engr    \n",
       "[25] Biological Sciences EEB        X Geology                     \n",
       "[27] Art History Combined MA PhD    Mechanical Engineering        \n",
       "[29] Mathematics/Economics         \n",
       "45 Levels: Anthropology Art History ... XGerontolog Clin Nurse Special"
      ]
     },
     "metadata": {},
     "output_type": "display_data"
    }
   ],
   "source": [
    "unique(Harpur_df$Major)"
   ]
  },
  {
   "cell_type": "code",
   "execution_count": 8,
   "metadata": {},
   "outputs": [],
   "source": [
    "harpur_sciences <- c(\"Chemistry\", \"Behavioral Neuroscience\",\"Cognitive Psychology\",\"Physics\",\"Mathematics\",\n",
    "                     \"Biological Sciences\",\"Materials Science and Engineer\",\"Material Sci and Eng-Engineerg\",\n",
    "                     \"Clinical Psychology\",\"Economics\",\"Geology\",\"Political Science\",\"Materials Science and Engr\",\n",
    "                     \"Biological Sciences EEB\", \"X Geology\",\"Mathematics/Economics\")\n",
    "harpur_arts <- c(\"Comparative Literature\",\"Translation Studies\",\"Educational Theory and Practic\",\n",
    "                 \"Philosophy Interpretation and\", \"English\",\"History\",\"Anthropology\",\"Sociology\",\"Philosophy SPEL\",\n",
    "                 \"Community and Public Affairs\",\"Art History\",\"Art History Combined MA PhD\")"
   ]
  },
  {
   "cell_type": "code",
   "execution_count": 9,
   "metadata": {},
   "outputs": [],
   "source": [
    "Harpur_sciences = Harpur_df[Harpur_df$Major %in% harpur_sciences,]\n",
    "Harpur_arts = Harpur_df[Harpur_df$Major %in% harpur_arts,]"
   ]
  },
  {
   "cell_type": "code",
   "execution_count": 10,
   "metadata": {},
   "outputs": [
    {
     "data": {
      "text/html": [
       "861"
      ],
      "text/latex": [
       "861"
      ],
      "text/markdown": [
       "861"
      ],
      "text/plain": [
       "[1] 861"
      ]
     },
     "metadata": {},
     "output_type": "display_data"
    },
    {
     "data": {
      "text/html": [
       "918"
      ],
      "text/latex": [
       "918"
      ],
      "text/markdown": [
       "918"
      ],
      "text/plain": [
       "[1] 918"
      ]
     },
     "metadata": {},
     "output_type": "display_data"
    },
    {
     "data": {
      "text/html": [
       "1780"
      ],
      "text/latex": [
       "1780"
      ],
      "text/markdown": [
       "1780"
      ],
      "text/plain": [
       "[1] 1780"
      ]
     },
     "metadata": {},
     "output_type": "display_data"
    }
   ],
   "source": [
    "dim(Harpur_sciences)[1]\n",
    "dim(Harpur_arts)[1]\n",
    "dim(Harpur_df)[1]"
   ]
  },
  {
   "cell_type": "code",
   "execution_count": 11,
   "metadata": {},
   "outputs": [
    {
     "data": {
      "text/html": [
       "<table>\n",
       "<thead><tr><th scope=col>School</th><th scope=col>Total</th><th scope=col>Successful.Graduates</th><th scope=col>Unsuccessful.Graduates</th></tr></thead>\n",
       "<tbody>\n",
       "\t<tr><td>Harpur sciences</td><td>861            </td><td>542            </td><td>319            </td></tr>\n",
       "\t<tr><td>Harpur_arts    </td><td>918            </td><td>534            </td><td>384            </td></tr>\n",
       "\t<tr><td>SOM            </td><td> 58            </td><td> 38            </td><td> 20            </td></tr>\n",
       "\t<tr><td>Nursing        </td><td>117            </td><td> 72            </td><td> 45            </td></tr>\n",
       "\t<tr><td>Watson         </td><td>515            </td><td>343            </td><td>172            </td></tr>\n",
       "</tbody>\n",
       "</table>\n"
      ],
      "text/latex": [
       "\\begin{tabular}{r|llll}\n",
       " School & Total & Successful.Graduates & Unsuccessful.Graduates\\\\\n",
       "\\hline\n",
       "\t Harpur sciences & 861             & 542             & 319            \\\\\n",
       "\t Harpur\\_arts     & 918               & 534               & 384              \\\\\n",
       "\t SOM             &  58             &  38             &  20            \\\\\n",
       "\t Nursing         & 117             &  72             &  45            \\\\\n",
       "\t Watson          & 515             & 343             & 172            \\\\\n",
       "\\end{tabular}\n"
      ],
      "text/markdown": [
       "\n",
       "| School | Total | Successful.Graduates | Unsuccessful.Graduates |\n",
       "|---|---|---|---|\n",
       "| Harpur sciences | 861             | 542             | 319             |\n",
       "| Harpur_arts     | 918             | 534             | 384             |\n",
       "| SOM             |  58             |  38             |  20             |\n",
       "| Nursing         | 117             |  72             |  45             |\n",
       "| Watson          | 515             | 343             | 172             |\n",
       "\n"
      ],
      "text/plain": [
       "  School          Total Successful.Graduates Unsuccessful.Graduates\n",
       "1 Harpur sciences 861   542                  319                   \n",
       "2 Harpur_arts     918   534                  384                   \n",
       "3 SOM              58    38                   20                   \n",
       "4 Nursing         117    72                   45                   \n",
       "5 Watson          515   343                  172                   "
      ]
     },
     "metadata": {},
     "output_type": "display_data"
    }
   ],
   "source": [
    "a_n = dim(Harpur_sciences)[1]\n",
    "a_1 = sum(Harpur_sciences$Y)\n",
    "a_0 = a_n - a_1\n",
    "b_n = dim(Harpur_arts)[1]\n",
    "b_1 = sum(Harpur_arts$Y)\n",
    "b_0 = b_n - b_1\n",
    "c_n = dim(Management_df)[1]\n",
    "c_1 = sum(Management_df$Y)\n",
    "c_0 = c_n - c_1\n",
    "d_n = dim(Nursing_df)[1]\n",
    "d_1 = sum(Nursing_df$Y)\n",
    "d_0 = d_n - d_1\n",
    "e_n = dim(Watson_df)[1]\n",
    "e_1 = sum(Watson_df$Y)\n",
    "e_0 = e_n - e_1\n",
    "School = c(\"Harpur sciences\",\"Harpur_arts\",\"SOM\",\"Nursing\",\"Watson\")\n",
    "sch_total = c(a_n,b_n,c_n,d_n,e_n)\n",
    "succ_total = c(a_1,b_1,c_1,d_1,e_1)\n",
    "unsucc_total = c(a_0,b_0,c_0,d_0,e_0)\n",
    "data.frame(\"School\"=School,\"Total\"=sch_total,\"Successful Graduates\"=succ_total,\"Unsuccessful Graduates\"=unsucc_total)"
   ]
  },
  {
   "cell_type": "markdown",
   "metadata": {},
   "source": [
    "# Harpur Sciences Analysis"
   ]
  },
  {
   "cell_type": "markdown",
   "metadata": {},
   "source": [
    "Won't use Degree column since it does not accurately show the student's major"
   ]
  },
  {
   "cell_type": "markdown",
   "metadata": {},
   "source": [
    "<b> Logistic regression model:"
   ]
  },
  {
   "cell_type": "code",
   "execution_count": 10,
   "metadata": {},
   "outputs": [
    {
     "data": {
      "text/plain": [
       "\n",
       "Call:\n",
       "glm(formula = Y ~ s_start_age + factor(Gender) + factor(funding_indicator) + \n",
       "    factor(Citizenship) + s_net_cost + PC1 + PC2 + PC3 + factor(gap_indicator) + \n",
       "    GPA_trend + s_start_year - 1, family = \"binomial\", data = Harpur_sciences)\n",
       "\n",
       "Deviance Residuals: \n",
       "    Min       1Q   Median       3Q      Max  \n",
       "-3.1582  -0.9314   0.5094   0.8598   1.9400  \n",
       "\n",
       "Coefficients:\n",
       "                                                      Estimate Std. Error\n",
       "s_start_age                                            0.13758    0.14937\n",
       "factor(Gender)Female                                   0.51166    0.52948\n",
       "factor(Gender)Male                                     0.52161    0.51853\n",
       "factor(funding_indicator)1                             1.29069    0.26219\n",
       "factor(Citizenship)American Indian or Alaskan Native -14.79014  482.99092\n",
       "factor(Citizenship)Asia                               -0.83427    0.55907\n",
       "factor(Citizenship)Asian                              -1.36366    0.61937\n",
       "factor(Citizenship)Black or African American          -0.75668    0.69737\n",
       "factor(Citizenship)China                              -0.43045    0.50299\n",
       "factor(Citizenship)Europe                             -0.88814    0.62671\n",
       "factor(Citizenship)Hispanic or Latino                 -1.80981    0.61028\n",
       "factor(Citizenship)India                              -0.55735    0.62832\n",
       "factor(Citizenship)North America                      -1.35618    0.82223\n",
       "factor(Citizenship)South America                      -0.34352    0.90289\n",
       "factor(Citizenship)Unknown                            -0.42974    0.60645\n",
       "factor(Citizenship)White                              -0.97666    0.48623\n",
       "s_net_cost                                             0.29634    0.10094\n",
       "PC1                                                    0.02325    0.04115\n",
       "PC2                                                   -0.06588    0.07696\n",
       "PC3                                                    0.01707    0.48535\n",
       "factor(gap_indicator)1                                 1.22096    0.43267\n",
       "GPA_trend                                              2.45795    0.89701\n",
       "s_start_year                                          -1.17468    0.21257\n",
       "                                                     z value Pr(>|z|)    \n",
       "s_start_age                                            0.921  0.35703    \n",
       "factor(Gender)Female                                   0.966  0.33388    \n",
       "factor(Gender)Male                                     1.006  0.31444    \n",
       "factor(funding_indicator)1                             4.923 8.54e-07 ***\n",
       "factor(Citizenship)American Indian or Alaskan Native  -0.031  0.97557    \n",
       "factor(Citizenship)Asia                               -1.492  0.13564    \n",
       "factor(Citizenship)Asian                              -2.202  0.02769 *  \n",
       "factor(Citizenship)Black or African American          -1.085  0.27790    \n",
       "factor(Citizenship)China                              -0.856  0.39213    \n",
       "factor(Citizenship)Europe                             -1.417  0.15644    \n",
       "factor(Citizenship)Hispanic or Latino                 -2.966  0.00302 ** \n",
       "factor(Citizenship)India                              -0.887  0.37505    \n",
       "factor(Citizenship)North America                      -1.649  0.09907 .  \n",
       "factor(Citizenship)South America                      -0.380  0.70360    \n",
       "factor(Citizenship)Unknown                            -0.709  0.47857    \n",
       "factor(Citizenship)White                              -2.009  0.04457 *  \n",
       "s_net_cost                                             2.936  0.00333 ** \n",
       "PC1                                                    0.565  0.57208    \n",
       "PC2                                                   -0.856  0.39198    \n",
       "PC3                                                    0.035  0.97194    \n",
       "factor(gap_indicator)1                                 2.822  0.00477 ** \n",
       "GPA_trend                                              2.740  0.00614 ** \n",
       "s_start_year                                          -5.526 3.27e-08 ***\n",
       "---\n",
       "Signif. codes:  0 '***' 0.001 '**' 0.01 '*' 0.05 '.' 0.1 ' ' 1\n",
       "\n",
       "(Dispersion parameter for binomial family taken to be 1)\n",
       "\n",
       "    Null deviance: 1193.60  on 861  degrees of freedom\n",
       "Residual deviance:  933.74  on 838  degrees of freedom\n",
       "AIC: 979.74\n",
       "\n",
       "Number of Fisher Scoring iterations: 13\n"
      ]
     },
     "metadata": {},
     "output_type": "display_data"
    }
   ],
   "source": [
    "log_mod_h_s = glm(Y~s_start_age+factor(Gender)+factor(funding_indicator)+factor(Citizenship)+\n",
    "                s_net_cost+PC1+PC2+PC3+factor(gap_indicator)+GPA_trend+s_start_year-1,\n",
    "                data=Harpur_sciences,family=\"binomial\")\n",
    "summary(log_mod_h_s)"
   ]
  },
  {
   "cell_type": "markdown",
   "metadata": {},
   "source": [
    "<b> Significant Variables of logistic regression model: "
   ]
  },
  {
   "cell_type": "code",
   "execution_count": 11,
   "metadata": {},
   "outputs": [
    {
     "data": {
      "text/html": [
       "<table>\n",
       "<thead><tr><th></th><th scope=col>Estimate</th><th scope=col>Pr(&gt;|z|)</th></tr></thead>\n",
       "<tbody>\n",
       "\t<tr><th scope=row>factor(funding_indicator)1</th><td> 1.29069</td><td>0.00000 </td></tr>\n",
       "\t<tr><th scope=row>factor(Citizenship)Asian</th><td>-1.36366</td><td>0.02769 </td></tr>\n",
       "\t<tr><th scope=row>factor(Citizenship)Hispanic or Latino</th><td>-1.80981</td><td>0.00302 </td></tr>\n",
       "\t<tr><th scope=row>factor(Citizenship)White</th><td>-0.97666</td><td>0.04457 </td></tr>\n",
       "\t<tr><th scope=row>s_net_cost</th><td> 0.29634</td><td>0.00333 </td></tr>\n",
       "\t<tr><th scope=row>factor(gap_indicator)1</th><td> 1.22096</td><td>0.00477 </td></tr>\n",
       "\t<tr><th scope=row>GPA_trend</th><td> 2.45795</td><td>0.00614 </td></tr>\n",
       "\t<tr><th scope=row>s_start_year</th><td>-1.17468</td><td>0.00000 </td></tr>\n",
       "</tbody>\n",
       "</table>\n"
      ],
      "text/latex": [
       "\\begin{tabular}{r|ll}\n",
       "  & Estimate & Pr(>\\textbar{}z\\textbar{})\\\\\n",
       "\\hline\n",
       "\tfactor(funding\\_indicator)1 &  1.29069 & 0.00000 \\\\\n",
       "\tfactor(Citizenship)Asian & -1.36366 & 0.02769 \\\\\n",
       "\tfactor(Citizenship)Hispanic or Latino & -1.80981 & 0.00302 \\\\\n",
       "\tfactor(Citizenship)White & -0.97666 & 0.04457 \\\\\n",
       "\ts\\_net\\_cost &  0.29634 & 0.00333 \\\\\n",
       "\tfactor(gap\\_indicator)1 &  1.22096 & 0.00477 \\\\\n",
       "\tGPA\\_trend &  2.45795 & 0.00614 \\\\\n",
       "\ts\\_start\\_year & -1.17468 & 0.00000 \\\\\n",
       "\\end{tabular}\n"
      ],
      "text/markdown": [
       "\n",
       "| <!--/--> | Estimate | Pr(>|z|) |\n",
       "|---|---|---|\n",
       "| factor(funding_indicator)1 |  1.29069 | 0.00000  |\n",
       "| factor(Citizenship)Asian | -1.36366 | 0.02769  |\n",
       "| factor(Citizenship)Hispanic or Latino | -1.80981 | 0.00302  |\n",
       "| factor(Citizenship)White | -0.97666 | 0.04457  |\n",
       "| s_net_cost |  0.29634 | 0.00333  |\n",
       "| factor(gap_indicator)1 |  1.22096 | 0.00477  |\n",
       "| GPA_trend |  2.45795 | 0.00614  |\n",
       "| s_start_year | -1.17468 | 0.00000  |\n",
       "\n"
      ],
      "text/plain": [
       "                                      Estimate Pr(>|z|)\n",
       "factor(funding_indicator)1             1.29069 0.00000 \n",
       "factor(Citizenship)Asian              -1.36366 0.02769 \n",
       "factor(Citizenship)Hispanic or Latino -1.80981 0.00302 \n",
       "factor(Citizenship)White              -0.97666 0.04457 \n",
       "s_net_cost                             0.29634 0.00333 \n",
       "factor(gap_indicator)1                 1.22096 0.00477 \n",
       "GPA_trend                              2.45795 0.00614 \n",
       "s_start_year                          -1.17468 0.00000 "
      ]
     },
     "metadata": {},
     "output_type": "display_data"
    }
   ],
   "source": [
    "round(summary(log_mod_h_s)$coeff[which(summary(log_mod_h_s)$coef[,4] <= .05),c(1,4)],5)"
   ]
  },
  {
   "cell_type": "markdown",
   "metadata": {},
   "source": [
    "Things we need\n",
    "-  Run AIC/BIC stepwise model selection for Harpur and summarize results\n",
    "-  Repeat for the other schools"
   ]
  },
  {
   "cell_type": "markdown",
   "metadata": {},
   "source": [
    "<b> Backward AIC:"
   ]
  },
  {
   "cell_type": "code",
   "execution_count": 12,
   "metadata": {},
   "outputs": [
    {
     "name": "stdout",
     "output_type": "stream",
     "text": [
      "Start:  AIC=979.74\n",
      "Y ~ s_start_age + factor(Gender) + factor(funding_indicator) + \n",
      "    factor(Citizenship) + s_net_cost + PC1 + PC2 + PC3 + factor(gap_indicator) + \n",
      "    GPA_trend + s_start_year - 1\n",
      "\n",
      "                            Df Deviance     AIC\n",
      "- factor(Gender)             2   934.80  976.80\n",
      "- PC3                        1   933.74  977.74\n",
      "- PC1                        1   934.06  978.06\n",
      "- PC2                        1   934.46  978.46\n",
      "- s_start_age                1   934.60  978.60\n",
      "- factor(Citizenship)       12   957.00  979.00\n",
      "<none>                           933.74  979.74\n",
      "- GPA_trend                  1   941.56  985.56\n",
      "- s_net_cost                 1   943.10  987.10\n",
      "- factor(gap_indicator)      1   943.67  987.67\n",
      "- factor(funding_indicator)  1   959.22 1003.22\n",
      "- s_start_year               1   969.05 1013.05\n",
      "\n",
      "Step:  AIC=977.74\n",
      "Y ~ s_start_age + factor(funding_indicator) + factor(Citizenship) + \n",
      "    s_net_cost + PC1 + PC2 + PC3 + factor(gap_indicator) + GPA_trend + \n",
      "    s_start_year - 1\n",
      "\n",
      "                            Df Deviance     AIC\n",
      "- PC3                        1   933.75  975.75\n",
      "- PC1                        1   934.06  976.06\n",
      "- PC2                        1   934.47  976.47\n",
      "- s_start_age                1   934.62  976.62\n",
      "- factor(Citizenship)       12   957.01  977.01\n",
      "<none>                           933.74  977.74\n",
      "- GPA_trend                  1   941.57  983.57\n",
      "- s_net_cost                 1   943.11  985.11\n",
      "- factor(gap_indicator)      1   943.67  985.67\n",
      "- s_start_year               1   969.13 1011.13\n",
      "- factor(funding_indicator)  2   974.31 1014.31\n",
      "\n",
      "Step:  AIC=975.75\n",
      "Y ~ s_start_age + factor(funding_indicator) + factor(Citizenship) + \n",
      "    s_net_cost + PC1 + PC2 + factor(gap_indicator) + GPA_trend + \n",
      "    s_start_year - 1\n",
      "\n",
      "                            Df Deviance     AIC\n",
      "- PC1                        1   934.06  974.06\n",
      "- PC2                        1   934.47  974.47\n",
      "- s_start_age                1   934.62  974.62\n",
      "- factor(Citizenship)       12   957.21  975.21\n",
      "<none>                           933.75  975.75\n",
      "- GPA_trend                  1   941.57  981.57\n",
      "- s_net_cost                 1   943.12  983.12\n",
      "- factor(gap_indicator)      1   943.68  983.68\n",
      "- s_start_year               1   971.17 1011.17\n",
      "- factor(funding_indicator)  2   974.83 1012.83\n",
      "\n",
      "Step:  AIC=974.06\n",
      "Y ~ s_start_age + factor(funding_indicator) + factor(Citizenship) + \n",
      "    s_net_cost + PC2 + factor(gap_indicator) + GPA_trend + s_start_year - \n",
      "    1\n",
      "\n",
      "                            Df Deviance     AIC\n",
      "- s_start_age                1   934.85  972.85\n",
      "- factor(Citizenship)       12   957.31  973.31\n",
      "- PC2                        1   935.34  973.34\n",
      "<none>                           934.06  974.06\n",
      "- GPA_trend                  1   941.80  979.80\n",
      "- s_net_cost                 1   943.57  981.57\n",
      "- factor(gap_indicator)      1   944.14  982.14\n",
      "- factor(funding_indicator)  2   974.87 1010.87\n",
      "- s_start_year               1   978.61 1016.61\n",
      "\n",
      "Step:  AIC=972.85\n",
      "Y ~ factor(funding_indicator) + factor(Citizenship) + s_net_cost + \n",
      "    PC2 + factor(gap_indicator) + GPA_trend + s_start_year - \n",
      "    1\n",
      "\n",
      "                            Df Deviance     AIC\n",
      "- factor(Citizenship)       12   958.35  972.35\n",
      "- PC2                        1   936.50  972.50\n",
      "<none>                           934.85  972.85\n",
      "- GPA_trend                  1   942.33  978.33\n",
      "- factor(gap_indicator)      1   945.12  981.12\n",
      "- s_net_cost                 1   945.24  981.24\n",
      "- factor(funding_indicator)  2   974.92 1008.92\n",
      "- s_start_year               1   978.63 1014.63\n",
      "\n",
      "Step:  AIC=972.35\n",
      "Y ~ factor(funding_indicator) + s_net_cost + PC2 + factor(gap_indicator) + \n",
      "    GPA_trend + s_start_year - 1\n",
      "\n",
      "                            Df Deviance     AIC\n",
      "<none>                           958.35  972.35\n",
      "- PC2                        1   961.43  973.43\n",
      "- GPA_trend                  1   966.00  978.00\n",
      "- factor(gap_indicator)      1   967.39  979.39\n",
      "- s_net_cost                 1   967.39  979.39\n",
      "- s_start_year               1  1003.72 1015.72\n",
      "- factor(funding_indicator)  2  1047.60 1057.60\n"
     ]
    }
   ],
   "source": [
    "library('MASS')\n",
    "log_mod_h_s_aic = stepAIC(log_mod_h_s, direction = 'backward')"
   ]
  },
  {
   "cell_type": "markdown",
   "metadata": {},
   "source": [
    "<b> Significant variables backward AIC selects:"
   ]
  },
  {
   "cell_type": "code",
   "execution_count": 13,
   "metadata": {},
   "outputs": [
    {
     "data": {
      "text/html": [
       "<table>\n",
       "<thead><tr><th></th><th scope=col>Estimate</th><th scope=col>Pr(&gt;|z|)</th></tr></thead>\n",
       "<tbody>\n",
       "\t<tr><th scope=row>factor(funding_indicator)1</th><td> 0.91722</td><td>0.00000 </td></tr>\n",
       "\t<tr><th scope=row>s_net_cost</th><td> 0.28526</td><td>0.00397 </td></tr>\n",
       "\t<tr><th scope=row>factor(gap_indicator)1</th><td> 1.15980</td><td>0.00694 </td></tr>\n",
       "\t<tr><th scope=row>GPA_trend</th><td> 2.31273</td><td>0.00687 </td></tr>\n",
       "\t<tr><th scope=row>s_start_year</th><td>-1.06870</td><td>0.00000 </td></tr>\n",
       "</tbody>\n",
       "</table>\n"
      ],
      "text/latex": [
       "\\begin{tabular}{r|ll}\n",
       "  & Estimate & Pr(>\\textbar{}z\\textbar{})\\\\\n",
       "\\hline\n",
       "\tfactor(funding\\_indicator)1 &  0.91722 & 0.00000 \\\\\n",
       "\ts\\_net\\_cost &  0.28526 & 0.00397 \\\\\n",
       "\tfactor(gap\\_indicator)1 &  1.15980 & 0.00694 \\\\\n",
       "\tGPA\\_trend &  2.31273 & 0.00687 \\\\\n",
       "\ts\\_start\\_year & -1.06870 & 0.00000 \\\\\n",
       "\\end{tabular}\n"
      ],
      "text/markdown": [
       "\n",
       "| <!--/--> | Estimate | Pr(>|z|) |\n",
       "|---|---|---|\n",
       "| factor(funding_indicator)1 |  0.91722 | 0.00000  |\n",
       "| s_net_cost |  0.28526 | 0.00397  |\n",
       "| factor(gap_indicator)1 |  1.15980 | 0.00694  |\n",
       "| GPA_trend |  2.31273 | 0.00687  |\n",
       "| s_start_year | -1.06870 | 0.00000  |\n",
       "\n"
      ],
      "text/plain": [
       "                           Estimate Pr(>|z|)\n",
       "factor(funding_indicator)1  0.91722 0.00000 \n",
       "s_net_cost                  0.28526 0.00397 \n",
       "factor(gap_indicator)1      1.15980 0.00694 \n",
       "GPA_trend                   2.31273 0.00687 \n",
       "s_start_year               -1.06870 0.00000 "
      ]
     },
     "metadata": {},
     "output_type": "display_data"
    }
   ],
   "source": [
    "round(summary(log_mod_h_s_aic)$coeff[which(summary(log_mod_h_s_aic)$coef[,4] <= .05),c(1,4)],5)"
   ]
  },
  {
   "cell_type": "markdown",
   "metadata": {},
   "source": [
    "<b> Backward BIC"
   ]
  },
  {
   "cell_type": "code",
   "execution_count": 14,
   "metadata": {
    "scrolled": false
   },
   "outputs": [
    {
     "name": "stdout",
     "output_type": "stream",
     "text": [
      "Start:  AIC=1089.18\n",
      "Y ~ s_start_age + factor(Gender) + factor(funding_indicator) + \n",
      "    factor(Citizenship) + s_net_cost + PC1 + PC2 + PC3 + factor(gap_indicator) + \n",
      "    GPA_trend + s_start_year - 1\n",
      "\n",
      "                            Df Deviance    AIC\n",
      "- factor(Citizenship)       12   957.00 1031.3\n",
      "- factor(Gender)             2   934.80 1076.7\n",
      "- PC3                        1   933.74 1082.4\n",
      "- PC1                        1   934.06 1082.7\n",
      "- PC2                        1   934.46 1083.1\n",
      "- s_start_age                1   934.60 1083.3\n",
      "<none>                           933.74 1089.2\n",
      "- GPA_trend                  1   941.56 1090.2\n",
      "- s_net_cost                 1   943.10 1091.8\n",
      "- factor(gap_indicator)      1   943.67 1092.3\n",
      "- factor(funding_indicator)  1   959.22 1107.9\n",
      "- s_start_year               1   969.05 1117.7\n",
      "\n",
      "Step:  AIC=1031.34\n",
      "Y ~ s_start_age + factor(Gender) + factor(funding_indicator) + \n",
      "    s_net_cost + PC1 + PC2 + PC3 + factor(gap_indicator) + GPA_trend + \n",
      "    s_start_year - 1\n",
      "\n",
      "                            Df Deviance    AIC\n",
      "- factor(Gender)             2   958.99 1019.8\n",
      "- PC1                        1   957.09 1024.7\n",
      "- PC3                        1   957.21 1024.8\n",
      "- s_start_age                1   958.11 1025.7\n",
      "- PC2                        1   958.64 1026.2\n",
      "<none>                           957.00 1031.3\n",
      "- GPA_trend                  1   964.84 1032.4\n",
      "- s_net_cost                 1   965.03 1032.6\n",
      "- factor(gap_indicator)      1   965.91 1033.5\n",
      "- factor(funding_indicator)  1   982.95 1050.5\n",
      "- s_start_year               1   991.33 1058.9\n",
      "\n",
      "Step:  AIC=1024.59\n",
      "Y ~ s_start_age + factor(funding_indicator) + s_net_cost + PC1 + \n",
      "    PC2 + PC3 + factor(gap_indicator) + GPA_trend + s_start_year - \n",
      "    1\n",
      "\n",
      "                            Df Deviance    AIC\n",
      "- PC1                        1   957.10 1017.9\n",
      "- PC3                        1   957.21 1018.0\n",
      "- s_start_age                1   958.11 1018.9\n",
      "- PC2                        1   958.64 1019.5\n",
      "<none>                           957.01 1024.6\n",
      "- GPA_trend                  1   964.89 1025.7\n",
      "- s_net_cost                 1   965.03 1025.8\n",
      "- factor(gap_indicator)      1   965.94 1026.8\n",
      "- s_start_year               1   991.53 1052.3\n",
      "- factor(funding_indicator)  2  1018.93 1073.0\n",
      "\n",
      "Step:  AIC=1017.92\n",
      "Y ~ s_start_age + factor(funding_indicator) + s_net_cost + PC2 + \n",
      "    PC3 + factor(gap_indicator) + GPA_trend + s_start_year - \n",
      "    1\n",
      "\n",
      "                            Df Deviance    AIC\n",
      "- PC3                        1   957.31 1011.4\n",
      "- s_start_age                1   958.15 1012.2\n",
      "- PC2                        1   959.25 1013.3\n",
      "<none>                           957.10 1017.9\n",
      "- GPA_trend                  1   964.93 1019.0\n",
      "- s_net_cost                 1   965.21 1019.3\n",
      "- factor(gap_indicator)      1   966.08 1020.1\n",
      "- s_start_year               1   999.99 1054.0\n",
      "- factor(funding_indicator)  2  1020.37 1067.7\n",
      "\n",
      "Step:  AIC=1011.38\n",
      "Y ~ s_start_age + factor(funding_indicator) + s_net_cost + PC2 + \n",
      "    factor(gap_indicator) + GPA_trend + s_start_year - 1\n",
      "\n",
      "                            Df Deviance    AIC\n",
      "- s_start_age                1   958.35 1005.7\n",
      "- PC2                        1   959.60 1006.9\n",
      "<none>                           957.31 1011.4\n",
      "- GPA_trend                  1   965.18 1012.5\n",
      "- s_net_cost                 1   965.44 1012.8\n",
      "- factor(gap_indicator)      1   966.24 1013.5\n",
      "- s_start_year               1  1003.66 1051.0\n",
      "- factor(funding_indicator)  2  1030.89 1071.4\n",
      "\n",
      "Step:  AIC=1005.66\n",
      "Y ~ factor(funding_indicator) + s_net_cost + PC2 + factor(gap_indicator) + \n",
      "    GPA_trend + s_start_year - 1\n",
      "\n",
      "                            Df Deviance    AIC\n",
      "- PC2                        1   961.43 1002.0\n",
      "<none>                           958.35 1005.7\n",
      "- GPA_trend                  1   966.00 1006.5\n",
      "- factor(gap_indicator)      1   967.39 1007.9\n",
      "- s_net_cost                 1   967.39 1007.9\n",
      "- s_start_year               1  1003.72 1044.3\n",
      "- factor(funding_indicator)  2  1047.60 1081.4\n",
      "\n",
      "Step:  AIC=1001.98\n",
      "Y ~ factor(funding_indicator) + s_net_cost + factor(gap_indicator) + \n",
      "    GPA_trend + s_start_year - 1\n",
      "\n",
      "                            Df Deviance    AIC\n",
      "<none>                           961.43 1002.0\n",
      "- GPA_trend                  1   968.59 1002.4\n",
      "- factor(gap_indicator)      1   970.46 1004.2\n",
      "- s_net_cost                 1   970.76 1004.5\n",
      "- factor(funding_indicator)  2  1047.85 1074.9\n",
      "- s_start_year               1  1072.61 1106.4\n"
     ]
    }
   ],
   "source": [
    "log_mod_h_s_bic = stepAIC(log_mod_h_s, direction = \"backward\", k = log(a_n))"
   ]
  },
  {
   "cell_type": "markdown",
   "metadata": {},
   "source": [
    "<b> Significant variables backward BIC selects:"
   ]
  },
  {
   "cell_type": "code",
   "execution_count": 15,
   "metadata": {},
   "outputs": [
    {
     "data": {
      "text/html": [
       "<table>\n",
       "<thead><tr><th></th><th scope=col>Estimate</th><th scope=col>Pr(&gt;|z|)</th></tr></thead>\n",
       "<tbody>\n",
       "\t<tr><th scope=row>factor(funding_indicator)1</th><td> 0.88620</td><td>0.00000 </td></tr>\n",
       "\t<tr><th scope=row>s_net_cost</th><td> 0.29061</td><td>0.00351 </td></tr>\n",
       "\t<tr><th scope=row>factor(gap_indicator)1</th><td> 1.15369</td><td>0.00704 </td></tr>\n",
       "\t<tr><th scope=row>GPA_trend</th><td> 2.21363</td><td>0.00879 </td></tr>\n",
       "\t<tr><th scope=row>s_start_year</th><td>-1.25942</td><td>0.00000 </td></tr>\n",
       "</tbody>\n",
       "</table>\n"
      ],
      "text/latex": [
       "\\begin{tabular}{r|ll}\n",
       "  & Estimate & Pr(>\\textbar{}z\\textbar{})\\\\\n",
       "\\hline\n",
       "\tfactor(funding\\_indicator)1 &  0.88620 & 0.00000 \\\\\n",
       "\ts\\_net\\_cost &  0.29061 & 0.00351 \\\\\n",
       "\tfactor(gap\\_indicator)1 &  1.15369 & 0.00704 \\\\\n",
       "\tGPA\\_trend &  2.21363 & 0.00879 \\\\\n",
       "\ts\\_start\\_year & -1.25942 & 0.00000 \\\\\n",
       "\\end{tabular}\n"
      ],
      "text/markdown": [
       "\n",
       "| <!--/--> | Estimate | Pr(>|z|) |\n",
       "|---|---|---|\n",
       "| factor(funding_indicator)1 |  0.88620 | 0.00000  |\n",
       "| s_net_cost |  0.29061 | 0.00351  |\n",
       "| factor(gap_indicator)1 |  1.15369 | 0.00704  |\n",
       "| GPA_trend |  2.21363 | 0.00879  |\n",
       "| s_start_year | -1.25942 | 0.00000  |\n",
       "\n"
      ],
      "text/plain": [
       "                           Estimate Pr(>|z|)\n",
       "factor(funding_indicator)1  0.88620 0.00000 \n",
       "s_net_cost                  0.29061 0.00351 \n",
       "factor(gap_indicator)1      1.15369 0.00704 \n",
       "GPA_trend                   2.21363 0.00879 \n",
       "s_start_year               -1.25942 0.00000 "
      ]
     },
     "metadata": {},
     "output_type": "display_data"
    }
   ],
   "source": [
    "round(summary(log_mod_h_s_bic)$coeff[which(summary(log_mod_h_s_bic)$coef[,4] <= .05),c(1,4)],5)"
   ]
  },
  {
   "cell_type": "markdown",
   "metadata": {},
   "source": [
    "# Harpur Arts Analysis"
   ]
  },
  {
   "cell_type": "markdown",
   "metadata": {},
   "source": [
    "<b> Logistic regression model:"
   ]
  },
  {
   "cell_type": "code",
   "execution_count": 16,
   "metadata": {
    "scrolled": false
   },
   "outputs": [
    {
     "data": {
      "text/plain": [
       "\n",
       "Call:\n",
       "glm(formula = Y ~ s_start_age + factor(Gender) + factor(funding_indicator) + \n",
       "    factor(Citizenship) + s_net_cost + PC1 + PC2 + PC3 + factor(gap_indicator) + \n",
       "    GPA_trend + s_start_year - 1, family = \"binomial\", data = Harpur_arts)\n",
       "\n",
       "Deviance Residuals: \n",
       "    Min       1Q   Median       3Q      Max  \n",
       "-1.9287  -1.1447   0.7362   0.9895   2.0591  \n",
       "\n",
       "Coefficients:\n",
       "                                                       Estimate Std. Error\n",
       "s_start_age                                             0.03273    0.07210\n",
       "factor(Gender)Female                                   -0.94238    0.55155\n",
       "factor(Gender)Male                                     -0.91838    0.54670\n",
       "factor(funding_indicator)1                              0.76044    0.17817\n",
       "factor(Citizenship)American Indian or Alaskan Native    0.40604    1.02417\n",
       "factor(Citizenship)Asia                                 1.25696    0.56498\n",
       "factor(Citizenship)Asian                                0.13206    0.64749\n",
       "factor(Citizenship)Black or African American            0.49440    0.65762\n",
       "factor(Citizenship)China                                1.11891    0.70936\n",
       "factor(Citizenship)Europe                               1.05475    0.70277\n",
       "factor(Citizenship)Hawaiian or Other Pacific Islander -13.27638  535.41148\n",
       "factor(Citizenship)Hispanic or Latino                   0.61197    0.60142\n",
       "factor(Citizenship)India                                0.89720    1.29077\n",
       "factor(Citizenship)North America                        1.08457    0.98543\n",
       "factor(Citizenship)South America                        0.55319    0.77615\n",
       "factor(Citizenship)Unknown                              0.40800    0.57655\n",
       "factor(Citizenship)White                                0.59084    0.53183\n",
       "s_net_cost                                              0.06233    0.06025\n",
       "PC1                                                    -0.08566    0.04252\n",
       "PC2                                                    -0.29867    0.06363\n",
       "PC3                                                     0.42417    0.30036\n",
       "factor(gap_indicator)1                                  0.42395    0.27496\n",
       "GPA_trend                                               1.70287    1.01210\n",
       "s_start_year                                           -0.24984    0.09493\n",
       "                                                      z value Pr(>|z|)    \n",
       "s_start_age                                             0.454  0.64980    \n",
       "factor(Gender)Female                                   -1.709  0.08752 .  \n",
       "factor(Gender)Male                                     -1.680  0.09299 .  \n",
       "factor(funding_indicator)1                              4.268 1.97e-05 ***\n",
       "factor(Citizenship)American Indian or Alaskan Native    0.396  0.69177    \n",
       "factor(Citizenship)Asia                                 2.225  0.02610 *  \n",
       "factor(Citizenship)Asian                                0.204  0.83838    \n",
       "factor(Citizenship)Black or African American            0.752  0.45217    \n",
       "factor(Citizenship)China                                1.577  0.11471    \n",
       "factor(Citizenship)Europe                               1.501  0.13339    \n",
       "factor(Citizenship)Hawaiian or Other Pacific Islander  -0.025  0.98022    \n",
       "factor(Citizenship)Hispanic or Latino                   1.018  0.30889    \n",
       "factor(Citizenship)India                                0.695  0.48700    \n",
       "factor(Citizenship)North America                        1.101  0.27107    \n",
       "factor(Citizenship)South America                        0.713  0.47601    \n",
       "factor(Citizenship)Unknown                              0.708  0.47915    \n",
       "factor(Citizenship)White                                1.111  0.26659    \n",
       "s_net_cost                                              1.034  0.30094    \n",
       "PC1                                                    -2.015  0.04396 *  \n",
       "PC2                                                    -4.694 2.68e-06 ***\n",
       "PC3                                                     1.412  0.15789    \n",
       "factor(gap_indicator)1                                  1.542  0.12311    \n",
       "GPA_trend                                               1.683  0.09247 .  \n",
       "s_start_year                                           -2.632  0.00849 ** \n",
       "---\n",
       "Signif. codes:  0 '***' 0.001 '**' 0.01 '*' 0.05 '.' 0.1 ' ' 1\n",
       "\n",
       "(Dispersion parameter for binomial family taken to be 1)\n",
       "\n",
       "    Null deviance: 1272.6  on 918  degrees of freedom\n",
       "Residual deviance: 1140.1  on 894  degrees of freedom\n",
       "AIC: 1188.1\n",
       "\n",
       "Number of Fisher Scoring iterations: 12\n"
      ]
     },
     "metadata": {},
     "output_type": "display_data"
    }
   ],
   "source": [
    "log_mod_h_a = glm(Y~s_start_age+factor(Gender)+factor(funding_indicator)+factor(Citizenship)+\n",
    "                s_net_cost+PC1+PC2+PC3+factor(gap_indicator)+GPA_trend+s_start_year-1,\n",
    "                data=Harpur_arts,family=\"binomial\")\n",
    "summary(log_mod_h_a)"
   ]
  },
  {
   "cell_type": "markdown",
   "metadata": {},
   "source": [
    "<b> Significant Variables of logistic regression model: "
   ]
  },
  {
   "cell_type": "code",
   "execution_count": 17,
   "metadata": {},
   "outputs": [
    {
     "data": {
      "text/html": [
       "<table>\n",
       "<thead><tr><th></th><th scope=col>Estimate</th><th scope=col>Pr(&gt;|z|)</th></tr></thead>\n",
       "<tbody>\n",
       "\t<tr><th scope=row>factor(funding_indicator)1</th><td> 0.76044</td><td>0.00002 </td></tr>\n",
       "\t<tr><th scope=row>factor(Citizenship)Asia</th><td> 1.25696</td><td>0.02610 </td></tr>\n",
       "\t<tr><th scope=row>PC1</th><td>-0.08566</td><td>0.04396 </td></tr>\n",
       "\t<tr><th scope=row>PC2</th><td>-0.29867</td><td>0.00000 </td></tr>\n",
       "\t<tr><th scope=row>s_start_year</th><td>-0.24984</td><td>0.00849 </td></tr>\n",
       "</tbody>\n",
       "</table>\n"
      ],
      "text/latex": [
       "\\begin{tabular}{r|ll}\n",
       "  & Estimate & Pr(>\\textbar{}z\\textbar{})\\\\\n",
       "\\hline\n",
       "\tfactor(funding\\_indicator)1 &  0.76044 & 0.00002 \\\\\n",
       "\tfactor(Citizenship)Asia &  1.25696 & 0.02610 \\\\\n",
       "\tPC1 & -0.08566 & 0.04396 \\\\\n",
       "\tPC2 & -0.29867 & 0.00000 \\\\\n",
       "\ts\\_start\\_year & -0.24984 & 0.00849 \\\\\n",
       "\\end{tabular}\n"
      ],
      "text/markdown": [
       "\n",
       "| <!--/--> | Estimate | Pr(>|z|) |\n",
       "|---|---|---|\n",
       "| factor(funding_indicator)1 |  0.76044 | 0.00002  |\n",
       "| factor(Citizenship)Asia |  1.25696 | 0.02610  |\n",
       "| PC1 | -0.08566 | 0.04396  |\n",
       "| PC2 | -0.29867 | 0.00000  |\n",
       "| s_start_year | -0.24984 | 0.00849  |\n",
       "\n"
      ],
      "text/plain": [
       "                           Estimate Pr(>|z|)\n",
       "factor(funding_indicator)1  0.76044 0.00002 \n",
       "factor(Citizenship)Asia     1.25696 0.02610 \n",
       "PC1                        -0.08566 0.04396 \n",
       "PC2                        -0.29867 0.00000 \n",
       "s_start_year               -0.24984 0.00849 "
      ]
     },
     "metadata": {},
     "output_type": "display_data"
    }
   ],
   "source": [
    "round(summary(log_mod_h_a)$coeff[which(summary(log_mod_h_a)$coef[,4] <= .05),c(1,4)],5)"
   ]
  },
  {
   "cell_type": "markdown",
   "metadata": {},
   "source": [
    "<b> Backward AIC:"
   ]
  },
  {
   "cell_type": "code",
   "execution_count": 18,
   "metadata": {},
   "outputs": [
    {
     "name": "stdout",
     "output_type": "stream",
     "text": [
      "Start:  AIC=1188.13\n",
      "Y ~ s_start_age + factor(Gender) + factor(funding_indicator) + \n",
      "    factor(Citizenship) + s_net_cost + PC1 + PC2 + PC3 + factor(gap_indicator) + \n",
      "    GPA_trend + s_start_year - 1\n",
      "\n",
      "                            Df Deviance    AIC\n",
      "- factor(Citizenship)       13   1157.0 1179.0\n",
      "- s_start_age                1   1140.3 1186.3\n",
      "- factor(Gender)             2   1143.0 1187.0\n",
      "- s_net_cost                 1   1141.2 1187.2\n",
      "<none>                           1140.1 1188.1\n",
      "- factor(gap_indicator)      1   1142.6 1188.6\n",
      "- GPA_trend                  1   1143.0 1189.0\n",
      "- PC3                        1   1143.2 1189.2\n",
      "- PC1                        1   1144.3 1190.3\n",
      "- s_start_year               1   1147.4 1193.4\n",
      "- factor(funding_indicator)  1   1159.0 1205.0\n",
      "- PC2                        1   1163.8 1209.8\n",
      "\n",
      "Step:  AIC=1178.96\n",
      "Y ~ s_start_age + factor(Gender) + factor(funding_indicator) + \n",
      "    s_net_cost + PC1 + PC2 + PC3 + factor(gap_indicator) + GPA_trend + \n",
      "    s_start_year - 1\n",
      "\n",
      "                            Df Deviance    AIC\n",
      "- s_start_age                1   1157.0 1177.0\n",
      "- s_net_cost                 1   1157.6 1177.6\n",
      "- PC3                        1   1158.5 1178.5\n",
      "- factor(Gender)             2   1160.8 1178.8\n",
      "<none>                           1157.0 1179.0\n",
      "- factor(gap_indicator)      1   1159.4 1179.4\n",
      "- PC1                        1   1160.2 1180.2\n",
      "- GPA_trend                  1   1160.3 1180.3\n",
      "- s_start_year               1   1162.0 1182.0\n",
      "- factor(funding_indicator)  1   1176.4 1196.4\n",
      "- PC2                        1   1184.5 1204.5\n",
      "\n",
      "Step:  AIC=1176.96\n",
      "Y ~ factor(Gender) + factor(funding_indicator) + s_net_cost + \n",
      "    PC1 + PC2 + PC3 + factor(gap_indicator) + GPA_trend + s_start_year - \n",
      "    1\n",
      "\n",
      "                            Df Deviance    AIC\n",
      "- s_net_cost                 1   1157.6 1175.6\n",
      "- PC3                        1   1158.5 1176.5\n",
      "<none>                           1157.0 1177.0\n",
      "- factor(Gender)             2   1161.3 1177.3\n",
      "- factor(gap_indicator)      1   1159.4 1177.4\n",
      "- PC1                        1   1160.2 1178.2\n",
      "- GPA_trend                  1   1160.3 1178.3\n",
      "- s_start_year               1   1162.4 1180.4\n",
      "- factor(funding_indicator)  1   1177.6 1195.6\n",
      "- PC2                        1   1185.9 1203.9\n",
      "\n",
      "Step:  AIC=1175.59\n",
      "Y ~ factor(Gender) + factor(funding_indicator) + PC1 + PC2 + \n",
      "    PC3 + factor(gap_indicator) + GPA_trend + s_start_year - \n",
      "    1\n",
      "\n",
      "                            Df Deviance    AIC\n",
      "- PC3                        1   1159.2 1175.2\n",
      "<none>                           1157.6 1175.6\n",
      "- factor(Gender)             2   1161.8 1175.8\n",
      "- factor(gap_indicator)      1   1160.0 1176.0\n",
      "- PC1                        1   1161.0 1177.0\n",
      "- GPA_trend                  1   1161.2 1177.2\n",
      "- s_start_year               1   1162.8 1178.8\n",
      "- factor(funding_indicator)  1   1178.8 1194.8\n",
      "- PC2                        1   1187.9 1203.9\n",
      "\n",
      "Step:  AIC=1175.18\n",
      "Y ~ factor(Gender) + factor(funding_indicator) + PC1 + PC2 + \n",
      "    factor(gap_indicator) + GPA_trend + s_start_year - 1\n",
      "\n",
      "                            Df Deviance    AIC\n",
      "<none>                           1159.2 1175.2\n",
      "- factor(gap_indicator)      1   1161.7 1175.7\n",
      "- factor(Gender)             2   1163.8 1175.8\n",
      "- PC1                        1   1162.7 1176.7\n",
      "- GPA_trend                  1   1162.8 1176.8\n",
      "- s_start_year               1   1163.6 1177.6\n",
      "- factor(funding_indicator)  1   1179.7 1193.7\n",
      "- PC2                        1   1188.2 1202.2\n"
     ]
    }
   ],
   "source": [
    "log_mod_h_a_aic = stepAIC(log_mod_h_a, direction = 'backward')"
   ]
  },
  {
   "cell_type": "markdown",
   "metadata": {},
   "source": [
    "<b> Significant variables backward AIC selects:"
   ]
  },
  {
   "cell_type": "code",
   "execution_count": 19,
   "metadata": {},
   "outputs": [
    {
     "data": {
      "text/html": [
       "<table>\n",
       "<thead><tr><th></th><th scope=col>Estimate</th><th scope=col>Pr(&gt;|z|)</th></tr></thead>\n",
       "<tbody>\n",
       "\t<tr><th scope=row>factor(Gender)Female</th><td>-0.28303</td><td>0.04563 </td></tr>\n",
       "\t<tr><th scope=row>factor(funding_indicator)1</th><td> 0.75368</td><td>0.00001 </td></tr>\n",
       "\t<tr><th scope=row>PC2</th><td>-0.30383</td><td>0.00000 </td></tr>\n",
       "\t<tr><th scope=row>s_start_year</th><td>-0.17974</td><td>0.03772 </td></tr>\n",
       "</tbody>\n",
       "</table>\n"
      ],
      "text/latex": [
       "\\begin{tabular}{r|ll}\n",
       "  & Estimate & Pr(>\\textbar{}z\\textbar{})\\\\\n",
       "\\hline\n",
       "\tfactor(Gender)Female & -0.28303 & 0.04563 \\\\\n",
       "\tfactor(funding\\_indicator)1 &  0.75368 & 0.00001 \\\\\n",
       "\tPC2 & -0.30383 & 0.00000 \\\\\n",
       "\ts\\_start\\_year & -0.17974 & 0.03772 \\\\\n",
       "\\end{tabular}\n"
      ],
      "text/markdown": [
       "\n",
       "| <!--/--> | Estimate | Pr(>|z|) |\n",
       "|---|---|---|\n",
       "| factor(Gender)Female | -0.28303 | 0.04563  |\n",
       "| factor(funding_indicator)1 |  0.75368 | 0.00001  |\n",
       "| PC2 | -0.30383 | 0.00000  |\n",
       "| s_start_year | -0.17974 | 0.03772  |\n",
       "\n"
      ],
      "text/plain": [
       "                           Estimate Pr(>|z|)\n",
       "factor(Gender)Female       -0.28303 0.04563 \n",
       "factor(funding_indicator)1  0.75368 0.00001 \n",
       "PC2                        -0.30383 0.00000 \n",
       "s_start_year               -0.17974 0.03772 "
      ]
     },
     "metadata": {},
     "output_type": "display_data"
    }
   ],
   "source": [
    "round(summary(log_mod_h_a_aic)$coeff[which(summary(log_mod_h_a_aic)$coef[,4] <= .05),c(1,4)],5)"
   ]
  },
  {
   "cell_type": "markdown",
   "metadata": {},
   "source": [
    "<b> Backward BIC"
   ]
  },
  {
   "cell_type": "code",
   "execution_count": 20,
   "metadata": {
    "scrolled": false
   },
   "outputs": [
    {
     "name": "stdout",
     "output_type": "stream",
     "text": [
      "Start:  AIC=1303.86\n",
      "Y ~ s_start_age + factor(Gender) + factor(funding_indicator) + \n",
      "    factor(Citizenship) + s_net_cost + PC1 + PC2 + PC3 + factor(gap_indicator) + \n",
      "    GPA_trend + s_start_year - 1\n",
      "\n",
      "                            Df Deviance    AIC\n",
      "- factor(Citizenship)       13   1157.0 1232.0\n",
      "- factor(Gender)             2   1143.0 1293.1\n",
      "- s_start_age                1   1140.3 1297.2\n",
      "- s_net_cost                 1   1141.2 1298.1\n",
      "- factor(gap_indicator)      1   1142.6 1299.5\n",
      "- GPA_trend                  1   1143.0 1299.9\n",
      "- PC3                        1   1143.2 1300.1\n",
      "- PC1                        1   1144.3 1301.2\n",
      "<none>                           1140.1 1303.9\n",
      "- s_start_year               1   1147.4 1304.3\n",
      "- factor(funding_indicator)  1   1159.0 1315.9\n",
      "- PC2                        1   1163.8 1320.8\n",
      "\n",
      "Step:  AIC=1232\n",
      "Y ~ s_start_age + factor(Gender) + factor(funding_indicator) + \n",
      "    s_net_cost + PC1 + PC2 + PC3 + factor(gap_indicator) + GPA_trend + \n",
      "    s_start_year - 1\n",
      "\n",
      "                            Df Deviance    AIC\n",
      "- factor(Gender)             2   1160.8 1222.2\n",
      "- s_start_age                1   1157.0 1225.2\n",
      "- s_net_cost                 1   1157.6 1225.8\n",
      "- PC3                        1   1158.5 1226.7\n",
      "- factor(gap_indicator)      1   1159.4 1227.6\n",
      "- PC1                        1   1160.2 1228.4\n",
      "- GPA_trend                  1   1160.3 1228.5\n",
      "- s_start_year               1   1162.0 1230.2\n",
      "<none>                           1157.0 1232.0\n",
      "- factor(funding_indicator)  1   1176.4 1244.6\n",
      "- PC2                        1   1184.5 1252.8\n",
      "\n",
      "Step:  AIC=1225.18\n",
      "Y ~ s_start_age + factor(funding_indicator) + s_net_cost + PC1 + \n",
      "    PC2 + PC3 + factor(gap_indicator) + GPA_trend + s_start_year - \n",
      "    1\n",
      "\n",
      "                            Df Deviance    AIC\n",
      "- s_start_age                1   1157.0 1218.4\n",
      "- s_net_cost                 1   1157.6 1219.0\n",
      "- PC3                        1   1158.5 1219.9\n",
      "- factor(gap_indicator)      1   1159.4 1220.8\n",
      "- PC1                        1   1160.2 1221.6\n",
      "- GPA_trend                  1   1160.3 1221.7\n",
      "- s_start_year               1   1162.0 1223.4\n",
      "<none>                           1157.0 1225.2\n",
      "- factor(funding_indicator)  2   1184.6 1239.1\n",
      "- PC2                        1   1184.6 1246.0\n",
      "\n",
      "Step:  AIC=1218.36\n",
      "Y ~ factor(funding_indicator) + s_net_cost + PC1 + PC2 + PC3 + \n",
      "    factor(gap_indicator) + GPA_trend + s_start_year - 1\n",
      "\n",
      "                            Df Deviance    AIC\n",
      "- s_net_cost                 1   1157.6 1212.2\n",
      "- PC3                        1   1158.5 1213.1\n",
      "- factor(gap_indicator)      1   1159.4 1214.0\n",
      "- PC1                        1   1160.2 1214.8\n",
      "- GPA_trend                  1   1160.3 1214.9\n",
      "- s_start_year               1   1162.4 1217.0\n",
      "<none>                           1157.0 1218.4\n",
      "- factor(funding_indicator)  2   1184.8 1232.5\n",
      "- PC2                        1   1186.0 1240.6\n",
      "\n",
      "Step:  AIC=1212.17\n",
      "Y ~ factor(funding_indicator) + PC1 + PC2 + PC3 + factor(gap_indicator) + \n",
      "    GPA_trend + s_start_year - 1\n",
      "\n",
      "                            Df Deviance    AIC\n",
      "- PC3                        1   1159.2 1206.9\n",
      "- factor(gap_indicator)      1   1160.0 1207.7\n",
      "- PC1                        1   1161.0 1208.8\n",
      "- GPA_trend                  1   1161.2 1208.9\n",
      "- s_start_year               1   1162.8 1210.6\n",
      "<none>                           1157.6 1212.2\n",
      "- factor(funding_indicator)  2   1187.2 1228.1\n",
      "- PC2                        1   1188.0 1235.8\n",
      "\n",
      "Step:  AIC=1206.93\n",
      "Y ~ factor(funding_indicator) + PC1 + PC2 + factor(gap_indicator) + \n",
      "    GPA_trend + s_start_year - 1\n",
      "\n",
      "                            Df Deviance    AIC\n",
      "- factor(gap_indicator)      1   1161.7 1202.6\n",
      "- PC1                        1   1162.7 1203.6\n",
      "- GPA_trend                  1   1162.8 1203.8\n",
      "- s_start_year               1   1163.6 1204.6\n",
      "<none>                           1159.2 1206.9\n",
      "- factor(funding_indicator)  2   1187.3 1221.4\n",
      "- PC2                        1   1188.3 1229.2\n",
      "\n",
      "Step:  AIC=1202.6\n",
      "Y ~ factor(funding_indicator) + PC1 + PC2 + GPA_trend + s_start_year - \n",
      "    1\n",
      "\n",
      "                            Df Deviance    AIC\n",
      "- PC1                        1   1164.9 1199.0\n",
      "- GPA_trend                  1   1165.3 1199.4\n",
      "- s_start_year               1   1167.9 1202.0\n",
      "<none>                           1161.7 1202.6\n",
      "- factor(funding_indicator)  2   1191.8 1219.1\n",
      "- PC2                        1   1190.2 1224.3\n",
      "\n",
      "Step:  AIC=1199.01\n",
      "Y ~ factor(funding_indicator) + PC2 + GPA_trend + s_start_year - \n",
      "    1\n",
      "\n",
      "                            Df Deviance    AIC\n",
      "- GPA_trend                  1   1168.3 1195.6\n",
      "<none>                           1164.9 1199.0\n",
      "- s_start_year               1   1173.9 1201.1\n",
      "- factor(funding_indicator)  2   1197.8 1218.2\n",
      "- PC2                        1   1191.2 1218.4\n",
      "\n",
      "Step:  AIC=1195.59\n",
      "Y ~ factor(funding_indicator) + PC2 + s_start_year - 1\n",
      "\n",
      "                            Df Deviance    AIC\n",
      "<none>                           1168.3 1195.6\n",
      "- s_start_year               1   1178.6 1199.1\n",
      "- PC2                        1   1194.0 1214.5\n",
      "- factor(funding_indicator)  2   1204.2 1217.8\n"
     ]
    }
   ],
   "source": [
    "log_mod_h_a_bic = stepAIC(log_mod_h_a, direction = \"backward\", k = log(b_n))"
   ]
  },
  {
   "cell_type": "markdown",
   "metadata": {},
   "source": [
    "<b> Significant variables backward BIC selects:"
   ]
  },
  {
   "cell_type": "code",
   "execution_count": 21,
   "metadata": {},
   "outputs": [
    {
     "data": {
      "text/html": [
       "<table>\n",
       "<thead><tr><th></th><th scope=col>Estimate</th><th scope=col>Pr(&gt;|z|)</th></tr></thead>\n",
       "<tbody>\n",
       "\t<tr><th scope=row>factor(funding_indicator)1</th><td> 0.53811</td><td>0.00000 </td></tr>\n",
       "\t<tr><th scope=row>PC2</th><td>-0.27725</td><td>0.00000 </td></tr>\n",
       "\t<tr><th scope=row>s_start_year</th><td>-0.25793</td><td>0.00175 </td></tr>\n",
       "</tbody>\n",
       "</table>\n"
      ],
      "text/latex": [
       "\\begin{tabular}{r|ll}\n",
       "  & Estimate & Pr(>\\textbar{}z\\textbar{})\\\\\n",
       "\\hline\n",
       "\tfactor(funding\\_indicator)1 &  0.53811 & 0.00000 \\\\\n",
       "\tPC2 & -0.27725 & 0.00000 \\\\\n",
       "\ts\\_start\\_year & -0.25793 & 0.00175 \\\\\n",
       "\\end{tabular}\n"
      ],
      "text/markdown": [
       "\n",
       "| <!--/--> | Estimate | Pr(>|z|) |\n",
       "|---|---|---|\n",
       "| factor(funding_indicator)1 |  0.53811 | 0.00000  |\n",
       "| PC2 | -0.27725 | 0.00000  |\n",
       "| s_start_year | -0.25793 | 0.00175  |\n",
       "\n"
      ],
      "text/plain": [
       "                           Estimate Pr(>|z|)\n",
       "factor(funding_indicator)1  0.53811 0.00000 \n",
       "PC2                        -0.27725 0.00000 \n",
       "s_start_year               -0.25793 0.00175 "
      ]
     },
     "metadata": {},
     "output_type": "display_data"
    }
   ],
   "source": [
    "round(summary(log_mod_h_a_bic)$coeff[which(summary(log_mod_h_a_bic)$coef[,4] <= .05),c(1,4)],5)"
   ]
  },
  {
   "cell_type": "markdown",
   "metadata": {},
   "source": [
    "# Management Analysis"
   ]
  },
  {
   "cell_type": "markdown",
   "metadata": {},
   "source": [
    "<b> Logistic regression model:"
   ]
  },
  {
   "cell_type": "code",
   "execution_count": 22,
   "metadata": {},
   "outputs": [
    {
     "name": "stderr",
     "output_type": "stream",
     "text": [
      "Warning message:\n",
      "\"glm.fit: fitted probabilities numerically 0 or 1 occurred\""
     ]
    },
    {
     "data": {
      "text/plain": [
       "\n",
       "Call:\n",
       "glm(formula = Y ~ s_start_age + factor(Gender) + factor(funding_indicator) + \n",
       "    factor(Citizenship) + s_net_cost + PC1 + PC2 + PC3 + factor(gap_indicator) + \n",
       "    GPA_trend + s_start_year - 1, family = \"binomial\", data = Management_df)\n",
       "\n",
       "Deviance Residuals: \n",
       "     Min        1Q    Median        3Q       Max  \n",
       "-1.97258  -0.13975   0.00016   0.21655   1.73673  \n",
       "\n",
       "Coefficients:\n",
       "                                        Estimate Std. Error z value Pr(>|z|)  \n",
       "s_start_age                           -2.200e+00  1.290e+00  -1.705   0.0881 .\n",
       "factor(Gender)Female                   2.892e+01  2.888e+03   0.010   0.9920  \n",
       "factor(Gender)Male                     2.633e+01  2.888e+03   0.009   0.9927  \n",
       "factor(funding_indicator)1            -2.848e+01  2.888e+03  -0.010   0.9921  \n",
       "factor(Citizenship)Asian               5.399e+00  3.326e+00   1.623   0.1046  \n",
       "factor(Citizenship)China               2.143e+00  2.804e+00   0.764   0.4447  \n",
       "factor(Citizenship)Europe              1.073e+01  1.075e+04   0.001   0.9992  \n",
       "factor(Citizenship)Hispanic or Latino  1.926e+01  1.075e+04   0.002   0.9986  \n",
       "factor(Citizenship)India               2.694e+00  3.022e+00   0.892   0.3727  \n",
       "factor(Citizenship)Unknown             8.541e-01  4.762e+00   0.179   0.8577  \n",
       "factor(Citizenship)White              -1.127e+00  1.750e+00  -0.644   0.5195  \n",
       "s_net_cost                             8.763e+00  3.412e+00   2.568   0.0102 *\n",
       "PC1                                   -2.926e+00  2.763e+00  -1.059   0.2895  \n",
       "PC2                                   -2.698e+00  2.773e+00  -0.973   0.3307  \n",
       "PC3                                    3.909e-01  2.292e-01   1.705   0.0882 .\n",
       "factor(gap_indicator)1                 1.843e+01  3.541e+03   0.005   0.9958  \n",
       "GPA_trend                              5.026e+01  2.459e+01   2.044   0.0409 *\n",
       "s_start_year                           9.816e-02  1.107e+00   0.089   0.9293  \n",
       "---\n",
       "Signif. codes:  0 '***' 0.001 '**' 0.01 '*' 0.05 '.' 0.1 ' ' 1\n",
       "\n",
       "(Dispersion parameter for binomial family taken to be 1)\n",
       "\n",
       "    Null deviance: 80.405  on 58  degrees of freedom\n",
       "Residual deviance: 29.074  on 40  degrees of freedom\n",
       "AIC: 65.074\n",
       "\n",
       "Number of Fisher Scoring iterations: 18\n"
      ]
     },
     "metadata": {},
     "output_type": "display_data"
    }
   ],
   "source": [
    "log_mod_m = glm(Y~s_start_age+factor(Gender)+factor(funding_indicator)+factor(Citizenship)+\n",
    "                s_net_cost+PC1+PC2+PC3+factor(gap_indicator)+GPA_trend+s_start_year-1,\n",
    "                data=Management_df,family=\"binomial\")\n",
    "summary(log_mod_m)"
   ]
  },
  {
   "cell_type": "markdown",
   "metadata": {},
   "source": [
    "<b> Significant Variables of logistic regression model: "
   ]
  },
  {
   "cell_type": "code",
   "execution_count": 23,
   "metadata": {},
   "outputs": [
    {
     "data": {
      "text/html": [
       "<table>\n",
       "<thead><tr><th></th><th scope=col>Estimate</th><th scope=col>Pr(&gt;|z|)</th></tr></thead>\n",
       "<tbody>\n",
       "\t<tr><th scope=row>s_net_cost</th><td> 8.76286</td><td>0.01023 </td></tr>\n",
       "\t<tr><th scope=row>GPA_trend</th><td>50.26204</td><td>0.04094 </td></tr>\n",
       "</tbody>\n",
       "</table>\n"
      ],
      "text/latex": [
       "\\begin{tabular}{r|ll}\n",
       "  & Estimate & Pr(>\\textbar{}z\\textbar{})\\\\\n",
       "\\hline\n",
       "\ts\\_net\\_cost &  8.76286 & 0.01023 \\\\\n",
       "\tGPA\\_trend & 50.26204 & 0.04094 \\\\\n",
       "\\end{tabular}\n"
      ],
      "text/markdown": [
       "\n",
       "| <!--/--> | Estimate | Pr(>|z|) |\n",
       "|---|---|---|\n",
       "| s_net_cost |  8.76286 | 0.01023  |\n",
       "| GPA_trend | 50.26204 | 0.04094  |\n",
       "\n"
      ],
      "text/plain": [
       "           Estimate Pr(>|z|)\n",
       "s_net_cost  8.76286 0.01023 \n",
       "GPA_trend  50.26204 0.04094 "
      ]
     },
     "metadata": {},
     "output_type": "display_data"
    }
   ],
   "source": [
    "round(summary(log_mod_m)$coeff[which(summary(log_mod_m)$coef[,4] <= .05),c(1,4)],5)"
   ]
  },
  {
   "cell_type": "markdown",
   "metadata": {},
   "source": [
    "<b> Backward AIC:"
   ]
  },
  {
   "cell_type": "code",
   "execution_count": 24,
   "metadata": {
    "scrolled": false
   },
   "outputs": [
    {
     "name": "stdout",
     "output_type": "stream",
     "text": [
      "Start:  AIC=65.07\n",
      "Y ~ s_start_age + factor(Gender) + factor(funding_indicator) + \n",
      "    factor(Citizenship) + s_net_cost + PC1 + PC2 + PC3 + factor(gap_indicator) + \n",
      "    GPA_trend + s_start_year - 1\n",
      "\n"
     ]
    },
    {
     "name": "stderr",
     "output_type": "stream",
     "text": [
      "Warning message:\n",
      "\"glm.fit: fitted probabilities numerically 0 or 1 occurred\"Warning message:\n",
      "\"glm.fit: fitted probabilities numerically 0 or 1 occurred\"Warning message:\n",
      "\"glm.fit: fitted probabilities numerically 0 or 1 occurred\"Warning message:\n",
      "\"glm.fit: fitted probabilities numerically 0 or 1 occurred\"Warning message:\n",
      "\"glm.fit: fitted probabilities numerically 0 or 1 occurred\"Warning message:\n",
      "\"glm.fit: fitted probabilities numerically 0 or 1 occurred\"Warning message:\n",
      "\"glm.fit: fitted probabilities numerically 0 or 1 occurred\"Warning message:\n",
      "\"glm.fit: fitted probabilities numerically 0 or 1 occurred\"Warning message:\n",
      "\"glm.fit: fitted probabilities numerically 0 or 1 occurred\"Warning message:\n",
      "\"glm.fit: fitted probabilities numerically 0 or 1 occurred\""
     ]
    },
    {
     "name": "stdout",
     "output_type": "stream",
     "text": [
      "                            Df Deviance    AIC\n",
      "- factor(Citizenship)        7   35.391 57.391\n",
      "- s_start_year               1   29.081 63.081\n",
      "- PC2                        1   30.623 64.623\n",
      "- factor(gap_indicator)      1   30.734 64.734\n",
      "<none>                           29.074 65.074\n",
      "- PC1                        1   31.713 65.713\n",
      "- s_start_age                1   32.846 66.846\n",
      "- PC3                        1   33.259 67.259\n",
      "- factor(Gender)             2   38.330 70.330\n",
      "- GPA_trend                  1   40.427 74.427\n",
      "- factor(funding_indicator)  1   40.837 74.837\n",
      "- s_net_cost                 1   46.369 80.369\n"
     ]
    },
    {
     "name": "stderr",
     "output_type": "stream",
     "text": [
      "Warning message:\n",
      "\"glm.fit: fitted probabilities numerically 0 or 1 occurred\""
     ]
    },
    {
     "name": "stdout",
     "output_type": "stream",
     "text": [
      "\n",
      "Step:  AIC=57.39\n",
      "Y ~ s_start_age + factor(Gender) + factor(funding_indicator) + \n",
      "    s_net_cost + PC1 + PC2 + PC3 + factor(gap_indicator) + GPA_trend + \n",
      "    s_start_year - 1\n",
      "\n"
     ]
    },
    {
     "name": "stderr",
     "output_type": "stream",
     "text": [
      "Warning message:\n",
      "\"glm.fit: fitted probabilities numerically 0 or 1 occurred\"Warning message:\n",
      "\"glm.fit: fitted probabilities numerically 0 or 1 occurred\"Warning message:\n",
      "\"glm.fit: fitted probabilities numerically 0 or 1 occurred\"Warning message:\n",
      "\"glm.fit: fitted probabilities numerically 0 or 1 occurred\"Warning message:\n",
      "\"glm.fit: fitted probabilities numerically 0 or 1 occurred\"Warning message:\n",
      "\"glm.fit: fitted probabilities numerically 0 or 1 occurred\"Warning message:\n",
      "\"glm.fit: fitted probabilities numerically 0 or 1 occurred\"Warning message:\n",
      "\"glm.fit: fitted probabilities numerically 0 or 1 occurred\""
     ]
    },
    {
     "name": "stdout",
     "output_type": "stream",
     "text": [
      "                            Df Deviance    AIC\n",
      "- s_start_year               1   35.397 55.397\n",
      "- factor(gap_indicator)      1   36.395 56.395\n",
      "- PC2                        1   37.080 57.080\n",
      "- PC3                        1   37.109 57.109\n",
      "<none>                           35.391 57.391\n",
      "- PC1                        1   37.993 57.993\n",
      "- s_start_age                1   42.009 62.009\n",
      "- factor(funding_indicator)  1   46.097 66.097\n",
      "- factor(Gender)             2   48.703 66.703\n",
      "- GPA_trend                  1   49.147 69.147\n",
      "- s_net_cost                 1   52.687 72.687\n"
     ]
    },
    {
     "name": "stderr",
     "output_type": "stream",
     "text": [
      "Warning message:\n",
      "\"glm.fit: fitted probabilities numerically 0 or 1 occurred\""
     ]
    },
    {
     "name": "stdout",
     "output_type": "stream",
     "text": [
      "\n",
      "Step:  AIC=55.4\n",
      "Y ~ s_start_age + factor(Gender) + factor(funding_indicator) + \n",
      "    s_net_cost + PC1 + PC2 + PC3 + factor(gap_indicator) + GPA_trend - \n",
      "    1\n",
      "\n"
     ]
    },
    {
     "name": "stderr",
     "output_type": "stream",
     "text": [
      "Warning message:\n",
      "\"glm.fit: fitted probabilities numerically 0 or 1 occurred\"Warning message:\n",
      "\"glm.fit: fitted probabilities numerically 0 or 1 occurred\"Warning message:\n",
      "\"glm.fit: fitted probabilities numerically 0 or 1 occurred\"Warning message:\n",
      "\"glm.fit: fitted probabilities numerically 0 or 1 occurred\"Warning message:\n",
      "\"glm.fit: fitted probabilities numerically 0 or 1 occurred\"Warning message:\n",
      "\"glm.fit: fitted probabilities numerically 0 or 1 occurred\"Warning message:\n",
      "\"glm.fit: fitted probabilities numerically 0 or 1 occurred\""
     ]
    },
    {
     "name": "stdout",
     "output_type": "stream",
     "text": [
      "                            Df Deviance    AIC\n",
      "- factor(gap_indicator)      1   36.433 54.433\n",
      "<none>                           35.397 55.397\n",
      "- PC2                        1   37.556 55.556\n",
      "- PC3                        1   38.115 56.115\n",
      "- PC1                        1   38.140 56.140\n",
      "- s_start_age                1   42.118 60.118\n",
      "- factor(funding_indicator)  1   46.121 64.121\n",
      "- factor(Gender)             2   48.722 64.722\n",
      "- GPA_trend                  1   49.330 67.330\n",
      "- s_net_cost                 1   52.864 70.864\n"
     ]
    },
    {
     "name": "stderr",
     "output_type": "stream",
     "text": [
      "Warning message:\n",
      "\"glm.fit: fitted probabilities numerically 0 or 1 occurred\""
     ]
    },
    {
     "name": "stdout",
     "output_type": "stream",
     "text": [
      "\n",
      "Step:  AIC=54.43\n",
      "Y ~ s_start_age + factor(Gender) + factor(funding_indicator) + \n",
      "    s_net_cost + PC1 + PC2 + PC3 + GPA_trend - 1\n",
      "\n"
     ]
    },
    {
     "name": "stderr",
     "output_type": "stream",
     "text": [
      "Warning message:\n",
      "\"glm.fit: fitted probabilities numerically 0 or 1 occurred\"Warning message:\n",
      "\"glm.fit: fitted probabilities numerically 0 or 1 occurred\""
     ]
    },
    {
     "name": "stdout",
     "output_type": "stream",
     "text": [
      "                            Df Deviance    AIC\n",
      "<none>                           36.433 54.433\n",
      "- PC3                        1   38.833 54.833\n",
      "- PC2                        1   39.013 55.013\n",
      "- PC1                        1   40.989 56.989\n",
      "- s_start_age                1   42.959 58.959\n",
      "- factor(funding_indicator)  1   47.193 63.193\n",
      "- factor(Gender)             2   49.426 63.426\n",
      "- GPA_trend                  1   50.488 66.488\n",
      "- s_net_cost                 1   55.147 71.147\n"
     ]
    }
   ],
   "source": [
    "log_mod_m_aic= stepAIC(log_mod_m, direction = 'backward')"
   ]
  },
  {
   "cell_type": "markdown",
   "metadata": {},
   "source": [
    "<b> Significant variables backward AIC selects:"
   ]
  },
  {
   "cell_type": "code",
   "execution_count": 25,
   "metadata": {},
   "outputs": [
    {
     "data": {
      "text/html": [
       "<table>\n",
       "<thead><tr><th></th><th scope=col>Estimate</th><th scope=col>Pr(&gt;|z|)</th></tr></thead>\n",
       "<tbody>\n",
       "\t<tr><th scope=row>s_start_age</th><td>-2.37977</td><td>0.02596 </td></tr>\n",
       "\t<tr><th scope=row>s_net_cost</th><td> 6.56536</td><td>0.00288 </td></tr>\n",
       "\t<tr><th scope=row>GPA_trend</th><td>50.00312</td><td>0.01562 </td></tr>\n",
       "</tbody>\n",
       "</table>\n"
      ],
      "text/latex": [
       "\\begin{tabular}{r|ll}\n",
       "  & Estimate & Pr(>\\textbar{}z\\textbar{})\\\\\n",
       "\\hline\n",
       "\ts\\_start\\_age & -2.37977 & 0.02596 \\\\\n",
       "\ts\\_net\\_cost &  6.56536 & 0.00288 \\\\\n",
       "\tGPA\\_trend & 50.00312 & 0.01562 \\\\\n",
       "\\end{tabular}\n"
      ],
      "text/markdown": [
       "\n",
       "| <!--/--> | Estimate | Pr(>|z|) |\n",
       "|---|---|---|\n",
       "| s_start_age | -2.37977 | 0.02596  |\n",
       "| s_net_cost |  6.56536 | 0.00288  |\n",
       "| GPA_trend | 50.00312 | 0.01562  |\n",
       "\n"
      ],
      "text/plain": [
       "            Estimate Pr(>|z|)\n",
       "s_start_age -2.37977 0.02596 \n",
       "s_net_cost   6.56536 0.00288 \n",
       "GPA_trend   50.00312 0.01562 "
      ]
     },
     "metadata": {},
     "output_type": "display_data"
    }
   ],
   "source": [
    "round(summary(log_mod_m_aic)$coeff[which(summary(log_mod_m_aic)$coef[,4] <= .05),c(1,4)],5)"
   ]
  },
  {
   "cell_type": "markdown",
   "metadata": {},
   "source": [
    "<b> Backward BIC:"
   ]
  },
  {
   "cell_type": "code",
   "execution_count": 26,
   "metadata": {
    "scrolled": false
   },
   "outputs": [
    {
     "name": "stdout",
     "output_type": "stream",
     "text": [
      "Start:  AIC=102.16\n",
      "Y ~ s_start_age + factor(Gender) + factor(funding_indicator) + \n",
      "    factor(Citizenship) + s_net_cost + PC1 + PC2 + PC3 + factor(gap_indicator) + \n",
      "    GPA_trend + s_start_year - 1\n",
      "\n"
     ]
    },
    {
     "name": "stderr",
     "output_type": "stream",
     "text": [
      "Warning message:\n",
      "\"glm.fit: fitted probabilities numerically 0 or 1 occurred\"Warning message:\n",
      "\"glm.fit: fitted probabilities numerically 0 or 1 occurred\"Warning message:\n",
      "\"glm.fit: fitted probabilities numerically 0 or 1 occurred\"Warning message:\n",
      "\"glm.fit: fitted probabilities numerically 0 or 1 occurred\"Warning message:\n",
      "\"glm.fit: fitted probabilities numerically 0 or 1 occurred\"Warning message:\n",
      "\"glm.fit: fitted probabilities numerically 0 or 1 occurred\"Warning message:\n",
      "\"glm.fit: fitted probabilities numerically 0 or 1 occurred\"Warning message:\n",
      "\"glm.fit: fitted probabilities numerically 0 or 1 occurred\"Warning message:\n",
      "\"glm.fit: fitted probabilities numerically 0 or 1 occurred\"Warning message:\n",
      "\"glm.fit: fitted probabilities numerically 0 or 1 occurred\""
     ]
    },
    {
     "name": "stdout",
     "output_type": "stream",
     "text": [
      "                            Df Deviance     AIC\n",
      "- factor(Citizenship)        7   35.391  80.056\n",
      "- s_start_year               1   29.081  98.109\n",
      "- PC2                        1   30.623  99.650\n",
      "- factor(gap_indicator)      1   30.734  99.761\n",
      "- PC1                        1   31.713 100.741\n",
      "- s_start_age                1   32.846 101.874\n",
      "<none>                           29.074 102.162\n",
      "- PC3                        1   33.259 102.287\n",
      "- factor(Gender)             2   38.330 103.297\n",
      "- GPA_trend                  1   40.427 109.454\n",
      "- factor(funding_indicator)  1   40.837 109.864\n",
      "- s_net_cost                 1   46.369 115.397\n"
     ]
    },
    {
     "name": "stderr",
     "output_type": "stream",
     "text": [
      "Warning message:\n",
      "\"glm.fit: fitted probabilities numerically 0 or 1 occurred\""
     ]
    },
    {
     "name": "stdout",
     "output_type": "stream",
     "text": [
      "\n",
      "Step:  AIC=80.06\n",
      "Y ~ s_start_age + factor(Gender) + factor(funding_indicator) + \n",
      "    s_net_cost + PC1 + PC2 + PC3 + factor(gap_indicator) + GPA_trend + \n",
      "    s_start_year - 1\n",
      "\n"
     ]
    },
    {
     "name": "stderr",
     "output_type": "stream",
     "text": [
      "Warning message:\n",
      "\"glm.fit: fitted probabilities numerically 0 or 1 occurred\"Warning message:\n",
      "\"glm.fit: fitted probabilities numerically 0 or 1 occurred\"Warning message:\n",
      "\"glm.fit: fitted probabilities numerically 0 or 1 occurred\"Warning message:\n",
      "\"glm.fit: fitted probabilities numerically 0 or 1 occurred\"Warning message:\n",
      "\"glm.fit: fitted probabilities numerically 0 or 1 occurred\"Warning message:\n",
      "\"glm.fit: fitted probabilities numerically 0 or 1 occurred\"Warning message:\n",
      "\"glm.fit: fitted probabilities numerically 0 or 1 occurred\"Warning message:\n",
      "\"glm.fit: fitted probabilities numerically 0 or 1 occurred\""
     ]
    },
    {
     "name": "stdout",
     "output_type": "stream",
     "text": [
      "                            Df Deviance    AIC\n",
      "- s_start_year               1   35.397 76.001\n",
      "- factor(gap_indicator)      1   36.395 76.999\n",
      "- PC2                        1   37.080 77.685\n",
      "- PC3                        1   37.109 77.713\n",
      "- PC1                        1   37.993 78.597\n",
      "<none>                           35.391 80.056\n",
      "- s_start_age                1   42.009 82.613\n",
      "- factor(Gender)             2   48.703 85.247\n",
      "- factor(funding_indicator)  1   46.097 86.701\n",
      "- GPA_trend                  1   49.147 89.751\n",
      "- s_net_cost                 1   52.687 93.291\n"
     ]
    },
    {
     "name": "stderr",
     "output_type": "stream",
     "text": [
      "Warning message:\n",
      "\"glm.fit: fitted probabilities numerically 0 or 1 occurred\""
     ]
    },
    {
     "name": "stdout",
     "output_type": "stream",
     "text": [
      "\n",
      "Step:  AIC=76\n",
      "Y ~ s_start_age + factor(Gender) + factor(funding_indicator) + \n",
      "    s_net_cost + PC1 + PC2 + PC3 + factor(gap_indicator) + GPA_trend - \n",
      "    1\n",
      "\n"
     ]
    },
    {
     "name": "stderr",
     "output_type": "stream",
     "text": [
      "Warning message:\n",
      "\"glm.fit: fitted probabilities numerically 0 or 1 occurred\"Warning message:\n",
      "\"glm.fit: fitted probabilities numerically 0 or 1 occurred\"Warning message:\n",
      "\"glm.fit: fitted probabilities numerically 0 or 1 occurred\"Warning message:\n",
      "\"glm.fit: fitted probabilities numerically 0 or 1 occurred\"Warning message:\n",
      "\"glm.fit: fitted probabilities numerically 0 or 1 occurred\"Warning message:\n",
      "\"glm.fit: fitted probabilities numerically 0 or 1 occurred\"Warning message:\n",
      "\"glm.fit: fitted probabilities numerically 0 or 1 occurred\""
     ]
    },
    {
     "name": "stdout",
     "output_type": "stream",
     "text": [
      "                            Df Deviance    AIC\n",
      "- factor(gap_indicator)      1   36.433 72.977\n",
      "- PC2                        1   37.556 74.100\n",
      "- PC3                        1   38.115 74.659\n",
      "- PC1                        1   38.140 74.684\n",
      "<none>                           35.397 76.001\n",
      "- s_start_age                1   42.118 78.662\n",
      "- factor(Gender)             2   48.722 81.206\n",
      "- factor(funding_indicator)  1   46.121 82.665\n",
      "- GPA_trend                  1   49.330 85.874\n",
      "- s_net_cost                 1   52.864 89.408\n"
     ]
    },
    {
     "name": "stderr",
     "output_type": "stream",
     "text": [
      "Warning message:\n",
      "\"glm.fit: fitted probabilities numerically 0 or 1 occurred\""
     ]
    },
    {
     "name": "stdout",
     "output_type": "stream",
     "text": [
      "\n",
      "Step:  AIC=72.98\n",
      "Y ~ s_start_age + factor(Gender) + factor(funding_indicator) + \n",
      "    s_net_cost + PC1 + PC2 + PC3 + GPA_trend - 1\n",
      "\n"
     ]
    },
    {
     "name": "stderr",
     "output_type": "stream",
     "text": [
      "Warning message:\n",
      "\"glm.fit: fitted probabilities numerically 0 or 1 occurred\"Warning message:\n",
      "\"glm.fit: fitted probabilities numerically 0 or 1 occurred\""
     ]
    },
    {
     "name": "stdout",
     "output_type": "stream",
     "text": [
      "                            Df Deviance    AIC\n",
      "- PC3                        1   38.833 71.316\n",
      "- PC2                        1   39.013 71.496\n",
      "<none>                           36.433 72.977\n",
      "- PC1                        1   40.989 73.472\n",
      "- s_start_age                1   42.959 75.442\n",
      "- factor(Gender)             2   49.426 77.849\n",
      "- factor(funding_indicator)  1   47.193 79.677\n",
      "- GPA_trend                  1   50.488 82.972\n",
      "- s_net_cost                 1   55.147 87.631\n"
     ]
    },
    {
     "name": "stderr",
     "output_type": "stream",
     "text": [
      "Warning message:\n",
      "\"glm.fit: fitted probabilities numerically 0 or 1 occurred\""
     ]
    },
    {
     "name": "stdout",
     "output_type": "stream",
     "text": [
      "\n",
      "Step:  AIC=71.32\n",
      "Y ~ s_start_age + factor(Gender) + factor(funding_indicator) + \n",
      "    s_net_cost + PC1 + PC2 + GPA_trend - 1\n",
      "\n",
      "                            Df Deviance    AIC\n",
      "<none>                           38.833 71.316\n",
      "- s_start_age                1   43.417 71.840\n",
      "- PC1                        1   43.636 72.059\n",
      "- PC2                        1   45.226 73.649\n",
      "- factor(Gender)             2   49.606 73.968\n",
      "- factor(funding_indicator)  1   47.351 75.774\n",
      "- GPA_trend                  1   51.659 80.082\n",
      "- s_net_cost                 1   55.159 83.582\n"
     ]
    }
   ],
   "source": [
    "log_mod_m_bic = stepAIC(log_mod_m, direction = \"backward\", k = log(c_n))"
   ]
  },
  {
   "cell_type": "markdown",
   "metadata": {},
   "source": [
    "<b> Significant variables backward BIC selects:"
   ]
  },
  {
   "cell_type": "code",
   "execution_count": 27,
   "metadata": {},
   "outputs": [
    {
     "data": {
      "text/html": [
       "<table>\n",
       "<thead><tr><th></th><th scope=col>Estimate</th><th scope=col>Pr(&gt;|z|)</th></tr></thead>\n",
       "<tbody>\n",
       "\t<tr><th scope=row>s_start_age</th><td>-1.77264</td><td>0.04960 </td></tr>\n",
       "\t<tr><th scope=row>s_net_cost</th><td> 5.71519</td><td>0.00407 </td></tr>\n",
       "\t<tr><th scope=row>GPA_trend</th><td>48.68300</td><td>0.02280 </td></tr>\n",
       "</tbody>\n",
       "</table>\n"
      ],
      "text/latex": [
       "\\begin{tabular}{r|ll}\n",
       "  & Estimate & Pr(>\\textbar{}z\\textbar{})\\\\\n",
       "\\hline\n",
       "\ts\\_start\\_age & -1.77264 & 0.04960 \\\\\n",
       "\ts\\_net\\_cost &  5.71519 & 0.00407 \\\\\n",
       "\tGPA\\_trend & 48.68300 & 0.02280 \\\\\n",
       "\\end{tabular}\n"
      ],
      "text/markdown": [
       "\n",
       "| <!--/--> | Estimate | Pr(>|z|) |\n",
       "|---|---|---|\n",
       "| s_start_age | -1.77264 | 0.04960  |\n",
       "| s_net_cost |  5.71519 | 0.00407  |\n",
       "| GPA_trend | 48.68300 | 0.02280  |\n",
       "\n"
      ],
      "text/plain": [
       "            Estimate Pr(>|z|)\n",
       "s_start_age -1.77264 0.04960 \n",
       "s_net_cost   5.71519 0.00407 \n",
       "GPA_trend   48.68300 0.02280 "
      ]
     },
     "metadata": {},
     "output_type": "display_data"
    }
   ],
   "source": [
    "round(summary(log_mod_m_bic)$coeff[which(summary(log_mod_m_bic)$coef[,4] <= .05),c(1,4)],5)"
   ]
  },
  {
   "cell_type": "markdown",
   "metadata": {},
   "source": [
    "# Nursing Analysis"
   ]
  },
  {
   "cell_type": "markdown",
   "metadata": {},
   "source": [
    "<b> Logistic regression model:"
   ]
  },
  {
   "cell_type": "code",
   "execution_count": 28,
   "metadata": {},
   "outputs": [
    {
     "name": "stderr",
     "output_type": "stream",
     "text": [
      "Warning message:\n",
      "\"glm.fit: fitted probabilities numerically 0 or 1 occurred\""
     ]
    },
    {
     "data": {
      "text/plain": [
       "\n",
       "Call:\n",
       "glm(formula = Y ~ s_start_age + factor(Gender) + factor(funding_indicator) + \n",
       "    factor(Citizenship) + s_net_cost + PC1 + PC2 + PC3 + factor(gap_indicator) + \n",
       "    GPA_trend + s_start_year - 1, family = \"binomial\", data = Nursing_df)\n",
       "\n",
       "Deviance Residuals: \n",
       "     Min        1Q    Median        3Q       Max  \n",
       "-3.04780  -0.85622   0.00024   0.83374   1.92061  \n",
       "\n",
       "Coefficients:\n",
       "                                                       Estimate Std. Error\n",
       "s_start_age                                            -0.09046    0.16905\n",
       "factor(Gender)Female                                   26.47385 3009.32343\n",
       "factor(Gender)Male                                     26.17706 3009.32353\n",
       "factor(funding_indicator)1                              0.77107    0.53549\n",
       "factor(Citizenship)American Indian or Alaskan Native    2.19689 7147.58757\n",
       "factor(Citizenship)Asia                               -18.59713 2922.87456\n",
       "factor(Citizenship)Asian                              -18.29873 2922.87423\n",
       "factor(Citizenship)Black or African American          -19.69974 2922.87431\n",
       "factor(Citizenship)China                              -37.79589 7147.58752\n",
       "factor(Citizenship)Hispanic or Latino                  -0.97101 4044.40713\n",
       "factor(Citizenship)Unknown                            -18.96654 2922.87429\n",
       "factor(Citizenship)White                              -18.33677 2922.87405\n",
       "s_net_cost                                              1.14042    0.40598\n",
       "PC1                                                    -0.15380  635.84989\n",
       "PC2                                                     6.54429  628.51651\n",
       "PC3                                                   -11.38023 1077.13984\n",
       "factor(gap_indicator)1                                 -2.09328    1.22351\n",
       "GPA_trend                                             -10.67547    6.71858\n",
       "s_start_year                                           -0.90674    0.41785\n",
       "                                                     z value Pr(>|z|)   \n",
       "s_start_age                                           -0.535  0.59256   \n",
       "factor(Gender)Female                                   0.009  0.99298   \n",
       "factor(Gender)Male                                     0.009  0.99306   \n",
       "factor(funding_indicator)1                             1.440  0.14989   \n",
       "factor(Citizenship)American Indian or Alaskan Native   0.000  0.99975   \n",
       "factor(Citizenship)Asia                               -0.006  0.99492   \n",
       "factor(Citizenship)Asian                              -0.006  0.99500   \n",
       "factor(Citizenship)Black or African American          -0.007  0.99462   \n",
       "factor(Citizenship)China                              -0.005  0.99578   \n",
       "factor(Citizenship)Hispanic or Latino                  0.000  0.99981   \n",
       "factor(Citizenship)Unknown                            -0.006  0.99482   \n",
       "factor(Citizenship)White                              -0.006  0.99499   \n",
       "s_net_cost                                             2.809  0.00497 **\n",
       "PC1                                                    0.000  0.99981   \n",
       "PC2                                                    0.010  0.99169   \n",
       "PC3                                                   -0.011  0.99157   \n",
       "factor(gap_indicator)1                                -1.711  0.08710 . \n",
       "GPA_trend                                             -1.589  0.11207   \n",
       "s_start_year                                          -2.170  0.03001 * \n",
       "---\n",
       "Signif. codes:  0 '***' 0.001 '**' 0.01 '*' 0.05 '.' 0.1 ' ' 1\n",
       "\n",
       "(Dispersion parameter for binomial family taken to be 1)\n",
       "\n",
       "    Null deviance: 162.2  on 117  degrees of freedom\n",
       "Residual deviance: 107.9  on  98  degrees of freedom\n",
       "AIC: 145.9\n",
       "\n",
       "Number of Fisher Scoring iterations: 17\n"
      ]
     },
     "metadata": {},
     "output_type": "display_data"
    }
   ],
   "source": [
    "log_mod_n = glm(Y~s_start_age+factor(Gender)+factor(funding_indicator)+factor(Citizenship)+\n",
    "                s_net_cost+PC1+PC2+PC3+factor(gap_indicator)+GPA_trend+s_start_year-1,\n",
    "                data=Nursing_df,family=\"binomial\")\n",
    "summary(log_mod_n)"
   ]
  },
  {
   "cell_type": "markdown",
   "metadata": {},
   "source": [
    "<b> Significant Variables of logistic regression model: "
   ]
  },
  {
   "cell_type": "code",
   "execution_count": 29,
   "metadata": {},
   "outputs": [
    {
     "data": {
      "text/html": [
       "<table>\n",
       "<thead><tr><th></th><th scope=col>Estimate</th><th scope=col>Pr(&gt;|z|)</th></tr></thead>\n",
       "<tbody>\n",
       "\t<tr><th scope=row>s_net_cost</th><td> 1.14042</td><td>0.00497 </td></tr>\n",
       "\t<tr><th scope=row>s_start_year</th><td>-0.90674</td><td>0.03001 </td></tr>\n",
       "</tbody>\n",
       "</table>\n"
      ],
      "text/latex": [
       "\\begin{tabular}{r|ll}\n",
       "  & Estimate & Pr(>\\textbar{}z\\textbar{})\\\\\n",
       "\\hline\n",
       "\ts\\_net\\_cost &  1.14042 & 0.00497 \\\\\n",
       "\ts\\_start\\_year & -0.90674 & 0.03001 \\\\\n",
       "\\end{tabular}\n"
      ],
      "text/markdown": [
       "\n",
       "| <!--/--> | Estimate | Pr(>|z|) |\n",
       "|---|---|---|\n",
       "| s_net_cost |  1.14042 | 0.00497  |\n",
       "| s_start_year | -0.90674 | 0.03001  |\n",
       "\n"
      ],
      "text/plain": [
       "             Estimate Pr(>|z|)\n",
       "s_net_cost    1.14042 0.00497 \n",
       "s_start_year -0.90674 0.03001 "
      ]
     },
     "metadata": {},
     "output_type": "display_data"
    }
   ],
   "source": [
    "round(summary(log_mod_n)$coeff[which(summary(log_mod_n)$coef[,4] <= .05),c(1,4)],5)"
   ]
  },
  {
   "cell_type": "markdown",
   "metadata": {},
   "source": [
    "<b> Backward AIC:"
   ]
  },
  {
   "cell_type": "code",
   "execution_count": 30,
   "metadata": {
    "scrolled": false
   },
   "outputs": [
    {
     "name": "stdout",
     "output_type": "stream",
     "text": [
      "Start:  AIC=145.9\n",
      "Y ~ s_start_age + factor(Gender) + factor(funding_indicator) + \n",
      "    factor(Citizenship) + s_net_cost + PC1 + PC2 + PC3 + factor(gap_indicator) + \n",
      "    GPA_trend + s_start_year - 1\n",
      "\n"
     ]
    },
    {
     "name": "stderr",
     "output_type": "stream",
     "text": [
      "Warning message:\n",
      "\"glm.fit: fitted probabilities numerically 0 or 1 occurred\"Warning message:\n",
      "\"glm.fit: fitted probabilities numerically 0 or 1 occurred\"Warning message:\n",
      "\"glm.fit: fitted probabilities numerically 0 or 1 occurred\"Warning message:\n",
      "\"glm.fit: fitted probabilities numerically 0 or 1 occurred\"Warning message:\n",
      "\"glm.fit: fitted probabilities numerically 0 or 1 occurred\"Warning message:\n",
      "\"glm.fit: fitted probabilities numerically 0 or 1 occurred\"Warning message:\n",
      "\"glm.fit: fitted probabilities numerically 0 or 1 occurred\""
     ]
    },
    {
     "name": "stdout",
     "output_type": "stream",
     "text": [
      "                            Df Deviance    AIC\n",
      "- factor(Citizenship)        8   120.73 142.73\n",
      "- PC1                        1   107.90 143.90\n",
      "- s_start_age                1   108.19 144.19\n",
      "<none>                           107.90 145.90\n",
      "- factor(funding_indicator)  1   110.04 146.04\n",
      "- PC3                        1   110.59 146.59\n",
      "- GPA_trend                  1   110.62 146.62\n",
      "- factor(gap_indicator)      1   110.99 146.99\n",
      "- s_start_year               1   113.65 149.65\n",
      "- factor(Gender)             2   117.12 151.12\n",
      "- PC2                        1   117.22 153.22\n",
      "- s_net_cost                 1   118.39 154.39\n",
      "\n",
      "Step:  AIC=142.73\n",
      "Y ~ s_start_age + factor(Gender) + factor(funding_indicator) + \n",
      "    s_net_cost + PC1 + PC2 + PC3 + factor(gap_indicator) + GPA_trend + \n",
      "    s_start_year - 1\n",
      "\n",
      "                            Df Deviance    AIC\n",
      "- PC1                        1   120.73 140.73\n",
      "- s_start_age                1   120.74 140.74\n",
      "- GPA_trend                  1   121.80 141.80\n",
      "- factor(gap_indicator)      1   121.83 141.83\n",
      "- factor(funding_indicator)  1   122.67 142.67\n",
      "<none>                           120.73 142.73\n",
      "- PC3                        1   123.48 143.48\n",
      "- s_start_year               1   126.20 146.20\n",
      "- s_net_cost                 1   130.65 150.65\n",
      "- factor(Gender)             2   133.43 151.43\n",
      "- PC2                        1   132.44 152.44\n",
      "\n",
      "Step:  AIC=140.73\n",
      "Y ~ s_start_age + factor(Gender) + factor(funding_indicator) + \n",
      "    s_net_cost + PC2 + PC3 + factor(gap_indicator) + GPA_trend + \n",
      "    s_start_year - 1\n",
      "\n",
      "                            Df Deviance    AIC\n",
      "- s_start_age                1   120.74 138.74\n",
      "- GPA_trend                  1   121.80 139.80\n",
      "- factor(gap_indicator)      1   121.83 139.83\n",
      "- factor(funding_indicator)  1   122.67 140.67\n",
      "<none>                           120.73 140.73\n",
      "- PC3                        1   123.53 141.53\n",
      "- s_start_year               1   126.20 144.20\n",
      "- s_net_cost                 1   130.65 148.65\n",
      "- factor(Gender)             2   133.45 149.45\n",
      "- PC2                        1   132.61 150.61\n",
      "\n",
      "Step:  AIC=138.74\n",
      "Y ~ factor(Gender) + factor(funding_indicator) + s_net_cost + \n",
      "    PC2 + PC3 + factor(gap_indicator) + GPA_trend + s_start_year - \n",
      "    1\n",
      "\n",
      "                            Df Deviance    AIC\n",
      "- GPA_trend                  1   121.80 137.80\n",
      "- factor(gap_indicator)      1   121.86 137.86\n",
      "<none>                           120.74 138.74\n",
      "- factor(funding_indicator)  1   122.93 138.93\n",
      "- PC3                        1   123.55 139.54\n",
      "- s_start_year               1   126.20 142.20\n",
      "- s_net_cost                 1   130.74 146.74\n",
      "- PC2                        1   133.27 149.27\n",
      "- factor(Gender)             2   136.42 150.42\n",
      "\n",
      "Step:  AIC=137.8\n",
      "Y ~ factor(Gender) + factor(funding_indicator) + s_net_cost + \n",
      "    PC2 + PC3 + factor(gap_indicator) + s_start_year - 1\n",
      "\n",
      "                            Df Deviance    AIC\n",
      "- factor(gap_indicator)      1   122.51 136.51\n",
      "- factor(funding_indicator)  1   123.71 137.71\n",
      "<none>                           121.80 137.80\n",
      "- PC3                        1   125.17 139.17\n",
      "- s_start_year               1   126.38 140.38\n",
      "- s_net_cost                 1   131.04 145.04\n",
      "- PC2                        1   134.25 148.25\n",
      "- factor(Gender)             2   136.44 148.44\n",
      "\n",
      "Step:  AIC=136.51\n",
      "Y ~ factor(Gender) + factor(funding_indicator) + s_net_cost + \n",
      "    PC2 + PC3 + s_start_year - 1\n",
      "\n",
      "                            Df Deviance    AIC\n",
      "<none>                           122.51 136.51\n",
      "- factor(funding_indicator)  1   124.70 136.70\n",
      "- PC3                        1   126.17 138.17\n",
      "- s_start_year               1   126.72 138.72\n",
      "- s_net_cost                 1   131.16 143.16\n",
      "- PC2                        1   134.42 146.42\n",
      "- factor(Gender)             2   136.48 146.48\n"
     ]
    }
   ],
   "source": [
    "log_mod_n_aic= stepAIC(log_mod_n, direction = 'backward')"
   ]
  },
  {
   "cell_type": "markdown",
   "metadata": {},
   "source": [
    "<b> Significant variables backward AIC selects:"
   ]
  },
  {
   "cell_type": "code",
   "execution_count": 31,
   "metadata": {},
   "outputs": [
    {
     "data": {
      "text/html": [
       "<table>\n",
       "<thead><tr><th></th><th scope=col>Estimate</th><th scope=col>Pr(&gt;|z|)</th></tr></thead>\n",
       "<tbody>\n",
       "\t<tr><th scope=row>s_start_age</th><td>-2.37977</td><td>0.02596 </td></tr>\n",
       "\t<tr><th scope=row>s_net_cost</th><td> 6.56536</td><td>0.00288 </td></tr>\n",
       "\t<tr><th scope=row>GPA_trend</th><td>50.00312</td><td>0.01562 </td></tr>\n",
       "</tbody>\n",
       "</table>\n"
      ],
      "text/latex": [
       "\\begin{tabular}{r|ll}\n",
       "  & Estimate & Pr(>\\textbar{}z\\textbar{})\\\\\n",
       "\\hline\n",
       "\ts\\_start\\_age & -2.37977 & 0.02596 \\\\\n",
       "\ts\\_net\\_cost &  6.56536 & 0.00288 \\\\\n",
       "\tGPA\\_trend & 50.00312 & 0.01562 \\\\\n",
       "\\end{tabular}\n"
      ],
      "text/markdown": [
       "\n",
       "| <!--/--> | Estimate | Pr(>|z|) |\n",
       "|---|---|---|\n",
       "| s_start_age | -2.37977 | 0.02596  |\n",
       "| s_net_cost |  6.56536 | 0.00288  |\n",
       "| GPA_trend | 50.00312 | 0.01562  |\n",
       "\n"
      ],
      "text/plain": [
       "            Estimate Pr(>|z|)\n",
       "s_start_age -2.37977 0.02596 \n",
       "s_net_cost   6.56536 0.00288 \n",
       "GPA_trend   50.00312 0.01562 "
      ]
     },
     "metadata": {},
     "output_type": "display_data"
    }
   ],
   "source": [
    "round(summary(log_mod_m_aic)$coeff[which(summary(log_mod_m_aic)$coef[,4] <= .05),c(1,4)],5)"
   ]
  },
  {
   "cell_type": "markdown",
   "metadata": {},
   "source": [
    "<b> Backward BIC:"
   ]
  },
  {
   "cell_type": "code",
   "execution_count": 32,
   "metadata": {
    "scrolled": false
   },
   "outputs": [
    {
     "name": "stdout",
     "output_type": "stream",
     "text": [
      "Start:  AIC=198.38\n",
      "Y ~ s_start_age + factor(Gender) + factor(funding_indicator) + \n",
      "    factor(Citizenship) + s_net_cost + PC1 + PC2 + PC3 + factor(gap_indicator) + \n",
      "    GPA_trend + s_start_year - 1\n",
      "\n"
     ]
    },
    {
     "name": "stderr",
     "output_type": "stream",
     "text": [
      "Warning message:\n",
      "\"glm.fit: fitted probabilities numerically 0 or 1 occurred\"Warning message:\n",
      "\"glm.fit: fitted probabilities numerically 0 or 1 occurred\"Warning message:\n",
      "\"glm.fit: fitted probabilities numerically 0 or 1 occurred\"Warning message:\n",
      "\"glm.fit: fitted probabilities numerically 0 or 1 occurred\"Warning message:\n",
      "\"glm.fit: fitted probabilities numerically 0 or 1 occurred\"Warning message:\n",
      "\"glm.fit: fitted probabilities numerically 0 or 1 occurred\"Warning message:\n",
      "\"glm.fit: fitted probabilities numerically 0 or 1 occurred\""
     ]
    },
    {
     "name": "stdout",
     "output_type": "stream",
     "text": [
      "                            Df Deviance    AIC\n",
      "- factor(Citizenship)        8   120.73 173.12\n",
      "- PC1                        1   107.90 193.62\n",
      "- s_start_age                1   108.19 193.91\n",
      "- factor(funding_indicator)  1   110.04 195.76\n",
      "- PC3                        1   110.59 196.31\n",
      "- GPA_trend                  1   110.62 196.34\n",
      "- factor(gap_indicator)      1   110.99 196.71\n",
      "- factor(Gender)             2   117.12 198.08\n",
      "<none>                           107.90 198.38\n",
      "- s_start_year               1   113.65 199.37\n",
      "- PC2                        1   117.22 202.94\n",
      "- s_net_cost                 1   118.39 204.11\n",
      "\n",
      "Step:  AIC=173.12\n",
      "Y ~ s_start_age + factor(Gender) + factor(funding_indicator) + \n",
      "    s_net_cost + PC1 + PC2 + PC3 + factor(gap_indicator) + GPA_trend + \n",
      "    s_start_year - 1\n",
      "\n",
      "                            Df Deviance    AIC\n",
      "- PC1                        1   120.73 168.35\n",
      "- s_start_age                1   120.74 168.36\n",
      "- GPA_trend                  1   121.80 169.42\n",
      "- factor(gap_indicator)      1   121.83 169.45\n",
      "- factor(funding_indicator)  1   122.67 170.29\n",
      "- PC3                        1   123.48 171.10\n",
      "<none>                           120.73 173.12\n",
      "- s_start_year               1   126.20 173.82\n",
      "- factor(Gender)             2   133.43 176.29\n",
      "- s_net_cost                 1   130.65 178.28\n",
      "- PC2                        1   132.44 180.06\n",
      "\n",
      "Step:  AIC=168.35\n",
      "Y ~ s_start_age + factor(Gender) + factor(funding_indicator) + \n",
      "    s_net_cost + PC2 + PC3 + factor(gap_indicator) + GPA_trend + \n",
      "    s_start_year - 1\n",
      "\n",
      "                            Df Deviance    AIC\n",
      "- s_start_age                1   120.74 163.59\n",
      "- GPA_trend                  1   121.80 164.66\n",
      "- factor(gap_indicator)      1   121.83 164.69\n",
      "- factor(funding_indicator)  1   122.67 165.53\n",
      "- PC3                        1   123.53 166.39\n",
      "<none>                           120.73 168.35\n",
      "- s_start_year               1   126.20 169.06\n",
      "- factor(Gender)             2   133.45 171.55\n",
      "- s_net_cost                 1   130.65 173.51\n",
      "- PC2                        1   132.61 175.47\n",
      "\n",
      "Step:  AIC=163.6\n",
      "Y ~ factor(Gender) + factor(funding_indicator) + s_net_cost + \n",
      "    PC2 + PC3 + factor(gap_indicator) + GPA_trend + s_start_year - \n",
      "    1\n",
      "\n",
      "                            Df Deviance    AIC\n",
      "- GPA_trend                  1   121.80 159.90\n",
      "- factor(gap_indicator)      1   121.86 159.95\n",
      "- factor(funding_indicator)  1   122.93 161.03\n",
      "- PC3                        1   123.55 161.64\n",
      "<none>                           120.74 163.59\n",
      "- s_start_year               1   126.20 164.30\n",
      "- s_net_cost                 1   130.74 168.84\n",
      "- factor(Gender)             2   136.42 169.76\n",
      "- PC2                        1   133.27 171.36\n",
      "\n",
      "Step:  AIC=159.9\n",
      "Y ~ factor(Gender) + factor(funding_indicator) + s_net_cost + \n",
      "    PC2 + PC3 + factor(gap_indicator) + s_start_year - 1\n",
      "\n",
      "                            Df Deviance    AIC\n",
      "- factor(gap_indicator)      1   122.51 155.84\n",
      "- factor(funding_indicator)  1   123.71 157.04\n",
      "- PC3                        1   125.17 158.50\n",
      "- s_start_year               1   126.38 159.72\n",
      "<none>                           121.80 159.90\n",
      "- s_net_cost                 1   131.04 164.37\n",
      "- factor(Gender)             2   136.44 165.01\n",
      "- PC2                        1   134.25 167.58\n",
      "\n",
      "Step:  AIC=155.84\n",
      "Y ~ factor(Gender) + factor(funding_indicator) + s_net_cost + \n",
      "    PC2 + PC3 + s_start_year - 1\n",
      "\n",
      "                            Df Deviance    AIC\n",
      "- factor(funding_indicator)  1   124.70 153.27\n",
      "- PC3                        1   126.17 154.74\n",
      "- s_start_year               1   126.72 155.29\n",
      "<none>                           122.51 155.84\n",
      "- s_net_cost                 1   131.16 159.73\n",
      "- factor(Gender)             2   136.48 160.29\n",
      "- PC2                        1   134.42 162.99\n",
      "\n",
      "Step:  AIC=153.27\n",
      "Y ~ factor(Gender) + s_net_cost + PC2 + PC3 + s_start_year - \n",
      "    1\n",
      "\n",
      "                 Df Deviance    AIC\n",
      "- PC3             1   128.00 151.82\n",
      "- s_start_year    1   129.03 152.84\n",
      "<none>                124.70 153.27\n",
      "- s_net_cost      1   133.00 156.81\n",
      "- PC2             1   137.17 160.98\n",
      "- factor(Gender)  2   148.51 167.56\n",
      "\n",
      "Step:  AIC=151.82\n",
      "Y ~ factor(Gender) + s_net_cost + PC2 + s_start_year - 1\n",
      "\n",
      "                 Df Deviance    AIC\n",
      "<none>                128.00 151.82\n",
      "- s_net_cost      1   137.77 156.82\n",
      "- PC2             1   138.23 157.28\n",
      "- s_start_year    1   140.86 159.91\n",
      "- factor(Gender)  2   149.20 163.49\n"
     ]
    }
   ],
   "source": [
    "log_mod_n_bic = stepAIC(log_mod_n, direction = \"backward\", k = log(d_n))"
   ]
  },
  {
   "cell_type": "markdown",
   "metadata": {},
   "source": [
    "<b> Significant variables backward BIC selects:"
   ]
  },
  {
   "cell_type": "code",
   "execution_count": 33,
   "metadata": {},
   "outputs": [
    {
     "data": {
      "text/html": [
       "<table>\n",
       "<thead><tr><th></th><th scope=col>Estimate</th><th scope=col>Pr(&gt;|z|)</th></tr></thead>\n",
       "<tbody>\n",
       "\t<tr><th scope=row>s_start_age</th><td>-1.77264</td><td>0.04960 </td></tr>\n",
       "\t<tr><th scope=row>s_net_cost</th><td> 5.71519</td><td>0.00407 </td></tr>\n",
       "\t<tr><th scope=row>GPA_trend</th><td>48.68300</td><td>0.02280 </td></tr>\n",
       "</tbody>\n",
       "</table>\n"
      ],
      "text/latex": [
       "\\begin{tabular}{r|ll}\n",
       "  & Estimate & Pr(>\\textbar{}z\\textbar{})\\\\\n",
       "\\hline\n",
       "\ts\\_start\\_age & -1.77264 & 0.04960 \\\\\n",
       "\ts\\_net\\_cost &  5.71519 & 0.00407 \\\\\n",
       "\tGPA\\_trend & 48.68300 & 0.02280 \\\\\n",
       "\\end{tabular}\n"
      ],
      "text/markdown": [
       "\n",
       "| <!--/--> | Estimate | Pr(>|z|) |\n",
       "|---|---|---|\n",
       "| s_start_age | -1.77264 | 0.04960  |\n",
       "| s_net_cost |  5.71519 | 0.00407  |\n",
       "| GPA_trend | 48.68300 | 0.02280  |\n",
       "\n"
      ],
      "text/plain": [
       "            Estimate Pr(>|z|)\n",
       "s_start_age -1.77264 0.04960 \n",
       "s_net_cost   5.71519 0.00407 \n",
       "GPA_trend   48.68300 0.02280 "
      ]
     },
     "metadata": {},
     "output_type": "display_data"
    }
   ],
   "source": [
    "round(summary(log_mod_m_bic)$coeff[which(summary(log_mod_m_bic)$coef[,4] <= .05),c(1,4)],5)"
   ]
  },
  {
   "cell_type": "markdown",
   "metadata": {},
   "source": [
    "# Watson Analysis "
   ]
  },
  {
   "cell_type": "markdown",
   "metadata": {},
   "source": [
    "<b> Logistic regression model:"
   ]
  },
  {
   "cell_type": "code",
   "execution_count": 34,
   "metadata": {},
   "outputs": [
    {
     "data": {
      "text/plain": [
       "\n",
       "Call:\n",
       "glm(formula = Y ~ s_start_age + factor(Gender) + factor(funding_indicator) + \n",
       "    factor(Citizenship) + s_net_cost + PC1 + PC2 + PC3 + factor(gap_indicator) + \n",
       "    GPA_trend + s_start_year - 1, family = \"binomial\", data = Watson_df)\n",
       "\n",
       "Deviance Residuals: \n",
       "    Min       1Q   Median       3Q      Max  \n",
       "-2.7230  -0.7681   0.4800   0.7813   1.8460  \n",
       "\n",
       "Coefficients:\n",
       "                                               Estimate Std. Error z value\n",
       "s_start_age                                    -0.02984    0.14456  -0.206\n",
       "factor(Gender)Female                           14.36937  534.16922   0.027\n",
       "factor(Gender)Male                             14.66739  534.16915   0.027\n",
       "factor(funding_indicator)1                      1.98035    0.30776   6.435\n",
       "factor(Citizenship)Asia                       -14.37935  534.16919  -0.027\n",
       "factor(Citizenship)Asian                      -15.20281  534.16937  -0.028\n",
       "factor(Citizenship)Black or African American  -15.42895  534.16957  -0.029\n",
       "factor(Citizenship)China                      -15.06838  534.16920  -0.028\n",
       "factor(Citizenship)Europe                     -15.43637  534.16971  -0.029\n",
       "factor(Citizenship)Hispanic or Latino         -12.88350  534.17076  -0.024\n",
       "factor(Citizenship)India                      -15.05843  534.16924  -0.028\n",
       "factor(Citizenship)North America               -0.91831 1550.32867  -0.001\n",
       "factor(Citizenship)South America              -16.12737  534.17141  -0.030\n",
       "factor(Citizenship)Unknown                    -15.55320  534.16930  -0.029\n",
       "factor(Citizenship)White                      -15.18022  534.16923  -0.028\n",
       "s_net_cost                                      0.89759    0.22866   3.925\n",
       "PC1                                            -0.15045    0.06718  -2.239\n",
       "PC2                                             0.01338    0.10300   0.130\n",
       "PC3                                            -0.41433    0.55404  -0.748\n",
       "factor(gap_indicator)1                          0.81141    0.38414   2.112\n",
       "GPA_trend                                       1.36705    1.18524   1.153\n",
       "s_start_year                                   -0.81771    0.20564  -3.976\n",
       "                                             Pr(>|z|)    \n",
       "s_start_age                                    0.8365    \n",
       "factor(Gender)Female                           0.9785    \n",
       "factor(Gender)Male                             0.9781    \n",
       "factor(funding_indicator)1                   1.24e-10 ***\n",
       "factor(Citizenship)Asia                        0.9785    \n",
       "factor(Citizenship)Asian                       0.9773    \n",
       "factor(Citizenship)Black or African American   0.9770    \n",
       "factor(Citizenship)China                       0.9775    \n",
       "factor(Citizenship)Europe                      0.9769    \n",
       "factor(Citizenship)Hispanic or Latino          0.9808    \n",
       "factor(Citizenship)India                       0.9775    \n",
       "factor(Citizenship)North America               0.9995    \n",
       "factor(Citizenship)South America               0.9759    \n",
       "factor(Citizenship)Unknown                     0.9768    \n",
       "factor(Citizenship)White                       0.9773    \n",
       "s_net_cost                                   8.66e-05 ***\n",
       "PC1                                            0.0251 *  \n",
       "PC2                                            0.8966    \n",
       "PC3                                            0.4546    \n",
       "factor(gap_indicator)1                         0.0347 *  \n",
       "GPA_trend                                      0.2487    \n",
       "s_start_year                                 7.00e-05 ***\n",
       "---\n",
       "Signif. codes:  0 '***' 0.001 '**' 0.01 '*' 0.05 '.' 0.1 ' ' 1\n",
       "\n",
       "(Dispersion parameter for binomial family taken to be 1)\n",
       "\n",
       "    Null deviance: 713.94  on 515  degrees of freedom\n",
       "Residual deviance: 510.22  on 493  degrees of freedom\n",
       "AIC: 554.22\n",
       "\n",
       "Number of Fisher Scoring iterations: 14\n"
      ]
     },
     "metadata": {},
     "output_type": "display_data"
    }
   ],
   "source": [
    "log_mod_w = glm(Y~s_start_age+factor(Gender)+factor(funding_indicator)+factor(Citizenship)+\n",
    "                s_net_cost+PC1+PC2+PC3+factor(gap_indicator)+GPA_trend+s_start_year-1,\n",
    "                data=Watson_df,family=\"binomial\")\n",
    "summary(log_mod_w)"
   ]
  },
  {
   "cell_type": "markdown",
   "metadata": {},
   "source": [
    "<b> Significant Variables of logistic regression model: "
   ]
  },
  {
   "cell_type": "code",
   "execution_count": 35,
   "metadata": {},
   "outputs": [
    {
     "data": {
      "text/html": [
       "<table>\n",
       "<thead><tr><th></th><th scope=col>Estimate</th><th scope=col>Pr(&gt;|z|)</th></tr></thead>\n",
       "<tbody>\n",
       "\t<tr><th scope=row>factor(funding_indicator)1</th><td> 1.98035</td><td>0.00000 </td></tr>\n",
       "\t<tr><th scope=row>s_net_cost</th><td> 0.89759</td><td>0.00009 </td></tr>\n",
       "\t<tr><th scope=row>PC1</th><td>-0.15045</td><td>0.02514 </td></tr>\n",
       "\t<tr><th scope=row>factor(gap_indicator)1</th><td> 0.81141</td><td>0.03466 </td></tr>\n",
       "\t<tr><th scope=row>s_start_year</th><td>-0.81771</td><td>0.00007 </td></tr>\n",
       "</tbody>\n",
       "</table>\n"
      ],
      "text/latex": [
       "\\begin{tabular}{r|ll}\n",
       "  & Estimate & Pr(>\\textbar{}z\\textbar{})\\\\\n",
       "\\hline\n",
       "\tfactor(funding\\_indicator)1 &  1.98035 & 0.00000 \\\\\n",
       "\ts\\_net\\_cost &  0.89759 & 0.00009 \\\\\n",
       "\tPC1 & -0.15045 & 0.02514 \\\\\n",
       "\tfactor(gap\\_indicator)1 &  0.81141 & 0.03466 \\\\\n",
       "\ts\\_start\\_year & -0.81771 & 0.00007 \\\\\n",
       "\\end{tabular}\n"
      ],
      "text/markdown": [
       "\n",
       "| <!--/--> | Estimate | Pr(>|z|) |\n",
       "|---|---|---|\n",
       "| factor(funding_indicator)1 |  1.98035 | 0.00000  |\n",
       "| s_net_cost |  0.89759 | 0.00009  |\n",
       "| PC1 | -0.15045 | 0.02514  |\n",
       "| factor(gap_indicator)1 |  0.81141 | 0.03466  |\n",
       "| s_start_year | -0.81771 | 0.00007  |\n",
       "\n"
      ],
      "text/plain": [
       "                           Estimate Pr(>|z|)\n",
       "factor(funding_indicator)1  1.98035 0.00000 \n",
       "s_net_cost                  0.89759 0.00009 \n",
       "PC1                        -0.15045 0.02514 \n",
       "factor(gap_indicator)1      0.81141 0.03466 \n",
       "s_start_year               -0.81771 0.00007 "
      ]
     },
     "metadata": {},
     "output_type": "display_data"
    }
   ],
   "source": [
    "round(summary(log_mod_w)$coeff[which(summary(log_mod_w)$coef[,4] <= .05),c(1,4)],5)"
   ]
  },
  {
   "cell_type": "markdown",
   "metadata": {},
   "source": [
    "<b> Backward AIC:"
   ]
  },
  {
   "cell_type": "code",
   "execution_count": 36,
   "metadata": {
    "scrolled": false
   },
   "outputs": [
    {
     "name": "stdout",
     "output_type": "stream",
     "text": [
      "Start:  AIC=554.22\n",
      "Y ~ s_start_age + factor(Gender) + factor(funding_indicator) + \n",
      "    factor(Citizenship) + s_net_cost + PC1 + PC2 + PC3 + factor(gap_indicator) + \n",
      "    GPA_trend + s_start_year - 1\n",
      "\n",
      "                            Df Deviance    AIC\n",
      "- factor(Citizenship)       11   529.29 551.29\n",
      "- PC2                        1   510.23 552.23\n",
      "- s_start_age                1   510.26 552.26\n",
      "- PC3                        1   510.78 552.78\n",
      "- GPA_trend                  1   511.57 553.57\n",
      "<none>                           510.22 554.22\n",
      "- factor(Gender)             2   515.08 555.08\n",
      "- factor(gap_indicator)      1   515.05 557.05\n",
      "- PC1                        1   515.33 557.33\n",
      "- s_net_cost                 1   528.20 570.20\n",
      "- s_start_year               1   528.53 570.53\n",
      "- factor(funding_indicator)  1   557.05 599.05\n",
      "\n",
      "Step:  AIC=551.29\n",
      "Y ~ s_start_age + factor(Gender) + factor(funding_indicator) + \n",
      "    s_net_cost + PC1 + PC2 + PC3 + factor(gap_indicator) + GPA_trend + \n",
      "    s_start_year - 1\n",
      "\n",
      "                            Df Deviance    AIC\n",
      "- s_start_age                1   529.29 549.29\n",
      "- PC2                        1   529.42 549.42\n",
      "- factor(Gender)             2   531.94 549.94\n",
      "- GPA_trend                  1   530.20 550.20\n",
      "- PC3                        1   530.41 550.41\n",
      "<none>                           529.29 551.29\n",
      "- factor(gap_indicator)      1   533.07 553.07\n",
      "- PC1                        1   533.93 553.93\n",
      "- s_start_year               1   544.67 564.67\n",
      "- s_net_cost                 1   549.50 569.50\n",
      "- factor(funding_indicator)  1   581.55 601.55\n",
      "\n",
      "Step:  AIC=549.29\n",
      "Y ~ factor(Gender) + factor(funding_indicator) + s_net_cost + \n",
      "    PC1 + PC2 + PC3 + factor(gap_indicator) + GPA_trend + s_start_year - \n",
      "    1\n",
      "\n",
      "                            Df Deviance    AIC\n",
      "- PC2                        1   529.42 547.42\n",
      "- factor(Gender)             2   532.07 548.07\n",
      "- GPA_trend                  1   530.21 548.21\n",
      "- PC3                        1   530.42 548.42\n",
      "<none>                           529.29 549.29\n",
      "- factor(gap_indicator)      1   533.07 551.07\n",
      "- PC1                        1   533.97 551.97\n",
      "- s_start_year               1   545.40 563.40\n",
      "- s_net_cost                 1   549.52 567.52\n",
      "- factor(funding_indicator)  1   589.69 607.69\n",
      "\n",
      "Step:  AIC=547.42\n",
      "Y ~ factor(Gender) + factor(funding_indicator) + s_net_cost + \n",
      "    PC1 + PC3 + factor(gap_indicator) + GPA_trend + s_start_year - \n",
      "    1\n",
      "\n",
      "                            Df Deviance    AIC\n",
      "- GPA_trend                  1   530.40 546.40\n",
      "- PC3                        1   530.55 546.55\n",
      "- factor(Gender)             2   532.75 546.75\n",
      "<none>                           529.42 547.42\n",
      "- factor(gap_indicator)      1   533.27 549.27\n",
      "- PC1                        1   534.36 550.36\n",
      "- s_start_year               1   549.44 565.44\n",
      "- s_net_cost                 1   549.55 565.55\n",
      "- factor(funding_indicator)  1   593.69 609.69\n",
      "\n",
      "Step:  AIC=546.4\n",
      "Y ~ factor(Gender) + factor(funding_indicator) + s_net_cost + \n",
      "    PC1 + PC3 + factor(gap_indicator) + s_start_year - 1\n",
      "\n",
      "                            Df Deviance    AIC\n",
      "- factor(Gender)             2   533.51 545.51\n",
      "- PC3                        1   531.56 545.56\n",
      "<none>                           530.40 546.40\n",
      "- factor(gap_indicator)      1   534.22 548.22\n",
      "- PC1                        1   535.19 549.19\n",
      "- s_net_cost                 1   551.04 565.04\n",
      "- s_start_year               1   551.76 565.76\n",
      "- factor(funding_indicator)  1   596.41 610.41\n",
      "\n",
      "Step:  AIC=544.8\n",
      "Y ~ factor(funding_indicator) + s_net_cost + PC1 + PC3 + factor(gap_indicator) + \n",
      "    s_start_year - 1\n",
      "\n",
      "                            Df Deviance    AIC\n",
      "- PC3                        1   531.97 543.97\n",
      "<none>                           530.80 544.80\n",
      "- factor(gap_indicator)      1   534.62 546.62\n",
      "- PC1                        1   535.59 547.59\n",
      "- s_net_cost                 1   551.69 563.69\n",
      "- s_start_year               1   552.60 564.60\n",
      "- factor(funding_indicator)  2   643.13 653.13\n",
      "\n",
      "Step:  AIC=543.97\n",
      "Y ~ factor(funding_indicator) + s_net_cost + PC1 + factor(gap_indicator) + \n",
      "    s_start_year - 1\n",
      "\n",
      "                            Df Deviance    AIC\n",
      "<none>                           531.97 543.97\n",
      "- factor(gap_indicator)      1   535.63 545.63\n",
      "- PC1                        1   535.97 545.97\n",
      "- s_net_cost                 1   552.44 562.44\n",
      "- s_start_year               1   559.34 569.34\n",
      "- factor(funding_indicator)  2   673.65 681.65\n"
     ]
    }
   ],
   "source": [
    "log_mod_w_aic= stepAIC(log_mod_w, direction = 'backward')"
   ]
  },
  {
   "cell_type": "markdown",
   "metadata": {},
   "source": [
    "<b> Significant variables backward AIC selects:"
   ]
  },
  {
   "cell_type": "code",
   "execution_count": 37,
   "metadata": {},
   "outputs": [
    {
     "data": {
      "text/html": [
       "<table>\n",
       "<thead><tr><th></th><th scope=col>Estimate</th><th scope=col>Pr(&gt;|z|)</th></tr></thead>\n",
       "<tbody>\n",
       "\t<tr><th scope=row>factor(funding_indicator)1</th><td> 1.74553</td><td>0.00000 </td></tr>\n",
       "\t<tr><th scope=row>s_net_cost</th><td> 0.94484</td><td>0.00003 </td></tr>\n",
       "\t<tr><th scope=row>PC1</th><td>-0.12519</td><td>0.04771 </td></tr>\n",
       "\t<tr><th scope=row>s_start_year</th><td>-0.76643</td><td>0.00000 </td></tr>\n",
       "</tbody>\n",
       "</table>\n"
      ],
      "text/latex": [
       "\\begin{tabular}{r|ll}\n",
       "  & Estimate & Pr(>\\textbar{}z\\textbar{})\\\\\n",
       "\\hline\n",
       "\tfactor(funding\\_indicator)1 &  1.74553 & 0.00000 \\\\\n",
       "\ts\\_net\\_cost &  0.94484 & 0.00003 \\\\\n",
       "\tPC1 & -0.12519 & 0.04771 \\\\\n",
       "\ts\\_start\\_year & -0.76643 & 0.00000 \\\\\n",
       "\\end{tabular}\n"
      ],
      "text/markdown": [
       "\n",
       "| <!--/--> | Estimate | Pr(>|z|) |\n",
       "|---|---|---|\n",
       "| factor(funding_indicator)1 |  1.74553 | 0.00000  |\n",
       "| s_net_cost |  0.94484 | 0.00003  |\n",
       "| PC1 | -0.12519 | 0.04771  |\n",
       "| s_start_year | -0.76643 | 0.00000  |\n",
       "\n"
      ],
      "text/plain": [
       "                           Estimate Pr(>|z|)\n",
       "factor(funding_indicator)1  1.74553 0.00000 \n",
       "s_net_cost                  0.94484 0.00003 \n",
       "PC1                        -0.12519 0.04771 \n",
       "s_start_year               -0.76643 0.00000 "
      ]
     },
     "metadata": {},
     "output_type": "display_data"
    }
   ],
   "source": [
    "round(summary(log_mod_w_aic)$coeff[which(summary(log_mod_w_aic)$coef[,4] <= .05),c(1,4)],5)"
   ]
  },
  {
   "cell_type": "markdown",
   "metadata": {},
   "source": [
    "<b> Backward BIC:"
   ]
  },
  {
   "cell_type": "code",
   "execution_count": 38,
   "metadata": {
    "scrolled": false
   },
   "outputs": [
    {
     "name": "stdout",
     "output_type": "stream",
     "text": [
      "Start:  AIC=647.59\n",
      "Y ~ s_start_age + factor(Gender) + factor(funding_indicator) + \n",
      "    factor(Citizenship) + s_net_cost + PC1 + PC2 + PC3 + factor(gap_indicator) + \n",
      "    GPA_trend + s_start_year - 1\n",
      "\n",
      "                            Df Deviance    AIC\n",
      "- factor(Citizenship)       11   529.29 597.97\n",
      "- factor(Gender)             2   515.08 639.96\n",
      "- PC2                        1   510.23 641.36\n",
      "- s_start_age                1   510.26 641.39\n",
      "- PC3                        1   510.78 641.90\n",
      "- GPA_trend                  1   511.57 642.70\n",
      "- factor(gap_indicator)      1   515.05 646.18\n",
      "- PC1                        1   515.33 646.45\n",
      "<none>                           510.22 647.59\n",
      "- s_net_cost                 1   528.20 659.32\n",
      "- s_start_year               1   528.53 659.66\n",
      "- factor(funding_indicator)  1   557.05 688.18\n",
      "\n",
      "Step:  AIC=597.97\n",
      "Y ~ s_start_age + factor(Gender) + factor(funding_indicator) + \n",
      "    s_net_cost + PC1 + PC2 + PC3 + factor(gap_indicator) + GPA_trend + \n",
      "    s_start_year - 1\n",
      "\n",
      "                            Df Deviance    AIC\n",
      "- factor(Gender)             2   531.94 588.14\n",
      "- s_start_age                1   529.29 591.73\n",
      "- PC2                        1   529.42 591.86\n",
      "- GPA_trend                  1   530.20 592.64\n",
      "- PC3                        1   530.41 592.85\n",
      "- factor(gap_indicator)      1   533.07 595.51\n",
      "- PC1                        1   533.93 596.37\n",
      "<none>                           529.29 597.97\n",
      "- s_start_year               1   544.67 607.12\n",
      "- s_net_cost                 1   549.50 611.94\n",
      "- factor(funding_indicator)  1   581.55 643.99\n",
      "\n",
      "Step:  AIC=592.19\n",
      "Y ~ s_start_age + factor(funding_indicator) + s_net_cost + PC1 + \n",
      "    PC2 + PC3 + factor(gap_indicator) + GPA_trend + s_start_year - \n",
      "    1\n",
      "\n",
      "                            Df Deviance    AIC\n",
      "- s_start_age                1   529.75 585.95\n",
      "- PC2                        1   529.89 586.08\n",
      "- GPA_trend                  1   530.60 586.80\n",
      "- PC3                        1   530.88 587.08\n",
      "- factor(gap_indicator)      1   533.52 589.72\n",
      "- PC1                        1   534.35 590.55\n",
      "<none>                           529.75 592.19\n",
      "- s_start_year               1   545.56 601.75\n",
      "- s_net_cost                 1   550.26 606.46\n",
      "- factor(funding_indicator)  2   623.98 673.94\n",
      "\n",
      "Step:  AIC=585.95\n",
      "Y ~ factor(funding_indicator) + s_net_cost + PC1 + PC2 + PC3 + \n",
      "    factor(gap_indicator) + GPA_trend + s_start_year - 1\n",
      "\n",
      "                            Df Deviance    AIC\n",
      "- PC2                        1   529.89 579.84\n",
      "- GPA_trend                  1   530.60 580.56\n",
      "- PC3                        1   530.89 580.84\n",
      "- factor(gap_indicator)      1   533.53 583.48\n",
      "- PC1                        1   534.41 584.36\n",
      "<none>                           529.75 585.95\n",
      "- s_start_year               1   546.20 596.15\n",
      "- s_net_cost                 1   550.27 600.22\n",
      "- factor(funding_indicator)  2   635.04 678.75\n",
      "\n",
      "Step:  AIC=579.84\n",
      "Y ~ factor(funding_indicator) + s_net_cost + PC1 + PC3 + factor(gap_indicator) + \n",
      "    GPA_trend + s_start_year - 1\n",
      "\n",
      "                            Df Deviance    AIC\n",
      "- GPA_trend                  1   530.80 574.51\n",
      "- PC3                        1   531.02 574.73\n",
      "- factor(gap_indicator)      1   533.73 577.44\n",
      "- PC1                        1   534.82 578.53\n",
      "<none>                           529.89 579.84\n",
      "- s_net_cost                 1   550.31 594.02\n",
      "- s_start_year               1   550.37 594.08\n",
      "- factor(funding_indicator)  2   635.30 672.77\n",
      "\n",
      "Step:  AIC=574.51\n",
      "Y ~ factor(funding_indicator) + s_net_cost + PC1 + PC3 + factor(gap_indicator) + \n",
      "    s_start_year - 1\n",
      "\n",
      "                            Df Deviance    AIC\n",
      "- PC3                        1   531.97 569.44\n",
      "- factor(gap_indicator)      1   534.62 572.09\n",
      "- PC1                        1   535.59 573.06\n",
      "<none>                           530.80 574.51\n",
      "- s_net_cost                 1   551.69 589.16\n",
      "- s_start_year               1   552.60 590.06\n",
      "- factor(funding_indicator)  2   643.13 674.35\n",
      "\n",
      "Step:  AIC=569.44\n",
      "Y ~ factor(funding_indicator) + s_net_cost + PC1 + factor(gap_indicator) + \n",
      "    s_start_year - 1\n",
      "\n",
      "                            Df Deviance    AIC\n",
      "- factor(gap_indicator)      1   535.63 566.85\n",
      "- PC1                        1   535.97 567.19\n",
      "<none>                           531.97 569.44\n",
      "- s_net_cost                 1   552.44 583.66\n",
      "- s_start_year               1   559.34 590.57\n",
      "- factor(funding_indicator)  2   673.65 698.63\n",
      "\n",
      "Step:  AIC=566.85\n",
      "Y ~ factor(funding_indicator) + s_net_cost + PC1 + s_start_year - \n",
      "    1\n",
      "\n",
      "                            Df Deviance    AIC\n",
      "- PC1                        1   539.25 564.23\n",
      "<none>                           535.63 566.85\n",
      "- s_net_cost                 1   555.91 580.88\n",
      "- s_start_year               1   569.33 594.31\n",
      "- factor(funding_indicator)  2   698.77 717.51\n",
      "\n",
      "Step:  AIC=564.23\n",
      "Y ~ factor(funding_indicator) + s_net_cost + s_start_year - 1\n",
      "\n",
      "                            Df Deviance    AIC\n",
      "<none>                           539.25 564.23\n",
      "- s_net_cost                 1   558.80 577.53\n",
      "- s_start_year               1   590.78 609.52\n",
      "- factor(funding_indicator)  2   705.11 717.60\n"
     ]
    }
   ],
   "source": [
    "log_mod_w_bic = stepAIC(log_mod_w, direction = \"backward\", k = log(e_n))"
   ]
  },
  {
   "cell_type": "markdown",
   "metadata": {},
   "source": [
    "<b> Significant variables backward BIC selects:"
   ]
  },
  {
   "cell_type": "code",
   "execution_count": 39,
   "metadata": {},
   "outputs": [
    {
     "data": {
      "text/html": [
       "<table>\n",
       "<thead><tr><th></th><th scope=col>Estimate</th><th scope=col>Pr(&gt;|z|)</th></tr></thead>\n",
       "<tbody>\n",
       "\t<tr><th scope=row>factor(funding_indicator)1</th><td> 1.83449</td><td>0e+00   </td></tr>\n",
       "\t<tr><th scope=row>s_net_cost</th><td> 0.92130</td><td>5e-05   </td></tr>\n",
       "\t<tr><th scope=row>s_start_year</th><td>-0.93994</td><td>0e+00   </td></tr>\n",
       "</tbody>\n",
       "</table>\n"
      ],
      "text/latex": [
       "\\begin{tabular}{r|ll}\n",
       "  & Estimate & Pr(>\\textbar{}z\\textbar{})\\\\\n",
       "\\hline\n",
       "\tfactor(funding\\_indicator)1 &  1.83449 & 0e+00   \\\\\n",
       "\ts\\_net\\_cost &  0.92130 & 5e-05   \\\\\n",
       "\ts\\_start\\_year & -0.93994 & 0e+00   \\\\\n",
       "\\end{tabular}\n"
      ],
      "text/markdown": [
       "\n",
       "| <!--/--> | Estimate | Pr(>|z|) |\n",
       "|---|---|---|\n",
       "| factor(funding_indicator)1 |  1.83449 | 0e+00    |\n",
       "| s_net_cost |  0.92130 | 5e-05    |\n",
       "| s_start_year | -0.93994 | 0e+00    |\n",
       "\n"
      ],
      "text/plain": [
       "                           Estimate Pr(>|z|)\n",
       "factor(funding_indicator)1  1.83449 0e+00   \n",
       "s_net_cost                  0.92130 5e-05   \n",
       "s_start_year               -0.93994 0e+00   "
      ]
     },
     "metadata": {},
     "output_type": "display_data"
    }
   ],
   "source": [
    "round(summary(log_mod_w_bic)$coeff[which(summary(log_mod_w_bic)$coef[,4] <= .05),c(1,4)],5)"
   ]
  }
 ],
 "metadata": {
  "hide_input": false,
  "kernelspec": {
   "display_name": "R",
   "language": "R",
   "name": "ir"
  },
  "language_info": {
   "codemirror_mode": "r",
   "file_extension": ".r",
   "mimetype": "text/x-r-source",
   "name": "R",
   "pygments_lexer": "r",
   "version": "3.6.0"
  },
  "latex_envs": {
   "LaTeX_envs_menu_present": true,
   "autoclose": false,
   "autocomplete": true,
   "bibliofile": "biblio.bib",
   "cite_by": "apalike",
   "current_citInitial": 1,
   "eqLabelWithNumbers": true,
   "eqNumInitial": 1,
   "hotkeys": {
    "equation": "Ctrl-E",
    "itemize": "Ctrl-I"
   },
   "labels_anchors": false,
   "latex_user_defs": false,
   "report_style_numbering": false,
   "user_envs_cfg": false
  },
  "toc": {
   "base_numbering": 1,
   "nav_menu": {},
   "number_sections": true,
   "sideBar": true,
   "skip_h1_title": false,
   "title_cell": "Table of Contents",
   "title_sidebar": "Contents",
   "toc_cell": false,
   "toc_position": {
    "height": "calc(100% - 180px)",
    "left": "10px",
    "top": "150px",
    "width": "190.139px"
   },
   "toc_section_display": true,
   "toc_window_display": true
  }
 },
 "nbformat": 4,
 "nbformat_minor": 2
}
