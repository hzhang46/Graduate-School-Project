{
 "cells": [
  {
   "cell_type": "code",
   "execution_count": 1,
   "metadata": {},
   "outputs": [
    {
     "name": "stderr",
     "output_type": "stream",
     "text": [
      "Warning message:\n",
      "\"package 'nnet' was built under R version 3.6.2\"Warning message:\n",
      "\"package 'caret' was built under R version 3.6.2\"Loading required package: lattice\n",
      "Loading required package: ggplot2\n",
      "Warning message:\n",
      "\"package 'ggplot2' was built under R version 3.6.2\"Warning message:\n",
      "\"package 'plotmo' was built under R version 3.6.2\"Loading required package: Formula\n",
      "Loading required package: plotrix\n",
      "Loading required package: TeachingDemos\n",
      "Warning message:\n",
      "\"package 'TeachingDemos' was built under R version 3.6.2\"Warning message:\n",
      "\"package 'readr' was built under R version 3.6.2\"Warning message:\n",
      "\"package 'faraway' was built under R version 3.6.2\"\n",
      "Attaching package: 'faraway'\n",
      "\n",
      "The following object is masked from 'package:lattice':\n",
      "\n",
      "    melanoma\n",
      "\n",
      "Warning message:\n",
      "\"package 'glmnet' was built under R version 3.6.2\"Loading required package: Matrix\n",
      "Loaded glmnet 3.0-2\n",
      "\n",
      "Warning message:\n",
      "\"package 'e1071' was built under R version 3.6.2\""
     ]
    }
   ],
   "source": [
    "library(MASS)\n",
    "library(nnet)\n",
    "library(caret)\n",
    "library(plotmo)\n",
    "library(readr)\n",
    "library(faraway)\n",
    "library(ggplot2)\n",
    "library(glmnet)\n",
    "library(e1071)"
   ]
  },
  {
   "cell_type": "markdown",
   "metadata": {},
   "source": [
    "# Load Data and Final Clean"
   ]
  },
  {
   "cell_type": "code",
   "execution_count": 2,
   "metadata": {
    "scrolled": true
   },
   "outputs": [
    {
     "data": {
      "text/html": [
       "<ol class=list-inline>\n",
       "\t<li>'X1st_Term_Funding'</li>\n",
       "\t<li>'X2nd_Term_Funding'</li>\n",
       "\t<li>'X3rd_Term_Funding'</li>\n",
       "\t<li>'X4th_Term_Funding'</li>\n",
       "\t<li>'Start_year'</li>\n",
       "\t<li>'Start_age'</li>\n",
       "\t<li>'College'</li>\n",
       "\t<li>'Age'</li>\n",
       "\t<li>'Degree'</li>\n",
       "\t<li>'Gender'</li>\n",
       "\t<li>'funding_indicator'</li>\n",
       "\t<li>'ID'</li>\n",
       "\t<li>'Citizenship'</li>\n",
       "\t<li>'Major_id'</li>\n",
       "\t<li>'Major'</li>\n",
       "\t<li>'net_cost'</li>\n",
       "\t<li>'Program'</li>\n",
       "\t<li>'Prep.Level'</li>\n",
       "\t<li>'Total.Charges'</li>\n",
       "\t<li>'Total.Funding.Amount'</li>\n",
       "\t<li>'Y'</li>\n",
       "\t<li>'PC1'</li>\n",
       "\t<li>'PC2'</li>\n",
       "\t<li>'PC3'</li>\n",
       "\t<li>'Term.1.GPA'</li>\n",
       "\t<li>'Term.2.GPA'</li>\n",
       "\t<li>'Term.3.GPA'</li>\n",
       "\t<li>'Term.4.GPA'</li>\n",
       "\t<li>'Term.5.GPA'</li>\n",
       "\t<li>'Term.6.GPA'</li>\n",
       "\t<li>'Term.7.GPA'</li>\n",
       "\t<li>'Term.8.GPA'</li>\n",
       "\t<li>'gap_indicator'</li>\n",
       "\t<li>'GPA_trend'</li>\n",
       "\t<li>'Valid.term'</li>\n",
       "\t<li>'Average_GPA'</li>\n",
       "\t<li>'academic_period'</li>\n",
       "\t<li>'s_College'</li>\n",
       "\t<li>'s_Citizenship'</li>\n",
       "</ol>\n"
      ],
      "text/latex": [
       "\\begin{enumerate*}\n",
       "\\item 'X1st\\_Term\\_Funding'\n",
       "\\item 'X2nd\\_Term\\_Funding'\n",
       "\\item 'X3rd\\_Term\\_Funding'\n",
       "\\item 'X4th\\_Term\\_Funding'\n",
       "\\item 'Start\\_year'\n",
       "\\item 'Start\\_age'\n",
       "\\item 'College'\n",
       "\\item 'Age'\n",
       "\\item 'Degree'\n",
       "\\item 'Gender'\n",
       "\\item 'funding\\_indicator'\n",
       "\\item 'ID'\n",
       "\\item 'Citizenship'\n",
       "\\item 'Major\\_id'\n",
       "\\item 'Major'\n",
       "\\item 'net\\_cost'\n",
       "\\item 'Program'\n",
       "\\item 'Prep.Level'\n",
       "\\item 'Total.Charges'\n",
       "\\item 'Total.Funding.Amount'\n",
       "\\item 'Y'\n",
       "\\item 'PC1'\n",
       "\\item 'PC2'\n",
       "\\item 'PC3'\n",
       "\\item 'Term.1.GPA'\n",
       "\\item 'Term.2.GPA'\n",
       "\\item 'Term.3.GPA'\n",
       "\\item 'Term.4.GPA'\n",
       "\\item 'Term.5.GPA'\n",
       "\\item 'Term.6.GPA'\n",
       "\\item 'Term.7.GPA'\n",
       "\\item 'Term.8.GPA'\n",
       "\\item 'gap\\_indicator'\n",
       "\\item 'GPA\\_trend'\n",
       "\\item 'Valid.term'\n",
       "\\item 'Average\\_GPA'\n",
       "\\item 'academic\\_period'\n",
       "\\item 's\\_College'\n",
       "\\item 's\\_Citizenship'\n",
       "\\end{enumerate*}\n"
      ],
      "text/markdown": [
       "1. 'X1st_Term_Funding'\n",
       "2. 'X2nd_Term_Funding'\n",
       "3. 'X3rd_Term_Funding'\n",
       "4. 'X4th_Term_Funding'\n",
       "5. 'Start_year'\n",
       "6. 'Start_age'\n",
       "7. 'College'\n",
       "8. 'Age'\n",
       "9. 'Degree'\n",
       "10. 'Gender'\n",
       "11. 'funding_indicator'\n",
       "12. 'ID'\n",
       "13. 'Citizenship'\n",
       "14. 'Major_id'\n",
       "15. 'Major'\n",
       "16. 'net_cost'\n",
       "17. 'Program'\n",
       "18. 'Prep.Level'\n",
       "19. 'Total.Charges'\n",
       "20. 'Total.Funding.Amount'\n",
       "21. 'Y'\n",
       "22. 'PC1'\n",
       "23. 'PC2'\n",
       "24. 'PC3'\n",
       "25. 'Term.1.GPA'\n",
       "26. 'Term.2.GPA'\n",
       "27. 'Term.3.GPA'\n",
       "28. 'Term.4.GPA'\n",
       "29. 'Term.5.GPA'\n",
       "30. 'Term.6.GPA'\n",
       "31. 'Term.7.GPA'\n",
       "32. 'Term.8.GPA'\n",
       "33. 'gap_indicator'\n",
       "34. 'GPA_trend'\n",
       "35. 'Valid.term'\n",
       "36. 'Average_GPA'\n",
       "37. 'academic_period'\n",
       "38. 's_College'\n",
       "39. 's_Citizenship'\n",
       "\n",
       "\n"
      ],
      "text/plain": [
       " [1] \"X1st_Term_Funding\"    \"X2nd_Term_Funding\"    \"X3rd_Term_Funding\"   \n",
       " [4] \"X4th_Term_Funding\"    \"Start_year\"           \"Start_age\"           \n",
       " [7] \"College\"              \"Age\"                  \"Degree\"              \n",
       "[10] \"Gender\"               \"funding_indicator\"    \"ID\"                  \n",
       "[13] \"Citizenship\"          \"Major_id\"             \"Major\"               \n",
       "[16] \"net_cost\"             \"Program\"              \"Prep.Level\"          \n",
       "[19] \"Total.Charges\"        \"Total.Funding.Amount\" \"Y\"                   \n",
       "[22] \"PC1\"                  \"PC2\"                  \"PC3\"                 \n",
       "[25] \"Term.1.GPA\"           \"Term.2.GPA\"           \"Term.3.GPA\"          \n",
       "[28] \"Term.4.GPA\"           \"Term.5.GPA\"           \"Term.6.GPA\"          \n",
       "[31] \"Term.7.GPA\"           \"Term.8.GPA\"           \"gap_indicator\"       \n",
       "[34] \"GPA_trend\"            \"Valid.term\"           \"Average_GPA\"         \n",
       "[37] \"academic_period\"      \"s_College\"            \"s_Citizenship\"       "
      ]
     },
     "metadata": {},
     "output_type": "display_data"
    },
    {
     "data": {
      "text/html": [
       "<ol class=list-inline>\n",
       "\t<li>2470</li>\n",
       "\t<li>39</li>\n",
       "</ol>\n"
      ],
      "text/latex": [
       "\\begin{enumerate*}\n",
       "\\item 2470\n",
       "\\item 39\n",
       "\\end{enumerate*}\n"
      ],
      "text/markdown": [
       "1. 2470\n",
       "2. 39\n",
       "\n",
       "\n"
      ],
      "text/plain": [
       "[1] 2470   39"
      ]
     },
     "metadata": {},
     "output_type": "display_data"
    }
   ],
   "source": [
    "df <- read.csv(file=\"cleaned_data_02171.csv\",sep=\",\",header=TRUE)\n",
    "df = df[,-1]\n",
    "colnames(df)\n",
    "dim(df)"
   ]
  },
  {
   "cell_type": "code",
   "execution_count": 3,
   "metadata": {
    "scrolled": true
   },
   "outputs": [
    {
     "data": {
      "text/html": [
       "<ol class=list-inline>\n",
       "\t<li>White</li>\n",
       "\t<li>Black or African American</li>\n",
       "\t<li>Asian</li>\n",
       "\t<li>Asia</li>\n",
       "\t<li>Hispanic or Latino</li>\n",
       "\t<li>China</li>\n",
       "\t<li>Africa</li>\n",
       "\t<li>Unknown</li>\n",
       "\t<li>India</li>\n",
       "\t<li>Europe</li>\n",
       "\t<li>Other International Students</li>\n",
       "</ol>\n",
       "\n",
       "<details>\n",
       "\t<summary style=display:list-item;cursor:pointer>\n",
       "\t\t<strong>Levels</strong>:\n",
       "\t</summary>\n",
       "\t<ol class=list-inline>\n",
       "\t\t<li>'Africa'</li>\n",
       "\t\t<li>'Asia'</li>\n",
       "\t\t<li>'Asian'</li>\n",
       "\t\t<li>'Black or African American'</li>\n",
       "\t\t<li>'China'</li>\n",
       "\t\t<li>'Europe'</li>\n",
       "\t\t<li>'Hispanic or Latino'</li>\n",
       "\t\t<li>'India'</li>\n",
       "\t\t<li>'Other International Students'</li>\n",
       "\t\t<li>'Unknown'</li>\n",
       "\t\t<li>'White'</li>\n",
       "\t</ol>\n",
       "</details>"
      ],
      "text/latex": [
       "\\begin{enumerate*}\n",
       "\\item White\n",
       "\\item Black or African American\n",
       "\\item Asian\n",
       "\\item Asia\n",
       "\\item Hispanic or Latino\n",
       "\\item China\n",
       "\\item Africa\n",
       "\\item Unknown\n",
       "\\item India\n",
       "\\item Europe\n",
       "\\item Other International Students\n",
       "\\end{enumerate*}\n",
       "\n",
       "\\emph{Levels}: \\begin{enumerate*}\n",
       "\\item 'Africa'\n",
       "\\item 'Asia'\n",
       "\\item 'Asian'\n",
       "\\item 'Black or African American'\n",
       "\\item 'China'\n",
       "\\item 'Europe'\n",
       "\\item 'Hispanic or Latino'\n",
       "\\item 'India'\n",
       "\\item 'Other International Students'\n",
       "\\item 'Unknown'\n",
       "\\item 'White'\n",
       "\\end{enumerate*}\n"
      ],
      "text/markdown": [
       "1. White\n",
       "2. Black or African American\n",
       "3. Asian\n",
       "4. Asia\n",
       "5. Hispanic or Latino\n",
       "6. China\n",
       "7. Africa\n",
       "8. Unknown\n",
       "9. India\n",
       "10. Europe\n",
       "11. Other International Students\n",
       "\n",
       "\n",
       "\n",
       "**Levels**: 1. 'Africa'\n",
       "2. 'Asia'\n",
       "3. 'Asian'\n",
       "4. 'Black or African American'\n",
       "5. 'China'\n",
       "6. 'Europe'\n",
       "7. 'Hispanic or Latino'\n",
       "8. 'India'\n",
       "9. 'Other International Students'\n",
       "10. 'Unknown'\n",
       "11. 'White'\n",
       "\n",
       "\n"
      ],
      "text/plain": [
       " [1] White                        Black or African American   \n",
       " [3] Asian                        Asia                        \n",
       " [5] Hispanic or Latino           China                       \n",
       " [7] Africa                       Unknown                     \n",
       " [9] India                        Europe                      \n",
       "[11] Other International Students\n",
       "11 Levels: Africa Asia Asian Black or African American China ... White"
      ]
     },
     "metadata": {},
     "output_type": "display_data"
    }
   ],
   "source": [
    "unique(df$Citizenship)"
   ]
  },
  {
   "cell_type": "markdown",
   "metadata": {},
   "source": [
    "Scale and center some variables:"
   ]
  },
  {
   "cell_type": "code",
   "execution_count": 4,
   "metadata": {},
   "outputs": [],
   "source": [
    "mean_age = mean(df$Start_age)\n",
    "sd_age = sd(df$Start_age)\n",
    "df$s_start_age = (df$Start_age - mean_age)/sd_age\n",
    "mean_net = mean(df$net_cost)\n",
    "sd_net = sd(df$net_cost)\n",
    "df$s_net_cost = (df$net_cost - mean_net)/sd_net\n",
    "mean_year = mean(df$Start_year)\n",
    "sd_year = sd(df$Start_year)\n",
    "df$s_start_year = (df$Start_year - mean_year)/sd_year"
   ]
  },
  {
   "cell_type": "code",
   "execution_count": 5,
   "metadata": {},
   "outputs": [],
   "source": [
    "av_net_cost = ifelse(df$Valid.term > 0, df$net_cost / df$Valid.term, df$net_cost)\n",
    "av_mean_net = mean(av_net_cost)\n",
    "av_sd_net = sd(av_net_cost)\n",
    "df$avs_net_cost = (av_net_cost - av_mean_net)/av_sd_net"
   ]
  },
  {
   "cell_type": "markdown",
   "metadata": {},
   "source": [
    "## Seperate by School"
   ]
  },
  {
   "cell_type": "markdown",
   "metadata": {},
   "source": [
    "Different Schools"
   ]
  },
  {
   "cell_type": "code",
   "execution_count": 6,
   "metadata": {},
   "outputs": [],
   "source": [
    "schools = levels(factor(df$College))"
   ]
  },
  {
   "cell_type": "code",
   "execution_count": 7,
   "metadata": {},
   "outputs": [],
   "source": [
    "Harpur_df = df[df$College %in% schools[1:4],]\n",
    "Management_df = df[df$College==\"GD Management\",]\n",
    "Nursing_df = df[df$College==\"GD Nursing\",]\n",
    "Watson_df = df[df$College==\"GD Watson\",]"
   ]
  },
  {
   "cell_type": "code",
   "execution_count": 8,
   "metadata": {
    "scrolled": false
   },
   "outputs": [
    {
     "data": {
      "text/html": [
       "<ol class=list-inline>\n",
       "\t<li>Chemistry</li>\n",
       "\t<li>Behavioral Neuroscience</li>\n",
       "\t<li>Cognitive Psychology</li>\n",
       "\t<li>Physics</li>\n",
       "\t<li>Mathematics</li>\n",
       "\t<li>Comparative Literature</li>\n",
       "\t<li>Translation Studies</li>\n",
       "\t<li>Educational Theory and Practic</li>\n",
       "\t<li>Philosophy Interpretation and</li>\n",
       "\t<li>Biological Sciences</li>\n",
       "\t<li>English</li>\n",
       "\t<li>Materials Science and Engineer</li>\n",
       "\t<li>History</li>\n",
       "\t<li>Anthropology</li>\n",
       "\t<li>Sociology</li>\n",
       "\t<li>Material Sci and Eng-Engineerg</li>\n",
       "\t<li>Clinical Psychology</li>\n",
       "\t<li>Economics</li>\n",
       "\t<li>Geology</li>\n",
       "\t<li>Philosophy SPEL</li>\n",
       "\t<li>Political Science</li>\n",
       "\t<li>Community and Public Affairs</li>\n",
       "\t<li>Art History</li>\n",
       "\t<li>Materials Science and Engr</li>\n",
       "\t<li>Biological Sciences EEB</li>\n",
       "\t<li>X Geology</li>\n",
       "\t<li>Art History Combined MA PhD</li>\n",
       "\t<li>Mechanical Engineering</li>\n",
       "\t<li>Mathematics/Economics</li>\n",
       "</ol>\n",
       "\n",
       "<details>\n",
       "\t<summary style=display:list-item;cursor:pointer>\n",
       "\t\t<strong>Levels</strong>:\n",
       "\t</summary>\n",
       "\t<ol class=list-inline>\n",
       "\t\t<li>'Anthropology'</li>\n",
       "\t\t<li>'Art History'</li>\n",
       "\t\t<li>'Art History Combined MA PhD'</li>\n",
       "\t\t<li>'Behavioral Neuroscience'</li>\n",
       "\t\t<li>'Biological Sciences'</li>\n",
       "\t\t<li>'Biological Sciences EEB'</li>\n",
       "\t\t<li>'Biomedical Engineering'</li>\n",
       "\t\t<li>'Chemistry'</li>\n",
       "\t\t<li>'Clinical Psychology'</li>\n",
       "\t\t<li>'Cognitive Psychology'</li>\n",
       "\t\t<li>'Community and Public Affairs'</li>\n",
       "\t\t<li>'Community Health NP'</li>\n",
       "\t\t<li>'Comparative Literature'</li>\n",
       "\t\t<li>'Computer Science'</li>\n",
       "\t\t<li>'Economics'</li>\n",
       "\t\t<li>'Educational Theory and Practic'</li>\n",
       "\t\t<li>'Electrical and Computer Engr'</li>\n",
       "\t\t<li>'Electrical Engineering'</li>\n",
       "\t\t<li>'English'</li>\n",
       "\t\t<li>'Family Nurse Practitioner'</li>\n",
       "\t\t<li>'Family Psych Mental Health NP'</li>\n",
       "\t\t<li>'Geology'</li>\n",
       "\t\t<li>'History'</li>\n",
       "\t\t<li>'Industrial and Systems Enginee'</li>\n",
       "\t\t<li>'Management PHD'</li>\n",
       "\t\t<li>'Material Sci and Eng-Engineerg'</li>\n",
       "\t\t<li>'Materials Engineering'</li>\n",
       "\t\t<li>'Materials Science and Engineer'</li>\n",
       "\t\t<li>'Materials Science and Engr'</li>\n",
       "\t\t<li>'Mathematics'</li>\n",
       "\t\t<li>'Mathematics/Economics'</li>\n",
       "\t\t<li>'Mechanical Engineering'</li>\n",
       "\t\t<li>'Nursing'</li>\n",
       "\t\t<li>'Philosophy Interpretation and'</li>\n",
       "\t\t<li>'Philosophy SPEL'</li>\n",
       "\t\t<li>'Physics'</li>\n",
       "\t\t<li>'Political Science'</li>\n",
       "\t\t<li>'Sociology'</li>\n",
       "\t\t<li>'Systems Science'</li>\n",
       "\t\t<li>'Systems Science/Biomedical Engineering'</li>\n",
       "\t\t<li>'Systems Science/EE'</li>\n",
       "\t\t<li>'Translation Studies'</li>\n",
       "\t\t<li>'X Geology'</li>\n",
       "\t\t<li>'X Gerontological NP'</li>\n",
       "\t\t<li>'XGerontolog Clin Nurse Special'</li>\n",
       "\t</ol>\n",
       "</details>"
      ],
      "text/latex": [
       "\\begin{enumerate*}\n",
       "\\item Chemistry\n",
       "\\item Behavioral Neuroscience\n",
       "\\item Cognitive Psychology\n",
       "\\item Physics\n",
       "\\item Mathematics\n",
       "\\item Comparative Literature\n",
       "\\item Translation Studies\n",
       "\\item Educational Theory and Practic\n",
       "\\item Philosophy Interpretation and\n",
       "\\item Biological Sciences\n",
       "\\item English\n",
       "\\item Materials Science and Engineer\n",
       "\\item History\n",
       "\\item Anthropology\n",
       "\\item Sociology\n",
       "\\item Material Sci and Eng-Engineerg\n",
       "\\item Clinical Psychology\n",
       "\\item Economics\n",
       "\\item Geology\n",
       "\\item Philosophy SPEL\n",
       "\\item Political Science\n",
       "\\item Community and Public Affairs\n",
       "\\item Art History\n",
       "\\item Materials Science and Engr\n",
       "\\item Biological Sciences EEB\n",
       "\\item X Geology\n",
       "\\item Art History Combined MA PhD\n",
       "\\item Mechanical Engineering\n",
       "\\item Mathematics/Economics\n",
       "\\end{enumerate*}\n",
       "\n",
       "\\emph{Levels}: \\begin{enumerate*}\n",
       "\\item 'Anthropology'\n",
       "\\item 'Art History'\n",
       "\\item 'Art History Combined MA PhD'\n",
       "\\item 'Behavioral Neuroscience'\n",
       "\\item 'Biological Sciences'\n",
       "\\item 'Biological Sciences EEB'\n",
       "\\item 'Biomedical Engineering'\n",
       "\\item 'Chemistry'\n",
       "\\item 'Clinical Psychology'\n",
       "\\item 'Cognitive Psychology'\n",
       "\\item 'Community and Public Affairs'\n",
       "\\item 'Community Health NP'\n",
       "\\item 'Comparative Literature'\n",
       "\\item 'Computer Science'\n",
       "\\item 'Economics'\n",
       "\\item 'Educational Theory and Practic'\n",
       "\\item 'Electrical and Computer Engr'\n",
       "\\item 'Electrical Engineering'\n",
       "\\item 'English'\n",
       "\\item 'Family Nurse Practitioner'\n",
       "\\item 'Family Psych Mental Health NP'\n",
       "\\item 'Geology'\n",
       "\\item 'History'\n",
       "\\item 'Industrial and Systems Enginee'\n",
       "\\item 'Management PHD'\n",
       "\\item 'Material Sci and Eng-Engineerg'\n",
       "\\item 'Materials Engineering'\n",
       "\\item 'Materials Science and Engineer'\n",
       "\\item 'Materials Science and Engr'\n",
       "\\item 'Mathematics'\n",
       "\\item 'Mathematics/Economics'\n",
       "\\item 'Mechanical Engineering'\n",
       "\\item 'Nursing'\n",
       "\\item 'Philosophy Interpretation and'\n",
       "\\item 'Philosophy SPEL'\n",
       "\\item 'Physics'\n",
       "\\item 'Political Science'\n",
       "\\item 'Sociology'\n",
       "\\item 'Systems Science'\n",
       "\\item 'Systems Science/Biomedical Engineering'\n",
       "\\item 'Systems Science/EE'\n",
       "\\item 'Translation Studies'\n",
       "\\item 'X Geology'\n",
       "\\item 'X Gerontological NP'\n",
       "\\item 'XGerontolog Clin Nurse Special'\n",
       "\\end{enumerate*}\n"
      ],
      "text/markdown": [
       "1. Chemistry\n",
       "2. Behavioral Neuroscience\n",
       "3. Cognitive Psychology\n",
       "4. Physics\n",
       "5. Mathematics\n",
       "6. Comparative Literature\n",
       "7. Translation Studies\n",
       "8. Educational Theory and Practic\n",
       "9. Philosophy Interpretation and\n",
       "10. Biological Sciences\n",
       "11. English\n",
       "12. Materials Science and Engineer\n",
       "13. History\n",
       "14. Anthropology\n",
       "15. Sociology\n",
       "16. Material Sci and Eng-Engineerg\n",
       "17. Clinical Psychology\n",
       "18. Economics\n",
       "19. Geology\n",
       "20. Philosophy SPEL\n",
       "21. Political Science\n",
       "22. Community and Public Affairs\n",
       "23. Art History\n",
       "24. Materials Science and Engr\n",
       "25. Biological Sciences EEB\n",
       "26. X Geology\n",
       "27. Art History Combined MA PhD\n",
       "28. Mechanical Engineering\n",
       "29. Mathematics/Economics\n",
       "\n",
       "\n",
       "\n",
       "**Levels**: 1. 'Anthropology'\n",
       "2. 'Art History'\n",
       "3. 'Art History Combined MA PhD'\n",
       "4. 'Behavioral Neuroscience'\n",
       "5. 'Biological Sciences'\n",
       "6. 'Biological Sciences EEB'\n",
       "7. 'Biomedical Engineering'\n",
       "8. 'Chemistry'\n",
       "9. 'Clinical Psychology'\n",
       "10. 'Cognitive Psychology'\n",
       "11. 'Community and Public Affairs'\n",
       "12. 'Community Health NP'\n",
       "13. 'Comparative Literature'\n",
       "14. 'Computer Science'\n",
       "15. 'Economics'\n",
       "16. 'Educational Theory and Practic'\n",
       "17. 'Electrical and Computer Engr'\n",
       "18. 'Electrical Engineering'\n",
       "19. 'English'\n",
       "20. 'Family Nurse Practitioner'\n",
       "21. 'Family Psych Mental Health NP'\n",
       "22. 'Geology'\n",
       "23. 'History'\n",
       "24. 'Industrial and Systems Enginee'\n",
       "25. 'Management PHD'\n",
       "26. 'Material Sci and Eng-Engineerg'\n",
       "27. 'Materials Engineering'\n",
       "28. 'Materials Science and Engineer'\n",
       "29. 'Materials Science and Engr'\n",
       "30. 'Mathematics'\n",
       "31. 'Mathematics/Economics'\n",
       "32. 'Mechanical Engineering'\n",
       "33. 'Nursing'\n",
       "34. 'Philosophy Interpretation and'\n",
       "35. 'Philosophy SPEL'\n",
       "36. 'Physics'\n",
       "37. 'Political Science'\n",
       "38. 'Sociology'\n",
       "39. 'Systems Science'\n",
       "40. 'Systems Science/Biomedical Engineering'\n",
       "41. 'Systems Science/EE'\n",
       "42. 'Translation Studies'\n",
       "43. 'X Geology'\n",
       "44. 'X Gerontological NP'\n",
       "45. 'XGerontolog Clin Nurse Special'\n",
       "\n",
       "\n"
      ],
      "text/plain": [
       " [1] Chemistry                      Behavioral Neuroscience       \n",
       " [3] Cognitive Psychology           Physics                       \n",
       " [5] Mathematics                    Comparative Literature        \n",
       " [7] Translation Studies            Educational Theory and Practic\n",
       " [9] Philosophy Interpretation and  Biological Sciences           \n",
       "[11] English                        Materials Science and Engineer\n",
       "[13] History                        Anthropology                  \n",
       "[15] Sociology                      Material Sci and Eng-Engineerg\n",
       "[17] Clinical Psychology            Economics                     \n",
       "[19] Geology                        Philosophy SPEL               \n",
       "[21] Political Science              Community and Public Affairs  \n",
       "[23] Art History                    Materials Science and Engr    \n",
       "[25] Biological Sciences EEB        X Geology                     \n",
       "[27] Art History Combined MA PhD    Mechanical Engineering        \n",
       "[29] Mathematics/Economics         \n",
       "45 Levels: Anthropology Art History ... XGerontolog Clin Nurse Special"
      ]
     },
     "metadata": {},
     "output_type": "display_data"
    }
   ],
   "source": [
    "unique(Harpur_df$Major)"
   ]
  },
  {
   "cell_type": "code",
   "execution_count": 9,
   "metadata": {},
   "outputs": [],
   "source": [
    "harpur_sciences <- c(\"Chemistry\", \"Behavioral Neuroscience\",\"Cognitive Psychology\",\"Physics\",\"Mathematics\",\n",
    "                     \"Biological Sciences\",\"Materials Science and Engineer\",\"Material Sci and Eng-Engineerg\",\n",
    "                     \"Clinical Psychology\",\"Economics\",\"Geology\",\"Political Science\",\"Materials Science and Engr\",\n",
    "                     \"Biological Sciences EEB\", \"X Geology\",\"Mathematics/Economics\")\n",
    "harpur_arts <- c(\"Comparative Literature\",\"Translation Studies\",\"Educational Theory and Practic\",\n",
    "                 \"Philosophy Interpretation and\", \"English\",\"History\",\"Anthropology\",\"Sociology\",\"Philosophy SPEL\",\n",
    "                 \"Community and Public Affairs\",\"Art History\",\"Art History Combined MA PhD\")"
   ]
  },
  {
   "cell_type": "code",
   "execution_count": 10,
   "metadata": {},
   "outputs": [],
   "source": [
    "Harpur_sciences = Harpur_df[Harpur_df$Major %in% harpur_sciences,]\n",
    "Harpur_arts = Harpur_df[Harpur_df$Major %in% harpur_arts,]"
   ]
  },
  {
   "cell_type": "code",
   "execution_count": 11,
   "metadata": {},
   "outputs": [],
   "source": [
    "Harpur_sciences <- within(Harpur_sciences, Citizenship <- relevel(Citizenship, ref = \"White\"))\n",
    "Harpur_arts <- within(Harpur_arts, Citizenship <- relevel(Citizenship, ref = \"White\"))\n",
    "Management_df <- within(Management_df, Citizenship <- relevel(Citizenship, ref = \"White\"))\n",
    "Watson_df <- within(Watson_df, Citizenship <- relevel(Citizenship, ref = \"White\"))\n",
    "Nursing_df <- within(Nursing_df, Citizenship <- relevel(Citizenship, ref = \"White\"))"
   ]
  },
  {
   "cell_type": "code",
   "execution_count": 12,
   "metadata": {},
   "outputs": [
    {
     "data": {
      "text/html": [
       "861"
      ],
      "text/latex": [
       "861"
      ],
      "text/markdown": [
       "861"
      ],
      "text/plain": [
       "[1] 861"
      ]
     },
     "metadata": {},
     "output_type": "display_data"
    },
    {
     "data": {
      "text/html": [
       "918"
      ],
      "text/latex": [
       "918"
      ],
      "text/markdown": [
       "918"
      ],
      "text/plain": [
       "[1] 918"
      ]
     },
     "metadata": {},
     "output_type": "display_data"
    },
    {
     "data": {
      "text/html": [
       "1780"
      ],
      "text/latex": [
       "1780"
      ],
      "text/markdown": [
       "1780"
      ],
      "text/plain": [
       "[1] 1780"
      ]
     },
     "metadata": {},
     "output_type": "display_data"
    }
   ],
   "source": [
    "dim(Harpur_sciences)[1]\n",
    "dim(Harpur_arts)[1]\n",
    "dim(Harpur_df)[1]"
   ]
  },
  {
   "cell_type": "code",
   "execution_count": 13,
   "metadata": {
    "scrolled": false
   },
   "outputs": [
    {
     "data": {
      "text/html": [
       "<table>\n",
       "<thead><tr><th scope=col>School</th><th scope=col>Total</th><th scope=col>Successful.Graduates</th><th scope=col>Unsuccessful.Graduates</th></tr></thead>\n",
       "<tbody>\n",
       "\t<tr><td>Harpur sciences</td><td>861            </td><td>542            </td><td>319            </td></tr>\n",
       "\t<tr><td>Harpur_arts    </td><td>918            </td><td>534            </td><td>384            </td></tr>\n",
       "\t<tr><td>SOM            </td><td> 58            </td><td> 38            </td><td> 20            </td></tr>\n",
       "\t<tr><td>Nursing        </td><td>117            </td><td> 72            </td><td> 45            </td></tr>\n",
       "\t<tr><td>Watson         </td><td>515            </td><td>343            </td><td>172            </td></tr>\n",
       "</tbody>\n",
       "</table>\n"
      ],
      "text/latex": [
       "\\begin{tabular}{r|llll}\n",
       " School & Total & Successful.Graduates & Unsuccessful.Graduates\\\\\n",
       "\\hline\n",
       "\t Harpur sciences & 861             & 542             & 319            \\\\\n",
       "\t Harpur\\_arts     & 918               & 534               & 384              \\\\\n",
       "\t SOM             &  58             &  38             &  20            \\\\\n",
       "\t Nursing         & 117             &  72             &  45            \\\\\n",
       "\t Watson          & 515             & 343             & 172            \\\\\n",
       "\\end{tabular}\n"
      ],
      "text/markdown": [
       "\n",
       "| School | Total | Successful.Graduates | Unsuccessful.Graduates |\n",
       "|---|---|---|---|\n",
       "| Harpur sciences | 861             | 542             | 319             |\n",
       "| Harpur_arts     | 918             | 534             | 384             |\n",
       "| SOM             |  58             |  38             |  20             |\n",
       "| Nursing         | 117             |  72             |  45             |\n",
       "| Watson          | 515             | 343             | 172             |\n",
       "\n"
      ],
      "text/plain": [
       "  School          Total Successful.Graduates Unsuccessful.Graduates\n",
       "1 Harpur sciences 861   542                  319                   \n",
       "2 Harpur_arts     918   534                  384                   \n",
       "3 SOM              58    38                   20                   \n",
       "4 Nursing         117    72                   45                   \n",
       "5 Watson          515   343                  172                   "
      ]
     },
     "metadata": {},
     "output_type": "display_data"
    }
   ],
   "source": [
    "a_n = dim(Harpur_sciences)[1]\n",
    "a_1 = sum(Harpur_sciences$Y)\n",
    "a_0 = a_n - a_1\n",
    "b_n = dim(Harpur_arts)[1]\n",
    "b_1 = sum(Harpur_arts$Y)\n",
    "b_0 = b_n - b_1\n",
    "c_n = dim(Management_df)[1]\n",
    "c_1 = sum(Management_df$Y)\n",
    "c_0 = c_n - c_1\n",
    "d_n = dim(Nursing_df)[1]\n",
    "d_1 = sum(Nursing_df$Y)\n",
    "d_0 = d_n - d_1\n",
    "e_n = dim(Watson_df)[1]\n",
    "e_1 = sum(Watson_df$Y)\n",
    "e_0 = e_n - e_1\n",
    "School = c(\"Harpur sciences\",\"Harpur_arts\",\"SOM\",\"Nursing\",\"Watson\")\n",
    "sch_total = c(a_n,b_n,c_n,d_n,e_n)\n",
    "succ_total = c(a_1,b_1,c_1,d_1,e_1)\n",
    "unsucc_total = c(a_0,b_0,c_0,d_0,e_0)\n",
    "data.frame(\"School\"=School,\"Total\"=sch_total,\"Successful Graduates\"=succ_total,\"Unsuccessful Graduates\"=unsucc_total)"
   ]
  },
  {
   "cell_type": "code",
   "execution_count": 14,
   "metadata": {},
   "outputs": [
    {
     "data": {
      "text/html": [
       "<dl class=dl-horizontal>\n",
       "\t<dt>White</dt>\n",
       "\t\t<dd>46</dd>\n",
       "\t<dt>Africa</dt>\n",
       "\t\t<dd>6</dd>\n",
       "\t<dt>Asia</dt>\n",
       "\t\t<dd>92</dd>\n",
       "\t<dt>Asian</dt>\n",
       "\t\t<dd>16</dd>\n",
       "\t<dt>Black or African American</dt>\n",
       "\t\t<dd>7</dd>\n",
       "\t<dt>China</dt>\n",
       "\t\t<dd>95</dd>\n",
       "\t<dt>Europe</dt>\n",
       "\t\t<dd>8</dd>\n",
       "\t<dt>Hispanic or Latino</dt>\n",
       "\t\t<dd>6</dd>\n",
       "\t<dt>India</dt>\n",
       "\t\t<dd>46</dd>\n",
       "\t<dt>Other International Students</dt>\n",
       "\t\t<dd>2</dd>\n",
       "\t<dt>Unknown</dt>\n",
       "\t\t<dd>19</dd>\n",
       "</dl>\n"
      ],
      "text/latex": [
       "\\begin{description*}\n",
       "\\item[White] 46\n",
       "\\item[Africa] 6\n",
       "\\item[Asia] 92\n",
       "\\item[Asian] 16\n",
       "\\item[Black or African American] 7\n",
       "\\item[China] 95\n",
       "\\item[Europe] 8\n",
       "\\item[Hispanic or Latino] 6\n",
       "\\item[India] 46\n",
       "\\item[Other International Students] 2\n",
       "\\item[Unknown] 19\n",
       "\\end{description*}\n"
      ],
      "text/markdown": [
       "White\n",
       ":   46Africa\n",
       ":   6Asia\n",
       ":   92Asian\n",
       ":   16Black or African American\n",
       ":   7China\n",
       ":   95Europe\n",
       ":   8Hispanic or Latino\n",
       ":   6India\n",
       ":   46Other International Students\n",
       ":   2Unknown\n",
       ":   19\n",
       "\n"
      ],
      "text/plain": [
       "                       White                       Africa \n",
       "                          46                            6 \n",
       "                        Asia                        Asian \n",
       "                          92                           16 \n",
       "   Black or African American                        China \n",
       "                           7                           95 \n",
       "                      Europe           Hispanic or Latino \n",
       "                           8                            6 \n",
       "                       India Other International Students \n",
       "                          46                            2 \n",
       "                     Unknown \n",
       "                          19 "
      ]
     },
     "metadata": {},
     "output_type": "display_data"
    }
   ],
   "source": [
    "summary(Watson_df[which(Watson_df$Y==1), ]$Citizenship)"
   ]
  },
  {
   "cell_type": "code",
   "execution_count": 15,
   "metadata": {},
   "outputs": [
    {
     "data": {
      "text/html": [
       "<table>\n",
       "<thead><tr><th></th><th scope=col>X1st_Term_Funding</th><th scope=col>X2nd_Term_Funding</th><th scope=col>X3rd_Term_Funding</th><th scope=col>X4th_Term_Funding</th><th scope=col>Start_year</th><th scope=col>Start_age</th><th scope=col>College</th><th scope=col>Age</th><th scope=col>Degree</th><th scope=col>Gender</th><th scope=col>...</th><th scope=col>GPA_trend</th><th scope=col>Valid.term</th><th scope=col>Average_GPA</th><th scope=col>academic_period</th><th scope=col>s_College</th><th scope=col>s_Citizenship</th><th scope=col>s_start_age</th><th scope=col>s_net_cost</th><th scope=col>s_start_year</th><th scope=col>avs_net_cost</th></tr></thead>\n",
       "<tbody>\n",
       "\t<tr><th scope=row>1</th><td>4685                </td><td>4935                </td><td>4110.0              </td><td> 432.0              </td><td>2013                </td><td>22.3                </td><td>GD Harpur           </td><td>29                  </td><td>Doctor of Philosophy</td><td>Male                </td><td>...                 </td><td> 0.06               </td><td>3                   </td><td>3.79                </td><td>4.6                 </td><td>GD Harpur           </td><td>White               </td><td>-0.758619253        </td><td>-0.826374490        </td><td> 0.85901134         </td><td>-0.65494776         </td></tr>\n",
       "\t<tr><th scope=row>3</th><td>4685                </td><td>4685                </td><td>3699.0              </td><td>3699.0              </td><td>2012                </td><td>22.0                </td><td>GD Harpur           </td><td>29                  </td><td>Doctor of Philosophy</td><td>Female              </td><td>...                 </td><td>-0.08               </td><td>6                   </td><td>3.14                </td><td>5.4                 </td><td>GD Harpur           </td><td>White               </td><td>-0.798100147        </td><td>-0.732387052        </td><td> 0.64687796         </td><td>-0.68741906         </td></tr>\n",
       "\t<tr><th scope=row>4</th><td>4685                </td><td>4685                </td><td>3699.0              </td><td>3699.0              </td><td>2012                </td><td>23.0                </td><td>GD Harpur           </td><td>30                  </td><td>Doctor of Philosophy</td><td>Female              </td><td>...                 </td><td> 0.00               </td><td>6                   </td><td>3.98                </td><td>4.4                 </td><td>GD Harpur           </td><td>White               </td><td>-0.666497166        </td><td>-0.731452053        </td><td> 0.64687796         </td><td>-0.68693362         </td></tr>\n",
       "\t<tr><th scope=row>11</th><td>3699                </td><td>3699                </td><td> 432.0              </td><td> 432.0              </td><td>2013                </td><td>23.0                </td><td>GD Harpur           </td><td>29                  </td><td>Doctor of Philosophy</td><td>Male                </td><td>...                 </td><td> 0.00               </td><td>2                   </td><td>3.70                </td><td>5.0                 </td><td>GD Harpur           </td><td>White               </td><td>-0.666497166        </td><td> 1.846713327        </td><td> 0.85901134         </td><td> 3.58982146         </td></tr>\n",
       "\t<tr><th scope=row>12</th><td>8325                </td><td>8325                </td><td> 925.0              </td><td> 925.0              </td><td>2013                </td><td>23.0                </td><td>GD Harpur           </td><td>29                  </td><td>Doctor of Philosophy</td><td>Female              </td><td>...                 </td><td> 0.03               </td><td>6                   </td><td>3.96                </td><td>4.4                 </td><td>GD Harpur           </td><td>China               </td><td>-0.666497166        </td><td>-0.664944044        </td><td> 0.85901134         </td><td>-0.65240349         </td></tr>\n",
       "\t<tr><th scope=row>14</th><td>   0                </td><td>   0                </td><td>3141.0              </td><td>3141.0              </td><td>2008                </td><td>22.0                </td><td>GD Harpur           </td><td>33                  </td><td>Doctor of Philosophy</td><td>Female              </td><td>...                 </td><td> 0.08               </td><td>6                   </td><td>3.69                </td><td>5.4                 </td><td>GD Harpur           </td><td>White               </td><td>-0.798100147        </td><td> 0.115601102        </td><td>-0.20165553         </td><td>-0.24715426         </td></tr>\n",
       "\t<tr><th scope=row>23</th><td>   0                </td><td>   0                </td><td>3141.0              </td><td>3141.0              </td><td>2008                </td><td>33.0                </td><td>GD Harpur           </td><td>44                  </td><td>Doctor of Philosophy</td><td>Male                </td><td>...                 </td><td>-0.07               </td><td>4                   </td><td>3.83                </td><td>5.0                 </td><td>GD Harpur           </td><td>White               </td><td> 0.649532636        </td><td>-0.429510596        </td><td>-0.20165553         </td><td>-0.38651183         </td></tr>\n",
       "\t<tr><th scope=row>26</th><td>   0                </td><td>   0                </td><td>4968.0              </td><td>4968.0              </td><td>2008                </td><td>22.0                </td><td>GD Harpur           </td><td>33                  </td><td>Doctor of Philosophy</td><td>Female              </td><td>...                 </td><td> 0.13               </td><td>4                   </td><td>3.84                </td><td>4.4                 </td><td>GD Harpur           </td><td>White               </td><td>-0.798100147        </td><td>-0.170550395        </td><td>-0.20165553         </td><td>-0.18483851         </td></tr>\n",
       "\t<tr><th scope=row>29</th><td>4968                </td><td>6072                </td><td>5166.0              </td><td>5683.2              </td><td>2009                </td><td>24.0                </td><td>GD Grad School      </td><td>34                  </td><td>Doctor of Philosophy</td><td>Male                </td><td>...                 </td><td> 0.25               </td><td>3                   </td><td>3.68                </td><td>6.0                 </td><td>GD Non-Harpur       </td><td>White               </td><td>-0.534894186        </td><td>-0.245971116        </td><td> 0.01047784         </td><td>-0.05227148         </td></tr>\n",
       "\t<tr><th scope=row>32</th><td>   0                </td><td>   0                </td><td>   0.0              </td><td>4968.0              </td><td>2008                </td><td>23.3                </td><td>GD Harpur           </td><td>35                  </td><td>Doctor of Philosophy</td><td>Female              </td><td>...                 </td><td> 0.38               </td><td>5                   </td><td>3.34                </td><td>5.0                 </td><td>GD Harpur           </td><td>White               </td><td>-0.627016272        </td><td> 0.214431648        </td><td>-0.20165553         </td><td>-0.07151431         </td></tr>\n",
       "\t<tr><th scope=row>35</th><td>4185                </td><td>4185                </td><td>3141.0              </td><td>3330.0              </td><td>2010                </td><td>28.3                </td><td>GD Harpur           </td><td>38                  </td><td>Doctor of Philosophy</td><td>Male                </td><td>...                 </td><td> 0.04               </td><td>5                   </td><td>3.96                </td><td>4.3                 </td><td>GD Harpur           </td><td>White               </td><td> 0.030998629        </td><td>-0.759549225        </td><td> 0.22261122         </td><td>-0.67832867         </td></tr>\n",
       "\t<tr><th scope=row>36</th><td>   0                </td><td>   0                </td><td>   0.0              </td><td>4968.0              </td><td>2008                </td><td>27.3                </td><td>GD Harpur           </td><td>39                  </td><td>Doctor of Philosophy</td><td>Female              </td><td>...                 </td><td> 0.01               </td><td>4                   </td><td>3.60                </td><td>6.0                 </td><td>GD Harpur           </td><td>Africa              </td><td>-0.100604351        </td><td> 0.372693072        </td><td>-0.20165553         </td><td> 0.23822926         </td></tr>\n",
       "\t<tr><th scope=row>41</th><td>   0                </td><td>   0                </td><td>3350.4              </td><td>3350.4              </td><td>2008                </td><td>22.0                </td><td>GD Harpur           </td><td>33                  </td><td>Doctor of Philosophy</td><td>Female              </td><td>...                 </td><td> 0.03               </td><td>4                   </td><td>3.98                </td><td>5.0                 </td><td>GD Harpur           </td><td>White               </td><td>-0.798100147        </td><td>-0.383883193        </td><td>-0.20165553         </td><td>-0.35097807         </td></tr>\n",
       "\t<tr><th scope=row>51</th><td>   0                </td><td>   0                </td><td>   0.0              </td><td>4968.0              </td><td>2008                </td><td>25.3                </td><td>GD Grad School      </td><td>37                  </td><td>Doctor of Philosophy</td><td>Male                </td><td>...                 </td><td> 0.16               </td><td>3                   </td><td>3.89                </td><td>4.3                 </td><td>GD Non-Harpur       </td><td>China               </td><td>-0.363810312        </td><td> 0.072123887        </td><td>-0.20165553         </td><td> 0.27803038         </td></tr>\n",
       "\t<tr><th scope=row>55</th><td>   0                </td><td>   0                </td><td>4968.0              </td><td>4968.0              </td><td>2008                </td><td>26.0                </td><td>GD Harpur           </td><td>37                  </td><td>Doctor of Philosophy</td><td>Male                </td><td>...                 </td><td> 0.01               </td><td>4                   </td><td>3.98                </td><td>4.4                 </td><td>GD Harpur           </td><td>China               </td><td>-0.271688226        </td><td> 0.007898439        </td><td>-0.20165553         </td><td>-0.04586592         </td></tr>\n",
       "\t<tr><th scope=row>62</th><td>   0                </td><td>   0                </td><td>4968.0              </td><td>4968.0              </td><td>2009                </td><td>25.0                </td><td>GD Grad School      </td><td>35                  </td><td>Doctor of Philosophy</td><td>Male                </td><td>...                 </td><td> 0.00               </td><td>0                   </td><td>0.00                </td><td>1.8                 </td><td>GD Non-Harpur       </td><td>China               </td><td>-0.403291206        </td><td>-0.113066732        </td><td> 0.01047784         </td><td> 1.89216838         </td></tr>\n",
       "\t<tr><th scope=row>65</th><td>   0                </td><td>   0                </td><td>4185.0              </td><td>3141.0              </td><td>2008                </td><td>22.0                </td><td>GD Harpur           </td><td>33                  </td><td>Doctor of Philosophy</td><td>Female              </td><td>...                 </td><td> 0.02               </td><td>8                   </td><td>3.71                </td><td>6.0                 </td><td>GD Harpur           </td><td>White               </td><td>-0.798100147        </td><td> 2.068813668        </td><td>-0.20165553         </td><td> 0.37082573         </td></tr>\n",
       "\t<tr><th scope=row>66</th><td>   0                </td><td>   0                </td><td>4185.0              </td><td>3141.0              </td><td>2008                </td><td>26.0                </td><td>GD Harpur           </td><td>37                  </td><td>Doctor of Philosophy</td><td>Male                </td><td>...                 </td><td> 0.15               </td><td>6                   </td><td>3.62                </td><td>5.8                 </td><td>GD Harpur           </td><td>White               </td><td>-0.271688226        </td><td>-0.205667337        </td><td>-0.20165553         </td><td>-0.41395280         </td></tr>\n",
       "\t<tr><th scope=row>68</th><td>   0                </td><td>   0                </td><td>4185.0              </td><td>3141.0              </td><td>2008                </td><td>22.0                </td><td>GD Harpur           </td><td>33                  </td><td>Doctor of Philosophy</td><td>Female              </td><td>...                 </td><td> 0.09               </td><td>8                   </td><td>3.67                </td><td>6.8                 </td><td>GD Harpur           </td><td>White               </td><td>-0.798100147        </td><td> 2.325795767        </td><td>-0.20165553         </td><td> 0.47089214         </td></tr>\n",
       "\t<tr><th scope=row>69</th><td>3141                </td><td> 349                </td><td> 370.0              </td><td> 370.0              </td><td>2008                </td><td>23.0                </td><td>GD Harpur           </td><td>34                  </td><td>Doctor of Philosophy</td><td>Male                </td><td>...                 </td><td> 0.00               </td><td>3                   </td><td>3.91                </td><td>5.4                 </td><td>GD Harpur           </td><td>White               </td><td>-0.666497166        </td><td>-0.465524590        </td><td>-0.20165553         </td><td>-0.28025029         </td></tr>\n",
       "\t<tr><th scope=row>72</th><td>   0                </td><td>3141                </td><td>3141.0              </td><td> 349.0              </td><td>2009                </td><td>47.0                </td><td>GD Grad School      </td><td>57                  </td><td>Doctor of Philosophy</td><td>Female              </td><td>...                 </td><td> 0.00               </td><td>1                   </td><td>4.00                </td><td>3.4                 </td><td>GD Non-Harpur       </td><td>White               </td><td> 2.491974360        </td><td>-0.668504010        </td><td> 0.01047784         </td><td> 0.16191205         </td></tr>\n",
       "\t<tr><th scope=row>76</th><td>   0                </td><td>   0                </td><td>4968.0              </td><td>4968.0              </td><td>2008                </td><td>27.0                </td><td>GD Harpur           </td><td>38                  </td><td>Doctor of Philosophy</td><td>Male                </td><td>...                 </td><td> 0.05               </td><td>6                   </td><td>3.89                </td><td>5.4                 </td><td>GD Harpur           </td><td>White               </td><td>-0.140085245        </td><td> 0.136963990        </td><td>-0.20165553         </td><td>-0.23606292         </td></tr>\n",
       "\t<tr><th scope=row>77</th><td>   0                </td><td>   0                </td><td>4185.0              </td><td>4185.0              </td><td>2008                </td><td>27.0                </td><td>GD Harpur           </td><td>38                  </td><td>Doctor of Philosophy</td><td>Male                </td><td>...                 </td><td> 0.00               </td><td>5                   </td><td>4.00                </td><td>3.8                 </td><td>GD Harpur           </td><td>White               </td><td>-0.140085245        </td><td> 0.681675038        </td><td>-0.20165553         </td><td> 0.21958996         </td></tr>\n",
       "\t<tr><th scope=row>79</th><td>   0                </td><td>   0                </td><td>4185.0              </td><td>3141.0              </td><td>2008                </td><td>23.0                </td><td>GD Harpur           </td><td>34                  </td><td>Doctor of Philosophy</td><td>Female              </td><td>...                 </td><td> 0.02               </td><td>8                   </td><td>3.92                </td><td>6.8                 </td><td>GD Harpur           </td><td>White               </td><td>-0.666497166        </td><td> 2.133606116        </td><td>-0.20165553         </td><td> 0.39605530         </td></tr>\n",
       "\t<tr><th scope=row>87</th><td>   0                </td><td>   0                </td><td>3141.0              </td><td>3141.0              </td><td>2008                </td><td>24.0                </td><td>GD Harpur           </td><td>35                  </td><td>Doctor of Philosophy</td><td>Male                </td><td>...                 </td><td> 0.05               </td><td>7                   </td><td>3.74                </td><td>5.0                 </td><td>GD Harpur           </td><td>White               </td><td>-0.534894186        </td><td> 1.127461555        </td><td>-0.20165553         </td><td> 0.12166590         </td></tr>\n",
       "\t<tr><th scope=row>89</th><td>   0                </td><td>   0                </td><td>6625.0              </td><td>4968.0              </td><td>2008                </td><td>22.0                </td><td>GD Harpur           </td><td>33                  </td><td>Doctor of Philosophy</td><td>Female              </td><td>...                 </td><td> 0.00               </td><td>6                   </td><td>3.40                </td><td>4.8                 </td><td>GD Harpur           </td><td>White               </td><td>-0.798100147        </td><td> 0.110069652        </td><td>-0.20165553         </td><td>-0.25002612         </td></tr>\n",
       "\t<tr><th scope=row>94</th><td>   0                </td><td>   0                </td><td>4185.0              </td><td>3141.0              </td><td>2008                </td><td>23.0                </td><td>GD Harpur           </td><td>34                  </td><td>Doctor of Philosophy</td><td>Female              </td><td>...                 </td><td> 0.00               </td><td>7                   </td><td>3.81                </td><td>7.0                 </td><td>GD Harpur           </td><td>White               </td><td>-0.666497166        </td><td> 0.265307664        </td><td>-0.20165553         </td><td>-0.26200793         </td></tr>\n",
       "\t<tr><th scope=row>95</th><td>   0                </td><td>   0                </td><td>4185.0              </td><td>4185.0              </td><td>2008                </td><td>24.0                </td><td>GD Harpur           </td><td>35                  </td><td>Doctor of Philosophy</td><td>Female              </td><td>...                 </td><td> 0.02               </td><td>8                   </td><td>3.90                </td><td>6.0                 </td><td>GD Harpur           </td><td>White               </td><td>-0.534894186        </td><td>-0.103337716        </td><td>-0.20165553         </td><td>-0.47498955         </td></tr>\n",
       "\t<tr><th scope=row>96</th><td>   0                </td><td>   0                </td><td>4185.0              </td><td>4185.0              </td><td>2008                </td><td>22.0                </td><td>GD Harpur           </td><td>33                  </td><td>Doctor of Philosophy</td><td>Male                </td><td>...                 </td><td> 0.07               </td><td>5                   </td><td>3.92                </td><td>4.8                 </td><td>GD Harpur           </td><td>White               </td><td>-0.798100147        </td><td> 0.802078945        </td><td>-0.20165553         </td><td> 0.29460460         </td></tr>\n",
       "\t<tr><th scope=row>97</th><td>   0                </td><td>   0                </td><td>4968.0              </td><td> 552.0              </td><td>2009                </td><td>28.0                </td><td>GD Grad School      </td><td>38                  </td><td>Doctor of Philosophy</td><td>Female              </td><td>...                 </td><td> 0.00               </td><td>0                   </td><td>0.00                </td><td>1.4                 </td><td>GD Non-Harpur       </td><td>China               </td><td>-0.008482265        </td><td>-0.150872623        </td><td> 0.01047784         </td><td> 1.77439832         </td></tr>\n",
       "\t<tr><th scope=row>...</th><td>...</td><td>...</td><td>...</td><td>...</td><td>...</td><td>...</td><td>...</td><td>...</td><td>...</td><td>...</td><td>   </td><td>...</td><td>...</td><td>...</td><td>...</td><td>...</td><td>...</td><td>...</td><td>...</td><td>...</td><td>...</td></tr>\n",
       "\t<tr><th scope=row>1884</th><td>4935                      </td><td>4935                      </td><td>   0.0                    </td><td>   0.0                    </td><td>2012                      </td><td>23.0                      </td><td>GD Nursing                </td><td>30                        </td><td>Doctor of Philosophy      </td><td>Female                    </td><td>...                       </td><td> 0.04                     </td><td>4                         </td><td>3.71                      </td><td> 1.4                      </td><td>GD Non-Harpur             </td><td>White                     </td><td>-0.6664972                </td><td>-0.514831537              </td><td>0.64687796                </td><td>-0.45295818               </td></tr>\n",
       "\t<tr><th scope=row>1902</th><td>   0                      </td><td>   0                      </td><td>   0.0                    </td><td> 432.0                    </td><td>2011                      </td><td>38.0                      </td><td>GD Nursing                </td><td>46                        </td><td>Doctor of Philosophy      </td><td>Female                    </td><td>...                       </td><td> 0.14                     </td><td>7                         </td><td>3.29                      </td><td> 5.4                      </td><td>GD Non-Harpur             </td><td>White                     </td><td> 1.3075475                </td><td>-0.411767684              </td><td>0.43474459                </td><td>-0.56331852               </td></tr>\n",
       "\t<tr><th scope=row>1904</th><td>   0                      </td><td>   0                      </td><td>   0.0                    </td><td>   0.0                    </td><td>2010                      </td><td>39.0                      </td><td>GD Nursing                </td><td>48                        </td><td>Doctor of Nursing Practice</td><td>Female                    </td><td>...                       </td><td> 0.00                     </td><td>0                         </td><td>0.00                      </td><td> 0.0                      </td><td>GD Non-Harpur             </td><td>White                     </td><td> 1.4391505                </td><td>-0.461661488              </td><td>0.22261122                </td><td> 0.80625228               </td></tr>\n",
       "\t<tr><th scope=row>1910</th><td>4185                      </td><td>3839                      </td><td>2092.5                    </td><td>2092.5                    </td><td>2009                      </td><td>52.0                      </td><td>GD Nursing                </td><td>62                        </td><td>Doctor of Philosophy      </td><td>Female                    </td><td>...                       </td><td>-0.01                     </td><td>6                         </td><td>3.55                      </td><td> 2.4                      </td><td>GD Non-Harpur             </td><td>White                     </td><td> 3.1499893                </td><td> 1.421970236              </td><td>0.01047784                </td><td> 0.43109618               </td></tr>\n",
       "\t<tr><th scope=row>1915</th><td>   0                      </td><td>   0                      </td><td>   0.0                    </td><td>   0.0                    </td><td>2010                      </td><td>46.0                      </td><td>GD Nursing                </td><td>55                        </td><td>Doctor of Nursing Practice</td><td>Female                    </td><td>...                       </td><td> 0.20                     </td><td>4                         </td><td>3.69                      </td><td> 3.4                      </td><td>GD Non-Harpur             </td><td>White                     </td><td> 2.3603714                </td><td> 1.106993954              </td><td>0.22261122                </td><td> 0.81008895               </td></tr>\n",
       "\t<tr><th scope=row>1918</th><td>   0                      </td><td>   0                      </td><td>   0.0                    </td><td>   0.0                    </td><td>2011                      </td><td>43.0                      </td><td>GD Nursing                </td><td>51                        </td><td>Doctor of Nursing Practice</td><td>Female                    </td><td>...                       </td><td> 0.70                     </td><td>2                         </td><td>3.65                      </td><td> 0.4                      </td><td>GD Non-Harpur             </td><td>White                     </td><td> 1.9655624                </td><td>-0.242413797              </td><td>0.43474459                </td><td> 0.33587580               </td></tr>\n",
       "\t<tr><th scope=row>1926</th><td>5185                      </td><td>5185                      </td><td>   0.0                    </td><td>   0.0                    </td><td>2014                      </td><td>23.0                      </td><td>GD Nursing                </td><td>28                        </td><td>Doctor of Philosophy      </td><td>Female                    </td><td>...                       </td><td> 0.00                     </td><td>2                         </td><td>4.00                      </td><td> 0.4                      </td><td>GD Non-Harpur             </td><td>White                     </td><td>-0.6664972                </td><td>-0.859677915              </td><td>1.07114471                </td><td>-0.62555152               </td></tr>\n",
       "\t<tr><th scope=row>1976</th><td>4077                      </td><td>4077                      </td><td>   0.0                    </td><td>   0.0                    </td><td>2016                      </td><td>26.0                      </td><td>GD Nursing                </td><td>29                        </td><td>Doctor of Nursing Practice</td><td>Female                    </td><td>...                       </td><td> 0.00                     </td><td>3                         </td><td>4.00                      </td><td> 1.4                      </td><td>GD Non-Harpur             </td><td>White                     </td><td>-0.2716882                </td><td>-0.506132387              </td><td>1.49541146                </td><td>-0.32241641               </td></tr>\n",
       "\t<tr><th scope=row>2002</th><td>   0                      </td><td>   0                      </td><td>   0.0                    </td><td>   0.0                    </td><td>2010                      </td><td>48.3                      </td><td>GD Nursing                </td><td>58                        </td><td>Doctor of Philosophy      </td><td>Female                    </td><td>...                       </td><td> 0.00                     </td><td>1                         </td><td>3.70                      </td><td>-0.4                      </td><td>GD Non-Harpur             </td><td>White                     </td><td> 2.6630582                </td><td>-0.925761005              </td><td>0.22261122                </td><td>-0.63947555               </td></tr>\n",
       "\t<tr><th scope=row>2025</th><td>   0                      </td><td>   0                      </td><td>   0.0                    </td><td>   0.0                    </td><td>2012                      </td><td>32.0                      </td><td>GD Nursing                </td><td>39                        </td><td>Doctor of Nursing Practice</td><td>Female                    </td><td>...                       </td><td> 0.15                     </td><td>5                         </td><td>3.82                      </td><td> 2.0                      </td><td>GD Non-Harpur             </td><td>White                     </td><td> 0.5179297                </td><td>-0.852161302              </td><td>0.64687796                </td><td>-0.73602830               </td></tr>\n",
       "\t<tr><th scope=row>2078</th><td>   0                      </td><td>   0                      </td><td>   0.0                    </td><td>   0.0                    </td><td>2010                      </td><td>51.0                      </td><td>GD Nursing                </td><td>60                        </td><td>Doctor of Nursing Practice</td><td>Female                    </td><td>...                       </td><td> 0.03                     </td><td>8                         </td><td>3.96                      </td><td> 6.0                      </td><td>GD Non-Harpur             </td><td>White                     </td><td> 3.0183863                </td><td>-0.309226708              </td><td>0.22261122                </td><td>-0.55516078               </td></tr>\n",
       "\t<tr><th scope=row>2079</th><td>   0                      </td><td>   0                      </td><td>   0.0                    </td><td>   0.0                    </td><td>2010                      </td><td>63.0                      </td><td>GD Nursing                </td><td>72                        </td><td>Doctor of Nursing Practice</td><td>Female                    </td><td>...                       </td><td> 0.00                     </td><td>1                         </td><td>3.57                      </td><td> 0.0                      </td><td>GD Non-Harpur             </td><td>White                     </td><td> 4.5976220                </td><td>-0.404917352              </td><td>0.22261122                </td><td> 0.98301733               </td></tr>\n",
       "\t<tr><th scope=row>2084</th><td>4935                      </td><td>4935                      </td><td>5185.0                    </td><td>4752.0                    </td><td>2013                      </td><td>25.0                      </td><td>GD Nursing                </td><td>31                        </td><td>Doctor of Philosophy      </td><td>Male                      </td><td>...                       </td><td>-0.21                     </td><td>5                         </td><td>3.38                      </td><td> 2.0                      </td><td>GD Non-Harpur             </td><td>White                     </td><td>-0.4032912                </td><td>-0.707262990              </td><td>0.85901134                </td><td>-0.64575304               </td></tr>\n",
       "\t<tr><th scope=row>2107</th><td>   0                      </td><td>   0                      </td><td>   0.0                    </td><td>   0.0                    </td><td>2013                      </td><td>40.0                      </td><td>GD Nursing                </td><td>46                        </td><td>Doctor of Philosophy      </td><td>Female                    </td><td>...                       </td><td> 0.00                     </td><td>1                         </td><td>4.00                      </td><td> 0.0                      </td><td>GD Non-Harpur             </td><td>White                     </td><td> 1.5707535                </td><td>-0.530936988              </td><td>0.85901134                </td><td> 0.59045047               </td></tr>\n",
       "\t<tr><th scope=row>2124</th><td>   0                      </td><td>   0                      </td><td>   0.0                    </td><td>   0.0                    </td><td>2012                      </td><td>23.0                      </td><td>GD Nursing                </td><td>30                        </td><td>Doctor of Nursing Practice</td><td>Female                    </td><td>...                       </td><td> 0.05                     </td><td>6                         </td><td>3.89                      </td><td> 2.8                      </td><td>GD Non-Harpur             </td><td>White                     </td><td>-0.6664972                </td><td>-0.982904467              </td><td>0.64687796                </td><td>-0.81748455               </td></tr>\n",
       "\t<tr><th scope=row>2144</th><td>   0                      </td><td>   0                      </td><td>   0.0                    </td><td>   0.0                    </td><td>2011                      </td><td>44.0                      </td><td>GD Nursing                </td><td>52                        </td><td>Doctor of Nursing Practice</td><td>Female                    </td><td>...                       </td><td> 0.00                     </td><td>1                         </td><td>4.00                      </td><td> 0.0                      </td><td>GD Non-Harpur             </td><td>White                     </td><td> 2.0971654                </td><td>-0.847998154              </td><td>0.43474459                </td><td>-0.39723457               </td></tr>\n",
       "\t<tr><th scope=row>2148</th><td>5000                      </td><td>5000                      </td><td>   0.0                    </td><td>   0.0                    </td><td>2014                      </td><td>29.0                      </td><td>GD Nursing                </td><td>34                        </td><td>Doctor of Nursing Practice</td><td>Female                    </td><td>...                       </td><td> 0.06                     </td><td>8                         </td><td>3.45                      </td><td> 4.4                      </td><td>GD Non-Harpur             </td><td>White                     </td><td> 0.1231207                </td><td> 1.054324718              </td><td>1.07114471                </td><td>-0.02420671               </td></tr>\n",
       "\t<tr><th scope=row>2151</th><td>   0                      </td><td>   0                      </td><td>   0.0                    </td><td>   0.0                    </td><td>2012                      </td><td>60.0                      </td><td>GD Nursing                </td><td>67                        </td><td>Doctor of Nursing Practice</td><td>Female                    </td><td>...                       </td><td>-0.21                     </td><td>3                         </td><td>2.50                      </td><td> 1.4                      </td><td>GD Non-Harpur             </td><td>White                     </td><td> 4.2028131                </td><td>-0.109766218              </td><td>0.64687796                </td><td> 0.08916026               </td></tr>\n",
       "\t<tr><th scope=row>2163</th><td>8712                      </td><td>   0                      </td><td>   0.0                    </td><td>   0.0                    </td><td>2013                      </td><td>46.0                      </td><td>GD Nursing                </td><td>52                        </td><td>Doctor of Nursing Practice</td><td>Male                      </td><td>...                       </td><td> 0.19                     </td><td>4                         </td><td>3.44                      </td><td> 2.0                      </td><td>GD Non-Harpur             </td><td>White                     </td><td> 2.3603714                </td><td>-0.807575679              </td><td>0.85901134                </td><td>-0.68094180               </td></tr>\n",
       "\t<tr><th scope=row>2221</th><td>   0                      </td><td>   0                      </td><td>   0.0                    </td><td>   0.0                    </td><td>2012                      </td><td>56.0                      </td><td>GD Nursing                </td><td>63                        </td><td>Doctor of Nursing Practice</td><td>Female                    </td><td>...                       </td><td> 0.00                     </td><td>1                         </td><td>4.00                      </td><td> 0.0                      </td><td>GD Non-Harpur             </td><td>White                     </td><td> 3.6764012                </td><td>-0.358608666              </td><td>0.64687796                </td><td> 1.12727466               </td></tr>\n",
       "\t<tr><th scope=row>2231</th><td>   0                      </td><td>   0                      </td><td>   0.0                    </td><td>   0.0                    </td><td>2015                      </td><td>40.0                      </td><td>GD Nursing                </td><td>44                        </td><td>Doctor of Nursing Practice</td><td>Male                      </td><td>...                       </td><td> 0.03                     </td><td>5                         </td><td>3.89                      </td><td> 2.0                      </td><td>GD Non-Harpur             </td><td>White                     </td><td> 1.5707535                </td><td>-0.666222772              </td><td>1.28327808                </td><td>-0.62018396               </td></tr>\n",
       "\t<tr><th scope=row>2276</th><td>5185                      </td><td>4320                      </td><td>3171.0                    </td><td>3171.0                    </td><td>2013                      </td><td>33.0                      </td><td>GD Nursing                </td><td>39                        </td><td>Doctor of Philosophy      </td><td>Female                    </td><td>...                       </td><td> 0.02                     </td><td>6                         </td><td>3.96                      </td><td> 2.4                      </td><td>GD Non-Harpur             </td><td>White                     </td><td> 0.6495326                </td><td>-0.806692747              </td><td>0.85901134                </td><td>-0.72599764               </td></tr>\n",
       "\t<tr><th scope=row>2322</th><td>   0                      </td><td>8325                      </td><td>8325.0                    </td><td>   0.0                    </td><td>2014                      </td><td>27.0                      </td><td>GD Nursing                </td><td>32                        </td><td>Doctor of Philosophy      </td><td>Female                    </td><td>...                       </td><td> 0.02                     </td><td>4                         </td><td>3.96                      </td><td> 1.4                      </td><td>GD Non-Harpur             </td><td>China                     </td><td>-0.1400852                </td><td> 0.218241801              </td><td>1.07114471                </td><td> 0.11794552               </td></tr>\n",
       "\t<tr><th scope=row>2323</th><td>5435                      </td><td>5545                      </td><td>4158.0                    </td><td>   0.0                    </td><td>2017                      </td><td>34.3                      </td><td>GD Nursing                </td><td>37                        </td><td>Doctor of Philosophy      </td><td>Female                    </td><td>...                       </td><td> 0.02                     </td><td>5                         </td><td>3.83                      </td><td> 2.0                      </td><td>GD Non-Harpur             </td><td>White                     </td><td> 0.8206165                </td><td> 0.003525258              </td><td>1.70754483                </td><td>-0.20291425               </td></tr>\n",
       "\t<tr><th scope=row>2325</th><td>   0                      </td><td>1296                      </td><td>   0.0                    </td><td>   0.0                    </td><td>2014                      </td><td>31.0                      </td><td>GD Nursing                </td><td>36                        </td><td>Doctor of Philosophy      </td><td>Female                    </td><td>...                       </td><td> 0.00                     </td><td>3                         </td><td>4.00                      </td><td> 1.0                      </td><td>GD Non-Harpur             </td><td>White                     </td><td> 0.3863267                </td><td>-0.813558964              </td><td>1.07114471                </td><td>-0.64164044               </td></tr>\n",
       "\t<tr><th scope=row>2389</th><td>   0                      </td><td>   0                      </td><td>   0.0                    </td><td>   0.0                    </td><td>2017                      </td><td>53.3                      </td><td>GD Nursing                </td><td>56                        </td><td>Doctor of Philosophy      </td><td>Female                    </td><td>...                       </td><td> 0.27                     </td><td>4                         </td><td>3.68                      </td><td> 1.6                      </td><td>GD Non-Harpur             </td><td>White                     </td><td> 3.3210731                </td><td>-0.462323356              </td><td>1.70754483                </td><td>-0.41206579               </td></tr>\n",
       "\t<tr><th scope=row>2427</th><td>   0                      </td><td>   0                      </td><td>   0.0                    </td><td>   0.0                    </td><td>2016                      </td><td>47.0                      </td><td>GD Nursing                </td><td>50                        </td><td>Doctor of Philosophy      </td><td>Female                    </td><td>...                       </td><td> 0.00                     </td><td>1                         </td><td>4.00                      </td><td> 0.0                      </td><td>GD Non-Harpur             </td><td>White                     </td><td> 2.4919744                </td><td>-0.799655327              </td><td>1.49541146                </td><td>-0.24664064               </td></tr>\n",
       "\t<tr><th scope=row>2455</th><td>   0                      </td><td>   0                      </td><td>   0.0                    </td><td>   0.0                    </td><td>2018                      </td><td>29.3                      </td><td>GD Nursing                </td><td>31                        </td><td>Doctor of Philosophy      </td><td>Male                      </td><td>...                       </td><td> 0.00                     </td><td>1                         </td><td>3.35                      </td><td> 0.3                      </td><td>GD Non-Harpur             </td><td>Asia                      </td><td> 0.1626016                </td><td>-0.384081753              </td><td>1.91967820                </td><td> 1.04792282               </td></tr>\n",
       "\t<tr><th scope=row>2456</th><td>   0                      </td><td>   0                      </td><td>   0.0                    </td><td>   0.0                    </td><td>2018                      </td><td>27.3                      </td><td>GD Nursing                </td><td>29                        </td><td>Doctor of Philosophy      </td><td>Male                      </td><td>...                       </td><td> 0.00                     </td><td>1                         </td><td>3.30                      </td><td> 0.0                      </td><td>GD Non-Harpur             </td><td>Asia                      </td><td>-0.1006044                </td><td>-0.517686394              </td><td>1.91967820                </td><td> 0.63172772               </td></tr>\n",
       "\t<tr><th scope=row>2468</th><td>   0                      </td><td>   0                      </td><td>   0.0                    </td><td>   0.0                    </td><td>2018                      </td><td>26.0                      </td><td>GD Nursing                </td><td>27                        </td><td>Doctor of Philosophy      </td><td>Female                    </td><td>...                       </td><td> 0.00                     </td><td>1                         </td><td>3.33                      </td><td> 0.0                      </td><td>GD Non-Harpur             </td><td>White                     </td><td>-0.2716882                </td><td>-0.039654558              </td><td>1.91967820                </td><td> 2.12085645               </td></tr>\n",
       "</tbody>\n",
       "</table>\n"
      ],
      "text/latex": [
       "\\begin{tabular}{r|lllllllllllllllllllllllllllllllllllllllllll}\n",
       "  & X1st\\_Term\\_Funding & X2nd\\_Term\\_Funding & X3rd\\_Term\\_Funding & X4th\\_Term\\_Funding & Start\\_year & Start\\_age & College & Age & Degree & Gender & ... & GPA\\_trend & Valid.term & Average\\_GPA & academic\\_period & s\\_College & s\\_Citizenship & s\\_start\\_age & s\\_net\\_cost & s\\_start\\_year & avs\\_net\\_cost\\\\\n",
       "\\hline\n",
       "\t1 & 4685                 & 4935                 & 4110.0               &  432.0               & 2013                 & 22.3                 & GD Harpur            & 29                   & Doctor of Philosophy & Male                 & ...                  &  0.06                & 3                    & 3.79                 & 4.6                  & GD Harpur            & White                & -0.758619253         & -0.826374490         &  0.85901134          & -0.65494776         \\\\\n",
       "\t3 & 4685                 & 4685                 & 3699.0               & 3699.0               & 2012                 & 22.0                 & GD Harpur            & 29                   & Doctor of Philosophy & Female               & ...                  & -0.08                & 6                    & 3.14                 & 5.4                  & GD Harpur            & White                & -0.798100147         & -0.732387052         &  0.64687796          & -0.68741906         \\\\\n",
       "\t4 & 4685                 & 4685                 & 3699.0               & 3699.0               & 2012                 & 23.0                 & GD Harpur            & 30                   & Doctor of Philosophy & Female               & ...                  &  0.00                & 6                    & 3.98                 & 4.4                  & GD Harpur            & White                & -0.666497166         & -0.731452053         &  0.64687796          & -0.68693362         \\\\\n",
       "\t11 & 3699                 & 3699                 &  432.0               &  432.0               & 2013                 & 23.0                 & GD Harpur            & 29                   & Doctor of Philosophy & Male                 & ...                  &  0.00                & 2                    & 3.70                 & 5.0                  & GD Harpur            & White                & -0.666497166         &  1.846713327         &  0.85901134          &  3.58982146         \\\\\n",
       "\t12 & 8325                 & 8325                 &  925.0               &  925.0               & 2013                 & 23.0                 & GD Harpur            & 29                   & Doctor of Philosophy & Female               & ...                  &  0.03                & 6                    & 3.96                 & 4.4                  & GD Harpur            & China                & -0.666497166         & -0.664944044         &  0.85901134          & -0.65240349         \\\\\n",
       "\t14 &    0                 &    0                 & 3141.0               & 3141.0               & 2008                 & 22.0                 & GD Harpur            & 33                   & Doctor of Philosophy & Female               & ...                  &  0.08                & 6                    & 3.69                 & 5.4                  & GD Harpur            & White                & -0.798100147         &  0.115601102         & -0.20165553          & -0.24715426         \\\\\n",
       "\t23 &    0                 &    0                 & 3141.0               & 3141.0               & 2008                 & 33.0                 & GD Harpur            & 44                   & Doctor of Philosophy & Male                 & ...                  & -0.07                & 4                    & 3.83                 & 5.0                  & GD Harpur            & White                &  0.649532636         & -0.429510596         & -0.20165553          & -0.38651183         \\\\\n",
       "\t26 &    0                 &    0                 & 4968.0               & 4968.0               & 2008                 & 22.0                 & GD Harpur            & 33                   & Doctor of Philosophy & Female               & ...                  &  0.13                & 4                    & 3.84                 & 4.4                  & GD Harpur            & White                & -0.798100147         & -0.170550395         & -0.20165553          & -0.18483851         \\\\\n",
       "\t29 & 4968                 & 6072                 & 5166.0               & 5683.2               & 2009                 & 24.0                 & GD Grad School       & 34                   & Doctor of Philosophy & Male                 & ...                  &  0.25                & 3                    & 3.68                 & 6.0                  & GD Non-Harpur        & White                & -0.534894186         & -0.245971116         &  0.01047784          & -0.05227148         \\\\\n",
       "\t32 &    0                 &    0                 &    0.0               & 4968.0               & 2008                 & 23.3                 & GD Harpur            & 35                   & Doctor of Philosophy & Female               & ...                  &  0.38                & 5                    & 3.34                 & 5.0                  & GD Harpur            & White                & -0.627016272         &  0.214431648         & -0.20165553          & -0.07151431         \\\\\n",
       "\t35 & 4185                 & 4185                 & 3141.0               & 3330.0               & 2010                 & 28.3                 & GD Harpur            & 38                   & Doctor of Philosophy & Male                 & ...                  &  0.04                & 5                    & 3.96                 & 4.3                  & GD Harpur            & White                &  0.030998629         & -0.759549225         &  0.22261122          & -0.67832867         \\\\\n",
       "\t36 &    0                 &    0                 &    0.0               & 4968.0               & 2008                 & 27.3                 & GD Harpur            & 39                   & Doctor of Philosophy & Female               & ...                  &  0.01                & 4                    & 3.60                 & 6.0                  & GD Harpur            & Africa               & -0.100604351         &  0.372693072         & -0.20165553          &  0.23822926         \\\\\n",
       "\t41 &    0                 &    0                 & 3350.4               & 3350.4               & 2008                 & 22.0                 & GD Harpur            & 33                   & Doctor of Philosophy & Female               & ...                  &  0.03                & 4                    & 3.98                 & 5.0                  & GD Harpur            & White                & -0.798100147         & -0.383883193         & -0.20165553          & -0.35097807         \\\\\n",
       "\t51 &    0                 &    0                 &    0.0               & 4968.0               & 2008                 & 25.3                 & GD Grad School       & 37                   & Doctor of Philosophy & Male                 & ...                  &  0.16                & 3                    & 3.89                 & 4.3                  & GD Non-Harpur        & China                & -0.363810312         &  0.072123887         & -0.20165553          &  0.27803038         \\\\\n",
       "\t55 &    0                 &    0                 & 4968.0               & 4968.0               & 2008                 & 26.0                 & GD Harpur            & 37                   & Doctor of Philosophy & Male                 & ...                  &  0.01                & 4                    & 3.98                 & 4.4                  & GD Harpur            & China                & -0.271688226         &  0.007898439         & -0.20165553          & -0.04586592         \\\\\n",
       "\t62 &    0                 &    0                 & 4968.0               & 4968.0               & 2009                 & 25.0                 & GD Grad School       & 35                   & Doctor of Philosophy & Male                 & ...                  &  0.00                & 0                    & 0.00                 & 1.8                  & GD Non-Harpur        & China                & -0.403291206         & -0.113066732         &  0.01047784          &  1.89216838         \\\\\n",
       "\t65 &    0                 &    0                 & 4185.0               & 3141.0               & 2008                 & 22.0                 & GD Harpur            & 33                   & Doctor of Philosophy & Female               & ...                  &  0.02                & 8                    & 3.71                 & 6.0                  & GD Harpur            & White                & -0.798100147         &  2.068813668         & -0.20165553          &  0.37082573         \\\\\n",
       "\t66 &    0                 &    0                 & 4185.0               & 3141.0               & 2008                 & 26.0                 & GD Harpur            & 37                   & Doctor of Philosophy & Male                 & ...                  &  0.15                & 6                    & 3.62                 & 5.8                  & GD Harpur            & White                & -0.271688226         & -0.205667337         & -0.20165553          & -0.41395280         \\\\\n",
       "\t68 &    0                 &    0                 & 4185.0               & 3141.0               & 2008                 & 22.0                 & GD Harpur            & 33                   & Doctor of Philosophy & Female               & ...                  &  0.09                & 8                    & 3.67                 & 6.8                  & GD Harpur            & White                & -0.798100147         &  2.325795767         & -0.20165553          &  0.47089214         \\\\\n",
       "\t69 & 3141                 &  349                 &  370.0               &  370.0               & 2008                 & 23.0                 & GD Harpur            & 34                   & Doctor of Philosophy & Male                 & ...                  &  0.00                & 3                    & 3.91                 & 5.4                  & GD Harpur            & White                & -0.666497166         & -0.465524590         & -0.20165553          & -0.28025029         \\\\\n",
       "\t72 &    0                 & 3141                 & 3141.0               &  349.0               & 2009                 & 47.0                 & GD Grad School       & 57                   & Doctor of Philosophy & Female               & ...                  &  0.00                & 1                    & 4.00                 & 3.4                  & GD Non-Harpur        & White                &  2.491974360         & -0.668504010         &  0.01047784          &  0.16191205         \\\\\n",
       "\t76 &    0                 &    0                 & 4968.0               & 4968.0               & 2008                 & 27.0                 & GD Harpur            & 38                   & Doctor of Philosophy & Male                 & ...                  &  0.05                & 6                    & 3.89                 & 5.4                  & GD Harpur            & White                & -0.140085245         &  0.136963990         & -0.20165553          & -0.23606292         \\\\\n",
       "\t77 &    0                 &    0                 & 4185.0               & 4185.0               & 2008                 & 27.0                 & GD Harpur            & 38                   & Doctor of Philosophy & Male                 & ...                  &  0.00                & 5                    & 4.00                 & 3.8                  & GD Harpur            & White                & -0.140085245         &  0.681675038         & -0.20165553          &  0.21958996         \\\\\n",
       "\t79 &    0                 &    0                 & 4185.0               & 3141.0               & 2008                 & 23.0                 & GD Harpur            & 34                   & Doctor of Philosophy & Female               & ...                  &  0.02                & 8                    & 3.92                 & 6.8                  & GD Harpur            & White                & -0.666497166         &  2.133606116         & -0.20165553          &  0.39605530         \\\\\n",
       "\t87 &    0                 &    0                 & 3141.0               & 3141.0               & 2008                 & 24.0                 & GD Harpur            & 35                   & Doctor of Philosophy & Male                 & ...                  &  0.05                & 7                    & 3.74                 & 5.0                  & GD Harpur            & White                & -0.534894186         &  1.127461555         & -0.20165553          &  0.12166590         \\\\\n",
       "\t89 &    0                 &    0                 & 6625.0               & 4968.0               & 2008                 & 22.0                 & GD Harpur            & 33                   & Doctor of Philosophy & Female               & ...                  &  0.00                & 6                    & 3.40                 & 4.8                  & GD Harpur            & White                & -0.798100147         &  0.110069652         & -0.20165553          & -0.25002612         \\\\\n",
       "\t94 &    0                 &    0                 & 4185.0               & 3141.0               & 2008                 & 23.0                 & GD Harpur            & 34                   & Doctor of Philosophy & Female               & ...                  &  0.00                & 7                    & 3.81                 & 7.0                  & GD Harpur            & White                & -0.666497166         &  0.265307664         & -0.20165553          & -0.26200793         \\\\\n",
       "\t95 &    0                 &    0                 & 4185.0               & 4185.0               & 2008                 & 24.0                 & GD Harpur            & 35                   & Doctor of Philosophy & Female               & ...                  &  0.02                & 8                    & 3.90                 & 6.0                  & GD Harpur            & White                & -0.534894186         & -0.103337716         & -0.20165553          & -0.47498955         \\\\\n",
       "\t96 &    0                 &    0                 & 4185.0               & 4185.0               & 2008                 & 22.0                 & GD Harpur            & 33                   & Doctor of Philosophy & Male                 & ...                  &  0.07                & 5                    & 3.92                 & 4.8                  & GD Harpur            & White                & -0.798100147         &  0.802078945         & -0.20165553          &  0.29460460         \\\\\n",
       "\t97 &    0                 &    0                 & 4968.0               &  552.0               & 2009                 & 28.0                 & GD Grad School       & 38                   & Doctor of Philosophy & Female               & ...                  &  0.00                & 0                    & 0.00                 & 1.4                  & GD Non-Harpur        & China                & -0.008482265         & -0.150872623         &  0.01047784          &  1.77439832         \\\\\n",
       "\t... & ... & ... & ... & ... & ... & ... & ... & ... & ... & ... &     & ... & ... & ... & ... & ... & ... & ... & ... & ... & ...\\\\\n",
       "\t1884 & 4935                       & 4935                       &    0.0                     &    0.0                     & 2012                       & 23.0                       & GD Nursing                 & 30                         & Doctor of Philosophy       & Female                     & ...                        &  0.04                      & 4                          & 3.71                       &  1.4                       & GD Non-Harpur              & White                      & -0.6664972                 & -0.514831537               & 0.64687796                 & -0.45295818               \\\\\n",
       "\t1902 &    0                       &    0                       &    0.0                     &  432.0                     & 2011                       & 38.0                       & GD Nursing                 & 46                         & Doctor of Philosophy       & Female                     & ...                        &  0.14                      & 7                          & 3.29                       &  5.4                       & GD Non-Harpur              & White                      &  1.3075475                 & -0.411767684               & 0.43474459                 & -0.56331852               \\\\\n",
       "\t1904 &    0                       &    0                       &    0.0                     &    0.0                     & 2010                       & 39.0                       & GD Nursing                 & 48                         & Doctor of Nursing Practice & Female                     & ...                        &  0.00                      & 0                          & 0.00                       &  0.0                       & GD Non-Harpur              & White                      &  1.4391505                 & -0.461661488               & 0.22261122                 &  0.80625228               \\\\\n",
       "\t1910 & 4185                       & 3839                       & 2092.5                     & 2092.5                     & 2009                       & 52.0                       & GD Nursing                 & 62                         & Doctor of Philosophy       & Female                     & ...                        & -0.01                      & 6                          & 3.55                       &  2.4                       & GD Non-Harpur              & White                      &  3.1499893                 &  1.421970236               & 0.01047784                 &  0.43109618               \\\\\n",
       "\t1915 &    0                       &    0                       &    0.0                     &    0.0                     & 2010                       & 46.0                       & GD Nursing                 & 55                         & Doctor of Nursing Practice & Female                     & ...                        &  0.20                      & 4                          & 3.69                       &  3.4                       & GD Non-Harpur              & White                      &  2.3603714                 &  1.106993954               & 0.22261122                 &  0.81008895               \\\\\n",
       "\t1918 &    0                       &    0                       &    0.0                     &    0.0                     & 2011                       & 43.0                       & GD Nursing                 & 51                         & Doctor of Nursing Practice & Female                     & ...                        &  0.70                      & 2                          & 3.65                       &  0.4                       & GD Non-Harpur              & White                      &  1.9655624                 & -0.242413797               & 0.43474459                 &  0.33587580               \\\\\n",
       "\t1926 & 5185                       & 5185                       &    0.0                     &    0.0                     & 2014                       & 23.0                       & GD Nursing                 & 28                         & Doctor of Philosophy       & Female                     & ...                        &  0.00                      & 2                          & 4.00                       &  0.4                       & GD Non-Harpur              & White                      & -0.6664972                 & -0.859677915               & 1.07114471                 & -0.62555152               \\\\\n",
       "\t1976 & 4077                       & 4077                       &    0.0                     &    0.0                     & 2016                       & 26.0                       & GD Nursing                 & 29                         & Doctor of Nursing Practice & Female                     & ...                        &  0.00                      & 3                          & 4.00                       &  1.4                       & GD Non-Harpur              & White                      & -0.2716882                 & -0.506132387               & 1.49541146                 & -0.32241641               \\\\\n",
       "\t2002 &    0                       &    0                       &    0.0                     &    0.0                     & 2010                       & 48.3                       & GD Nursing                 & 58                         & Doctor of Philosophy       & Female                     & ...                        &  0.00                      & 1                          & 3.70                       & -0.4                       & GD Non-Harpur              & White                      &  2.6630582                 & -0.925761005               & 0.22261122                 & -0.63947555               \\\\\n",
       "\t2025 &    0                       &    0                       &    0.0                     &    0.0                     & 2012                       & 32.0                       & GD Nursing                 & 39                         & Doctor of Nursing Practice & Female                     & ...                        &  0.15                      & 5                          & 3.82                       &  2.0                       & GD Non-Harpur              & White                      &  0.5179297                 & -0.852161302               & 0.64687796                 & -0.73602830               \\\\\n",
       "\t2078 &    0                       &    0                       &    0.0                     &    0.0                     & 2010                       & 51.0                       & GD Nursing                 & 60                         & Doctor of Nursing Practice & Female                     & ...                        &  0.03                      & 8                          & 3.96                       &  6.0                       & GD Non-Harpur              & White                      &  3.0183863                 & -0.309226708               & 0.22261122                 & -0.55516078               \\\\\n",
       "\t2079 &    0                       &    0                       &    0.0                     &    0.0                     & 2010                       & 63.0                       & GD Nursing                 & 72                         & Doctor of Nursing Practice & Female                     & ...                        &  0.00                      & 1                          & 3.57                       &  0.0                       & GD Non-Harpur              & White                      &  4.5976220                 & -0.404917352               & 0.22261122                 &  0.98301733               \\\\\n",
       "\t2084 & 4935                       & 4935                       & 5185.0                     & 4752.0                     & 2013                       & 25.0                       & GD Nursing                 & 31                         & Doctor of Philosophy       & Male                       & ...                        & -0.21                      & 5                          & 3.38                       &  2.0                       & GD Non-Harpur              & White                      & -0.4032912                 & -0.707262990               & 0.85901134                 & -0.64575304               \\\\\n",
       "\t2107 &    0                       &    0                       &    0.0                     &    0.0                     & 2013                       & 40.0                       & GD Nursing                 & 46                         & Doctor of Philosophy       & Female                     & ...                        &  0.00                      & 1                          & 4.00                       &  0.0                       & GD Non-Harpur              & White                      &  1.5707535                 & -0.530936988               & 0.85901134                 &  0.59045047               \\\\\n",
       "\t2124 &    0                       &    0                       &    0.0                     &    0.0                     & 2012                       & 23.0                       & GD Nursing                 & 30                         & Doctor of Nursing Practice & Female                     & ...                        &  0.05                      & 6                          & 3.89                       &  2.8                       & GD Non-Harpur              & White                      & -0.6664972                 & -0.982904467               & 0.64687796                 & -0.81748455               \\\\\n",
       "\t2144 &    0                       &    0                       &    0.0                     &    0.0                     & 2011                       & 44.0                       & GD Nursing                 & 52                         & Doctor of Nursing Practice & Female                     & ...                        &  0.00                      & 1                          & 4.00                       &  0.0                       & GD Non-Harpur              & White                      &  2.0971654                 & -0.847998154               & 0.43474459                 & -0.39723457               \\\\\n",
       "\t2148 & 5000                       & 5000                       &    0.0                     &    0.0                     & 2014                       & 29.0                       & GD Nursing                 & 34                         & Doctor of Nursing Practice & Female                     & ...                        &  0.06                      & 8                          & 3.45                       &  4.4                       & GD Non-Harpur              & White                      &  0.1231207                 &  1.054324718               & 1.07114471                 & -0.02420671               \\\\\n",
       "\t2151 &    0                       &    0                       &    0.0                     &    0.0                     & 2012                       & 60.0                       & GD Nursing                 & 67                         & Doctor of Nursing Practice & Female                     & ...                        & -0.21                      & 3                          & 2.50                       &  1.4                       & GD Non-Harpur              & White                      &  4.2028131                 & -0.109766218               & 0.64687796                 &  0.08916026               \\\\\n",
       "\t2163 & 8712                       &    0                       &    0.0                     &    0.0                     & 2013                       & 46.0                       & GD Nursing                 & 52                         & Doctor of Nursing Practice & Male                       & ...                        &  0.19                      & 4                          & 3.44                       &  2.0                       & GD Non-Harpur              & White                      &  2.3603714                 & -0.807575679               & 0.85901134                 & -0.68094180               \\\\\n",
       "\t2221 &    0                       &    0                       &    0.0                     &    0.0                     & 2012                       & 56.0                       & GD Nursing                 & 63                         & Doctor of Nursing Practice & Female                     & ...                        &  0.00                      & 1                          & 4.00                       &  0.0                       & GD Non-Harpur              & White                      &  3.6764012                 & -0.358608666               & 0.64687796                 &  1.12727466               \\\\\n",
       "\t2231 &    0                       &    0                       &    0.0                     &    0.0                     & 2015                       & 40.0                       & GD Nursing                 & 44                         & Doctor of Nursing Practice & Male                       & ...                        &  0.03                      & 5                          & 3.89                       &  2.0                       & GD Non-Harpur              & White                      &  1.5707535                 & -0.666222772               & 1.28327808                 & -0.62018396               \\\\\n",
       "\t2276 & 5185                       & 4320                       & 3171.0                     & 3171.0                     & 2013                       & 33.0                       & GD Nursing                 & 39                         & Doctor of Philosophy       & Female                     & ...                        &  0.02                      & 6                          & 3.96                       &  2.4                       & GD Non-Harpur              & White                      &  0.6495326                 & -0.806692747               & 0.85901134                 & -0.72599764               \\\\\n",
       "\t2322 &    0                       & 8325                       & 8325.0                     &    0.0                     & 2014                       & 27.0                       & GD Nursing                 & 32                         & Doctor of Philosophy       & Female                     & ...                        &  0.02                      & 4                          & 3.96                       &  1.4                       & GD Non-Harpur              & China                      & -0.1400852                 &  0.218241801               & 1.07114471                 &  0.11794552               \\\\\n",
       "\t2323 & 5435                       & 5545                       & 4158.0                     &    0.0                     & 2017                       & 34.3                       & GD Nursing                 & 37                         & Doctor of Philosophy       & Female                     & ...                        &  0.02                      & 5                          & 3.83                       &  2.0                       & GD Non-Harpur              & White                      &  0.8206165                 &  0.003525258               & 1.70754483                 & -0.20291425               \\\\\n",
       "\t2325 &    0                       & 1296                       &    0.0                     &    0.0                     & 2014                       & 31.0                       & GD Nursing                 & 36                         & Doctor of Philosophy       & Female                     & ...                        &  0.00                      & 3                          & 4.00                       &  1.0                       & GD Non-Harpur              & White                      &  0.3863267                 & -0.813558964               & 1.07114471                 & -0.64164044               \\\\\n",
       "\t2389 &    0                       &    0                       &    0.0                     &    0.0                     & 2017                       & 53.3                       & GD Nursing                 & 56                         & Doctor of Philosophy       & Female                     & ...                        &  0.27                      & 4                          & 3.68                       &  1.6                       & GD Non-Harpur              & White                      &  3.3210731                 & -0.462323356               & 1.70754483                 & -0.41206579               \\\\\n",
       "\t2427 &    0                       &    0                       &    0.0                     &    0.0                     & 2016                       & 47.0                       & GD Nursing                 & 50                         & Doctor of Philosophy       & Female                     & ...                        &  0.00                      & 1                          & 4.00                       &  0.0                       & GD Non-Harpur              & White                      &  2.4919744                 & -0.799655327               & 1.49541146                 & -0.24664064               \\\\\n",
       "\t2455 &    0                       &    0                       &    0.0                     &    0.0                     & 2018                       & 29.3                       & GD Nursing                 & 31                         & Doctor of Philosophy       & Male                       & ...                        &  0.00                      & 1                          & 3.35                       &  0.3                       & GD Non-Harpur              & Asia                       &  0.1626016                 & -0.384081753               & 1.91967820                 &  1.04792282               \\\\\n",
       "\t2456 &    0                       &    0                       &    0.0                     &    0.0                     & 2018                       & 27.3                       & GD Nursing                 & 29                         & Doctor of Philosophy       & Male                       & ...                        &  0.00                      & 1                          & 3.30                       &  0.0                       & GD Non-Harpur              & Asia                       & -0.1006044                 & -0.517686394               & 1.91967820                 &  0.63172772               \\\\\n",
       "\t2468 &    0                       &    0                       &    0.0                     &    0.0                     & 2018                       & 26.0                       & GD Nursing                 & 27                         & Doctor of Philosophy       & Female                     & ...                        &  0.00                      & 1                          & 3.33                       &  0.0                       & GD Non-Harpur              & White                      & -0.2716882                 & -0.039654558               & 1.91967820                 &  2.12085645               \\\\\n",
       "\\end{tabular}\n"
      ],
      "text/markdown": [
       "\n",
       "| <!--/--> | X1st_Term_Funding | X2nd_Term_Funding | X3rd_Term_Funding | X4th_Term_Funding | Start_year | Start_age | College | Age | Degree | Gender | ... | GPA_trend | Valid.term | Average_GPA | academic_period | s_College | s_Citizenship | s_start_age | s_net_cost | s_start_year | avs_net_cost |\n",
       "|---|---|---|---|---|---|---|---|---|---|---|---|---|---|---|---|---|---|---|---|---|---|\n",
       "| 1 | 4685                 | 4935                 | 4110.0               |  432.0               | 2013                 | 22.3                 | GD Harpur            | 29                   | Doctor of Philosophy | Male                 | ...                  |  0.06                | 3                    | 3.79                 | 4.6                  | GD Harpur            | White                | -0.758619253         | -0.826374490         |  0.85901134          | -0.65494776          |\n",
       "| 3 | 4685                 | 4685                 | 3699.0               | 3699.0               | 2012                 | 22.0                 | GD Harpur            | 29                   | Doctor of Philosophy | Female               | ...                  | -0.08                | 6                    | 3.14                 | 5.4                  | GD Harpur            | White                | -0.798100147         | -0.732387052         |  0.64687796          | -0.68741906          |\n",
       "| 4 | 4685                 | 4685                 | 3699.0               | 3699.0               | 2012                 | 23.0                 | GD Harpur            | 30                   | Doctor of Philosophy | Female               | ...                  |  0.00                | 6                    | 3.98                 | 4.4                  | GD Harpur            | White                | -0.666497166         | -0.731452053         |  0.64687796          | -0.68693362          |\n",
       "| 11 | 3699                 | 3699                 |  432.0               |  432.0               | 2013                 | 23.0                 | GD Harpur            | 29                   | Doctor of Philosophy | Male                 | ...                  |  0.00                | 2                    | 3.70                 | 5.0                  | GD Harpur            | White                | -0.666497166         |  1.846713327         |  0.85901134          |  3.58982146          |\n",
       "| 12 | 8325                 | 8325                 |  925.0               |  925.0               | 2013                 | 23.0                 | GD Harpur            | 29                   | Doctor of Philosophy | Female               | ...                  |  0.03                | 6                    | 3.96                 | 4.4                  | GD Harpur            | China                | -0.666497166         | -0.664944044         |  0.85901134          | -0.65240349          |\n",
       "| 14 |    0                 |    0                 | 3141.0               | 3141.0               | 2008                 | 22.0                 | GD Harpur            | 33                   | Doctor of Philosophy | Female               | ...                  |  0.08                | 6                    | 3.69                 | 5.4                  | GD Harpur            | White                | -0.798100147         |  0.115601102         | -0.20165553          | -0.24715426          |\n",
       "| 23 |    0                 |    0                 | 3141.0               | 3141.0               | 2008                 | 33.0                 | GD Harpur            | 44                   | Doctor of Philosophy | Male                 | ...                  | -0.07                | 4                    | 3.83                 | 5.0                  | GD Harpur            | White                |  0.649532636         | -0.429510596         | -0.20165553          | -0.38651183          |\n",
       "| 26 |    0                 |    0                 | 4968.0               | 4968.0               | 2008                 | 22.0                 | GD Harpur            | 33                   | Doctor of Philosophy | Female               | ...                  |  0.13                | 4                    | 3.84                 | 4.4                  | GD Harpur            | White                | -0.798100147         | -0.170550395         | -0.20165553          | -0.18483851          |\n",
       "| 29 | 4968                 | 6072                 | 5166.0               | 5683.2               | 2009                 | 24.0                 | GD Grad School       | 34                   | Doctor of Philosophy | Male                 | ...                  |  0.25                | 3                    | 3.68                 | 6.0                  | GD Non-Harpur        | White                | -0.534894186         | -0.245971116         |  0.01047784          | -0.05227148          |\n",
       "| 32 |    0                 |    0                 |    0.0               | 4968.0               | 2008                 | 23.3                 | GD Harpur            | 35                   | Doctor of Philosophy | Female               | ...                  |  0.38                | 5                    | 3.34                 | 5.0                  | GD Harpur            | White                | -0.627016272         |  0.214431648         | -0.20165553          | -0.07151431          |\n",
       "| 35 | 4185                 | 4185                 | 3141.0               | 3330.0               | 2010                 | 28.3                 | GD Harpur            | 38                   | Doctor of Philosophy | Male                 | ...                  |  0.04                | 5                    | 3.96                 | 4.3                  | GD Harpur            | White                |  0.030998629         | -0.759549225         |  0.22261122          | -0.67832867          |\n",
       "| 36 |    0                 |    0                 |    0.0               | 4968.0               | 2008                 | 27.3                 | GD Harpur            | 39                   | Doctor of Philosophy | Female               | ...                  |  0.01                | 4                    | 3.60                 | 6.0                  | GD Harpur            | Africa               | -0.100604351         |  0.372693072         | -0.20165553          |  0.23822926          |\n",
       "| 41 |    0                 |    0                 | 3350.4               | 3350.4               | 2008                 | 22.0                 | GD Harpur            | 33                   | Doctor of Philosophy | Female               | ...                  |  0.03                | 4                    | 3.98                 | 5.0                  | GD Harpur            | White                | -0.798100147         | -0.383883193         | -0.20165553          | -0.35097807          |\n",
       "| 51 |    0                 |    0                 |    0.0               | 4968.0               | 2008                 | 25.3                 | GD Grad School       | 37                   | Doctor of Philosophy | Male                 | ...                  |  0.16                | 3                    | 3.89                 | 4.3                  | GD Non-Harpur        | China                | -0.363810312         |  0.072123887         | -0.20165553          |  0.27803038          |\n",
       "| 55 |    0                 |    0                 | 4968.0               | 4968.0               | 2008                 | 26.0                 | GD Harpur            | 37                   | Doctor of Philosophy | Male                 | ...                  |  0.01                | 4                    | 3.98                 | 4.4                  | GD Harpur            | China                | -0.271688226         |  0.007898439         | -0.20165553          | -0.04586592          |\n",
       "| 62 |    0                 |    0                 | 4968.0               | 4968.0               | 2009                 | 25.0                 | GD Grad School       | 35                   | Doctor of Philosophy | Male                 | ...                  |  0.00                | 0                    | 0.00                 | 1.8                  | GD Non-Harpur        | China                | -0.403291206         | -0.113066732         |  0.01047784          |  1.89216838          |\n",
       "| 65 |    0                 |    0                 | 4185.0               | 3141.0               | 2008                 | 22.0                 | GD Harpur            | 33                   | Doctor of Philosophy | Female               | ...                  |  0.02                | 8                    | 3.71                 | 6.0                  | GD Harpur            | White                | -0.798100147         |  2.068813668         | -0.20165553          |  0.37082573          |\n",
       "| 66 |    0                 |    0                 | 4185.0               | 3141.0               | 2008                 | 26.0                 | GD Harpur            | 37                   | Doctor of Philosophy | Male                 | ...                  |  0.15                | 6                    | 3.62                 | 5.8                  | GD Harpur            | White                | -0.271688226         | -0.205667337         | -0.20165553          | -0.41395280          |\n",
       "| 68 |    0                 |    0                 | 4185.0               | 3141.0               | 2008                 | 22.0                 | GD Harpur            | 33                   | Doctor of Philosophy | Female               | ...                  |  0.09                | 8                    | 3.67                 | 6.8                  | GD Harpur            | White                | -0.798100147         |  2.325795767         | -0.20165553          |  0.47089214          |\n",
       "| 69 | 3141                 |  349                 |  370.0               |  370.0               | 2008                 | 23.0                 | GD Harpur            | 34                   | Doctor of Philosophy | Male                 | ...                  |  0.00                | 3                    | 3.91                 | 5.4                  | GD Harpur            | White                | -0.666497166         | -0.465524590         | -0.20165553          | -0.28025029          |\n",
       "| 72 |    0                 | 3141                 | 3141.0               |  349.0               | 2009                 | 47.0                 | GD Grad School       | 57                   | Doctor of Philosophy | Female               | ...                  |  0.00                | 1                    | 4.00                 | 3.4                  | GD Non-Harpur        | White                |  2.491974360         | -0.668504010         |  0.01047784          |  0.16191205          |\n",
       "| 76 |    0                 |    0                 | 4968.0               | 4968.0               | 2008                 | 27.0                 | GD Harpur            | 38                   | Doctor of Philosophy | Male                 | ...                  |  0.05                | 6                    | 3.89                 | 5.4                  | GD Harpur            | White                | -0.140085245         |  0.136963990         | -0.20165553          | -0.23606292          |\n",
       "| 77 |    0                 |    0                 | 4185.0               | 4185.0               | 2008                 | 27.0                 | GD Harpur            | 38                   | Doctor of Philosophy | Male                 | ...                  |  0.00                | 5                    | 4.00                 | 3.8                  | GD Harpur            | White                | -0.140085245         |  0.681675038         | -0.20165553          |  0.21958996          |\n",
       "| 79 |    0                 |    0                 | 4185.0               | 3141.0               | 2008                 | 23.0                 | GD Harpur            | 34                   | Doctor of Philosophy | Female               | ...                  |  0.02                | 8                    | 3.92                 | 6.8                  | GD Harpur            | White                | -0.666497166         |  2.133606116         | -0.20165553          |  0.39605530          |\n",
       "| 87 |    0                 |    0                 | 3141.0               | 3141.0               | 2008                 | 24.0                 | GD Harpur            | 35                   | Doctor of Philosophy | Male                 | ...                  |  0.05                | 7                    | 3.74                 | 5.0                  | GD Harpur            | White                | -0.534894186         |  1.127461555         | -0.20165553          |  0.12166590          |\n",
       "| 89 |    0                 |    0                 | 6625.0               | 4968.0               | 2008                 | 22.0                 | GD Harpur            | 33                   | Doctor of Philosophy | Female               | ...                  |  0.00                | 6                    | 3.40                 | 4.8                  | GD Harpur            | White                | -0.798100147         |  0.110069652         | -0.20165553          | -0.25002612          |\n",
       "| 94 |    0                 |    0                 | 4185.0               | 3141.0               | 2008                 | 23.0                 | GD Harpur            | 34                   | Doctor of Philosophy | Female               | ...                  |  0.00                | 7                    | 3.81                 | 7.0                  | GD Harpur            | White                | -0.666497166         |  0.265307664         | -0.20165553          | -0.26200793          |\n",
       "| 95 |    0                 |    0                 | 4185.0               | 4185.0               | 2008                 | 24.0                 | GD Harpur            | 35                   | Doctor of Philosophy | Female               | ...                  |  0.02                | 8                    | 3.90                 | 6.0                  | GD Harpur            | White                | -0.534894186         | -0.103337716         | -0.20165553          | -0.47498955          |\n",
       "| 96 |    0                 |    0                 | 4185.0               | 4185.0               | 2008                 | 22.0                 | GD Harpur            | 33                   | Doctor of Philosophy | Male                 | ...                  |  0.07                | 5                    | 3.92                 | 4.8                  | GD Harpur            | White                | -0.798100147         |  0.802078945         | -0.20165553          |  0.29460460          |\n",
       "| 97 |    0                 |    0                 | 4968.0               |  552.0               | 2009                 | 28.0                 | GD Grad School       | 38                   | Doctor of Philosophy | Female               | ...                  |  0.00                | 0                    | 0.00                 | 1.4                  | GD Non-Harpur        | China                | -0.008482265         | -0.150872623         |  0.01047784          |  1.77439832          |\n",
       "| ... | ... | ... | ... | ... | ... | ... | ... | ... | ... | ... |     | ... | ... | ... | ... | ... | ... | ... | ... | ... | ... |\n",
       "| 1884 | 4935                       | 4935                       |    0.0                     |    0.0                     | 2012                       | 23.0                       | GD Nursing                 | 30                         | Doctor of Philosophy       | Female                     | ...                        |  0.04                      | 4                          | 3.71                       |  1.4                       | GD Non-Harpur              | White                      | -0.6664972                 | -0.514831537               | 0.64687796                 | -0.45295818                |\n",
       "| 1902 |    0                       |    0                       |    0.0                     |  432.0                     | 2011                       | 38.0                       | GD Nursing                 | 46                         | Doctor of Philosophy       | Female                     | ...                        |  0.14                      | 7                          | 3.29                       |  5.4                       | GD Non-Harpur              | White                      |  1.3075475                 | -0.411767684               | 0.43474459                 | -0.56331852                |\n",
       "| 1904 |    0                       |    0                       |    0.0                     |    0.0                     | 2010                       | 39.0                       | GD Nursing                 | 48                         | Doctor of Nursing Practice | Female                     | ...                        |  0.00                      | 0                          | 0.00                       |  0.0                       | GD Non-Harpur              | White                      |  1.4391505                 | -0.461661488               | 0.22261122                 |  0.80625228                |\n",
       "| 1910 | 4185                       | 3839                       | 2092.5                     | 2092.5                     | 2009                       | 52.0                       | GD Nursing                 | 62                         | Doctor of Philosophy       | Female                     | ...                        | -0.01                      | 6                          | 3.55                       |  2.4                       | GD Non-Harpur              | White                      |  3.1499893                 |  1.421970236               | 0.01047784                 |  0.43109618                |\n",
       "| 1915 |    0                       |    0                       |    0.0                     |    0.0                     | 2010                       | 46.0                       | GD Nursing                 | 55                         | Doctor of Nursing Practice | Female                     | ...                        |  0.20                      | 4                          | 3.69                       |  3.4                       | GD Non-Harpur              | White                      |  2.3603714                 |  1.106993954               | 0.22261122                 |  0.81008895                |\n",
       "| 1918 |    0                       |    0                       |    0.0                     |    0.0                     | 2011                       | 43.0                       | GD Nursing                 | 51                         | Doctor of Nursing Practice | Female                     | ...                        |  0.70                      | 2                          | 3.65                       |  0.4                       | GD Non-Harpur              | White                      |  1.9655624                 | -0.242413797               | 0.43474459                 |  0.33587580                |\n",
       "| 1926 | 5185                       | 5185                       |    0.0                     |    0.0                     | 2014                       | 23.0                       | GD Nursing                 | 28                         | Doctor of Philosophy       | Female                     | ...                        |  0.00                      | 2                          | 4.00                       |  0.4                       | GD Non-Harpur              | White                      | -0.6664972                 | -0.859677915               | 1.07114471                 | -0.62555152                |\n",
       "| 1976 | 4077                       | 4077                       |    0.0                     |    0.0                     | 2016                       | 26.0                       | GD Nursing                 | 29                         | Doctor of Nursing Practice | Female                     | ...                        |  0.00                      | 3                          | 4.00                       |  1.4                       | GD Non-Harpur              | White                      | -0.2716882                 | -0.506132387               | 1.49541146                 | -0.32241641                |\n",
       "| 2002 |    0                       |    0                       |    0.0                     |    0.0                     | 2010                       | 48.3                       | GD Nursing                 | 58                         | Doctor of Philosophy       | Female                     | ...                        |  0.00                      | 1                          | 3.70                       | -0.4                       | GD Non-Harpur              | White                      |  2.6630582                 | -0.925761005               | 0.22261122                 | -0.63947555                |\n",
       "| 2025 |    0                       |    0                       |    0.0                     |    0.0                     | 2012                       | 32.0                       | GD Nursing                 | 39                         | Doctor of Nursing Practice | Female                     | ...                        |  0.15                      | 5                          | 3.82                       |  2.0                       | GD Non-Harpur              | White                      |  0.5179297                 | -0.852161302               | 0.64687796                 | -0.73602830                |\n",
       "| 2078 |    0                       |    0                       |    0.0                     |    0.0                     | 2010                       | 51.0                       | GD Nursing                 | 60                         | Doctor of Nursing Practice | Female                     | ...                        |  0.03                      | 8                          | 3.96                       |  6.0                       | GD Non-Harpur              | White                      |  3.0183863                 | -0.309226708               | 0.22261122                 | -0.55516078                |\n",
       "| 2079 |    0                       |    0                       |    0.0                     |    0.0                     | 2010                       | 63.0                       | GD Nursing                 | 72                         | Doctor of Nursing Practice | Female                     | ...                        |  0.00                      | 1                          | 3.57                       |  0.0                       | GD Non-Harpur              | White                      |  4.5976220                 | -0.404917352               | 0.22261122                 |  0.98301733                |\n",
       "| 2084 | 4935                       | 4935                       | 5185.0                     | 4752.0                     | 2013                       | 25.0                       | GD Nursing                 | 31                         | Doctor of Philosophy       | Male                       | ...                        | -0.21                      | 5                          | 3.38                       |  2.0                       | GD Non-Harpur              | White                      | -0.4032912                 | -0.707262990               | 0.85901134                 | -0.64575304                |\n",
       "| 2107 |    0                       |    0                       |    0.0                     |    0.0                     | 2013                       | 40.0                       | GD Nursing                 | 46                         | Doctor of Philosophy       | Female                     | ...                        |  0.00                      | 1                          | 4.00                       |  0.0                       | GD Non-Harpur              | White                      |  1.5707535                 | -0.530936988               | 0.85901134                 |  0.59045047                |\n",
       "| 2124 |    0                       |    0                       |    0.0                     |    0.0                     | 2012                       | 23.0                       | GD Nursing                 | 30                         | Doctor of Nursing Practice | Female                     | ...                        |  0.05                      | 6                          | 3.89                       |  2.8                       | GD Non-Harpur              | White                      | -0.6664972                 | -0.982904467               | 0.64687796                 | -0.81748455                |\n",
       "| 2144 |    0                       |    0                       |    0.0                     |    0.0                     | 2011                       | 44.0                       | GD Nursing                 | 52                         | Doctor of Nursing Practice | Female                     | ...                        |  0.00                      | 1                          | 4.00                       |  0.0                       | GD Non-Harpur              | White                      |  2.0971654                 | -0.847998154               | 0.43474459                 | -0.39723457                |\n",
       "| 2148 | 5000                       | 5000                       |    0.0                     |    0.0                     | 2014                       | 29.0                       | GD Nursing                 | 34                         | Doctor of Nursing Practice | Female                     | ...                        |  0.06                      | 8                          | 3.45                       |  4.4                       | GD Non-Harpur              | White                      |  0.1231207                 |  1.054324718               | 1.07114471                 | -0.02420671                |\n",
       "| 2151 |    0                       |    0                       |    0.0                     |    0.0                     | 2012                       | 60.0                       | GD Nursing                 | 67                         | Doctor of Nursing Practice | Female                     | ...                        | -0.21                      | 3                          | 2.50                       |  1.4                       | GD Non-Harpur              | White                      |  4.2028131                 | -0.109766218               | 0.64687796                 |  0.08916026                |\n",
       "| 2163 | 8712                       |    0                       |    0.0                     |    0.0                     | 2013                       | 46.0                       | GD Nursing                 | 52                         | Doctor of Nursing Practice | Male                       | ...                        |  0.19                      | 4                          | 3.44                       |  2.0                       | GD Non-Harpur              | White                      |  2.3603714                 | -0.807575679               | 0.85901134                 | -0.68094180                |\n",
       "| 2221 |    0                       |    0                       |    0.0                     |    0.0                     | 2012                       | 56.0                       | GD Nursing                 | 63                         | Doctor of Nursing Practice | Female                     | ...                        |  0.00                      | 1                          | 4.00                       |  0.0                       | GD Non-Harpur              | White                      |  3.6764012                 | -0.358608666               | 0.64687796                 |  1.12727466                |\n",
       "| 2231 |    0                       |    0                       |    0.0                     |    0.0                     | 2015                       | 40.0                       | GD Nursing                 | 44                         | Doctor of Nursing Practice | Male                       | ...                        |  0.03                      | 5                          | 3.89                       |  2.0                       | GD Non-Harpur              | White                      |  1.5707535                 | -0.666222772               | 1.28327808                 | -0.62018396                |\n",
       "| 2276 | 5185                       | 4320                       | 3171.0                     | 3171.0                     | 2013                       | 33.0                       | GD Nursing                 | 39                         | Doctor of Philosophy       | Female                     | ...                        |  0.02                      | 6                          | 3.96                       |  2.4                       | GD Non-Harpur              | White                      |  0.6495326                 | -0.806692747               | 0.85901134                 | -0.72599764                |\n",
       "| 2322 |    0                       | 8325                       | 8325.0                     |    0.0                     | 2014                       | 27.0                       | GD Nursing                 | 32                         | Doctor of Philosophy       | Female                     | ...                        |  0.02                      | 4                          | 3.96                       |  1.4                       | GD Non-Harpur              | China                      | -0.1400852                 |  0.218241801               | 1.07114471                 |  0.11794552                |\n",
       "| 2323 | 5435                       | 5545                       | 4158.0                     |    0.0                     | 2017                       | 34.3                       | GD Nursing                 | 37                         | Doctor of Philosophy       | Female                     | ...                        |  0.02                      | 5                          | 3.83                       |  2.0                       | GD Non-Harpur              | White                      |  0.8206165                 |  0.003525258               | 1.70754483                 | -0.20291425                |\n",
       "| 2325 |    0                       | 1296                       |    0.0                     |    0.0                     | 2014                       | 31.0                       | GD Nursing                 | 36                         | Doctor of Philosophy       | Female                     | ...                        |  0.00                      | 3                          | 4.00                       |  1.0                       | GD Non-Harpur              | White                      |  0.3863267                 | -0.813558964               | 1.07114471                 | -0.64164044                |\n",
       "| 2389 |    0                       |    0                       |    0.0                     |    0.0                     | 2017                       | 53.3                       | GD Nursing                 | 56                         | Doctor of Philosophy       | Female                     | ...                        |  0.27                      | 4                          | 3.68                       |  1.6                       | GD Non-Harpur              | White                      |  3.3210731                 | -0.462323356               | 1.70754483                 | -0.41206579                |\n",
       "| 2427 |    0                       |    0                       |    0.0                     |    0.0                     | 2016                       | 47.0                       | GD Nursing                 | 50                         | Doctor of Philosophy       | Female                     | ...                        |  0.00                      | 1                          | 4.00                       |  0.0                       | GD Non-Harpur              | White                      |  2.4919744                 | -0.799655327               | 1.49541146                 | -0.24664064                |\n",
       "| 2455 |    0                       |    0                       |    0.0                     |    0.0                     | 2018                       | 29.3                       | GD Nursing                 | 31                         | Doctor of Philosophy       | Male                       | ...                        |  0.00                      | 1                          | 3.35                       |  0.3                       | GD Non-Harpur              | Asia                       |  0.1626016                 | -0.384081753               | 1.91967820                 |  1.04792282                |\n",
       "| 2456 |    0                       |    0                       |    0.0                     |    0.0                     | 2018                       | 27.3                       | GD Nursing                 | 29                         | Doctor of Philosophy       | Male                       | ...                        |  0.00                      | 1                          | 3.30                       |  0.0                       | GD Non-Harpur              | Asia                       | -0.1006044                 | -0.517686394               | 1.91967820                 |  0.63172772                |\n",
       "| 2468 |    0                       |    0                       |    0.0                     |    0.0                     | 2018                       | 26.0                       | GD Nursing                 | 27                         | Doctor of Philosophy       | Female                     | ...                        |  0.00                      | 1                          | 3.33                       |  0.0                       | GD Non-Harpur              | White                      | -0.2716882                 | -0.039654558               | 1.91967820                 |  2.12085645                |\n",
       "\n"
      ],
      "text/plain": [
       "     X1st_Term_Funding X2nd_Term_Funding X3rd_Term_Funding X4th_Term_Funding\n",
       "1    4685              4935              4110.0             432.0           \n",
       "3    4685              4685              3699.0            3699.0           \n",
       "4    4685              4685              3699.0            3699.0           \n",
       "11   3699              3699               432.0             432.0           \n",
       "12   8325              8325               925.0             925.0           \n",
       "14      0                 0              3141.0            3141.0           \n",
       "23      0                 0              3141.0            3141.0           \n",
       "26      0                 0              4968.0            4968.0           \n",
       "29   4968              6072              5166.0            5683.2           \n",
       "32      0                 0                 0.0            4968.0           \n",
       "35   4185              4185              3141.0            3330.0           \n",
       "36      0                 0                 0.0            4968.0           \n",
       "41      0                 0              3350.4            3350.4           \n",
       "51      0                 0                 0.0            4968.0           \n",
       "55      0                 0              4968.0            4968.0           \n",
       "62      0                 0              4968.0            4968.0           \n",
       "65      0                 0              4185.0            3141.0           \n",
       "66      0                 0              4185.0            3141.0           \n",
       "68      0                 0              4185.0            3141.0           \n",
       "69   3141               349               370.0             370.0           \n",
       "72      0              3141              3141.0             349.0           \n",
       "76      0                 0              4968.0            4968.0           \n",
       "77      0                 0              4185.0            4185.0           \n",
       "79      0                 0              4185.0            3141.0           \n",
       "87      0                 0              3141.0            3141.0           \n",
       "89      0                 0              6625.0            4968.0           \n",
       "94      0                 0              4185.0            3141.0           \n",
       "95      0                 0              4185.0            4185.0           \n",
       "96      0                 0              4185.0            4185.0           \n",
       "97      0                 0              4968.0             552.0           \n",
       "...  ...               ...               ...               ...              \n",
       "1884 4935              4935                 0.0               0.0           \n",
       "1902    0                 0                 0.0             432.0           \n",
       "1904    0                 0                 0.0               0.0           \n",
       "1910 4185              3839              2092.5            2092.5           \n",
       "1915    0                 0                 0.0               0.0           \n",
       "1918    0                 0                 0.0               0.0           \n",
       "1926 5185              5185                 0.0               0.0           \n",
       "1976 4077              4077                 0.0               0.0           \n",
       "2002    0                 0                 0.0               0.0           \n",
       "2025    0                 0                 0.0               0.0           \n",
       "2078    0                 0                 0.0               0.0           \n",
       "2079    0                 0                 0.0               0.0           \n",
       "2084 4935              4935              5185.0            4752.0           \n",
       "2107    0                 0                 0.0               0.0           \n",
       "2124    0                 0                 0.0               0.0           \n",
       "2144    0                 0                 0.0               0.0           \n",
       "2148 5000              5000                 0.0               0.0           \n",
       "2151    0                 0                 0.0               0.0           \n",
       "2163 8712                 0                 0.0               0.0           \n",
       "2221    0                 0                 0.0               0.0           \n",
       "2231    0                 0                 0.0               0.0           \n",
       "2276 5185              4320              3171.0            3171.0           \n",
       "2322    0              8325              8325.0               0.0           \n",
       "2323 5435              5545              4158.0               0.0           \n",
       "2325    0              1296                 0.0               0.0           \n",
       "2389    0                 0                 0.0               0.0           \n",
       "2427    0                 0                 0.0               0.0           \n",
       "2455    0                 0                 0.0               0.0           \n",
       "2456    0                 0                 0.0               0.0           \n",
       "2468    0                 0                 0.0               0.0           \n",
       "     Start_year Start_age College        Age Degree                     Gender\n",
       "1    2013       22.3      GD Harpur      29  Doctor of Philosophy       Male  \n",
       "3    2012       22.0      GD Harpur      29  Doctor of Philosophy       Female\n",
       "4    2012       23.0      GD Harpur      30  Doctor of Philosophy       Female\n",
       "11   2013       23.0      GD Harpur      29  Doctor of Philosophy       Male  \n",
       "12   2013       23.0      GD Harpur      29  Doctor of Philosophy       Female\n",
       "14   2008       22.0      GD Harpur      33  Doctor of Philosophy       Female\n",
       "23   2008       33.0      GD Harpur      44  Doctor of Philosophy       Male  \n",
       "26   2008       22.0      GD Harpur      33  Doctor of Philosophy       Female\n",
       "29   2009       24.0      GD Grad School 34  Doctor of Philosophy       Male  \n",
       "32   2008       23.3      GD Harpur      35  Doctor of Philosophy       Female\n",
       "35   2010       28.3      GD Harpur      38  Doctor of Philosophy       Male  \n",
       "36   2008       27.3      GD Harpur      39  Doctor of Philosophy       Female\n",
       "41   2008       22.0      GD Harpur      33  Doctor of Philosophy       Female\n",
       "51   2008       25.3      GD Grad School 37  Doctor of Philosophy       Male  \n",
       "55   2008       26.0      GD Harpur      37  Doctor of Philosophy       Male  \n",
       "62   2009       25.0      GD Grad School 35  Doctor of Philosophy       Male  \n",
       "65   2008       22.0      GD Harpur      33  Doctor of Philosophy       Female\n",
       "66   2008       26.0      GD Harpur      37  Doctor of Philosophy       Male  \n",
       "68   2008       22.0      GD Harpur      33  Doctor of Philosophy       Female\n",
       "69   2008       23.0      GD Harpur      34  Doctor of Philosophy       Male  \n",
       "72   2009       47.0      GD Grad School 57  Doctor of Philosophy       Female\n",
       "76   2008       27.0      GD Harpur      38  Doctor of Philosophy       Male  \n",
       "77   2008       27.0      GD Harpur      38  Doctor of Philosophy       Male  \n",
       "79   2008       23.0      GD Harpur      34  Doctor of Philosophy       Female\n",
       "87   2008       24.0      GD Harpur      35  Doctor of Philosophy       Male  \n",
       "89   2008       22.0      GD Harpur      33  Doctor of Philosophy       Female\n",
       "94   2008       23.0      GD Harpur      34  Doctor of Philosophy       Female\n",
       "95   2008       24.0      GD Harpur      35  Doctor of Philosophy       Female\n",
       "96   2008       22.0      GD Harpur      33  Doctor of Philosophy       Male  \n",
       "97   2009       28.0      GD Grad School 38  Doctor of Philosophy       Female\n",
       "...  ...        ...       ...            ... ...                        ...   \n",
       "1884 2012       23.0      GD Nursing     30  Doctor of Philosophy       Female\n",
       "1902 2011       38.0      GD Nursing     46  Doctor of Philosophy       Female\n",
       "1904 2010       39.0      GD Nursing     48  Doctor of Nursing Practice Female\n",
       "1910 2009       52.0      GD Nursing     62  Doctor of Philosophy       Female\n",
       "1915 2010       46.0      GD Nursing     55  Doctor of Nursing Practice Female\n",
       "1918 2011       43.0      GD Nursing     51  Doctor of Nursing Practice Female\n",
       "1926 2014       23.0      GD Nursing     28  Doctor of Philosophy       Female\n",
       "1976 2016       26.0      GD Nursing     29  Doctor of Nursing Practice Female\n",
       "2002 2010       48.3      GD Nursing     58  Doctor of Philosophy       Female\n",
       "2025 2012       32.0      GD Nursing     39  Doctor of Nursing Practice Female\n",
       "2078 2010       51.0      GD Nursing     60  Doctor of Nursing Practice Female\n",
       "2079 2010       63.0      GD Nursing     72  Doctor of Nursing Practice Female\n",
       "2084 2013       25.0      GD Nursing     31  Doctor of Philosophy       Male  \n",
       "2107 2013       40.0      GD Nursing     46  Doctor of Philosophy       Female\n",
       "2124 2012       23.0      GD Nursing     30  Doctor of Nursing Practice Female\n",
       "2144 2011       44.0      GD Nursing     52  Doctor of Nursing Practice Female\n",
       "2148 2014       29.0      GD Nursing     34  Doctor of Nursing Practice Female\n",
       "2151 2012       60.0      GD Nursing     67  Doctor of Nursing Practice Female\n",
       "2163 2013       46.0      GD Nursing     52  Doctor of Nursing Practice Male  \n",
       "2221 2012       56.0      GD Nursing     63  Doctor of Nursing Practice Female\n",
       "2231 2015       40.0      GD Nursing     44  Doctor of Nursing Practice Male  \n",
       "2276 2013       33.0      GD Nursing     39  Doctor of Philosophy       Female\n",
       "2322 2014       27.0      GD Nursing     32  Doctor of Philosophy       Female\n",
       "2323 2017       34.3      GD Nursing     37  Doctor of Philosophy       Female\n",
       "2325 2014       31.0      GD Nursing     36  Doctor of Philosophy       Female\n",
       "2389 2017       53.3      GD Nursing     56  Doctor of Philosophy       Female\n",
       "2427 2016       47.0      GD Nursing     50  Doctor of Philosophy       Female\n",
       "2455 2018       29.3      GD Nursing     31  Doctor of Philosophy       Male  \n",
       "2456 2018       27.3      GD Nursing     29  Doctor of Philosophy       Male  \n",
       "2468 2018       26.0      GD Nursing     27  Doctor of Philosophy       Female\n",
       "     ... GPA_trend Valid.term Average_GPA academic_period s_College    \n",
       "1    ...  0.06     3          3.79        4.6             GD Harpur    \n",
       "3    ... -0.08     6          3.14        5.4             GD Harpur    \n",
       "4    ...  0.00     6          3.98        4.4             GD Harpur    \n",
       "11   ...  0.00     2          3.70        5.0             GD Harpur    \n",
       "12   ...  0.03     6          3.96        4.4             GD Harpur    \n",
       "14   ...  0.08     6          3.69        5.4             GD Harpur    \n",
       "23   ... -0.07     4          3.83        5.0             GD Harpur    \n",
       "26   ...  0.13     4          3.84        4.4             GD Harpur    \n",
       "29   ...  0.25     3          3.68        6.0             GD Non-Harpur\n",
       "32   ...  0.38     5          3.34        5.0             GD Harpur    \n",
       "35   ...  0.04     5          3.96        4.3             GD Harpur    \n",
       "36   ...  0.01     4          3.60        6.0             GD Harpur    \n",
       "41   ...  0.03     4          3.98        5.0             GD Harpur    \n",
       "51   ...  0.16     3          3.89        4.3             GD Non-Harpur\n",
       "55   ...  0.01     4          3.98        4.4             GD Harpur    \n",
       "62   ...  0.00     0          0.00        1.8             GD Non-Harpur\n",
       "65   ...  0.02     8          3.71        6.0             GD Harpur    \n",
       "66   ...  0.15     6          3.62        5.8             GD Harpur    \n",
       "68   ...  0.09     8          3.67        6.8             GD Harpur    \n",
       "69   ...  0.00     3          3.91        5.4             GD Harpur    \n",
       "72   ...  0.00     1          4.00        3.4             GD Non-Harpur\n",
       "76   ...  0.05     6          3.89        5.4             GD Harpur    \n",
       "77   ...  0.00     5          4.00        3.8             GD Harpur    \n",
       "79   ...  0.02     8          3.92        6.8             GD Harpur    \n",
       "87   ...  0.05     7          3.74        5.0             GD Harpur    \n",
       "89   ...  0.00     6          3.40        4.8             GD Harpur    \n",
       "94   ...  0.00     7          3.81        7.0             GD Harpur    \n",
       "95   ...  0.02     8          3.90        6.0             GD Harpur    \n",
       "96   ...  0.07     5          3.92        4.8             GD Harpur    \n",
       "97   ...  0.00     0          0.00        1.4             GD Non-Harpur\n",
       "...      ...       ...        ...         ...             ...          \n",
       "1884 ...  0.04     4          3.71         1.4            GD Non-Harpur\n",
       "1902 ...  0.14     7          3.29         5.4            GD Non-Harpur\n",
       "1904 ...  0.00     0          0.00         0.0            GD Non-Harpur\n",
       "1910 ... -0.01     6          3.55         2.4            GD Non-Harpur\n",
       "1915 ...  0.20     4          3.69         3.4            GD Non-Harpur\n",
       "1918 ...  0.70     2          3.65         0.4            GD Non-Harpur\n",
       "1926 ...  0.00     2          4.00         0.4            GD Non-Harpur\n",
       "1976 ...  0.00     3          4.00         1.4            GD Non-Harpur\n",
       "2002 ...  0.00     1          3.70        -0.4            GD Non-Harpur\n",
       "2025 ...  0.15     5          3.82         2.0            GD Non-Harpur\n",
       "2078 ...  0.03     8          3.96         6.0            GD Non-Harpur\n",
       "2079 ...  0.00     1          3.57         0.0            GD Non-Harpur\n",
       "2084 ... -0.21     5          3.38         2.0            GD Non-Harpur\n",
       "2107 ...  0.00     1          4.00         0.0            GD Non-Harpur\n",
       "2124 ...  0.05     6          3.89         2.8            GD Non-Harpur\n",
       "2144 ...  0.00     1          4.00         0.0            GD Non-Harpur\n",
       "2148 ...  0.06     8          3.45         4.4            GD Non-Harpur\n",
       "2151 ... -0.21     3          2.50         1.4            GD Non-Harpur\n",
       "2163 ...  0.19     4          3.44         2.0            GD Non-Harpur\n",
       "2221 ...  0.00     1          4.00         0.0            GD Non-Harpur\n",
       "2231 ...  0.03     5          3.89         2.0            GD Non-Harpur\n",
       "2276 ...  0.02     6          3.96         2.4            GD Non-Harpur\n",
       "2322 ...  0.02     4          3.96         1.4            GD Non-Harpur\n",
       "2323 ...  0.02     5          3.83         2.0            GD Non-Harpur\n",
       "2325 ...  0.00     3          4.00         1.0            GD Non-Harpur\n",
       "2389 ...  0.27     4          3.68         1.6            GD Non-Harpur\n",
       "2427 ...  0.00     1          4.00         0.0            GD Non-Harpur\n",
       "2455 ...  0.00     1          3.35         0.3            GD Non-Harpur\n",
       "2456 ...  0.00     1          3.30         0.0            GD Non-Harpur\n",
       "2468 ...  0.00     1          3.33         0.0            GD Non-Harpur\n",
       "     s_Citizenship s_start_age  s_net_cost   s_start_year avs_net_cost\n",
       "1    White         -0.758619253 -0.826374490  0.85901134  -0.65494776 \n",
       "3    White         -0.798100147 -0.732387052  0.64687796  -0.68741906 \n",
       "4    White         -0.666497166 -0.731452053  0.64687796  -0.68693362 \n",
       "11   White         -0.666497166  1.846713327  0.85901134   3.58982146 \n",
       "12   China         -0.666497166 -0.664944044  0.85901134  -0.65240349 \n",
       "14   White         -0.798100147  0.115601102 -0.20165553  -0.24715426 \n",
       "23   White          0.649532636 -0.429510596 -0.20165553  -0.38651183 \n",
       "26   White         -0.798100147 -0.170550395 -0.20165553  -0.18483851 \n",
       "29   White         -0.534894186 -0.245971116  0.01047784  -0.05227148 \n",
       "32   White         -0.627016272  0.214431648 -0.20165553  -0.07151431 \n",
       "35   White          0.030998629 -0.759549225  0.22261122  -0.67832867 \n",
       "36   Africa        -0.100604351  0.372693072 -0.20165553   0.23822926 \n",
       "41   White         -0.798100147 -0.383883193 -0.20165553  -0.35097807 \n",
       "51   China         -0.363810312  0.072123887 -0.20165553   0.27803038 \n",
       "55   China         -0.271688226  0.007898439 -0.20165553  -0.04586592 \n",
       "62   China         -0.403291206 -0.113066732  0.01047784   1.89216838 \n",
       "65   White         -0.798100147  2.068813668 -0.20165553   0.37082573 \n",
       "66   White         -0.271688226 -0.205667337 -0.20165553  -0.41395280 \n",
       "68   White         -0.798100147  2.325795767 -0.20165553   0.47089214 \n",
       "69   White         -0.666497166 -0.465524590 -0.20165553  -0.28025029 \n",
       "72   White          2.491974360 -0.668504010  0.01047784   0.16191205 \n",
       "76   White         -0.140085245  0.136963990 -0.20165553  -0.23606292 \n",
       "77   White         -0.140085245  0.681675038 -0.20165553   0.21958996 \n",
       "79   White         -0.666497166  2.133606116 -0.20165553   0.39605530 \n",
       "87   White         -0.534894186  1.127461555 -0.20165553   0.12166590 \n",
       "89   White         -0.798100147  0.110069652 -0.20165553  -0.25002612 \n",
       "94   White         -0.666497166  0.265307664 -0.20165553  -0.26200793 \n",
       "95   White         -0.534894186 -0.103337716 -0.20165553  -0.47498955 \n",
       "96   White         -0.798100147  0.802078945 -0.20165553   0.29460460 \n",
       "97   China         -0.008482265 -0.150872623  0.01047784   1.77439832 \n",
       "...  ...           ...          ...          ...          ...         \n",
       "1884 White         -0.6664972   -0.514831537 0.64687796   -0.45295818 \n",
       "1902 White          1.3075475   -0.411767684 0.43474459   -0.56331852 \n",
       "1904 White          1.4391505   -0.461661488 0.22261122    0.80625228 \n",
       "1910 White          3.1499893    1.421970236 0.01047784    0.43109618 \n",
       "1915 White          2.3603714    1.106993954 0.22261122    0.81008895 \n",
       "1918 White          1.9655624   -0.242413797 0.43474459    0.33587580 \n",
       "1926 White         -0.6664972   -0.859677915 1.07114471   -0.62555152 \n",
       "1976 White         -0.2716882   -0.506132387 1.49541146   -0.32241641 \n",
       "2002 White          2.6630582   -0.925761005 0.22261122   -0.63947555 \n",
       "2025 White          0.5179297   -0.852161302 0.64687796   -0.73602830 \n",
       "2078 White          3.0183863   -0.309226708 0.22261122   -0.55516078 \n",
       "2079 White          4.5976220   -0.404917352 0.22261122    0.98301733 \n",
       "2084 White         -0.4032912   -0.707262990 0.85901134   -0.64575304 \n",
       "2107 White          1.5707535   -0.530936988 0.85901134    0.59045047 \n",
       "2124 White         -0.6664972   -0.982904467 0.64687796   -0.81748455 \n",
       "2144 White          2.0971654   -0.847998154 0.43474459   -0.39723457 \n",
       "2148 White          0.1231207    1.054324718 1.07114471   -0.02420671 \n",
       "2151 White          4.2028131   -0.109766218 0.64687796    0.08916026 \n",
       "2163 White          2.3603714   -0.807575679 0.85901134   -0.68094180 \n",
       "2221 White          3.6764012   -0.358608666 0.64687796    1.12727466 \n",
       "2231 White          1.5707535   -0.666222772 1.28327808   -0.62018396 \n",
       "2276 White          0.6495326   -0.806692747 0.85901134   -0.72599764 \n",
       "2322 China         -0.1400852    0.218241801 1.07114471    0.11794552 \n",
       "2323 White          0.8206165    0.003525258 1.70754483   -0.20291425 \n",
       "2325 White          0.3863267   -0.813558964 1.07114471   -0.64164044 \n",
       "2389 White          3.3210731   -0.462323356 1.70754483   -0.41206579 \n",
       "2427 White          2.4919744   -0.799655327 1.49541146   -0.24664064 \n",
       "2455 Asia           0.1626016   -0.384081753 1.91967820    1.04792282 \n",
       "2456 Asia          -0.1006044   -0.517686394 1.91967820    0.63172772 \n",
       "2468 White         -0.2716882   -0.039654558 1.91967820    2.12085645 "
      ]
     },
     "metadata": {},
     "output_type": "display_data"
    }
   ],
   "source": [
    "df1 = rbind(Harpur_sciences, Harpur_arts, Management_df, Watson_df, Nursing_df)\n",
    "df1"
   ]
  },
  {
   "cell_type": "markdown",
   "metadata": {},
   "source": [
    "# Harpur Sciences Analysis"
   ]
  },
  {
   "cell_type": "markdown",
   "metadata": {},
   "source": [
    "Won't use Degree column since it does not accurately show the student's major"
   ]
  },
  {
   "cell_type": "markdown",
   "metadata": {},
   "source": [
    "<b> Logistic regression model:"
   ]
  },
  {
   "cell_type": "code",
   "execution_count": 16,
   "metadata": {},
   "outputs": [
    {
     "data": {
      "text/plain": [
       "\n",
       "Call:\n",
       "glm(formula = Y ~ s_start_age + factor(Gender) + factor(funding_indicator) + \n",
       "    factor(Citizenship) + avs_net_cost + PC1 + PC2 + PC3 + factor(gap_indicator) + \n",
       "    GPA_trend + s_start_year, family = \"binomial\", data = Harpur_sciences)\n",
       "\n",
       "Deviance Residuals: \n",
       "    Min       1Q   Median       3Q      Max  \n",
       "-3.2424  -0.9398   0.5583   0.8578   2.1477  \n",
       "\n",
       "Coefficients:\n",
       "                                                 Estimate Std. Error z value\n",
       "(Intercept)                                     -0.470269   0.260006  -1.809\n",
       "s_start_age                                      0.141085   0.148570   0.950\n",
       "factor(Gender)Male                               0.003381   0.164442   0.021\n",
       "factor(funding_indicator)1                       1.299581   0.255741   5.082\n",
       "factor(Citizenship)Africa                        0.988544   0.475913   2.077\n",
       "factor(Citizenship)Asia                          0.313186   0.354419   0.884\n",
       "factor(Citizenship)Asian                        -0.334214   0.426055  -0.784\n",
       "factor(Citizenship)Black or African American     0.306388   0.525887   0.583\n",
       "factor(Citizenship)China                         0.613411   0.238328   2.574\n",
       "factor(Citizenship)Europe                        0.107099   0.437404   0.245\n",
       "factor(Citizenship)Hispanic or Latino           -0.741136   0.401475  -1.846\n",
       "factor(Citizenship)India                         0.561969   0.446569   1.258\n",
       "factor(Citizenship)Other International Students  0.260283   0.527259   0.494\n",
       "factor(Citizenship)Unknown                       0.341233   0.372713   0.916\n",
       "avs_net_cost                                     0.154409   0.106631   1.448\n",
       "PC1                                              0.031511   0.085862   0.367\n",
       "PC2                                             -0.065408   0.071628  -0.913\n",
       "PC3                                              0.023870   0.077979   0.306\n",
       "factor(gap_indicator)1                           0.640744   0.349499   1.833\n",
       "GPA_trend                                        1.075888   0.424021   2.537\n",
       "s_start_year                                    -1.347180   0.133609 -10.083\n",
       "                                                Pr(>|z|)    \n",
       "(Intercept)                                       0.0705 .  \n",
       "s_start_age                                       0.3423    \n",
       "factor(Gender)Male                                0.9836    \n",
       "factor(funding_indicator)1                      3.74e-07 ***\n",
       "factor(Citizenship)Africa                         0.0378 *  \n",
       "factor(Citizenship)Asia                           0.3769    \n",
       "factor(Citizenship)Asian                          0.4328    \n",
       "factor(Citizenship)Black or African American      0.5602    \n",
       "factor(Citizenship)China                          0.0101 *  \n",
       "factor(Citizenship)Europe                         0.8066    \n",
       "factor(Citizenship)Hispanic or Latino             0.0649 .  \n",
       "factor(Citizenship)India                          0.2082    \n",
       "factor(Citizenship)Other International Students   0.6216    \n",
       "factor(Citizenship)Unknown                        0.3599    \n",
       "avs_net_cost                                      0.1476    \n",
       "PC1                                               0.7136    \n",
       "PC2                                               0.3612    \n",
       "PC3                                               0.7595    \n",
       "factor(gap_indicator)1                            0.0668 .  \n",
       "GPA_trend                                         0.0112 *  \n",
       "s_start_year                                     < 2e-16 ***\n",
       "---\n",
       "Signif. codes:  0 '***' 0.001 '**' 0.01 '*' 0.05 '.' 0.1 ' ' 1\n",
       "\n",
       "(Dispersion parameter for binomial family taken to be 1)\n",
       "\n",
       "    Null deviance: 1135.18  on 860  degrees of freedom\n",
       "Residual deviance:  953.15  on 840  degrees of freedom\n",
       "AIC: 995.15\n",
       "\n",
       "Number of Fisher Scoring iterations: 4\n"
      ]
     },
     "metadata": {},
     "output_type": "display_data"
    }
   ],
   "source": [
    "log_mod_h_s = glm(Y~s_start_age+factor(Gender)+factor(funding_indicator)+factor(Citizenship)+\n",
    "                avs_net_cost+PC1+PC2+PC3+factor(gap_indicator)+GPA_trend+s_start_year,\n",
    "                data=Harpur_sciences,family=\"binomial\")\n",
    "summary(log_mod_h_s)"
   ]
  },
  {
   "cell_type": "markdown",
   "metadata": {},
   "source": [
    "<b> Significant Variables of logistic regression model: "
   ]
  },
  {
   "cell_type": "code",
   "execution_count": 17,
   "metadata": {},
   "outputs": [
    {
     "data": {
      "text/html": [
       "<table>\n",
       "<thead><tr><th></th><th scope=col>Estimate</th><th scope=col>Pr(&gt;|z|)</th></tr></thead>\n",
       "<tbody>\n",
       "\t<tr><th scope=row>factor(funding_indicator)1</th><td> 1.29958</td><td>0.00000 </td></tr>\n",
       "\t<tr><th scope=row>factor(Citizenship)Africa</th><td> 0.98854</td><td>0.03779 </td></tr>\n",
       "\t<tr><th scope=row>factor(Citizenship)China</th><td> 0.61341</td><td>0.01006 </td></tr>\n",
       "\t<tr><th scope=row>GPA_trend</th><td> 1.07589</td><td>0.01117 </td></tr>\n",
       "\t<tr><th scope=row>s_start_year</th><td>-1.34718</td><td>0.00000 </td></tr>\n",
       "</tbody>\n",
       "</table>\n"
      ],
      "text/latex": [
       "\\begin{tabular}{r|ll}\n",
       "  & Estimate & Pr(>\\textbar{}z\\textbar{})\\\\\n",
       "\\hline\n",
       "\tfactor(funding\\_indicator)1 &  1.29958 & 0.00000 \\\\\n",
       "\tfactor(Citizenship)Africa &  0.98854 & 0.03779 \\\\\n",
       "\tfactor(Citizenship)China &  0.61341 & 0.01006 \\\\\n",
       "\tGPA\\_trend &  1.07589 & 0.01117 \\\\\n",
       "\ts\\_start\\_year & -1.34718 & 0.00000 \\\\\n",
       "\\end{tabular}\n"
      ],
      "text/markdown": [
       "\n",
       "| <!--/--> | Estimate | Pr(>|z|) |\n",
       "|---|---|---|\n",
       "| factor(funding_indicator)1 |  1.29958 | 0.00000  |\n",
       "| factor(Citizenship)Africa |  0.98854 | 0.03779  |\n",
       "| factor(Citizenship)China |  0.61341 | 0.01006  |\n",
       "| GPA_trend |  1.07589 | 0.01117  |\n",
       "| s_start_year | -1.34718 | 0.00000  |\n",
       "\n"
      ],
      "text/plain": [
       "                           Estimate Pr(>|z|)\n",
       "factor(funding_indicator)1  1.29958 0.00000 \n",
       "factor(Citizenship)Africa   0.98854 0.03779 \n",
       "factor(Citizenship)China    0.61341 0.01006 \n",
       "GPA_trend                   1.07589 0.01117 \n",
       "s_start_year               -1.34718 0.00000 "
      ]
     },
     "metadata": {},
     "output_type": "display_data"
    }
   ],
   "source": [
    "round(summary(log_mod_h_s)$coeff[which(summary(log_mod_h_s)$coef[,4] <= .05),c(1,4)],5)"
   ]
  },
  {
   "cell_type": "markdown",
   "metadata": {},
   "source": [
    "Things we need\n",
    "-  Run AIC/BIC stepwise model selection for Harpur and summarize results\n",
    "-  Repeat for the other schools"
   ]
  },
  {
   "cell_type": "markdown",
   "metadata": {},
   "source": [
    "<b> Both AIC:"
   ]
  },
  {
   "cell_type": "code",
   "execution_count": 18,
   "metadata": {},
   "outputs": [
    {
     "name": "stdout",
     "output_type": "stream",
     "text": [
      "Start:  AIC=995.15\n",
      "Y ~ s_start_age + factor(Gender) + factor(funding_indicator) + \n",
      "    factor(Citizenship) + avs_net_cost + PC1 + PC2 + PC3 + factor(gap_indicator) + \n",
      "    GPA_trend + s_start_year\n",
      "\n",
      "                            Df Deviance     AIC\n",
      "- factor(Gender)             1   953.15  993.15\n",
      "- PC3                        1   953.25  993.25\n",
      "- PC1                        1   953.32  993.32\n",
      "- PC2                        1   953.83  993.83\n",
      "- factor(Citizenship)       10   971.86  993.86\n",
      "- s_start_age                1   954.06  994.06\n",
      "<none>                           953.15  995.15\n",
      "- avs_net_cost               1   955.34  995.34\n",
      "- factor(gap_indicator)      1   956.83  996.83\n",
      "- GPA_trend                  1   960.25 1000.25\n",
      "- factor(funding_indicator)  1   979.68 1019.68\n",
      "- s_start_year               1  1077.03 1117.03\n",
      "\n",
      "Step:  AIC=993.15\n",
      "Y ~ s_start_age + factor(funding_indicator) + factor(Citizenship) + \n",
      "    avs_net_cost + PC1 + PC2 + PC3 + factor(gap_indicator) + \n",
      "    GPA_trend + s_start_year\n",
      "\n",
      "                            Df Deviance     AIC\n",
      "- PC3                        1   953.25  991.25\n",
      "- PC1                        1   953.32  991.32\n",
      "- PC2                        1   953.83  991.83\n",
      "- factor(Citizenship)       10   971.87  991.87\n",
      "- s_start_age                1   954.07  992.07\n",
      "<none>                           953.15  993.15\n",
      "- avs_net_cost               1   955.36  993.36\n",
      "- factor(gap_indicator)      1   956.83  994.83\n",
      "+ factor(Gender)             1   953.15  995.15\n",
      "- GPA_trend                  1   960.31  998.31\n",
      "- factor(funding_indicator)  1   979.68 1017.68\n",
      "- s_start_year               1  1077.67 1115.67\n",
      "\n",
      "Step:  AIC=991.25\n",
      "Y ~ s_start_age + factor(funding_indicator) + factor(Citizenship) + \n",
      "    avs_net_cost + PC1 + PC2 + factor(gap_indicator) + GPA_trend + \n",
      "    s_start_year\n",
      "\n",
      "                            Df Deviance     AIC\n",
      "- PC1                        1   953.40  989.40\n",
      "- PC2                        1   954.06  990.06\n",
      "- s_start_age                1   954.19  990.19\n",
      "- factor(Citizenship)       10   972.80  990.80\n",
      "<none>                           953.25  991.25\n",
      "- avs_net_cost               1   955.55  991.55\n",
      "- factor(gap_indicator)      1   956.92  992.92\n",
      "+ PC3                        1   953.15  993.15\n",
      "+ factor(Gender)             1   953.25  993.25\n",
      "- GPA_trend                  1   960.46  996.46\n",
      "- factor(funding_indicator)  1   979.68 1015.68\n",
      "- s_start_year               1  1078.67 1114.67\n",
      "\n",
      "Step:  AIC=989.4\n",
      "Y ~ s_start_age + factor(funding_indicator) + factor(Citizenship) + \n",
      "    avs_net_cost + PC2 + factor(gap_indicator) + GPA_trend + \n",
      "    s_start_year\n",
      "\n",
      "                            Df Deviance     AIC\n",
      "- s_start_age                1   954.37  988.37\n",
      "- PC2                        1   954.48  988.48\n",
      "- factor(Citizenship)       10   972.84  988.84\n",
      "<none>                           953.40  989.40\n",
      "- avs_net_cost               1   955.66  989.66\n",
      "- factor(gap_indicator)      1   957.08  991.08\n",
      "+ PC1                        1   953.25  991.25\n",
      "+ PC3                        1   953.32  991.32\n",
      "+ factor(Gender)             1   953.40  991.40\n",
      "- GPA_trend                  1   960.54  994.54\n",
      "- factor(funding_indicator)  1   980.42 1014.42\n",
      "- s_start_year               1  1080.34 1114.34\n",
      "\n",
      "Step:  AIC=988.37\n",
      "Y ~ factor(funding_indicator) + factor(Citizenship) + avs_net_cost + \n",
      "    PC2 + factor(gap_indicator) + GPA_trend + s_start_year\n",
      "\n",
      "                            Df Deviance     AIC\n",
      "- PC2                        1   955.62  987.62\n",
      "<none>                           954.37  988.37\n",
      "- factor(Citizenship)       10   974.61  988.61\n",
      "+ s_start_age                1   953.40  989.40\n",
      "- avs_net_cost               1   957.49  989.49\n",
      "- factor(gap_indicator)      1   958.17  990.17\n",
      "+ PC1                        1   954.19  990.19\n",
      "+ PC3                        1   954.27  990.27\n",
      "+ factor(Gender)             1   954.36  990.36\n",
      "- GPA_trend                  1   961.42  993.42\n",
      "- factor(funding_indicator)  1   980.42 1012.42\n",
      "- s_start_year               1  1080.46 1112.46\n",
      "\n",
      "Step:  AIC=987.62\n",
      "Y ~ factor(funding_indicator) + factor(Citizenship) + avs_net_cost + \n",
      "    factor(gap_indicator) + GPA_trend + s_start_year\n",
      "\n",
      "                            Df Deviance     AIC\n",
      "- factor(Citizenship)       10   974.64  986.64\n",
      "<none>                           955.62  987.62\n",
      "+ PC2                        1   954.37  988.37\n",
      "+ s_start_age                1   954.48  988.48\n",
      "- avs_net_cost               1   958.69  988.69\n",
      "+ PC1                        1   955.10  989.10\n",
      "- factor(gap_indicator)      1   959.41  989.41\n",
      "+ PC3                        1   955.50  989.50\n",
      "+ factor(Gender)             1   955.62  989.62\n",
      "- GPA_trend                  1   962.21  992.21\n",
      "- factor(funding_indicator)  1   982.00 1012.00\n",
      "- s_start_year               1  1081.13 1111.13\n",
      "\n",
      "Step:  AIC=986.64\n",
      "Y ~ factor(funding_indicator) + avs_net_cost + factor(gap_indicator) + \n",
      "    GPA_trend + s_start_year\n",
      "\n",
      "                            Df Deviance     AIC\n",
      "<none>                           974.64  986.64\n",
      "+ s_start_age                1   972.85  986.85\n",
      "+ PC3                        1   973.52  987.52\n",
      "+ factor(Citizenship)       10   955.62  987.62\n",
      "- factor(gap_indicator)      1   977.75  987.75\n",
      "- avs_net_cost               1   977.87  987.87\n",
      "+ PC1                        1   974.60  988.60\n",
      "+ PC2                        1   974.61  988.61\n",
      "+ factor(Gender)             1   974.63  988.63\n",
      "- GPA_trend                  1   980.77  990.77\n",
      "- factor(funding_indicator)  1  1000.10 1010.10\n",
      "- s_start_year               1  1106.10 1116.10\n"
     ]
    }
   ],
   "source": [
    "library('MASS')\n",
    "log_mod_h_s_aic = stepAIC(log_mod_h_s, direction = 'both')"
   ]
  },
  {
   "cell_type": "markdown",
   "metadata": {},
   "source": [
    "<b> Significant variables both AIC selects:"
   ]
  },
  {
   "cell_type": "code",
   "execution_count": 19,
   "metadata": {},
   "outputs": [
    {
     "data": {
      "text/html": [
       "<table>\n",
       "<thead><tr><th></th><th scope=col>Estimate</th><th scope=col>Pr(&gt;|z|)</th></tr></thead>\n",
       "<tbody>\n",
       "\t<tr><th scope=row>factor(funding_indicator)1</th><td> 1.21272</td><td>0.00000 </td></tr>\n",
       "\t<tr><th scope=row>GPA_trend</th><td> 0.96259</td><td>0.01774 </td></tr>\n",
       "\t<tr><th scope=row>s_start_year</th><td>-1.34133</td><td>0.00000 </td></tr>\n",
       "</tbody>\n",
       "</table>\n"
      ],
      "text/latex": [
       "\\begin{tabular}{r|ll}\n",
       "  & Estimate & Pr(>\\textbar{}z\\textbar{})\\\\\n",
       "\\hline\n",
       "\tfactor(funding\\_indicator)1 &  1.21272 & 0.00000 \\\\\n",
       "\tGPA\\_trend &  0.96259 & 0.01774 \\\\\n",
       "\ts\\_start\\_year & -1.34133 & 0.00000 \\\\\n",
       "\\end{tabular}\n"
      ],
      "text/markdown": [
       "\n",
       "| <!--/--> | Estimate | Pr(>|z|) |\n",
       "|---|---|---|\n",
       "| factor(funding_indicator)1 |  1.21272 | 0.00000  |\n",
       "| GPA_trend |  0.96259 | 0.01774  |\n",
       "| s_start_year | -1.34133 | 0.00000  |\n",
       "\n"
      ],
      "text/plain": [
       "                           Estimate Pr(>|z|)\n",
       "factor(funding_indicator)1  1.21272 0.00000 \n",
       "GPA_trend                   0.96259 0.01774 \n",
       "s_start_year               -1.34133 0.00000 "
      ]
     },
     "metadata": {},
     "output_type": "display_data"
    }
   ],
   "source": [
    "round(summary(log_mod_h_s_aic)$coeff[which(summary(log_mod_h_s_aic)$coef[,4] <= .05),c(1,4)],5)"
   ]
  },
  {
   "cell_type": "markdown",
   "metadata": {},
   "source": [
    "<b> Both BIC"
   ]
  },
  {
   "cell_type": "code",
   "execution_count": 20,
   "metadata": {
    "scrolled": false
   },
   "outputs": [
    {
     "name": "stdout",
     "output_type": "stream",
     "text": [
      "Start:  AIC=1095.07\n",
      "Y ~ s_start_age + factor(Gender) + factor(funding_indicator) + \n",
      "    factor(Citizenship) + avs_net_cost + PC1 + PC2 + PC3 + factor(gap_indicator) + \n",
      "    GPA_trend + s_start_year\n",
      "\n",
      "                            Df Deviance    AIC\n",
      "- factor(Citizenship)       10   971.86 1046.2\n",
      "- factor(Gender)             1   953.15 1088.3\n",
      "- PC3                        1   953.25 1088.4\n",
      "- PC1                        1   953.32 1088.5\n",
      "- PC2                        1   953.83 1089.0\n",
      "- s_start_age                1   954.06 1089.2\n",
      "- avs_net_cost               1   955.34 1090.5\n",
      "- factor(gap_indicator)      1   956.83 1092.0\n",
      "<none>                           953.15 1095.1\n",
      "- GPA_trend                  1   960.25 1095.4\n",
      "- factor(funding_indicator)  1   979.68 1114.8\n",
      "- s_start_year               1  1077.03 1212.2\n",
      "\n",
      "Step:  AIC=1046.2\n",
      "Y ~ s_start_age + factor(Gender) + factor(funding_indicator) + \n",
      "    avs_net_cost + PC1 + PC2 + PC3 + factor(gap_indicator) + \n",
      "    GPA_trend + s_start_year\n",
      "\n",
      "                            Df Deviance    AIC\n",
      "- factor(Gender)             1   971.87 1039.5\n",
      "- PC1                        1   971.88 1039.5\n",
      "- PC2                        1   971.88 1039.5\n",
      "- PC3                        1   972.79 1040.4\n",
      "- s_start_age                1   973.47 1041.0\n",
      "- avs_net_cost               1   973.80 1041.4\n",
      "- factor(gap_indicator)      1   974.95 1042.5\n",
      "- GPA_trend                  1   977.83 1045.4\n",
      "<none>                           971.86 1046.2\n",
      "- factor(funding_indicator)  1   999.37 1067.0\n",
      "+ factor(Citizenship)       10   953.15 1095.1\n",
      "- s_start_year               1  1101.88 1169.5\n",
      "\n",
      "Step:  AIC=1039.45\n",
      "Y ~ s_start_age + factor(funding_indicator) + avs_net_cost + \n",
      "    PC1 + PC2 + PC3 + factor(gap_indicator) + GPA_trend + s_start_year\n",
      "\n",
      "                            Df Deviance    AIC\n",
      "- PC1                        1   971.89 1032.7\n",
      "- PC2                        1   971.89 1032.7\n",
      "- PC3                        1   972.80 1033.6\n",
      "- s_start_age                1   973.48 1034.3\n",
      "- avs_net_cost               1   973.80 1034.6\n",
      "- factor(gap_indicator)      1   974.96 1035.8\n",
      "- GPA_trend                  1   977.94 1038.8\n",
      "<none>                           971.87 1039.5\n",
      "+ factor(Gender)             1   971.86 1046.2\n",
      "- factor(funding_indicator)  1   999.38 1060.2\n",
      "+ factor(Citizenship)       10   953.15 1088.3\n",
      "- s_start_year               1  1102.57 1163.4\n",
      "\n",
      "Step:  AIC=1032.71\n",
      "Y ~ s_start_age + factor(funding_indicator) + avs_net_cost + \n",
      "    PC2 + PC3 + factor(gap_indicator) + GPA_trend + s_start_year\n",
      "\n",
      "                            Df Deviance    AIC\n",
      "- PC2                        1   971.90 1026.0\n",
      "- PC3                        1   972.84 1026.9\n",
      "- s_start_age                1   973.49 1027.5\n",
      "- avs_net_cost               1   973.83 1027.9\n",
      "- factor(gap_indicator)      1   974.97 1029.0\n",
      "- GPA_trend                  1   977.97 1032.0\n",
      "<none>                           971.89 1032.7\n",
      "+ PC1                        1   971.87 1039.5\n",
      "+ factor(Gender)             1   971.88 1039.5\n",
      "- factor(funding_indicator)  1   999.47 1053.5\n",
      "+ factor(Citizenship)       10   953.32 1081.7\n",
      "- s_start_year               1  1103.49 1157.6\n",
      "\n",
      "Step:  AIC=1025.96\n",
      "Y ~ s_start_age + factor(funding_indicator) + avs_net_cost + \n",
      "    PC3 + factor(gap_indicator) + GPA_trend + s_start_year\n",
      "\n",
      "                            Df Deviance    AIC\n",
      "- PC3                        1   972.85 1020.2\n",
      "- s_start_age                1   973.52 1020.8\n",
      "- avs_net_cost               1   973.83 1021.1\n",
      "- factor(gap_indicator)      1   974.99 1022.3\n",
      "- GPA_trend                  1   977.98 1025.3\n",
      "<none>                           971.90 1026.0\n",
      "+ PC2                        1   971.89 1032.7\n",
      "+ factor(Gender)             1   971.89 1032.7\n",
      "+ PC1                        1   971.89 1032.7\n",
      "- factor(funding_indicator)  1   999.70 1047.0\n",
      "+ factor(Citizenship)       10   954.39 1076.0\n",
      "- s_start_year               1  1103.59 1150.9\n",
      "\n",
      "Step:  AIC=1020.16\n",
      "Y ~ s_start_age + factor(funding_indicator) + avs_net_cost + \n",
      "    factor(gap_indicator) + GPA_trend + s_start_year\n",
      "\n",
      "                            Df Deviance    AIC\n",
      "- s_start_age                1   974.64 1015.2\n",
      "- avs_net_cost               1   975.04 1015.6\n",
      "- factor(gap_indicator)      1   975.89 1016.4\n",
      "- GPA_trend                  1   979.09 1019.6\n",
      "<none>                           972.85 1020.2\n",
      "+ PC3                        1   971.90 1026.0\n",
      "+ PC1                        1   972.81 1026.9\n",
      "+ factor(Gender)             1   972.84 1026.9\n",
      "+ PC2                        1   972.84 1026.9\n",
      "- factor(funding_indicator)  1  1000.06 1040.6\n",
      "+ factor(Citizenship)       10   954.48 1069.4\n",
      "- s_start_year               1  1105.50 1146.0\n",
      "\n",
      "Step:  AIC=1015.18\n",
      "Y ~ factor(funding_indicator) + avs_net_cost + factor(gap_indicator) + \n",
      "    GPA_trend + s_start_year\n",
      "\n",
      "                            Df Deviance    AIC\n",
      "- factor(gap_indicator)      1   977.75 1011.5\n",
      "- avs_net_cost               1   977.87 1011.7\n",
      "- GPA_trend                  1   980.77 1014.6\n",
      "<none>                           974.64 1015.2\n",
      "+ s_start_age                1   972.85 1020.2\n",
      "+ PC3                        1   973.52 1020.8\n",
      "+ PC1                        1   974.60 1021.9\n",
      "+ PC2                        1   974.61 1021.9\n",
      "+ factor(Gender)             1   974.63 1021.9\n",
      "- factor(funding_indicator)  1  1000.10 1033.9\n",
      "+ factor(Citizenship)       10   955.62 1063.8\n",
      "- s_start_year               1  1106.10 1139.9\n",
      "\n",
      "Step:  AIC=1011.54\n",
      "Y ~ factor(funding_indicator) + avs_net_cost + GPA_trend + s_start_year\n",
      "\n",
      "                            Df Deviance    AIC\n",
      "- avs_net_cost               1   980.78 1007.8\n",
      "- GPA_trend                  1   983.93 1011.0\n",
      "<none>                           977.75 1011.5\n",
      "+ factor(gap_indicator)      1   974.64 1015.2\n",
      "+ s_start_age                1   975.89 1016.4\n",
      "+ PC3                        1   976.69 1017.2\n",
      "+ PC2                        1   977.72 1018.3\n",
      "+ PC1                        1   977.73 1018.3\n",
      "+ factor(Gender)             1   977.75 1018.3\n",
      "- factor(funding_indicator)  1  1003.94 1031.0\n",
      "+ factor(Citizenship)       10   959.41 1060.8\n",
      "- s_start_year               1  1119.26 1146.3\n",
      "\n",
      "Step:  AIC=1007.81\n",
      "Y ~ factor(funding_indicator) + GPA_trend + s_start_year\n",
      "\n",
      "                            Df Deviance    AIC\n",
      "- GPA_trend                  1   987.32 1007.6\n",
      "<none>                           980.78 1007.8\n",
      "+ avs_net_cost               1   977.75 1011.5\n",
      "+ factor(gap_indicator)      1   977.87 1011.7\n",
      "+ s_start_age                1   977.89 1011.7\n",
      "+ PC3                        1   979.34 1013.1\n",
      "+ PC1                        1   980.72 1014.5\n",
      "+ factor(Gender)             1   980.73 1014.5\n",
      "+ PC2                        1   980.76 1014.5\n",
      "- factor(funding_indicator)  1  1004.81 1025.1\n",
      "+ factor(Citizenship)       10   962.26 1056.9\n",
      "- s_start_year               1  1121.62 1141.9\n",
      "\n",
      "Step:  AIC=1007.59\n",
      "Y ~ factor(funding_indicator) + s_start_year\n",
      "\n",
      "                            Df Deviance    AIC\n",
      "<none>                           987.32 1007.6\n",
      "+ GPA_trend                  1   980.78 1007.8\n",
      "+ avs_net_cost               1   983.93 1011.0\n",
      "+ factor(gap_indicator)      1   984.38 1011.4\n",
      "+ s_start_age                1   984.51 1011.5\n",
      "+ PC3                        1   985.66 1012.7\n",
      "+ PC1                        1   987.20 1014.2\n",
      "+ PC2                        1   987.31 1014.4\n",
      "+ factor(Gender)             1   987.32 1014.4\n",
      "- factor(funding_indicator)  1  1012.20 1025.7\n",
      "+ factor(Citizenship)       10   969.34 1057.2\n",
      "- s_start_year               1  1134.97 1148.5\n"
     ]
    }
   ],
   "source": [
    "log_mod_h_s_bic = stepAIC(log_mod_h_s, direction = \"both\", k = log(a_n))"
   ]
  },
  {
   "cell_type": "markdown",
   "metadata": {},
   "source": [
    "<b> Significant variables both BIC selects:"
   ]
  },
  {
   "cell_type": "code",
   "execution_count": 21,
   "metadata": {},
   "outputs": [
    {
     "data": {
      "text/html": [
       "<table>\n",
       "<thead><tr><th></th><th scope=col>Estimate</th><th scope=col>Pr(&gt;|z|)</th></tr></thead>\n",
       "<tbody>\n",
       "\t<tr><th scope=row>factor(funding_indicator)1</th><td> 1.18085</td><td>0       </td></tr>\n",
       "\t<tr><th scope=row>s_start_year</th><td>-1.38659</td><td>0       </td></tr>\n",
       "</tbody>\n",
       "</table>\n"
      ],
      "text/latex": [
       "\\begin{tabular}{r|ll}\n",
       "  & Estimate & Pr(>\\textbar{}z\\textbar{})\\\\\n",
       "\\hline\n",
       "\tfactor(funding\\_indicator)1 &  1.18085 & 0       \\\\\n",
       "\ts\\_start\\_year & -1.38659 & 0       \\\\\n",
       "\\end{tabular}\n"
      ],
      "text/markdown": [
       "\n",
       "| <!--/--> | Estimate | Pr(>|z|) |\n",
       "|---|---|---|\n",
       "| factor(funding_indicator)1 |  1.18085 | 0        |\n",
       "| s_start_year | -1.38659 | 0        |\n",
       "\n"
      ],
      "text/plain": [
       "                           Estimate Pr(>|z|)\n",
       "factor(funding_indicator)1  1.18085 0       \n",
       "s_start_year               -1.38659 0       "
      ]
     },
     "metadata": {},
     "output_type": "display_data"
    }
   ],
   "source": [
    "round(summary(log_mod_h_s_bic)$coeff[which(summary(log_mod_h_s_bic)$coef[,4] <= .05),c(1,4)],5)"
   ]
  },
  {
   "cell_type": "markdown",
   "metadata": {},
   "source": [
    "# Harpur Arts Analysis"
   ]
  },
  {
   "cell_type": "markdown",
   "metadata": {},
   "source": [
    "<b> Logistic regression model:"
   ]
  },
  {
   "cell_type": "code",
   "execution_count": 22,
   "metadata": {
    "scrolled": false
   },
   "outputs": [
    {
     "data": {
      "text/plain": [
       "\n",
       "Call:\n",
       "glm(formula = Y ~ s_start_age + factor(Gender) + factor(funding_indicator) + \n",
       "    factor(Citizenship) + avs_net_cost + PC1 + PC2 + PC3 + factor(gap_indicator) + \n",
       "    GPA_trend + s_start_year, family = \"binomial\", data = Harpur_arts)\n",
       "\n",
       "Deviance Residuals: \n",
       "    Min       1Q   Median       3Q      Max  \n",
       "-2.1179  -1.1715   0.7647   1.0103   1.6159  \n",
       "\n",
       "Coefficients:\n",
       "                                                 Estimate Std. Error z value\n",
       "(Intercept)                                     -0.343307   0.166521  -2.062\n",
       "s_start_age                                      0.106362   0.070265   1.514\n",
       "factor(Gender)Male                              -0.007463   0.143869  -0.052\n",
       "factor(funding_indicator)1                       0.700065   0.172111   4.068\n",
       "factor(Citizenship)Africa                       -0.389627   0.529915  -0.735\n",
       "factor(Citizenship)Asia                          0.692405   0.236852   2.923\n",
       "factor(Citizenship)Asian                        -0.383150   0.384344  -0.997\n",
       "factor(Citizenship)Black or African American     0.040223   0.408894   0.098\n",
       "factor(Citizenship)China                         0.422323   0.478053   0.883\n",
       "factor(Citizenship)Europe                        0.608970   0.473279   1.287\n",
       "factor(Citizenship)Hispanic or Latino            0.032621   0.303127   0.108\n",
       "factor(Citizenship)India                         0.544384   1.183723   0.460\n",
       "factor(Citizenship)Other International Students  0.209439   0.477578   0.439\n",
       "factor(Citizenship)Unknown                      -0.145622   0.247279  -0.589\n",
       "avs_net_cost                                     0.011157   0.055784   0.200\n",
       "PC1                                             -0.092211   0.092933  -0.992\n",
       "PC2                                             -0.009514   0.076236  -0.125\n",
       "PC3                                             -0.071294   0.070787  -1.007\n",
       "factor(gap_indicator)1                           0.226395   0.255068   0.888\n",
       "GPA_trend                                        0.665752   0.521324   1.277\n",
       "s_start_year                                    -0.517948   0.077329  -6.698\n",
       "                                                Pr(>|z|)    \n",
       "(Intercept)                                      0.03924 *  \n",
       "s_start_age                                      0.13010    \n",
       "factor(Gender)Male                               0.95863    \n",
       "factor(funding_indicator)1                      4.75e-05 ***\n",
       "factor(Citizenship)Africa                        0.46218    \n",
       "factor(Citizenship)Asia                          0.00346 ** \n",
       "factor(Citizenship)Asian                         0.31882    \n",
       "factor(Citizenship)Black or African American     0.92164    \n",
       "factor(Citizenship)China                         0.37701    \n",
       "factor(Citizenship)Europe                        0.19820    \n",
       "factor(Citizenship)Hispanic or Latino            0.91430    \n",
       "factor(Citizenship)India                         0.64559    \n",
       "factor(Citizenship)Other International Students  0.66099    \n",
       "factor(Citizenship)Unknown                       0.55593    \n",
       "avs_net_cost                                     0.84147    \n",
       "PC1                                              0.32109    \n",
       "PC2                                              0.90069    \n",
       "PC3                                              0.31386    \n",
       "factor(gap_indicator)1                           0.37476    \n",
       "GPA_trend                                        0.20159    \n",
       "s_start_year                                    2.11e-11 ***\n",
       "---\n",
       "Signif. codes:  0 '***' 0.001 '**' 0.01 '*' 0.05 '.' 0.1 ' ' 1\n",
       "\n",
       "(Dispersion parameter for binomial family taken to be 1)\n",
       "\n",
       "    Null deviance: 1248.0  on 917  degrees of freedom\n",
       "Residual deviance: 1170.2  on 897  degrees of freedom\n",
       "AIC: 1212.2\n",
       "\n",
       "Number of Fisher Scoring iterations: 5\n"
      ]
     },
     "metadata": {},
     "output_type": "display_data"
    }
   ],
   "source": [
    "log_mod_h_a = glm(Y~s_start_age+factor(Gender)+factor(funding_indicator)+factor(Citizenship)+\n",
    "                avs_net_cost+PC1+PC2+PC3+factor(gap_indicator)+GPA_trend+s_start_year,\n",
    "                data=Harpur_arts,family=\"binomial\")\n",
    "summary(log_mod_h_a)"
   ]
  },
  {
   "cell_type": "markdown",
   "metadata": {},
   "source": [
    "<b> Significant Variables of logistic regression model: "
   ]
  },
  {
   "cell_type": "code",
   "execution_count": 23,
   "metadata": {},
   "outputs": [
    {
     "data": {
      "text/html": [
       "<table>\n",
       "<thead><tr><th></th><th scope=col>Estimate</th><th scope=col>Pr(&gt;|z|)</th></tr></thead>\n",
       "<tbody>\n",
       "\t<tr><th scope=row>(Intercept)</th><td>-0.34331</td><td>0.03924 </td></tr>\n",
       "\t<tr><th scope=row>factor(funding_indicator)1</th><td> 0.70006</td><td>0.00005 </td></tr>\n",
       "\t<tr><th scope=row>factor(Citizenship)Asia</th><td> 0.69241</td><td>0.00346 </td></tr>\n",
       "\t<tr><th scope=row>s_start_year</th><td>-0.51795</td><td>0.00000 </td></tr>\n",
       "</tbody>\n",
       "</table>\n"
      ],
      "text/latex": [
       "\\begin{tabular}{r|ll}\n",
       "  & Estimate & Pr(>\\textbar{}z\\textbar{})\\\\\n",
       "\\hline\n",
       "\t(Intercept) & -0.34331 & 0.03924 \\\\\n",
       "\tfactor(funding\\_indicator)1 &  0.70006 & 0.00005 \\\\\n",
       "\tfactor(Citizenship)Asia &  0.69241 & 0.00346 \\\\\n",
       "\ts\\_start\\_year & -0.51795 & 0.00000 \\\\\n",
       "\\end{tabular}\n"
      ],
      "text/markdown": [
       "\n",
       "| <!--/--> | Estimate | Pr(>|z|) |\n",
       "|---|---|---|\n",
       "| (Intercept) | -0.34331 | 0.03924  |\n",
       "| factor(funding_indicator)1 |  0.70006 | 0.00005  |\n",
       "| factor(Citizenship)Asia |  0.69241 | 0.00346  |\n",
       "| s_start_year | -0.51795 | 0.00000  |\n",
       "\n"
      ],
      "text/plain": [
       "                           Estimate Pr(>|z|)\n",
       "(Intercept)                -0.34331 0.03924 \n",
       "factor(funding_indicator)1  0.70006 0.00005 \n",
       "factor(Citizenship)Asia     0.69241 0.00346 \n",
       "s_start_year               -0.51795 0.00000 "
      ]
     },
     "metadata": {},
     "output_type": "display_data"
    }
   ],
   "source": [
    "round(summary(log_mod_h_a)$coeff[which(summary(log_mod_h_a)$coef[,4] <= .05),c(1,4)],5)"
   ]
  },
  {
   "cell_type": "markdown",
   "metadata": {},
   "source": [
    "<b> Both AIC:"
   ]
  },
  {
   "cell_type": "code",
   "execution_count": 24,
   "metadata": {},
   "outputs": [
    {
     "name": "stdout",
     "output_type": "stream",
     "text": [
      "Start:  AIC=1212.21\n",
      "Y ~ s_start_age + factor(Gender) + factor(funding_indicator) + \n",
      "    factor(Citizenship) + avs_net_cost + PC1 + PC2 + PC3 + factor(gap_indicator) + \n",
      "    GPA_trend + s_start_year\n",
      "\n",
      "                            Df Deviance    AIC\n",
      "- factor(Citizenship)       10   1184.7 1206.7\n",
      "- factor(Gender)             1   1170.2 1210.2\n",
      "- PC2                        1   1170.2 1210.2\n",
      "- avs_net_cost               1   1170.2 1210.2\n",
      "- factor(gap_indicator)      1   1171.0 1211.0\n",
      "- PC3                        1   1171.2 1211.2\n",
      "- GPA_trend                  1   1171.9 1211.9\n",
      "<none>                           1170.2 1212.2\n",
      "- PC1                        1   1172.3 1212.3\n",
      "- s_start_age                1   1172.5 1212.5\n",
      "- factor(funding_indicator)  1   1187.2 1227.2\n",
      "- s_start_year               1   1220.3 1260.3\n",
      "\n",
      "Step:  AIC=1206.66\n",
      "Y ~ s_start_age + factor(Gender) + factor(funding_indicator) + \n",
      "    avs_net_cost + PC1 + PC2 + PC3 + factor(gap_indicator) + \n",
      "    GPA_trend + s_start_year\n",
      "\n",
      "                            Df Deviance    AIC\n",
      "- avs_net_cost               1   1184.7 1204.7\n",
      "- PC2                        1   1184.7 1204.7\n",
      "- factor(Gender)             1   1184.7 1204.7\n",
      "- PC3                        1   1185.2 1205.2\n",
      "- factor(gap_indicator)      1   1185.5 1205.5\n",
      "- s_start_age                1   1185.8 1205.8\n",
      "- GPA_trend                  1   1185.8 1205.8\n",
      "<none>                           1184.7 1206.7\n",
      "- PC1                        1   1189.1 1209.1\n",
      "+ factor(Citizenship)       10   1170.2 1212.2\n",
      "- factor(funding_indicator)  1   1202.3 1222.3\n",
      "- s_start_year               1   1230.4 1250.4\n",
      "\n",
      "Step:  AIC=1204.66\n",
      "Y ~ s_start_age + factor(Gender) + factor(funding_indicator) + \n",
      "    PC1 + PC2 + PC3 + factor(gap_indicator) + GPA_trend + s_start_year\n",
      "\n",
      "                            Df Deviance    AIC\n",
      "- PC2                        1   1184.7 1202.7\n",
      "- factor(Gender)             1   1184.7 1202.7\n",
      "- PC3                        1   1185.2 1203.2\n",
      "- factor(gap_indicator)      1   1185.5 1203.5\n",
      "- s_start_age                1   1185.8 1203.8\n",
      "- GPA_trend                  1   1185.8 1203.8\n",
      "<none>                           1184.7 1204.7\n",
      "+ avs_net_cost               1   1184.7 1206.7\n",
      "- PC1                        1   1189.1 1207.1\n",
      "+ factor(Citizenship)       10   1170.2 1210.2\n",
      "- factor(funding_indicator)  1   1202.4 1220.4\n",
      "- s_start_year               1   1231.1 1249.1\n",
      "\n",
      "Step:  AIC=1202.7\n",
      "Y ~ s_start_age + factor(Gender) + factor(funding_indicator) + \n",
      "    PC1 + PC3 + factor(gap_indicator) + GPA_trend + s_start_year\n",
      "\n",
      "                            Df Deviance    AIC\n",
      "- factor(Gender)             1   1184.8 1200.8\n",
      "- PC3                        1   1185.4 1201.4\n",
      "- factor(gap_indicator)      1   1185.6 1201.6\n",
      "- s_start_age                1   1185.9 1201.9\n",
      "- GPA_trend                  1   1185.9 1201.9\n",
      "<none>                           1184.7 1202.7\n",
      "+ PC2                        1   1184.7 1204.7\n",
      "+ avs_net_cost               1   1184.7 1204.7\n",
      "- PC1                        1   1189.3 1205.3\n",
      "+ factor(Citizenship)       10   1170.3 1208.3\n",
      "- factor(funding_indicator)  1   1202.4 1218.4\n",
      "- s_start_year               1   1232.2 1248.2\n",
      "\n",
      "Step:  AIC=1200.75\n",
      "Y ~ s_start_age + factor(funding_indicator) + PC1 + PC3 + factor(gap_indicator) + \n",
      "    GPA_trend + s_start_year\n",
      "\n",
      "                            Df Deviance    AIC\n",
      "- PC3                        1   1185.5 1199.5\n",
      "- factor(gap_indicator)      1   1185.7 1199.7\n",
      "- GPA_trend                  1   1185.9 1199.9\n",
      "- s_start_age                1   1186.0 1200.0\n",
      "<none>                           1184.8 1200.8\n",
      "+ factor(Gender)             1   1184.7 1202.7\n",
      "+ PC2                        1   1184.7 1202.7\n",
      "+ avs_net_cost               1   1184.8 1202.8\n",
      "- PC1                        1   1189.4 1203.4\n",
      "+ factor(Citizenship)       10   1170.3 1206.3\n",
      "- factor(funding_indicator)  1   1202.4 1216.4\n",
      "- s_start_year               1   1232.2 1246.2\n",
      "\n",
      "Step:  AIC=1199.46\n",
      "Y ~ s_start_age + factor(funding_indicator) + PC1 + factor(gap_indicator) + \n",
      "    GPA_trend + s_start_year\n",
      "\n",
      "                            Df Deviance    AIC\n",
      "- factor(gap_indicator)      1   1186.5 1198.5\n",
      "- s_start_age                1   1186.5 1198.5\n",
      "- GPA_trend                  1   1186.8 1198.8\n",
      "<none>                           1185.5 1199.5\n",
      "+ PC3                        1   1184.8 1200.8\n",
      "+ PC2                        1   1185.3 1201.3\n",
      "+ factor(Gender)             1   1185.4 1201.4\n",
      "+ avs_net_cost               1   1185.5 1201.5\n",
      "- PC1                        1   1190.1 1202.1\n",
      "+ factor(Citizenship)       10   1171.3 1205.3\n",
      "- factor(funding_indicator)  1   1203.0 1215.0\n",
      "- s_start_year               1   1232.3 1244.3\n",
      "\n",
      "Step:  AIC=1198.46\n",
      "Y ~ s_start_age + factor(funding_indicator) + PC1 + GPA_trend + \n",
      "    s_start_year\n",
      "\n",
      "                            Df Deviance    AIC\n",
      "- s_start_age                1   1187.5 1197.5\n",
      "- GPA_trend                  1   1187.8 1197.8\n",
      "<none>                           1186.5 1198.5\n",
      "+ factor(gap_indicator)      1   1185.5 1199.5\n",
      "+ PC3                        1   1185.7 1199.7\n",
      "+ PC2                        1   1186.2 1200.2\n",
      "+ factor(Gender)             1   1186.4 1200.4\n",
      "+ avs_net_cost               1   1186.5 1200.5\n",
      "- PC1                        1   1191.0 1201.0\n",
      "+ factor(Citizenship)       10   1172.2 1204.2\n",
      "- factor(funding_indicator)  1   1203.6 1213.6\n",
      "- s_start_year               1   1238.0 1248.0\n",
      "\n",
      "Step:  AIC=1197.49\n",
      "Y ~ factor(funding_indicator) + PC1 + GPA_trend + s_start_year\n",
      "\n",
      "                            Df Deviance    AIC\n",
      "- GPA_trend                  1   1188.8 1196.8\n",
      "<none>                           1187.5 1197.5\n",
      "+ s_start_age                1   1186.5 1198.5\n",
      "+ factor(gap_indicator)      1   1186.5 1198.5\n",
      "+ PC3                        1   1186.8 1198.8\n",
      "+ PC2                        1   1187.2 1199.2\n",
      "+ factor(Gender)             1   1187.4 1199.4\n",
      "+ avs_net_cost               1   1187.5 1199.5\n",
      "- PC1                        1   1192.3 1200.3\n",
      "+ factor(Citizenship)       10   1174.2 1204.2\n",
      "- factor(funding_indicator)  1   1203.6 1211.6\n",
      "- s_start_year               1   1238.0 1246.0\n",
      "\n",
      "Step:  AIC=1196.76\n",
      "Y ~ factor(funding_indicator) + PC1 + s_start_year\n",
      "\n",
      "                            Df Deviance    AIC\n",
      "<none>                           1188.8 1196.8\n",
      "+ GPA_trend                  1   1187.5 1197.5\n",
      "+ s_start_age                1   1187.8 1197.8\n",
      "+ factor(gap_indicator)      1   1187.8 1197.8\n",
      "+ PC3                        1   1188.0 1198.0\n",
      "+ PC2                        1   1188.5 1198.5\n",
      "+ factor(Gender)             1   1188.7 1198.7\n",
      "+ avs_net_cost               1   1188.8 1198.8\n",
      "- PC1                        1   1194.0 1200.0\n",
      "+ factor(Citizenship)       10   1176.1 1204.1\n",
      "- factor(funding_indicator)  1   1204.8 1210.8\n",
      "- s_start_year               1   1239.8 1245.8\n"
     ]
    }
   ],
   "source": [
    "log_mod_h_a_aic = stepAIC(log_mod_h_a, direction = 'both')"
   ]
  },
  {
   "cell_type": "markdown",
   "metadata": {},
   "source": [
    "<b> Significant variables both AIC selects:"
   ]
  },
  {
   "cell_type": "code",
   "execution_count": 25,
   "metadata": {},
   "outputs": [
    {
     "data": {
      "text/html": [
       "<table>\n",
       "<thead><tr><th></th><th scope=col>Estimate</th><th scope=col>Pr(&gt;|z|)</th></tr></thead>\n",
       "<tbody>\n",
       "\t<tr><th scope=row>factor(funding_indicator)1</th><td> 0.63680</td><td>8e-05   </td></tr>\n",
       "\t<tr><th scope=row>s_start_year</th><td>-0.48729</td><td>0e+00   </td></tr>\n",
       "</tbody>\n",
       "</table>\n"
      ],
      "text/latex": [
       "\\begin{tabular}{r|ll}\n",
       "  & Estimate & Pr(>\\textbar{}z\\textbar{})\\\\\n",
       "\\hline\n",
       "\tfactor(funding\\_indicator)1 &  0.63680 & 8e-05   \\\\\n",
       "\ts\\_start\\_year & -0.48729 & 0e+00   \\\\\n",
       "\\end{tabular}\n"
      ],
      "text/markdown": [
       "\n",
       "| <!--/--> | Estimate | Pr(>|z|) |\n",
       "|---|---|---|\n",
       "| factor(funding_indicator)1 |  0.63680 | 8e-05    |\n",
       "| s_start_year | -0.48729 | 0e+00    |\n",
       "\n"
      ],
      "text/plain": [
       "                           Estimate Pr(>|z|)\n",
       "factor(funding_indicator)1  0.63680 8e-05   \n",
       "s_start_year               -0.48729 0e+00   "
      ]
     },
     "metadata": {},
     "output_type": "display_data"
    }
   ],
   "source": [
    "round(summary(log_mod_h_a_aic)$coeff[which(summary(log_mod_h_a_aic)$coef[,4] <= .05),c(1,4)],5)"
   ]
  },
  {
   "cell_type": "markdown",
   "metadata": {},
   "source": [
    "<b> Both BIC"
   ]
  },
  {
   "cell_type": "code",
   "execution_count": 26,
   "metadata": {
    "scrolled": false
   },
   "outputs": [
    {
     "name": "stdout",
     "output_type": "stream",
     "text": [
      "Start:  AIC=1313.48\n",
      "Y ~ s_start_age + factor(Gender) + factor(funding_indicator) + \n",
      "    factor(Citizenship) + avs_net_cost + PC1 + PC2 + PC3 + factor(gap_indicator) + \n",
      "    GPA_trend + s_start_year\n",
      "\n",
      "                            Df Deviance    AIC\n",
      "- factor(Citizenship)       10   1184.7 1259.7\n",
      "- factor(Gender)             1   1170.2 1306.7\n",
      "- PC2                        1   1170.2 1306.7\n",
      "- avs_net_cost               1   1170.2 1306.7\n",
      "- factor(gap_indicator)      1   1171.0 1307.5\n",
      "- PC3                        1   1171.2 1307.7\n",
      "- GPA_trend                  1   1171.9 1308.4\n",
      "- PC1                        1   1172.3 1308.7\n",
      "- s_start_age                1   1172.5 1309.0\n",
      "<none>                           1170.2 1313.5\n",
      "- factor(funding_indicator)  1   1187.2 1323.7\n",
      "- s_start_year               1   1220.3 1356.8\n",
      "\n",
      "Step:  AIC=1259.7\n",
      "Y ~ s_start_age + factor(Gender) + factor(funding_indicator) + \n",
      "    avs_net_cost + PC1 + PC2 + PC3 + factor(gap_indicator) + \n",
      "    GPA_trend + s_start_year\n",
      "\n",
      "                            Df Deviance    AIC\n",
      "- avs_net_cost               1   1184.7 1252.9\n",
      "- PC2                        1   1184.7 1252.9\n",
      "- factor(Gender)             1   1184.7 1252.9\n",
      "- PC3                        1   1185.2 1253.4\n",
      "- factor(gap_indicator)      1   1185.5 1253.8\n",
      "- s_start_age                1   1185.8 1254.0\n",
      "- GPA_trend                  1   1185.8 1254.1\n",
      "- PC1                        1   1189.1 1257.3\n",
      "<none>                           1184.7 1259.7\n",
      "- factor(funding_indicator)  1   1202.3 1270.5\n",
      "- s_start_year               1   1230.4 1298.6\n",
      "+ factor(Citizenship)       10   1170.2 1313.5\n",
      "\n",
      "Step:  AIC=1252.88\n",
      "Y ~ s_start_age + factor(Gender) + factor(funding_indicator) + \n",
      "    PC1 + PC2 + PC3 + factor(gap_indicator) + GPA_trend + s_start_year\n",
      "\n",
      "                            Df Deviance    AIC\n",
      "- PC2                        1   1184.7 1246.1\n",
      "- factor(Gender)             1   1184.7 1246.1\n",
      "- PC3                        1   1185.2 1246.6\n",
      "- factor(gap_indicator)      1   1185.5 1246.9\n",
      "- s_start_age                1   1185.8 1247.2\n",
      "- GPA_trend                  1   1185.8 1247.2\n",
      "- PC1                        1   1189.1 1250.5\n",
      "<none>                           1184.7 1252.9\n",
      "+ avs_net_cost               1   1184.7 1259.7\n",
      "- factor(funding_indicator)  1   1202.4 1263.8\n",
      "- s_start_year               1   1231.1 1292.5\n",
      "+ factor(Citizenship)       10   1170.2 1306.7\n",
      "\n",
      "Step:  AIC=1246.1\n",
      "Y ~ s_start_age + factor(Gender) + factor(funding_indicator) + \n",
      "    PC1 + PC3 + factor(gap_indicator) + GPA_trend + s_start_year\n",
      "\n",
      "                            Df Deviance    AIC\n",
      "- factor(Gender)             1   1184.8 1239.3\n",
      "- PC3                        1   1185.4 1240.0\n",
      "- factor(gap_indicator)      1   1185.6 1240.2\n",
      "- s_start_age                1   1185.9 1240.5\n",
      "- GPA_trend                  1   1185.9 1240.5\n",
      "- PC1                        1   1189.3 1243.9\n",
      "<none>                           1184.7 1246.1\n",
      "+ PC2                        1   1184.7 1252.9\n",
      "+ avs_net_cost               1   1184.7 1252.9\n",
      "- factor(funding_indicator)  1   1202.4 1257.0\n",
      "- s_start_year               1   1232.2 1286.8\n",
      "+ factor(Citizenship)       10   1170.3 1299.9\n",
      "\n",
      "Step:  AIC=1239.33\n",
      "Y ~ s_start_age + factor(funding_indicator) + PC1 + PC3 + factor(gap_indicator) + \n",
      "    GPA_trend + s_start_year\n",
      "\n",
      "                            Df Deviance    AIC\n",
      "- PC3                        1   1185.5 1233.2\n",
      "- factor(gap_indicator)      1   1185.7 1233.4\n",
      "- GPA_trend                  1   1185.9 1233.7\n",
      "- s_start_age                1   1186.0 1233.7\n",
      "- PC1                        1   1189.4 1237.1\n",
      "<none>                           1184.8 1239.3\n",
      "+ factor(Gender)             1   1184.7 1246.1\n",
      "+ PC2                        1   1184.7 1246.1\n",
      "+ avs_net_cost               1   1184.8 1246.2\n",
      "- factor(funding_indicator)  1   1202.4 1250.2\n",
      "- s_start_year               1   1232.2 1280.0\n",
      "+ factor(Citizenship)       10   1170.3 1293.1\n",
      "\n",
      "Step:  AIC=1233.22\n",
      "Y ~ s_start_age + factor(funding_indicator) + PC1 + factor(gap_indicator) + \n",
      "    GPA_trend + s_start_year\n",
      "\n",
      "                            Df Deviance    AIC\n",
      "- factor(gap_indicator)      1   1186.5 1227.4\n",
      "- s_start_age                1   1186.5 1227.5\n",
      "- GPA_trend                  1   1186.8 1227.7\n",
      "- PC1                        1   1190.1 1231.0\n",
      "<none>                           1185.5 1233.2\n",
      "+ PC3                        1   1184.8 1239.3\n",
      "+ PC2                        1   1185.3 1239.8\n",
      "+ factor(Gender)             1   1185.4 1240.0\n",
      "+ avs_net_cost               1   1185.5 1240.0\n",
      "- factor(funding_indicator)  1   1203.0 1244.0\n",
      "- s_start_year               1   1232.3 1273.3\n",
      "+ factor(Citizenship)       10   1171.3 1287.3\n",
      "\n",
      "Step:  AIC=1227.39\n",
      "Y ~ s_start_age + factor(funding_indicator) + PC1 + GPA_trend + \n",
      "    s_start_year\n",
      "\n",
      "                            Df Deviance    AIC\n",
      "- s_start_age                1   1187.5 1221.6\n",
      "- GPA_trend                  1   1187.8 1221.9\n",
      "- PC1                        1   1191.0 1225.1\n",
      "<none>                           1186.5 1227.4\n",
      "+ factor(gap_indicator)      1   1185.5 1233.2\n",
      "+ PC3                        1   1185.7 1233.4\n",
      "+ PC2                        1   1186.2 1234.0\n",
      "+ factor(Gender)             1   1186.4 1234.1\n",
      "+ avs_net_cost               1   1186.5 1234.2\n",
      "- factor(funding_indicator)  1   1203.6 1237.7\n",
      "- s_start_year               1   1238.0 1272.1\n",
      "+ factor(Citizenship)       10   1172.2 1281.3\n",
      "\n",
      "Step:  AIC=1221.6\n",
      "Y ~ factor(funding_indicator) + PC1 + GPA_trend + s_start_year\n",
      "\n",
      "                            Df Deviance    AIC\n",
      "- GPA_trend                  1   1188.8 1216.0\n",
      "- PC1                        1   1192.3 1219.6\n",
      "<none>                           1187.5 1221.6\n",
      "+ s_start_age                1   1186.5 1227.4\n",
      "+ factor(gap_indicator)      1   1186.5 1227.5\n",
      "+ PC3                        1   1186.8 1227.8\n",
      "+ PC2                        1   1187.2 1228.2\n",
      "+ factor(Gender)             1   1187.4 1228.3\n",
      "+ avs_net_cost               1   1187.5 1228.4\n",
      "- factor(funding_indicator)  1   1203.6 1230.9\n",
      "- s_start_year               1   1238.0 1265.3\n",
      "+ factor(Citizenship)       10   1174.2 1276.6\n",
      "\n",
      "Step:  AIC=1216.05\n",
      "Y ~ factor(funding_indicator) + PC1 + s_start_year\n",
      "\n",
      "                            Df Deviance    AIC\n",
      "- PC1                        1   1194.0 1214.5\n",
      "<none>                           1188.8 1216.0\n",
      "+ GPA_trend                  1   1187.5 1221.6\n",
      "+ s_start_age                1   1187.8 1221.9\n",
      "+ factor(gap_indicator)      1   1187.8 1221.9\n",
      "+ PC3                        1   1188.0 1222.1\n",
      "+ PC2                        1   1188.5 1222.6\n",
      "+ factor(Gender)             1   1188.7 1222.8\n",
      "+ avs_net_cost               1   1188.8 1222.9\n",
      "- factor(funding_indicator)  1   1204.8 1225.3\n",
      "- s_start_year               1   1239.8 1260.2\n",
      "+ factor(Citizenship)       10   1176.1 1271.6\n",
      "\n",
      "Step:  AIC=1214.45\n",
      "Y ~ factor(funding_indicator) + s_start_year\n",
      "\n",
      "                            Df Deviance    AIC\n",
      "<none>                           1194.0 1214.5\n",
      "+ PC1                        1   1188.8 1216.0\n",
      "+ GPA_trend                  1   1192.3 1219.6\n",
      "+ s_start_age                1   1192.7 1220.0\n",
      "+ factor(gap_indicator)      1   1193.1 1220.4\n",
      "+ PC3                        1   1193.1 1220.4\n",
      "+ PC2                        1   1193.7 1221.0\n",
      "+ factor(Gender)             1   1193.9 1221.2\n",
      "+ avs_net_cost               1   1194.0 1221.3\n",
      "- factor(funding_indicator)  1   1209.2 1222.9\n",
      "- s_start_year               1   1247.6 1261.2\n",
      "+ factor(Citizenship)       10   1179.0 1267.7\n"
     ]
    }
   ],
   "source": [
    "log_mod_h_a_bic = stepAIC(log_mod_h_a, direction = \"both\", k = log(b_n))"
   ]
  },
  {
   "cell_type": "markdown",
   "metadata": {},
   "source": [
    "<b> Significant variables both BIC selects:"
   ]
  },
  {
   "cell_type": "code",
   "execution_count": 27,
   "metadata": {},
   "outputs": [
    {
     "data": {
      "text/html": [
       "<table>\n",
       "<thead><tr><th></th><th scope=col>Estimate</th><th scope=col>Pr(&gt;|z|)</th></tr></thead>\n",
       "<tbody>\n",
       "\t<tr><th scope=row>factor(funding_indicator)1</th><td> 0.61318</td><td>0.00011 </td></tr>\n",
       "\t<tr><th scope=row>s_start_year</th><td>-0.49610</td><td>0.00000 </td></tr>\n",
       "</tbody>\n",
       "</table>\n"
      ],
      "text/latex": [
       "\\begin{tabular}{r|ll}\n",
       "  & Estimate & Pr(>\\textbar{}z\\textbar{})\\\\\n",
       "\\hline\n",
       "\tfactor(funding\\_indicator)1 &  0.61318 & 0.00011 \\\\\n",
       "\ts\\_start\\_year & -0.49610 & 0.00000 \\\\\n",
       "\\end{tabular}\n"
      ],
      "text/markdown": [
       "\n",
       "| <!--/--> | Estimate | Pr(>|z|) |\n",
       "|---|---|---|\n",
       "| factor(funding_indicator)1 |  0.61318 | 0.00011  |\n",
       "| s_start_year | -0.49610 | 0.00000  |\n",
       "\n"
      ],
      "text/plain": [
       "                           Estimate Pr(>|z|)\n",
       "factor(funding_indicator)1  0.61318 0.00011 \n",
       "s_start_year               -0.49610 0.00000 "
      ]
     },
     "metadata": {},
     "output_type": "display_data"
    }
   ],
   "source": [
    "round(summary(log_mod_h_a_bic)$coeff[which(summary(log_mod_h_a_bic)$coef[,4] <= .05),c(1,4)],5)"
   ]
  },
  {
   "cell_type": "markdown",
   "metadata": {},
   "source": [
    "# Management Analysis"
   ]
  },
  {
   "cell_type": "markdown",
   "metadata": {},
   "source": [
    "<b> Logistic regression model:"
   ]
  },
  {
   "cell_type": "code",
   "execution_count": 28,
   "metadata": {},
   "outputs": [
    {
     "data": {
      "text/plain": [
       "\n",
       "Call:\n",
       "glm(formula = Y ~ s_start_age + factor(Gender) + factor(Citizenship) + \n",
       "    avs_net_cost + PC1 + PC2 + PC3 + factor(gap_indicator) + \n",
       "    GPA_trend + s_start_year, family = \"binomial\", data = Management_df)\n",
       "\n",
       "Deviance Residuals: \n",
       "    Min       1Q   Median       3Q      Max  \n",
       "-2.1948  -0.8325   0.4263   0.8166   1.5902  \n",
       "\n",
       "Coefficients:\n",
       "                                        Estimate Std. Error z value Pr(>|z|)\n",
       "(Intercept)                              1.45588    1.20046   1.213    0.225\n",
       "s_start_age                              0.38243    0.73882   0.518    0.605\n",
       "factor(Gender)Male                      -0.85210    0.75490  -1.129    0.259\n",
       "factor(Citizenship)Asia                  0.29362    1.12511   0.261    0.794\n",
       "factor(Citizenship)Asian                 1.57017    1.71928   0.913    0.361\n",
       "factor(Citizenship)China                 0.73942    1.45250   0.509    0.611\n",
       "factor(Citizenship)Europe               17.04912 3956.18052   0.004    0.997\n",
       "factor(Citizenship)Hispanic or Latino    1.48548 4384.99007   0.000    1.000\n",
       "factor(Citizenship)India                 0.03955    1.28217   0.031    0.975\n",
       "factor(Citizenship)Unknown               0.70396    1.56364   0.450    0.653\n",
       "avs_net_cost                             1.95456    1.56299   1.251    0.211\n",
       "PC1                                      3.87387    4.18940   0.925    0.355\n",
       "PC2                                      1.31055    2.48550   0.527    0.598\n",
       "PC3                                      0.09398    0.40517   0.232    0.817\n",
       "factor(gap_indicator)1                  17.39585 1891.23619   0.009    0.993\n",
       "GPA_trend                                2.62354    2.29055   1.145    0.252\n",
       "s_start_year                            -0.03895    0.60714  -0.064    0.949\n",
       "\n",
       "(Dispersion parameter for binomial family taken to be 1)\n",
       "\n",
       "    Null deviance: 74.726  on 57  degrees of freedom\n",
       "Residual deviance: 56.399  on 41  degrees of freedom\n",
       "AIC: 90.399\n",
       "\n",
       "Number of Fisher Scoring iterations: 16\n"
      ]
     },
     "metadata": {},
     "output_type": "display_data"
    }
   ],
   "source": [
    "log_mod_m = glm(Y~s_start_age+factor(Gender)+factor(Citizenship)+\n",
    "                avs_net_cost+PC1+PC2+PC3+factor(gap_indicator)+GPA_trend+s_start_year,\n",
    "                data=Management_df,family=\"binomial\")\n",
    "summary(log_mod_m)"
   ]
  },
  {
   "cell_type": "markdown",
   "metadata": {},
   "source": [
    "<b> Significant Variables of logistic regression model: "
   ]
  },
  {
   "cell_type": "code",
   "execution_count": 29,
   "metadata": {},
   "outputs": [
    {
     "data": {
      "text/html": [
       "<table>\n",
       "<thead><tr><th scope=col>Estimate</th><th scope=col>Pr(&gt;|z|)</th></tr></thead>\n",
       "<tbody>\n",
       "</tbody>\n",
       "</table>\n"
      ],
      "text/latex": [
       "\\begin{tabular}{ll}\n",
       " Estimate & Pr(>\\textbar{}z\\textbar{})\\\\\n",
       "\\hline\n",
       "\\end{tabular}\n"
      ],
      "text/markdown": [
       "\n",
       "| Estimate | Pr(>|z|) |\n",
       "|---|---|\n",
       "\n"
      ],
      "text/plain": [
       "     Estimate Pr(>|z|)"
      ]
     },
     "metadata": {},
     "output_type": "display_data"
    }
   ],
   "source": [
    "round(summary(log_mod_m)$coeff[which(summary(log_mod_m)$coef[,4] <= .05),c(1,4)],5)"
   ]
  },
  {
   "cell_type": "markdown",
   "metadata": {},
   "source": [
    "<b> Both AIC:"
   ]
  },
  {
   "cell_type": "code",
   "execution_count": 30,
   "metadata": {
    "scrolled": false
   },
   "outputs": [
    {
     "name": "stdout",
     "output_type": "stream",
     "text": [
      "Start:  AIC=90.4\n",
      "Y ~ s_start_age + factor(Gender) + factor(Citizenship) + avs_net_cost + \n",
      "    PC1 + PC2 + PC3 + factor(gap_indicator) + GPA_trend + s_start_year\n",
      "\n",
      "                        Df Deviance    AIC\n",
      "- factor(Citizenship)    7   58.210 78.210\n",
      "- s_start_year           1   56.404 88.404\n",
      "- PC3                    1   56.453 88.453\n",
      "- s_start_age            1   56.672 88.672\n",
      "- PC2                    1   56.753 88.753\n",
      "- factor(Gender)         1   57.696 89.696\n",
      "- PC1                    1   57.867 89.867\n",
      "- GPA_trend              1   57.937 89.937\n",
      "- avs_net_cost           1   58.312 90.312\n",
      "<none>                       56.399 90.399\n",
      "- factor(gap_indicator)  1   60.177 92.177\n",
      "\n",
      "Step:  AIC=78.21\n",
      "Y ~ s_start_age + factor(Gender) + avs_net_cost + PC1 + PC2 + \n",
      "    PC3 + factor(gap_indicator) + GPA_trend + s_start_year\n",
      "\n",
      "                        Df Deviance    AIC\n",
      "- s_start_age            1   58.227 76.227\n",
      "- PC3                    1   58.418 76.418\n",
      "- s_start_year           1   58.423 76.423\n",
      "- PC2                    1   58.651 76.651\n",
      "- factor(Gender)         1   59.331 77.331\n",
      "- avs_net_cost           1   59.484 77.484\n",
      "- PC1                    1   59.937 77.937\n",
      "<none>                       58.210 78.210\n",
      "- GPA_trend              1   60.548 78.548\n",
      "- factor(gap_indicator)  1   62.871 80.871\n",
      "+ factor(Citizenship)    7   56.399 90.399\n",
      "\n",
      "Step:  AIC=76.23\n",
      "Y ~ factor(Gender) + avs_net_cost + PC1 + PC2 + PC3 + factor(gap_indicator) + \n",
      "    GPA_trend + s_start_year\n",
      "\n",
      "                        Df Deviance    AIC\n",
      "- PC3                    1   58.429 74.429\n",
      "- s_start_year           1   58.448 74.448\n",
      "- PC2                    1   58.657 74.657\n",
      "- factor(Gender)         1   59.332 75.332\n",
      "- avs_net_cost           1   59.593 75.593\n",
      "- PC1                    1   59.937 75.937\n",
      "<none>                       58.227 76.227\n",
      "- GPA_trend              1   60.573 76.573\n",
      "+ s_start_age            1   58.210 78.210\n",
      "- factor(gap_indicator)  1   62.876 78.876\n",
      "+ factor(Citizenship)    7   56.672 88.672\n",
      "\n",
      "Step:  AIC=74.43\n",
      "Y ~ factor(Gender) + avs_net_cost + PC1 + PC2 + factor(gap_indicator) + \n",
      "    GPA_trend + s_start_year\n",
      "\n",
      "                        Df Deviance    AIC\n",
      "- s_start_year           1   58.598 72.598\n",
      "- PC2                    1   58.702 72.702\n",
      "- factor(Gender)         1   59.362 73.362\n",
      "- PC1                    1   59.944 73.944\n",
      "- avs_net_cost           1   60.040 74.040\n",
      "<none>                       58.429 74.429\n",
      "- GPA_trend              1   60.595 74.595\n",
      "+ PC3                    1   58.227 76.227\n",
      "+ s_start_age            1   58.418 76.418\n",
      "- factor(gap_indicator)  1   62.888 76.888\n",
      "+ factor(Citizenship)    7   56.747 86.747\n",
      "\n",
      "Step:  AIC=72.6\n",
      "Y ~ factor(Gender) + avs_net_cost + PC1 + PC2 + factor(gap_indicator) + \n",
      "    GPA_trend\n",
      "\n",
      "                        Df Deviance    AIC\n",
      "- PC2                    1   58.954 70.954\n",
      "- factor(Gender)         1   59.644 71.644\n",
      "- PC1                    1   60.377 72.377\n",
      "<none>                       58.598 72.598\n",
      "- avs_net_cost           1   60.870 72.870\n",
      "- GPA_trend              1   61.541 73.541\n",
      "+ s_start_year           1   58.429 74.429\n",
      "+ PC3                    1   58.448 74.448\n",
      "+ s_start_age            1   58.580 74.580\n",
      "- factor(gap_indicator)  1   63.398 75.398\n",
      "+ factor(Citizenship)    7   56.762 84.762\n",
      "\n",
      "Step:  AIC=70.95\n",
      "Y ~ factor(Gender) + avs_net_cost + PC1 + factor(gap_indicator) + \n",
      "    GPA_trend\n",
      "\n",
      "                        Df Deviance    AIC\n",
      "- factor(Gender)         1   60.169 70.169\n",
      "<none>                       58.954 70.954\n",
      "- avs_net_cost           1   61.168 71.168\n",
      "- PC1                    1   61.509 71.509\n",
      "- GPA_trend              1   61.737 71.737\n",
      "+ PC2                    1   58.598 72.598\n",
      "+ s_start_year           1   58.702 72.702\n",
      "+ s_start_age            1   58.942 72.942\n",
      "+ PC3                    1   58.942 72.942\n",
      "- factor(gap_indicator)  1   63.830 73.830\n",
      "+ factor(Citizenship)    7   57.074 83.074\n",
      "\n",
      "Step:  AIC=70.17\n",
      "Y ~ avs_net_cost + PC1 + factor(gap_indicator) + GPA_trend\n",
      "\n",
      "                        Df Deviance    AIC\n",
      "<none>                       60.169 70.169\n",
      "- avs_net_cost           1   62.334 70.334\n",
      "+ factor(Gender)         1   58.954 70.954\n",
      "- GPA_trend              1   63.573 71.573\n",
      "+ PC2                    1   59.644 71.644\n",
      "+ s_start_year           1   59.752 71.752\n",
      "- PC1                    1   63.874 71.874\n",
      "+ PC3                    1   60.124 72.124\n",
      "+ s_start_age            1   60.168 72.168\n",
      "- factor(gap_indicator)  1   64.170 72.170\n",
      "+ factor(Citizenship)    7   58.302 82.302\n"
     ]
    }
   ],
   "source": [
    "log_mod_m_aic= stepAIC(log_mod_m, direction = 'both')"
   ]
  },
  {
   "cell_type": "markdown",
   "metadata": {},
   "source": [
    "<b> Significant variables both AIC selects:"
   ]
  },
  {
   "cell_type": "code",
   "execution_count": 31,
   "metadata": {},
   "outputs": [
    {
     "data": {
      "text/plain": [
       "\n",
       "Call:\n",
       "glm(formula = Y ~ avs_net_cost + PC1 + factor(gap_indicator) + \n",
       "    GPA_trend, family = \"binomial\", data = Management_df)\n",
       "\n",
       "Deviance Residuals: \n",
       "    Min       1Q   Median       3Q      Max  \n",
       "-2.4385  -0.8551   0.6446   0.8944   1.7533  \n",
       "\n",
       "Coefficients:\n",
       "                       Estimate Std. Error z value Pr(>|z|)  \n",
       "(Intercept)               1.388      0.645   2.152   0.0314 *\n",
       "avs_net_cost              1.703      1.296   1.315   0.1886  \n",
       "PC1                       2.163      1.202   1.800   0.0719 .\n",
       "factor(gap_indicator)1   16.918   1692.845   0.010   0.9920  \n",
       "GPA_trend                 2.840      1.716   1.656   0.0978 .\n",
       "---\n",
       "Signif. codes:  0 '***' 0.001 '**' 0.01 '*' 0.05 '.' 0.1 ' ' 1\n",
       "\n",
       "(Dispersion parameter for binomial family taken to be 1)\n",
       "\n",
       "    Null deviance: 74.726  on 57  degrees of freedom\n",
       "Residual deviance: 60.169  on 53  degrees of freedom\n",
       "AIC: 70.169\n",
       "\n",
       "Number of Fisher Scoring iterations: 16\n"
      ]
     },
     "metadata": {},
     "output_type": "display_data"
    }
   ],
   "source": [
    "summary(log_mod_m_aic)"
   ]
  },
  {
   "cell_type": "markdown",
   "metadata": {},
   "source": [
    "<b> Both BIC:"
   ]
  },
  {
   "cell_type": "code",
   "execution_count": 32,
   "metadata": {
    "scrolled": false
   },
   "outputs": [
    {
     "name": "stdout",
     "output_type": "stream",
     "text": [
      "Start:  AIC=125.43\n",
      "Y ~ s_start_age + factor(Gender) + factor(Citizenship) + avs_net_cost + \n",
      "    PC1 + PC2 + PC3 + factor(gap_indicator) + GPA_trend + s_start_year\n",
      "\n",
      "                        Df Deviance     AIC\n",
      "- factor(Citizenship)    7   58.210  98.814\n",
      "- s_start_year           1   56.404 121.371\n",
      "- PC3                    1   56.453 121.420\n",
      "- s_start_age            1   56.672 121.640\n",
      "- PC2                    1   56.753 121.720\n",
      "- factor(Gender)         1   57.696 122.663\n",
      "- PC1                    1   57.867 122.834\n",
      "- GPA_trend              1   57.937 122.904\n",
      "- avs_net_cost           1   58.312 123.279\n",
      "- factor(gap_indicator)  1   60.177 125.144\n",
      "<none>                       56.399 125.427\n",
      "\n",
      "Step:  AIC=98.81\n",
      "Y ~ s_start_age + factor(Gender) + avs_net_cost + PC1 + PC2 + \n",
      "    PC3 + factor(gap_indicator) + GPA_trend + s_start_year\n",
      "\n",
      "                        Df Deviance     AIC\n",
      "- s_start_age            1   58.227  94.771\n",
      "- PC3                    1   58.418  94.962\n",
      "- s_start_year           1   58.423  94.967\n",
      "- PC2                    1   58.651  95.195\n",
      "- factor(Gender)         1   59.331  95.875\n",
      "- avs_net_cost           1   59.484  96.028\n",
      "- PC1                    1   59.937  96.481\n",
      "- GPA_trend              1   60.548  97.092\n",
      "<none>                       58.210  98.814\n",
      "- factor(gap_indicator)  1   62.871  99.415\n",
      "+ factor(Citizenship)    7   56.399 125.427\n",
      "\n",
      "Step:  AIC=94.77\n",
      "Y ~ factor(Gender) + avs_net_cost + PC1 + PC2 + PC3 + factor(gap_indicator) + \n",
      "    GPA_trend + s_start_year\n",
      "\n",
      "                        Df Deviance     AIC\n",
      "- PC3                    1   58.429  90.912\n",
      "- s_start_year           1   58.448  90.932\n",
      "- PC2                    1   58.657  91.141\n",
      "- factor(Gender)         1   59.332  91.815\n",
      "- avs_net_cost           1   59.593  92.076\n",
      "- PC1                    1   59.937  92.421\n",
      "- GPA_trend              1   60.573  93.057\n",
      "<none>                       58.227  94.771\n",
      "- factor(gap_indicator)  1   62.876  95.359\n",
      "+ s_start_age            1   58.210  98.814\n",
      "+ factor(Citizenship)    7   56.672 121.640\n",
      "\n",
      "Step:  AIC=90.91\n",
      "Y ~ factor(Gender) + avs_net_cost + PC1 + PC2 + factor(gap_indicator) + \n",
      "    GPA_trend + s_start_year\n",
      "\n",
      "                        Df Deviance     AIC\n",
      "- s_start_year           1   58.598  87.021\n",
      "- PC2                    1   58.702  87.125\n",
      "- factor(Gender)         1   59.362  87.785\n",
      "- PC1                    1   59.944  88.367\n",
      "- avs_net_cost           1   60.040  88.463\n",
      "- GPA_trend              1   60.595  89.018\n",
      "<none>                       58.429  90.912\n",
      "- factor(gap_indicator)  1   62.888  91.311\n",
      "+ PC3                    1   58.227  94.771\n",
      "+ s_start_age            1   58.418  94.962\n",
      "+ factor(Citizenship)    7   56.747 117.654\n",
      "\n",
      "Step:  AIC=87.02\n",
      "Y ~ factor(Gender) + avs_net_cost + PC1 + PC2 + factor(gap_indicator) + \n",
      "    GPA_trend\n",
      "\n",
      "                        Df Deviance     AIC\n",
      "- PC2                    1   58.954  83.317\n",
      "- factor(Gender)         1   59.644  84.006\n",
      "- PC1                    1   60.377  84.740\n",
      "- avs_net_cost           1   60.870  85.232\n",
      "- GPA_trend              1   61.541  85.904\n",
      "<none>                       58.598  87.021\n",
      "- factor(gap_indicator)  1   63.398  87.761\n",
      "+ s_start_year           1   58.429  90.912\n",
      "+ PC3                    1   58.448  90.932\n",
      "+ s_start_age            1   58.580  91.064\n",
      "+ factor(Citizenship)    7   56.762 113.609\n",
      "\n",
      "Step:  AIC=83.32\n",
      "Y ~ factor(Gender) + avs_net_cost + PC1 + factor(gap_indicator) + \n",
      "    GPA_trend\n",
      "\n",
      "                        Df Deviance     AIC\n",
      "- factor(Gender)         1   60.169  80.471\n",
      "- avs_net_cost           1   61.168  81.470\n",
      "- PC1                    1   61.509  81.811\n",
      "- GPA_trend              1   61.737  82.039\n",
      "<none>                       58.954  83.317\n",
      "- factor(gap_indicator)  1   63.830  84.133\n",
      "+ PC2                    1   58.598  87.021\n",
      "+ s_start_year           1   58.702  87.125\n",
      "+ s_start_age            1   58.942  87.365\n",
      "+ PC3                    1   58.942  87.365\n",
      "+ factor(Citizenship)    7   57.074 109.860\n",
      "\n",
      "Step:  AIC=80.47\n",
      "Y ~ avs_net_cost + PC1 + factor(gap_indicator) + GPA_trend\n",
      "\n",
      "                        Df Deviance     AIC\n",
      "- avs_net_cost           1   62.334  78.576\n",
      "- GPA_trend              1   63.573  79.814\n",
      "- PC1                    1   63.874  80.116\n",
      "- factor(gap_indicator)  1   64.170  80.412\n",
      "<none>                       60.169  80.471\n",
      "+ factor(Gender)         1   58.954  83.317\n",
      "+ PC2                    1   59.644  84.006\n",
      "+ s_start_year           1   59.752  84.115\n",
      "+ PC3                    1   60.124  84.486\n",
      "+ s_start_age            1   60.168  84.531\n",
      "+ factor(Citizenship)    7   58.302 107.027\n",
      "\n",
      "Step:  AIC=78.58\n",
      "Y ~ PC1 + factor(gap_indicator) + GPA_trend\n",
      "\n",
      "                        Df Deviance     AIC\n",
      "- GPA_trend              1   64.973  77.155\n",
      "- PC1                    1   66.297  78.478\n",
      "- factor(gap_indicator)  1   66.377  78.559\n",
      "<none>                       62.334  78.576\n",
      "+ avs_net_cost           1   60.169  80.471\n",
      "+ s_start_year           1   61.097  81.399\n",
      "+ factor(Gender)         1   61.168  81.470\n",
      "+ PC2                    1   61.896  82.198\n",
      "+ s_start_age            1   62.191  82.493\n",
      "+ PC3                    1   62.334  82.636\n",
      "+ factor(Citizenship)    7   60.883 105.548\n",
      "\n",
      "Step:  AIC=77.15\n",
      "Y ~ PC1 + factor(gap_indicator)\n",
      "\n",
      "                        Df Deviance     AIC\n",
      "<none>                       64.973  77.155\n",
      "- factor(gap_indicator)  1   69.319  77.440\n",
      "- PC1                    1   70.252  78.373\n",
      "+ GPA_trend              1   62.334  78.576\n",
      "+ s_start_year           1   62.695  78.937\n",
      "+ factor(Gender)         1   63.250  79.492\n",
      "+ avs_net_cost           1   63.573  79.814\n",
      "+ PC3                    1   64.526  80.768\n",
      "+ PC2                    1   64.748  80.989\n",
      "+ s_start_age            1   64.959  81.201\n",
      "+ factor(Citizenship)    7   63.111 103.715\n"
     ]
    }
   ],
   "source": [
    "log_mod_m_bic = stepAIC(log_mod_m, direction = \"both\", k = log(c_n))"
   ]
  },
  {
   "cell_type": "markdown",
   "metadata": {},
   "source": [
    "<b> Significant variables both BIC selects:"
   ]
  },
  {
   "cell_type": "code",
   "execution_count": 33,
   "metadata": {},
   "outputs": [
    {
     "data": {
      "text/html": [
       "<table>\n",
       "<thead><tr><th></th><th scope=col>Estimate</th><th scope=col>Pr(&gt;|z|)</th></tr></thead>\n",
       "<tbody>\n",
       "\t<tr><th scope=row>(Intercept)</th><td>0.63510</td><td>0.03684</td></tr>\n",
       "\t<tr><th scope=row>PC1</th><td>2.37914</td><td>0.03670</td></tr>\n",
       "</tbody>\n",
       "</table>\n"
      ],
      "text/latex": [
       "\\begin{tabular}{r|ll}\n",
       "  & Estimate & Pr(>\\textbar{}z\\textbar{})\\\\\n",
       "\\hline\n",
       "\t(Intercept) & 0.63510 & 0.03684\\\\\n",
       "\tPC1 & 2.37914 & 0.03670\\\\\n",
       "\\end{tabular}\n"
      ],
      "text/markdown": [
       "\n",
       "| <!--/--> | Estimate | Pr(>|z|) |\n",
       "|---|---|---|\n",
       "| (Intercept) | 0.63510 | 0.03684 |\n",
       "| PC1 | 2.37914 | 0.03670 |\n",
       "\n"
      ],
      "text/plain": [
       "            Estimate Pr(>|z|)\n",
       "(Intercept) 0.63510  0.03684 \n",
       "PC1         2.37914  0.03670 "
      ]
     },
     "metadata": {},
     "output_type": "display_data"
    },
    {
     "data": {
      "text/plain": [
       "\n",
       "Call:\n",
       "glm(formula = Y ~ PC1 + factor(gap_indicator), family = \"binomial\", \n",
       "    data = Management_df)\n",
       "\n",
       "Deviance Residuals: \n",
       "    Min       1Q   Median       3Q      Max  \n",
       "-1.6918  -1.1190   0.7180   0.9222   1.9057  \n",
       "\n",
       "Coefficients:\n",
       "                        Estimate Std. Error z value Pr(>|z|)  \n",
       "(Intercept)               0.6351     0.3042   2.088   0.0368 *\n",
       "PC1                       2.3791     1.1389   2.089   0.0367 *\n",
       "factor(gap_indicator)1   17.0024  1719.3142   0.010   0.9921  \n",
       "---\n",
       "Signif. codes:  0 '***' 0.001 '**' 0.01 '*' 0.05 '.' 0.1 ' ' 1\n",
       "\n",
       "(Dispersion parameter for binomial family taken to be 1)\n",
       "\n",
       "    Null deviance: 74.726  on 57  degrees of freedom\n",
       "Residual deviance: 64.973  on 55  degrees of freedom\n",
       "AIC: 70.973\n",
       "\n",
       "Number of Fisher Scoring iterations: 16\n"
      ]
     },
     "metadata": {},
     "output_type": "display_data"
    }
   ],
   "source": [
    "round(summary(log_mod_m_bic)$coeff[which(summary(log_mod_m_bic)$coef[,4] <= .05),c(1,4)],5)\n",
    "summary(log_mod_m_bic)"
   ]
  },
  {
   "cell_type": "markdown",
   "metadata": {},
   "source": [
    "# Nursing Analysis"
   ]
  },
  {
   "cell_type": "markdown",
   "metadata": {},
   "source": [
    "<b> Logistic regression model:"
   ]
  },
  {
   "cell_type": "code",
   "execution_count": 34,
   "metadata": {},
   "outputs": [
    {
     "data": {
      "text/plain": [
       "\n",
       "Call:\n",
       "glm(formula = Y ~ s_start_age + factor(Gender) + factor(funding_indicator) + \n",
       "    factor(Citizenship) + avs_net_cost + PC1 + PC2 + PC3 + factor(gap_indicator) + \n",
       "    GPA_trend + s_start_year, family = \"binomial\", data = Nursing_df)\n",
       "\n",
       "Deviance Residuals: \n",
       "    Min       1Q   Median       3Q      Max  \n",
       "-2.2197  -0.9799   0.3417   0.9461   1.5818  \n",
       "\n",
       "Coefficients:\n",
       "                                              Estimate Std. Error z value\n",
       "(Intercept)                                     0.7180     0.5011   1.433\n",
       "s_start_age                                    -0.2134     0.1670  -1.278\n",
       "factor(Gender)Male                              0.2041     0.7147   0.286\n",
       "factor(funding_indicator)1                      0.4484     0.5059   0.886\n",
       "factor(Citizenship)Africa                      16.6571  2224.0360   0.007\n",
       "factor(Citizenship)Asia                         0.1680     1.3517   0.124\n",
       "factor(Citizenship)Asian                        0.9042     0.9390   0.963\n",
       "factor(Citizenship)Black or African American   -0.9329     1.1554  -0.807\n",
       "factor(Citizenship)China                      -18.1267  3956.1804  -0.005\n",
       "factor(Citizenship)Hispanic or Latino          18.8713  1913.0891   0.010\n",
       "factor(Citizenship)Unknown                     -0.1639     0.9760  -0.168\n",
       "avs_net_cost                                   -0.0491     0.3902  -0.126\n",
       "PC1                                            -3.3016     2.3244  -1.420\n",
       "PC2                                            -1.5071     1.2858  -1.172\n",
       "PC3                                            -1.3977     0.7011  -1.994\n",
       "factor(gap_indicator)1                          0.6478     0.7655   0.846\n",
       "GPA_trend                                      -0.6391     2.2680  -0.282\n",
       "s_start_year                                   -0.7748     0.3084  -2.512\n",
       "                                             Pr(>|z|)  \n",
       "(Intercept)                                    0.1519  \n",
       "s_start_age                                    0.2013  \n",
       "factor(Gender)Male                             0.7752  \n",
       "factor(funding_indicator)1                     0.3755  \n",
       "factor(Citizenship)Africa                      0.9940  \n",
       "factor(Citizenship)Asia                        0.9011  \n",
       "factor(Citizenship)Asian                       0.3356  \n",
       "factor(Citizenship)Black or African American   0.4194  \n",
       "factor(Citizenship)China                       0.9963  \n",
       "factor(Citizenship)Hispanic or Latino          0.9921  \n",
       "factor(Citizenship)Unknown                     0.8666  \n",
       "avs_net_cost                                   0.8999  \n",
       "PC1                                            0.1555  \n",
       "PC2                                            0.2411  \n",
       "PC3                                            0.0462 *\n",
       "factor(gap_indicator)1                         0.3974  \n",
       "GPA_trend                                      0.7781  \n",
       "s_start_year                                   0.0120 *\n",
       "---\n",
       "Signif. codes:  0 '***' 0.001 '**' 0.01 '*' 0.05 '.' 0.1 ' ' 1\n",
       "\n",
       "(Dispersion parameter for binomial family taken to be 1)\n",
       "\n",
       "    Null deviance: 155.91  on 116  degrees of freedom\n",
       "Residual deviance: 123.90  on  99  degrees of freedom\n",
       "AIC: 159.9\n",
       "\n",
       "Number of Fisher Scoring iterations: 16\n"
      ]
     },
     "metadata": {},
     "output_type": "display_data"
    }
   ],
   "source": [
    "log_mod_n = glm(Y~s_start_age+factor(Gender)+factor(funding_indicator)+factor(Citizenship)+\n",
    "                avs_net_cost+PC1+PC2+PC3+factor(gap_indicator)+GPA_trend+s_start_year,\n",
    "                data=Nursing_df,family=\"binomial\")\n",
    "summary(log_mod_n)"
   ]
  },
  {
   "cell_type": "markdown",
   "metadata": {},
   "source": [
    "<b> Significant Variables of logistic regression model: "
   ]
  },
  {
   "cell_type": "code",
   "execution_count": 35,
   "metadata": {},
   "outputs": [
    {
     "data": {
      "text/html": [
       "<table>\n",
       "<thead><tr><th></th><th scope=col>Estimate</th><th scope=col>Pr(&gt;|z|)</th></tr></thead>\n",
       "<tbody>\n",
       "\t<tr><th scope=row>PC3</th><td>-1.39774</td><td>0.04619 </td></tr>\n",
       "\t<tr><th scope=row>s_start_year</th><td>-0.77483</td><td>0.01200 </td></tr>\n",
       "</tbody>\n",
       "</table>\n"
      ],
      "text/latex": [
       "\\begin{tabular}{r|ll}\n",
       "  & Estimate & Pr(>\\textbar{}z\\textbar{})\\\\\n",
       "\\hline\n",
       "\tPC3 & -1.39774 & 0.04619 \\\\\n",
       "\ts\\_start\\_year & -0.77483 & 0.01200 \\\\\n",
       "\\end{tabular}\n"
      ],
      "text/markdown": [
       "\n",
       "| <!--/--> | Estimate | Pr(>|z|) |\n",
       "|---|---|---|\n",
       "| PC3 | -1.39774 | 0.04619  |\n",
       "| s_start_year | -0.77483 | 0.01200  |\n",
       "\n"
      ],
      "text/plain": [
       "             Estimate Pr(>|z|)\n",
       "PC3          -1.39774 0.04619 \n",
       "s_start_year -0.77483 0.01200 "
      ]
     },
     "metadata": {},
     "output_type": "display_data"
    }
   ],
   "source": [
    "round(summary(log_mod_n)$coeff[which(summary(log_mod_n)$coef[,4] <= .05),c(1,4)],5)"
   ]
  },
  {
   "cell_type": "markdown",
   "metadata": {},
   "source": [
    "<b> Both AIC:"
   ]
  },
  {
   "cell_type": "code",
   "execution_count": 36,
   "metadata": {
    "scrolled": false
   },
   "outputs": [
    {
     "name": "stdout",
     "output_type": "stream",
     "text": [
      "Start:  AIC=159.9\n",
      "Y ~ s_start_age + factor(Gender) + factor(funding_indicator) + \n",
      "    factor(Citizenship) + avs_net_cost + PC1 + PC2 + PC3 + factor(gap_indicator) + \n",
      "    GPA_trend + s_start_year\n",
      "\n",
      "                            Df Deviance    AIC\n",
      "- avs_net_cost               1   123.92 157.92\n",
      "- GPA_trend                  1   123.98 157.98\n",
      "- factor(Gender)             1   123.98 157.98\n",
      "- factor(gap_indicator)      1   124.65 158.65\n",
      "- factor(funding_indicator)  1   124.70 158.70\n",
      "- factor(Citizenship)        7   137.48 159.48\n",
      "- PC2                        1   125.49 159.49\n",
      "- s_start_age                1   125.58 159.58\n",
      "<none>                           123.90 159.90\n",
      "- PC1                        1   127.22 161.22\n",
      "- PC3                        1   127.93 161.93\n",
      "- s_start_year               1   132.68 166.68\n",
      "\n",
      "Step:  AIC=157.92\n",
      "Y ~ s_start_age + factor(Gender) + factor(funding_indicator) + \n",
      "    factor(Citizenship) + PC1 + PC2 + PC3 + factor(gap_indicator) + \n",
      "    GPA_trend + s_start_year\n",
      "\n",
      "                            Df Deviance    AIC\n",
      "- factor(Gender)             1   123.99 155.99\n",
      "- GPA_trend                  1   124.00 156.00\n",
      "- factor(gap_indicator)      1   124.69 156.69\n",
      "- factor(funding_indicator)  1   124.82 156.82\n",
      "- PC2                        1   125.50 157.50\n",
      "- factor(Citizenship)        7   137.50 157.50\n",
      "- s_start_age                1   125.66 157.66\n",
      "<none>                           123.92 157.92\n",
      "- PC1                        1   127.22 159.22\n",
      "+ avs_net_cost               1   123.90 159.90\n",
      "- PC3                        1   127.93 159.93\n",
      "- s_start_year               1   132.86 164.86\n",
      "\n",
      "Step:  AIC=155.99\n",
      "Y ~ s_start_age + factor(funding_indicator) + factor(Citizenship) + \n",
      "    PC1 + PC2 + PC3 + factor(gap_indicator) + GPA_trend + s_start_year\n",
      "\n",
      "                            Df Deviance    AIC\n",
      "- GPA_trend                  1   124.09 154.09\n",
      "- factor(gap_indicator)      1   124.79 154.79\n",
      "- factor(funding_indicator)  1   124.97 154.97\n",
      "- PC2                        1   125.50 155.50\n",
      "- factor(Citizenship)        7   137.51 155.51\n",
      "- s_start_age                1   125.80 155.80\n",
      "<none>                           123.99 155.99\n",
      "- PC1                        1   127.23 157.23\n",
      "+ factor(Gender)             1   123.92 157.92\n",
      "- PC3                        1   127.94 157.94\n",
      "+ avs_net_cost               1   123.98 157.98\n",
      "- s_start_year               1   132.87 162.87\n",
      "\n",
      "Step:  AIC=154.09\n",
      "Y ~ s_start_age + factor(funding_indicator) + factor(Citizenship) + \n",
      "    PC1 + PC2 + PC3 + factor(gap_indicator) + s_start_year\n",
      "\n",
      "                            Df Deviance    AIC\n",
      "- factor(gap_indicator)      1   124.93 152.93\n",
      "- factor(funding_indicator)  1   125.11 153.11\n",
      "- factor(Citizenship)        7   137.67 153.67\n",
      "- PC2                        1   125.69 153.69\n",
      "- s_start_age                1   125.85 153.85\n",
      "<none>                           124.09 154.09\n",
      "- PC1                        1   127.33 155.33\n",
      "+ GPA_trend                  1   123.99 155.99\n",
      "+ factor(Gender)             1   124.00 156.00\n",
      "+ avs_net_cost               1   124.08 156.08\n",
      "- PC3                        1   128.14 156.14\n",
      "- s_start_year               1   132.87 160.87\n",
      "\n",
      "Step:  AIC=152.93\n",
      "Y ~ s_start_age + factor(funding_indicator) + factor(Citizenship) + \n",
      "    PC1 + PC2 + PC3 + s_start_year\n",
      "\n",
      "                            Df Deviance    AIC\n",
      "- factor(funding_indicator)  1   125.67 151.67\n",
      "- PC2                        1   126.52 152.52\n",
      "- s_start_age                1   126.57 152.57\n",
      "<none>                           124.93 152.93\n",
      "+ factor(gap_indicator)      1   124.09 154.09\n",
      "- PC1                        1   128.15 154.15\n",
      "- factor(Citizenship)        7   140.66 154.66\n",
      "+ GPA_trend                  1   124.79 154.79\n",
      "+ factor(Gender)             1   124.81 154.81\n",
      "+ avs_net_cost               1   124.90 154.90\n",
      "- PC3                        1   129.03 155.03\n",
      "- s_start_year               1   133.67 159.67\n",
      "\n",
      "Step:  AIC=151.67\n",
      "Y ~ s_start_age + factor(Citizenship) + PC1 + PC2 + PC3 + s_start_year\n",
      "\n",
      "                            Df Deviance    AIC\n",
      "- PC2                        1   127.24 151.24\n",
      "<none>                           125.67 151.67\n",
      "- s_start_age                1   128.28 152.28\n",
      "+ factor(funding_indicator)  1   124.93 152.93\n",
      "+ factor(gap_indicator)      1   125.11 153.11\n",
      "- PC1                        1   129.18 153.18\n",
      "- factor(Citizenship)        7   141.41 153.41\n",
      "+ factor(Gender)             1   125.47 153.47\n",
      "+ GPA_trend                  1   125.49 153.49\n",
      "+ avs_net_cost               1   125.55 153.55\n",
      "- PC3                        1   129.76 153.76\n",
      "- s_start_year               1   134.15 158.15\n",
      "\n",
      "Step:  AIC=151.24\n",
      "Y ~ s_start_age + factor(Citizenship) + PC1 + PC3 + s_start_year\n",
      "\n",
      "                            Df Deviance    AIC\n",
      "<none>                           127.24 151.24\n",
      "+ PC2                        1   125.67 151.67\n",
      "- s_start_age                1   129.79 151.79\n",
      "- PC1                        1   130.45 152.45\n",
      "+ factor(funding_indicator)  1   126.52 152.52\n",
      "+ factor(gap_indicator)      1   126.70 152.70\n",
      "+ GPA_trend                  1   126.94 152.94\n",
      "+ avs_net_cost               1   127.10 153.10\n",
      "+ factor(Gender)             1   127.22 153.22\n",
      "- factor(Citizenship)        7   143.36 153.36\n",
      "- PC3                        1   134.45 156.45\n",
      "- s_start_year               1   136.28 158.28\n"
     ]
    }
   ],
   "source": [
    "log_mod_n_aic= stepAIC(log_mod_n, direction = 'both')"
   ]
  },
  {
   "cell_type": "markdown",
   "metadata": {},
   "source": [
    "<b> Significant variables both AIC selects:"
   ]
  },
  {
   "cell_type": "code",
   "execution_count": 37,
   "metadata": {},
   "outputs": [
    {
     "data": {
      "text/html": [
       "<table>\n",
       "<thead><tr><th></th><th scope=col>Estimate</th><th scope=col>Pr(&gt;|z|)</th></tr></thead>\n",
       "<tbody>\n",
       "\t<tr><th scope=row>(Intercept)</th><td> 1.01133</td><td>0.00927 </td></tr>\n",
       "\t<tr><th scope=row>PC3</th><td>-1.56605</td><td>0.01369 </td></tr>\n",
       "\t<tr><th scope=row>s_start_year</th><td>-0.75705</td><td>0.01073 </td></tr>\n",
       "</tbody>\n",
       "</table>\n"
      ],
      "text/latex": [
       "\\begin{tabular}{r|ll}\n",
       "  & Estimate & Pr(>\\textbar{}z\\textbar{})\\\\\n",
       "\\hline\n",
       "\t(Intercept) &  1.01133 & 0.00927 \\\\\n",
       "\tPC3 & -1.56605 & 0.01369 \\\\\n",
       "\ts\\_start\\_year & -0.75705 & 0.01073 \\\\\n",
       "\\end{tabular}\n"
      ],
      "text/markdown": [
       "\n",
       "| <!--/--> | Estimate | Pr(>|z|) |\n",
       "|---|---|---|\n",
       "| (Intercept) |  1.01133 | 0.00927  |\n",
       "| PC3 | -1.56605 | 0.01369  |\n",
       "| s_start_year | -0.75705 | 0.01073  |\n",
       "\n"
      ],
      "text/plain": [
       "             Estimate Pr(>|z|)\n",
       "(Intercept)   1.01133 0.00927 \n",
       "PC3          -1.56605 0.01369 \n",
       "s_start_year -0.75705 0.01073 "
      ]
     },
     "metadata": {},
     "output_type": "display_data"
    }
   ],
   "source": [
    "round(summary(log_mod_n_aic)$coeff[which(summary(log_mod_n_aic)$coef[,4] <= .05),c(1,4)],5)"
   ]
  },
  {
   "cell_type": "markdown",
   "metadata": {},
   "source": [
    "<b> Both BIC:"
   ]
  },
  {
   "cell_type": "code",
   "execution_count": 38,
   "metadata": {
    "scrolled": false
   },
   "outputs": [
    {
     "name": "stdout",
     "output_type": "stream",
     "text": [
      "Start:  AIC=209.62\n",
      "Y ~ s_start_age + factor(Gender) + factor(funding_indicator) + \n",
      "    factor(Citizenship) + avs_net_cost + PC1 + PC2 + PC3 + factor(gap_indicator) + \n",
      "    GPA_trend + s_start_year\n",
      "\n",
      "                            Df Deviance    AIC\n",
      "- factor(Citizenship)        7   137.48 189.86\n",
      "- avs_net_cost               1   123.92 204.87\n",
      "- GPA_trend                  1   123.98 204.94\n",
      "- factor(Gender)             1   123.98 204.94\n",
      "- factor(gap_indicator)      1   124.65 205.60\n",
      "- factor(funding_indicator)  1   124.70 205.66\n",
      "- PC2                        1   125.49 206.45\n",
      "- s_start_age                1   125.58 206.53\n",
      "- PC1                        1   127.22 208.18\n",
      "- PC3                        1   127.93 208.88\n",
      "<none>                           123.90 209.62\n",
      "- s_start_year               1   132.68 213.63\n",
      "\n",
      "Step:  AIC=189.86\n",
      "Y ~ s_start_age + factor(Gender) + factor(funding_indicator) + \n",
      "    avs_net_cost + PC1 + PC2 + PC3 + factor(gap_indicator) + \n",
      "    GPA_trend + s_start_year\n",
      "\n",
      "                            Df Deviance    AIC\n",
      "- factor(Gender)             1   137.49 185.11\n",
      "- avs_net_cost               1   137.50 185.12\n",
      "- GPA_trend                  1   137.64 185.26\n",
      "- PC3                        1   138.24 185.86\n",
      "- factor(funding_indicator)  1   138.71 186.33\n",
      "- s_start_age                1   138.98 186.60\n",
      "- PC1                        1   139.19 186.81\n",
      "- PC2                        1   139.26 186.88\n",
      "- factor(gap_indicator)      1   140.24 187.86\n",
      "<none>                           137.48 189.86\n",
      "- s_start_year               1   146.34 193.96\n",
      "+ factor(Citizenship)        7   123.90 209.62\n",
      "\n",
      "Step:  AIC=185.11\n",
      "Y ~ s_start_age + factor(funding_indicator) + avs_net_cost + \n",
      "    PC1 + PC2 + PC3 + factor(gap_indicator) + GPA_trend + s_start_year\n",
      "\n",
      "                            Df Deviance    AIC\n",
      "- avs_net_cost               1   137.51 180.37\n",
      "- GPA_trend                  1   137.64 180.50\n",
      "- PC3                        1   138.24 181.10\n",
      "- factor(funding_indicator)  1   138.71 181.57\n",
      "- s_start_age                1   138.99 181.85\n",
      "- PC1                        1   139.21 182.07\n",
      "- PC2                        1   139.39 182.25\n",
      "- factor(gap_indicator)      1   140.24 183.10\n",
      "<none>                           137.49 185.11\n",
      "- s_start_year               1   146.44 189.30\n",
      "+ factor(Gender)             1   137.48 189.86\n",
      "+ factor(Citizenship)        7   123.98 204.94\n",
      "\n",
      "Step:  AIC=180.37\n",
      "Y ~ s_start_age + factor(funding_indicator) + PC1 + PC2 + PC3 + \n",
      "    factor(gap_indicator) + GPA_trend + s_start_year\n",
      "\n",
      "                            Df Deviance    AIC\n",
      "- GPA_trend                  1   137.67 175.77\n",
      "- PC3                        1   138.25 176.35\n",
      "- factor(funding_indicator)  1   138.97 177.07\n",
      "- s_start_age                1   139.02 177.12\n",
      "- PC1                        1   139.21 177.31\n",
      "- PC2                        1   139.40 177.50\n",
      "- factor(gap_indicator)      1   140.29 178.39\n",
      "<none>                           137.51 180.37\n",
      "+ avs_net_cost               1   137.49 185.11\n",
      "+ factor(Gender)             1   137.50 185.12\n",
      "- s_start_year               1   147.10 185.20\n",
      "+ factor(Citizenship)        7   123.99 200.19\n",
      "\n",
      "Step:  AIC=175.77\n",
      "Y ~ s_start_age + factor(funding_indicator) + PC1 + PC2 + PC3 + \n",
      "    factor(gap_indicator) + s_start_year\n",
      "\n",
      "                            Df Deviance    AIC\n",
      "- PC3                        1   138.42 171.76\n",
      "- s_start_age                1   139.09 172.42\n",
      "- factor(funding_indicator)  1   139.17 172.51\n",
      "- PC1                        1   139.35 172.69\n",
      "- PC2                        1   139.67 173.01\n",
      "- factor(gap_indicator)      1   140.66 173.99\n",
      "<none>                           137.67 175.77\n",
      "+ GPA_trend                  1   137.51 180.37\n",
      "- s_start_year               1   147.11 180.45\n",
      "+ avs_net_cost               1   137.64 180.50\n",
      "+ factor(Gender)             1   137.66 180.52\n",
      "+ factor(Citizenship)        7   124.09 195.52\n",
      "\n",
      "Step:  AIC=171.76\n",
      "Y ~ s_start_age + factor(funding_indicator) + PC1 + PC2 + factor(gap_indicator) + \n",
      "    s_start_year\n",
      "\n",
      "                            Df Deviance    AIC\n",
      "- PC1                        1   139.35 167.93\n",
      "- s_start_age                1   139.56 168.13\n",
      "- factor(funding_indicator)  1   139.82 168.40\n",
      "- factor(gap_indicator)      1   141.40 169.97\n",
      "- PC2                        1   142.13 170.70\n",
      "<none>                           138.42 171.76\n",
      "+ PC3                        1   137.67 175.77\n",
      "- s_start_year               1   147.71 176.28\n",
      "+ GPA_trend                  1   138.25 176.35\n",
      "+ avs_net_cost               1   138.41 176.51\n",
      "+ factor(Gender)             1   138.42 176.52\n",
      "+ factor(Citizenship)        7   128.14 194.81\n",
      "\n",
      "Step:  AIC=167.92\n",
      "Y ~ s_start_age + factor(funding_indicator) + PC2 + factor(gap_indicator) + \n",
      "    s_start_year\n",
      "\n",
      "                            Df Deviance    AIC\n",
      "- s_start_age                1   140.59 164.40\n",
      "- factor(funding_indicator)  1   140.89 164.70\n",
      "- PC2                        1   142.16 165.97\n",
      "- factor(gap_indicator)      1   142.32 166.13\n",
      "<none>                           139.35 167.93\n",
      "+ PC1                        1   138.42 171.76\n",
      "- s_start_year               1   148.19 172.00\n",
      "+ GPA_trend                  1   139.22 172.55\n",
      "+ factor(Gender)             1   139.33 172.67\n",
      "+ avs_net_cost               1   139.35 172.69\n",
      "+ PC3                        1   139.35 172.69\n",
      "+ factor(Citizenship)        7   128.34 190.25\n",
      "\n",
      "Step:  AIC=164.4\n",
      "Y ~ factor(funding_indicator) + PC2 + factor(gap_indicator) + \n",
      "    s_start_year\n",
      "\n",
      "                            Df Deviance    AIC\n",
      "- factor(gap_indicator)      1   143.30 162.35\n",
      "- factor(funding_indicator)  1   143.44 162.48\n",
      "- PC2                        1   143.44 162.49\n",
      "<none>                           140.59 164.40\n",
      "- s_start_year               1   148.84 167.89\n",
      "+ s_start_age                1   139.35 167.93\n",
      "+ PC1                        1   139.56 168.13\n",
      "+ GPA_trend                  1   140.54 169.11\n",
      "+ PC3                        1   140.55 169.13\n",
      "+ factor(Gender)             1   140.59 169.16\n",
      "+ avs_net_cost               1   140.59 169.16\n",
      "+ factor(Citizenship)        7   129.26 186.41\n",
      "\n",
      "Step:  AIC=162.35\n",
      "Y ~ factor(funding_indicator) + PC2 + s_start_year\n",
      "\n",
      "                            Df Deviance    AIC\n",
      "- factor(funding_indicator)  1   144.91 159.20\n",
      "- PC2                        1   146.31 160.60\n",
      "<none>                           143.30 162.35\n",
      "+ factor(gap_indicator)      1   140.59 164.40\n",
      "- s_start_year               1   151.03 165.32\n",
      "+ PC1                        1   142.24 166.05\n",
      "+ s_start_age                1   142.32 166.13\n",
      "+ GPA_trend                  1   143.12 166.93\n",
      "+ PC3                        1   143.25 167.06\n",
      "+ factor(Gender)             1   143.29 167.10\n",
      "+ avs_net_cost               1   143.29 167.10\n",
      "+ factor(Citizenship)        7   130.05 182.43\n",
      "\n",
      "Step:  AIC=159.2\n",
      "Y ~ PC2 + s_start_year\n",
      "\n",
      "                            Df Deviance    AIC\n",
      "- PC2                        1   147.75 157.28\n",
      "<none>                           144.91 159.20\n",
      "- s_start_year               1   152.36 161.89\n",
      "+ s_start_age                1   143.07 162.11\n",
      "+ factor(funding_indicator)  1   143.30 162.35\n",
      "+ factor(gap_indicator)      1   143.44 162.48\n",
      "+ PC1                        1   143.68 162.73\n",
      "+ avs_net_cost               1   144.70 163.75\n",
      "+ GPA_trend                  1   144.76 163.81\n",
      "+ PC3                        1   144.78 163.83\n",
      "+ factor(Gender)             1   144.88 163.93\n",
      "+ factor(Citizenship)        7   131.64 179.26\n",
      "\n",
      "Step:  AIC=157.28\n",
      "Y ~ s_start_year\n",
      "\n",
      "                            Df Deviance    AIC\n",
      "<none>                           147.75 157.28\n",
      "+ PC2                        1   144.91 159.20\n",
      "+ s_start_age                1   145.94 160.23\n",
      "+ factor(gap_indicator)      1   146.09 160.38\n",
      "+ factor(funding_indicator)  1   146.31 160.60\n",
      "- s_start_year               1   155.91 160.67\n",
      "+ PC3                        1   147.31 161.59\n",
      "+ GPA_trend                  1   147.36 161.65\n",
      "+ PC1                        1   147.59 161.88\n",
      "+ avs_net_cost               1   147.67 161.96\n",
      "+ factor(Gender)             1   147.74 162.03\n",
      "+ factor(Citizenship)        7   135.72 178.58\n"
     ]
    }
   ],
   "source": [
    "log_mod_n_bic = stepAIC(log_mod_n, direction = \"both\", k = log(d_n))"
   ]
  },
  {
   "cell_type": "markdown",
   "metadata": {},
   "source": [
    "<b> Significant variables both BIC selects:"
   ]
  },
  {
   "cell_type": "code",
   "execution_count": 39,
   "metadata": {},
   "outputs": [
    {
     "data": {
      "text/html": [
       "<table>\n",
       "<thead><tr><th></th><th scope=col>Estimate</th><th scope=col>Pr(&gt;|z|)</th></tr></thead>\n",
       "<tbody>\n",
       "\t<tr><th scope=row>(Intercept)</th><td> 0.73862</td><td>0.00187 </td></tr>\n",
       "\t<tr><th scope=row>s_start_year</th><td>-0.62592</td><td>0.01300 </td></tr>\n",
       "</tbody>\n",
       "</table>\n"
      ],
      "text/latex": [
       "\\begin{tabular}{r|ll}\n",
       "  & Estimate & Pr(>\\textbar{}z\\textbar{})\\\\\n",
       "\\hline\n",
       "\t(Intercept) &  0.73862 & 0.00187 \\\\\n",
       "\ts\\_start\\_year & -0.62592 & 0.01300 \\\\\n",
       "\\end{tabular}\n"
      ],
      "text/markdown": [
       "\n",
       "| <!--/--> | Estimate | Pr(>|z|) |\n",
       "|---|---|---|\n",
       "| (Intercept) |  0.73862 | 0.00187  |\n",
       "| s_start_year | -0.62592 | 0.01300  |\n",
       "\n"
      ],
      "text/plain": [
       "             Estimate Pr(>|z|)\n",
       "(Intercept)   0.73862 0.00187 \n",
       "s_start_year -0.62592 0.01300 "
      ]
     },
     "metadata": {},
     "output_type": "display_data"
    }
   ],
   "source": [
    "round(summary(log_mod_n_bic)$coeff[which(summary(log_mod_n_bic)$coef[,4] <= .05),c(1,4)],5)"
   ]
  },
  {
   "cell_type": "markdown",
   "metadata": {},
   "source": [
    "# Watson Analysis "
   ]
  },
  {
   "cell_type": "markdown",
   "metadata": {},
   "source": [
    "<b> Logistic regression model:"
   ]
  },
  {
   "cell_type": "code",
   "execution_count": 40,
   "metadata": {},
   "outputs": [
    {
     "data": {
      "text/plain": [
       "\n",
       "Call:\n",
       "glm(formula = Y ~ s_start_age + factor(Gender) + factor(funding_indicator) + \n",
       "    factor(Citizenship) + avs_net_cost + PC1 + PC2 + PC3 + factor(gap_indicator) + \n",
       "    GPA_trend + s_start_year, family = \"binomial\", data = Watson_df)\n",
       "\n",
       "Deviance Residuals: \n",
       "    Min       1Q   Median       3Q      Max  \n",
       "-2.8526  -0.8246   0.5108   0.7890   1.8463  \n",
       "\n",
       "Coefficients:\n",
       "                                                 Estimate Std. Error z value\n",
       "(Intercept)                                      -1.01412    0.39744  -2.552\n",
       "s_start_age                                      -0.06420    0.14321  -0.448\n",
       "factor(Gender)Male                                0.32809    0.27567   1.190\n",
       "factor(funding_indicator)1                        1.93993    0.30301   6.402\n",
       "factor(Citizenship)Africa                        15.18479  533.86250   0.028\n",
       "factor(Citizenship)Asia                           0.73354    0.37279   1.968\n",
       "factor(Citizenship)Asian                         -0.06867    0.51749  -0.133\n",
       "factor(Citizenship)Black or African American     -0.32901    0.67890  -0.485\n",
       "factor(Citizenship)China                          0.24728    0.35582   0.695\n",
       "factor(Citizenship)Europe                         0.01172    0.85219   0.014\n",
       "factor(Citizenship)Hispanic or Latino             2.62346    1.36959   1.916\n",
       "factor(Citizenship)India                         -0.00679    0.39207  -0.017\n",
       "factor(Citizenship)Other International Students   0.50609    1.54206   0.328\n",
       "factor(Citizenship)Unknown                       -0.30181    0.46784  -0.645\n",
       "avs_net_cost                                      0.37210    0.15015   2.478\n",
       "PC1                                              -0.58773    0.35517  -1.655\n",
       "PC2                                              -0.22582    0.19667  -1.148\n",
       "PC3                                              -0.42651    0.17017  -2.506\n",
       "factor(gap_indicator)1                            0.31413    0.32840   0.957\n",
       "GPA_trend                                         1.01909    0.63246   1.611\n",
       "s_start_year                                     -0.98997    0.16821  -5.885\n",
       "                                                Pr(>|z|)    \n",
       "(Intercept)                                       0.0107 *  \n",
       "s_start_age                                       0.6540    \n",
       "factor(Gender)Male                                0.2340    \n",
       "factor(funding_indicator)1                      1.53e-10 ***\n",
       "factor(Citizenship)Africa                         0.9773    \n",
       "factor(Citizenship)Asia                           0.0491 *  \n",
       "factor(Citizenship)Asian                          0.8944    \n",
       "factor(Citizenship)Black or African American      0.6279    \n",
       "factor(Citizenship)China                          0.4871    \n",
       "factor(Citizenship)Europe                         0.9890    \n",
       "factor(Citizenship)Hispanic or Latino             0.0554 .  \n",
       "factor(Citizenship)India                          0.9862    \n",
       "factor(Citizenship)Other International Students   0.7428    \n",
       "factor(Citizenship)Unknown                        0.5189    \n",
       "avs_net_cost                                      0.0132 *  \n",
       "PC1                                               0.0980 .  \n",
       "PC2                                               0.2509    \n",
       "PC3                                               0.0122 *  \n",
       "factor(gap_indicator)1                            0.3388    \n",
       "GPA_trend                                         0.1071    \n",
       "s_start_year                                    3.98e-09 ***\n",
       "---\n",
       "Signif. codes:  0 '***' 0.001 '**' 0.01 '*' 0.05 '.' 0.1 ' ' 1\n",
       "\n",
       "(Dispersion parameter for binomial family taken to be 1)\n",
       "\n",
       "    Null deviance: 656.07  on 514  degrees of freedom\n",
       "Residual deviance: 519.18  on 494  degrees of freedom\n",
       "AIC: 561.18\n",
       "\n",
       "Number of Fisher Scoring iterations: 14\n"
      ]
     },
     "metadata": {},
     "output_type": "display_data"
    }
   ],
   "source": [
    "log_mod_w = glm(Y~s_start_age+factor(Gender)+factor(funding_indicator)+factor(Citizenship)+\n",
    "                avs_net_cost+PC1+PC2+PC3+factor(gap_indicator)+GPA_trend+s_start_year,\n",
    "                data=Watson_df,family=\"binomial\")\n",
    "summary(log_mod_w)"
   ]
  },
  {
   "cell_type": "markdown",
   "metadata": {},
   "source": [
    "<b> Significant Variables of logistic regression model: "
   ]
  },
  {
   "cell_type": "code",
   "execution_count": 41,
   "metadata": {},
   "outputs": [
    {
     "data": {
      "text/html": [
       "<table>\n",
       "<thead><tr><th></th><th scope=col>Estimate</th><th scope=col>Pr(&gt;|z|)</th></tr></thead>\n",
       "<tbody>\n",
       "\t<tr><th scope=row>(Intercept)</th><td>-1.01412</td><td>0.01072 </td></tr>\n",
       "\t<tr><th scope=row>factor(funding_indicator)1</th><td> 1.93993</td><td>0.00000 </td></tr>\n",
       "\t<tr><th scope=row>factor(Citizenship)Asia</th><td> 0.73354</td><td>0.04910 </td></tr>\n",
       "\t<tr><th scope=row>avs_net_cost</th><td> 0.37210</td><td>0.01321 </td></tr>\n",
       "\t<tr><th scope=row>PC3</th><td>-0.42651</td><td>0.01220 </td></tr>\n",
       "\t<tr><th scope=row>s_start_year</th><td>-0.98997</td><td>0.00000 </td></tr>\n",
       "</tbody>\n",
       "</table>\n"
      ],
      "text/latex": [
       "\\begin{tabular}{r|ll}\n",
       "  & Estimate & Pr(>\\textbar{}z\\textbar{})\\\\\n",
       "\\hline\n",
       "\t(Intercept) & -1.01412 & 0.01072 \\\\\n",
       "\tfactor(funding\\_indicator)1 &  1.93993 & 0.00000 \\\\\n",
       "\tfactor(Citizenship)Asia &  0.73354 & 0.04910 \\\\\n",
       "\tavs\\_net\\_cost &  0.37210 & 0.01321 \\\\\n",
       "\tPC3 & -0.42651 & 0.01220 \\\\\n",
       "\ts\\_start\\_year & -0.98997 & 0.00000 \\\\\n",
       "\\end{tabular}\n"
      ],
      "text/markdown": [
       "\n",
       "| <!--/--> | Estimate | Pr(>|z|) |\n",
       "|---|---|---|\n",
       "| (Intercept) | -1.01412 | 0.01072  |\n",
       "| factor(funding_indicator)1 |  1.93993 | 0.00000  |\n",
       "| factor(Citizenship)Asia |  0.73354 | 0.04910  |\n",
       "| avs_net_cost |  0.37210 | 0.01321  |\n",
       "| PC3 | -0.42651 | 0.01220  |\n",
       "| s_start_year | -0.98997 | 0.00000  |\n",
       "\n"
      ],
      "text/plain": [
       "                           Estimate Pr(>|z|)\n",
       "(Intercept)                -1.01412 0.01072 \n",
       "factor(funding_indicator)1  1.93993 0.00000 \n",
       "factor(Citizenship)Asia     0.73354 0.04910 \n",
       "avs_net_cost                0.37210 0.01321 \n",
       "PC3                        -0.42651 0.01220 \n",
       "s_start_year               -0.98997 0.00000 "
      ]
     },
     "metadata": {},
     "output_type": "display_data"
    }
   ],
   "source": [
    "round(summary(log_mod_w)$coeff[which(summary(log_mod_w)$coef[,4] <= .05),c(1,4)],5)"
   ]
  },
  {
   "cell_type": "markdown",
   "metadata": {},
   "source": [
    "<b> Both AIC:"
   ]
  },
  {
   "cell_type": "code",
   "execution_count": 42,
   "metadata": {
    "scrolled": false
   },
   "outputs": [
    {
     "name": "stdout",
     "output_type": "stream",
     "text": [
      "Start:  AIC=561.18\n",
      "Y ~ s_start_age + factor(Gender) + factor(funding_indicator) + \n",
      "    factor(Citizenship) + avs_net_cost + PC1 + PC2 + PC3 + factor(gap_indicator) + \n",
      "    GPA_trend + s_start_year\n",
      "\n",
      "                            Df Deviance    AIC\n",
      "- factor(Citizenship)       10   535.85 557.85\n",
      "- s_start_age                1   519.39 559.39\n",
      "- factor(gap_indicator)      1   520.12 560.12\n",
      "- PC2                        1   520.53 560.53\n",
      "- factor(Gender)             1   520.59 560.59\n",
      "<none>                           519.18 561.18\n",
      "- GPA_trend                  1   521.91 561.91\n",
      "- PC1                        1   522.00 562.00\n",
      "- PC3                        1   526.60 566.60\n",
      "- avs_net_cost               1   527.42 567.42\n",
      "- s_start_year               1   561.33 601.33\n",
      "- factor(funding_indicator)  1   564.70 604.70\n",
      "\n",
      "Step:  AIC=557.85\n",
      "Y ~ s_start_age + factor(Gender) + factor(funding_indicator) + \n",
      "    avs_net_cost + PC1 + PC2 + PC3 + factor(gap_indicator) + \n",
      "    GPA_trend + s_start_year\n",
      "\n",
      "                            Df Deviance    AIC\n",
      "- s_start_age                1   536.06 556.06\n",
      "- factor(gap_indicator)      1   536.32 556.32\n",
      "- factor(Gender)             1   536.67 556.67\n",
      "<none>                           535.85 557.85\n",
      "- GPA_trend                  1   537.87 557.87\n",
      "- PC2                        1   538.81 558.81\n",
      "+ factor(Citizenship)       10   519.18 561.18\n",
      "- PC1                        1   542.85 562.85\n",
      "- avs_net_cost               1   543.94 563.94\n",
      "- PC3                        1   545.65 565.65\n",
      "- s_start_year               1   576.39 596.39\n",
      "- factor(funding_indicator)  1   587.22 607.22\n",
      "\n",
      "Step:  AIC=556.06\n",
      "Y ~ factor(Gender) + factor(funding_indicator) + avs_net_cost + \n",
      "    PC1 + PC2 + PC3 + factor(gap_indicator) + GPA_trend + s_start_year\n",
      "\n",
      "                            Df Deviance    AIC\n",
      "- factor(gap_indicator)      1   536.53 554.53\n",
      "- factor(Gender)             1   536.83 554.83\n",
      "- GPA_trend                  1   538.04 556.04\n",
      "<none>                           536.06 556.06\n",
      "- PC2                        1   538.95 556.95\n",
      "+ s_start_age                1   535.85 557.85\n",
      "+ factor(Citizenship)       10   519.39 559.39\n",
      "- PC1                        1   542.99 560.99\n",
      "- avs_net_cost               1   544.02 562.02\n",
      "- PC3                        1   545.70 563.70\n",
      "- s_start_year               1   579.87 597.87\n",
      "- factor(funding_indicator)  1   599.79 617.79\n",
      "\n",
      "Step:  AIC=554.53\n",
      "Y ~ factor(Gender) + factor(funding_indicator) + avs_net_cost + \n",
      "    PC1 + PC2 + PC3 + GPA_trend + s_start_year\n",
      "\n",
      "                            Df Deviance    AIC\n",
      "- factor(Gender)             1   537.29 553.29\n",
      "<none>                           536.53 554.53\n",
      "- GPA_trend                  1   538.53 554.53\n",
      "- PC2                        1   539.36 555.36\n",
      "+ factor(gap_indicator)      1   536.06 556.06\n",
      "+ s_start_age                1   536.32 556.32\n",
      "+ factor(Citizenship)       10   520.32 558.32\n",
      "- PC1                        1   543.28 559.28\n",
      "- avs_net_cost               1   544.13 560.13\n",
      "- PC3                        1   545.98 561.98\n",
      "- s_start_year               1   582.35 598.35\n",
      "- factor(funding_indicator)  1   599.79 615.79\n",
      "\n",
      "Step:  AIC=553.29\n",
      "Y ~ factor(funding_indicator) + avs_net_cost + PC1 + PC2 + PC3 + \n",
      "    GPA_trend + s_start_year\n",
      "\n",
      "                            Df Deviance    AIC\n",
      "- GPA_trend                  1   539.27 553.27\n",
      "<none>                           537.29 553.29\n",
      "- PC2                        1   539.93 553.93\n",
      "+ factor(Gender)             1   536.53 554.53\n",
      "+ factor(gap_indicator)      1   536.83 554.83\n",
      "+ s_start_age                1   537.13 555.13\n",
      "+ factor(Citizenship)       10   521.63 557.63\n",
      "- PC1                        1   543.79 557.79\n",
      "- avs_net_cost               1   545.11 559.11\n",
      "- PC3                        1   546.47 560.47\n",
      "- s_start_year               1   583.87 597.87\n",
      "- factor(funding_indicator)  1   600.08 614.08\n",
      "\n",
      "Step:  AIC=553.27\n",
      "Y ~ factor(funding_indicator) + avs_net_cost + PC1 + PC2 + PC3 + \n",
      "    s_start_year\n",
      "\n",
      "                            Df Deviance    AIC\n",
      "<none>                           539.27 553.27\n",
      "+ GPA_trend                  1   537.29 553.29\n",
      "- PC2                        1   541.95 553.95\n",
      "+ factor(Gender)             1   538.53 554.53\n",
      "+ factor(gap_indicator)      1   538.79 554.79\n",
      "+ s_start_age                1   539.14 555.14\n",
      "- PC1                        1   545.55 557.55\n",
      "+ factor(Citizenship)       10   524.31 558.31\n",
      "- avs_net_cost               1   547.13 559.13\n",
      "- PC3                        1   549.11 561.11\n",
      "- s_start_year               1   587.00 599.00\n",
      "- factor(funding_indicator)  1   604.74 616.74\n"
     ]
    }
   ],
   "source": [
    "log_mod_w_aic= stepAIC(log_mod_w, direction = 'both')"
   ]
  },
  {
   "cell_type": "markdown",
   "metadata": {},
   "source": [
    "<b> Significant variables both AIC selects:"
   ]
  },
  {
   "cell_type": "code",
   "execution_count": 43,
   "metadata": {},
   "outputs": [
    {
     "data": {
      "text/html": [
       "<table>\n",
       "<thead><tr><th></th><th scope=col>Estimate</th><th scope=col>Pr(&gt;|z|)</th></tr></thead>\n",
       "<tbody>\n",
       "\t<tr><th scope=row>(Intercept)</th><td>-0.54971</td><td>0.00760 </td></tr>\n",
       "\t<tr><th scope=row>factor(funding_indicator)1</th><td> 2.01370</td><td>0.00000 </td></tr>\n",
       "\t<tr><th scope=row>avs_net_cost</th><td> 0.36130</td><td>0.01750 </td></tr>\n",
       "\t<tr><th scope=row>PC1</th><td>-0.78742</td><td>0.01415 </td></tr>\n",
       "\t<tr><th scope=row>PC3</th><td>-0.45321</td><td>0.00415 </td></tr>\n",
       "\t<tr><th scope=row>s_start_year</th><td>-0.99717</td><td>0.00000 </td></tr>\n",
       "</tbody>\n",
       "</table>\n"
      ],
      "text/latex": [
       "\\begin{tabular}{r|ll}\n",
       "  & Estimate & Pr(>\\textbar{}z\\textbar{})\\\\\n",
       "\\hline\n",
       "\t(Intercept) & -0.54971 & 0.00760 \\\\\n",
       "\tfactor(funding\\_indicator)1 &  2.01370 & 0.00000 \\\\\n",
       "\tavs\\_net\\_cost &  0.36130 & 0.01750 \\\\\n",
       "\tPC1 & -0.78742 & 0.01415 \\\\\n",
       "\tPC3 & -0.45321 & 0.00415 \\\\\n",
       "\ts\\_start\\_year & -0.99717 & 0.00000 \\\\\n",
       "\\end{tabular}\n"
      ],
      "text/markdown": [
       "\n",
       "| <!--/--> | Estimate | Pr(>|z|) |\n",
       "|---|---|---|\n",
       "| (Intercept) | -0.54971 | 0.00760  |\n",
       "| factor(funding_indicator)1 |  2.01370 | 0.00000  |\n",
       "| avs_net_cost |  0.36130 | 0.01750  |\n",
       "| PC1 | -0.78742 | 0.01415  |\n",
       "| PC3 | -0.45321 | 0.00415  |\n",
       "| s_start_year | -0.99717 | 0.00000  |\n",
       "\n"
      ],
      "text/plain": [
       "                           Estimate Pr(>|z|)\n",
       "(Intercept)                -0.54971 0.00760 \n",
       "factor(funding_indicator)1  2.01370 0.00000 \n",
       "avs_net_cost                0.36130 0.01750 \n",
       "PC1                        -0.78742 0.01415 \n",
       "PC3                        -0.45321 0.00415 \n",
       "s_start_year               -0.99717 0.00000 "
      ]
     },
     "metadata": {},
     "output_type": "display_data"
    }
   ],
   "source": [
    "round(summary(log_mod_w_aic)$coeff[which(summary(log_mod_w_aic)$coef[,4] <= .05),c(1,4)],5)"
   ]
  },
  {
   "cell_type": "markdown",
   "metadata": {},
   "source": [
    "<b> Both BIC:"
   ]
  },
  {
   "cell_type": "code",
   "execution_count": 44,
   "metadata": {
    "scrolled": false
   },
   "outputs": [
    {
     "name": "stdout",
     "output_type": "stream",
     "text": [
      "Start:  AIC=650.31\n",
      "Y ~ s_start_age + factor(Gender) + factor(funding_indicator) + \n",
      "    factor(Citizenship) + avs_net_cost + PC1 + PC2 + PC3 + factor(gap_indicator) + \n",
      "    GPA_trend + s_start_year\n",
      "\n",
      "                            Df Deviance    AIC\n",
      "- factor(Citizenship)       10   535.85 604.53\n",
      "- s_start_age                1   519.39 644.27\n",
      "- factor(gap_indicator)      1   520.12 645.00\n",
      "- PC2                        1   520.53 645.41\n",
      "- factor(Gender)             1   520.59 645.47\n",
      "- GPA_trend                  1   521.91 646.80\n",
      "- PC1                        1   522.00 646.89\n",
      "<none>                           519.18 650.31\n",
      "- PC3                        1   526.60 651.48\n",
      "- avs_net_cost               1   527.42 652.30\n",
      "- s_start_year               1   561.33 686.21\n",
      "- factor(funding_indicator)  1   564.70 689.58\n",
      "\n",
      "Step:  AIC=604.53\n",
      "Y ~ s_start_age + factor(Gender) + factor(funding_indicator) + \n",
      "    avs_net_cost + PC1 + PC2 + PC3 + factor(gap_indicator) + \n",
      "    GPA_trend + s_start_year\n",
      "\n",
      "                            Df Deviance    AIC\n",
      "- s_start_age                1   536.06 598.50\n",
      "- factor(gap_indicator)      1   536.32 598.76\n",
      "- factor(Gender)             1   536.67 599.11\n",
      "- GPA_trend                  1   537.87 600.31\n",
      "- PC2                        1   538.81 601.25\n",
      "<none>                           535.85 604.53\n",
      "- PC1                        1   542.85 605.29\n",
      "- avs_net_cost               1   543.94 606.38\n",
      "- PC3                        1   545.65 608.09\n",
      "- s_start_year               1   576.39 638.83\n",
      "- factor(funding_indicator)  1   587.22 649.67\n",
      "+ factor(Citizenship)       10   519.18 650.31\n",
      "\n",
      "Step:  AIC=598.5\n",
      "Y ~ factor(Gender) + factor(funding_indicator) + avs_net_cost + \n",
      "    PC1 + PC2 + PC3 + factor(gap_indicator) + GPA_trend + s_start_year\n",
      "\n",
      "                            Df Deviance    AIC\n",
      "- factor(gap_indicator)      1   536.53 592.73\n",
      "- factor(Gender)             1   536.83 593.03\n",
      "- GPA_trend                  1   538.04 594.24\n",
      "- PC2                        1   538.95 595.15\n",
      "<none>                           536.06 598.50\n",
      "- PC1                        1   542.99 599.19\n",
      "- avs_net_cost               1   544.02 600.22\n",
      "- PC3                        1   545.70 601.89\n",
      "+ s_start_age                1   535.85 604.53\n",
      "- s_start_year               1   579.87 636.07\n",
      "+ factor(Citizenship)       10   519.39 644.27\n",
      "- factor(funding_indicator)  1   599.79 655.98\n",
      "\n",
      "Step:  AIC=592.73\n",
      "Y ~ factor(Gender) + factor(funding_indicator) + avs_net_cost + \n",
      "    PC1 + PC2 + PC3 + GPA_trend + s_start_year\n",
      "\n",
      "                            Df Deviance    AIC\n",
      "- factor(Gender)             1   537.29 587.25\n",
      "- GPA_trend                  1   538.53 588.48\n",
      "- PC2                        1   539.36 589.32\n",
      "<none>                           536.53 592.73\n",
      "- PC1                        1   543.28 593.24\n",
      "- avs_net_cost               1   544.13 594.08\n",
      "- PC3                        1   545.98 595.93\n",
      "+ factor(gap_indicator)      1   536.06 598.50\n",
      "+ s_start_age                1   536.32 598.76\n",
      "- s_start_year               1   582.35 632.30\n",
      "+ factor(Citizenship)       10   520.32 638.95\n",
      "- factor(funding_indicator)  1   599.79 649.74\n",
      "\n",
      "Step:  AIC=587.25\n",
      "Y ~ factor(funding_indicator) + avs_net_cost + PC1 + PC2 + PC3 + \n",
      "    GPA_trend + s_start_year\n",
      "\n",
      "                            Df Deviance    AIC\n",
      "- GPA_trend                  1   539.27 582.98\n",
      "- PC2                        1   539.93 583.64\n",
      "<none>                           537.29 587.25\n",
      "- PC1                        1   543.79 587.50\n",
      "- avs_net_cost               1   545.11 588.82\n",
      "- PC3                        1   546.47 590.18\n",
      "+ factor(Gender)             1   536.53 592.73\n",
      "+ factor(gap_indicator)      1   536.83 593.03\n",
      "+ s_start_age                1   537.13 593.33\n",
      "- s_start_year               1   583.87 627.58\n",
      "+ factor(Citizenship)       10   521.63 634.02\n",
      "- factor(funding_indicator)  1   600.08 643.79\n",
      "\n",
      "Step:  AIC=582.98\n",
      "Y ~ factor(funding_indicator) + avs_net_cost + PC1 + PC2 + PC3 + \n",
      "    s_start_year\n",
      "\n",
      "                            Df Deviance    AIC\n",
      "- PC2                        1   541.95 579.41\n",
      "<none>                           539.27 582.98\n",
      "- PC1                        1   545.55 583.02\n",
      "- avs_net_cost               1   547.13 584.60\n",
      "- PC3                        1   549.11 586.58\n",
      "+ GPA_trend                  1   537.29 587.25\n",
      "+ factor(Gender)             1   538.53 588.48\n",
      "+ factor(gap_indicator)      1   538.79 588.74\n",
      "+ s_start_age                1   539.14 589.09\n",
      "- s_start_year               1   587.00 624.46\n",
      "+ factor(Citizenship)       10   524.31 630.46\n",
      "- factor(funding_indicator)  1   604.74 642.21\n",
      "\n",
      "Step:  AIC=579.41\n",
      "Y ~ factor(funding_indicator) + avs_net_cost + PC1 + PC3 + s_start_year\n",
      "\n",
      "                            Df Deviance    AIC\n",
      "- PC1                        1   546.54 577.76\n",
      "<none>                           541.95 579.41\n",
      "- PC3                        1   549.60 580.82\n",
      "- avs_net_cost               1   549.95 581.17\n",
      "+ PC2                        1   539.27 582.98\n",
      "+ GPA_trend                  1   539.93 583.64\n",
      "+ factor(Gender)             1   541.40 585.11\n",
      "+ factor(gap_indicator)      1   541.51 585.22\n",
      "+ s_start_age                1   541.87 585.58\n",
      "- s_start_year               1   587.16 618.38\n",
      "+ factor(Citizenship)       10   525.56 625.47\n",
      "- factor(funding_indicator)  1   605.88 637.10\n",
      "\n",
      "Step:  AIC=577.76\n",
      "Y ~ factor(funding_indicator) + avs_net_cost + PC3 + s_start_year\n",
      "\n",
      "                            Df Deviance    AIC\n",
      "- PC3                        1   551.63 576.60\n",
      "<none>                           546.54 577.76\n",
      "- avs_net_cost               1   553.47 578.45\n",
      "+ PC1                        1   541.95 579.41\n",
      "+ GPA_trend                  1   544.97 582.44\n",
      "+ PC2                        1   545.55 583.02\n",
      "+ factor(Gender)             1   545.96 583.42\n",
      "+ factor(gap_indicator)      1   546.28 583.74\n",
      "+ s_start_age                1   546.44 583.90\n",
      "- s_start_year               1   587.53 612.51\n",
      "+ factor(Citizenship)       10   527.06 620.72\n",
      "- factor(funding_indicator)  1   616.88 641.85\n",
      "\n",
      "Step:  AIC=576.6\n",
      "Y ~ factor(funding_indicator) + avs_net_cost + s_start_year\n",
      "\n",
      "                            Df Deviance    AIC\n",
      "<none>                           551.63 576.60\n",
      "- avs_net_cost               1   558.80 577.53\n",
      "+ PC3                        1   546.54 577.76\n",
      "+ PC2                        1   549.30 580.53\n",
      "+ GPA_trend                  1   549.37 580.59\n",
      "+ PC1                        1   549.60 580.82\n",
      "+ factor(Gender)             1   551.05 582.27\n",
      "+ factor(gap_indicator)      1   551.42 582.64\n",
      "+ s_start_age                1   551.62 582.84\n",
      "+ factor(Citizenship)       10   533.69 621.11\n",
      "- s_start_year               1   611.85 630.59\n",
      "- factor(funding_indicator)  1   625.17 643.90\n"
     ]
    }
   ],
   "source": [
    "log_mod_w_bic = stepAIC(log_mod_w, direction = \"both\", k = log(e_n))"
   ]
  },
  {
   "cell_type": "markdown",
   "metadata": {},
   "source": [
    "<b> Significant variables both BIC selects:"
   ]
  },
  {
   "cell_type": "code",
   "execution_count": 45,
   "metadata": {},
   "outputs": [
    {
     "data": {
      "text/plain": [
       "\n",
       "Call:\n",
       "glm(formula = Y ~ factor(funding_indicator) + avs_net_cost + \n",
       "    s_start_year, family = \"binomial\", data = Watson_df)\n",
       "\n",
       "Deviance Residuals: \n",
       "    Min       1Q   Median       3Q      Max  \n",
       "-2.8893  -0.9101   0.5567   0.8484   1.7719  \n",
       "\n",
       "Coefficients:\n",
       "                           Estimate Std. Error z value Pr(>|z|)    \n",
       "(Intercept)                 -0.5034     0.2001  -2.516   0.0119 *  \n",
       "factor(funding_indicator)1   2.0988     0.2644   7.939 2.04e-15 ***\n",
       "avs_net_cost                 0.3515     0.1548   2.270   0.0232 *  \n",
       "s_start_year                -1.0004     0.1437  -6.963 3.34e-12 ***\n",
       "---\n",
       "Signif. codes:  0 '***' 0.001 '**' 0.01 '*' 0.05 '.' 0.1 ' ' 1\n",
       "\n",
       "(Dispersion parameter for binomial family taken to be 1)\n",
       "\n",
       "    Null deviance: 656.07  on 514  degrees of freedom\n",
       "Residual deviance: 551.63  on 511  degrees of freedom\n",
       "AIC: 559.63\n",
       "\n",
       "Number of Fisher Scoring iterations: 4\n"
      ]
     },
     "metadata": {},
     "output_type": "display_data"
    }
   ],
   "source": [
    "summary(log_mod_w_bic)"
   ]
  },
  {
   "cell_type": "code",
   "execution_count": 46,
   "metadata": {
    "scrolled": true
   },
   "outputs": [
    {
     "data": {
      "text/html": [
       "<table>\n",
       "<thead><tr><th></th><th scope=col>Estimate</th><th scope=col>Pr(&gt;|z|)</th></tr></thead>\n",
       "<tbody>\n",
       "\t<tr><th scope=row>(Intercept)</th><td>-0.50338</td><td>0.01188 </td></tr>\n",
       "\t<tr><th scope=row>factor(funding_indicator)1</th><td> 2.09885</td><td>0.00000 </td></tr>\n",
       "\t<tr><th scope=row>avs_net_cost</th><td> 0.35147</td><td>0.02320 </td></tr>\n",
       "\t<tr><th scope=row>s_start_year</th><td>-1.00040</td><td>0.00000 </td></tr>\n",
       "</tbody>\n",
       "</table>\n"
      ],
      "text/latex": [
       "\\begin{tabular}{r|ll}\n",
       "  & Estimate & Pr(>\\textbar{}z\\textbar{})\\\\\n",
       "\\hline\n",
       "\t(Intercept) & -0.50338 & 0.01188 \\\\\n",
       "\tfactor(funding\\_indicator)1 &  2.09885 & 0.00000 \\\\\n",
       "\tavs\\_net\\_cost &  0.35147 & 0.02320 \\\\\n",
       "\ts\\_start\\_year & -1.00040 & 0.00000 \\\\\n",
       "\\end{tabular}\n"
      ],
      "text/markdown": [
       "\n",
       "| <!--/--> | Estimate | Pr(>|z|) |\n",
       "|---|---|---|\n",
       "| (Intercept) | -0.50338 | 0.01188  |\n",
       "| factor(funding_indicator)1 |  2.09885 | 0.00000  |\n",
       "| avs_net_cost |  0.35147 | 0.02320  |\n",
       "| s_start_year | -1.00040 | 0.00000  |\n",
       "\n"
      ],
      "text/plain": [
       "                           Estimate Pr(>|z|)\n",
       "(Intercept)                -0.50338 0.01188 \n",
       "factor(funding_indicator)1  2.09885 0.00000 \n",
       "avs_net_cost                0.35147 0.02320 \n",
       "s_start_year               -1.00040 0.00000 "
      ]
     },
     "metadata": {},
     "output_type": "display_data"
    }
   ],
   "source": [
    "round(summary(log_mod_w_bic)$coeff[which(summary(log_mod_w_bic)$coef[,4] <= .05),c(1,4)],5)"
   ]
  },
  {
   "cell_type": "markdown",
   "metadata": {},
   "source": [
    "# Joint Analysis"
   ]
  },
  {
   "cell_type": "markdown",
   "metadata": {},
   "source": [
    "<b> Logistic regression model:"
   ]
  },
  {
   "cell_type": "code",
   "execution_count": 47,
   "metadata": {},
   "outputs": [],
   "source": [
    "int_chn = function(x) ifelse(x=='China',1,0)\n",
    "int_afc = function(x) ifelse(x=='Africa',1,0)\n",
    "int_asia = function(x) ifelse(x=='Asia',1,0)"
   ]
  },
  {
   "cell_type": "code",
   "execution_count": 48,
   "metadata": {},
   "outputs": [],
   "source": [
    "df <- within(df, s_Citizenship <- relevel(s_Citizenship, ref = \"White\"))\n",
    "df <- within(df, s_College <- relevel(s_College, ref = \"GD Non-Harpur\"))"
   ]
  },
  {
   "cell_type": "code",
   "execution_count": 49,
   "metadata": {},
   "outputs": [
    {
     "data": {
      "text/plain": [
       "\n",
       "Call:\n",
       "glm(formula = Y ~ factor(funding_indicator) + factor(s_Citizenship) + \n",
       "    avs_net_cost + PC1 + PC3 + GPA_trend + s_start_year + factor(s_College) + \n",
       "    avs_net_cost:factor(s_College) + factor(s_College):factor(s_Citizenship) + \n",
       "    factor(s_College):PC1 + factor(s_College):PC3 + factor(s_College):factor(funding_indicator) + \n",
       "    factor(s_College):GPA_trend + s_start_year:factor(s_College), \n",
       "    family = \"binomial\", data = df)\n",
       "\n",
       "Deviance Residuals: \n",
       "    Min       1Q   Median       3Q      Max  \n",
       "-2.7073  -1.0994   0.6602   0.9334   1.9843  \n",
       "\n",
       "Coefficients:\n",
       "                                                       Estimate Std. Error\n",
       "(Intercept)                                            -0.11622    0.13512\n",
       "factor(funding_indicator)1                              1.28850    0.18322\n",
       "factor(s_Citizenship)Africa                             1.66471    1.10218\n",
       "factor(s_Citizenship)Asia                               0.36632    0.23431\n",
       "factor(s_Citizenship)China                              0.18752    0.21326\n",
       "avs_net_cost                                            0.37001    0.11747\n",
       "PC1                                                    -0.24868    0.14046\n",
       "PC3                                                    -0.25484    0.08590\n",
       "GPA_trend                                               1.30647    0.49887\n",
       "s_start_year                                           -0.73026    0.10246\n",
       "factor(s_College)GD Harpur                             -0.33671    0.18611\n",
       "avs_net_cost:factor(s_College)GD Harpur                -0.36340    0.12807\n",
       "factor(s_Citizenship)Africa:factor(s_College)GD Harpur -0.96207    1.15117\n",
       "factor(s_Citizenship)Asia:factor(s_College)GD Harpur    0.24288    0.30312\n",
       "factor(s_Citizenship)China:factor(s_College)GD Harpur   0.13787    0.28899\n",
       "PC1:factor(s_College)GD Harpur                          0.23158    0.14521\n",
       "PC3:factor(s_College)GD Harpur                          0.23144    0.09986\n",
       "factor(funding_indicator)1:factor(s_College)GD Harpur  -0.34985    0.23454\n",
       "GPA_trend:factor(s_College)GD Harpur                   -0.54398    0.59177\n",
       "s_start_year:factor(s_College)GD Harpur                -0.08116    0.12514\n",
       "                                                       z value Pr(>|z|)    \n",
       "(Intercept)                                             -0.860  0.38974    \n",
       "factor(funding_indicator)1                               7.032 2.03e-12 ***\n",
       "factor(s_Citizenship)Africa                              1.510  0.13095    \n",
       "factor(s_Citizenship)Asia                                1.563  0.11796    \n",
       "factor(s_Citizenship)China                               0.879  0.37923    \n",
       "avs_net_cost                                             3.150  0.00163 ** \n",
       "PC1                                                     -1.771  0.07664 .  \n",
       "PC3                                                     -2.967  0.00301 ** \n",
       "GPA_trend                                                2.619  0.00882 ** \n",
       "s_start_year                                            -7.127 1.03e-12 ***\n",
       "factor(s_College)GD Harpur                              -1.809  0.07042 .  \n",
       "avs_net_cost:factor(s_College)GD Harpur                 -2.838  0.00455 ** \n",
       "factor(s_Citizenship)Africa:factor(s_College)GD Harpur  -0.836  0.40331    \n",
       "factor(s_Citizenship)Asia:factor(s_College)GD Harpur     0.801  0.42298    \n",
       "factor(s_Citizenship)China:factor(s_College)GD Harpur    0.477  0.63330    \n",
       "PC1:factor(s_College)GD Harpur                           1.595  0.11075    \n",
       "PC3:factor(s_College)GD Harpur                           2.318  0.02047 *  \n",
       "factor(funding_indicator)1:factor(s_College)GD Harpur   -1.492  0.13579    \n",
       "GPA_trend:factor(s_College)GD Harpur                    -0.919  0.35797    \n",
       "s_start_year:factor(s_College)GD Harpur                 -0.649  0.51665    \n",
       "---\n",
       "Signif. codes:  0 '***' 0.001 '**' 0.01 '*' 0.05 '.' 0.1 ' ' 1\n",
       "\n",
       "(Dispersion parameter for binomial family taken to be 1)\n",
       "\n",
       "    Null deviance: 3281.8  on 2469  degrees of freedom\n",
       "Residual deviance: 2946.7  on 2450  degrees of freedom\n",
       "AIC: 2986.7\n",
       "\n",
       "Number of Fisher Scoring iterations: 4\n"
      ]
     },
     "metadata": {},
     "output_type": "display_data"
    }
   ],
   "source": [
    "log_mod_total = glm(Y~factor(funding_indicator)+factor(s_Citizenship)+\n",
    "                avs_net_cost+PC1+PC3+GPA_trend+s_start_year+factor(s_College)+avs_net_cost:factor(s_College)+\n",
    "                factor(s_College):factor(s_Citizenship)+factor(s_College):PC1+factor(s_College):PC3+\n",
    "                factor(s_College):factor(funding_indicator)+factor(s_College):GPA_trend+s_start_year:factor(s_College),\n",
    "                data=df,family=\"binomial\")\n",
    "summary(log_mod_total)"
   ]
  },
  {
   "cell_type": "markdown",
   "metadata": {},
   "source": [
    "<b> Significant Variables of logistic regression model:"
   ]
  },
  {
   "cell_type": "code",
   "execution_count": 50,
   "metadata": {
    "scrolled": true
   },
   "outputs": [
    {
     "data": {
      "text/html": [
       "<table>\n",
       "<thead><tr><th></th><th scope=col>Estimate</th><th scope=col>Pr(&gt;|z|)</th></tr></thead>\n",
       "<tbody>\n",
       "\t<tr><th scope=row>factor(funding_indicator)1</th><td> 1.28850</td><td>0.00000 </td></tr>\n",
       "\t<tr><th scope=row>avs_net_cost</th><td> 0.37001</td><td>0.00163 </td></tr>\n",
       "\t<tr><th scope=row>PC3</th><td>-0.25484</td><td>0.00301 </td></tr>\n",
       "\t<tr><th scope=row>GPA_trend</th><td> 1.30647</td><td>0.00882 </td></tr>\n",
       "\t<tr><th scope=row>s_start_year</th><td>-0.73026</td><td>0.00000 </td></tr>\n",
       "\t<tr><th scope=row>avs_net_cost:factor(s_College)GD Harpur</th><td>-0.36340</td><td>0.00455 </td></tr>\n",
       "\t<tr><th scope=row>PC3:factor(s_College)GD Harpur</th><td> 0.23144</td><td>0.02047 </td></tr>\n",
       "</tbody>\n",
       "</table>\n"
      ],
      "text/latex": [
       "\\begin{tabular}{r|ll}\n",
       "  & Estimate & Pr(>\\textbar{}z\\textbar{})\\\\\n",
       "\\hline\n",
       "\tfactor(funding\\_indicator)1 &  1.28850 & 0.00000 \\\\\n",
       "\tavs\\_net\\_cost &  0.37001 & 0.00163 \\\\\n",
       "\tPC3 & -0.25484 & 0.00301 \\\\\n",
       "\tGPA\\_trend &  1.30647 & 0.00882 \\\\\n",
       "\ts\\_start\\_year & -0.73026 & 0.00000 \\\\\n",
       "\tavs\\_net\\_cost:factor(s\\_College)GD Harpur & -0.36340 & 0.00455 \\\\\n",
       "\tPC3:factor(s\\_College)GD Harpur &  0.23144 & 0.02047 \\\\\n",
       "\\end{tabular}\n"
      ],
      "text/markdown": [
       "\n",
       "| <!--/--> | Estimate | Pr(>|z|) |\n",
       "|---|---|---|\n",
       "| factor(funding_indicator)1 |  1.28850 | 0.00000  |\n",
       "| avs_net_cost |  0.37001 | 0.00163  |\n",
       "| PC3 | -0.25484 | 0.00301  |\n",
       "| GPA_trend |  1.30647 | 0.00882  |\n",
       "| s_start_year | -0.73026 | 0.00000  |\n",
       "| avs_net_cost:factor(s_College)GD Harpur | -0.36340 | 0.00455  |\n",
       "| PC3:factor(s_College)GD Harpur |  0.23144 | 0.02047  |\n",
       "\n"
      ],
      "text/plain": [
       "                                        Estimate Pr(>|z|)\n",
       "factor(funding_indicator)1               1.28850 0.00000 \n",
       "avs_net_cost                             0.37001 0.00163 \n",
       "PC3                                     -0.25484 0.00301 \n",
       "GPA_trend                                1.30647 0.00882 \n",
       "s_start_year                            -0.73026 0.00000 \n",
       "avs_net_cost:factor(s_College)GD Harpur -0.36340 0.00455 \n",
       "PC3:factor(s_College)GD Harpur           0.23144 0.02047 "
      ]
     },
     "metadata": {},
     "output_type": "display_data"
    }
   ],
   "source": [
    "round(summary(log_mod_total)$coeff[which(summary(log_mod_total)$coef[,4] <= .05),c(1,4)],5)"
   ]
  },
  {
   "cell_type": "markdown",
   "metadata": {},
   "source": [
    "<b> Both AIC:"
   ]
  },
  {
   "cell_type": "code",
   "execution_count": 51,
   "metadata": {
    "scrolled": true
   },
   "outputs": [
    {
     "name": "stdout",
     "output_type": "stream",
     "text": [
      "Start:  AIC=2986.71\n",
      "Y ~ factor(funding_indicator) + factor(s_Citizenship) + avs_net_cost + \n",
      "    PC1 + PC3 + GPA_trend + s_start_year + factor(s_College) + \n",
      "    avs_net_cost:factor(s_College) + factor(s_College):factor(s_Citizenship) + \n",
      "    factor(s_College):PC1 + factor(s_College):PC3 + factor(s_College):factor(funding_indicator) + \n",
      "    factor(s_College):GPA_trend + s_start_year:factor(s_College)\n",
      "\n",
      "                                              Df Deviance    AIC\n",
      "- factor(s_Citizenship):factor(s_College)      3   2948.4 2982.4\n",
      "- s_start_year:factor(s_College)               1   2947.1 2985.1\n",
      "- GPA_trend:factor(s_College)                  1   2947.6 2985.6\n",
      "<none>                                             2946.7 2986.7\n",
      "- factor(funding_indicator):factor(s_College)  1   2948.9 2986.9\n",
      "- PC1:factor(s_College)                        1   2949.3 2987.3\n",
      "- PC3:factor(s_College)                        1   2952.3 2990.3\n",
      "- avs_net_cost:factor(s_College)               1   2956.4 2994.4\n",
      "\n",
      "Step:  AIC=2982.43\n",
      "Y ~ factor(funding_indicator) + factor(s_Citizenship) + avs_net_cost + \n",
      "    PC1 + PC3 + GPA_trend + s_start_year + factor(s_College) + \n",
      "    avs_net_cost:factor(s_College) + PC1:factor(s_College) + \n",
      "    PC3:factor(s_College) + factor(funding_indicator):factor(s_College) + \n",
      "    GPA_trend:factor(s_College) + s_start_year:factor(s_College)\n",
      "\n",
      "                                              Df Deviance    AIC\n",
      "- s_start_year:factor(s_College)               1   2948.8 2980.8\n",
      "- GPA_trend:factor(s_College)                  1   2949.3 2981.3\n",
      "<none>                                             2948.4 2982.4\n",
      "- factor(funding_indicator):factor(s_College)  1   2950.5 2982.5\n",
      "- PC1:factor(s_College)                        1   2950.7 2982.7\n",
      "- PC3:factor(s_College)                        1   2954.3 2986.3\n",
      "+ factor(s_Citizenship):factor(s_College)      3   2946.7 2986.7\n",
      "- avs_net_cost:factor(s_College)               1   2958.1 2990.1\n",
      "- factor(s_Citizenship)                        3   2967.7 2995.7\n",
      "\n",
      "Step:  AIC=2980.78\n",
      "Y ~ factor(funding_indicator) + factor(s_Citizenship) + avs_net_cost + \n",
      "    PC1 + PC3 + GPA_trend + s_start_year + factor(s_College) + \n",
      "    avs_net_cost:factor(s_College) + PC1:factor(s_College) + \n",
      "    PC3:factor(s_College) + factor(funding_indicator):factor(s_College) + \n",
      "    GPA_trend:factor(s_College)\n",
      "\n",
      "                                              Df Deviance    AIC\n",
      "- GPA_trend:factor(s_College)                  1   2949.6 2979.6\n",
      "<none>                                             2948.8 2980.8\n",
      "- PC1:factor(s_College)                        1   2951.3 2981.3\n",
      "- factor(funding_indicator):factor(s_College)  1   2951.9 2981.9\n",
      "+ s_start_year:factor(s_College)               1   2948.4 2982.4\n",
      "- PC3:factor(s_College)                        1   2954.4 2984.4\n",
      "+ factor(s_Citizenship):factor(s_College)      3   2947.1 2985.1\n",
      "- avs_net_cost:factor(s_College)               1   2958.8 2988.8\n",
      "- factor(s_Citizenship)                        3   2967.9 2993.9\n",
      "- s_start_year                                 1   3159.8 3189.8\n",
      "\n",
      "Step:  AIC=2979.62\n",
      "Y ~ factor(funding_indicator) + factor(s_Citizenship) + avs_net_cost + \n",
      "    PC1 + PC3 + GPA_trend + s_start_year + factor(s_College) + \n",
      "    avs_net_cost:factor(s_College) + PC1:factor(s_College) + \n",
      "    PC3:factor(s_College) + factor(funding_indicator):factor(s_College)\n",
      "\n",
      "                                              Df Deviance    AIC\n",
      "<none>                                             2949.6 2979.6\n",
      "- PC1:factor(s_College)                        1   2952.0 2980.0\n",
      "+ GPA_trend:factor(s_College)                  1   2948.8 2980.8\n",
      "- factor(funding_indicator):factor(s_College)  1   2952.8 2980.8\n",
      "+ s_start_year:factor(s_College)               1   2949.3 2981.3\n",
      "- PC3:factor(s_College)                        1   2955.6 2983.6\n",
      "+ factor(s_Citizenship):factor(s_College)      3   2947.9 2983.9\n",
      "- avs_net_cost:factor(s_College)               1   2959.8 2987.8\n",
      "- GPA_trend                                    1   2962.1 2990.0\n",
      "- factor(s_Citizenship)                        3   2968.7 2992.7\n",
      "- s_start_year                                 1   3160.7 3188.7\n"
     ]
    }
   ],
   "source": [
    "log_mod_total_aic= stepAIC(log_mod_total, direction = 'both')"
   ]
  },
  {
   "cell_type": "markdown",
   "metadata": {},
   "source": [
    "<b> Significant variables both AIC selects:"
   ]
  },
  {
   "cell_type": "code",
   "execution_count": 52,
   "metadata": {
    "scrolled": true
   },
   "outputs": [
    {
     "data": {
      "text/html": [
       "<table>\n",
       "<thead><tr><th></th><th scope=col>Estimate</th><th scope=col>Pr(&gt;|z|)</th></tr></thead>\n",
       "<tbody>\n",
       "\t<tr><th scope=row>factor(funding_indicator)1</th><td> 1.29652</td><td>0.00000 </td></tr>\n",
       "\t<tr><th scope=row>factor(s_Citizenship)Africa</th><td> 0.79403</td><td>0.01149 </td></tr>\n",
       "\t<tr><th scope=row>factor(s_Citizenship)Asia</th><td> 0.51248</td><td>0.00052 </td></tr>\n",
       "\t<tr><th scope=row>avs_net_cost</th><td> 0.37371</td><td>0.00142 </td></tr>\n",
       "\t<tr><th scope=row>PC3</th><td>-0.25633</td><td>0.00261 </td></tr>\n",
       "\t<tr><th scope=row>GPA_trend</th><td> 0.91535</td><td>0.00068 </td></tr>\n",
       "\t<tr><th scope=row>s_start_year</th><td>-0.78301</td><td>0.00000 </td></tr>\n",
       "\t<tr><th scope=row>avs_net_cost:factor(s_College)GD Harpur</th><td>-0.37006</td><td>0.00376 </td></tr>\n",
       "\t<tr><th scope=row>PC3:factor(s_College)GD Harpur</th><td> 0.23673</td><td>0.01679 </td></tr>\n",
       "</tbody>\n",
       "</table>\n"
      ],
      "text/latex": [
       "\\begin{tabular}{r|ll}\n",
       "  & Estimate & Pr(>\\textbar{}z\\textbar{})\\\\\n",
       "\\hline\n",
       "\tfactor(funding\\_indicator)1 &  1.29652 & 0.00000 \\\\\n",
       "\tfactor(s\\_Citizenship)Africa &  0.79403 & 0.01149 \\\\\n",
       "\tfactor(s\\_Citizenship)Asia &  0.51248 & 0.00052 \\\\\n",
       "\tavs\\_net\\_cost &  0.37371 & 0.00142 \\\\\n",
       "\tPC3 & -0.25633 & 0.00261 \\\\\n",
       "\tGPA\\_trend &  0.91535 & 0.00068 \\\\\n",
       "\ts\\_start\\_year & -0.78301 & 0.00000 \\\\\n",
       "\tavs\\_net\\_cost:factor(s\\_College)GD Harpur & -0.37006 & 0.00376 \\\\\n",
       "\tPC3:factor(s\\_College)GD Harpur &  0.23673 & 0.01679 \\\\\n",
       "\\end{tabular}\n"
      ],
      "text/markdown": [
       "\n",
       "| <!--/--> | Estimate | Pr(>|z|) |\n",
       "|---|---|---|\n",
       "| factor(funding_indicator)1 |  1.29652 | 0.00000  |\n",
       "| factor(s_Citizenship)Africa |  0.79403 | 0.01149  |\n",
       "| factor(s_Citizenship)Asia |  0.51248 | 0.00052  |\n",
       "| avs_net_cost |  0.37371 | 0.00142  |\n",
       "| PC3 | -0.25633 | 0.00261  |\n",
       "| GPA_trend |  0.91535 | 0.00068  |\n",
       "| s_start_year | -0.78301 | 0.00000  |\n",
       "| avs_net_cost:factor(s_College)GD Harpur | -0.37006 | 0.00376  |\n",
       "| PC3:factor(s_College)GD Harpur |  0.23673 | 0.01679  |\n",
       "\n"
      ],
      "text/plain": [
       "                                        Estimate Pr(>|z|)\n",
       "factor(funding_indicator)1               1.29652 0.00000 \n",
       "factor(s_Citizenship)Africa              0.79403 0.01149 \n",
       "factor(s_Citizenship)Asia                0.51248 0.00052 \n",
       "avs_net_cost                             0.37371 0.00142 \n",
       "PC3                                     -0.25633 0.00261 \n",
       "GPA_trend                                0.91535 0.00068 \n",
       "s_start_year                            -0.78301 0.00000 \n",
       "avs_net_cost:factor(s_College)GD Harpur -0.37006 0.00376 \n",
       "PC3:factor(s_College)GD Harpur           0.23673 0.01679 "
      ]
     },
     "metadata": {},
     "output_type": "display_data"
    }
   ],
   "source": [
    "round(summary(log_mod_total_aic)$coeff[which(summary(log_mod_total_aic)$coef[,4] <= .05),c(1,4)],5)"
   ]
  },
  {
   "cell_type": "markdown",
   "metadata": {},
   "source": [
    "<b> Both BIC:"
   ]
  },
  {
   "cell_type": "code",
   "execution_count": 53,
   "metadata": {
    "scrolled": false
   },
   "outputs": [
    {
     "name": "stdout",
     "output_type": "stream",
     "text": [
      "Start:  AIC=3071.59\n",
      "Y ~ factor(funding_indicator) + factor(s_Citizenship) + avs_net_cost + \n",
      "    PC1 + PC3 + GPA_trend + s_start_year + factor(s_College) + \n",
      "    avs_net_cost:factor(s_College) + factor(s_College):factor(s_Citizenship) + \n",
      "    factor(s_College):PC1 + factor(s_College):PC3 + factor(s_College):factor(funding_indicator) + \n",
      "    factor(s_College):GPA_trend + s_start_year:factor(s_College)\n",
      "\n",
      "                                              Df Deviance    AIC\n",
      "- factor(s_Citizenship):factor(s_College)      3   2948.4 3054.6\n",
      "- s_start_year:factor(s_College)               1   2947.1 3065.8\n",
      "- GPA_trend:factor(s_College)                  1   2947.6 3066.2\n",
      "- factor(funding_indicator):factor(s_College)  1   2948.9 3067.6\n",
      "- PC1:factor(s_College)                        1   2949.3 3068.0\n",
      "- PC3:factor(s_College)                        1   2952.3 3070.9\n",
      "<none>                                             2946.7 3071.6\n",
      "- avs_net_cost:factor(s_College)               1   2956.4 3075.1\n",
      "\n",
      "Step:  AIC=3054.58\n",
      "Y ~ factor(funding_indicator) + factor(s_Citizenship) + avs_net_cost + \n",
      "    PC1 + PC3 + GPA_trend + s_start_year + factor(s_College) + \n",
      "    avs_net_cost:factor(s_College) + PC1:factor(s_College) + \n",
      "    PC3:factor(s_College) + factor(funding_indicator):factor(s_College) + \n",
      "    GPA_trend:factor(s_College) + s_start_year:factor(s_College)\n",
      "\n",
      "                                              Df Deviance    AIC\n",
      "- s_start_year:factor(s_College)               1   2948.8 3048.7\n",
      "- GPA_trend:factor(s_College)                  1   2949.3 3049.2\n",
      "- factor(funding_indicator):factor(s_College)  1   2950.5 3050.4\n",
      "- PC1:factor(s_College)                        1   2950.7 3050.6\n",
      "- PC3:factor(s_College)                        1   2954.3 3054.2\n",
      "<none>                                             2948.4 3054.6\n",
      "- factor(s_Citizenship)                        3   2967.7 3055.1\n",
      "- avs_net_cost:factor(s_College)               1   2958.1 3058.0\n",
      "+ factor(s_Citizenship):factor(s_College)      3   2946.7 3071.6\n",
      "\n",
      "Step:  AIC=3048.68\n",
      "Y ~ factor(funding_indicator) + factor(s_Citizenship) + avs_net_cost + \n",
      "    PC1 + PC3 + GPA_trend + s_start_year + factor(s_College) + \n",
      "    avs_net_cost:factor(s_College) + PC1:factor(s_College) + \n",
      "    PC3:factor(s_College) + factor(funding_indicator):factor(s_College) + \n",
      "    GPA_trend:factor(s_College)\n",
      "\n",
      "                                              Df Deviance    AIC\n",
      "- GPA_trend:factor(s_College)                  1   2949.6 3043.3\n",
      "- PC1:factor(s_College)                        1   2951.3 3044.9\n",
      "- factor(funding_indicator):factor(s_College)  1   2951.9 3045.6\n",
      "- PC3:factor(s_College)                        1   2954.4 3048.1\n",
      "<none>                                             2948.8 3048.7\n",
      "- factor(s_Citizenship)                        3   2967.9 3049.1\n",
      "- avs_net_cost:factor(s_College)               1   2958.8 3052.4\n",
      "+ s_start_year:factor(s_College)               1   2948.4 3054.6\n",
      "+ factor(s_Citizenship):factor(s_College)      3   2947.1 3065.8\n",
      "- s_start_year                                 1   3159.8 3253.5\n",
      "\n",
      "Step:  AIC=3043.28\n",
      "Y ~ factor(funding_indicator) + factor(s_Citizenship) + avs_net_cost + \n",
      "    PC1 + PC3 + GPA_trend + s_start_year + factor(s_College) + \n",
      "    avs_net_cost:factor(s_College) + PC1:factor(s_College) + \n",
      "    PC3:factor(s_College) + factor(funding_indicator):factor(s_College)\n",
      "\n",
      "                                              Df Deviance    AIC\n",
      "- PC1:factor(s_College)                        1   2952.0 3039.4\n",
      "- factor(funding_indicator):factor(s_College)  1   2952.8 3040.2\n",
      "- PC3:factor(s_College)                        1   2955.6 3043.0\n",
      "<none>                                             2949.6 3043.3\n",
      "- factor(s_Citizenship)                        3   2968.7 3043.7\n",
      "- avs_net_cost:factor(s_College)               1   2959.8 3047.2\n",
      "+ GPA_trend:factor(s_College)                  1   2948.8 3048.7\n",
      "+ s_start_year:factor(s_College)               1   2949.3 3049.2\n",
      "- GPA_trend                                    1   2962.1 3049.5\n",
      "+ factor(s_Citizenship):factor(s_College)      3   2947.9 3060.3\n",
      "- s_start_year                                 1   3160.7 3248.2\n",
      "\n",
      "Step:  AIC=3039.44\n",
      "Y ~ factor(funding_indicator) + factor(s_Citizenship) + avs_net_cost + \n",
      "    PC1 + PC3 + GPA_trend + s_start_year + factor(s_College) + \n",
      "    avs_net_cost:factor(s_College) + PC3:factor(s_College) + \n",
      "    factor(funding_indicator):factor(s_College)\n",
      "\n",
      "                                              Df Deviance    AIC\n",
      "- PC1                                          1   2952.9 3034.1\n",
      "- factor(funding_indicator):factor(s_College)  1   2956.2 3037.3\n",
      "- PC3:factor(s_College)                        1   2956.4 3037.6\n",
      "<none>                                             2952.0 3039.4\n",
      "- factor(s_Citizenship)                        3   2973.0 3041.7\n",
      "- avs_net_cost:factor(s_College)               1   2961.8 3043.0\n",
      "+ PC1:factor(s_College)                        1   2949.6 3043.3\n",
      "+ GPA_trend:factor(s_College)                  1   2951.3 3044.9\n",
      "+ s_start_year:factor(s_College)               1   2951.5 3045.1\n",
      "- GPA_trend                                    1   2964.1 3045.3\n",
      "+ factor(s_Citizenship):factor(s_College)      3   2950.7 3056.9\n",
      "- s_start_year                                 1   3160.9 3242.1\n",
      "\n",
      "Step:  AIC=3034.07\n",
      "Y ~ factor(funding_indicator) + factor(s_Citizenship) + avs_net_cost + \n",
      "    PC3 + GPA_trend + s_start_year + factor(s_College) + avs_net_cost:factor(s_College) + \n",
      "    PC3:factor(s_College) + factor(funding_indicator):factor(s_College)\n",
      "\n",
      "                                              Df Deviance    AIC\n",
      "- PC3:factor(s_College)                        1   2956.9 3031.8\n",
      "- factor(funding_indicator):factor(s_College)  1   2957.2 3032.2\n",
      "<none>                                             2952.9 3034.1\n",
      "- avs_net_cost:factor(s_College)               1   2962.5 3037.4\n",
      "- factor(s_Citizenship)                        3   2976.0 3038.4\n",
      "+ PC1                                          1   2952.0 3039.4\n",
      "+ GPA_trend:factor(s_College)                  1   2952.2 3039.6\n",
      "+ s_start_year:factor(s_College)               1   2952.3 3039.7\n",
      "- GPA_trend                                    1   2965.3 3040.2\n",
      "+ factor(s_Citizenship):factor(s_College)      3   2951.6 3051.5\n",
      "- s_start_year                                 1   3162.3 3237.2\n",
      "\n",
      "Step:  AIC=3031.82\n",
      "Y ~ factor(funding_indicator) + factor(s_Citizenship) + avs_net_cost + \n",
      "    PC3 + GPA_trend + s_start_year + factor(s_College) + avs_net_cost:factor(s_College) + \n",
      "    factor(funding_indicator):factor(s_College)\n",
      "\n",
      "                                              Df Deviance    AIC\n",
      "- PC3                                          1   2960.4 3029.1\n",
      "- factor(funding_indicator):factor(s_College)  1   2960.9 3029.5\n",
      "<none>                                             2956.9 3031.8\n",
      "+ PC3:factor(s_College)                        1   2952.9 3034.1\n",
      "- avs_net_cost:factor(s_College)               1   2966.0 3034.7\n",
      "- factor(s_Citizenship)                        3   2979.7 3035.9\n",
      "+ GPA_trend:factor(s_College)                  1   2955.9 3037.1\n",
      "+ PC1                                          1   2956.4 3037.6\n",
      "+ s_start_year:factor(s_College)               1   2956.7 3037.8\n",
      "- GPA_trend                                    1   2970.0 3038.7\n",
      "+ factor(s_Citizenship):factor(s_College)      3   2955.3 3049.0\n",
      "- s_start_year                                 1   3177.6 3246.3\n",
      "\n",
      "Step:  AIC=3029.08\n",
      "Y ~ factor(funding_indicator) + factor(s_Citizenship) + avs_net_cost + \n",
      "    GPA_trend + s_start_year + factor(s_College) + avs_net_cost:factor(s_College) + \n",
      "    factor(funding_indicator):factor(s_College)\n",
      "\n",
      "                                              Df Deviance    AIC\n",
      "- factor(funding_indicator):factor(s_College)  1   2964.0 3026.5\n",
      "<none>                                             2960.4 3029.1\n",
      "- factor(s_Citizenship)                        3   2981.3 3031.3\n",
      "+ PC3                                          1   2956.9 3031.8\n",
      "- avs_net_cost:factor(s_College)               1   2969.8 3032.2\n",
      "+ GPA_trend:factor(s_College)                  1   2959.3 3034.2\n",
      "+ PC1                                          1   2959.9 3034.8\n",
      "+ s_start_year:factor(s_College)               1   2960.3 3035.3\n",
      "- GPA_trend                                    1   2974.2 3036.7\n",
      "+ factor(s_Citizenship):factor(s_College)      3   2958.8 3046.2\n",
      "- s_start_year                                 1   3183.1 3245.5\n"
     ]
    },
    {
     "name": "stdout",
     "output_type": "stream",
     "text": [
      "\n",
      "Step:  AIC=3026.45\n",
      "Y ~ factor(funding_indicator) + factor(s_Citizenship) + avs_net_cost + \n",
      "    GPA_trend + s_start_year + factor(s_College) + avs_net_cost:factor(s_College)\n",
      "\n",
      "                                              Df Deviance    AIC\n",
      "<none>                                             2964.0 3026.5\n",
      "- avs_net_cost:factor(s_College)               1   2971.9 3028.1\n",
      "+ factor(funding_indicator):factor(s_College)  1   2960.4 3029.1\n",
      "+ PC3                                          1   2960.9 3029.5\n",
      "+ GPA_trend:factor(s_College)                  1   2962.9 3031.6\n",
      "+ s_start_year:factor(s_College)               1   2963.2 3031.9\n",
      "+ PC1                                          1   2963.3 3032.0\n",
      "- factor(s_Citizenship)                        3   2989.0 3032.7\n",
      "- GPA_trend                                    1   2978.3 3034.5\n",
      "+ factor(s_Citizenship):factor(s_College)      3   2962.7 3043.9\n",
      "- factor(funding_indicator)                    1   3063.2 3119.4\n",
      "- s_start_year                                 1   3206.1 3262.3\n"
     ]
    }
   ],
   "source": [
    "log_mod_total_bic = stepAIC(log_mod_total, direction = \"both\", k = log(e_n))"
   ]
  },
  {
   "cell_type": "markdown",
   "metadata": {},
   "source": [
    "<b>Significant variables both BIC selects:"
   ]
  },
  {
   "cell_type": "code",
   "execution_count": 54,
   "metadata": {
    "scrolled": false
   },
   "outputs": [
    {
     "data": {
      "text/html": [
       "<table>\n",
       "<thead><tr><th></th><th scope=col>Estimate</th><th scope=col>Pr(&gt;|z|)</th></tr></thead>\n",
       "<tbody>\n",
       "\t<tr><th scope=row>factor(funding_indicator)1</th><td> 1.08368</td><td>0.00000 </td></tr>\n",
       "\t<tr><th scope=row>factor(s_Citizenship)Africa</th><td> 0.81832</td><td>0.00900 </td></tr>\n",
       "\t<tr><th scope=row>factor(s_Citizenship)Asia</th><td> 0.56832</td><td>0.00005 </td></tr>\n",
       "\t<tr><th scope=row>factor(s_Citizenship)China</th><td> 0.30104</td><td>0.02982 </td></tr>\n",
       "\t<tr><th scope=row>avs_net_cost</th><td> 0.33093</td><td>0.00346 </td></tr>\n",
       "\t<tr><th scope=row>GPA_trend</th><td> 0.97490</td><td>0.00028 </td></tr>\n",
       "\t<tr><th scope=row>s_start_year</th><td>-0.81552</td><td>0.00000 </td></tr>\n",
       "\t<tr><th scope=row>factor(s_College)GD Harpur</th><td>-0.59239</td><td>0.00000 </td></tr>\n",
       "\t<tr><th scope=row>avs_net_cost:factor(s_College)GD Harpur</th><td>-0.32011</td><td>0.00960 </td></tr>\n",
       "</tbody>\n",
       "</table>\n"
      ],
      "text/latex": [
       "\\begin{tabular}{r|ll}\n",
       "  & Estimate & Pr(>\\textbar{}z\\textbar{})\\\\\n",
       "\\hline\n",
       "\tfactor(funding\\_indicator)1 &  1.08368 & 0.00000 \\\\\n",
       "\tfactor(s\\_Citizenship)Africa &  0.81832 & 0.00900 \\\\\n",
       "\tfactor(s\\_Citizenship)Asia &  0.56832 & 0.00005 \\\\\n",
       "\tfactor(s\\_Citizenship)China &  0.30104 & 0.02982 \\\\\n",
       "\tavs\\_net\\_cost &  0.33093 & 0.00346 \\\\\n",
       "\tGPA\\_trend &  0.97490 & 0.00028 \\\\\n",
       "\ts\\_start\\_year & -0.81552 & 0.00000 \\\\\n",
       "\tfactor(s\\_College)GD Harpur & -0.59239 & 0.00000 \\\\\n",
       "\tavs\\_net\\_cost:factor(s\\_College)GD Harpur & -0.32011 & 0.00960 \\\\\n",
       "\\end{tabular}\n"
      ],
      "text/markdown": [
       "\n",
       "| <!--/--> | Estimate | Pr(>|z|) |\n",
       "|---|---|---|\n",
       "| factor(funding_indicator)1 |  1.08368 | 0.00000  |\n",
       "| factor(s_Citizenship)Africa |  0.81832 | 0.00900  |\n",
       "| factor(s_Citizenship)Asia |  0.56832 | 0.00005  |\n",
       "| factor(s_Citizenship)China |  0.30104 | 0.02982  |\n",
       "| avs_net_cost |  0.33093 | 0.00346  |\n",
       "| GPA_trend |  0.97490 | 0.00028  |\n",
       "| s_start_year | -0.81552 | 0.00000  |\n",
       "| factor(s_College)GD Harpur | -0.59239 | 0.00000  |\n",
       "| avs_net_cost:factor(s_College)GD Harpur | -0.32011 | 0.00960  |\n",
       "\n"
      ],
      "text/plain": [
       "                                        Estimate Pr(>|z|)\n",
       "factor(funding_indicator)1               1.08368 0.00000 \n",
       "factor(s_Citizenship)Africa              0.81832 0.00900 \n",
       "factor(s_Citizenship)Asia                0.56832 0.00005 \n",
       "factor(s_Citizenship)China               0.30104 0.02982 \n",
       "avs_net_cost                             0.33093 0.00346 \n",
       "GPA_trend                                0.97490 0.00028 \n",
       "s_start_year                            -0.81552 0.00000 \n",
       "factor(s_College)GD Harpur              -0.59239 0.00000 \n",
       "avs_net_cost:factor(s_College)GD Harpur -0.32011 0.00960 "
      ]
     },
     "metadata": {},
     "output_type": "display_data"
    }
   ],
   "source": [
    "round(summary(log_mod_total_bic)$coeff[which(summary(log_mod_total_bic)$coef[,4] <= .05),c(1,4)],5)"
   ]
  },
  {
   "cell_type": "markdown",
   "metadata": {},
   "source": [
    "<b>After analysis the interaction term:"
   ]
  },
  {
   "cell_type": "markdown",
   "metadata": {},
   "source": [
    "<b> Logistic regression model:"
   ]
  },
  {
   "cell_type": "code",
   "execution_count": 55,
   "metadata": {
    "scrolled": false
   },
   "outputs": [
    {
     "data": {
      "text/plain": [
       "\n",
       "Call:\n",
       "glm(formula = Y ~ factor(funding_indicator) + factor(s_Citizenship) + \n",
       "    avs_net_cost + PC1 + PC3 + GPA_trend + s_start_year + factor(s_College) + \n",
       "    factor(s_College):factor(s_Citizenship) + factor(s_College):PC1 + \n",
       "    factor(s_College):factor(funding_indicator) + factor(s_College):GPA_trend + \n",
       "    s_start_year:factor(s_College), family = \"binomial\", data = df)\n",
       "\n",
       "Deviance Residuals: \n",
       "    Min       1Q   Median       3Q      Max  \n",
       "-2.7064  -1.1063   0.6730   0.9282   1.9729  \n",
       "\n",
       "Coefficients:\n",
       "                                                       Estimate Std. Error\n",
       "(Intercept)                                            -0.10607    0.13445\n",
       "factor(funding_indicator)1                              1.22542    0.17848\n",
       "factor(s_Citizenship)Africa                             1.69820    1.11794\n",
       "factor(s_Citizenship)Asia                               0.36874    0.23088\n",
       "factor(s_Citizenship)China                              0.22908    0.20799\n",
       "avs_net_cost                                            0.08769    0.04510\n",
       "PC1                                                    -0.14085    0.12987\n",
       "PC3                                                    -0.09079    0.04322\n",
       "GPA_trend                                               1.41315    0.49315\n",
       "s_start_year                                           -0.74160    0.10207\n",
       "factor(s_College)GD Harpur                             -0.38180    0.18517\n",
       "factor(s_Citizenship)Africa:factor(s_College)GD Harpur -0.94903    1.16669\n",
       "factor(s_Citizenship)Asia:factor(s_College)GD Harpur    0.26870    0.30062\n",
       "factor(s_Citizenship)China:factor(s_College)GD Harpur   0.14366    0.28560\n",
       "PC1:factor(s_College)GD Harpur                          0.12881    0.13549\n",
       "factor(funding_indicator)1:factor(s_College)GD Harpur  -0.26187    0.22977\n",
       "GPA_trend:factor(s_College)GD Harpur                   -0.66390    0.58864\n",
       "s_start_year:factor(s_College)GD Harpur                -0.08582    0.12514\n",
       "                                                       z value Pr(>|z|)    \n",
       "(Intercept)                                             -0.789  0.43016    \n",
       "factor(funding_indicator)1                               6.866 6.60e-12 ***\n",
       "factor(s_Citizenship)Africa                              1.519  0.12875    \n",
       "factor(s_Citizenship)Asia                                1.597  0.11025    \n",
       "factor(s_Citizenship)China                               1.101  0.27071    \n",
       "avs_net_cost                                             1.944  0.05189 .  \n",
       "PC1                                                     -1.085  0.27813    \n",
       "PC3                                                     -2.101  0.03565 *  \n",
       "GPA_trend                                                2.866  0.00416 ** \n",
       "s_start_year                                            -7.266 3.71e-13 ***\n",
       "factor(s_College)GD Harpur                              -2.062  0.03922 *  \n",
       "factor(s_Citizenship)Africa:factor(s_College)GD Harpur  -0.813  0.41597    \n",
       "factor(s_Citizenship)Asia:factor(s_College)GD Harpur     0.894  0.37142    \n",
       "factor(s_Citizenship)China:factor(s_College)GD Harpur    0.503  0.61496    \n",
       "PC1:factor(s_College)GD Harpur                           0.951  0.34177    \n",
       "factor(funding_indicator)1:factor(s_College)GD Harpur   -1.140  0.25440    \n",
       "GPA_trend:factor(s_College)GD Harpur                    -1.128  0.25938    \n",
       "s_start_year:factor(s_College)GD Harpur                 -0.686  0.49285    \n",
       "---\n",
       "Signif. codes:  0 '***' 0.001 '**' 0.01 '*' 0.05 '.' 0.1 ' ' 1\n",
       "\n",
       "(Dispersion parameter for binomial family taken to be 1)\n",
       "\n",
       "    Null deviance: 3281.8  on 2469  degrees of freedom\n",
       "Residual deviance: 2961.4  on 2452  degrees of freedom\n",
       "AIC: 2997.4\n",
       "\n",
       "Number of Fisher Scoring iterations: 4\n"
      ]
     },
     "metadata": {},
     "output_type": "display_data"
    }
   ],
   "source": [
    "log_mod_total = glm(Y~factor(funding_indicator)+factor(s_Citizenship)+\n",
    "                avs_net_cost+PC1+PC3+GPA_trend+s_start_year+factor(s_College)+\n",
    "                factor(s_College):factor(s_Citizenship)+factor(s_College):PC1+\n",
    "                factor(s_College):factor(funding_indicator)+factor(s_College):GPA_trend+s_start_year:factor(s_College),\n",
    "                data=df,family=\"binomial\")\n",
    "summary(log_mod_total)"
   ]
  },
  {
   "cell_type": "markdown",
   "metadata": {},
   "source": [
    "<b> Significant Variables of logistic regression model:"
   ]
  },
  {
   "cell_type": "code",
   "execution_count": 56,
   "metadata": {
    "scrolled": true
   },
   "outputs": [
    {
     "data": {
      "text/html": [
       "<table>\n",
       "<thead><tr><th></th><th scope=col>Estimate</th><th scope=col>Pr(&gt;|z|)</th></tr></thead>\n",
       "<tbody>\n",
       "\t<tr><th scope=row>factor(funding_indicator)1</th><td> 1.22542</td><td>0.00000 </td></tr>\n",
       "\t<tr><th scope=row>PC3</th><td>-0.09079</td><td>0.03565 </td></tr>\n",
       "\t<tr><th scope=row>GPA_trend</th><td> 1.41315</td><td>0.00416 </td></tr>\n",
       "\t<tr><th scope=row>s_start_year</th><td>-0.74160</td><td>0.00000 </td></tr>\n",
       "\t<tr><th scope=row>factor(s_College)GD Harpur</th><td>-0.38180</td><td>0.03922 </td></tr>\n",
       "</tbody>\n",
       "</table>\n"
      ],
      "text/latex": [
       "\\begin{tabular}{r|ll}\n",
       "  & Estimate & Pr(>\\textbar{}z\\textbar{})\\\\\n",
       "\\hline\n",
       "\tfactor(funding\\_indicator)1 &  1.22542 & 0.00000 \\\\\n",
       "\tPC3 & -0.09079 & 0.03565 \\\\\n",
       "\tGPA\\_trend &  1.41315 & 0.00416 \\\\\n",
       "\ts\\_start\\_year & -0.74160 & 0.00000 \\\\\n",
       "\tfactor(s\\_College)GD Harpur & -0.38180 & 0.03922 \\\\\n",
       "\\end{tabular}\n"
      ],
      "text/markdown": [
       "\n",
       "| <!--/--> | Estimate | Pr(>|z|) |\n",
       "|---|---|---|\n",
       "| factor(funding_indicator)1 |  1.22542 | 0.00000  |\n",
       "| PC3 | -0.09079 | 0.03565  |\n",
       "| GPA_trend |  1.41315 | 0.00416  |\n",
       "| s_start_year | -0.74160 | 0.00000  |\n",
       "| factor(s_College)GD Harpur | -0.38180 | 0.03922  |\n",
       "\n"
      ],
      "text/plain": [
       "                           Estimate Pr(>|z|)\n",
       "factor(funding_indicator)1  1.22542 0.00000 \n",
       "PC3                        -0.09079 0.03565 \n",
       "GPA_trend                   1.41315 0.00416 \n",
       "s_start_year               -0.74160 0.00000 \n",
       "factor(s_College)GD Harpur -0.38180 0.03922 "
      ]
     },
     "metadata": {},
     "output_type": "display_data"
    }
   ],
   "source": [
    "round(summary(log_mod_total)$coeff[which(summary(log_mod_total)$coef[,4] <= .05),c(1,4)],5)"
   ]
  },
  {
   "cell_type": "markdown",
   "metadata": {},
   "source": [
    "<b> Both AIC:"
   ]
  },
  {
   "cell_type": "code",
   "execution_count": 57,
   "metadata": {},
   "outputs": [
    {
     "name": "stdout",
     "output_type": "stream",
     "text": [
      "Start:  AIC=2997.41\n",
      "Y ~ factor(funding_indicator) + factor(s_Citizenship) + avs_net_cost + \n",
      "    PC1 + PC3 + GPA_trend + s_start_year + factor(s_College) + \n",
      "    factor(s_College):factor(s_Citizenship) + factor(s_College):PC1 + \n",
      "    factor(s_College):factor(funding_indicator) + factor(s_College):GPA_trend + \n",
      "    s_start_year:factor(s_College)\n",
      "\n",
      "                                              Df Deviance    AIC\n",
      "- factor(s_Citizenship):factor(s_College)      3   2963.2 2993.2\n",
      "- s_start_year:factor(s_College)               1   2961.9 2995.9\n",
      "- PC1:factor(s_College)                        1   2962.3 2996.3\n",
      "- GPA_trend:factor(s_College)                  1   2962.7 2996.7\n",
      "- factor(funding_indicator):factor(s_College)  1   2962.7 2996.7\n",
      "<none>                                             2961.4 2997.4\n",
      "- avs_net_cost                                 1   2965.4 2999.4\n",
      "- PC3                                          1   2965.9 2999.9\n",
      "\n",
      "Step:  AIC=2993.25\n",
      "Y ~ factor(funding_indicator) + factor(s_Citizenship) + avs_net_cost + \n",
      "    PC1 + PC3 + GPA_trend + s_start_year + factor(s_College) + \n",
      "    PC1:factor(s_College) + factor(funding_indicator):factor(s_College) + \n",
      "    GPA_trend:factor(s_College) + s_start_year:factor(s_College)\n",
      "\n",
      "                                              Df Deviance    AIC\n",
      "- s_start_year:factor(s_College)               1   2963.6 2991.6\n",
      "- PC1:factor(s_College)                        1   2963.8 2991.8\n",
      "- factor(funding_indicator):factor(s_College)  1   2964.4 2992.4\n",
      "- GPA_trend:factor(s_College)                  1   2964.6 2992.6\n",
      "<none>                                             2963.2 2993.2\n",
      "- avs_net_cost                                 1   2967.1 2995.1\n",
      "- PC3                                          1   2967.6 2995.6\n",
      "+ factor(s_Citizenship):factor(s_College)      3   2961.4 2997.4\n",
      "- factor(s_Citizenship)                        3   2984.8 3008.8\n",
      "\n",
      "Step:  AIC=2991.63\n",
      "Y ~ factor(funding_indicator) + factor(s_Citizenship) + avs_net_cost + \n",
      "    PC1 + PC3 + GPA_trend + s_start_year + factor(s_College) + \n",
      "    PC1:factor(s_College) + factor(funding_indicator):factor(s_College) + \n",
      "    GPA_trend:factor(s_College)\n",
      "\n",
      "                                              Df Deviance    AIC\n",
      "- PC1:factor(s_College)                        1   2964.4 2990.4\n",
      "- GPA_trend:factor(s_College)                  1   2964.9 2990.9\n",
      "- factor(funding_indicator):factor(s_College)  1   2965.5 2991.5\n",
      "<none>                                             2963.6 2991.6\n",
      "+ s_start_year:factor(s_College)               1   2963.2 2993.2\n",
      "- avs_net_cost                                 1   2967.4 2993.4\n",
      "- PC3                                          1   2967.7 2993.7\n",
      "+ factor(s_Citizenship):factor(s_College)      3   2961.9 2995.9\n",
      "- factor(s_Citizenship)                        3   2985.0 3007.0\n",
      "- s_start_year                                 1   3184.3 3210.3\n",
      "\n",
      "Step:  AIC=2990.39\n",
      "Y ~ factor(funding_indicator) + factor(s_Citizenship) + avs_net_cost + \n",
      "    PC1 + PC3 + GPA_trend + s_start_year + factor(s_College) + \n",
      "    factor(funding_indicator):factor(s_College) + GPA_trend:factor(s_College)\n",
      "\n",
      "                                              Df Deviance    AIC\n",
      "- PC1                                          1   2964.8 2988.8\n",
      "- GPA_trend:factor(s_College)                  1   2965.6 2989.6\n",
      "<none>                                             2964.4 2990.4\n",
      "- factor(funding_indicator):factor(s_College)  1   2966.7 2990.7\n",
      "+ PC1:factor(s_College)                        1   2963.6 2991.6\n",
      "+ s_start_year:factor(s_College)               1   2963.8 2991.8\n",
      "- PC3                                          1   2968.0 2992.0\n",
      "- avs_net_cost                                 1   2968.0 2992.0\n",
      "+ factor(s_Citizenship):factor(s_College)      3   2963.0 2995.0\n",
      "- factor(s_Citizenship)                        3   2986.8 3006.8\n",
      "- s_start_year                                 1   3184.9 3208.9\n",
      "\n",
      "Step:  AIC=2988.85\n",
      "Y ~ factor(funding_indicator) + factor(s_Citizenship) + avs_net_cost + \n",
      "    PC3 + GPA_trend + s_start_year + factor(s_College) + factor(funding_indicator):factor(s_College) + \n",
      "    GPA_trend:factor(s_College)\n",
      "\n",
      "                                              Df Deviance    AIC\n",
      "- GPA_trend:factor(s_College)                  1   2966.0 2988.0\n",
      "<none>                                             2964.8 2988.8\n",
      "- factor(funding_indicator):factor(s_College)  1   2967.3 2989.3\n",
      "+ s_start_year:factor(s_College)               1   2964.3 2990.3\n",
      "+ PC1                                          1   2964.4 2990.4\n",
      "- PC3                                          1   2968.4 2990.4\n",
      "- avs_net_cost                                 1   2968.5 2990.5\n",
      "+ factor(s_Citizenship):factor(s_College)      3   2963.4 2993.4\n",
      "- factor(s_Citizenship)                        3   2989.0 3007.0\n",
      "- s_start_year                                 1   3185.3 3207.3\n",
      "\n",
      "Step:  AIC=2987.97\n",
      "Y ~ factor(funding_indicator) + factor(s_Citizenship) + avs_net_cost + \n",
      "    PC3 + GPA_trend + s_start_year + factor(s_College) + factor(funding_indicator):factor(s_College)\n",
      "\n",
      "                                              Df Deviance    AIC\n",
      "<none>                                             2966.0 2988.0\n",
      "- factor(funding_indicator):factor(s_College)  1   2968.4 2988.4\n",
      "+ GPA_trend:factor(s_College)                  1   2964.8 2988.8\n",
      "+ s_start_year:factor(s_College)               1   2965.4 2989.4\n",
      "+ PC1                                          1   2965.6 2989.6\n",
      "- avs_net_cost                                 1   2969.6 2989.6\n",
      "- PC3                                          1   2969.8 2989.8\n",
      "+ factor(s_Citizenship):factor(s_College)      3   2964.5 2992.5\n",
      "- GPA_trend                                    1   2979.1 2999.1\n",
      "- factor(s_Citizenship)                        3   2990.0 3006.0\n",
      "- s_start_year                                 1   3187.1 3207.1\n"
     ]
    }
   ],
   "source": [
    "log_mod_total_aic= stepAIC(log_mod_total, direction = 'both')"
   ]
  },
  {
   "cell_type": "markdown",
   "metadata": {},
   "source": [
    "<b> Significant variables both AIC selects:"
   ]
  },
  {
   "cell_type": "code",
   "execution_count": 58,
   "metadata": {
    "scrolled": true
   },
   "outputs": [
    {
     "data": {
      "text/html": [
       "<table>\n",
       "<thead><tr><th></th><th scope=col>Estimate</th><th scope=col>Pr(&gt;|z|)</th></tr></thead>\n",
       "<tbody>\n",
       "\t<tr><th scope=row>factor(funding_indicator)1</th><td> 1.25970</td><td>0.00000 </td></tr>\n",
       "\t<tr><th scope=row>factor(s_Citizenship)Africa</th><td> 0.84582</td><td>0.00742 </td></tr>\n",
       "\t<tr><th scope=row>factor(s_Citizenship)Asia</th><td> 0.55952</td><td>0.00011 </td></tr>\n",
       "\t<tr><th scope=row>factor(s_Citizenship)China</th><td> 0.32115</td><td>0.02204 </td></tr>\n",
       "\t<tr><th scope=row>GPA_trend</th><td> 0.94268</td><td>0.00048 </td></tr>\n",
       "\t<tr><th scope=row>s_start_year</th><td>-0.79260</td><td>0.00000 </td></tr>\n",
       "\t<tr><th scope=row>factor(s_College)GD Harpur</th><td>-0.34781</td><td>0.04843 </td></tr>\n",
       "</tbody>\n",
       "</table>\n"
      ],
      "text/latex": [
       "\\begin{tabular}{r|ll}\n",
       "  & Estimate & Pr(>\\textbar{}z\\textbar{})\\\\\n",
       "\\hline\n",
       "\tfactor(funding\\_indicator)1 &  1.25970 & 0.00000 \\\\\n",
       "\tfactor(s\\_Citizenship)Africa &  0.84582 & 0.00742 \\\\\n",
       "\tfactor(s\\_Citizenship)Asia &  0.55952 & 0.00011 \\\\\n",
       "\tfactor(s\\_Citizenship)China &  0.32115 & 0.02204 \\\\\n",
       "\tGPA\\_trend &  0.94268 & 0.00048 \\\\\n",
       "\ts\\_start\\_year & -0.79260 & 0.00000 \\\\\n",
       "\tfactor(s\\_College)GD Harpur & -0.34781 & 0.04843 \\\\\n",
       "\\end{tabular}\n"
      ],
      "text/markdown": [
       "\n",
       "| <!--/--> | Estimate | Pr(>|z|) |\n",
       "|---|---|---|\n",
       "| factor(funding_indicator)1 |  1.25970 | 0.00000  |\n",
       "| factor(s_Citizenship)Africa |  0.84582 | 0.00742  |\n",
       "| factor(s_Citizenship)Asia |  0.55952 | 0.00011  |\n",
       "| factor(s_Citizenship)China |  0.32115 | 0.02204  |\n",
       "| GPA_trend |  0.94268 | 0.00048  |\n",
       "| s_start_year | -0.79260 | 0.00000  |\n",
       "| factor(s_College)GD Harpur | -0.34781 | 0.04843  |\n",
       "\n"
      ],
      "text/plain": [
       "                            Estimate Pr(>|z|)\n",
       "factor(funding_indicator)1   1.25970 0.00000 \n",
       "factor(s_Citizenship)Africa  0.84582 0.00742 \n",
       "factor(s_Citizenship)Asia    0.55952 0.00011 \n",
       "factor(s_Citizenship)China   0.32115 0.02204 \n",
       "GPA_trend                    0.94268 0.00048 \n",
       "s_start_year                -0.79260 0.00000 \n",
       "factor(s_College)GD Harpur  -0.34781 0.04843 "
      ]
     },
     "metadata": {},
     "output_type": "display_data"
    }
   ],
   "source": [
    "round(summary(log_mod_total_aic)$coeff[which(summary(log_mod_total_aic)$coef[,4] <= .05),c(1,4)],5)"
   ]
  },
  {
   "cell_type": "markdown",
   "metadata": {},
   "source": [
    "<b>Both BIC"
   ]
  },
  {
   "cell_type": "code",
   "execution_count": 59,
   "metadata": {
    "scrolled": false
   },
   "outputs": [
    {
     "name": "stdout",
     "output_type": "stream",
     "text": [
      "Start:  AIC=3073.81\n",
      "Y ~ factor(funding_indicator) + factor(s_Citizenship) + avs_net_cost + \n",
      "    PC1 + PC3 + GPA_trend + s_start_year + factor(s_College) + \n",
      "    factor(s_College):factor(s_Citizenship) + factor(s_College):PC1 + \n",
      "    factor(s_College):factor(funding_indicator) + factor(s_College):GPA_trend + \n",
      "    s_start_year:factor(s_College)\n",
      "\n",
      "                                              Df Deviance    AIC\n",
      "- factor(s_Citizenship):factor(s_College)      3   2963.2 3056.9\n",
      "- s_start_year:factor(s_College)               1   2961.9 3068.0\n",
      "- PC1:factor(s_College)                        1   2962.3 3068.5\n",
      "- GPA_trend:factor(s_College)                  1   2962.7 3068.9\n",
      "- factor(funding_indicator):factor(s_College)  1   2962.7 3068.9\n",
      "- avs_net_cost                                 1   2965.4 3071.5\n",
      "- PC3                                          1   2965.9 3072.0\n",
      "<none>                                             2961.4 3073.8\n",
      "\n",
      "Step:  AIC=3056.91\n",
      "Y ~ factor(funding_indicator) + factor(s_Citizenship) + avs_net_cost + \n",
      "    PC1 + PC3 + GPA_trend + s_start_year + factor(s_College) + \n",
      "    PC1:factor(s_College) + factor(funding_indicator):factor(s_College) + \n",
      "    GPA_trend:factor(s_College) + s_start_year:factor(s_College)\n",
      "\n",
      "                                              Df Deviance    AIC\n",
      "- s_start_year:factor(s_College)               1   2963.6 3051.1\n",
      "- PC1:factor(s_College)                        1   2963.8 3051.3\n",
      "- factor(funding_indicator):factor(s_College)  1   2964.4 3051.8\n",
      "- GPA_trend:factor(s_College)                  1   2964.6 3052.0\n",
      "- avs_net_cost                                 1   2967.1 3054.5\n",
      "- PC3                                          1   2967.6 3055.0\n",
      "<none>                                             2963.2 3056.9\n",
      "- factor(s_Citizenship)                        3   2984.8 3059.7\n",
      "+ factor(s_Citizenship):factor(s_College)      3   2961.4 3073.8\n",
      "\n",
      "Step:  AIC=3051.05\n",
      "Y ~ factor(funding_indicator) + factor(s_Citizenship) + avs_net_cost + \n",
      "    PC1 + PC3 + GPA_trend + s_start_year + factor(s_College) + \n",
      "    PC1:factor(s_College) + factor(funding_indicator):factor(s_College) + \n",
      "    GPA_trend:factor(s_College)\n",
      "\n",
      "                                              Df Deviance    AIC\n",
      "- PC1:factor(s_College)                        1   2964.4 3045.6\n",
      "- GPA_trend:factor(s_College)                  1   2964.9 3046.1\n",
      "- factor(funding_indicator):factor(s_College)  1   2965.5 3046.7\n",
      "- avs_net_cost                                 1   2967.4 3048.6\n",
      "- PC3                                          1   2967.7 3048.9\n",
      "<none>                                             2963.6 3051.0\n",
      "- factor(s_Citizenship)                        3   2985.0 3053.7\n",
      "+ s_start_year:factor(s_College)               1   2963.2 3056.9\n",
      "+ factor(s_Citizenship):factor(s_College)      3   2961.9 3068.0\n",
      "- s_start_year                                 1   3184.3 3265.4\n",
      "\n",
      "Step:  AIC=3045.56\n",
      "Y ~ factor(funding_indicator) + factor(s_Citizenship) + avs_net_cost + \n",
      "    PC1 + PC3 + GPA_trend + s_start_year + factor(s_College) + \n",
      "    factor(funding_indicator):factor(s_College) + GPA_trend:factor(s_College)\n",
      "\n",
      "                                              Df Deviance    AIC\n",
      "- PC1                                          1   2964.8 3039.8\n",
      "- GPA_trend:factor(s_College)                  1   2965.6 3040.5\n",
      "- factor(funding_indicator):factor(s_College)  1   2966.7 3041.7\n",
      "- PC3                                          1   2968.0 3042.9\n",
      "- avs_net_cost                                 1   2968.0 3042.9\n",
      "<none>                                             2964.4 3045.6\n",
      "- factor(s_Citizenship)                        3   2986.8 3049.3\n",
      "+ PC1:factor(s_College)                        1   2963.6 3051.0\n",
      "+ s_start_year:factor(s_College)               1   2963.8 3051.3\n",
      "+ factor(s_Citizenship):factor(s_College)      3   2963.0 3062.9\n",
      "- s_start_year                                 1   3184.9 3259.8\n",
      "\n",
      "Step:  AIC=3039.78\n",
      "Y ~ factor(funding_indicator) + factor(s_Citizenship) + avs_net_cost + \n",
      "    PC3 + GPA_trend + s_start_year + factor(s_College) + factor(funding_indicator):factor(s_College) + \n",
      "    GPA_trend:factor(s_College)\n",
      "\n",
      "                                              Df Deviance    AIC\n",
      "- GPA_trend:factor(s_College)                  1   2966.0 3034.7\n",
      "- factor(funding_indicator):factor(s_College)  1   2967.3 3036.0\n",
      "- PC3                                          1   2968.4 3037.1\n",
      "- avs_net_cost                                 1   2968.5 3037.2\n",
      "<none>                                             2964.8 3039.8\n",
      "- factor(s_Citizenship)                        3   2989.0 3045.2\n",
      "+ s_start_year:factor(s_College)               1   2964.3 3045.4\n",
      "+ PC1                                          1   2964.4 3045.6\n",
      "+ factor(s_Citizenship):factor(s_College)      3   2963.4 3057.1\n",
      "- s_start_year                                 1   3185.3 3254.0\n",
      "\n",
      "Step:  AIC=3034.65\n",
      "Y ~ factor(funding_indicator) + factor(s_Citizenship) + avs_net_cost + \n",
      "    PC3 + GPA_trend + s_start_year + factor(s_College) + factor(funding_indicator):factor(s_College)\n",
      "\n",
      "                                              Df Deviance    AIC\n",
      "- factor(funding_indicator):factor(s_College)  1   2968.4 3030.9\n",
      "- avs_net_cost                                 1   2969.6 3032.1\n",
      "- PC3                                          1   2969.8 3032.2\n",
      "<none>                                             2966.0 3034.7\n",
      "+ GPA_trend:factor(s_College)                  1   2964.8 3039.8\n",
      "- factor(s_Citizenship)                        3   2990.0 3040.0\n",
      "+ s_start_year:factor(s_College)               1   2965.4 3040.4\n",
      "+ PC1                                          1   2965.6 3040.5\n",
      "- GPA_trend                                    1   2979.1 3041.6\n",
      "+ factor(s_Citizenship):factor(s_College)      3   2964.5 3051.9\n",
      "- s_start_year                                 1   3187.1 3249.6\n",
      "\n",
      "Step:  AIC=3030.89\n",
      "Y ~ factor(funding_indicator) + factor(s_Citizenship) + avs_net_cost + \n",
      "    PC3 + GPA_trend + s_start_year + factor(s_College)\n",
      "\n",
      "                                              Df Deviance    AIC\n",
      "- PC3                                          1   2971.9 3028.1\n",
      "- avs_net_cost                                 1   2972.2 3028.4\n",
      "<none>                                             2968.4 3030.9\n",
      "+ factor(funding_indicator):factor(s_College)  1   2966.0 3034.7\n",
      "+ s_start_year:factor(s_College)               1   2966.9 3035.6\n",
      "+ GPA_trend:factor(s_College)                  1   2967.3 3036.0\n",
      "+ PC1                                          1   2967.9 3036.6\n",
      "- GPA_trend                                    1   2982.0 3038.2\n",
      "- factor(s_Citizenship)                        3   2996.1 3039.8\n",
      "+ factor(s_Citizenship):factor(s_College)      3   2967.2 3048.4\n",
      "- factor(s_College)                            1   3002.2 3058.4\n",
      "- factor(funding_indicator)                    1   3063.7 3119.9\n",
      "- s_start_year                                 1   3208.4 3264.6\n",
      "\n",
      "Step:  AIC=3028.14\n",
      "Y ~ factor(funding_indicator) + factor(s_Citizenship) + avs_net_cost + \n",
      "    GPA_trend + s_start_year + factor(s_College)\n",
      "\n",
      "                                              Df Deviance    AIC\n",
      "- avs_net_cost                                 1   2975.2 3025.2\n",
      "<none>                                             2971.9 3028.1\n",
      "+ PC3                                          1   2968.4 3030.9\n",
      "+ factor(funding_indicator):factor(s_College)  1   2969.8 3032.2\n",
      "+ GPA_trend:factor(s_College)                  1   2970.6 3033.1\n",
      "+ s_start_year:factor(s_College)               1   2971.1 3033.5\n",
      "+ PC1                                          1   2971.4 3033.9\n",
      "- factor(s_Citizenship)                        3   2997.4 3034.9\n",
      "- GPA_trend                                    1   2986.2 3036.2\n",
      "+ factor(s_Citizenship):factor(s_College)      3   2970.7 3045.6\n",
      "- factor(s_College)                            1   3004.5 3054.4\n",
      "- factor(funding_indicator)                    1   3069.5 3119.5\n",
      "- s_start_year                                 1   3213.4 3263.4\n",
      "\n",
      "Step:  AIC=3025.2\n",
      "Y ~ factor(funding_indicator) + factor(s_Citizenship) + GPA_trend + \n",
      "    s_start_year + factor(s_College)\n",
      "\n",
      "                                              Df Deviance    AIC\n",
      "<none>                                             2975.2 3025.2\n",
      "+ avs_net_cost                                 1   2971.9 3028.1\n",
      "+ PC3                                          1   2972.2 3028.4\n",
      "+ factor(funding_indicator):factor(s_College)  1   2973.0 3029.2\n",
      "+ GPA_trend:factor(s_College)                  1   2973.9 3030.1\n",
      "+ s_start_year:factor(s_College)               1   2974.4 3030.6\n",
      "+ PC1                                          1   2974.7 3030.9\n",
      "- factor(s_Citizenship)                        3   3000.4 3031.6\n",
      "- GPA_trend                                    1   2990.1 3033.8\n",
      "+ factor(s_Citizenship):factor(s_College)      3   2973.9 3042.6\n",
      "- factor(s_College)                            1   3006.6 3050.3\n",
      "- factor(funding_indicator)                    1   3069.8 3113.5\n",
      "- s_start_year                                 1   3213.8 3257.5\n"
     ]
    }
   ],
   "source": [
    "log_mod_total_bic = stepAIC(log_mod_total, direction = \"both\", k = log(e_n))"
   ]
  },
  {
   "cell_type": "markdown",
   "metadata": {},
   "source": [
    "<b>Significant variables both BIC selects:"
   ]
  },
  {
   "cell_type": "code",
   "execution_count": 60,
   "metadata": {},
   "outputs": [
    {
     "data": {
      "text/html": [
       "<table>\n",
       "<thead><tr><th></th><th scope=col>Estimate</th><th scope=col>Pr(&gt;|z|)</th></tr></thead>\n",
       "<tbody>\n",
       "\t<tr><th scope=row>factor(funding_indicator)1</th><td> 1.04255</td><td>0.00000 </td></tr>\n",
       "\t<tr><th scope=row>factor(s_Citizenship)Africa</th><td> 0.81592</td><td>0.00933 </td></tr>\n",
       "\t<tr><th scope=row>factor(s_Citizenship)Asia</th><td> 0.56130</td><td>0.00007 </td></tr>\n",
       "\t<tr><th scope=row>factor(s_Citizenship)China</th><td> 0.32422</td><td>0.01861 </td></tr>\n",
       "\t<tr><th scope=row>GPA_trend</th><td> 0.99136</td><td>0.00022 </td></tr>\n",
       "\t<tr><th scope=row>s_start_year</th><td>-0.80605</td><td>0.00000 </td></tr>\n",
       "\t<tr><th scope=row>factor(s_College)GD Harpur</th><td>-0.55246</td><td>0.00000 </td></tr>\n",
       "</tbody>\n",
       "</table>\n"
      ],
      "text/latex": [
       "\\begin{tabular}{r|ll}\n",
       "  & Estimate & Pr(>\\textbar{}z\\textbar{})\\\\\n",
       "\\hline\n",
       "\tfactor(funding\\_indicator)1 &  1.04255 & 0.00000 \\\\\n",
       "\tfactor(s\\_Citizenship)Africa &  0.81592 & 0.00933 \\\\\n",
       "\tfactor(s\\_Citizenship)Asia &  0.56130 & 0.00007 \\\\\n",
       "\tfactor(s\\_Citizenship)China &  0.32422 & 0.01861 \\\\\n",
       "\tGPA\\_trend &  0.99136 & 0.00022 \\\\\n",
       "\ts\\_start\\_year & -0.80605 & 0.00000 \\\\\n",
       "\tfactor(s\\_College)GD Harpur & -0.55246 & 0.00000 \\\\\n",
       "\\end{tabular}\n"
      ],
      "text/markdown": [
       "\n",
       "| <!--/--> | Estimate | Pr(>|z|) |\n",
       "|---|---|---|\n",
       "| factor(funding_indicator)1 |  1.04255 | 0.00000  |\n",
       "| factor(s_Citizenship)Africa |  0.81592 | 0.00933  |\n",
       "| factor(s_Citizenship)Asia |  0.56130 | 0.00007  |\n",
       "| factor(s_Citizenship)China |  0.32422 | 0.01861  |\n",
       "| GPA_trend |  0.99136 | 0.00022  |\n",
       "| s_start_year | -0.80605 | 0.00000  |\n",
       "| factor(s_College)GD Harpur | -0.55246 | 0.00000  |\n",
       "\n"
      ],
      "text/plain": [
       "                            Estimate Pr(>|z|)\n",
       "factor(funding_indicator)1   1.04255 0.00000 \n",
       "factor(s_Citizenship)Africa  0.81592 0.00933 \n",
       "factor(s_Citizenship)Asia    0.56130 0.00007 \n",
       "factor(s_Citizenship)China   0.32422 0.01861 \n",
       "GPA_trend                    0.99136 0.00022 \n",
       "s_start_year                -0.80605 0.00000 \n",
       "factor(s_College)GD Harpur  -0.55246 0.00000 "
      ]
     },
     "metadata": {},
     "output_type": "display_data"
    }
   ],
   "source": [
    "round(summary(log_mod_total_bic)$coeff[which(summary(log_mod_total_bic)$coef[,4] <= .05),c(1,4)],5)"
   ]
  },
  {
   "cell_type": "markdown",
   "metadata": {},
   "source": [
    "# Prediction"
   ]
  },
  {
   "cell_type": "code",
   "execution_count": 61,
   "metadata": {
    "scrolled": true
   },
   "outputs": [
    {
     "data": {
      "text/html": [
       "<ol class=list-inline>\n",
       "\t<li>'X1st_Term_Funding'</li>\n",
       "\t<li>'X2nd_Term_Funding'</li>\n",
       "\t<li>'X3rd_Term_Funding'</li>\n",
       "\t<li>'X4th_Term_Funding'</li>\n",
       "\t<li>'Start_year'</li>\n",
       "\t<li>'Start_age'</li>\n",
       "\t<li>'College'</li>\n",
       "\t<li>'Age'</li>\n",
       "\t<li>'Degree'</li>\n",
       "\t<li>'Gender'</li>\n",
       "\t<li>'funding_indicator'</li>\n",
       "\t<li>'ID'</li>\n",
       "\t<li>'Citizenship'</li>\n",
       "\t<li>'Major_id'</li>\n",
       "\t<li>'Major'</li>\n",
       "\t<li>'net_cost'</li>\n",
       "\t<li>'Program'</li>\n",
       "\t<li>'Prep.Level'</li>\n",
       "\t<li>'Total.Charges'</li>\n",
       "\t<li>'Total.Funding.Amount'</li>\n",
       "\t<li>'Y'</li>\n",
       "\t<li>'PC1'</li>\n",
       "\t<li>'PC2'</li>\n",
       "\t<li>'PC3'</li>\n",
       "\t<li>'Term.1.GPA'</li>\n",
       "\t<li>'Term.2.GPA'</li>\n",
       "\t<li>'Term.3.GPA'</li>\n",
       "\t<li>'Term.4.GPA'</li>\n",
       "\t<li>'Term.5.GPA'</li>\n",
       "\t<li>'Term.6.GPA'</li>\n",
       "\t<li>'Term.7.GPA'</li>\n",
       "\t<li>'Term.8.GPA'</li>\n",
       "\t<li>'gap_indicator'</li>\n",
       "\t<li>'GPA_trend'</li>\n",
       "\t<li>'Valid.term'</li>\n",
       "\t<li>'Average_GPA'</li>\n",
       "\t<li>'academic_period'</li>\n",
       "\t<li>'s_College'</li>\n",
       "\t<li>'s_Citizenship'</li>\n",
       "\t<li>'s_start_age'</li>\n",
       "\t<li>'s_net_cost'</li>\n",
       "\t<li>'s_start_year'</li>\n",
       "\t<li>'avs_net_cost'</li>\n",
       "</ol>\n"
      ],
      "text/latex": [
       "\\begin{enumerate*}\n",
       "\\item 'X1st\\_Term\\_Funding'\n",
       "\\item 'X2nd\\_Term\\_Funding'\n",
       "\\item 'X3rd\\_Term\\_Funding'\n",
       "\\item 'X4th\\_Term\\_Funding'\n",
       "\\item 'Start\\_year'\n",
       "\\item 'Start\\_age'\n",
       "\\item 'College'\n",
       "\\item 'Age'\n",
       "\\item 'Degree'\n",
       "\\item 'Gender'\n",
       "\\item 'funding\\_indicator'\n",
       "\\item 'ID'\n",
       "\\item 'Citizenship'\n",
       "\\item 'Major\\_id'\n",
       "\\item 'Major'\n",
       "\\item 'net\\_cost'\n",
       "\\item 'Program'\n",
       "\\item 'Prep.Level'\n",
       "\\item 'Total.Charges'\n",
       "\\item 'Total.Funding.Amount'\n",
       "\\item 'Y'\n",
       "\\item 'PC1'\n",
       "\\item 'PC2'\n",
       "\\item 'PC3'\n",
       "\\item 'Term.1.GPA'\n",
       "\\item 'Term.2.GPA'\n",
       "\\item 'Term.3.GPA'\n",
       "\\item 'Term.4.GPA'\n",
       "\\item 'Term.5.GPA'\n",
       "\\item 'Term.6.GPA'\n",
       "\\item 'Term.7.GPA'\n",
       "\\item 'Term.8.GPA'\n",
       "\\item 'gap\\_indicator'\n",
       "\\item 'GPA\\_trend'\n",
       "\\item 'Valid.term'\n",
       "\\item 'Average\\_GPA'\n",
       "\\item 'academic\\_period'\n",
       "\\item 's\\_College'\n",
       "\\item 's\\_Citizenship'\n",
       "\\item 's\\_start\\_age'\n",
       "\\item 's\\_net\\_cost'\n",
       "\\item 's\\_start\\_year'\n",
       "\\item 'avs\\_net\\_cost'\n",
       "\\end{enumerate*}\n"
      ],
      "text/markdown": [
       "1. 'X1st_Term_Funding'\n",
       "2. 'X2nd_Term_Funding'\n",
       "3. 'X3rd_Term_Funding'\n",
       "4. 'X4th_Term_Funding'\n",
       "5. 'Start_year'\n",
       "6. 'Start_age'\n",
       "7. 'College'\n",
       "8. 'Age'\n",
       "9. 'Degree'\n",
       "10. 'Gender'\n",
       "11. 'funding_indicator'\n",
       "12. 'ID'\n",
       "13. 'Citizenship'\n",
       "14. 'Major_id'\n",
       "15. 'Major'\n",
       "16. 'net_cost'\n",
       "17. 'Program'\n",
       "18. 'Prep.Level'\n",
       "19. 'Total.Charges'\n",
       "20. 'Total.Funding.Amount'\n",
       "21. 'Y'\n",
       "22. 'PC1'\n",
       "23. 'PC2'\n",
       "24. 'PC3'\n",
       "25. 'Term.1.GPA'\n",
       "26. 'Term.2.GPA'\n",
       "27. 'Term.3.GPA'\n",
       "28. 'Term.4.GPA'\n",
       "29. 'Term.5.GPA'\n",
       "30. 'Term.6.GPA'\n",
       "31. 'Term.7.GPA'\n",
       "32. 'Term.8.GPA'\n",
       "33. 'gap_indicator'\n",
       "34. 'GPA_trend'\n",
       "35. 'Valid.term'\n",
       "36. 'Average_GPA'\n",
       "37. 'academic_period'\n",
       "38. 's_College'\n",
       "39. 's_Citizenship'\n",
       "40. 's_start_age'\n",
       "41. 's_net_cost'\n",
       "42. 's_start_year'\n",
       "43. 'avs_net_cost'\n",
       "\n",
       "\n"
      ],
      "text/plain": [
       " [1] \"X1st_Term_Funding\"    \"X2nd_Term_Funding\"    \"X3rd_Term_Funding\"   \n",
       " [4] \"X4th_Term_Funding\"    \"Start_year\"           \"Start_age\"           \n",
       " [7] \"College\"              \"Age\"                  \"Degree\"              \n",
       "[10] \"Gender\"               \"funding_indicator\"    \"ID\"                  \n",
       "[13] \"Citizenship\"          \"Major_id\"             \"Major\"               \n",
       "[16] \"net_cost\"             \"Program\"              \"Prep.Level\"          \n",
       "[19] \"Total.Charges\"        \"Total.Funding.Amount\" \"Y\"                   \n",
       "[22] \"PC1\"                  \"PC2\"                  \"PC3\"                 \n",
       "[25] \"Term.1.GPA\"           \"Term.2.GPA\"           \"Term.3.GPA\"          \n",
       "[28] \"Term.4.GPA\"           \"Term.5.GPA\"           \"Term.6.GPA\"          \n",
       "[31] \"Term.7.GPA\"           \"Term.8.GPA\"           \"gap_indicator\"       \n",
       "[34] \"GPA_trend\"            \"Valid.term\"           \"Average_GPA\"         \n",
       "[37] \"academic_period\"      \"s_College\"            \"s_Citizenship\"       \n",
       "[40] \"s_start_age\"          \"s_net_cost\"           \"s_start_year\"        \n",
       "[43] \"avs_net_cost\"        "
      ]
     },
     "metadata": {},
     "output_type": "display_data"
    }
   ],
   "source": [
    "colnames(df)"
   ]
  },
  {
   "cell_type": "code",
   "execution_count": 62,
   "metadata": {},
   "outputs": [
    {
     "data": {
      "text/html": [
       "<ol class=list-inline>\n",
       "\t<li>'Start_year'</li>\n",
       "\t<li>'Start_age'</li>\n",
       "\t<li>'ID'</li>\n",
       "\t<li>'Citizenship'</li>\n",
       "\t<li>'Major_id'</li>\n",
       "\t<li>'net_cost'</li>\n",
       "\t<li>'Prep.Level'</li>\n",
       "\t<li>'Total.Charges'</li>\n",
       "\t<li>'Total.Funding.Amount'</li>\n",
       "\t<li>'Term.1.GPA'</li>\n",
       "\t<li>'Term.2.GPA'</li>\n",
       "\t<li>'Term.3.GPA'</li>\n",
       "\t<li>'Term.4.GPA'</li>\n",
       "\t<li>'Term.5.GPA'</li>\n",
       "\t<li>'Term.6.GPA'</li>\n",
       "\t<li>'Term.7.GPA'</li>\n",
       "\t<li>'Term.8.GPA'</li>\n",
       "</ol>\n"
      ],
      "text/latex": [
       "\\begin{enumerate*}\n",
       "\\item 'Start\\_year'\n",
       "\\item 'Start\\_age'\n",
       "\\item 'ID'\n",
       "\\item 'Citizenship'\n",
       "\\item 'Major\\_id'\n",
       "\\item 'net\\_cost'\n",
       "\\item 'Prep.Level'\n",
       "\\item 'Total.Charges'\n",
       "\\item 'Total.Funding.Amount'\n",
       "\\item 'Term.1.GPA'\n",
       "\\item 'Term.2.GPA'\n",
       "\\item 'Term.3.GPA'\n",
       "\\item 'Term.4.GPA'\n",
       "\\item 'Term.5.GPA'\n",
       "\\item 'Term.6.GPA'\n",
       "\\item 'Term.7.GPA'\n",
       "\\item 'Term.8.GPA'\n",
       "\\end{enumerate*}\n"
      ],
      "text/markdown": [
       "1. 'Start_year'\n",
       "2. 'Start_age'\n",
       "3. 'ID'\n",
       "4. 'Citizenship'\n",
       "5. 'Major_id'\n",
       "6. 'net_cost'\n",
       "7. 'Prep.Level'\n",
       "8. 'Total.Charges'\n",
       "9. 'Total.Funding.Amount'\n",
       "10. 'Term.1.GPA'\n",
       "11. 'Term.2.GPA'\n",
       "12. 'Term.3.GPA'\n",
       "13. 'Term.4.GPA'\n",
       "14. 'Term.5.GPA'\n",
       "15. 'Term.6.GPA'\n",
       "16. 'Term.7.GPA'\n",
       "17. 'Term.8.GPA'\n",
       "\n",
       "\n"
      ],
      "text/plain": [
       " [1] \"Start_year\"           \"Start_age\"            \"ID\"                  \n",
       " [4] \"Citizenship\"          \"Major_id\"             \"net_cost\"            \n",
       " [7] \"Prep.Level\"           \"Total.Charges\"        \"Total.Funding.Amount\"\n",
       "[10] \"Term.1.GPA\"           \"Term.2.GPA\"           \"Term.3.GPA\"          \n",
       "[13] \"Term.4.GPA\"           \"Term.5.GPA\"           \"Term.6.GPA\"          \n",
       "[16] \"Term.7.GPA\"           \"Term.8.GPA\"          "
      ]
     },
     "metadata": {},
     "output_type": "display_data"
    }
   ],
   "source": [
    "colnames(df)[c(5,6,12,13,14,16,18,19,20,25:32)]"
   ]
  },
  {
   "cell_type": "code",
   "execution_count": 63,
   "metadata": {},
   "outputs": [
    {
     "data": {
      "text/html": [
       "<ol class=list-inline>\n",
       "\t<li>'X1st_Term_Funding'</li>\n",
       "\t<li>'X2nd_Term_Funding'</li>\n",
       "\t<li>'X3rd_Term_Funding'</li>\n",
       "\t<li>'X4th_Term_Funding'</li>\n",
       "\t<li>'College'</li>\n",
       "\t<li>'Age'</li>\n",
       "\t<li>'Degree'</li>\n",
       "\t<li>'Gender'</li>\n",
       "\t<li>'funding_indicator'</li>\n",
       "\t<li>'Major'</li>\n",
       "\t<li>'Program'</li>\n",
       "\t<li>'Y'</li>\n",
       "\t<li>'PC1'</li>\n",
       "\t<li>'PC2'</li>\n",
       "\t<li>'PC3'</li>\n",
       "\t<li>'gap_indicator'</li>\n",
       "\t<li>'GPA_trend'</li>\n",
       "\t<li>'Valid.term'</li>\n",
       "\t<li>'Average_GPA'</li>\n",
       "\t<li>'academic_period'</li>\n",
       "\t<li>'s_College'</li>\n",
       "\t<li>'s_Citizenship'</li>\n",
       "\t<li>'s_start_age'</li>\n",
       "\t<li>'s_net_cost'</li>\n",
       "\t<li>'s_start_year'</li>\n",
       "\t<li>'avs_net_cost'</li>\n",
       "</ol>\n"
      ],
      "text/latex": [
       "\\begin{enumerate*}\n",
       "\\item 'X1st\\_Term\\_Funding'\n",
       "\\item 'X2nd\\_Term\\_Funding'\n",
       "\\item 'X3rd\\_Term\\_Funding'\n",
       "\\item 'X4th\\_Term\\_Funding'\n",
       "\\item 'College'\n",
       "\\item 'Age'\n",
       "\\item 'Degree'\n",
       "\\item 'Gender'\n",
       "\\item 'funding\\_indicator'\n",
       "\\item 'Major'\n",
       "\\item 'Program'\n",
       "\\item 'Y'\n",
       "\\item 'PC1'\n",
       "\\item 'PC2'\n",
       "\\item 'PC3'\n",
       "\\item 'gap\\_indicator'\n",
       "\\item 'GPA\\_trend'\n",
       "\\item 'Valid.term'\n",
       "\\item 'Average\\_GPA'\n",
       "\\item 'academic\\_period'\n",
       "\\item 's\\_College'\n",
       "\\item 's\\_Citizenship'\n",
       "\\item 's\\_start\\_age'\n",
       "\\item 's\\_net\\_cost'\n",
       "\\item 's\\_start\\_year'\n",
       "\\item 'avs\\_net\\_cost'\n",
       "\\end{enumerate*}\n"
      ],
      "text/markdown": [
       "1. 'X1st_Term_Funding'\n",
       "2. 'X2nd_Term_Funding'\n",
       "3. 'X3rd_Term_Funding'\n",
       "4. 'X4th_Term_Funding'\n",
       "5. 'College'\n",
       "6. 'Age'\n",
       "7. 'Degree'\n",
       "8. 'Gender'\n",
       "9. 'funding_indicator'\n",
       "10. 'Major'\n",
       "11. 'Program'\n",
       "12. 'Y'\n",
       "13. 'PC1'\n",
       "14. 'PC2'\n",
       "15. 'PC3'\n",
       "16. 'gap_indicator'\n",
       "17. 'GPA_trend'\n",
       "18. 'Valid.term'\n",
       "19. 'Average_GPA'\n",
       "20. 'academic_period'\n",
       "21. 's_College'\n",
       "22. 's_Citizenship'\n",
       "23. 's_start_age'\n",
       "24. 's_net_cost'\n",
       "25. 's_start_year'\n",
       "26. 'avs_net_cost'\n",
       "\n",
       "\n"
      ],
      "text/plain": [
       " [1] \"X1st_Term_Funding\" \"X2nd_Term_Funding\" \"X3rd_Term_Funding\"\n",
       " [4] \"X4th_Term_Funding\" \"College\"           \"Age\"              \n",
       " [7] \"Degree\"            \"Gender\"            \"funding_indicator\"\n",
       "[10] \"Major\"             \"Program\"           \"Y\"                \n",
       "[13] \"PC1\"               \"PC2\"               \"PC3\"              \n",
       "[16] \"gap_indicator\"     \"GPA_trend\"         \"Valid.term\"       \n",
       "[19] \"Average_GPA\"       \"academic_period\"   \"s_College\"        \n",
       "[22] \"s_Citizenship\"     \"s_start_age\"       \"s_net_cost\"       \n",
       "[25] \"s_start_year\"      \"avs_net_cost\"     "
      ]
     },
     "metadata": {},
     "output_type": "display_data"
    }
   ],
   "source": [
    "df = df[,-c(5,6,12,13,14,16,18,19,20,25:32)]\n",
    "colnames(df)"
   ]
  },
  {
   "cell_type": "code",
   "execution_count": 64,
   "metadata": {},
   "outputs": [
    {
     "data": {
      "text/html": [
       "<ol class=list-inline>\n",
       "\t<li>1235</li>\n",
       "\t<li>26</li>\n",
       "</ol>\n"
      ],
      "text/latex": [
       "\\begin{enumerate*}\n",
       "\\item 1235\n",
       "\\item 26\n",
       "\\end{enumerate*}\n"
      ],
      "text/markdown": [
       "1. 1235\n",
       "2. 26\n",
       "\n",
       "\n"
      ],
      "text/plain": [
       "[1] 1235   26"
      ]
     },
     "metadata": {},
     "output_type": "display_data"
    },
    {
     "data": {
      "text/html": [
       "<ol class=list-inline>\n",
       "\t<li>617</li>\n",
       "\t<li>26</li>\n",
       "</ol>\n"
      ],
      "text/latex": [
       "\\begin{enumerate*}\n",
       "\\item 617\n",
       "\\item 26\n",
       "\\end{enumerate*}\n"
      ],
      "text/markdown": [
       "1. 617\n",
       "2. 26\n",
       "\n",
       "\n"
      ],
      "text/plain": [
       "[1] 617  26"
      ]
     },
     "metadata": {},
     "output_type": "display_data"
    }
   ],
   "source": [
    "set.seed(123)\n",
    "s1 = sample(nrow(df),0.5*nrow(df))\n",
    "train = df[s1,]\n",
    "non_train = df[-s1,]\n",
    "s2 = sample(nrow(non_train),0.5*nrow(non_train))\n",
    "test = non_train[s2,]\n",
    "vld = non_train[-s2,]\n",
    "\n",
    "train_y=train[,12]\n",
    "train_x=train[,-12]\n",
    "test_y=test[,12]\n",
    "test_x=test[,-12]\n",
    "dim(train)\n",
    "dim(test)"
   ]
  },
  {
   "cell_type": "markdown",
   "metadata": {},
   "source": [
    "## LDA"
   ]
  },
  {
   "cell_type": "code",
   "execution_count": 65,
   "metadata": {},
   "outputs": [],
   "source": [
    "mod_lda = lda(Y~s_start_age+factor(Gender)+factor(funding_indicator)+\n",
    "                avs_net_cost+PC1+PC2+PC3+factor(gap_indicator)+GPA_trend+s_start_year\n",
    "                + Valid.term + Average_GPA + academic_period + College + Age,\n",
    "              data = as.data.frame(train))\n",
    "lda_pred = predict(mod_lda, newdata = test)"
   ]
  },
  {
   "cell_type": "code",
   "execution_count": 66,
   "metadata": {},
   "outputs": [
    {
     "data": {
      "text/html": [
       "0.7618"
      ],
      "text/latex": [
       "0.7618"
      ],
      "text/markdown": [
       "0.7618"
      ],
      "text/plain": [
       "[1] 0.7618"
      ]
     },
     "metadata": {},
     "output_type": "display_data"
    }
   ],
   "source": [
    "(lda_acc = round(sum(lda_pred$class == test$Y)/length(lda_pred$class),4))"
   ]
  },
  {
   "cell_type": "markdown",
   "metadata": {},
   "source": [
    "## Neural Network"
   ]
  },
  {
   "cell_type": "code",
   "execution_count": 95,
   "metadata": {},
   "outputs": [
    {
     "data": {
      "text/html": [
       "15"
      ],
      "text/latex": [
       "15"
      ],
      "text/markdown": [
       "15"
      ],
      "text/plain": [
       "[1] 15"
      ]
     },
     "metadata": {},
     "output_type": "display_data"
    }
   ],
   "source": [
    "nnet_vld = NULL\n",
    "for (i in seq(1,20,1)){\n",
    "    mod_nnet = nnet(Y~s_start_age+factor(Gender)+factor(funding_indicator)+\n",
    "                avs_net_cost+PC1+PC2+PC3+factor(gap_indicator)+GPA_trend+Average_GPA+Valid.term,\n",
    "                data = train, size  = i,trace = FALSE, decay =.1, rang = 0, maxit = 250)\n",
    "    nn_pred = predict(mod_nnet, newdata = vld)\n",
    "    nn_pred = as.numeric(nn_pred>=.5)\n",
    "    nnet_vld = c(nnet_vld, sum(nn_pred == vld$Y)/length(nn_pred))\n",
    "}\n",
    "(tr_size = which.max(nnet_vld))"
   ]
  },
  {
   "cell_type": "code",
   "execution_count": 96,
   "metadata": {},
   "outputs": [],
   "source": [
    "mod_nnet = nnet(Y~s_start_age+factor(Gender)+factor(funding_indicator)+\n",
    "                avs_net_cost+PC1+PC2+PC3+factor(gap_indicator)+GPA_trend+Average_GPA+Valid.term,\n",
    "                data = train, size  = tr_size,trace = FALSE, decay =.1, rang = 0, maxit = 250)\n",
    "nn_pred = as.numeric(predict(mod_nnet, newdata = test)>= .5)"
   ]
  },
  {
   "cell_type": "code",
   "execution_count": 97,
   "metadata": {},
   "outputs": [
    {
     "data": {
      "text/html": [
       "0.7536"
      ],
      "text/latex": [
       "0.7536"
      ],
      "text/markdown": [
       "0.7536"
      ],
      "text/plain": [
       "[1] 0.7536"
      ]
     },
     "metadata": {},
     "output_type": "display_data"
    }
   ],
   "source": [
    "(nnet_acc = round(sum(nn_pred == test$Y)/length(nn_pred),4))"
   ]
  },
  {
   "cell_type": "markdown",
   "metadata": {},
   "source": [
    "## Generalized Linear Model"
   ]
  },
  {
   "cell_type": "code",
   "execution_count": 70,
   "metadata": {},
   "outputs": [],
   "source": [
    "mod_glm = glm(Y~s_start_age+factor(Gender)+factor(funding_indicator)+\n",
    "                avs_net_cost+PC1+PC2+PC3+factor(gap_indicator)+GPA_trend+s_start_year\n",
    "                +Average_GPA + academic_period + College,\n",
    "                data = train,\n",
    "                family=binomial())\n",
    "glm_pred = as.numeric(predict(mod_glm, newdata = test, type=\"response\") >= .5)"
   ]
  },
  {
   "cell_type": "code",
   "execution_count": 71,
   "metadata": {
    "scrolled": true
   },
   "outputs": [
    {
     "data": {
      "text/html": [
       "0.7861"
      ],
      "text/latex": [
       "0.7861"
      ],
      "text/markdown": [
       "0.7861"
      ],
      "text/plain": [
       "[1] 0.7861"
      ]
     },
     "metadata": {},
     "output_type": "display_data"
    }
   ],
   "source": [
    "(glm_acc = round(sum(glm_pred == test$Y)/length(glm_pred),4))"
   ]
  },
  {
   "cell_type": "markdown",
   "metadata": {},
   "source": [
    "## SVM"
   ]
  },
  {
   "cell_type": "code",
   "execution_count": 72,
   "metadata": {},
   "outputs": [],
   "source": [
    "mod_svm = svm(Y~s_start_age+factor(Gender)+factor(funding_indicator)+\n",
    "                avs_net_cost+PC1+PC2+PC3+factor(gap_indicator)+GPA_trend+s_start_year\n",
    "                +Average_GPA + academic_period + College,\n",
    "                data = train,\n",
    "                family=binomial())\n",
    "svm_pred = as.numeric(predict(mod_svm, newdata = test, type=\"response\") >= .5)"
   ]
  },
  {
   "cell_type": "code",
   "execution_count": 73,
   "metadata": {},
   "outputs": [
    {
     "data": {
      "text/html": [
       "0.8152"
      ],
      "text/latex": [
       "0.8152"
      ],
      "text/markdown": [
       "0.8152"
      ],
      "text/plain": [
       "[1] 0.8152"
      ]
     },
     "metadata": {},
     "output_type": "display_data"
    }
   ],
   "source": [
    "(svm_acc = round(sum(svm_pred == test$Y)/length(svm_pred),4))"
   ]
  },
  {
   "cell_type": "markdown",
   "metadata": {},
   "source": [
    "## LASSO"
   ]
  },
  {
   "cell_type": "code",
   "execution_count": 74,
   "metadata": {},
   "outputs": [],
   "source": [
    "train_x = model.matrix(~s_start_age+factor(Gender)+factor(funding_indicator)+\n",
    "                avs_net_cost+PC1+PC2+PC3+factor(gap_indicator)+GPA_trend+s_start_year\n",
    "                +Average_GPA + academic_period + College,\n",
    "                data = train_x)\n",
    "test_x = model.matrix(~s_start_age+factor(Gender)+factor(funding_indicator)+\n",
    "                avs_net_cost+PC1+PC2+PC3+factor(gap_indicator)+GPA_trend+s_start_year\n",
    "                +Average_GPA + academic_period + College,\n",
    "                data = test_x)"
   ]
  },
  {
   "cell_type": "code",
   "execution_count": 75,
   "metadata": {
    "scrolled": false
   },
   "outputs": [
    {
     "data": {
      "image/png": "[encoded data removed]",
      "text/plain": [
       "plot without title"
      ]
     },
     "metadata": {},
     "output_type": "display_data"
    },
    {
     "data": {
      "image/png": "[encoded data removed]",
      "text/plain": [
       "Plot with title \"\""
      ]
     },
     "metadata": {},
     "output_type": "display_data"
    }
   ],
   "source": [
    "cvfit = cv.glmnet(train_x,train_y,alpha=1,family='binomial',type.measure='mse')\n",
    "mod_lasso = glmnet(train_x,train_y,alpha=1, family = \"binomial\",lambda = cvfit$lambda)\n",
    "plot(cvfit)\n",
    "plot_glmnet(mod_lasso)\n",
    "mod_lasso <- glmnet(train_x,train_y,alpha=1, family = \"binomial\",lambda = cvfit$lambda.min)"
   ]
  },
  {
   "cell_type": "code",
   "execution_count": 76,
   "metadata": {
    "scrolled": true
   },
   "outputs": [
    {
     "data": {
      "text/html": [
       "0.7861"
      ],
      "text/latex": [
       "0.7861"
      ],
      "text/markdown": [
       "0.7861"
      ],
      "text/plain": [
       "[1] 0.7861"
      ]
     },
     "metadata": {},
     "output_type": "display_data"
    }
   ],
   "source": [
    "lasso_pred = predict(mod_lasso, test_x, type=\"class\")\n",
    "lasso_right = colSums(lasso_pred == test_y)\n",
    "(lasso_acc = round(max(lasso_right)/length(test_y),4))"
   ]
  },
  {
   "cell_type": "markdown",
   "metadata": {},
   "source": [
    "## Prediction Summary"
   ]
  },
  {
   "cell_type": "code",
   "execution_count": 98,
   "metadata": {},
   "outputs": [
    {
     "data": {
      "text/html": [
       "<table>\n",
       "<thead><tr><th></th><th scope=col>Accuracy</th></tr></thead>\n",
       "<tbody>\n",
       "\t<tr><th scope=row>LDA</th><td>0.7618</td></tr>\n",
       "\t<tr><th scope=row>Neural Network</th><td>0.7536</td></tr>\n",
       "\t<tr><th scope=row>GLM</th><td>0.7861</td></tr>\n",
       "\t<tr><th scope=row>SVM</th><td>0.8152</td></tr>\n",
       "\t<tr><th scope=row>LASSO</th><td>0.7861</td></tr>\n",
       "</tbody>\n",
       "</table>\n"
      ],
      "text/latex": [
       "\\begin{tabular}{r|l}\n",
       "  & Accuracy\\\\\n",
       "\\hline\n",
       "\tLDA & 0.7618\\\\\n",
       "\tNeural Network & 0.7536\\\\\n",
       "\tGLM & 0.7861\\\\\n",
       "\tSVM & 0.8152\\\\\n",
       "\tLASSO & 0.7861\\\\\n",
       "\\end{tabular}\n"
      ],
      "text/markdown": [
       "\n",
       "| <!--/--> | Accuracy |\n",
       "|---|---|\n",
       "| LDA | 0.7618 |\n",
       "| Neural Network | 0.7536 |\n",
       "| GLM | 0.7861 |\n",
       "| SVM | 0.8152 |\n",
       "| LASSO | 0.7861 |\n",
       "\n"
      ],
      "text/plain": [
       "               Accuracy\n",
       "LDA            0.7618  \n",
       "Neural Network 0.7536  \n",
       "GLM            0.7861  \n",
       "SVM            0.8152  \n",
       "LASSO          0.7861  "
      ]
     },
     "metadata": {},
     "output_type": "display_data"
    }
   ],
   "source": [
    "res = data.frame(rbind(lda_acc, nnet_acc, glm_acc,svm_acc,lasso_acc))\n",
    "colnames(res) = 'Accuracy'\n",
    "rownames(res) = c('LDA', 'Neural Network', 'GLM', 'SVM', 'LASSO')\n",
    "res"
   ]
  }
 ],
 "metadata": {
  "hide_input": false,
  "kernelspec": {
   "display_name": "R",
   "language": "R",
   "name": "ir"
  },
  "language_info": {
   "codemirror_mode": "r",
   "file_extension": ".r",
   "mimetype": "text/x-r-source",
   "name": "R",
   "pygments_lexer": "r",
   "version": "3.6.1"
  },
  "latex_envs": {
   "LaTeX_envs_menu_present": true,
   "autoclose": false,
   "autocomplete": true,
   "bibliofile": "biblio.bib",
   "cite_by": "apalike",
   "current_citInitial": 1,
   "eqLabelWithNumbers": true,
   "eqNumInitial": 1,
   "hotkeys": {
    "equation": "Ctrl-E",
    "itemize": "Ctrl-I"
   },
   "labels_anchors": false,
   "latex_user_defs": false,
   "report_style_numbering": false,
   "user_envs_cfg": false
  },
  "toc": {
   "base_numbering": 1,
   "nav_menu": {},
   "number_sections": true,
   "sideBar": true,
   "skip_h1_title": false,
   "title_cell": "Table of Contents",
   "title_sidebar": "Contents",
   "toc_cell": false,
   "toc_position": {
    "height": "calc(100% - 180px)",
    "left": "10px",
    "top": "150px",
    "width": "190.139px"
   },
   "toc_section_display": true,
   "toc_window_display": true
  }
 },
 "nbformat": 4,
 "nbformat_minor": 2
}
