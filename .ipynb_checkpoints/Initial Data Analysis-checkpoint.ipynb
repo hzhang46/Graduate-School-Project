{
 "cells": [
  {
   "cell_type": "code",
   "execution_count": 1,
   "metadata": {},
   "outputs": [
    {
     "name": "stderr",
     "output_type": "stream",
     "text": [
      "Installing package into 'C:/Users/36961/Documents/R/win-library/3.6'\n",
      "(as 'lib' is unspecified)\n"
     ]
    },
    {
     "name": "stdout",
     "output_type": "stream",
     "text": [
      "package 'nnet' successfully unpacked and MD5 sums checked\n",
      "\n",
      "The downloaded binary packages are in\n",
      "\tC:\\Users\\36961\\AppData\\Local\\Temp\\Rtmp0G9oSW\\downloaded_packages\n"
     ]
    },
    {
     "name": "stderr",
     "output_type": "stream",
     "text": [
      "Warning message:\n",
      "\"package 'nnet' was built under R version 3.6.3\"Installing package into 'C:/Users/36961/Documents/R/win-library/3.6'\n",
      "(as 'lib' is unspecified)\n"
     ]
    },
    {
     "name": "stdout",
     "output_type": "stream",
     "text": [
      "package 'caret' successfully unpacked and MD5 sums checked\n",
      "\n",
      "The downloaded binary packages are in\n",
      "\tC:\\Users\\36961\\AppData\\Local\\Temp\\Rtmp0G9oSW\\downloaded_packages\n"
     ]
    },
    {
     "name": "stderr",
     "output_type": "stream",
     "text": [
      "Warning message:\n",
      "\"package 'caret' was built under R version 3.6.3\"Loading required package: lattice\n",
      "Loading required package: ggplot2\n",
      "Warning message:\n",
      "\"package 'ggplot2' was built under R version 3.6.3\"Warning message:\n",
      "\"package 'plotmo' was built under R version 3.6.3\"Loading required package: Formula\n",
      "Loading required package: plotrix\n",
      "Loading required package: TeachingDemos\n",
      "Warning message:\n",
      "\"package 'TeachingDemos' was built under R version 3.6.3\"Warning message:\n",
      "\"package 'readr' was built under R version 3.6.3\"Warning message:\n",
      "\"package 'faraway' was built under R version 3.6.2\"\n",
      "Attaching package: 'faraway'\n",
      "\n",
      "The following object is masked from 'package:lattice':\n",
      "\n",
      "    melanoma\n",
      "\n",
      "Warning message:\n",
      "\"package 'glmnet' was built under R version 3.6.3\"Loading required package: Matrix\n",
      "Loaded glmnet 3.0-2\n",
      "\n",
      "Warning message:\n",
      "\"package 'e1071' was built under R version 3.6.3\"Installing package into 'C:/Users/36961/Documents/R/win-library/3.6'\n",
      "(as 'lib' is unspecified)\n"
     ]
    },
    {
     "name": "stdout",
     "output_type": "stream",
     "text": [
      "package 'randomForest' successfully unpacked and MD5 sums checked\n",
      "\n",
      "The downloaded binary packages are in\n",
      "\tC:\\Users\\36961\\AppData\\Local\\Temp\\Rtmp0G9oSW\\downloaded_packages\n"
     ]
    },
    {
     "name": "stderr",
     "output_type": "stream",
     "text": [
      "Warning message:\n",
      "\"package 'randomForest' was built under R version 3.6.3\"randomForest 4.6-14\n",
      "Type rfNews() to see new features/changes/bug fixes.\n",
      "\n",
      "Attaching package: 'randomForest'\n",
      "\n",
      "The following object is masked from 'package:ggplot2':\n",
      "\n",
      "    margin\n",
      "\n"
     ]
    }
   ],
   "source": [
    "library(MASS)\n",
    "install.packages(\"nnet\")\n",
    "library(nnet)\n",
    "install.packages(\"caret\")\n",
    "library(caret)\n",
    "library(plotmo)\n",
    "library(readr)\n",
    "library(faraway)\n",
    "library(ggplot2)\n",
    "library(glmnet)\n",
    "library(e1071)\n",
    "install.packages(\"randomForest\")\n",
    "library(randomForest)"
   ]
  },
  {
   "cell_type": "markdown",
   "metadata": {},
   "source": [
    "# Load Data and Final Clean"
   ]
  },
  {
   "cell_type": "code",
   "execution_count": 2,
   "metadata": {
    "scrolled": true
   },
   "outputs": [
    {
     "data": {
      "text/html": [
       "<ol class=list-inline>\n",
       "\t<li>'X1st_Term_Funding'</li>\n",
       "\t<li>'X2nd_Term_Funding'</li>\n",
       "\t<li>'X3rd_Term_Funding'</li>\n",
       "\t<li>'X4th_Term_Funding'</li>\n",
       "\t<li>'Start_year'</li>\n",
       "\t<li>'Start_age'</li>\n",
       "\t<li>'College'</li>\n",
       "\t<li>'Age'</li>\n",
       "\t<li>'Degree'</li>\n",
       "\t<li>'Gender'</li>\n",
       "\t<li>'funding_indicator'</li>\n",
       "\t<li>'ID'</li>\n",
       "\t<li>'Citizenship'</li>\n",
       "\t<li>'Major_id'</li>\n",
       "\t<li>'Major'</li>\n",
       "\t<li>'net_cost'</li>\n",
       "\t<li>'Program'</li>\n",
       "\t<li>'Prep.Level'</li>\n",
       "\t<li>'Total.Charges'</li>\n",
       "\t<li>'Total.Funding.Amount'</li>\n",
       "\t<li>'Y'</li>\n",
       "\t<li>'PC1'</li>\n",
       "\t<li>'PC2'</li>\n",
       "\t<li>'PC3'</li>\n",
       "\t<li>'Term.1.GPA'</li>\n",
       "\t<li>'Term.2.GPA'</li>\n",
       "\t<li>'Term.3.GPA'</li>\n",
       "\t<li>'Term.4.GPA'</li>\n",
       "\t<li>'Term.5.GPA'</li>\n",
       "\t<li>'Term.6.GPA'</li>\n",
       "\t<li>'Term.7.GPA'</li>\n",
       "\t<li>'Term.8.GPA'</li>\n",
       "\t<li>'gap_indicator'</li>\n",
       "\t<li>'GPA_trend'</li>\n",
       "\t<li>'Valid.term'</li>\n",
       "\t<li>'Average_GPA'</li>\n",
       "\t<li>'academic_period'</li>\n",
       "\t<li>'s_College'</li>\n",
       "\t<li>'s_Citizenship'</li>\n",
       "\t<li>'SAPC1'</li>\n",
       "\t<li>'SAPC2'</li>\n",
       "\t<li>'SAPC3'</li>\n",
       "\t<li>'Average.Precol.GPA'</li>\n",
       "\t<li>'GMAT.Score'</li>\n",
       "\t<li>'GRE.Combined.General.Write.Score'</li>\n",
       "\t<li>'GRE.Combined.Quantitative.Score'</li>\n",
       "\t<li>'GRE.Combined.General.Verbal.Score'</li>\n",
       "</ol>\n"
      ],
      "text/latex": [
       "\\begin{enumerate*}\n",
       "\\item 'X1st\\_Term\\_Funding'\n",
       "\\item 'X2nd\\_Term\\_Funding'\n",
       "\\item 'X3rd\\_Term\\_Funding'\n",
       "\\item 'X4th\\_Term\\_Funding'\n",
       "\\item 'Start\\_year'\n",
       "\\item 'Start\\_age'\n",
       "\\item 'College'\n",
       "\\item 'Age'\n",
       "\\item 'Degree'\n",
       "\\item 'Gender'\n",
       "\\item 'funding\\_indicator'\n",
       "\\item 'ID'\n",
       "\\item 'Citizenship'\n",
       "\\item 'Major\\_id'\n",
       "\\item 'Major'\n",
       "\\item 'net\\_cost'\n",
       "\\item 'Program'\n",
       "\\item 'Prep.Level'\n",
       "\\item 'Total.Charges'\n",
       "\\item 'Total.Funding.Amount'\n",
       "\\item 'Y'\n",
       "\\item 'PC1'\n",
       "\\item 'PC2'\n",
       "\\item 'PC3'\n",
       "\\item 'Term.1.GPA'\n",
       "\\item 'Term.2.GPA'\n",
       "\\item 'Term.3.GPA'\n",
       "\\item 'Term.4.GPA'\n",
       "\\item 'Term.5.GPA'\n",
       "\\item 'Term.6.GPA'\n",
       "\\item 'Term.7.GPA'\n",
       "\\item 'Term.8.GPA'\n",
       "\\item 'gap\\_indicator'\n",
       "\\item 'GPA\\_trend'\n",
       "\\item 'Valid.term'\n",
       "\\item 'Average\\_GPA'\n",
       "\\item 'academic\\_period'\n",
       "\\item 's\\_College'\n",
       "\\item 's\\_Citizenship'\n",
       "\\item 'SAPC1'\n",
       "\\item 'SAPC2'\n",
       "\\item 'SAPC3'\n",
       "\\item 'Average.Precol.GPA'\n",
       "\\item 'GMAT.Score'\n",
       "\\item 'GRE.Combined.General.Write.Score'\n",
       "\\item 'GRE.Combined.Quantitative.Score'\n",
       "\\item 'GRE.Combined.General.Verbal.Score'\n",
       "\\end{enumerate*}\n"
      ],
      "text/markdown": [
       "1. 'X1st_Term_Funding'\n",
       "2. 'X2nd_Term_Funding'\n",
       "3. 'X3rd_Term_Funding'\n",
       "4. 'X4th_Term_Funding'\n",
       "5. 'Start_year'\n",
       "6. 'Start_age'\n",
       "7. 'College'\n",
       "8. 'Age'\n",
       "9. 'Degree'\n",
       "10. 'Gender'\n",
       "11. 'funding_indicator'\n",
       "12. 'ID'\n",
       "13. 'Citizenship'\n",
       "14. 'Major_id'\n",
       "15. 'Major'\n",
       "16. 'net_cost'\n",
       "17. 'Program'\n",
       "18. 'Prep.Level'\n",
       "19. 'Total.Charges'\n",
       "20. 'Total.Funding.Amount'\n",
       "21. 'Y'\n",
       "22. 'PC1'\n",
       "23. 'PC2'\n",
       "24. 'PC3'\n",
       "25. 'Term.1.GPA'\n",
       "26. 'Term.2.GPA'\n",
       "27. 'Term.3.GPA'\n",
       "28. 'Term.4.GPA'\n",
       "29. 'Term.5.GPA'\n",
       "30. 'Term.6.GPA'\n",
       "31. 'Term.7.GPA'\n",
       "32. 'Term.8.GPA'\n",
       "33. 'gap_indicator'\n",
       "34. 'GPA_trend'\n",
       "35. 'Valid.term'\n",
       "36. 'Average_GPA'\n",
       "37. 'academic_period'\n",
       "38. 's_College'\n",
       "39. 's_Citizenship'\n",
       "40. 'SAPC1'\n",
       "41. 'SAPC2'\n",
       "42. 'SAPC3'\n",
       "43. 'Average.Precol.GPA'\n",
       "44. 'GMAT.Score'\n",
       "45. 'GRE.Combined.General.Write.Score'\n",
       "46. 'GRE.Combined.Quantitative.Score'\n",
       "47. 'GRE.Combined.General.Verbal.Score'\n",
       "\n",
       "\n"
      ],
      "text/plain": [
       " [1] \"X1st_Term_Funding\"                 \"X2nd_Term_Funding\"                \n",
       " [3] \"X3rd_Term_Funding\"                 \"X4th_Term_Funding\"                \n",
       " [5] \"Start_year\"                        \"Start_age\"                        \n",
       " [7] \"College\"                           \"Age\"                              \n",
       " [9] \"Degree\"                            \"Gender\"                           \n",
       "[11] \"funding_indicator\"                 \"ID\"                               \n",
       "[13] \"Citizenship\"                       \"Major_id\"                         \n",
       "[15] \"Major\"                             \"net_cost\"                         \n",
       "[17] \"Program\"                           \"Prep.Level\"                       \n",
       "[19] \"Total.Charges\"                     \"Total.Funding.Amount\"             \n",
       "[21] \"Y\"                                 \"PC1\"                              \n",
       "[23] \"PC2\"                               \"PC3\"                              \n",
       "[25] \"Term.1.GPA\"                        \"Term.2.GPA\"                       \n",
       "[27] \"Term.3.GPA\"                        \"Term.4.GPA\"                       \n",
       "[29] \"Term.5.GPA\"                        \"Term.6.GPA\"                       \n",
       "[31] \"Term.7.GPA\"                        \"Term.8.GPA\"                       \n",
       "[33] \"gap_indicator\"                     \"GPA_trend\"                        \n",
       "[35] \"Valid.term\"                        \"Average_GPA\"                      \n",
       "[37] \"academic_period\"                   \"s_College\"                        \n",
       "[39] \"s_Citizenship\"                     \"SAPC1\"                            \n",
       "[41] \"SAPC2\"                             \"SAPC3\"                            \n",
       "[43] \"Average.Precol.GPA\"                \"GMAT.Score\"                       \n",
       "[45] \"GRE.Combined.General.Write.Score\"  \"GRE.Combined.Quantitative.Score\"  \n",
       "[47] \"GRE.Combined.General.Verbal.Score\""
      ]
     },
     "metadata": {},
     "output_type": "display_data"
    },
    {
     "data": {
      "text/html": [
       "<ol class=list-inline>\n",
       "\t<li>2470</li>\n",
       "\t<li>47</li>\n",
       "</ol>\n"
      ],
      "text/latex": [
       "\\begin{enumerate*}\n",
       "\\item 2470\n",
       "\\item 47\n",
       "\\end{enumerate*}\n"
      ],
      "text/markdown": [
       "1. 2470\n",
       "2. 47\n",
       "\n",
       "\n"
      ],
      "text/plain": [
       "[1] 2470   47"
      ]
     },
     "metadata": {},
     "output_type": "display_data"
    }
   ],
   "source": [
    "df <- read.csv(file=\"cleaned_data_0330.csv\",sep=\",\",header=TRUE)\n",
    "df = df[,-1]\n",
    "colnames(df)\n",
    "dim(df)"
   ]
  },
  {
   "cell_type": "code",
   "execution_count": 3,
   "metadata": {},
   "outputs": [
    {
     "data": {
      "text/html": [
       "<ol class=list-inline>\n",
       "\t<li>'X1st_Term_Funding'</li>\n",
       "\t<li>'X2nd_Term_Funding'</li>\n",
       "\t<li>'X3rd_Term_Funding'</li>\n",
       "\t<li>'X4th_Term_Funding'</li>\n",
       "\t<li>'Start_year'</li>\n",
       "\t<li>'Start_age'</li>\n",
       "\t<li>'College'</li>\n",
       "\t<li>'Age'</li>\n",
       "\t<li>'Degree'</li>\n",
       "\t<li>'Gender'</li>\n",
       "\t<li>'funding_indicator'</li>\n",
       "\t<li>'ID'</li>\n",
       "\t<li>'Citizenship'</li>\n",
       "\t<li>'Major_id'</li>\n",
       "\t<li>'Major'</li>\n",
       "\t<li>'net_cost'</li>\n",
       "\t<li>'Program'</li>\n",
       "\t<li>'Prep.Level'</li>\n",
       "\t<li>'Total.Charges'</li>\n",
       "\t<li>'Total.Funding.Amount'</li>\n",
       "\t<li>'Y'</li>\n",
       "\t<li>'PC1'</li>\n",
       "\t<li>'PC2'</li>\n",
       "\t<li>'PC3'</li>\n",
       "\t<li>'Term.1.GPA'</li>\n",
       "\t<li>'Term.2.GPA'</li>\n",
       "\t<li>'Term.3.GPA'</li>\n",
       "\t<li>'Term.4.GPA'</li>\n",
       "\t<li>'Term.5.GPA'</li>\n",
       "\t<li>'Term.6.GPA'</li>\n",
       "\t<li>'Term.7.GPA'</li>\n",
       "\t<li>'Term.8.GPA'</li>\n",
       "\t<li>'gap_indicator'</li>\n",
       "\t<li>'GPA_trend'</li>\n",
       "\t<li>'Valid.term'</li>\n",
       "\t<li>'Average_GPA'</li>\n",
       "\t<li>'academic_period'</li>\n",
       "\t<li>'s_College'</li>\n",
       "\t<li>'s_Citizenship'</li>\n",
       "\t<li>'SAPC1'</li>\n",
       "\t<li>'SAPC2'</li>\n",
       "\t<li>'SAPC3'</li>\n",
       "\t<li>'Average.Precol.GPA'</li>\n",
       "\t<li>'GMAT.Score'</li>\n",
       "\t<li>'GRE.Combined.General.Write.Score'</li>\n",
       "\t<li>'GRE.Combined.Quantitative.Score'</li>\n",
       "\t<li>'GRE.Combined.General.Verbal.Score'</li>\n",
       "</ol>\n"
      ],
      "text/latex": [
       "\\begin{enumerate*}\n",
       "\\item 'X1st\\_Term\\_Funding'\n",
       "\\item 'X2nd\\_Term\\_Funding'\n",
       "\\item 'X3rd\\_Term\\_Funding'\n",
       "\\item 'X4th\\_Term\\_Funding'\n",
       "\\item 'Start\\_year'\n",
       "\\item 'Start\\_age'\n",
       "\\item 'College'\n",
       "\\item 'Age'\n",
       "\\item 'Degree'\n",
       "\\item 'Gender'\n",
       "\\item 'funding\\_indicator'\n",
       "\\item 'ID'\n",
       "\\item 'Citizenship'\n",
       "\\item 'Major\\_id'\n",
       "\\item 'Major'\n",
       "\\item 'net\\_cost'\n",
       "\\item 'Program'\n",
       "\\item 'Prep.Level'\n",
       "\\item 'Total.Charges'\n",
       "\\item 'Total.Funding.Amount'\n",
       "\\item 'Y'\n",
       "\\item 'PC1'\n",
       "\\item 'PC2'\n",
       "\\item 'PC3'\n",
       "\\item 'Term.1.GPA'\n",
       "\\item 'Term.2.GPA'\n",
       "\\item 'Term.3.GPA'\n",
       "\\item 'Term.4.GPA'\n",
       "\\item 'Term.5.GPA'\n",
       "\\item 'Term.6.GPA'\n",
       "\\item 'Term.7.GPA'\n",
       "\\item 'Term.8.GPA'\n",
       "\\item 'gap\\_indicator'\n",
       "\\item 'GPA\\_trend'\n",
       "\\item 'Valid.term'\n",
       "\\item 'Average\\_GPA'\n",
       "\\item 'academic\\_period'\n",
       "\\item 's\\_College'\n",
       "\\item 's\\_Citizenship'\n",
       "\\item 'SAPC1'\n",
       "\\item 'SAPC2'\n",
       "\\item 'SAPC3'\n",
       "\\item 'Average.Precol.GPA'\n",
       "\\item 'GMAT.Score'\n",
       "\\item 'GRE.Combined.General.Write.Score'\n",
       "\\item 'GRE.Combined.Quantitative.Score'\n",
       "\\item 'GRE.Combined.General.Verbal.Score'\n",
       "\\end{enumerate*}\n"
      ],
      "text/markdown": [
       "1. 'X1st_Term_Funding'\n",
       "2. 'X2nd_Term_Funding'\n",
       "3. 'X3rd_Term_Funding'\n",
       "4. 'X4th_Term_Funding'\n",
       "5. 'Start_year'\n",
       "6. 'Start_age'\n",
       "7. 'College'\n",
       "8. 'Age'\n",
       "9. 'Degree'\n",
       "10. 'Gender'\n",
       "11. 'funding_indicator'\n",
       "12. 'ID'\n",
       "13. 'Citizenship'\n",
       "14. 'Major_id'\n",
       "15. 'Major'\n",
       "16. 'net_cost'\n",
       "17. 'Program'\n",
       "18. 'Prep.Level'\n",
       "19. 'Total.Charges'\n",
       "20. 'Total.Funding.Amount'\n",
       "21. 'Y'\n",
       "22. 'PC1'\n",
       "23. 'PC2'\n",
       "24. 'PC3'\n",
       "25. 'Term.1.GPA'\n",
       "26. 'Term.2.GPA'\n",
       "27. 'Term.3.GPA'\n",
       "28. 'Term.4.GPA'\n",
       "29. 'Term.5.GPA'\n",
       "30. 'Term.6.GPA'\n",
       "31. 'Term.7.GPA'\n",
       "32. 'Term.8.GPA'\n",
       "33. 'gap_indicator'\n",
       "34. 'GPA_trend'\n",
       "35. 'Valid.term'\n",
       "36. 'Average_GPA'\n",
       "37. 'academic_period'\n",
       "38. 's_College'\n",
       "39. 's_Citizenship'\n",
       "40. 'SAPC1'\n",
       "41. 'SAPC2'\n",
       "42. 'SAPC3'\n",
       "43. 'Average.Precol.GPA'\n",
       "44. 'GMAT.Score'\n",
       "45. 'GRE.Combined.General.Write.Score'\n",
       "46. 'GRE.Combined.Quantitative.Score'\n",
       "47. 'GRE.Combined.General.Verbal.Score'\n",
       "\n",
       "\n"
      ],
      "text/plain": [
       " [1] \"X1st_Term_Funding\"                 \"X2nd_Term_Funding\"                \n",
       " [3] \"X3rd_Term_Funding\"                 \"X4th_Term_Funding\"                \n",
       " [5] \"Start_year\"                        \"Start_age\"                        \n",
       " [7] \"College\"                           \"Age\"                              \n",
       " [9] \"Degree\"                            \"Gender\"                           \n",
       "[11] \"funding_indicator\"                 \"ID\"                               \n",
       "[13] \"Citizenship\"                       \"Major_id\"                         \n",
       "[15] \"Major\"                             \"net_cost\"                         \n",
       "[17] \"Program\"                           \"Prep.Level\"                       \n",
       "[19] \"Total.Charges\"                     \"Total.Funding.Amount\"             \n",
       "[21] \"Y\"                                 \"PC1\"                              \n",
       "[23] \"PC2\"                               \"PC3\"                              \n",
       "[25] \"Term.1.GPA\"                        \"Term.2.GPA\"                       \n",
       "[27] \"Term.3.GPA\"                        \"Term.4.GPA\"                       \n",
       "[29] \"Term.5.GPA\"                        \"Term.6.GPA\"                       \n",
       "[31] \"Term.7.GPA\"                        \"Term.8.GPA\"                       \n",
       "[33] \"gap_indicator\"                     \"GPA_trend\"                        \n",
       "[35] \"Valid.term\"                        \"Average_GPA\"                      \n",
       "[37] \"academic_period\"                   \"s_College\"                        \n",
       "[39] \"s_Citizenship\"                     \"SAPC1\"                            \n",
       "[41] \"SAPC2\"                             \"SAPC3\"                            \n",
       "[43] \"Average.Precol.GPA\"                \"GMAT.Score\"                       \n",
       "[45] \"GRE.Combined.General.Write.Score\"  \"GRE.Combined.Quantitative.Score\"  \n",
       "[47] \"GRE.Combined.General.Verbal.Score\""
      ]
     },
     "metadata": {},
     "output_type": "display_data"
    }
   ],
   "source": [
    "colnames(df)"
   ]
  },
  {
   "cell_type": "code",
   "execution_count": 4,
   "metadata": {
    "scrolled": true
   },
   "outputs": [
    {
     "data": {
      "text/html": [
       "<ol class=list-inline>\n",
       "\t<li>China</li>\n",
       "\t<li>White</li>\n",
       "\t<li>Asia</li>\n",
       "\t<li>Unknown</li>\n",
       "\t<li>India</li>\n",
       "\t<li>Europe</li>\n",
       "\t<li>Hispanic or Latino</li>\n",
       "\t<li>Black or African American</li>\n",
       "\t<li>Asian</li>\n",
       "\t<li>Africa</li>\n",
       "\t<li>Other International Students</li>\n",
       "</ol>\n",
       "\n",
       "<details>\n",
       "\t<summary style=display:list-item;cursor:pointer>\n",
       "\t\t<strong>Levels</strong>:\n",
       "\t</summary>\n",
       "\t<ol class=list-inline>\n",
       "\t\t<li>'Africa'</li>\n",
       "\t\t<li>'Asia'</li>\n",
       "\t\t<li>'Asian'</li>\n",
       "\t\t<li>'Black or African American'</li>\n",
       "\t\t<li>'China'</li>\n",
       "\t\t<li>'Europe'</li>\n",
       "\t\t<li>'Hispanic or Latino'</li>\n",
       "\t\t<li>'India'</li>\n",
       "\t\t<li>'Other International Students'</li>\n",
       "\t\t<li>'Unknown'</li>\n",
       "\t\t<li>'White'</li>\n",
       "\t</ol>\n",
       "</details>"
      ],
      "text/latex": [
       "\\begin{enumerate*}\n",
       "\\item China\n",
       "\\item White\n",
       "\\item Asia\n",
       "\\item Unknown\n",
       "\\item India\n",
       "\\item Europe\n",
       "\\item Hispanic or Latino\n",
       "\\item Black or African American\n",
       "\\item Asian\n",
       "\\item Africa\n",
       "\\item Other International Students\n",
       "\\end{enumerate*}\n",
       "\n",
       "\\emph{Levels}: \\begin{enumerate*}\n",
       "\\item 'Africa'\n",
       "\\item 'Asia'\n",
       "\\item 'Asian'\n",
       "\\item 'Black or African American'\n",
       "\\item 'China'\n",
       "\\item 'Europe'\n",
       "\\item 'Hispanic or Latino'\n",
       "\\item 'India'\n",
       "\\item 'Other International Students'\n",
       "\\item 'Unknown'\n",
       "\\item 'White'\n",
       "\\end{enumerate*}\n"
      ],
      "text/markdown": [
       "1. China\n",
       "2. White\n",
       "3. Asia\n",
       "4. Unknown\n",
       "5. India\n",
       "6. Europe\n",
       "7. Hispanic or Latino\n",
       "8. Black or African American\n",
       "9. Asian\n",
       "10. Africa\n",
       "11. Other International Students\n",
       "\n",
       "\n",
       "\n",
       "**Levels**: 1. 'Africa'\n",
       "2. 'Asia'\n",
       "3. 'Asian'\n",
       "4. 'Black or African American'\n",
       "5. 'China'\n",
       "6. 'Europe'\n",
       "7. 'Hispanic or Latino'\n",
       "8. 'India'\n",
       "9. 'Other International Students'\n",
       "10. 'Unknown'\n",
       "11. 'White'\n",
       "\n",
       "\n"
      ],
      "text/plain": [
       " [1] China                        White                       \n",
       " [3] Asia                         Unknown                     \n",
       " [5] India                        Europe                      \n",
       " [7] Hispanic or Latino           Black or African American   \n",
       " [9] Asian                        Africa                      \n",
       "[11] Other International Students\n",
       "11 Levels: Africa Asia Asian Black or African American China ... White"
      ]
     },
     "metadata": {},
     "output_type": "display_data"
    }
   ],
   "source": [
    "unique(df$Citizenship)"
   ]
  },
  {
   "cell_type": "markdown",
   "metadata": {},
   "source": [
    "Scale and center some variables:"
   ]
  },
  {
   "cell_type": "code",
   "execution_count": 5,
   "metadata": {},
   "outputs": [],
   "source": [
    "mean_age = mean(df$Start_age)\n",
    "sd_age = sd(df$Start_age)\n",
    "df$s_start_age = (df$Start_age - mean_age)/sd_age\n",
    "mean_net = mean(df$net_cost)\n",
    "sd_net = sd(df$net_cost)\n",
    "df$s_net_cost = (df$net_cost - mean_net)/sd_net\n",
    "mean_year = mean(df$Start_year)\n",
    "sd_year = sd(df$Start_year)\n",
    "df$s_start_year = (df$Start_year - mean_year)/sd_year"
   ]
  },
  {
   "cell_type": "code",
   "execution_count": 6,
   "metadata": {},
   "outputs": [],
   "source": [
    "av_net_cost = ifelse(df$Valid.term > 0, df$net_cost / df$Valid.term, df$net_cost)\n",
    "av_mean_net = mean(av_net_cost)\n",
    "av_sd_net = sd(av_net_cost)\n",
    "df$avs_net_cost = (av_net_cost - av_mean_net)/av_sd_net"
   ]
  },
  {
   "cell_type": "code",
   "execution_count": 7,
   "metadata": {},
   "outputs": [],
   "source": [
    "mean_SAPC1 = mean(df$SAPC1)\n",
    "sd_SAPC1 = sd(df$SAPC1)\n",
    "df$s_SAPC1 = (df$SAPC1 - mean_SAPC1)/sd_SAPC1\n",
    "mean_SAPC2 = mean(df$SAPC2)\n",
    "sd_SAPC2 = sd(df$SAPC2)\n",
    "df$s_SAPC2 = (df$SAPC2 - mean_SAPC2)/sd_SAPC2\n",
    "mean_SAPC3 = mean(df$SAPC3)\n",
    "sd_SAPC3 = sd(df$SAPC3)\n",
    "df$s_SAPC3 = (df$SAPC3 - mean_SAPC3)/sd_SAPC3"
   ]
  },
  {
   "cell_type": "code",
   "execution_count": 8,
   "metadata": {},
   "outputs": [],
   "source": [
    "mean_Average.Precol.GPA = mean(df$Average.Precol.GPA)\n",
    "sd_Average.Precol.GPA = sd(df$Average.Precol.GPA)\n",
    "df$s_Average.Precol.GPA = (df$Average.Precol.GPA - mean_Average.Precol.GPA)/sd_Average.Precol.GPA"
   ]
  },
  {
   "cell_type": "code",
   "execution_count": 9,
   "metadata": {},
   "outputs": [],
   "source": [
    "mean_GRE.Combined.General.Write.Score = mean(df$GRE.Combined.General.Write.Score)\n",
    "sd_GRE.Combined.General.Write.Score = sd(df$GRE.Combined.General.Write.Score)\n",
    "df$s_GRE.Combined.General.Write.Score = (df$GRE.Combined.General.Write.Score - mean_GRE.Combined.General.Write.Score)/sd_GRE.Combined.General.Write.Score"
   ]
  },
  {
   "cell_type": "code",
   "execution_count": 10,
   "metadata": {},
   "outputs": [],
   "source": [
    "mean_GRE.Combined.Quantitative.Score = mean(df$GRE.Combined.Quantitative.Score)\n",
    "sd_GRE.Combined.Quantitative.Score = sd(df$GRE.Combined.Quantitative.Score)\n",
    "df$s_GRE.Combined.Quantitative.Score = (df$GRE.Combined.Quantitative.Score - mean_GRE.Combined.Quantitative.Score)/sd_GRE.Combined.Quantitative.Score"
   ]
  },
  {
   "cell_type": "code",
   "execution_count": 11,
   "metadata": {},
   "outputs": [],
   "source": [
    "mean_GRE.Combined.General.Verbal.Score = mean(df$GRE.Combined.General.Verbal.Score)\n",
    "sd_GRE.Combined.General.Verbal.Score = sd(df$GRE.Combined.General.Verbal.Score)\n",
    "df$s_GRE.Combined.General.Verbal.Score = (df$GRE.Combined.General.Verbal.Score - mean_GRE.Combined.General.Verbal.Score)/sd_GRE.Combined.General.Verbal.Score\n"
   ]
  },
  {
   "cell_type": "code",
   "execution_count": 12,
   "metadata": {},
   "outputs": [],
   "source": [
    "mean_GMAT.Score = mean(df$GMAT.Score)\n",
    "sd_GMAT.Score = sd(df$GMAT.Score)\n",
    "df$s_GMAT.Score = (df$GMAT.Score - mean_GMAT.Score)/sd_GMAT.Score"
   ]
  },
  {
   "cell_type": "markdown",
   "metadata": {},
   "source": [
    "## Seperate by School"
   ]
  },
  {
   "cell_type": "markdown",
   "metadata": {},
   "source": [
    "Different Schools"
   ]
  },
  {
   "cell_type": "code",
   "execution_count": 13,
   "metadata": {},
   "outputs": [],
   "source": [
    "schools = levels(factor(df$College))"
   ]
  },
  {
   "cell_type": "code",
   "execution_count": 14,
   "metadata": {},
   "outputs": [],
   "source": [
    "Harpur_df = df[df$College %in% schools[1:4],]\n",
    "Management_df = df[df$College==\"GD Management\",]\n",
    "Nursing_df = df[df$College==\"GD Nursing\",]\n",
    "Watson_df = df[df$College==\"GD Watson\",]"
   ]
  },
  {
   "cell_type": "code",
   "execution_count": 15,
   "metadata": {
    "scrolled": false
   },
   "outputs": [
    {
     "data": {
      "text/html": [
       "<ol class=list-inline>\n",
       "\t<li>Translation Studies</li>\n",
       "\t<li>Chemistry</li>\n",
       "\t<li>Behavioral Neuroscience</li>\n",
       "\t<li>Cognitive Psychology</li>\n",
       "\t<li>Physics</li>\n",
       "\t<li>Mathematics</li>\n",
       "\t<li>Comparative Literature</li>\n",
       "\t<li>Educational Theory and Practic</li>\n",
       "\t<li>Philosophy Interpretation and</li>\n",
       "\t<li>Biological Sciences</li>\n",
       "\t<li>English</li>\n",
       "\t<li>Materials Science and Engineer</li>\n",
       "\t<li>History</li>\n",
       "\t<li>Anthropology</li>\n",
       "\t<li>Sociology</li>\n",
       "\t<li>Material Sci and Eng-Engineerg</li>\n",
       "\t<li>Clinical Psychology</li>\n",
       "\t<li>Economics</li>\n",
       "\t<li>Geology</li>\n",
       "\t<li>Philosophy SPEL</li>\n",
       "\t<li>Political Science</li>\n",
       "\t<li>Community and Public Affairs</li>\n",
       "\t<li>Art History</li>\n",
       "\t<li>Materials Science and Engr</li>\n",
       "\t<li>Biological Sciences EEB</li>\n",
       "\t<li>X Geology</li>\n",
       "\t<li>Art History Combined MA PhD</li>\n",
       "\t<li>Mechanical Engineering</li>\n",
       "\t<li>Mathematics/Economics</li>\n",
       "</ol>\n",
       "\n",
       "<details>\n",
       "\t<summary style=display:list-item;cursor:pointer>\n",
       "\t\t<strong>Levels</strong>:\n",
       "\t</summary>\n",
       "\t<ol class=list-inline>\n",
       "\t\t<li>'Anthropology'</li>\n",
       "\t\t<li>'Art History'</li>\n",
       "\t\t<li>'Art History Combined MA PhD'</li>\n",
       "\t\t<li>'Behavioral Neuroscience'</li>\n",
       "\t\t<li>'Biological Sciences'</li>\n",
       "\t\t<li>'Biological Sciences EEB'</li>\n",
       "\t\t<li>'Biomedical Engineering'</li>\n",
       "\t\t<li>'Chemistry'</li>\n",
       "\t\t<li>'Clinical Psychology'</li>\n",
       "\t\t<li>'Cognitive Psychology'</li>\n",
       "\t\t<li>'Community and Public Affairs'</li>\n",
       "\t\t<li>'Community Health NP'</li>\n",
       "\t\t<li>'Comparative Literature'</li>\n",
       "\t\t<li>'Computer Science'</li>\n",
       "\t\t<li>'Economics'</li>\n",
       "\t\t<li>'Educational Theory and Practic'</li>\n",
       "\t\t<li>'Electrical and Computer Engr'</li>\n",
       "\t\t<li>'Electrical Engineering'</li>\n",
       "\t\t<li>'English'</li>\n",
       "\t\t<li>'Family Nurse Practitioner'</li>\n",
       "\t\t<li>'Family Psych Mental Health NP'</li>\n",
       "\t\t<li>'Geology'</li>\n",
       "\t\t<li>'History'</li>\n",
       "\t\t<li>'Industrial and Systems Enginee'</li>\n",
       "\t\t<li>'Management PHD'</li>\n",
       "\t\t<li>'Material Sci and Eng-Engineerg'</li>\n",
       "\t\t<li>'Materials Engineering'</li>\n",
       "\t\t<li>'Materials Science and Engineer'</li>\n",
       "\t\t<li>'Materials Science and Engr'</li>\n",
       "\t\t<li>'Mathematics'</li>\n",
       "\t\t<li>'Mathematics/Economics'</li>\n",
       "\t\t<li>'Mechanical Engineering'</li>\n",
       "\t\t<li>'Nursing'</li>\n",
       "\t\t<li>'Philosophy Interpretation and'</li>\n",
       "\t\t<li>'Philosophy SPEL'</li>\n",
       "\t\t<li>'Physics'</li>\n",
       "\t\t<li>'Political Science'</li>\n",
       "\t\t<li>'Sociology'</li>\n",
       "\t\t<li>'Systems Science'</li>\n",
       "\t\t<li>'Systems Science/Biomedical Engineering'</li>\n",
       "\t\t<li>'Systems Science/EE'</li>\n",
       "\t\t<li>'Translation Studies'</li>\n",
       "\t\t<li>'X Geology'</li>\n",
       "\t\t<li>'X Gerontological NP'</li>\n",
       "\t\t<li>'XGerontolog Clin Nurse Special'</li>\n",
       "\t</ol>\n",
       "</details>"
      ],
      "text/latex": [
       "\\begin{enumerate*}\n",
       "\\item Translation Studies\n",
       "\\item Chemistry\n",
       "\\item Behavioral Neuroscience\n",
       "\\item Cognitive Psychology\n",
       "\\item Physics\n",
       "\\item Mathematics\n",
       "\\item Comparative Literature\n",
       "\\item Educational Theory and Practic\n",
       "\\item Philosophy Interpretation and\n",
       "\\item Biological Sciences\n",
       "\\item English\n",
       "\\item Materials Science and Engineer\n",
       "\\item History\n",
       "\\item Anthropology\n",
       "\\item Sociology\n",
       "\\item Material Sci and Eng-Engineerg\n",
       "\\item Clinical Psychology\n",
       "\\item Economics\n",
       "\\item Geology\n",
       "\\item Philosophy SPEL\n",
       "\\item Political Science\n",
       "\\item Community and Public Affairs\n",
       "\\item Art History\n",
       "\\item Materials Science and Engr\n",
       "\\item Biological Sciences EEB\n",
       "\\item X Geology\n",
       "\\item Art History Combined MA PhD\n",
       "\\item Mechanical Engineering\n",
       "\\item Mathematics/Economics\n",
       "\\end{enumerate*}\n",
       "\n",
       "\\emph{Levels}: \\begin{enumerate*}\n",
       "\\item 'Anthropology'\n",
       "\\item 'Art History'\n",
       "\\item 'Art History Combined MA PhD'\n",
       "\\item 'Behavioral Neuroscience'\n",
       "\\item 'Biological Sciences'\n",
       "\\item 'Biological Sciences EEB'\n",
       "\\item 'Biomedical Engineering'\n",
       "\\item 'Chemistry'\n",
       "\\item 'Clinical Psychology'\n",
       "\\item 'Cognitive Psychology'\n",
       "\\item 'Community and Public Affairs'\n",
       "\\item 'Community Health NP'\n",
       "\\item 'Comparative Literature'\n",
       "\\item 'Computer Science'\n",
       "\\item 'Economics'\n",
       "\\item 'Educational Theory and Practic'\n",
       "\\item 'Electrical and Computer Engr'\n",
       "\\item 'Electrical Engineering'\n",
       "\\item 'English'\n",
       "\\item 'Family Nurse Practitioner'\n",
       "\\item 'Family Psych Mental Health NP'\n",
       "\\item 'Geology'\n",
       "\\item 'History'\n",
       "\\item 'Industrial and Systems Enginee'\n",
       "\\item 'Management PHD'\n",
       "\\item 'Material Sci and Eng-Engineerg'\n",
       "\\item 'Materials Engineering'\n",
       "\\item 'Materials Science and Engineer'\n",
       "\\item 'Materials Science and Engr'\n",
       "\\item 'Mathematics'\n",
       "\\item 'Mathematics/Economics'\n",
       "\\item 'Mechanical Engineering'\n",
       "\\item 'Nursing'\n",
       "\\item 'Philosophy Interpretation and'\n",
       "\\item 'Philosophy SPEL'\n",
       "\\item 'Physics'\n",
       "\\item 'Political Science'\n",
       "\\item 'Sociology'\n",
       "\\item 'Systems Science'\n",
       "\\item 'Systems Science/Biomedical Engineering'\n",
       "\\item 'Systems Science/EE'\n",
       "\\item 'Translation Studies'\n",
       "\\item 'X Geology'\n",
       "\\item 'X Gerontological NP'\n",
       "\\item 'XGerontolog Clin Nurse Special'\n",
       "\\end{enumerate*}\n"
      ],
      "text/markdown": [
       "1. Translation Studies\n",
       "2. Chemistry\n",
       "3. Behavioral Neuroscience\n",
       "4. Cognitive Psychology\n",
       "5. Physics\n",
       "6. Mathematics\n",
       "7. Comparative Literature\n",
       "8. Educational Theory and Practic\n",
       "9. Philosophy Interpretation and\n",
       "10. Biological Sciences\n",
       "11. English\n",
       "12. Materials Science and Engineer\n",
       "13. History\n",
       "14. Anthropology\n",
       "15. Sociology\n",
       "16. Material Sci and Eng-Engineerg\n",
       "17. Clinical Psychology\n",
       "18. Economics\n",
       "19. Geology\n",
       "20. Philosophy SPEL\n",
       "21. Political Science\n",
       "22. Community and Public Affairs\n",
       "23. Art History\n",
       "24. Materials Science and Engr\n",
       "25. Biological Sciences EEB\n",
       "26. X Geology\n",
       "27. Art History Combined MA PhD\n",
       "28. Mechanical Engineering\n",
       "29. Mathematics/Economics\n",
       "\n",
       "\n",
       "\n",
       "**Levels**: 1. 'Anthropology'\n",
       "2. 'Art History'\n",
       "3. 'Art History Combined MA PhD'\n",
       "4. 'Behavioral Neuroscience'\n",
       "5. 'Biological Sciences'\n",
       "6. 'Biological Sciences EEB'\n",
       "7. 'Biomedical Engineering'\n",
       "8. 'Chemistry'\n",
       "9. 'Clinical Psychology'\n",
       "10. 'Cognitive Psychology'\n",
       "11. 'Community and Public Affairs'\n",
       "12. 'Community Health NP'\n",
       "13. 'Comparative Literature'\n",
       "14. 'Computer Science'\n",
       "15. 'Economics'\n",
       "16. 'Educational Theory and Practic'\n",
       "17. 'Electrical and Computer Engr'\n",
       "18. 'Electrical Engineering'\n",
       "19. 'English'\n",
       "20. 'Family Nurse Practitioner'\n",
       "21. 'Family Psych Mental Health NP'\n",
       "22. 'Geology'\n",
       "23. 'History'\n",
       "24. 'Industrial and Systems Enginee'\n",
       "25. 'Management PHD'\n",
       "26. 'Material Sci and Eng-Engineerg'\n",
       "27. 'Materials Engineering'\n",
       "28. 'Materials Science and Engineer'\n",
       "29. 'Materials Science and Engr'\n",
       "30. 'Mathematics'\n",
       "31. 'Mathematics/Economics'\n",
       "32. 'Mechanical Engineering'\n",
       "33. 'Nursing'\n",
       "34. 'Philosophy Interpretation and'\n",
       "35. 'Philosophy SPEL'\n",
       "36. 'Physics'\n",
       "37. 'Political Science'\n",
       "38. 'Sociology'\n",
       "39. 'Systems Science'\n",
       "40. 'Systems Science/Biomedical Engineering'\n",
       "41. 'Systems Science/EE'\n",
       "42. 'Translation Studies'\n",
       "43. 'X Geology'\n",
       "44. 'X Gerontological NP'\n",
       "45. 'XGerontolog Clin Nurse Special'\n",
       "\n",
       "\n"
      ],
      "text/plain": [
       " [1] Translation Studies            Chemistry                     \n",
       " [3] Behavioral Neuroscience        Cognitive Psychology          \n",
       " [5] Physics                        Mathematics                   \n",
       " [7] Comparative Literature         Educational Theory and Practic\n",
       " [9] Philosophy Interpretation and  Biological Sciences           \n",
       "[11] English                        Materials Science and Engineer\n",
       "[13] History                        Anthropology                  \n",
       "[15] Sociology                      Material Sci and Eng-Engineerg\n",
       "[17] Clinical Psychology            Economics                     \n",
       "[19] Geology                        Philosophy SPEL               \n",
       "[21] Political Science              Community and Public Affairs  \n",
       "[23] Art History                    Materials Science and Engr    \n",
       "[25] Biological Sciences EEB        X Geology                     \n",
       "[27] Art History Combined MA PhD    Mechanical Engineering        \n",
       "[29] Mathematics/Economics         \n",
       "45 Levels: Anthropology Art History ... XGerontolog Clin Nurse Special"
      ]
     },
     "metadata": {},
     "output_type": "display_data"
    }
   ],
   "source": [
    "unique(Harpur_df$Major)"
   ]
  },
  {
   "cell_type": "code",
   "execution_count": 16,
   "metadata": {},
   "outputs": [],
   "source": [
    "harpur_sciences <- c(\"Chemistry\", \"Behavioral Neuroscience\",\"Cognitive Psychology\",\"Physics\",\"Mathematics\",\n",
    "                     \"Biological Sciences\",\"Materials Science and Engineer\",\"Material Sci and Eng-Engineerg\",\n",
    "                     \"Clinical Psychology\",\"Economics\",\"Geology\",\"Political Science\",\"Materials Science and Engr\",\n",
    "                     \"Biological Sciences EEB\", \"X Geology\",\"Mathematics/Economics\")\n",
    "harpur_arts <- c(\"Comparative Literature\",\"Translation Studies\",\"Educational Theory and Practic\",\n",
    "                 \"Philosophy Interpretation and\", \"English\",\"History\",\"Anthropology\",\"Sociology\",\"Philosophy SPEL\",\n",
    "                 \"Community and Public Affairs\",\"Art History\",\"Art History Combined MA PhD\")"
   ]
  },
  {
   "cell_type": "code",
   "execution_count": 17,
   "metadata": {},
   "outputs": [],
   "source": [
    "Harpur_sciences = Harpur_df[Harpur_df$Major %in% harpur_sciences,]\n",
    "Harpur_arts = Harpur_df[Harpur_df$Major %in% harpur_arts,]"
   ]
  },
  {
   "cell_type": "code",
   "execution_count": 18,
   "metadata": {},
   "outputs": [],
   "source": [
    "Harpur_sciences <- within(Harpur_sciences, Citizenship <- relevel(Citizenship, ref = \"White\"))\n",
    "Harpur_arts <- within(Harpur_arts, Citizenship <- relevel(Citizenship, ref = \"White\"))\n",
    "Management_df <- within(Management_df, Citizenship <- relevel(Citizenship, ref = \"White\"))\n",
    "Watson_df <- within(Watson_df, Citizenship <- relevel(Citizenship, ref = \"White\"))\n",
    "Nursing_df <- within(Nursing_df, Citizenship <- relevel(Citizenship, ref = \"White\"))"
   ]
  },
  {
   "cell_type": "code",
   "execution_count": 19,
   "metadata": {},
   "outputs": [
    {
     "data": {
      "text/html": [
       "861"
      ],
      "text/latex": [
       "861"
      ],
      "text/markdown": [
       "861"
      ],
      "text/plain": [
       "[1] 861"
      ]
     },
     "metadata": {},
     "output_type": "display_data"
    },
    {
     "data": {
      "text/html": [
       "918"
      ],
      "text/latex": [
       "918"
      ],
      "text/markdown": [
       "918"
      ],
      "text/plain": [
       "[1] 918"
      ]
     },
     "metadata": {},
     "output_type": "display_data"
    },
    {
     "data": {
      "text/html": [
       "1780"
      ],
      "text/latex": [
       "1780"
      ],
      "text/markdown": [
       "1780"
      ],
      "text/plain": [
       "[1] 1780"
      ]
     },
     "metadata": {},
     "output_type": "display_data"
    }
   ],
   "source": [
    "dim(Harpur_sciences)[1]\n",
    "dim(Harpur_arts)[1]\n",
    "dim(Harpur_df)[1]"
   ]
  },
  {
   "cell_type": "code",
   "execution_count": 20,
   "metadata": {
    "scrolled": false
   },
   "outputs": [
    {
     "data": {
      "text/html": [
       "<table>\n",
       "<thead><tr><th scope=col>School</th><th scope=col>Total</th><th scope=col>Successful.Graduates</th><th scope=col>Unsuccessful.Graduates</th></tr></thead>\n",
       "<tbody>\n",
       "\t<tr><td>Harpur sciences</td><td>861            </td><td>542            </td><td>319            </td></tr>\n",
       "\t<tr><td>Harpur_arts    </td><td>918            </td><td>534            </td><td>384            </td></tr>\n",
       "\t<tr><td>SOM            </td><td> 58            </td><td> 38            </td><td> 20            </td></tr>\n",
       "\t<tr><td>Nursing        </td><td>117            </td><td> 72            </td><td> 45            </td></tr>\n",
       "\t<tr><td>Watson         </td><td>515            </td><td>343            </td><td>172            </td></tr>\n",
       "</tbody>\n",
       "</table>\n"
      ],
      "text/latex": [
       "\\begin{tabular}{r|llll}\n",
       " School & Total & Successful.Graduates & Unsuccessful.Graduates\\\\\n",
       "\\hline\n",
       "\t Harpur sciences & 861             & 542             & 319            \\\\\n",
       "\t Harpur\\_arts     & 918               & 534               & 384              \\\\\n",
       "\t SOM             &  58             &  38             &  20            \\\\\n",
       "\t Nursing         & 117             &  72             &  45            \\\\\n",
       "\t Watson          & 515             & 343             & 172            \\\\\n",
       "\\end{tabular}\n"
      ],
      "text/markdown": [
       "\n",
       "| School | Total | Successful.Graduates | Unsuccessful.Graduates |\n",
       "|---|---|---|---|\n",
       "| Harpur sciences | 861             | 542             | 319             |\n",
       "| Harpur_arts     | 918             | 534             | 384             |\n",
       "| SOM             |  58             |  38             |  20             |\n",
       "| Nursing         | 117             |  72             |  45             |\n",
       "| Watson          | 515             | 343             | 172             |\n",
       "\n"
      ],
      "text/plain": [
       "  School          Total Successful.Graduates Unsuccessful.Graduates\n",
       "1 Harpur sciences 861   542                  319                   \n",
       "2 Harpur_arts     918   534                  384                   \n",
       "3 SOM              58    38                   20                   \n",
       "4 Nursing         117    72                   45                   \n",
       "5 Watson          515   343                  172                   "
      ]
     },
     "metadata": {},
     "output_type": "display_data"
    }
   ],
   "source": [
    "a_n = dim(Harpur_sciences)[1]\n",
    "a_1 = sum(Harpur_sciences$Y)\n",
    "a_0 = a_n - a_1\n",
    "b_n = dim(Harpur_arts)[1]\n",
    "b_1 = sum(Harpur_arts$Y)\n",
    "b_0 = b_n - b_1\n",
    "c_n = dim(Management_df)[1]\n",
    "c_1 = sum(Management_df$Y)\n",
    "c_0 = c_n - c_1\n",
    "d_n = dim(Nursing_df)[1]\n",
    "d_1 = sum(Nursing_df$Y)\n",
    "d_0 = d_n - d_1\n",
    "e_n = dim(Watson_df)[1]\n",
    "e_1 = sum(Watson_df$Y)\n",
    "e_0 = e_n - e_1\n",
    "School = c(\"Harpur sciences\",\"Harpur_arts\",\"SOM\",\"Nursing\",\"Watson\")\n",
    "sch_total = c(a_n,b_n,c_n,d_n,e_n)\n",
    "succ_total = c(a_1,b_1,c_1,d_1,e_1)\n",
    "unsucc_total = c(a_0,b_0,c_0,d_0,e_0)\n",
    "data.frame(\"School\"=School,\"Total\"=sch_total,\"Successful Graduates\"=succ_total,\"Unsuccessful Graduates\"=unsucc_total)"
   ]
  },
  {
   "cell_type": "code",
   "execution_count": 21,
   "metadata": {
    "scrolled": true
   },
   "outputs": [
    {
     "data": {
      "text/html": [
       "<dl class=dl-horizontal>\n",
       "\t<dt>White</dt>\n",
       "\t\t<dd>46</dd>\n",
       "\t<dt>Africa</dt>\n",
       "\t\t<dd>6</dd>\n",
       "\t<dt>Asia</dt>\n",
       "\t\t<dd>92</dd>\n",
       "\t<dt>Asian</dt>\n",
       "\t\t<dd>16</dd>\n",
       "\t<dt>Black or African American</dt>\n",
       "\t\t<dd>7</dd>\n",
       "\t<dt>China</dt>\n",
       "\t\t<dd>95</dd>\n",
       "\t<dt>Europe</dt>\n",
       "\t\t<dd>8</dd>\n",
       "\t<dt>Hispanic or Latino</dt>\n",
       "\t\t<dd>6</dd>\n",
       "\t<dt>India</dt>\n",
       "\t\t<dd>46</dd>\n",
       "\t<dt>Other International Students</dt>\n",
       "\t\t<dd>2</dd>\n",
       "\t<dt>Unknown</dt>\n",
       "\t\t<dd>19</dd>\n",
       "</dl>\n"
      ],
      "text/latex": [
       "\\begin{description*}\n",
       "\\item[White] 46\n",
       "\\item[Africa] 6\n",
       "\\item[Asia] 92\n",
       "\\item[Asian] 16\n",
       "\\item[Black or African American] 7\n",
       "\\item[China] 95\n",
       "\\item[Europe] 8\n",
       "\\item[Hispanic or Latino] 6\n",
       "\\item[India] 46\n",
       "\\item[Other International Students] 2\n",
       "\\item[Unknown] 19\n",
       "\\end{description*}\n"
      ],
      "text/markdown": [
       "White\n",
       ":   46Africa\n",
       ":   6Asia\n",
       ":   92Asian\n",
       ":   16Black or African American\n",
       ":   7China\n",
       ":   95Europe\n",
       ":   8Hispanic or Latino\n",
       ":   6India\n",
       ":   46Other International Students\n",
       ":   2Unknown\n",
       ":   19\n",
       "\n"
      ],
      "text/plain": [
       "                       White                       Africa \n",
       "                          46                            6 \n",
       "                        Asia                        Asian \n",
       "                          92                           16 \n",
       "   Black or African American                        China \n",
       "                           7                           95 \n",
       "                      Europe           Hispanic or Latino \n",
       "                           8                            6 \n",
       "                       India Other International Students \n",
       "                          46                            2 \n",
       "                     Unknown \n",
       "                          19 "
      ]
     },
     "metadata": {},
     "output_type": "display_data"
    }
   ],
   "source": [
    "summary(Watson_df[which(Watson_df$Y==1), ]$Citizenship)"
   ]
  },
  {
   "cell_type": "code",
   "execution_count": 22,
   "metadata": {},
   "outputs": [
    {
     "data": {
      "text/html": [
       "<table>\n",
       "<thead><tr><th></th><th scope=col>X1st_Term_Funding</th><th scope=col>X2nd_Term_Funding</th><th scope=col>X3rd_Term_Funding</th><th scope=col>X4th_Term_Funding</th><th scope=col>Start_year</th><th scope=col>Start_age</th><th scope=col>College</th><th scope=col>Age</th><th scope=col>Degree</th><th scope=col>Gender</th><th scope=col>...</th><th scope=col>s_start_year</th><th scope=col>avs_net_cost</th><th scope=col>s_SAPC1</th><th scope=col>s_SAPC2</th><th scope=col>s_SAPC3</th><th scope=col>s_Average.Precol.GPA</th><th scope=col>s_GRE.Combined.General.Write.Score</th><th scope=col>s_GRE.Combined.Quantitative.Score</th><th scope=col>s_GRE.Combined.General.Verbal.Score</th><th scope=col>s_GMAT.Score</th></tr></thead>\n",
       "<tbody>\n",
       "\t<tr><th scope=row>25</th><td>4685                </td><td>4935                </td><td>4110.0              </td><td> 432.0              </td><td>2013                </td><td>22.3                </td><td>GD Harpur           </td><td>29                  </td><td>Doctor of Philosophy</td><td>Male                </td><td>...                 </td><td> 0.85901134         </td><td>-0.65494776         </td><td>-1.125434e-01       </td><td>2.107395e-10        </td><td>-3.004692e-01       </td><td> 9.450694e-02       </td><td>-0.5485791332       </td><td> 8.546803e-02       </td><td> 3.279657e-01       </td><td>0.008539859         </td></tr>\n",
       "\t<tr><th scope=row>27</th><td>4685                </td><td>4685                </td><td>3699.0              </td><td>3699.0              </td><td>2012                </td><td>22.0                </td><td>GD Harpur           </td><td>29                  </td><td>Doctor of Philosophy</td><td>Female              </td><td>...                 </td><td> 0.64687796         </td><td>-0.68741906         </td><td> 4.148709e-01       </td><td>2.107395e-10        </td><td> 6.817704e-01       </td><td> 2.832543e-02       </td><td> 0.3180845011       </td><td>-1.204902e-01       </td><td>-5.110037e-01       </td><td>0.008539859         </td></tr>\n",
       "\t<tr><th scope=row>28</th><td>4685                </td><td>4685                </td><td>3699.0              </td><td>3699.0              </td><td>2012                </td><td>23.0                </td><td>GD Harpur           </td><td>30                  </td><td>Doctor of Philosophy</td><td>Female              </td><td>...                 </td><td> 0.64687796         </td><td>-0.68693362         </td><td>-4.260311e-01       </td><td>2.107395e-10        </td><td> 4.663449e+00       </td><td> 1.732499e+00       </td><td> 2.9180754037       </td><td> 8.546803e-02       </td><td> 9.733268e-01       </td><td>0.008539859         </td></tr>\n",
       "\t<tr><th scope=row>35</th><td>3699                </td><td>3699                </td><td> 432.0              </td><td> 432.0              </td><td>2013                </td><td>23.0                </td><td>GD Harpur           </td><td>29                  </td><td>Doctor of Philosophy</td><td>Male                </td><td>...                 </td><td> 0.85901134         </td><td> 3.58982146         </td><td>-2.066100e-01       </td><td>2.107395e-10        </td><td> 1.417915e-01       </td><td>-9.643972e-01       </td><td> 0.3180845011       </td><td> 8.546803e-02       </td><td> 5.215741e-01       </td><td>0.008539859         </td></tr>\n",
       "\t<tr><th scope=row>36</th><td>8325                </td><td>8325                </td><td> 925.0              </td><td> 925.0              </td><td>2013                </td><td>23.0                </td><td>GD Harpur           </td><td>29                  </td><td>Doctor of Philosophy</td><td>Female              </td><td>...                 </td><td> 0.85901134         </td><td>-0.65240349         </td><td> 1.034529e-05       </td><td>3.289252e+00        </td><td> 4.293910e-01       </td><td> 7.894128e-01       </td><td>-1.4152427674       </td><td> 4.458950e-01       </td><td> 9.733268e-01       </td><td>0.008539859         </td></tr>\n",
       "\t<tr><th scope=row>38</th><td>   0                </td><td>   0                </td><td>3141.0              </td><td>3141.0              </td><td>2008                </td><td>22.0                </td><td>GD Harpur           </td><td>33                  </td><td>Doctor of Philosophy</td><td>Female              </td><td>...                 </td><td>-0.20165553         </td><td>-0.24715426         </td><td>-9.409784e-10       </td><td>2.107395e-10        </td><td>-2.179561e-10       </td><td>-2.545443e-07       </td><td> 0.0000189473       </td><td> 4.961343e-07       </td><td>-3.187613e-07       </td><td>0.008539859         </td></tr>\n",
       "\t<tr><th scope=row>47</th><td>   0                </td><td>   0                </td><td>3141.0              </td><td>3141.0              </td><td>2008                </td><td>33.0                </td><td>GD Harpur           </td><td>44                  </td><td>Doctor of Philosophy</td><td>Male                </td><td>...                 </td><td>-0.20165553         </td><td>-0.38651183         </td><td>-9.409784e-10       </td><td>2.107395e-10        </td><td>-2.179561e-10       </td><td>-2.545443e-07       </td><td> 0.0000189473       </td><td> 4.961343e-07       </td><td>-3.187613e-07       </td><td>0.008539859         </td></tr>\n",
       "\t<tr><th scope=row>50</th><td>   0                </td><td>   0                </td><td>4968.0              </td><td>4968.0              </td><td>2008                </td><td>22.0                </td><td>GD Harpur           </td><td>33                  </td><td>Doctor of Philosophy</td><td>Female              </td><td>...                 </td><td>-0.20165553         </td><td>-0.18483851         </td><td>-9.409784e-10       </td><td>2.107395e-10        </td><td>-2.179561e-10       </td><td>-2.545443e-07       </td><td> 0.0000189473       </td><td> 4.961343e-07       </td><td>-3.187613e-07       </td><td>0.008539859         </td></tr>\n",
       "\t<tr><th scope=row>53</th><td>4968                </td><td>6072                </td><td>5166.0              </td><td>5683.2              </td><td>2009                </td><td>24.0                </td><td>GD Grad School      </td><td>34                  </td><td>Doctor of Philosophy</td><td>Male                </td><td>...                 </td><td> 0.01047784         </td><td>-0.05227148         </td><td> 8.055970e-07       </td><td>2.107395e-10        </td><td> 3.340649e-02       </td><td> 6.141618e-02       </td><td> 0.0000189473       </td><td> 4.961343e-07       </td><td>-3.187613e-07       </td><td>0.008539859         </td></tr>\n",
       "\t<tr><th scope=row>56</th><td>   0                </td><td>   0                </td><td>   0.0              </td><td>4968.0              </td><td>2008                </td><td>23.3                </td><td>GD Harpur           </td><td>35                  </td><td>Doctor of Philosophy</td><td>Female              </td><td>...                 </td><td>-0.20165553         </td><td>-0.07151431         </td><td>-9.409784e-10       </td><td>2.107395e-10        </td><td>-2.179561e-10       </td><td>-2.545443e-07       </td><td> 0.0000189473       </td><td> 4.961343e-07       </td><td>-3.187613e-07       </td><td>0.008539859         </td></tr>\n",
       "\t<tr><th scope=row>59</th><td>4185                </td><td>4185                </td><td>3141.0              </td><td>3330.0              </td><td>2010                </td><td>28.3                </td><td>GD Harpur           </td><td>38                  </td><td>Doctor of Philosophy</td><td>Male                </td><td>...                 </td><td> 0.22261122         </td><td>-0.67832867         </td><td>-3.097006e-06       </td><td>8.398178e-01        </td><td>-1.285872e-01       </td><td>-2.364006e-01       </td><td> 1.1847481353       </td><td>-4.294277e-01       </td><td> 6.982130e-02       </td><td>0.008539859         </td></tr>\n",
       "\t<tr><th scope=row>60</th><td>   0                </td><td>   0                </td><td>   0.0              </td><td>4968.0              </td><td>2008                </td><td>27.3                </td><td>GD Harpur           </td><td>39                  </td><td>Doctor of Philosophy</td><td>Female              </td><td>...                 </td><td>-0.20165553         </td><td> 0.23822926         </td><td>-9.409784e-10       </td><td>2.107395e-10        </td><td>-2.179561e-10       </td><td>-2.545443e-07       </td><td> 0.0000189473       </td><td> 4.961343e-07       </td><td>-3.187613e-07       </td><td>0.008539859         </td></tr>\n",
       "\t<tr><th scope=row>65</th><td>   0                </td><td>   0                </td><td>3350.4              </td><td>3350.4              </td><td>2008                </td><td>22.0                </td><td>GD Harpur           </td><td>33                  </td><td>Doctor of Philosophy</td><td>Female              </td><td>...                 </td><td>-0.20165553         </td><td>-0.35097807         </td><td> 2.540087e-06       </td><td>2.107395e-10        </td><td> 1.054037e-01       </td><td> 1.937792e-01       </td><td> 0.0000189473       </td><td> 4.961343e-07       </td><td>-3.187613e-07       </td><td>0.008539859         </td></tr>\n",
       "\t<tr><th scope=row>75</th><td>   0                </td><td>   0                </td><td>   0.0              </td><td>4968.0              </td><td>2008                </td><td>25.3                </td><td>GD Grad School      </td><td>37                  </td><td>Doctor of Philosophy</td><td>Male                </td><td>...                 </td><td>-0.20165553         </td><td> 0.27803038         </td><td> 8.055970e-07       </td><td>2.107395e-10        </td><td> 3.340649e-02       </td><td> 6.141618e-02       </td><td> 0.0000189473       </td><td> 4.961343e-07       </td><td>-3.187613e-07       </td><td>0.008539859         </td></tr>\n",
       "\t<tr><th scope=row>79</th><td>   0                </td><td>   0                </td><td>4968.0              </td><td>4968.0              </td><td>2008                </td><td>26.0                </td><td>GD Harpur           </td><td>37                  </td><td>Doctor of Philosophy</td><td>Male                </td><td>...                 </td><td>-0.20165553         </td><td>-0.04586592         </td><td>-4.831497e-06       </td><td>2.107395e-10        </td><td>-2.005844e-01       </td><td>-3.687636e-01       </td><td> 0.0000189473       </td><td> 4.961343e-07       </td><td>-3.187613e-07       </td><td>0.008539859         </td></tr>\n",
       "\t<tr><th scope=row>86</th><td>   0                </td><td>   0                </td><td>4968.0              </td><td>4968.0              </td><td>2009                </td><td>25.0                </td><td>GD Grad School      </td><td>35                  </td><td>Doctor of Philosophy</td><td>Male                </td><td>...                 </td><td> 0.01047784         </td><td> 1.89216838         </td><td> 2.973710e-06       </td><td>2.107395e-10        </td><td> 1.234030e-01       </td><td> 2.268700e-01       </td><td> 0.0000189473       </td><td> 4.961343e-07       </td><td>-3.187613e-07       </td><td>0.008539859         </td></tr>\n",
       "\t<tr><th scope=row>89</th><td>   0                </td><td>   0                </td><td>4185.0              </td><td>3141.0              </td><td>2008                </td><td>22.0                </td><td>GD Harpur           </td><td>33                  </td><td>Doctor of Philosophy</td><td>Female              </td><td>...                 </td><td>-0.20165553         </td><td> 0.37082573         </td><td> 9.044426e-06       </td><td>2.107395e-10        </td><td> 3.753931e-01       </td><td> 6.901405e-01       </td><td> 0.0000189473       </td><td> 4.961343e-07       </td><td>-3.187613e-07       </td><td>0.008539859         </td></tr>\n",
       "\t<tr><th scope=row>90</th><td>   0                </td><td>   0                </td><td>4185.0              </td><td>3141.0              </td><td>2008                </td><td>26.0                </td><td>GD Harpur           </td><td>37                  </td><td>Doctor of Philosophy</td><td>Male                </td><td>...                 </td><td>-0.20165553         </td><td>-0.41395280         </td><td>-9.409784e-10       </td><td>2.107395e-10        </td><td>-2.179561e-10       </td><td>-2.545443e-07       </td><td> 0.0000189473       </td><td> 4.961343e-07       </td><td>-3.187613e-07       </td><td>0.008539859         </td></tr>\n",
       "\t<tr><th scope=row>92</th><td>   0                </td><td>   0                </td><td>4185.0              </td><td>3141.0              </td><td>2008                </td><td>22.0                </td><td>GD Harpur           </td><td>33                  </td><td>Doctor of Philosophy</td><td>Female              </td><td>...                 </td><td>-0.20165553         </td><td> 0.47089214         </td><td> 9.911671e-06       </td><td>2.107395e-10        </td><td> 4.113917e-01       </td><td> 7.563220e-01       </td><td> 0.0000189473       </td><td> 4.961343e-07       </td><td>-3.187613e-07       </td><td>0.008539859         </td></tr>\n",
       "\t<tr><th scope=row>93</th><td>3141                </td><td> 349                </td><td> 370.0              </td><td> 370.0              </td><td>2008                </td><td>23.0                </td><td>GD Harpur           </td><td>34                  </td><td>Doctor of Philosophy</td><td>Male                </td><td>...                 </td><td>-0.20165553         </td><td>-0.28025029         </td><td>-9.409784e-10       </td><td>2.107395e-10        </td><td>-2.179561e-10       </td><td>-2.545443e-07       </td><td> 0.0000189473       </td><td> 4.961343e-07       </td><td>-3.187613e-07       </td><td>0.008539859         </td></tr>\n",
       "\t<tr><th scope=row>96</th><td>   0                </td><td>3141                </td><td>3141.0              </td><td> 349.0              </td><td>2009                </td><td>47.0                </td><td>GD Grad School      </td><td>57                  </td><td>Doctor of Philosophy</td><td>Female              </td><td>...                 </td><td> 0.01047784         </td><td> 0.16191205         </td><td> 2.161948e-05       </td><td>2.107395e-10        </td><td> 8.973727e-01       </td><td> 1.649772e+00       </td><td> 0.0000189473       </td><td> 4.961343e-07       </td><td>-3.187613e-07       </td><td>0.008539859         </td></tr>\n",
       "\t<tr><th scope=row>100</th><td>   0                </td><td>   0                </td><td>4968.0              </td><td>4968.0              </td><td>2008                </td><td>27.0                </td><td>GD Harpur           </td><td>38                  </td><td>Doctor of Philosophy</td><td>Male                </td><td>...                 </td><td>-0.20165553         </td><td>-0.23606292         </td><td>-9.409784e-10       </td><td>2.107395e-10        </td><td>-2.179561e-10       </td><td>-2.545443e-07       </td><td> 0.0000189473       </td><td> 4.961343e-07       </td><td>-3.187613e-07       </td><td>0.008539859         </td></tr>\n",
       "\t<tr><th scope=row>101</th><td>   0                </td><td>   0                </td><td>4185.0              </td><td>4185.0              </td><td>2008                </td><td>27.0                </td><td>GD Harpur           </td><td>38                  </td><td>Doctor of Philosophy</td><td>Male                </td><td>...                 </td><td>-0.20165553         </td><td> 0.21958996         </td><td> 1.077892e-05       </td><td>2.107395e-10        </td><td> 4.473903e-01       </td><td> 8.225035e-01       </td><td> 0.0000189473       </td><td> 4.961343e-07       </td><td>-3.187613e-07       </td><td>0.008539859         </td></tr>\n",
       "\t<tr><th scope=row>103</th><td>   0                </td><td>   0                </td><td>4185.0              </td><td>3141.0              </td><td>2008                </td><td>23.0                </td><td>GD Harpur           </td><td>34                  </td><td>Doctor of Philosophy</td><td>Female              </td><td>...                 </td><td>-0.20165553         </td><td> 0.39605530         </td><td> 1.554876e-05       </td><td>2.107395e-10        </td><td> 6.453826e-01       </td><td> 1.186502e+00       </td><td> 0.0000189473       </td><td> 4.961343e-07       </td><td>-3.187613e-07       </td><td>0.008539859         </td></tr>\n",
       "\t<tr><th scope=row>111</th><td>   0                </td><td>   0                </td><td>3141.0              </td><td>3141.0              </td><td>2008                </td><td>24.0                </td><td>GD Harpur           </td><td>35                  </td><td>Doctor of Philosophy</td><td>Male                </td><td>...                 </td><td>-0.20165553         </td><td> 0.12166590         </td><td> 2.118586e-05       </td><td>2.107395e-10        </td><td> 8.793734e-01       </td><td> 1.616682e+00       </td><td> 0.0000189473       </td><td> 4.961343e-07       </td><td>-3.187613e-07       </td><td>0.008539859         </td></tr>\n",
       "\t<tr><th scope=row>113</th><td>   0                </td><td>   0                </td><td>6625.0              </td><td>4968.0              </td><td>2008                </td><td>22.0                </td><td>GD Harpur           </td><td>33                  </td><td>Doctor of Philosophy</td><td>Female              </td><td>...                 </td><td>-0.20165553         </td><td>-0.25002612         </td><td>-9.409784e-10       </td><td>2.107395e-10        </td><td>-2.179561e-10       </td><td>-2.545443e-07       </td><td> 0.0000189473       </td><td> 4.961343e-07       </td><td>-3.187613e-07       </td><td>0.008539859         </td></tr>\n",
       "\t<tr><th scope=row>118</th><td>   0                </td><td>   0                </td><td>4185.0              </td><td>3141.0              </td><td>2008                </td><td>23.0                </td><td>GD Harpur           </td><td>34                  </td><td>Doctor of Philosophy</td><td>Female              </td><td>...                 </td><td>-0.20165553         </td><td>-0.26200793         </td><td> 1.164616e-05       </td><td>2.107395e-10        </td><td> 4.833889e-01       </td><td> 8.886850e-01       </td><td> 0.0000189473       </td><td> 4.961343e-07       </td><td>-3.187613e-07       </td><td>0.008539859         </td></tr>\n",
       "\t<tr><th scope=row>119</th><td>   0                </td><td>   0                </td><td>4185.0              </td><td>4185.0              </td><td>2008                </td><td>24.0                </td><td>GD Harpur           </td><td>35                  </td><td>Doctor of Philosophy</td><td>Female              </td><td>...                 </td><td>-0.20165553         </td><td>-0.47498955         </td><td> 1.684963e-05       </td><td>2.107395e-10        </td><td> 6.993805e-01       </td><td> 1.285774e+00       </td><td> 0.0000189473       </td><td> 4.961343e-07       </td><td>-3.187613e-07       </td><td>0.008539859         </td></tr>\n",
       "\t<tr><th scope=row>120</th><td>   0                </td><td>   0                </td><td>4185.0              </td><td>4185.0              </td><td>2008                </td><td>22.0                </td><td>GD Harpur           </td><td>33                  </td><td>Doctor of Philosophy</td><td>Male                </td><td>...                 </td><td>-0.20165553         </td><td> 0.29460460         </td><td>-9.409784e-10       </td><td>2.107395e-10        </td><td>-2.179561e-10       </td><td>-2.545443e-07       </td><td> 0.0000189473       </td><td> 4.961343e-07       </td><td>-3.187613e-07       </td><td>0.008539859         </td></tr>\n",
       "\t<tr><th scope=row>121</th><td>   0                </td><td>   0                </td><td>4968.0              </td><td> 552.0              </td><td>2009                </td><td>28.0                </td><td>GD Grad School      </td><td>38                  </td><td>Doctor of Philosophy</td><td>Female              </td><td>...                 </td><td> 0.01047784         </td><td> 1.77439832         </td><td> 1.077892e-05       </td><td>2.107395e-10        </td><td> 4.473903e-01       </td><td> 8.225035e-01       </td><td> 0.0000189473       </td><td> 4.961343e-07       </td><td>-3.187613e-07       </td><td>0.008539859         </td></tr>\n",
       "\t<tr><th scope=row>...</th><td>...</td><td>...</td><td>...</td><td>...</td><td>...</td><td>...</td><td>...</td><td>...</td><td>...</td><td>...</td><td>   </td><td>...</td><td>...</td><td>...</td><td>...</td><td>...</td><td>...</td><td>...</td><td>...</td><td>...</td><td>...</td></tr>\n",
       "\t<tr><th scope=row>1890</th><td>4935                      </td><td>4935                      </td><td>   0.0                    </td><td>   0.0                    </td><td>2012                      </td><td>23.0                      </td><td>GD Nursing                </td><td>30                        </td><td>Doctor of Philosophy      </td><td>Female                    </td><td>...                       </td><td>0.64687796                </td><td>-0.45295818               </td><td> 4.491389e-06             </td><td>2.107395e-10              </td><td> 1.864005e-01             </td><td> 3.426876e-01             </td><td>1.89473e-05               </td><td>4.961343e-07              </td><td>-3.187613e-07             </td><td>0.008539859               </td></tr>\n",
       "\t<tr><th scope=row>1908</th><td>   0                      </td><td>   0                      </td><td>   0.0                    </td><td> 432.0                    </td><td>2011                      </td><td>38.0                      </td><td>GD Nursing                </td><td>46                        </td><td>Doctor of Philosophy      </td><td>Female                    </td><td>...                       </td><td>0.43474459                </td><td>-0.56331852               </td><td>-7.290137e-06             </td><td>2.107395e-10              </td><td>-3.025804e-01             </td><td>-5.562889e-01             </td><td>1.89473e-05               </td><td>4.961343e-07              </td><td>-3.187613e-07             </td><td>0.008539859               </td></tr>\n",
       "\t<tr><th scope=row>1910</th><td>   0                      </td><td>   0                      </td><td>   0.0                    </td><td>   0.0                    </td><td>2010                      </td><td>39.0                      </td><td>GD Nursing                </td><td>48                        </td><td>Doctor of Nursing Practice</td><td>Female                    </td><td>...                       </td><td>0.22261122                </td><td> 0.80625228               </td><td> 1.923456e-05             </td><td>2.107395e-10              </td><td> 7.983766e-01             </td><td> 1.467773e+00             </td><td>1.89473e-05               </td><td>4.961343e-07              </td><td>-3.187613e-07             </td><td>0.008539859               </td></tr>\n",
       "\t<tr><th scope=row>1916</th><td>4185                      </td><td>3839                      </td><td>2092.5                    </td><td>2092.5                    </td><td>2009                      </td><td>52.0                      </td><td>GD Nursing                </td><td>62                        </td><td>Doctor of Philosophy      </td><td>Female                    </td><td>...                       </td><td>0.01047784                </td><td> 0.43109618               </td><td> 6.876313e-06             </td><td>2.107395e-10              </td><td> 2.853966e-01             </td><td> 5.246867e-01             </td><td>1.89473e-05               </td><td>4.961343e-07              </td><td>-3.187613e-07             </td><td>0.008539859               </td></tr>\n",
       "\t<tr><th scope=row>1921</th><td>   0                      </td><td>   0                      </td><td>   0.0                    </td><td>   0.0                    </td><td>2010                      </td><td>46.0                      </td><td>GD Nursing                </td><td>55                        </td><td>Doctor of Nursing Practice</td><td>Female                    </td><td>...                       </td><td>0.22261122                </td><td> 0.81008895               </td><td>-3.097006e-06             </td><td>2.107395e-10              </td><td>-1.285872e-01             </td><td>-2.364006e-01             </td><td>1.89473e-05               </td><td>4.961343e-07              </td><td>-3.187613e-07             </td><td>0.008539859               </td></tr>\n",
       "\t<tr><th scope=row>1924</th><td>   0                      </td><td>   0                      </td><td>   0.0                    </td><td>   0.0                    </td><td>2011                      </td><td>43.0                      </td><td>GD Nursing                </td><td>51                        </td><td>Doctor of Nursing Practice</td><td>Female                    </td><td>...                       </td><td>0.43474459                </td><td> 0.33587580               </td><td>-4.254778e-06             </td><td>2.107395e-10              </td><td>-1.765853e-01             </td><td>-3.246536e-01             </td><td>1.89473e-05               </td><td>4.961343e-07              </td><td>-3.187613e-07             </td><td>0.008539859               </td></tr>\n",
       "\t<tr><th scope=row>1932</th><td>5185                      </td><td>5185                      </td><td>   0.0                    </td><td>   0.0                    </td><td>2014                      </td><td>23.0                      </td><td>GD Nursing                </td><td>28                        </td><td>Doctor of Philosophy      </td><td>Female                    </td><td>...                       </td><td>1.07114471                </td><td>-0.62555152               </td><td> 2.096905e-05             </td><td>2.107395e-10              </td><td> 8.703738e-01             </td><td> 1.600136e+00             </td><td>1.89473e-05               </td><td>4.961343e-07              </td><td>-3.187613e-07             </td><td>0.008539859               </td></tr>\n",
       "\t<tr><th scope=row>1981</th><td>4077                      </td><td>4077                      </td><td>   0.0                    </td><td>   0.0                    </td><td>2016                      </td><td>26.0                      </td><td>GD Nursing                </td><td>29                        </td><td>Doctor of Nursing Practice</td><td>Female                    </td><td>...                       </td><td>1.49541146                </td><td>-0.32241641               </td><td>-7.866855e-06             </td><td>2.107395e-10              </td><td>-3.265794e-01             </td><td>-6.003989e-01             </td><td>1.89473e-05               </td><td>4.961343e-07              </td><td>-3.187613e-07             </td><td>0.008539859               </td></tr>\n",
       "\t<tr><th scope=row>2005</th><td>   0                      </td><td>   0                      </td><td>   0.0                    </td><td>   0.0                    </td><td>2010                      </td><td>48.3                      </td><td>GD Nursing                </td><td>58                        </td><td>Doctor of Philosophy      </td><td>Female                    </td><td>...                       </td><td>0.22261122                </td><td>-0.63947555               </td><td>-9.409784e-10             </td><td>2.107395e-10              </td><td>-2.179561e-10             </td><td>-2.545443e-07             </td><td>1.89473e-05               </td><td>4.961343e-07              </td><td>-3.187613e-07             </td><td>0.008539859               </td></tr>\n",
       "\t<tr><th scope=row>2028</th><td>   0                      </td><td>   0                      </td><td>   0.0                    </td><td>   0.0                    </td><td>2012                      </td><td>32.0                      </td><td>GD Nursing                </td><td>39                        </td><td>Doctor of Nursing Practice</td><td>Female                    </td><td>...                       </td><td>0.64687796                </td><td>-0.73602830               </td><td>-1.046859e-05             </td><td>2.107395e-10              </td><td>-4.345752e-01             </td><td>-7.989434e-01             </td><td>1.89473e-05               </td><td>4.961343e-07              </td><td>-3.187613e-07             </td><td>0.008539859               </td></tr>\n",
       "\t<tr><th scope=row>2081</th><td>   0                      </td><td>   0                      </td><td>   0.0                    </td><td>   0.0                    </td><td>2010                      </td><td>51.0                      </td><td>GD Nursing                </td><td>60                        </td><td>Doctor of Nursing Practice</td><td>Female                    </td><td>...                       </td><td>0.22261122                </td><td>-0.55516078               </td><td>-9.409784e-10             </td><td>2.107395e-10              </td><td>-2.179561e-10             </td><td>-2.545443e-07             </td><td>1.89473e-05               </td><td>4.961343e-07              </td><td>-3.187613e-07             </td><td>0.008539859               </td></tr>\n",
       "\t<tr><th scope=row>2082</th><td>   0                      </td><td>   0                      </td><td>   0.0                    </td><td>   0.0                    </td><td>2010                      </td><td>63.0                      </td><td>GD Nursing                </td><td>72                        </td><td>Doctor of Nursing Practice</td><td>Female                    </td><td>...                       </td><td>0.22261122                </td><td> 0.98301733               </td><td>-9.409784e-10             </td><td>2.107395e-10              </td><td>-2.179561e-10             </td><td>-2.545443e-07             </td><td>1.89473e-05               </td><td>4.961343e-07              </td><td>-3.187613e-07             </td><td>0.008539859               </td></tr>\n",
       "\t<tr><th scope=row>2087</th><td>4935                      </td><td>4935                      </td><td>5185.0                    </td><td>4752.0                    </td><td>2013                      </td><td>25.0                      </td><td>GD Nursing                </td><td>31                        </td><td>Doctor of Philosophy      </td><td>Male                      </td><td>...                       </td><td>0.85901134                </td><td>-0.64575304               </td><td>-1.220308e-05             </td><td>2.107395e-10              </td><td>-5.065724e-01             </td><td>-9.313064e-01             </td><td>1.89473e-05               </td><td>4.961343e-07              </td><td>-3.187613e-07             </td><td>0.008539859               </td></tr>\n",
       "\t<tr><th scope=row>2110</th><td>   0                      </td><td>   0                      </td><td>   0.0                    </td><td>   0.0                    </td><td>2013                      </td><td>40.0                      </td><td>GD Nursing                </td><td>46                        </td><td>Doctor of Philosophy      </td><td>Female                    </td><td>...                       </td><td>0.85901134                </td><td> 0.59045047               </td><td> 1.551632e-07             </td><td>2.107395e-10              </td><td> 6.407545e-03             </td><td> 1.178005e-02             </td><td>1.89473e-05               </td><td>4.961343e-07              </td><td>-3.187613e-07             </td><td>0.008539859               </td></tr>\n",
       "\t<tr><th scope=row>2127</th><td>   0                      </td><td>   0                      </td><td>   0.0                    </td><td>   0.0                    </td><td>2012                      </td><td>23.0                      </td><td>GD Nursing                </td><td>30                        </td><td>Doctor of Nursing Practice</td><td>Female                    </td><td>...                       </td><td>0.64687796                </td><td>-0.81748455               </td><td> 1.672842e-06             </td><td>2.107395e-10              </td><td> 6.940508e-02             </td><td> 1.275977e-01             </td><td>1.89473e-05               </td><td>4.961343e-07              </td><td>-3.187613e-07             </td><td>0.008539859               </td></tr>\n",
       "\t<tr><th scope=row>2146</th><td>   0                      </td><td>   0                      </td><td>   0.0                    </td><td>   0.0                    </td><td>2011                      </td><td>44.0                      </td><td>GD Nursing                </td><td>52                        </td><td>Doctor of Nursing Practice</td><td>Female                    </td><td>...                       </td><td>0.43474459                </td><td>-0.39723457               </td><td> 1.923456e-05             </td><td>2.107395e-10              </td><td> 7.983766e-01             </td><td> 1.467773e+00             </td><td>1.89473e-05               </td><td>4.961343e-07              </td><td>-3.187613e-07             </td><td>0.008539859               </td></tr>\n",
       "\t<tr><th scope=row>2150</th><td>5000                      </td><td>5000                      </td><td>   0.0                    </td><td>   0.0                    </td><td>2014                      </td><td>29.0                      </td><td>GD Nursing                </td><td>34                        </td><td>Doctor of Nursing Practice</td><td>Female                    </td><td>...                       </td><td>1.07114471                </td><td>-0.02420671               </td><td>-8.734100e-06             </td><td>2.107395e-10              </td><td>-3.625780e-01             </td><td>-6.665804e-01             </td><td>1.89473e-05               </td><td>4.961343e-07              </td><td>-3.187613e-07             </td><td>0.008539859               </td></tr>\n",
       "\t<tr><th scope=row>2153</th><td>   0                      </td><td>   0                      </td><td>   0.0                    </td><td>   0.0                    </td><td>2012                      </td><td>60.0                      </td><td>GD Nursing                </td><td>67                        </td><td>Doctor of Nursing Practice</td><td>Female                    </td><td>...                       </td><td>0.64687796                </td><td> 0.08916026               </td><td>-1.827380e-05             </td><td>2.107395e-10              </td><td>-7.585626e-01             </td><td>-1.394577e+00             </td><td>1.89473e-05               </td><td>4.961343e-07              </td><td>-3.187613e-07             </td><td>0.008539859               </td></tr>\n",
       "\t<tr><th scope=row>2165</th><td>8712                      </td><td>   0                      </td><td>   0.0                    </td><td>   0.0                    </td><td>2013                      </td><td>46.0                      </td><td>GD Nursing                </td><td>52                        </td><td>Doctor of Nursing Practice</td><td>Male                      </td><td>...                       </td><td>0.85901134                </td><td>-0.68094180               </td><td>-2.998161e-05             </td><td>2.107395e-10              </td><td>-1.244544e+00             </td><td>-2.288027e+00             </td><td>1.89473e-05               </td><td>4.961343e-07              </td><td>-3.187613e-07             </td><td>0.008539859               </td></tr>\n",
       "\t<tr><th scope=row>2223</th><td>   0                      </td><td>   0                      </td><td>   0.0                    </td><td>   0.0                    </td><td>2012                      </td><td>56.0                      </td><td>GD Nursing                </td><td>63                        </td><td>Doctor of Nursing Practice</td><td>Female                    </td><td>...                       </td><td>0.64687796                </td><td> 1.12727466               </td><td> 4.491389e-06             </td><td>2.107395e-10              </td><td> 1.864005e-01             </td><td> 3.426876e-01             </td><td>1.89473e-05               </td><td>4.961343e-07              </td><td>-3.187613e-07             </td><td>0.008539859               </td></tr>\n",
       "\t<tr><th scope=row>2233</th><td>   0                      </td><td>   0                      </td><td>   0.0                    </td><td>   0.0                    </td><td>2015                      </td><td>40.0                      </td><td>GD Nursing                </td><td>44                        </td><td>Doctor of Nursing Practice</td><td>Male                      </td><td>...                       </td><td>1.28327808                </td><td>-0.62018396               </td><td>-1.881582e-05             </td><td>2.107395e-10              </td><td>-7.810617e-01             </td><td>-1.435940e+00             </td><td>1.89473e-05               </td><td>4.961343e-07              </td><td>-3.187613e-07             </td><td>0.008539859               </td></tr>\n",
       "\t<tr><th scope=row>2276</th><td>5185                      </td><td>4320                      </td><td>3171.0                    </td><td>3171.0                    </td><td>2013                      </td><td>33.0                      </td><td>GD Nursing                </td><td>39                        </td><td>Doctor of Philosophy      </td><td>Female                    </td><td>...                       </td><td>0.85901134                </td><td>-0.72599764               </td><td>-1.675612e-05             </td><td>2.107395e-10              </td><td>-6.955650e-01             </td><td>-1.278759e+00             </td><td>1.89473e-05               </td><td>4.961343e-07              </td><td>-3.187613e-07             </td><td>0.008539859               </td></tr>\n",
       "\t<tr><th scope=row>2322</th><td>   0                      </td><td>8325                      </td><td>8325.0                    </td><td>   0.0                    </td><td>2014                      </td><td>27.0                      </td><td>GD Nursing                </td><td>32                        </td><td>Doctor of Philosophy      </td><td>Female                    </td><td>...                       </td><td>1.07114471                </td><td> 0.11794552               </td><td> 4.708200e-06             </td><td>2.107395e-10              </td><td> 1.954002e-01             </td><td> 3.592330e-01             </td><td>1.89473e-05               </td><td>4.961343e-07              </td><td>-3.187613e-07             </td><td>0.008539859               </td></tr>\n",
       "\t<tr><th scope=row>2323</th><td>5435                      </td><td>5545                      </td><td>4158.0                    </td><td>   0.0                    </td><td>2017                      </td><td>34.3                      </td><td>GD Nursing                </td><td>37                        </td><td>Doctor of Philosophy      </td><td>Female                    </td><td>...                       </td><td>1.70754483                </td><td>-0.20291425               </td><td>-1.935785e-05             </td><td>2.107395e-10              </td><td>-8.035608e-01             </td><td>-1.477304e+00             </td><td>1.89473e-05               </td><td>4.961343e-07              </td><td>-3.187613e-07             </td><td>0.008539859               </td></tr>\n",
       "\t<tr><th scope=row>2325</th><td>   0                      </td><td>1296                      </td><td>   0.0                    </td><td>   0.0                    </td><td>2014                      </td><td>31.0                      </td><td>GD Nursing                </td><td>36                        </td><td>Doctor of Philosophy      </td><td>Female                    </td><td>...                       </td><td>1.07114471                </td><td>-0.64164044               </td><td>-3.877527e-06             </td><td>2.107395e-10              </td><td>-1.609859e-01             </td><td>-2.959640e-01             </td><td>1.89473e-05               </td><td>4.961343e-07              </td><td>-3.187613e-07             </td><td>0.008539859               </td></tr>\n",
       "\t<tr><th scope=row>2389</th><td>   0                      </td><td>   0                      </td><td>   0.0                    </td><td>   0.0                    </td><td>2017                      </td><td>53.3                      </td><td>GD Nursing                </td><td>56                        </td><td>Doctor of Philosophy      </td><td>Female                    </td><td>...                       </td><td>1.70754483                </td><td>-0.41206579               </td><td>-2.261002e-05             </td><td>2.107395e-10              </td><td>-9.385555e-01             </td><td>-1.725485e+00             </td><td>1.89473e-05               </td><td>4.961343e-07              </td><td>-3.187613e-07             </td><td>0.008539859               </td></tr>\n",
       "\t<tr><th scope=row>2427</th><td>   0                      </td><td>   0                      </td><td>   0.0                    </td><td>   0.0                    </td><td>2016                      </td><td>47.0                      </td><td>GD Nursing                </td><td>50                        </td><td>Doctor of Philosophy      </td><td>Female                    </td><td>...                       </td><td>1.49541146                </td><td>-0.24664064               </td><td>-4.111270e-05             </td><td>2.107395e-10              </td><td>-1.706526e+00             </td><td>-3.137368e+00             </td><td>1.89473e-05               </td><td>4.961343e-07              </td><td>-3.187613e-07             </td><td>0.008539859               </td></tr>\n",
       "\t<tr><th scope=row>2455</th><td>   0                      </td><td>   0                      </td><td>   0.0                    </td><td>   0.0                    </td><td>2018                      </td><td>29.3                      </td><td>GD Nursing                </td><td>31                        </td><td>Doctor of Philosophy      </td><td>Male                      </td><td>...                       </td><td>1.91967820                </td><td> 1.04792282               </td><td>-3.530629e-06             </td><td>2.107395e-10              </td><td>-1.465865e-01             </td><td>-2.694914e-01             </td><td>1.89473e-05               </td><td>4.961343e-07              </td><td>-3.187613e-07             </td><td>0.008539859               </td></tr>\n",
       "\t<tr><th scope=row>2456</th><td>   0                      </td><td>   0                      </td><td>   0.0                    </td><td>   0.0                    </td><td>2018                      </td><td>27.3                      </td><td>GD Nursing                </td><td>29                        </td><td>Doctor of Philosophy      </td><td>Male                      </td><td>...                       </td><td>1.91967820                </td><td> 0.63172772               </td><td>-4.952707e-07             </td><td>2.107395e-10              </td><td>-2.059140e-02             </td><td>-3.785608e-02             </td><td>1.89473e-05               </td><td>4.961343e-07              </td><td>-3.187613e-07             </td><td>0.008539859               </td></tr>\n",
       "\t<tr><th scope=row>2468</th><td>   0                      </td><td>   0                      </td><td>   0.0                    </td><td>   0.0                    </td><td>2018                      </td><td>26.0                      </td><td>GD Nursing                </td><td>27                        </td><td>Doctor of Philosophy      </td><td>Female                    </td><td>...                       </td><td>1.91967820                </td><td> 2.12085645               </td><td> 1.193669e-05             </td><td>2.107395e-10              </td><td> 4.953884e-01             </td><td> 9.107566e-01             </td><td>1.89473e-05               </td><td>4.961343e-07              </td><td>-3.187613e-07             </td><td>0.008539859               </td></tr>\n",
       "</tbody>\n",
       "</table>\n"
      ],
      "text/latex": [
       "\\begin{tabular}{r|lllllllllllllllllllllllllllllllllllllllllllllllllllllllllll}\n",
       "  & X1st\\_Term\\_Funding & X2nd\\_Term\\_Funding & X3rd\\_Term\\_Funding & X4th\\_Term\\_Funding & Start\\_year & Start\\_age & College & Age & Degree & Gender & ... & s\\_start\\_year & avs\\_net\\_cost & s\\_SAPC1 & s\\_SAPC2 & s\\_SAPC3 & s\\_Average.Precol.GPA & s\\_GRE.Combined.General.Write.Score & s\\_GRE.Combined.Quantitative.Score & s\\_GRE.Combined.General.Verbal.Score & s\\_GMAT.Score\\\\\n",
       "\\hline\n",
       "\t25 & 4685                 & 4935                 & 4110.0               &  432.0               & 2013                 & 22.3                 & GD Harpur            & 29                   & Doctor of Philosophy & Male                 & ...                  &  0.85901134          & -0.65494776          & -1.125434e-01        & 2.107395e-10         & -3.004692e-01        &  9.450694e-02        & -0.5485791332        &  8.546803e-02        &  3.279657e-01        & 0.008539859         \\\\\n",
       "\t27 & 4685                 & 4685                 & 3699.0               & 3699.0               & 2012                 & 22.0                 & GD Harpur            & 29                   & Doctor of Philosophy & Female               & ...                  &  0.64687796          & -0.68741906          &  4.148709e-01        & 2.107395e-10         &  6.817704e-01        &  2.832543e-02        &  0.3180845011        & -1.204902e-01        & -5.110037e-01        & 0.008539859         \\\\\n",
       "\t28 & 4685                 & 4685                 & 3699.0               & 3699.0               & 2012                 & 23.0                 & GD Harpur            & 30                   & Doctor of Philosophy & Female               & ...                  &  0.64687796          & -0.68693362          & -4.260311e-01        & 2.107395e-10         &  4.663449e+00        &  1.732499e+00        &  2.9180754037        &  8.546803e-02        &  9.733268e-01        & 0.008539859         \\\\\n",
       "\t35 & 3699                 & 3699                 &  432.0               &  432.0               & 2013                 & 23.0                 & GD Harpur            & 29                   & Doctor of Philosophy & Male                 & ...                  &  0.85901134          &  3.58982146          & -2.066100e-01        & 2.107395e-10         &  1.417915e-01        & -9.643972e-01        &  0.3180845011        &  8.546803e-02        &  5.215741e-01        & 0.008539859         \\\\\n",
       "\t36 & 8325                 & 8325                 &  925.0               &  925.0               & 2013                 & 23.0                 & GD Harpur            & 29                   & Doctor of Philosophy & Female               & ...                  &  0.85901134          & -0.65240349          &  1.034529e-05        & 3.289252e+00         &  4.293910e-01        &  7.894128e-01        & -1.4152427674        &  4.458950e-01        &  9.733268e-01        & 0.008539859         \\\\\n",
       "\t38 &    0                 &    0                 & 3141.0               & 3141.0               & 2008                 & 22.0                 & GD Harpur            & 33                   & Doctor of Philosophy & Female               & ...                  & -0.20165553          & -0.24715426          & -9.409784e-10        & 2.107395e-10         & -2.179561e-10        & -2.545443e-07        &  0.0000189473        &  4.961343e-07        & -3.187613e-07        & 0.008539859         \\\\\n",
       "\t47 &    0                 &    0                 & 3141.0               & 3141.0               & 2008                 & 33.0                 & GD Harpur            & 44                   & Doctor of Philosophy & Male                 & ...                  & -0.20165553          & -0.38651183          & -9.409784e-10        & 2.107395e-10         & -2.179561e-10        & -2.545443e-07        &  0.0000189473        &  4.961343e-07        & -3.187613e-07        & 0.008539859         \\\\\n",
       "\t50 &    0                 &    0                 & 4968.0               & 4968.0               & 2008                 & 22.0                 & GD Harpur            & 33                   & Doctor of Philosophy & Female               & ...                  & -0.20165553          & -0.18483851          & -9.409784e-10        & 2.107395e-10         & -2.179561e-10        & -2.545443e-07        &  0.0000189473        &  4.961343e-07        & -3.187613e-07        & 0.008539859         \\\\\n",
       "\t53 & 4968                 & 6072                 & 5166.0               & 5683.2               & 2009                 & 24.0                 & GD Grad School       & 34                   & Doctor of Philosophy & Male                 & ...                  &  0.01047784          & -0.05227148          &  8.055970e-07        & 2.107395e-10         &  3.340649e-02        &  6.141618e-02        &  0.0000189473        &  4.961343e-07        & -3.187613e-07        & 0.008539859         \\\\\n",
       "\t56 &    0                 &    0                 &    0.0               & 4968.0               & 2008                 & 23.3                 & GD Harpur            & 35                   & Doctor of Philosophy & Female               & ...                  & -0.20165553          & -0.07151431          & -9.409784e-10        & 2.107395e-10         & -2.179561e-10        & -2.545443e-07        &  0.0000189473        &  4.961343e-07        & -3.187613e-07        & 0.008539859         \\\\\n",
       "\t59 & 4185                 & 4185                 & 3141.0               & 3330.0               & 2010                 & 28.3                 & GD Harpur            & 38                   & Doctor of Philosophy & Male                 & ...                  &  0.22261122          & -0.67832867          & -3.097006e-06        & 8.398178e-01         & -1.285872e-01        & -2.364006e-01        &  1.1847481353        & -4.294277e-01        &  6.982130e-02        & 0.008539859         \\\\\n",
       "\t60 &    0                 &    0                 &    0.0               & 4968.0               & 2008                 & 27.3                 & GD Harpur            & 39                   & Doctor of Philosophy & Female               & ...                  & -0.20165553          &  0.23822926          & -9.409784e-10        & 2.107395e-10         & -2.179561e-10        & -2.545443e-07        &  0.0000189473        &  4.961343e-07        & -3.187613e-07        & 0.008539859         \\\\\n",
       "\t65 &    0                 &    0                 & 3350.4               & 3350.4               & 2008                 & 22.0                 & GD Harpur            & 33                   & Doctor of Philosophy & Female               & ...                  & -0.20165553          & -0.35097807          &  2.540087e-06        & 2.107395e-10         &  1.054037e-01        &  1.937792e-01        &  0.0000189473        &  4.961343e-07        & -3.187613e-07        & 0.008539859         \\\\\n",
       "\t75 &    0                 &    0                 &    0.0               & 4968.0               & 2008                 & 25.3                 & GD Grad School       & 37                   & Doctor of Philosophy & Male                 & ...                  & -0.20165553          &  0.27803038          &  8.055970e-07        & 2.107395e-10         &  3.340649e-02        &  6.141618e-02        &  0.0000189473        &  4.961343e-07        & -3.187613e-07        & 0.008539859         \\\\\n",
       "\t79 &    0                 &    0                 & 4968.0               & 4968.0               & 2008                 & 26.0                 & GD Harpur            & 37                   & Doctor of Philosophy & Male                 & ...                  & -0.20165553          & -0.04586592          & -4.831497e-06        & 2.107395e-10         & -2.005844e-01        & -3.687636e-01        &  0.0000189473        &  4.961343e-07        & -3.187613e-07        & 0.008539859         \\\\\n",
       "\t86 &    0                 &    0                 & 4968.0               & 4968.0               & 2009                 & 25.0                 & GD Grad School       & 35                   & Doctor of Philosophy & Male                 & ...                  &  0.01047784          &  1.89216838          &  2.973710e-06        & 2.107395e-10         &  1.234030e-01        &  2.268700e-01        &  0.0000189473        &  4.961343e-07        & -3.187613e-07        & 0.008539859         \\\\\n",
       "\t89 &    0                 &    0                 & 4185.0               & 3141.0               & 2008                 & 22.0                 & GD Harpur            & 33                   & Doctor of Philosophy & Female               & ...                  & -0.20165553          &  0.37082573          &  9.044426e-06        & 2.107395e-10         &  3.753931e-01        &  6.901405e-01        &  0.0000189473        &  4.961343e-07        & -3.187613e-07        & 0.008539859         \\\\\n",
       "\t90 &    0                 &    0                 & 4185.0               & 3141.0               & 2008                 & 26.0                 & GD Harpur            & 37                   & Doctor of Philosophy & Male                 & ...                  & -0.20165553          & -0.41395280          & -9.409784e-10        & 2.107395e-10         & -2.179561e-10        & -2.545443e-07        &  0.0000189473        &  4.961343e-07        & -3.187613e-07        & 0.008539859         \\\\\n",
       "\t92 &    0                 &    0                 & 4185.0               & 3141.0               & 2008                 & 22.0                 & GD Harpur            & 33                   & Doctor of Philosophy & Female               & ...                  & -0.20165553          &  0.47089214          &  9.911671e-06        & 2.107395e-10         &  4.113917e-01        &  7.563220e-01        &  0.0000189473        &  4.961343e-07        & -3.187613e-07        & 0.008539859         \\\\\n",
       "\t93 & 3141                 &  349                 &  370.0               &  370.0               & 2008                 & 23.0                 & GD Harpur            & 34                   & Doctor of Philosophy & Male                 & ...                  & -0.20165553          & -0.28025029          & -9.409784e-10        & 2.107395e-10         & -2.179561e-10        & -2.545443e-07        &  0.0000189473        &  4.961343e-07        & -3.187613e-07        & 0.008539859         \\\\\n",
       "\t96 &    0                 & 3141                 & 3141.0               &  349.0               & 2009                 & 47.0                 & GD Grad School       & 57                   & Doctor of Philosophy & Female               & ...                  &  0.01047784          &  0.16191205          &  2.161948e-05        & 2.107395e-10         &  8.973727e-01        &  1.649772e+00        &  0.0000189473        &  4.961343e-07        & -3.187613e-07        & 0.008539859         \\\\\n",
       "\t100 &    0                 &    0                 & 4968.0               & 4968.0               & 2008                 & 27.0                 & GD Harpur            & 38                   & Doctor of Philosophy & Male                 & ...                  & -0.20165553          & -0.23606292          & -9.409784e-10        & 2.107395e-10         & -2.179561e-10        & -2.545443e-07        &  0.0000189473        &  4.961343e-07        & -3.187613e-07        & 0.008539859         \\\\\n",
       "\t101 &    0                 &    0                 & 4185.0               & 4185.0               & 2008                 & 27.0                 & GD Harpur            & 38                   & Doctor of Philosophy & Male                 & ...                  & -0.20165553          &  0.21958996          &  1.077892e-05        & 2.107395e-10         &  4.473903e-01        &  8.225035e-01        &  0.0000189473        &  4.961343e-07        & -3.187613e-07        & 0.008539859         \\\\\n",
       "\t103 &    0                 &    0                 & 4185.0               & 3141.0               & 2008                 & 23.0                 & GD Harpur            & 34                   & Doctor of Philosophy & Female               & ...                  & -0.20165553          &  0.39605530          &  1.554876e-05        & 2.107395e-10         &  6.453826e-01        &  1.186502e+00        &  0.0000189473        &  4.961343e-07        & -3.187613e-07        & 0.008539859         \\\\\n",
       "\t111 &    0                 &    0                 & 3141.0               & 3141.0               & 2008                 & 24.0                 & GD Harpur            & 35                   & Doctor of Philosophy & Male                 & ...                  & -0.20165553          &  0.12166590          &  2.118586e-05        & 2.107395e-10         &  8.793734e-01        &  1.616682e+00        &  0.0000189473        &  4.961343e-07        & -3.187613e-07        & 0.008539859         \\\\\n",
       "\t113 &    0                 &    0                 & 6625.0               & 4968.0               & 2008                 & 22.0                 & GD Harpur            & 33                   & Doctor of Philosophy & Female               & ...                  & -0.20165553          & -0.25002612          & -9.409784e-10        & 2.107395e-10         & -2.179561e-10        & -2.545443e-07        &  0.0000189473        &  4.961343e-07        & -3.187613e-07        & 0.008539859         \\\\\n",
       "\t118 &    0                 &    0                 & 4185.0               & 3141.0               & 2008                 & 23.0                 & GD Harpur            & 34                   & Doctor of Philosophy & Female               & ...                  & -0.20165553          & -0.26200793          &  1.164616e-05        & 2.107395e-10         &  4.833889e-01        &  8.886850e-01        &  0.0000189473        &  4.961343e-07        & -3.187613e-07        & 0.008539859         \\\\\n",
       "\t119 &    0                 &    0                 & 4185.0               & 4185.0               & 2008                 & 24.0                 & GD Harpur            & 35                   & Doctor of Philosophy & Female               & ...                  & -0.20165553          & -0.47498955          &  1.684963e-05        & 2.107395e-10         &  6.993805e-01        &  1.285774e+00        &  0.0000189473        &  4.961343e-07        & -3.187613e-07        & 0.008539859         \\\\\n",
       "\t120 &    0                 &    0                 & 4185.0               & 4185.0               & 2008                 & 22.0                 & GD Harpur            & 33                   & Doctor of Philosophy & Male                 & ...                  & -0.20165553          &  0.29460460          & -9.409784e-10        & 2.107395e-10         & -2.179561e-10        & -2.545443e-07        &  0.0000189473        &  4.961343e-07        & -3.187613e-07        & 0.008539859         \\\\\n",
       "\t121 &    0                 &    0                 & 4968.0               &  552.0               & 2009                 & 28.0                 & GD Grad School       & 38                   & Doctor of Philosophy & Female               & ...                  &  0.01047784          &  1.77439832          &  1.077892e-05        & 2.107395e-10         &  4.473903e-01        &  8.225035e-01        &  0.0000189473        &  4.961343e-07        & -3.187613e-07        & 0.008539859         \\\\\n",
       "\t... & ... & ... & ... & ... & ... & ... & ... & ... & ... & ... &     & ... & ... & ... & ... & ... & ... & ... & ... & ... & ...\\\\\n",
       "\t1890 & 4935                       & 4935                       &    0.0                     &    0.0                     & 2012                       & 23.0                       & GD Nursing                 & 30                         & Doctor of Philosophy       & Female                     & ...                        & 0.64687796                 & -0.45295818                &  4.491389e-06              & 2.107395e-10               &  1.864005e-01              &  3.426876e-01              & 1.89473e-05                & 4.961343e-07               & -3.187613e-07              & 0.008539859               \\\\\n",
       "\t1908 &    0                       &    0                       &    0.0                     &  432.0                     & 2011                       & 38.0                       & GD Nursing                 & 46                         & Doctor of Philosophy       & Female                     & ...                        & 0.43474459                 & -0.56331852                & -7.290137e-06              & 2.107395e-10               & -3.025804e-01              & -5.562889e-01              & 1.89473e-05                & 4.961343e-07               & -3.187613e-07              & 0.008539859               \\\\\n",
       "\t1910 &    0                       &    0                       &    0.0                     &    0.0                     & 2010                       & 39.0                       & GD Nursing                 & 48                         & Doctor of Nursing Practice & Female                     & ...                        & 0.22261122                 &  0.80625228                &  1.923456e-05              & 2.107395e-10               &  7.983766e-01              &  1.467773e+00              & 1.89473e-05                & 4.961343e-07               & -3.187613e-07              & 0.008539859               \\\\\n",
       "\t1916 & 4185                       & 3839                       & 2092.5                     & 2092.5                     & 2009                       & 52.0                       & GD Nursing                 & 62                         & Doctor of Philosophy       & Female                     & ...                        & 0.01047784                 &  0.43109618                &  6.876313e-06              & 2.107395e-10               &  2.853966e-01              &  5.246867e-01              & 1.89473e-05                & 4.961343e-07               & -3.187613e-07              & 0.008539859               \\\\\n",
       "\t1921 &    0                       &    0                       &    0.0                     &    0.0                     & 2010                       & 46.0                       & GD Nursing                 & 55                         & Doctor of Nursing Practice & Female                     & ...                        & 0.22261122                 &  0.81008895                & -3.097006e-06              & 2.107395e-10               & -1.285872e-01              & -2.364006e-01              & 1.89473e-05                & 4.961343e-07               & -3.187613e-07              & 0.008539859               \\\\\n",
       "\t1924 &    0                       &    0                       &    0.0                     &    0.0                     & 2011                       & 43.0                       & GD Nursing                 & 51                         & Doctor of Nursing Practice & Female                     & ...                        & 0.43474459                 &  0.33587580                & -4.254778e-06              & 2.107395e-10               & -1.765853e-01              & -3.246536e-01              & 1.89473e-05                & 4.961343e-07               & -3.187613e-07              & 0.008539859               \\\\\n",
       "\t1932 & 5185                       & 5185                       &    0.0                     &    0.0                     & 2014                       & 23.0                       & GD Nursing                 & 28                         & Doctor of Philosophy       & Female                     & ...                        & 1.07114471                 & -0.62555152                &  2.096905e-05              & 2.107395e-10               &  8.703738e-01              &  1.600136e+00              & 1.89473e-05                & 4.961343e-07               & -3.187613e-07              & 0.008539859               \\\\\n",
       "\t1981 & 4077                       & 4077                       &    0.0                     &    0.0                     & 2016                       & 26.0                       & GD Nursing                 & 29                         & Doctor of Nursing Practice & Female                     & ...                        & 1.49541146                 & -0.32241641                & -7.866855e-06              & 2.107395e-10               & -3.265794e-01              & -6.003989e-01              & 1.89473e-05                & 4.961343e-07               & -3.187613e-07              & 0.008539859               \\\\\n",
       "\t2005 &    0                       &    0                       &    0.0                     &    0.0                     & 2010                       & 48.3                       & GD Nursing                 & 58                         & Doctor of Philosophy       & Female                     & ...                        & 0.22261122                 & -0.63947555                & -9.409784e-10              & 2.107395e-10               & -2.179561e-10              & -2.545443e-07              & 1.89473e-05                & 4.961343e-07               & -3.187613e-07              & 0.008539859               \\\\\n",
       "\t2028 &    0                       &    0                       &    0.0                     &    0.0                     & 2012                       & 32.0                       & GD Nursing                 & 39                         & Doctor of Nursing Practice & Female                     & ...                        & 0.64687796                 & -0.73602830                & -1.046859e-05              & 2.107395e-10               & -4.345752e-01              & -7.989434e-01              & 1.89473e-05                & 4.961343e-07               & -3.187613e-07              & 0.008539859               \\\\\n",
       "\t2081 &    0                       &    0                       &    0.0                     &    0.0                     & 2010                       & 51.0                       & GD Nursing                 & 60                         & Doctor of Nursing Practice & Female                     & ...                        & 0.22261122                 & -0.55516078                & -9.409784e-10              & 2.107395e-10               & -2.179561e-10              & -2.545443e-07              & 1.89473e-05                & 4.961343e-07               & -3.187613e-07              & 0.008539859               \\\\\n",
       "\t2082 &    0                       &    0                       &    0.0                     &    0.0                     & 2010                       & 63.0                       & GD Nursing                 & 72                         & Doctor of Nursing Practice & Female                     & ...                        & 0.22261122                 &  0.98301733                & -9.409784e-10              & 2.107395e-10               & -2.179561e-10              & -2.545443e-07              & 1.89473e-05                & 4.961343e-07               & -3.187613e-07              & 0.008539859               \\\\\n",
       "\t2087 & 4935                       & 4935                       & 5185.0                     & 4752.0                     & 2013                       & 25.0                       & GD Nursing                 & 31                         & Doctor of Philosophy       & Male                       & ...                        & 0.85901134                 & -0.64575304                & -1.220308e-05              & 2.107395e-10               & -5.065724e-01              & -9.313064e-01              & 1.89473e-05                & 4.961343e-07               & -3.187613e-07              & 0.008539859               \\\\\n",
       "\t2110 &    0                       &    0                       &    0.0                     &    0.0                     & 2013                       & 40.0                       & GD Nursing                 & 46                         & Doctor of Philosophy       & Female                     & ...                        & 0.85901134                 &  0.59045047                &  1.551632e-07              & 2.107395e-10               &  6.407545e-03              &  1.178005e-02              & 1.89473e-05                & 4.961343e-07               & -3.187613e-07              & 0.008539859               \\\\\n",
       "\t2127 &    0                       &    0                       &    0.0                     &    0.0                     & 2012                       & 23.0                       & GD Nursing                 & 30                         & Doctor of Nursing Practice & Female                     & ...                        & 0.64687796                 & -0.81748455                &  1.672842e-06              & 2.107395e-10               &  6.940508e-02              &  1.275977e-01              & 1.89473e-05                & 4.961343e-07               & -3.187613e-07              & 0.008539859               \\\\\n",
       "\t2146 &    0                       &    0                       &    0.0                     &    0.0                     & 2011                       & 44.0                       & GD Nursing                 & 52                         & Doctor of Nursing Practice & Female                     & ...                        & 0.43474459                 & -0.39723457                &  1.923456e-05              & 2.107395e-10               &  7.983766e-01              &  1.467773e+00              & 1.89473e-05                & 4.961343e-07               & -3.187613e-07              & 0.008539859               \\\\\n",
       "\t2150 & 5000                       & 5000                       &    0.0                     &    0.0                     & 2014                       & 29.0                       & GD Nursing                 & 34                         & Doctor of Nursing Practice & Female                     & ...                        & 1.07114471                 & -0.02420671                & -8.734100e-06              & 2.107395e-10               & -3.625780e-01              & -6.665804e-01              & 1.89473e-05                & 4.961343e-07               & -3.187613e-07              & 0.008539859               \\\\\n",
       "\t2153 &    0                       &    0                       &    0.0                     &    0.0                     & 2012                       & 60.0                       & GD Nursing                 & 67                         & Doctor of Nursing Practice & Female                     & ...                        & 0.64687796                 &  0.08916026                & -1.827380e-05              & 2.107395e-10               & -7.585626e-01              & -1.394577e+00              & 1.89473e-05                & 4.961343e-07               & -3.187613e-07              & 0.008539859               \\\\\n",
       "\t2165 & 8712                       &    0                       &    0.0                     &    0.0                     & 2013                       & 46.0                       & GD Nursing                 & 52                         & Doctor of Nursing Practice & Male                       & ...                        & 0.85901134                 & -0.68094180                & -2.998161e-05              & 2.107395e-10               & -1.244544e+00              & -2.288027e+00              & 1.89473e-05                & 4.961343e-07               & -3.187613e-07              & 0.008539859               \\\\\n",
       "\t2223 &    0                       &    0                       &    0.0                     &    0.0                     & 2012                       & 56.0                       & GD Nursing                 & 63                         & Doctor of Nursing Practice & Female                     & ...                        & 0.64687796                 &  1.12727466                &  4.491389e-06              & 2.107395e-10               &  1.864005e-01              &  3.426876e-01              & 1.89473e-05                & 4.961343e-07               & -3.187613e-07              & 0.008539859               \\\\\n",
       "\t2233 &    0                       &    0                       &    0.0                     &    0.0                     & 2015                       & 40.0                       & GD Nursing                 & 44                         & Doctor of Nursing Practice & Male                       & ...                        & 1.28327808                 & -0.62018396                & -1.881582e-05              & 2.107395e-10               & -7.810617e-01              & -1.435940e+00              & 1.89473e-05                & 4.961343e-07               & -3.187613e-07              & 0.008539859               \\\\\n",
       "\t2276 & 5185                       & 4320                       & 3171.0                     & 3171.0                     & 2013                       & 33.0                       & GD Nursing                 & 39                         & Doctor of Philosophy       & Female                     & ...                        & 0.85901134                 & -0.72599764                & -1.675612e-05              & 2.107395e-10               & -6.955650e-01              & -1.278759e+00              & 1.89473e-05                & 4.961343e-07               & -3.187613e-07              & 0.008539859               \\\\\n",
       "\t2322 &    0                       & 8325                       & 8325.0                     &    0.0                     & 2014                       & 27.0                       & GD Nursing                 & 32                         & Doctor of Philosophy       & Female                     & ...                        & 1.07114471                 &  0.11794552                &  4.708200e-06              & 2.107395e-10               &  1.954002e-01              &  3.592330e-01              & 1.89473e-05                & 4.961343e-07               & -3.187613e-07              & 0.008539859               \\\\\n",
       "\t2323 & 5435                       & 5545                       & 4158.0                     &    0.0                     & 2017                       & 34.3                       & GD Nursing                 & 37                         & Doctor of Philosophy       & Female                     & ...                        & 1.70754483                 & -0.20291425                & -1.935785e-05              & 2.107395e-10               & -8.035608e-01              & -1.477304e+00              & 1.89473e-05                & 4.961343e-07               & -3.187613e-07              & 0.008539859               \\\\\n",
       "\t2325 &    0                       & 1296                       &    0.0                     &    0.0                     & 2014                       & 31.0                       & GD Nursing                 & 36                         & Doctor of Philosophy       & Female                     & ...                        & 1.07114471                 & -0.64164044                & -3.877527e-06              & 2.107395e-10               & -1.609859e-01              & -2.959640e-01              & 1.89473e-05                & 4.961343e-07               & -3.187613e-07              & 0.008539859               \\\\\n",
       "\t2389 &    0                       &    0                       &    0.0                     &    0.0                     & 2017                       & 53.3                       & GD Nursing                 & 56                         & Doctor of Philosophy       & Female                     & ...                        & 1.70754483                 & -0.41206579                & -2.261002e-05              & 2.107395e-10               & -9.385555e-01              & -1.725485e+00              & 1.89473e-05                & 4.961343e-07               & -3.187613e-07              & 0.008539859               \\\\\n",
       "\t2427 &    0                       &    0                       &    0.0                     &    0.0                     & 2016                       & 47.0                       & GD Nursing                 & 50                         & Doctor of Philosophy       & Female                     & ...                        & 1.49541146                 & -0.24664064                & -4.111270e-05              & 2.107395e-10               & -1.706526e+00              & -3.137368e+00              & 1.89473e-05                & 4.961343e-07               & -3.187613e-07              & 0.008539859               \\\\\n",
       "\t2455 &    0                       &    0                       &    0.0                     &    0.0                     & 2018                       & 29.3                       & GD Nursing                 & 31                         & Doctor of Philosophy       & Male                       & ...                        & 1.91967820                 &  1.04792282                & -3.530629e-06              & 2.107395e-10               & -1.465865e-01              & -2.694914e-01              & 1.89473e-05                & 4.961343e-07               & -3.187613e-07              & 0.008539859               \\\\\n",
       "\t2456 &    0                       &    0                       &    0.0                     &    0.0                     & 2018                       & 27.3                       & GD Nursing                 & 29                         & Doctor of Philosophy       & Male                       & ...                        & 1.91967820                 &  0.63172772                & -4.952707e-07              & 2.107395e-10               & -2.059140e-02              & -3.785608e-02              & 1.89473e-05                & 4.961343e-07               & -3.187613e-07              & 0.008539859               \\\\\n",
       "\t2468 &    0                       &    0                       &    0.0                     &    0.0                     & 2018                       & 26.0                       & GD Nursing                 & 27                         & Doctor of Philosophy       & Female                     & ...                        & 1.91967820                 &  2.12085645                &  1.193669e-05              & 2.107395e-10               &  4.953884e-01              &  9.107566e-01              & 1.89473e-05                & 4.961343e-07               & -3.187613e-07              & 0.008539859               \\\\\n",
       "\\end{tabular}\n"
      ],
      "text/markdown": [
       "\n",
       "| <!--/--> | X1st_Term_Funding | X2nd_Term_Funding | X3rd_Term_Funding | X4th_Term_Funding | Start_year | Start_age | College | Age | Degree | Gender | ... | s_start_year | avs_net_cost | s_SAPC1 | s_SAPC2 | s_SAPC3 | s_Average.Precol.GPA | s_GRE.Combined.General.Write.Score | s_GRE.Combined.Quantitative.Score | s_GRE.Combined.General.Verbal.Score | s_GMAT.Score |\n",
       "|---|---|---|---|---|---|---|---|---|---|---|---|---|---|---|---|---|---|---|---|---|---|\n",
       "| 25 | 4685                 | 4935                 | 4110.0               |  432.0               | 2013                 | 22.3                 | GD Harpur            | 29                   | Doctor of Philosophy | Male                 | ...                  |  0.85901134          | -0.65494776          | -1.125434e-01        | 2.107395e-10         | -3.004692e-01        |  9.450694e-02        | -0.5485791332        |  8.546803e-02        |  3.279657e-01        | 0.008539859          |\n",
       "| 27 | 4685                 | 4685                 | 3699.0               | 3699.0               | 2012                 | 22.0                 | GD Harpur            | 29                   | Doctor of Philosophy | Female               | ...                  |  0.64687796          | -0.68741906          |  4.148709e-01        | 2.107395e-10         |  6.817704e-01        |  2.832543e-02        |  0.3180845011        | -1.204902e-01        | -5.110037e-01        | 0.008539859          |\n",
       "| 28 | 4685                 | 4685                 | 3699.0               | 3699.0               | 2012                 | 23.0                 | GD Harpur            | 30                   | Doctor of Philosophy | Female               | ...                  |  0.64687796          | -0.68693362          | -4.260311e-01        | 2.107395e-10         |  4.663449e+00        |  1.732499e+00        |  2.9180754037        |  8.546803e-02        |  9.733268e-01        | 0.008539859          |\n",
       "| 35 | 3699                 | 3699                 |  432.0               |  432.0               | 2013                 | 23.0                 | GD Harpur            | 29                   | Doctor of Philosophy | Male                 | ...                  |  0.85901134          |  3.58982146          | -2.066100e-01        | 2.107395e-10         |  1.417915e-01        | -9.643972e-01        |  0.3180845011        |  8.546803e-02        |  5.215741e-01        | 0.008539859          |\n",
       "| 36 | 8325                 | 8325                 |  925.0               |  925.0               | 2013                 | 23.0                 | GD Harpur            | 29                   | Doctor of Philosophy | Female               | ...                  |  0.85901134          | -0.65240349          |  1.034529e-05        | 3.289252e+00         |  4.293910e-01        |  7.894128e-01        | -1.4152427674        |  4.458950e-01        |  9.733268e-01        | 0.008539859          |\n",
       "| 38 |    0                 |    0                 | 3141.0               | 3141.0               | 2008                 | 22.0                 | GD Harpur            | 33                   | Doctor of Philosophy | Female               | ...                  | -0.20165553          | -0.24715426          | -9.409784e-10        | 2.107395e-10         | -2.179561e-10        | -2.545443e-07        |  0.0000189473        |  4.961343e-07        | -3.187613e-07        | 0.008539859          |\n",
       "| 47 |    0                 |    0                 | 3141.0               | 3141.0               | 2008                 | 33.0                 | GD Harpur            | 44                   | Doctor of Philosophy | Male                 | ...                  | -0.20165553          | -0.38651183          | -9.409784e-10        | 2.107395e-10         | -2.179561e-10        | -2.545443e-07        |  0.0000189473        |  4.961343e-07        | -3.187613e-07        | 0.008539859          |\n",
       "| 50 |    0                 |    0                 | 4968.0               | 4968.0               | 2008                 | 22.0                 | GD Harpur            | 33                   | Doctor of Philosophy | Female               | ...                  | -0.20165553          | -0.18483851          | -9.409784e-10        | 2.107395e-10         | -2.179561e-10        | -2.545443e-07        |  0.0000189473        |  4.961343e-07        | -3.187613e-07        | 0.008539859          |\n",
       "| 53 | 4968                 | 6072                 | 5166.0               | 5683.2               | 2009                 | 24.0                 | GD Grad School       | 34                   | Doctor of Philosophy | Male                 | ...                  |  0.01047784          | -0.05227148          |  8.055970e-07        | 2.107395e-10         |  3.340649e-02        |  6.141618e-02        |  0.0000189473        |  4.961343e-07        | -3.187613e-07        | 0.008539859          |\n",
       "| 56 |    0                 |    0                 |    0.0               | 4968.0               | 2008                 | 23.3                 | GD Harpur            | 35                   | Doctor of Philosophy | Female               | ...                  | -0.20165553          | -0.07151431          | -9.409784e-10        | 2.107395e-10         | -2.179561e-10        | -2.545443e-07        |  0.0000189473        |  4.961343e-07        | -3.187613e-07        | 0.008539859          |\n",
       "| 59 | 4185                 | 4185                 | 3141.0               | 3330.0               | 2010                 | 28.3                 | GD Harpur            | 38                   | Doctor of Philosophy | Male                 | ...                  |  0.22261122          | -0.67832867          | -3.097006e-06        | 8.398178e-01         | -1.285872e-01        | -2.364006e-01        |  1.1847481353        | -4.294277e-01        |  6.982130e-02        | 0.008539859          |\n",
       "| 60 |    0                 |    0                 |    0.0               | 4968.0               | 2008                 | 27.3                 | GD Harpur            | 39                   | Doctor of Philosophy | Female               | ...                  | -0.20165553          |  0.23822926          | -9.409784e-10        | 2.107395e-10         | -2.179561e-10        | -2.545443e-07        |  0.0000189473        |  4.961343e-07        | -3.187613e-07        | 0.008539859          |\n",
       "| 65 |    0                 |    0                 | 3350.4               | 3350.4               | 2008                 | 22.0                 | GD Harpur            | 33                   | Doctor of Philosophy | Female               | ...                  | -0.20165553          | -0.35097807          |  2.540087e-06        | 2.107395e-10         |  1.054037e-01        |  1.937792e-01        |  0.0000189473        |  4.961343e-07        | -3.187613e-07        | 0.008539859          |\n",
       "| 75 |    0                 |    0                 |    0.0               | 4968.0               | 2008                 | 25.3                 | GD Grad School       | 37                   | Doctor of Philosophy | Male                 | ...                  | -0.20165553          |  0.27803038          |  8.055970e-07        | 2.107395e-10         |  3.340649e-02        |  6.141618e-02        |  0.0000189473        |  4.961343e-07        | -3.187613e-07        | 0.008539859          |\n",
       "| 79 |    0                 |    0                 | 4968.0               | 4968.0               | 2008                 | 26.0                 | GD Harpur            | 37                   | Doctor of Philosophy | Male                 | ...                  | -0.20165553          | -0.04586592          | -4.831497e-06        | 2.107395e-10         | -2.005844e-01        | -3.687636e-01        |  0.0000189473        |  4.961343e-07        | -3.187613e-07        | 0.008539859          |\n",
       "| 86 |    0                 |    0                 | 4968.0               | 4968.0               | 2009                 | 25.0                 | GD Grad School       | 35                   | Doctor of Philosophy | Male                 | ...                  |  0.01047784          |  1.89216838          |  2.973710e-06        | 2.107395e-10         |  1.234030e-01        |  2.268700e-01        |  0.0000189473        |  4.961343e-07        | -3.187613e-07        | 0.008539859          |\n",
       "| 89 |    0                 |    0                 | 4185.0               | 3141.0               | 2008                 | 22.0                 | GD Harpur            | 33                   | Doctor of Philosophy | Female               | ...                  | -0.20165553          |  0.37082573          |  9.044426e-06        | 2.107395e-10         |  3.753931e-01        |  6.901405e-01        |  0.0000189473        |  4.961343e-07        | -3.187613e-07        | 0.008539859          |\n",
       "| 90 |    0                 |    0                 | 4185.0               | 3141.0               | 2008                 | 26.0                 | GD Harpur            | 37                   | Doctor of Philosophy | Male                 | ...                  | -0.20165553          | -0.41395280          | -9.409784e-10        | 2.107395e-10         | -2.179561e-10        | -2.545443e-07        |  0.0000189473        |  4.961343e-07        | -3.187613e-07        | 0.008539859          |\n",
       "| 92 |    0                 |    0                 | 4185.0               | 3141.0               | 2008                 | 22.0                 | GD Harpur            | 33                   | Doctor of Philosophy | Female               | ...                  | -0.20165553          |  0.47089214          |  9.911671e-06        | 2.107395e-10         |  4.113917e-01        |  7.563220e-01        |  0.0000189473        |  4.961343e-07        | -3.187613e-07        | 0.008539859          |\n",
       "| 93 | 3141                 |  349                 |  370.0               |  370.0               | 2008                 | 23.0                 | GD Harpur            | 34                   | Doctor of Philosophy | Male                 | ...                  | -0.20165553          | -0.28025029          | -9.409784e-10        | 2.107395e-10         | -2.179561e-10        | -2.545443e-07        |  0.0000189473        |  4.961343e-07        | -3.187613e-07        | 0.008539859          |\n",
       "| 96 |    0                 | 3141                 | 3141.0               |  349.0               | 2009                 | 47.0                 | GD Grad School       | 57                   | Doctor of Philosophy | Female               | ...                  |  0.01047784          |  0.16191205          |  2.161948e-05        | 2.107395e-10         |  8.973727e-01        |  1.649772e+00        |  0.0000189473        |  4.961343e-07        | -3.187613e-07        | 0.008539859          |\n",
       "| 100 |    0                 |    0                 | 4968.0               | 4968.0               | 2008                 | 27.0                 | GD Harpur            | 38                   | Doctor of Philosophy | Male                 | ...                  | -0.20165553          | -0.23606292          | -9.409784e-10        | 2.107395e-10         | -2.179561e-10        | -2.545443e-07        |  0.0000189473        |  4.961343e-07        | -3.187613e-07        | 0.008539859          |\n",
       "| 101 |    0                 |    0                 | 4185.0               | 4185.0               | 2008                 | 27.0                 | GD Harpur            | 38                   | Doctor of Philosophy | Male                 | ...                  | -0.20165553          |  0.21958996          |  1.077892e-05        | 2.107395e-10         |  4.473903e-01        |  8.225035e-01        |  0.0000189473        |  4.961343e-07        | -3.187613e-07        | 0.008539859          |\n",
       "| 103 |    0                 |    0                 | 4185.0               | 3141.0               | 2008                 | 23.0                 | GD Harpur            | 34                   | Doctor of Philosophy | Female               | ...                  | -0.20165553          |  0.39605530          |  1.554876e-05        | 2.107395e-10         |  6.453826e-01        |  1.186502e+00        |  0.0000189473        |  4.961343e-07        | -3.187613e-07        | 0.008539859          |\n",
       "| 111 |    0                 |    0                 | 3141.0               | 3141.0               | 2008                 | 24.0                 | GD Harpur            | 35                   | Doctor of Philosophy | Male                 | ...                  | -0.20165553          |  0.12166590          |  2.118586e-05        | 2.107395e-10         |  8.793734e-01        |  1.616682e+00        |  0.0000189473        |  4.961343e-07        | -3.187613e-07        | 0.008539859          |\n",
       "| 113 |    0                 |    0                 | 6625.0               | 4968.0               | 2008                 | 22.0                 | GD Harpur            | 33                   | Doctor of Philosophy | Female               | ...                  | -0.20165553          | -0.25002612          | -9.409784e-10        | 2.107395e-10         | -2.179561e-10        | -2.545443e-07        |  0.0000189473        |  4.961343e-07        | -3.187613e-07        | 0.008539859          |\n",
       "| 118 |    0                 |    0                 | 4185.0               | 3141.0               | 2008                 | 23.0                 | GD Harpur            | 34                   | Doctor of Philosophy | Female               | ...                  | -0.20165553          | -0.26200793          |  1.164616e-05        | 2.107395e-10         |  4.833889e-01        |  8.886850e-01        |  0.0000189473        |  4.961343e-07        | -3.187613e-07        | 0.008539859          |\n",
       "| 119 |    0                 |    0                 | 4185.0               | 4185.0               | 2008                 | 24.0                 | GD Harpur            | 35                   | Doctor of Philosophy | Female               | ...                  | -0.20165553          | -0.47498955          |  1.684963e-05        | 2.107395e-10         |  6.993805e-01        |  1.285774e+00        |  0.0000189473        |  4.961343e-07        | -3.187613e-07        | 0.008539859          |\n",
       "| 120 |    0                 |    0                 | 4185.0               | 4185.0               | 2008                 | 22.0                 | GD Harpur            | 33                   | Doctor of Philosophy | Male                 | ...                  | -0.20165553          |  0.29460460          | -9.409784e-10        | 2.107395e-10         | -2.179561e-10        | -2.545443e-07        |  0.0000189473        |  4.961343e-07        | -3.187613e-07        | 0.008539859          |\n",
       "| 121 |    0                 |    0                 | 4968.0               |  552.0               | 2009                 | 28.0                 | GD Grad School       | 38                   | Doctor of Philosophy | Female               | ...                  |  0.01047784          |  1.77439832          |  1.077892e-05        | 2.107395e-10         |  4.473903e-01        |  8.225035e-01        |  0.0000189473        |  4.961343e-07        | -3.187613e-07        | 0.008539859          |\n",
       "| ... | ... | ... | ... | ... | ... | ... | ... | ... | ... | ... |     | ... | ... | ... | ... | ... | ... | ... | ... | ... | ... |\n",
       "| 1890 | 4935                       | 4935                       |    0.0                     |    0.0                     | 2012                       | 23.0                       | GD Nursing                 | 30                         | Doctor of Philosophy       | Female                     | ...                        | 0.64687796                 | -0.45295818                |  4.491389e-06              | 2.107395e-10               |  1.864005e-01              |  3.426876e-01              | 1.89473e-05                | 4.961343e-07               | -3.187613e-07              | 0.008539859                |\n",
       "| 1908 |    0                       |    0                       |    0.0                     |  432.0                     | 2011                       | 38.0                       | GD Nursing                 | 46                         | Doctor of Philosophy       | Female                     | ...                        | 0.43474459                 | -0.56331852                | -7.290137e-06              | 2.107395e-10               | -3.025804e-01              | -5.562889e-01              | 1.89473e-05                | 4.961343e-07               | -3.187613e-07              | 0.008539859                |\n",
       "| 1910 |    0                       |    0                       |    0.0                     |    0.0                     | 2010                       | 39.0                       | GD Nursing                 | 48                         | Doctor of Nursing Practice | Female                     | ...                        | 0.22261122                 |  0.80625228                |  1.923456e-05              | 2.107395e-10               |  7.983766e-01              |  1.467773e+00              | 1.89473e-05                | 4.961343e-07               | -3.187613e-07              | 0.008539859                |\n",
       "| 1916 | 4185                       | 3839                       | 2092.5                     | 2092.5                     | 2009                       | 52.0                       | GD Nursing                 | 62                         | Doctor of Philosophy       | Female                     | ...                        | 0.01047784                 |  0.43109618                |  6.876313e-06              | 2.107395e-10               |  2.853966e-01              |  5.246867e-01              | 1.89473e-05                | 4.961343e-07               | -3.187613e-07              | 0.008539859                |\n",
       "| 1921 |    0                       |    0                       |    0.0                     |    0.0                     | 2010                       | 46.0                       | GD Nursing                 | 55                         | Doctor of Nursing Practice | Female                     | ...                        | 0.22261122                 |  0.81008895                | -3.097006e-06              | 2.107395e-10               | -1.285872e-01              | -2.364006e-01              | 1.89473e-05                | 4.961343e-07               | -3.187613e-07              | 0.008539859                |\n",
       "| 1924 |    0                       |    0                       |    0.0                     |    0.0                     | 2011                       | 43.0                       | GD Nursing                 | 51                         | Doctor of Nursing Practice | Female                     | ...                        | 0.43474459                 |  0.33587580                | -4.254778e-06              | 2.107395e-10               | -1.765853e-01              | -3.246536e-01              | 1.89473e-05                | 4.961343e-07               | -3.187613e-07              | 0.008539859                |\n",
       "| 1932 | 5185                       | 5185                       |    0.0                     |    0.0                     | 2014                       | 23.0                       | GD Nursing                 | 28                         | Doctor of Philosophy       | Female                     | ...                        | 1.07114471                 | -0.62555152                |  2.096905e-05              | 2.107395e-10               |  8.703738e-01              |  1.600136e+00              | 1.89473e-05                | 4.961343e-07               | -3.187613e-07              | 0.008539859                |\n",
       "| 1981 | 4077                       | 4077                       |    0.0                     |    0.0                     | 2016                       | 26.0                       | GD Nursing                 | 29                         | Doctor of Nursing Practice | Female                     | ...                        | 1.49541146                 | -0.32241641                | -7.866855e-06              | 2.107395e-10               | -3.265794e-01              | -6.003989e-01              | 1.89473e-05                | 4.961343e-07               | -3.187613e-07              | 0.008539859                |\n",
       "| 2005 |    0                       |    0                       |    0.0                     |    0.0                     | 2010                       | 48.3                       | GD Nursing                 | 58                         | Doctor of Philosophy       | Female                     | ...                        | 0.22261122                 | -0.63947555                | -9.409784e-10              | 2.107395e-10               | -2.179561e-10              | -2.545443e-07              | 1.89473e-05                | 4.961343e-07               | -3.187613e-07              | 0.008539859                |\n",
       "| 2028 |    0                       |    0                       |    0.0                     |    0.0                     | 2012                       | 32.0                       | GD Nursing                 | 39                         | Doctor of Nursing Practice | Female                     | ...                        | 0.64687796                 | -0.73602830                | -1.046859e-05              | 2.107395e-10               | -4.345752e-01              | -7.989434e-01              | 1.89473e-05                | 4.961343e-07               | -3.187613e-07              | 0.008539859                |\n",
       "| 2081 |    0                       |    0                       |    0.0                     |    0.0                     | 2010                       | 51.0                       | GD Nursing                 | 60                         | Doctor of Nursing Practice | Female                     | ...                        | 0.22261122                 | -0.55516078                | -9.409784e-10              | 2.107395e-10               | -2.179561e-10              | -2.545443e-07              | 1.89473e-05                | 4.961343e-07               | -3.187613e-07              | 0.008539859                |\n",
       "| 2082 |    0                       |    0                       |    0.0                     |    0.0                     | 2010                       | 63.0                       | GD Nursing                 | 72                         | Doctor of Nursing Practice | Female                     | ...                        | 0.22261122                 |  0.98301733                | -9.409784e-10              | 2.107395e-10               | -2.179561e-10              | -2.545443e-07              | 1.89473e-05                | 4.961343e-07               | -3.187613e-07              | 0.008539859                |\n",
       "| 2087 | 4935                       | 4935                       | 5185.0                     | 4752.0                     | 2013                       | 25.0                       | GD Nursing                 | 31                         | Doctor of Philosophy       | Male                       | ...                        | 0.85901134                 | -0.64575304                | -1.220308e-05              | 2.107395e-10               | -5.065724e-01              | -9.313064e-01              | 1.89473e-05                | 4.961343e-07               | -3.187613e-07              | 0.008539859                |\n",
       "| 2110 |    0                       |    0                       |    0.0                     |    0.0                     | 2013                       | 40.0                       | GD Nursing                 | 46                         | Doctor of Philosophy       | Female                     | ...                        | 0.85901134                 |  0.59045047                |  1.551632e-07              | 2.107395e-10               |  6.407545e-03              |  1.178005e-02              | 1.89473e-05                | 4.961343e-07               | -3.187613e-07              | 0.008539859                |\n",
       "| 2127 |    0                       |    0                       |    0.0                     |    0.0                     | 2012                       | 23.0                       | GD Nursing                 | 30                         | Doctor of Nursing Practice | Female                     | ...                        | 0.64687796                 | -0.81748455                |  1.672842e-06              | 2.107395e-10               |  6.940508e-02              |  1.275977e-01              | 1.89473e-05                | 4.961343e-07               | -3.187613e-07              | 0.008539859                |\n",
       "| 2146 |    0                       |    0                       |    0.0                     |    0.0                     | 2011                       | 44.0                       | GD Nursing                 | 52                         | Doctor of Nursing Practice | Female                     | ...                        | 0.43474459                 | -0.39723457                |  1.923456e-05              | 2.107395e-10               |  7.983766e-01              |  1.467773e+00              | 1.89473e-05                | 4.961343e-07               | -3.187613e-07              | 0.008539859                |\n",
       "| 2150 | 5000                       | 5000                       |    0.0                     |    0.0                     | 2014                       | 29.0                       | GD Nursing                 | 34                         | Doctor of Nursing Practice | Female                     | ...                        | 1.07114471                 | -0.02420671                | -8.734100e-06              | 2.107395e-10               | -3.625780e-01              | -6.665804e-01              | 1.89473e-05                | 4.961343e-07               | -3.187613e-07              | 0.008539859                |\n",
       "| 2153 |    0                       |    0                       |    0.0                     |    0.0                     | 2012                       | 60.0                       | GD Nursing                 | 67                         | Doctor of Nursing Practice | Female                     | ...                        | 0.64687796                 |  0.08916026                | -1.827380e-05              | 2.107395e-10               | -7.585626e-01              | -1.394577e+00              | 1.89473e-05                | 4.961343e-07               | -3.187613e-07              | 0.008539859                |\n",
       "| 2165 | 8712                       |    0                       |    0.0                     |    0.0                     | 2013                       | 46.0                       | GD Nursing                 | 52                         | Doctor of Nursing Practice | Male                       | ...                        | 0.85901134                 | -0.68094180                | -2.998161e-05              | 2.107395e-10               | -1.244544e+00              | -2.288027e+00              | 1.89473e-05                | 4.961343e-07               | -3.187613e-07              | 0.008539859                |\n",
       "| 2223 |    0                       |    0                       |    0.0                     |    0.0                     | 2012                       | 56.0                       | GD Nursing                 | 63                         | Doctor of Nursing Practice | Female                     | ...                        | 0.64687796                 |  1.12727466                |  4.491389e-06              | 2.107395e-10               |  1.864005e-01              |  3.426876e-01              | 1.89473e-05                | 4.961343e-07               | -3.187613e-07              | 0.008539859                |\n",
       "| 2233 |    0                       |    0                       |    0.0                     |    0.0                     | 2015                       | 40.0                       | GD Nursing                 | 44                         | Doctor of Nursing Practice | Male                       | ...                        | 1.28327808                 | -0.62018396                | -1.881582e-05              | 2.107395e-10               | -7.810617e-01              | -1.435940e+00              | 1.89473e-05                | 4.961343e-07               | -3.187613e-07              | 0.008539859                |\n",
       "| 2276 | 5185                       | 4320                       | 3171.0                     | 3171.0                     | 2013                       | 33.0                       | GD Nursing                 | 39                         | Doctor of Philosophy       | Female                     | ...                        | 0.85901134                 | -0.72599764                | -1.675612e-05              | 2.107395e-10               | -6.955650e-01              | -1.278759e+00              | 1.89473e-05                | 4.961343e-07               | -3.187613e-07              | 0.008539859                |\n",
       "| 2322 |    0                       | 8325                       | 8325.0                     |    0.0                     | 2014                       | 27.0                       | GD Nursing                 | 32                         | Doctor of Philosophy       | Female                     | ...                        | 1.07114471                 |  0.11794552                |  4.708200e-06              | 2.107395e-10               |  1.954002e-01              |  3.592330e-01              | 1.89473e-05                | 4.961343e-07               | -3.187613e-07              | 0.008539859                |\n",
       "| 2323 | 5435                       | 5545                       | 4158.0                     |    0.0                     | 2017                       | 34.3                       | GD Nursing                 | 37                         | Doctor of Philosophy       | Female                     | ...                        | 1.70754483                 | -0.20291425                | -1.935785e-05              | 2.107395e-10               | -8.035608e-01              | -1.477304e+00              | 1.89473e-05                | 4.961343e-07               | -3.187613e-07              | 0.008539859                |\n",
       "| 2325 |    0                       | 1296                       |    0.0                     |    0.0                     | 2014                       | 31.0                       | GD Nursing                 | 36                         | Doctor of Philosophy       | Female                     | ...                        | 1.07114471                 | -0.64164044                | -3.877527e-06              | 2.107395e-10               | -1.609859e-01              | -2.959640e-01              | 1.89473e-05                | 4.961343e-07               | -3.187613e-07              | 0.008539859                |\n",
       "| 2389 |    0                       |    0                       |    0.0                     |    0.0                     | 2017                       | 53.3                       | GD Nursing                 | 56                         | Doctor of Philosophy       | Female                     | ...                        | 1.70754483                 | -0.41206579                | -2.261002e-05              | 2.107395e-10               | -9.385555e-01              | -1.725485e+00              | 1.89473e-05                | 4.961343e-07               | -3.187613e-07              | 0.008539859                |\n",
       "| 2427 |    0                       |    0                       |    0.0                     |    0.0                     | 2016                       | 47.0                       | GD Nursing                 | 50                         | Doctor of Philosophy       | Female                     | ...                        | 1.49541146                 | -0.24664064                | -4.111270e-05              | 2.107395e-10               | -1.706526e+00              | -3.137368e+00              | 1.89473e-05                | 4.961343e-07               | -3.187613e-07              | 0.008539859                |\n",
       "| 2455 |    0                       |    0                       |    0.0                     |    0.0                     | 2018                       | 29.3                       | GD Nursing                 | 31                         | Doctor of Philosophy       | Male                       | ...                        | 1.91967820                 |  1.04792282                | -3.530629e-06              | 2.107395e-10               | -1.465865e-01              | -2.694914e-01              | 1.89473e-05                | 4.961343e-07               | -3.187613e-07              | 0.008539859                |\n",
       "| 2456 |    0                       |    0                       |    0.0                     |    0.0                     | 2018                       | 27.3                       | GD Nursing                 | 29                         | Doctor of Philosophy       | Male                       | ...                        | 1.91967820                 |  0.63172772                | -4.952707e-07              | 2.107395e-10               | -2.059140e-02              | -3.785608e-02              | 1.89473e-05                | 4.961343e-07               | -3.187613e-07              | 0.008539859                |\n",
       "| 2468 |    0                       |    0                       |    0.0                     |    0.0                     | 2018                       | 26.0                       | GD Nursing                 | 27                         | Doctor of Philosophy       | Female                     | ...                        | 1.91967820                 |  2.12085645                |  1.193669e-05              | 2.107395e-10               |  4.953884e-01              |  9.107566e-01              | 1.89473e-05                | 4.961343e-07               | -3.187613e-07              | 0.008539859                |\n",
       "\n"
      ],
      "text/plain": [
       "     X1st_Term_Funding X2nd_Term_Funding X3rd_Term_Funding X4th_Term_Funding\n",
       "25   4685              4935              4110.0             432.0           \n",
       "27   4685              4685              3699.0            3699.0           \n",
       "28   4685              4685              3699.0            3699.0           \n",
       "35   3699              3699               432.0             432.0           \n",
       "36   8325              8325               925.0             925.0           \n",
       "38      0                 0              3141.0            3141.0           \n",
       "47      0                 0              3141.0            3141.0           \n",
       "50      0                 0              4968.0            4968.0           \n",
       "53   4968              6072              5166.0            5683.2           \n",
       "56      0                 0                 0.0            4968.0           \n",
       "59   4185              4185              3141.0            3330.0           \n",
       "60      0                 0                 0.0            4968.0           \n",
       "65      0                 0              3350.4            3350.4           \n",
       "75      0                 0                 0.0            4968.0           \n",
       "79      0                 0              4968.0            4968.0           \n",
       "86      0                 0              4968.0            4968.0           \n",
       "89      0                 0              4185.0            3141.0           \n",
       "90      0                 0              4185.0            3141.0           \n",
       "92      0                 0              4185.0            3141.0           \n",
       "93   3141               349               370.0             370.0           \n",
       "96      0              3141              3141.0             349.0           \n",
       "100     0                 0              4968.0            4968.0           \n",
       "101     0                 0              4185.0            4185.0           \n",
       "103     0                 0              4185.0            3141.0           \n",
       "111     0                 0              3141.0            3141.0           \n",
       "113     0                 0              6625.0            4968.0           \n",
       "118     0                 0              4185.0            3141.0           \n",
       "119     0                 0              4185.0            4185.0           \n",
       "120     0                 0              4185.0            4185.0           \n",
       "121     0                 0              4968.0             552.0           \n",
       "...  ...               ...               ...               ...              \n",
       "1890 4935              4935                 0.0               0.0           \n",
       "1908    0                 0                 0.0             432.0           \n",
       "1910    0                 0                 0.0               0.0           \n",
       "1916 4185              3839              2092.5            2092.5           \n",
       "1921    0                 0                 0.0               0.0           \n",
       "1924    0                 0                 0.0               0.0           \n",
       "1932 5185              5185                 0.0               0.0           \n",
       "1981 4077              4077                 0.0               0.0           \n",
       "2005    0                 0                 0.0               0.0           \n",
       "2028    0                 0                 0.0               0.0           \n",
       "2081    0                 0                 0.0               0.0           \n",
       "2082    0                 0                 0.0               0.0           \n",
       "2087 4935              4935              5185.0            4752.0           \n",
       "2110    0                 0                 0.0               0.0           \n",
       "2127    0                 0                 0.0               0.0           \n",
       "2146    0                 0                 0.0               0.0           \n",
       "2150 5000              5000                 0.0               0.0           \n",
       "2153    0                 0                 0.0               0.0           \n",
       "2165 8712                 0                 0.0               0.0           \n",
       "2223    0                 0                 0.0               0.0           \n",
       "2233    0                 0                 0.0               0.0           \n",
       "2276 5185              4320              3171.0            3171.0           \n",
       "2322    0              8325              8325.0               0.0           \n",
       "2323 5435              5545              4158.0               0.0           \n",
       "2325    0              1296                 0.0               0.0           \n",
       "2389    0                 0                 0.0               0.0           \n",
       "2427    0                 0                 0.0               0.0           \n",
       "2455    0                 0                 0.0               0.0           \n",
       "2456    0                 0                 0.0               0.0           \n",
       "2468    0                 0                 0.0               0.0           \n",
       "     Start_year Start_age College        Age Degree                     Gender\n",
       "25   2013       22.3      GD Harpur      29  Doctor of Philosophy       Male  \n",
       "27   2012       22.0      GD Harpur      29  Doctor of Philosophy       Female\n",
       "28   2012       23.0      GD Harpur      30  Doctor of Philosophy       Female\n",
       "35   2013       23.0      GD Harpur      29  Doctor of Philosophy       Male  \n",
       "36   2013       23.0      GD Harpur      29  Doctor of Philosophy       Female\n",
       "38   2008       22.0      GD Harpur      33  Doctor of Philosophy       Female\n",
       "47   2008       33.0      GD Harpur      44  Doctor of Philosophy       Male  \n",
       "50   2008       22.0      GD Harpur      33  Doctor of Philosophy       Female\n",
       "53   2009       24.0      GD Grad School 34  Doctor of Philosophy       Male  \n",
       "56   2008       23.3      GD Harpur      35  Doctor of Philosophy       Female\n",
       "59   2010       28.3      GD Harpur      38  Doctor of Philosophy       Male  \n",
       "60   2008       27.3      GD Harpur      39  Doctor of Philosophy       Female\n",
       "65   2008       22.0      GD Harpur      33  Doctor of Philosophy       Female\n",
       "75   2008       25.3      GD Grad School 37  Doctor of Philosophy       Male  \n",
       "79   2008       26.0      GD Harpur      37  Doctor of Philosophy       Male  \n",
       "86   2009       25.0      GD Grad School 35  Doctor of Philosophy       Male  \n",
       "89   2008       22.0      GD Harpur      33  Doctor of Philosophy       Female\n",
       "90   2008       26.0      GD Harpur      37  Doctor of Philosophy       Male  \n",
       "92   2008       22.0      GD Harpur      33  Doctor of Philosophy       Female\n",
       "93   2008       23.0      GD Harpur      34  Doctor of Philosophy       Male  \n",
       "96   2009       47.0      GD Grad School 57  Doctor of Philosophy       Female\n",
       "100  2008       27.0      GD Harpur      38  Doctor of Philosophy       Male  \n",
       "101  2008       27.0      GD Harpur      38  Doctor of Philosophy       Male  \n",
       "103  2008       23.0      GD Harpur      34  Doctor of Philosophy       Female\n",
       "111  2008       24.0      GD Harpur      35  Doctor of Philosophy       Male  \n",
       "113  2008       22.0      GD Harpur      33  Doctor of Philosophy       Female\n",
       "118  2008       23.0      GD Harpur      34  Doctor of Philosophy       Female\n",
       "119  2008       24.0      GD Harpur      35  Doctor of Philosophy       Female\n",
       "120  2008       22.0      GD Harpur      33  Doctor of Philosophy       Male  \n",
       "121  2009       28.0      GD Grad School 38  Doctor of Philosophy       Female\n",
       "...  ...        ...       ...            ... ...                        ...   \n",
       "1890 2012       23.0      GD Nursing     30  Doctor of Philosophy       Female\n",
       "1908 2011       38.0      GD Nursing     46  Doctor of Philosophy       Female\n",
       "1910 2010       39.0      GD Nursing     48  Doctor of Nursing Practice Female\n",
       "1916 2009       52.0      GD Nursing     62  Doctor of Philosophy       Female\n",
       "1921 2010       46.0      GD Nursing     55  Doctor of Nursing Practice Female\n",
       "1924 2011       43.0      GD Nursing     51  Doctor of Nursing Practice Female\n",
       "1932 2014       23.0      GD Nursing     28  Doctor of Philosophy       Female\n",
       "1981 2016       26.0      GD Nursing     29  Doctor of Nursing Practice Female\n",
       "2005 2010       48.3      GD Nursing     58  Doctor of Philosophy       Female\n",
       "2028 2012       32.0      GD Nursing     39  Doctor of Nursing Practice Female\n",
       "2081 2010       51.0      GD Nursing     60  Doctor of Nursing Practice Female\n",
       "2082 2010       63.0      GD Nursing     72  Doctor of Nursing Practice Female\n",
       "2087 2013       25.0      GD Nursing     31  Doctor of Philosophy       Male  \n",
       "2110 2013       40.0      GD Nursing     46  Doctor of Philosophy       Female\n",
       "2127 2012       23.0      GD Nursing     30  Doctor of Nursing Practice Female\n",
       "2146 2011       44.0      GD Nursing     52  Doctor of Nursing Practice Female\n",
       "2150 2014       29.0      GD Nursing     34  Doctor of Nursing Practice Female\n",
       "2153 2012       60.0      GD Nursing     67  Doctor of Nursing Practice Female\n",
       "2165 2013       46.0      GD Nursing     52  Doctor of Nursing Practice Male  \n",
       "2223 2012       56.0      GD Nursing     63  Doctor of Nursing Practice Female\n",
       "2233 2015       40.0      GD Nursing     44  Doctor of Nursing Practice Male  \n",
       "2276 2013       33.0      GD Nursing     39  Doctor of Philosophy       Female\n",
       "2322 2014       27.0      GD Nursing     32  Doctor of Philosophy       Female\n",
       "2323 2017       34.3      GD Nursing     37  Doctor of Philosophy       Female\n",
       "2325 2014       31.0      GD Nursing     36  Doctor of Philosophy       Female\n",
       "2389 2017       53.3      GD Nursing     56  Doctor of Philosophy       Female\n",
       "2427 2016       47.0      GD Nursing     50  Doctor of Philosophy       Female\n",
       "2455 2018       29.3      GD Nursing     31  Doctor of Philosophy       Male  \n",
       "2456 2018       27.3      GD Nursing     29  Doctor of Philosophy       Male  \n",
       "2468 2018       26.0      GD Nursing     27  Doctor of Philosophy       Female\n",
       "     ... s_start_year avs_net_cost s_SAPC1       s_SAPC2      s_SAPC3      \n",
       "25   ...  0.85901134  -0.65494776  -1.125434e-01 2.107395e-10 -3.004692e-01\n",
       "27   ...  0.64687796  -0.68741906   4.148709e-01 2.107395e-10  6.817704e-01\n",
       "28   ...  0.64687796  -0.68693362  -4.260311e-01 2.107395e-10  4.663449e+00\n",
       "35   ...  0.85901134   3.58982146  -2.066100e-01 2.107395e-10  1.417915e-01\n",
       "36   ...  0.85901134  -0.65240349   1.034529e-05 3.289252e+00  4.293910e-01\n",
       "38   ... -0.20165553  -0.24715426  -9.409784e-10 2.107395e-10 -2.179561e-10\n",
       "47   ... -0.20165553  -0.38651183  -9.409784e-10 2.107395e-10 -2.179561e-10\n",
       "50   ... -0.20165553  -0.18483851  -9.409784e-10 2.107395e-10 -2.179561e-10\n",
       "53   ...  0.01047784  -0.05227148   8.055970e-07 2.107395e-10  3.340649e-02\n",
       "56   ... -0.20165553  -0.07151431  -9.409784e-10 2.107395e-10 -2.179561e-10\n",
       "59   ...  0.22261122  -0.67832867  -3.097006e-06 8.398178e-01 -1.285872e-01\n",
       "60   ... -0.20165553   0.23822926  -9.409784e-10 2.107395e-10 -2.179561e-10\n",
       "65   ... -0.20165553  -0.35097807   2.540087e-06 2.107395e-10  1.054037e-01\n",
       "75   ... -0.20165553   0.27803038   8.055970e-07 2.107395e-10  3.340649e-02\n",
       "79   ... -0.20165553  -0.04586592  -4.831497e-06 2.107395e-10 -2.005844e-01\n",
       "86   ...  0.01047784   1.89216838   2.973710e-06 2.107395e-10  1.234030e-01\n",
       "89   ... -0.20165553   0.37082573   9.044426e-06 2.107395e-10  3.753931e-01\n",
       "90   ... -0.20165553  -0.41395280  -9.409784e-10 2.107395e-10 -2.179561e-10\n",
       "92   ... -0.20165553   0.47089214   9.911671e-06 2.107395e-10  4.113917e-01\n",
       "93   ... -0.20165553  -0.28025029  -9.409784e-10 2.107395e-10 -2.179561e-10\n",
       "96   ...  0.01047784   0.16191205   2.161948e-05 2.107395e-10  8.973727e-01\n",
       "100  ... -0.20165553  -0.23606292  -9.409784e-10 2.107395e-10 -2.179561e-10\n",
       "101  ... -0.20165553   0.21958996   1.077892e-05 2.107395e-10  4.473903e-01\n",
       "103  ... -0.20165553   0.39605530   1.554876e-05 2.107395e-10  6.453826e-01\n",
       "111  ... -0.20165553   0.12166590   2.118586e-05 2.107395e-10  8.793734e-01\n",
       "113  ... -0.20165553  -0.25002612  -9.409784e-10 2.107395e-10 -2.179561e-10\n",
       "118  ... -0.20165553  -0.26200793   1.164616e-05 2.107395e-10  4.833889e-01\n",
       "119  ... -0.20165553  -0.47498955   1.684963e-05 2.107395e-10  6.993805e-01\n",
       "120  ... -0.20165553   0.29460460  -9.409784e-10 2.107395e-10 -2.179561e-10\n",
       "121  ...  0.01047784   1.77439832   1.077892e-05 2.107395e-10  4.473903e-01\n",
       "...      ...          ...          ...           ...          ...          \n",
       "1890 ... 0.64687796   -0.45295818   4.491389e-06 2.107395e-10  1.864005e-01\n",
       "1908 ... 0.43474459   -0.56331852  -7.290137e-06 2.107395e-10 -3.025804e-01\n",
       "1910 ... 0.22261122    0.80625228   1.923456e-05 2.107395e-10  7.983766e-01\n",
       "1916 ... 0.01047784    0.43109618   6.876313e-06 2.107395e-10  2.853966e-01\n",
       "1921 ... 0.22261122    0.81008895  -3.097006e-06 2.107395e-10 -1.285872e-01\n",
       "1924 ... 0.43474459    0.33587580  -4.254778e-06 2.107395e-10 -1.765853e-01\n",
       "1932 ... 1.07114471   -0.62555152   2.096905e-05 2.107395e-10  8.703738e-01\n",
       "1981 ... 1.49541146   -0.32241641  -7.866855e-06 2.107395e-10 -3.265794e-01\n",
       "2005 ... 0.22261122   -0.63947555  -9.409784e-10 2.107395e-10 -2.179561e-10\n",
       "2028 ... 0.64687796   -0.73602830  -1.046859e-05 2.107395e-10 -4.345752e-01\n",
       "2081 ... 0.22261122   -0.55516078  -9.409784e-10 2.107395e-10 -2.179561e-10\n",
       "2082 ... 0.22261122    0.98301733  -9.409784e-10 2.107395e-10 -2.179561e-10\n",
       "2087 ... 0.85901134   -0.64575304  -1.220308e-05 2.107395e-10 -5.065724e-01\n",
       "2110 ... 0.85901134    0.59045047   1.551632e-07 2.107395e-10  6.407545e-03\n",
       "2127 ... 0.64687796   -0.81748455   1.672842e-06 2.107395e-10  6.940508e-02\n",
       "2146 ... 0.43474459   -0.39723457   1.923456e-05 2.107395e-10  7.983766e-01\n",
       "2150 ... 1.07114471   -0.02420671  -8.734100e-06 2.107395e-10 -3.625780e-01\n",
       "2153 ... 0.64687796    0.08916026  -1.827380e-05 2.107395e-10 -7.585626e-01\n",
       "2165 ... 0.85901134   -0.68094180  -2.998161e-05 2.107395e-10 -1.244544e+00\n",
       "2223 ... 0.64687796    1.12727466   4.491389e-06 2.107395e-10  1.864005e-01\n",
       "2233 ... 1.28327808   -0.62018396  -1.881582e-05 2.107395e-10 -7.810617e-01\n",
       "2276 ... 0.85901134   -0.72599764  -1.675612e-05 2.107395e-10 -6.955650e-01\n",
       "2322 ... 1.07114471    0.11794552   4.708200e-06 2.107395e-10  1.954002e-01\n",
       "2323 ... 1.70754483   -0.20291425  -1.935785e-05 2.107395e-10 -8.035608e-01\n",
       "2325 ... 1.07114471   -0.64164044  -3.877527e-06 2.107395e-10 -1.609859e-01\n",
       "2389 ... 1.70754483   -0.41206579  -2.261002e-05 2.107395e-10 -9.385555e-01\n",
       "2427 ... 1.49541146   -0.24664064  -4.111270e-05 2.107395e-10 -1.706526e+00\n",
       "2455 ... 1.91967820    1.04792282  -3.530629e-06 2.107395e-10 -1.465865e-01\n",
       "2456 ... 1.91967820    0.63172772  -4.952707e-07 2.107395e-10 -2.059140e-02\n",
       "2468 ... 1.91967820    2.12085645   1.193669e-05 2.107395e-10  4.953884e-01\n",
       "     s_Average.Precol.GPA s_GRE.Combined.General.Write.Score\n",
       "25    9.450694e-02        -0.5485791332                     \n",
       "27    2.832543e-02         0.3180845011                     \n",
       "28    1.732499e+00         2.9180754037                     \n",
       "35   -9.643972e-01         0.3180845011                     \n",
       "36    7.894128e-01        -1.4152427674                     \n",
       "38   -2.545443e-07         0.0000189473                     \n",
       "47   -2.545443e-07         0.0000189473                     \n",
       "50   -2.545443e-07         0.0000189473                     \n",
       "53    6.141618e-02         0.0000189473                     \n",
       "56   -2.545443e-07         0.0000189473                     \n",
       "59   -2.364006e-01         1.1847481353                     \n",
       "60   -2.545443e-07         0.0000189473                     \n",
       "65    1.937792e-01         0.0000189473                     \n",
       "75    6.141618e-02         0.0000189473                     \n",
       "79   -3.687636e-01         0.0000189473                     \n",
       "86    2.268700e-01         0.0000189473                     \n",
       "89    6.901405e-01         0.0000189473                     \n",
       "90   -2.545443e-07         0.0000189473                     \n",
       "92    7.563220e-01         0.0000189473                     \n",
       "93   -2.545443e-07         0.0000189473                     \n",
       "96    1.649772e+00         0.0000189473                     \n",
       "100  -2.545443e-07         0.0000189473                     \n",
       "101   8.225035e-01         0.0000189473                     \n",
       "103   1.186502e+00         0.0000189473                     \n",
       "111   1.616682e+00         0.0000189473                     \n",
       "113  -2.545443e-07         0.0000189473                     \n",
       "118   8.886850e-01         0.0000189473                     \n",
       "119   1.285774e+00         0.0000189473                     \n",
       "120  -2.545443e-07         0.0000189473                     \n",
       "121   8.225035e-01         0.0000189473                     \n",
       "...  ...                  ...                               \n",
       "1890  3.426876e-01        1.89473e-05                       \n",
       "1908 -5.562889e-01        1.89473e-05                       \n",
       "1910  1.467773e+00        1.89473e-05                       \n",
       "1916  5.246867e-01        1.89473e-05                       \n",
       "1921 -2.364006e-01        1.89473e-05                       \n",
       "1924 -3.246536e-01        1.89473e-05                       \n",
       "1932  1.600136e+00        1.89473e-05                       \n",
       "1981 -6.003989e-01        1.89473e-05                       \n",
       "2005 -2.545443e-07        1.89473e-05                       \n",
       "2028 -7.989434e-01        1.89473e-05                       \n",
       "2081 -2.545443e-07        1.89473e-05                       \n",
       "2082 -2.545443e-07        1.89473e-05                       \n",
       "2087 -9.313064e-01        1.89473e-05                       \n",
       "2110  1.178005e-02        1.89473e-05                       \n",
       "2127  1.275977e-01        1.89473e-05                       \n",
       "2146  1.467773e+00        1.89473e-05                       \n",
       "2150 -6.665804e-01        1.89473e-05                       \n",
       "2153 -1.394577e+00        1.89473e-05                       \n",
       "2165 -2.288027e+00        1.89473e-05                       \n",
       "2223  3.426876e-01        1.89473e-05                       \n",
       "2233 -1.435940e+00        1.89473e-05                       \n",
       "2276 -1.278759e+00        1.89473e-05                       \n",
       "2322  3.592330e-01        1.89473e-05                       \n",
       "2323 -1.477304e+00        1.89473e-05                       \n",
       "2325 -2.959640e-01        1.89473e-05                       \n",
       "2389 -1.725485e+00        1.89473e-05                       \n",
       "2427 -3.137368e+00        1.89473e-05                       \n",
       "2455 -2.694914e-01        1.89473e-05                       \n",
       "2456 -3.785608e-02        1.89473e-05                       \n",
       "2468  9.107566e-01        1.89473e-05                       \n",
       "     s_GRE.Combined.Quantitative.Score s_GRE.Combined.General.Verbal.Score\n",
       "25    8.546803e-02                      3.279657e-01                      \n",
       "27   -1.204902e-01                     -5.110037e-01                      \n",
       "28    8.546803e-02                      9.733268e-01                      \n",
       "35    8.546803e-02                      5.215741e-01                      \n",
       "36    4.458950e-01                      9.733268e-01                      \n",
       "38    4.961343e-07                     -3.187613e-07                      \n",
       "47    4.961343e-07                     -3.187613e-07                      \n",
       "50    4.961343e-07                     -3.187613e-07                      \n",
       "53    4.961343e-07                     -3.187613e-07                      \n",
       "56    4.961343e-07                     -3.187613e-07                      \n",
       "59   -4.294277e-01                      6.982130e-02                      \n",
       "60    4.961343e-07                     -3.187613e-07                      \n",
       "65    4.961343e-07                     -3.187613e-07                      \n",
       "75    4.961343e-07                     -3.187613e-07                      \n",
       "79    4.961343e-07                     -3.187613e-07                      \n",
       "86    4.961343e-07                     -3.187613e-07                      \n",
       "89    4.961343e-07                     -3.187613e-07                      \n",
       "90    4.961343e-07                     -3.187613e-07                      \n",
       "92    4.961343e-07                     -3.187613e-07                      \n",
       "93    4.961343e-07                     -3.187613e-07                      \n",
       "96    4.961343e-07                     -3.187613e-07                      \n",
       "100   4.961343e-07                     -3.187613e-07                      \n",
       "101   4.961343e-07                     -3.187613e-07                      \n",
       "103   4.961343e-07                     -3.187613e-07                      \n",
       "111   4.961343e-07                     -3.187613e-07                      \n",
       "113   4.961343e-07                     -3.187613e-07                      \n",
       "118   4.961343e-07                     -3.187613e-07                      \n",
       "119   4.961343e-07                     -3.187613e-07                      \n",
       "120   4.961343e-07                     -3.187613e-07                      \n",
       "121   4.961343e-07                     -3.187613e-07                      \n",
       "...  ...                               ...                                \n",
       "1890 4.961343e-07                      -3.187613e-07                      \n",
       "1908 4.961343e-07                      -3.187613e-07                      \n",
       "1910 4.961343e-07                      -3.187613e-07                      \n",
       "1916 4.961343e-07                      -3.187613e-07                      \n",
       "1921 4.961343e-07                      -3.187613e-07                      \n",
       "1924 4.961343e-07                      -3.187613e-07                      \n",
       "1932 4.961343e-07                      -3.187613e-07                      \n",
       "1981 4.961343e-07                      -3.187613e-07                      \n",
       "2005 4.961343e-07                      -3.187613e-07                      \n",
       "2028 4.961343e-07                      -3.187613e-07                      \n",
       "2081 4.961343e-07                      -3.187613e-07                      \n",
       "2082 4.961343e-07                      -3.187613e-07                      \n",
       "2087 4.961343e-07                      -3.187613e-07                      \n",
       "2110 4.961343e-07                      -3.187613e-07                      \n",
       "2127 4.961343e-07                      -3.187613e-07                      \n",
       "2146 4.961343e-07                      -3.187613e-07                      \n",
       "2150 4.961343e-07                      -3.187613e-07                      \n",
       "2153 4.961343e-07                      -3.187613e-07                      \n",
       "2165 4.961343e-07                      -3.187613e-07                      \n",
       "2223 4.961343e-07                      -3.187613e-07                      \n",
       "2233 4.961343e-07                      -3.187613e-07                      \n",
       "2276 4.961343e-07                      -3.187613e-07                      \n",
       "2322 4.961343e-07                      -3.187613e-07                      \n",
       "2323 4.961343e-07                      -3.187613e-07                      \n",
       "2325 4.961343e-07                      -3.187613e-07                      \n",
       "2389 4.961343e-07                      -3.187613e-07                      \n",
       "2427 4.961343e-07                      -3.187613e-07                      \n",
       "2455 4.961343e-07                      -3.187613e-07                      \n",
       "2456 4.961343e-07                      -3.187613e-07                      \n",
       "2468 4.961343e-07                      -3.187613e-07                      \n",
       "     s_GMAT.Score\n",
       "25   0.008539859 \n",
       "27   0.008539859 \n",
       "28   0.008539859 \n",
       "35   0.008539859 \n",
       "36   0.008539859 \n",
       "38   0.008539859 \n",
       "47   0.008539859 \n",
       "50   0.008539859 \n",
       "53   0.008539859 \n",
       "56   0.008539859 \n",
       "59   0.008539859 \n",
       "60   0.008539859 \n",
       "65   0.008539859 \n",
       "75   0.008539859 \n",
       "79   0.008539859 \n",
       "86   0.008539859 \n",
       "89   0.008539859 \n",
       "90   0.008539859 \n",
       "92   0.008539859 \n",
       "93   0.008539859 \n",
       "96   0.008539859 \n",
       "100  0.008539859 \n",
       "101  0.008539859 \n",
       "103  0.008539859 \n",
       "111  0.008539859 \n",
       "113  0.008539859 \n",
       "118  0.008539859 \n",
       "119  0.008539859 \n",
       "120  0.008539859 \n",
       "121  0.008539859 \n",
       "...  ...         \n",
       "1890 0.008539859 \n",
       "1908 0.008539859 \n",
       "1910 0.008539859 \n",
       "1916 0.008539859 \n",
       "1921 0.008539859 \n",
       "1924 0.008539859 \n",
       "1932 0.008539859 \n",
       "1981 0.008539859 \n",
       "2005 0.008539859 \n",
       "2028 0.008539859 \n",
       "2081 0.008539859 \n",
       "2082 0.008539859 \n",
       "2087 0.008539859 \n",
       "2110 0.008539859 \n",
       "2127 0.008539859 \n",
       "2146 0.008539859 \n",
       "2150 0.008539859 \n",
       "2153 0.008539859 \n",
       "2165 0.008539859 \n",
       "2223 0.008539859 \n",
       "2233 0.008539859 \n",
       "2276 0.008539859 \n",
       "2322 0.008539859 \n",
       "2323 0.008539859 \n",
       "2325 0.008539859 \n",
       "2389 0.008539859 \n",
       "2427 0.008539859 \n",
       "2455 0.008539859 \n",
       "2456 0.008539859 \n",
       "2468 0.008539859 "
      ]
     },
     "metadata": {},
     "output_type": "display_data"
    }
   ],
   "source": [
    "df1 = rbind(Harpur_sciences, Harpur_arts, Management_df, Watson_df, Nursing_df)\n",
    "df1"
   ]
  },
  {
   "cell_type": "markdown",
   "metadata": {},
   "source": [
    "# Harpur Sciences Analysis"
   ]
  },
  {
   "cell_type": "markdown",
   "metadata": {},
   "source": [
    "Won't use Degree column since it does not accurately show the student's major"
   ]
  },
  {
   "cell_type": "markdown",
   "metadata": {},
   "source": [
    "<b> Logistic regression model:"
   ]
  },
  {
   "cell_type": "code",
   "execution_count": 22,
   "metadata": {},
   "outputs": [
    {
     "data": {
      "text/plain": [
       "\n",
       "Call:\n",
       "glm(formula = Y ~ s_start_age + factor(Gender) + factor(funding_indicator) + \n",
       "    factor(Citizenship) + avs_net_cost + s_Average.Precol.GPA + \n",
       "    s_GRE.Combined.General.Write.Score + s_GRE.Combined.Quantitative.Score + \n",
       "    s_GRE.Combined.General.Verbal.Score + factor(gap_indicator) + \n",
       "    GPA_trend + s_start_year, family = \"binomial\", data = Harpur_sciences)\n",
       "\n",
       "Deviance Residuals: \n",
       "    Min       1Q   Median       3Q      Max  \n",
       "-3.2437  -0.9592   0.5585   0.8648   2.1207  \n",
       "\n",
       "Coefficients:\n",
       "                                                 Estimate Std. Error z value\n",
       "(Intercept)                                     -0.436360   0.260852  -1.673\n",
       "s_start_age                                      0.150515   0.149366   1.008\n",
       "factor(Gender)Male                              -0.004027   0.165234  -0.024\n",
       "factor(funding_indicator)1                       1.295113   0.256252   5.054\n",
       "factor(Citizenship)Africa                        0.978364   0.479821   2.039\n",
       "factor(Citizenship)Asia                          0.261048   0.358038   0.729\n",
       "factor(Citizenship)Asian                        -0.363964   0.426528  -0.853\n",
       "factor(Citizenship)Black or African American     0.300014   0.527378   0.569\n",
       "factor(Citizenship)China                         0.533631   0.251002   2.126\n",
       "factor(Citizenship)Europe                        0.059662   0.438667   0.136\n",
       "factor(Citizenship)Hispanic or Latino           -0.747059   0.401425  -1.861\n",
       "factor(Citizenship)India                         0.513216   0.447194   1.148\n",
       "factor(Citizenship)Other International Students  0.203895   0.528717   0.386\n",
       "factor(Citizenship)Unknown                       0.348733   0.373261   0.934\n",
       "avs_net_cost                                     0.156160   0.106311   1.469\n",
       "s_Average.Precol.GPA                             0.044447   0.080381   0.553\n",
       "s_GRE.Combined.General.Write.Score              -0.021951   0.092843  -0.236\n",
       "s_GRE.Combined.Quantitative.Score               -0.010481   0.181436  -0.058\n",
       "s_GRE.Combined.General.Verbal.Score              0.082964   0.251030   0.330\n",
       "factor(gap_indicator)1                           0.649349   0.350566   1.852\n",
       "GPA_trend                                        1.073696   0.426502   2.517\n",
       "s_start_year                                    -1.341286   0.133406 -10.054\n",
       "                                                Pr(>|z|)    \n",
       "(Intercept)                                       0.0944 .  \n",
       "s_start_age                                       0.3136    \n",
       "factor(Gender)Male                                0.9806    \n",
       "factor(funding_indicator)1                      4.33e-07 ***\n",
       "factor(Citizenship)Africa                         0.0414 *  \n",
       "factor(Citizenship)Asia                           0.4659    \n",
       "factor(Citizenship)Asian                          0.3935    \n",
       "factor(Citizenship)Black or African American      0.5694    \n",
       "factor(Citizenship)China                          0.0335 *  \n",
       "factor(Citizenship)Europe                         0.8918    \n",
       "factor(Citizenship)Hispanic or Latino             0.0627 .  \n",
       "factor(Citizenship)India                          0.2511    \n",
       "factor(Citizenship)Other International Students   0.6998    \n",
       "factor(Citizenship)Unknown                        0.3502    \n",
       "avs_net_cost                                      0.1419    \n",
       "s_Average.Precol.GPA                              0.5803    \n",
       "s_GRE.Combined.General.Write.Score                0.8131    \n",
       "s_GRE.Combined.Quantitative.Score                 0.9539    \n",
       "s_GRE.Combined.General.Verbal.Score               0.7410    \n",
       "factor(gap_indicator)1                            0.0640 .  \n",
       "GPA_trend                                         0.0118 *  \n",
       "s_start_year                                     < 2e-16 ***\n",
       "---\n",
       "Signif. codes:  0 '***' 0.001 '**' 0.01 '*' 0.05 '.' 0.1 ' ' 1\n",
       "\n",
       "(Dispersion parameter for binomial family taken to be 1)\n",
       "\n",
       "    Null deviance: 1135.18  on 860  degrees of freedom\n",
       "Residual deviance:  953.96  on 839  degrees of freedom\n",
       "AIC: 997.96\n",
       "\n",
       "Number of Fisher Scoring iterations: 5\n"
      ]
     },
     "metadata": {},
     "output_type": "display_data"
    }
   ],
   "source": [
    "log_mod_h_s = glm(Y~s_start_age+factor(Gender)+factor(funding_indicator)+factor(Citizenship)+\n",
    "                avs_net_cost+s_Average.Precol.GPA+s_GRE.Combined.General.Write.Score+s_GRE.Combined.Quantitative.Score+s_GRE.Combined.General.Verbal.Score+\n",
    "                factor(gap_indicator)+GPA_trend+s_start_year,\n",
    "                data=Harpur_sciences,family=\"binomial\")\n",
    "summary(log_mod_h_s)"
   ]
  },
  {
   "cell_type": "markdown",
   "metadata": {},
   "source": [
    "<b> Significant Variables of logistic regression model: "
   ]
  },
  {
   "cell_type": "code",
   "execution_count": 23,
   "metadata": {},
   "outputs": [
    {
     "data": {
      "text/html": [
       "<table>\n",
       "<thead><tr><th></th><th scope=col>Estimate</th><th scope=col>Pr(&gt;|z|)</th></tr></thead>\n",
       "<tbody>\n",
       "\t<tr><th scope=row>factor(funding_indicator)1</th><td> 1.29511</td><td>0.00000 </td></tr>\n",
       "\t<tr><th scope=row>factor(Citizenship)Africa</th><td> 0.97836</td><td>0.04145 </td></tr>\n",
       "\t<tr><th scope=row>factor(Citizenship)China</th><td> 0.53363</td><td>0.03350 </td></tr>\n",
       "\t<tr><th scope=row>GPA_trend</th><td> 1.07370</td><td>0.01182 </td></tr>\n",
       "\t<tr><th scope=row>s_start_year</th><td>-1.34129</td><td>0.00000 </td></tr>\n",
       "</tbody>\n",
       "</table>\n"
      ],
      "text/latex": [
       "\\begin{tabular}{r|ll}\n",
       "  & Estimate & Pr(>\\textbar{}z\\textbar{})\\\\\n",
       "\\hline\n",
       "\tfactor(funding\\_indicator)1 &  1.29511 & 0.00000 \\\\\n",
       "\tfactor(Citizenship)Africa &  0.97836 & 0.04145 \\\\\n",
       "\tfactor(Citizenship)China &  0.53363 & 0.03350 \\\\\n",
       "\tGPA\\_trend &  1.07370 & 0.01182 \\\\\n",
       "\ts\\_start\\_year & -1.34129 & 0.00000 \\\\\n",
       "\\end{tabular}\n"
      ],
      "text/markdown": [
       "\n",
       "| <!--/--> | Estimate | Pr(>|z|) |\n",
       "|---|---|---|\n",
       "| factor(funding_indicator)1 |  1.29511 | 0.00000  |\n",
       "| factor(Citizenship)Africa |  0.97836 | 0.04145  |\n",
       "| factor(Citizenship)China |  0.53363 | 0.03350  |\n",
       "| GPA_trend |  1.07370 | 0.01182  |\n",
       "| s_start_year | -1.34129 | 0.00000  |\n",
       "\n"
      ],
      "text/plain": [
       "                           Estimate Pr(>|z|)\n",
       "factor(funding_indicator)1  1.29511 0.00000 \n",
       "factor(Citizenship)Africa   0.97836 0.04145 \n",
       "factor(Citizenship)China    0.53363 0.03350 \n",
       "GPA_trend                   1.07370 0.01182 \n",
       "s_start_year               -1.34129 0.00000 "
      ]
     },
     "metadata": {},
     "output_type": "display_data"
    }
   ],
   "source": [
    "round(summary(log_mod_h_s)$coeff[which(summary(log_mod_h_s)$coef[,4] <= .05),c(1,4)],5)"
   ]
  },
  {
   "cell_type": "markdown",
   "metadata": {},
   "source": [
    "Things we need\n",
    "-  Run AIC/BIC stepwise model selection for Harpur and summarize results\n",
    "-  Repeat for the other schools"
   ]
  },
  {
   "cell_type": "markdown",
   "metadata": {},
   "source": [
    "<b> Both AIC:"
   ]
  },
  {
   "cell_type": "code",
   "execution_count": 24,
   "metadata": {},
   "outputs": [
    {
     "name": "stdout",
     "output_type": "stream",
     "text": [
      "Start:  AIC=997.96\n",
      "Y ~ s_start_age + factor(Gender) + factor(funding_indicator) + \n",
      "    factor(Citizenship) + avs_net_cost + s_Average.Precol.GPA + \n",
      "    s_GRE.Combined.General.Write.Score + s_GRE.Combined.Quantitative.Score + \n",
      "    s_GRE.Combined.General.Verbal.Score + factor(gap_indicator) + \n",
      "    GPA_trend + s_start_year\n",
      "\n",
      "                                      Df Deviance     AIC\n",
      "- factor(Citizenship)                 10   970.03  994.03\n",
      "- factor(Gender)                       1   953.96  995.96\n",
      "- s_GRE.Combined.Quantitative.Score    1   953.96  995.96\n",
      "- s_GRE.Combined.General.Write.Score   1   954.02  996.02\n",
      "- s_GRE.Combined.General.Verbal.Score  1   954.07  996.07\n",
      "- s_Average.Precol.GPA                 1   954.27  996.27\n",
      "- s_start_age                          1   954.98  996.98\n",
      "<none>                                     953.96  997.96\n",
      "- avs_net_cost                         1   956.21  998.21\n",
      "- factor(gap_indicator)                1   957.71  999.71\n",
      "- GPA_trend                            1   960.96 1002.96\n",
      "- factor(funding_indicator)            1   980.19 1022.19\n",
      "- s_start_year                         1  1076.95 1118.95\n",
      "\n",
      "Step:  AIC=994.03\n",
      "Y ~ s_start_age + factor(Gender) + factor(funding_indicator) + \n",
      "    avs_net_cost + s_Average.Precol.GPA + s_GRE.Combined.General.Write.Score + \n",
      "    s_GRE.Combined.Quantitative.Score + s_GRE.Combined.General.Verbal.Score + \n",
      "    factor(gap_indicator) + GPA_trend + s_start_year\n",
      "\n",
      "                                      Df Deviance     AIC\n",
      "- factor(Gender)                       1   970.04  992.04\n",
      "- s_GRE.Combined.General.Verbal.Score  1   970.06  992.06\n",
      "- s_Average.Precol.GPA                 1   970.19  992.19\n",
      "- s_GRE.Combined.Quantitative.Score    1   970.33  992.33\n",
      "- s_GRE.Combined.General.Write.Score   1   971.62  993.62\n",
      "- s_start_age                          1   971.86  993.86\n",
      "<none>                                     970.03  994.03\n",
      "- avs_net_cost                         1   972.08  994.08\n",
      "- factor(gap_indicator)                1   973.39  995.39\n",
      "+ factor(Citizenship)                 10   953.96  997.96\n",
      "- GPA_trend                            1   976.53  998.53\n",
      "- factor(funding_indicator)            1   997.61 1019.61\n",
      "- s_start_year                         1  1101.13 1123.13\n",
      "\n",
      "Step:  AIC=992.04\n",
      "Y ~ s_start_age + factor(funding_indicator) + avs_net_cost + \n",
      "    s_Average.Precol.GPA + s_GRE.Combined.General.Write.Score + \n",
      "    s_GRE.Combined.Quantitative.Score + s_GRE.Combined.General.Verbal.Score + \n",
      "    factor(gap_indicator) + GPA_trend + s_start_year\n",
      "\n",
      "                                      Df Deviance     AIC\n",
      "- s_GRE.Combined.General.Verbal.Score  1   970.08  990.08\n",
      "- s_Average.Precol.GPA                 1   970.22  990.22\n",
      "- s_GRE.Combined.Quantitative.Score    1   970.34  990.34\n",
      "- s_GRE.Combined.General.Write.Score   1   971.65  991.65\n",
      "- s_start_age                          1   971.86  991.86\n",
      "<none>                                     970.04  992.04\n",
      "- avs_net_cost                         1   972.08  992.08\n",
      "- factor(gap_indicator)                1   973.42  993.42\n",
      "+ factor(Gender)                       1   970.03  994.03\n",
      "+ factor(Citizenship)                 10   953.96  995.96\n",
      "- GPA_trend                            1   976.68  996.68\n",
      "- factor(funding_indicator)            1   997.62 1017.62\n",
      "- s_start_year                         1  1101.67 1121.67\n",
      "\n",
      "Step:  AIC=990.08\n",
      "Y ~ s_start_age + factor(funding_indicator) + avs_net_cost + \n",
      "    s_Average.Precol.GPA + s_GRE.Combined.General.Write.Score + \n",
      "    s_GRE.Combined.Quantitative.Score + factor(gap_indicator) + \n",
      "    GPA_trend + s_start_year\n",
      "\n",
      "                                      Df Deviance     AIC\n",
      "- s_Average.Precol.GPA                 1   970.27  988.27\n",
      "- s_GRE.Combined.Quantitative.Score    1   970.58  988.58\n",
      "- s_GRE.Combined.General.Write.Score   1   971.92  989.92\n",
      "- s_start_age                          1   971.96  989.96\n",
      "<none>                                     970.08  990.08\n",
      "- avs_net_cost                         1   972.11  990.11\n",
      "- factor(gap_indicator)                1   973.47  991.47\n",
      "+ s_GRE.Combined.General.Verbal.Score  1   970.04  992.04\n",
      "+ factor(Gender)                       1   970.06  992.06\n",
      "+ factor(Citizenship)                 10   954.07  994.07\n",
      "- GPA_trend                            1   976.68  994.68\n",
      "- factor(funding_indicator)            1   998.01 1016.01\n",
      "- s_start_year                         1  1103.22 1121.22\n",
      "\n",
      "Step:  AIC=988.27\n",
      "Y ~ s_start_age + factor(funding_indicator) + avs_net_cost + \n",
      "    s_GRE.Combined.General.Write.Score + s_GRE.Combined.Quantitative.Score + \n",
      "    factor(gap_indicator) + GPA_trend + s_start_year\n",
      "\n",
      "                                      Df Deviance     AIC\n",
      "- s_GRE.Combined.Quantitative.Score    1   970.80  986.80\n",
      "- s_GRE.Combined.General.Write.Score   1   971.96  987.96\n",
      "- s_start_age                          1   972.12  988.12\n",
      "- avs_net_cost                         1   972.24  988.24\n",
      "<none>                                     970.27  988.27\n",
      "- factor(gap_indicator)                1   973.59  989.59\n",
      "+ s_Average.Precol.GPA                 1   970.08  990.08\n",
      "+ s_GRE.Combined.General.Verbal.Score  1   970.22  990.22\n",
      "+ factor(Gender)                       1   970.24  990.24\n",
      "+ factor(Citizenship)                 10   954.43  992.43\n",
      "- GPA_trend                            1   976.70  992.70\n",
      "- factor(funding_indicator)            1   998.73 1014.73\n",
      "- s_start_year                         1  1104.38 1120.38\n",
      "\n",
      "Step:  AIC=986.8\n",
      "Y ~ s_start_age + factor(funding_indicator) + avs_net_cost + \n",
      "    s_GRE.Combined.General.Write.Score + factor(gap_indicator) + \n",
      "    GPA_trend + s_start_year\n",
      "\n",
      "                                      Df Deviance     AIC\n",
      "- s_start_age                          1   972.51  986.51\n",
      "- avs_net_cost                         1   972.69  986.69\n",
      "<none>                                     970.80  986.80\n",
      "- s_GRE.Combined.General.Write.Score   1   972.85  986.85\n",
      "- factor(gap_indicator)                1   974.05  988.05\n",
      "+ s_GRE.Combined.Quantitative.Score    1   970.27  988.27\n",
      "+ s_GRE.Combined.General.Verbal.Score  1   970.50  988.50\n",
      "+ s_Average.Precol.GPA                 1   970.58  988.58\n",
      "+ factor(Gender)                       1   970.79  988.79\n",
      "+ factor(Citizenship)                 10   954.48  990.48\n",
      "- GPA_trend                            1   977.11  991.11\n",
      "- factor(funding_indicator)            1   999.22 1013.22\n",
      "- s_start_year                         1  1104.92 1118.92\n",
      "\n",
      "Step:  AIC=986.51\n",
      "Y ~ factor(funding_indicator) + avs_net_cost + s_GRE.Combined.General.Write.Score + \n",
      "    factor(gap_indicator) + GPA_trend + s_start_year\n",
      "\n",
      "                                      Df Deviance     AIC\n",
      "<none>                                     972.51  986.51\n",
      "- s_GRE.Combined.General.Write.Score   1   974.64  986.64\n",
      "+ s_start_age                          1   970.80  986.80\n",
      "- avs_net_cost                         1   975.35  987.35\n",
      "- factor(gap_indicator)                1   975.85  987.85\n",
      "+ s_GRE.Combined.Quantitative.Score    1   972.12  988.12\n",
      "+ s_GRE.Combined.General.Verbal.Score  1   972.12  988.12\n",
      "+ s_Average.Precol.GPA                 1   972.34  988.34\n",
      "+ factor(Gender)                       1   972.51  988.51\n",
      "+ factor(Citizenship)                 10   955.62  989.62\n",
      "- GPA_trend                            1   978.72  990.72\n",
      "- factor(funding_indicator)            1   999.25 1011.25\n",
      "- s_start_year                         1  1105.50 1117.50\n"
     ]
    }
   ],
   "source": [
    "library('MASS')\n",
    "log_mod_h_s_aic = stepAIC(log_mod_h_s, direction = 'both')"
   ]
  },
  {
   "cell_type": "markdown",
   "metadata": {},
   "source": [
    "<b> Significant variables both AIC selects:"
   ]
  },
  {
   "cell_type": "code",
   "execution_count": 25,
   "metadata": {},
   "outputs": [
    {
     "data": {
      "text/html": [
       "<table>\n",
       "<thead><tr><th></th><th scope=col>Estimate</th><th scope=col>Pr(&gt;|z|)</th></tr></thead>\n",
       "<tbody>\n",
       "\t<tr><th scope=row>factor(funding_indicator)1</th><td> 1.24768</td><td>0.00000 </td></tr>\n",
       "\t<tr><th scope=row>GPA_trend</th><td> 0.96399</td><td>0.01727 </td></tr>\n",
       "\t<tr><th scope=row>s_start_year</th><td>-1.35272</td><td>0.00000 </td></tr>\n",
       "</tbody>\n",
       "</table>\n"
      ],
      "text/latex": [
       "\\begin{tabular}{r|ll}\n",
       "  & Estimate & Pr(>\\textbar{}z\\textbar{})\\\\\n",
       "\\hline\n",
       "\tfactor(funding\\_indicator)1 &  1.24768 & 0.00000 \\\\\n",
       "\tGPA\\_trend &  0.96399 & 0.01727 \\\\\n",
       "\ts\\_start\\_year & -1.35272 & 0.00000 \\\\\n",
       "\\end{tabular}\n"
      ],
      "text/markdown": [
       "\n",
       "| <!--/--> | Estimate | Pr(>|z|) |\n",
       "|---|---|---|\n",
       "| factor(funding_indicator)1 |  1.24768 | 0.00000  |\n",
       "| GPA_trend |  0.96399 | 0.01727  |\n",
       "| s_start_year | -1.35272 | 0.00000  |\n",
       "\n"
      ],
      "text/plain": [
       "                           Estimate Pr(>|z|)\n",
       "factor(funding_indicator)1  1.24768 0.00000 \n",
       "GPA_trend                   0.96399 0.01727 \n",
       "s_start_year               -1.35272 0.00000 "
      ]
     },
     "metadata": {},
     "output_type": "display_data"
    }
   ],
   "source": [
    "round(summary(log_mod_h_s_aic)$coeff[which(summary(log_mod_h_s_aic)$coef[,4] <= .05),c(1,4)],5)"
   ]
  },
  {
   "cell_type": "markdown",
   "metadata": {},
   "source": [
    "<b> Both BIC"
   ]
  },
  {
   "cell_type": "code",
   "execution_count": 26,
   "metadata": {
    "scrolled": false
   },
   "outputs": [
    {
     "name": "stdout",
     "output_type": "stream",
     "text": [
      "Start:  AIC=1102.64\n",
      "Y ~ s_start_age + factor(Gender) + factor(funding_indicator) + \n",
      "    factor(Citizenship) + avs_net_cost + s_Average.Precol.GPA + \n",
      "    s_GRE.Combined.General.Write.Score + s_GRE.Combined.Quantitative.Score + \n",
      "    s_GRE.Combined.General.Verbal.Score + factor(gap_indicator) + \n",
      "    GPA_trend + s_start_year\n",
      "\n",
      "                                      Df Deviance    AIC\n",
      "- factor(Citizenship)                 10   970.03 1051.1\n",
      "- factor(Gender)                       1   953.96 1095.9\n",
      "- s_GRE.Combined.Quantitative.Score    1   953.96 1095.9\n",
      "- s_GRE.Combined.General.Write.Score   1   954.02 1095.9\n",
      "- s_GRE.Combined.General.Verbal.Score  1   954.07 1096.0\n",
      "- s_Average.Precol.GPA                 1   954.27 1096.2\n",
      "- s_start_age                          1   954.98 1096.9\n",
      "- avs_net_cost                         1   956.21 1098.1\n",
      "- factor(gap_indicator)                1   957.71 1099.6\n",
      "<none>                                     953.96 1102.6\n",
      "- GPA_trend                            1   960.96 1102.9\n",
      "- factor(funding_indicator)            1   980.19 1122.1\n",
      "- s_start_year                         1  1076.95 1218.9\n",
      "\n",
      "Step:  AIC=1051.12\n",
      "Y ~ s_start_age + factor(Gender) + factor(funding_indicator) + \n",
      "    avs_net_cost + s_Average.Precol.GPA + s_GRE.Combined.General.Write.Score + \n",
      "    s_GRE.Combined.Quantitative.Score + s_GRE.Combined.General.Verbal.Score + \n",
      "    factor(gap_indicator) + GPA_trend + s_start_year\n",
      "\n",
      "                                      Df Deviance    AIC\n",
      "- factor(Gender)                       1   970.04 1044.4\n",
      "- s_GRE.Combined.General.Verbal.Score  1   970.06 1044.4\n",
      "- s_Average.Precol.GPA                 1   970.19 1044.5\n",
      "- s_GRE.Combined.Quantitative.Score    1   970.33 1044.7\n",
      "- s_GRE.Combined.General.Write.Score   1   971.62 1046.0\n",
      "- s_start_age                          1   971.86 1046.2\n",
      "- avs_net_cost                         1   972.08 1046.4\n",
      "- factor(gap_indicator)                1   973.39 1047.7\n",
      "- GPA_trend                            1   976.53 1050.9\n",
      "<none>                                     970.03 1051.1\n",
      "- factor(funding_indicator)            1   997.61 1072.0\n",
      "+ factor(Citizenship)                 10   953.96 1102.6\n",
      "- s_start_year                         1  1101.13 1175.5\n",
      "\n",
      "Step:  AIC=1044.38\n",
      "Y ~ s_start_age + factor(funding_indicator) + avs_net_cost + \n",
      "    s_Average.Precol.GPA + s_GRE.Combined.General.Write.Score + \n",
      "    s_GRE.Combined.Quantitative.Score + s_GRE.Combined.General.Verbal.Score + \n",
      "    factor(gap_indicator) + GPA_trend + s_start_year\n",
      "\n",
      "                                      Df Deviance    AIC\n",
      "- s_GRE.Combined.General.Verbal.Score  1   970.08 1037.7\n",
      "- s_Average.Precol.GPA                 1   970.22 1037.8\n",
      "- s_GRE.Combined.Quantitative.Score    1   970.34 1037.9\n",
      "- s_GRE.Combined.General.Write.Score   1   971.65 1039.2\n",
      "- s_start_age                          1   971.86 1039.4\n",
      "- avs_net_cost                         1   972.08 1039.7\n",
      "- factor(gap_indicator)                1   973.42 1041.0\n",
      "- GPA_trend                            1   976.68 1044.3\n",
      "<none>                                     970.04 1044.4\n",
      "+ factor(Gender)                       1   970.03 1051.1\n",
      "- factor(funding_indicator)            1   997.62 1065.2\n",
      "+ factor(Citizenship)                 10   953.96 1095.9\n",
      "- s_start_year                         1  1101.67 1169.2\n",
      "\n",
      "Step:  AIC=1037.66\n",
      "Y ~ s_start_age + factor(funding_indicator) + avs_net_cost + \n",
      "    s_Average.Precol.GPA + s_GRE.Combined.General.Write.Score + \n",
      "    s_GRE.Combined.Quantitative.Score + factor(gap_indicator) + \n",
      "    GPA_trend + s_start_year\n",
      "\n",
      "                                      Df Deviance    AIC\n",
      "- s_Average.Precol.GPA                 1   970.27 1031.1\n",
      "- s_GRE.Combined.Quantitative.Score    1   970.58 1031.4\n",
      "- s_GRE.Combined.General.Write.Score   1   971.92 1032.7\n",
      "- s_start_age                          1   971.96 1032.8\n",
      "- avs_net_cost                         1   972.11 1032.9\n",
      "- factor(gap_indicator)                1   973.47 1034.3\n",
      "- GPA_trend                            1   976.68 1037.5\n",
      "<none>                                     970.08 1037.7\n",
      "+ s_GRE.Combined.General.Verbal.Score  1   970.04 1044.4\n",
      "+ factor(Gender)                       1   970.06 1044.4\n",
      "- factor(funding_indicator)            1   998.01 1058.8\n",
      "+ factor(Citizenship)                 10   954.07 1089.2\n",
      "- s_start_year                         1  1103.22 1164.0\n",
      "\n",
      "Step:  AIC=1031.09\n",
      "Y ~ s_start_age + factor(funding_indicator) + avs_net_cost + \n",
      "    s_GRE.Combined.General.Write.Score + s_GRE.Combined.Quantitative.Score + \n",
      "    factor(gap_indicator) + GPA_trend + s_start_year\n",
      "\n",
      "                                      Df Deviance    AIC\n",
      "- s_GRE.Combined.Quantitative.Score    1   970.80 1024.9\n",
      "- s_GRE.Combined.General.Write.Score   1   971.96 1026.0\n",
      "- s_start_age                          1   972.12 1026.2\n",
      "- avs_net_cost                         1   972.24 1026.3\n",
      "- factor(gap_indicator)                1   973.59 1027.7\n",
      "- GPA_trend                            1   976.70 1030.8\n",
      "<none>                                     970.27 1031.1\n",
      "+ s_Average.Precol.GPA                 1   970.08 1037.7\n",
      "+ s_GRE.Combined.General.Verbal.Score  1   970.22 1037.8\n",
      "+ factor(Gender)                       1   970.24 1037.8\n",
      "- factor(funding_indicator)            1   998.73 1052.8\n",
      "+ factor(Citizenship)                 10   954.43 1082.8\n",
      "- s_start_year                         1  1104.38 1158.5\n",
      "\n",
      "Step:  AIC=1024.86\n",
      "Y ~ s_start_age + factor(funding_indicator) + avs_net_cost + \n",
      "    s_GRE.Combined.General.Write.Score + factor(gap_indicator) + \n",
      "    GPA_trend + s_start_year\n",
      "\n",
      "                                      Df Deviance    AIC\n",
      "- s_start_age                          1   972.51 1019.8\n",
      "- avs_net_cost                         1   972.69 1020.0\n",
      "- s_GRE.Combined.General.Write.Score   1   972.85 1020.2\n",
      "- factor(gap_indicator)                1   974.05 1021.4\n",
      "- GPA_trend                            1   977.11 1024.4\n",
      "<none>                                     970.80 1024.9\n",
      "+ s_GRE.Combined.Quantitative.Score    1   970.27 1031.1\n",
      "+ s_GRE.Combined.General.Verbal.Score  1   970.50 1031.3\n",
      "+ s_Average.Precol.GPA                 1   970.58 1031.4\n",
      "+ factor(Gender)                       1   970.79 1031.6\n",
      "- factor(funding_indicator)            1   999.22 1046.5\n",
      "+ factor(Citizenship)                 10   954.48 1076.1\n",
      "- s_start_year                         1  1104.92 1152.2\n",
      "\n",
      "Step:  AIC=1019.82\n",
      "Y ~ factor(funding_indicator) + avs_net_cost + s_GRE.Combined.General.Write.Score + \n",
      "    factor(gap_indicator) + GPA_trend + s_start_year\n",
      "\n",
      "                                      Df Deviance    AIC\n",
      "- s_GRE.Combined.General.Write.Score   1   974.64 1015.2\n",
      "- avs_net_cost                         1   975.35 1015.9\n",
      "- factor(gap_indicator)                1   975.85 1016.4\n",
      "- GPA_trend                            1   978.72 1019.3\n",
      "<none>                                     972.51 1019.8\n",
      "+ s_start_age                          1   970.80 1024.9\n",
      "+ s_GRE.Combined.Quantitative.Score    1   972.12 1026.2\n",
      "+ s_GRE.Combined.General.Verbal.Score  1   972.12 1026.2\n",
      "+ s_Average.Precol.GPA                 1   972.34 1026.4\n",
      "+ factor(Gender)                       1   972.51 1026.6\n",
      "- factor(funding_indicator)            1   999.25 1039.8\n",
      "+ factor(Citizenship)                 10   955.62 1070.5\n",
      "- s_start_year                         1  1105.50 1146.0\n",
      "\n",
      "Step:  AIC=1015.18\n",
      "Y ~ factor(funding_indicator) + avs_net_cost + factor(gap_indicator) + \n",
      "    GPA_trend + s_start_year\n",
      "\n",
      "                                      Df Deviance    AIC\n",
      "- factor(gap_indicator)                1   977.75 1011.5\n",
      "- avs_net_cost                         1   977.87 1011.7\n",
      "- GPA_trend                            1   980.77 1014.6\n",
      "<none>                                     974.64 1015.2\n",
      "+ s_GRE.Combined.General.Write.Score   1   972.51 1019.8\n",
      "+ s_start_age                          1   972.85 1020.2\n",
      "+ s_GRE.Combined.Quantitative.Score    1   973.95 1021.3\n",
      "+ s_Average.Precol.GPA                 1   974.62 1021.9\n",
      "+ s_GRE.Combined.General.Verbal.Score  1   974.63 1021.9\n",
      "+ factor(Gender)                       1   974.63 1021.9\n",
      "- factor(funding_indicator)            1  1000.10 1033.9\n",
      "+ factor(Citizenship)                 10   955.62 1063.8\n",
      "- s_start_year                         1  1106.10 1139.9\n"
     ]
    },
    {
     "name": "stdout",
     "output_type": "stream",
     "text": [
      "\n",
      "Step:  AIC=1011.54\n",
      "Y ~ factor(funding_indicator) + avs_net_cost + GPA_trend + s_start_year\n",
      "\n",
      "                                      Df Deviance    AIC\n",
      "- avs_net_cost                         1   980.78 1007.8\n",
      "- GPA_trend                            1   983.93 1011.0\n",
      "<none>                                     977.75 1011.5\n",
      "+ factor(gap_indicator)                1   974.64 1015.2\n",
      "+ s_GRE.Combined.General.Write.Score   1   975.85 1016.4\n",
      "+ s_start_age                          1   975.89 1016.4\n",
      "+ s_GRE.Combined.Quantitative.Score    1   977.16 1017.7\n",
      "+ s_GRE.Combined.General.Verbal.Score  1   977.74 1018.3\n",
      "+ s_Average.Precol.GPA                 1   977.75 1018.3\n",
      "+ factor(Gender)                       1   977.75 1018.3\n",
      "- factor(funding_indicator)            1  1003.94 1031.0\n",
      "+ factor(Citizenship)                 10   959.41 1060.8\n",
      "- s_start_year                         1  1119.26 1146.3\n",
      "\n",
      "Step:  AIC=1007.81\n",
      "Y ~ factor(funding_indicator) + GPA_trend + s_start_year\n",
      "\n",
      "                                      Df Deviance    AIC\n",
      "- GPA_trend                            1   987.32 1007.6\n",
      "<none>                                     980.78 1007.8\n",
      "+ avs_net_cost                         1   977.75 1011.5\n",
      "+ factor(gap_indicator)                1   977.87 1011.7\n",
      "+ s_start_age                          1   977.89 1011.7\n",
      "+ s_GRE.Combined.General.Write.Score   1   978.50 1012.3\n",
      "+ s_GRE.Combined.Quantitative.Score    1   980.30 1014.1\n",
      "+ factor(Gender)                       1   980.73 1014.5\n",
      "+ s_GRE.Combined.General.Verbal.Score  1   980.77 1014.6\n",
      "+ s_Average.Precol.GPA                 1   980.77 1014.6\n",
      "- factor(funding_indicator)            1  1004.81 1025.1\n",
      "+ factor(Citizenship)                 10   962.26 1056.9\n",
      "- s_start_year                         1  1121.62 1141.9\n",
      "\n",
      "Step:  AIC=1007.59\n",
      "Y ~ factor(funding_indicator) + s_start_year\n",
      "\n",
      "                                      Df Deviance    AIC\n",
      "<none>                                     987.32 1007.6\n",
      "+ GPA_trend                            1   980.78 1007.8\n",
      "+ avs_net_cost                         1   983.93 1011.0\n",
      "+ factor(gap_indicator)                1   984.38 1011.4\n",
      "+ s_start_age                          1   984.51 1011.5\n",
      "+ s_GRE.Combined.General.Write.Score   1   985.08 1012.1\n",
      "+ s_GRE.Combined.Quantitative.Score    1   986.95 1014.0\n",
      "+ s_Average.Precol.GPA                 1   987.19 1014.2\n",
      "+ s_GRE.Combined.General.Verbal.Score  1   987.31 1014.3\n",
      "+ factor(Gender)                       1   987.32 1014.4\n",
      "- factor(funding_indicator)            1  1012.20 1025.7\n",
      "+ factor(Citizenship)                 10   969.34 1057.2\n",
      "- s_start_year                         1  1134.97 1148.5\n"
     ]
    }
   ],
   "source": [
    "log_mod_h_s_bic = stepAIC(log_mod_h_s, direction = \"both\", k = log(a_n))"
   ]
  },
  {
   "cell_type": "markdown",
   "metadata": {},
   "source": [
    "<b> Significant variables both BIC selects:"
   ]
  },
  {
   "cell_type": "code",
   "execution_count": 27,
   "metadata": {},
   "outputs": [
    {
     "data": {
      "text/html": [
       "<table>\n",
       "<thead><tr><th></th><th scope=col>Estimate</th><th scope=col>Pr(&gt;|z|)</th></tr></thead>\n",
       "<tbody>\n",
       "\t<tr><th scope=row>factor(funding_indicator)1</th><td> 1.18085</td><td>0       </td></tr>\n",
       "\t<tr><th scope=row>s_start_year</th><td>-1.38659</td><td>0       </td></tr>\n",
       "</tbody>\n",
       "</table>\n"
      ],
      "text/latex": [
       "\\begin{tabular}{r|ll}\n",
       "  & Estimate & Pr(>\\textbar{}z\\textbar{})\\\\\n",
       "\\hline\n",
       "\tfactor(funding\\_indicator)1 &  1.18085 & 0       \\\\\n",
       "\ts\\_start\\_year & -1.38659 & 0       \\\\\n",
       "\\end{tabular}\n"
      ],
      "text/markdown": [
       "\n",
       "| <!--/--> | Estimate | Pr(>|z|) |\n",
       "|---|---|---|\n",
       "| factor(funding_indicator)1 |  1.18085 | 0        |\n",
       "| s_start_year | -1.38659 | 0        |\n",
       "\n"
      ],
      "text/plain": [
       "                           Estimate Pr(>|z|)\n",
       "factor(funding_indicator)1  1.18085 0       \n",
       "s_start_year               -1.38659 0       "
      ]
     },
     "metadata": {},
     "output_type": "display_data"
    }
   ],
   "source": [
    "round(summary(log_mod_h_s_bic)$coeff[which(summary(log_mod_h_s_bic)$coef[,4] <= .05),c(1,4)],5)"
   ]
  },
  {
   "cell_type": "markdown",
   "metadata": {},
   "source": [
    "# Harpur Arts Analysis"
   ]
  },
  {
   "cell_type": "markdown",
   "metadata": {},
   "source": [
    "<b> Logistic regression model:"
   ]
  },
  {
   "cell_type": "code",
   "execution_count": 28,
   "metadata": {
    "scrolled": false
   },
   "outputs": [
    {
     "data": {
      "text/plain": [
       "\n",
       "Call:\n",
       "glm(formula = Y ~ s_start_age + factor(Gender) + factor(funding_indicator) + \n",
       "    factor(Citizenship) + avs_net_cost + s_Average.Precol.GPA + \n",
       "    s_GRE.Combined.General.Write.Score + s_GRE.Combined.Quantitative.Score + \n",
       "    s_GRE.Combined.General.Verbal.Score + factor(gap_indicator) + \n",
       "    GPA_trend + s_start_year, family = \"binomial\", data = Harpur_arts)\n",
       "\n",
       "Deviance Residuals: \n",
       "    Min       1Q   Median       3Q      Max  \n",
       "-2.0747  -1.1505   0.7573   0.9953   1.7514  \n",
       "\n",
       "Coefficients:\n",
       "                                                 Estimate Std. Error z value\n",
       "(Intercept)                                     -0.310246   0.173581  -1.787\n",
       "s_start_age                                      0.107226   0.071319   1.503\n",
       "factor(Gender)Male                               0.031559   0.145284   0.217\n",
       "factor(funding_indicator)1                       0.714213   0.172699   4.136\n",
       "factor(Citizenship)Africa                       -0.470445   0.536178  -0.877\n",
       "factor(Citizenship)Asia                          0.622047   0.240697   2.584\n",
       "factor(Citizenship)Asian                        -0.366342   0.386495  -0.948\n",
       "factor(Citizenship)Black or African American     0.076106   0.413341   0.184\n",
       "factor(Citizenship)China                         0.292208   0.492129   0.594\n",
       "factor(Citizenship)Europe                        0.616326   0.475216   1.297\n",
       "factor(Citizenship)Hispanic or Latino            0.026795   0.304350   0.088\n",
       "factor(Citizenship)India                         0.468933   1.183634   0.396\n",
       "factor(Citizenship)Other International Students  0.165522   0.477335   0.347\n",
       "factor(Citizenship)Unknown                      -0.149624   0.248453  -0.602\n",
       "avs_net_cost                                     0.004359   0.056129   0.078\n",
       "s_Average.Precol.GPA                             0.188822   0.082655   2.284\n",
       "s_GRE.Combined.General.Write.Score              -0.073623   0.095201  -0.773\n",
       "s_GRE.Combined.Quantitative.Score                0.175179   0.259574   0.675\n",
       "s_GRE.Combined.General.Verbal.Score             -0.401264   0.296681  -1.353\n",
       "factor(gap_indicator)1                           0.220058   0.254301   0.865\n",
       "GPA_trend                                        0.736305   0.517641   1.422\n",
       "s_start_year                                    -0.481368   0.081724  -5.890\n",
       "                                                Pr(>|z|)    \n",
       "(Intercept)                                      0.07388 .  \n",
       "s_start_age                                      0.13272    \n",
       "factor(Gender)Male                               0.82803    \n",
       "factor(funding_indicator)1                      3.54e-05 ***\n",
       "factor(Citizenship)Africa                        0.38027    \n",
       "factor(Citizenship)Asia                          0.00976 ** \n",
       "factor(Citizenship)Asian                         0.34320    \n",
       "factor(Citizenship)Black or African American     0.85392    \n",
       "factor(Citizenship)China                         0.55267    \n",
       "factor(Citizenship)Europe                        0.19465    \n",
       "factor(Citizenship)Hispanic or Latino            0.92984    \n",
       "factor(Citizenship)India                         0.69197    \n",
       "factor(Citizenship)Other International Students  0.72877    \n",
       "factor(Citizenship)Unknown                       0.54703    \n",
       "avs_net_cost                                     0.93810    \n",
       "s_Average.Precol.GPA                             0.02234 *  \n",
       "s_GRE.Combined.General.Write.Score               0.43932    \n",
       "s_GRE.Combined.Quantitative.Score                0.49976    \n",
       "s_GRE.Combined.General.Verbal.Score              0.17621    \n",
       "factor(gap_indicator)1                           0.38685    \n",
       "GPA_trend                                        0.15490    \n",
       "s_start_year                                    3.86e-09 ***\n",
       "---\n",
       "Signif. codes:  0 '***' 0.001 '**' 0.01 '*' 0.05 '.' 0.1 ' ' 1\n",
       "\n",
       "(Dispersion parameter for binomial family taken to be 1)\n",
       "\n",
       "    Null deviance: 1248.0  on 917  degrees of freedom\n",
       "Residual deviance: 1161.6  on 896  degrees of freedom\n",
       "AIC: 1205.6\n",
       "\n",
       "Number of Fisher Scoring iterations: 7\n"
      ]
     },
     "metadata": {},
     "output_type": "display_data"
    }
   ],
   "source": [
    "log_mod_h_a = glm(Y~s_start_age+factor(Gender)+factor(funding_indicator)+factor(Citizenship)+\n",
    "                avs_net_cost+s_Average.Precol.GPA+s_GRE.Combined.General.Write.Score+s_GRE.Combined.Quantitative.Score+s_GRE.Combined.General.Verbal.Score+factor(gap_indicator)+GPA_trend+s_start_year,\n",
    "                data=Harpur_arts,family=\"binomial\")\n",
    "summary(log_mod_h_a)"
   ]
  },
  {
   "cell_type": "markdown",
   "metadata": {},
   "source": [
    "<b> Significant Variables of logistic regression model: "
   ]
  },
  {
   "cell_type": "code",
   "execution_count": 29,
   "metadata": {},
   "outputs": [
    {
     "data": {
      "text/html": [
       "<table>\n",
       "<thead><tr><th></th><th scope=col>Estimate</th><th scope=col>Pr(&gt;|z|)</th></tr></thead>\n",
       "<tbody>\n",
       "\t<tr><th scope=row>factor(funding_indicator)1</th><td> 0.71421</td><td>0.00004 </td></tr>\n",
       "\t<tr><th scope=row>factor(Citizenship)Asia</th><td> 0.62205</td><td>0.00976 </td></tr>\n",
       "\t<tr><th scope=row>s_Average.Precol.GPA</th><td> 0.18882</td><td>0.02234 </td></tr>\n",
       "\t<tr><th scope=row>s_start_year</th><td>-0.48137</td><td>0.00000 </td></tr>\n",
       "</tbody>\n",
       "</table>\n"
      ],
      "text/latex": [
       "\\begin{tabular}{r|ll}\n",
       "  & Estimate & Pr(>\\textbar{}z\\textbar{})\\\\\n",
       "\\hline\n",
       "\tfactor(funding\\_indicator)1 &  0.71421 & 0.00004 \\\\\n",
       "\tfactor(Citizenship)Asia &  0.62205 & 0.00976 \\\\\n",
       "\ts\\_Average.Precol.GPA &  0.18882 & 0.02234 \\\\\n",
       "\ts\\_start\\_year & -0.48137 & 0.00000 \\\\\n",
       "\\end{tabular}\n"
      ],
      "text/markdown": [
       "\n",
       "| <!--/--> | Estimate | Pr(>|z|) |\n",
       "|---|---|---|\n",
       "| factor(funding_indicator)1 |  0.71421 | 0.00004  |\n",
       "| factor(Citizenship)Asia |  0.62205 | 0.00976  |\n",
       "| s_Average.Precol.GPA |  0.18882 | 0.02234  |\n",
       "| s_start_year | -0.48137 | 0.00000  |\n",
       "\n"
      ],
      "text/plain": [
       "                           Estimate Pr(>|z|)\n",
       "factor(funding_indicator)1  0.71421 0.00004 \n",
       "factor(Citizenship)Asia     0.62205 0.00976 \n",
       "s_Average.Precol.GPA        0.18882 0.02234 \n",
       "s_start_year               -0.48137 0.00000 "
      ]
     },
     "metadata": {},
     "output_type": "display_data"
    }
   ],
   "source": [
    "round(summary(log_mod_h_a)$coeff[which(summary(log_mod_h_a)$coef[,4] <= .05),c(1,4)],5)"
   ]
  },
  {
   "cell_type": "markdown",
   "metadata": {},
   "source": [
    "<b> Both AIC:"
   ]
  },
  {
   "cell_type": "code",
   "execution_count": 30,
   "metadata": {},
   "outputs": [
    {
     "name": "stdout",
     "output_type": "stream",
     "text": [
      "Start:  AIC=1205.55\n",
      "Y ~ s_start_age + factor(Gender) + factor(funding_indicator) + \n",
      "    factor(Citizenship) + avs_net_cost + s_Average.Precol.GPA + \n",
      "    s_GRE.Combined.General.Write.Score + s_GRE.Combined.Quantitative.Score + \n",
      "    s_GRE.Combined.General.Verbal.Score + factor(gap_indicator) + \n",
      "    GPA_trend + s_start_year\n",
      "\n",
      "                                      Df Deviance    AIC\n",
      "- factor(Citizenship)                 10   1173.6 1197.6\n",
      "- avs_net_cost                         1   1161.6 1203.6\n",
      "- factor(Gender)                       1   1161.6 1203.6\n",
      "- s_GRE.Combined.Quantitative.Score    1   1162.0 1204.0\n",
      "- s_GRE.Combined.General.Write.Score   1   1162.2 1204.2\n",
      "- factor(gap_indicator)                1   1162.3 1204.3\n",
      "<none>                                     1161.5 1205.5\n",
      "- GPA_trend                            1   1163.6 1205.6\n",
      "- s_start_age                          1   1163.8 1205.8\n",
      "- s_GRE.Combined.General.Verbal.Score  1   1164.4 1206.4\n",
      "- s_Average.Precol.GPA                 1   1167.4 1209.4\n",
      "- factor(funding_indicator)            1   1179.1 1221.1\n",
      "- s_start_year                         1   1200.5 1242.5\n",
      "\n",
      "Step:  AIC=1197.61\n",
      "Y ~ s_start_age + factor(Gender) + factor(funding_indicator) + \n",
      "    avs_net_cost + s_Average.Precol.GPA + s_GRE.Combined.General.Write.Score + \n",
      "    s_GRE.Combined.Quantitative.Score + s_GRE.Combined.General.Verbal.Score + \n",
      "    factor(gap_indicator) + GPA_trend + s_start_year\n",
      "\n",
      "                                      Df Deviance    AIC\n",
      "- factor(Gender)                       1   1173.6 1195.6\n",
      "- avs_net_cost                         1   1173.6 1195.6\n",
      "- factor(gap_indicator)                1   1174.4 1196.4\n",
      "- s_GRE.Combined.Quantitative.Score    1   1174.5 1196.5\n",
      "- s_start_age                          1   1174.7 1196.7\n",
      "- GPA_trend                            1   1175.2 1197.2\n",
      "<none>                                     1173.6 1197.6\n",
      "- s_GRE.Combined.General.Write.Score   1   1175.7 1197.7\n",
      "- s_GRE.Combined.General.Verbal.Score  1   1177.4 1199.4\n",
      "- s_Average.Precol.GPA                 1   1179.2 1201.2\n",
      "+ factor(Citizenship)                 10   1161.5 1205.5\n",
      "- factor(funding_indicator)            1   1191.8 1213.8\n",
      "- s_start_year                         1   1208.7 1230.7\n",
      "\n",
      "Step:  AIC=1195.61\n",
      "Y ~ s_start_age + factor(funding_indicator) + avs_net_cost + \n",
      "    s_Average.Precol.GPA + s_GRE.Combined.General.Write.Score + \n",
      "    s_GRE.Combined.Quantitative.Score + s_GRE.Combined.General.Verbal.Score + \n",
      "    factor(gap_indicator) + GPA_trend + s_start_year\n",
      "\n",
      "                                      Df Deviance    AIC\n",
      "- avs_net_cost                         1   1173.6 1193.6\n",
      "- factor(gap_indicator)                1   1174.4 1194.4\n",
      "- s_GRE.Combined.Quantitative.Score    1   1174.5 1194.5\n",
      "- s_start_age                          1   1174.7 1194.7\n",
      "- GPA_trend                            1   1175.2 1195.2\n",
      "<none>                                     1173.6 1195.6\n",
      "- s_GRE.Combined.General.Write.Score   1   1175.7 1195.7\n",
      "- s_GRE.Combined.General.Verbal.Score  1   1177.4 1197.4\n",
      "+ factor(Gender)                       1   1173.6 1197.6\n",
      "- s_Average.Precol.GPA                 1   1179.2 1199.2\n",
      "+ factor(Citizenship)                 10   1161.6 1203.6\n",
      "- factor(funding_indicator)            1   1191.9 1211.9\n",
      "- s_start_year                         1   1208.7 1228.7\n",
      "\n",
      "Step:  AIC=1193.63\n",
      "Y ~ s_start_age + factor(funding_indicator) + s_Average.Precol.GPA + \n",
      "    s_GRE.Combined.General.Write.Score + s_GRE.Combined.Quantitative.Score + \n",
      "    s_GRE.Combined.General.Verbal.Score + factor(gap_indicator) + \n",
      "    GPA_trend + s_start_year\n",
      "\n",
      "                                      Df Deviance    AIC\n",
      "- factor(gap_indicator)                1   1174.5 1192.5\n",
      "- s_GRE.Combined.Quantitative.Score    1   1174.5 1192.5\n",
      "- s_start_age                          1   1174.7 1192.7\n",
      "- GPA_trend                            1   1175.2 1193.2\n",
      "<none>                                     1173.6 1193.6\n",
      "- s_GRE.Combined.General.Write.Score   1   1175.7 1193.7\n",
      "- s_GRE.Combined.General.Verbal.Score  1   1177.4 1195.4\n",
      "+ avs_net_cost                         1   1173.6 1195.6\n",
      "+ factor(Gender)                       1   1173.6 1195.6\n",
      "- s_Average.Precol.GPA                 1   1179.2 1197.2\n",
      "+ factor(Citizenship)                 10   1161.6 1201.6\n",
      "- factor(funding_indicator)            1   1192.0 1210.0\n",
      "- s_start_year                         1   1209.4 1227.4\n",
      "\n",
      "Step:  AIC=1192.45\n",
      "Y ~ s_start_age + factor(funding_indicator) + s_Average.Precol.GPA + \n",
      "    s_GRE.Combined.General.Write.Score + s_GRE.Combined.Quantitative.Score + \n",
      "    s_GRE.Combined.General.Verbal.Score + GPA_trend + s_start_year\n",
      "\n",
      "                                      Df Deviance    AIC\n",
      "- s_GRE.Combined.Quantitative.Score    1   1175.4 1191.4\n",
      "- s_start_age                          1   1175.5 1191.5\n",
      "- GPA_trend                            1   1176.0 1192.0\n",
      "<none>                                     1174.5 1192.5\n",
      "- s_GRE.Combined.General.Write.Score   1   1176.6 1192.6\n",
      "+ factor(gap_indicator)                1   1173.6 1193.6\n",
      "- s_GRE.Combined.General.Verbal.Score  1   1178.2 1194.2\n",
      "+ avs_net_cost                         1   1174.4 1194.4\n",
      "+ factor(Gender)                       1   1174.5 1194.5\n",
      "- s_Average.Precol.GPA                 1   1180.2 1196.2\n",
      "+ factor(Citizenship)                 10   1162.4 1200.4\n",
      "- factor(funding_indicator)            1   1192.5 1208.5\n",
      "- s_start_year                         1   1213.6 1229.6\n",
      "\n",
      "Step:  AIC=1191.4\n",
      "Y ~ s_start_age + factor(funding_indicator) + s_Average.Precol.GPA + \n",
      "    s_GRE.Combined.General.Write.Score + s_GRE.Combined.General.Verbal.Score + \n",
      "    GPA_trend + s_start_year\n",
      "\n",
      "                                      Df Deviance    AIC\n",
      "- s_start_age                          1   1176.5 1190.5\n",
      "- GPA_trend                            1   1177.0 1191.0\n",
      "<none>                                     1175.4 1191.4\n",
      "+ s_GRE.Combined.Quantitative.Score    1   1174.5 1192.5\n",
      "+ factor(gap_indicator)                1   1174.5 1192.5\n",
      "- s_GRE.Combined.General.Write.Score   1   1178.6 1192.6\n",
      "+ avs_net_cost                         1   1175.4 1193.4\n",
      "+ factor(Gender)                       1   1175.4 1193.4\n",
      "- s_GRE.Combined.General.Verbal.Score  1   1179.5 1193.5\n",
      "- s_Average.Precol.GPA                 1   1181.3 1195.3\n",
      "+ factor(Citizenship)                 10   1162.8 1198.8\n",
      "- factor(funding_indicator)            1   1193.1 1207.1\n",
      "- s_start_year                         1   1223.0 1237.0\n",
      "\n",
      "Step:  AIC=1190.52\n",
      "Y ~ factor(funding_indicator) + s_Average.Precol.GPA + s_GRE.Combined.General.Write.Score + \n",
      "    s_GRE.Combined.General.Verbal.Score + GPA_trend + s_start_year\n",
      "\n",
      "                                      Df Deviance    AIC\n",
      "- GPA_trend                            1   1178.1 1190.1\n",
      "<none>                                     1176.5 1190.5\n",
      "+ s_start_age                          1   1175.4 1191.4\n",
      "+ s_GRE.Combined.Quantitative.Score    1   1175.5 1191.5\n",
      "+ factor(gap_indicator)                1   1175.7 1191.7\n",
      "- s_GRE.Combined.General.Write.Score   1   1180.3 1192.3\n",
      "- s_GRE.Combined.General.Verbal.Score  1   1180.4 1192.4\n",
      "+ avs_net_cost                         1   1176.5 1192.5\n",
      "+ factor(Gender)                       1   1176.5 1192.5\n",
      "- s_Average.Precol.GPA                 1   1182.2 1194.2\n",
      "+ factor(Citizenship)                 10   1165.2 1199.2\n",
      "- factor(funding_indicator)            1   1193.1 1205.1\n",
      "- s_start_year                         1   1223.0 1235.0\n",
      "\n",
      "Step:  AIC=1190.1\n",
      "Y ~ factor(funding_indicator) + s_Average.Precol.GPA + s_GRE.Combined.General.Write.Score + \n",
      "    s_GRE.Combined.General.Verbal.Score + s_start_year\n",
      "\n",
      "                                      Df Deviance    AIC\n",
      "<none>                                     1178.1 1190.1\n",
      "+ GPA_trend                            1   1176.5 1190.5\n",
      "+ s_start_age                          1   1177.0 1191.0\n",
      "+ s_GRE.Combined.Quantitative.Score    1   1177.1 1191.1\n",
      "+ factor(gap_indicator)                1   1177.3 1191.3\n",
      "- s_GRE.Combined.General.Write.Score   1   1181.7 1191.7\n",
      "+ avs_net_cost                         1   1178.1 1192.1\n",
      "+ factor(Gender)                       1   1178.1 1192.1\n",
      "- s_GRE.Combined.General.Verbal.Score  1   1182.5 1192.5\n",
      "- s_Average.Precol.GPA                 1   1183.7 1193.7\n",
      "+ factor(Citizenship)                 10   1167.2 1199.2\n",
      "- factor(funding_indicator)            1   1194.6 1204.6\n",
      "- s_start_year                         1   1225.2 1235.2\n"
     ]
    }
   ],
   "source": [
    "log_mod_h_a_aic = stepAIC(log_mod_h_a, direction = 'both')"
   ]
  },
  {
   "cell_type": "markdown",
   "metadata": {},
   "source": [
    "<b> Significant variables both AIC selects:"
   ]
  },
  {
   "cell_type": "code",
   "execution_count": 31,
   "metadata": {},
   "outputs": [
    {
     "data": {
      "text/html": [
       "<table>\n",
       "<thead><tr><th></th><th scope=col>Estimate</th><th scope=col>Pr(&gt;|z|)</th></tr></thead>\n",
       "<tbody>\n",
       "\t<tr><th scope=row>factor(funding_indicator)1</th><td> 0.65119</td><td>0.00006 </td></tr>\n",
       "\t<tr><th scope=row>s_Average.Precol.GPA</th><td> 0.17695</td><td>0.02501 </td></tr>\n",
       "\t<tr><th scope=row>s_start_year</th><td>-0.47224</td><td>0.00000 </td></tr>\n",
       "</tbody>\n",
       "</table>\n"
      ],
      "text/latex": [
       "\\begin{tabular}{r|ll}\n",
       "  & Estimate & Pr(>\\textbar{}z\\textbar{})\\\\\n",
       "\\hline\n",
       "\tfactor(funding\\_indicator)1 &  0.65119 & 0.00006 \\\\\n",
       "\ts\\_Average.Precol.GPA &  0.17695 & 0.02501 \\\\\n",
       "\ts\\_start\\_year & -0.47224 & 0.00000 \\\\\n",
       "\\end{tabular}\n"
      ],
      "text/markdown": [
       "\n",
       "| <!--/--> | Estimate | Pr(>|z|) |\n",
       "|---|---|---|\n",
       "| factor(funding_indicator)1 |  0.65119 | 0.00006  |\n",
       "| s_Average.Precol.GPA |  0.17695 | 0.02501  |\n",
       "| s_start_year | -0.47224 | 0.00000  |\n",
       "\n"
      ],
      "text/plain": [
       "                           Estimate Pr(>|z|)\n",
       "factor(funding_indicator)1  0.65119 0.00006 \n",
       "s_Average.Precol.GPA        0.17695 0.02501 \n",
       "s_start_year               -0.47224 0.00000 "
      ]
     },
     "metadata": {},
     "output_type": "display_data"
    }
   ],
   "source": [
    "round(summary(log_mod_h_a_aic)$coeff[which(summary(log_mod_h_a_aic)$coef[,4] <= .05),c(1,4)],5)"
   ]
  },
  {
   "cell_type": "markdown",
   "metadata": {},
   "source": [
    "<b> Both BIC"
   ]
  },
  {
   "cell_type": "code",
   "execution_count": 32,
   "metadata": {
    "scrolled": false
   },
   "outputs": [
    {
     "name": "stdout",
     "output_type": "stream",
     "text": [
      "Start:  AIC=1311.64\n",
      "Y ~ s_start_age + factor(Gender) + factor(funding_indicator) + \n",
      "    factor(Citizenship) + avs_net_cost + s_Average.Precol.GPA + \n",
      "    s_GRE.Combined.General.Write.Score + s_GRE.Combined.Quantitative.Score + \n",
      "    s_GRE.Combined.General.Verbal.Score + factor(gap_indicator) + \n",
      "    GPA_trend + s_start_year\n",
      "\n",
      "                                      Df Deviance    AIC\n",
      "- factor(Citizenship)                 10   1173.6 1255.5\n",
      "- avs_net_cost                         1   1161.6 1304.8\n",
      "- factor(Gender)                       1   1161.6 1304.9\n",
      "- s_GRE.Combined.Quantitative.Score    1   1162.0 1305.3\n",
      "- s_GRE.Combined.General.Write.Score   1   1162.2 1305.4\n",
      "- factor(gap_indicator)                1   1162.3 1305.6\n",
      "- GPA_trend                            1   1163.6 1306.9\n",
      "- s_start_age                          1   1163.8 1307.1\n",
      "- s_GRE.Combined.General.Verbal.Score  1   1164.4 1307.7\n",
      "- s_Average.Precol.GPA                 1   1167.4 1310.7\n",
      "<none>                                     1161.5 1311.6\n",
      "- factor(funding_indicator)            1   1179.1 1322.4\n",
      "- s_start_year                         1   1200.5 1343.7\n",
      "\n",
      "Step:  AIC=1255.47\n",
      "Y ~ s_start_age + factor(Gender) + factor(funding_indicator) + \n",
      "    avs_net_cost + s_Average.Precol.GPA + s_GRE.Combined.General.Write.Score + \n",
      "    s_GRE.Combined.Quantitative.Score + s_GRE.Combined.General.Verbal.Score + \n",
      "    factor(gap_indicator) + GPA_trend + s_start_year\n",
      "\n",
      "                                      Df Deviance    AIC\n",
      "- factor(Gender)                       1   1173.6 1248.7\n",
      "- avs_net_cost                         1   1173.6 1248.7\n",
      "- factor(gap_indicator)                1   1174.4 1249.5\n",
      "- s_GRE.Combined.Quantitative.Score    1   1174.5 1249.6\n",
      "- s_start_age                          1   1174.7 1249.8\n",
      "- GPA_trend                            1   1175.2 1250.2\n",
      "- s_GRE.Combined.General.Write.Score   1   1175.7 1250.8\n",
      "- s_GRE.Combined.General.Verbal.Score  1   1177.4 1252.4\n",
      "- s_Average.Precol.GPA                 1   1179.2 1254.2\n",
      "<none>                                     1173.6 1255.5\n",
      "- factor(funding_indicator)            1   1191.8 1266.8\n",
      "- s_start_year                         1   1208.7 1283.7\n",
      "+ factor(Citizenship)                 10   1161.5 1311.6\n",
      "\n",
      "Step:  AIC=1248.66\n",
      "Y ~ s_start_age + factor(funding_indicator) + avs_net_cost + \n",
      "    s_Average.Precol.GPA + s_GRE.Combined.General.Write.Score + \n",
      "    s_GRE.Combined.Quantitative.Score + s_GRE.Combined.General.Verbal.Score + \n",
      "    factor(gap_indicator) + GPA_trend + s_start_year\n",
      "\n",
      "                                      Df Deviance    AIC\n",
      "- avs_net_cost                         1   1173.6 1241.8\n",
      "- factor(gap_indicator)                1   1174.4 1242.6\n",
      "- s_GRE.Combined.Quantitative.Score    1   1174.5 1242.8\n",
      "- s_start_age                          1   1174.7 1243.0\n",
      "- GPA_trend                            1   1175.2 1243.4\n",
      "- s_GRE.Combined.General.Write.Score   1   1175.7 1244.0\n",
      "- s_GRE.Combined.General.Verbal.Score  1   1177.4 1245.6\n",
      "- s_Average.Precol.GPA                 1   1179.2 1247.4\n",
      "<none>                                     1173.6 1248.7\n",
      "+ factor(Gender)                       1   1173.6 1255.5\n",
      "- factor(funding_indicator)            1   1191.9 1260.1\n",
      "- s_start_year                         1   1208.7 1276.9\n",
      "+ factor(Citizenship)                 10   1161.6 1304.9\n",
      "\n",
      "Step:  AIC=1241.85\n",
      "Y ~ s_start_age + factor(funding_indicator) + s_Average.Precol.GPA + \n",
      "    s_GRE.Combined.General.Write.Score + s_GRE.Combined.Quantitative.Score + \n",
      "    s_GRE.Combined.General.Verbal.Score + factor(gap_indicator) + \n",
      "    GPA_trend + s_start_year\n",
      "\n",
      "                                      Df Deviance    AIC\n",
      "- factor(gap_indicator)                1   1174.5 1235.8\n",
      "- s_GRE.Combined.Quantitative.Score    1   1174.5 1235.9\n",
      "- s_start_age                          1   1174.7 1236.1\n",
      "- GPA_trend                            1   1175.2 1236.6\n",
      "- s_GRE.Combined.General.Write.Score   1   1175.7 1237.1\n",
      "- s_GRE.Combined.General.Verbal.Score  1   1177.4 1238.8\n",
      "- s_Average.Precol.GPA                 1   1179.2 1240.7\n",
      "<none>                                     1173.6 1241.8\n",
      "+ avs_net_cost                         1   1173.6 1248.7\n",
      "+ factor(Gender)                       1   1173.6 1248.7\n",
      "- factor(funding_indicator)            1   1192.0 1253.4\n",
      "- s_start_year                         1   1209.4 1270.8\n",
      "+ factor(Citizenship)                 10   1161.6 1298.0\n",
      "\n",
      "Step:  AIC=1235.85\n",
      "Y ~ s_start_age + factor(funding_indicator) + s_Average.Precol.GPA + \n",
      "    s_GRE.Combined.General.Write.Score + s_GRE.Combined.Quantitative.Score + \n",
      "    s_GRE.Combined.General.Verbal.Score + GPA_trend + s_start_year\n",
      "\n",
      "                                      Df Deviance    AIC\n",
      "- s_GRE.Combined.Quantitative.Score    1   1175.4 1230.0\n",
      "- s_start_age                          1   1175.5 1230.1\n",
      "- GPA_trend                            1   1176.0 1230.6\n",
      "- s_GRE.Combined.General.Write.Score   1   1176.6 1231.2\n",
      "- s_GRE.Combined.General.Verbal.Score  1   1178.2 1232.8\n",
      "- s_Average.Precol.GPA                 1   1180.2 1234.8\n",
      "<none>                                     1174.5 1235.8\n",
      "+ factor(gap_indicator)                1   1173.6 1241.8\n",
      "+ avs_net_cost                         1   1174.4 1242.6\n",
      "+ factor(Gender)                       1   1174.5 1242.7\n",
      "- factor(funding_indicator)            1   1192.5 1247.1\n",
      "- s_start_year                         1   1213.6 1268.2\n",
      "+ factor(Citizenship)                 10   1162.4 1292.0\n",
      "\n",
      "Step:  AIC=1229.97\n",
      "Y ~ s_start_age + factor(funding_indicator) + s_Average.Precol.GPA + \n",
      "    s_GRE.Combined.General.Write.Score + s_GRE.Combined.General.Verbal.Score + \n",
      "    GPA_trend + s_start_year\n",
      "\n",
      "                                      Df Deviance    AIC\n",
      "- s_start_age                          1   1176.5 1224.3\n",
      "- GPA_trend                            1   1177.0 1224.8\n",
      "- s_GRE.Combined.General.Write.Score   1   1178.6 1226.3\n",
      "- s_GRE.Combined.General.Verbal.Score  1   1179.5 1227.2\n",
      "- s_Average.Precol.GPA                 1   1181.3 1229.1\n",
      "<none>                                     1175.4 1230.0\n",
      "+ s_GRE.Combined.Quantitative.Score    1   1174.5 1235.8\n",
      "+ factor(gap_indicator)                1   1174.5 1235.9\n",
      "+ avs_net_cost                         1   1175.4 1236.8\n",
      "+ factor(Gender)                       1   1175.4 1236.8\n",
      "- factor(funding_indicator)            1   1193.1 1240.8\n",
      "- s_start_year                         1   1223.0 1270.7\n",
      "+ factor(Citizenship)                 10   1162.8 1285.6\n",
      "\n",
      "Step:  AIC=1224.28\n",
      "Y ~ factor(funding_indicator) + s_Average.Precol.GPA + s_GRE.Combined.General.Write.Score + \n",
      "    s_GRE.Combined.General.Verbal.Score + GPA_trend + s_start_year\n",
      "\n",
      "                                      Df Deviance    AIC\n",
      "- GPA_trend                            1   1178.1 1219.0\n",
      "- s_GRE.Combined.General.Write.Score   1   1180.3 1221.2\n",
      "- s_GRE.Combined.General.Verbal.Score  1   1180.4 1221.4\n",
      "- s_Average.Precol.GPA                 1   1182.2 1223.2\n",
      "<none>                                     1176.5 1224.3\n",
      "+ s_start_age                          1   1175.4 1230.0\n",
      "+ s_GRE.Combined.Quantitative.Score    1   1175.5 1230.1\n",
      "+ factor(gap_indicator)                1   1175.7 1230.3\n",
      "+ avs_net_cost                         1   1176.5 1231.1\n",
      "+ factor(Gender)                       1   1176.5 1231.1\n",
      "- factor(funding_indicator)            1   1193.1 1234.0\n",
      "- s_start_year                         1   1223.0 1263.9\n",
      "+ factor(Citizenship)                 10   1165.2 1281.1\n",
      "\n",
      "Step:  AIC=1219.04\n",
      "Y ~ factor(funding_indicator) + s_Average.Precol.GPA + s_GRE.Combined.General.Write.Score + \n",
      "    s_GRE.Combined.General.Verbal.Score + s_start_year\n",
      "\n",
      "                                      Df Deviance    AIC\n",
      "- s_GRE.Combined.General.Write.Score   1   1181.7 1215.8\n",
      "- s_GRE.Combined.General.Verbal.Score  1   1182.5 1216.6\n",
      "- s_Average.Precol.GPA                 1   1183.7 1217.8\n",
      "<none>                                     1178.1 1219.0\n",
      "+ GPA_trend                            1   1176.5 1224.3\n",
      "+ s_start_age                          1   1177.0 1224.8\n",
      "+ s_GRE.Combined.Quantitative.Score    1   1177.1 1224.8\n",
      "+ factor(gap_indicator)                1   1177.3 1225.0\n",
      "+ avs_net_cost                         1   1178.1 1225.8\n",
      "+ factor(Gender)                       1   1178.1 1225.9\n",
      "- factor(funding_indicator)            1   1194.6 1228.7\n",
      "- s_start_year                         1   1225.2 1259.3\n",
      "+ factor(Citizenship)                 10   1167.2 1276.4\n"
     ]
    },
    {
     "name": "stdout",
     "output_type": "stream",
     "text": [
      "\n",
      "Step:  AIC=1215.78\n",
      "Y ~ factor(funding_indicator) + s_Average.Precol.GPA + s_GRE.Combined.General.Verbal.Score + \n",
      "    s_start_year\n",
      "\n",
      "                                      Df Deviance    AIC\n",
      "- s_Average.Precol.GPA                 1   1186.0 1213.3\n",
      "<none>                                     1181.7 1215.8\n",
      "- s_GRE.Combined.General.Verbal.Score  1   1190.9 1218.2\n",
      "+ s_GRE.Combined.General.Write.Score   1   1178.1 1219.0\n",
      "+ s_GRE.Combined.Quantitative.Score    1   1179.4 1220.3\n",
      "+ s_start_age                          1   1180.0 1221.0\n",
      "+ GPA_trend                            1   1180.3 1221.2\n",
      "+ factor(gap_indicator)                1   1180.8 1221.7\n",
      "+ avs_net_cost                         1   1181.7 1222.6\n",
      "+ factor(Gender)                       1   1181.7 1222.6\n",
      "- factor(funding_indicator)            1   1197.1 1224.4\n",
      "- s_start_year                         1   1231.0 1258.3\n",
      "+ factor(Citizenship)                 10   1168.5 1270.8\n",
      "\n",
      "Step:  AIC=1213.29\n",
      "Y ~ factor(funding_indicator) + s_GRE.Combined.General.Verbal.Score + \n",
      "    s_start_year\n",
      "\n",
      "                                      Df Deviance    AIC\n",
      "<none>                                     1186.0 1213.3\n",
      "- s_GRE.Combined.General.Verbal.Score  1   1194.0 1214.5\n",
      "+ s_Average.Precol.GPA                 1   1181.7 1215.8\n",
      "+ s_GRE.Combined.General.Write.Score   1   1183.7 1217.8\n",
      "+ s_GRE.Combined.Quantitative.Score    1   1183.8 1217.9\n",
      "+ s_start_age                          1   1184.7 1218.8\n",
      "+ GPA_trend                            1   1184.7 1218.8\n",
      "+ factor(gap_indicator)                1   1185.0 1219.1\n",
      "+ avs_net_cost                         1   1186.0 1220.1\n",
      "+ factor(Gender)                       1   1186.0 1220.1\n",
      "- factor(funding_indicator)            1   1202.3 1222.8\n",
      "- s_start_year                         1   1235.5 1256.0\n",
      "+ factor(Citizenship)                 10   1173.5 1269.0\n"
     ]
    }
   ],
   "source": [
    "log_mod_h_a_bic = stepAIC(log_mod_h_a, direction = \"both\", k = log(b_n))"
   ]
  },
  {
   "cell_type": "markdown",
   "metadata": {},
   "source": [
    "<b> Significant variables both BIC selects:"
   ]
  },
  {
   "cell_type": "code",
   "execution_count": 33,
   "metadata": {},
   "outputs": [
    {
     "data": {
      "text/html": [
       "<table>\n",
       "<thead><tr><th></th><th scope=col>Estimate</th><th scope=col>Pr(&gt;|z|)</th></tr></thead>\n",
       "<tbody>\n",
       "\t<tr><th scope=row>factor(funding_indicator)1</th><td> 0.64293</td><td>0.00006 </td></tr>\n",
       "\t<tr><th scope=row>s_GRE.Combined.General.Verbal.Score</th><td>-0.54242</td><td>0.03417 </td></tr>\n",
       "\t<tr><th scope=row>s_start_year</th><td>-0.48063</td><td>0.00000 </td></tr>\n",
       "</tbody>\n",
       "</table>\n"
      ],
      "text/latex": [
       "\\begin{tabular}{r|ll}\n",
       "  & Estimate & Pr(>\\textbar{}z\\textbar{})\\\\\n",
       "\\hline\n",
       "\tfactor(funding\\_indicator)1 &  0.64293 & 0.00006 \\\\\n",
       "\ts\\_GRE.Combined.General.Verbal.Score & -0.54242 & 0.03417 \\\\\n",
       "\ts\\_start\\_year & -0.48063 & 0.00000 \\\\\n",
       "\\end{tabular}\n"
      ],
      "text/markdown": [
       "\n",
       "| <!--/--> | Estimate | Pr(>|z|) |\n",
       "|---|---|---|\n",
       "| factor(funding_indicator)1 |  0.64293 | 0.00006  |\n",
       "| s_GRE.Combined.General.Verbal.Score | -0.54242 | 0.03417  |\n",
       "| s_start_year | -0.48063 | 0.00000  |\n",
       "\n"
      ],
      "text/plain": [
       "                                    Estimate Pr(>|z|)\n",
       "factor(funding_indicator)1           0.64293 0.00006 \n",
       "s_GRE.Combined.General.Verbal.Score -0.54242 0.03417 \n",
       "s_start_year                        -0.48063 0.00000 "
      ]
     },
     "metadata": {},
     "output_type": "display_data"
    }
   ],
   "source": [
    "round(summary(log_mod_h_a_bic)$coeff[which(summary(log_mod_h_a_bic)$coef[,4] <= .05),c(1,4)],5)"
   ]
  },
  {
   "cell_type": "markdown",
   "metadata": {},
   "source": [
    "# Management Analysis"
   ]
  },
  {
   "cell_type": "markdown",
   "metadata": {},
   "source": [
    "<b> Logistic regression model:"
   ]
  },
  {
   "cell_type": "code",
   "execution_count": 154,
   "metadata": {},
   "outputs": [
    {
     "data": {
      "text/plain": [
       "\n",
       "Call:\n",
       "glm(formula = Y ~ s_start_age + factor(Gender) + factor(Citizenship) + \n",
       "    s_GMAT.Score + avs_net_cost + s_Average.Precol.GPA + s_GRE.Combined.General.Write.Score + \n",
       "    s_GRE.Combined.Quantitative.Score + s_GRE.Combined.General.Verbal.Score + \n",
       "    factor(gap_indicator) + GPA_trend + s_start_year, family = \"binomial\", \n",
       "    data = Management_df)\n",
       "\n",
       "Deviance Residuals: \n",
       "    Min       1Q   Median       3Q      Max  \n",
       "-2.1745  -0.4835   0.3336   0.7903   1.4576  \n",
       "\n",
       "Coefficients:\n",
       "                                        Estimate Std. Error z value Pr(>|z|)\n",
       "(Intercept)                              1.64214    1.27631   1.287    0.198\n",
       "s_start_age                              0.51754    0.77735   0.666    0.506\n",
       "factor(Gender)Male                      -1.39985    0.88531  -1.581    0.114\n",
       "factor(Citizenship)Asia                  0.67052    1.19547   0.561    0.575\n",
       "factor(Citizenship)Asian                 1.22060    1.79593   0.680    0.497\n",
       "factor(Citizenship)China                 0.45678    1.51601   0.301    0.763\n",
       "factor(Citizenship)Europe               17.01401 3956.18053   0.004    0.997\n",
       "factor(Citizenship)Hispanic or Latino    2.76532 4419.94714   0.001    1.000\n",
       "factor(Citizenship)India                 0.35073    1.35174   0.259    0.795\n",
       "factor(Citizenship)Unknown               0.84448    1.61169   0.524    0.600\n",
       "s_GMAT.Score                             0.05016    0.06943   0.723    0.470\n",
       "avs_net_cost                             2.03421    1.67638   1.213    0.225\n",
       "s_Average.Precol.GPA                     0.63232    0.52202   1.211    0.226\n",
       "s_GRE.Combined.General.Write.Score       1.79426    1.29686   1.384    0.166\n",
       "s_GRE.Combined.Quantitative.Score        9.13753    5.92143   1.543    0.123\n",
       "s_GRE.Combined.General.Verbal.Score     -1.68734    2.52761  -0.668    0.504\n",
       "factor(gap_indicator)1                  17.06505 1970.93061   0.009    0.993\n",
       "GPA_trend                                2.16046    2.22507   0.971    0.332\n",
       "s_start_year                            -0.14112    0.70890  -0.199    0.842\n",
       "\n",
       "(Dispersion parameter for binomial family taken to be 1)\n",
       "\n",
       "    Null deviance: 74.726  on 57  degrees of freedom\n",
       "Residual deviance: 51.148  on 39  degrees of freedom\n",
       "AIC: 89.148\n",
       "\n",
       "Number of Fisher Scoring iterations: 16\n"
      ]
     },
     "metadata": {},
     "output_type": "display_data"
    }
   ],
   "source": [
    "log_mod_m = glm(Y~s_start_age+factor(Gender)+factor(Citizenship)+s_GMAT.Score\n",
    "                avs_net_cost+s_Average.Precol.GPA+s_GRE.Combined.General.Write.Score+s_GRE.Combined.Quantitative.Score+s_GRE.Combined.General.Verbal.Score+factor(gap_indicator)+GPA_trend+s_start_year,\n",
    "                data=Management_df,family=\"binomial\")\n",
    "summary(log_mod_m)"
   ]
  },
  {
   "cell_type": "markdown",
   "metadata": {},
   "source": [
    "<b> Significant Variables of logistic regression model: "
   ]
  },
  {
   "cell_type": "code",
   "execution_count": 155,
   "metadata": {},
   "outputs": [
    {
     "data": {
      "text/html": [
       "<table>\n",
       "<thead><tr><th scope=col>Estimate</th><th scope=col>Pr(&gt;|z|)</th></tr></thead>\n",
       "<tbody>\n",
       "</tbody>\n",
       "</table>\n"
      ],
      "text/latex": [
       "\\begin{tabular}{ll}\n",
       " Estimate & Pr(>\\textbar{}z\\textbar{})\\\\\n",
       "\\hline\n",
       "\\end{tabular}\n"
      ],
      "text/markdown": [
       "\n",
       "| Estimate | Pr(>|z|) |\n",
       "|---|---|\n",
       "\n"
      ],
      "text/plain": [
       "     Estimate Pr(>|z|)"
      ]
     },
     "metadata": {},
     "output_type": "display_data"
    }
   ],
   "source": [
    "round(summary(log_mod_m)$coeff[which(summary(log_mod_m)$coef[,4] <= .05),c(1,4)],5)"
   ]
  },
  {
   "cell_type": "markdown",
   "metadata": {},
   "source": [
    "<b> Both AIC:"
   ]
  },
  {
   "cell_type": "code",
   "execution_count": 156,
   "metadata": {
    "scrolled": false
   },
   "outputs": [
    {
     "name": "stdout",
     "output_type": "stream",
     "text": [
      "Start:  AIC=89.15\n",
      "Y ~ s_start_age + factor(Gender) + factor(Citizenship) + s_GMAT.Score + \n",
      "    avs_net_cost + s_Average.Precol.GPA + s_GRE.Combined.General.Write.Score + \n",
      "    s_GRE.Combined.Quantitative.Score + s_GRE.Combined.General.Verbal.Score + \n",
      "    factor(gap_indicator) + GPA_trend + s_start_year\n",
      "\n",
      "                                      Df Deviance    AIC\n",
      "- factor(Citizenship)                  7   52.404 76.404\n",
      "- s_start_year                         1   51.188 87.188\n",
      "- s_GRE.Combined.General.Verbal.Score  1   51.588 87.588\n",
      "- s_start_age                          1   51.601 87.601\n",
      "- s_GMAT.Score                         1   51.673 87.673\n",
      "- GPA_trend                            1   52.201 88.201\n",
      "- s_Average.Precol.GPA                 1   52.674 88.674\n",
      "- avs_net_cost                         1   52.896 88.896\n",
      "<none>                                     51.148 89.148\n",
      "- factor(gap_indicator)                1   53.758 89.758\n",
      "- factor(Gender)                       1   53.861 89.861\n",
      "- s_GRE.Combined.Quantitative.Score    1   54.670 90.670\n",
      "- s_GRE.Combined.General.Write.Score   1   54.847 90.847\n",
      "\n",
      "Step:  AIC=76.4\n",
      "Y ~ s_start_age + factor(Gender) + s_GMAT.Score + avs_net_cost + \n",
      "    s_Average.Precol.GPA + s_GRE.Combined.General.Write.Score + \n",
      "    s_GRE.Combined.Quantitative.Score + s_GRE.Combined.General.Verbal.Score + \n",
      "    factor(gap_indicator) + GPA_trend + s_start_year\n",
      "\n",
      "                                      Df Deviance    AIC\n",
      "- s_start_year                         1   52.620 74.620\n",
      "- s_GRE.Combined.General.Verbal.Score  1   52.741 74.741\n",
      "- s_start_age                          1   52.838 74.838\n",
      "- s_GMAT.Score                         1   53.322 75.322\n",
      "- avs_net_cost                         1   53.837 75.837\n",
      "- s_Average.Precol.GPA                 1   53.962 75.962\n",
      "- GPA_trend                            1   54.044 76.044\n",
      "<none>                                     52.404 76.404\n",
      "- factor(Gender)                       1   55.221 77.221\n",
      "- s_GRE.Combined.General.Write.Score   1   56.367 78.367\n",
      "- s_GRE.Combined.Quantitative.Score    1   56.604 78.604\n",
      "- factor(gap_indicator)                1   57.335 79.335\n",
      "+ factor(Citizenship)                  7   51.148 89.148\n",
      "\n",
      "Step:  AIC=74.62\n",
      "Y ~ s_start_age + factor(Gender) + s_GMAT.Score + avs_net_cost + \n",
      "    s_Average.Precol.GPA + s_GRE.Combined.General.Write.Score + \n",
      "    s_GRE.Combined.Quantitative.Score + s_GRE.Combined.General.Verbal.Score + \n",
      "    factor(gap_indicator) + GPA_trend\n",
      "\n",
      "                                      Df Deviance    AIC\n",
      "- s_GRE.Combined.General.Verbal.Score  1   53.014 73.014\n",
      "- s_start_age                          1   53.066 73.066\n",
      "- s_GMAT.Score                         1   53.364 73.364\n",
      "- s_Average.Precol.GPA                 1   54.182 74.182\n",
      "<none>                                     52.620 74.620\n",
      "- avs_net_cost                         1   54.665 74.665\n",
      "- GPA_trend                            1   54.812 74.812\n",
      "- factor(Gender)                       1   55.439 75.439\n",
      "+ s_start_year                         1   52.404 76.404\n",
      "- s_GRE.Combined.Quantitative.Score    1   56.794 76.794\n",
      "- s_GRE.Combined.General.Write.Score   1   57.121 77.121\n",
      "- factor(gap_indicator)                1   57.816 77.816\n",
      "+ factor(Citizenship)                  7   51.188 87.188\n",
      "\n",
      "Step:  AIC=73.01\n",
      "Y ~ s_start_age + factor(Gender) + s_GMAT.Score + avs_net_cost + \n",
      "    s_Average.Precol.GPA + s_GRE.Combined.General.Write.Score + \n",
      "    s_GRE.Combined.Quantitative.Score + factor(gap_indicator) + \n",
      "    GPA_trend\n",
      "\n",
      "                                      Df Deviance    AIC\n",
      "- s_start_age                          1   53.313 71.313\n",
      "- s_GMAT.Score                         1   53.623 71.623\n",
      "- s_Average.Precol.GPA                 1   54.425 72.425\n",
      "<none>                                     53.014 73.014\n",
      "- GPA_trend                            1   55.017 73.017\n",
      "- avs_net_cost                         1   55.020 73.020\n",
      "- factor(Gender)                       1   55.469 73.469\n",
      "+ s_GRE.Combined.General.Verbal.Score  1   52.620 74.620\n",
      "+ s_start_year                         1   52.741 74.741\n",
      "- s_GRE.Combined.Quantitative.Score    1   57.006 75.006\n",
      "- factor(gap_indicator)                1   57.901 75.901\n",
      "- s_GRE.Combined.General.Write.Score   1   59.158 77.158\n",
      "+ factor(Citizenship)                  7   51.663 85.663\n",
      "\n",
      "Step:  AIC=71.31\n",
      "Y ~ factor(Gender) + s_GMAT.Score + avs_net_cost + s_Average.Precol.GPA + \n",
      "    s_GRE.Combined.General.Write.Score + s_GRE.Combined.Quantitative.Score + \n",
      "    factor(gap_indicator) + GPA_trend\n",
      "\n",
      "                                      Df Deviance    AIC\n",
      "- s_GMAT.Score                         1   53.792 69.792\n",
      "- s_Average.Precol.GPA                 1   54.562 70.562\n",
      "- GPA_trend                            1   55.191 71.191\n",
      "<none>                                     53.313 71.313\n",
      "- factor(Gender)                       1   55.594 71.594\n",
      "- avs_net_cost                         1   55.794 71.794\n",
      "+ s_start_age                          1   53.014 73.014\n",
      "+ s_start_year                         1   53.043 73.043\n",
      "- s_GRE.Combined.Quantitative.Score    1   57.049 73.049\n",
      "+ s_GRE.Combined.General.Verbal.Score  1   53.066 73.066\n",
      "- factor(gap_indicator)                1   57.952 73.952\n",
      "- s_GRE.Combined.General.Write.Score   1   59.314 75.314\n",
      "+ factor(Citizenship)                  7   52.090 84.090\n",
      "\n",
      "Step:  AIC=69.79\n",
      "Y ~ factor(Gender) + avs_net_cost + s_Average.Precol.GPA + s_GRE.Combined.General.Write.Score + \n",
      "    s_GRE.Combined.Quantitative.Score + factor(gap_indicator) + \n",
      "    GPA_trend\n",
      "\n",
      "                                      Df Deviance    AIC\n",
      "- s_Average.Precol.GPA                 1   55.054 69.054\n",
      "- GPA_trend                            1   55.334 69.334\n",
      "- factor(Gender)                       1   55.633 69.633\n",
      "<none>                                     53.792 69.792\n",
      "- avs_net_cost                         1   56.386 70.386\n",
      "+ s_GMAT.Score                         1   53.313 71.313\n",
      "- s_GRE.Combined.Quantitative.Score    1   57.402 71.402\n",
      "+ s_GRE.Combined.General.Verbal.Score  1   53.617 71.617\n",
      "+ s_start_age                          1   53.623 71.623\n",
      "+ s_start_year                         1   53.708 71.708\n",
      "- factor(gap_indicator)                1   57.954 71.954\n",
      "- s_GRE.Combined.General.Write.Score   1   59.806 73.806\n",
      "+ factor(Citizenship)                  7   52.410 82.410\n",
      "\n",
      "Step:  AIC=69.05\n",
      "Y ~ factor(Gender) + avs_net_cost + s_GRE.Combined.General.Write.Score + \n",
      "    s_GRE.Combined.Quantitative.Score + factor(gap_indicator) + \n",
      "    GPA_trend\n",
      "\n",
      "                                      Df Deviance    AIC\n",
      "- factor(Gender)                       1   56.887 68.887\n",
      "<none>                                     55.054 69.054\n",
      "- avs_net_cost                         1   57.102 69.102\n",
      "+ s_Average.Precol.GPA                 1   53.792 69.792\n",
      "- s_GRE.Combined.Quantitative.Score    1   58.253 70.253\n",
      "- GPA_trend                            1   58.404 70.404\n",
      "+ s_GMAT.Score                         1   54.562 70.562\n",
      "+ s_GRE.Combined.General.Verbal.Score  1   54.935 70.935\n",
      "+ s_start_year                         1   54.986 70.986\n",
      "+ s_start_age                          1   54.995 70.995\n",
      "- factor(gap_indicator)                1   59.434 71.434\n",
      "- s_GRE.Combined.General.Write.Score   1   60.915 72.915\n",
      "+ factor(Citizenship)                  7   53.462 81.462\n",
      "\n",
      "Step:  AIC=68.89\n",
      "Y ~ avs_net_cost + s_GRE.Combined.General.Write.Score + s_GRE.Combined.Quantitative.Score + \n",
      "    factor(gap_indicator) + GPA_trend\n",
      "\n",
      "                                      Df Deviance    AIC\n",
      "- avs_net_cost                         1   58.518 68.518\n",
      "<none>                                     56.887 68.887\n",
      "+ factor(Gender)                       1   55.054 69.054\n",
      "- s_GRE.Combined.Quantitative.Score    1   59.547 69.547\n",
      "+ s_Average.Precol.GPA                 1   55.633 69.633\n",
      "- factor(gap_indicator)                1   60.259 70.259\n",
      "+ s_start_year                         1   56.764 70.764\n",
      "+ s_GMAT.Score                         1   56.826 70.826\n",
      "+ s_start_age                          1   56.860 70.860\n",
      "+ s_GRE.Combined.General.Verbal.Score  1   56.887 70.887\n",
      "- GPA_trend                            1   61.283 71.283\n",
      "- s_GRE.Combined.General.Write.Score   1   63.731 73.731\n",
      "+ factor(Citizenship)                  7   55.318 81.318\n",
      "\n",
      "Step:  AIC=68.52\n",
      "Y ~ s_GRE.Combined.General.Write.Score + s_GRE.Combined.Quantitative.Score + \n",
      "    factor(gap_indicator) + GPA_trend\n",
      "\n"
     ]
    },
    {
     "name": "stdout",
     "output_type": "stream",
     "text": [
      "                                      Df Deviance    AIC\n",
      "<none>                                     58.518 68.518\n",
      "+ avs_net_cost                         1   56.887 68.887\n",
      "+ factor(Gender)                       1   57.102 69.102\n",
      "- s_GRE.Combined.Quantitative.Score    1   61.508 69.508\n",
      "+ s_Average.Precol.GPA                 1   57.857 69.857\n",
      "+ s_start_year                         1   57.930 69.930\n",
      "- factor(gap_indicator)                1   62.051 70.051\n",
      "- GPA_trend                            1   62.239 70.239\n",
      "+ s_start_age                          1   58.259 70.259\n",
      "+ s_GMAT.Score                         1   58.394 70.394\n",
      "+ s_GRE.Combined.General.Verbal.Score  1   58.517 70.517\n",
      "- s_GRE.Combined.General.Write.Score   1   66.143 74.143\n",
      "+ factor(Citizenship)                  7   57.034 81.034\n"
     ]
    }
   ],
   "source": [
    "log_mod_m_aic= stepAIC(log_mod_m, direction = 'both')"
   ]
  },
  {
   "cell_type": "markdown",
   "metadata": {},
   "source": [
    "<b> Significant variables both AIC selects:"
   ]
  },
  {
   "cell_type": "code",
   "execution_count": 157,
   "metadata": {},
   "outputs": [
    {
     "data": {
      "text/plain": [
       "\n",
       "Call:\n",
       "glm(formula = Y ~ s_GRE.Combined.General.Write.Score + s_GRE.Combined.Quantitative.Score + \n",
       "    factor(gap_indicator) + GPA_trend, family = \"binomial\", data = Management_df)\n",
       "\n",
       "Deviance Residuals: \n",
       "    Min       1Q   Median       3Q      Max  \n",
       "-2.1061  -0.5955   0.7423   0.8650   1.0392  \n",
       "\n",
       "Coefficients:\n",
       "                                    Estimate Std. Error z value Pr(>|z|)  \n",
       "(Intercept)                           0.7832     0.3351   2.337   0.0194 *\n",
       "s_GRE.Combined.General.Write.Score    2.2017     1.1743   1.875   0.0608 .\n",
       "s_GRE.Combined.Quantitative.Score     6.4343     4.5623   1.410   0.1584  \n",
       "factor(gap_indicator)1               16.8160  1765.0790   0.010   0.9924  \n",
       "GPA_trend                             2.8072     1.6378   1.714   0.0865 .\n",
       "---\n",
       "Signif. codes:  0 '***' 0.001 '**' 0.01 '*' 0.05 '.' 0.1 ' ' 1\n",
       "\n",
       "(Dispersion parameter for binomial family taken to be 1)\n",
       "\n",
       "    Null deviance: 74.726  on 57  degrees of freedom\n",
       "Residual deviance: 58.518  on 53  degrees of freedom\n",
       "AIC: 68.518\n",
       "\n",
       "Number of Fisher Scoring iterations: 16\n"
      ]
     },
     "metadata": {},
     "output_type": "display_data"
    }
   ],
   "source": [
    "summary(log_mod_m_aic)"
   ]
  },
  {
   "cell_type": "markdown",
   "metadata": {},
   "source": [
    "<b> Both BIC:"
   ]
  },
  {
   "cell_type": "code",
   "execution_count": 158,
   "metadata": {
    "scrolled": false
   },
   "outputs": [
    {
     "name": "stdout",
     "output_type": "stream",
     "text": [
      "Start:  AIC=128.3\n",
      "Y ~ s_start_age + factor(Gender) + factor(Citizenship) + s_GMAT.Score + \n",
      "    avs_net_cost + s_Average.Precol.GPA + s_GRE.Combined.General.Write.Score + \n",
      "    s_GRE.Combined.Quantitative.Score + s_GRE.Combined.General.Verbal.Score + \n",
      "    factor(gap_indicator) + GPA_trend + s_start_year\n",
      "\n",
      "                                      Df Deviance    AIC\n",
      "- factor(Citizenship)                  7   52.404 101.13\n",
      "- s_start_year                         1   51.188 124.28\n",
      "- s_GRE.Combined.General.Verbal.Score  1   51.588 124.68\n",
      "- s_start_age                          1   51.601 124.69\n",
      "- s_GMAT.Score                         1   51.673 124.76\n",
      "- GPA_trend                            1   52.201 125.29\n",
      "- s_Average.Precol.GPA                 1   52.674 125.76\n",
      "- avs_net_cost                         1   52.896 125.98\n",
      "- factor(gap_indicator)                1   53.758 126.85\n",
      "- factor(Gender)                       1   53.861 126.95\n",
      "- s_GRE.Combined.Quantitative.Score    1   54.670 127.76\n",
      "- s_GRE.Combined.General.Write.Score   1   54.847 127.94\n",
      "<none>                                     51.148 128.30\n",
      "\n",
      "Step:  AIC=101.13\n",
      "Y ~ s_start_age + factor(Gender) + s_GMAT.Score + avs_net_cost + \n",
      "    s_Average.Precol.GPA + s_GRE.Combined.General.Write.Score + \n",
      "    s_GRE.Combined.Quantitative.Score + s_GRE.Combined.General.Verbal.Score + \n",
      "    factor(gap_indicator) + GPA_trend + s_start_year\n",
      "\n",
      "                                      Df Deviance     AIC\n",
      "- s_start_year                         1   52.620  97.285\n",
      "- s_GRE.Combined.General.Verbal.Score  1   52.741  97.406\n",
      "- s_start_age                          1   52.838  97.503\n",
      "- s_GMAT.Score                         1   53.322  97.987\n",
      "- avs_net_cost                         1   53.837  98.502\n",
      "- s_Average.Precol.GPA                 1   53.962  98.627\n",
      "- GPA_trend                            1   54.044  98.709\n",
      "- factor(Gender)                       1   55.221  99.885\n",
      "- s_GRE.Combined.General.Write.Score   1   56.367 101.032\n",
      "<none>                                     52.404 101.130\n",
      "- s_GRE.Combined.Quantitative.Score    1   56.604 101.269\n",
      "- factor(gap_indicator)                1   57.335 102.000\n",
      "+ factor(Citizenship)                  7   51.148 128.297\n",
      "\n",
      "Step:  AIC=97.29\n",
      "Y ~ s_start_age + factor(Gender) + s_GMAT.Score + avs_net_cost + \n",
      "    s_Average.Precol.GPA + s_GRE.Combined.General.Write.Score + \n",
      "    s_GRE.Combined.Quantitative.Score + s_GRE.Combined.General.Verbal.Score + \n",
      "    factor(gap_indicator) + GPA_trend\n",
      "\n",
      "                                      Df Deviance     AIC\n",
      "- s_GRE.Combined.General.Verbal.Score  1   53.014  93.618\n",
      "- s_start_age                          1   53.066  93.671\n",
      "- s_GMAT.Score                         1   53.364  93.969\n",
      "- s_Average.Precol.GPA                 1   54.182  94.787\n",
      "- avs_net_cost                         1   54.665  95.269\n",
      "- GPA_trend                            1   54.812  95.416\n",
      "- factor(Gender)                       1   55.439  96.043\n",
      "<none>                                     52.620  97.285\n",
      "- s_GRE.Combined.Quantitative.Score    1   56.794  97.399\n",
      "- s_GRE.Combined.General.Write.Score   1   57.121  97.725\n",
      "- factor(gap_indicator)                1   57.816  98.420\n",
      "+ s_start_year                         1   52.404 101.130\n",
      "+ factor(Citizenship)                  7   51.188 124.276\n",
      "\n",
      "Step:  AIC=93.62\n",
      "Y ~ s_start_age + factor(Gender) + s_GMAT.Score + avs_net_cost + \n",
      "    s_Average.Precol.GPA + s_GRE.Combined.General.Write.Score + \n",
      "    s_GRE.Combined.Quantitative.Score + factor(gap_indicator) + \n",
      "    GPA_trend\n",
      "\n",
      "                                      Df Deviance     AIC\n",
      "- s_start_age                          1   53.313  89.857\n",
      "- s_GMAT.Score                         1   53.623  90.167\n",
      "- s_Average.Precol.GPA                 1   54.425  90.969\n",
      "- GPA_trend                            1   55.017  91.561\n",
      "- avs_net_cost                         1   55.020  91.564\n",
      "- factor(Gender)                       1   55.469  92.013\n",
      "- s_GRE.Combined.Quantitative.Score    1   57.006  93.550\n",
      "<none>                                     53.014  93.618\n",
      "- factor(gap_indicator)                1   57.901  94.445\n",
      "- s_GRE.Combined.General.Write.Score   1   59.158  95.702\n",
      "+ s_GRE.Combined.General.Verbal.Score  1   52.620  97.285\n",
      "+ s_start_year                         1   52.741  97.406\n",
      "+ factor(Citizenship)                  7   51.663 120.691\n",
      "\n",
      "Step:  AIC=89.86\n",
      "Y ~ factor(Gender) + s_GMAT.Score + avs_net_cost + s_Average.Precol.GPA + \n",
      "    s_GRE.Combined.General.Write.Score + s_GRE.Combined.Quantitative.Score + \n",
      "    factor(gap_indicator) + GPA_trend\n",
      "\n",
      "                                      Df Deviance     AIC\n",
      "- s_GMAT.Score                         1   53.792  86.276\n",
      "- s_Average.Precol.GPA                 1   54.562  87.045\n",
      "- GPA_trend                            1   55.191  87.675\n",
      "- factor(Gender)                       1   55.594  88.077\n",
      "- avs_net_cost                         1   55.794  88.278\n",
      "- s_GRE.Combined.Quantitative.Score    1   57.049  89.532\n",
      "<none>                                     53.313  89.857\n",
      "- factor(gap_indicator)                1   57.952  90.435\n",
      "- s_GRE.Combined.General.Write.Score   1   59.314  91.798\n",
      "+ s_start_age                          1   53.014  93.618\n",
      "+ s_start_year                         1   53.043  93.647\n",
      "+ s_GRE.Combined.General.Verbal.Score  1   53.066  93.671\n",
      "+ factor(Citizenship)                  7   52.090 117.057\n",
      "\n",
      "Step:  AIC=86.28\n",
      "Y ~ factor(Gender) + avs_net_cost + s_Average.Precol.GPA + s_GRE.Combined.General.Write.Score + \n",
      "    s_GRE.Combined.Quantitative.Score + factor(gap_indicator) + \n",
      "    GPA_trend\n",
      "\n",
      "                                      Df Deviance     AIC\n",
      "- s_Average.Precol.GPA                 1   55.054  83.478\n",
      "- GPA_trend                            1   55.334  83.757\n",
      "- factor(Gender)                       1   55.633  84.056\n",
      "- avs_net_cost                         1   56.386  84.809\n",
      "- s_GRE.Combined.Quantitative.Score    1   57.402  85.825\n",
      "<none>                                     53.792  86.276\n",
      "- factor(gap_indicator)                1   57.954  86.377\n",
      "- s_GRE.Combined.General.Write.Score   1   59.806  88.229\n",
      "+ s_GMAT.Score                         1   53.313  89.857\n",
      "+ s_GRE.Combined.General.Verbal.Score  1   53.617  90.161\n",
      "+ s_start_age                          1   53.623  90.167\n",
      "+ s_start_year                         1   53.708  90.252\n",
      "+ factor(Citizenship)                  7   52.410 113.316\n",
      "\n",
      "Step:  AIC=83.48\n",
      "Y ~ factor(Gender) + avs_net_cost + s_GRE.Combined.General.Write.Score + \n",
      "    s_GRE.Combined.Quantitative.Score + factor(gap_indicator) + \n",
      "    GPA_trend\n",
      "\n",
      "                                      Df Deviance     AIC\n",
      "- factor(Gender)                       1   56.887  81.250\n",
      "- avs_net_cost                         1   57.102  81.465\n",
      "- s_GRE.Combined.Quantitative.Score    1   58.253  82.616\n",
      "- GPA_trend                            1   58.404  82.767\n",
      "<none>                                     55.054  83.478\n",
      "- factor(gap_indicator)                1   59.434  83.796\n",
      "- s_GRE.Combined.General.Write.Score   1   60.915  85.277\n",
      "+ s_Average.Precol.GPA                 1   53.792  86.276\n",
      "+ s_GMAT.Score                         1   54.562  87.045\n",
      "+ s_GRE.Combined.General.Verbal.Score  1   54.935  87.418\n",
      "+ s_start_year                         1   54.986  87.470\n",
      "+ s_start_age                          1   54.995  87.478\n",
      "+ factor(Citizenship)                  7   53.462 110.308\n",
      "\n",
      "Step:  AIC=81.25\n",
      "Y ~ avs_net_cost + s_GRE.Combined.General.Write.Score + s_GRE.Combined.Quantitative.Score + \n",
      "    factor(gap_indicator) + GPA_trend\n",
      "\n",
      "                                      Df Deviance     AIC\n",
      "- avs_net_cost                         1   58.518  78.820\n",
      "- s_GRE.Combined.Quantitative.Score    1   59.547  79.849\n",
      "- factor(gap_indicator)                1   60.259  80.561\n",
      "<none>                                     56.887  81.250\n",
      "- GPA_trend                            1   61.283  81.585\n",
      "+ factor(Gender)                       1   55.054  83.478\n",
      "- s_GRE.Combined.General.Write.Score   1   63.731  84.033\n",
      "+ s_Average.Precol.GPA                 1   55.633  84.056\n",
      "+ s_start_year                         1   56.764  85.187\n",
      "+ s_GMAT.Score                         1   56.826  85.249\n",
      "+ s_start_age                          1   56.860  85.283\n",
      "+ s_GRE.Combined.General.Verbal.Score  1   56.887  85.310\n",
      "+ factor(Citizenship)                  7   55.318 108.104\n"
     ]
    },
    {
     "name": "stdout",
     "output_type": "stream",
     "text": [
      "\n",
      "Step:  AIC=78.82\n",
      "Y ~ s_GRE.Combined.General.Write.Score + s_GRE.Combined.Quantitative.Score + \n",
      "    factor(gap_indicator) + GPA_trend\n",
      "\n",
      "                                      Df Deviance     AIC\n",
      "- s_GRE.Combined.Quantitative.Score    1   61.508  77.750\n",
      "- factor(gap_indicator)                1   62.051  78.293\n",
      "- GPA_trend                            1   62.239  78.480\n",
      "<none>                                     58.518  78.820\n",
      "+ avs_net_cost                         1   56.887  81.250\n",
      "+ factor(Gender)                       1   57.102  81.465\n",
      "+ s_Average.Precol.GPA                 1   57.857  82.220\n",
      "+ s_start_year                         1   57.930  82.293\n",
      "- s_GRE.Combined.General.Write.Score   1   66.143  82.384\n",
      "+ s_start_age                          1   58.259  82.622\n",
      "+ s_GMAT.Score                         1   58.394  82.757\n",
      "+ s_GRE.Combined.General.Verbal.Score  1   58.517  82.880\n",
      "+ factor(Citizenship)                  7   57.034 105.759\n",
      "\n",
      "Step:  AIC=77.75\n",
      "Y ~ s_GRE.Combined.General.Write.Score + factor(gap_indicator) + \n",
      "    GPA_trend\n",
      "\n",
      "                                      Df Deviance     AIC\n",
      "<none>                                     61.508  77.750\n",
      "- GPA_trend                            1   66.038  78.219\n",
      "- s_GRE.Combined.General.Write.Score   1   66.297  78.478\n",
      "- factor(gap_indicator)                1   66.315  78.497\n",
      "+ s_GRE.Combined.Quantitative.Score    1   58.518  78.820\n",
      "+ avs_net_cost                         1   59.547  79.849\n",
      "+ factor(Gender)                       1   60.379  80.681\n",
      "+ s_GRE.Combined.General.Verbal.Score  1   60.658  80.960\n",
      "+ s_start_year                         1   60.979  81.281\n",
      "+ s_Average.Precol.GPA                 1   61.108  81.410\n",
      "+ s_GMAT.Score                         1   61.375  81.677\n",
      "+ s_start_age                          1   61.428  81.730\n",
      "+ factor(Citizenship)                  7   59.643 104.308\n"
     ]
    }
   ],
   "source": [
    "log_mod_m_bic = stepAIC(log_mod_m, direction = \"both\", k = log(c_n))"
   ]
  },
  {
   "cell_type": "markdown",
   "metadata": {},
   "source": [
    "<b> Significant variables both BIC selects:"
   ]
  },
  {
   "cell_type": "code",
   "execution_count": 159,
   "metadata": {},
   "outputs": [
    {
     "data": {
      "text/html": [
       "<dl class=dl-horizontal>\n",
       "\t<dt>Estimate</dt>\n",
       "\t\t<dd>0.85495</dd>\n",
       "\t<dt>Pr(&gt;|z|)</dt>\n",
       "\t\t<dd>0.01084</dd>\n",
       "</dl>\n"
      ],
      "text/latex": [
       "\\begin{description*}\n",
       "\\item[Estimate] 0.85495\n",
       "\\item[Pr(>\\textbackslash{}textbar\\{\\}z\\textbackslash{}textbar\\{\\})] 0.01084\n",
       "\\end{description*}\n"
      ],
      "text/markdown": [
       "Estimate\n",
       ":   0.85495Pr(&amp;gt;|z|)\n",
       ":   0.01084\n",
       "\n"
      ],
      "text/plain": [
       "Estimate Pr(>|z|) \n",
       " 0.85495  0.01084 "
      ]
     },
     "metadata": {},
     "output_type": "display_data"
    },
    {
     "data": {
      "text/plain": [
       "\n",
       "Call:\n",
       "glm(formula = Y ~ s_GRE.Combined.General.Write.Score + factor(gap_indicator) + \n",
       "    GPA_trend, family = \"binomial\", data = Management_df)\n",
       "\n",
       "Deviance Residuals: \n",
       "    Min       1Q   Median       3Q      Max  \n",
       "-2.1667  -0.8056   0.7367   0.8419   1.5918  \n",
       "\n",
       "Coefficients:\n",
       "                                    Estimate Std. Error z value Pr(>|z|)  \n",
       "(Intercept)                           0.8550     0.3356   2.548   0.0108 *\n",
       "s_GRE.Combined.General.Write.Score    1.2446     0.6510   1.912   0.0559 .\n",
       "factor(gap_indicator)1               17.2275  1653.2598   0.010   0.9917  \n",
       "GPA_trend                             2.9614     1.5818   1.872   0.0612 .\n",
       "---\n",
       "Signif. codes:  0 '***' 0.001 '**' 0.01 '*' 0.05 '.' 0.1 ' ' 1\n",
       "\n",
       "(Dispersion parameter for binomial family taken to be 1)\n",
       "\n",
       "    Null deviance: 74.726  on 57  degrees of freedom\n",
       "Residual deviance: 61.508  on 54  degrees of freedom\n",
       "AIC: 69.508\n",
       "\n",
       "Number of Fisher Scoring iterations: 16\n"
      ]
     },
     "metadata": {},
     "output_type": "display_data"
    }
   ],
   "source": [
    "round(summary(log_mod_m_bic)$coeff[which(summary(log_mod_m_bic)$coef[,4] <= .05),c(1,4)],5)\n",
    "summary(log_mod_m_bic)"
   ]
  },
  {
   "cell_type": "markdown",
   "metadata": {},
   "source": [
    "# Nursing Analysis"
   ]
  },
  {
   "cell_type": "markdown",
   "metadata": {},
   "source": [
    "<b> Logistic regression model:"
   ]
  },
  {
   "cell_type": "code",
   "execution_count": 40,
   "metadata": {},
   "outputs": [
    {
     "name": "stderr",
     "output_type": "stream",
     "text": [
      "Warning message:\n",
      "\"glm.fit: fitted probabilities numerically 0 or 1 occurred\""
     ]
    },
    {
     "data": {
      "text/plain": [
       "\n",
       "Call:\n",
       "glm(formula = Y ~ s_start_age + factor(Gender) + factor(funding_indicator) + \n",
       "    factor(Citizenship) + avs_net_cost + s_Average.Precol.GPA + \n",
       "    s_GRE.Combined.General.Write.Score + s_GRE.Combined.Quantitative.Score + \n",
       "    s_GRE.Combined.General.Verbal.Score + factor(gap_indicator) + \n",
       "    GPA_trend + s_start_year, family = \"binomial\", data = Nursing_df)\n",
       "\n",
       "Deviance Residuals: \n",
       "     Min        1Q    Median        3Q       Max  \n",
       "-2.33232  -0.93314   0.00028   0.92340   1.75450  \n",
       "\n",
       "Coefficients:\n",
       "                                               Estimate Std. Error z value\n",
       "(Intercept)                                   5.458e-01  5.240e-01   1.042\n",
       "s_start_age                                  -1.609e-01  1.700e-01  -0.947\n",
       "factor(Gender)Male                            1.380e-01  7.476e-01   0.185\n",
       "factor(funding_indicator)1                    6.545e-01  5.232e-01   1.251\n",
       "factor(Citizenship)Africa                     2.039e+01  1.511e+04   0.001\n",
       "factor(Citizenship)Asia                       2.269e-01  1.421e+00   0.160\n",
       "factor(Citizenship)Asian                      8.298e-02  1.012e+00   0.082\n",
       "factor(Citizenship)Black or African American -1.219e+00  1.287e+00  -0.948\n",
       "factor(Citizenship)China                     -2.206e+01  2.923e+04  -0.001\n",
       "factor(Citizenship)Hispanic or Latino         2.132e+01  1.129e+04   0.002\n",
       "factor(Citizenship)Unknown                   -1.204e-01  9.934e-01  -0.121\n",
       "avs_net_cost                                  2.726e-02  3.952e-01   0.069\n",
       "s_Average.Precol.GPA                          4.751e-01  2.877e-01   1.651\n",
       "s_GRE.Combined.General.Write.Score            5.991e+01  6.909e+03   0.009\n",
       "s_GRE.Combined.Quantitative.Score            -1.941e+02  2.069e+04  -0.009\n",
       "s_GRE.Combined.General.Verbal.Score          -5.246e+01  7.423e+03  -0.007\n",
       "factor(gap_indicator)1                        6.866e-01  8.203e-01   0.837\n",
       "GPA_trend                                    -6.563e-01  2.295e+00  -0.286\n",
       "s_start_year                                 -8.331e-01  3.145e-01  -2.649\n",
       "                                             Pr(>|z|)   \n",
       "(Intercept)                                   0.29763   \n",
       "s_start_age                                   0.34383   \n",
       "factor(Gender)Male                            0.85356   \n",
       "factor(funding_indicator)1                    0.21094   \n",
       "factor(Citizenship)Africa                     0.99892   \n",
       "factor(Citizenship)Asia                       0.87318   \n",
       "factor(Citizenship)Asian                      0.93465   \n",
       "factor(Citizenship)Black or African American  0.34338   \n",
       "factor(Citizenship)China                      0.99940   \n",
       "factor(Citizenship)Hispanic or Latino         0.99849   \n",
       "factor(Citizenship)Unknown                    0.90353   \n",
       "avs_net_cost                                  0.94500   \n",
       "s_Average.Precol.GPA                          0.09868 . \n",
       "s_GRE.Combined.General.Write.Score            0.99308   \n",
       "s_GRE.Combined.Quantitative.Score             0.99252   \n",
       "s_GRE.Combined.General.Verbal.Score           0.99436   \n",
       "factor(gap_indicator)1                        0.40262   \n",
       "GPA_trend                                     0.77487   \n",
       "s_start_year                                  0.00808 **\n",
       "---\n",
       "Signif. codes:  0 '***' 0.001 '**' 0.01 '*' 0.05 '.' 0.1 ' ' 1\n",
       "\n",
       "(Dispersion parameter for binomial family taken to be 1)\n",
       "\n",
       "    Null deviance: 155.91  on 116  degrees of freedom\n",
       "Residual deviance: 118.63  on  98  degrees of freedom\n",
       "AIC: 156.63\n",
       "\n",
       "Number of Fisher Scoring iterations: 20\n"
      ]
     },
     "metadata": {},
     "output_type": "display_data"
    }
   ],
   "source": [
    "log_mod_n = glm(Y~s_start_age+factor(Gender)+factor(funding_indicator)+factor(Citizenship)+\n",
    "                avs_net_cost+s_Average.Precol.GPA+s_GRE.Combined.General.Write.Score+s_GRE.Combined.Quantitative.Score+s_GRE.Combined.General.Verbal.Score+factor(gap_indicator)+GPA_trend+s_start_year,\n",
    "                data=Nursing_df,family=\"binomial\")\n",
    "summary(log_mod_n)"
   ]
  },
  {
   "cell_type": "markdown",
   "metadata": {},
   "source": [
    "<b> Significant Variables of logistic regression model: "
   ]
  },
  {
   "cell_type": "code",
   "execution_count": 41,
   "metadata": {},
   "outputs": [
    {
     "data": {
      "text/html": [
       "<dl class=dl-horizontal>\n",
       "\t<dt>Estimate</dt>\n",
       "\t\t<dd>-0.83314</dd>\n",
       "\t<dt>Pr(&gt;|z|)</dt>\n",
       "\t\t<dd>0.00808</dd>\n",
       "</dl>\n"
      ],
      "text/latex": [
       "\\begin{description*}\n",
       "\\item[Estimate] -0.83314\n",
       "\\item[Pr(>\\textbackslash{}textbar\\{\\}z\\textbackslash{}textbar\\{\\})] 0.00808\n",
       "\\end{description*}\n"
      ],
      "text/markdown": [
       "Estimate\n",
       ":   -0.83314Pr(&amp;gt;|z|)\n",
       ":   0.00808\n",
       "\n"
      ],
      "text/plain": [
       "Estimate Pr(>|z|) \n",
       "-0.83314  0.00808 "
      ]
     },
     "metadata": {},
     "output_type": "display_data"
    }
   ],
   "source": [
    "round(summary(log_mod_n)$coeff[which(summary(log_mod_n)$coef[,4] <= .05),c(1,4)],5)"
   ]
  },
  {
   "cell_type": "markdown",
   "metadata": {},
   "source": [
    "<b> Both AIC:"
   ]
  },
  {
   "cell_type": "code",
   "execution_count": 42,
   "metadata": {
    "scrolled": false
   },
   "outputs": [
    {
     "name": "stdout",
     "output_type": "stream",
     "text": [
      "Start:  AIC=156.63\n",
      "Y ~ s_start_age + factor(Gender) + factor(funding_indicator) + \n",
      "    factor(Citizenship) + avs_net_cost + s_Average.Precol.GPA + \n",
      "    s_GRE.Combined.General.Write.Score + s_GRE.Combined.Quantitative.Score + \n",
      "    s_GRE.Combined.General.Verbal.Score + factor(gap_indicator) + \n",
      "    GPA_trend + s_start_year\n",
      "\n"
     ]
    },
    {
     "name": "stderr",
     "output_type": "stream",
     "text": [
      "Warning message:\n",
      "\"glm.fit: fitted probabilities numerically 0 or 1 occurred\"Warning message:\n",
      "\"glm.fit: fitted probabilities numerically 0 or 1 occurred\"Warning message:\n",
      "\"glm.fit: fitted probabilities numerically 0 or 1 occurred\"Warning message:\n",
      "\"glm.fit: fitted probabilities numerically 0 or 1 occurred\"Warning message:\n",
      "\"glm.fit: fitted probabilities numerically 0 or 1 occurred\"Warning message:\n",
      "\"glm.fit: fitted probabilities numerically 0 or 1 occurred\"Warning message:\n",
      "\"glm.fit: fitted probabilities numerically 0 or 1 occurred\"Warning message:\n",
      "\"glm.fit: fitted probabilities numerically 0 or 1 occurred\"Warning message:\n",
      "\"glm.fit: fitted probabilities numerically 0 or 1 occurred\"Warning message:\n",
      "\"glm.fit: fitted probabilities numerically 0 or 1 occurred\""
     ]
    },
    {
     "name": "stdout",
     "output_type": "stream",
     "text": [
      "                                      Df Deviance    AIC\n",
      "- factor(Citizenship)                  7   127.47 151.47\n",
      "- avs_net_cost                         1   118.64 154.64\n",
      "- factor(Gender)                       1   118.67 154.67\n",
      "- GPA_trend                            1   118.72 154.72\n",
      "- factor(gap_indicator)                1   119.35 155.35\n",
      "- s_start_age                          1   119.54 155.54\n",
      "- s_GRE.Combined.General.Verbal.Score  1   119.92 155.92\n",
      "- factor(funding_indicator)            1   120.24 156.24\n",
      "- s_GRE.Combined.General.Write.Score   1   120.36 156.36\n",
      "<none>                                     118.63 156.63\n",
      "- s_Average.Precol.GPA                 1   121.58 157.58\n",
      "- s_GRE.Combined.Quantitative.Score    1   126.49 162.49\n",
      "- s_start_year                         1   128.54 164.54\n"
     ]
    },
    {
     "name": "stderr",
     "output_type": "stream",
     "text": [
      "Warning message:\n",
      "\"glm.fit: fitted probabilities numerically 0 or 1 occurred\""
     ]
    },
    {
     "name": "stdout",
     "output_type": "stream",
     "text": [
      "\n",
      "Step:  AIC=151.46\n",
      "Y ~ s_start_age + factor(Gender) + factor(funding_indicator) + \n",
      "    avs_net_cost + s_Average.Precol.GPA + s_GRE.Combined.General.Write.Score + \n",
      "    s_GRE.Combined.Quantitative.Score + s_GRE.Combined.General.Verbal.Score + \n",
      "    factor(gap_indicator) + GPA_trend + s_start_year\n",
      "\n"
     ]
    },
    {
     "name": "stderr",
     "output_type": "stream",
     "text": [
      "Warning message:\n",
      "\"glm.fit: fitted probabilities numerically 0 or 1 occurred\"Warning message:\n",
      "\"glm.fit: fitted probabilities numerically 0 or 1 occurred\"Warning message:\n",
      "\"glm.fit: fitted probabilities numerically 0 or 1 occurred\"Warning message:\n",
      "\"glm.fit: fitted probabilities numerically 0 or 1 occurred\"Warning message:\n",
      "\"glm.fit: fitted probabilities numerically 0 or 1 occurred\"Warning message:\n",
      "\"glm.fit: fitted probabilities numerically 0 or 1 occurred\"Warning message:\n",
      "\"glm.fit: fitted probabilities numerically 0 or 1 occurred\"Warning message:\n",
      "\"glm.fit: fitted probabilities numerically 0 or 1 occurred\"Warning message:\n",
      "\"glm.fit: fitted probabilities numerically 0 or 1 occurred\"Warning message:\n",
      "\"glm.fit: fitted probabilities numerically 0 or 1 occurred\""
     ]
    },
    {
     "name": "stdout",
     "output_type": "stream",
     "text": [
      "                                      Df Deviance    AIC\n",
      "- factor(Gender)                       1   127.47 149.47\n",
      "- avs_net_cost                         1   127.47 149.47\n",
      "- GPA_trend                            1   127.65 149.65\n",
      "- s_start_age                          1   127.84 149.84\n",
      "- s_Average.Precol.GPA                 1   129.12 151.12\n",
      "- factor(funding_indicator)            1   129.19 151.19\n",
      "<none>                                     127.47 151.47\n",
      "- s_GRE.Combined.General.Verbal.Score  1   129.50 151.50\n",
      "- factor(gap_indicator)                1   129.54 151.54\n",
      "- s_GRE.Combined.General.Write.Score   1   129.69 151.69\n",
      "+ factor(Citizenship)                  7   118.63 156.63\n",
      "- s_GRE.Combined.Quantitative.Score    1   137.11 159.11\n",
      "- s_start_year                         1   138.33 160.33\n"
     ]
    },
    {
     "name": "stderr",
     "output_type": "stream",
     "text": [
      "Warning message:\n",
      "\"glm.fit: fitted probabilities numerically 0 or 1 occurred\""
     ]
    },
    {
     "name": "stdout",
     "output_type": "stream",
     "text": [
      "\n",
      "Step:  AIC=149.46\n",
      "Y ~ s_start_age + factor(funding_indicator) + avs_net_cost + \n",
      "    s_Average.Precol.GPA + s_GRE.Combined.General.Write.Score + \n",
      "    s_GRE.Combined.Quantitative.Score + s_GRE.Combined.General.Verbal.Score + \n",
      "    factor(gap_indicator) + GPA_trend + s_start_year\n",
      "\n"
     ]
    },
    {
     "name": "stderr",
     "output_type": "stream",
     "text": [
      "Warning message:\n",
      "\"glm.fit: fitted probabilities numerically 0 or 1 occurred\"Warning message:\n",
      "\"glm.fit: fitted probabilities numerically 0 or 1 occurred\"Warning message:\n",
      "\"glm.fit: fitted probabilities numerically 0 or 1 occurred\"Warning message:\n",
      "\"glm.fit: fitted probabilities numerically 0 or 1 occurred\"Warning message:\n",
      "\"glm.fit: fitted probabilities numerically 0 or 1 occurred\"Warning message:\n",
      "\"glm.fit: fitted probabilities numerically 0 or 1 occurred\"Warning message:\n",
      "\"glm.fit: fitted probabilities numerically 0 or 1 occurred\"Warning message:\n",
      "\"glm.fit: fitted probabilities numerically 0 or 1 occurred\"Warning message:\n",
      "\"glm.fit: fitted probabilities numerically 0 or 1 occurred\"Warning message:\n",
      "\"glm.fit: fitted probabilities numerically 0 or 1 occurred\""
     ]
    },
    {
     "name": "stdout",
     "output_type": "stream",
     "text": [
      "                                      Df Deviance    AIC\n",
      "- avs_net_cost                         1   127.47 147.47\n",
      "- GPA_trend                            1   127.65 147.65\n",
      "- s_start_age                          1   127.84 147.84\n",
      "- factor(funding_indicator)            1   129.20 149.20\n",
      "- s_Average.Precol.GPA                 1   129.25 149.25\n",
      "<none>                                     127.47 149.47\n",
      "- factor(gap_indicator)                1   129.55 149.55\n",
      "- s_GRE.Combined.General.Verbal.Score  1   129.57 149.57\n",
      "- s_GRE.Combined.General.Write.Score   1   129.84 149.84\n",
      "+ factor(Gender)                       1   127.47 151.47\n",
      "+ factor(Citizenship)                  7   118.67 154.67\n",
      "- s_GRE.Combined.Quantitative.Score    1   137.11 157.11\n",
      "- s_start_year                         1   138.37 158.37\n"
     ]
    },
    {
     "name": "stderr",
     "output_type": "stream",
     "text": [
      "Warning message:\n",
      "\"glm.fit: fitted probabilities numerically 0 or 1 occurred\""
     ]
    },
    {
     "name": "stdout",
     "output_type": "stream",
     "text": [
      "\n",
      "Step:  AIC=147.47\n",
      "Y ~ s_start_age + factor(funding_indicator) + s_Average.Precol.GPA + \n",
      "    s_GRE.Combined.General.Write.Score + s_GRE.Combined.Quantitative.Score + \n",
      "    s_GRE.Combined.General.Verbal.Score + factor(gap_indicator) + \n",
      "    GPA_trend + s_start_year\n",
      "\n"
     ]
    },
    {
     "name": "stderr",
     "output_type": "stream",
     "text": [
      "Warning message:\n",
      "\"glm.fit: fitted probabilities numerically 0 or 1 occurred\"Warning message:\n",
      "\"glm.fit: fitted probabilities numerically 0 or 1 occurred\"Warning message:\n",
      "\"glm.fit: fitted probabilities numerically 0 or 1 occurred\"Warning message:\n",
      "\"glm.fit: fitted probabilities numerically 0 or 1 occurred\"Warning message:\n",
      "\"glm.fit: fitted probabilities numerically 0 or 1 occurred\"Warning message:\n",
      "\"glm.fit: fitted probabilities numerically 0 or 1 occurred\"Warning message:\n",
      "\"glm.fit: fitted probabilities numerically 0 or 1 occurred\"Warning message:\n",
      "\"glm.fit: fitted probabilities numerically 0 or 1 occurred\"Warning message:\n",
      "\"glm.fit: fitted probabilities numerically 0 or 1 occurred\"Warning message:\n",
      "\"glm.fit: fitted probabilities numerically 0 or 1 occurred\""
     ]
    },
    {
     "name": "stdout",
     "output_type": "stream",
     "text": [
      "                                      Df Deviance    AIC\n",
      "- GPA_trend                            1   127.65 145.65\n",
      "- s_start_age                          1   127.85 145.85\n",
      "- s_Average.Precol.GPA                 1   129.28 147.28\n",
      "- factor(funding_indicator)            1   129.31 147.31\n",
      "<none>                                     127.47 147.47\n",
      "- factor(gap_indicator)                1   129.55 147.55\n",
      "- s_GRE.Combined.General.Verbal.Score  1   129.57 147.57\n",
      "- s_GRE.Combined.General.Write.Score   1   129.84 147.84\n",
      "+ avs_net_cost                         1   127.47 149.47\n",
      "+ factor(Gender)                       1   127.47 149.47\n",
      "+ factor(Citizenship)                  7   118.68 152.68\n",
      "- s_GRE.Combined.Quantitative.Score    1   137.12 155.12\n",
      "- s_start_year                         1   138.83 156.83\n"
     ]
    },
    {
     "name": "stderr",
     "output_type": "stream",
     "text": [
      "Warning message:\n",
      "\"glm.fit: fitted probabilities numerically 0 or 1 occurred\""
     ]
    },
    {
     "name": "stdout",
     "output_type": "stream",
     "text": [
      "\n",
      "Step:  AIC=145.65\n",
      "Y ~ s_start_age + factor(funding_indicator) + s_Average.Precol.GPA + \n",
      "    s_GRE.Combined.General.Write.Score + s_GRE.Combined.Quantitative.Score + \n",
      "    s_GRE.Combined.General.Verbal.Score + factor(gap_indicator) + \n",
      "    s_start_year\n",
      "\n"
     ]
    },
    {
     "name": "stderr",
     "output_type": "stream",
     "text": [
      "Warning message:\n",
      "\"glm.fit: fitted probabilities numerically 0 or 1 occurred\"Warning message:\n",
      "\"glm.fit: fitted probabilities numerically 0 or 1 occurred\"Warning message:\n",
      "\"glm.fit: fitted probabilities numerically 0 or 1 occurred\"Warning message:\n",
      "\"glm.fit: fitted probabilities numerically 0 or 1 occurred\"Warning message:\n",
      "\"glm.fit: fitted probabilities numerically 0 or 1 occurred\"Warning message:\n",
      "\"glm.fit: fitted probabilities numerically 0 or 1 occurred\"Warning message:\n",
      "\"glm.fit: fitted probabilities numerically 0 or 1 occurred\"Warning message:\n",
      "\"glm.fit: fitted probabilities numerically 0 or 1 occurred\"Warning message:\n",
      "\"glm.fit: fitted probabilities numerically 0 or 1 occurred\"Warning message:\n",
      "\"glm.fit: fitted probabilities numerically 0 or 1 occurred\""
     ]
    },
    {
     "name": "stdout",
     "output_type": "stream",
     "text": [
      "                                      Df Deviance    AIC\n",
      "- s_start_age                          1   127.98 143.98\n",
      "- factor(funding_indicator)            1   129.54 145.54\n",
      "<none>                                     127.65 145.65\n",
      "- s_Average.Precol.GPA                 1   129.69 145.69\n",
      "- s_GRE.Combined.General.Verbal.Score  1   129.77 145.77\n",
      "- factor(gap_indicator)                1   129.96 145.96\n",
      "- s_GRE.Combined.General.Write.Score   1   130.02 146.02\n",
      "+ GPA_trend                            1   127.47 147.47\n",
      "+ avs_net_cost                         1   127.65 147.65\n",
      "+ factor(Gender)                       1   127.65 147.65\n",
      "+ factor(Citizenship)                  7   118.77 150.77\n",
      "- s_GRE.Combined.Quantitative.Score    1   137.22 153.22\n",
      "- s_start_year                         1   138.84 154.84\n"
     ]
    },
    {
     "name": "stderr",
     "output_type": "stream",
     "text": [
      "Warning message:\n",
      "\"glm.fit: fitted probabilities numerically 0 or 1 occurred\""
     ]
    },
    {
     "name": "stdout",
     "output_type": "stream",
     "text": [
      "\n",
      "Step:  AIC=143.98\n",
      "Y ~ factor(funding_indicator) + s_Average.Precol.GPA + s_GRE.Combined.General.Write.Score + \n",
      "    s_GRE.Combined.Quantitative.Score + s_GRE.Combined.General.Verbal.Score + \n",
      "    factor(gap_indicator) + s_start_year\n",
      "\n"
     ]
    },
    {
     "name": "stderr",
     "output_type": "stream",
     "text": [
      "Warning message:\n",
      "\"glm.fit: fitted probabilities numerically 0 or 1 occurred\"Warning message:\n",
      "\"glm.fit: fitted probabilities numerically 0 or 1 occurred\"Warning message:\n",
      "\"glm.fit: fitted probabilities numerically 0 or 1 occurred\"Warning message:\n",
      "\"glm.fit: fitted probabilities numerically 0 or 1 occurred\"Warning message:\n",
      "\"glm.fit: fitted probabilities numerically 0 or 1 occurred\"Warning message:\n",
      "\"glm.fit: fitted probabilities numerically 0 or 1 occurred\"Warning message:\n",
      "\"glm.fit: fitted probabilities numerically 0 or 1 occurred\"Warning message:\n",
      "\"glm.fit: fitted probabilities numerically 0 or 1 occurred\"Warning message:\n",
      "\"glm.fit: fitted probabilities numerically 0 or 1 occurred\"Warning message:\n",
      "\"glm.fit: fitted probabilities numerically 0 or 1 occurred\""
     ]
    },
    {
     "name": "stdout",
     "output_type": "stream",
     "text": [
      "                                      Df Deviance    AIC\n",
      "- s_Average.Precol.GPA                 1   129.87 143.87\n",
      "<none>                                     127.98 143.98\n",
      "- factor(gap_indicator)                1   130.11 144.11\n",
      "- s_GRE.Combined.General.Verbal.Score  1   130.36 144.36\n",
      "- factor(funding_indicator)            1   130.59 144.59\n",
      "- s_GRE.Combined.General.Write.Score   1   130.65 144.65\n",
      "+ s_start_age                          1   127.65 145.65\n",
      "+ GPA_trend                            1   127.85 145.85\n",
      "+ factor(Gender)                       1   127.97 145.97\n",
      "+ avs_net_cost                         1   127.97 145.97\n",
      "+ factor(Citizenship)                  7   119.69 149.69\n",
      "- s_GRE.Combined.Quantitative.Score    1   138.42 152.42\n",
      "- s_start_year                         1   138.93 152.93\n"
     ]
    },
    {
     "name": "stderr",
     "output_type": "stream",
     "text": [
      "Warning message:\n",
      "\"glm.fit: fitted probabilities numerically 0 or 1 occurred\""
     ]
    },
    {
     "name": "stdout",
     "output_type": "stream",
     "text": [
      "\n",
      "Step:  AIC=143.87\n",
      "Y ~ factor(funding_indicator) + s_GRE.Combined.General.Write.Score + \n",
      "    s_GRE.Combined.Quantitative.Score + s_GRE.Combined.General.Verbal.Score + \n",
      "    factor(gap_indicator) + s_start_year\n",
      "\n"
     ]
    },
    {
     "name": "stderr",
     "output_type": "stream",
     "text": [
      "Warning message:\n",
      "\"glm.fit: fitted probabilities numerically 0 or 1 occurred\"Warning message:\n",
      "\"glm.fit: fitted probabilities numerically 0 or 1 occurred\"Warning message:\n",
      "\"glm.fit: fitted probabilities numerically 0 or 1 occurred\"Warning message:\n",
      "\"glm.fit: fitted probabilities numerically 0 or 1 occurred\"Warning message:\n",
      "\"glm.fit: fitted probabilities numerically 0 or 1 occurred\"Warning message:\n",
      "\"glm.fit: fitted probabilities numerically 0 or 1 occurred\"Warning message:\n",
      "\"glm.fit: fitted probabilities numerically 0 or 1 occurred\"Warning message:\n",
      "\"glm.fit: fitted probabilities numerically 0 or 1 occurred\"Warning message:\n",
      "\"glm.fit: fitted probabilities numerically 0 or 1 occurred\"Warning message:\n",
      "\"glm.fit: fitted probabilities numerically 0 or 1 occurred\""
     ]
    },
    {
     "name": "stdout",
     "output_type": "stream",
     "text": [
      "                                      Df Deviance    AIC\n",
      "- factor(gap_indicator)                1   131.52 143.52\n",
      "<none>                                     129.87 143.87\n",
      "+ s_Average.Precol.GPA                 1   127.98 143.98\n",
      "- factor(funding_indicator)            1   132.31 144.31\n",
      "- s_GRE.Combined.General.Verbal.Score  1   132.39 144.39\n",
      "- s_GRE.Combined.General.Write.Score   1   133.02 145.02\n",
      "+ GPA_trend                            1   129.52 145.52\n",
      "+ s_start_age                          1   129.69 145.69\n",
      "+ factor(Gender)                       1   129.81 145.81\n",
      "+ avs_net_cost                         1   129.84 145.84\n",
      "+ factor(Citizenship)                  7   122.74 150.74\n",
      "- s_GRE.Combined.Quantitative.Score    1   140.43 152.43\n",
      "- s_start_year                         1   142.03 154.03\n"
     ]
    },
    {
     "name": "stderr",
     "output_type": "stream",
     "text": [
      "Warning message:\n",
      "\"glm.fit: fitted probabilities numerically 0 or 1 occurred\""
     ]
    },
    {
     "name": "stdout",
     "output_type": "stream",
     "text": [
      "\n",
      "Step:  AIC=143.52\n",
      "Y ~ factor(funding_indicator) + s_GRE.Combined.General.Write.Score + \n",
      "    s_GRE.Combined.Quantitative.Score + s_GRE.Combined.General.Verbal.Score + \n",
      "    s_start_year\n",
      "\n"
     ]
    },
    {
     "name": "stderr",
     "output_type": "stream",
     "text": [
      "Warning message:\n",
      "\"glm.fit: fitted probabilities numerically 0 or 1 occurred\"Warning message:\n",
      "\"glm.fit: fitted probabilities numerically 0 or 1 occurred\"Warning message:\n",
      "\"glm.fit: fitted probabilities numerically 0 or 1 occurred\"Warning message:\n",
      "\"glm.fit: fitted probabilities numerically 0 or 1 occurred\"Warning message:\n",
      "\"glm.fit: fitted probabilities numerically 0 or 1 occurred\"Warning message:\n",
      "\"glm.fit: fitted probabilities numerically 0 or 1 occurred\"Warning message:\n",
      "\"glm.fit: fitted probabilities numerically 0 or 1 occurred\"Warning message:\n",
      "\"glm.fit: fitted probabilities numerically 0 or 1 occurred\"Warning message:\n",
      "\"glm.fit: fitted probabilities numerically 0 or 1 occurred\"Warning message:\n",
      "\"glm.fit: fitted probabilities numerically 0 or 1 occurred\""
     ]
    },
    {
     "name": "stdout",
     "output_type": "stream",
     "text": [
      "                                      Df Deviance    AIC\n",
      "- factor(funding_indicator)            1   133.16 143.16\n",
      "<none>                                     131.52 143.52\n",
      "+ factor(gap_indicator)                1   129.87 143.87\n",
      "- s_GRE.Combined.General.Verbal.Score  1   134.08 144.08\n",
      "+ s_Average.Precol.GPA                 1   130.11 144.11\n",
      "+ GPA_trend                            1   130.94 144.94\n",
      "+ factor(Gender)                       1   131.44 145.44\n",
      "+ s_start_age                          1   131.45 145.45\n",
      "+ avs_net_cost                         1   131.50 145.50\n",
      "- s_GRE.Combined.General.Write.Score   1   135.62 145.62\n",
      "+ factor(Citizenship)                  7   123.30 149.30\n",
      "- s_GRE.Combined.Quantitative.Score    1   143.34 153.34\n",
      "- s_start_year                         1   143.37 153.37\n"
     ]
    },
    {
     "name": "stderr",
     "output_type": "stream",
     "text": [
      "Warning message:\n",
      "\"glm.fit: fitted probabilities numerically 0 or 1 occurred\""
     ]
    },
    {
     "name": "stdout",
     "output_type": "stream",
     "text": [
      "\n",
      "Step:  AIC=143.16\n",
      "Y ~ s_GRE.Combined.General.Write.Score + s_GRE.Combined.Quantitative.Score + \n",
      "    s_GRE.Combined.General.Verbal.Score + s_start_year\n",
      "\n"
     ]
    },
    {
     "name": "stderr",
     "output_type": "stream",
     "text": [
      "Warning message:\n",
      "\"glm.fit: fitted probabilities numerically 0 or 1 occurred\"Warning message:\n",
      "\"glm.fit: fitted probabilities numerically 0 or 1 occurred\"Warning message:\n",
      "\"glm.fit: fitted probabilities numerically 0 or 1 occurred\"Warning message:\n",
      "\"glm.fit: fitted probabilities numerically 0 or 1 occurred\"Warning message:\n",
      "\"glm.fit: fitted probabilities numerically 0 or 1 occurred\"Warning message:\n",
      "\"glm.fit: fitted probabilities numerically 0 or 1 occurred\"Warning message:\n",
      "\"glm.fit: fitted probabilities numerically 0 or 1 occurred\"Warning message:\n",
      "\"glm.fit: fitted probabilities numerically 0 or 1 occurred\"Warning message:\n",
      "\"glm.fit: fitted probabilities numerically 0 or 1 occurred\"Warning message:\n",
      "\"glm.fit: fitted probabilities numerically 0 or 1 occurred\""
     ]
    },
    {
     "name": "stdout",
     "output_type": "stream",
     "text": [
      "                                      Df Deviance    AIC\n",
      "<none>                                     133.16 143.16\n",
      "+ factor(funding_indicator)            1   131.52 143.52\n",
      "+ s_Average.Precol.GPA                 1   131.74 143.74\n",
      "- s_GRE.Combined.General.Verbal.Score  1   136.02 144.02\n",
      "+ factor(gap_indicator)                1   132.31 144.31\n",
      "+ GPA_trend                            1   132.63 144.63\n",
      "+ s_start_age                          1   132.70 144.70\n",
      "+ avs_net_cost                         1   133.10 145.10\n",
      "+ factor(Gender)                       1   133.13 145.13\n",
      "- s_GRE.Combined.General.Write.Score   1   137.34 145.34\n",
      "+ factor(Citizenship)                  7   125.37 149.37\n",
      "- s_GRE.Combined.Quantitative.Score    1   144.34 152.34\n",
      "- s_start_year                         1   144.52 152.52\n"
     ]
    }
   ],
   "source": [
    "log_mod_n_aic= stepAIC(log_mod_n, direction = 'both')"
   ]
  },
  {
   "cell_type": "markdown",
   "metadata": {},
   "source": [
    "<b> Significant variables both AIC selects:"
   ]
  },
  {
   "cell_type": "code",
   "execution_count": 43,
   "metadata": {},
   "outputs": [
    {
     "data": {
      "text/html": [
       "<table>\n",
       "<thead><tr><th></th><th scope=col>Estimate</th><th scope=col>Pr(&gt;|z|)</th></tr></thead>\n",
       "<tbody>\n",
       "\t<tr><th scope=row>(Intercept)</th><td> 0.59425</td><td>0.02246 </td></tr>\n",
       "\t<tr><th scope=row>s_start_year</th><td>-0.76541</td><td>0.00448 </td></tr>\n",
       "</tbody>\n",
       "</table>\n"
      ],
      "text/latex": [
       "\\begin{tabular}{r|ll}\n",
       "  & Estimate & Pr(>\\textbar{}z\\textbar{})\\\\\n",
       "\\hline\n",
       "\t(Intercept) &  0.59425 & 0.02246 \\\\\n",
       "\ts\\_start\\_year & -0.76541 & 0.00448 \\\\\n",
       "\\end{tabular}\n"
      ],
      "text/markdown": [
       "\n",
       "| <!--/--> | Estimate | Pr(>|z|) |\n",
       "|---|---|---|\n",
       "| (Intercept) |  0.59425 | 0.02246  |\n",
       "| s_start_year | -0.76541 | 0.00448  |\n",
       "\n"
      ],
      "text/plain": [
       "             Estimate Pr(>|z|)\n",
       "(Intercept)   0.59425 0.02246 \n",
       "s_start_year -0.76541 0.00448 "
      ]
     },
     "metadata": {},
     "output_type": "display_data"
    }
   ],
   "source": [
    "round(summary(log_mod_n_aic)$coeff[which(summary(log_mod_n_aic)$coef[,4] <= .05),c(1,4)],5)"
   ]
  },
  {
   "cell_type": "markdown",
   "metadata": {},
   "source": [
    "<b> Both BIC:"
   ]
  },
  {
   "cell_type": "code",
   "execution_count": 44,
   "metadata": {
    "scrolled": false
   },
   "outputs": [
    {
     "name": "stdout",
     "output_type": "stream",
     "text": [
      "Start:  AIC=209.11\n",
      "Y ~ s_start_age + factor(Gender) + factor(funding_indicator) + \n",
      "    factor(Citizenship) + avs_net_cost + s_Average.Precol.GPA + \n",
      "    s_GRE.Combined.General.Write.Score + s_GRE.Combined.Quantitative.Score + \n",
      "    s_GRE.Combined.General.Verbal.Score + factor(gap_indicator) + \n",
      "    GPA_trend + s_start_year\n",
      "\n"
     ]
    },
    {
     "name": "stderr",
     "output_type": "stream",
     "text": [
      "Warning message:\n",
      "\"glm.fit: fitted probabilities numerically 0 or 1 occurred\"Warning message:\n",
      "\"glm.fit: fitted probabilities numerically 0 or 1 occurred\"Warning message:\n",
      "\"glm.fit: fitted probabilities numerically 0 or 1 occurred\"Warning message:\n",
      "\"glm.fit: fitted probabilities numerically 0 or 1 occurred\"Warning message:\n",
      "\"glm.fit: fitted probabilities numerically 0 or 1 occurred\"Warning message:\n",
      "\"glm.fit: fitted probabilities numerically 0 or 1 occurred\"Warning message:\n",
      "\"glm.fit: fitted probabilities numerically 0 or 1 occurred\"Warning message:\n",
      "\"glm.fit: fitted probabilities numerically 0 or 1 occurred\"Warning message:\n",
      "\"glm.fit: fitted probabilities numerically 0 or 1 occurred\"Warning message:\n",
      "\"glm.fit: fitted probabilities numerically 0 or 1 occurred\""
     ]
    },
    {
     "name": "stdout",
     "output_type": "stream",
     "text": [
      "                                      Df Deviance    AIC\n",
      "- factor(Citizenship)                  7   127.47 184.61\n",
      "- avs_net_cost                         1   118.64 204.36\n",
      "- factor(Gender)                       1   118.67 204.38\n",
      "- GPA_trend                            1   118.72 204.43\n",
      "- factor(gap_indicator)                1   119.35 205.07\n",
      "- s_start_age                          1   119.54 205.26\n",
      "- s_GRE.Combined.General.Verbal.Score  1   119.92 205.64\n",
      "- factor(funding_indicator)            1   120.24 205.96\n",
      "- s_GRE.Combined.General.Write.Score   1   120.36 206.08\n",
      "- s_Average.Precol.GPA                 1   121.58 207.30\n",
      "<none>                                     118.63 209.11\n",
      "- s_GRE.Combined.Quantitative.Score    1   126.49 212.21\n",
      "- s_start_year                         1   128.54 214.26\n"
     ]
    },
    {
     "name": "stderr",
     "output_type": "stream",
     "text": [
      "Warning message:\n",
      "\"glm.fit: fitted probabilities numerically 0 or 1 occurred\""
     ]
    },
    {
     "name": "stdout",
     "output_type": "stream",
     "text": [
      "\n",
      "Step:  AIC=184.61\n",
      "Y ~ s_start_age + factor(Gender) + factor(funding_indicator) + \n",
      "    avs_net_cost + s_Average.Precol.GPA + s_GRE.Combined.General.Write.Score + \n",
      "    s_GRE.Combined.Quantitative.Score + s_GRE.Combined.General.Verbal.Score + \n",
      "    factor(gap_indicator) + GPA_trend + s_start_year\n",
      "\n"
     ]
    },
    {
     "name": "stderr",
     "output_type": "stream",
     "text": [
      "Warning message:\n",
      "\"glm.fit: fitted probabilities numerically 0 or 1 occurred\"Warning message:\n",
      "\"glm.fit: fitted probabilities numerically 0 or 1 occurred\"Warning message:\n",
      "\"glm.fit: fitted probabilities numerically 0 or 1 occurred\"Warning message:\n",
      "\"glm.fit: fitted probabilities numerically 0 or 1 occurred\"Warning message:\n",
      "\"glm.fit: fitted probabilities numerically 0 or 1 occurred\"Warning message:\n",
      "\"glm.fit: fitted probabilities numerically 0 or 1 occurred\"Warning message:\n",
      "\"glm.fit: fitted probabilities numerically 0 or 1 occurred\"Warning message:\n",
      "\"glm.fit: fitted probabilities numerically 0 or 1 occurred\"Warning message:\n",
      "\"glm.fit: fitted probabilities numerically 0 or 1 occurred\"Warning message:\n",
      "\"glm.fit: fitted probabilities numerically 0 or 1 occurred\""
     ]
    },
    {
     "name": "stdout",
     "output_type": "stream",
     "text": [
      "                                      Df Deviance    AIC\n",
      "- factor(Gender)                       1   127.47 179.85\n",
      "- avs_net_cost                         1   127.47 179.85\n",
      "- GPA_trend                            1   127.65 180.03\n",
      "- s_start_age                          1   127.84 180.22\n",
      "- s_Average.Precol.GPA                 1   129.12 181.50\n",
      "- factor(funding_indicator)            1   129.19 181.58\n",
      "- s_GRE.Combined.General.Verbal.Score  1   129.50 181.88\n",
      "- factor(gap_indicator)                1   129.54 181.92\n",
      "- s_GRE.Combined.General.Write.Score   1   129.69 182.07\n",
      "<none>                                     127.47 184.61\n",
      "- s_GRE.Combined.Quantitative.Score    1   137.11 189.49\n",
      "- s_start_year                         1   138.33 190.71\n",
      "+ factor(Citizenship)                  7   118.63 209.11\n"
     ]
    },
    {
     "name": "stderr",
     "output_type": "stream",
     "text": [
      "Warning message:\n",
      "\"glm.fit: fitted probabilities numerically 0 or 1 occurred\""
     ]
    },
    {
     "name": "stdout",
     "output_type": "stream",
     "text": [
      "\n",
      "Step:  AIC=179.85\n",
      "Y ~ s_start_age + factor(funding_indicator) + avs_net_cost + \n",
      "    s_Average.Precol.GPA + s_GRE.Combined.General.Write.Score + \n",
      "    s_GRE.Combined.Quantitative.Score + s_GRE.Combined.General.Verbal.Score + \n",
      "    factor(gap_indicator) + GPA_trend + s_start_year\n",
      "\n"
     ]
    },
    {
     "name": "stderr",
     "output_type": "stream",
     "text": [
      "Warning message:\n",
      "\"glm.fit: fitted probabilities numerically 0 or 1 occurred\"Warning message:\n",
      "\"glm.fit: fitted probabilities numerically 0 or 1 occurred\"Warning message:\n",
      "\"glm.fit: fitted probabilities numerically 0 or 1 occurred\"Warning message:\n",
      "\"glm.fit: fitted probabilities numerically 0 or 1 occurred\"Warning message:\n",
      "\"glm.fit: fitted probabilities numerically 0 or 1 occurred\"Warning message:\n",
      "\"glm.fit: fitted probabilities numerically 0 or 1 occurred\"Warning message:\n",
      "\"glm.fit: fitted probabilities numerically 0 or 1 occurred\"Warning message:\n",
      "\"glm.fit: fitted probabilities numerically 0 or 1 occurred\"Warning message:\n",
      "\"glm.fit: fitted probabilities numerically 0 or 1 occurred\"Warning message:\n",
      "\"glm.fit: fitted probabilities numerically 0 or 1 occurred\""
     ]
    },
    {
     "name": "stdout",
     "output_type": "stream",
     "text": [
      "                                      Df Deviance    AIC\n",
      "- avs_net_cost                         1   127.47 175.09\n",
      "- GPA_trend                            1   127.65 175.27\n",
      "- s_start_age                          1   127.84 175.46\n",
      "- factor(funding_indicator)            1   129.20 176.82\n",
      "- s_Average.Precol.GPA                 1   129.25 176.88\n",
      "- factor(gap_indicator)                1   129.55 177.17\n",
      "- s_GRE.Combined.General.Verbal.Score  1   129.57 177.19\n",
      "- s_GRE.Combined.General.Write.Score   1   129.84 177.46\n",
      "<none>                                     127.47 179.85\n",
      "+ factor(Gender)                       1   127.47 184.61\n",
      "- s_GRE.Combined.Quantitative.Score    1   137.11 184.73\n",
      "- s_start_year                         1   138.37 186.00\n",
      "+ factor(Citizenship)                  7   118.67 204.38\n"
     ]
    },
    {
     "name": "stderr",
     "output_type": "stream",
     "text": [
      "Warning message:\n",
      "\"glm.fit: fitted probabilities numerically 0 or 1 occurred\""
     ]
    },
    {
     "name": "stdout",
     "output_type": "stream",
     "text": [
      "\n",
      "Step:  AIC=175.09\n",
      "Y ~ s_start_age + factor(funding_indicator) + s_Average.Precol.GPA + \n",
      "    s_GRE.Combined.General.Write.Score + s_GRE.Combined.Quantitative.Score + \n",
      "    s_GRE.Combined.General.Verbal.Score + factor(gap_indicator) + \n",
      "    GPA_trend + s_start_year\n",
      "\n"
     ]
    },
    {
     "name": "stderr",
     "output_type": "stream",
     "text": [
      "Warning message:\n",
      "\"glm.fit: fitted probabilities numerically 0 or 1 occurred\"Warning message:\n",
      "\"glm.fit: fitted probabilities numerically 0 or 1 occurred\"Warning message:\n",
      "\"glm.fit: fitted probabilities numerically 0 or 1 occurred\"Warning message:\n",
      "\"glm.fit: fitted probabilities numerically 0 or 1 occurred\"Warning message:\n",
      "\"glm.fit: fitted probabilities numerically 0 or 1 occurred\"Warning message:\n",
      "\"glm.fit: fitted probabilities numerically 0 or 1 occurred\"Warning message:\n",
      "\"glm.fit: fitted probabilities numerically 0 or 1 occurred\"Warning message:\n",
      "\"glm.fit: fitted probabilities numerically 0 or 1 occurred\"Warning message:\n",
      "\"glm.fit: fitted probabilities numerically 0 or 1 occurred\"Warning message:\n",
      "\"glm.fit: fitted probabilities numerically 0 or 1 occurred\""
     ]
    },
    {
     "name": "stdout",
     "output_type": "stream",
     "text": [
      "                                      Df Deviance    AIC\n",
      "- GPA_trend                            1   127.65 170.51\n",
      "- s_start_age                          1   127.85 170.71\n",
      "- s_Average.Precol.GPA                 1   129.28 172.14\n",
      "- factor(funding_indicator)            1   129.31 172.17\n",
      "- factor(gap_indicator)                1   129.55 172.41\n",
      "- s_GRE.Combined.General.Verbal.Score  1   129.57 172.43\n",
      "- s_GRE.Combined.General.Write.Score   1   129.84 172.70\n",
      "<none>                                     127.47 175.09\n",
      "+ avs_net_cost                         1   127.47 179.85\n",
      "+ factor(Gender)                       1   127.47 179.85\n",
      "- s_GRE.Combined.Quantitative.Score    1   137.12 179.98\n",
      "- s_start_year                         1   138.83 181.69\n",
      "+ factor(Citizenship)                  7   118.68 199.63\n"
     ]
    },
    {
     "name": "stderr",
     "output_type": "stream",
     "text": [
      "Warning message:\n",
      "\"glm.fit: fitted probabilities numerically 0 or 1 occurred\""
     ]
    },
    {
     "name": "stdout",
     "output_type": "stream",
     "text": [
      "\n",
      "Step:  AIC=170.51\n",
      "Y ~ s_start_age + factor(funding_indicator) + s_Average.Precol.GPA + \n",
      "    s_GRE.Combined.General.Write.Score + s_GRE.Combined.Quantitative.Score + \n",
      "    s_GRE.Combined.General.Verbal.Score + factor(gap_indicator) + \n",
      "    s_start_year\n",
      "\n"
     ]
    },
    {
     "name": "stderr",
     "output_type": "stream",
     "text": [
      "Warning message:\n",
      "\"glm.fit: fitted probabilities numerically 0 or 1 occurred\"Warning message:\n",
      "\"glm.fit: fitted probabilities numerically 0 or 1 occurred\"Warning message:\n",
      "\"glm.fit: fitted probabilities numerically 0 or 1 occurred\"Warning message:\n",
      "\"glm.fit: fitted probabilities numerically 0 or 1 occurred\"Warning message:\n",
      "\"glm.fit: fitted probabilities numerically 0 or 1 occurred\"Warning message:\n",
      "\"glm.fit: fitted probabilities numerically 0 or 1 occurred\"Warning message:\n",
      "\"glm.fit: fitted probabilities numerically 0 or 1 occurred\"Warning message:\n",
      "\"glm.fit: fitted probabilities numerically 0 or 1 occurred\"Warning message:\n",
      "\"glm.fit: fitted probabilities numerically 0 or 1 occurred\"Warning message:\n",
      "\"glm.fit: fitted probabilities numerically 0 or 1 occurred\""
     ]
    },
    {
     "name": "stdout",
     "output_type": "stream",
     "text": [
      "                                      Df Deviance    AIC\n",
      "- s_start_age                          1   127.98 166.07\n",
      "- factor(funding_indicator)            1   129.54 167.64\n",
      "- s_Average.Precol.GPA                 1   129.69 167.79\n",
      "- s_GRE.Combined.General.Verbal.Score  1   129.77 167.87\n",
      "- factor(gap_indicator)                1   129.96 168.05\n",
      "- s_GRE.Combined.General.Write.Score   1   130.02 168.12\n",
      "<none>                                     127.65 170.51\n",
      "+ GPA_trend                            1   127.47 175.09\n",
      "+ avs_net_cost                         1   127.65 175.27\n",
      "+ factor(Gender)                       1   127.65 175.27\n",
      "- s_GRE.Combined.Quantitative.Score    1   137.22 175.31\n",
      "- s_start_year                         1   138.84 176.94\n",
      "+ factor(Citizenship)                  7   118.77 194.97\n"
     ]
    },
    {
     "name": "stderr",
     "output_type": "stream",
     "text": [
      "Warning message:\n",
      "\"glm.fit: fitted probabilities numerically 0 or 1 occurred\""
     ]
    },
    {
     "name": "stdout",
     "output_type": "stream",
     "text": [
      "\n",
      "Step:  AIC=166.07\n",
      "Y ~ factor(funding_indicator) + s_Average.Precol.GPA + s_GRE.Combined.General.Write.Score + \n",
      "    s_GRE.Combined.Quantitative.Score + s_GRE.Combined.General.Verbal.Score + \n",
      "    factor(gap_indicator) + s_start_year\n",
      "\n"
     ]
    },
    {
     "name": "stderr",
     "output_type": "stream",
     "text": [
      "Warning message:\n",
      "\"glm.fit: fitted probabilities numerically 0 or 1 occurred\"Warning message:\n",
      "\"glm.fit: fitted probabilities numerically 0 or 1 occurred\"Warning message:\n",
      "\"glm.fit: fitted probabilities numerically 0 or 1 occurred\"Warning message:\n",
      "\"glm.fit: fitted probabilities numerically 0 or 1 occurred\"Warning message:\n",
      "\"glm.fit: fitted probabilities numerically 0 or 1 occurred\"Warning message:\n",
      "\"glm.fit: fitted probabilities numerically 0 or 1 occurred\"Warning message:\n",
      "\"glm.fit: fitted probabilities numerically 0 or 1 occurred\"Warning message:\n",
      "\"glm.fit: fitted probabilities numerically 0 or 1 occurred\"Warning message:\n",
      "\"glm.fit: fitted probabilities numerically 0 or 1 occurred\"Warning message:\n",
      "\"glm.fit: fitted probabilities numerically 0 or 1 occurred\""
     ]
    },
    {
     "name": "stdout",
     "output_type": "stream",
     "text": [
      "                                      Df Deviance    AIC\n",
      "- s_Average.Precol.GPA                 1   129.87 163.20\n",
      "- factor(gap_indicator)                1   130.11 163.44\n",
      "- s_GRE.Combined.General.Verbal.Score  1   130.36 163.69\n",
      "- factor(funding_indicator)            1   130.59 163.93\n",
      "- s_GRE.Combined.General.Write.Score   1   130.65 163.98\n",
      "<none>                                     127.98 166.07\n",
      "+ s_start_age                          1   127.65 170.51\n",
      "+ GPA_trend                            1   127.85 170.71\n",
      "+ factor(Gender)                       1   127.97 170.82\n",
      "+ avs_net_cost                         1   127.97 170.83\n",
      "- s_GRE.Combined.Quantitative.Score    1   138.42 171.76\n",
      "- s_start_year                         1   138.93 172.26\n",
      "+ factor(Citizenship)                  7   119.69 191.12\n"
     ]
    },
    {
     "name": "stderr",
     "output_type": "stream",
     "text": [
      "Warning message:\n",
      "\"glm.fit: fitted probabilities numerically 0 or 1 occurred\""
     ]
    },
    {
     "name": "stdout",
     "output_type": "stream",
     "text": [
      "\n",
      "Step:  AIC=163.2\n",
      "Y ~ factor(funding_indicator) + s_GRE.Combined.General.Write.Score + \n",
      "    s_GRE.Combined.Quantitative.Score + s_GRE.Combined.General.Verbal.Score + \n",
      "    factor(gap_indicator) + s_start_year\n",
      "\n"
     ]
    },
    {
     "name": "stderr",
     "output_type": "stream",
     "text": [
      "Warning message:\n",
      "\"glm.fit: fitted probabilities numerically 0 or 1 occurred\"Warning message:\n",
      "\"glm.fit: fitted probabilities numerically 0 or 1 occurred\"Warning message:\n",
      "\"glm.fit: fitted probabilities numerically 0 or 1 occurred\"Warning message:\n",
      "\"glm.fit: fitted probabilities numerically 0 or 1 occurred\"Warning message:\n",
      "\"glm.fit: fitted probabilities numerically 0 or 1 occurred\"Warning message:\n",
      "\"glm.fit: fitted probabilities numerically 0 or 1 occurred\"Warning message:\n",
      "\"glm.fit: fitted probabilities numerically 0 or 1 occurred\"Warning message:\n",
      "\"glm.fit: fitted probabilities numerically 0 or 1 occurred\"Warning message:\n",
      "\"glm.fit: fitted probabilities numerically 0 or 1 occurred\"Warning message:\n",
      "\"glm.fit: fitted probabilities numerically 0 or 1 occurred\""
     ]
    },
    {
     "name": "stdout",
     "output_type": "stream",
     "text": [
      "                                      Df Deviance    AIC\n",
      "- factor(gap_indicator)                1   131.52 160.09\n",
      "- factor(funding_indicator)            1   132.31 160.89\n",
      "- s_GRE.Combined.General.Verbal.Score  1   132.39 160.96\n",
      "- s_GRE.Combined.General.Write.Score   1   133.02 161.59\n",
      "<none>                                     129.87 163.20\n",
      "+ s_Average.Precol.GPA                 1   127.98 166.07\n",
      "+ GPA_trend                            1   129.52 167.62\n",
      "+ s_start_age                          1   129.69 167.79\n",
      "+ factor(Gender)                       1   129.81 167.91\n",
      "+ avs_net_cost                         1   129.84 167.94\n",
      "- s_GRE.Combined.Quantitative.Score    1   140.43 169.00\n",
      "- s_start_year                         1   142.03 170.61\n",
      "+ factor(Citizenship)                  7   122.74 189.41\n"
     ]
    },
    {
     "name": "stderr",
     "output_type": "stream",
     "text": [
      "Warning message:\n",
      "\"glm.fit: fitted probabilities numerically 0 or 1 occurred\""
     ]
    },
    {
     "name": "stdout",
     "output_type": "stream",
     "text": [
      "\n",
      "Step:  AIC=160.09\n",
      "Y ~ factor(funding_indicator) + s_GRE.Combined.General.Write.Score + \n",
      "    s_GRE.Combined.Quantitative.Score + s_GRE.Combined.General.Verbal.Score + \n",
      "    s_start_year\n",
      "\n"
     ]
    },
    {
     "name": "stderr",
     "output_type": "stream",
     "text": [
      "Warning message:\n",
      "\"glm.fit: fitted probabilities numerically 0 or 1 occurred\"Warning message:\n",
      "\"glm.fit: fitted probabilities numerically 0 or 1 occurred\"Warning message:\n",
      "\"glm.fit: fitted probabilities numerically 0 or 1 occurred\"Warning message:\n",
      "\"glm.fit: fitted probabilities numerically 0 or 1 occurred\"Warning message:\n",
      "\"glm.fit: fitted probabilities numerically 0 or 1 occurred\"Warning message:\n",
      "\"glm.fit: fitted probabilities numerically 0 or 1 occurred\"Warning message:\n",
      "\"glm.fit: fitted probabilities numerically 0 or 1 occurred\"Warning message:\n",
      "\"glm.fit: fitted probabilities numerically 0 or 1 occurred\"Warning message:\n",
      "\"glm.fit: fitted probabilities numerically 0 or 1 occurred\"Warning message:\n",
      "\"glm.fit: fitted probabilities numerically 0 or 1 occurred\""
     ]
    },
    {
     "name": "stdout",
     "output_type": "stream",
     "text": [
      "                                      Df Deviance    AIC\n",
      "- factor(funding_indicator)            1   133.16 156.97\n",
      "- s_GRE.Combined.General.Verbal.Score  1   134.08 157.89\n",
      "- s_GRE.Combined.General.Write.Score   1   135.62 159.43\n",
      "<none>                                     131.52 160.09\n",
      "+ factor(gap_indicator)                1   129.87 163.20\n",
      "+ s_Average.Precol.GPA                 1   130.11 163.44\n",
      "+ GPA_trend                            1   130.94 164.28\n",
      "+ factor(Gender)                       1   131.44 164.78\n",
      "+ s_start_age                          1   131.45 164.78\n",
      "+ avs_net_cost                         1   131.50 164.84\n",
      "- s_GRE.Combined.Quantitative.Score    1   143.34 167.15\n",
      "- s_start_year                         1   143.37 167.19\n",
      "+ factor(Citizenship)                  7   123.30 185.21\n"
     ]
    },
    {
     "name": "stderr",
     "output_type": "stream",
     "text": [
      "Warning message:\n",
      "\"glm.fit: fitted probabilities numerically 0 or 1 occurred\""
     ]
    },
    {
     "name": "stdout",
     "output_type": "stream",
     "text": [
      "\n",
      "Step:  AIC=156.97\n",
      "Y ~ s_GRE.Combined.General.Write.Score + s_GRE.Combined.Quantitative.Score + \n",
      "    s_GRE.Combined.General.Verbal.Score + s_start_year\n",
      "\n"
     ]
    },
    {
     "name": "stderr",
     "output_type": "stream",
     "text": [
      "Warning message:\n",
      "\"glm.fit: fitted probabilities numerically 0 or 1 occurred\"Warning message:\n",
      "\"glm.fit: fitted probabilities numerically 0 or 1 occurred\"Warning message:\n",
      "\"glm.fit: fitted probabilities numerically 0 or 1 occurred\"Warning message:\n",
      "\"glm.fit: fitted probabilities numerically 0 or 1 occurred\"Warning message:\n",
      "\"glm.fit: fitted probabilities numerically 0 or 1 occurred\"Warning message:\n",
      "\"glm.fit: fitted probabilities numerically 0 or 1 occurred\"Warning message:\n",
      "\"glm.fit: fitted probabilities numerically 0 or 1 occurred\"Warning message:\n",
      "\"glm.fit: fitted probabilities numerically 0 or 1 occurred\"Warning message:\n",
      "\"glm.fit: fitted probabilities numerically 0 or 1 occurred\"Warning message:\n",
      "\"glm.fit: fitted probabilities numerically 0 or 1 occurred\""
     ]
    },
    {
     "name": "stdout",
     "output_type": "stream",
     "text": [
      "                                      Df Deviance    AIC\n",
      "- s_GRE.Combined.General.Verbal.Score  1   136.02 155.07\n",
      "- s_GRE.Combined.General.Write.Score   1   137.34 156.39\n",
      "<none>                                     133.16 156.97\n",
      "+ factor(funding_indicator)            1   131.52 160.09\n",
      "+ s_Average.Precol.GPA                 1   131.74 160.31\n",
      "+ factor(gap_indicator)                1   132.31 160.89\n",
      "+ GPA_trend                            1   132.63 161.20\n",
      "+ s_start_age                          1   132.70 161.27\n",
      "+ avs_net_cost                         1   133.10 161.67\n",
      "+ factor(Gender)                       1   133.13 161.70\n",
      "- s_GRE.Combined.Quantitative.Score    1   144.34 163.39\n",
      "- s_start_year                         1   144.52 163.57\n",
      "+ factor(Citizenship)                  7   125.37 182.51\n",
      "\n",
      "Step:  AIC=155.07\n",
      "Y ~ s_GRE.Combined.General.Write.Score + s_GRE.Combined.Quantitative.Score + \n",
      "    s_start_year\n",
      "\n"
     ]
    },
    {
     "name": "stderr",
     "output_type": "stream",
     "text": [
      "Warning message:\n",
      "\"glm.fit: fitted probabilities numerically 0 or 1 occurred\"Warning message:\n",
      "\"glm.fit: fitted probabilities numerically 0 or 1 occurred\""
     ]
    },
    {
     "name": "stdout",
     "output_type": "stream",
     "text": [
      "                                      Df Deviance    AIC\n",
      "- s_GRE.Combined.General.Write.Score   1   137.38 151.67\n",
      "<none>                                     136.02 155.07\n",
      "+ s_GRE.Combined.General.Verbal.Score  1   133.16 156.97\n",
      "+ factor(funding_indicator)            1   134.08 157.89\n",
      "+ s_Average.Precol.GPA                 1   134.49 158.30\n",
      "+ s_start_age                          1   135.18 158.99\n",
      "+ factor(gap_indicator)                1   135.21 159.02\n",
      "+ GPA_trend                            1   135.48 159.29\n",
      "+ avs_net_cost                         1   135.88 159.69\n",
      "+ factor(Gender)                       1   135.99 159.80\n",
      "- s_start_year                         1   146.88 161.17\n",
      "- s_GRE.Combined.Quantitative.Score    1   147.59 161.87\n",
      "+ factor(Citizenship)                  7   127.76 180.15\n",
      "\n",
      "Step:  AIC=151.67\n",
      "Y ~ s_GRE.Combined.Quantitative.Score + s_start_year\n",
      "\n",
      "                                      Df Deviance    AIC\n",
      "<none>                                     137.38 151.67\n",
      "+ factor(funding_indicator)            1   135.62 154.67\n",
      "+ s_Average.Precol.GPA                 1   135.65 154.69\n",
      "+ s_GRE.Combined.General.Write.Score   1   136.02 155.07\n",
      "+ factor(gap_indicator)                1   136.09 155.14\n",
      "+ s_start_age                          1   136.47 155.52\n",
      "+ GPA_trend                            1   136.81 155.86\n",
      "+ avs_net_cost                         1   137.21 156.26\n",
      "+ factor(Gender)                       1   137.29 156.34\n",
      "+ s_GRE.Combined.General.Verbal.Score  1   137.34 156.39\n",
      "- s_GRE.Combined.Quantitative.Score    1   147.75 157.28\n",
      "- s_start_year                         1   148.10 157.62\n",
      "+ factor(Citizenship)                  7   129.21 176.83\n"
     ]
    }
   ],
   "source": [
    "log_mod_n_bic = stepAIC(log_mod_n, direction = \"both\", k = log(d_n))"
   ]
  },
  {
   "cell_type": "markdown",
   "metadata": {},
   "source": [
    "<b> Significant variables both BIC selects:"
   ]
  },
  {
   "cell_type": "code",
   "execution_count": 45,
   "metadata": {},
   "outputs": [
    {
     "data": {
      "text/html": [
       "<table>\n",
       "<thead><tr><th></th><th scope=col>Estimate</th><th scope=col>Pr(&gt;|z|)</th></tr></thead>\n",
       "<tbody>\n",
       "\t<tr><th scope=row>(Intercept)</th><td> 0.64429</td><td>0.00839 </td></tr>\n",
       "\t<tr><th scope=row>s_start_year</th><td>-0.74315</td><td>0.00559 </td></tr>\n",
       "</tbody>\n",
       "</table>\n"
      ],
      "text/latex": [
       "\\begin{tabular}{r|ll}\n",
       "  & Estimate & Pr(>\\textbar{}z\\textbar{})\\\\\n",
       "\\hline\n",
       "\t(Intercept) &  0.64429 & 0.00839 \\\\\n",
       "\ts\\_start\\_year & -0.74315 & 0.00559 \\\\\n",
       "\\end{tabular}\n"
      ],
      "text/markdown": [
       "\n",
       "| <!--/--> | Estimate | Pr(>|z|) |\n",
       "|---|---|---|\n",
       "| (Intercept) |  0.64429 | 0.00839  |\n",
       "| s_start_year | -0.74315 | 0.00559  |\n",
       "\n"
      ],
      "text/plain": [
       "             Estimate Pr(>|z|)\n",
       "(Intercept)   0.64429 0.00839 \n",
       "s_start_year -0.74315 0.00559 "
      ]
     },
     "metadata": {},
     "output_type": "display_data"
    }
   ],
   "source": [
    "round(summary(log_mod_n_bic)$coeff[which(summary(log_mod_n_bic)$coef[,4] <= .05),c(1,4)],5)"
   ]
  },
  {
   "cell_type": "markdown",
   "metadata": {},
   "source": [
    "# Watson Analysis "
   ]
  },
  {
   "cell_type": "markdown",
   "metadata": {},
   "source": [
    "<b> Logistic regression model:"
   ]
  },
  {
   "cell_type": "code",
   "execution_count": 46,
   "metadata": {},
   "outputs": [
    {
     "data": {
      "text/plain": [
       "\n",
       "Call:\n",
       "glm(formula = Y ~ s_start_age + factor(Gender) + factor(funding_indicator) + \n",
       "    factor(Citizenship) + avs_net_cost + s_Average.Precol.GPA + \n",
       "    s_GRE.Combined.General.Write.Score + s_GRE.Combined.Quantitative.Score + \n",
       "    s_GRE.Combined.General.Verbal.Score + factor(gap_indicator) + \n",
       "    GPA_trend + s_start_year, family = \"binomial\", data = Watson_df)\n",
       "\n",
       "Deviance Residuals: \n",
       "    Min       1Q   Median       3Q      Max  \n",
       "-2.8992  -0.8096   0.5099   0.8056   1.8473  \n",
       "\n",
       "Coefficients:\n",
       "                                                  Estimate Std. Error z value\n",
       "(Intercept)                                      -1.040263   0.397851  -2.615\n",
       "s_start_age                                      -0.058488   0.143647  -0.407\n",
       "factor(Gender)Male                                0.340448   0.274126   1.242\n",
       "factor(funding_indicator)1                        2.056614   0.304657   6.751\n",
       "factor(Citizenship)Africa                        15.228805 530.952812   0.029\n",
       "factor(Citizenship)Asia                           0.778867   0.372364   2.092\n",
       "factor(Citizenship)Asian                          0.015577   0.524077   0.030\n",
       "factor(Citizenship)Black or African American     -0.371757   0.679395  -0.547\n",
       "factor(Citizenship)China                          0.297071   0.382018   0.778\n",
       "factor(Citizenship)Europe                         0.010299   0.849536   0.012\n",
       "factor(Citizenship)Hispanic or Latino             2.666056   1.407661   1.894\n",
       "factor(Citizenship)India                         -0.008189   0.395142  -0.021\n",
       "factor(Citizenship)Other International Students   0.402373   1.429346   0.282\n",
       "factor(Citizenship)Unknown                       -0.292536   0.472910  -0.619\n",
       "avs_net_cost                                      0.345997   0.145447   2.379\n",
       "s_Average.Precol.GPA                              0.248818   0.117439   2.119\n",
       "s_GRE.Combined.General.Write.Score               -0.040497   0.182573  -0.222\n",
       "s_GRE.Combined.Quantitative.Score                -0.338490   0.552004  -0.613\n",
       "s_GRE.Combined.General.Verbal.Score              -0.103796   0.414850  -0.250\n",
       "factor(gap_indicator)1                            0.257207   0.329115   0.782\n",
       "GPA_trend                                         1.078794   0.629300   1.714\n",
       "s_start_year                                     -1.030627   0.169688  -6.074\n",
       "                                                Pr(>|z|)    \n",
       "(Intercept)                                      0.00893 ** \n",
       "s_start_age                                      0.68389    \n",
       "factor(Gender)Male                               0.21426    \n",
       "factor(funding_indicator)1                      1.47e-11 ***\n",
       "factor(Citizenship)Africa                        0.97712    \n",
       "factor(Citizenship)Asia                          0.03647 *  \n",
       "factor(Citizenship)Asian                         0.97629    \n",
       "factor(Citizenship)Black or African American     0.58425    \n",
       "factor(Citizenship)China                         0.43678    \n",
       "factor(Citizenship)Europe                        0.99033    \n",
       "factor(Citizenship)Hispanic or Latino            0.05823 .  \n",
       "factor(Citizenship)India                         0.98347    \n",
       "factor(Citizenship)Other International Students  0.77832    \n",
       "factor(Citizenship)Unknown                       0.53619    \n",
       "avs_net_cost                                     0.01737 *  \n",
       "s_Average.Precol.GPA                             0.03412 *  \n",
       "s_GRE.Combined.General.Write.Score               0.82446    \n",
       "s_GRE.Combined.Quantitative.Score                0.53974    \n",
       "s_GRE.Combined.General.Verbal.Score              0.80243    \n",
       "factor(gap_indicator)1                           0.43450    \n",
       "GPA_trend                                        0.08648 .  \n",
       "s_start_year                                    1.25e-09 ***\n",
       "---\n",
       "Signif. codes:  0 '***' 0.001 '**' 0.01 '*' 0.05 '.' 0.1 ' ' 1\n",
       "\n",
       "(Dispersion parameter for binomial family taken to be 1)\n",
       "\n",
       "    Null deviance: 656.07  on 514  degrees of freedom\n",
       "Residual deviance: 522.09  on 493  degrees of freedom\n",
       "AIC: 566.09\n",
       "\n",
       "Number of Fisher Scoring iterations: 14\n"
      ]
     },
     "metadata": {},
     "output_type": "display_data"
    }
   ],
   "source": [
    "log_mod_w = glm(Y~s_start_age+factor(Gender)+factor(funding_indicator)+factor(Citizenship)+\n",
    "                avs_net_cost+s_Average.Precol.GPA+s_GRE.Combined.General.Write.Score+s_GRE.Combined.Quantitative.Score+s_GRE.Combined.General.Verbal.Score+factor(gap_indicator)+GPA_trend+s_start_year,\n",
    "                data=Watson_df,family=\"binomial\")\n",
    "summary(log_mod_w)"
   ]
  },
  {
   "cell_type": "markdown",
   "metadata": {},
   "source": [
    "<b> Significant Variables of logistic regression model: "
   ]
  },
  {
   "cell_type": "code",
   "execution_count": 47,
   "metadata": {},
   "outputs": [
    {
     "data": {
      "text/html": [
       "<table>\n",
       "<thead><tr><th></th><th scope=col>Estimate</th><th scope=col>Pr(&gt;|z|)</th></tr></thead>\n",
       "<tbody>\n",
       "\t<tr><th scope=row>(Intercept)</th><td>-1.04026</td><td>0.00893 </td></tr>\n",
       "\t<tr><th scope=row>factor(funding_indicator)1</th><td> 2.05661</td><td>0.00000 </td></tr>\n",
       "\t<tr><th scope=row>factor(Citizenship)Asia</th><td> 0.77887</td><td>0.03647 </td></tr>\n",
       "\t<tr><th scope=row>avs_net_cost</th><td> 0.34600</td><td>0.01737 </td></tr>\n",
       "\t<tr><th scope=row>s_Average.Precol.GPA</th><td> 0.24882</td><td>0.03412 </td></tr>\n",
       "\t<tr><th scope=row>s_start_year</th><td>-1.03063</td><td>0.00000 </td></tr>\n",
       "</tbody>\n",
       "</table>\n"
      ],
      "text/latex": [
       "\\begin{tabular}{r|ll}\n",
       "  & Estimate & Pr(>\\textbar{}z\\textbar{})\\\\\n",
       "\\hline\n",
       "\t(Intercept) & -1.04026 & 0.00893 \\\\\n",
       "\tfactor(funding\\_indicator)1 &  2.05661 & 0.00000 \\\\\n",
       "\tfactor(Citizenship)Asia &  0.77887 & 0.03647 \\\\\n",
       "\tavs\\_net\\_cost &  0.34600 & 0.01737 \\\\\n",
       "\ts\\_Average.Precol.GPA &  0.24882 & 0.03412 \\\\\n",
       "\ts\\_start\\_year & -1.03063 & 0.00000 \\\\\n",
       "\\end{tabular}\n"
      ],
      "text/markdown": [
       "\n",
       "| <!--/--> | Estimate | Pr(>|z|) |\n",
       "|---|---|---|\n",
       "| (Intercept) | -1.04026 | 0.00893  |\n",
       "| factor(funding_indicator)1 |  2.05661 | 0.00000  |\n",
       "| factor(Citizenship)Asia |  0.77887 | 0.03647  |\n",
       "| avs_net_cost |  0.34600 | 0.01737  |\n",
       "| s_Average.Precol.GPA |  0.24882 | 0.03412  |\n",
       "| s_start_year | -1.03063 | 0.00000  |\n",
       "\n"
      ],
      "text/plain": [
       "                           Estimate Pr(>|z|)\n",
       "(Intercept)                -1.04026 0.00893 \n",
       "factor(funding_indicator)1  2.05661 0.00000 \n",
       "factor(Citizenship)Asia     0.77887 0.03647 \n",
       "avs_net_cost                0.34600 0.01737 \n",
       "s_Average.Precol.GPA        0.24882 0.03412 \n",
       "s_start_year               -1.03063 0.00000 "
      ]
     },
     "metadata": {},
     "output_type": "display_data"
    }
   ],
   "source": [
    "round(summary(log_mod_w)$coeff[which(summary(log_mod_w)$coef[,4] <= .05),c(1,4)],5)"
   ]
  },
  {
   "cell_type": "markdown",
   "metadata": {},
   "source": [
    "<b> Both AIC:"
   ]
  },
  {
   "cell_type": "code",
   "execution_count": 48,
   "metadata": {
    "scrolled": false
   },
   "outputs": [
    {
     "name": "stdout",
     "output_type": "stream",
     "text": [
      "Start:  AIC=566.09\n",
      "Y ~ s_start_age + factor(Gender) + factor(funding_indicator) + \n",
      "    factor(Citizenship) + avs_net_cost + s_Average.Precol.GPA + \n",
      "    s_GRE.Combined.General.Write.Score + s_GRE.Combined.Quantitative.Score + \n",
      "    s_GRE.Combined.General.Verbal.Score + factor(gap_indicator) + \n",
      "    GPA_trend + s_start_year\n",
      "\n",
      "                                      Df Deviance    AIC\n",
      "- factor(Citizenship)                 10   539.51 563.51\n",
      "- s_GRE.Combined.General.Write.Score   1   522.14 564.14\n",
      "- s_GRE.Combined.General.Verbal.Score  1   522.15 564.15\n",
      "- s_start_age                          1   522.25 564.25\n",
      "- s_GRE.Combined.Quantitative.Score    1   522.46 564.46\n",
      "- factor(gap_indicator)                1   522.71 564.71\n",
      "- factor(Gender)                       1   523.61 565.61\n",
      "<none>                                     522.09 566.09\n",
      "- GPA_trend                            1   525.16 567.16\n",
      "- s_Average.Precol.GPA                 1   527.40 569.40\n",
      "- avs_net_cost                         1   529.35 571.35\n",
      "- s_start_year                         1   567.58 609.58\n",
      "- factor(funding_indicator)            1   573.31 615.31\n",
      "\n",
      "Step:  AIC=563.51\n",
      "Y ~ s_start_age + factor(Gender) + factor(funding_indicator) + \n",
      "    avs_net_cost + s_Average.Precol.GPA + s_GRE.Combined.General.Write.Score + \n",
      "    s_GRE.Combined.Quantitative.Score + s_GRE.Combined.General.Verbal.Score + \n",
      "    factor(gap_indicator) + GPA_trend + s_start_year\n",
      "\n",
      "                                      Df Deviance    AIC\n",
      "- s_GRE.Combined.General.Verbal.Score  1   539.65 561.65\n",
      "- s_start_age                          1   539.68 561.68\n",
      "- factor(gap_indicator)                1   539.72 561.72\n",
      "- s_GRE.Combined.General.Write.Score   1   540.12 562.12\n",
      "- factor(Gender)                       1   540.34 562.34\n",
      "- s_GRE.Combined.Quantitative.Score    1   540.44 562.44\n",
      "<none>                                     539.51 563.51\n",
      "- GPA_trend                            1   541.77 563.77\n",
      "+ factor(Citizenship)                 10   522.09 566.09\n",
      "- s_Average.Precol.GPA                 1   544.98 566.98\n",
      "- avs_net_cost                         1   546.41 568.41\n",
      "- s_start_year                         1   582.09 604.09\n",
      "- factor(funding_indicator)            1   597.12 619.12\n",
      "\n",
      "Step:  AIC=561.65\n",
      "Y ~ s_start_age + factor(Gender) + factor(funding_indicator) + \n",
      "    avs_net_cost + s_Average.Precol.GPA + s_GRE.Combined.General.Write.Score + \n",
      "    s_GRE.Combined.Quantitative.Score + factor(gap_indicator) + \n",
      "    GPA_trend + s_start_year\n",
      "\n",
      "                                      Df Deviance    AIC\n",
      "- s_start_age                          1   539.82 559.82\n",
      "- factor(gap_indicator)                1   539.85 559.85\n",
      "- factor(Gender)                       1   540.46 560.46\n",
      "- s_GRE.Combined.Quantitative.Score    1   540.70 560.70\n",
      "<none>                                     539.65 561.65\n",
      "- GPA_trend                            1   541.90 561.90\n",
      "- s_GRE.Combined.General.Write.Score   1   542.00 562.00\n",
      "+ s_GRE.Combined.General.Verbal.Score  1   539.51 563.51\n",
      "+ factor(Citizenship)                 10   522.15 564.15\n",
      "- s_Average.Precol.GPA                 1   545.21 565.21\n",
      "- avs_net_cost                         1   546.50 566.50\n",
      "- s_start_year                         1   582.25 602.25\n",
      "- factor(funding_indicator)            1   597.67 617.67\n",
      "\n",
      "Step:  AIC=559.82\n",
      "Y ~ factor(Gender) + factor(funding_indicator) + avs_net_cost + \n",
      "    s_Average.Precol.GPA + s_GRE.Combined.General.Write.Score + \n",
      "    s_GRE.Combined.Quantitative.Score + factor(gap_indicator) + \n",
      "    GPA_trend + s_start_year\n",
      "\n",
      "                                      Df Deviance    AIC\n",
      "- factor(gap_indicator)                1   540.02 558.02\n",
      "- factor(Gender)                       1   540.58 558.58\n",
      "- s_GRE.Combined.Quantitative.Score    1   540.80 558.80\n",
      "<none>                                     539.82 559.82\n",
      "- GPA_trend                            1   542.03 560.03\n",
      "- s_GRE.Combined.General.Write.Score   1   542.25 560.25\n",
      "+ s_start_age                          1   539.65 561.65\n",
      "+ s_GRE.Combined.General.Verbal.Score  1   539.68 561.68\n",
      "+ factor(Citizenship)                 10   522.32 562.32\n",
      "- s_Average.Precol.GPA                 1   545.30 563.30\n",
      "- avs_net_cost                         1   546.59 564.59\n",
      "- s_start_year                         1   586.25 604.25\n",
      "- factor(funding_indicator)            1   609.76 627.76\n",
      "\n",
      "Step:  AIC=558.02\n",
      "Y ~ factor(Gender) + factor(funding_indicator) + avs_net_cost + \n",
      "    s_Average.Precol.GPA + s_GRE.Combined.General.Write.Score + \n",
      "    s_GRE.Combined.Quantitative.Score + GPA_trend + s_start_year\n",
      "\n",
      "                                      Df Deviance    AIC\n",
      "- factor(Gender)                       1   540.79 556.79\n",
      "- s_GRE.Combined.Quantitative.Score    1   541.07 557.07\n",
      "<none>                                     540.02 558.02\n",
      "- GPA_trend                            1   542.25 558.25\n",
      "- s_GRE.Combined.General.Write.Score   1   542.41 558.41\n",
      "+ factor(gap_indicator)                1   539.82 559.82\n",
      "+ s_start_age                          1   539.85 559.85\n",
      "+ s_GRE.Combined.General.Verbal.Score  1   539.89 559.89\n",
      "+ factor(Citizenship)                 10   522.94 560.94\n",
      "- s_Average.Precol.GPA                 1   545.46 561.46\n",
      "- avs_net_cost                         1   546.60 562.60\n",
      "- s_start_year                         1   587.97 603.97\n",
      "- factor(funding_indicator)            1   609.85 625.85\n",
      "\n",
      "Step:  AIC=556.79\n",
      "Y ~ factor(funding_indicator) + avs_net_cost + s_Average.Precol.GPA + \n",
      "    s_GRE.Combined.General.Write.Score + s_GRE.Combined.Quantitative.Score + \n",
      "    GPA_trend + s_start_year\n",
      "\n",
      "                                      Df Deviance    AIC\n",
      "- s_GRE.Combined.Quantitative.Score    1   541.75 555.75\n",
      "<none>                                     540.79 556.79\n",
      "- GPA_trend                            1   543.02 557.02\n",
      "- s_GRE.Combined.General.Write.Score   1   543.22 557.22\n",
      "+ factor(Gender)                       1   540.02 558.02\n",
      "+ factor(gap_indicator)                1   540.58 558.58\n",
      "+ s_start_age                          1   540.66 558.66\n",
      "+ s_GRE.Combined.General.Verbal.Score  1   540.68 558.68\n",
      "- s_Average.Precol.GPA                 1   546.08 560.08\n",
      "+ factor(Citizenship)                 10   524.38 560.38\n",
      "- avs_net_cost                         1   547.59 561.59\n",
      "- s_start_year                         1   589.99 603.99\n",
      "- factor(funding_indicator)            1   610.07 624.07\n",
      "\n",
      "Step:  AIC=555.75\n",
      "Y ~ factor(funding_indicator) + avs_net_cost + s_Average.Precol.GPA + \n",
      "    s_GRE.Combined.General.Write.Score + GPA_trend + s_start_year\n",
      "\n",
      "                                      Df Deviance    AIC\n",
      "<none>                                     541.75 555.75\n",
      "- GPA_trend                            1   543.97 555.97\n",
      "- s_GRE.Combined.General.Write.Score   1   544.21 556.21\n",
      "+ s_GRE.Combined.Quantitative.Score    1   540.79 556.79\n",
      "+ factor(Gender)                       1   541.07 557.07\n",
      "+ factor(gap_indicator)                1   541.48 557.48\n",
      "+ s_GRE.Combined.General.Verbal.Score  1   541.53 557.53\n",
      "+ s_start_age                          1   541.69 557.69\n",
      "+ factor(Citizenship)                 10   524.72 558.72\n",
      "- s_Average.Precol.GPA                 1   547.24 559.24\n",
      "- avs_net_cost                         1   549.09 561.09\n",
      "- s_start_year                         1   593.21 605.21\n",
      "- factor(funding_indicator)            1   610.19 622.19\n"
     ]
    }
   ],
   "source": [
    "log_mod_w_aic= stepAIC(log_mod_w, direction = 'both')"
   ]
  },
  {
   "cell_type": "markdown",
   "metadata": {},
   "source": [
    "<b> Significant variables both AIC selects:"
   ]
  },
  {
   "cell_type": "code",
   "execution_count": 49,
   "metadata": {},
   "outputs": [
    {
     "data": {
      "text/html": [
       "<table>\n",
       "<thead><tr><th></th><th scope=col>Estimate</th><th scope=col>Pr(&gt;|z|)</th></tr></thead>\n",
       "<tbody>\n",
       "\t<tr><th scope=row>(Intercept)</th><td>-0.55229</td><td>0.00780 </td></tr>\n",
       "\t<tr><th scope=row>factor(funding_indicator)1</th><td> 2.06392</td><td>0.00000 </td></tr>\n",
       "\t<tr><th scope=row>avs_net_cost</th><td> 0.34672</td><td>0.02120 </td></tr>\n",
       "\t<tr><th scope=row>s_Average.Precol.GPA</th><td> 0.23712</td><td>0.03158 </td></tr>\n",
       "\t<tr><th scope=row>s_start_year</th><td>-1.01476</td><td>0.00000 </td></tr>\n",
       "</tbody>\n",
       "</table>\n"
      ],
      "text/latex": [
       "\\begin{tabular}{r|ll}\n",
       "  & Estimate & Pr(>\\textbar{}z\\textbar{})\\\\\n",
       "\\hline\n",
       "\t(Intercept) & -0.55229 & 0.00780 \\\\\n",
       "\tfactor(funding\\_indicator)1 &  2.06392 & 0.00000 \\\\\n",
       "\tavs\\_net\\_cost &  0.34672 & 0.02120 \\\\\n",
       "\ts\\_Average.Precol.GPA &  0.23712 & 0.03158 \\\\\n",
       "\ts\\_start\\_year & -1.01476 & 0.00000 \\\\\n",
       "\\end{tabular}\n"
      ],
      "text/markdown": [
       "\n",
       "| <!--/--> | Estimate | Pr(>|z|) |\n",
       "|---|---|---|\n",
       "| (Intercept) | -0.55229 | 0.00780  |\n",
       "| factor(funding_indicator)1 |  2.06392 | 0.00000  |\n",
       "| avs_net_cost |  0.34672 | 0.02120  |\n",
       "| s_Average.Precol.GPA |  0.23712 | 0.03158  |\n",
       "| s_start_year | -1.01476 | 0.00000  |\n",
       "\n"
      ],
      "text/plain": [
       "                           Estimate Pr(>|z|)\n",
       "(Intercept)                -0.55229 0.00780 \n",
       "factor(funding_indicator)1  2.06392 0.00000 \n",
       "avs_net_cost                0.34672 0.02120 \n",
       "s_Average.Precol.GPA        0.23712 0.03158 \n",
       "s_start_year               -1.01476 0.00000 "
      ]
     },
     "metadata": {},
     "output_type": "display_data"
    }
   ],
   "source": [
    "round(summary(log_mod_w_aic)$coeff[which(summary(log_mod_w_aic)$coef[,4] <= .05),c(1,4)],5)"
   ]
  },
  {
   "cell_type": "markdown",
   "metadata": {},
   "source": [
    "<b> Both BIC:"
   ]
  },
  {
   "cell_type": "code",
   "execution_count": 50,
   "metadata": {
    "scrolled": false
   },
   "outputs": [
    {
     "name": "stdout",
     "output_type": "stream",
     "text": [
      "Start:  AIC=659.46\n",
      "Y ~ s_start_age + factor(Gender) + factor(funding_indicator) + \n",
      "    factor(Citizenship) + avs_net_cost + s_Average.Precol.GPA + \n",
      "    s_GRE.Combined.General.Write.Score + s_GRE.Combined.Quantitative.Score + \n",
      "    s_GRE.Combined.General.Verbal.Score + factor(gap_indicator) + \n",
      "    GPA_trend + s_start_year\n",
      "\n",
      "                                      Df Deviance    AIC\n",
      "- factor(Citizenship)                 10   539.51 614.44\n",
      "- s_GRE.Combined.General.Write.Score   1   522.14 653.26\n",
      "- s_GRE.Combined.General.Verbal.Score  1   522.15 653.28\n",
      "- s_start_age                          1   522.25 653.38\n",
      "- s_GRE.Combined.Quantitative.Score    1   522.46 653.59\n",
      "- factor(gap_indicator)                1   522.71 653.84\n",
      "- factor(Gender)                       1   523.61 654.74\n",
      "- GPA_trend                            1   525.16 656.29\n",
      "- s_Average.Precol.GPA                 1   527.40 658.53\n",
      "<none>                                     522.09 659.46\n",
      "- avs_net_cost                         1   529.35 660.47\n",
      "- s_start_year                         1   567.58 698.71\n",
      "- factor(funding_indicator)            1   573.31 704.44\n",
      "\n",
      "Step:  AIC=614.44\n",
      "Y ~ s_start_age + factor(Gender) + factor(funding_indicator) + \n",
      "    avs_net_cost + s_Average.Precol.GPA + s_GRE.Combined.General.Write.Score + \n",
      "    s_GRE.Combined.Quantitative.Score + s_GRE.Combined.General.Verbal.Score + \n",
      "    factor(gap_indicator) + GPA_trend + s_start_year\n",
      "\n",
      "                                      Df Deviance    AIC\n",
      "- s_GRE.Combined.General.Verbal.Score  1   539.65 608.33\n",
      "- s_start_age                          1   539.68 608.37\n",
      "- factor(gap_indicator)                1   539.72 608.40\n",
      "- s_GRE.Combined.General.Write.Score   1   540.12 608.81\n",
      "- factor(Gender)                       1   540.34 609.03\n",
      "- s_GRE.Combined.Quantitative.Score    1   540.44 609.13\n",
      "- GPA_trend                            1   541.77 610.45\n",
      "- s_Average.Precol.GPA                 1   544.98 613.67\n",
      "<none>                                     539.51 614.44\n",
      "- avs_net_cost                         1   546.41 615.10\n",
      "- s_start_year                         1   582.09 650.78\n",
      "+ factor(Citizenship)                 10   522.09 659.46\n",
      "- factor(funding_indicator)            1   597.12 665.81\n",
      "\n",
      "Step:  AIC=608.33\n",
      "Y ~ s_start_age + factor(Gender) + factor(funding_indicator) + \n",
      "    avs_net_cost + s_Average.Precol.GPA + s_GRE.Combined.General.Write.Score + \n",
      "    s_GRE.Combined.Quantitative.Score + factor(gap_indicator) + \n",
      "    GPA_trend + s_start_year\n",
      "\n",
      "                                      Df Deviance    AIC\n",
      "- s_start_age                          1   539.82 602.26\n",
      "- factor(gap_indicator)                1   539.85 602.29\n",
      "- factor(Gender)                       1   540.46 602.90\n",
      "- s_GRE.Combined.Quantitative.Score    1   540.70 603.14\n",
      "- GPA_trend                            1   541.90 604.34\n",
      "- s_GRE.Combined.General.Write.Score   1   542.00 604.45\n",
      "- s_Average.Precol.GPA                 1   545.21 607.65\n",
      "<none>                                     539.65 608.33\n",
      "- avs_net_cost                         1   546.50 608.95\n",
      "+ s_GRE.Combined.General.Verbal.Score  1   539.51 614.44\n",
      "- s_start_year                         1   582.25 644.69\n",
      "+ factor(Citizenship)                 10   522.15 653.28\n",
      "- factor(funding_indicator)            1   597.67 660.11\n",
      "\n",
      "Step:  AIC=602.26\n",
      "Y ~ factor(Gender) + factor(funding_indicator) + avs_net_cost + \n",
      "    s_Average.Precol.GPA + s_GRE.Combined.General.Write.Score + \n",
      "    s_GRE.Combined.Quantitative.Score + factor(gap_indicator) + \n",
      "    GPA_trend + s_start_year\n",
      "\n",
      "                                      Df Deviance    AIC\n",
      "- factor(gap_indicator)                1   540.02 596.22\n",
      "- factor(Gender)                       1   540.58 596.78\n",
      "- s_GRE.Combined.Quantitative.Score    1   540.80 597.00\n",
      "- GPA_trend                            1   542.03 598.23\n",
      "- s_GRE.Combined.General.Write.Score   1   542.25 598.45\n",
      "- s_Average.Precol.GPA                 1   545.30 601.49\n",
      "<none>                                     539.82 602.26\n",
      "- avs_net_cost                         1   546.59 602.79\n",
      "+ s_start_age                          1   539.65 608.33\n",
      "+ s_GRE.Combined.General.Verbal.Score  1   539.68 608.37\n",
      "- s_start_year                         1   586.25 642.45\n",
      "+ factor(Citizenship)                 10   522.32 647.21\n",
      "- factor(funding_indicator)            1   609.76 665.95\n",
      "\n",
      "Step:  AIC=596.22\n",
      "Y ~ factor(Gender) + factor(funding_indicator) + avs_net_cost + \n",
      "    s_Average.Precol.GPA + s_GRE.Combined.General.Write.Score + \n",
      "    s_GRE.Combined.Quantitative.Score + GPA_trend + s_start_year\n",
      "\n",
      "                                      Df Deviance    AIC\n",
      "- factor(Gender)                       1   540.79 590.74\n",
      "- s_GRE.Combined.Quantitative.Score    1   541.07 591.02\n",
      "- GPA_trend                            1   542.25 592.20\n",
      "- s_GRE.Combined.General.Write.Score   1   542.41 592.36\n",
      "- s_Average.Precol.GPA                 1   545.46 595.42\n",
      "<none>                                     540.02 596.22\n",
      "- avs_net_cost                         1   546.60 596.56\n",
      "+ factor(gap_indicator)                1   539.82 602.26\n",
      "+ s_start_age                          1   539.85 602.29\n",
      "+ s_GRE.Combined.General.Verbal.Score  1   539.89 602.33\n",
      "- s_start_year                         1   587.97 637.92\n",
      "+ factor(Citizenship)                 10   522.94 641.58\n",
      "- factor(funding_indicator)            1   609.85 659.80\n",
      "\n",
      "Step:  AIC=590.74\n",
      "Y ~ factor(funding_indicator) + avs_net_cost + s_Average.Precol.GPA + \n",
      "    s_GRE.Combined.General.Write.Score + s_GRE.Combined.Quantitative.Score + \n",
      "    GPA_trend + s_start_year\n",
      "\n",
      "                                      Df Deviance    AIC\n",
      "- s_GRE.Combined.Quantitative.Score    1   541.75 585.46\n",
      "- GPA_trend                            1   543.02 586.73\n",
      "- s_GRE.Combined.General.Write.Score   1   543.22 586.93\n",
      "- s_Average.Precol.GPA                 1   546.08 589.79\n",
      "<none>                                     540.79 590.74\n",
      "- avs_net_cost                         1   547.59 591.30\n",
      "+ factor(Gender)                       1   540.02 596.22\n",
      "+ factor(gap_indicator)                1   540.58 596.78\n",
      "+ s_start_age                          1   540.66 596.86\n",
      "+ s_GRE.Combined.General.Verbal.Score  1   540.68 596.87\n",
      "- s_start_year                         1   589.99 633.70\n",
      "+ factor(Citizenship)                 10   524.38 636.77\n",
      "- factor(funding_indicator)            1   610.07 653.78\n",
      "\n",
      "Step:  AIC=585.46\n",
      "Y ~ factor(funding_indicator) + avs_net_cost + s_Average.Precol.GPA + \n",
      "    s_GRE.Combined.General.Write.Score + GPA_trend + s_start_year\n",
      "\n",
      "                                      Df Deviance    AIC\n",
      "- GPA_trend                            1   543.97 581.44\n",
      "- s_GRE.Combined.General.Write.Score   1   544.21 581.67\n",
      "- s_Average.Precol.GPA                 1   547.24 584.70\n",
      "<none>                                     541.75 585.46\n",
      "- avs_net_cost                         1   549.09 586.55\n",
      "+ s_GRE.Combined.Quantitative.Score    1   540.79 590.74\n",
      "+ factor(Gender)                       1   541.07 591.02\n",
      "+ factor(gap_indicator)                1   541.48 591.44\n",
      "+ s_GRE.Combined.General.Verbal.Score  1   541.53 591.49\n",
      "+ s_start_age                          1   541.69 591.64\n",
      "- s_start_year                         1   593.21 630.67\n",
      "+ factor(Citizenship)                 10   524.72 630.87\n",
      "- factor(funding_indicator)            1   610.19 647.66\n",
      "\n",
      "Step:  AIC=581.44\n",
      "Y ~ factor(funding_indicator) + avs_net_cost + s_Average.Precol.GPA + \n",
      "    s_GRE.Combined.General.Write.Score + s_start_year\n",
      "\n",
      "                                      Df Deviance    AIC\n",
      "- s_GRE.Combined.General.Write.Score   1   546.05 577.27\n",
      "- s_Average.Precol.GPA                 1   549.91 581.13\n",
      "<none>                                     543.97 581.44\n",
      "- avs_net_cost                         1   551.38 582.60\n",
      "+ GPA_trend                            1   541.75 585.46\n",
      "+ s_GRE.Combined.Quantitative.Score    1   543.02 586.73\n",
      "+ factor(Gender)                       1   543.29 587.00\n",
      "+ factor(gap_indicator)                1   543.69 587.40\n",
      "+ s_GRE.Combined.General.Verbal.Score  1   543.76 587.47\n",
      "+ s_start_age                          1   543.93 587.64\n",
      "+ factor(Citizenship)                 10   527.80 627.71\n",
      "- s_start_year                         1   597.30 628.52\n",
      "- factor(funding_indicator)            1   615.59 646.81\n"
     ]
    },
    {
     "name": "stdout",
     "output_type": "stream",
     "text": [
      "\n",
      "Step:  AIC=577.27\n",
      "Y ~ factor(funding_indicator) + avs_net_cost + s_Average.Precol.GPA + \n",
      "    s_start_year\n",
      "\n",
      "                                      Df Deviance    AIC\n",
      "- s_Average.Precol.GPA                 1   551.63 576.60\n",
      "<none>                                     546.05 577.27\n",
      "- avs_net_cost                         1   552.85 577.82\n",
      "+ s_GRE.Combined.General.Write.Score   1   543.97 581.44\n",
      "+ s_GRE.Combined.General.Verbal.Score  1   544.18 581.65\n",
      "+ GPA_trend                            1   544.21 581.67\n",
      "+ s_GRE.Combined.Quantitative.Score    1   545.09 582.55\n",
      "+ factor(Gender)                       1   545.32 582.79\n",
      "+ factor(gap_indicator)                1   545.82 583.29\n",
      "+ s_start_age                          1   545.98 583.44\n",
      "+ factor(Citizenship)                 10   528.06 621.73\n",
      "- s_start_year                         1   598.56 623.54\n",
      "- factor(funding_indicator)            1   620.23 645.20\n",
      "\n",
      "Step:  AIC=576.6\n",
      "Y ~ factor(funding_indicator) + avs_net_cost + s_start_year\n",
      "\n",
      "                                      Df Deviance    AIC\n",
      "<none>                                     551.63 576.60\n",
      "+ s_Average.Precol.GPA                 1   546.05 577.27\n",
      "- avs_net_cost                         1   558.80 577.53\n",
      "+ GPA_trend                            1   549.37 580.59\n",
      "+ s_GRE.Combined.General.Verbal.Score  1   549.80 581.02\n",
      "+ s_GRE.Combined.General.Write.Score   1   549.91 581.13\n",
      "+ s_GRE.Combined.Quantitative.Score    1   550.45 581.67\n",
      "+ factor(Gender)                       1   551.05 582.27\n",
      "+ factor(gap_indicator)                1   551.42 582.64\n",
      "+ s_start_age                          1   551.62 582.84\n",
      "+ factor(Citizenship)                 10   533.69 621.11\n",
      "- s_start_year                         1   611.85 630.59\n",
      "- factor(funding_indicator)            1   625.17 643.90\n"
     ]
    }
   ],
   "source": [
    "log_mod_w_bic = stepAIC(log_mod_w, direction = \"both\", k = log(e_n))"
   ]
  },
  {
   "cell_type": "markdown",
   "metadata": {},
   "source": [
    "<b> Significant variables both BIC selects:"
   ]
  },
  {
   "cell_type": "code",
   "execution_count": 51,
   "metadata": {},
   "outputs": [
    {
     "data": {
      "text/plain": [
       "\n",
       "Call:\n",
       "glm(formula = Y ~ factor(funding_indicator) + avs_net_cost + \n",
       "    s_start_year, family = \"binomial\", data = Watson_df)\n",
       "\n",
       "Deviance Residuals: \n",
       "    Min       1Q   Median       3Q      Max  \n",
       "-2.8893  -0.9101   0.5567   0.8484   1.7719  \n",
       "\n",
       "Coefficients:\n",
       "                           Estimate Std. Error z value Pr(>|z|)    \n",
       "(Intercept)                 -0.5034     0.2001  -2.516   0.0119 *  \n",
       "factor(funding_indicator)1   2.0988     0.2644   7.939 2.04e-15 ***\n",
       "avs_net_cost                 0.3515     0.1548   2.270   0.0232 *  \n",
       "s_start_year                -1.0004     0.1437  -6.963 3.34e-12 ***\n",
       "---\n",
       "Signif. codes:  0 '***' 0.001 '**' 0.01 '*' 0.05 '.' 0.1 ' ' 1\n",
       "\n",
       "(Dispersion parameter for binomial family taken to be 1)\n",
       "\n",
       "    Null deviance: 656.07  on 514  degrees of freedom\n",
       "Residual deviance: 551.63  on 511  degrees of freedom\n",
       "AIC: 559.63\n",
       "\n",
       "Number of Fisher Scoring iterations: 4\n"
      ]
     },
     "metadata": {},
     "output_type": "display_data"
    }
   ],
   "source": [
    "summary(log_mod_w_bic)"
   ]
  },
  {
   "cell_type": "code",
   "execution_count": 52,
   "metadata": {
    "scrolled": true
   },
   "outputs": [
    {
     "data": {
      "text/html": [
       "<table>\n",
       "<thead><tr><th></th><th scope=col>Estimate</th><th scope=col>Pr(&gt;|z|)</th></tr></thead>\n",
       "<tbody>\n",
       "\t<tr><th scope=row>(Intercept)</th><td>-0.50338</td><td>0.01188 </td></tr>\n",
       "\t<tr><th scope=row>factor(funding_indicator)1</th><td> 2.09885</td><td>0.00000 </td></tr>\n",
       "\t<tr><th scope=row>avs_net_cost</th><td> 0.35147</td><td>0.02320 </td></tr>\n",
       "\t<tr><th scope=row>s_start_year</th><td>-1.00040</td><td>0.00000 </td></tr>\n",
       "</tbody>\n",
       "</table>\n"
      ],
      "text/latex": [
       "\\begin{tabular}{r|ll}\n",
       "  & Estimate & Pr(>\\textbar{}z\\textbar{})\\\\\n",
       "\\hline\n",
       "\t(Intercept) & -0.50338 & 0.01188 \\\\\n",
       "\tfactor(funding\\_indicator)1 &  2.09885 & 0.00000 \\\\\n",
       "\tavs\\_net\\_cost &  0.35147 & 0.02320 \\\\\n",
       "\ts\\_start\\_year & -1.00040 & 0.00000 \\\\\n",
       "\\end{tabular}\n"
      ],
      "text/markdown": [
       "\n",
       "| <!--/--> | Estimate | Pr(>|z|) |\n",
       "|---|---|---|\n",
       "| (Intercept) | -0.50338 | 0.01188  |\n",
       "| factor(funding_indicator)1 |  2.09885 | 0.00000  |\n",
       "| avs_net_cost |  0.35147 | 0.02320  |\n",
       "| s_start_year | -1.00040 | 0.00000  |\n",
       "\n"
      ],
      "text/plain": [
       "                           Estimate Pr(>|z|)\n",
       "(Intercept)                -0.50338 0.01188 \n",
       "factor(funding_indicator)1  2.09885 0.00000 \n",
       "avs_net_cost                0.35147 0.02320 \n",
       "s_start_year               -1.00040 0.00000 "
      ]
     },
     "metadata": {},
     "output_type": "display_data"
    }
   ],
   "source": [
    "round(summary(log_mod_w_bic)$coeff[which(summary(log_mod_w_bic)$coef[,4] <= .05),c(1,4)],5)"
   ]
  },
  {
   "cell_type": "markdown",
   "metadata": {},
   "source": [
    "# Joint Analysis"
   ]
  },
  {
   "cell_type": "markdown",
   "metadata": {},
   "source": [
    "<b> Logistic regression model:"
   ]
  },
  {
   "cell_type": "code",
   "execution_count": 223,
   "metadata": {},
   "outputs": [],
   "source": [
    "int_chn = function(x) ifelse(x=='China',1,0)\n",
    "int_afc = function(x) ifelse(x=='Africa',1,0)\n",
    "int_asia = function(x) ifelse(x=='Asia',1,0)"
   ]
  },
  {
   "cell_type": "code",
   "execution_count": 224,
   "metadata": {},
   "outputs": [],
   "source": [
    "df <- within(df, s_Citizenship <- relevel(s_Citizenship, ref = \"White\"))\n",
    "df <- within(df, s_College <- relevel(s_College, ref = \"GD Non-Harpur\"))"
   ]
  },
  {
   "cell_type": "code",
   "execution_count": 225,
   "metadata": {},
   "outputs": [
    {
     "data": {
      "text/plain": [
       "\n",
       "Call:\n",
       "glm(formula = Y ~ factor(funding_indicator) + factor(s_Citizenship) + \n",
       "    avs_net_cost + s_Average.Precol.GPA + s_GRE.Combined.General.Verbal.Score + \n",
       "    s_GRE.Combined.General.Write.Score + GPA_trend + s_start_year + \n",
       "    factor(s_College) + avs_net_cost:factor(s_College) + factor(s_College):factor(s_Citizenship) + \n",
       "    factor(s_College):s_GRE.Combined.General.Verbal.Score + factor(s_College):s_Average.Precol.GPA + \n",
       "    factor(s_College):s_GRE.Combined.General.Write.Score, family = \"binomial\", \n",
       "    data = df)\n",
       "\n",
       "Deviance Residuals: \n",
       "    Min       1Q   Median       3Q      Max  \n",
       "-2.8023  -1.0996   0.6777   0.9248   1.9389  \n",
       "\n",
       "Coefficients:\n",
       "                                                               Estimate\n",
       "(Intercept)                                                     0.02618\n",
       "factor(funding_indicator)1                                      1.08072\n",
       "factor(s_Citizenship)Africa                                     1.70099\n",
       "factor(s_Citizenship)Asia                                       0.41488\n",
       "factor(s_Citizenship)China                                      0.26405\n",
       "avs_net_cost                                                    0.33120\n",
       "s_Average.Precol.GPA                                            0.16508\n",
       "s_GRE.Combined.General.Verbal.Score                            -0.21616\n",
       "s_GRE.Combined.General.Write.Score                             -0.03925\n",
       "GPA_trend                                                       0.99588\n",
       "s_start_year                                                   -0.81080\n",
       "factor(s_College)GD Harpur                                     -0.58166\n",
       "avs_net_cost:factor(s_College)GD Harpur                        -0.31820\n",
       "factor(s_Citizenship)Africa:factor(s_College)GD Harpur         -0.97684\n",
       "factor(s_Citizenship)Asia:factor(s_College)GD Harpur            0.19812\n",
       "factor(s_Citizenship)China:factor(s_College)GD Harpur           0.03302\n",
       "s_GRE.Combined.General.Verbal.Score:factor(s_College)GD Harpur  0.15903\n",
       "s_Average.Precol.GPA:factor(s_College)GD Harpur                -0.03522\n",
       "s_GRE.Combined.General.Write.Score:factor(s_College)GD Harpur  -0.01099\n",
       "                                                               Std. Error\n",
       "(Intercept)                                                       0.11596\n",
       "factor(funding_indicator)1                                        0.11381\n",
       "factor(s_Citizenship)Africa                                       1.07833\n",
       "factor(s_Citizenship)Asia                                         0.23021\n",
       "factor(s_Citizenship)China                                        0.20905\n",
       "avs_net_cost                                                      0.11248\n",
       "s_Average.Precol.GPA                                              0.07815\n",
       "s_GRE.Combined.General.Verbal.Score                               0.29676\n",
       "s_GRE.Combined.General.Write.Score                                0.13506\n",
       "GPA_trend                                                         0.27049\n",
       "s_start_year                                                      0.05843\n",
       "factor(s_College)GD Harpur                                        0.12700\n",
       "avs_net_cost:factor(s_College)GD Harpur                           0.12298\n",
       "factor(s_Citizenship)Africa:factor(s_College)GD Harpur            1.13021\n",
       "factor(s_Citizenship)Asia:factor(s_College)GD Harpur              0.30283\n",
       "factor(s_Citizenship)China:factor(s_College)GD Harpur             0.29256\n",
       "s_GRE.Combined.General.Verbal.Score:factor(s_College)GD Harpur    0.30365\n",
       "s_Average.Precol.GPA:factor(s_College)GD Harpur                   0.09774\n",
       "s_GRE.Combined.General.Write.Score:factor(s_College)GD Harpur     0.14762\n",
       "                                                               z value Pr(>|z|)\n",
       "(Intercept)                                                      0.226 0.821401\n",
       "factor(funding_indicator)1                                       9.496  < 2e-16\n",
       "factor(s_Citizenship)Africa                                      1.577 0.114698\n",
       "factor(s_Citizenship)Asia                                        1.802 0.071517\n",
       "factor(s_Citizenship)China                                       1.263 0.206563\n",
       "avs_net_cost                                                     2.945 0.003233\n",
       "s_Average.Precol.GPA                                             2.112 0.034656\n",
       "s_GRE.Combined.General.Verbal.Score                             -0.728 0.466370\n",
       "s_GRE.Combined.General.Write.Score                              -0.291 0.771335\n",
       "GPA_trend                                                        3.682 0.000232\n",
       "s_start_year                                                   -13.876  < 2e-16\n",
       "factor(s_College)GD Harpur                                      -4.580 4.65e-06\n",
       "avs_net_cost:factor(s_College)GD Harpur                         -2.587 0.009671\n",
       "factor(s_Citizenship)Africa:factor(s_College)GD Harpur          -0.864 0.387424\n",
       "factor(s_Citizenship)Asia:factor(s_College)GD Harpur             0.654 0.512955\n",
       "factor(s_Citizenship)China:factor(s_College)GD Harpur            0.113 0.910127\n",
       "s_GRE.Combined.General.Verbal.Score:factor(s_College)GD Harpur   0.524 0.600470\n",
       "s_Average.Precol.GPA:factor(s_College)GD Harpur                 -0.360 0.718592\n",
       "s_GRE.Combined.General.Write.Score:factor(s_College)GD Harpur   -0.074 0.940674\n",
       "                                                                  \n",
       "(Intercept)                                                       \n",
       "factor(funding_indicator)1                                     ***\n",
       "factor(s_Citizenship)Africa                                       \n",
       "factor(s_Citizenship)Asia                                      .  \n",
       "factor(s_Citizenship)China                                        \n",
       "avs_net_cost                                                   ** \n",
       "s_Average.Precol.GPA                                           *  \n",
       "s_GRE.Combined.General.Verbal.Score                               \n",
       "s_GRE.Combined.General.Write.Score                                \n",
       "GPA_trend                                                      ***\n",
       "s_start_year                                                   ***\n",
       "factor(s_College)GD Harpur                                     ***\n",
       "avs_net_cost:factor(s_College)GD Harpur                        ** \n",
       "factor(s_Citizenship)Africa:factor(s_College)GD Harpur            \n",
       "factor(s_Citizenship)Asia:factor(s_College)GD Harpur              \n",
       "factor(s_Citizenship)China:factor(s_College)GD Harpur             \n",
       "s_GRE.Combined.General.Verbal.Score:factor(s_College)GD Harpur    \n",
       "s_Average.Precol.GPA:factor(s_College)GD Harpur                   \n",
       "s_GRE.Combined.General.Write.Score:factor(s_College)GD Harpur     \n",
       "---\n",
       "Signif. codes:  0 '***' 0.001 '**' 0.01 '*' 0.05 '.' 0.1 ' ' 1\n",
       "\n",
       "(Dispersion parameter for binomial family taken to be 1)\n",
       "\n",
       "    Null deviance: 3281.8  on 2469  degrees of freedom\n",
       "Residual deviance: 2950.2  on 2451  degrees of freedom\n",
       "AIC: 2988.2\n",
       "\n",
       "Number of Fisher Scoring iterations: 4\n"
      ]
     },
     "metadata": {},
     "output_type": "display_data"
    }
   ],
   "source": [
    "log_mod_total = glm(Y~factor(funding_indicator)+factor(s_Citizenship)+\n",
    "                avs_net_cost+s_Average.Precol.GPA+s_GRE.Combined.General.Verbal.Score+s_GRE.Combined.General.Write.Score+GPA_trend+s_start_year+factor(s_College)+avs_net_cost:factor(s_College)+\n",
    "                factor(s_College):factor(s_Citizenship)+factor(s_College):s_GRE.Combined.General.Verbal.Score+factor(s_College):s_Average.Precol.GPA+factor(s_College):s_GRE.Combined.General.Write.Score,\n",
    "                data=df,family=\"binomial\")\n",
    "summary(log_mod_total)"
   ]
  },
  {
   "cell_type": "markdown",
   "metadata": {},
   "source": [
    "<b> Significant Variables of logistic regression model:"
   ]
  },
  {
   "cell_type": "code",
   "execution_count": 227,
   "metadata": {
    "scrolled": true
   },
   "outputs": [
    {
     "data": {
      "text/html": [
       "<table>\n",
       "<thead><tr><th></th><th scope=col>Estimate</th><th scope=col>Pr(&gt;|z|)</th></tr></thead>\n",
       "<tbody>\n",
       "\t<tr><th scope=row>factor(funding_indicator)1</th><td> 1.08072</td><td>0.00000 </td></tr>\n",
       "\t<tr><th scope=row>avs_net_cost</th><td> 0.33120</td><td>0.00323 </td></tr>\n",
       "\t<tr><th scope=row>s_Average.Precol.GPA</th><td> 0.16508</td><td>0.03466 </td></tr>\n",
       "\t<tr><th scope=row>GPA_trend</th><td> 0.99588</td><td>0.00023 </td></tr>\n",
       "\t<tr><th scope=row>s_start_year</th><td>-0.81080</td><td>0.00000 </td></tr>\n",
       "\t<tr><th scope=row>factor(s_College)GD Harpur</th><td>-0.58166</td><td>0.00000 </td></tr>\n",
       "\t<tr><th scope=row>avs_net_cost:factor(s_College)GD Harpur</th><td>-0.31820</td><td>0.00967 </td></tr>\n",
       "</tbody>\n",
       "</table>\n"
      ],
      "text/latex": [
       "\\begin{tabular}{r|ll}\n",
       "  & Estimate & Pr(>\\textbar{}z\\textbar{})\\\\\n",
       "\\hline\n",
       "\tfactor(funding\\_indicator)1 &  1.08072 & 0.00000 \\\\\n",
       "\tavs\\_net\\_cost &  0.33120 & 0.00323 \\\\\n",
       "\ts\\_Average.Precol.GPA &  0.16508 & 0.03466 \\\\\n",
       "\tGPA\\_trend &  0.99588 & 0.00023 \\\\\n",
       "\ts\\_start\\_year & -0.81080 & 0.00000 \\\\\n",
       "\tfactor(s\\_College)GD Harpur & -0.58166 & 0.00000 \\\\\n",
       "\tavs\\_net\\_cost:factor(s\\_College)GD Harpur & -0.31820 & 0.00967 \\\\\n",
       "\\end{tabular}\n"
      ],
      "text/markdown": [
       "\n",
       "| <!--/--> | Estimate | Pr(>|z|) |\n",
       "|---|---|---|\n",
       "| factor(funding_indicator)1 |  1.08072 | 0.00000  |\n",
       "| avs_net_cost |  0.33120 | 0.00323  |\n",
       "| s_Average.Precol.GPA |  0.16508 | 0.03466  |\n",
       "| GPA_trend |  0.99588 | 0.00023  |\n",
       "| s_start_year | -0.81080 | 0.00000  |\n",
       "| factor(s_College)GD Harpur | -0.58166 | 0.00000  |\n",
       "| avs_net_cost:factor(s_College)GD Harpur | -0.31820 | 0.00967  |\n",
       "\n"
      ],
      "text/plain": [
       "                                        Estimate Pr(>|z|)\n",
       "factor(funding_indicator)1               1.08072 0.00000 \n",
       "avs_net_cost                             0.33120 0.00323 \n",
       "s_Average.Precol.GPA                     0.16508 0.03466 \n",
       "GPA_trend                                0.99588 0.00023 \n",
       "s_start_year                            -0.81080 0.00000 \n",
       "factor(s_College)GD Harpur              -0.58166 0.00000 \n",
       "avs_net_cost:factor(s_College)GD Harpur -0.31820 0.00967 "
      ]
     },
     "metadata": {},
     "output_type": "display_data"
    }
   ],
   "source": [
    "round(summary(log_mod_total)$coeff[which(summary(log_mod_total)$coef[,4] <= .05),c(1,4)],5)"
   ]
  },
  {
   "cell_type": "markdown",
   "metadata": {},
   "source": [
    "<b> Both AIC:"
   ]
  },
  {
   "cell_type": "code",
   "execution_count": 228,
   "metadata": {
    "scrolled": true
   },
   "outputs": [
    {
     "name": "stdout",
     "output_type": "stream",
     "text": [
      "Start:  AIC=2988.15\n",
      "Y ~ factor(funding_indicator) + factor(s_Citizenship) + avs_net_cost + \n",
      "    s_Average.Precol.GPA + s_GRE.Combined.General.Verbal.Score + \n",
      "    s_GRE.Combined.General.Write.Score + GPA_trend + s_start_year + \n",
      "    factor(s_College) + avs_net_cost:factor(s_College) + factor(s_College):factor(s_Citizenship) + \n",
      "    factor(s_College):s_GRE.Combined.General.Verbal.Score + factor(s_College):s_Average.Precol.GPA + \n",
      "    factor(s_College):s_GRE.Combined.General.Write.Score\n",
      "\n",
      "                                                        Df Deviance    AIC\n",
      "- factor(s_Citizenship):factor(s_College)                3   2951.6 2983.6\n",
      "- s_GRE.Combined.General.Write.Score:factor(s_College)   1   2950.2 2986.2\n",
      "- s_Average.Precol.GPA:factor(s_College)                 1   2950.3 2986.3\n",
      "- s_GRE.Combined.General.Verbal.Score:factor(s_College)  1   2950.4 2986.4\n",
      "<none>                                                       2950.2 2988.2\n",
      "- avs_net_cost:factor(s_College)                         1   2958.1 2994.1\n",
      "- GPA_trend                                              1   2964.8 3000.8\n",
      "- factor(funding_indicator)                              1   3044.7 3080.7\n",
      "- s_start_year                                           1   3179.8 3215.8\n",
      "\n",
      "Step:  AIC=2983.58\n",
      "Y ~ factor(funding_indicator) + factor(s_Citizenship) + avs_net_cost + \n",
      "    s_Average.Precol.GPA + s_GRE.Combined.General.Verbal.Score + \n",
      "    s_GRE.Combined.General.Write.Score + GPA_trend + s_start_year + \n",
      "    factor(s_College) + avs_net_cost:factor(s_College) + s_GRE.Combined.General.Verbal.Score:factor(s_College) + \n",
      "    s_Average.Precol.GPA:factor(s_College) + s_GRE.Combined.General.Write.Score:factor(s_College)\n",
      "\n",
      "                                                        Df Deviance    AIC\n",
      "- s_GRE.Combined.General.Write.Score:factor(s_College)   1   2951.6 2981.6\n",
      "- s_Average.Precol.GPA:factor(s_College)                 1   2951.7 2981.7\n",
      "- s_GRE.Combined.General.Verbal.Score:factor(s_College)  1   2951.8 2981.8\n",
      "<none>                                                       2951.6 2983.6\n",
      "+ factor(s_Citizenship):factor(s_College)                3   2950.2 2988.2\n",
      "- avs_net_cost:factor(s_College)                         1   2959.5 2989.5\n",
      "- GPA_trend                                              1   2966.1 2996.1\n",
      "- factor(s_Citizenship)                                  3   2971.6 2997.6\n",
      "- factor(funding_indicator)                              1   3047.0 3077.0\n",
      "- s_start_year                                           1   3184.8 3214.8\n",
      "\n",
      "Step:  AIC=2981.61\n",
      "Y ~ factor(funding_indicator) + factor(s_Citizenship) + avs_net_cost + \n",
      "    s_Average.Precol.GPA + s_GRE.Combined.General.Verbal.Score + \n",
      "    s_GRE.Combined.General.Write.Score + GPA_trend + s_start_year + \n",
      "    factor(s_College) + avs_net_cost:factor(s_College) + s_GRE.Combined.General.Verbal.Score:factor(s_College) + \n",
      "    s_Average.Precol.GPA:factor(s_College)\n",
      "\n",
      "                                                        Df Deviance    AIC\n",
      "- s_Average.Precol.GPA:factor(s_College)                 1   2951.7 2979.7\n",
      "- s_GRE.Combined.General.Verbal.Score:factor(s_College)  1   2951.8 2979.8\n",
      "- s_GRE.Combined.General.Write.Score                     1   2952.5 2980.5\n",
      "<none>                                                       2951.6 2981.6\n",
      "+ s_GRE.Combined.General.Write.Score:factor(s_College)   1   2951.6 2983.6\n",
      "+ factor(s_Citizenship):factor(s_College)                3   2950.2 2986.2\n",
      "- avs_net_cost:factor(s_College)                         1   2959.5 2987.5\n",
      "- GPA_trend                                              1   2966.1 2994.1\n",
      "- factor(s_Citizenship)                                  3   2971.6 2995.6\n",
      "- factor(funding_indicator)                              1   3047.2 3075.2\n",
      "- s_start_year                                           1   3186.1 3214.1\n",
      "\n",
      "Step:  AIC=2979.75\n",
      "Y ~ factor(funding_indicator) + factor(s_Citizenship) + avs_net_cost + \n",
      "    s_Average.Precol.GPA + s_GRE.Combined.General.Verbal.Score + \n",
      "    s_GRE.Combined.General.Write.Score + GPA_trend + s_start_year + \n",
      "    factor(s_College) + avs_net_cost:factor(s_College) + s_GRE.Combined.General.Verbal.Score:factor(s_College)\n",
      "\n",
      "                                                        Df Deviance    AIC\n",
      "- s_GRE.Combined.General.Verbal.Score:factor(s_College)  1   2951.9 2977.9\n",
      "- s_GRE.Combined.General.Write.Score                     1   2952.7 2978.7\n",
      "<none>                                                       2951.7 2979.7\n",
      "+ s_Average.Precol.GPA:factor(s_College)                 1   2951.6 2981.6\n",
      "+ s_GRE.Combined.General.Write.Score:factor(s_College)   1   2951.7 2981.7\n",
      "+ factor(s_Citizenship):factor(s_College)                3   2950.3 2984.3\n",
      "- avs_net_cost:factor(s_College)                         1   2959.7 2985.7\n",
      "- s_Average.Precol.GPA                                   1   2961.7 2987.7\n",
      "- GPA_trend                                              1   2966.5 2992.5\n",
      "- factor(s_Citizenship)                                  3   2971.7 2993.7\n",
      "- factor(funding_indicator)                              1   3047.2 3073.2\n",
      "- s_start_year                                           1   3186.4 3212.4\n",
      "\n",
      "Step:  AIC=2977.93\n",
      "Y ~ factor(funding_indicator) + factor(s_Citizenship) + avs_net_cost + \n",
      "    s_Average.Precol.GPA + s_GRE.Combined.General.Verbal.Score + \n",
      "    s_GRE.Combined.General.Write.Score + GPA_trend + s_start_year + \n",
      "    factor(s_College) + avs_net_cost:factor(s_College)\n",
      "\n",
      "                                                        Df Deviance    AIC\n",
      "- s_GRE.Combined.General.Verbal.Score                    1   2953.2 2977.2\n",
      "- s_GRE.Combined.General.Write.Score                     1   2953.3 2977.3\n",
      "<none>                                                       2951.9 2977.9\n",
      "+ s_GRE.Combined.General.Verbal.Score:factor(s_College)  1   2951.7 2979.7\n",
      "+ s_Average.Precol.GPA:factor(s_College)                 1   2951.8 2979.8\n",
      "+ s_GRE.Combined.General.Write.Score:factor(s_College)   1   2951.9 2979.9\n",
      "+ factor(s_Citizenship):factor(s_College)                3   2950.6 2982.6\n",
      "- avs_net_cost:factor(s_College)                         1   2959.8 2983.8\n",
      "- s_Average.Precol.GPA                                   1   2962.0 2986.0\n",
      "- GPA_trend                                              1   2966.6 2990.6\n",
      "- factor(s_Citizenship)                                  3   2972.2 2992.2\n",
      "- factor(funding_indicator)                              1   3048.6 3072.6\n",
      "- s_start_year                                           1   3187.6 3211.6\n",
      "\n",
      "Step:  AIC=2977.19\n",
      "Y ~ factor(funding_indicator) + factor(s_Citizenship) + avs_net_cost + \n",
      "    s_Average.Precol.GPA + s_GRE.Combined.General.Write.Score + \n",
      "    GPA_trend + s_start_year + factor(s_College) + avs_net_cost:factor(s_College)\n",
      "\n",
      "                                                       Df Deviance    AIC\n",
      "<none>                                                      2953.2 2977.2\n",
      "- s_GRE.Combined.General.Write.Score                    1   2955.4 2977.4\n",
      "+ s_GRE.Combined.General.Verbal.Score                   1   2951.9 2977.9\n",
      "+ s_Average.Precol.GPA:factor(s_College)                1   2953.1 2979.1\n",
      "+ s_GRE.Combined.General.Write.Score:factor(s_College)  1   2953.1 2979.1\n",
      "+ factor(s_Citizenship):factor(s_College)               3   2951.9 2981.9\n",
      "- avs_net_cost:factor(s_College)                        1   2961.0 2983.0\n",
      "- s_Average.Precol.GPA                                  1   2963.0 2985.0\n",
      "- GPA_trend                                             1   2968.4 2990.4\n",
      "- factor(s_Citizenship)                                 3   2973.7 2991.7\n",
      "- factor(funding_indicator)                             1   3050.4 3072.4\n",
      "- s_start_year                                          1   3189.1 3211.1\n"
     ]
    }
   ],
   "source": [
    "log_mod_total_aic= stepAIC(log_mod_total, direction = 'both')"
   ]
  },
  {
   "cell_type": "markdown",
   "metadata": {},
   "source": [
    "<b> Significant variables both AIC selects:"
   ]
  },
  {
   "cell_type": "code",
   "execution_count": 229,
   "metadata": {
    "scrolled": true
   },
   "outputs": [
    {
     "data": {
      "text/html": [
       "<table>\n",
       "<thead><tr><th></th><th scope=col>Estimate</th><th scope=col>Pr(&gt;|z|)</th></tr></thead>\n",
       "<tbody>\n",
       "\t<tr><th scope=row>factor(funding_indicator)1</th><td> 1.07725</td><td>0.00000 </td></tr>\n",
       "\t<tr><th scope=row>factor(s_Citizenship)Africa</th><td> 0.84144</td><td>0.00837 </td></tr>\n",
       "\t<tr><th scope=row>factor(s_Citizenship)Asia</th><td> 0.53759</td><td>0.00027 </td></tr>\n",
       "\t<tr><th scope=row>avs_net_cost</th><td> 0.33024</td><td>0.00326 </td></tr>\n",
       "\t<tr><th scope=row>s_Average.Precol.GPA</th><td> 0.14133</td><td>0.00237 </td></tr>\n",
       "\t<tr><th scope=row>GPA_trend</th><td> 1.01033</td><td>0.00018 </td></tr>\n",
       "\t<tr><th scope=row>s_start_year</th><td>-0.80751</td><td>0.00000 </td></tr>\n",
       "\t<tr><th scope=row>factor(s_College)GD Harpur</th><td>-0.57474</td><td>0.00000 </td></tr>\n",
       "\t<tr><th scope=row>avs_net_cost:factor(s_College)GD Harpur</th><td>-0.31634</td><td>0.01011 </td></tr>\n",
       "</tbody>\n",
       "</table>\n"
      ],
      "text/latex": [
       "\\begin{tabular}{r|ll}\n",
       "  & Estimate & Pr(>\\textbar{}z\\textbar{})\\\\\n",
       "\\hline\n",
       "\tfactor(funding\\_indicator)1 &  1.07725 & 0.00000 \\\\\n",
       "\tfactor(s\\_Citizenship)Africa &  0.84144 & 0.00837 \\\\\n",
       "\tfactor(s\\_Citizenship)Asia &  0.53759 & 0.00027 \\\\\n",
       "\tavs\\_net\\_cost &  0.33024 & 0.00326 \\\\\n",
       "\ts\\_Average.Precol.GPA &  0.14133 & 0.00237 \\\\\n",
       "\tGPA\\_trend &  1.01033 & 0.00018 \\\\\n",
       "\ts\\_start\\_year & -0.80751 & 0.00000 \\\\\n",
       "\tfactor(s\\_College)GD Harpur & -0.57474 & 0.00000 \\\\\n",
       "\tavs\\_net\\_cost:factor(s\\_College)GD Harpur & -0.31634 & 0.01011 \\\\\n",
       "\\end{tabular}\n"
      ],
      "text/markdown": [
       "\n",
       "| <!--/--> | Estimate | Pr(>|z|) |\n",
       "|---|---|---|\n",
       "| factor(funding_indicator)1 |  1.07725 | 0.00000  |\n",
       "| factor(s_Citizenship)Africa |  0.84144 | 0.00837  |\n",
       "| factor(s_Citizenship)Asia |  0.53759 | 0.00027  |\n",
       "| avs_net_cost |  0.33024 | 0.00326  |\n",
       "| s_Average.Precol.GPA |  0.14133 | 0.00237  |\n",
       "| GPA_trend |  1.01033 | 0.00018  |\n",
       "| s_start_year | -0.80751 | 0.00000  |\n",
       "| factor(s_College)GD Harpur | -0.57474 | 0.00000  |\n",
       "| avs_net_cost:factor(s_College)GD Harpur | -0.31634 | 0.01011  |\n",
       "\n"
      ],
      "text/plain": [
       "                                        Estimate Pr(>|z|)\n",
       "factor(funding_indicator)1               1.07725 0.00000 \n",
       "factor(s_Citizenship)Africa              0.84144 0.00837 \n",
       "factor(s_Citizenship)Asia                0.53759 0.00027 \n",
       "avs_net_cost                             0.33024 0.00326 \n",
       "s_Average.Precol.GPA                     0.14133 0.00237 \n",
       "GPA_trend                                1.01033 0.00018 \n",
       "s_start_year                            -0.80751 0.00000 \n",
       "factor(s_College)GD Harpur              -0.57474 0.00000 \n",
       "avs_net_cost:factor(s_College)GD Harpur -0.31634 0.01011 "
      ]
     },
     "metadata": {},
     "output_type": "display_data"
    }
   ],
   "source": [
    "round(summary(log_mod_total_aic)$coeff[which(summary(log_mod_total_aic)$coef[,4] <= .05),c(1,4)],5)"
   ]
  },
  {
   "cell_type": "markdown",
   "metadata": {},
   "source": [
    "<b> Both BIC:"
   ]
  },
  {
   "cell_type": "code",
   "execution_count": 230,
   "metadata": {
    "scrolled": false
   },
   "outputs": [
    {
     "name": "stdout",
     "output_type": "stream",
     "text": [
      "Start:  AIC=3068.79\n",
      "Y ~ factor(funding_indicator) + factor(s_Citizenship) + avs_net_cost + \n",
      "    s_Average.Precol.GPA + s_GRE.Combined.General.Verbal.Score + \n",
      "    s_GRE.Combined.General.Write.Score + GPA_trend + s_start_year + \n",
      "    factor(s_College) + avs_net_cost:factor(s_College) + factor(s_College):factor(s_Citizenship) + \n",
      "    factor(s_College):s_GRE.Combined.General.Verbal.Score + factor(s_College):s_Average.Precol.GPA + \n",
      "    factor(s_College):s_GRE.Combined.General.Write.Score\n",
      "\n",
      "                                                        Df Deviance    AIC\n",
      "- factor(s_Citizenship):factor(s_College)                3   2951.6 3051.5\n",
      "- s_GRE.Combined.General.Write.Score:factor(s_College)   1   2950.2 3062.6\n",
      "- s_Average.Precol.GPA:factor(s_College)                 1   2950.3 3062.7\n",
      "- s_GRE.Combined.General.Verbal.Score:factor(s_College)  1   2950.4 3062.8\n",
      "<none>                                                       2950.2 3068.8\n",
      "- avs_net_cost:factor(s_College)                         1   2958.1 3070.5\n",
      "- GPA_trend                                              1   2964.8 3077.2\n",
      "- factor(funding_indicator)                              1   3044.7 3157.1\n",
      "- s_start_year                                           1   3179.8 3292.2\n",
      "\n",
      "Step:  AIC=3051.49\n",
      "Y ~ factor(funding_indicator) + factor(s_Citizenship) + avs_net_cost + \n",
      "    s_Average.Precol.GPA + s_GRE.Combined.General.Verbal.Score + \n",
      "    s_GRE.Combined.General.Write.Score + GPA_trend + s_start_year + \n",
      "    factor(s_College) + avs_net_cost:factor(s_College) + s_GRE.Combined.General.Verbal.Score:factor(s_College) + \n",
      "    s_Average.Precol.GPA:factor(s_College) + s_GRE.Combined.General.Write.Score:factor(s_College)\n",
      "\n",
      "                                                        Df Deviance    AIC\n",
      "- s_GRE.Combined.General.Write.Score:factor(s_College)   1   2951.6 3045.3\n",
      "- s_Average.Precol.GPA:factor(s_College)                 1   2951.7 3045.4\n",
      "- s_GRE.Combined.General.Verbal.Score:factor(s_College)  1   2951.8 3045.5\n",
      "<none>                                                       2951.6 3051.5\n",
      "- factor(s_Citizenship)                                  3   2971.6 3052.8\n",
      "- avs_net_cost:factor(s_College)                         1   2959.5 3053.1\n",
      "- GPA_trend                                              1   2966.1 3059.8\n",
      "+ factor(s_Citizenship):factor(s_College)                3   2950.2 3068.8\n",
      "- factor(funding_indicator)                              1   3047.0 3140.7\n",
      "- s_start_year                                           1   3184.8 3278.5\n",
      "\n",
      "Step:  AIC=3045.27\n",
      "Y ~ factor(funding_indicator) + factor(s_Citizenship) + avs_net_cost + \n",
      "    s_Average.Precol.GPA + s_GRE.Combined.General.Verbal.Score + \n",
      "    s_GRE.Combined.General.Write.Score + GPA_trend + s_start_year + \n",
      "    factor(s_College) + avs_net_cost:factor(s_College) + s_GRE.Combined.General.Verbal.Score:factor(s_College) + \n",
      "    s_Average.Precol.GPA:factor(s_College)\n",
      "\n",
      "                                                        Df Deviance    AIC\n",
      "- s_Average.Precol.GPA:factor(s_College)                 1   2951.7 3039.2\n",
      "- s_GRE.Combined.General.Verbal.Score:factor(s_College)  1   2951.8 3039.2\n",
      "- s_GRE.Combined.General.Write.Score                     1   2952.5 3039.9\n",
      "<none>                                                       2951.6 3045.3\n",
      "- factor(s_Citizenship)                                  3   2971.6 3046.5\n",
      "- avs_net_cost:factor(s_College)                         1   2959.5 3047.0\n",
      "+ s_GRE.Combined.General.Write.Score:factor(s_College)   1   2951.6 3051.5\n",
      "- GPA_trend                                              1   2966.1 3053.6\n",
      "+ factor(s_Citizenship):factor(s_College)                3   2950.2 3062.6\n",
      "- factor(funding_indicator)                              1   3047.2 3134.6\n",
      "- s_start_year                                           1   3186.1 3273.5\n",
      "\n",
      "Step:  AIC=3039.17\n",
      "Y ~ factor(funding_indicator) + factor(s_Citizenship) + avs_net_cost + \n",
      "    s_Average.Precol.GPA + s_GRE.Combined.General.Verbal.Score + \n",
      "    s_GRE.Combined.General.Write.Score + GPA_trend + s_start_year + \n",
      "    factor(s_College) + avs_net_cost:factor(s_College) + s_GRE.Combined.General.Verbal.Score:factor(s_College)\n",
      "\n",
      "                                                        Df Deviance    AIC\n",
      "- s_GRE.Combined.General.Verbal.Score:factor(s_College)  1   2951.9 3033.1\n",
      "- s_GRE.Combined.General.Write.Score                     1   2952.7 3033.9\n",
      "<none>                                                       2951.7 3039.2\n",
      "- factor(s_Citizenship)                                  3   2971.7 3040.4\n",
      "- avs_net_cost:factor(s_College)                         1   2959.7 3040.8\n",
      "- s_Average.Precol.GPA                                   1   2961.7 3042.9\n",
      "+ s_Average.Precol.GPA:factor(s_College)                 1   2951.6 3045.3\n",
      "+ s_GRE.Combined.General.Write.Score:factor(s_College)   1   2951.7 3045.4\n",
      "- GPA_trend                                              1   2966.5 3047.7\n",
      "+ factor(s_Citizenship):factor(s_College)                3   2950.3 3056.4\n",
      "- factor(funding_indicator)                              1   3047.2 3128.4\n",
      "- s_start_year                                           1   3186.4 3267.6\n",
      "\n",
      "Step:  AIC=3033.11\n",
      "Y ~ factor(funding_indicator) + factor(s_Citizenship) + avs_net_cost + \n",
      "    s_Average.Precol.GPA + s_GRE.Combined.General.Verbal.Score + \n",
      "    s_GRE.Combined.General.Write.Score + GPA_trend + s_start_year + \n",
      "    factor(s_College) + avs_net_cost:factor(s_College)\n",
      "\n",
      "                                                        Df Deviance    AIC\n",
      "- s_GRE.Combined.General.Verbal.Score                    1   2953.2 3028.1\n",
      "- s_GRE.Combined.General.Write.Score                     1   2953.3 3028.2\n",
      "<none>                                                       2951.9 3033.1\n",
      "- factor(s_Citizenship)                                  3   2972.2 3034.6\n",
      "- avs_net_cost:factor(s_College)                         1   2959.8 3034.7\n",
      "- s_Average.Precol.GPA                                   1   2962.0 3036.9\n",
      "+ s_GRE.Combined.General.Verbal.Score:factor(s_College)  1   2951.7 3039.2\n",
      "+ s_Average.Precol.GPA:factor(s_College)                 1   2951.8 3039.2\n",
      "+ s_GRE.Combined.General.Write.Score:factor(s_College)   1   2951.9 3039.3\n",
      "- GPA_trend                                              1   2966.6 3041.5\n",
      "+ factor(s_Citizenship):factor(s_College)                3   2950.6 3050.5\n",
      "- factor(funding_indicator)                              1   3048.6 3123.5\n",
      "- s_start_year                                           1   3187.6 3262.5\n",
      "\n",
      "Step:  AIC=3028.12\n",
      "Y ~ factor(funding_indicator) + factor(s_Citizenship) + avs_net_cost + \n",
      "    s_Average.Precol.GPA + s_GRE.Combined.General.Write.Score + \n",
      "    GPA_trend + s_start_year + factor(s_College) + avs_net_cost:factor(s_College)\n",
      "\n",
      "                                                       Df Deviance    AIC\n",
      "- s_GRE.Combined.General.Write.Score                    1   2955.4 3024.1\n",
      "<none>                                                      2953.2 3028.1\n",
      "- avs_net_cost:factor(s_College)                        1   2961.0 3029.7\n",
      "- factor(s_Citizenship)                                 3   2973.7 3029.9\n",
      "- s_Average.Precol.GPA                                  1   2963.0 3031.7\n",
      "+ s_GRE.Combined.General.Verbal.Score                   1   2951.9 3033.1\n",
      "+ s_Average.Precol.GPA:factor(s_College)                1   2953.1 3034.2\n",
      "+ s_GRE.Combined.General.Write.Score:factor(s_College)  1   2953.1 3034.3\n",
      "- GPA_trend                                             1   2968.4 3037.1\n",
      "+ factor(s_Citizenship):factor(s_College)               3   2951.9 3045.6\n",
      "- factor(funding_indicator)                             1   3050.4 3119.1\n",
      "- s_start_year                                          1   3189.1 3257.8\n",
      "\n",
      "Step:  AIC=3024.07\n",
      "Y ~ factor(funding_indicator) + factor(s_Citizenship) + avs_net_cost + \n",
      "    s_Average.Precol.GPA + GPA_trend + s_start_year + factor(s_College) + \n",
      "    avs_net_cost:factor(s_College)\n",
      "\n",
      "                                          Df Deviance    AIC\n",
      "<none>                                         2955.4 3024.1\n",
      "- avs_net_cost:factor(s_College)           1   2962.7 3025.1\n",
      "- s_Average.Precol.GPA                     1   2964.0 3026.5\n",
      "+ s_GRE.Combined.General.Write.Score       1   2953.2 3028.1\n",
      "+ s_GRE.Combined.General.Verbal.Score      1   2953.3 3028.2\n",
      "+ s_Average.Precol.GPA:factor(s_College)   1   2955.2 3030.1\n",
      "- GPA_trend                                1   2970.3 3032.7\n",
      "- factor(s_Citizenship)                    3   2983.4 3033.3\n",
      "+ factor(s_Citizenship):factor(s_College)  3   2954.1 3041.6\n",
      "- factor(funding_indicator)                1   3051.6 3114.0\n",
      "- s_start_year                             1   3192.9 3255.3\n"
     ]
    }
   ],
   "source": [
    "log_mod_total_bic = stepAIC(log_mod_total, direction = \"both\", k = log(e_n))"
   ]
  },
  {
   "cell_type": "markdown",
   "metadata": {},
   "source": [
    "<b>Significant variables both BIC selects:"
   ]
  },
  {
   "cell_type": "code",
   "execution_count": 231,
   "metadata": {
    "scrolled": false
   },
   "outputs": [
    {
     "data": {
      "text/html": [
       "<table>\n",
       "<thead><tr><th></th><th scope=col>Estimate</th><th scope=col>Pr(&gt;|z|)</th></tr></thead>\n",
       "<tbody>\n",
       "\t<tr><th scope=row>factor(funding_indicator)1</th><td> 1.06997</td><td>0.00000 </td></tr>\n",
       "\t<tr><th scope=row>factor(s_Citizenship)Africa</th><td> 0.88357</td><td>0.00546 </td></tr>\n",
       "\t<tr><th scope=row>factor(s_Citizenship)Asia</th><td> 0.59964</td><td>0.00002 </td></tr>\n",
       "\t<tr><th scope=row>factor(s_Citizenship)China</th><td> 0.33587</td><td>0.01636 </td></tr>\n",
       "\t<tr><th scope=row>avs_net_cost</th><td> 0.32281</td><td>0.00394 </td></tr>\n",
       "\t<tr><th scope=row>s_Average.Precol.GPA</th><td> 0.13076</td><td>0.00429 </td></tr>\n",
       "\t<tr><th scope=row>GPA_trend</th><td> 0.99930</td><td>0.00021 </td></tr>\n",
       "\t<tr><th scope=row>s_start_year</th><td>-0.80919</td><td>0.00000 </td></tr>\n",
       "\t<tr><th scope=row>factor(s_College)GD Harpur</th><td>-0.60862</td><td>0.00000 </td></tr>\n",
       "\t<tr><th scope=row>avs_net_cost:factor(s_College)GD Harpur</th><td>-0.30465</td><td>0.01291 </td></tr>\n",
       "</tbody>\n",
       "</table>\n"
      ],
      "text/latex": [
       "\\begin{tabular}{r|ll}\n",
       "  & Estimate & Pr(>\\textbar{}z\\textbar{})\\\\\n",
       "\\hline\n",
       "\tfactor(funding\\_indicator)1 &  1.06997 & 0.00000 \\\\\n",
       "\tfactor(s\\_Citizenship)Africa &  0.88357 & 0.00546 \\\\\n",
       "\tfactor(s\\_Citizenship)Asia &  0.59964 & 0.00002 \\\\\n",
       "\tfactor(s\\_Citizenship)China &  0.33587 & 0.01636 \\\\\n",
       "\tavs\\_net\\_cost &  0.32281 & 0.00394 \\\\\n",
       "\ts\\_Average.Precol.GPA &  0.13076 & 0.00429 \\\\\n",
       "\tGPA\\_trend &  0.99930 & 0.00021 \\\\\n",
       "\ts\\_start\\_year & -0.80919 & 0.00000 \\\\\n",
       "\tfactor(s\\_College)GD Harpur & -0.60862 & 0.00000 \\\\\n",
       "\tavs\\_net\\_cost:factor(s\\_College)GD Harpur & -0.30465 & 0.01291 \\\\\n",
       "\\end{tabular}\n"
      ],
      "text/markdown": [
       "\n",
       "| <!--/--> | Estimate | Pr(>|z|) |\n",
       "|---|---|---|\n",
       "| factor(funding_indicator)1 |  1.06997 | 0.00000  |\n",
       "| factor(s_Citizenship)Africa |  0.88357 | 0.00546  |\n",
       "| factor(s_Citizenship)Asia |  0.59964 | 0.00002  |\n",
       "| factor(s_Citizenship)China |  0.33587 | 0.01636  |\n",
       "| avs_net_cost |  0.32281 | 0.00394  |\n",
       "| s_Average.Precol.GPA |  0.13076 | 0.00429  |\n",
       "| GPA_trend |  0.99930 | 0.00021  |\n",
       "| s_start_year | -0.80919 | 0.00000  |\n",
       "| factor(s_College)GD Harpur | -0.60862 | 0.00000  |\n",
       "| avs_net_cost:factor(s_College)GD Harpur | -0.30465 | 0.01291  |\n",
       "\n"
      ],
      "text/plain": [
       "                                        Estimate Pr(>|z|)\n",
       "factor(funding_indicator)1               1.06997 0.00000 \n",
       "factor(s_Citizenship)Africa              0.88357 0.00546 \n",
       "factor(s_Citizenship)Asia                0.59964 0.00002 \n",
       "factor(s_Citizenship)China               0.33587 0.01636 \n",
       "avs_net_cost                             0.32281 0.00394 \n",
       "s_Average.Precol.GPA                     0.13076 0.00429 \n",
       "GPA_trend                                0.99930 0.00021 \n",
       "s_start_year                            -0.80919 0.00000 \n",
       "factor(s_College)GD Harpur              -0.60862 0.00000 \n",
       "avs_net_cost:factor(s_College)GD Harpur -0.30465 0.01291 "
      ]
     },
     "metadata": {},
     "output_type": "display_data"
    }
   ],
   "source": [
    "round(summary(log_mod_total_bic)$coeff[which(summary(log_mod_total_bic)$coef[,4] <= .05),c(1,4)],5)"
   ]
  },
  {
   "cell_type": "markdown",
   "metadata": {},
   "source": [
    "<b>Harpur Baseline"
   ]
  },
  {
   "cell_type": "markdown",
   "metadata": {},
   "source": [
    "<b> Logistic regression model:"
   ]
  },
  {
   "cell_type": "code",
   "execution_count": 234,
   "metadata": {},
   "outputs": [],
   "source": [
    "df <- within(df, s_College <- relevel(s_College, ref = \"GD Harpur\"))"
   ]
  },
  {
   "cell_type": "code",
   "execution_count": 235,
   "metadata": {
    "scrolled": false
   },
   "outputs": [
    {
     "data": {
      "text/plain": [
       "\n",
       "Call:\n",
       "glm(formula = Y ~ factor(funding_indicator) + factor(s_Citizenship) + \n",
       "    avs_net_cost + s_Average.Precol.GPA + s_GRE.Combined.General.Verbal.Score + \n",
       "    s_GRE.Combined.General.Write.Score + GPA_trend + s_start_year + \n",
       "    factor(s_College) + avs_net_cost:factor(s_College) + factor(s_College):factor(s_Citizenship) + \n",
       "    factor(s_College):s_GRE.Combined.General.Verbal.Score + factor(s_College):s_Average.Precol.GPA + \n",
       "    factor(s_College):s_GRE.Combined.General.Write.Score, family = \"binomial\", \n",
       "    data = df)\n",
       "\n",
       "Deviance Residuals: \n",
       "    Min       1Q   Median       3Q      Max  \n",
       "-2.8023  -1.0996   0.6777   0.9248   1.9389  \n",
       "\n",
       "Coefficients:\n",
       "                                                                   Estimate\n",
       "(Intercept)                                                        -0.55548\n",
       "factor(funding_indicator)1                                          1.08072\n",
       "factor(s_Citizenship)Africa                                         0.72415\n",
       "factor(s_Citizenship)Asia                                           0.61300\n",
       "factor(s_Citizenship)China                                          0.29707\n",
       "avs_net_cost                                                        0.01300\n",
       "s_Average.Precol.GPA                                                0.12986\n",
       "s_GRE.Combined.General.Verbal.Score                                -0.05713\n",
       "s_GRE.Combined.General.Write.Score                                 -0.05024\n",
       "GPA_trend                                                           0.99588\n",
       "s_start_year                                                       -0.81080\n",
       "factor(s_College)GD Non-Harpur                                      0.58166\n",
       "avs_net_cost:factor(s_College)GD Non-Harpur                         0.31820\n",
       "factor(s_Citizenship)Africa:factor(s_College)GD Non-Harpur          0.97684\n",
       "factor(s_Citizenship)Asia:factor(s_College)GD Non-Harpur           -0.19812\n",
       "factor(s_Citizenship)China:factor(s_College)GD Non-Harpur          -0.03302\n",
       "s_GRE.Combined.General.Verbal.Score:factor(s_College)GD Non-Harpur -0.15903\n",
       "s_Average.Precol.GPA:factor(s_College)GD Non-Harpur                 0.03522\n",
       "s_GRE.Combined.General.Write.Score:factor(s_College)GD Non-Harpur   0.01099\n",
       "                                                                   Std. Error\n",
       "(Intercept)                                                           0.10775\n",
       "factor(funding_indicator)1                                            0.11381\n",
       "factor(s_Citizenship)Africa                                           0.33827\n",
       "factor(s_Citizenship)Asia                                             0.19587\n",
       "factor(s_Citizenship)China                                            0.20492\n",
       "avs_net_cost                                                          0.05109\n",
       "s_Average.Precol.GPA                                                  0.05851\n",
       "s_GRE.Combined.General.Verbal.Score                                   0.06390\n",
       "s_GRE.Combined.General.Write.Score                                    0.05859\n",
       "GPA_trend                                                             0.27049\n",
       "s_start_year                                                          0.05843\n",
       "factor(s_College)GD Non-Harpur                                        0.12700\n",
       "avs_net_cost:factor(s_College)GD Non-Harpur                           0.12298\n",
       "factor(s_Citizenship)Africa:factor(s_College)GD Non-Harpur            1.13021\n",
       "factor(s_Citizenship)Asia:factor(s_College)GD Non-Harpur              0.30283\n",
       "factor(s_Citizenship)China:factor(s_College)GD Non-Harpur             0.29256\n",
       "s_GRE.Combined.General.Verbal.Score:factor(s_College)GD Non-Harpur    0.30365\n",
       "s_Average.Precol.GPA:factor(s_College)GD Non-Harpur                   0.09774\n",
       "s_GRE.Combined.General.Write.Score:factor(s_College)GD Non-Harpur     0.14762\n",
       "                                                                   z value\n",
       "(Intercept)                                                         -5.155\n",
       "factor(funding_indicator)1                                           9.496\n",
       "factor(s_Citizenship)Africa                                          2.141\n",
       "factor(s_Citizenship)Asia                                            3.130\n",
       "factor(s_Citizenship)China                                           1.450\n",
       "avs_net_cost                                                         0.255\n",
       "s_Average.Precol.GPA                                                 2.219\n",
       "s_GRE.Combined.General.Verbal.Score                                 -0.894\n",
       "s_GRE.Combined.General.Write.Score                                  -0.858\n",
       "GPA_trend                                                            3.682\n",
       "s_start_year                                                       -13.876\n",
       "factor(s_College)GD Non-Harpur                                       4.580\n",
       "avs_net_cost:factor(s_College)GD Non-Harpur                          2.587\n",
       "factor(s_Citizenship)Africa:factor(s_College)GD Non-Harpur           0.864\n",
       "factor(s_Citizenship)Asia:factor(s_College)GD Non-Harpur            -0.654\n",
       "factor(s_Citizenship)China:factor(s_College)GD Non-Harpur           -0.113\n",
       "s_GRE.Combined.General.Verbal.Score:factor(s_College)GD Non-Harpur  -0.524\n",
       "s_Average.Precol.GPA:factor(s_College)GD Non-Harpur                  0.360\n",
       "s_GRE.Combined.General.Write.Score:factor(s_College)GD Non-Harpur    0.074\n",
       "                                                                   Pr(>|z|)    \n",
       "(Intercept)                                                        2.53e-07 ***\n",
       "factor(funding_indicator)1                                          < 2e-16 ***\n",
       "factor(s_Citizenship)Africa                                        0.032295 *  \n",
       "factor(s_Citizenship)Asia                                          0.001750 ** \n",
       "factor(s_Citizenship)China                                         0.147130    \n",
       "avs_net_cost                                                       0.799082    \n",
       "s_Average.Precol.GPA                                               0.026468 *  \n",
       "s_GRE.Combined.General.Verbal.Score                                0.371278    \n",
       "s_GRE.Combined.General.Write.Score                                 0.391157    \n",
       "GPA_trend                                                          0.000232 ***\n",
       "s_start_year                                                        < 2e-16 ***\n",
       "factor(s_College)GD Non-Harpur                                     4.65e-06 ***\n",
       "avs_net_cost:factor(s_College)GD Non-Harpur                        0.009671 ** \n",
       "factor(s_Citizenship)Africa:factor(s_College)GD Non-Harpur         0.387424    \n",
       "factor(s_Citizenship)Asia:factor(s_College)GD Non-Harpur           0.512955    \n",
       "factor(s_Citizenship)China:factor(s_College)GD Non-Harpur          0.910127    \n",
       "s_GRE.Combined.General.Verbal.Score:factor(s_College)GD Non-Harpur 0.600470    \n",
       "s_Average.Precol.GPA:factor(s_College)GD Non-Harpur                0.718592    \n",
       "s_GRE.Combined.General.Write.Score:factor(s_College)GD Non-Harpur  0.940674    \n",
       "---\n",
       "Signif. codes:  0 '***' 0.001 '**' 0.01 '*' 0.05 '.' 0.1 ' ' 1\n",
       "\n",
       "(Dispersion parameter for binomial family taken to be 1)\n",
       "\n",
       "    Null deviance: 3281.8  on 2469  degrees of freedom\n",
       "Residual deviance: 2950.2  on 2451  degrees of freedom\n",
       "AIC: 2988.2\n",
       "\n",
       "Number of Fisher Scoring iterations: 4\n"
      ]
     },
     "metadata": {},
     "output_type": "display_data"
    }
   ],
   "source": [
    "log_mod_total = glm(Y~factor(funding_indicator)+factor(s_Citizenship)+\n",
    "                avs_net_cost+s_Average.Precol.GPA+s_GRE.Combined.General.Verbal.Score+s_GRE.Combined.General.Write.Score+GPA_trend+s_start_year+factor(s_College)+avs_net_cost:factor(s_College)+\n",
    "                factor(s_College):factor(s_Citizenship)+factor(s_College):s_GRE.Combined.General.Verbal.Score+factor(s_College):s_Average.Precol.GPA+factor(s_College):s_GRE.Combined.General.Write.Score,\n",
    "                data=df,family=\"binomial\")\n",
    "summary(log_mod_total)"
   ]
  },
  {
   "cell_type": "markdown",
   "metadata": {},
   "source": [
    "<b> Significant Variables of logistic regression model:"
   ]
  },
  {
   "cell_type": "code",
   "execution_count": 236,
   "metadata": {
    "scrolled": true
   },
   "outputs": [
    {
     "data": {
      "text/html": [
       "<table>\n",
       "<thead><tr><th></th><th scope=col>Estimate</th><th scope=col>Pr(&gt;|z|)</th></tr></thead>\n",
       "<tbody>\n",
       "\t<tr><th scope=row>(Intercept)</th><td>-0.55548</td><td>0.00000 </td></tr>\n",
       "\t<tr><th scope=row>factor(funding_indicator)1</th><td> 1.08072</td><td>0.00000 </td></tr>\n",
       "\t<tr><th scope=row>factor(s_Citizenship)Africa</th><td> 0.72415</td><td>0.03230 </td></tr>\n",
       "\t<tr><th scope=row>factor(s_Citizenship)Asia</th><td> 0.61300</td><td>0.00175 </td></tr>\n",
       "\t<tr><th scope=row>s_Average.Precol.GPA</th><td> 0.12986</td><td>0.02647 </td></tr>\n",
       "\t<tr><th scope=row>GPA_trend</th><td> 0.99588</td><td>0.00023 </td></tr>\n",
       "\t<tr><th scope=row>s_start_year</th><td>-0.81080</td><td>0.00000 </td></tr>\n",
       "\t<tr><th scope=row>factor(s_College)GD Non-Harpur</th><td> 0.58166</td><td>0.00000 </td></tr>\n",
       "\t<tr><th scope=row>avs_net_cost:factor(s_College)GD Non-Harpur</th><td> 0.31820</td><td>0.00967 </td></tr>\n",
       "</tbody>\n",
       "</table>\n"
      ],
      "text/latex": [
       "\\begin{tabular}{r|ll}\n",
       "  & Estimate & Pr(>\\textbar{}z\\textbar{})\\\\\n",
       "\\hline\n",
       "\t(Intercept) & -0.55548 & 0.00000 \\\\\n",
       "\tfactor(funding\\_indicator)1 &  1.08072 & 0.00000 \\\\\n",
       "\tfactor(s\\_Citizenship)Africa &  0.72415 & 0.03230 \\\\\n",
       "\tfactor(s\\_Citizenship)Asia &  0.61300 & 0.00175 \\\\\n",
       "\ts\\_Average.Precol.GPA &  0.12986 & 0.02647 \\\\\n",
       "\tGPA\\_trend &  0.99588 & 0.00023 \\\\\n",
       "\ts\\_start\\_year & -0.81080 & 0.00000 \\\\\n",
       "\tfactor(s\\_College)GD Non-Harpur &  0.58166 & 0.00000 \\\\\n",
       "\tavs\\_net\\_cost:factor(s\\_College)GD Non-Harpur &  0.31820 & 0.00967 \\\\\n",
       "\\end{tabular}\n"
      ],
      "text/markdown": [
       "\n",
       "| <!--/--> | Estimate | Pr(>|z|) |\n",
       "|---|---|---|\n",
       "| (Intercept) | -0.55548 | 0.00000  |\n",
       "| factor(funding_indicator)1 |  1.08072 | 0.00000  |\n",
       "| factor(s_Citizenship)Africa |  0.72415 | 0.03230  |\n",
       "| factor(s_Citizenship)Asia |  0.61300 | 0.00175  |\n",
       "| s_Average.Precol.GPA |  0.12986 | 0.02647  |\n",
       "| GPA_trend |  0.99588 | 0.00023  |\n",
       "| s_start_year | -0.81080 | 0.00000  |\n",
       "| factor(s_College)GD Non-Harpur |  0.58166 | 0.00000  |\n",
       "| avs_net_cost:factor(s_College)GD Non-Harpur |  0.31820 | 0.00967  |\n",
       "\n"
      ],
      "text/plain": [
       "                                            Estimate Pr(>|z|)\n",
       "(Intercept)                                 -0.55548 0.00000 \n",
       "factor(funding_indicator)1                   1.08072 0.00000 \n",
       "factor(s_Citizenship)Africa                  0.72415 0.03230 \n",
       "factor(s_Citizenship)Asia                    0.61300 0.00175 \n",
       "s_Average.Precol.GPA                         0.12986 0.02647 \n",
       "GPA_trend                                    0.99588 0.00023 \n",
       "s_start_year                                -0.81080 0.00000 \n",
       "factor(s_College)GD Non-Harpur               0.58166 0.00000 \n",
       "avs_net_cost:factor(s_College)GD Non-Harpur  0.31820 0.00967 "
      ]
     },
     "metadata": {},
     "output_type": "display_data"
    }
   ],
   "source": [
    "round(summary(log_mod_total)$coeff[which(summary(log_mod_total)$coef[,4] <= .05),c(1,4)],5)"
   ]
  },
  {
   "cell_type": "markdown",
   "metadata": {},
   "source": [
    "<b> Both AIC:"
   ]
  },
  {
   "cell_type": "code",
   "execution_count": 237,
   "metadata": {},
   "outputs": [
    {
     "name": "stdout",
     "output_type": "stream",
     "text": [
      "Start:  AIC=2988.15\n",
      "Y ~ factor(funding_indicator) + factor(s_Citizenship) + avs_net_cost + \n",
      "    s_Average.Precol.GPA + s_GRE.Combined.General.Verbal.Score + \n",
      "    s_GRE.Combined.General.Write.Score + GPA_trend + s_start_year + \n",
      "    factor(s_College) + avs_net_cost:factor(s_College) + factor(s_College):factor(s_Citizenship) + \n",
      "    factor(s_College):s_GRE.Combined.General.Verbal.Score + factor(s_College):s_Average.Precol.GPA + \n",
      "    factor(s_College):s_GRE.Combined.General.Write.Score\n",
      "\n",
      "                                                        Df Deviance    AIC\n",
      "- factor(s_Citizenship):factor(s_College)                3   2951.6 2983.6\n",
      "- s_GRE.Combined.General.Write.Score:factor(s_College)   1   2950.2 2986.2\n",
      "- s_Average.Precol.GPA:factor(s_College)                 1   2950.3 2986.3\n",
      "- s_GRE.Combined.General.Verbal.Score:factor(s_College)  1   2950.4 2986.4\n",
      "<none>                                                       2950.2 2988.2\n",
      "- avs_net_cost:factor(s_College)                         1   2958.1 2994.1\n",
      "- GPA_trend                                              1   2964.8 3000.8\n",
      "- factor(funding_indicator)                              1   3044.7 3080.7\n",
      "- s_start_year                                           1   3179.8 3215.8\n",
      "\n",
      "Step:  AIC=2983.58\n",
      "Y ~ factor(funding_indicator) + factor(s_Citizenship) + avs_net_cost + \n",
      "    s_Average.Precol.GPA + s_GRE.Combined.General.Verbal.Score + \n",
      "    s_GRE.Combined.General.Write.Score + GPA_trend + s_start_year + \n",
      "    factor(s_College) + avs_net_cost:factor(s_College) + s_GRE.Combined.General.Verbal.Score:factor(s_College) + \n",
      "    s_Average.Precol.GPA:factor(s_College) + s_GRE.Combined.General.Write.Score:factor(s_College)\n",
      "\n",
      "                                                        Df Deviance    AIC\n",
      "- s_GRE.Combined.General.Write.Score:factor(s_College)   1   2951.6 2981.6\n",
      "- s_Average.Precol.GPA:factor(s_College)                 1   2951.7 2981.7\n",
      "- s_GRE.Combined.General.Verbal.Score:factor(s_College)  1   2951.8 2981.8\n",
      "<none>                                                       2951.6 2983.6\n",
      "+ factor(s_Citizenship):factor(s_College)                3   2950.2 2988.2\n",
      "- avs_net_cost:factor(s_College)                         1   2959.5 2989.5\n",
      "- GPA_trend                                              1   2966.1 2996.1\n",
      "- factor(s_Citizenship)                                  3   2971.6 2997.6\n",
      "- factor(funding_indicator)                              1   3047.0 3077.0\n",
      "- s_start_year                                           1   3184.8 3214.8\n",
      "\n",
      "Step:  AIC=2981.61\n",
      "Y ~ factor(funding_indicator) + factor(s_Citizenship) + avs_net_cost + \n",
      "    s_Average.Precol.GPA + s_GRE.Combined.General.Verbal.Score + \n",
      "    s_GRE.Combined.General.Write.Score + GPA_trend + s_start_year + \n",
      "    factor(s_College) + avs_net_cost:factor(s_College) + s_GRE.Combined.General.Verbal.Score:factor(s_College) + \n",
      "    s_Average.Precol.GPA:factor(s_College)\n",
      "\n",
      "                                                        Df Deviance    AIC\n",
      "- s_Average.Precol.GPA:factor(s_College)                 1   2951.7 2979.7\n",
      "- s_GRE.Combined.General.Verbal.Score:factor(s_College)  1   2951.8 2979.8\n",
      "- s_GRE.Combined.General.Write.Score                     1   2952.5 2980.5\n",
      "<none>                                                       2951.6 2981.6\n",
      "+ s_GRE.Combined.General.Write.Score:factor(s_College)   1   2951.6 2983.6\n",
      "+ factor(s_Citizenship):factor(s_College)                3   2950.2 2986.2\n",
      "- avs_net_cost:factor(s_College)                         1   2959.5 2987.5\n",
      "- GPA_trend                                              1   2966.1 2994.1\n",
      "- factor(s_Citizenship)                                  3   2971.6 2995.6\n",
      "- factor(funding_indicator)                              1   3047.2 3075.2\n",
      "- s_start_year                                           1   3186.1 3214.1\n",
      "\n",
      "Step:  AIC=2979.75\n",
      "Y ~ factor(funding_indicator) + factor(s_Citizenship) + avs_net_cost + \n",
      "    s_Average.Precol.GPA + s_GRE.Combined.General.Verbal.Score + \n",
      "    s_GRE.Combined.General.Write.Score + GPA_trend + s_start_year + \n",
      "    factor(s_College) + avs_net_cost:factor(s_College) + s_GRE.Combined.General.Verbal.Score:factor(s_College)\n",
      "\n",
      "                                                        Df Deviance    AIC\n",
      "- s_GRE.Combined.General.Verbal.Score:factor(s_College)  1   2951.9 2977.9\n",
      "- s_GRE.Combined.General.Write.Score                     1   2952.7 2978.7\n",
      "<none>                                                       2951.7 2979.7\n",
      "+ s_Average.Precol.GPA:factor(s_College)                 1   2951.6 2981.6\n",
      "+ s_GRE.Combined.General.Write.Score:factor(s_College)   1   2951.7 2981.7\n",
      "+ factor(s_Citizenship):factor(s_College)                3   2950.3 2984.3\n",
      "- avs_net_cost:factor(s_College)                         1   2959.7 2985.7\n",
      "- s_Average.Precol.GPA                                   1   2961.7 2987.7\n",
      "- GPA_trend                                              1   2966.5 2992.5\n",
      "- factor(s_Citizenship)                                  3   2971.7 2993.7\n",
      "- factor(funding_indicator)                              1   3047.2 3073.2\n",
      "- s_start_year                                           1   3186.4 3212.4\n",
      "\n",
      "Step:  AIC=2977.93\n",
      "Y ~ factor(funding_indicator) + factor(s_Citizenship) + avs_net_cost + \n",
      "    s_Average.Precol.GPA + s_GRE.Combined.General.Verbal.Score + \n",
      "    s_GRE.Combined.General.Write.Score + GPA_trend + s_start_year + \n",
      "    factor(s_College) + avs_net_cost:factor(s_College)\n",
      "\n",
      "                                                        Df Deviance    AIC\n",
      "- s_GRE.Combined.General.Verbal.Score                    1   2953.2 2977.2\n",
      "- s_GRE.Combined.General.Write.Score                     1   2953.3 2977.3\n",
      "<none>                                                       2951.9 2977.9\n",
      "+ s_GRE.Combined.General.Verbal.Score:factor(s_College)  1   2951.7 2979.7\n",
      "+ s_Average.Precol.GPA:factor(s_College)                 1   2951.8 2979.8\n",
      "+ s_GRE.Combined.General.Write.Score:factor(s_College)   1   2951.9 2979.9\n",
      "+ factor(s_Citizenship):factor(s_College)                3   2950.6 2982.6\n",
      "- avs_net_cost:factor(s_College)                         1   2959.8 2983.8\n",
      "- s_Average.Precol.GPA                                   1   2962.0 2986.0\n",
      "- GPA_trend                                              1   2966.6 2990.6\n",
      "- factor(s_Citizenship)                                  3   2972.2 2992.2\n",
      "- factor(funding_indicator)                              1   3048.6 3072.6\n",
      "- s_start_year                                           1   3187.6 3211.6\n",
      "\n",
      "Step:  AIC=2977.19\n",
      "Y ~ factor(funding_indicator) + factor(s_Citizenship) + avs_net_cost + \n",
      "    s_Average.Precol.GPA + s_GRE.Combined.General.Write.Score + \n",
      "    GPA_trend + s_start_year + factor(s_College) + avs_net_cost:factor(s_College)\n",
      "\n",
      "                                                       Df Deviance    AIC\n",
      "<none>                                                      2953.2 2977.2\n",
      "- s_GRE.Combined.General.Write.Score                    1   2955.4 2977.4\n",
      "+ s_GRE.Combined.General.Verbal.Score                   1   2951.9 2977.9\n",
      "+ s_Average.Precol.GPA:factor(s_College)                1   2953.1 2979.1\n",
      "+ s_GRE.Combined.General.Write.Score:factor(s_College)  1   2953.1 2979.1\n",
      "+ factor(s_Citizenship):factor(s_College)               3   2951.9 2981.9\n",
      "- avs_net_cost:factor(s_College)                        1   2961.0 2983.0\n",
      "- s_Average.Precol.GPA                                  1   2963.0 2985.0\n",
      "- GPA_trend                                             1   2968.4 2990.4\n",
      "- factor(s_Citizenship)                                 3   2973.7 2991.7\n",
      "- factor(funding_indicator)                             1   3050.4 3072.4\n",
      "- s_start_year                                          1   3189.1 3211.1\n"
     ]
    }
   ],
   "source": [
    "log_mod_total_aic= stepAIC(log_mod_total, direction = 'both')"
   ]
  },
  {
   "cell_type": "markdown",
   "metadata": {},
   "source": [
    "<b> Significant variables both AIC selects:"
   ]
  },
  {
   "cell_type": "code",
   "execution_count": 238,
   "metadata": {
    "scrolled": true
   },
   "outputs": [
    {
     "data": {
      "text/html": [
       "<table>\n",
       "<thead><tr><th></th><th scope=col>Estimate</th><th scope=col>Pr(&gt;|z|)</th></tr></thead>\n",
       "<tbody>\n",
       "\t<tr><th scope=row>(Intercept)</th><td>-0.54697</td><td>0.00000 </td></tr>\n",
       "\t<tr><th scope=row>factor(funding_indicator)1</th><td> 1.07725</td><td>0.00000 </td></tr>\n",
       "\t<tr><th scope=row>factor(s_Citizenship)Africa</th><td> 0.84144</td><td>0.00837 </td></tr>\n",
       "\t<tr><th scope=row>factor(s_Citizenship)Asia</th><td> 0.53759</td><td>0.00027 </td></tr>\n",
       "\t<tr><th scope=row>s_Average.Precol.GPA</th><td> 0.14133</td><td>0.00237 </td></tr>\n",
       "\t<tr><th scope=row>GPA_trend</th><td> 1.01033</td><td>0.00018 </td></tr>\n",
       "\t<tr><th scope=row>s_start_year</th><td>-0.80751</td><td>0.00000 </td></tr>\n",
       "\t<tr><th scope=row>factor(s_College)GD Non-Harpur</th><td> 0.57474</td><td>0.00000 </td></tr>\n",
       "\t<tr><th scope=row>avs_net_cost:factor(s_College)GD Non-Harpur</th><td> 0.31634</td><td>0.01011 </td></tr>\n",
       "</tbody>\n",
       "</table>\n"
      ],
      "text/latex": [
       "\\begin{tabular}{r|ll}\n",
       "  & Estimate & Pr(>\\textbar{}z\\textbar{})\\\\\n",
       "\\hline\n",
       "\t(Intercept) & -0.54697 & 0.00000 \\\\\n",
       "\tfactor(funding\\_indicator)1 &  1.07725 & 0.00000 \\\\\n",
       "\tfactor(s\\_Citizenship)Africa &  0.84144 & 0.00837 \\\\\n",
       "\tfactor(s\\_Citizenship)Asia &  0.53759 & 0.00027 \\\\\n",
       "\ts\\_Average.Precol.GPA &  0.14133 & 0.00237 \\\\\n",
       "\tGPA\\_trend &  1.01033 & 0.00018 \\\\\n",
       "\ts\\_start\\_year & -0.80751 & 0.00000 \\\\\n",
       "\tfactor(s\\_College)GD Non-Harpur &  0.57474 & 0.00000 \\\\\n",
       "\tavs\\_net\\_cost:factor(s\\_College)GD Non-Harpur &  0.31634 & 0.01011 \\\\\n",
       "\\end{tabular}\n"
      ],
      "text/markdown": [
       "\n",
       "| <!--/--> | Estimate | Pr(>|z|) |\n",
       "|---|---|---|\n",
       "| (Intercept) | -0.54697 | 0.00000  |\n",
       "| factor(funding_indicator)1 |  1.07725 | 0.00000  |\n",
       "| factor(s_Citizenship)Africa |  0.84144 | 0.00837  |\n",
       "| factor(s_Citizenship)Asia |  0.53759 | 0.00027  |\n",
       "| s_Average.Precol.GPA |  0.14133 | 0.00237  |\n",
       "| GPA_trend |  1.01033 | 0.00018  |\n",
       "| s_start_year | -0.80751 | 0.00000  |\n",
       "| factor(s_College)GD Non-Harpur |  0.57474 | 0.00000  |\n",
       "| avs_net_cost:factor(s_College)GD Non-Harpur |  0.31634 | 0.01011  |\n",
       "\n"
      ],
      "text/plain": [
       "                                            Estimate Pr(>|z|)\n",
       "(Intercept)                                 -0.54697 0.00000 \n",
       "factor(funding_indicator)1                   1.07725 0.00000 \n",
       "factor(s_Citizenship)Africa                  0.84144 0.00837 \n",
       "factor(s_Citizenship)Asia                    0.53759 0.00027 \n",
       "s_Average.Precol.GPA                         0.14133 0.00237 \n",
       "GPA_trend                                    1.01033 0.00018 \n",
       "s_start_year                                -0.80751 0.00000 \n",
       "factor(s_College)GD Non-Harpur               0.57474 0.00000 \n",
       "avs_net_cost:factor(s_College)GD Non-Harpur  0.31634 0.01011 "
      ]
     },
     "metadata": {},
     "output_type": "display_data"
    }
   ],
   "source": [
    "round(summary(log_mod_total_aic)$coeff[which(summary(log_mod_total_aic)$coef[,4] <= .05),c(1,4)],5)"
   ]
  },
  {
   "cell_type": "markdown",
   "metadata": {},
   "source": [
    "<b>Both BIC"
   ]
  },
  {
   "cell_type": "code",
   "execution_count": 239,
   "metadata": {
    "scrolled": false
   },
   "outputs": [
    {
     "name": "stdout",
     "output_type": "stream",
     "text": [
      "Start:  AIC=3068.79\n",
      "Y ~ factor(funding_indicator) + factor(s_Citizenship) + avs_net_cost + \n",
      "    s_Average.Precol.GPA + s_GRE.Combined.General.Verbal.Score + \n",
      "    s_GRE.Combined.General.Write.Score + GPA_trend + s_start_year + \n",
      "    factor(s_College) + avs_net_cost:factor(s_College) + factor(s_College):factor(s_Citizenship) + \n",
      "    factor(s_College):s_GRE.Combined.General.Verbal.Score + factor(s_College):s_Average.Precol.GPA + \n",
      "    factor(s_College):s_GRE.Combined.General.Write.Score\n",
      "\n",
      "                                                        Df Deviance    AIC\n",
      "- factor(s_Citizenship):factor(s_College)                3   2951.6 3051.5\n",
      "- s_GRE.Combined.General.Write.Score:factor(s_College)   1   2950.2 3062.6\n",
      "- s_Average.Precol.GPA:factor(s_College)                 1   2950.3 3062.7\n",
      "- s_GRE.Combined.General.Verbal.Score:factor(s_College)  1   2950.4 3062.8\n",
      "<none>                                                       2950.2 3068.8\n",
      "- avs_net_cost:factor(s_College)                         1   2958.1 3070.5\n",
      "- GPA_trend                                              1   2964.8 3077.2\n",
      "- factor(funding_indicator)                              1   3044.7 3157.1\n",
      "- s_start_year                                           1   3179.8 3292.2\n",
      "\n",
      "Step:  AIC=3051.49\n",
      "Y ~ factor(funding_indicator) + factor(s_Citizenship) + avs_net_cost + \n",
      "    s_Average.Precol.GPA + s_GRE.Combined.General.Verbal.Score + \n",
      "    s_GRE.Combined.General.Write.Score + GPA_trend + s_start_year + \n",
      "    factor(s_College) + avs_net_cost:factor(s_College) + s_GRE.Combined.General.Verbal.Score:factor(s_College) + \n",
      "    s_Average.Precol.GPA:factor(s_College) + s_GRE.Combined.General.Write.Score:factor(s_College)\n",
      "\n",
      "                                                        Df Deviance    AIC\n",
      "- s_GRE.Combined.General.Write.Score:factor(s_College)   1   2951.6 3045.3\n",
      "- s_Average.Precol.GPA:factor(s_College)                 1   2951.7 3045.4\n",
      "- s_GRE.Combined.General.Verbal.Score:factor(s_College)  1   2951.8 3045.5\n",
      "<none>                                                       2951.6 3051.5\n",
      "- factor(s_Citizenship)                                  3   2971.6 3052.8\n",
      "- avs_net_cost:factor(s_College)                         1   2959.5 3053.1\n",
      "- GPA_trend                                              1   2966.1 3059.8\n",
      "+ factor(s_Citizenship):factor(s_College)                3   2950.2 3068.8\n",
      "- factor(funding_indicator)                              1   3047.0 3140.7\n",
      "- s_start_year                                           1   3184.8 3278.5\n",
      "\n",
      "Step:  AIC=3045.27\n",
      "Y ~ factor(funding_indicator) + factor(s_Citizenship) + avs_net_cost + \n",
      "    s_Average.Precol.GPA + s_GRE.Combined.General.Verbal.Score + \n",
      "    s_GRE.Combined.General.Write.Score + GPA_trend + s_start_year + \n",
      "    factor(s_College) + avs_net_cost:factor(s_College) + s_GRE.Combined.General.Verbal.Score:factor(s_College) + \n",
      "    s_Average.Precol.GPA:factor(s_College)\n",
      "\n",
      "                                                        Df Deviance    AIC\n",
      "- s_Average.Precol.GPA:factor(s_College)                 1   2951.7 3039.2\n",
      "- s_GRE.Combined.General.Verbal.Score:factor(s_College)  1   2951.8 3039.2\n",
      "- s_GRE.Combined.General.Write.Score                     1   2952.5 3039.9\n",
      "<none>                                                       2951.6 3045.3\n",
      "- factor(s_Citizenship)                                  3   2971.6 3046.5\n",
      "- avs_net_cost:factor(s_College)                         1   2959.5 3047.0\n",
      "+ s_GRE.Combined.General.Write.Score:factor(s_College)   1   2951.6 3051.5\n",
      "- GPA_trend                                              1   2966.1 3053.6\n",
      "+ factor(s_Citizenship):factor(s_College)                3   2950.2 3062.6\n",
      "- factor(funding_indicator)                              1   3047.2 3134.6\n",
      "- s_start_year                                           1   3186.1 3273.5\n",
      "\n",
      "Step:  AIC=3039.17\n",
      "Y ~ factor(funding_indicator) + factor(s_Citizenship) + avs_net_cost + \n",
      "    s_Average.Precol.GPA + s_GRE.Combined.General.Verbal.Score + \n",
      "    s_GRE.Combined.General.Write.Score + GPA_trend + s_start_year + \n",
      "    factor(s_College) + avs_net_cost:factor(s_College) + s_GRE.Combined.General.Verbal.Score:factor(s_College)\n",
      "\n",
      "                                                        Df Deviance    AIC\n",
      "- s_GRE.Combined.General.Verbal.Score:factor(s_College)  1   2951.9 3033.1\n",
      "- s_GRE.Combined.General.Write.Score                     1   2952.7 3033.9\n",
      "<none>                                                       2951.7 3039.2\n",
      "- factor(s_Citizenship)                                  3   2971.7 3040.4\n",
      "- avs_net_cost:factor(s_College)                         1   2959.7 3040.8\n",
      "- s_Average.Precol.GPA                                   1   2961.7 3042.9\n",
      "+ s_Average.Precol.GPA:factor(s_College)                 1   2951.6 3045.3\n",
      "+ s_GRE.Combined.General.Write.Score:factor(s_College)   1   2951.7 3045.4\n",
      "- GPA_trend                                              1   2966.5 3047.7\n",
      "+ factor(s_Citizenship):factor(s_College)                3   2950.3 3056.4\n",
      "- factor(funding_indicator)                              1   3047.2 3128.4\n",
      "- s_start_year                                           1   3186.4 3267.6\n",
      "\n",
      "Step:  AIC=3033.11\n",
      "Y ~ factor(funding_indicator) + factor(s_Citizenship) + avs_net_cost + \n",
      "    s_Average.Precol.GPA + s_GRE.Combined.General.Verbal.Score + \n",
      "    s_GRE.Combined.General.Write.Score + GPA_trend + s_start_year + \n",
      "    factor(s_College) + avs_net_cost:factor(s_College)\n",
      "\n",
      "                                                        Df Deviance    AIC\n",
      "- s_GRE.Combined.General.Verbal.Score                    1   2953.2 3028.1\n",
      "- s_GRE.Combined.General.Write.Score                     1   2953.3 3028.2\n",
      "<none>                                                       2951.9 3033.1\n",
      "- factor(s_Citizenship)                                  3   2972.2 3034.6\n",
      "- avs_net_cost:factor(s_College)                         1   2959.8 3034.7\n",
      "- s_Average.Precol.GPA                                   1   2962.0 3036.9\n",
      "+ s_GRE.Combined.General.Verbal.Score:factor(s_College)  1   2951.7 3039.2\n",
      "+ s_Average.Precol.GPA:factor(s_College)                 1   2951.8 3039.2\n",
      "+ s_GRE.Combined.General.Write.Score:factor(s_College)   1   2951.9 3039.3\n",
      "- GPA_trend                                              1   2966.6 3041.5\n",
      "+ factor(s_Citizenship):factor(s_College)                3   2950.6 3050.5\n",
      "- factor(funding_indicator)                              1   3048.6 3123.5\n",
      "- s_start_year                                           1   3187.6 3262.5\n",
      "\n",
      "Step:  AIC=3028.12\n",
      "Y ~ factor(funding_indicator) + factor(s_Citizenship) + avs_net_cost + \n",
      "    s_Average.Precol.GPA + s_GRE.Combined.General.Write.Score + \n",
      "    GPA_trend + s_start_year + factor(s_College) + avs_net_cost:factor(s_College)\n",
      "\n",
      "                                                       Df Deviance    AIC\n",
      "- s_GRE.Combined.General.Write.Score                    1   2955.4 3024.1\n",
      "<none>                                                      2953.2 3028.1\n",
      "- avs_net_cost:factor(s_College)                        1   2961.0 3029.7\n",
      "- factor(s_Citizenship)                                 3   2973.7 3029.9\n",
      "- s_Average.Precol.GPA                                  1   2963.0 3031.7\n",
      "+ s_GRE.Combined.General.Verbal.Score                   1   2951.9 3033.1\n",
      "+ s_Average.Precol.GPA:factor(s_College)                1   2953.1 3034.2\n",
      "+ s_GRE.Combined.General.Write.Score:factor(s_College)  1   2953.1 3034.3\n",
      "- GPA_trend                                             1   2968.4 3037.1\n",
      "+ factor(s_Citizenship):factor(s_College)               3   2951.9 3045.6\n",
      "- factor(funding_indicator)                             1   3050.4 3119.1\n",
      "- s_start_year                                          1   3189.1 3257.8\n",
      "\n",
      "Step:  AIC=3024.07\n",
      "Y ~ factor(funding_indicator) + factor(s_Citizenship) + avs_net_cost + \n",
      "    s_Average.Precol.GPA + GPA_trend + s_start_year + factor(s_College) + \n",
      "    avs_net_cost:factor(s_College)\n",
      "\n",
      "                                          Df Deviance    AIC\n",
      "<none>                                         2955.4 3024.1\n",
      "- avs_net_cost:factor(s_College)           1   2962.7 3025.1\n",
      "- s_Average.Precol.GPA                     1   2964.0 3026.5\n",
      "+ s_GRE.Combined.General.Write.Score       1   2953.2 3028.1\n",
      "+ s_GRE.Combined.General.Verbal.Score      1   2953.3 3028.2\n",
      "+ s_Average.Precol.GPA:factor(s_College)   1   2955.2 3030.1\n",
      "- GPA_trend                                1   2970.3 3032.7\n",
      "- factor(s_Citizenship)                    3   2983.4 3033.3\n",
      "+ factor(s_Citizenship):factor(s_College)  3   2954.1 3041.6\n",
      "- factor(funding_indicator)                1   3051.6 3114.0\n",
      "- s_start_year                             1   3192.9 3255.3\n"
     ]
    }
   ],
   "source": [
    "log_mod_total_bic = stepAIC(log_mod_total, direction = \"both\", k = log(e_n))"
   ]
  },
  {
   "cell_type": "markdown",
   "metadata": {},
   "source": [
    "<b>Significant variables both BIC selects:"
   ]
  },
  {
   "cell_type": "code",
   "execution_count": 240,
   "metadata": {
    "scrolled": true
   },
   "outputs": [
    {
     "data": {
      "text/html": [
       "<table>\n",
       "<thead><tr><th></th><th scope=col>Estimate</th><th scope=col>Pr(&gt;|z|)</th></tr></thead>\n",
       "<tbody>\n",
       "\t<tr><th scope=row>(Intercept)</th><td>-0.57033</td><td>0.00000 </td></tr>\n",
       "\t<tr><th scope=row>factor(funding_indicator)1</th><td> 1.06997</td><td>0.00000 </td></tr>\n",
       "\t<tr><th scope=row>factor(s_Citizenship)Africa</th><td> 0.88357</td><td>0.00546 </td></tr>\n",
       "\t<tr><th scope=row>factor(s_Citizenship)Asia</th><td> 0.59964</td><td>0.00002 </td></tr>\n",
       "\t<tr><th scope=row>factor(s_Citizenship)China</th><td> 0.33587</td><td>0.01636 </td></tr>\n",
       "\t<tr><th scope=row>s_Average.Precol.GPA</th><td> 0.13076</td><td>0.00429 </td></tr>\n",
       "\t<tr><th scope=row>GPA_trend</th><td> 0.99930</td><td>0.00021 </td></tr>\n",
       "\t<tr><th scope=row>s_start_year</th><td>-0.80919</td><td>0.00000 </td></tr>\n",
       "\t<tr><th scope=row>factor(s_College)GD Non-Harpur</th><td> 0.60862</td><td>0.00000 </td></tr>\n",
       "\t<tr><th scope=row>avs_net_cost:factor(s_College)GD Non-Harpur</th><td> 0.30465</td><td>0.01291 </td></tr>\n",
       "</tbody>\n",
       "</table>\n"
      ],
      "text/latex": [
       "\\begin{tabular}{r|ll}\n",
       "  & Estimate & Pr(>\\textbar{}z\\textbar{})\\\\\n",
       "\\hline\n",
       "\t(Intercept) & -0.57033 & 0.00000 \\\\\n",
       "\tfactor(funding\\_indicator)1 &  1.06997 & 0.00000 \\\\\n",
       "\tfactor(s\\_Citizenship)Africa &  0.88357 & 0.00546 \\\\\n",
       "\tfactor(s\\_Citizenship)Asia &  0.59964 & 0.00002 \\\\\n",
       "\tfactor(s\\_Citizenship)China &  0.33587 & 0.01636 \\\\\n",
       "\ts\\_Average.Precol.GPA &  0.13076 & 0.00429 \\\\\n",
       "\tGPA\\_trend &  0.99930 & 0.00021 \\\\\n",
       "\ts\\_start\\_year & -0.80919 & 0.00000 \\\\\n",
       "\tfactor(s\\_College)GD Non-Harpur &  0.60862 & 0.00000 \\\\\n",
       "\tavs\\_net\\_cost:factor(s\\_College)GD Non-Harpur &  0.30465 & 0.01291 \\\\\n",
       "\\end{tabular}\n"
      ],
      "text/markdown": [
       "\n",
       "| <!--/--> | Estimate | Pr(>|z|) |\n",
       "|---|---|---|\n",
       "| (Intercept) | -0.57033 | 0.00000  |\n",
       "| factor(funding_indicator)1 |  1.06997 | 0.00000  |\n",
       "| factor(s_Citizenship)Africa |  0.88357 | 0.00546  |\n",
       "| factor(s_Citizenship)Asia |  0.59964 | 0.00002  |\n",
       "| factor(s_Citizenship)China |  0.33587 | 0.01636  |\n",
       "| s_Average.Precol.GPA |  0.13076 | 0.00429  |\n",
       "| GPA_trend |  0.99930 | 0.00021  |\n",
       "| s_start_year | -0.80919 | 0.00000  |\n",
       "| factor(s_College)GD Non-Harpur |  0.60862 | 0.00000  |\n",
       "| avs_net_cost:factor(s_College)GD Non-Harpur |  0.30465 | 0.01291  |\n",
       "\n"
      ],
      "text/plain": [
       "                                            Estimate Pr(>|z|)\n",
       "(Intercept)                                 -0.57033 0.00000 \n",
       "factor(funding_indicator)1                   1.06997 0.00000 \n",
       "factor(s_Citizenship)Africa                  0.88357 0.00546 \n",
       "factor(s_Citizenship)Asia                    0.59964 0.00002 \n",
       "factor(s_Citizenship)China                   0.33587 0.01636 \n",
       "s_Average.Precol.GPA                         0.13076 0.00429 \n",
       "GPA_trend                                    0.99930 0.00021 \n",
       "s_start_year                                -0.80919 0.00000 \n",
       "factor(s_College)GD Non-Harpur               0.60862 0.00000 \n",
       "avs_net_cost:factor(s_College)GD Non-Harpur  0.30465 0.01291 "
      ]
     },
     "metadata": {},
     "output_type": "display_data"
    }
   ],
   "source": [
    "round(summary(log_mod_total_bic)$coeff[which(summary(log_mod_total_bic)$coef[,4] <= .05),c(1,4)],5)"
   ]
  },
  {
   "cell_type": "markdown",
   "metadata": {},
   "source": [
    "# Using Sparse PCA to do analysis"
   ]
  },
  {
   "cell_type": "markdown",
   "metadata": {},
   "source": [
    "# Harpur Sciences Analysis"
   ]
  },
  {
   "cell_type": "markdown",
   "metadata": {},
   "source": [
    "<b> Logistic regression model:"
   ]
  },
  {
   "cell_type": "code",
   "execution_count": 68,
   "metadata": {
    "scrolled": false
   },
   "outputs": [
    {
     "data": {
      "text/plain": [
       "\n",
       "Call:\n",
       "glm(formula = Y ~ s_start_age + factor(Gender) + factor(funding_indicator) + \n",
       "    factor(Citizenship) + avs_net_cost + SAPC1 + SAPC2 + SAPC3 + \n",
       "    factor(gap_indicator) + GPA_trend + s_start_year, family = \"binomial\", \n",
       "    data = Harpur_sciences)\n",
       "\n",
       "Deviance Residuals: \n",
       "    Min       1Q   Median       3Q      Max  \n",
       "-3.2490  -0.9440   0.5559   0.8614   2.1701  \n",
       "\n",
       "Coefficients:\n",
       "                                                 Estimate Std. Error z value\n",
       "(Intercept)                                     -0.754066   1.583191  -0.476\n",
       "s_start_age                                      0.133101   0.149035   0.893\n",
       "factor(Gender)Male                               0.001121   0.164237   0.007\n",
       "factor(funding_indicator)1                       1.299579   0.256153   5.073\n",
       "factor(Citizenship)Africa                        0.980062   0.474867   2.064\n",
       "factor(Citizenship)Asia                          0.296456   0.351802   0.843\n",
       "factor(Citizenship)Asian                        -0.346654   0.425599  -0.815\n",
       "factor(Citizenship)Black or African American     0.295510   0.526262   0.562\n",
       "factor(Citizenship)China                         0.586945   0.234131   2.507\n",
       "factor(Citizenship)Europe                        0.101770   0.437199   0.233\n",
       "factor(Citizenship)Hispanic or Latino           -0.741781   0.400922  -1.850\n",
       "factor(Citizenship)India                         0.542288   0.444915   1.219\n",
       "factor(Citizenship)Other International Students  0.230293   0.525652   0.438\n",
       "factor(Citizenship)Unknown                       0.314594   0.374086   0.841\n",
       "avs_net_cost                                     0.154515   0.106660   1.449\n",
       "SAPC1                                           -0.000172   0.005408  -0.032\n",
       "SAPC2                                            0.002532   0.001826   1.386\n",
       "SAPC3                                           -0.009601   0.219063  -0.044\n",
       "factor(gap_indicator)1                           0.629320   0.349307   1.802\n",
       "GPA_trend                                        1.090860   0.425162   2.566\n",
       "s_start_year                                    -1.350891   0.133969 -10.084\n",
       "                                                Pr(>|z|)    \n",
       "(Intercept)                                       0.6339    \n",
       "s_start_age                                       0.3718    \n",
       "factor(Gender)Male                                0.9946    \n",
       "factor(funding_indicator)1                      3.91e-07 ***\n",
       "factor(Citizenship)Africa                         0.0390 *  \n",
       "factor(Citizenship)Asia                           0.3994    \n",
       "factor(Citizenship)Asian                          0.4154    \n",
       "factor(Citizenship)Black or African American      0.5744    \n",
       "factor(Citizenship)China                          0.0122 *  \n",
       "factor(Citizenship)Europe                         0.8159    \n",
       "factor(Citizenship)Hispanic or Latino             0.0643 .  \n",
       "factor(Citizenship)India                          0.2229    \n",
       "factor(Citizenship)Other International Students   0.6613    \n",
       "factor(Citizenship)Unknown                        0.4004    \n",
       "avs_net_cost                                      0.1474    \n",
       "SAPC1                                             0.9746    \n",
       "SAPC2                                             0.1656    \n",
       "SAPC3                                             0.9650    \n",
       "factor(gap_indicator)1                            0.0716 .  \n",
       "GPA_trend                                         0.0103 *  \n",
       "s_start_year                                     < 2e-16 ***\n",
       "---\n",
       "Signif. codes:  0 '***' 0.001 '**' 0.01 '*' 0.05 '.' 0.1 ' ' 1\n",
       "\n",
       "(Dispersion parameter for binomial family taken to be 1)\n",
       "\n",
       "    Null deviance: 1135.18  on 860  degrees of freedom\n",
       "Residual deviance:  952.54  on 840  degrees of freedom\n",
       "AIC: 994.54\n",
       "\n",
       "Number of Fisher Scoring iterations: 4\n"
      ]
     },
     "metadata": {},
     "output_type": "display_data"
    }
   ],
   "source": [
    "log_mod_h_s = glm(Y~s_start_age+factor(Gender)+factor(funding_indicator)+factor(Citizenship)+\n",
    "                avs_net_cost+SAPC1+SAPC2+SAPC3+factor(gap_indicator)+GPA_trend+s_start_year,\n",
    "                data=Harpur_sciences,family=\"binomial\")\n",
    "summary(log_mod_h_s)"
   ]
  },
  {
   "cell_type": "markdown",
   "metadata": {},
   "source": [
    "<b> Significant Variables of logistic regression model: "
   ]
  },
  {
   "cell_type": "code",
   "execution_count": 69,
   "metadata": {},
   "outputs": [
    {
     "data": {
      "text/html": [
       "<table>\n",
       "<thead><tr><th></th><th scope=col>Estimate</th><th scope=col>Pr(&gt;|z|)</th></tr></thead>\n",
       "<tbody>\n",
       "\t<tr><th scope=row>factor(funding_indicator)1</th><td> 1.29958</td><td>0.00000 </td></tr>\n",
       "\t<tr><th scope=row>factor(Citizenship)Africa</th><td> 0.98006</td><td>0.03903 </td></tr>\n",
       "\t<tr><th scope=row>factor(Citizenship)China</th><td> 0.58694</td><td>0.01218 </td></tr>\n",
       "\t<tr><th scope=row>GPA_trend</th><td> 1.09086</td><td>0.01030 </td></tr>\n",
       "\t<tr><th scope=row>s_start_year</th><td>-1.35089</td><td>0.00000 </td></tr>\n",
       "</tbody>\n",
       "</table>\n"
      ],
      "text/latex": [
       "\\begin{tabular}{r|ll}\n",
       "  & Estimate & Pr(>\\textbar{}z\\textbar{})\\\\\n",
       "\\hline\n",
       "\tfactor(funding\\_indicator)1 &  1.29958 & 0.00000 \\\\\n",
       "\tfactor(Citizenship)Africa &  0.98006 & 0.03903 \\\\\n",
       "\tfactor(Citizenship)China &  0.58694 & 0.01218 \\\\\n",
       "\tGPA\\_trend &  1.09086 & 0.01030 \\\\\n",
       "\ts\\_start\\_year & -1.35089 & 0.00000 \\\\\n",
       "\\end{tabular}\n"
      ],
      "text/markdown": [
       "\n",
       "| <!--/--> | Estimate | Pr(>|z|) |\n",
       "|---|---|---|\n",
       "| factor(funding_indicator)1 |  1.29958 | 0.00000  |\n",
       "| factor(Citizenship)Africa |  0.98006 | 0.03903  |\n",
       "| factor(Citizenship)China |  0.58694 | 0.01218  |\n",
       "| GPA_trend |  1.09086 | 0.01030  |\n",
       "| s_start_year | -1.35089 | 0.00000  |\n",
       "\n"
      ],
      "text/plain": [
       "                           Estimate Pr(>|z|)\n",
       "factor(funding_indicator)1  1.29958 0.00000 \n",
       "factor(Citizenship)Africa   0.98006 0.03903 \n",
       "factor(Citizenship)China    0.58694 0.01218 \n",
       "GPA_trend                   1.09086 0.01030 \n",
       "s_start_year               -1.35089 0.00000 "
      ]
     },
     "metadata": {},
     "output_type": "display_data"
    }
   ],
   "source": [
    "round(summary(log_mod_h_s)$coeff[which(summary(log_mod_h_s)$coef[,4] <= .05),c(1,4)],5)"
   ]
  },
  {
   "cell_type": "markdown",
   "metadata": {},
   "source": [
    "<b> Both AIC:"
   ]
  },
  {
   "cell_type": "code",
   "execution_count": 70,
   "metadata": {},
   "outputs": [
    {
     "name": "stdout",
     "output_type": "stream",
     "text": [
      "Start:  AIC=994.54\n",
      "Y ~ s_start_age + factor(Gender) + factor(funding_indicator) + \n",
      "    factor(Citizenship) + avs_net_cost + SAPC1 + SAPC2 + SAPC3 + \n",
      "    factor(gap_indicator) + GPA_trend + s_start_year\n",
      "\n",
      "                            Df Deviance     AIC\n",
      "- factor(Gender)             1   952.54  992.54\n",
      "- SAPC1                      1   952.54  992.54\n",
      "- SAPC3                      1   952.54  992.54\n",
      "- factor(Citizenship)       10   970.75  992.75\n",
      "- s_start_age                1   953.34  993.34\n",
      "- SAPC2                      1   954.47  994.47\n",
      "<none>                           952.54  994.54\n",
      "- avs_net_cost               1   954.73  994.73\n",
      "- factor(gap_indicator)      1   956.08  996.08\n",
      "- GPA_trend                  1   959.79  999.79\n",
      "- factor(funding_indicator)  1   978.99 1018.99\n",
      "- s_start_year               1  1075.80 1115.80\n",
      "\n",
      "Step:  AIC=992.54\n",
      "Y ~ s_start_age + factor(funding_indicator) + factor(Citizenship) + \n",
      "    avs_net_cost + SAPC1 + SAPC2 + SAPC3 + factor(gap_indicator) + \n",
      "    GPA_trend + s_start_year\n",
      "\n",
      "                            Df Deviance     AIC\n",
      "- SAPC1                      1   952.54  990.54\n",
      "- SAPC3                      1   952.54  990.54\n",
      "- factor(Citizenship)       10   970.76  990.76\n",
      "- s_start_age                1   953.35  991.35\n",
      "- SAPC2                      1   954.48  992.48\n",
      "<none>                           952.54  992.54\n",
      "- avs_net_cost               1   954.75  992.75\n",
      "- factor(gap_indicator)      1   956.08  994.08\n",
      "+ factor(Gender)             1   952.54  994.54\n",
      "- GPA_trend                  1   959.86  997.86\n",
      "- factor(funding_indicator)  1   978.99 1016.99\n",
      "- s_start_year               1  1076.59 1114.59\n",
      "\n",
      "Step:  AIC=990.54\n",
      "Y ~ s_start_age + factor(funding_indicator) + factor(Citizenship) + \n",
      "    avs_net_cost + SAPC2 + SAPC3 + factor(gap_indicator) + GPA_trend + \n",
      "    s_start_year\n",
      "\n",
      "                            Df Deviance     AIC\n",
      "- SAPC3                      1   952.54  988.54\n",
      "- factor(Citizenship)       10   970.80  988.80\n",
      "- s_start_age                1   953.35  989.35\n",
      "- SAPC2                      1   954.48  990.48\n",
      "<none>                           952.54  990.54\n",
      "- avs_net_cost               1   954.75  990.75\n",
      "- factor(gap_indicator)      1   956.08  992.08\n",
      "+ SAPC1                      1   952.54  992.54\n",
      "+ factor(Gender)             1   952.54  992.54\n",
      "- GPA_trend                  1   959.86  995.86\n",
      "- factor(funding_indicator)  1   979.05 1015.05\n",
      "- s_start_year               1  1078.80 1114.80\n",
      "\n",
      "Step:  AIC=988.54\n",
      "Y ~ s_start_age + factor(funding_indicator) + factor(Citizenship) + \n",
      "    avs_net_cost + SAPC2 + factor(gap_indicator) + GPA_trend + \n",
      "    s_start_year\n",
      "\n",
      "                            Df Deviance     AIC\n",
      "- s_start_age                1   953.35  987.35\n",
      "- factor(Citizenship)       10   972.07  988.07\n",
      "- SAPC2                      1   954.48  988.48\n",
      "<none>                           952.54  988.54\n",
      "- avs_net_cost               1   954.77  988.77\n",
      "- factor(gap_indicator)      1   956.08  990.08\n",
      "+ SAPC3                      1   952.54  990.54\n",
      "+ SAPC1                      1   952.54  990.54\n",
      "+ factor(Gender)             1   952.54  990.54\n",
      "- GPA_trend                  1   959.88  993.88\n",
      "- factor(funding_indicator)  1   979.20 1013.20\n",
      "- s_start_year               1  1078.95 1112.95\n",
      "\n",
      "Step:  AIC=987.35\n",
      "Y ~ factor(funding_indicator) + factor(Citizenship) + avs_net_cost + \n",
      "    SAPC2 + factor(gap_indicator) + GPA_trend + s_start_year\n",
      "\n",
      "                            Df Deviance     AIC\n",
      "<none>                           953.35  987.35\n",
      "- factor(Citizenship)       10   973.62  987.62\n",
      "- SAPC2                      1   955.62  987.62\n",
      "- avs_net_cost               1   956.37  988.37\n",
      "+ s_start_age                1   952.54  988.54\n",
      "- factor(gap_indicator)      1   957.00  989.00\n",
      "+ factor(Gender)             1   953.35  989.35\n",
      "+ SAPC3                      1   953.35  989.35\n",
      "+ SAPC1                      1   953.35  989.35\n",
      "- GPA_trend                  1   960.64  992.64\n",
      "- factor(funding_indicator)  1   979.23 1011.23\n",
      "- s_start_year               1  1079.01 1111.01\n"
     ]
    }
   ],
   "source": [
    "library('MASS')\n",
    "log_mod_h_s_aic = stepAIC(log_mod_h_s, direction = 'both')"
   ]
  },
  {
   "cell_type": "markdown",
   "metadata": {},
   "source": [
    "<b> Significant variables both AIC selects:"
   ]
  },
  {
   "cell_type": "code",
   "execution_count": 71,
   "metadata": {},
   "outputs": [
    {
     "data": {
      "text/html": [
       "<table>\n",
       "<thead><tr><th></th><th scope=col>Estimate</th><th scope=col>Pr(&gt;|z|)</th></tr></thead>\n",
       "<tbody>\n",
       "\t<tr><th scope=row>(Intercept)</th><td>-0.80628</td><td>0.01345 </td></tr>\n",
       "\t<tr><th scope=row>factor(funding_indicator)1</th><td> 1.25234</td><td>0.00000 </td></tr>\n",
       "\t<tr><th scope=row>factor(Citizenship)Africa</th><td> 1.05933</td><td>0.02216 </td></tr>\n",
       "\t<tr><th scope=row>factor(Citizenship)China</th><td> 0.58856</td><td>0.00834 </td></tr>\n",
       "\t<tr><th scope=row>GPA_trend</th><td> 1.08267</td><td>0.01010 </td></tr>\n",
       "\t<tr><th scope=row>s_start_year</th><td>-1.34429</td><td>0.00000 </td></tr>\n",
       "</tbody>\n",
       "</table>\n"
      ],
      "text/latex": [
       "\\begin{tabular}{r|ll}\n",
       "  & Estimate & Pr(>\\textbar{}z\\textbar{})\\\\\n",
       "\\hline\n",
       "\t(Intercept) & -0.80628 & 0.01345 \\\\\n",
       "\tfactor(funding\\_indicator)1 &  1.25234 & 0.00000 \\\\\n",
       "\tfactor(Citizenship)Africa &  1.05933 & 0.02216 \\\\\n",
       "\tfactor(Citizenship)China &  0.58856 & 0.00834 \\\\\n",
       "\tGPA\\_trend &  1.08267 & 0.01010 \\\\\n",
       "\ts\\_start\\_year & -1.34429 & 0.00000 \\\\\n",
       "\\end{tabular}\n"
      ],
      "text/markdown": [
       "\n",
       "| <!--/--> | Estimate | Pr(>|z|) |\n",
       "|---|---|---|\n",
       "| (Intercept) | -0.80628 | 0.01345  |\n",
       "| factor(funding_indicator)1 |  1.25234 | 0.00000  |\n",
       "| factor(Citizenship)Africa |  1.05933 | 0.02216  |\n",
       "| factor(Citizenship)China |  0.58856 | 0.00834  |\n",
       "| GPA_trend |  1.08267 | 0.01010  |\n",
       "| s_start_year | -1.34429 | 0.00000  |\n",
       "\n"
      ],
      "text/plain": [
       "                           Estimate Pr(>|z|)\n",
       "(Intercept)                -0.80628 0.01345 \n",
       "factor(funding_indicator)1  1.25234 0.00000 \n",
       "factor(Citizenship)Africa   1.05933 0.02216 \n",
       "factor(Citizenship)China    0.58856 0.00834 \n",
       "GPA_trend                   1.08267 0.01010 \n",
       "s_start_year               -1.34429 0.00000 "
      ]
     },
     "metadata": {},
     "output_type": "display_data"
    }
   ],
   "source": [
    "round(summary(log_mod_h_s_aic)$coeff[which(summary(log_mod_h_s_aic)$coef[,4] <= .05),c(1,4)],5)"
   ]
  },
  {
   "cell_type": "markdown",
   "metadata": {},
   "source": [
    "<b> Both BIC"
   ]
  },
  {
   "cell_type": "code",
   "execution_count": 72,
   "metadata": {},
   "outputs": [
    {
     "name": "stdout",
     "output_type": "stream",
     "text": [
      "Start:  AIC=1094.46\n",
      "Y ~ s_start_age + factor(Gender) + factor(funding_indicator) + \n",
      "    factor(Citizenship) + avs_net_cost + SAPC1 + SAPC2 + SAPC3 + \n",
      "    factor(gap_indicator) + GPA_trend + s_start_year\n",
      "\n",
      "                            Df Deviance    AIC\n",
      "- factor(Citizenship)       10   970.75 1045.1\n",
      "- factor(Gender)             1   952.54 1087.7\n",
      "- SAPC1                      1   952.54 1087.7\n",
      "- SAPC3                      1   952.54 1087.7\n",
      "- s_start_age                1   953.34 1088.5\n",
      "- SAPC2                      1   954.47 1089.6\n",
      "- avs_net_cost               1   954.73 1089.9\n",
      "- factor(gap_indicator)      1   956.08 1091.2\n",
      "<none>                           952.54 1094.5\n",
      "- GPA_trend                  1   959.79 1095.0\n",
      "- factor(funding_indicator)  1   978.99 1114.2\n",
      "- s_start_year               1  1075.80 1211.0\n",
      "\n",
      "Step:  AIC=1045.09\n",
      "Y ~ s_start_age + factor(Gender) + factor(funding_indicator) + \n",
      "    avs_net_cost + SAPC1 + SAPC2 + SAPC3 + factor(gap_indicator) + \n",
      "    GPA_trend + s_start_year\n",
      "\n",
      "                            Df Deviance    AIC\n",
      "- factor(Gender)             1   970.76 1038.3\n",
      "- SAPC1                      1   970.79 1038.4\n",
      "- SAPC2                      1   971.77 1039.3\n",
      "- SAPC3                      1   972.05 1039.6\n",
      "- s_start_age                1   972.16 1039.7\n",
      "- avs_net_cost               1   972.70 1040.3\n",
      "- factor(gap_indicator)      1   973.82 1041.4\n",
      "- GPA_trend                  1   977.09 1044.7\n",
      "<none>                           970.75 1045.1\n",
      "- factor(funding_indicator)  1   997.88 1065.5\n",
      "+ factor(Citizenship)       10   952.54 1094.5\n",
      "- s_start_year               1  1099.24 1166.8\n",
      "\n",
      "Step:  AIC=1038.34\n",
      "Y ~ s_start_age + factor(funding_indicator) + avs_net_cost + \n",
      "    SAPC1 + SAPC2 + SAPC3 + factor(gap_indicator) + GPA_trend + \n",
      "    s_start_year\n",
      "\n",
      "                            Df Deviance    AIC\n",
      "- SAPC1                      1   970.80 1031.6\n",
      "- SAPC2                      1   971.79 1032.6\n",
      "- SAPC3                      1   972.06 1032.9\n",
      "- s_start_age                1   972.16 1033.0\n",
      "- avs_net_cost               1   972.70 1033.5\n",
      "- factor(gap_indicator)      1   973.82 1034.7\n",
      "- GPA_trend                  1   977.18 1038.0\n",
      "<none>                           970.76 1038.3\n",
      "+ factor(Gender)             1   970.75 1045.1\n",
      "- factor(funding_indicator)  1   997.89 1058.7\n",
      "+ factor(Citizenship)       10   952.54 1087.7\n",
      "- s_start_year               1  1100.05 1160.9\n",
      "\n",
      "Step:  AIC=1031.62\n",
      "Y ~ s_start_age + factor(funding_indicator) + avs_net_cost + \n",
      "    SAPC2 + SAPC3 + factor(gap_indicator) + GPA_trend + s_start_year\n",
      "\n",
      "                            Df Deviance    AIC\n",
      "- SAPC2                      1   971.82 1025.9\n",
      "- SAPC3                      1   972.07 1026.1\n",
      "- s_start_age                1   972.20 1026.3\n",
      "- avs_net_cost               1   972.74 1026.8\n",
      "- factor(gap_indicator)      1   973.86 1027.9\n",
      "- GPA_trend                  1   977.21 1031.3\n",
      "<none>                           970.80 1031.6\n",
      "+ SAPC1                      1   970.76 1038.3\n",
      "+ factor(Gender)             1   970.79 1038.4\n",
      "- factor(funding_indicator)  1   998.03 1052.1\n",
      "+ factor(Citizenship)       10   952.54 1080.9\n",
      "- s_start_year               1  1102.55 1156.6\n",
      "\n",
      "Step:  AIC=1025.89\n",
      "Y ~ s_start_age + factor(funding_indicator) + avs_net_cost + \n",
      "    SAPC3 + factor(gap_indicator) + GPA_trend + s_start_year\n",
      "\n",
      "                            Df Deviance    AIC\n",
      "- SAPC3                      1   972.85 1020.2\n",
      "- s_start_age                1   973.50 1020.8\n",
      "- avs_net_cost               1   973.75 1021.0\n",
      "- factor(gap_indicator)      1   974.98 1022.3\n",
      "- GPA_trend                  1   977.86 1025.2\n",
      "<none>                           971.82 1025.9\n",
      "+ SAPC2                      1   970.80 1031.6\n",
      "+ SAPC1                      1   971.79 1032.6\n",
      "+ factor(Gender)             1   971.81 1032.6\n",
      "- factor(funding_indicator)  1   999.81 1047.1\n",
      "+ factor(Citizenship)       10   954.48 1076.1\n",
      "- s_start_year               1  1104.21 1151.5\n",
      "\n",
      "Step:  AIC=1020.16\n",
      "Y ~ s_start_age + factor(funding_indicator) + avs_net_cost + \n",
      "    factor(gap_indicator) + GPA_trend + s_start_year\n",
      "\n",
      "                            Df Deviance    AIC\n",
      "- s_start_age                1   974.64 1015.2\n",
      "- avs_net_cost               1   975.04 1015.6\n",
      "- factor(gap_indicator)      1   975.89 1016.4\n",
      "- GPA_trend                  1   979.09 1019.6\n",
      "<none>                           972.85 1020.2\n",
      "+ SAPC3                      1   971.82 1025.9\n",
      "+ SAPC2                      1   972.07 1026.1\n",
      "+ SAPC1                      1   972.84 1026.9\n",
      "+ factor(Gender)             1   972.84 1026.9\n",
      "- factor(funding_indicator)  1  1000.06 1040.6\n",
      "+ factor(Citizenship)       10   954.48 1069.4\n",
      "- s_start_year               1  1105.50 1146.0\n",
      "\n",
      "Step:  AIC=1015.18\n",
      "Y ~ factor(funding_indicator) + avs_net_cost + factor(gap_indicator) + \n",
      "    GPA_trend + s_start_year\n",
      "\n",
      "                            Df Deviance    AIC\n",
      "- factor(gap_indicator)      1   977.75 1011.5\n",
      "- avs_net_cost               1   977.87 1011.7\n",
      "- GPA_trend                  1   980.77 1014.6\n",
      "<none>                           974.64 1015.2\n",
      "+ s_start_age                1   972.85 1020.2\n",
      "+ SAPC3                      1   973.50 1020.8\n",
      "+ SAPC2                      1   973.62 1020.9\n",
      "+ SAPC1                      1   974.63 1021.9\n",
      "+ factor(Gender)             1   974.63 1021.9\n",
      "- factor(funding_indicator)  1  1000.10 1033.9\n",
      "+ factor(Citizenship)       10   955.62 1063.8\n",
      "- s_start_year               1  1106.10 1139.9\n",
      "\n",
      "Step:  AIC=1011.54\n",
      "Y ~ factor(funding_indicator) + avs_net_cost + GPA_trend + s_start_year\n",
      "\n",
      "                            Df Deviance    AIC\n",
      "- avs_net_cost               1   980.78 1007.8\n",
      "- GPA_trend                  1   983.93 1011.0\n",
      "<none>                           977.75 1011.5\n",
      "+ factor(gap_indicator)      1   974.64 1015.2\n",
      "+ s_start_age                1   975.89 1016.4\n",
      "+ SAPC2                      1   976.61 1017.2\n",
      "+ SAPC3                      1   976.73 1017.3\n",
      "+ SAPC1                      1   977.74 1018.3\n",
      "+ factor(Gender)             1   977.75 1018.3\n",
      "- factor(funding_indicator)  1  1003.94 1031.0\n",
      "+ factor(Citizenship)       10   959.41 1060.8\n",
      "- s_start_year               1  1119.26 1146.3\n",
      "\n",
      "Step:  AIC=1007.81\n",
      "Y ~ factor(funding_indicator) + GPA_trend + s_start_year\n",
      "\n",
      "                            Df Deviance    AIC\n",
      "- GPA_trend                  1   987.32 1007.6\n",
      "<none>                           980.78 1007.8\n",
      "+ avs_net_cost               1   977.75 1011.5\n",
      "+ factor(gap_indicator)      1   977.87 1011.7\n",
      "+ s_start_age                1   977.89 1011.7\n",
      "+ SAPC3                      1   979.40 1013.2\n",
      "+ SAPC2                      1   979.63 1013.4\n",
      "+ factor(Gender)             1   980.73 1014.5\n",
      "+ SAPC1                      1   980.77 1014.6\n",
      "- factor(funding_indicator)  1  1004.81 1025.1\n",
      "+ factor(Citizenship)       10   962.26 1056.9\n",
      "- s_start_year               1  1121.62 1141.9\n",
      "\n",
      "Step:  AIC=1007.59\n",
      "Y ~ factor(funding_indicator) + s_start_year\n",
      "\n",
      "                            Df Deviance    AIC\n",
      "<none>                           987.32 1007.6\n",
      "+ GPA_trend                  1   980.78 1007.8\n",
      "+ avs_net_cost               1   983.93 1011.0\n",
      "+ factor(gap_indicator)      1   984.38 1011.4\n",
      "+ s_start_age                1   984.51 1011.5\n",
      "+ SAPC3                      1   985.68 1012.7\n",
      "+ SAPC2                      1   986.59 1013.6\n",
      "+ SAPC1                      1   987.32 1014.4\n",
      "+ factor(Gender)             1   987.32 1014.4\n",
      "- factor(funding_indicator)  1  1012.20 1025.7\n",
      "+ factor(Citizenship)       10   969.34 1057.2\n",
      "- s_start_year               1  1134.97 1148.5\n"
     ]
    }
   ],
   "source": [
    "log_mod_h_s_bic = stepAIC(log_mod_h_s, direction = \"both\", k = log(a_n))"
   ]
  },
  {
   "cell_type": "markdown",
   "metadata": {},
   "source": [
    "<b> Significant variables both BIC selects:"
   ]
  },
  {
   "cell_type": "code",
   "execution_count": 73,
   "metadata": {},
   "outputs": [
    {
     "data": {
      "text/html": [
       "<table>\n",
       "<thead><tr><th></th><th scope=col>Estimate</th><th scope=col>Pr(&gt;|z|)</th></tr></thead>\n",
       "<tbody>\n",
       "\t<tr><th scope=row>factor(funding_indicator)1</th><td> 1.18085</td><td>0       </td></tr>\n",
       "\t<tr><th scope=row>s_start_year</th><td>-1.38659</td><td>0       </td></tr>\n",
       "</tbody>\n",
       "</table>\n"
      ],
      "text/latex": [
       "\\begin{tabular}{r|ll}\n",
       "  & Estimate & Pr(>\\textbar{}z\\textbar{})\\\\\n",
       "\\hline\n",
       "\tfactor(funding\\_indicator)1 &  1.18085 & 0       \\\\\n",
       "\ts\\_start\\_year & -1.38659 & 0       \\\\\n",
       "\\end{tabular}\n"
      ],
      "text/markdown": [
       "\n",
       "| <!--/--> | Estimate | Pr(>|z|) |\n",
       "|---|---|---|\n",
       "| factor(funding_indicator)1 |  1.18085 | 0        |\n",
       "| s_start_year | -1.38659 | 0        |\n",
       "\n"
      ],
      "text/plain": [
       "                           Estimate Pr(>|z|)\n",
       "factor(funding_indicator)1  1.18085 0       \n",
       "s_start_year               -1.38659 0       "
      ]
     },
     "metadata": {},
     "output_type": "display_data"
    }
   ],
   "source": [
    "round(summary(log_mod_h_s_bic)$coeff[which(summary(log_mod_h_s_bic)$coef[,4] <= .05),c(1,4)],5)"
   ]
  },
  {
   "cell_type": "markdown",
   "metadata": {},
   "source": [
    "# Harpur Arts Analysis"
   ]
  },
  {
   "cell_type": "markdown",
   "metadata": {},
   "source": [
    "<b> Logistic regression model:"
   ]
  },
  {
   "cell_type": "code",
   "execution_count": 74,
   "metadata": {},
   "outputs": [
    {
     "data": {
      "text/plain": [
       "\n",
       "Call:\n",
       "glm(formula = Y ~ s_start_age + factor(Gender) + factor(funding_indicator) + \n",
       "    factor(Citizenship) + avs_net_cost + s_SAPC1 + s_SAPC2 + \n",
       "    s_SAPC3 + factor(gap_indicator) + GPA_trend + s_start_year, \n",
       "    family = \"binomial\", data = Harpur_arts)\n",
       "\n",
       "Deviance Residuals: \n",
       "    Min       1Q   Median       3Q      Max  \n",
       "-2.1161  -1.1697   0.7625   1.0087   1.6012  \n",
       "\n",
       "Coefficients:\n",
       "                                                 Estimate Std. Error z value\n",
       "(Intercept)                                     -0.344290   0.167557  -2.055\n",
       "s_start_age                                      0.108965   0.070395   1.548\n",
       "factor(Gender)Male                              -0.006508   0.144130  -0.045\n",
       "factor(funding_indicator)1                       0.706190   0.172063   4.104\n",
       "factor(Citizenship)Africa                       -0.404466   0.528807  -0.765\n",
       "factor(Citizenship)Asia                          0.699986   0.236934   2.954\n",
       "factor(Citizenship)Asian                        -0.390757   0.384683  -1.016\n",
       "factor(Citizenship)Black or African American     0.033765   0.407952   0.083\n",
       "factor(Citizenship)China                         0.435042   0.476752   0.913\n",
       "factor(Citizenship)Europe                        0.606732   0.472455   1.284\n",
       "factor(Citizenship)Hispanic or Latino            0.034737   0.302980   0.115\n",
       "factor(Citizenship)India                         0.546416   1.183625   0.462\n",
       "factor(Citizenship)Other International Students  0.214126   0.477584   0.448\n",
       "factor(Citizenship)Unknown                      -0.140197   0.247780  -0.566\n",
       "avs_net_cost                                     0.009616   0.055640   0.173\n",
       "s_SAPC1                                          0.110246   0.120357   0.916\n",
       "s_SAPC2                                         -0.083526   0.080392  -1.039\n",
       "s_SAPC3                                          0.042897   0.076460   0.561\n",
       "factor(gap_indicator)1                           0.222766   0.255042   0.873\n",
       "GPA_trend                                        0.667510   0.522001   1.279\n",
       "s_start_year                                    -0.517064   0.077721  -6.653\n",
       "                                                Pr(>|z|)    \n",
       "(Intercept)                                      0.03990 *  \n",
       "s_start_age                                      0.12164    \n",
       "factor(Gender)Male                               0.96399    \n",
       "factor(funding_indicator)1                      4.06e-05 ***\n",
       "factor(Citizenship)Africa                        0.44435    \n",
       "factor(Citizenship)Asia                          0.00313 ** \n",
       "factor(Citizenship)Asian                         0.30973    \n",
       "factor(Citizenship)Black or African American     0.93404    \n",
       "factor(Citizenship)China                         0.36150    \n",
       "factor(Citizenship)Europe                        0.19907    \n",
       "factor(Citizenship)Hispanic or Latino            0.90872    \n",
       "factor(Citizenship)India                         0.64434    \n",
       "factor(Citizenship)Other International Students  0.65390    \n",
       "factor(Citizenship)Unknown                       0.57152    \n",
       "avs_net_cost                                     0.86279    \n",
       "s_SAPC1                                          0.35967    \n",
       "s_SAPC2                                          0.29882    \n",
       "s_SAPC3                                          0.57477    \n",
       "factor(gap_indicator)1                           0.38242    \n",
       "GPA_trend                                        0.20098    \n",
       "s_start_year                                    2.87e-11 ***\n",
       "---\n",
       "Signif. codes:  0 '***' 0.001 '**' 0.01 '*' 0.05 '.' 0.1 ' ' 1\n",
       "\n",
       "(Dispersion parameter for binomial family taken to be 1)\n",
       "\n",
       "    Null deviance: 1248.0  on 917  degrees of freedom\n",
       "Residual deviance: 1170.2  on 897  degrees of freedom\n",
       "AIC: 1212.2\n",
       "\n",
       "Number of Fisher Scoring iterations: 5\n"
      ]
     },
     "metadata": {},
     "output_type": "display_data"
    }
   ],
   "source": [
    "log_mod_h_a = glm(Y~s_start_age+factor(Gender)+factor(funding_indicator)+factor(Citizenship)+\n",
    "                avs_net_cost+s_SAPC1+s_SAPC2+s_SAPC3+factor(gap_indicator)+GPA_trend+s_start_year,\n",
    "                data=Harpur_arts,family=\"binomial\")\n",
    "summary(log_mod_h_a)"
   ]
  },
  {
   "cell_type": "markdown",
   "metadata": {},
   "source": [
    "<b> Significant Variables of logistic regression model: "
   ]
  },
  {
   "cell_type": "code",
   "execution_count": 75,
   "metadata": {},
   "outputs": [
    {
     "data": {
      "text/html": [
       "<table>\n",
       "<thead><tr><th></th><th scope=col>Estimate</th><th scope=col>Pr(&gt;|z|)</th></tr></thead>\n",
       "<tbody>\n",
       "\t<tr><th scope=row>(Intercept)</th><td>-0.34429</td><td>0.03990 </td></tr>\n",
       "\t<tr><th scope=row>factor(funding_indicator)1</th><td> 0.70619</td><td>0.00004 </td></tr>\n",
       "\t<tr><th scope=row>factor(Citizenship)Asia</th><td> 0.69999</td><td>0.00313 </td></tr>\n",
       "\t<tr><th scope=row>s_start_year</th><td>-0.51706</td><td>0.00000 </td></tr>\n",
       "</tbody>\n",
       "</table>\n"
      ],
      "text/latex": [
       "\\begin{tabular}{r|ll}\n",
       "  & Estimate & Pr(>\\textbar{}z\\textbar{})\\\\\n",
       "\\hline\n",
       "\t(Intercept) & -0.34429 & 0.03990 \\\\\n",
       "\tfactor(funding\\_indicator)1 &  0.70619 & 0.00004 \\\\\n",
       "\tfactor(Citizenship)Asia &  0.69999 & 0.00313 \\\\\n",
       "\ts\\_start\\_year & -0.51706 & 0.00000 \\\\\n",
       "\\end{tabular}\n"
      ],
      "text/markdown": [
       "\n",
       "| <!--/--> | Estimate | Pr(>|z|) |\n",
       "|---|---|---|\n",
       "| (Intercept) | -0.34429 | 0.03990  |\n",
       "| factor(funding_indicator)1 |  0.70619 | 0.00004  |\n",
       "| factor(Citizenship)Asia |  0.69999 | 0.00313  |\n",
       "| s_start_year | -0.51706 | 0.00000  |\n",
       "\n"
      ],
      "text/plain": [
       "                           Estimate Pr(>|z|)\n",
       "(Intercept)                -0.34429 0.03990 \n",
       "factor(funding_indicator)1  0.70619 0.00004 \n",
       "factor(Citizenship)Asia     0.69999 0.00313 \n",
       "s_start_year               -0.51706 0.00000 "
      ]
     },
     "metadata": {},
     "output_type": "display_data"
    }
   ],
   "source": [
    "round(summary(log_mod_h_a)$coeff[which(summary(log_mod_h_a)$coef[,4] <= .05),c(1,4)],5)"
   ]
  },
  {
   "cell_type": "markdown",
   "metadata": {},
   "source": [
    "<b> Both AIC:"
   ]
  },
  {
   "cell_type": "code",
   "execution_count": 76,
   "metadata": {},
   "outputs": [
    {
     "name": "stdout",
     "output_type": "stream",
     "text": [
      "Start:  AIC=1212.2\n",
      "Y ~ s_start_age + factor(Gender) + factor(funding_indicator) + \n",
      "    factor(Citizenship) + avs_net_cost + s_SAPC1 + s_SAPC2 + \n",
      "    s_SAPC3 + factor(gap_indicator) + GPA_trend + s_start_year\n",
      "\n",
      "                            Df Deviance    AIC\n",
      "- factor(Citizenship)       10   1185.0 1207.0\n",
      "- factor(Gender)             1   1170.2 1210.2\n",
      "- avs_net_cost               1   1170.2 1210.2\n",
      "- s_SAPC3                    1   1170.5 1210.5\n",
      "- factor(gap_indicator)      1   1171.0 1211.0\n",
      "- s_SAPC2                    1   1171.3 1211.3\n",
      "- GPA_trend                  1   1171.9 1211.9\n",
      "- s_SAPC1                    1   1171.9 1211.9\n",
      "<none>                           1170.2 1212.2\n",
      "- s_start_age                1   1172.6 1212.6\n",
      "- factor(funding_indicator)  1   1187.5 1227.5\n",
      "- s_start_year               1   1219.7 1259.7\n",
      "\n",
      "Step:  AIC=1207.04\n",
      "Y ~ s_start_age + factor(Gender) + factor(funding_indicator) + \n",
      "    avs_net_cost + s_SAPC1 + s_SAPC2 + s_SAPC3 + factor(gap_indicator) + \n",
      "    GPA_trend + s_start_year\n",
      "\n",
      "                            Df Deviance    AIC\n",
      "- avs_net_cost               1   1185.0 1205.0\n",
      "- s_SAPC3                    1   1185.0 1205.0\n",
      "- factor(Gender)             1   1185.1 1205.1\n",
      "- factor(gap_indicator)      1   1185.9 1205.9\n",
      "- s_start_age                1   1186.2 1206.2\n",
      "- GPA_trend                  1   1186.3 1206.3\n",
      "- s_SAPC1                    1   1186.9 1206.9\n",
      "<none>                           1185.0 1207.0\n",
      "- s_SAPC2                    1   1187.7 1207.7\n",
      "+ factor(Citizenship)       10   1170.2 1212.2\n",
      "- factor(funding_indicator)  1   1202.9 1222.9\n",
      "- s_start_year               1   1229.9 1249.9\n",
      "\n",
      "Step:  AIC=1205.05\n",
      "Y ~ s_start_age + factor(Gender) + factor(funding_indicator) + \n",
      "    s_SAPC1 + s_SAPC2 + s_SAPC3 + factor(gap_indicator) + GPA_trend + \n",
      "    s_start_year\n",
      "\n",
      "                            Df Deviance    AIC\n",
      "- s_SAPC3                    1   1185.0 1203.0\n",
      "- factor(Gender)             1   1185.1 1203.1\n",
      "- factor(gap_indicator)      1   1185.9 1203.9\n",
      "- s_start_age                1   1186.2 1204.2\n",
      "- GPA_trend                  1   1186.3 1204.3\n",
      "- s_SAPC1                    1   1186.9 1204.9\n",
      "<none>                           1185.0 1205.0\n",
      "- s_SAPC2                    1   1187.7 1205.7\n",
      "+ avs_net_cost               1   1185.0 1207.0\n",
      "+ factor(Citizenship)       10   1170.2 1210.2\n",
      "- factor(funding_indicator)  1   1203.0 1221.0\n",
      "- s_start_year               1   1230.6 1248.6\n",
      "\n",
      "Step:  AIC=1203.05\n",
      "Y ~ s_start_age + factor(Gender) + factor(funding_indicator) + \n",
      "    s_SAPC1 + s_SAPC2 + factor(gap_indicator) + GPA_trend + s_start_year\n",
      "\n",
      "                            Df Deviance    AIC\n",
      "- factor(Gender)             1   1185.1 1201.1\n",
      "- factor(gap_indicator)      1   1185.9 1201.9\n",
      "- GPA_trend                  1   1186.3 1202.3\n",
      "- s_start_age                1   1186.3 1202.3\n",
      "- s_SAPC1                    1   1187.0 1203.0\n",
      "<none>                           1185.0 1203.0\n",
      "- s_SAPC2                    1   1187.7 1203.7\n",
      "+ s_SAPC3                    1   1185.0 1205.0\n",
      "+ avs_net_cost               1   1185.0 1205.0\n",
      "+ factor(Citizenship)       10   1170.5 1208.5\n",
      "- factor(funding_indicator)  1   1203.0 1219.0\n",
      "- s_start_year               1   1231.4 1247.4\n",
      "\n",
      "Step:  AIC=1201.11\n",
      "Y ~ s_start_age + factor(funding_indicator) + s_SAPC1 + s_SAPC2 + \n",
      "    factor(gap_indicator) + GPA_trend + s_start_year\n",
      "\n",
      "                            Df Deviance    AIC\n",
      "- factor(gap_indicator)      1   1186.0 1200.0\n",
      "- GPA_trend                  1   1186.3 1200.3\n",
      "- s_start_age                1   1186.4 1200.4\n",
      "- s_SAPC1                    1   1187.0 1201.0\n",
      "<none>                           1185.1 1201.1\n",
      "- s_SAPC2                    1   1187.7 1201.7\n",
      "+ factor(Gender)             1   1185.0 1203.0\n",
      "+ avs_net_cost               1   1185.1 1203.1\n",
      "+ s_SAPC3                    1   1185.1 1203.1\n",
      "+ factor(Citizenship)       10   1170.5 1206.5\n",
      "- factor(funding_indicator)  1   1203.0 1217.0\n",
      "- s_start_year               1   1231.5 1245.5\n",
      "\n",
      "Step:  AIC=1199.99\n",
      "Y ~ s_start_age + factor(funding_indicator) + s_SAPC1 + s_SAPC2 + \n",
      "    GPA_trend + s_start_year\n",
      "\n",
      "                            Df Deviance    AIC\n",
      "- s_start_age                1   1187.2 1199.2\n",
      "- GPA_trend                  1   1187.2 1199.2\n",
      "- s_SAPC1                    1   1187.8 1199.8\n",
      "<none>                           1186.0 1200.0\n",
      "- s_SAPC2                    1   1188.7 1200.7\n",
      "+ factor(gap_indicator)      1   1185.1 1201.1\n",
      "+ factor(Gender)             1   1185.9 1201.9\n",
      "+ avs_net_cost               1   1186.0 1202.0\n",
      "+ s_SAPC3                    1   1186.0 1202.0\n",
      "+ factor(Citizenship)       10   1171.3 1205.3\n",
      "- factor(funding_indicator)  1   1203.5 1215.5\n",
      "- s_start_year               1   1236.5 1248.5\n",
      "\n",
      "Step:  AIC=1199.19\n",
      "Y ~ factor(funding_indicator) + s_SAPC1 + s_SAPC2 + GPA_trend + \n",
      "    s_start_year\n",
      "\n",
      "                            Df Deviance    AIC\n",
      "- GPA_trend                  1   1188.4 1198.4\n",
      "- s_SAPC1                    1   1189.0 1199.0\n",
      "<none>                           1187.2 1199.2\n",
      "+ s_start_age                1   1186.0 1200.0\n",
      "- s_SAPC2                    1   1190.0 1200.0\n",
      "+ factor(gap_indicator)      1   1186.4 1200.4\n",
      "+ factor(Gender)             1   1187.1 1201.1\n",
      "+ s_SAPC3                    1   1187.2 1201.2\n",
      "+ avs_net_cost               1   1187.2 1201.2\n",
      "+ factor(Citizenship)       10   1173.6 1205.6\n",
      "- factor(funding_indicator)  1   1203.5 1213.5\n",
      "- s_start_year               1   1236.5 1246.5\n",
      "\n",
      "Step:  AIC=1198.36\n",
      "Y ~ factor(funding_indicator) + s_SAPC1 + s_SAPC2 + s_start_year\n",
      "\n",
      "                            Df Deviance    AIC\n",
      "<none>                           1188.4 1198.4\n",
      "- s_SAPC1                    1   1190.5 1198.5\n",
      "+ GPA_trend                  1   1187.2 1199.2\n",
      "+ s_start_age                1   1187.2 1199.2\n",
      "- s_SAPC2                    1   1191.3 1199.3\n",
      "+ factor(gap_indicator)      1   1187.5 1199.5\n",
      "+ factor(Gender)             1   1188.3 1200.3\n",
      "+ s_SAPC3                    1   1188.3 1200.3\n",
      "+ avs_net_cost               1   1188.4 1200.4\n",
      "+ factor(Citizenship)       10   1175.3 1205.3\n",
      "- factor(funding_indicator)  1   1204.6 1212.6\n",
      "- s_start_year               1   1238.1 1246.1\n"
     ]
    }
   ],
   "source": [
    "log_mod_h_a_aic = stepAIC(log_mod_h_a, direction = 'both')"
   ]
  },
  {
   "cell_type": "markdown",
   "metadata": {},
   "source": [
    "<b> Significant variables both AIC selects:"
   ]
  },
  {
   "cell_type": "code",
   "execution_count": 77,
   "metadata": {},
   "outputs": [
    {
     "data": {
      "text/html": [
       "<table>\n",
       "<thead><tr><th></th><th scope=col>Estimate</th><th scope=col>Pr(&gt;|z|)</th></tr></thead>\n",
       "<tbody>\n",
       "\t<tr><th scope=row>factor(funding_indicator)1</th><td> 0.64319</td><td>7e-05   </td></tr>\n",
       "\t<tr><th scope=row>s_start_year</th><td>-0.48421</td><td>0e+00   </td></tr>\n",
       "</tbody>\n",
       "</table>\n"
      ],
      "text/latex": [
       "\\begin{tabular}{r|ll}\n",
       "  & Estimate & Pr(>\\textbar{}z\\textbar{})\\\\\n",
       "\\hline\n",
       "\tfactor(funding\\_indicator)1 &  0.64319 & 7e-05   \\\\\n",
       "\ts\\_start\\_year & -0.48421 & 0e+00   \\\\\n",
       "\\end{tabular}\n"
      ],
      "text/markdown": [
       "\n",
       "| <!--/--> | Estimate | Pr(>|z|) |\n",
       "|---|---|---|\n",
       "| factor(funding_indicator)1 |  0.64319 | 7e-05    |\n",
       "| s_start_year | -0.48421 | 0e+00    |\n",
       "\n"
      ],
      "text/plain": [
       "                           Estimate Pr(>|z|)\n",
       "factor(funding_indicator)1  0.64319 7e-05   \n",
       "s_start_year               -0.48421 0e+00   "
      ]
     },
     "metadata": {},
     "output_type": "display_data"
    }
   ],
   "source": [
    "round(summary(log_mod_h_a_aic)$coeff[which(summary(log_mod_h_a_aic)$coef[,4] <= .05),c(1,4)],5)"
   ]
  },
  {
   "cell_type": "markdown",
   "metadata": {},
   "source": [
    "<b> Both BIC"
   ]
  },
  {
   "cell_type": "code",
   "execution_count": 78,
   "metadata": {},
   "outputs": [
    {
     "name": "stdout",
     "output_type": "stream",
     "text": [
      "Start:  AIC=1313.46\n",
      "Y ~ s_start_age + factor(Gender) + factor(funding_indicator) + \n",
      "    factor(Citizenship) + avs_net_cost + s_SAPC1 + s_SAPC2 + \n",
      "    s_SAPC3 + factor(gap_indicator) + GPA_trend + s_start_year\n",
      "\n",
      "                            Df Deviance    AIC\n",
      "- factor(Citizenship)       10   1185.0 1260.1\n",
      "- factor(Gender)             1   1170.2 1306.6\n",
      "- avs_net_cost               1   1170.2 1306.7\n",
      "- s_SAPC3                    1   1170.5 1307.0\n",
      "- factor(gap_indicator)      1   1171.0 1307.4\n",
      "- s_SAPC2                    1   1171.3 1307.7\n",
      "- GPA_trend                  1   1171.9 1308.3\n",
      "- s_SAPC1                    1   1171.9 1308.4\n",
      "- s_start_age                1   1172.6 1309.1\n",
      "<none>                           1170.2 1313.5\n",
      "- factor(funding_indicator)  1   1187.5 1324.0\n",
      "- s_start_year               1   1219.7 1356.1\n",
      "\n",
      "Step:  AIC=1260.09\n",
      "Y ~ s_start_age + factor(Gender) + factor(funding_indicator) + \n",
      "    avs_net_cost + s_SAPC1 + s_SAPC2 + s_SAPC3 + factor(gap_indicator) + \n",
      "    GPA_trend + s_start_year\n",
      "\n",
      "                            Df Deviance    AIC\n",
      "- avs_net_cost               1   1185.0 1253.3\n",
      "- s_SAPC3                    1   1185.0 1253.3\n",
      "- factor(Gender)             1   1185.1 1253.3\n",
      "- factor(gap_indicator)      1   1185.9 1254.1\n",
      "- s_start_age                1   1186.2 1254.5\n",
      "- GPA_trend                  1   1186.3 1254.5\n",
      "- s_SAPC1                    1   1186.9 1255.1\n",
      "- s_SAPC2                    1   1187.7 1255.9\n",
      "<none>                           1185.0 1260.1\n",
      "- factor(funding_indicator)  1   1202.9 1271.1\n",
      "- s_start_year               1   1229.9 1298.1\n",
      "+ factor(Citizenship)       10   1170.2 1313.5\n",
      "\n",
      "Step:  AIC=1253.27\n",
      "Y ~ s_start_age + factor(Gender) + factor(funding_indicator) + \n",
      "    s_SAPC1 + s_SAPC2 + s_SAPC3 + factor(gap_indicator) + GPA_trend + \n",
      "    s_start_year\n",
      "\n",
      "                            Df Deviance    AIC\n",
      "- s_SAPC3                    1   1185.0 1246.5\n",
      "- factor(Gender)             1   1185.1 1246.5\n",
      "- factor(gap_indicator)      1   1185.9 1247.3\n",
      "- s_start_age                1   1186.2 1247.7\n",
      "- GPA_trend                  1   1186.3 1247.7\n",
      "- s_SAPC1                    1   1186.9 1248.3\n",
      "- s_SAPC2                    1   1187.7 1249.0\n",
      "<none>                           1185.0 1253.3\n",
      "+ avs_net_cost               1   1185.0 1260.1\n",
      "- factor(funding_indicator)  1   1203.0 1264.4\n",
      "- s_start_year               1   1230.6 1292.0\n",
      "+ factor(Citizenship)       10   1170.2 1306.7\n",
      "\n",
      "Step:  AIC=1246.45\n",
      "Y ~ s_start_age + factor(Gender) + factor(funding_indicator) + \n",
      "    s_SAPC1 + s_SAPC2 + factor(gap_indicator) + GPA_trend + s_start_year\n",
      "\n",
      "                            Df Deviance    AIC\n",
      "- factor(Gender)             1   1185.1 1239.7\n",
      "- factor(gap_indicator)      1   1185.9 1240.5\n",
      "- GPA_trend                  1   1186.3 1240.8\n",
      "- s_start_age                1   1186.3 1240.9\n",
      "- s_SAPC1                    1   1187.0 1241.5\n",
      "- s_SAPC2                    1   1187.7 1242.2\n",
      "<none>                           1185.0 1246.5\n",
      "+ s_SAPC3                    1   1185.0 1253.3\n",
      "+ avs_net_cost               1   1185.0 1253.3\n",
      "- factor(funding_indicator)  1   1203.0 1257.6\n",
      "- s_start_year               1   1231.4 1286.0\n",
      "+ factor(Citizenship)       10   1170.5 1300.2\n",
      "\n",
      "Step:  AIC=1239.68\n",
      "Y ~ s_start_age + factor(funding_indicator) + s_SAPC1 + s_SAPC2 + \n",
      "    factor(gap_indicator) + GPA_trend + s_start_year\n",
      "\n",
      "                            Df Deviance    AIC\n",
      "- factor(gap_indicator)      1   1186.0 1233.7\n",
      "- GPA_trend                  1   1186.3 1234.1\n",
      "- s_start_age                1   1186.4 1234.1\n",
      "- s_SAPC1                    1   1187.0 1234.8\n",
      "- s_SAPC2                    1   1187.7 1235.5\n",
      "<none>                           1185.1 1239.7\n",
      "+ factor(Gender)             1   1185.0 1246.5\n",
      "+ avs_net_cost               1   1185.1 1246.5\n",
      "+ s_SAPC3                    1   1185.1 1246.5\n",
      "- factor(funding_indicator)  1   1203.0 1250.8\n",
      "- s_start_year               1   1231.5 1279.2\n",
      "+ factor(Citizenship)       10   1170.5 1293.3\n",
      "\n",
      "Step:  AIC=1233.74\n",
      "Y ~ s_start_age + factor(funding_indicator) + s_SAPC1 + s_SAPC2 + \n",
      "    GPA_trend + s_start_year\n",
      "\n",
      "                            Df Deviance    AIC\n",
      "- s_start_age                1   1187.2 1228.1\n",
      "- GPA_trend                  1   1187.2 1228.1\n",
      "- s_SAPC1                    1   1187.8 1228.7\n",
      "- s_SAPC2                    1   1188.7 1229.7\n",
      "<none>                           1186.0 1233.7\n",
      "+ factor(gap_indicator)      1   1185.1 1239.7\n",
      "+ factor(Gender)             1   1185.9 1240.5\n",
      "+ avs_net_cost               1   1186.0 1240.6\n",
      "+ s_SAPC3                    1   1186.0 1240.6\n",
      "- factor(funding_indicator)  1   1203.5 1244.5\n",
      "- s_start_year               1   1236.5 1277.5\n",
      "+ factor(Citizenship)       10   1171.3 1287.3\n",
      "\n",
      "Step:  AIC=1228.13\n",
      "Y ~ factor(funding_indicator) + s_SAPC1 + s_SAPC2 + GPA_trend + \n",
      "    s_start_year\n",
      "\n",
      "                            Df Deviance    AIC\n",
      "- GPA_trend                  1   1188.4 1222.5\n",
      "- s_SAPC1                    1   1189.0 1223.1\n",
      "- s_SAPC2                    1   1190.0 1224.2\n",
      "<none>                           1187.2 1228.1\n",
      "+ s_start_age                1   1186.0 1233.7\n",
      "+ factor(gap_indicator)      1   1186.4 1234.1\n",
      "+ factor(Gender)             1   1187.1 1234.9\n",
      "+ s_SAPC3                    1   1187.2 1234.9\n",
      "+ avs_net_cost               1   1187.2 1235.0\n",
      "- factor(funding_indicator)  1   1203.5 1237.7\n",
      "- s_start_year               1   1236.5 1270.7\n",
      "+ factor(Citizenship)       10   1173.6 1282.7\n",
      "\n",
      "Step:  AIC=1222.47\n",
      "Y ~ factor(funding_indicator) + s_SAPC1 + s_SAPC2 + s_start_year\n",
      "\n",
      "                            Df Deviance    AIC\n",
      "- s_SAPC1                    1   1190.5 1217.8\n",
      "- s_SAPC2                    1   1191.3 1218.6\n",
      "<none>                           1188.4 1222.5\n",
      "+ GPA_trend                  1   1187.2 1228.1\n",
      "+ s_start_age                1   1187.2 1228.1\n",
      "+ factor(gap_indicator)      1   1187.5 1228.4\n",
      "+ factor(Gender)             1   1188.3 1229.2\n",
      "+ s_SAPC3                    1   1188.3 1229.3\n",
      "+ avs_net_cost               1   1188.4 1229.3\n",
      "- factor(funding_indicator)  1   1204.6 1231.9\n",
      "- s_start_year               1   1238.1 1265.4\n",
      "+ factor(Citizenship)       10   1175.3 1277.6\n",
      "\n",
      "Step:  AIC=1217.79\n",
      "Y ~ factor(funding_indicator) + s_SAPC2 + s_start_year\n",
      "\n",
      "                            Df Deviance    AIC\n",
      "- s_SAPC2                    1   1194.0 1214.5\n",
      "<none>                           1190.5 1217.8\n",
      "+ s_SAPC1                    1   1188.4 1222.5\n",
      "+ GPA_trend                  1   1189.0 1223.1\n",
      "+ s_start_age                1   1189.3 1223.5\n",
      "+ factor(gap_indicator)      1   1189.8 1223.9\n",
      "+ factor(Gender)             1   1190.4 1224.5\n",
      "+ s_SAPC3                    1   1190.4 1224.5\n",
      "+ avs_net_cost               1   1190.5 1224.6\n",
      "- factor(funding_indicator)  1   1207.4 1227.8\n",
      "- s_start_year               1   1240.3 1260.8\n",
      "+ factor(Citizenship)       10   1177.2 1272.7\n",
      "\n",
      "Step:  AIC=1214.45\n",
      "Y ~ factor(funding_indicator) + s_start_year\n",
      "\n",
      "                            Df Deviance    AIC\n",
      "<none>                           1194.0 1214.5\n",
      "+ s_SAPC2                    1   1190.5 1217.8\n",
      "+ s_SAPC1                    1   1191.3 1218.6\n",
      "+ GPA_trend                  1   1192.3 1219.6\n",
      "+ s_start_age                1   1192.7 1220.0\n",
      "+ factor(gap_indicator)      1   1193.1 1220.4\n",
      "+ factor(Gender)             1   1193.9 1221.2\n",
      "+ s_SAPC3                    1   1193.9 1221.2\n",
      "+ avs_net_cost               1   1194.0 1221.3\n",
      "- factor(funding_indicator)  1   1209.2 1222.9\n",
      "- s_start_year               1   1247.6 1261.2\n",
      "+ factor(Citizenship)       10   1179.0 1267.7\n"
     ]
    }
   ],
   "source": [
    "log_mod_h_a_bic = stepAIC(log_mod_h_a, direction = \"both\", k = log(b_n))"
   ]
  },
  {
   "cell_type": "markdown",
   "metadata": {},
   "source": [
    "<b> Significant variables both BIC selects:"
   ]
  },
  {
   "cell_type": "code",
   "execution_count": 79,
   "metadata": {},
   "outputs": [
    {
     "data": {
      "text/html": [
       "<table>\n",
       "<thead><tr><th></th><th scope=col>Estimate</th><th scope=col>Pr(&gt;|z|)</th></tr></thead>\n",
       "<tbody>\n",
       "\t<tr><th scope=row>factor(funding_indicator)1</th><td> 0.61318</td><td>0.00011 </td></tr>\n",
       "\t<tr><th scope=row>s_start_year</th><td>-0.49610</td><td>0.00000 </td></tr>\n",
       "</tbody>\n",
       "</table>\n"
      ],
      "text/latex": [
       "\\begin{tabular}{r|ll}\n",
       "  & Estimate & Pr(>\\textbar{}z\\textbar{})\\\\\n",
       "\\hline\n",
       "\tfactor(funding\\_indicator)1 &  0.61318 & 0.00011 \\\\\n",
       "\ts\\_start\\_year & -0.49610 & 0.00000 \\\\\n",
       "\\end{tabular}\n"
      ],
      "text/markdown": [
       "\n",
       "| <!--/--> | Estimate | Pr(>|z|) |\n",
       "|---|---|---|\n",
       "| factor(funding_indicator)1 |  0.61318 | 0.00011  |\n",
       "| s_start_year | -0.49610 | 0.00000  |\n",
       "\n"
      ],
      "text/plain": [
       "                           Estimate Pr(>|z|)\n",
       "factor(funding_indicator)1  0.61318 0.00011 \n",
       "s_start_year               -0.49610 0.00000 "
      ]
     },
     "metadata": {},
     "output_type": "display_data"
    }
   ],
   "source": [
    "round(summary(log_mod_h_a_bic)$coeff[which(summary(log_mod_h_a_bic)$coef[,4] <= .05),c(1,4)],5)"
   ]
  },
  {
   "cell_type": "markdown",
   "metadata": {},
   "source": [
    "# Management Analysis"
   ]
  },
  {
   "cell_type": "markdown",
   "metadata": {},
   "source": [
    "<b> Logistic regression model:"
   ]
  },
  {
   "cell_type": "code",
   "execution_count": 80,
   "metadata": {},
   "outputs": [
    {
     "name": "stderr",
     "output_type": "stream",
     "text": [
      "Warning message:\n",
      "\"glm.fit: fitted probabilities numerically 0 or 1 occurred\""
     ]
    },
    {
     "data": {
      "text/plain": [
       "\n",
       "Call:\n",
       "glm(formula = Y ~ s_start_age + factor(Gender) + factor(Citizenship) + \n",
       "    avs_net_cost + s_SAPC1 + s_SAPC2 + s_SAPC3 + factor(gap_indicator) + \n",
       "    GPA_trend + s_start_year, family = \"binomial\", data = Management_df)\n",
       "\n",
       "Deviance Residuals: \n",
       "    Min       1Q   Median       3Q      Max  \n",
       "-2.4356  -0.7961   0.2668   0.8370   1.3116  \n",
       "\n",
       "Coefficients:\n",
       "                                        Estimate Std. Error z value Pr(>|z|)  \n",
       "(Intercept)                               1.8111     1.2123   1.494   0.1352  \n",
       "s_start_age                               0.2795     0.7312   0.382   0.7023  \n",
       "factor(Gender)Male                       -1.3494     0.8570  -1.575   0.1154  \n",
       "factor(Citizenship)Asia                   0.4940     1.1314   0.437   0.6624  \n",
       "factor(Citizenship)Asian                  2.2675     2.0278   1.118   0.2635  \n",
       "factor(Citizenship)China                  0.6582     1.4268   0.461   0.6446  \n",
       "factor(Citizenship)Europe                19.2355 10754.0130   0.002   0.9986  \n",
       "factor(Citizenship)Hispanic or Latino     1.3713 11901.5912   0.000   0.9999  \n",
       "factor(Citizenship)India                  0.8012     1.4739   0.544   0.5867  \n",
       "factor(Citizenship)Unknown                0.7863     1.6246   0.484   0.6284  \n",
       "avs_net_cost                              2.9903     1.7061   1.753   0.0797 .\n",
       "s_SAPC1                                -273.7954 39252.9620  -0.007   0.9944  \n",
       "s_SAPC2                                  -0.6882     0.5502  -1.251   0.2110  \n",
       "s_SAPC3                                   1.4004     1.3966   1.003   0.3160  \n",
       "factor(gap_indicator)1                   19.7921  5098.9290   0.004   0.9969  \n",
       "GPA_trend                                 2.3609     2.1980   1.074   0.2828  \n",
       "s_start_year                              0.3657     0.6465   0.566   0.5716  \n",
       "---\n",
       "Signif. codes:  0 '***' 0.001 '**' 0.01 '*' 0.05 '.' 0.1 ' ' 1\n",
       "\n",
       "(Dispersion parameter for binomial family taken to be 1)\n",
       "\n",
       "    Null deviance: 74.726  on 57  degrees of freedom\n",
       "Residual deviance: 52.774  on 41  degrees of freedom\n",
       "AIC: 86.774\n",
       "\n",
       "Number of Fisher Scoring iterations: 18\n"
      ]
     },
     "metadata": {},
     "output_type": "display_data"
    }
   ],
   "source": [
    "log_mod_m = glm(Y~s_start_age+factor(Gender)+factor(Citizenship)+\n",
    "                avs_net_cost+s_SAPC1+s_SAPC2+s_SAPC3+factor(gap_indicator)+GPA_trend+s_start_year,\n",
    "                data=Management_df,family=\"binomial\")\n",
    "summary(log_mod_m)"
   ]
  },
  {
   "cell_type": "markdown",
   "metadata": {},
   "source": [
    "<b> Significant Variables of logistic regression model: "
   ]
  },
  {
   "cell_type": "code",
   "execution_count": 81,
   "metadata": {
    "scrolled": true
   },
   "outputs": [
    {
     "data": {
      "text/html": [
       "<table>\n",
       "<thead><tr><th scope=col>Estimate</th><th scope=col>Pr(&gt;|z|)</th></tr></thead>\n",
       "<tbody>\n",
       "</tbody>\n",
       "</table>\n"
      ],
      "text/latex": [
       "\\begin{tabular}{ll}\n",
       " Estimate & Pr(>\\textbar{}z\\textbar{})\\\\\n",
       "\\hline\n",
       "\\end{tabular}\n"
      ],
      "text/markdown": [
       "\n",
       "| Estimate | Pr(>|z|) |\n",
       "|---|---|\n",
       "\n"
      ],
      "text/plain": [
       "     Estimate Pr(>|z|)"
      ]
     },
     "metadata": {},
     "output_type": "display_data"
    }
   ],
   "source": [
    "round(summary(log_mod_m)$coeff[which(summary(log_mod_m)$coef[,4] <= .05),c(1,4)],5)"
   ]
  },
  {
   "cell_type": "markdown",
   "metadata": {},
   "source": [
    "<b> Both AIC:"
   ]
  },
  {
   "cell_type": "code",
   "execution_count": 82,
   "metadata": {},
   "outputs": [
    {
     "name": "stdout",
     "output_type": "stream",
     "text": [
      "Start:  AIC=86.77\n",
      "Y ~ s_start_age + factor(Gender) + factor(Citizenship) + avs_net_cost + \n",
      "    s_SAPC1 + s_SAPC2 + s_SAPC3 + factor(gap_indicator) + GPA_trend + \n",
      "    s_start_year\n",
      "\n"
     ]
    },
    {
     "name": "stderr",
     "output_type": "stream",
     "text": [
      "Warning message:\n",
      "\"glm.fit: fitted probabilities numerically 0 or 1 occurred\"Warning message:\n",
      "\"glm.fit: fitted probabilities numerically 0 or 1 occurred\"Warning message:\n",
      "\"glm.fit: fitted probabilities numerically 0 or 1 occurred\"Warning message:\n",
      "\"glm.fit: fitted probabilities numerically 0 or 1 occurred\"Warning message:\n",
      "\"glm.fit: fitted probabilities numerically 0 or 1 occurred\"Warning message:\n",
      "\"glm.fit: fitted probabilities numerically 0 or 1 occurred\"Warning message:\n",
      "\"glm.fit: fitted probabilities numerically 0 or 1 occurred\"Warning message:\n",
      "\"glm.fit: fitted probabilities numerically 0 or 1 occurred\"Warning message:\n",
      "\"glm.fit: fitted probabilities numerically 0 or 1 occurred\""
     ]
    },
    {
     "name": "stdout",
     "output_type": "stream",
     "text": [
      "                        Df Deviance    AIC\n",
      "- factor(Citizenship)    7   54.979 74.979\n",
      "- s_start_age            1   52.922 84.922\n",
      "- s_start_year           1   53.096 85.096\n",
      "- GPA_trend              1   54.094 86.094\n",
      "- s_SAPC2                1   54.372 86.372\n",
      "<none>                       52.774 86.774\n",
      "- s_SAPC3                1   54.793 86.793\n",
      "- factor(Gender)         1   55.501 87.501\n",
      "- s_SAPC1                1   56.545 88.545\n",
      "- avs_net_cost           1   56.564 88.564\n",
      "- factor(gap_indicator)  1   57.218 89.218\n"
     ]
    },
    {
     "name": "stderr",
     "output_type": "stream",
     "text": [
      "Warning message:\n",
      "\"glm.fit: fitted probabilities numerically 0 or 1 occurred\""
     ]
    },
    {
     "name": "stdout",
     "output_type": "stream",
     "text": [
      "\n",
      "Step:  AIC=74.98\n",
      "Y ~ s_start_age + factor(Gender) + avs_net_cost + s_SAPC1 + s_SAPC2 + \n",
      "    s_SAPC3 + factor(gap_indicator) + GPA_trend + s_start_year\n",
      "\n"
     ]
    },
    {
     "name": "stderr",
     "output_type": "stream",
     "text": [
      "Warning message:\n",
      "\"glm.fit: fitted probabilities numerically 0 or 1 occurred\"Warning message:\n",
      "\"glm.fit: fitted probabilities numerically 0 or 1 occurred\"Warning message:\n",
      "\"glm.fit: fitted probabilities numerically 0 or 1 occurred\"Warning message:\n",
      "\"glm.fit: fitted probabilities numerically 0 or 1 occurred\"Warning message:\n",
      "\"glm.fit: fitted probabilities numerically 0 or 1 occurred\"Warning message:\n",
      "\"glm.fit: fitted probabilities numerically 0 or 1 occurred\"Warning message:\n",
      "\"glm.fit: fitted probabilities numerically 0 or 1 occurred\"Warning message:\n",
      "\"glm.fit: fitted probabilities numerically 0 or 1 occurred\"Warning message:\n",
      "\"glm.fit: fitted probabilities numerically 0 or 1 occurred\"Warning message:\n",
      "\"glm.fit: fitted probabilities numerically 0 or 1 occurred\""
     ]
    },
    {
     "name": "stdout",
     "output_type": "stream",
     "text": [
      "                        Df Deviance    AIC\n",
      "- s_start_age            1   54.989 72.989\n",
      "- s_start_year           1   55.108 73.108\n",
      "- s_SAPC2                1   56.454 74.454\n",
      "- s_SAPC3                1   56.461 74.461\n",
      "<none>                       54.979 74.979\n",
      "- GPA_trend              1   57.481 75.481\n",
      "- factor(Gender)         1   57.683 75.683\n",
      "- avs_net_cost           1   57.746 75.746\n",
      "- s_SAPC1                1   58.968 76.968\n",
      "- factor(gap_indicator)  1   60.389 78.389\n",
      "+ factor(Citizenship)    7   52.774 86.774\n"
     ]
    },
    {
     "name": "stderr",
     "output_type": "stream",
     "text": [
      "Warning message:\n",
      "\"glm.fit: fitted probabilities numerically 0 or 1 occurred\""
     ]
    },
    {
     "name": "stdout",
     "output_type": "stream",
     "text": [
      "\n",
      "Step:  AIC=72.99\n",
      "Y ~ factor(Gender) + avs_net_cost + s_SAPC1 + s_SAPC2 + s_SAPC3 + \n",
      "    factor(gap_indicator) + GPA_trend + s_start_year\n",
      "\n"
     ]
    },
    {
     "name": "stderr",
     "output_type": "stream",
     "text": [
      "Warning message:\n",
      "\"glm.fit: fitted probabilities numerically 0 or 1 occurred\"Warning message:\n",
      "\"glm.fit: fitted probabilities numerically 0 or 1 occurred\"Warning message:\n",
      "\"glm.fit: fitted probabilities numerically 0 or 1 occurred\"Warning message:\n",
      "\"glm.fit: fitted probabilities numerically 0 or 1 occurred\"Warning message:\n",
      "\"glm.fit: fitted probabilities numerically 0 or 1 occurred\"Warning message:\n",
      "\"glm.fit: fitted probabilities numerically 0 or 1 occurred\"Warning message:\n",
      "\"glm.fit: fitted probabilities numerically 0 or 1 occurred\"Warning message:\n",
      "\"glm.fit: fitted probabilities numerically 0 or 1 occurred\"Warning message:\n",
      "\"glm.fit: fitted probabilities numerically 0 or 1 occurred\"Warning message:\n",
      "\"glm.fit: fitted probabilities numerically 0 or 1 occurred\""
     ]
    },
    {
     "name": "stdout",
     "output_type": "stream",
     "text": [
      "                        Df Deviance    AIC\n",
      "- s_start_year           1   55.115 71.115\n",
      "- s_SAPC2                1   56.455 72.455\n",
      "- s_SAPC3                1   56.462 72.462\n",
      "<none>                       54.989 72.989\n",
      "- GPA_trend              1   57.519 73.519\n",
      "- factor(Gender)         1   57.683 73.683\n",
      "- avs_net_cost           1   57.844 73.844\n",
      "+ s_start_age            1   54.979 74.979\n",
      "- s_SAPC1                1   59.021 75.021\n",
      "- factor(gap_indicator)  1   60.400 76.400\n",
      "+ factor(Citizenship)    7   52.922 84.922\n"
     ]
    },
    {
     "name": "stderr",
     "output_type": "stream",
     "text": [
      "Warning message:\n",
      "\"glm.fit: fitted probabilities numerically 0 or 1 occurred\""
     ]
    },
    {
     "name": "stdout",
     "output_type": "stream",
     "text": [
      "\n",
      "Step:  AIC=71.11\n",
      "Y ~ factor(Gender) + avs_net_cost + s_SAPC1 + s_SAPC2 + s_SAPC3 + \n",
      "    factor(gap_indicator) + GPA_trend\n",
      "\n"
     ]
    },
    {
     "name": "stderr",
     "output_type": "stream",
     "text": [
      "Warning message:\n",
      "\"glm.fit: fitted probabilities numerically 0 or 1 occurred\"Warning message:\n",
      "\"glm.fit: fitted probabilities numerically 0 or 1 occurred\"Warning message:\n",
      "\"glm.fit: fitted probabilities numerically 0 or 1 occurred\"Warning message:\n",
      "\"glm.fit: fitted probabilities numerically 0 or 1 occurred\"Warning message:\n",
      "\"glm.fit: fitted probabilities numerically 0 or 1 occurred\"Warning message:\n",
      "\"glm.fit: fitted probabilities numerically 0 or 1 occurred\"Warning message:\n",
      "\"glm.fit: fitted probabilities numerically 0 or 1 occurred\"Warning message:\n",
      "\"glm.fit: fitted probabilities numerically 0 or 1 occurred\"Warning message:\n",
      "\"glm.fit: fitted probabilities numerically 0 or 1 occurred\"Warning message:\n",
      "\"glm.fit: fitted probabilities numerically 0 or 1 occurred\""
     ]
    },
    {
     "name": "stdout",
     "output_type": "stream",
     "text": [
      "                        Df Deviance    AIC\n",
      "- s_SAPC2                1   56.455 70.455\n",
      "- s_SAPC3                1   56.531 70.531\n",
      "<none>                       55.115 71.115\n",
      "- GPA_trend              1   57.525 71.525\n",
      "- factor(Gender)         1   57.684 71.684\n",
      "- avs_net_cost           1   57.901 71.901\n",
      "+ s_start_year           1   54.989 72.989\n",
      "+ s_start_age            1   55.108 73.108\n",
      "- s_SAPC1                1   59.191 73.191\n",
      "- factor(gap_indicator)  1   60.417 74.417\n",
      "+ factor(Citizenship)    7   53.190 83.190\n"
     ]
    },
    {
     "name": "stderr",
     "output_type": "stream",
     "text": [
      "Warning message:\n",
      "\"glm.fit: fitted probabilities numerically 0 or 1 occurred\""
     ]
    },
    {
     "name": "stdout",
     "output_type": "stream",
     "text": [
      "\n",
      "Step:  AIC=70.46\n",
      "Y ~ factor(Gender) + avs_net_cost + s_SAPC1 + s_SAPC3 + factor(gap_indicator) + \n",
      "    GPA_trend\n",
      "\n"
     ]
    },
    {
     "name": "stderr",
     "output_type": "stream",
     "text": [
      "Warning message:\n",
      "\"glm.fit: fitted probabilities numerically 0 or 1 occurred\"Warning message:\n",
      "\"glm.fit: fitted probabilities numerically 0 or 1 occurred\"Warning message:\n",
      "\"glm.fit: fitted probabilities numerically 0 or 1 occurred\"Warning message:\n",
      "\"glm.fit: fitted probabilities numerically 0 or 1 occurred\"Warning message:\n",
      "\"glm.fit: fitted probabilities numerically 0 or 1 occurred\"Warning message:\n",
      "\"glm.fit: fitted probabilities numerically 0 or 1 occurred\"Warning message:\n",
      "\"glm.fit: fitted probabilities numerically 0 or 1 occurred\"Warning message:\n",
      "\"glm.fit: fitted probabilities numerically 0 or 1 occurred\"Warning message:\n",
      "\"glm.fit: fitted probabilities numerically 0 or 1 occurred\"Warning message:\n",
      "\"glm.fit: fitted probabilities numerically 0 or 1 occurred\""
     ]
    },
    {
     "name": "stdout",
     "output_type": "stream",
     "text": [
      "                        Df Deviance    AIC\n",
      "- s_SAPC3                1   57.781 69.781\n",
      "- GPA_trend              1   58.163 70.163\n",
      "<none>                       56.455 70.455\n",
      "- factor(Gender)         1   58.603 70.603\n",
      "- avs_net_cost           1   58.871 70.871\n",
      "+ s_SAPC2                1   55.115 71.115\n",
      "- s_SAPC1                1   60.366 72.366\n",
      "+ s_start_year           1   56.455 72.455\n",
      "+ s_start_age            1   56.455 72.455\n",
      "- factor(gap_indicator)  1   61.043 73.043\n",
      "+ factor(Citizenship)    7   54.503 82.503\n"
     ]
    },
    {
     "name": "stderr",
     "output_type": "stream",
     "text": [
      "Warning message:\n",
      "\"glm.fit: fitted probabilities numerically 0 or 1 occurred\""
     ]
    },
    {
     "name": "stdout",
     "output_type": "stream",
     "text": [
      "\n",
      "Step:  AIC=69.78\n",
      "Y ~ factor(Gender) + avs_net_cost + s_SAPC1 + factor(gap_indicator) + \n",
      "    GPA_trend\n",
      "\n"
     ]
    },
    {
     "name": "stderr",
     "output_type": "stream",
     "text": [
      "Warning message:\n",
      "\"glm.fit: fitted probabilities numerically 0 or 1 occurred\"Warning message:\n",
      "\"glm.fit: fitted probabilities numerically 0 or 1 occurred\"Warning message:\n",
      "\"glm.fit: fitted probabilities numerically 0 or 1 occurred\"Warning message:\n",
      "\"glm.fit: fitted probabilities numerically 0 or 1 occurred\"Warning message:\n",
      "\"glm.fit: fitted probabilities numerically 0 or 1 occurred\"Warning message:\n",
      "\"glm.fit: fitted probabilities numerically 0 or 1 occurred\"Warning message:\n",
      "\"glm.fit: fitted probabilities numerically 0 or 1 occurred\"Warning message:\n",
      "\"glm.fit: fitted probabilities numerically 0 or 1 occurred\"Warning message:\n",
      "\"glm.fit: fitted probabilities numerically 0 or 1 occurred\"Warning message:\n",
      "\"glm.fit: fitted probabilities numerically 0 or 1 occurred\""
     ]
    },
    {
     "name": "stdout",
     "output_type": "stream",
     "text": [
      "                        Df Deviance    AIC\n",
      "- avs_net_cost           1   59.727 69.727\n",
      "<none>                       57.781 69.781\n",
      "- factor(Gender)         1   60.012 70.012\n",
      "+ s_SAPC3                1   56.455 70.455\n",
      "+ s_SAPC2                1   56.531 70.531\n",
      "- GPA_trend              1   61.387 71.387\n",
      "- s_SAPC1                1   61.509 71.509\n",
      "+ s_start_age            1   57.770 71.770\n",
      "+ s_start_year           1   57.781 71.781\n",
      "- factor(gap_indicator)  1   62.608 72.608\n",
      "+ factor(Citizenship)    7   56.376 82.376\n"
     ]
    },
    {
     "name": "stderr",
     "output_type": "stream",
     "text": [
      "Warning message:\n",
      "\"glm.fit: fitted probabilities numerically 0 or 1 occurred\""
     ]
    },
    {
     "name": "stdout",
     "output_type": "stream",
     "text": [
      "\n",
      "Step:  AIC=69.73\n",
      "Y ~ factor(Gender) + s_SAPC1 + factor(gap_indicator) + GPA_trend\n",
      "\n"
     ]
    },
    {
     "name": "stderr",
     "output_type": "stream",
     "text": [
      "Warning message:\n",
      "\"glm.fit: fitted probabilities numerically 0 or 1 occurred\"Warning message:\n",
      "\"glm.fit: fitted probabilities numerically 0 or 1 occurred\"Warning message:\n",
      "\"glm.fit: fitted probabilities numerically 0 or 1 occurred\"Warning message:\n",
      "\"glm.fit: fitted probabilities numerically 0 or 1 occurred\"Warning message:\n",
      "\"glm.fit: fitted probabilities numerically 0 or 1 occurred\"Warning message:\n",
      "\"glm.fit: fitted probabilities numerically 0 or 1 occurred\"Warning message:\n",
      "\"glm.fit: fitted probabilities numerically 0 or 1 occurred\"Warning message:\n",
      "\"glm.fit: fitted probabilities numerically 0 or 1 occurred\"Warning message:\n",
      "\"glm.fit: fitted probabilities numerically 0 or 1 occurred\"Warning message:\n",
      "\"glm.fit: fitted probabilities numerically 0 or 1 occurred\""
     ]
    },
    {
     "name": "stdout",
     "output_type": "stream",
     "text": [
      "                        Df Deviance    AIC\n",
      "<none>                       59.727 69.727\n",
      "+ avs_net_cost           1   57.781 69.781\n",
      "- factor(Gender)         1   61.842 69.842\n",
      "- GPA_trend              1   62.721 70.721\n",
      "+ s_SAPC2                1   58.811 70.811\n",
      "+ s_SAPC3                1   58.871 70.871\n",
      "+ s_start_year           1   59.508 71.508\n",
      "+ s_start_age            1   59.686 71.686\n",
      "- s_SAPC1                1   64.114 72.114\n",
      "- factor(gap_indicator)  1   64.699 72.699\n",
      "+ factor(Citizenship)    7   58.807 82.807\n"
     ]
    }
   ],
   "source": [
    "log_mod_m_aic= stepAIC(log_mod_m, direction = 'both')"
   ]
  },
  {
   "cell_type": "markdown",
   "metadata": {},
   "source": [
    "<b> Significant variables both AIC selects:"
   ]
  },
  {
   "cell_type": "code",
   "execution_count": 83,
   "metadata": {},
   "outputs": [
    {
     "data": {
      "text/plain": [
       "\n",
       "Call:\n",
       "glm(formula = Y ~ factor(Gender) + s_SAPC1 + factor(gap_indicator) + \n",
       "    GPA_trend, family = \"binomial\", data = Management_df)\n",
       "\n",
       "Deviance Residuals: \n",
       "    Min       1Q   Median       3Q      Max  \n",
       "-2.2091  -0.7080   0.6555   0.8285   1.1567  \n",
       "\n",
       "Coefficients:\n",
       "                        Estimate Std. Error z value Pr(>|z|)  \n",
       "(Intercept)               1.1642     0.4692   2.481   0.0131 *\n",
       "factor(Gender)Male       -0.9133     0.6354  -1.437   0.1506  \n",
       "s_SAPC1                -122.4466   720.9701  -0.170   0.8651  \n",
       "factor(gap_indicator)1   17.3008  1768.7933   0.010   0.9922  \n",
       "GPA_trend                 2.5249     1.6408   1.539   0.1239  \n",
       "---\n",
       "Signif. codes:  0 '***' 0.001 '**' 0.01 '*' 0.05 '.' 0.1 ' ' 1\n",
       "\n",
       "(Dispersion parameter for binomial family taken to be 1)\n",
       "\n",
       "    Null deviance: 74.726  on 57  degrees of freedom\n",
       "Residual deviance: 59.727  on 53  degrees of freedom\n",
       "AIC: 69.727\n",
       "\n",
       "Number of Fisher Scoring iterations: 16\n"
      ]
     },
     "metadata": {},
     "output_type": "display_data"
    }
   ],
   "source": [
    "summary(log_mod_m_aic)"
   ]
  },
  {
   "cell_type": "markdown",
   "metadata": {},
   "source": [
    "<b> Both BIC:"
   ]
  },
  {
   "cell_type": "code",
   "execution_count": 84,
   "metadata": {},
   "outputs": [
    {
     "name": "stdout",
     "output_type": "stream",
     "text": [
      "Start:  AIC=121.8\n",
      "Y ~ s_start_age + factor(Gender) + factor(Citizenship) + avs_net_cost + \n",
      "    s_SAPC1 + s_SAPC2 + s_SAPC3 + factor(gap_indicator) + GPA_trend + \n",
      "    s_start_year\n",
      "\n"
     ]
    },
    {
     "name": "stderr",
     "output_type": "stream",
     "text": [
      "Warning message:\n",
      "\"glm.fit: fitted probabilities numerically 0 or 1 occurred\"Warning message:\n",
      "\"glm.fit: fitted probabilities numerically 0 or 1 occurred\"Warning message:\n",
      "\"glm.fit: fitted probabilities numerically 0 or 1 occurred\"Warning message:\n",
      "\"glm.fit: fitted probabilities numerically 0 or 1 occurred\"Warning message:\n",
      "\"glm.fit: fitted probabilities numerically 0 or 1 occurred\"Warning message:\n",
      "\"glm.fit: fitted probabilities numerically 0 or 1 occurred\"Warning message:\n",
      "\"glm.fit: fitted probabilities numerically 0 or 1 occurred\"Warning message:\n",
      "\"glm.fit: fitted probabilities numerically 0 or 1 occurred\"Warning message:\n",
      "\"glm.fit: fitted probabilities numerically 0 or 1 occurred\""
     ]
    },
    {
     "name": "stdout",
     "output_type": "stream",
     "text": [
      "                        Df Deviance     AIC\n",
      "- factor(Citizenship)    7   54.979  95.583\n",
      "- s_start_age            1   52.922 117.889\n",
      "- s_start_year           1   53.096 118.063\n",
      "- GPA_trend              1   54.094 119.061\n",
      "- s_SAPC2                1   54.372 119.339\n",
      "- s_SAPC3                1   54.793 119.760\n",
      "- factor(Gender)         1   55.501 120.468\n",
      "- s_SAPC1                1   56.545 121.512\n",
      "- avs_net_cost           1   56.564 121.531\n",
      "<none>                       52.774 121.802\n",
      "- factor(gap_indicator)  1   57.218 122.185\n"
     ]
    },
    {
     "name": "stderr",
     "output_type": "stream",
     "text": [
      "Warning message:\n",
      "\"glm.fit: fitted probabilities numerically 0 or 1 occurred\""
     ]
    },
    {
     "name": "stdout",
     "output_type": "stream",
     "text": [
      "\n",
      "Step:  AIC=95.58\n",
      "Y ~ s_start_age + factor(Gender) + avs_net_cost + s_SAPC1 + s_SAPC2 + \n",
      "    s_SAPC3 + factor(gap_indicator) + GPA_trend + s_start_year\n",
      "\n"
     ]
    },
    {
     "name": "stderr",
     "output_type": "stream",
     "text": [
      "Warning message:\n",
      "\"glm.fit: fitted probabilities numerically 0 or 1 occurred\"Warning message:\n",
      "\"glm.fit: fitted probabilities numerically 0 or 1 occurred\"Warning message:\n",
      "\"glm.fit: fitted probabilities numerically 0 or 1 occurred\"Warning message:\n",
      "\"glm.fit: fitted probabilities numerically 0 or 1 occurred\"Warning message:\n",
      "\"glm.fit: fitted probabilities numerically 0 or 1 occurred\"Warning message:\n",
      "\"glm.fit: fitted probabilities numerically 0 or 1 occurred\"Warning message:\n",
      "\"glm.fit: fitted probabilities numerically 0 or 1 occurred\"Warning message:\n",
      "\"glm.fit: fitted probabilities numerically 0 or 1 occurred\"Warning message:\n",
      "\"glm.fit: fitted probabilities numerically 0 or 1 occurred\"Warning message:\n",
      "\"glm.fit: fitted probabilities numerically 0 or 1 occurred\""
     ]
    },
    {
     "name": "stdout",
     "output_type": "stream",
     "text": [
      "                        Df Deviance     AIC\n",
      "- s_start_age            1   54.989  91.533\n",
      "- s_start_year           1   55.108  91.652\n",
      "- s_SAPC2                1   56.454  92.998\n",
      "- s_SAPC3                1   56.461  93.005\n",
      "- GPA_trend              1   57.481  94.025\n",
      "- factor(Gender)         1   57.683  94.227\n",
      "- avs_net_cost           1   57.746  94.290\n",
      "- s_SAPC1                1   58.968  95.512\n",
      "<none>                       54.979  95.583\n",
      "- factor(gap_indicator)  1   60.389  96.933\n",
      "+ factor(Citizenship)    7   52.774 121.802\n"
     ]
    },
    {
     "name": "stderr",
     "output_type": "stream",
     "text": [
      "Warning message:\n",
      "\"glm.fit: fitted probabilities numerically 0 or 1 occurred\""
     ]
    },
    {
     "name": "stdout",
     "output_type": "stream",
     "text": [
      "\n",
      "Step:  AIC=91.53\n",
      "Y ~ factor(Gender) + avs_net_cost + s_SAPC1 + s_SAPC2 + s_SAPC3 + \n",
      "    factor(gap_indicator) + GPA_trend + s_start_year\n",
      "\n"
     ]
    },
    {
     "name": "stderr",
     "output_type": "stream",
     "text": [
      "Warning message:\n",
      "\"glm.fit: fitted probabilities numerically 0 or 1 occurred\"Warning message:\n",
      "\"glm.fit: fitted probabilities numerically 0 or 1 occurred\"Warning message:\n",
      "\"glm.fit: fitted probabilities numerically 0 or 1 occurred\"Warning message:\n",
      "\"glm.fit: fitted probabilities numerically 0 or 1 occurred\"Warning message:\n",
      "\"glm.fit: fitted probabilities numerically 0 or 1 occurred\"Warning message:\n",
      "\"glm.fit: fitted probabilities numerically 0 or 1 occurred\"Warning message:\n",
      "\"glm.fit: fitted probabilities numerically 0 or 1 occurred\"Warning message:\n",
      "\"glm.fit: fitted probabilities numerically 0 or 1 occurred\"Warning message:\n",
      "\"glm.fit: fitted probabilities numerically 0 or 1 occurred\"Warning message:\n",
      "\"glm.fit: fitted probabilities numerically 0 or 1 occurred\""
     ]
    },
    {
     "name": "stdout",
     "output_type": "stream",
     "text": [
      "                        Df Deviance     AIC\n",
      "- s_start_year           1   55.115  87.599\n",
      "- s_SAPC2                1   56.455  88.938\n",
      "- s_SAPC3                1   56.462  88.946\n",
      "- GPA_trend              1   57.519  90.002\n",
      "- factor(Gender)         1   57.683  90.167\n",
      "- avs_net_cost           1   57.844  90.327\n",
      "- s_SAPC1                1   59.021  91.505\n",
      "<none>                       54.989  91.533\n",
      "- factor(gap_indicator)  1   60.400  92.883\n",
      "+ s_start_age            1   54.979  95.583\n",
      "+ factor(Citizenship)    7   52.922 117.889\n"
     ]
    },
    {
     "name": "stderr",
     "output_type": "stream",
     "text": [
      "Warning message:\n",
      "\"glm.fit: fitted probabilities numerically 0 or 1 occurred\""
     ]
    },
    {
     "name": "stdout",
     "output_type": "stream",
     "text": [
      "\n",
      "Step:  AIC=87.6\n",
      "Y ~ factor(Gender) + avs_net_cost + s_SAPC1 + s_SAPC2 + s_SAPC3 + \n",
      "    factor(gap_indicator) + GPA_trend\n",
      "\n"
     ]
    },
    {
     "name": "stderr",
     "output_type": "stream",
     "text": [
      "Warning message:\n",
      "\"glm.fit: fitted probabilities numerically 0 or 1 occurred\"Warning message:\n",
      "\"glm.fit: fitted probabilities numerically 0 or 1 occurred\"Warning message:\n",
      "\"glm.fit: fitted probabilities numerically 0 or 1 occurred\"Warning message:\n",
      "\"glm.fit: fitted probabilities numerically 0 or 1 occurred\"Warning message:\n",
      "\"glm.fit: fitted probabilities numerically 0 or 1 occurred\"Warning message:\n",
      "\"glm.fit: fitted probabilities numerically 0 or 1 occurred\"Warning message:\n",
      "\"glm.fit: fitted probabilities numerically 0 or 1 occurred\"Warning message:\n",
      "\"glm.fit: fitted probabilities numerically 0 or 1 occurred\"Warning message:\n",
      "\"glm.fit: fitted probabilities numerically 0 or 1 occurred\"Warning message:\n",
      "\"glm.fit: fitted probabilities numerically 0 or 1 occurred\""
     ]
    },
    {
     "name": "stdout",
     "output_type": "stream",
     "text": [
      "                        Df Deviance     AIC\n",
      "- s_SAPC2                1   56.455  84.879\n",
      "- s_SAPC3                1   56.531  84.954\n",
      "- GPA_trend              1   57.525  85.948\n",
      "- factor(Gender)         1   57.684  86.108\n",
      "- avs_net_cost           1   57.901  86.324\n",
      "<none>                       55.115  87.599\n",
      "- s_SAPC1                1   59.191  87.614\n",
      "- factor(gap_indicator)  1   60.417  88.840\n",
      "+ s_start_year           1   54.989  91.533\n",
      "+ s_start_age            1   55.108  91.652\n",
      "+ factor(Citizenship)    7   53.190 114.096\n"
     ]
    },
    {
     "name": "stderr",
     "output_type": "stream",
     "text": [
      "Warning message:\n",
      "\"glm.fit: fitted probabilities numerically 0 or 1 occurred\""
     ]
    },
    {
     "name": "stdout",
     "output_type": "stream",
     "text": [
      "\n",
      "Step:  AIC=84.88\n",
      "Y ~ factor(Gender) + avs_net_cost + s_SAPC1 + s_SAPC3 + factor(gap_indicator) + \n",
      "    GPA_trend\n",
      "\n"
     ]
    },
    {
     "name": "stderr",
     "output_type": "stream",
     "text": [
      "Warning message:\n",
      "\"glm.fit: fitted probabilities numerically 0 or 1 occurred\"Warning message:\n",
      "\"glm.fit: fitted probabilities numerically 0 or 1 occurred\"Warning message:\n",
      "\"glm.fit: fitted probabilities numerically 0 or 1 occurred\"Warning message:\n",
      "\"glm.fit: fitted probabilities numerically 0 or 1 occurred\"Warning message:\n",
      "\"glm.fit: fitted probabilities numerically 0 or 1 occurred\"Warning message:\n",
      "\"glm.fit: fitted probabilities numerically 0 or 1 occurred\"Warning message:\n",
      "\"glm.fit: fitted probabilities numerically 0 or 1 occurred\"Warning message:\n",
      "\"glm.fit: fitted probabilities numerically 0 or 1 occurred\"Warning message:\n",
      "\"glm.fit: fitted probabilities numerically 0 or 1 occurred\"Warning message:\n",
      "\"glm.fit: fitted probabilities numerically 0 or 1 occurred\""
     ]
    },
    {
     "name": "stdout",
     "output_type": "stream",
     "text": [
      "                        Df Deviance     AIC\n",
      "- s_SAPC3                1   57.781  82.144\n",
      "- GPA_trend              1   58.163  82.525\n",
      "- factor(Gender)         1   58.603  82.965\n",
      "- avs_net_cost           1   58.871  83.234\n",
      "- s_SAPC1                1   60.366  84.729\n",
      "<none>                       56.455  84.879\n",
      "- factor(gap_indicator)  1   61.043  85.405\n",
      "+ s_SAPC2                1   55.115  87.599\n",
      "+ s_start_year           1   56.455  88.938\n",
      "+ s_start_age            1   56.455  88.939\n",
      "+ factor(Citizenship)    7   54.503 111.349\n"
     ]
    },
    {
     "name": "stderr",
     "output_type": "stream",
     "text": [
      "Warning message:\n",
      "\"glm.fit: fitted probabilities numerically 0 or 1 occurred\""
     ]
    },
    {
     "name": "stdout",
     "output_type": "stream",
     "text": [
      "\n",
      "Step:  AIC=82.14\n",
      "Y ~ factor(Gender) + avs_net_cost + s_SAPC1 + factor(gap_indicator) + \n",
      "    GPA_trend\n",
      "\n"
     ]
    },
    {
     "name": "stderr",
     "output_type": "stream",
     "text": [
      "Warning message:\n",
      "\"glm.fit: fitted probabilities numerically 0 or 1 occurred\"Warning message:\n",
      "\"glm.fit: fitted probabilities numerically 0 or 1 occurred\"Warning message:\n",
      "\"glm.fit: fitted probabilities numerically 0 or 1 occurred\"Warning message:\n",
      "\"glm.fit: fitted probabilities numerically 0 or 1 occurred\"Warning message:\n",
      "\"glm.fit: fitted probabilities numerically 0 or 1 occurred\"Warning message:\n",
      "\"glm.fit: fitted probabilities numerically 0 or 1 occurred\"Warning message:\n",
      "\"glm.fit: fitted probabilities numerically 0 or 1 occurred\"Warning message:\n",
      "\"glm.fit: fitted probabilities numerically 0 or 1 occurred\"Warning message:\n",
      "\"glm.fit: fitted probabilities numerically 0 or 1 occurred\"Warning message:\n",
      "\"glm.fit: fitted probabilities numerically 0 or 1 occurred\""
     ]
    },
    {
     "name": "stdout",
     "output_type": "stream",
     "text": [
      "                        Df Deviance     AIC\n",
      "- avs_net_cost           1   59.727  80.030\n",
      "- factor(Gender)         1   60.012  80.314\n",
      "- GPA_trend              1   61.387  81.689\n",
      "- s_SAPC1                1   61.509  81.811\n",
      "<none>                       57.781  82.144\n",
      "- factor(gap_indicator)  1   62.608  82.910\n",
      "+ s_SAPC3                1   56.455  84.879\n",
      "+ s_SAPC2                1   56.531  84.954\n",
      "+ s_start_age            1   57.770  86.193\n",
      "+ s_start_year           1   57.781  86.204\n",
      "+ factor(Citizenship)    7   56.376 109.162\n"
     ]
    },
    {
     "name": "stderr",
     "output_type": "stream",
     "text": [
      "Warning message:\n",
      "\"glm.fit: fitted probabilities numerically 0 or 1 occurred\""
     ]
    },
    {
     "name": "stdout",
     "output_type": "stream",
     "text": [
      "\n",
      "Step:  AIC=80.03\n",
      "Y ~ factor(Gender) + s_SAPC1 + factor(gap_indicator) + GPA_trend\n",
      "\n"
     ]
    },
    {
     "name": "stderr",
     "output_type": "stream",
     "text": [
      "Warning message:\n",
      "\"glm.fit: fitted probabilities numerically 0 or 1 occurred\"Warning message:\n",
      "\"glm.fit: fitted probabilities numerically 0 or 1 occurred\"Warning message:\n",
      "\"glm.fit: fitted probabilities numerically 0 or 1 occurred\"Warning message:\n",
      "\"glm.fit: fitted probabilities numerically 0 or 1 occurred\"Warning message:\n",
      "\"glm.fit: fitted probabilities numerically 0 or 1 occurred\"Warning message:\n",
      "\"glm.fit: fitted probabilities numerically 0 or 1 occurred\"Warning message:\n",
      "\"glm.fit: fitted probabilities numerically 0 or 1 occurred\"Warning message:\n",
      "\"glm.fit: fitted probabilities numerically 0 or 1 occurred\"Warning message:\n",
      "\"glm.fit: fitted probabilities numerically 0 or 1 occurred\"Warning message:\n",
      "\"glm.fit: fitted probabilities numerically 0 or 1 occurred\""
     ]
    },
    {
     "name": "stdout",
     "output_type": "stream",
     "text": [
      "                        Df Deviance     AIC\n",
      "- factor(Gender)         1   61.842  78.084\n",
      "- GPA_trend              1   62.721  78.963\n",
      "<none>                       59.727  80.030\n",
      "- s_SAPC1                1   64.114  80.355\n",
      "- factor(gap_indicator)  1   64.699  80.940\n",
      "+ avs_net_cost           1   57.781  82.144\n",
      "+ s_SAPC2                1   58.811  83.174\n",
      "+ s_SAPC3                1   58.871  83.234\n",
      "+ s_start_year           1   59.508  83.871\n",
      "+ s_start_age            1   59.686  84.049\n",
      "+ factor(Citizenship)    7   58.807 107.532\n"
     ]
    },
    {
     "name": "stderr",
     "output_type": "stream",
     "text": [
      "Warning message:\n",
      "\"glm.fit: fitted probabilities numerically 0 or 1 occurred\""
     ]
    },
    {
     "name": "stdout",
     "output_type": "stream",
     "text": [
      "\n",
      "Step:  AIC=78.08\n",
      "Y ~ s_SAPC1 + factor(gap_indicator) + GPA_trend\n",
      "\n"
     ]
    },
    {
     "name": "stderr",
     "output_type": "stream",
     "text": [
      "Warning message:\n",
      "\"glm.fit: fitted probabilities numerically 0 or 1 occurred\"Warning message:\n",
      "\"glm.fit: fitted probabilities numerically 0 or 1 occurred\"Warning message:\n",
      "\"glm.fit: fitted probabilities numerically 0 or 1 occurred\"Warning message:\n",
      "\"glm.fit: fitted probabilities numerically 0 or 1 occurred\"Warning message:\n",
      "\"glm.fit: fitted probabilities numerically 0 or 1 occurred\"Warning message:\n",
      "\"glm.fit: fitted probabilities numerically 0 or 1 occurred\"Warning message:\n",
      "\"glm.fit: fitted probabilities numerically 0 or 1 occurred\"Warning message:\n",
      "\"glm.fit: fitted probabilities numerically 0 or 1 occurred\"Warning message:\n",
      "\"glm.fit: fitted probabilities numerically 0 or 1 occurred\"Warning message:\n",
      "\"glm.fit: fitted probabilities numerically 0 or 1 occurred\""
     ]
    },
    {
     "name": "stdout",
     "output_type": "stream",
     "text": [
      "                        Df Deviance     AIC\n",
      "- factor(gap_indicator)  1   65.579  77.761\n",
      "<none>                       61.842  78.084\n",
      "- GPA_trend              1   66.237  78.418\n",
      "- s_SAPC1                1   66.297  78.478\n",
      "+ factor(Gender)         1   59.727  80.030\n",
      "+ avs_net_cost           1   60.012  80.314\n",
      "+ s_SAPC3                1   61.038  81.341\n",
      "+ s_SAPC2                1   61.233  81.535\n",
      "+ s_start_year           1   61.379  81.681\n",
      "+ s_start_age            1   61.829  82.132\n",
      "+ factor(Citizenship)    7   60.316 104.981\n"
     ]
    },
    {
     "name": "stderr",
     "output_type": "stream",
     "text": [
      "Warning message:\n",
      "\"glm.fit: fitted probabilities numerically 0 or 1 occurred\""
     ]
    },
    {
     "name": "stdout",
     "output_type": "stream",
     "text": [
      "\n",
      "Step:  AIC=77.76\n",
      "Y ~ s_SAPC1 + GPA_trend\n",
      "\n"
     ]
    },
    {
     "name": "stderr",
     "output_type": "stream",
     "text": [
      "Warning message:\n",
      "\"glm.fit: fitted probabilities numerically 0 or 1 occurred\"Warning message:\n",
      "\"glm.fit: fitted probabilities numerically 0 or 1 occurred\"Warning message:\n",
      "\"glm.fit: fitted probabilities numerically 0 or 1 occurred\"Warning message:\n",
      "\"glm.fit: fitted probabilities numerically 0 or 1 occurred\"Warning message:\n",
      "\"glm.fit: fitted probabilities numerically 0 or 1 occurred\"Warning message:\n",
      "\"glm.fit: fitted probabilities numerically 0 or 1 occurred\"Warning message:\n",
      "\"glm.fit: fitted probabilities numerically 0 or 1 occurred\"Warning message:\n",
      "\"glm.fit: fitted probabilities numerically 0 or 1 occurred\"Warning message:\n",
      "\"glm.fit: fitted probabilities numerically 0 or 1 occurred\"Warning message:\n",
      "\"glm.fit: fitted probabilities numerically 0 or 1 occurred\""
     ]
    },
    {
     "name": "stdout",
     "output_type": "stream",
     "text": [
      "                        Df Deviance     AIC\n",
      "<none>                       65.579  77.761\n",
      "+ factor(gap_indicator)  1   61.842  78.084\n",
      "- GPA_trend              1   70.344  78.465\n",
      "- s_SAPC1                1   70.441  78.562\n",
      "+ avs_net_cost           1   63.600  79.842\n",
      "+ s_start_year           1   64.566  80.807\n",
      "+ s_SAPC3                1   64.597  80.839\n",
      "+ factor(Gender)         1   64.699  80.940\n",
      "+ s_SAPC2                1   65.206  81.448\n",
      "+ s_start_age            1   65.577  81.819\n",
      "+ factor(Citizenship)    7   63.549 104.154\n"
     ]
    }
   ],
   "source": [
    "log_mod_m_bic = stepAIC(log_mod_m, direction = \"both\", k = log(c_n))"
   ]
  },
  {
   "cell_type": "markdown",
   "metadata": {},
   "source": [
    "<b> Significant variables both BIC selects:"
   ]
  },
  {
   "cell_type": "code",
   "execution_count": 85,
   "metadata": {},
   "outputs": [
    {
     "data": {
      "text/html": [
       "<dl class=dl-horizontal>\n",
       "\t<dt>Estimate</dt>\n",
       "\t\t<dd>0.84723</dd>\n",
       "\t<dt>Pr(&gt;|z|)</dt>\n",
       "\t\t<dd>0.00517</dd>\n",
       "</dl>\n"
      ],
      "text/latex": [
       "\\begin{description*}\n",
       "\\item[Estimate] 0.84723\n",
       "\\item[Pr(>\\textbackslash{}textbar\\{\\}z\\textbackslash{}textbar\\{\\})] 0.00517\n",
       "\\end{description*}\n"
      ],
      "text/markdown": [
       "Estimate\n",
       ":   0.84723Pr(&amp;gt;|z|)\n",
       ":   0.00517\n",
       "\n"
      ],
      "text/plain": [
       "Estimate Pr(>|z|) \n",
       " 0.84723  0.00517 "
      ]
     },
     "metadata": {},
     "output_type": "display_data"
    },
    {
     "data": {
      "text/plain": [
       "\n",
       "Call:\n",
       "glm(formula = Y ~ s_SAPC1 + GPA_trend, family = \"binomial\", data = Management_df)\n",
       "\n",
       "Deviance Residuals: \n",
       "    Min       1Q   Median       3Q      Max  \n",
       "-2.1732  -0.8080   0.7821   0.8446   1.0269  \n",
       "\n",
       "Coefficients:\n",
       "             Estimate Std. Error z value Pr(>|z|)   \n",
       "(Intercept)    0.8472     0.3030   2.797  0.00517 **\n",
       "s_SAPC1     -115.5842   680.2835  -0.170  0.86508   \n",
       "GPA_trend      3.0151     1.5608   1.932  0.05339 . \n",
       "---\n",
       "Signif. codes:  0 '***' 0.001 '**' 0.01 '*' 0.05 '.' 0.1 ' ' 1\n",
       "\n",
       "(Dispersion parameter for binomial family taken to be 1)\n",
       "\n",
       "    Null deviance: 74.726  on 57  degrees of freedom\n",
       "Residual deviance: 65.579  on 55  degrees of freedom\n",
       "AIC: 71.579\n",
       "\n",
       "Number of Fisher Scoring iterations: 12\n"
      ]
     },
     "metadata": {},
     "output_type": "display_data"
    }
   ],
   "source": [
    "round(summary(log_mod_m_bic)$coeff[which(summary(log_mod_m_bic)$coef[,4] <= .05),c(1,4)],5)\n",
    "summary(log_mod_m_bic)"
   ]
  },
  {
   "cell_type": "markdown",
   "metadata": {},
   "source": [
    "# Nursing Analysis"
   ]
  },
  {
   "cell_type": "markdown",
   "metadata": {},
   "source": [
    "<b> Logistic regression model:"
   ]
  },
  {
   "cell_type": "code",
   "execution_count": 86,
   "metadata": {
    "scrolled": false
   },
   "outputs": [
    {
     "name": "stderr",
     "output_type": "stream",
     "text": [
      "Warning message:\n",
      "\"glm.fit: fitted probabilities numerically 0 or 1 occurred\""
     ]
    },
    {
     "data": {
      "text/plain": [
       "\n",
       "Call:\n",
       "glm(formula = Y ~ s_start_age + factor(Gender) + factor(funding_indicator) + \n",
       "    factor(Citizenship) + avs_net_cost + s_SAPC1 + s_SAPC2 + \n",
       "    s_SAPC3 + factor(gap_indicator) + GPA_trend + s_start_year, \n",
       "    family = \"binomial\", data = Nursing_df)\n",
       "\n",
       "Deviance Residuals: \n",
       "    Min       1Q   Median       3Q      Max  \n",
       "-2.3248  -0.9384   0.1491   0.9448   1.7125  \n",
       "\n",
       "Coefficients:\n",
       "                                               Estimate Std. Error z value\n",
       "(Intercept)                                   5.388e-01  5.114e-01   1.054\n",
       "s_start_age                                  -1.633e-01  1.708e-01  -0.956\n",
       "factor(Gender)Male                            2.459e-01  7.210e-01   0.341\n",
       "factor(funding_indicator)1                    6.497e-01  5.251e-01   1.237\n",
       "factor(Citizenship)Africa                     1.841e+01  5.711e+03   0.003\n",
       "factor(Citizenship)Asia                       2.158e-01  1.414e+00   0.153\n",
       "factor(Citizenship)Asian                      4.009e-02  1.010e+00   0.040\n",
       "factor(Citizenship)Black or African American -1.207e+00  1.280e+00  -0.943\n",
       "factor(Citizenship)China                     -2.007e+01  1.075e+04  -0.002\n",
       "factor(Citizenship)Hispanic or Latino         1.963e+01  4.604e+03   0.004\n",
       "factor(Citizenship)Unknown                   -1.814e-01  9.857e-01  -0.184\n",
       "avs_net_cost                                  8.218e-03  3.951e-01   0.021\n",
       "s_SAPC1                                       1.182e+01  1.177e+01   1.004\n",
       "s_SAPC2                                       1.354e+02  1.190e+04   0.011\n",
       "s_SAPC3                                       9.935e-01  4.767e-01   2.084\n",
       "factor(gap_indicator)1                        7.708e-01  8.102e-01   0.951\n",
       "GPA_trend                                    -5.029e-01  2.265e+00  -0.222\n",
       "s_start_year                                 -8.303e-01  3.163e-01  -2.625\n",
       "                                             Pr(>|z|)   \n",
       "(Intercept)                                   0.29207   \n",
       "s_start_age                                   0.33911   \n",
       "factor(Gender)Male                            0.73303   \n",
       "factor(funding_indicator)1                    0.21598   \n",
       "factor(Citizenship)Africa                     0.99743   \n",
       "factor(Citizenship)Asia                       0.87872   \n",
       "factor(Citizenship)Asian                      0.96834   \n",
       "factor(Citizenship)Black or African American  0.34564   \n",
       "factor(Citizenship)China                      0.99851   \n",
       "factor(Citizenship)Hispanic or Latino         0.99660   \n",
       "factor(Citizenship)Unknown                    0.85401   \n",
       "avs_net_cost                                  0.98340   \n",
       "s_SAPC1                                       0.31532   \n",
       "s_SAPC2                                       0.99092   \n",
       "s_SAPC3                                       0.03716 * \n",
       "factor(gap_indicator)1                        0.34142   \n",
       "GPA_trend                                     0.82433   \n",
       "s_start_year                                  0.00866 **\n",
       "---\n",
       "Signif. codes:  0 '***' 0.001 '**' 0.01 '*' 0.05 '.' 0.1 ' ' 1\n",
       "\n",
       "(Dispersion parameter for binomial family taken to be 1)\n",
       "\n",
       "    Null deviance: 155.91  on 116  degrees of freedom\n",
       "Residual deviance: 119.03  on  99  degrees of freedom\n",
       "AIC: 155.03\n",
       "\n",
       "Number of Fisher Scoring iterations: 18\n"
      ]
     },
     "metadata": {},
     "output_type": "display_data"
    }
   ],
   "source": [
    "log_mod_n = glm(Y~s_start_age+factor(Gender)+factor(funding_indicator)+factor(Citizenship)+\n",
    "                avs_net_cost+s_SAPC1+s_SAPC2+s_SAPC3+factor(gap_indicator)+GPA_trend+s_start_year,\n",
    "                data=Nursing_df,family=\"binomial\")\n",
    "summary(log_mod_n)"
   ]
  },
  {
   "cell_type": "markdown",
   "metadata": {},
   "source": [
    "<b> Significant Variables of logistic regression model: "
   ]
  },
  {
   "cell_type": "code",
   "execution_count": 87,
   "metadata": {},
   "outputs": [
    {
     "data": {
      "text/html": [
       "<table>\n",
       "<thead><tr><th></th><th scope=col>Estimate</th><th scope=col>Pr(&gt;|z|)</th></tr></thead>\n",
       "<tbody>\n",
       "\t<tr><th scope=row>s_SAPC3</th><td> 0.99350</td><td>0.03716 </td></tr>\n",
       "\t<tr><th scope=row>s_start_year</th><td>-0.83026</td><td>0.00866 </td></tr>\n",
       "</tbody>\n",
       "</table>\n"
      ],
      "text/latex": [
       "\\begin{tabular}{r|ll}\n",
       "  & Estimate & Pr(>\\textbar{}z\\textbar{})\\\\\n",
       "\\hline\n",
       "\ts\\_SAPC3 &  0.99350 & 0.03716 \\\\\n",
       "\ts\\_start\\_year & -0.83026 & 0.00866 \\\\\n",
       "\\end{tabular}\n"
      ],
      "text/markdown": [
       "\n",
       "| <!--/--> | Estimate | Pr(>|z|) |\n",
       "|---|---|---|\n",
       "| s_SAPC3 |  0.99350 | 0.03716  |\n",
       "| s_start_year | -0.83026 | 0.00866  |\n",
       "\n"
      ],
      "text/plain": [
       "             Estimate Pr(>|z|)\n",
       "s_SAPC3       0.99350 0.03716 \n",
       "s_start_year -0.83026 0.00866 "
      ]
     },
     "metadata": {},
     "output_type": "display_data"
    }
   ],
   "source": [
    "round(summary(log_mod_n)$coeff[which(summary(log_mod_n)$coef[,4] <= .05),c(1,4)],5)"
   ]
  },
  {
   "cell_type": "markdown",
   "metadata": {},
   "source": [
    "<b> Both AIC:"
   ]
  },
  {
   "cell_type": "code",
   "execution_count": 88,
   "metadata": {},
   "outputs": [
    {
     "name": "stdout",
     "output_type": "stream",
     "text": [
      "Start:  AIC=155.03\n",
      "Y ~ s_start_age + factor(Gender) + factor(funding_indicator) + \n",
      "    factor(Citizenship) + avs_net_cost + s_SAPC1 + s_SAPC2 + \n",
      "    s_SAPC3 + factor(gap_indicator) + GPA_trend + s_start_year\n",
      "\n"
     ]
    },
    {
     "name": "stderr",
     "output_type": "stream",
     "text": [
      "Warning message:\n",
      "\"glm.fit: fitted probabilities numerically 0 or 1 occurred\"Warning message:\n",
      "\"glm.fit: fitted probabilities numerically 0 or 1 occurred\"Warning message:\n",
      "\"glm.fit: fitted probabilities numerically 0 or 1 occurred\"Warning message:\n",
      "\"glm.fit: fitted probabilities numerically 0 or 1 occurred\"Warning message:\n",
      "\"glm.fit: fitted probabilities numerically 0 or 1 occurred\"Warning message:\n",
      "\"glm.fit: fitted probabilities numerically 0 or 1 occurred\"Warning message:\n",
      "\"glm.fit: fitted probabilities numerically 0 or 1 occurred\"Warning message:\n",
      "\"glm.fit: fitted probabilities numerically 0 or 1 occurred\"Warning message:\n",
      "\"glm.fit: fitted probabilities numerically 0 or 1 occurred\"Warning message:\n",
      "\"glm.fit: fitted probabilities numerically 0 or 1 occurred\""
     ]
    },
    {
     "name": "stdout",
     "output_type": "stream",
     "text": [
      "                            Df Deviance    AIC\n",
      "- factor(Citizenship)        7   128.03 150.03\n",
      "- avs_net_cost               1   119.03 153.03\n",
      "- GPA_trend                  1   119.08 153.08\n",
      "- factor(Gender)             1   119.14 153.14\n",
      "- s_start_age                1   119.95 153.95\n",
      "- factor(gap_indicator)      1   119.97 153.97\n",
      "- factor(funding_indicator)  1   120.60 154.60\n",
      "<none>                           119.03 155.03\n",
      "- s_SAPC2                    1   121.76 155.76\n",
      "- s_SAPC3                    1   124.32 158.32\n",
      "- s_SAPC1                    1   125.42 159.42\n",
      "- s_start_year               1   128.77 162.77\n"
     ]
    },
    {
     "name": "stderr",
     "output_type": "stream",
     "text": [
      "Warning message:\n",
      "\"glm.fit: fitted probabilities numerically 0 or 1 occurred\""
     ]
    },
    {
     "name": "stdout",
     "output_type": "stream",
     "text": [
      "\n",
      "Step:  AIC=150.03\n",
      "Y ~ s_start_age + factor(Gender) + factor(funding_indicator) + \n",
      "    avs_net_cost + s_SAPC1 + s_SAPC2 + s_SAPC3 + factor(gap_indicator) + \n",
      "    GPA_trend + s_start_year\n",
      "\n"
     ]
    },
    {
     "name": "stderr",
     "output_type": "stream",
     "text": [
      "Warning message:\n",
      "\"glm.fit: fitted probabilities numerically 0 or 1 occurred\"Warning message:\n",
      "\"glm.fit: fitted probabilities numerically 0 or 1 occurred\"Warning message:\n",
      "\"glm.fit: fitted probabilities numerically 0 or 1 occurred\"Warning message:\n",
      "\"glm.fit: fitted probabilities numerically 0 or 1 occurred\"Warning message:\n",
      "\"glm.fit: fitted probabilities numerically 0 or 1 occurred\"Warning message:\n",
      "\"glm.fit: fitted probabilities numerically 0 or 1 occurred\"Warning message:\n",
      "\"glm.fit: fitted probabilities numerically 0 or 1 occurred\"Warning message:\n",
      "\"glm.fit: fitted probabilities numerically 0 or 1 occurred\"Warning message:\n",
      "\"glm.fit: fitted probabilities numerically 0 or 1 occurred\"Warning message:\n",
      "\"glm.fit: fitted probabilities numerically 0 or 1 occurred\"Warning message:\n",
      "\"glm.fit: fitted probabilities numerically 0 or 1 occurred\""
     ]
    },
    {
     "name": "stdout",
     "output_type": "stream",
     "text": [
      "                            Df Deviance    AIC\n",
      "- avs_net_cost               1   128.03 148.03\n",
      "- factor(Gender)             1   128.06 148.06\n",
      "- GPA_trend                  1   128.17 148.17\n",
      "- s_start_age                1   128.41 148.41\n",
      "- factor(funding_indicator)  1   129.71 149.71\n",
      "<none>                           128.03 150.03\n",
      "- factor(gap_indicator)      1   130.71 150.71\n",
      "- s_SAPC3                    1   131.41 151.41\n",
      "- s_SAPC2                    1   133.89 153.89\n",
      "+ factor(Citizenship)        7   119.03 155.03\n",
      "- s_SAPC1                    1   135.77 155.77\n",
      "- s_start_year               1   138.66 158.66\n"
     ]
    },
    {
     "name": "stderr",
     "output_type": "stream",
     "text": [
      "Warning message:\n",
      "\"glm.fit: fitted probabilities numerically 0 or 1 occurred\""
     ]
    },
    {
     "name": "stdout",
     "output_type": "stream",
     "text": [
      "\n",
      "Step:  AIC=148.03\n",
      "Y ~ s_start_age + factor(Gender) + factor(funding_indicator) + \n",
      "    s_SAPC1 + s_SAPC2 + s_SAPC3 + factor(gap_indicator) + GPA_trend + \n",
      "    s_start_year\n",
      "\n"
     ]
    },
    {
     "name": "stderr",
     "output_type": "stream",
     "text": [
      "Warning message:\n",
      "\"glm.fit: fitted probabilities numerically 0 or 1 occurred\"Warning message:\n",
      "\"glm.fit: fitted probabilities numerically 0 or 1 occurred\"Warning message:\n",
      "\"glm.fit: fitted probabilities numerically 0 or 1 occurred\"Warning message:\n",
      "\"glm.fit: fitted probabilities numerically 0 or 1 occurred\"Warning message:\n",
      "\"glm.fit: fitted probabilities numerically 0 or 1 occurred\"Warning message:\n",
      "\"glm.fit: fitted probabilities numerically 0 or 1 occurred\"Warning message:\n",
      "\"glm.fit: fitted probabilities numerically 0 or 1 occurred\"Warning message:\n",
      "\"glm.fit: fitted probabilities numerically 0 or 1 occurred\"Warning message:\n",
      "\"glm.fit: fitted probabilities numerically 0 or 1 occurred\"Warning message:\n",
      "\"glm.fit: fitted probabilities numerically 0 or 1 occurred\"Warning message:\n",
      "\"glm.fit: fitted probabilities numerically 0 or 1 occurred\""
     ]
    },
    {
     "name": "stdout",
     "output_type": "stream",
     "text": [
      "                            Df Deviance    AIC\n",
      "- factor(Gender)             1   128.06 146.06\n",
      "- GPA_trend                  1   128.17 146.17\n",
      "- s_start_age                1   128.41 146.41\n",
      "- factor(funding_indicator)  1   129.88 147.88\n",
      "<none>                           128.03 148.03\n",
      "- factor(gap_indicator)      1   130.71 148.71\n",
      "- s_SAPC3                    1   131.42 149.42\n",
      "+ avs_net_cost               1   128.03 150.03\n",
      "- s_SAPC2                    1   133.91 151.91\n",
      "+ factor(Citizenship)        7   119.03 153.03\n",
      "- s_SAPC1                    1   135.87 153.87\n",
      "- s_start_year               1   139.13 157.13\n"
     ]
    },
    {
     "name": "stderr",
     "output_type": "stream",
     "text": [
      "Warning message:\n",
      "\"glm.fit: fitted probabilities numerically 0 or 1 occurred\""
     ]
    },
    {
     "name": "stdout",
     "output_type": "stream",
     "text": [
      "\n",
      "Step:  AIC=146.06\n",
      "Y ~ s_start_age + factor(funding_indicator) + s_SAPC1 + s_SAPC2 + \n",
      "    s_SAPC3 + factor(gap_indicator) + GPA_trend + s_start_year\n",
      "\n"
     ]
    },
    {
     "name": "stderr",
     "output_type": "stream",
     "text": [
      "Warning message:\n",
      "\"glm.fit: fitted probabilities numerically 0 or 1 occurred\"Warning message:\n",
      "\"glm.fit: fitted probabilities numerically 0 or 1 occurred\"Warning message:\n",
      "\"glm.fit: fitted probabilities numerically 0 or 1 occurred\"Warning message:\n",
      "\"glm.fit: fitted probabilities numerically 0 or 1 occurred\"Warning message:\n",
      "\"glm.fit: fitted probabilities numerically 0 or 1 occurred\"Warning message:\n",
      "\"glm.fit: fitted probabilities numerically 0 or 1 occurred\"Warning message:\n",
      "\"glm.fit: fitted probabilities numerically 0 or 1 occurred\"Warning message:\n",
      "\"glm.fit: fitted probabilities numerically 0 or 1 occurred\"Warning message:\n",
      "\"glm.fit: fitted probabilities numerically 0 or 1 occurred\"Warning message:\n",
      "\"glm.fit: fitted probabilities numerically 0 or 1 occurred\"Warning message:\n",
      "\"glm.fit: fitted probabilities numerically 0 or 1 occurred\""
     ]
    },
    {
     "name": "stdout",
     "output_type": "stream",
     "text": [
      "                            Df Deviance    AIC\n",
      "- GPA_trend                  1   128.21 144.21\n",
      "- s_start_age                1   128.49 144.49\n",
      "- factor(funding_indicator)  1   129.92 145.92\n",
      "<none>                           128.06 146.06\n",
      "- factor(gap_indicator)      1   130.76 146.76\n",
      "- s_SAPC3                    1   131.42 147.42\n",
      "+ factor(Gender)             1   128.03 148.03\n",
      "+ avs_net_cost               1   128.06 148.06\n",
      "- s_SAPC2                    1   133.93 149.93\n",
      "+ factor(Citizenship)        7   119.15 151.15\n",
      "- s_SAPC1                    1   135.91 151.91\n",
      "- s_start_year               1   139.17 155.17\n"
     ]
    },
    {
     "name": "stderr",
     "output_type": "stream",
     "text": [
      "Warning message:\n",
      "\"glm.fit: fitted probabilities numerically 0 or 1 occurred\""
     ]
    },
    {
     "name": "stdout",
     "output_type": "stream",
     "text": [
      "\n",
      "Step:  AIC=144.21\n",
      "Y ~ s_start_age + factor(funding_indicator) + s_SAPC1 + s_SAPC2 + \n",
      "    s_SAPC3 + factor(gap_indicator) + s_start_year\n",
      "\n"
     ]
    },
    {
     "name": "stderr",
     "output_type": "stream",
     "text": [
      "Warning message:\n",
      "\"glm.fit: fitted probabilities numerically 0 or 1 occurred\"Warning message:\n",
      "\"glm.fit: fitted probabilities numerically 0 or 1 occurred\"Warning message:\n",
      "\"glm.fit: fitted probabilities numerically 0 or 1 occurred\"Warning message:\n",
      "\"glm.fit: fitted probabilities numerically 0 or 1 occurred\"Warning message:\n",
      "\"glm.fit: fitted probabilities numerically 0 or 1 occurred\"Warning message:\n",
      "\"glm.fit: fitted probabilities numerically 0 or 1 occurred\"Warning message:\n",
      "\"glm.fit: fitted probabilities numerically 0 or 1 occurred\"Warning message:\n",
      "\"glm.fit: fitted probabilities numerically 0 or 1 occurred\"Warning message:\n",
      "\"glm.fit: fitted probabilities numerically 0 or 1 occurred\"Warning message:\n",
      "\"glm.fit: fitted probabilities numerically 0 or 1 occurred\"Warning message:\n",
      "\"glm.fit: fitted probabilities numerically 0 or 1 occurred\""
     ]
    },
    {
     "name": "stdout",
     "output_type": "stream",
     "text": [
      "                            Df Deviance    AIC\n",
      "- s_start_age                1   128.58 142.58\n",
      "- factor(funding_indicator)  1   130.10 144.10\n",
      "<none>                           128.21 144.21\n",
      "- factor(gap_indicator)      1   131.09 145.09\n",
      "- s_SAPC3                    1   131.81 145.81\n",
      "+ GPA_trend                  1   128.06 146.06\n",
      "+ factor(Gender)             1   128.17 146.17\n",
      "+ avs_net_cost               1   128.21 146.21\n",
      "- s_SAPC2                    1   134.09 148.09\n",
      "+ factor(Citizenship)        7   119.21 149.21\n",
      "- s_SAPC1                    1   136.11 150.11\n",
      "- s_start_year               1   139.18 153.18\n"
     ]
    },
    {
     "name": "stderr",
     "output_type": "stream",
     "text": [
      "Warning message:\n",
      "\"glm.fit: fitted probabilities numerically 0 or 1 occurred\""
     ]
    },
    {
     "name": "stdout",
     "output_type": "stream",
     "text": [
      "\n",
      "Step:  AIC=142.58\n",
      "Y ~ factor(funding_indicator) + s_SAPC1 + s_SAPC2 + s_SAPC3 + \n",
      "    factor(gap_indicator) + s_start_year\n",
      "\n"
     ]
    },
    {
     "name": "stderr",
     "output_type": "stream",
     "text": [
      "Warning message:\n",
      "\"glm.fit: fitted probabilities numerically 0 or 1 occurred\"Warning message:\n",
      "\"glm.fit: fitted probabilities numerically 0 or 1 occurred\"Warning message:\n",
      "\"glm.fit: fitted probabilities numerically 0 or 1 occurred\"Warning message:\n",
      "\"glm.fit: fitted probabilities numerically 0 or 1 occurred\"Warning message:\n",
      "\"glm.fit: fitted probabilities numerically 0 or 1 occurred\"Warning message:\n",
      "\"glm.fit: fitted probabilities numerically 0 or 1 occurred\"Warning message:\n",
      "\"glm.fit: fitted probabilities numerically 0 or 1 occurred\"Warning message:\n",
      "\"glm.fit: fitted probabilities numerically 0 or 1 occurred\"Warning message:\n",
      "\"glm.fit: fitted probabilities numerically 0 or 1 occurred\"Warning message:\n",
      "\"glm.fit: fitted probabilities numerically 0 or 1 occurred\"Warning message:\n",
      "\"glm.fit: fitted probabilities numerically 0 or 1 occurred\""
     ]
    },
    {
     "name": "stdout",
     "output_type": "stream",
     "text": [
      "                            Df Deviance    AIC\n",
      "<none>                           128.58 142.58\n",
      "- factor(funding_indicator)  1   131.26 143.26\n",
      "- factor(gap_indicator)      1   131.28 143.28\n",
      "- s_SAPC3                    1   132.02 144.02\n",
      "+ s_start_age                1   128.21 144.21\n",
      "+ GPA_trend                  1   128.49 144.49\n",
      "+ factor(Gender)             1   128.50 144.50\n",
      "+ avs_net_cost               1   128.58 144.58\n",
      "- s_SAPC2                    1   135.52 147.52\n",
      "+ factor(Citizenship)        7   120.20 148.20\n",
      "- s_SAPC1                    1   136.56 148.56\n",
      "- s_start_year               1   139.28 151.28\n"
     ]
    }
   ],
   "source": [
    "log_mod_n_aic= stepAIC(log_mod_n, direction = 'both')"
   ]
  },
  {
   "cell_type": "markdown",
   "metadata": {},
   "source": [
    "<b> Significant variables both AIC selects:"
   ]
  },
  {
   "cell_type": "code",
   "execution_count": 89,
   "metadata": {},
   "outputs": [
    {
     "data": {
      "text/html": [
       "<dl class=dl-horizontal>\n",
       "\t<dt>Estimate</dt>\n",
       "\t\t<dd>-0.77205</dd>\n",
       "\t<dt>Pr(&gt;|z|)</dt>\n",
       "\t\t<dd>0.00543</dd>\n",
       "</dl>\n"
      ],
      "text/latex": [
       "\\begin{description*}\n",
       "\\item[Estimate] -0.77205\n",
       "\\item[Pr(>\\textbackslash{}textbar\\{\\}z\\textbackslash{}textbar\\{\\})] 0.00543\n",
       "\\end{description*}\n"
      ],
      "text/markdown": [
       "Estimate\n",
       ":   -0.77205Pr(&amp;gt;|z|)\n",
       ":   0.00543\n",
       "\n"
      ],
      "text/plain": [
       "Estimate Pr(>|z|) \n",
       "-0.77205  0.00543 "
      ]
     },
     "metadata": {},
     "output_type": "display_data"
    },
    {
     "data": {
      "text/plain": [
       "\n",
       "Call:\n",
       "glm(formula = Y ~ factor(funding_indicator) + s_SAPC1 + s_SAPC2 + \n",
       "    s_SAPC3 + factor(gap_indicator) + s_start_year, family = \"binomial\", \n",
       "    data = Nursing_df)\n",
       "\n",
       "Deviance Residuals: \n",
       "    Min       1Q   Median       3Q      Max  \n",
       "-2.2979  -0.9952   0.3440   0.9610   1.5477  \n",
       "\n",
       "Coefficients:\n",
       "                             Estimate Std. Error z value Pr(>|z|)   \n",
       "(Intercept)                    0.2015     0.3162   0.637  0.52391   \n",
       "factor(funding_indicator)1     0.7348     0.4557   1.613  0.10682   \n",
       "s_SAPC1                        9.8789     9.9168   0.996  0.31916   \n",
       "s_SAPC2                      139.6578 11823.3082   0.012  0.99058   \n",
       "s_SAPC3                        0.6940     0.3945   1.759  0.07857 . \n",
       "factor(gap_indicator)1         1.1302     0.7138   1.583  0.11332   \n",
       "s_start_year                  -0.7720     0.2777  -2.781  0.00543 **\n",
       "---\n",
       "Signif. codes:  0 '***' 0.001 '**' 0.01 '*' 0.05 '.' 0.1 ' ' 1\n",
       "\n",
       "(Dispersion parameter for binomial family taken to be 1)\n",
       "\n",
       "    Null deviance: 155.91  on 116  degrees of freedom\n",
       "Residual deviance: 128.58  on 110  degrees of freedom\n",
       "AIC: 142.58\n",
       "\n",
       "Number of Fisher Scoring iterations: 18\n"
      ]
     },
     "metadata": {},
     "output_type": "display_data"
    }
   ],
   "source": [
    "round(summary(log_mod_n_aic)$coeff[which(summary(log_mod_n_aic)$coef[,4] <= .05),c(1,4)],5)\n",
    "summary(log_mod_n_aic)"
   ]
  },
  {
   "cell_type": "markdown",
   "metadata": {},
   "source": [
    "<b> Both BIC:"
   ]
  },
  {
   "cell_type": "code",
   "execution_count": 90,
   "metadata": {},
   "outputs": [
    {
     "name": "stdout",
     "output_type": "stream",
     "text": [
      "Start:  AIC=204.75\n",
      "Y ~ s_start_age + factor(Gender) + factor(funding_indicator) + \n",
      "    factor(Citizenship) + avs_net_cost + s_SAPC1 + s_SAPC2 + \n",
      "    s_SAPC3 + factor(gap_indicator) + GPA_trend + s_start_year\n",
      "\n"
     ]
    },
    {
     "name": "stderr",
     "output_type": "stream",
     "text": [
      "Warning message:\n",
      "\"glm.fit: fitted probabilities numerically 0 or 1 occurred\"Warning message:\n",
      "\"glm.fit: fitted probabilities numerically 0 or 1 occurred\"Warning message:\n",
      "\"glm.fit: fitted probabilities numerically 0 or 1 occurred\"Warning message:\n",
      "\"glm.fit: fitted probabilities numerically 0 or 1 occurred\"Warning message:\n",
      "\"glm.fit: fitted probabilities numerically 0 or 1 occurred\"Warning message:\n",
      "\"glm.fit: fitted probabilities numerically 0 or 1 occurred\"Warning message:\n",
      "\"glm.fit: fitted probabilities numerically 0 or 1 occurred\"Warning message:\n",
      "\"glm.fit: fitted probabilities numerically 0 or 1 occurred\"Warning message:\n",
      "\"glm.fit: fitted probabilities numerically 0 or 1 occurred\"Warning message:\n",
      "\"glm.fit: fitted probabilities numerically 0 or 1 occurred\""
     ]
    },
    {
     "name": "stdout",
     "output_type": "stream",
     "text": [
      "                            Df Deviance    AIC\n",
      "- factor(Citizenship)        7   128.03 180.41\n",
      "- avs_net_cost               1   119.03 199.98\n",
      "- GPA_trend                  1   119.08 200.03\n",
      "- factor(Gender)             1   119.14 200.10\n",
      "- s_start_age                1   119.95 200.91\n",
      "- factor(gap_indicator)      1   119.97 200.92\n",
      "- factor(funding_indicator)  1   120.60 201.56\n",
      "- s_SAPC2                    1   121.76 202.71\n",
      "<none>                           119.03 204.75\n",
      "- s_SAPC3                    1   124.32 205.28\n",
      "- s_SAPC1                    1   125.42 206.38\n",
      "- s_start_year               1   128.77 209.73\n"
     ]
    },
    {
     "name": "stderr",
     "output_type": "stream",
     "text": [
      "Warning message:\n",
      "\"glm.fit: fitted probabilities numerically 0 or 1 occurred\""
     ]
    },
    {
     "name": "stdout",
     "output_type": "stream",
     "text": [
      "\n",
      "Step:  AIC=180.41\n",
      "Y ~ s_start_age + factor(Gender) + factor(funding_indicator) + \n",
      "    avs_net_cost + s_SAPC1 + s_SAPC2 + s_SAPC3 + factor(gap_indicator) + \n",
      "    GPA_trend + s_start_year\n",
      "\n"
     ]
    },
    {
     "name": "stderr",
     "output_type": "stream",
     "text": [
      "Warning message:\n",
      "\"glm.fit: fitted probabilities numerically 0 or 1 occurred\"Warning message:\n",
      "\"glm.fit: fitted probabilities numerically 0 or 1 occurred\"Warning message:\n",
      "\"glm.fit: fitted probabilities numerically 0 or 1 occurred\"Warning message:\n",
      "\"glm.fit: fitted probabilities numerically 0 or 1 occurred\"Warning message:\n",
      "\"glm.fit: fitted probabilities numerically 0 or 1 occurred\"Warning message:\n",
      "\"glm.fit: fitted probabilities numerically 0 or 1 occurred\"Warning message:\n",
      "\"glm.fit: fitted probabilities numerically 0 or 1 occurred\"Warning message:\n",
      "\"glm.fit: fitted probabilities numerically 0 or 1 occurred\"Warning message:\n",
      "\"glm.fit: fitted probabilities numerically 0 or 1 occurred\"Warning message:\n",
      "\"glm.fit: fitted probabilities numerically 0 or 1 occurred\"Warning message:\n",
      "\"glm.fit: fitted probabilities numerically 0 or 1 occurred\""
     ]
    },
    {
     "name": "stdout",
     "output_type": "stream",
     "text": [
      "                            Df Deviance    AIC\n",
      "- avs_net_cost               1   128.03 175.65\n",
      "- factor(Gender)             1   128.06 175.68\n",
      "- GPA_trend                  1   128.17 175.79\n",
      "- s_start_age                1   128.41 176.03\n",
      "- factor(funding_indicator)  1   129.71 177.33\n",
      "- factor(gap_indicator)      1   130.71 178.33\n",
      "- s_SAPC3                    1   131.41 179.03\n",
      "<none>                           128.03 180.41\n",
      "- s_SAPC2                    1   133.89 181.51\n",
      "- s_SAPC1                    1   135.77 183.39\n",
      "- s_start_year               1   138.66 186.28\n",
      "+ factor(Citizenship)        7   119.03 204.75\n"
     ]
    },
    {
     "name": "stderr",
     "output_type": "stream",
     "text": [
      "Warning message:\n",
      "\"glm.fit: fitted probabilities numerically 0 or 1 occurred\""
     ]
    },
    {
     "name": "stdout",
     "output_type": "stream",
     "text": [
      "\n",
      "Step:  AIC=175.65\n",
      "Y ~ s_start_age + factor(Gender) + factor(funding_indicator) + \n",
      "    s_SAPC1 + s_SAPC2 + s_SAPC3 + factor(gap_indicator) + GPA_trend + \n",
      "    s_start_year\n",
      "\n"
     ]
    },
    {
     "name": "stderr",
     "output_type": "stream",
     "text": [
      "Warning message:\n",
      "\"glm.fit: fitted probabilities numerically 0 or 1 occurred\"Warning message:\n",
      "\"glm.fit: fitted probabilities numerically 0 or 1 occurred\"Warning message:\n",
      "\"glm.fit: fitted probabilities numerically 0 or 1 occurred\"Warning message:\n",
      "\"glm.fit: fitted probabilities numerically 0 or 1 occurred\"Warning message:\n",
      "\"glm.fit: fitted probabilities numerically 0 or 1 occurred\"Warning message:\n",
      "\"glm.fit: fitted probabilities numerically 0 or 1 occurred\"Warning message:\n",
      "\"glm.fit: fitted probabilities numerically 0 or 1 occurred\"Warning message:\n",
      "\"glm.fit: fitted probabilities numerically 0 or 1 occurred\"Warning message:\n",
      "\"glm.fit: fitted probabilities numerically 0 or 1 occurred\"Warning message:\n",
      "\"glm.fit: fitted probabilities numerically 0 or 1 occurred\"Warning message:\n",
      "\"glm.fit: fitted probabilities numerically 0 or 1 occurred\""
     ]
    },
    {
     "name": "stdout",
     "output_type": "stream",
     "text": [
      "                            Df Deviance    AIC\n",
      "- factor(Gender)             1   128.06 170.92\n",
      "- GPA_trend                  1   128.17 171.03\n",
      "- s_start_age                1   128.41 171.27\n",
      "- factor(funding_indicator)  1   129.88 172.73\n",
      "- factor(gap_indicator)      1   130.71 173.57\n",
      "- s_SAPC3                    1   131.42 174.28\n",
      "<none>                           128.03 175.65\n",
      "- s_SAPC2                    1   133.91 176.77\n",
      "- s_SAPC1                    1   135.87 178.73\n",
      "+ avs_net_cost               1   128.03 180.41\n",
      "- s_start_year               1   139.13 181.99\n",
      "+ factor(Citizenship)        7   119.03 199.98\n"
     ]
    },
    {
     "name": "stderr",
     "output_type": "stream",
     "text": [
      "Warning message:\n",
      "\"glm.fit: fitted probabilities numerically 0 or 1 occurred\""
     ]
    },
    {
     "name": "stdout",
     "output_type": "stream",
     "text": [
      "\n",
      "Step:  AIC=170.92\n",
      "Y ~ s_start_age + factor(funding_indicator) + s_SAPC1 + s_SAPC2 + \n",
      "    s_SAPC3 + factor(gap_indicator) + GPA_trend + s_start_year\n",
      "\n"
     ]
    },
    {
     "name": "stderr",
     "output_type": "stream",
     "text": [
      "Warning message:\n",
      "\"glm.fit: fitted probabilities numerically 0 or 1 occurred\"Warning message:\n",
      "\"glm.fit: fitted probabilities numerically 0 or 1 occurred\"Warning message:\n",
      "\"glm.fit: fitted probabilities numerically 0 or 1 occurred\"Warning message:\n",
      "\"glm.fit: fitted probabilities numerically 0 or 1 occurred\"Warning message:\n",
      "\"glm.fit: fitted probabilities numerically 0 or 1 occurred\"Warning message:\n",
      "\"glm.fit: fitted probabilities numerically 0 or 1 occurred\"Warning message:\n",
      "\"glm.fit: fitted probabilities numerically 0 or 1 occurred\"Warning message:\n",
      "\"glm.fit: fitted probabilities numerically 0 or 1 occurred\"Warning message:\n",
      "\"glm.fit: fitted probabilities numerically 0 or 1 occurred\"Warning message:\n",
      "\"glm.fit: fitted probabilities numerically 0 or 1 occurred\"Warning message:\n",
      "\"glm.fit: fitted probabilities numerically 0 or 1 occurred\""
     ]
    },
    {
     "name": "stdout",
     "output_type": "stream",
     "text": [
      "                            Df Deviance    AIC\n",
      "- GPA_trend                  1   128.21 166.30\n",
      "- s_start_age                1   128.49 166.58\n",
      "- factor(funding_indicator)  1   129.92 168.01\n",
      "- factor(gap_indicator)      1   130.76 168.86\n",
      "- s_SAPC3                    1   131.42 169.52\n",
      "<none>                           128.06 170.92\n",
      "- s_SAPC2                    1   133.93 172.03\n",
      "- s_SAPC1                    1   135.91 174.00\n",
      "+ factor(Gender)             1   128.03 175.65\n",
      "+ avs_net_cost               1   128.06 175.68\n",
      "- s_start_year               1   139.17 177.27\n",
      "+ factor(Citizenship)        7   119.15 195.34\n"
     ]
    },
    {
     "name": "stderr",
     "output_type": "stream",
     "text": [
      "Warning message:\n",
      "\"glm.fit: fitted probabilities numerically 0 or 1 occurred\""
     ]
    },
    {
     "name": "stdout",
     "output_type": "stream",
     "text": [
      "\n",
      "Step:  AIC=166.3\n",
      "Y ~ s_start_age + factor(funding_indicator) + s_SAPC1 + s_SAPC2 + \n",
      "    s_SAPC3 + factor(gap_indicator) + s_start_year\n",
      "\n"
     ]
    },
    {
     "name": "stderr",
     "output_type": "stream",
     "text": [
      "Warning message:\n",
      "\"glm.fit: fitted probabilities numerically 0 or 1 occurred\"Warning message:\n",
      "\"glm.fit: fitted probabilities numerically 0 or 1 occurred\"Warning message:\n",
      "\"glm.fit: fitted probabilities numerically 0 or 1 occurred\"Warning message:\n",
      "\"glm.fit: fitted probabilities numerically 0 or 1 occurred\"Warning message:\n",
      "\"glm.fit: fitted probabilities numerically 0 or 1 occurred\"Warning message:\n",
      "\"glm.fit: fitted probabilities numerically 0 or 1 occurred\"Warning message:\n",
      "\"glm.fit: fitted probabilities numerically 0 or 1 occurred\"Warning message:\n",
      "\"glm.fit: fitted probabilities numerically 0 or 1 occurred\"Warning message:\n",
      "\"glm.fit: fitted probabilities numerically 0 or 1 occurred\"Warning message:\n",
      "\"glm.fit: fitted probabilities numerically 0 or 1 occurred\"Warning message:\n",
      "\"glm.fit: fitted probabilities numerically 0 or 1 occurred\""
     ]
    },
    {
     "name": "stdout",
     "output_type": "stream",
     "text": [
      "                            Df Deviance    AIC\n",
      "- s_start_age                1   128.58 161.92\n",
      "- factor(funding_indicator)  1   130.10 163.44\n",
      "- factor(gap_indicator)      1   131.09 164.43\n",
      "- s_SAPC3                    1   131.81 165.14\n",
      "<none>                           128.21 166.30\n",
      "- s_SAPC2                    1   134.09 167.42\n",
      "- s_SAPC1                    1   136.11 169.45\n",
      "+ GPA_trend                  1   128.06 170.92\n",
      "+ factor(Gender)             1   128.17 171.03\n",
      "+ avs_net_cost               1   128.21 171.06\n",
      "- s_start_year               1   139.18 172.51\n",
      "+ factor(Citizenship)        7   119.21 190.64\n"
     ]
    },
    {
     "name": "stderr",
     "output_type": "stream",
     "text": [
      "Warning message:\n",
      "\"glm.fit: fitted probabilities numerically 0 or 1 occurred\""
     ]
    },
    {
     "name": "stdout",
     "output_type": "stream",
     "text": [
      "\n",
      "Step:  AIC=161.92\n",
      "Y ~ factor(funding_indicator) + s_SAPC1 + s_SAPC2 + s_SAPC3 + \n",
      "    factor(gap_indicator) + s_start_year\n",
      "\n"
     ]
    },
    {
     "name": "stderr",
     "output_type": "stream",
     "text": [
      "Warning message:\n",
      "\"glm.fit: fitted probabilities numerically 0 or 1 occurred\"Warning message:\n",
      "\"glm.fit: fitted probabilities numerically 0 or 1 occurred\"Warning message:\n",
      "\"glm.fit: fitted probabilities numerically 0 or 1 occurred\"Warning message:\n",
      "\"glm.fit: fitted probabilities numerically 0 or 1 occurred\"Warning message:\n",
      "\"glm.fit: fitted probabilities numerically 0 or 1 occurred\"Warning message:\n",
      "\"glm.fit: fitted probabilities numerically 0 or 1 occurred\"Warning message:\n",
      "\"glm.fit: fitted probabilities numerically 0 or 1 occurred\"Warning message:\n",
      "\"glm.fit: fitted probabilities numerically 0 or 1 occurred\"Warning message:\n",
      "\"glm.fit: fitted probabilities numerically 0 or 1 occurred\"Warning message:\n",
      "\"glm.fit: fitted probabilities numerically 0 or 1 occurred\"Warning message:\n",
      "\"glm.fit: fitted probabilities numerically 0 or 1 occurred\""
     ]
    },
    {
     "name": "stdout",
     "output_type": "stream",
     "text": [
      "                            Df Deviance    AIC\n",
      "- factor(funding_indicator)  1   131.26 159.83\n",
      "- factor(gap_indicator)      1   131.28 159.86\n",
      "- s_SAPC3                    1   132.02 160.59\n",
      "<none>                           128.58 161.92\n",
      "- s_SAPC2                    1   135.52 164.10\n",
      "- s_SAPC1                    1   136.56 165.14\n",
      "+ s_start_age                1   128.21 166.30\n",
      "+ GPA_trend                  1   128.49 166.58\n",
      "+ factor(Gender)             1   128.50 166.60\n",
      "+ avs_net_cost               1   128.58 166.68\n",
      "- s_start_year               1   139.28 167.85\n",
      "+ factor(Citizenship)        7   120.20 186.87\n"
     ]
    },
    {
     "name": "stderr",
     "output_type": "stream",
     "text": [
      "Warning message:\n",
      "\"glm.fit: fitted probabilities numerically 0 or 1 occurred\""
     ]
    },
    {
     "name": "stdout",
     "output_type": "stream",
     "text": [
      "\n",
      "Step:  AIC=159.83\n",
      "Y ~ s_SAPC1 + s_SAPC2 + s_SAPC3 + factor(gap_indicator) + s_start_year\n",
      "\n"
     ]
    },
    {
     "name": "stderr",
     "output_type": "stream",
     "text": [
      "Warning message:\n",
      "\"glm.fit: fitted probabilities numerically 0 or 1 occurred\"Warning message:\n",
      "\"glm.fit: fitted probabilities numerically 0 or 1 occurred\"Warning message:\n",
      "\"glm.fit: fitted probabilities numerically 0 or 1 occurred\"Warning message:\n",
      "\"glm.fit: fitted probabilities numerically 0 or 1 occurred\"Warning message:\n",
      "\"glm.fit: fitted probabilities numerically 0 or 1 occurred\"Warning message:\n",
      "\"glm.fit: fitted probabilities numerically 0 or 1 occurred\"Warning message:\n",
      "\"glm.fit: fitted probabilities numerically 0 or 1 occurred\"Warning message:\n",
      "\"glm.fit: fitted probabilities numerically 0 or 1 occurred\"Warning message:\n",
      "\"glm.fit: fitted probabilities numerically 0 or 1 occurred\"Warning message:\n",
      "\"glm.fit: fitted probabilities numerically 0 or 1 occurred\"Warning message:\n",
      "\"glm.fit: fitted probabilities numerically 0 or 1 occurred\""
     ]
    },
    {
     "name": "stdout",
     "output_type": "stream",
     "text": [
      "                            Df Deviance    AIC\n",
      "- factor(gap_indicator)      1   132.82 156.63\n",
      "- s_SAPC3                    1   134.46 158.27\n",
      "<none>                           131.26 159.83\n",
      "+ factor(funding_indicator)  1   128.58 161.92\n",
      "- s_SAPC2                    1   138.14 161.95\n",
      "+ s_start_age                1   130.10 163.44\n",
      "- s_SAPC1                    1   139.63 163.44\n",
      "+ avs_net_cost               1   131.04 164.37\n",
      "+ factor(Gender)             1   131.09 164.43\n",
      "+ GPA_trend                  1   131.16 164.49\n",
      "- s_start_year               1   141.11 164.92\n",
      "+ factor(Citizenship)        7   123.19 185.10\n"
     ]
    },
    {
     "name": "stderr",
     "output_type": "stream",
     "text": [
      "Warning message:\n",
      "\"glm.fit: fitted probabilities numerically 0 or 1 occurred\""
     ]
    },
    {
     "name": "stdout",
     "output_type": "stream",
     "text": [
      "\n",
      "Step:  AIC=156.64\n",
      "Y ~ s_SAPC1 + s_SAPC2 + s_SAPC3 + s_start_year\n",
      "\n"
     ]
    },
    {
     "name": "stderr",
     "output_type": "stream",
     "text": [
      "Warning message:\n",
      "\"glm.fit: fitted probabilities numerically 0 or 1 occurred\"Warning message:\n",
      "\"glm.fit: fitted probabilities numerically 0 or 1 occurred\"Warning message:\n",
      "\"glm.fit: fitted probabilities numerically 0 or 1 occurred\"Warning message:\n",
      "\"glm.fit: fitted probabilities numerically 0 or 1 occurred\"Warning message:\n",
      "\"glm.fit: fitted probabilities numerically 0 or 1 occurred\"Warning message:\n",
      "\"glm.fit: fitted probabilities numerically 0 or 1 occurred\"Warning message:\n",
      "\"glm.fit: fitted probabilities numerically 0 or 1 occurred\"Warning message:\n",
      "\"glm.fit: fitted probabilities numerically 0 or 1 occurred\"Warning message:\n",
      "\"glm.fit: fitted probabilities numerically 0 or 1 occurred\"Warning message:\n",
      "\"glm.fit: fitted probabilities numerically 0 or 1 occurred\"Warning message:\n",
      "\"glm.fit: fitted probabilities numerically 0 or 1 occurred\""
     ]
    },
    {
     "name": "stdout",
     "output_type": "stream",
     "text": [
      "                            Df Deviance    AIC\n",
      "- s_SAPC3                    1   136.03 155.08\n",
      "<none>                           132.82 156.63\n",
      "- s_SAPC2                    1   139.67 158.72\n",
      "+ factor(gap_indicator)      1   131.26 159.83\n",
      "+ factor(funding_indicator)  1   131.28 159.86\n",
      "- s_SAPC1                    1   141.23 160.28\n",
      "+ s_start_age                1   132.15 160.73\n",
      "+ GPA_trend                  1   132.58 161.16\n",
      "+ avs_net_cost               1   132.66 161.23\n",
      "+ factor(Gender)             1   132.66 161.24\n",
      "- s_start_year               1   142.59 161.64\n",
      "+ factor(Citizenship)        7   123.45 180.60\n"
     ]
    },
    {
     "name": "stderr",
     "output_type": "stream",
     "text": [
      "Warning message:\n",
      "\"glm.fit: fitted probabilities numerically 0 or 1 occurred\""
     ]
    },
    {
     "name": "stdout",
     "output_type": "stream",
     "text": [
      "\n",
      "Step:  AIC=155.08\n",
      "Y ~ s_SAPC1 + s_SAPC2 + s_start_year\n",
      "\n"
     ]
    },
    {
     "name": "stderr",
     "output_type": "stream",
     "text": [
      "Warning message:\n",
      "\"glm.fit: fitted probabilities numerically 0 or 1 occurred\"Warning message:\n",
      "\"glm.fit: fitted probabilities numerically 0 or 1 occurred\"Warning message:\n",
      "\"glm.fit: fitted probabilities numerically 0 or 1 occurred\"Warning message:\n",
      "\"glm.fit: fitted probabilities numerically 0 or 1 occurred\"Warning message:\n",
      "\"glm.fit: fitted probabilities numerically 0 or 1 occurred\"Warning message:\n",
      "\"glm.fit: fitted probabilities numerically 0 or 1 occurred\"Warning message:\n",
      "\"glm.fit: fitted probabilities numerically 0 or 1 occurred\"Warning message:\n",
      "\"glm.fit: fitted probabilities numerically 0 or 1 occurred\"Warning message:\n",
      "\"glm.fit: fitted probabilities numerically 0 or 1 occurred\"Warning message:\n",
      "\"glm.fit: fitted probabilities numerically 0 or 1 occurred\"Warning message:\n",
      "\"glm.fit: fitted probabilities numerically 0 or 1 occurred\""
     ]
    },
    {
     "name": "stdout",
     "output_type": "stream",
     "text": [
      "                            Df Deviance    AIC\n",
      "<none>                           136.03 155.08\n",
      "- s_SAPC1                    1   141.87 156.16\n",
      "+ s_SAPC3                    1   132.82 156.63\n",
      "- s_SAPC2                    1   142.38 156.66\n",
      "+ factor(gap_indicator)      1   134.46 158.27\n",
      "+ factor(funding_indicator)  1   134.65 158.46\n",
      "+ GPA_trend                  1   135.47 159.28\n",
      "+ s_start_age                1   135.60 159.41\n",
      "+ avs_net_cost               1   135.94 159.75\n",
      "+ factor(Gender)             1   135.97 159.78\n",
      "- s_start_year               1   146.79 161.07\n",
      "+ factor(Citizenship)        7   128.44 180.83\n"
     ]
    }
   ],
   "source": [
    "log_mod_n_bic = stepAIC(log_mod_n, direction = \"both\", k = log(d_n))"
   ]
  },
  {
   "cell_type": "markdown",
   "metadata": {},
   "source": [
    "<b> Significant variables both BIC selects:"
   ]
  },
  {
   "cell_type": "code",
   "execution_count": 91,
   "metadata": {},
   "outputs": [
    {
     "data": {
      "text/html": [
       "<table>\n",
       "<thead><tr><th></th><th scope=col>Estimate</th><th scope=col>Pr(&gt;|z|)</th></tr></thead>\n",
       "<tbody>\n",
       "\t<tr><th scope=row>(Intercept)</th><td> 0.62282</td><td>0.01068 </td></tr>\n",
       "\t<tr><th scope=row>s_start_year</th><td>-0.74070</td><td>0.00545 </td></tr>\n",
       "</tbody>\n",
       "</table>\n"
      ],
      "text/latex": [
       "\\begin{tabular}{r|ll}\n",
       "  & Estimate & Pr(>\\textbar{}z\\textbar{})\\\\\n",
       "\\hline\n",
       "\t(Intercept) &  0.62282 & 0.01068 \\\\\n",
       "\ts\\_start\\_year & -0.74070 & 0.00545 \\\\\n",
       "\\end{tabular}\n"
      ],
      "text/markdown": [
       "\n",
       "| <!--/--> | Estimate | Pr(>|z|) |\n",
       "|---|---|---|\n",
       "| (Intercept) |  0.62282 | 0.01068  |\n",
       "| s_start_year | -0.74070 | 0.00545  |\n",
       "\n"
      ],
      "text/plain": [
       "             Estimate Pr(>|z|)\n",
       "(Intercept)   0.62282 0.01068 \n",
       "s_start_year -0.74070 0.00545 "
      ]
     },
     "metadata": {},
     "output_type": "display_data"
    }
   ],
   "source": [
    "round(summary(log_mod_n_bic)$coeff[which(summary(log_mod_n_bic)$coef[,4] <= .05),c(1,4)],5)"
   ]
  },
  {
   "cell_type": "markdown",
   "metadata": {},
   "source": [
    "# Watson Analysis "
   ]
  },
  {
   "cell_type": "markdown",
   "metadata": {},
   "source": [
    "<b> Logistic regression model:"
   ]
  },
  {
   "cell_type": "code",
   "execution_count": 92,
   "metadata": {},
   "outputs": [
    {
     "data": {
      "text/plain": [
       "\n",
       "Call:\n",
       "glm(formula = Y ~ s_start_age + factor(Gender) + factor(funding_indicator) + \n",
       "    factor(Citizenship) + avs_net_cost + s_SAPC1 + s_SAPC2 + \n",
       "    s_SAPC3 + factor(gap_indicator) + GPA_trend + s_start_year, \n",
       "    family = \"binomial\", data = Watson_df)\n",
       "\n",
       "Deviance Residuals: \n",
       "    Min       1Q   Median       3Q      Max  \n",
       "-2.8214  -0.8256   0.4993   0.7949   1.8283  \n",
       "\n",
       "Coefficients:\n",
       "                                                 Estimate Std. Error z value\n",
       "(Intercept)                                      -1.01862    0.39736  -2.563\n",
       "s_start_age                                      -0.05547    0.14288  -0.388\n",
       "factor(Gender)Male                                0.33420    0.27550   1.213\n",
       "factor(funding_indicator)1                        1.93264    0.30274   6.384\n",
       "factor(Citizenship)Africa                        15.29114  530.91526   0.029\n",
       "factor(Citizenship)Asia                           0.78398    0.36854   2.127\n",
       "factor(Citizenship)Asian                         -0.06487    0.51701  -0.125\n",
       "factor(Citizenship)Black or African American     -0.37609    0.67589  -0.556\n",
       "factor(Citizenship)China                          0.30523    0.35842   0.852\n",
       "factor(Citizenship)Europe                         0.03072    0.84542   0.036\n",
       "factor(Citizenship)Hispanic or Latino             2.58197    1.36032   1.898\n",
       "factor(Citizenship)India                          0.03278    0.39098   0.084\n",
       "factor(Citizenship)Other International Students   0.58838    1.57221   0.374\n",
       "factor(Citizenship)Unknown                       -0.27797    0.46573  -0.597\n",
       "avs_net_cost                                      0.36128    0.14886   2.427\n",
       "s_SAPC1                                           0.92067    0.68889   1.336\n",
       "s_SAPC2                                          -0.19463    0.11357  -1.714\n",
       "s_SAPC3                                           0.27980    0.13772   2.032\n",
       "factor(gap_indicator)1                            0.29798    0.32791   0.909\n",
       "GPA_trend                                         1.04305    0.62839   1.660\n",
       "s_start_year                                     -0.97430    0.16665  -5.847\n",
       "                                                Pr(>|z|)    \n",
       "(Intercept)                                       0.0104 *  \n",
       "s_start_age                                       0.6979    \n",
       "factor(Gender)Male                                0.2251    \n",
       "factor(funding_indicator)1                      1.73e-10 ***\n",
       "factor(Citizenship)Africa                         0.9770    \n",
       "factor(Citizenship)Asia                           0.0334 *  \n",
       "factor(Citizenship)Asian                          0.9001    \n",
       "factor(Citizenship)Black or African American      0.5779    \n",
       "factor(Citizenship)China                          0.3944    \n",
       "factor(Citizenship)Europe                         0.9710    \n",
       "factor(Citizenship)Hispanic or Latino             0.0577 .  \n",
       "factor(Citizenship)India                          0.9332    \n",
       "factor(Citizenship)Other International Students   0.7082    \n",
       "factor(Citizenship)Unknown                        0.5506    \n",
       "avs_net_cost                                      0.0152 *  \n",
       "s_SAPC1                                           0.1814    \n",
       "s_SAPC2                                           0.0866 .  \n",
       "s_SAPC3                                           0.0422 *  \n",
       "factor(gap_indicator)1                            0.3635    \n",
       "GPA_trend                                         0.0969 .  \n",
       "s_start_year                                    5.02e-09 ***\n",
       "---\n",
       "Signif. codes:  0 '***' 0.001 '**' 0.01 '*' 0.05 '.' 0.1 ' ' 1\n",
       "\n",
       "(Dispersion parameter for binomial family taken to be 1)\n",
       "\n",
       "    Null deviance: 656.07  on 514  degrees of freedom\n",
       "Residual deviance: 520.15  on 494  degrees of freedom\n",
       "AIC: 562.15\n",
       "\n",
       "Number of Fisher Scoring iterations: 14\n"
      ]
     },
     "metadata": {},
     "output_type": "display_data"
    }
   ],
   "source": [
    "log_mod_w = glm(Y~s_start_age+factor(Gender)+factor(funding_indicator)+factor(Citizenship)+\n",
    "                avs_net_cost+s_SAPC1+s_SAPC2+s_SAPC3+factor(gap_indicator)+GPA_trend+s_start_year,\n",
    "                data=Watson_df,family=\"binomial\")\n",
    "summary(log_mod_w)"
   ]
  },
  {
   "cell_type": "markdown",
   "metadata": {},
   "source": [
    "<b> Significant Variables of logistic regression model:"
   ]
  },
  {
   "cell_type": "code",
   "execution_count": 93,
   "metadata": {},
   "outputs": [
    {
     "data": {
      "text/html": [
       "<table>\n",
       "<thead><tr><th></th><th scope=col>Estimate</th><th scope=col>Pr(&gt;|z|)</th></tr></thead>\n",
       "<tbody>\n",
       "\t<tr><th scope=row>(Intercept)</th><td>-1.01862</td><td>0.01036 </td></tr>\n",
       "\t<tr><th scope=row>factor(funding_indicator)1</th><td> 1.93264</td><td>0.00000 </td></tr>\n",
       "\t<tr><th scope=row>factor(Citizenship)Asia</th><td> 0.78398</td><td>0.03340 </td></tr>\n",
       "\t<tr><th scope=row>avs_net_cost</th><td> 0.36128</td><td>0.01522 </td></tr>\n",
       "\t<tr><th scope=row>s_SAPC3</th><td> 0.27980</td><td>0.04219 </td></tr>\n",
       "\t<tr><th scope=row>s_start_year</th><td>-0.97430</td><td>0.00000 </td></tr>\n",
       "</tbody>\n",
       "</table>\n"
      ],
      "text/latex": [
       "\\begin{tabular}{r|ll}\n",
       "  & Estimate & Pr(>\\textbar{}z\\textbar{})\\\\\n",
       "\\hline\n",
       "\t(Intercept) & -1.01862 & 0.01036 \\\\\n",
       "\tfactor(funding\\_indicator)1 &  1.93264 & 0.00000 \\\\\n",
       "\tfactor(Citizenship)Asia &  0.78398 & 0.03340 \\\\\n",
       "\tavs\\_net\\_cost &  0.36128 & 0.01522 \\\\\n",
       "\ts\\_SAPC3 &  0.27980 & 0.04219 \\\\\n",
       "\ts\\_start\\_year & -0.97430 & 0.00000 \\\\\n",
       "\\end{tabular}\n"
      ],
      "text/markdown": [
       "\n",
       "| <!--/--> | Estimate | Pr(>|z|) |\n",
       "|---|---|---|\n",
       "| (Intercept) | -1.01862 | 0.01036  |\n",
       "| factor(funding_indicator)1 |  1.93264 | 0.00000  |\n",
       "| factor(Citizenship)Asia |  0.78398 | 0.03340  |\n",
       "| avs_net_cost |  0.36128 | 0.01522  |\n",
       "| s_SAPC3 |  0.27980 | 0.04219  |\n",
       "| s_start_year | -0.97430 | 0.00000  |\n",
       "\n"
      ],
      "text/plain": [
       "                           Estimate Pr(>|z|)\n",
       "(Intercept)                -1.01862 0.01036 \n",
       "factor(funding_indicator)1  1.93264 0.00000 \n",
       "factor(Citizenship)Asia     0.78398 0.03340 \n",
       "avs_net_cost                0.36128 0.01522 \n",
       "s_SAPC3                     0.27980 0.04219 \n",
       "s_start_year               -0.97430 0.00000 "
      ]
     },
     "metadata": {},
     "output_type": "display_data"
    }
   ],
   "source": [
    "round(summary(log_mod_w)$coeff[which(summary(log_mod_w)$coef[,4] <= .05),c(1,4)],5)"
   ]
  },
  {
   "cell_type": "markdown",
   "metadata": {},
   "source": [
    "<b> Both AIC:"
   ]
  },
  {
   "cell_type": "code",
   "execution_count": 94,
   "metadata": {},
   "outputs": [
    {
     "name": "stdout",
     "output_type": "stream",
     "text": [
      "Start:  AIC=562.15\n",
      "Y ~ s_start_age + factor(Gender) + factor(funding_indicator) + \n",
      "    factor(Citizenship) + avs_net_cost + s_SAPC1 + s_SAPC2 + \n",
      "    s_SAPC3 + factor(gap_indicator) + GPA_trend + s_start_year\n",
      "\n",
      "                            Df Deviance    AIC\n",
      "- factor(Citizenship)       10   537.82 559.82\n",
      "- s_start_age                1   520.30 560.30\n",
      "- factor(gap_indicator)      1   520.99 560.99\n",
      "- factor(Gender)             1   521.61 561.61\n",
      "- s_SAPC1                    1   521.98 561.98\n",
      "<none>                           520.15 562.15\n",
      "- GPA_trend                  1   523.05 563.05\n",
      "- s_SAPC2                    1   523.32 563.32\n",
      "- s_SAPC3                    1   524.74 564.74\n",
      "- avs_net_cost               1   527.98 567.98\n",
      "- s_start_year               1   561.57 601.57\n",
      "- factor(funding_indicator)  1   565.39 605.39\n",
      "\n",
      "Step:  AIC=559.82\n",
      "Y ~ s_start_age + factor(Gender) + factor(funding_indicator) + \n",
      "    avs_net_cost + s_SAPC1 + s_SAPC2 + s_SAPC3 + factor(gap_indicator) + \n",
      "    GPA_trend + s_start_year\n",
      "\n",
      "                            Df Deviance    AIC\n",
      "- s_start_age                1   538.02 558.02\n",
      "- factor(gap_indicator)      1   538.19 558.19\n",
      "- factor(Gender)             1   538.69 558.69\n",
      "<none>                           537.82 559.82\n",
      "- GPA_trend                  1   539.92 559.92\n",
      "+ factor(Citizenship)       10   520.15 562.15\n",
      "- s_SAPC3                    1   542.15 562.15\n",
      "- s_SAPC2                    1   542.53 562.53\n",
      "- s_SAPC1                    1   542.56 562.56\n",
      "- avs_net_cost               1   545.27 565.27\n",
      "- s_start_year               1   577.05 597.05\n",
      "- factor(funding_indicator)  1   590.05 610.05\n",
      "\n",
      "Step:  AIC=558.02\n",
      "Y ~ factor(Gender) + factor(funding_indicator) + avs_net_cost + \n",
      "    s_SAPC1 + s_SAPC2 + s_SAPC3 + factor(gap_indicator) + GPA_trend + \n",
      "    s_start_year\n",
      "\n",
      "                            Df Deviance    AIC\n",
      "- factor(gap_indicator)      1   538.39 556.39\n",
      "- factor(Gender)             1   538.84 556.84\n",
      "<none>                           538.02 558.02\n",
      "- GPA_trend                  1   540.07 558.07\n",
      "+ s_start_age                1   537.82 559.82\n",
      "- s_SAPC3                    1   542.21 560.21\n",
      "+ factor(Citizenship)       10   520.30 560.30\n",
      "- s_SAPC1                    1   542.67 560.67\n",
      "- s_SAPC2                    1   542.73 560.73\n",
      "- avs_net_cost               1   545.35 563.35\n",
      "- s_start_year               1   580.49 598.49\n",
      "- factor(funding_indicator)  1   602.55 620.55\n",
      "\n",
      "Step:  AIC=556.39\n",
      "Y ~ factor(Gender) + factor(funding_indicator) + avs_net_cost + \n",
      "    s_SAPC1 + s_SAPC2 + s_SAPC3 + GPA_trend + s_start_year\n",
      "\n",
      "                            Df Deviance    AIC\n",
      "- factor(Gender)             1   539.20 555.20\n",
      "<none>                           538.39 556.39\n",
      "- GPA_trend                  1   540.47 556.47\n",
      "+ factor(gap_indicator)      1   538.02 558.02\n",
      "+ s_start_age                1   538.19 558.19\n",
      "- s_SAPC3                    1   542.55 558.55\n",
      "- s_SAPC2                    1   542.95 558.95\n",
      "- s_SAPC1                    1   542.98 558.98\n",
      "+ factor(Citizenship)       10   521.14 559.14\n",
      "- avs_net_cost               1   545.43 561.43\n",
      "- s_start_year               1   582.79 598.79\n",
      "- factor(funding_indicator)  1   602.56 618.56\n",
      "\n",
      "Step:  AIC=555.2\n",
      "Y ~ factor(funding_indicator) + avs_net_cost + s_SAPC1 + s_SAPC2 + \n",
      "    s_SAPC3 + GPA_trend + s_start_year\n",
      "\n",
      "                            Df Deviance    AIC\n",
      "<none>                           539.20 555.20\n",
      "- GPA_trend                  1   541.26 555.26\n",
      "+ factor(Gender)             1   538.39 556.39\n",
      "+ factor(gap_indicator)      1   538.84 556.84\n",
      "+ s_start_age                1   539.05 557.05\n",
      "- s_SAPC3                    1   543.24 557.24\n",
      "- s_SAPC1                    1   543.54 557.54\n",
      "- s_SAPC2                    1   543.79 557.79\n",
      "+ factor(Citizenship)       10   522.51 558.51\n",
      "- avs_net_cost               1   546.46 560.46\n",
      "- s_start_year               1   584.36 598.36\n",
      "- factor(funding_indicator)  1   602.91 616.91\n"
     ]
    }
   ],
   "source": [
    "log_mod_w_aic= stepAIC(log_mod_w, direction = 'both')"
   ]
  },
  {
   "cell_type": "markdown",
   "metadata": {},
   "source": [
    "<b> Significant variables both AIC selects:"
   ]
  },
  {
   "cell_type": "code",
   "execution_count": 95,
   "metadata": {},
   "outputs": [
    {
     "data": {
      "text/html": [
       "<table>\n",
       "<thead><tr><th></th><th scope=col>Estimate</th><th scope=col>Pr(&gt;|z|)</th></tr></thead>\n",
       "<tbody>\n",
       "\t<tr><th scope=row>(Intercept)</th><td>-0.53326</td><td>0.00946 </td></tr>\n",
       "\t<tr><th scope=row>factor(funding_indicator)1</th><td> 2.00221</td><td>0.00000 </td></tr>\n",
       "\t<tr><th scope=row>avs_net_cost</th><td> 0.34681</td><td>0.02200 </td></tr>\n",
       "\t<tr><th scope=row>s_SAPC1</th><td> 1.26405</td><td>0.04089 </td></tr>\n",
       "\t<tr><th scope=row>s_SAPC2</th><td>-0.22045</td><td>0.04152 </td></tr>\n",
       "\t<tr><th scope=row>s_start_year</th><td>-0.96362</td><td>0.00000 </td></tr>\n",
       "</tbody>\n",
       "</table>\n"
      ],
      "text/latex": [
       "\\begin{tabular}{r|ll}\n",
       "  & Estimate & Pr(>\\textbar{}z\\textbar{})\\\\\n",
       "\\hline\n",
       "\t(Intercept) & -0.53326 & 0.00946 \\\\\n",
       "\tfactor(funding\\_indicator)1 &  2.00221 & 0.00000 \\\\\n",
       "\tavs\\_net\\_cost &  0.34681 & 0.02200 \\\\\n",
       "\ts\\_SAPC1 &  1.26405 & 0.04089 \\\\\n",
       "\ts\\_SAPC2 & -0.22045 & 0.04152 \\\\\n",
       "\ts\\_start\\_year & -0.96362 & 0.00000 \\\\\n",
       "\\end{tabular}\n"
      ],
      "text/markdown": [
       "\n",
       "| <!--/--> | Estimate | Pr(>|z|) |\n",
       "|---|---|---|\n",
       "| (Intercept) | -0.53326 | 0.00946  |\n",
       "| factor(funding_indicator)1 |  2.00221 | 0.00000  |\n",
       "| avs_net_cost |  0.34681 | 0.02200  |\n",
       "| s_SAPC1 |  1.26405 | 0.04089  |\n",
       "| s_SAPC2 | -0.22045 | 0.04152  |\n",
       "| s_start_year | -0.96362 | 0.00000  |\n",
       "\n"
      ],
      "text/plain": [
       "                           Estimate Pr(>|z|)\n",
       "(Intercept)                -0.53326 0.00946 \n",
       "factor(funding_indicator)1  2.00221 0.00000 \n",
       "avs_net_cost                0.34681 0.02200 \n",
       "s_SAPC1                     1.26405 0.04089 \n",
       "s_SAPC2                    -0.22045 0.04152 \n",
       "s_start_year               -0.96362 0.00000 "
      ]
     },
     "metadata": {},
     "output_type": "display_data"
    }
   ],
   "source": [
    "round(summary(log_mod_w_aic)$coeff[which(summary(log_mod_w_aic)$coef[,4] <= .05),c(1,4)],5)"
   ]
  },
  {
   "cell_type": "markdown",
   "metadata": {},
   "source": [
    "<b> Both BIC:"
   ]
  },
  {
   "cell_type": "code",
   "execution_count": 96,
   "metadata": {},
   "outputs": [
    {
     "name": "stdout",
     "output_type": "stream",
     "text": [
      "Start:  AIC=651.28\n",
      "Y ~ s_start_age + factor(Gender) + factor(funding_indicator) + \n",
      "    factor(Citizenship) + avs_net_cost + s_SAPC1 + s_SAPC2 + \n",
      "    s_SAPC3 + factor(gap_indicator) + GPA_trend + s_start_year\n",
      "\n",
      "                            Df Deviance    AIC\n",
      "- factor(Citizenship)       10   537.82 606.50\n",
      "- s_start_age                1   520.30 645.18\n",
      "- factor(gap_indicator)      1   520.99 645.87\n",
      "- factor(Gender)             1   521.61 646.49\n",
      "- s_SAPC1                    1   521.98 646.86\n",
      "- GPA_trend                  1   523.05 647.93\n",
      "- s_SAPC2                    1   523.32 648.20\n",
      "- s_SAPC3                    1   524.74 649.62\n",
      "<none>                           520.15 651.28\n",
      "- avs_net_cost               1   527.98 652.86\n",
      "- s_start_year               1   561.57 686.45\n",
      "- factor(funding_indicator)  1   565.39 690.27\n",
      "\n",
      "Step:  AIC=606.5\n",
      "Y ~ s_start_age + factor(Gender) + factor(funding_indicator) + \n",
      "    avs_net_cost + s_SAPC1 + s_SAPC2 + s_SAPC3 + factor(gap_indicator) + \n",
      "    GPA_trend + s_start_year\n",
      "\n",
      "                            Df Deviance    AIC\n",
      "- s_start_age                1   538.02 600.46\n",
      "- factor(gap_indicator)      1   538.19 600.63\n",
      "- factor(Gender)             1   538.69 601.13\n",
      "- GPA_trend                  1   539.92 602.36\n",
      "- s_SAPC3                    1   542.15 604.59\n",
      "- s_SAPC2                    1   542.53 604.98\n",
      "- s_SAPC1                    1   542.56 605.00\n",
      "<none>                           537.82 606.50\n",
      "- avs_net_cost               1   545.27 607.72\n",
      "- s_start_year               1   577.05 639.50\n",
      "+ factor(Citizenship)       10   520.15 651.28\n",
      "- factor(funding_indicator)  1   590.05 652.49\n",
      "\n",
      "Step:  AIC=600.46\n",
      "Y ~ factor(Gender) + factor(funding_indicator) + avs_net_cost + \n",
      "    s_SAPC1 + s_SAPC2 + s_SAPC3 + factor(gap_indicator) + GPA_trend + \n",
      "    s_start_year\n",
      "\n",
      "                            Df Deviance    AIC\n",
      "- factor(gap_indicator)      1   538.39 594.59\n",
      "- factor(Gender)             1   538.84 595.04\n",
      "- GPA_trend                  1   540.07 596.27\n",
      "- s_SAPC3                    1   542.21 598.41\n",
      "- s_SAPC1                    1   542.67 598.87\n",
      "- s_SAPC2                    1   542.73 598.93\n",
      "<none>                           538.02 600.46\n",
      "- avs_net_cost               1   545.35 601.55\n",
      "+ s_start_age                1   537.82 606.50\n",
      "- s_start_year               1   580.49 636.69\n",
      "+ factor(Citizenship)       10   520.30 645.18\n",
      "- factor(funding_indicator)  1   602.55 658.75\n",
      "\n",
      "Step:  AIC=594.59\n",
      "Y ~ factor(Gender) + factor(funding_indicator) + avs_net_cost + \n",
      "    s_SAPC1 + s_SAPC2 + s_SAPC3 + GPA_trend + s_start_year\n",
      "\n",
      "                            Df Deviance    AIC\n",
      "- factor(Gender)             1   539.20 589.16\n",
      "- GPA_trend                  1   540.47 590.42\n",
      "- s_SAPC3                    1   542.55 592.50\n",
      "- s_SAPC2                    1   542.95 592.91\n",
      "- s_SAPC1                    1   542.98 592.93\n",
      "<none>                           538.39 594.59\n",
      "- avs_net_cost               1   545.43 595.38\n",
      "+ factor(gap_indicator)      1   538.02 600.46\n",
      "+ s_start_age                1   538.19 600.63\n",
      "- s_start_year               1   582.79 632.74\n",
      "+ factor(Citizenship)       10   521.14 639.78\n",
      "- factor(funding_indicator)  1   602.56 652.52\n",
      "\n",
      "Step:  AIC=589.16\n",
      "Y ~ factor(funding_indicator) + avs_net_cost + s_SAPC1 + s_SAPC2 + \n",
      "    s_SAPC3 + GPA_trend + s_start_year\n",
      "\n",
      "                            Df Deviance    AIC\n",
      "- GPA_trend                  1   541.26 584.97\n",
      "- s_SAPC3                    1   543.24 586.95\n",
      "- s_SAPC1                    1   543.54 587.25\n",
      "- s_SAPC2                    1   543.79 587.49\n",
      "<none>                           539.20 589.16\n",
      "- avs_net_cost               1   546.46 590.17\n",
      "+ factor(Gender)             1   538.39 594.59\n",
      "+ factor(gap_indicator)      1   538.84 595.04\n",
      "+ s_start_age                1   539.05 595.25\n",
      "- s_start_year               1   584.36 628.07\n",
      "+ factor(Citizenship)       10   522.51 634.91\n",
      "- factor(funding_indicator)  1   602.91 646.62\n",
      "\n",
      "Step:  AIC=584.97\n",
      "Y ~ factor(funding_indicator) + avs_net_cost + s_SAPC1 + s_SAPC2 + \n",
      "    s_SAPC3 + s_start_year\n",
      "\n",
      "                            Df Deviance    AIC\n",
      "- s_SAPC2                    1   545.55 583.02\n",
      "- s_SAPC1                    1   545.59 583.05\n",
      "- s_SAPC3                    1   546.07 583.54\n",
      "<none>                           541.26 584.97\n",
      "- avs_net_cost               1   548.55 586.02\n",
      "+ GPA_trend                  1   539.20 589.16\n",
      "+ factor(Gender)             1   540.47 590.42\n",
      "+ factor(gap_indicator)      1   540.87 590.83\n",
      "+ s_start_age                1   541.14 591.09\n",
      "- s_start_year               1   587.61 625.08\n",
      "+ factor(Citizenship)       10   525.37 631.52\n",
      "- factor(funding_indicator)  1   607.98 645.45\n",
      "\n",
      "Step:  AIC=583.02\n",
      "Y ~ factor(funding_indicator) + avs_net_cost + s_SAPC1 + s_SAPC3 + \n",
      "    s_start_year\n",
      "\n",
      "                            Df Deviance    AIC\n",
      "- s_SAPC1                    1   549.41 580.63\n",
      "- s_SAPC3                    1   550.53 581.76\n",
      "<none>                           545.55 583.02\n",
      "- avs_net_cost               1   552.07 583.29\n",
      "+ s_SAPC2                    1   541.26 584.97\n",
      "+ GPA_trend                  1   543.79 587.49\n",
      "+ factor(Gender)             1   544.73 588.44\n",
      "+ factor(gap_indicator)      1   545.32 589.03\n",
      "+ s_start_age                1   545.43 589.14\n",
      "- s_start_year               1   591.05 622.27\n",
      "+ factor(Citizenship)       10   528.16 628.07\n",
      "- factor(funding_indicator)  1   620.37 651.59\n",
      "\n",
      "Step:  AIC=580.63\n",
      "Y ~ factor(funding_indicator) + avs_net_cost + s_SAPC3 + s_start_year\n",
      "\n",
      "                            Df Deviance    AIC\n",
      "- s_SAPC3                    1   551.63 576.60\n",
      "<none>                           549.41 580.63\n",
      "- avs_net_cost               1   556.13 581.10\n",
      "+ s_SAPC1                    1   545.55 583.02\n",
      "+ s_SAPC2                    1   545.59 583.05\n",
      "+ GPA_trend                  1   547.68 585.15\n",
      "+ factor(Gender)             1   548.81 586.28\n",
      "+ factor(gap_indicator)      1   549.20 586.67\n",
      "+ s_start_age                1   549.35 586.81\n",
      "- s_start_year               1   591.59 616.57\n",
      "+ factor(Citizenship)       10   529.50 623.17\n",
      "- factor(funding_indicator)  1   622.61 647.59\n",
      "\n",
      "Step:  AIC=576.6\n",
      "Y ~ factor(funding_indicator) + avs_net_cost + s_start_year\n",
      "\n",
      "                            Df Deviance    AIC\n",
      "<none>                           551.63 576.60\n",
      "- avs_net_cost               1   558.80 577.53\n",
      "+ s_SAPC2                    1   547.50 578.72\n",
      "+ GPA_trend                  1   549.37 580.59\n",
      "+ s_SAPC3                    1   549.41 580.63\n",
      "+ s_SAPC1                    1   550.53 581.76\n",
      "+ factor(Gender)             1   551.05 582.27\n",
      "+ factor(gap_indicator)      1   551.42 582.64\n",
      "+ s_start_age                1   551.62 582.84\n",
      "+ factor(Citizenship)       10   533.69 621.11\n",
      "- s_start_year               1   611.85 630.59\n",
      "- factor(funding_indicator)  1   625.17 643.90\n"
     ]
    }
   ],
   "source": [
    "log_mod_w_bic = stepAIC(log_mod_w, direction = \"both\", k = log(e_n))\n"
   ]
  },
  {
   "cell_type": "markdown",
   "metadata": {},
   "source": [
    "<b> Significant variables both BIC selects:"
   ]
  },
  {
   "cell_type": "code",
   "execution_count": 97,
   "metadata": {},
   "outputs": [
    {
     "data": {
      "text/plain": [
       "\n",
       "Call:\n",
       "glm(formula = Y ~ factor(funding_indicator) + avs_net_cost + \n",
       "    s_start_year, family = \"binomial\", data = Watson_df)\n",
       "\n",
       "Deviance Residuals: \n",
       "    Min       1Q   Median       3Q      Max  \n",
       "-2.8893  -0.9101   0.5567   0.8484   1.7719  \n",
       "\n",
       "Coefficients:\n",
       "                           Estimate Std. Error z value Pr(>|z|)    \n",
       "(Intercept)                 -0.5034     0.2001  -2.516   0.0119 *  \n",
       "factor(funding_indicator)1   2.0988     0.2644   7.939 2.04e-15 ***\n",
       "avs_net_cost                 0.3515     0.1548   2.270   0.0232 *  \n",
       "s_start_year                -1.0004     0.1437  -6.963 3.34e-12 ***\n",
       "---\n",
       "Signif. codes:  0 '***' 0.001 '**' 0.01 '*' 0.05 '.' 0.1 ' ' 1\n",
       "\n",
       "(Dispersion parameter for binomial family taken to be 1)\n",
       "\n",
       "    Null deviance: 656.07  on 514  degrees of freedom\n",
       "Residual deviance: 551.63  on 511  degrees of freedom\n",
       "AIC: 559.63\n",
       "\n",
       "Number of Fisher Scoring iterations: 4\n"
      ]
     },
     "metadata": {},
     "output_type": "display_data"
    },
    {
     "data": {
      "text/html": [
       "<table>\n",
       "<thead><tr><th></th><th scope=col>Estimate</th><th scope=col>Pr(&gt;|z|)</th></tr></thead>\n",
       "<tbody>\n",
       "\t<tr><th scope=row>(Intercept)</th><td>-0.50338</td><td>0.01188 </td></tr>\n",
       "\t<tr><th scope=row>factor(funding_indicator)1</th><td> 2.09885</td><td>0.00000 </td></tr>\n",
       "\t<tr><th scope=row>avs_net_cost</th><td> 0.35147</td><td>0.02320 </td></tr>\n",
       "\t<tr><th scope=row>s_start_year</th><td>-1.00040</td><td>0.00000 </td></tr>\n",
       "</tbody>\n",
       "</table>\n"
      ],
      "text/latex": [
       "\\begin{tabular}{r|ll}\n",
       "  & Estimate & Pr(>\\textbar{}z\\textbar{})\\\\\n",
       "\\hline\n",
       "\t(Intercept) & -0.50338 & 0.01188 \\\\\n",
       "\tfactor(funding\\_indicator)1 &  2.09885 & 0.00000 \\\\\n",
       "\tavs\\_net\\_cost &  0.35147 & 0.02320 \\\\\n",
       "\ts\\_start\\_year & -1.00040 & 0.00000 \\\\\n",
       "\\end{tabular}\n"
      ],
      "text/markdown": [
       "\n",
       "| <!--/--> | Estimate | Pr(>|z|) |\n",
       "|---|---|---|\n",
       "| (Intercept) | -0.50338 | 0.01188  |\n",
       "| factor(funding_indicator)1 |  2.09885 | 0.00000  |\n",
       "| avs_net_cost |  0.35147 | 0.02320  |\n",
       "| s_start_year | -1.00040 | 0.00000  |\n",
       "\n"
      ],
      "text/plain": [
       "                           Estimate Pr(>|z|)\n",
       "(Intercept)                -0.50338 0.01188 \n",
       "factor(funding_indicator)1  2.09885 0.00000 \n",
       "avs_net_cost                0.35147 0.02320 \n",
       "s_start_year               -1.00040 0.00000 "
      ]
     },
     "metadata": {},
     "output_type": "display_data"
    }
   ],
   "source": [
    "summary(log_mod_w_bic)\n",
    "round(summary(log_mod_w_bic)$coeff[which(summary(log_mod_w_bic)$coef[,4] <= .05),c(1,4)],5)"
   ]
  },
  {
   "cell_type": "markdown",
   "metadata": {},
   "source": [
    "# Joint Analysis"
   ]
  },
  {
   "cell_type": "markdown",
   "metadata": {},
   "source": [
    "<b> Logistic regression model:"
   ]
  },
  {
   "cell_type": "code",
   "execution_count": 98,
   "metadata": {},
   "outputs": [],
   "source": [
    "int_chn = function(x) ifelse(x=='China',1,0)\n",
    "int_afc = function(x) ifelse(x=='Africa',1,0)\n",
    "int_asia = function(x) ifelse(x=='Asia',1,0)"
   ]
  },
  {
   "cell_type": "code",
   "execution_count": 99,
   "metadata": {},
   "outputs": [],
   "source": [
    "df <- within(df, s_Citizenship <- relevel(s_Citizenship, ref = \"White\"))\n",
    "df <- within(df, s_College <- relevel(s_College, ref = \"GD Non-Harpur\"))"
   ]
  },
  {
   "cell_type": "code",
   "execution_count": 100,
   "metadata": {},
   "outputs": [
    {
     "data": {
      "text/plain": [
       "\n",
       "Call:\n",
       "glm(formula = Y ~ factor(funding_indicator) + factor(s_Citizenship) + \n",
       "    avs_net_cost + s_SAPC1 + s_SAPC3 + GPA_trend + s_start_year + \n",
       "    factor(s_College) + avs_net_cost:factor(s_College) + factor(s_College):factor(s_Citizenship) + \n",
       "    factor(s_College):s_SAPC1 + factor(s_College):s_SAPC3 + factor(s_College):factor(funding_indicator) + \n",
       "    factor(s_College):GPA_trend + s_start_year:factor(s_College), \n",
       "    family = \"binomial\", data = df)\n",
       "\n",
       "Deviance Residuals: \n",
       "    Min       1Q   Median       3Q      Max  \n",
       "-2.6594  -1.0950   0.6834   0.9270   1.9876  \n",
       "\n",
       "Coefficients:\n",
       "                                                       Estimate Std. Error\n",
       "(Intercept)                                            -0.12414    0.13616\n",
       "factor(funding_indicator)1                              1.34810    0.18302\n",
       "factor(s_Citizenship)Africa                             1.65692    1.10434\n",
       "factor(s_Citizenship)Asia                               0.45635    0.22953\n",
       "factor(s_Citizenship)China                              0.27778    0.21485\n",
       "avs_net_cost                                            0.34223    0.11598\n",
       "s_SAPC1                                                 0.51227    0.48363\n",
       "s_SAPC3                                                 0.20815    0.09717\n",
       "GPA_trend                                               1.30867    0.49486\n",
       "s_start_year                                           -0.73790    0.10410\n",
       "factor(s_College)GD Harpur                             -0.33673    0.18705\n",
       "avs_net_cost:factor(s_College)GD Harpur                -0.33512    0.12668\n",
       "factor(s_Citizenship)Africa:factor(s_College)GD Harpur -0.94170    1.15336\n",
       "factor(s_Citizenship)Asia:factor(s_College)GD Harpur    0.16665    0.29987\n",
       "factor(s_Citizenship)China:factor(s_College)GD Harpur   0.07871    0.29225\n",
       "s_SAPC1:factor(s_College)GD Harpur                     -0.47016    0.48632\n",
       "s_SAPC3:factor(s_College)GD Harpur                     -0.17988    0.11163\n",
       "factor(funding_indicator)1:factor(s_College)GD Harpur  -0.41128    0.23441\n",
       "GPA_trend:factor(s_College)GD Harpur                   -0.54714    0.58826\n",
       "s_start_year:factor(s_College)GD Harpur                -0.07797    0.12669\n",
       "                                                       z value Pr(>|z|)    \n",
       "(Intercept)                                             -0.912  0.36191    \n",
       "factor(funding_indicator)1                               7.366 1.76e-13 ***\n",
       "factor(s_Citizenship)Africa                              1.500  0.13352    \n",
       "factor(s_Citizenship)Asia                                1.988  0.04679 *  \n",
       "factor(s_Citizenship)China                               1.293  0.19603    \n",
       "avs_net_cost                                             2.951  0.00317 ** \n",
       "s_SAPC1                                                  1.059  0.28951    \n",
       "s_SAPC3                                                  2.142  0.03219 *  \n",
       "GPA_trend                                                2.645  0.00818 ** \n",
       "s_start_year                                            -7.089 1.35e-12 ***\n",
       "factor(s_College)GD Harpur                              -1.800  0.07182 .  \n",
       "avs_net_cost:factor(s_College)GD Harpur                 -2.645  0.00816 ** \n",
       "factor(s_Citizenship)Africa:factor(s_College)GD Harpur  -0.816  0.41422    \n",
       "factor(s_Citizenship)Asia:factor(s_College)GD Harpur     0.556  0.57839    \n",
       "factor(s_Citizenship)China:factor(s_College)GD Harpur    0.269  0.78768    \n",
       "s_SAPC1:factor(s_College)GD Harpur                      -0.967  0.33366    \n",
       "s_SAPC3:factor(s_College)GD Harpur                      -1.611  0.10709    \n",
       "factor(funding_indicator)1:factor(s_College)GD Harpur   -1.755  0.07933 .  \n",
       "GPA_trend:factor(s_College)GD Harpur                    -0.930  0.35232    \n",
       "s_start_year:factor(s_College)GD Harpur                 -0.615  0.53823    \n",
       "---\n",
       "Signif. codes:  0 '***' 0.001 '**' 0.01 '*' 0.05 '.' 0.1 ' ' 1\n",
       "\n",
       "(Dispersion parameter for binomial family taken to be 1)\n",
       "\n",
       "    Null deviance: 3281.8  on 2469  degrees of freedom\n",
       "Residual deviance: 2951.7  on 2450  degrees of freedom\n",
       "AIC: 2991.7\n",
       "\n",
       "Number of Fisher Scoring iterations: 4\n"
      ]
     },
     "metadata": {},
     "output_type": "display_data"
    }
   ],
   "source": [
    "log_mod_total = glm(Y~factor(funding_indicator)+factor(s_Citizenship)+\n",
    "                avs_net_cost+s_SAPC1+s_SAPC3+GPA_trend+s_start_year+factor(s_College)+avs_net_cost:factor(s_College)+\n",
    "                factor(s_College):factor(s_Citizenship)+factor(s_College):s_SAPC1+factor(s_College):s_SAPC3+\n",
    "                factor(s_College):factor(funding_indicator)+factor(s_College):GPA_trend+s_start_year:factor(s_College),\n",
    "                data=df,family=\"binomial\")\n",
    "summary(log_mod_total)"
   ]
  },
  {
   "cell_type": "markdown",
   "metadata": {},
   "source": [
    "<b> Significant Variables of logistic regression model:"
   ]
  },
  {
   "cell_type": "code",
   "execution_count": 101,
   "metadata": {},
   "outputs": [
    {
     "data": {
      "text/html": [
       "<table>\n",
       "<thead><tr><th></th><th scope=col>Estimate</th><th scope=col>Pr(&gt;|z|)</th></tr></thead>\n",
       "<tbody>\n",
       "\t<tr><th scope=row>factor(funding_indicator)1</th><td> 1.34810</td><td>0.00000 </td></tr>\n",
       "\t<tr><th scope=row>factor(s_Citizenship)Asia</th><td> 0.45635</td><td>0.04679 </td></tr>\n",
       "\t<tr><th scope=row>avs_net_cost</th><td> 0.34223</td><td>0.00317 </td></tr>\n",
       "\t<tr><th scope=row>s_SAPC3</th><td> 0.20815</td><td>0.03219 </td></tr>\n",
       "\t<tr><th scope=row>GPA_trend</th><td> 1.30867</td><td>0.00818 </td></tr>\n",
       "\t<tr><th scope=row>s_start_year</th><td>-0.73790</td><td>0.00000 </td></tr>\n",
       "\t<tr><th scope=row>avs_net_cost:factor(s_College)GD Harpur</th><td>-0.33512</td><td>0.00816 </td></tr>\n",
       "</tbody>\n",
       "</table>\n"
      ],
      "text/latex": [
       "\\begin{tabular}{r|ll}\n",
       "  & Estimate & Pr(>\\textbar{}z\\textbar{})\\\\\n",
       "\\hline\n",
       "\tfactor(funding\\_indicator)1 &  1.34810 & 0.00000 \\\\\n",
       "\tfactor(s\\_Citizenship)Asia &  0.45635 & 0.04679 \\\\\n",
       "\tavs\\_net\\_cost &  0.34223 & 0.00317 \\\\\n",
       "\ts\\_SAPC3 &  0.20815 & 0.03219 \\\\\n",
       "\tGPA\\_trend &  1.30867 & 0.00818 \\\\\n",
       "\ts\\_start\\_year & -0.73790 & 0.00000 \\\\\n",
       "\tavs\\_net\\_cost:factor(s\\_College)GD Harpur & -0.33512 & 0.00816 \\\\\n",
       "\\end{tabular}\n"
      ],
      "text/markdown": [
       "\n",
       "| <!--/--> | Estimate | Pr(>|z|) |\n",
       "|---|---|---|\n",
       "| factor(funding_indicator)1 |  1.34810 | 0.00000  |\n",
       "| factor(s_Citizenship)Asia |  0.45635 | 0.04679  |\n",
       "| avs_net_cost |  0.34223 | 0.00317  |\n",
       "| s_SAPC3 |  0.20815 | 0.03219  |\n",
       "| GPA_trend |  1.30867 | 0.00818  |\n",
       "| s_start_year | -0.73790 | 0.00000  |\n",
       "| avs_net_cost:factor(s_College)GD Harpur | -0.33512 | 0.00816  |\n",
       "\n"
      ],
      "text/plain": [
       "                                        Estimate Pr(>|z|)\n",
       "factor(funding_indicator)1               1.34810 0.00000 \n",
       "factor(s_Citizenship)Asia                0.45635 0.04679 \n",
       "avs_net_cost                             0.34223 0.00317 \n",
       "s_SAPC3                                  0.20815 0.03219 \n",
       "GPA_trend                                1.30867 0.00818 \n",
       "s_start_year                            -0.73790 0.00000 \n",
       "avs_net_cost:factor(s_College)GD Harpur -0.33512 0.00816 "
      ]
     },
     "metadata": {},
     "output_type": "display_data"
    }
   ],
   "source": [
    "round(summary(log_mod_total)$coeff[which(summary(log_mod_total)$coef[,4] <= .05),c(1,4)],5)"
   ]
  },
  {
   "cell_type": "markdown",
   "metadata": {},
   "source": [
    "<b> Both AIC:"
   ]
  },
  {
   "cell_type": "code",
   "execution_count": 102,
   "metadata": {},
   "outputs": [
    {
     "name": "stdout",
     "output_type": "stream",
     "text": [
      "Start:  AIC=2991.74\n",
      "Y ~ factor(funding_indicator) + factor(s_Citizenship) + avs_net_cost + \n",
      "    s_SAPC1 + s_SAPC3 + GPA_trend + s_start_year + factor(s_College) + \n",
      "    avs_net_cost:factor(s_College) + factor(s_College):factor(s_Citizenship) + \n",
      "    factor(s_College):s_SAPC1 + factor(s_College):s_SAPC3 + factor(s_College):factor(funding_indicator) + \n",
      "    factor(s_College):GPA_trend + s_start_year:factor(s_College)\n",
      "\n",
      "                                              Df Deviance    AIC\n",
      "- factor(s_Citizenship):factor(s_College)      3   2953.0 2987.0\n",
      "- s_start_year:factor(s_College)               1   2952.1 2990.1\n",
      "- GPA_trend:factor(s_College)                  1   2952.6 2990.6\n",
      "- s_SAPC1:factor(s_College)                    1   2952.7 2990.7\n",
      "<none>                                             2951.7 2991.7\n",
      "- s_SAPC3:factor(s_College)                    1   2954.4 2992.4\n",
      "- factor(funding_indicator):factor(s_College)  1   2954.8 2992.8\n",
      "- avs_net_cost:factor(s_College)               1   2960.2 2998.2\n",
      "\n",
      "Step:  AIC=2986.97\n",
      "Y ~ factor(funding_indicator) + factor(s_Citizenship) + avs_net_cost + \n",
      "    s_SAPC1 + s_SAPC3 + GPA_trend + s_start_year + factor(s_College) + \n",
      "    avs_net_cost:factor(s_College) + s_SAPC1:factor(s_College) + \n",
      "    s_SAPC3:factor(s_College) + factor(funding_indicator):factor(s_College) + \n",
      "    GPA_trend:factor(s_College) + s_start_year:factor(s_College)\n",
      "\n",
      "                                              Df Deviance    AIC\n",
      "- s_start_year:factor(s_College)               1   2953.3 2985.3\n",
      "- GPA_trend:factor(s_College)                  1   2953.9 2985.9\n",
      "- s_SAPC1:factor(s_College)                    1   2954.0 2986.0\n",
      "<none>                                             2953.0 2987.0\n",
      "- factor(funding_indicator):factor(s_College)  1   2956.0 2988.0\n",
      "- s_SAPC3:factor(s_College)                    1   2956.2 2988.2\n",
      "+ factor(s_Citizenship):factor(s_College)      3   2951.7 2991.7\n",
      "- avs_net_cost:factor(s_College)               1   2961.4 2993.4\n",
      "- factor(s_Citizenship)                        3   2975.2 3003.2\n",
      "\n",
      "Step:  AIC=2985.29\n",
      "Y ~ factor(funding_indicator) + factor(s_Citizenship) + avs_net_cost + \n",
      "    s_SAPC1 + s_SAPC3 + GPA_trend + s_start_year + factor(s_College) + \n",
      "    avs_net_cost:factor(s_College) + s_SAPC1:factor(s_College) + \n",
      "    s_SAPC3:factor(s_College) + factor(funding_indicator):factor(s_College) + \n",
      "    GPA_trend:factor(s_College)\n",
      "\n",
      "                                              Df Deviance    AIC\n",
      "- GPA_trend:factor(s_College)                  1   2954.1 2984.1\n",
      "- s_SAPC1:factor(s_College)                    1   2954.6 2984.6\n",
      "<none>                                             2953.3 2985.3\n",
      "- s_SAPC3:factor(s_College)                    1   2956.3 2986.3\n",
      "+ s_start_year:factor(s_College)               1   2953.0 2987.0\n",
      "- factor(funding_indicator):factor(s_College)  1   2957.6 2987.6\n",
      "+ factor(s_Citizenship):factor(s_College)      3   2952.1 2990.1\n",
      "- avs_net_cost:factor(s_College)               1   2962.0 2992.0\n",
      "- factor(s_Citizenship)                        3   2975.3 3001.3\n",
      "- s_start_year                                 1   3165.1 3195.1\n",
      "\n",
      "Step:  AIC=2984.14\n",
      "Y ~ factor(funding_indicator) + factor(s_Citizenship) + avs_net_cost + \n",
      "    s_SAPC1 + s_SAPC3 + GPA_trend + s_start_year + factor(s_College) + \n",
      "    avs_net_cost:factor(s_College) + s_SAPC1:factor(s_College) + \n",
      "    s_SAPC3:factor(s_College) + factor(funding_indicator):factor(s_College)\n",
      "\n",
      "                                              Df Deviance    AIC\n",
      "- s_SAPC1:factor(s_College)                    1   2955.4 2983.4\n",
      "<none>                                             2954.1 2984.1\n",
      "+ GPA_trend:factor(s_College)                  1   2953.3 2985.3\n",
      "- s_SAPC3:factor(s_College)                    1   2957.4 2985.4\n",
      "+ s_start_year:factor(s_College)               1   2953.9 2985.9\n",
      "- factor(funding_indicator):factor(s_College)  1   2958.5 2986.5\n",
      "+ factor(s_Citizenship):factor(s_College)      3   2953.0 2989.0\n",
      "- avs_net_cost:factor(s_College)               1   2963.0 2991.0\n",
      "- GPA_trend                                    1   2966.7 2994.7\n",
      "- factor(s_Citizenship)                        3   2976.1 3000.1\n",
      "- s_start_year                                 1   3166.1 3194.1\n",
      "\n",
      "Step:  AIC=2983.42\n",
      "Y ~ factor(funding_indicator) + factor(s_Citizenship) + avs_net_cost + \n",
      "    s_SAPC1 + s_SAPC3 + GPA_trend + s_start_year + factor(s_College) + \n",
      "    avs_net_cost:factor(s_College) + s_SAPC3:factor(s_College) + \n",
      "    factor(funding_indicator):factor(s_College)\n",
      "\n",
      "                                              Df Deviance    AIC\n",
      "- s_SAPC1                                      1   2956.3 2982.3\n",
      "<none>                                             2955.4 2983.4\n",
      "- s_SAPC3:factor(s_College)                    1   2957.6 2983.6\n",
      "+ s_SAPC1:factor(s_College)                    1   2954.1 2984.1\n",
      "+ GPA_trend:factor(s_College)                  1   2954.6 2984.6\n",
      "+ s_start_year:factor(s_College)               1   2954.9 2984.9\n",
      "- factor(funding_indicator):factor(s_College)  1   2959.9 2985.9\n",
      "+ factor(s_Citizenship):factor(s_College)      3   2954.1 2988.1\n",
      "- avs_net_cost:factor(s_College)               1   2964.6 2990.6\n",
      "- GPA_trend                                    1   2968.0 2994.0\n",
      "- factor(s_Citizenship)                        3   2978.2 3000.2\n",
      "- s_start_year                                 1   3166.2 3192.2\n",
      "\n",
      "Step:  AIC=2982.26\n",
      "Y ~ factor(funding_indicator) + factor(s_Citizenship) + avs_net_cost + \n",
      "    s_SAPC3 + GPA_trend + s_start_year + factor(s_College) + \n",
      "    avs_net_cost:factor(s_College) + s_SAPC3:factor(s_College) + \n",
      "    factor(funding_indicator):factor(s_College)\n",
      "\n",
      "                                              Df Deviance    AIC\n",
      "<none>                                             2956.3 2982.3\n",
      "- s_SAPC3:factor(s_College)                    1   2958.5 2982.5\n",
      "+ s_SAPC1                                      1   2955.4 2983.4\n",
      "+ GPA_trend:factor(s_College)                  1   2955.5 2983.5\n",
      "+ s_start_year:factor(s_College)               1   2955.8 2983.8\n",
      "- factor(funding_indicator):factor(s_College)  1   2960.7 2984.7\n",
      "+ factor(s_Citizenship):factor(s_College)      3   2955.0 2987.0\n",
      "- avs_net_cost:factor(s_College)               1   2965.5 2989.5\n",
      "- GPA_trend                                    1   2969.2 2993.2\n",
      "- factor(s_Citizenship)                        3   2979.0 2999.0\n",
      "- s_start_year                                 1   3166.6 3190.6\n"
     ]
    }
   ],
   "source": [
    "log_mod_total_aic= stepAIC(log_mod_total, direction = 'both')"
   ]
  },
  {
   "cell_type": "markdown",
   "metadata": {},
   "source": [
    "<b> Significant variables both AIC selects:"
   ]
  },
  {
   "cell_type": "code",
   "execution_count": 103,
   "metadata": {},
   "outputs": [
    {
     "data": {
      "text/html": [
       "<table>\n",
       "<thead><tr><th></th><th scope=col>Estimate</th><th scope=col>Pr(&gt;|z|)</th></tr></thead>\n",
       "<tbody>\n",
       "\t<tr><th scope=row>factor(funding_indicator)1</th><td> 1.36321</td><td>0.00000 </td></tr>\n",
       "\t<tr><th scope=row>factor(s_Citizenship)Africa</th><td> 0.81684</td><td>0.00951 </td></tr>\n",
       "\t<tr><th scope=row>factor(s_Citizenship)Asia</th><td> 0.57039</td><td>0.00010 </td></tr>\n",
       "\t<tr><th scope=row>factor(s_Citizenship)China</th><td> 0.29270</td><td>0.04076 </td></tr>\n",
       "\t<tr><th scope=row>avs_net_cost</th><td> 0.35756</td><td>0.00230 </td></tr>\n",
       "\t<tr><th scope=row>s_SAPC3</th><td> 0.16307</td><td>0.04899 </td></tr>\n",
       "\t<tr><th scope=row>GPA_trend</th><td> 0.93046</td><td>0.00054 </td></tr>\n",
       "\t<tr><th scope=row>s_start_year</th><td>-0.78175</td><td>0.00000 </td></tr>\n",
       "\t<tr><th scope=row>avs_net_cost:factor(s_College)GD Harpur</th><td>-0.35352</td><td>0.00568 </td></tr>\n",
       "\t<tr><th scope=row>factor(funding_indicator)1:factor(s_College)GD Harpur</th><td>-0.45695</td><td>0.03403 </td></tr>\n",
       "</tbody>\n",
       "</table>\n"
      ],
      "text/latex": [
       "\\begin{tabular}{r|ll}\n",
       "  & Estimate & Pr(>\\textbar{}z\\textbar{})\\\\\n",
       "\\hline\n",
       "\tfactor(funding\\_indicator)1 &  1.36321 & 0.00000 \\\\\n",
       "\tfactor(s\\_Citizenship)Africa &  0.81684 & 0.00951 \\\\\n",
       "\tfactor(s\\_Citizenship)Asia &  0.57039 & 0.00010 \\\\\n",
       "\tfactor(s\\_Citizenship)China &  0.29270 & 0.04076 \\\\\n",
       "\tavs\\_net\\_cost &  0.35756 & 0.00230 \\\\\n",
       "\ts\\_SAPC3 &  0.16307 & 0.04899 \\\\\n",
       "\tGPA\\_trend &  0.93046 & 0.00054 \\\\\n",
       "\ts\\_start\\_year & -0.78175 & 0.00000 \\\\\n",
       "\tavs\\_net\\_cost:factor(s\\_College)GD Harpur & -0.35352 & 0.00568 \\\\\n",
       "\tfactor(funding\\_indicator)1:factor(s\\_College)GD Harpur & -0.45695 & 0.03403 \\\\\n",
       "\\end{tabular}\n"
      ],
      "text/markdown": [
       "\n",
       "| <!--/--> | Estimate | Pr(>|z|) |\n",
       "|---|---|---|\n",
       "| factor(funding_indicator)1 |  1.36321 | 0.00000  |\n",
       "| factor(s_Citizenship)Africa |  0.81684 | 0.00951  |\n",
       "| factor(s_Citizenship)Asia |  0.57039 | 0.00010  |\n",
       "| factor(s_Citizenship)China |  0.29270 | 0.04076  |\n",
       "| avs_net_cost |  0.35756 | 0.00230  |\n",
       "| s_SAPC3 |  0.16307 | 0.04899  |\n",
       "| GPA_trend |  0.93046 | 0.00054  |\n",
       "| s_start_year | -0.78175 | 0.00000  |\n",
       "| avs_net_cost:factor(s_College)GD Harpur | -0.35352 | 0.00568  |\n",
       "| factor(funding_indicator)1:factor(s_College)GD Harpur | -0.45695 | 0.03403  |\n",
       "\n"
      ],
      "text/plain": [
       "                                                      Estimate Pr(>|z|)\n",
       "factor(funding_indicator)1                             1.36321 0.00000 \n",
       "factor(s_Citizenship)Africa                            0.81684 0.00951 \n",
       "factor(s_Citizenship)Asia                              0.57039 0.00010 \n",
       "factor(s_Citizenship)China                             0.29270 0.04076 \n",
       "avs_net_cost                                           0.35756 0.00230 \n",
       "s_SAPC3                                                0.16307 0.04899 \n",
       "GPA_trend                                              0.93046 0.00054 \n",
       "s_start_year                                          -0.78175 0.00000 \n",
       "avs_net_cost:factor(s_College)GD Harpur               -0.35352 0.00568 \n",
       "factor(funding_indicator)1:factor(s_College)GD Harpur -0.45695 0.03403 "
      ]
     },
     "metadata": {},
     "output_type": "display_data"
    }
   ],
   "source": [
    "round(summary(log_mod_total_aic)$coeff[which(summary(log_mod_total_aic)$coef[,4] <= .05),c(1,4)],5)"
   ]
  },
  {
   "cell_type": "markdown",
   "metadata": {},
   "source": [
    "<b> Both BIC:"
   ]
  },
  {
   "cell_type": "code",
   "execution_count": 104,
   "metadata": {},
   "outputs": [
    {
     "name": "stdout",
     "output_type": "stream",
     "text": [
      "Start:  AIC=3076.63\n",
      "Y ~ factor(funding_indicator) + factor(s_Citizenship) + avs_net_cost + \n",
      "    s_SAPC1 + s_SAPC3 + GPA_trend + s_start_year + factor(s_College) + \n",
      "    avs_net_cost:factor(s_College) + factor(s_College):factor(s_Citizenship) + \n",
      "    factor(s_College):s_SAPC1 + factor(s_College):s_SAPC3 + factor(s_College):factor(funding_indicator) + \n",
      "    factor(s_College):GPA_trend + s_start_year:factor(s_College)\n",
      "\n",
      "                                              Df Deviance    AIC\n",
      "- factor(s_Citizenship):factor(s_College)      3   2953.0 3059.1\n",
      "- s_start_year:factor(s_College)               1   2952.1 3070.8\n",
      "- GPA_trend:factor(s_College)                  1   2952.6 3071.3\n",
      "- s_SAPC1:factor(s_College)                    1   2952.7 3071.3\n",
      "- s_SAPC3:factor(s_College)                    1   2954.4 3073.1\n",
      "- factor(funding_indicator):factor(s_College)  1   2954.8 3073.5\n",
      "<none>                                             2951.7 3076.6\n",
      "- avs_net_cost:factor(s_College)               1   2960.2 3078.8\n",
      "\n",
      "Step:  AIC=3059.12\n",
      "Y ~ factor(funding_indicator) + factor(s_Citizenship) + avs_net_cost + \n",
      "    s_SAPC1 + s_SAPC3 + GPA_trend + s_start_year + factor(s_College) + \n",
      "    avs_net_cost:factor(s_College) + s_SAPC1:factor(s_College) + \n",
      "    s_SAPC3:factor(s_College) + factor(funding_indicator):factor(s_College) + \n",
      "    GPA_trend:factor(s_College) + s_start_year:factor(s_College)\n",
      "\n",
      "                                              Df Deviance    AIC\n",
      "- s_start_year:factor(s_College)               1   2953.3 3053.2\n",
      "- GPA_trend:factor(s_College)                  1   2953.9 3053.8\n",
      "- s_SAPC1:factor(s_College)                    1   2954.0 3053.9\n",
      "- factor(funding_indicator):factor(s_College)  1   2956.0 3055.9\n",
      "- s_SAPC3:factor(s_College)                    1   2956.2 3056.1\n",
      "<none>                                             2953.0 3059.1\n",
      "- avs_net_cost:factor(s_College)               1   2961.4 3061.3\n",
      "- factor(s_Citizenship)                        3   2975.2 3062.6\n",
      "+ factor(s_Citizenship):factor(s_College)      3   2951.7 3076.6\n",
      "\n",
      "Step:  AIC=3053.2\n",
      "Y ~ factor(funding_indicator) + factor(s_Citizenship) + avs_net_cost + \n",
      "    s_SAPC1 + s_SAPC3 + GPA_trend + s_start_year + factor(s_College) + \n",
      "    avs_net_cost:factor(s_College) + s_SAPC1:factor(s_College) + \n",
      "    s_SAPC3:factor(s_College) + factor(funding_indicator):factor(s_College) + \n",
      "    GPA_trend:factor(s_College)\n",
      "\n",
      "                                              Df Deviance    AIC\n",
      "- GPA_trend:factor(s_College)                  1   2954.1 3047.8\n",
      "- s_SAPC1:factor(s_College)                    1   2954.6 3048.2\n",
      "- s_SAPC3:factor(s_College)                    1   2956.3 3050.0\n",
      "- factor(funding_indicator):factor(s_College)  1   2957.6 3051.3\n",
      "<none>                                             2953.3 3053.2\n",
      "- avs_net_cost:factor(s_College)               1   2962.0 3055.7\n",
      "- factor(s_Citizenship)                        3   2975.3 3056.5\n",
      "+ s_start_year:factor(s_College)               1   2953.0 3059.1\n",
      "+ factor(s_Citizenship):factor(s_College)      3   2952.1 3070.8\n",
      "- s_start_year                                 1   3165.1 3258.7\n",
      "\n",
      "Step:  AIC=3047.8\n",
      "Y ~ factor(funding_indicator) + factor(s_Citizenship) + avs_net_cost + \n",
      "    s_SAPC1 + s_SAPC3 + GPA_trend + s_start_year + factor(s_College) + \n",
      "    avs_net_cost:factor(s_College) + s_SAPC1:factor(s_College) + \n",
      "    s_SAPC3:factor(s_College) + factor(funding_indicator):factor(s_College)\n",
      "\n",
      "                                              Df Deviance    AIC\n",
      "- s_SAPC1:factor(s_College)                    1   2955.4 3042.8\n",
      "- s_SAPC3:factor(s_College)                    1   2957.4 3044.8\n",
      "- factor(funding_indicator):factor(s_College)  1   2958.5 3045.9\n",
      "<none>                                             2954.1 3047.8\n",
      "- avs_net_cost:factor(s_College)               1   2963.0 3050.4\n",
      "- factor(s_Citizenship)                        3   2976.1 3051.0\n",
      "+ GPA_trend:factor(s_College)                  1   2953.3 3053.2\n",
      "+ s_start_year:factor(s_College)               1   2953.9 3053.8\n",
      "- GPA_trend                                    1   2966.7 3054.1\n",
      "+ factor(s_Citizenship):factor(s_College)      3   2953.0 3065.4\n",
      "- s_start_year                                 1   3166.1 3253.5\n",
      "\n",
      "Step:  AIC=3042.84\n",
      "Y ~ factor(funding_indicator) + factor(s_Citizenship) + avs_net_cost + \n",
      "    s_SAPC1 + s_SAPC3 + GPA_trend + s_start_year + factor(s_College) + \n",
      "    avs_net_cost:factor(s_College) + s_SAPC3:factor(s_College) + \n",
      "    factor(funding_indicator):factor(s_College)\n",
      "\n",
      "                                              Df Deviance    AIC\n",
      "- s_SAPC1                                      1   2956.3 3037.4\n",
      "- s_SAPC3:factor(s_College)                    1   2957.6 3038.8\n",
      "- factor(funding_indicator):factor(s_College)  1   2959.9 3041.1\n",
      "<none>                                             2955.4 3042.8\n",
      "- avs_net_cost:factor(s_College)               1   2964.6 3045.8\n",
      "- factor(s_Citizenship)                        3   2978.2 3046.8\n",
      "+ s_SAPC1:factor(s_College)                    1   2954.1 3047.8\n",
      "+ GPA_trend:factor(s_College)                  1   2954.6 3048.2\n",
      "+ s_start_year:factor(s_College)               1   2954.9 3048.6\n",
      "- GPA_trend                                    1   2968.0 3049.2\n",
      "+ factor(s_Citizenship):factor(s_College)      3   2954.1 3060.3\n",
      "- s_start_year                                 1   3166.2 3247.4\n",
      "\n",
      "Step:  AIC=3037.43\n",
      "Y ~ factor(funding_indicator) + factor(s_Citizenship) + avs_net_cost + \n",
      "    s_SAPC3 + GPA_trend + s_start_year + factor(s_College) + \n",
      "    avs_net_cost:factor(s_College) + s_SAPC3:factor(s_College) + \n",
      "    factor(funding_indicator):factor(s_College)\n",
      "\n",
      "                                              Df Deviance    AIC\n",
      "- s_SAPC3:factor(s_College)                    1   2958.5 3033.4\n",
      "- factor(funding_indicator):factor(s_College)  1   2960.7 3035.7\n",
      "<none>                                             2956.3 3037.4\n",
      "- avs_net_cost:factor(s_College)               1   2965.5 3040.4\n",
      "- factor(s_Citizenship)                        3   2979.0 3041.5\n",
      "+ s_SAPC1                                      1   2955.4 3042.8\n",
      "+ GPA_trend:factor(s_College)                  1   2955.5 3042.9\n",
      "+ s_start_year:factor(s_College)               1   2955.8 3043.2\n",
      "- GPA_trend                                    1   2969.2 3044.1\n",
      "+ factor(s_Citizenship):factor(s_College)      3   2955.0 3054.9\n",
      "- s_start_year                                 1   3166.6 3241.5\n",
      "\n",
      "Step:  AIC=3033.39\n",
      "Y ~ factor(funding_indicator) + factor(s_Citizenship) + avs_net_cost + \n",
      "    s_SAPC3 + GPA_trend + s_start_year + factor(s_College) + \n",
      "    avs_net_cost:factor(s_College) + factor(funding_indicator):factor(s_College)\n",
      "\n",
      "                                              Df Deviance    AIC\n",
      "- s_SAPC3                                      1   2960.4 3029.1\n",
      "- factor(funding_indicator):factor(s_College)  1   2962.5 3031.1\n",
      "<none>                                             2958.5 3033.4\n",
      "- avs_net_cost:factor(s_College)               1   2967.5 3036.2\n",
      "- factor(s_Citizenship)                        3   2981.2 3037.4\n",
      "+ s_SAPC3:factor(s_College)                    1   2956.3 3037.4\n",
      "+ GPA_trend:factor(s_College)                  1   2957.5 3038.7\n",
      "+ s_SAPC1                                      1   2957.6 3038.8\n",
      "+ s_start_year:factor(s_College)               1   2958.3 3039.4\n",
      "- GPA_trend                                    1   2972.0 3040.7\n",
      "+ factor(s_Citizenship):factor(s_College)      3   2956.8 3050.5\n",
      "- s_start_year                                 1   3180.7 3249.4\n",
      "\n",
      "Step:  AIC=3029.08\n",
      "Y ~ factor(funding_indicator) + factor(s_Citizenship) + avs_net_cost + \n",
      "    GPA_trend + s_start_year + factor(s_College) + avs_net_cost:factor(s_College) + \n",
      "    factor(funding_indicator):factor(s_College)\n",
      "\n",
      "                                              Df Deviance    AIC\n",
      "- factor(funding_indicator):factor(s_College)  1   2964.0 3026.5\n",
      "<none>                                             2960.4 3029.1\n",
      "- factor(s_Citizenship)                        3   2981.3 3031.3\n",
      "- avs_net_cost:factor(s_College)               1   2969.8 3032.2\n",
      "+ s_SAPC3                                      1   2958.5 3033.4\n",
      "+ GPA_trend:factor(s_College)                  1   2959.3 3034.2\n",
      "+ s_SAPC1                                      1   2959.8 3034.7\n",
      "+ s_start_year:factor(s_College)               1   2960.3 3035.3\n",
      "- GPA_trend                                    1   2974.2 3036.7\n",
      "+ factor(s_Citizenship):factor(s_College)      3   2958.8 3046.2\n",
      "- s_start_year                                 1   3183.1 3245.5\n"
     ]
    },
    {
     "name": "stdout",
     "output_type": "stream",
     "text": [
      "\n",
      "Step:  AIC=3026.45\n",
      "Y ~ factor(funding_indicator) + factor(s_Citizenship) + avs_net_cost + \n",
      "    GPA_trend + s_start_year + factor(s_College) + avs_net_cost:factor(s_College)\n",
      "\n",
      "                                              Df Deviance    AIC\n",
      "<none>                                             2964.0 3026.5\n",
      "- avs_net_cost:factor(s_College)               1   2971.9 3028.1\n",
      "+ factor(funding_indicator):factor(s_College)  1   2960.4 3029.1\n",
      "+ s_SAPC3                                      1   2962.5 3031.1\n",
      "+ GPA_trend:factor(s_College)                  1   2962.9 3031.6\n",
      "+ s_start_year:factor(s_College)               1   2963.2 3031.9\n",
      "+ s_SAPC1                                      1   2963.4 3032.1\n",
      "- factor(s_Citizenship)                        3   2989.0 3032.7\n",
      "- GPA_trend                                    1   2978.3 3034.5\n",
      "+ factor(s_Citizenship):factor(s_College)      3   2962.7 3043.9\n",
      "- factor(funding_indicator)                    1   3063.2 3119.4\n",
      "- s_start_year                                 1   3206.1 3262.3\n"
     ]
    }
   ],
   "source": [
    "log_mod_total_bic = stepAIC(log_mod_total, direction = \"both\", k = log(e_n))"
   ]
  },
  {
   "cell_type": "markdown",
   "metadata": {},
   "source": [
    "<b>Significant variables both BIC selects:"
   ]
  },
  {
   "cell_type": "code",
   "execution_count": 105,
   "metadata": {},
   "outputs": [
    {
     "data": {
      "text/html": [
       "<table>\n",
       "<thead><tr><th></th><th scope=col>Estimate</th><th scope=col>Pr(&gt;|z|)</th></tr></thead>\n",
       "<tbody>\n",
       "\t<tr><th scope=row>factor(funding_indicator)1</th><td> 1.08368</td><td>0.00000 </td></tr>\n",
       "\t<tr><th scope=row>factor(s_Citizenship)Africa</th><td> 0.81832</td><td>0.00900 </td></tr>\n",
       "\t<tr><th scope=row>factor(s_Citizenship)Asia</th><td> 0.56832</td><td>0.00005 </td></tr>\n",
       "\t<tr><th scope=row>factor(s_Citizenship)China</th><td> 0.30104</td><td>0.02982 </td></tr>\n",
       "\t<tr><th scope=row>avs_net_cost</th><td> 0.33093</td><td>0.00346 </td></tr>\n",
       "\t<tr><th scope=row>GPA_trend</th><td> 0.97490</td><td>0.00028 </td></tr>\n",
       "\t<tr><th scope=row>s_start_year</th><td>-0.81552</td><td>0.00000 </td></tr>\n",
       "\t<tr><th scope=row>factor(s_College)GD Harpur</th><td>-0.59239</td><td>0.00000 </td></tr>\n",
       "\t<tr><th scope=row>avs_net_cost:factor(s_College)GD Harpur</th><td>-0.32011</td><td>0.00960 </td></tr>\n",
       "</tbody>\n",
       "</table>\n"
      ],
      "text/latex": [
       "\\begin{tabular}{r|ll}\n",
       "  & Estimate & Pr(>\\textbar{}z\\textbar{})\\\\\n",
       "\\hline\n",
       "\tfactor(funding\\_indicator)1 &  1.08368 & 0.00000 \\\\\n",
       "\tfactor(s\\_Citizenship)Africa &  0.81832 & 0.00900 \\\\\n",
       "\tfactor(s\\_Citizenship)Asia &  0.56832 & 0.00005 \\\\\n",
       "\tfactor(s\\_Citizenship)China &  0.30104 & 0.02982 \\\\\n",
       "\tavs\\_net\\_cost &  0.33093 & 0.00346 \\\\\n",
       "\tGPA\\_trend &  0.97490 & 0.00028 \\\\\n",
       "\ts\\_start\\_year & -0.81552 & 0.00000 \\\\\n",
       "\tfactor(s\\_College)GD Harpur & -0.59239 & 0.00000 \\\\\n",
       "\tavs\\_net\\_cost:factor(s\\_College)GD Harpur & -0.32011 & 0.00960 \\\\\n",
       "\\end{tabular}\n"
      ],
      "text/markdown": [
       "\n",
       "| <!--/--> | Estimate | Pr(>|z|) |\n",
       "|---|---|---|\n",
       "| factor(funding_indicator)1 |  1.08368 | 0.00000  |\n",
       "| factor(s_Citizenship)Africa |  0.81832 | 0.00900  |\n",
       "| factor(s_Citizenship)Asia |  0.56832 | 0.00005  |\n",
       "| factor(s_Citizenship)China |  0.30104 | 0.02982  |\n",
       "| avs_net_cost |  0.33093 | 0.00346  |\n",
       "| GPA_trend |  0.97490 | 0.00028  |\n",
       "| s_start_year | -0.81552 | 0.00000  |\n",
       "| factor(s_College)GD Harpur | -0.59239 | 0.00000  |\n",
       "| avs_net_cost:factor(s_College)GD Harpur | -0.32011 | 0.00960  |\n",
       "\n"
      ],
      "text/plain": [
       "                                        Estimate Pr(>|z|)\n",
       "factor(funding_indicator)1               1.08368 0.00000 \n",
       "factor(s_Citizenship)Africa              0.81832 0.00900 \n",
       "factor(s_Citizenship)Asia                0.56832 0.00005 \n",
       "factor(s_Citizenship)China               0.30104 0.02982 \n",
       "avs_net_cost                             0.33093 0.00346 \n",
       "GPA_trend                                0.97490 0.00028 \n",
       "s_start_year                            -0.81552 0.00000 \n",
       "factor(s_College)GD Harpur              -0.59239 0.00000 \n",
       "avs_net_cost:factor(s_College)GD Harpur -0.32011 0.00960 "
      ]
     },
     "metadata": {},
     "output_type": "display_data"
    }
   ],
   "source": [
    "round(summary(log_mod_total_bic)$coeff[which(summary(log_mod_total_bic)$coef[,4] <= .05),c(1,4)],5)"
   ]
  },
  {
   "cell_type": "markdown",
   "metadata": {},
   "source": [
    "<b>After analysis the interaction term:"
   ]
  },
  {
   "cell_type": "markdown",
   "metadata": {},
   "source": [
    "<b> Logistic regression model:"
   ]
  },
  {
   "cell_type": "code",
   "execution_count": 106,
   "metadata": {},
   "outputs": [],
   "source": [
    "df <- within(df, s_College <- relevel(s_College, ref = \"GD Harpur\"))"
   ]
  },
  {
   "cell_type": "code",
   "execution_count": 107,
   "metadata": {},
   "outputs": [
    {
     "data": {
      "text/plain": [
       "\n",
       "Call:\n",
       "glm(formula = Y ~ factor(funding_indicator) + factor(s_Citizenship) + \n",
       "    avs_net_cost + s_SAPC1 + s_SAPC3 + GPA_trend + s_start_year + \n",
       "    factor(s_College) + avs_net_cost:factor(s_College) + factor(s_College):factor(s_Citizenship) + \n",
       "    factor(s_College):s_SAPC1 + factor(s_College):s_SAPC3 + factor(s_College):factor(funding_indicator) + \n",
       "    factor(s_College):GPA_trend + s_start_year:factor(s_College), \n",
       "    family = \"binomial\", data = df)\n",
       "\n",
       "Deviance Residuals: \n",
       "    Min       1Q   Median       3Q      Max  \n",
       "-2.6594  -1.0950   0.6834   0.9270   1.9876  \n",
       "\n",
       "Coefficients:\n",
       "                                                            Estimate Std. Error\n",
       "(Intercept)                                                -0.460870   0.128246\n",
       "factor(funding_indicator)1                                  0.936811   0.146454\n",
       "factor(s_Citizenship)Africa                                 0.715220   0.332672\n",
       "factor(s_Citizenship)Asia                                   0.623005   0.192975\n",
       "factor(s_Citizenship)China                                  0.356493   0.198123\n",
       "avs_net_cost                                                0.007116   0.050938\n",
       "s_SAPC1                                                     0.042103   0.051103\n",
       "s_SAPC3                                                     0.028269   0.054940\n",
       "GPA_trend                                                   0.761532   0.318063\n",
       "s_start_year                                               -0.815875   0.072208\n",
       "factor(s_College)GD Non-Harpur                              0.336729   0.187047\n",
       "avs_net_cost:factor(s_College)GD Non-Harpur                 0.335119   0.126677\n",
       "factor(s_Citizenship)Africa:factor(s_College)GD Non-Harpur  0.941701   1.153357\n",
       "factor(s_Citizenship)Asia:factor(s_College)GD Non-Harpur   -0.166653   0.299874\n",
       "factor(s_Citizenship)China:factor(s_College)GD Non-Harpur  -0.078711   0.292253\n",
       "s_SAPC1:factor(s_College)GD Non-Harpur                      0.470162   0.486323\n",
       "s_SAPC3:factor(s_College)GD Non-Harpur                      0.179879   0.111628\n",
       "factor(funding_indicator)1:factor(s_College)GD Non-Harpur   0.411285   0.234406\n",
       "GPA_trend:factor(s_College)GD Non-Harpur                    0.547143   0.588259\n",
       "s_start_year:factor(s_College)GD Non-Harpur                 0.077975   0.126688\n",
       "                                                           z value Pr(>|z|)    \n",
       "(Intercept)                                                 -3.594 0.000326 ***\n",
       "factor(funding_indicator)1                                   6.397 1.59e-10 ***\n",
       "factor(s_Citizenship)Africa                                  2.150 0.031561 *  \n",
       "factor(s_Citizenship)Asia                                    3.228 0.001245 ** \n",
       "factor(s_Citizenship)China                                   1.799 0.071964 .  \n",
       "avs_net_cost                                                 0.140 0.888897    \n",
       "s_SAPC1                                                      0.824 0.410005    \n",
       "s_SAPC3                                                      0.515 0.606868    \n",
       "GPA_trend                                                    2.394 0.016653 *  \n",
       "s_start_year                                               -11.299  < 2e-16 ***\n",
       "factor(s_College)GD Non-Harpur                               1.800 0.071822 .  \n",
       "avs_net_cost:factor(s_College)GD Non-Harpur                  2.645 0.008158 ** \n",
       "factor(s_Citizenship)Africa:factor(s_College)GD Non-Harpur   0.816 0.414222    \n",
       "factor(s_Citizenship)Asia:factor(s_College)GD Non-Harpur    -0.556 0.578387    \n",
       "factor(s_Citizenship)China:factor(s_College)GD Non-Harpur   -0.269 0.787679    \n",
       "s_SAPC1:factor(s_College)GD Non-Harpur                       0.967 0.333660    \n",
       "s_SAPC3:factor(s_College)GD Non-Harpur                       1.611 0.107089    \n",
       "factor(funding_indicator)1:factor(s_College)GD Non-Harpur    1.755 0.079330 .  \n",
       "GPA_trend:factor(s_College)GD Non-Harpur                     0.930 0.352316    \n",
       "s_start_year:factor(s_College)GD Non-Harpur                  0.615 0.538232    \n",
       "---\n",
       "Signif. codes:  0 '***' 0.001 '**' 0.01 '*' 0.05 '.' 0.1 ' ' 1\n",
       "\n",
       "(Dispersion parameter for binomial family taken to be 1)\n",
       "\n",
       "    Null deviance: 3281.8  on 2469  degrees of freedom\n",
       "Residual deviance: 2951.7  on 2450  degrees of freedom\n",
       "AIC: 2991.7\n",
       "\n",
       "Number of Fisher Scoring iterations: 4\n"
      ]
     },
     "metadata": {},
     "output_type": "display_data"
    }
   ],
   "source": [
    "log_mod_total = glm(Y~factor(funding_indicator)+factor(s_Citizenship)+\n",
    "                avs_net_cost+s_SAPC1+s_SAPC3+GPA_trend+s_start_year+factor(s_College)+avs_net_cost:factor(s_College)+\n",
    "                factor(s_College):factor(s_Citizenship)+factor(s_College):s_SAPC1+factor(s_College):s_SAPC3+\n",
    "                factor(s_College):factor(funding_indicator)+factor(s_College):GPA_trend+s_start_year:factor(s_College),\n",
    "                data=df,family=\"binomial\")\n",
    "summary(log_mod_total)"
   ]
  },
  {
   "cell_type": "markdown",
   "metadata": {},
   "source": [
    "<b> Significant Variables of logistic regression model:"
   ]
  },
  {
   "cell_type": "code",
   "execution_count": 108,
   "metadata": {
    "scrolled": true
   },
   "outputs": [
    {
     "data": {
      "text/html": [
       "<table>\n",
       "<thead><tr><th></th><th scope=col>Estimate</th><th scope=col>Pr(&gt;|z|)</th></tr></thead>\n",
       "<tbody>\n",
       "\t<tr><th scope=row>(Intercept)</th><td>-0.46087</td><td>0.00033 </td></tr>\n",
       "\t<tr><th scope=row>factor(funding_indicator)1</th><td> 0.93681</td><td>0.00000 </td></tr>\n",
       "\t<tr><th scope=row>factor(s_Citizenship)Africa</th><td> 0.71522</td><td>0.03156 </td></tr>\n",
       "\t<tr><th scope=row>factor(s_Citizenship)Asia</th><td> 0.62300</td><td>0.00124 </td></tr>\n",
       "\t<tr><th scope=row>GPA_trend</th><td> 0.76153</td><td>0.01665 </td></tr>\n",
       "\t<tr><th scope=row>s_start_year</th><td>-0.81587</td><td>0.00000 </td></tr>\n",
       "\t<tr><th scope=row>avs_net_cost:factor(s_College)GD Non-Harpur</th><td> 0.33512</td><td>0.00816 </td></tr>\n",
       "</tbody>\n",
       "</table>\n"
      ],
      "text/latex": [
       "\\begin{tabular}{r|ll}\n",
       "  & Estimate & Pr(>\\textbar{}z\\textbar{})\\\\\n",
       "\\hline\n",
       "\t(Intercept) & -0.46087 & 0.00033 \\\\\n",
       "\tfactor(funding\\_indicator)1 &  0.93681 & 0.00000 \\\\\n",
       "\tfactor(s\\_Citizenship)Africa &  0.71522 & 0.03156 \\\\\n",
       "\tfactor(s\\_Citizenship)Asia &  0.62300 & 0.00124 \\\\\n",
       "\tGPA\\_trend &  0.76153 & 0.01665 \\\\\n",
       "\ts\\_start\\_year & -0.81587 & 0.00000 \\\\\n",
       "\tavs\\_net\\_cost:factor(s\\_College)GD Non-Harpur &  0.33512 & 0.00816 \\\\\n",
       "\\end{tabular}\n"
      ],
      "text/markdown": [
       "\n",
       "| <!--/--> | Estimate | Pr(>|z|) |\n",
       "|---|---|---|\n",
       "| (Intercept) | -0.46087 | 0.00033  |\n",
       "| factor(funding_indicator)1 |  0.93681 | 0.00000  |\n",
       "| factor(s_Citizenship)Africa |  0.71522 | 0.03156  |\n",
       "| factor(s_Citizenship)Asia |  0.62300 | 0.00124  |\n",
       "| GPA_trend |  0.76153 | 0.01665  |\n",
       "| s_start_year | -0.81587 | 0.00000  |\n",
       "| avs_net_cost:factor(s_College)GD Non-Harpur |  0.33512 | 0.00816  |\n",
       "\n"
      ],
      "text/plain": [
       "                                            Estimate Pr(>|z|)\n",
       "(Intercept)                                 -0.46087 0.00033 \n",
       "factor(funding_indicator)1                   0.93681 0.00000 \n",
       "factor(s_Citizenship)Africa                  0.71522 0.03156 \n",
       "factor(s_Citizenship)Asia                    0.62300 0.00124 \n",
       "GPA_trend                                    0.76153 0.01665 \n",
       "s_start_year                                -0.81587 0.00000 \n",
       "avs_net_cost:factor(s_College)GD Non-Harpur  0.33512 0.00816 "
      ]
     },
     "metadata": {},
     "output_type": "display_data"
    }
   ],
   "source": [
    "round(summary(log_mod_total)$coeff[which(summary(log_mod_total)$coef[,4] <= .05),c(1,4)],5)"
   ]
  },
  {
   "cell_type": "markdown",
   "metadata": {},
   "source": [
    "<b> Both AIC:"
   ]
  },
  {
   "cell_type": "code",
   "execution_count": 109,
   "metadata": {},
   "outputs": [
    {
     "name": "stdout",
     "output_type": "stream",
     "text": [
      "Start:  AIC=2991.74\n",
      "Y ~ factor(funding_indicator) + factor(s_Citizenship) + avs_net_cost + \n",
      "    s_SAPC1 + s_SAPC3 + GPA_trend + s_start_year + factor(s_College) + \n",
      "    avs_net_cost:factor(s_College) + factor(s_College):factor(s_Citizenship) + \n",
      "    factor(s_College):s_SAPC1 + factor(s_College):s_SAPC3 + factor(s_College):factor(funding_indicator) + \n",
      "    factor(s_College):GPA_trend + s_start_year:factor(s_College)\n",
      "\n",
      "                                              Df Deviance    AIC\n",
      "- factor(s_Citizenship):factor(s_College)      3   2953.0 2987.0\n",
      "- s_start_year:factor(s_College)               1   2952.1 2990.1\n",
      "- GPA_trend:factor(s_College)                  1   2952.6 2990.6\n",
      "- s_SAPC1:factor(s_College)                    1   2952.7 2990.7\n",
      "<none>                                             2951.7 2991.7\n",
      "- s_SAPC3:factor(s_College)                    1   2954.4 2992.4\n",
      "- factor(funding_indicator):factor(s_College)  1   2954.8 2992.8\n",
      "- avs_net_cost:factor(s_College)               1   2960.2 2998.2\n",
      "\n",
      "Step:  AIC=2986.97\n",
      "Y ~ factor(funding_indicator) + factor(s_Citizenship) + avs_net_cost + \n",
      "    s_SAPC1 + s_SAPC3 + GPA_trend + s_start_year + factor(s_College) + \n",
      "    avs_net_cost:factor(s_College) + s_SAPC1:factor(s_College) + \n",
      "    s_SAPC3:factor(s_College) + factor(funding_indicator):factor(s_College) + \n",
      "    GPA_trend:factor(s_College) + s_start_year:factor(s_College)\n",
      "\n",
      "                                              Df Deviance    AIC\n",
      "- s_start_year:factor(s_College)               1   2953.3 2985.3\n",
      "- GPA_trend:factor(s_College)                  1   2953.9 2985.9\n",
      "- s_SAPC1:factor(s_College)                    1   2954.0 2986.0\n",
      "<none>                                             2953.0 2987.0\n",
      "- factor(funding_indicator):factor(s_College)  1   2956.0 2988.0\n",
      "- s_SAPC3:factor(s_College)                    1   2956.2 2988.2\n",
      "+ factor(s_Citizenship):factor(s_College)      3   2951.7 2991.7\n",
      "- avs_net_cost:factor(s_College)               1   2961.4 2993.4\n",
      "- factor(s_Citizenship)                        3   2975.2 3003.2\n",
      "\n",
      "Step:  AIC=2985.29\n",
      "Y ~ factor(funding_indicator) + factor(s_Citizenship) + avs_net_cost + \n",
      "    s_SAPC1 + s_SAPC3 + GPA_trend + s_start_year + factor(s_College) + \n",
      "    avs_net_cost:factor(s_College) + s_SAPC1:factor(s_College) + \n",
      "    s_SAPC3:factor(s_College) + factor(funding_indicator):factor(s_College) + \n",
      "    GPA_trend:factor(s_College)\n",
      "\n",
      "                                              Df Deviance    AIC\n",
      "- GPA_trend:factor(s_College)                  1   2954.1 2984.1\n",
      "- s_SAPC1:factor(s_College)                    1   2954.6 2984.6\n",
      "<none>                                             2953.3 2985.3\n",
      "- s_SAPC3:factor(s_College)                    1   2956.3 2986.3\n",
      "+ s_start_year:factor(s_College)               1   2953.0 2987.0\n",
      "- factor(funding_indicator):factor(s_College)  1   2957.6 2987.6\n",
      "+ factor(s_Citizenship):factor(s_College)      3   2952.1 2990.1\n",
      "- avs_net_cost:factor(s_College)               1   2962.0 2992.0\n",
      "- factor(s_Citizenship)                        3   2975.3 3001.3\n",
      "- s_start_year                                 1   3165.1 3195.1\n",
      "\n",
      "Step:  AIC=2984.14\n",
      "Y ~ factor(funding_indicator) + factor(s_Citizenship) + avs_net_cost + \n",
      "    s_SAPC1 + s_SAPC3 + GPA_trend + s_start_year + factor(s_College) + \n",
      "    avs_net_cost:factor(s_College) + s_SAPC1:factor(s_College) + \n",
      "    s_SAPC3:factor(s_College) + factor(funding_indicator):factor(s_College)\n",
      "\n",
      "                                              Df Deviance    AIC\n",
      "- s_SAPC1:factor(s_College)                    1   2955.4 2983.4\n",
      "<none>                                             2954.1 2984.1\n",
      "+ GPA_trend:factor(s_College)                  1   2953.3 2985.3\n",
      "- s_SAPC3:factor(s_College)                    1   2957.4 2985.4\n",
      "+ s_start_year:factor(s_College)               1   2953.9 2985.9\n",
      "- factor(funding_indicator):factor(s_College)  1   2958.5 2986.5\n",
      "+ factor(s_Citizenship):factor(s_College)      3   2953.0 2989.0\n",
      "- avs_net_cost:factor(s_College)               1   2963.0 2991.0\n",
      "- GPA_trend                                    1   2966.7 2994.7\n",
      "- factor(s_Citizenship)                        3   2976.1 3000.1\n",
      "- s_start_year                                 1   3166.1 3194.1\n",
      "\n",
      "Step:  AIC=2983.42\n",
      "Y ~ factor(funding_indicator) + factor(s_Citizenship) + avs_net_cost + \n",
      "    s_SAPC1 + s_SAPC3 + GPA_trend + s_start_year + factor(s_College) + \n",
      "    avs_net_cost:factor(s_College) + s_SAPC3:factor(s_College) + \n",
      "    factor(funding_indicator):factor(s_College)\n",
      "\n",
      "                                              Df Deviance    AIC\n",
      "- s_SAPC1                                      1   2956.3 2982.3\n",
      "<none>                                             2955.4 2983.4\n",
      "- s_SAPC3:factor(s_College)                    1   2957.6 2983.6\n",
      "+ s_SAPC1:factor(s_College)                    1   2954.1 2984.1\n",
      "+ GPA_trend:factor(s_College)                  1   2954.6 2984.6\n",
      "+ s_start_year:factor(s_College)               1   2954.9 2984.9\n",
      "- factor(funding_indicator):factor(s_College)  1   2959.9 2985.9\n",
      "+ factor(s_Citizenship):factor(s_College)      3   2954.1 2988.1\n",
      "- avs_net_cost:factor(s_College)               1   2964.6 2990.6\n",
      "- GPA_trend                                    1   2968.0 2994.0\n",
      "- factor(s_Citizenship)                        3   2978.2 3000.2\n",
      "- s_start_year                                 1   3166.2 3192.2\n",
      "\n",
      "Step:  AIC=2982.26\n",
      "Y ~ factor(funding_indicator) + factor(s_Citizenship) + avs_net_cost + \n",
      "    s_SAPC3 + GPA_trend + s_start_year + factor(s_College) + \n",
      "    avs_net_cost:factor(s_College) + s_SAPC3:factor(s_College) + \n",
      "    factor(funding_indicator):factor(s_College)\n",
      "\n",
      "                                              Df Deviance    AIC\n",
      "<none>                                             2956.3 2982.3\n",
      "- s_SAPC3:factor(s_College)                    1   2958.5 2982.5\n",
      "+ s_SAPC1                                      1   2955.4 2983.4\n",
      "+ GPA_trend:factor(s_College)                  1   2955.5 2983.5\n",
      "+ s_start_year:factor(s_College)               1   2955.8 2983.8\n",
      "- factor(funding_indicator):factor(s_College)  1   2960.7 2984.7\n",
      "+ factor(s_Citizenship):factor(s_College)      3   2955.0 2987.0\n",
      "- avs_net_cost:factor(s_College)               1   2965.5 2989.5\n",
      "- GPA_trend                                    1   2969.2 2993.2\n",
      "- factor(s_Citizenship)                        3   2979.0 2999.0\n",
      "- s_start_year                                 1   3166.6 3190.6\n"
     ]
    }
   ],
   "source": [
    "log_mod_total_aic= stepAIC(log_mod_total, direction = 'both')"
   ]
  },
  {
   "cell_type": "markdown",
   "metadata": {},
   "source": [
    "<b> Significant variables both AIC selects:"
   ]
  },
  {
   "cell_type": "code",
   "execution_count": 110,
   "metadata": {},
   "outputs": [
    {
     "data": {
      "text/html": [
       "<table>\n",
       "<thead><tr><th></th><th scope=col>Estimate</th><th scope=col>Pr(&gt;|z|)</th></tr></thead>\n",
       "<tbody>\n",
       "\t<tr><th scope=row>(Intercept)</th><td>-0.43215</td><td>0.00034 </td></tr>\n",
       "\t<tr><th scope=row>factor(funding_indicator)1</th><td> 0.90626</td><td>0.00000 </td></tr>\n",
       "\t<tr><th scope=row>factor(s_Citizenship)Africa</th><td> 0.81684</td><td>0.00951 </td></tr>\n",
       "\t<tr><th scope=row>factor(s_Citizenship)Asia</th><td> 0.57039</td><td>0.00010 </td></tr>\n",
       "\t<tr><th scope=row>factor(s_Citizenship)China</th><td> 0.29270</td><td>0.04076 </td></tr>\n",
       "\t<tr><th scope=row>GPA_trend</th><td> 0.93046</td><td>0.00054 </td></tr>\n",
       "\t<tr><th scope=row>s_start_year</th><td>-0.78175</td><td>0.00000 </td></tr>\n",
       "\t<tr><th scope=row>avs_net_cost:factor(s_College)GD Non-Harpur</th><td> 0.35352</td><td>0.00568 </td></tr>\n",
       "\t<tr><th scope=row>factor(funding_indicator)1:factor(s_College)GD Non-Harpur</th><td> 0.45695</td><td>0.03403 </td></tr>\n",
       "</tbody>\n",
       "</table>\n"
      ],
      "text/latex": [
       "\\begin{tabular}{r|ll}\n",
       "  & Estimate & Pr(>\\textbar{}z\\textbar{})\\\\\n",
       "\\hline\n",
       "\t(Intercept) & -0.43215 & 0.00034 \\\\\n",
       "\tfactor(funding\\_indicator)1 &  0.90626 & 0.00000 \\\\\n",
       "\tfactor(s\\_Citizenship)Africa &  0.81684 & 0.00951 \\\\\n",
       "\tfactor(s\\_Citizenship)Asia &  0.57039 & 0.00010 \\\\\n",
       "\tfactor(s\\_Citizenship)China &  0.29270 & 0.04076 \\\\\n",
       "\tGPA\\_trend &  0.93046 & 0.00054 \\\\\n",
       "\ts\\_start\\_year & -0.78175 & 0.00000 \\\\\n",
       "\tavs\\_net\\_cost:factor(s\\_College)GD Non-Harpur &  0.35352 & 0.00568 \\\\\n",
       "\tfactor(funding\\_indicator)1:factor(s\\_College)GD Non-Harpur &  0.45695 & 0.03403 \\\\\n",
       "\\end{tabular}\n"
      ],
      "text/markdown": [
       "\n",
       "| <!--/--> | Estimate | Pr(>|z|) |\n",
       "|---|---|---|\n",
       "| (Intercept) | -0.43215 | 0.00034  |\n",
       "| factor(funding_indicator)1 |  0.90626 | 0.00000  |\n",
       "| factor(s_Citizenship)Africa |  0.81684 | 0.00951  |\n",
       "| factor(s_Citizenship)Asia |  0.57039 | 0.00010  |\n",
       "| factor(s_Citizenship)China |  0.29270 | 0.04076  |\n",
       "| GPA_trend |  0.93046 | 0.00054  |\n",
       "| s_start_year | -0.78175 | 0.00000  |\n",
       "| avs_net_cost:factor(s_College)GD Non-Harpur |  0.35352 | 0.00568  |\n",
       "| factor(funding_indicator)1:factor(s_College)GD Non-Harpur |  0.45695 | 0.03403  |\n",
       "\n"
      ],
      "text/plain": [
       "                                                          Estimate Pr(>|z|)\n",
       "(Intercept)                                               -0.43215 0.00034 \n",
       "factor(funding_indicator)1                                 0.90626 0.00000 \n",
       "factor(s_Citizenship)Africa                                0.81684 0.00951 \n",
       "factor(s_Citizenship)Asia                                  0.57039 0.00010 \n",
       "factor(s_Citizenship)China                                 0.29270 0.04076 \n",
       "GPA_trend                                                  0.93046 0.00054 \n",
       "s_start_year                                              -0.78175 0.00000 \n",
       "avs_net_cost:factor(s_College)GD Non-Harpur                0.35352 0.00568 \n",
       "factor(funding_indicator)1:factor(s_College)GD Non-Harpur  0.45695 0.03403 "
      ]
     },
     "metadata": {},
     "output_type": "display_data"
    }
   ],
   "source": [
    "round(summary(log_mod_total_aic)$coeff[which(summary(log_mod_total_aic)$coef[,4] <= .05),c(1,4)],5)"
   ]
  },
  {
   "cell_type": "markdown",
   "metadata": {},
   "source": [
    "<b>Both BIC"
   ]
  },
  {
   "cell_type": "code",
   "execution_count": 111,
   "metadata": {},
   "outputs": [
    {
     "name": "stdout",
     "output_type": "stream",
     "text": [
      "Start:  AIC=3076.63\n",
      "Y ~ factor(funding_indicator) + factor(s_Citizenship) + avs_net_cost + \n",
      "    s_SAPC1 + s_SAPC3 + GPA_trend + s_start_year + factor(s_College) + \n",
      "    avs_net_cost:factor(s_College) + factor(s_College):factor(s_Citizenship) + \n",
      "    factor(s_College):s_SAPC1 + factor(s_College):s_SAPC3 + factor(s_College):factor(funding_indicator) + \n",
      "    factor(s_College):GPA_trend + s_start_year:factor(s_College)\n",
      "\n",
      "                                              Df Deviance    AIC\n",
      "- factor(s_Citizenship):factor(s_College)      3   2953.0 3059.1\n",
      "- s_start_year:factor(s_College)               1   2952.1 3070.8\n",
      "- GPA_trend:factor(s_College)                  1   2952.6 3071.3\n",
      "- s_SAPC1:factor(s_College)                    1   2952.7 3071.3\n",
      "- s_SAPC3:factor(s_College)                    1   2954.4 3073.1\n",
      "- factor(funding_indicator):factor(s_College)  1   2954.8 3073.5\n",
      "<none>                                             2951.7 3076.6\n",
      "- avs_net_cost:factor(s_College)               1   2960.2 3078.8\n",
      "\n",
      "Step:  AIC=3059.12\n",
      "Y ~ factor(funding_indicator) + factor(s_Citizenship) + avs_net_cost + \n",
      "    s_SAPC1 + s_SAPC3 + GPA_trend + s_start_year + factor(s_College) + \n",
      "    avs_net_cost:factor(s_College) + s_SAPC1:factor(s_College) + \n",
      "    s_SAPC3:factor(s_College) + factor(funding_indicator):factor(s_College) + \n",
      "    GPA_trend:factor(s_College) + s_start_year:factor(s_College)\n",
      "\n",
      "                                              Df Deviance    AIC\n",
      "- s_start_year:factor(s_College)               1   2953.3 3053.2\n",
      "- GPA_trend:factor(s_College)                  1   2953.9 3053.8\n",
      "- s_SAPC1:factor(s_College)                    1   2954.0 3053.9\n",
      "- factor(funding_indicator):factor(s_College)  1   2956.0 3055.9\n",
      "- s_SAPC3:factor(s_College)                    1   2956.2 3056.1\n",
      "<none>                                             2953.0 3059.1\n",
      "- avs_net_cost:factor(s_College)               1   2961.4 3061.3\n",
      "- factor(s_Citizenship)                        3   2975.2 3062.6\n",
      "+ factor(s_Citizenship):factor(s_College)      3   2951.7 3076.6\n",
      "\n",
      "Step:  AIC=3053.2\n",
      "Y ~ factor(funding_indicator) + factor(s_Citizenship) + avs_net_cost + \n",
      "    s_SAPC1 + s_SAPC3 + GPA_trend + s_start_year + factor(s_College) + \n",
      "    avs_net_cost:factor(s_College) + s_SAPC1:factor(s_College) + \n",
      "    s_SAPC3:factor(s_College) + factor(funding_indicator):factor(s_College) + \n",
      "    GPA_trend:factor(s_College)\n",
      "\n",
      "                                              Df Deviance    AIC\n",
      "- GPA_trend:factor(s_College)                  1   2954.1 3047.8\n",
      "- s_SAPC1:factor(s_College)                    1   2954.6 3048.2\n",
      "- s_SAPC3:factor(s_College)                    1   2956.3 3050.0\n",
      "- factor(funding_indicator):factor(s_College)  1   2957.6 3051.3\n",
      "<none>                                             2953.3 3053.2\n",
      "- avs_net_cost:factor(s_College)               1   2962.0 3055.7\n",
      "- factor(s_Citizenship)                        3   2975.3 3056.5\n",
      "+ s_start_year:factor(s_College)               1   2953.0 3059.1\n",
      "+ factor(s_Citizenship):factor(s_College)      3   2952.1 3070.8\n",
      "- s_start_year                                 1   3165.1 3258.7\n",
      "\n",
      "Step:  AIC=3047.8\n",
      "Y ~ factor(funding_indicator) + factor(s_Citizenship) + avs_net_cost + \n",
      "    s_SAPC1 + s_SAPC3 + GPA_trend + s_start_year + factor(s_College) + \n",
      "    avs_net_cost:factor(s_College) + s_SAPC1:factor(s_College) + \n",
      "    s_SAPC3:factor(s_College) + factor(funding_indicator):factor(s_College)\n",
      "\n",
      "                                              Df Deviance    AIC\n",
      "- s_SAPC1:factor(s_College)                    1   2955.4 3042.8\n",
      "- s_SAPC3:factor(s_College)                    1   2957.4 3044.8\n",
      "- factor(funding_indicator):factor(s_College)  1   2958.5 3045.9\n",
      "<none>                                             2954.1 3047.8\n",
      "- avs_net_cost:factor(s_College)               1   2963.0 3050.4\n",
      "- factor(s_Citizenship)                        3   2976.1 3051.0\n",
      "+ GPA_trend:factor(s_College)                  1   2953.3 3053.2\n",
      "+ s_start_year:factor(s_College)               1   2953.9 3053.8\n",
      "- GPA_trend                                    1   2966.7 3054.1\n",
      "+ factor(s_Citizenship):factor(s_College)      3   2953.0 3065.4\n",
      "- s_start_year                                 1   3166.1 3253.5\n",
      "\n",
      "Step:  AIC=3042.84\n",
      "Y ~ factor(funding_indicator) + factor(s_Citizenship) + avs_net_cost + \n",
      "    s_SAPC1 + s_SAPC3 + GPA_trend + s_start_year + factor(s_College) + \n",
      "    avs_net_cost:factor(s_College) + s_SAPC3:factor(s_College) + \n",
      "    factor(funding_indicator):factor(s_College)\n",
      "\n",
      "                                              Df Deviance    AIC\n",
      "- s_SAPC1                                      1   2956.3 3037.4\n",
      "- s_SAPC3:factor(s_College)                    1   2957.6 3038.8\n",
      "- factor(funding_indicator):factor(s_College)  1   2959.9 3041.1\n",
      "<none>                                             2955.4 3042.8\n",
      "- avs_net_cost:factor(s_College)               1   2964.6 3045.8\n",
      "- factor(s_Citizenship)                        3   2978.2 3046.8\n",
      "+ s_SAPC1:factor(s_College)                    1   2954.1 3047.8\n",
      "+ GPA_trend:factor(s_College)                  1   2954.6 3048.2\n",
      "+ s_start_year:factor(s_College)               1   2954.9 3048.6\n",
      "- GPA_trend                                    1   2968.0 3049.2\n",
      "+ factor(s_Citizenship):factor(s_College)      3   2954.1 3060.3\n",
      "- s_start_year                                 1   3166.2 3247.4\n",
      "\n",
      "Step:  AIC=3037.43\n",
      "Y ~ factor(funding_indicator) + factor(s_Citizenship) + avs_net_cost + \n",
      "    s_SAPC3 + GPA_trend + s_start_year + factor(s_College) + \n",
      "    avs_net_cost:factor(s_College) + s_SAPC3:factor(s_College) + \n",
      "    factor(funding_indicator):factor(s_College)\n",
      "\n",
      "                                              Df Deviance    AIC\n",
      "- s_SAPC3:factor(s_College)                    1   2958.5 3033.4\n",
      "- factor(funding_indicator):factor(s_College)  1   2960.7 3035.7\n",
      "<none>                                             2956.3 3037.4\n",
      "- avs_net_cost:factor(s_College)               1   2965.5 3040.4\n",
      "- factor(s_Citizenship)                        3   2979.0 3041.5\n",
      "+ s_SAPC1                                      1   2955.4 3042.8\n",
      "+ GPA_trend:factor(s_College)                  1   2955.5 3042.9\n",
      "+ s_start_year:factor(s_College)               1   2955.8 3043.2\n",
      "- GPA_trend                                    1   2969.2 3044.1\n",
      "+ factor(s_Citizenship):factor(s_College)      3   2955.0 3054.9\n",
      "- s_start_year                                 1   3166.6 3241.5\n",
      "\n",
      "Step:  AIC=3033.39\n",
      "Y ~ factor(funding_indicator) + factor(s_Citizenship) + avs_net_cost + \n",
      "    s_SAPC3 + GPA_trend + s_start_year + factor(s_College) + \n",
      "    avs_net_cost:factor(s_College) + factor(funding_indicator):factor(s_College)\n",
      "\n",
      "                                              Df Deviance    AIC\n",
      "- s_SAPC3                                      1   2960.4 3029.1\n",
      "- factor(funding_indicator):factor(s_College)  1   2962.5 3031.1\n",
      "<none>                                             2958.5 3033.4\n",
      "- avs_net_cost:factor(s_College)               1   2967.5 3036.2\n",
      "- factor(s_Citizenship)                        3   2981.2 3037.4\n",
      "+ s_SAPC3:factor(s_College)                    1   2956.3 3037.4\n",
      "+ GPA_trend:factor(s_College)                  1   2957.5 3038.7\n",
      "+ s_SAPC1                                      1   2957.6 3038.8\n",
      "+ s_start_year:factor(s_College)               1   2958.3 3039.4\n",
      "- GPA_trend                                    1   2972.0 3040.7\n",
      "+ factor(s_Citizenship):factor(s_College)      3   2956.8 3050.5\n",
      "- s_start_year                                 1   3180.7 3249.4\n",
      "\n",
      "Step:  AIC=3029.08\n",
      "Y ~ factor(funding_indicator) + factor(s_Citizenship) + avs_net_cost + \n",
      "    GPA_trend + s_start_year + factor(s_College) + avs_net_cost:factor(s_College) + \n",
      "    factor(funding_indicator):factor(s_College)\n",
      "\n",
      "                                              Df Deviance    AIC\n",
      "- factor(funding_indicator):factor(s_College)  1   2964.0 3026.5\n",
      "<none>                                             2960.4 3029.1\n",
      "- factor(s_Citizenship)                        3   2981.3 3031.3\n",
      "- avs_net_cost:factor(s_College)               1   2969.8 3032.2\n",
      "+ s_SAPC3                                      1   2958.5 3033.4\n",
      "+ GPA_trend:factor(s_College)                  1   2959.3 3034.2\n",
      "+ s_SAPC1                                      1   2959.8 3034.7\n",
      "+ s_start_year:factor(s_College)               1   2960.3 3035.3\n",
      "- GPA_trend                                    1   2974.2 3036.7\n",
      "+ factor(s_Citizenship):factor(s_College)      3   2958.8 3046.2\n",
      "- s_start_year                                 1   3183.1 3245.5\n"
     ]
    },
    {
     "name": "stdout",
     "output_type": "stream",
     "text": [
      "\n",
      "Step:  AIC=3026.45\n",
      "Y ~ factor(funding_indicator) + factor(s_Citizenship) + avs_net_cost + \n",
      "    GPA_trend + s_start_year + factor(s_College) + avs_net_cost:factor(s_College)\n",
      "\n",
      "                                              Df Deviance    AIC\n",
      "<none>                                             2964.0 3026.5\n",
      "- avs_net_cost:factor(s_College)               1   2971.9 3028.1\n",
      "+ factor(funding_indicator):factor(s_College)  1   2960.4 3029.1\n",
      "+ s_SAPC3                                      1   2962.5 3031.1\n",
      "+ GPA_trend:factor(s_College)                  1   2962.9 3031.6\n",
      "+ s_start_year:factor(s_College)               1   2963.2 3031.9\n",
      "+ s_SAPC1                                      1   2963.4 3032.1\n",
      "- factor(s_Citizenship)                        3   2989.0 3032.7\n",
      "- GPA_trend                                    1   2978.3 3034.5\n",
      "+ factor(s_Citizenship):factor(s_College)      3   2962.7 3043.9\n",
      "- factor(funding_indicator)                    1   3063.2 3119.4\n",
      "- s_start_year                                 1   3206.1 3262.3\n"
     ]
    }
   ],
   "source": [
    "log_mod_total_bic = stepAIC(log_mod_total, direction = \"both\", k = log(e_n))"
   ]
  },
  {
   "cell_type": "markdown",
   "metadata": {},
   "source": [
    "<b>Significant variables both BIC selects:"
   ]
  },
  {
   "cell_type": "code",
   "execution_count": 112,
   "metadata": {},
   "outputs": [
    {
     "data": {
      "text/html": [
       "<table>\n",
       "<thead><tr><th></th><th scope=col>Estimate</th><th scope=col>Pr(&gt;|z|)</th></tr></thead>\n",
       "<tbody>\n",
       "\t<tr><th scope=row>(Intercept)</th><td>-0.56292</td><td>0.00000 </td></tr>\n",
       "\t<tr><th scope=row>factor(funding_indicator)1</th><td> 1.08368</td><td>0.00000 </td></tr>\n",
       "\t<tr><th scope=row>factor(s_Citizenship)Africa</th><td> 0.81832</td><td>0.00900 </td></tr>\n",
       "\t<tr><th scope=row>factor(s_Citizenship)Asia</th><td> 0.56832</td><td>0.00005 </td></tr>\n",
       "\t<tr><th scope=row>factor(s_Citizenship)China</th><td> 0.30104</td><td>0.02982 </td></tr>\n",
       "\t<tr><th scope=row>GPA_trend</th><td> 0.97490</td><td>0.00028 </td></tr>\n",
       "\t<tr><th scope=row>s_start_year</th><td>-0.81552</td><td>0.00000 </td></tr>\n",
       "\t<tr><th scope=row>factor(s_College)GD Non-Harpur</th><td> 0.59239</td><td>0.00000 </td></tr>\n",
       "\t<tr><th scope=row>avs_net_cost:factor(s_College)GD Non-Harpur</th><td> 0.32011</td><td>0.00960 </td></tr>\n",
       "</tbody>\n",
       "</table>\n"
      ],
      "text/latex": [
       "\\begin{tabular}{r|ll}\n",
       "  & Estimate & Pr(>\\textbar{}z\\textbar{})\\\\\n",
       "\\hline\n",
       "\t(Intercept) & -0.56292 & 0.00000 \\\\\n",
       "\tfactor(funding\\_indicator)1 &  1.08368 & 0.00000 \\\\\n",
       "\tfactor(s\\_Citizenship)Africa &  0.81832 & 0.00900 \\\\\n",
       "\tfactor(s\\_Citizenship)Asia &  0.56832 & 0.00005 \\\\\n",
       "\tfactor(s\\_Citizenship)China &  0.30104 & 0.02982 \\\\\n",
       "\tGPA\\_trend &  0.97490 & 0.00028 \\\\\n",
       "\ts\\_start\\_year & -0.81552 & 0.00000 \\\\\n",
       "\tfactor(s\\_College)GD Non-Harpur &  0.59239 & 0.00000 \\\\\n",
       "\tavs\\_net\\_cost:factor(s\\_College)GD Non-Harpur &  0.32011 & 0.00960 \\\\\n",
       "\\end{tabular}\n"
      ],
      "text/markdown": [
       "\n",
       "| <!--/--> | Estimate | Pr(>|z|) |\n",
       "|---|---|---|\n",
       "| (Intercept) | -0.56292 | 0.00000  |\n",
       "| factor(funding_indicator)1 |  1.08368 | 0.00000  |\n",
       "| factor(s_Citizenship)Africa |  0.81832 | 0.00900  |\n",
       "| factor(s_Citizenship)Asia |  0.56832 | 0.00005  |\n",
       "| factor(s_Citizenship)China |  0.30104 | 0.02982  |\n",
       "| GPA_trend |  0.97490 | 0.00028  |\n",
       "| s_start_year | -0.81552 | 0.00000  |\n",
       "| factor(s_College)GD Non-Harpur |  0.59239 | 0.00000  |\n",
       "| avs_net_cost:factor(s_College)GD Non-Harpur |  0.32011 | 0.00960  |\n",
       "\n"
      ],
      "text/plain": [
       "                                            Estimate Pr(>|z|)\n",
       "(Intercept)                                 -0.56292 0.00000 \n",
       "factor(funding_indicator)1                   1.08368 0.00000 \n",
       "factor(s_Citizenship)Africa                  0.81832 0.00900 \n",
       "factor(s_Citizenship)Asia                    0.56832 0.00005 \n",
       "factor(s_Citizenship)China                   0.30104 0.02982 \n",
       "GPA_trend                                    0.97490 0.00028 \n",
       "s_start_year                                -0.81552 0.00000 \n",
       "factor(s_College)GD Non-Harpur               0.59239 0.00000 \n",
       "avs_net_cost:factor(s_College)GD Non-Harpur  0.32011 0.00960 "
      ]
     },
     "metadata": {},
     "output_type": "display_data"
    }
   ],
   "source": [
    "round(summary(log_mod_total_bic)$coeff[which(summary(log_mod_total_bic)$coef[,4] <= .05),c(1,4)],5)"
   ]
  },
  {
   "cell_type": "markdown",
   "metadata": {},
   "source": [
    "# Prediction"
   ]
  },
  {
   "cell_type": "code",
   "execution_count": 104,
   "metadata": {
    "scrolled": true
   },
   "outputs": [
    {
     "data": {
      "text/html": [
       "<ol class=list-inline>\n",
       "\t<li>'Y'</li>\n",
       "\t<li>'Average_GPA'</li>\n",
       "\t<li>'s_start_year'</li>\n",
       "\t<li>'s_Citizenship'</li>\n",
       "\t<li>'avs_net_cost'</li>\n",
       "\t<li>'Gender'</li>\n",
       "\t<li>'s_Average.Precol.GPA'</li>\n",
       "\t<li>'s_GRE.Combined.General.Write.Score'</li>\n",
       "\t<li>'s_GRE.Combined.Quantitative.Score'</li>\n",
       "\t<li>'s_GRE.Combined.General.Verbal.Score'</li>\n",
       "\t<li>'College'</li>\n",
       "\t<li>'funding_indicator'</li>\n",
       "\t<li>'Citizenship'</li>\n",
       "\t<li>'gap_indicator'</li>\n",
       "\t<li>'GPA_trend'</li>\n",
       "</ol>\n"
      ],
      "text/latex": [
       "\\begin{enumerate*}\n",
       "\\item 'Y'\n",
       "\\item 'Average\\_GPA'\n",
       "\\item 's\\_start\\_year'\n",
       "\\item 's\\_Citizenship'\n",
       "\\item 'avs\\_net\\_cost'\n",
       "\\item 'Gender'\n",
       "\\item 's\\_Average.Precol.GPA'\n",
       "\\item 's\\_GRE.Combined.General.Write.Score'\n",
       "\\item 's\\_GRE.Combined.Quantitative.Score'\n",
       "\\item 's\\_GRE.Combined.General.Verbal.Score'\n",
       "\\item 'College'\n",
       "\\item 'funding\\_indicator'\n",
       "\\item 'Citizenship'\n",
       "\\item 'gap\\_indicator'\n",
       "\\item 'GPA\\_trend'\n",
       "\\end{enumerate*}\n"
      ],
      "text/markdown": [
       "1. 'Y'\n",
       "2. 'Average_GPA'\n",
       "3. 's_start_year'\n",
       "4. 's_Citizenship'\n",
       "5. 'avs_net_cost'\n",
       "6. 'Gender'\n",
       "7. 's_Average.Precol.GPA'\n",
       "8. 's_GRE.Combined.General.Write.Score'\n",
       "9. 's_GRE.Combined.Quantitative.Score'\n",
       "10. 's_GRE.Combined.General.Verbal.Score'\n",
       "11. 'College'\n",
       "12. 'funding_indicator'\n",
       "13. 'Citizenship'\n",
       "14. 'gap_indicator'\n",
       "15. 'GPA_trend'\n",
       "\n",
       "\n"
      ],
      "text/plain": [
       " [1] \"Y\"                                   \"Average_GPA\"                        \n",
       " [3] \"s_start_year\"                        \"s_Citizenship\"                      \n",
       " [5] \"avs_net_cost\"                        \"Gender\"                             \n",
       " [7] \"s_Average.Precol.GPA\"                \"s_GRE.Combined.General.Write.Score\" \n",
       " [9] \"s_GRE.Combined.Quantitative.Score\"   \"s_GRE.Combined.General.Verbal.Score\"\n",
       "[11] \"College\"                             \"funding_indicator\"                  \n",
       "[13] \"Citizenship\"                         \"gap_indicator\"                      \n",
       "[15] \"GPA_trend\"                          "
      ]
     },
     "metadata": {},
     "output_type": "display_data"
    }
   ],
   "source": [
    "colnames(df)"
   ]
  },
  {
   "cell_type": "code",
   "execution_count": 105,
   "metadata": {},
   "outputs": [],
   "source": [
    "df_save = df"
   ]
  },
  {
   "cell_type": "code",
   "execution_count": 106,
   "metadata": {},
   "outputs": [],
   "source": [
    "df = df_save"
   ]
  },
  {
   "cell_type": "code",
   "execution_count": 107,
   "metadata": {},
   "outputs": [],
   "source": [
    "column_to_keep_name = c('Y','Gender','Average_GPA','s_start_year','s_Citizenship','avs_net_cost','Gender','s_Average.Precol.GPA','s_GRE.Combined.General.Write.Score','s_GRE.Combined.Quantitative.Score','s_GRE.Combined.General.Verbal.Score','College','funding_indicator','Citizenship','gap_indicator','GPA_trend')\n",
    "column_to_keep = NULL\n",
    "for (i in 1:length(column_to_keep_name)){\n",
    "    column_to_keep = c(column_to_keep,which(colnames(df)==column_to_keep_name[i]))\n",
    "}"
   ]
  },
  {
   "cell_type": "code",
   "execution_count": 108,
   "metadata": {},
   "outputs": [
    {
     "data": {
      "text/html": [
       "<ol class=list-inline>\n",
       "\t<li>'Y'</li>\n",
       "\t<li>'Gender'</li>\n",
       "\t<li>'Average_GPA'</li>\n",
       "\t<li>'s_start_year'</li>\n",
       "\t<li>'s_Citizenship'</li>\n",
       "\t<li>'avs_net_cost'</li>\n",
       "\t<li>'Gender.1'</li>\n",
       "\t<li>'s_Average.Precol.GPA'</li>\n",
       "\t<li>'s_GRE.Combined.General.Write.Score'</li>\n",
       "\t<li>'s_GRE.Combined.Quantitative.Score'</li>\n",
       "\t<li>'s_GRE.Combined.General.Verbal.Score'</li>\n",
       "\t<li>'College'</li>\n",
       "\t<li>'funding_indicator'</li>\n",
       "\t<li>'Citizenship'</li>\n",
       "\t<li>'gap_indicator'</li>\n",
       "\t<li>'GPA_trend'</li>\n",
       "</ol>\n"
      ],
      "text/latex": [
       "\\begin{enumerate*}\n",
       "\\item 'Y'\n",
       "\\item 'Gender'\n",
       "\\item 'Average\\_GPA'\n",
       "\\item 's\\_start\\_year'\n",
       "\\item 's\\_Citizenship'\n",
       "\\item 'avs\\_net\\_cost'\n",
       "\\item 'Gender.1'\n",
       "\\item 's\\_Average.Precol.GPA'\n",
       "\\item 's\\_GRE.Combined.General.Write.Score'\n",
       "\\item 's\\_GRE.Combined.Quantitative.Score'\n",
       "\\item 's\\_GRE.Combined.General.Verbal.Score'\n",
       "\\item 'College'\n",
       "\\item 'funding\\_indicator'\n",
       "\\item 'Citizenship'\n",
       "\\item 'gap\\_indicator'\n",
       "\\item 'GPA\\_trend'\n",
       "\\end{enumerate*}\n"
      ],
      "text/markdown": [
       "1. 'Y'\n",
       "2. 'Gender'\n",
       "3. 'Average_GPA'\n",
       "4. 's_start_year'\n",
       "5. 's_Citizenship'\n",
       "6. 'avs_net_cost'\n",
       "7. 'Gender.1'\n",
       "8. 's_Average.Precol.GPA'\n",
       "9. 's_GRE.Combined.General.Write.Score'\n",
       "10. 's_GRE.Combined.Quantitative.Score'\n",
       "11. 's_GRE.Combined.General.Verbal.Score'\n",
       "12. 'College'\n",
       "13. 'funding_indicator'\n",
       "14. 'Citizenship'\n",
       "15. 'gap_indicator'\n",
       "16. 'GPA_trend'\n",
       "\n",
       "\n"
      ],
      "text/plain": [
       " [1] \"Y\"                                   \"Gender\"                             \n",
       " [3] \"Average_GPA\"                         \"s_start_year\"                       \n",
       " [5] \"s_Citizenship\"                       \"avs_net_cost\"                       \n",
       " [7] \"Gender.1\"                            \"s_Average.Precol.GPA\"               \n",
       " [9] \"s_GRE.Combined.General.Write.Score\"  \"s_GRE.Combined.Quantitative.Score\"  \n",
       "[11] \"s_GRE.Combined.General.Verbal.Score\" \"College\"                            \n",
       "[13] \"funding_indicator\"                   \"Citizenship\"                        \n",
       "[15] \"gap_indicator\"                       \"GPA_trend\"                          "
      ]
     },
     "metadata": {},
     "output_type": "display_data"
    }
   ],
   "source": [
    "df = df[,column_to_keep]\n",
    "colnames(df)"
   ]
  },
  {
   "cell_type": "code",
   "execution_count": 109,
   "metadata": {},
   "outputs": [
    {
     "data": {
      "text/html": [
       "<ol class=list-inline>\n",
       "\t<li>1235</li>\n",
       "\t<li>16</li>\n",
       "</ol>\n"
      ],
      "text/latex": [
       "\\begin{enumerate*}\n",
       "\\item 1235\n",
       "\\item 16\n",
       "\\end{enumerate*}\n"
      ],
      "text/markdown": [
       "1. 1235\n",
       "2. 16\n",
       "\n",
       "\n"
      ],
      "text/plain": [
       "[1] 1235   16"
      ]
     },
     "metadata": {},
     "output_type": "display_data"
    },
    {
     "data": {
      "text/html": [
       "<ol class=list-inline>\n",
       "\t<li>617</li>\n",
       "\t<li>16</li>\n",
       "</ol>\n"
      ],
      "text/latex": [
       "\\begin{enumerate*}\n",
       "\\item 617\n",
       "\\item 16\n",
       "\\end{enumerate*}\n"
      ],
      "text/markdown": [
       "1. 617\n",
       "2. 16\n",
       "\n",
       "\n"
      ],
      "text/plain": [
       "[1] 617  16"
      ]
     },
     "metadata": {},
     "output_type": "display_data"
    }
   ],
   "source": [
    "set.seed(123)\n",
    "s1 = sample(nrow(df),0.5*nrow(df))\n",
    "train = df[s1,]\n",
    "non_train = df[-s1,]\n",
    "s2 = sample(nrow(non_train),0.5*nrow(non_train))\n",
    "test = non_train[s2,]\n",
    "vld = non_train[-s2,]\n",
    "\n",
    "train_y=train[,1]\n",
    "train_x=train[,-1]\n",
    "test_y=test[,1]\n",
    "test_x=test[,-1]\n",
    "vld_y=vld[,1]\n",
    "vld_x=vld[,-1]\n",
    "dim(train)\n",
    "dim(test)"
   ]
  },
  {
   "cell_type": "markdown",
   "metadata": {},
   "source": [
    "## Random Forest"
   ]
  },
  {
   "cell_type": "code",
   "execution_count": 110,
   "metadata": {
    "scrolled": false
   },
   "outputs": [
    {
     "name": "stdout",
     "output_type": "stream",
     "text": [
      "\n",
      "Call:\n",
      " randomForest(formula = as.factor(train$Y) ~ ., data = train,      mtry = i, ntree = 1000) \n",
      "               Type of random forest: classification\n",
      "                     Number of trees: 1000\n",
      "No. of variables tried at each split: 1\n",
      "\n",
      "        OOB estimate of  error rate: 28.42%\n",
      "Confusion matrix:\n",
      "    0   1 class.error\n",
      "0 117 345 0.746753247\n",
      "1   6 767 0.007761966\n",
      "\n",
      "Call:\n",
      " randomForest(formula = as.factor(train$Y) ~ ., data = train,      mtry = i, ntree = 1000) \n",
      "               Type of random forest: classification\n",
      "                     Number of trees: 1000\n",
      "No. of variables tried at each split: 2\n",
      "\n",
      "        OOB estimate of  error rate: 23.56%\n",
      "Confusion matrix:\n",
      "    0   1 class.error\n",
      "0 229 233  0.50432900\n",
      "1  58 715  0.07503234\n",
      "\n",
      "Call:\n",
      " randomForest(formula = as.factor(train$Y) ~ ., data = train,      mtry = i, ntree = 1000) \n",
      "               Type of random forest: classification\n",
      "                     Number of trees: 1000\n",
      "No. of variables tried at each split: 3\n",
      "\n",
      "        OOB estimate of  error rate: 24.13%\n",
      "Confusion matrix:\n",
      "    0   1 class.error\n",
      "0 238 224  0.48484848\n",
      "1  74 699  0.09573092\n",
      "\n",
      "Call:\n",
      " randomForest(formula = as.factor(train$Y) ~ ., data = train,      mtry = i, ntree = 1000) \n",
      "               Type of random forest: classification\n",
      "                     Number of trees: 1000\n",
      "No. of variables tried at each split: 4\n",
      "\n",
      "        OOB estimate of  error rate: 24.05%\n",
      "Confusion matrix:\n",
      "    0   1 class.error\n",
      "0 247 215   0.4653680\n",
      "1  82 691   0.1060802\n",
      "\n",
      "Call:\n",
      " randomForest(formula = as.factor(train$Y) ~ ., data = train,      mtry = i, ntree = 1000) \n",
      "               Type of random forest: classification\n",
      "                     Number of trees: 1000\n",
      "No. of variables tried at each split: 5\n",
      "\n",
      "        OOB estimate of  error rate: 24.13%\n",
      "Confusion matrix:\n",
      "    0   1 class.error\n",
      "0 245 217   0.4696970\n",
      "1  81 692   0.1047865\n",
      "\n",
      "Call:\n",
      " randomForest(formula = as.factor(train$Y) ~ ., data = train,      mtry = i, ntree = 1000) \n",
      "               Type of random forest: classification\n",
      "                     Number of trees: 1000\n",
      "No. of variables tried at each split: 6\n",
      "\n",
      "        OOB estimate of  error rate: 23.89%\n",
      "Confusion matrix:\n",
      "    0   1 class.error\n",
      "0 252 210   0.4545455\n",
      "1  85 688   0.1099612\n",
      "\n",
      "Call:\n",
      " randomForest(formula = as.factor(train$Y) ~ ., data = train,      mtry = i, ntree = 1000) \n",
      "               Type of random forest: classification\n",
      "                     Number of trees: 1000\n",
      "No. of variables tried at each split: 7\n",
      "\n",
      "        OOB estimate of  error rate: 24.29%\n",
      "Confusion matrix:\n",
      "    0   1 class.error\n",
      "0 249 213   0.4610390\n",
      "1  87 686   0.1125485\n",
      "\n",
      "Call:\n",
      " randomForest(formula = as.factor(train$Y) ~ ., data = train,      mtry = i, ntree = 1000) \n",
      "               Type of random forest: classification\n",
      "                     Number of trees: 1000\n",
      "No. of variables tried at each split: 8\n",
      "\n",
      "        OOB estimate of  error rate: 23.81%\n",
      "Confusion matrix:\n",
      "    0   1 class.error\n",
      "0 255 207   0.4480519\n",
      "1  87 686   0.1125485\n",
      "\n",
      "Call:\n",
      " randomForest(formula = as.factor(train$Y) ~ ., data = train,      mtry = i, ntree = 1000) \n",
      "               Type of random forest: classification\n",
      "                     Number of trees: 1000\n",
      "No. of variables tried at each split: 9\n",
      "\n",
      "        OOB estimate of  error rate: 23.64%\n",
      "Confusion matrix:\n",
      "    0   1 class.error\n",
      "0 254 208   0.4502165\n",
      "1  84 689   0.1086675\n",
      "\n",
      "Call:\n",
      " randomForest(formula = as.factor(train$Y) ~ ., data = train,      mtry = i, ntree = 1000) \n",
      "               Type of random forest: classification\n",
      "                     Number of trees: 1000\n",
      "No. of variables tried at each split: 10\n",
      "\n",
      "        OOB estimate of  error rate: 23.81%\n",
      "Confusion matrix:\n",
      "    0   1 class.error\n",
      "0 253 209   0.4523810\n",
      "1  85 688   0.1099612\n",
      "\n",
      "Call:\n",
      " randomForest(formula = as.factor(train$Y) ~ ., data = train,      mtry = i, ntree = 1000) \n",
      "               Type of random forest: classification\n",
      "                     Number of trees: 1000\n",
      "No. of variables tried at each split: 11\n",
      "\n",
      "        OOB estimate of  error rate: 24.13%\n",
      "Confusion matrix:\n",
      "    0   1 class.error\n",
      "0 255 207   0.4480519\n",
      "1  91 682   0.1177232\n",
      "\n",
      "Call:\n",
      " randomForest(formula = as.factor(train$Y) ~ ., data = train,      mtry = i, ntree = 1000) \n",
      "               Type of random forest: classification\n",
      "                     Number of trees: 1000\n",
      "No. of variables tried at each split: 12\n",
      "\n",
      "        OOB estimate of  error rate: 24.45%\n",
      "Confusion matrix:\n",
      "    0   1 class.error\n",
      "0 254 208   0.4502165\n",
      "1  94 679   0.1216041\n",
      "\n",
      "Call:\n",
      " randomForest(formula = as.factor(train$Y) ~ ., data = train,      mtry = i, ntree = 1000) \n",
      "               Type of random forest: classification\n",
      "                     Number of trees: 1000\n",
      "No. of variables tried at each split: 13\n",
      "\n",
      "        OOB estimate of  error rate: 23.72%\n",
      "Confusion matrix:\n",
      "    0   1 class.error\n",
      "0 257 205   0.4437229\n",
      "1  88 685   0.1138422\n",
      "\n",
      "Call:\n",
      " randomForest(formula = as.factor(train$Y) ~ ., data = train,      mtry = i, ntree = 1000) \n",
      "               Type of random forest: classification\n",
      "                     Number of trees: 1000\n",
      "No. of variables tried at each split: 14\n",
      "\n",
      "        OOB estimate of  error rate: 23.81%\n",
      "Confusion matrix:\n",
      "    0   1 class.error\n",
      "0 257 205   0.4437229\n",
      "1  89 684   0.1151358\n",
      "\n",
      "Call:\n",
      " randomForest(formula = as.factor(train$Y) ~ ., data = train,      mtry = i, ntree = 1000) \n",
      "               Type of random forest: classification\n",
      "                     Number of trees: 1000\n",
      "No. of variables tried at each split: 15\n",
      "\n",
      "        OOB estimate of  error rate: 23.97%\n",
      "Confusion matrix:\n",
      "    0   1 class.error\n",
      "0 255 207   0.4480519\n",
      "1  89 684   0.1151358\n"
     ]
    }
   ],
   "source": [
    "library(\"randomForest\")\n",
    "n<-length(names(train)) \n",
    "rate=1\n",
    "for(i in 1:(n-1)){\n",
    "  set.seed(1234)\n",
    "  rf_train<-randomForest(as.factor(train$Y)~.,data=train,mtry=i,ntree=1000)\n",
    "  rate[i]<-mean(rf_train$err.rate)  \n",
    "  print(rf_train)    \n",
    "}"
   ]
  },
  {
   "cell_type": "code",
   "execution_count": 111,
   "metadata": {
    "scrolled": false
   },
   "outputs": [
    {
     "data": {
      "text/html": [
       "<ol class=list-inline>\n",
       "\t<li>0.339517817500372</li>\n",
       "\t<li>0.275237612908723</li>\n",
       "\t<li>0.274188541314718</li>\n",
       "\t<li>0.272355898123536</li>\n",
       "\t<li>0.272170170348258</li>\n",
       "\t<li>0.271885919941189</li>\n",
       "\t<li>0.278577663801136</li>\n",
       "\t<li>0.274393964367138</li>\n",
       "\t<li>0.274028228297892</li>\n",
       "\t<li>0.269108124371263</li>\n",
       "\t<li>0.271895957238259</li>\n",
       "\t<li>0.273302643487601</li>\n",
       "\t<li>0.270711518072787</li>\n",
       "\t<li>0.268358390983851</li>\n",
       "\t<li>0.273751851743507</li>\n",
       "</ol>\n"
      ],
      "text/latex": [
       "\\begin{enumerate*}\n",
       "\\item 0.339517817500372\n",
       "\\item 0.275237612908723\n",
       "\\item 0.274188541314718\n",
       "\\item 0.272355898123536\n",
       "\\item 0.272170170348258\n",
       "\\item 0.271885919941189\n",
       "\\item 0.278577663801136\n",
       "\\item 0.274393964367138\n",
       "\\item 0.274028228297892\n",
       "\\item 0.269108124371263\n",
       "\\item 0.271895957238259\n",
       "\\item 0.273302643487601\n",
       "\\item 0.270711518072787\n",
       "\\item 0.268358390983851\n",
       "\\item 0.273751851743507\n",
       "\\end{enumerate*}\n"
      ],
      "text/markdown": [
       "1. 0.339517817500372\n",
       "2. 0.275237612908723\n",
       "3. 0.274188541314718\n",
       "4. 0.272355898123536\n",
       "5. 0.272170170348258\n",
       "6. 0.271885919941189\n",
       "7. 0.278577663801136\n",
       "8. 0.274393964367138\n",
       "9. 0.274028228297892\n",
       "10. 0.269108124371263\n",
       "11. 0.271895957238259\n",
       "12. 0.273302643487601\n",
       "13. 0.270711518072787\n",
       "14. 0.268358390983851\n",
       "15. 0.273751851743507\n",
       "\n",
       "\n"
      ],
      "text/plain": [
       " [1] 0.3395178 0.2752376 0.2741885 0.2723559 0.2721702 0.2718859 0.2785777\n",
       " [8] 0.2743940 0.2740282 0.2691081 0.2718960 0.2733026 0.2707115 0.2683584\n",
       "[15] 0.2737519"
      ]
     },
     "metadata": {},
     "output_type": "display_data"
    },
    {
     "data": {
      "image/png": "[encoded data removed]",
      "text/plain": [
       "plot without title"
      ]
     },
     "metadata": {},
     "output_type": "display_data"
    }
   ],
   "source": [
    "rate  \n",
    "plot(rate)"
   ]
  },
  {
   "cell_type": "code",
   "execution_count": 141,
   "metadata": {
    "scrolled": false
   },
   "outputs": [
    {
     "data": {
      "image/png": "[encoded data removed]",
      "text/plain": [
       "Plot with title \"rf_train\""
      ]
     },
     "metadata": {},
     "output_type": "display_data"
    }
   ],
   "source": [
    "rf_train<-randomForest(as.factor(train$Y)~.,data=train,mtry=6)\n",
    "plot(rf_train)    \n",
    "legend(800,0.02,\"Y=0\",cex=0.9,bty=\"n\")    \n",
    "legend(800,0.0245,\"total\",cex=0.09,bty=\"n\")   "
   ]
  },
  {
   "cell_type": "code",
   "execution_count": 142,
   "metadata": {
    "scrolled": true
   },
   "outputs": [
    {
     "data": {
      "text/plain": [
       "\n",
       "Call:\n",
       " randomForest(formula = as.factor(train$Y) ~ ., data = as.data.frame(train),      mtry = 6, importance = TRUE) \n",
       "               Type of random forest: classification\n",
       "                     Number of trees: 500\n",
       "No. of variables tried at each split: 6\n",
       "\n",
       "        OOB estimate of  error rate: 23.97%\n",
       "Confusion matrix:\n",
       "    0   1 class.error\n",
       "0 244 218   0.4718615\n",
       "1  78 695   0.1009056"
      ]
     },
     "metadata": {},
     "output_type": "display_data"
    }
   ],
   "source": [
    "set.seed(100)\n",
    "rf_train<-randomForest(as.factor(train$Y)~.,data=as.data.frame(train),mtry = 6,importance=TRUE)\n",
    "rf_train"
   ]
  },
  {
   "cell_type": "code",
   "execution_count": 143,
   "metadata": {},
   "outputs": [
    {
     "data": {
      "text/html": [
       "0.7601"
      ],
      "text/latex": [
       "0.7601"
      ],
      "text/markdown": [
       "0.7601"
      ],
      "text/plain": [
       "[1] 0.7601"
      ]
     },
     "metadata": {},
     "output_type": "display_data"
    }
   ],
   "source": [
    "rf_pred = predict(rf_train, newdata = test)\n",
    "(rf_acc = round(sum(rf_pred == test$Y)/length(rf_pred),4))"
   ]
  },
  {
   "cell_type": "code",
   "execution_count": 144,
   "metadata": {},
   "outputs": [
    {
     "data": {
      "text/html": [
       "<table>\n",
       "<thead><tr><th></th><th scope=col>0</th><th scope=col>1</th><th scope=col>MeanDecreaseAccuracy</th><th scope=col>MeanDecreaseGini</th></tr></thead>\n",
       "<tbody>\n",
       "\t<tr><th scope=row>Gender</th><td>-0.1429576</td><td> 4.7471152</td><td> 3.896388 </td><td>  7.153234</td></tr>\n",
       "\t<tr><th scope=row>Average_GPA</th><td>27.1094194</td><td>35.5091751</td><td>44.029873 </td><td>110.409984</td></tr>\n",
       "\t<tr><th scope=row>s_start_year</th><td>24.5958273</td><td>41.1007451</td><td>47.019655 </td><td> 91.624866</td></tr>\n",
       "\t<tr><th scope=row>s_Citizenship</th><td> 3.5835291</td><td>-0.8391252</td><td> 1.587129 </td><td>  7.254153</td></tr>\n",
       "\t<tr><th scope=row>avs_net_cost</th><td>11.8212899</td><td>15.8058118</td><td>19.834030 </td><td> 87.247276</td></tr>\n",
       "\t<tr><th scope=row>Gender.1</th><td>-0.5324151</td><td> 3.6066471</td><td> 2.694573 </td><td>  6.465270</td></tr>\n",
       "\t<tr><th scope=row>s_Average.Precol.GPA</th><td>-2.0287310</td><td>11.2973256</td><td> 8.743218 </td><td> 42.462960</td></tr>\n",
       "\t<tr><th scope=row>s_GRE.Combined.General.Write.Score</th><td>-1.8988619</td><td> 8.7086839</td><td> 7.014690 </td><td> 17.248120</td></tr>\n",
       "\t<tr><th scope=row>s_GRE.Combined.Quantitative.Score</th><td> 2.3935126</td><td>10.0830433</td><td> 9.989866 </td><td> 27.065697</td></tr>\n",
       "\t<tr><th scope=row>s_GRE.Combined.General.Verbal.Score</th><td>-4.0514739</td><td> 8.9966259</td><td> 6.156580 </td><td> 24.465134</td></tr>\n",
       "\t<tr><th scope=row>College</th><td> 4.2479320</td><td> 9.5919293</td><td>10.202816 </td><td> 23.266677</td></tr>\n",
       "\t<tr><th scope=row>funding_indicator</th><td> 6.4352854</td><td> 6.4403795</td><td>10.083085 </td><td> 11.661362</td></tr>\n",
       "\t<tr><th scope=row>Citizenship</th><td> 9.7857509</td><td> 2.3349953</td><td> 7.684473 </td><td> 49.393885</td></tr>\n",
       "\t<tr><th scope=row>gap_indicator</th><td> 8.6298225</td><td> 1.3409131</td><td> 6.258515 </td><td>  8.036877</td></tr>\n",
       "\t<tr><th scope=row>GPA_trend</th><td> 0.9240393</td><td>14.8831887</td><td>13.406967 </td><td> 62.517497</td></tr>\n",
       "</tbody>\n",
       "</table>\n"
      ],
      "text/latex": [
       "\\begin{tabular}{r|llll}\n",
       "  & 0 & 1 & MeanDecreaseAccuracy & MeanDecreaseGini\\\\\n",
       "\\hline\n",
       "\tGender & -0.1429576 &  4.7471152 &  3.896388  &   7.153234\\\\\n",
       "\tAverage\\_GPA & 27.1094194 & 35.5091751 & 44.029873  & 110.409984\\\\\n",
       "\ts\\_start\\_year & 24.5958273 & 41.1007451 & 47.019655  &  91.624866\\\\\n",
       "\ts\\_Citizenship &  3.5835291 & -0.8391252 &  1.587129  &   7.254153\\\\\n",
       "\tavs\\_net\\_cost & 11.8212899 & 15.8058118 & 19.834030  &  87.247276\\\\\n",
       "\tGender.1 & -0.5324151 &  3.6066471 &  2.694573  &   6.465270\\\\\n",
       "\ts\\_Average.Precol.GPA & -2.0287310 & 11.2973256 &  8.743218  &  42.462960\\\\\n",
       "\ts\\_GRE.Combined.General.Write.Score & -1.8988619 &  8.7086839 &  7.014690  &  17.248120\\\\\n",
       "\ts\\_GRE.Combined.Quantitative.Score &  2.3935126 & 10.0830433 &  9.989866  &  27.065697\\\\\n",
       "\ts\\_GRE.Combined.General.Verbal.Score & -4.0514739 &  8.9966259 &  6.156580  &  24.465134\\\\\n",
       "\tCollege &  4.2479320 &  9.5919293 & 10.202816  &  23.266677\\\\\n",
       "\tfunding\\_indicator &  6.4352854 &  6.4403795 & 10.083085  &  11.661362\\\\\n",
       "\tCitizenship &  9.7857509 &  2.3349953 &  7.684473  &  49.393885\\\\\n",
       "\tgap\\_indicator &  8.6298225 &  1.3409131 &  6.258515  &   8.036877\\\\\n",
       "\tGPA\\_trend &  0.9240393 & 14.8831887 & 13.406967  &  62.517497\\\\\n",
       "\\end{tabular}\n"
      ],
      "text/markdown": [
       "\n",
       "| <!--/--> | 0 | 1 | MeanDecreaseAccuracy | MeanDecreaseGini |\n",
       "|---|---|---|---|---|\n",
       "| Gender | -0.1429576 |  4.7471152 |  3.896388  |   7.153234 |\n",
       "| Average_GPA | 27.1094194 | 35.5091751 | 44.029873  | 110.409984 |\n",
       "| s_start_year | 24.5958273 | 41.1007451 | 47.019655  |  91.624866 |\n",
       "| s_Citizenship |  3.5835291 | -0.8391252 |  1.587129  |   7.254153 |\n",
       "| avs_net_cost | 11.8212899 | 15.8058118 | 19.834030  |  87.247276 |\n",
       "| Gender.1 | -0.5324151 |  3.6066471 |  2.694573  |   6.465270 |\n",
       "| s_Average.Precol.GPA | -2.0287310 | 11.2973256 |  8.743218  |  42.462960 |\n",
       "| s_GRE.Combined.General.Write.Score | -1.8988619 |  8.7086839 |  7.014690  |  17.248120 |\n",
       "| s_GRE.Combined.Quantitative.Score |  2.3935126 | 10.0830433 |  9.989866  |  27.065697 |\n",
       "| s_GRE.Combined.General.Verbal.Score | -4.0514739 |  8.9966259 |  6.156580  |  24.465134 |\n",
       "| College |  4.2479320 |  9.5919293 | 10.202816  |  23.266677 |\n",
       "| funding_indicator |  6.4352854 |  6.4403795 | 10.083085  |  11.661362 |\n",
       "| Citizenship |  9.7857509 |  2.3349953 |  7.684473  |  49.393885 |\n",
       "| gap_indicator |  8.6298225 |  1.3409131 |  6.258515  |   8.036877 |\n",
       "| GPA_trend |  0.9240393 | 14.8831887 | 13.406967  |  62.517497 |\n",
       "\n"
      ],
      "text/plain": [
       "                                    0          1          MeanDecreaseAccuracy\n",
       "Gender                              -0.1429576  4.7471152  3.896388           \n",
       "Average_GPA                         27.1094194 35.5091751 44.029873           \n",
       "s_start_year                        24.5958273 41.1007451 47.019655           \n",
       "s_Citizenship                        3.5835291 -0.8391252  1.587129           \n",
       "avs_net_cost                        11.8212899 15.8058118 19.834030           \n",
       "Gender.1                            -0.5324151  3.6066471  2.694573           \n",
       "s_Average.Precol.GPA                -2.0287310 11.2973256  8.743218           \n",
       "s_GRE.Combined.General.Write.Score  -1.8988619  8.7086839  7.014690           \n",
       "s_GRE.Combined.Quantitative.Score    2.3935126 10.0830433  9.989866           \n",
       "s_GRE.Combined.General.Verbal.Score -4.0514739  8.9966259  6.156580           \n",
       "College                              4.2479320  9.5919293 10.202816           \n",
       "funding_indicator                    6.4352854  6.4403795 10.083085           \n",
       "Citizenship                          9.7857509  2.3349953  7.684473           \n",
       "gap_indicator                        8.6298225  1.3409131  6.258515           \n",
       "GPA_trend                            0.9240393 14.8831887 13.406967           \n",
       "                                    MeanDecreaseGini\n",
       "Gender                                7.153234      \n",
       "Average_GPA                         110.409984      \n",
       "s_start_year                         91.624866      \n",
       "s_Citizenship                         7.254153      \n",
       "avs_net_cost                         87.247276      \n",
       "Gender.1                              6.465270      \n",
       "s_Average.Precol.GPA                 42.462960      \n",
       "s_GRE.Combined.General.Write.Score   17.248120      \n",
       "s_GRE.Combined.Quantitative.Score    27.065697      \n",
       "s_GRE.Combined.General.Verbal.Score  24.465134      \n",
       "College                              23.266677      \n",
       "funding_indicator                    11.661362      \n",
       "Citizenship                          49.393885      \n",
       "gap_indicator                         8.036877      \n",
       "GPA_trend                            62.517497      "
      ]
     },
     "metadata": {},
     "output_type": "display_data"
    },
    {
     "data": {
      "image/png": "[encoded data removed]",
      "text/plain": [
       "plot without title"
      ]
     },
     "metadata": {},
     "output_type": "display_data"
    }
   ],
   "source": [
    "importance(rf_train)\n",
    "varImpPlot(rf_train)"
   ]
  },
  {
   "cell_type": "markdown",
   "metadata": {},
   "source": [
    "## LDA"
   ]
  },
  {
   "cell_type": "code",
   "execution_count": 122,
   "metadata": {},
   "outputs": [
    {
     "name": "stderr",
     "output_type": "stream",
     "text": [
      "Warning message in lda.default(x, grouping, ...):\n",
      "\"variables are collinear\""
     ]
    }
   ],
   "source": [
    "mod_lda = lda(Y~., data = as.data.frame(train))\n",
    "lda_pred = predict(mod_lda, newdata = test)"
   ]
  },
  {
   "cell_type": "code",
   "execution_count": 123,
   "metadata": {},
   "outputs": [
    {
     "data": {
      "text/html": [
       "0.7164"
      ],
      "text/latex": [
       "0.7164"
      ],
      "text/markdown": [
       "0.7164"
      ],
      "text/plain": [
       "[1] 0.7164"
      ]
     },
     "metadata": {},
     "output_type": "display_data"
    }
   ],
   "source": [
    "(lda_acc = round(sum(lda_pred$class == test$Y)/length(lda_pred$class),4))"
   ]
  },
  {
   "cell_type": "markdown",
   "metadata": {},
   "source": [
    "<b> Summary"
   ]
  },
  {
   "cell_type": "code",
   "execution_count": 124,
   "metadata": {},
   "outputs": [
    {
     "data": {
      "text/html": [
       "<table>\n",
       "<thead><tr><th></th><th scope=col>LD1</th></tr></thead>\n",
       "<tbody>\n",
       "\t<tr><th scope=row>GenderMale</th><td> 0.15861060</td></tr>\n",
       "\t<tr><th scope=row>Average_GPA</th><td> 0.61905577</td></tr>\n",
       "\t<tr><th scope=row>s_start_year</th><td>-0.75898310</td></tr>\n",
       "\t<tr><th scope=row>s_CitizenshipAsia</th><td>-0.29331910</td></tr>\n",
       "\t<tr><th scope=row>s_CitizenshipChina</th><td>-0.39924550</td></tr>\n",
       "\t<tr><th scope=row>s_CitizenshipWhite</th><td>-0.83318958</td></tr>\n",
       "\t<tr><th scope=row>avs_net_cost</th><td> 0.10807050</td></tr>\n",
       "\t<tr><th scope=row>Gender.1Male</th><td> 0.15861060</td></tr>\n",
       "\t<tr><th scope=row>s_Average.Precol.GPA</th><td> 0.06589271</td></tr>\n",
       "\t<tr><th scope=row>s_GRE.Combined.General.Write.Score</th><td> 0.05595929</td></tr>\n",
       "\t<tr><th scope=row>s_GRE.Combined.Quantitative.Score</th><td> 0.03193554</td></tr>\n",
       "\t<tr><th scope=row>s_GRE.Combined.General.Verbal.Score</th><td>-0.07470856</td></tr>\n",
       "\t<tr><th scope=row>CollegeGD Education</th><td> 0.14946947</td></tr>\n",
       "\t<tr><th scope=row>CollegeGD Grad School</th><td> 2.55836023</td></tr>\n",
       "\t<tr><th scope=row>CollegeGD Harpur</th><td>-0.10082299</td></tr>\n",
       "\t<tr><th scope=row>CollegeGD Management</th><td> 0.29561667</td></tr>\n",
       "\t<tr><th scope=row>CollegeGD Nursing</th><td> 0.94251734</td></tr>\n",
       "\t<tr><th scope=row>CollegeGD Watson</th><td> 0.42606402</td></tr>\n",
       "\t<tr><th scope=row>funding_indicator</th><td> 0.82788954</td></tr>\n",
       "\t<tr><th scope=row>CitizenshipAsia</th><td>-0.29331910</td></tr>\n",
       "\t<tr><th scope=row>CitizenshipAsian</th><td>-0.70932701</td></tr>\n",
       "\t<tr><th scope=row>CitizenshipBlack or African American</th><td> 0.35784790</td></tr>\n",
       "\t<tr><th scope=row>CitizenshipChina</th><td>-0.39924550</td></tr>\n",
       "\t<tr><th scope=row>CitizenshipEurope</th><td>-0.02879569</td></tr>\n",
       "\t<tr><th scope=row>CitizenshipHispanic or Latino</th><td>-0.70459694</td></tr>\n",
       "\t<tr><th scope=row>CitizenshipIndia</th><td>-0.25234500</td></tr>\n",
       "\t<tr><th scope=row>CitizenshipOther International Students</th><td>-0.09696372</td></tr>\n",
       "\t<tr><th scope=row>CitizenshipUnknown</th><td>-0.34529668</td></tr>\n",
       "\t<tr><th scope=row>CitizenshipWhite</th><td>-0.37419243</td></tr>\n",
       "\t<tr><th scope=row>gap_indicator</th><td> 0.38233033</td></tr>\n",
       "\t<tr><th scope=row>GPA_trend</th><td> 1.54849189</td></tr>\n",
       "</tbody>\n",
       "</table>\n"
      ],
      "text/latex": [
       "\\begin{tabular}{r|l}\n",
       "  & LD1\\\\\n",
       "\\hline\n",
       "\tGenderMale &  0.15861060\\\\\n",
       "\tAverage\\_GPA &  0.61905577\\\\\n",
       "\ts\\_start\\_year & -0.75898310\\\\\n",
       "\ts\\_CitizenshipAsia & -0.29331910\\\\\n",
       "\ts\\_CitizenshipChina & -0.39924550\\\\\n",
       "\ts\\_CitizenshipWhite & -0.83318958\\\\\n",
       "\tavs\\_net\\_cost &  0.10807050\\\\\n",
       "\tGender.1Male &  0.15861060\\\\\n",
       "\ts\\_Average.Precol.GPA &  0.06589271\\\\\n",
       "\ts\\_GRE.Combined.General.Write.Score &  0.05595929\\\\\n",
       "\ts\\_GRE.Combined.Quantitative.Score &  0.03193554\\\\\n",
       "\ts\\_GRE.Combined.General.Verbal.Score & -0.07470856\\\\\n",
       "\tCollegeGD Education &  0.14946947\\\\\n",
       "\tCollegeGD Grad School &  2.55836023\\\\\n",
       "\tCollegeGD Harpur & -0.10082299\\\\\n",
       "\tCollegeGD Management &  0.29561667\\\\\n",
       "\tCollegeGD Nursing &  0.94251734\\\\\n",
       "\tCollegeGD Watson &  0.42606402\\\\\n",
       "\tfunding\\_indicator &  0.82788954\\\\\n",
       "\tCitizenshipAsia & -0.29331910\\\\\n",
       "\tCitizenshipAsian & -0.70932701\\\\\n",
       "\tCitizenshipBlack or African American &  0.35784790\\\\\n",
       "\tCitizenshipChina & -0.39924550\\\\\n",
       "\tCitizenshipEurope & -0.02879569\\\\\n",
       "\tCitizenshipHispanic or Latino & -0.70459694\\\\\n",
       "\tCitizenshipIndia & -0.25234500\\\\\n",
       "\tCitizenshipOther International Students & -0.09696372\\\\\n",
       "\tCitizenshipUnknown & -0.34529668\\\\\n",
       "\tCitizenshipWhite & -0.37419243\\\\\n",
       "\tgap\\_indicator &  0.38233033\\\\\n",
       "\tGPA\\_trend &  1.54849189\\\\\n",
       "\\end{tabular}\n"
      ],
      "text/markdown": [
       "\n",
       "| <!--/--> | LD1 |\n",
       "|---|---|\n",
       "| GenderMale |  0.15861060 |\n",
       "| Average_GPA |  0.61905577 |\n",
       "| s_start_year | -0.75898310 |\n",
       "| s_CitizenshipAsia | -0.29331910 |\n",
       "| s_CitizenshipChina | -0.39924550 |\n",
       "| s_CitizenshipWhite | -0.83318958 |\n",
       "| avs_net_cost |  0.10807050 |\n",
       "| Gender.1Male |  0.15861060 |\n",
       "| s_Average.Precol.GPA |  0.06589271 |\n",
       "| s_GRE.Combined.General.Write.Score |  0.05595929 |\n",
       "| s_GRE.Combined.Quantitative.Score |  0.03193554 |\n",
       "| s_GRE.Combined.General.Verbal.Score | -0.07470856 |\n",
       "| CollegeGD Education |  0.14946947 |\n",
       "| CollegeGD Grad School |  2.55836023 |\n",
       "| CollegeGD Harpur | -0.10082299 |\n",
       "| CollegeGD Management |  0.29561667 |\n",
       "| CollegeGD Nursing |  0.94251734 |\n",
       "| CollegeGD Watson |  0.42606402 |\n",
       "| funding_indicator |  0.82788954 |\n",
       "| CitizenshipAsia | -0.29331910 |\n",
       "| CitizenshipAsian | -0.70932701 |\n",
       "| CitizenshipBlack or African American |  0.35784790 |\n",
       "| CitizenshipChina | -0.39924550 |\n",
       "| CitizenshipEurope | -0.02879569 |\n",
       "| CitizenshipHispanic or Latino | -0.70459694 |\n",
       "| CitizenshipIndia | -0.25234500 |\n",
       "| CitizenshipOther International Students | -0.09696372 |\n",
       "| CitizenshipUnknown | -0.34529668 |\n",
       "| CitizenshipWhite | -0.37419243 |\n",
       "| gap_indicator |  0.38233033 |\n",
       "| GPA_trend |  1.54849189 |\n",
       "\n"
      ],
      "text/plain": [
       "                                        LD1        \n",
       "GenderMale                               0.15861060\n",
       "Average_GPA                              0.61905577\n",
       "s_start_year                            -0.75898310\n",
       "s_CitizenshipAsia                       -0.29331910\n",
       "s_CitizenshipChina                      -0.39924550\n",
       "s_CitizenshipWhite                      -0.83318958\n",
       "avs_net_cost                             0.10807050\n",
       "Gender.1Male                             0.15861060\n",
       "s_Average.Precol.GPA                     0.06589271\n",
       "s_GRE.Combined.General.Write.Score       0.05595929\n",
       "s_GRE.Combined.Quantitative.Score        0.03193554\n",
       "s_GRE.Combined.General.Verbal.Score     -0.07470856\n",
       "CollegeGD Education                      0.14946947\n",
       "CollegeGD Grad School                    2.55836023\n",
       "CollegeGD Harpur                        -0.10082299\n",
       "CollegeGD Management                     0.29561667\n",
       "CollegeGD Nursing                        0.94251734\n",
       "CollegeGD Watson                         0.42606402\n",
       "funding_indicator                        0.82788954\n",
       "CitizenshipAsia                         -0.29331910\n",
       "CitizenshipAsian                        -0.70932701\n",
       "CitizenshipBlack or African American     0.35784790\n",
       "CitizenshipChina                        -0.39924550\n",
       "CitizenshipEurope                       -0.02879569\n",
       "CitizenshipHispanic or Latino           -0.70459694\n",
       "CitizenshipIndia                        -0.25234500\n",
       "CitizenshipOther International Students -0.09696372\n",
       "CitizenshipUnknown                      -0.34529668\n",
       "CitizenshipWhite                        -0.37419243\n",
       "gap_indicator                            0.38233033\n",
       "GPA_trend                                1.54849189"
      ]
     },
     "metadata": {},
     "output_type": "display_data"
    }
   ],
   "source": [
    "mod_lda$scaling"
   ]
  },
  {
   "cell_type": "markdown",
   "metadata": {},
   "source": [
    "## Neural Network"
   ]
  },
  {
   "cell_type": "code",
   "execution_count": 125,
   "metadata": {},
   "outputs": [
    {
     "data": {
      "text/html": [
       "2"
      ],
      "text/latex": [
       "2"
      ],
      "text/markdown": [
       "2"
      ],
      "text/plain": [
       "[1] 2"
      ]
     },
     "metadata": {},
     "output_type": "display_data"
    }
   ],
   "source": [
    "nnet_vld = NULL\n",
    "for (i in seq(1,20,1)){\n",
    "    mod_nnet = nnet(Y~., data = train, size  = i,trace = FALSE, decay =.1, rang = 0, maxit = 250)\n",
    "    nn_pred = predict(mod_nnet, newdata = vld)\n",
    "    nn_pred = as.numeric(nn_pred>=.5)\n",
    "    nnet_vld = c(nnet_vld, sum(nn_pred == vld$Y)/length(nn_pred))\n",
    "}\n",
    "(tr_size = which.max(nnet_vld))"
   ]
  },
  {
   "cell_type": "code",
   "execution_count": 126,
   "metadata": {},
   "outputs": [],
   "source": [
    "mod_nnet = nnet(Y~., data = train, size  = tr_size,trace = FALSE, decay =.1, rang = 0, maxit = 250)\n",
    "nn_pred = as.numeric(predict(mod_nnet, newdata = test)>= .5)"
   ]
  },
  {
   "cell_type": "code",
   "execution_count": 127,
   "metadata": {},
   "outputs": [
    {
     "data": {
      "text/html": [
       "0.7229"
      ],
      "text/latex": [
       "0.7229"
      ],
      "text/markdown": [
       "0.7229"
      ],
      "text/plain": [
       "[1] 0.7229"
      ]
     },
     "metadata": {},
     "output_type": "display_data"
    }
   ],
   "source": [
    "(nnet_acc = round(sum(nn_pred == test$Y)/length(nn_pred),4))"
   ]
  },
  {
   "cell_type": "markdown",
   "metadata": {},
   "source": [
    "<b> Summary"
   ]
  },
  {
   "cell_type": "code",
   "execution_count": 128,
   "metadata": {},
   "outputs": [
    {
     "data": {
      "text/plain": [
       "a 31-2-1 network with 67 weights\n",
       "options were - decay=0.1\n",
       "  b->h1  i1->h1  i2->h1  i3->h1  i4->h1  i5->h1  i6->h1  i7->h1  i8->h1  i9->h1 \n",
       "  -3.40    0.01    1.62   -0.02   -0.37   -0.59   -1.30   -0.16    0.01   -0.06 \n",
       "i10->h1 i11->h1 i12->h1 i13->h1 i14->h1 i15->h1 i16->h1 i17->h1 i18->h1 i19->h1 \n",
       "  -0.23    0.40    0.20   -1.36    4.69   -1.38   -0.59   -0.88   -1.20    0.41 \n",
       "i20->h1 i21->h1 i22->h1 i23->h1 i24->h1 i25->h1 i26->h1 i27->h1 i28->h1 i29->h1 \n",
       "  -0.37   -0.49    0.23   -0.59    0.26   -0.37   -0.28    0.17   -0.54   -0.29 \n",
       "i30->h1 i31->h1 \n",
       "   0.04   -0.36 \n",
       "  b->h2  i1->h2  i2->h2  i3->h2  i4->h2  i5->h2  i6->h2  i7->h2  i8->h2  i9->h2 \n",
       "  -0.34    0.28    0.34   -1.54   -0.07    0.16    0.07    0.93    0.28    0.12 \n",
       "i10->h2 i11->h2 i12->h2 i13->h2 i14->h2 i15->h2 i16->h2 i17->h2 i18->h2 i19->h2 \n",
       "   0.28   -0.96   -0.26    0.69    0.97    0.02   -0.16    0.55    0.38    0.64 \n",
       "i20->h2 i21->h2 i22->h2 i23->h2 i24->h2 i25->h2 i26->h2 i27->h2 i28->h2 i29->h2 \n",
       "  -0.07    0.34    0.29    0.16   -1.00   -0.08    0.58   -0.73    0.46    0.21 \n",
       "i30->h2 i31->h2 \n",
       "   1.54    3.38 \n",
       " b->o h1->o h2->o \n",
       "-5.43  4.49  4.30 "
      ]
     },
     "metadata": {},
     "output_type": "display_data"
    }
   ],
   "source": [
    "summary(mod_nnet)"
   ]
  },
  {
   "cell_type": "markdown",
   "metadata": {},
   "source": [
    "## Logistic Regression"
   ]
  },
  {
   "cell_type": "code",
   "execution_count": 129,
   "metadata": {},
   "outputs": [
    {
     "name": "stderr",
     "output_type": "stream",
     "text": [
      "Warning message in predict.lm(object, newdata, se.fit, scale = 1, type = if (type == :\n",
      "\"prediction from a rank-deficient fit may be misleading\""
     ]
    }
   ],
   "source": [
    "mod_glm = glm(Y~., data = train, family=binomial())\n",
    "glm_pred = as.numeric(predict(mod_glm, newdata = test, type=\"response\") >= .5)"
   ]
  },
  {
   "cell_type": "code",
   "execution_count": 130,
   "metadata": {
    "scrolled": true
   },
   "outputs": [
    {
     "data": {
      "text/html": [
       "0.7164"
      ],
      "text/latex": [
       "0.7164"
      ],
      "text/markdown": [
       "0.7164"
      ],
      "text/plain": [
       "[1] 0.7164"
      ]
     },
     "metadata": {},
     "output_type": "display_data"
    }
   ],
   "source": [
    "(glm_acc = round(sum(glm_pred == test$Y)/length(glm_pred),4))"
   ]
  },
  {
   "cell_type": "markdown",
   "metadata": {},
   "source": [
    "<b> Summary"
   ]
  },
  {
   "cell_type": "code",
   "execution_count": 131,
   "metadata": {},
   "outputs": [
    {
     "data": {
      "text/plain": [
       "\n",
       "Call:\n",
       "glm(formula = Y ~ ., family = binomial(), data = train)\n",
       "\n",
       "Deviance Residuals: \n",
       "    Min       1Q   Median       3Q      Max  \n",
       "-2.5222  -1.0673   0.6306   0.9005   2.6069  \n",
       "\n",
       "Coefficients: (4 not defined because of singularities)\n",
       "                                          Estimate Std. Error z value Pr(>|z|)\n",
       "(Intercept)                             -1.3519815  0.9476446  -1.427  0.15367\n",
       "GenderMale                               0.2954337  0.1411657   2.093  0.03637\n",
       "Average_GPA                              0.6377503  0.1173186   5.436 5.45e-08\n",
       "s_start_year                            -0.7448138  0.0886730  -8.400  < 2e-16\n",
       "s_CitizenshipAsia                       -0.6270261  0.5893894  -1.064  0.28739\n",
       "s_CitizenshipChina                      -0.7642329  0.5909230  -1.293  0.19591\n",
       "s_CitizenshipWhite                      -1.2021457  0.5632633  -2.134  0.03282\n",
       "avs_net_cost                             0.1021013  0.0664638   1.536  0.12449\n",
       "Gender.1Male                                    NA         NA      NA       NA\n",
       "s_Average.Precol.GPA                     0.0562713  0.0731085   0.770  0.44148\n",
       "s_GRE.Combined.General.Write.Score       0.0147781  0.0843002   0.175  0.86084\n",
       "s_GRE.Combined.Quantitative.Score       -0.2338052  0.2360903  -0.990  0.32202\n",
       "s_GRE.Combined.General.Verbal.Score      0.0208466  0.1705733   0.122  0.90273\n",
       "CollegeGD Education                     -0.0670363  0.7543443  -0.089  0.92919\n",
       "CollegeGD Grad School                    3.1254570  1.0734951   2.911  0.00360\n",
       "CollegeGD Harpur                        -0.3544612  0.6577762  -0.539  0.58997\n",
       "CollegeGD Management                    -0.0041443  0.7879186  -0.005  0.99580\n",
       "CollegeGD Nursing                        0.7196845  0.7025311   1.024  0.30564\n",
       "CollegeGD Watson                         0.1637891  0.6769332   0.242  0.80881\n",
       "funding_indicator                        0.7849413  0.1724067   4.553 5.29e-06\n",
       "CitizenshipAsia                                 NA         NA      NA       NA\n",
       "CitizenshipAsian                        -0.3080801  0.3361915  -0.916  0.35947\n",
       "CitizenshipBlack or African American     0.6968108  0.4246436   1.641  0.10081\n",
       "CitizenshipChina                                NA         NA      NA       NA\n",
       "CitizenshipEurope                        0.2710711  0.4318070   0.628  0.53016\n",
       "CitizenshipHispanic or Latino           -0.2582503  0.3288150  -0.785  0.43222\n",
       "CitizenshipIndia                         0.2142404  0.3634800   0.589  0.55558\n",
       "CitizenshipOther International Students  0.1772048  0.5127203   0.346  0.72963\n",
       "CitizenshipUnknown                       0.0009262  0.2580292   0.004  0.99714\n",
       "CitizenshipWhite                                NA         NA      NA       NA\n",
       "gap_indicator                            0.3943836  0.2257201   1.747  0.08060\n",
       "GPA_trend                                1.4993861  0.4833509   3.102  0.00192\n",
       "                                           \n",
       "(Intercept)                                \n",
       "GenderMale                              *  \n",
       "Average_GPA                             ***\n",
       "s_start_year                            ***\n",
       "s_CitizenshipAsia                          \n",
       "s_CitizenshipChina                         \n",
       "s_CitizenshipWhite                      *  \n",
       "avs_net_cost                               \n",
       "Gender.1Male                               \n",
       "s_Average.Precol.GPA                       \n",
       "s_GRE.Combined.General.Write.Score         \n",
       "s_GRE.Combined.Quantitative.Score          \n",
       "s_GRE.Combined.General.Verbal.Score        \n",
       "CollegeGD Education                        \n",
       "CollegeGD Grad School                   ** \n",
       "CollegeGD Harpur                           \n",
       "CollegeGD Management                       \n",
       "CollegeGD Nursing                          \n",
       "CollegeGD Watson                           \n",
       "funding_indicator                       ***\n",
       "CitizenshipAsia                            \n",
       "CitizenshipAsian                           \n",
       "CitizenshipBlack or African American       \n",
       "CitizenshipChina                           \n",
       "CitizenshipEurope                          \n",
       "CitizenshipHispanic or Latino              \n",
       "CitizenshipIndia                           \n",
       "CitizenshipOther International Students    \n",
       "CitizenshipUnknown                         \n",
       "CitizenshipWhite                           \n",
       "gap_indicator                           .  \n",
       "GPA_trend                               ** \n",
       "---\n",
       "Signif. codes:  0 '***' 0.001 '**' 0.01 '*' 0.05 '.' 0.1 ' ' 1\n",
       "\n",
       "(Dispersion parameter for binomial family taken to be 1)\n",
       "\n",
       "    Null deviance: 1632.9  on 1234  degrees of freedom\n",
       "Residual deviance: 1403.4  on 1207  degrees of freedom\n",
       "AIC: 1459.4\n",
       "\n",
       "Number of Fisher Scoring iterations: 6\n"
      ]
     },
     "metadata": {},
     "output_type": "display_data"
    }
   ],
   "source": [
    "summary(mod_glm)"
   ]
  },
  {
   "cell_type": "markdown",
   "metadata": {},
   "source": [
    "## SVM"
   ]
  },
  {
   "cell_type": "code",
   "execution_count": 132,
   "metadata": {},
   "outputs": [],
   "source": [
    "mod_svm = svm(Y~., data = train, family=binomial())\n",
    "svm_pred = as.numeric(predict(mod_svm, newdata = test, type=\"response\") >= .5)"
   ]
  },
  {
   "cell_type": "code",
   "execution_count": 133,
   "metadata": {
    "scrolled": true
   },
   "outputs": [
    {
     "data": {
      "text/html": [
       "0.7018"
      ],
      "text/latex": [
       "0.7018"
      ],
      "text/markdown": [
       "0.7018"
      ],
      "text/plain": [
       "[1] 0.7018"
      ]
     },
     "metadata": {},
     "output_type": "display_data"
    }
   ],
   "source": [
    "(svm_acc = round(sum(svm_pred == test$Y)/length(svm_pred),4))"
   ]
  },
  {
   "cell_type": "markdown",
   "metadata": {},
   "source": [
    "<b> Summary"
   ]
  },
  {
   "cell_type": "code",
   "execution_count": 134,
   "metadata": {
    "scrolled": false
   },
   "outputs": [
    {
     "data": {
      "text/plain": [
       "\n",
       "Call:\n",
       "svm(formula = Y ~ ., data = train, family = binomial())\n",
       "\n",
       "\n",
       "Parameters:\n",
       "   SVM-Type:  eps-regression \n",
       " SVM-Kernel:  radial \n",
       "       cost:  1 \n",
       "      gamma:  0.03125 \n",
       "    epsilon:  0.1 \n",
       "\n",
       "\n",
       "Number of Support Vectors:  1001\n",
       "\n",
       "\n",
       "\n",
       "\n"
      ]
     },
     "metadata": {},
     "output_type": "display_data"
    },
    {
     "data": {
      "text/html": [
       "<dl class=dl-horizontal>\n",
       "\t<dt>GenderFemale</dt>\n",
       "\t\t<dd>0.464535464535465</dd>\n",
       "\t<dt>GenderMale</dt>\n",
       "\t\t<dd>0.535464535464535</dd>\n",
       "\t<dt>Average_GPA</dt>\n",
       "\t\t<dd>-0.0607653196473238</dd>\n",
       "\t<dt>s_start_year</dt>\n",
       "\t\t<dd>0.109074019209957</dd>\n",
       "\t<dt>s_CitizenshipAsia</dt>\n",
       "\t\t<dd>0.126873126873127</dd>\n",
       "\t<dt>s_CitizenshipChina</dt>\n",
       "\t\t<dd>0.134865134865135</dd>\n",
       "\t<dt>s_CitizenshipWhite</dt>\n",
       "\t\t<dd>0.715284715284715</dd>\n",
       "\t<dt>avs_net_cost</dt>\n",
       "\t\t<dd>0.0157306753722701</dd>\n",
       "\t<dt>Gender.1Male</dt>\n",
       "\t\t<dd>0.535464535464535</dd>\n",
       "\t<dt>s_Average.Precol.GPA</dt>\n",
       "\t\t<dd>0.00745300405385959</dd>\n",
       "\t<dt>s_GRE.Combined.General.Write.Score</dt>\n",
       "\t\t<dd>0.0385404575714552</dd>\n",
       "\t<dt>s_GRE.Combined.Quantitative.Score</dt>\n",
       "\t\t<dd>-0.00314552277149265</dd>\n",
       "\t<dt>s_GRE.Combined.General.Verbal.Score</dt>\n",
       "\t\t<dd>0.0150696424770825</dd>\n",
       "\t<dt>CollegeGD.Education</dt>\n",
       "\t\t<dd>0.027972027972028</dd>\n",
       "\t<dt>CollegeGD.Grad.School</dt>\n",
       "\t\t<dd>0.023976023976024</dd>\n",
       "\t<dt>CollegeGD.Harpur</dt>\n",
       "\t\t<dd>0.664335664335664</dd>\n",
       "\t<dt>CollegeGD.Management</dt>\n",
       "\t\t<dd>0.022977022977023</dd>\n",
       "\t<dt>CollegeGD.Nursing</dt>\n",
       "\t\t<dd>0.048951048951049</dd>\n",
       "\t<dt>CollegeGD.Watson</dt>\n",
       "\t\t<dd>0.1998001998002</dd>\n",
       "\t<dt>funding_indicator</dt>\n",
       "\t\t<dd>-0.0154891730882483</dd>\n",
       "\t<dt>CitizenshipAsia</dt>\n",
       "\t\t<dd>0.126873126873127</dd>\n",
       "\t<dt>CitizenshipAsian</dt>\n",
       "\t\t<dd>0.040959040959041</dd>\n",
       "\t<dt>CitizenshipBlack.or.African.American</dt>\n",
       "\t\t<dd>0.032967032967033</dd>\n",
       "\t<dt>CitizenshipChina</dt>\n",
       "\t\t<dd>0.134865134865135</dd>\n",
       "\t<dt>CitizenshipEurope</dt>\n",
       "\t\t<dd>0.020979020979021</dd>\n",
       "\t<dt>CitizenshipHispanic.or.Latino</dt>\n",
       "\t\t<dd>0.03996003996004</dd>\n",
       "\t<dt>CitizenshipIndia</dt>\n",
       "\t\t<dd>0.046953046953047</dd>\n",
       "\t<dt>CitizenshipOther.International.Students</dt>\n",
       "\t\t<dd>0.016983016983017</dd>\n",
       "\t<dt>CitizenshipUnknown</dt>\n",
       "\t\t<dd>0.0669330669330669</dd>\n",
       "\t<dt>CitizenshipWhite</dt>\n",
       "\t\t<dd>0.44955044955045</dd>\n",
       "\t<dt>gap_indicator</dt>\n",
       "\t\t<dd>-0.0294486010709027</dd>\n",
       "\t<dt>GPA_trend</dt>\n",
       "\t\t<dd>-0.00851275334027022</dd>\n",
       "</dl>\n"
      ],
      "text/latex": [
       "\\begin{description*}\n",
       "\\item[GenderFemale] 0.464535464535465\n",
       "\\item[GenderMale] 0.535464535464535\n",
       "\\item[Average\\textbackslash{}\\_GPA] -0.0607653196473238\n",
       "\\item[s\\textbackslash{}\\_start\\textbackslash{}\\_year] 0.109074019209957\n",
       "\\item[s\\textbackslash{}\\_CitizenshipAsia] 0.126873126873127\n",
       "\\item[s\\textbackslash{}\\_CitizenshipChina] 0.134865134865135\n",
       "\\item[s\\textbackslash{}\\_CitizenshipWhite] 0.715284715284715\n",
       "\\item[avs\\textbackslash{}\\_net\\textbackslash{}\\_cost] 0.0157306753722701\n",
       "\\item[Gender.1Male] 0.535464535464535\n",
       "\\item[s\\textbackslash{}\\_Average.Precol.GPA] 0.00745300405385959\n",
       "\\item[s\\textbackslash{}\\_GRE.Combined.General.Write.Score] 0.0385404575714552\n",
       "\\item[s\\textbackslash{}\\_GRE.Combined.Quantitative.Score] -0.00314552277149265\n",
       "\\item[s\\textbackslash{}\\_GRE.Combined.General.Verbal.Score] 0.0150696424770825\n",
       "\\item[CollegeGD.Education] 0.027972027972028\n",
       "\\item[CollegeGD.Grad.School] 0.023976023976024\n",
       "\\item[CollegeGD.Harpur] 0.664335664335664\n",
       "\\item[CollegeGD.Management] 0.022977022977023\n",
       "\\item[CollegeGD.Nursing] 0.048951048951049\n",
       "\\item[CollegeGD.Watson] 0.1998001998002\n",
       "\\item[funding\\textbackslash{}\\_indicator] -0.0154891730882483\n",
       "\\item[CitizenshipAsia] 0.126873126873127\n",
       "\\item[CitizenshipAsian] 0.040959040959041\n",
       "\\item[CitizenshipBlack.or.African.American] 0.032967032967033\n",
       "\\item[CitizenshipChina] 0.134865134865135\n",
       "\\item[CitizenshipEurope] 0.020979020979021\n",
       "\\item[CitizenshipHispanic.or.Latino] 0.03996003996004\n",
       "\\item[CitizenshipIndia] 0.046953046953047\n",
       "\\item[CitizenshipOther.International.Students] 0.016983016983017\n",
       "\\item[CitizenshipUnknown] 0.0669330669330669\n",
       "\\item[CitizenshipWhite] 0.44955044955045\n",
       "\\item[gap\\textbackslash{}\\_indicator] -0.0294486010709027\n",
       "\\item[GPA\\textbackslash{}\\_trend] -0.00851275334027022\n",
       "\\end{description*}\n"
      ],
      "text/markdown": [
       "GenderFemale\n",
       ":   0.464535464535465GenderMale\n",
       ":   0.535464535464535Average_GPA\n",
       ":   -0.0607653196473238s_start_year\n",
       ":   0.109074019209957s_CitizenshipAsia\n",
       ":   0.126873126873127s_CitizenshipChina\n",
       ":   0.134865134865135s_CitizenshipWhite\n",
       ":   0.715284715284715avs_net_cost\n",
       ":   0.0157306753722701Gender.1Male\n",
       ":   0.535464535464535s_Average.Precol.GPA\n",
       ":   0.00745300405385959s_GRE.Combined.General.Write.Score\n",
       ":   0.0385404575714552s_GRE.Combined.Quantitative.Score\n",
       ":   -0.00314552277149265s_GRE.Combined.General.Verbal.Score\n",
       ":   0.0150696424770825CollegeGD.Education\n",
       ":   0.027972027972028CollegeGD.Grad.School\n",
       ":   0.023976023976024CollegeGD.Harpur\n",
       ":   0.664335664335664CollegeGD.Management\n",
       ":   0.022977022977023CollegeGD.Nursing\n",
       ":   0.048951048951049CollegeGD.Watson\n",
       ":   0.1998001998002funding_indicator\n",
       ":   -0.0154891730882483CitizenshipAsia\n",
       ":   0.126873126873127CitizenshipAsian\n",
       ":   0.040959040959041CitizenshipBlack.or.African.American\n",
       ":   0.032967032967033CitizenshipChina\n",
       ":   0.134865134865135CitizenshipEurope\n",
       ":   0.020979020979021CitizenshipHispanic.or.Latino\n",
       ":   0.03996003996004CitizenshipIndia\n",
       ":   0.046953046953047CitizenshipOther.International.Students\n",
       ":   0.016983016983017CitizenshipUnknown\n",
       ":   0.0669330669330669CitizenshipWhite\n",
       ":   0.44955044955045gap_indicator\n",
       ":   -0.0294486010709027GPA_trend\n",
       ":   -0.00851275334027022\n",
       "\n"
      ],
      "text/plain": [
       "                           GenderFemale                              GenderMale \n",
       "                            0.464535465                             0.535464535 \n",
       "                            Average_GPA                            s_start_year \n",
       "                           -0.060765320                             0.109074019 \n",
       "                      s_CitizenshipAsia                      s_CitizenshipChina \n",
       "                            0.126873127                             0.134865135 \n",
       "                     s_CitizenshipWhite                            avs_net_cost \n",
       "                            0.715284715                             0.015730675 \n",
       "                           Gender.1Male                    s_Average.Precol.GPA \n",
       "                            0.535464535                             0.007453004 \n",
       "     s_GRE.Combined.General.Write.Score       s_GRE.Combined.Quantitative.Score \n",
       "                            0.038540458                            -0.003145523 \n",
       "    s_GRE.Combined.General.Verbal.Score                     CollegeGD.Education \n",
       "                            0.015069642                             0.027972028 \n",
       "                  CollegeGD.Grad.School                        CollegeGD.Harpur \n",
       "                            0.023976024                             0.664335664 \n",
       "                   CollegeGD.Management                       CollegeGD.Nursing \n",
       "                            0.022977023                             0.048951049 \n",
       "                       CollegeGD.Watson                       funding_indicator \n",
       "                            0.199800200                            -0.015489173 \n",
       "                        CitizenshipAsia                        CitizenshipAsian \n",
       "                            0.126873127                             0.040959041 \n",
       "   CitizenshipBlack.or.African.American                        CitizenshipChina \n",
       "                            0.032967033                             0.134865135 \n",
       "                      CitizenshipEurope           CitizenshipHispanic.or.Latino \n",
       "                            0.020979021                             0.039960040 \n",
       "                       CitizenshipIndia CitizenshipOther.International.Students \n",
       "                            0.046953047                             0.016983017 \n",
       "                     CitizenshipUnknown                        CitizenshipWhite \n",
       "                            0.066933067                             0.449550450 \n",
       "                          gap_indicator                               GPA_trend \n",
       "                           -0.029448601                            -0.008512753 "
      ]
     },
     "metadata": {},
     "output_type": "display_data"
    }
   ],
   "source": [
    "summary(mod_svm)\n",
    "colMeans(mod_svm$SV)\n",
    "#The resulting support vectors (possibly scaled)."
   ]
  },
  {
   "cell_type": "markdown",
   "metadata": {},
   "source": [
    "## LASSO"
   ]
  },
  {
   "cell_type": "code",
   "execution_count": 135,
   "metadata": {},
   "outputs": [],
   "source": [
    "train_x = model.matrix(~., data = train_x)\n",
    "test_x = model.matrix(~., data = test_x)"
   ]
  },
  {
   "cell_type": "code",
   "execution_count": 136,
   "metadata": {
    "scrolled": false
   },
   "outputs": [
    {
     "data": {
      "image/png": "[encoded data removed]",
      "text/plain": [
       "plot without title"
      ]
     },
     "metadata": {},
     "output_type": "display_data"
    },
    {
     "data": {
      "image/png": "[encoded data removed]",
      "text/plain": [
       "Plot with title \"\""
      ]
     },
     "metadata": {},
     "output_type": "display_data"
    }
   ],
   "source": [
    "cvfit = cv.glmnet(train_x,train_y,alpha=1,family='binomial',type.measure='mse')\n",
    "mod_lasso = glmnet(train_x,train_y,alpha=1, family = \"binomial\",lambda = cvfit$lambda)\n",
    "plot(cvfit)\n",
    "plot_glmnet(mod_lasso)\n",
    "mod_lasso <- glmnet(train_x,train_y,alpha=1, family = \"binomial\",lambda = cvfit$lambda.min)"
   ]
  },
  {
   "cell_type": "code",
   "execution_count": 137,
   "metadata": {
    "scrolled": true
   },
   "outputs": [
    {
     "data": {
      "text/html": [
       "0.718"
      ],
      "text/latex": [
       "0.718"
      ],
      "text/markdown": [
       "0.718"
      ],
      "text/plain": [
       "[1] 0.718"
      ]
     },
     "metadata": {},
     "output_type": "display_data"
    }
   ],
   "source": [
    "lasso_pred = predict(mod_lasso, test_x, type=\"class\")\n",
    "lasso_right = colSums(lasso_pred == test_y)\n",
    "(lasso_acc = round(max(lasso_right)/length(test_y),4))"
   ]
  },
  {
   "cell_type": "markdown",
   "metadata": {},
   "source": [
    "<b> Summary"
   ]
  },
  {
   "cell_type": "code",
   "execution_count": 138,
   "metadata": {
    "scrolled": true
   },
   "outputs": [
    {
     "data": {
      "text/plain": [
       "32 x 1 sparse Matrix of class \"dgCMatrix\"\n",
       "                                                  s0\n",
       "(Intercept)                              .          \n",
       "GenderMale                               0.064072188\n",
       "Average_GPA                              0.580199378\n",
       "s_start_year                            -0.707438846\n",
       "s_CitizenshipAsia                        .          \n",
       "s_CitizenshipChina                       .          \n",
       "s_CitizenshipWhite                      -0.493806771\n",
       "avs_net_cost                             0.077545147\n",
       "Gender.1Male                             0.193333187\n",
       "s_Average.Precol.GPA                     0.036061025\n",
       "s_GRE.Combined.General.Write.Score       0.001396758\n",
       "s_GRE.Combined.Quantitative.Score       -0.127946847\n",
       "s_GRE.Combined.General.Verbal.Score      .          \n",
       "CollegeGD Education                     -0.019215033\n",
       "CollegeGD Grad School                    2.709025411\n",
       "CollegeGD Harpur                        -0.325760503\n",
       "CollegeGD Management                     .          \n",
       "CollegeGD Nursing                        0.611371551\n",
       "CollegeGD Watson                         0.103897085\n",
       "funding_indicator                        0.736486958\n",
       "CitizenshipAsia                          .          \n",
       "CitizenshipAsian                        -0.275230075\n",
       "CitizenshipBlack or African American     0.539159526\n",
       "CitizenshipChina                        -0.109834153\n",
       "CitizenshipEurope                        0.124419593\n",
       "CitizenshipHispanic or Latino           -0.247678323\n",
       "CitizenshipIndia                         0.091740750\n",
       "CitizenshipOther International Students  0.015033512\n",
       "CitizenshipUnknown                       .          \n",
       "CitizenshipWhite                        -0.032428235\n",
       "gap_indicator                            0.343416883\n",
       "GPA_trend                                1.363760259"
      ]
     },
     "metadata": {},
     "output_type": "display_data"
    }
   ],
   "source": [
    "mod_lasso$beta"
   ]
  },
  {
   "cell_type": "markdown",
   "metadata": {},
   "source": [
    "## Prediction Summary"
   ]
  },
  {
   "cell_type": "code",
   "execution_count": 146,
   "metadata": {},
   "outputs": [
    {
     "data": {
      "text/html": [
       "<table>\n",
       "<thead><tr><th></th><th scope=col>Accuracy</th></tr></thead>\n",
       "<tbody>\n",
       "\t<tr><th scope=row>Random Forest</th><td>0.7601</td></tr>\n",
       "\t<tr><th scope=row>LDA</th><td>0.7164</td></tr>\n",
       "\t<tr><th scope=row>Neural Network</th><td>0.7229</td></tr>\n",
       "\t<tr><th scope=row>Logistic Regression</th><td>0.7164</td></tr>\n",
       "\t<tr><th scope=row>SVM</th><td>0.7018</td></tr>\n",
       "\t<tr><th scope=row>LASSO</th><td>0.7180</td></tr>\n",
       "</tbody>\n",
       "</table>\n"
      ],
      "text/latex": [
       "\\begin{tabular}{r|l}\n",
       "  & Accuracy\\\\\n",
       "\\hline\n",
       "\tRandom Forest & 0.7601\\\\\n",
       "\tLDA & 0.7164\\\\\n",
       "\tNeural Network & 0.7229\\\\\n",
       "\tLogistic Regression & 0.7164\\\\\n",
       "\tSVM & 0.7018\\\\\n",
       "\tLASSO & 0.7180\\\\\n",
       "\\end{tabular}\n"
      ],
      "text/markdown": [
       "\n",
       "| <!--/--> | Accuracy |\n",
       "|---|---|\n",
       "| Random Forest | 0.7601 |\n",
       "| LDA | 0.7164 |\n",
       "| Neural Network | 0.7229 |\n",
       "| Logistic Regression | 0.7164 |\n",
       "| SVM | 0.7018 |\n",
       "| LASSO | 0.7180 |\n",
       "\n"
      ],
      "text/plain": [
       "                    Accuracy\n",
       "Random Forest       0.7601  \n",
       "LDA                 0.7164  \n",
       "Neural Network      0.7229  \n",
       "Logistic Regression 0.7164  \n",
       "SVM                 0.7018  \n",
       "LASSO               0.7180  "
      ]
     },
     "metadata": {},
     "output_type": "display_data"
    }
   ],
   "source": [
    "res = data.frame(rbind(rf_acc, lda_acc, nnet_acc, glm_acc,svm_acc,lasso_acc))\n",
    "colnames(res) = 'Accuracy'\n",
    "rownames(res) = c('Random Forest','LDA', 'Neural Network', 'Logistic Regression', 'SVM', 'LASSO')\n",
    "res"
   ]
  }
 ],
 "metadata": {
  "hide_input": false,
  "kernelspec": {
   "display_name": "R",
   "language": "R",
   "name": "ir"
  },
  "language_info": {
   "codemirror_mode": "r",
   "file_extension": ".r",
   "mimetype": "text/x-r-source",
   "name": "R",
   "pygments_lexer": "r",
   "version": "3.6.1"
  },
  "latex_envs": {
   "LaTeX_envs_menu_present": true,
   "autoclose": false,
   "autocomplete": true,
   "bibliofile": "biblio.bib",
   "cite_by": "apalike",
   "current_citInitial": 1,
   "eqLabelWithNumbers": true,
   "eqNumInitial": 1,
   "hotkeys": {
    "equation": "Ctrl-E",
    "itemize": "Ctrl-I"
   },
   "labels_anchors": false,
   "latex_user_defs": false,
   "report_style_numbering": false,
   "user_envs_cfg": false
  },
  "toc": {
   "base_numbering": 1,
   "nav_menu": {},
   "number_sections": true,
   "sideBar": true,
   "skip_h1_title": false,
   "title_cell": "Table of Contents",
   "title_sidebar": "Contents",
   "toc_cell": false,
   "toc_position": {
    "height": "calc(100% - 180px)",
    "left": "10px",
    "top": "150px",
    "width": "190.139px"
   },
   "toc_section_display": true,
   "toc_window_display": true
  }
 },
 "nbformat": 4,
 "nbformat_minor": 2
}
