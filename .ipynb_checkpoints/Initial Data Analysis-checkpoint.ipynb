{
 "cells": [
  {
   "cell_type": "code",
   "execution_count": 1,
   "metadata": {},
   "outputs": [
    {
     "name": "stderr",
     "output_type": "stream",
     "text": [
      "Installing package into 'C:/Users/DELL/Documents/R/win-library/3.6'\n",
      "(as 'lib' is unspecified)\n"
     ]
    },
    {
     "name": "stdout",
     "output_type": "stream",
     "text": [
      "package 'nnet' successfully unpacked and MD5 sums checked\n",
      "\n",
      "The downloaded binary packages are in\n",
      "\tC:\\Users\\DELL\\AppData\\Local\\Temp\\RtmpmYJNuz\\downloaded_packages\n"
     ]
    },
    {
     "name": "stderr",
     "output_type": "stream",
     "text": [
      "Warning message:\n",
      "\"package 'nnet' was built under R version 3.6.3\"Installing package into 'C:/Users/DELL/Documents/R/win-library/3.6'\n",
      "(as 'lib' is unspecified)\n"
     ]
    },
    {
     "name": "stdout",
     "output_type": "stream",
     "text": [
      "package 'caret' successfully unpacked and MD5 sums checked\n",
      "\n",
      "The downloaded binary packages are in\n",
      "\tC:\\Users\\DELL\\AppData\\Local\\Temp\\RtmpmYJNuz\\downloaded_packages\n"
     ]
    },
    {
     "name": "stderr",
     "output_type": "stream",
     "text": [
      "Warning message:\n",
      "\"package 'caret' was built under R version 3.6.3\"Loading required package: lattice\n",
      "Loading required package: ggplot2\n",
      "Warning message:\n",
      "\"package 'ggplot2' was built under R version 3.6.2\"Warning message:\n",
      "\"package 'plotmo' was built under R version 3.6.2\"Loading required package: Formula\n",
      "Loading required package: plotrix\n",
      "Loading required package: TeachingDemos\n",
      "Warning message:\n",
      "\"package 'TeachingDemos' was built under R version 3.6.2\"Warning message:\n",
      "\"package 'readr' was built under R version 3.6.2\"Warning message:\n",
      "\"package 'faraway' was built under R version 3.6.2\"\n",
      "Attaching package: 'faraway'\n",
      "\n",
      "The following object is masked from 'package:lattice':\n",
      "\n",
      "    melanoma\n",
      "\n",
      "Warning message:\n",
      "\"package 'glmnet' was built under R version 3.6.2\"Loading required package: Matrix\n",
      "Loaded glmnet 3.0-2\n",
      "\n",
      "Warning message:\n",
      "\"package 'e1071' was built under R version 3.6.2\""
     ]
    }
   ],
   "source": [
    "library(MASS)\n",
    "install.packages(\"nnet\")\n",
    "library(nnet)\n",
    "install.packages(\"caret\")\n",
    "library(caret)\n",
    "library(plotmo)\n",
    "library(readr)\n",
    "library(faraway)\n",
    "library(ggplot2)\n",
    "library(glmnet)\n",
    "library(e1071)"
   ]
  },
  {
   "cell_type": "markdown",
   "metadata": {},
   "source": [
    "# Load Data and Final Clean"
   ]
  },
  {
   "cell_type": "code",
   "execution_count": 2,
   "metadata": {
    "scrolled": true
   },
   "outputs": [
    {
     "data": {
      "text/html": [
       "<ol class=list-inline>\n",
       "\t<li>'X1st_Term_Funding'</li>\n",
       "\t<li>'X2nd_Term_Funding'</li>\n",
       "\t<li>'X3rd_Term_Funding'</li>\n",
       "\t<li>'X4th_Term_Funding'</li>\n",
       "\t<li>'Start_year'</li>\n",
       "\t<li>'Start_age'</li>\n",
       "\t<li>'College'</li>\n",
       "\t<li>'Age'</li>\n",
       "\t<li>'Degree'</li>\n",
       "\t<li>'Gender'</li>\n",
       "\t<li>'funding_indicator'</li>\n",
       "\t<li>'ID'</li>\n",
       "\t<li>'Citizenship'</li>\n",
       "\t<li>'Major_id'</li>\n",
       "\t<li>'Major'</li>\n",
       "\t<li>'net_cost'</li>\n",
       "\t<li>'Program'</li>\n",
       "\t<li>'Prep.Level'</li>\n",
       "\t<li>'Total.Charges'</li>\n",
       "\t<li>'Total.Funding.Amount'</li>\n",
       "\t<li>'Y'</li>\n",
       "\t<li>'Term.1.GPA'</li>\n",
       "\t<li>'Term.2.GPA'</li>\n",
       "\t<li>'Term.3.GPA'</li>\n",
       "\t<li>'Term.4.GPA'</li>\n",
       "\t<li>'Term.5.GPA'</li>\n",
       "\t<li>'Term.6.GPA'</li>\n",
       "\t<li>'Term.7.GPA'</li>\n",
       "\t<li>'Term.8.GPA'</li>\n",
       "\t<li>'gap_indicator'</li>\n",
       "\t<li>'GPA_trend'</li>\n",
       "\t<li>'Valid.term'</li>\n",
       "\t<li>'Average_GPA'</li>\n",
       "\t<li>'academic_period'</li>\n",
       "\t<li>'s_College'</li>\n",
       "\t<li>'s_Citizenship'</li>\n",
       "\t<li>'Average.Precol.GPA'</li>\n",
       "\t<li>'GMAT.Score'</li>\n",
       "\t<li>'GRE.Combined.General.Write.Score'</li>\n",
       "\t<li>'GRE.Combined.Quantitative.Score'</li>\n",
       "\t<li>'GRE.Combined.General.Verbal.Score'</li>\n",
       "</ol>\n"
      ],
      "text/latex": [
       "\\begin{enumerate*}\n",
       "\\item 'X1st\\_Term\\_Funding'\n",
       "\\item 'X2nd\\_Term\\_Funding'\n",
       "\\item 'X3rd\\_Term\\_Funding'\n",
       "\\item 'X4th\\_Term\\_Funding'\n",
       "\\item 'Start\\_year'\n",
       "\\item 'Start\\_age'\n",
       "\\item 'College'\n",
       "\\item 'Age'\n",
       "\\item 'Degree'\n",
       "\\item 'Gender'\n",
       "\\item 'funding\\_indicator'\n",
       "\\item 'ID'\n",
       "\\item 'Citizenship'\n",
       "\\item 'Major\\_id'\n",
       "\\item 'Major'\n",
       "\\item 'net\\_cost'\n",
       "\\item 'Program'\n",
       "\\item 'Prep.Level'\n",
       "\\item 'Total.Charges'\n",
       "\\item 'Total.Funding.Amount'\n",
       "\\item 'Y'\n",
       "\\item 'Term.1.GPA'\n",
       "\\item 'Term.2.GPA'\n",
       "\\item 'Term.3.GPA'\n",
       "\\item 'Term.4.GPA'\n",
       "\\item 'Term.5.GPA'\n",
       "\\item 'Term.6.GPA'\n",
       "\\item 'Term.7.GPA'\n",
       "\\item 'Term.8.GPA'\n",
       "\\item 'gap\\_indicator'\n",
       "\\item 'GPA\\_trend'\n",
       "\\item 'Valid.term'\n",
       "\\item 'Average\\_GPA'\n",
       "\\item 'academic\\_period'\n",
       "\\item 's\\_College'\n",
       "\\item 's\\_Citizenship'\n",
       "\\item 'Average.Precol.GPA'\n",
       "\\item 'GMAT.Score'\n",
       "\\item 'GRE.Combined.General.Write.Score'\n",
       "\\item 'GRE.Combined.Quantitative.Score'\n",
       "\\item 'GRE.Combined.General.Verbal.Score'\n",
       "\\end{enumerate*}\n"
      ],
      "text/markdown": [
       "1. 'X1st_Term_Funding'\n",
       "2. 'X2nd_Term_Funding'\n",
       "3. 'X3rd_Term_Funding'\n",
       "4. 'X4th_Term_Funding'\n",
       "5. 'Start_year'\n",
       "6. 'Start_age'\n",
       "7. 'College'\n",
       "8. 'Age'\n",
       "9. 'Degree'\n",
       "10. 'Gender'\n",
       "11. 'funding_indicator'\n",
       "12. 'ID'\n",
       "13. 'Citizenship'\n",
       "14. 'Major_id'\n",
       "15. 'Major'\n",
       "16. 'net_cost'\n",
       "17. 'Program'\n",
       "18. 'Prep.Level'\n",
       "19. 'Total.Charges'\n",
       "20. 'Total.Funding.Amount'\n",
       "21. 'Y'\n",
       "22. 'Term.1.GPA'\n",
       "23. 'Term.2.GPA'\n",
       "24. 'Term.3.GPA'\n",
       "25. 'Term.4.GPA'\n",
       "26. 'Term.5.GPA'\n",
       "27. 'Term.6.GPA'\n",
       "28. 'Term.7.GPA'\n",
       "29. 'Term.8.GPA'\n",
       "30. 'gap_indicator'\n",
       "31. 'GPA_trend'\n",
       "32. 'Valid.term'\n",
       "33. 'Average_GPA'\n",
       "34. 'academic_period'\n",
       "35. 's_College'\n",
       "36. 's_Citizenship'\n",
       "37. 'Average.Precol.GPA'\n",
       "38. 'GMAT.Score'\n",
       "39. 'GRE.Combined.General.Write.Score'\n",
       "40. 'GRE.Combined.Quantitative.Score'\n",
       "41. 'GRE.Combined.General.Verbal.Score'\n",
       "\n",
       "\n"
      ],
      "text/plain": [
       " [1] \"X1st_Term_Funding\"                 \"X2nd_Term_Funding\"                \n",
       " [3] \"X3rd_Term_Funding\"                 \"X4th_Term_Funding\"                \n",
       " [5] \"Start_year\"                        \"Start_age\"                        \n",
       " [7] \"College\"                           \"Age\"                              \n",
       " [9] \"Degree\"                            \"Gender\"                           \n",
       "[11] \"funding_indicator\"                 \"ID\"                               \n",
       "[13] \"Citizenship\"                       \"Major_id\"                         \n",
       "[15] \"Major\"                             \"net_cost\"                         \n",
       "[17] \"Program\"                           \"Prep.Level\"                       \n",
       "[19] \"Total.Charges\"                     \"Total.Funding.Amount\"             \n",
       "[21] \"Y\"                                 \"Term.1.GPA\"                       \n",
       "[23] \"Term.2.GPA\"                        \"Term.3.GPA\"                       \n",
       "[25] \"Term.4.GPA\"                        \"Term.5.GPA\"                       \n",
       "[27] \"Term.6.GPA\"                        \"Term.7.GPA\"                       \n",
       "[29] \"Term.8.GPA\"                        \"gap_indicator\"                    \n",
       "[31] \"GPA_trend\"                         \"Valid.term\"                       \n",
       "[33] \"Average_GPA\"                       \"academic_period\"                  \n",
       "[35] \"s_College\"                         \"s_Citizenship\"                    \n",
       "[37] \"Average.Precol.GPA\"                \"GMAT.Score\"                       \n",
       "[39] \"GRE.Combined.General.Write.Score\"  \"GRE.Combined.Quantitative.Score\"  \n",
       "[41] \"GRE.Combined.General.Verbal.Score\""
      ]
     },
     "metadata": {},
     "output_type": "display_data"
    },
    {
     "data": {
      "text/html": [
       "<ol class=list-inline>\n",
       "\t<li>2470</li>\n",
       "\t<li>41</li>\n",
       "</ol>\n"
      ],
      "text/latex": [
       "\\begin{enumerate*}\n",
       "\\item 2470\n",
       "\\item 41\n",
       "\\end{enumerate*}\n"
      ],
      "text/markdown": [
       "1. 2470\n",
       "2. 41\n",
       "\n",
       "\n"
      ],
      "text/plain": [
       "[1] 2470   41"
      ]
     },
     "metadata": {},
     "output_type": "display_data"
    }
   ],
   "source": [
    "df <- read.csv(file=\"cleaned_data_0329.csv\",sep=\",\",header=TRUE)\n",
    "df = df[,-1]\n",
    "colnames(df)\n",
    "dim(df)"
   ]
  },
  {
   "cell_type": "code",
   "execution_count": 3,
   "metadata": {},
   "outputs": [
    {
     "data": {
      "text/html": [
       "<ol class=list-inline>\n",
       "\t<li>'X1st_Term_Funding'</li>\n",
       "\t<li>'X2nd_Term_Funding'</li>\n",
       "\t<li>'X3rd_Term_Funding'</li>\n",
       "\t<li>'X4th_Term_Funding'</li>\n",
       "\t<li>'Start_year'</li>\n",
       "\t<li>'Start_age'</li>\n",
       "\t<li>'College'</li>\n",
       "\t<li>'Age'</li>\n",
       "\t<li>'Degree'</li>\n",
       "\t<li>'Gender'</li>\n",
       "\t<li>'funding_indicator'</li>\n",
       "\t<li>'ID'</li>\n",
       "\t<li>'Citizenship'</li>\n",
       "\t<li>'Major_id'</li>\n",
       "\t<li>'Major'</li>\n",
       "\t<li>'net_cost'</li>\n",
       "\t<li>'Program'</li>\n",
       "\t<li>'Prep.Level'</li>\n",
       "\t<li>'Total.Charges'</li>\n",
       "\t<li>'Total.Funding.Amount'</li>\n",
       "\t<li>'Y'</li>\n",
       "\t<li>'Term.1.GPA'</li>\n",
       "\t<li>'Term.2.GPA'</li>\n",
       "\t<li>'Term.3.GPA'</li>\n",
       "\t<li>'Term.4.GPA'</li>\n",
       "\t<li>'Term.5.GPA'</li>\n",
       "\t<li>'Term.6.GPA'</li>\n",
       "\t<li>'Term.7.GPA'</li>\n",
       "\t<li>'Term.8.GPA'</li>\n",
       "\t<li>'gap_indicator'</li>\n",
       "\t<li>'GPA_trend'</li>\n",
       "\t<li>'Valid.term'</li>\n",
       "\t<li>'Average_GPA'</li>\n",
       "\t<li>'academic_period'</li>\n",
       "\t<li>'s_College'</li>\n",
       "\t<li>'s_Citizenship'</li>\n",
       "\t<li>'Average.Precol.GPA'</li>\n",
       "\t<li>'GMAT.Score'</li>\n",
       "\t<li>'GRE.Combined.General.Write.Score'</li>\n",
       "\t<li>'GRE.Combined.Quantitative.Score'</li>\n",
       "\t<li>'GRE.Combined.General.Verbal.Score'</li>\n",
       "</ol>\n"
      ],
      "text/latex": [
       "\\begin{enumerate*}\n",
       "\\item 'X1st\\_Term\\_Funding'\n",
       "\\item 'X2nd\\_Term\\_Funding'\n",
       "\\item 'X3rd\\_Term\\_Funding'\n",
       "\\item 'X4th\\_Term\\_Funding'\n",
       "\\item 'Start\\_year'\n",
       "\\item 'Start\\_age'\n",
       "\\item 'College'\n",
       "\\item 'Age'\n",
       "\\item 'Degree'\n",
       "\\item 'Gender'\n",
       "\\item 'funding\\_indicator'\n",
       "\\item 'ID'\n",
       "\\item 'Citizenship'\n",
       "\\item 'Major\\_id'\n",
       "\\item 'Major'\n",
       "\\item 'net\\_cost'\n",
       "\\item 'Program'\n",
       "\\item 'Prep.Level'\n",
       "\\item 'Total.Charges'\n",
       "\\item 'Total.Funding.Amount'\n",
       "\\item 'Y'\n",
       "\\item 'Term.1.GPA'\n",
       "\\item 'Term.2.GPA'\n",
       "\\item 'Term.3.GPA'\n",
       "\\item 'Term.4.GPA'\n",
       "\\item 'Term.5.GPA'\n",
       "\\item 'Term.6.GPA'\n",
       "\\item 'Term.7.GPA'\n",
       "\\item 'Term.8.GPA'\n",
       "\\item 'gap\\_indicator'\n",
       "\\item 'GPA\\_trend'\n",
       "\\item 'Valid.term'\n",
       "\\item 'Average\\_GPA'\n",
       "\\item 'academic\\_period'\n",
       "\\item 's\\_College'\n",
       "\\item 's\\_Citizenship'\n",
       "\\item 'Average.Precol.GPA'\n",
       "\\item 'GMAT.Score'\n",
       "\\item 'GRE.Combined.General.Write.Score'\n",
       "\\item 'GRE.Combined.Quantitative.Score'\n",
       "\\item 'GRE.Combined.General.Verbal.Score'\n",
       "\\end{enumerate*}\n"
      ],
      "text/markdown": [
       "1. 'X1st_Term_Funding'\n",
       "2. 'X2nd_Term_Funding'\n",
       "3. 'X3rd_Term_Funding'\n",
       "4. 'X4th_Term_Funding'\n",
       "5. 'Start_year'\n",
       "6. 'Start_age'\n",
       "7. 'College'\n",
       "8. 'Age'\n",
       "9. 'Degree'\n",
       "10. 'Gender'\n",
       "11. 'funding_indicator'\n",
       "12. 'ID'\n",
       "13. 'Citizenship'\n",
       "14. 'Major_id'\n",
       "15. 'Major'\n",
       "16. 'net_cost'\n",
       "17. 'Program'\n",
       "18. 'Prep.Level'\n",
       "19. 'Total.Charges'\n",
       "20. 'Total.Funding.Amount'\n",
       "21. 'Y'\n",
       "22. 'Term.1.GPA'\n",
       "23. 'Term.2.GPA'\n",
       "24. 'Term.3.GPA'\n",
       "25. 'Term.4.GPA'\n",
       "26. 'Term.5.GPA'\n",
       "27. 'Term.6.GPA'\n",
       "28. 'Term.7.GPA'\n",
       "29. 'Term.8.GPA'\n",
       "30. 'gap_indicator'\n",
       "31. 'GPA_trend'\n",
       "32. 'Valid.term'\n",
       "33. 'Average_GPA'\n",
       "34. 'academic_period'\n",
       "35. 's_College'\n",
       "36. 's_Citizenship'\n",
       "37. 'Average.Precol.GPA'\n",
       "38. 'GMAT.Score'\n",
       "39. 'GRE.Combined.General.Write.Score'\n",
       "40. 'GRE.Combined.Quantitative.Score'\n",
       "41. 'GRE.Combined.General.Verbal.Score'\n",
       "\n",
       "\n"
      ],
      "text/plain": [
       " [1] \"X1st_Term_Funding\"                 \"X2nd_Term_Funding\"                \n",
       " [3] \"X3rd_Term_Funding\"                 \"X4th_Term_Funding\"                \n",
       " [5] \"Start_year\"                        \"Start_age\"                        \n",
       " [7] \"College\"                           \"Age\"                              \n",
       " [9] \"Degree\"                            \"Gender\"                           \n",
       "[11] \"funding_indicator\"                 \"ID\"                               \n",
       "[13] \"Citizenship\"                       \"Major_id\"                         \n",
       "[15] \"Major\"                             \"net_cost\"                         \n",
       "[17] \"Program\"                           \"Prep.Level\"                       \n",
       "[19] \"Total.Charges\"                     \"Total.Funding.Amount\"             \n",
       "[21] \"Y\"                                 \"Term.1.GPA\"                       \n",
       "[23] \"Term.2.GPA\"                        \"Term.3.GPA\"                       \n",
       "[25] \"Term.4.GPA\"                        \"Term.5.GPA\"                       \n",
       "[27] \"Term.6.GPA\"                        \"Term.7.GPA\"                       \n",
       "[29] \"Term.8.GPA\"                        \"gap_indicator\"                    \n",
       "[31] \"GPA_trend\"                         \"Valid.term\"                       \n",
       "[33] \"Average_GPA\"                       \"academic_period\"                  \n",
       "[35] \"s_College\"                         \"s_Citizenship\"                    \n",
       "[37] \"Average.Precol.GPA\"                \"GMAT.Score\"                       \n",
       "[39] \"GRE.Combined.General.Write.Score\"  \"GRE.Combined.Quantitative.Score\"  \n",
       "[41] \"GRE.Combined.General.Verbal.Score\""
      ]
     },
     "metadata": {},
     "output_type": "display_data"
    }
   ],
   "source": [
    "colnames(df)"
   ]
  },
  {
   "cell_type": "code",
   "execution_count": 4,
   "metadata": {
    "scrolled": true
   },
   "outputs": [
    {
     "data": {
      "text/html": [
       "<ol class=list-inline>\n",
       "\t<li>White</li>\n",
       "\t<li>Black or African American</li>\n",
       "\t<li>Asian</li>\n",
       "\t<li>Asia</li>\n",
       "\t<li>Hispanic or Latino</li>\n",
       "\t<li>China</li>\n",
       "\t<li>Africa</li>\n",
       "\t<li>Unknown</li>\n",
       "\t<li>India</li>\n",
       "\t<li>Europe</li>\n",
       "\t<li>Other International Students</li>\n",
       "</ol>\n",
       "\n",
       "<details>\n",
       "\t<summary style=display:list-item;cursor:pointer>\n",
       "\t\t<strong>Levels</strong>:\n",
       "\t</summary>\n",
       "\t<ol class=list-inline>\n",
       "\t\t<li>'Africa'</li>\n",
       "\t\t<li>'Asia'</li>\n",
       "\t\t<li>'Asian'</li>\n",
       "\t\t<li>'Black or African American'</li>\n",
       "\t\t<li>'China'</li>\n",
       "\t\t<li>'Europe'</li>\n",
       "\t\t<li>'Hispanic or Latino'</li>\n",
       "\t\t<li>'India'</li>\n",
       "\t\t<li>'Other International Students'</li>\n",
       "\t\t<li>'Unknown'</li>\n",
       "\t\t<li>'White'</li>\n",
       "\t</ol>\n",
       "</details>"
      ],
      "text/latex": [
       "\\begin{enumerate*}\n",
       "\\item White\n",
       "\\item Black or African American\n",
       "\\item Asian\n",
       "\\item Asia\n",
       "\\item Hispanic or Latino\n",
       "\\item China\n",
       "\\item Africa\n",
       "\\item Unknown\n",
       "\\item India\n",
       "\\item Europe\n",
       "\\item Other International Students\n",
       "\\end{enumerate*}\n",
       "\n",
       "\\emph{Levels}: \\begin{enumerate*}\n",
       "\\item 'Africa'\n",
       "\\item 'Asia'\n",
       "\\item 'Asian'\n",
       "\\item 'Black or African American'\n",
       "\\item 'China'\n",
       "\\item 'Europe'\n",
       "\\item 'Hispanic or Latino'\n",
       "\\item 'India'\n",
       "\\item 'Other International Students'\n",
       "\\item 'Unknown'\n",
       "\\item 'White'\n",
       "\\end{enumerate*}\n"
      ],
      "text/markdown": [
       "1. White\n",
       "2. Black or African American\n",
       "3. Asian\n",
       "4. Asia\n",
       "5. Hispanic or Latino\n",
       "6. China\n",
       "7. Africa\n",
       "8. Unknown\n",
       "9. India\n",
       "10. Europe\n",
       "11. Other International Students\n",
       "\n",
       "\n",
       "\n",
       "**Levels**: 1. 'Africa'\n",
       "2. 'Asia'\n",
       "3. 'Asian'\n",
       "4. 'Black or African American'\n",
       "5. 'China'\n",
       "6. 'Europe'\n",
       "7. 'Hispanic or Latino'\n",
       "8. 'India'\n",
       "9. 'Other International Students'\n",
       "10. 'Unknown'\n",
       "11. 'White'\n",
       "\n",
       "\n"
      ],
      "text/plain": [
       " [1] White                        Black or African American   \n",
       " [3] Asian                        Asia                        \n",
       " [5] Hispanic or Latino           China                       \n",
       " [7] Africa                       Unknown                     \n",
       " [9] India                        Europe                      \n",
       "[11] Other International Students\n",
       "11 Levels: Africa Asia Asian Black or African American China ... White"
      ]
     },
     "metadata": {},
     "output_type": "display_data"
    }
   ],
   "source": [
    "unique(df$Citizenship)"
   ]
  },
  {
   "cell_type": "markdown",
   "metadata": {},
   "source": [
    "Scale and center some variables:"
   ]
  },
  {
   "cell_type": "code",
   "execution_count": 5,
   "metadata": {},
   "outputs": [],
   "source": [
    "mean_age = mean(df$Start_age)\n",
    "sd_age = sd(df$Start_age)\n",
    "df$s_start_age = (df$Start_age - mean_age)/sd_age\n",
    "mean_net = mean(df$net_cost)\n",
    "sd_net = sd(df$net_cost)\n",
    "df$s_net_cost = (df$net_cost - mean_net)/sd_net\n",
    "mean_year = mean(df$Start_year)\n",
    "sd_year = sd(df$Start_year)\n",
    "df$s_start_year = (df$Start_year - mean_year)/sd_year"
   ]
  },
  {
   "cell_type": "code",
   "execution_count": 6,
   "metadata": {},
   "outputs": [],
   "source": [
    "av_net_cost = ifelse(df$Valid.term > 0, df$net_cost / df$Valid.term, df$net_cost)\n",
    "av_mean_net = mean(av_net_cost)\n",
    "av_sd_net = sd(av_net_cost)\n",
    "df$avs_net_cost = (av_net_cost - av_mean_net)/av_sd_net"
   ]
  },
  {
   "cell_type": "code",
   "execution_count": 7,
   "metadata": {},
   "outputs": [],
   "source": [
    "mean_Average.Precol.GPA = mean(df$Average.Precol.GPA)\n",
    "sd_Average.Precol.GPA = sd(df$Average.Precol.GPA)\n",
    "df$s_Average.Precol.GPA = (df$Average.Precol.GPA - mean_Average.Precol.GPA)/sd_Average.Precol.GPA"
   ]
  },
  {
   "cell_type": "code",
   "execution_count": 8,
   "metadata": {},
   "outputs": [],
   "source": [
    "mean_GRE.Combined.General.Write.Score = mean(df$GRE.Combined.General.Write.Score)\n",
    "sd_GRE.Combined.General.Write.Score = sd(df$GRE.Combined.General.Write.Score)\n",
    "df$s_GRE.Combined.General.Write.Score = (df$GRE.Combined.General.Write.Score - mean_GRE.Combined.General.Write.Score)/sd_GRE.Combined.General.Write.Score"
   ]
  },
  {
   "cell_type": "code",
   "execution_count": 9,
   "metadata": {},
   "outputs": [],
   "source": [
    "mean_GRE.Combined.Quantitative.Score = mean(df$GRE.Combined.Quantitative.Score)\n",
    "sd_GRE.Combined.Quantitative.Score = sd(df$GRE.Combined.Quantitative.Score)\n",
    "df$s_GRE.Combined.Quantitative.Score = (df$GRE.Combined.Quantitative.Score - mean_GRE.Combined.Quantitative.Score)/sd_GRE.Combined.Quantitative.Score"
   ]
  },
  {
   "cell_type": "code",
   "execution_count": 10,
   "metadata": {},
   "outputs": [],
   "source": [
    "mean_GRE.Combined.General.Verbal.Score = mean(df$GRE.Combined.General.Verbal.Score)\n",
    "sd_GRE.Combined.General.Verbal.Score = sd(df$GRE.Combined.General.Verbal.Score)\n",
    "df$s_GRE.Combined.General.Verbal.Score = (df$GRE.Combined.General.Verbal.Score - mean_GRE.Combined.General.Verbal.Score)/sd_GRE.Combined.General.Verbal.Score\n"
   ]
  },
  {
   "cell_type": "markdown",
   "metadata": {},
   "source": [
    "## Seperate by School"
   ]
  },
  {
   "cell_type": "markdown",
   "metadata": {},
   "source": [
    "Different Schools"
   ]
  },
  {
   "cell_type": "code",
   "execution_count": 11,
   "metadata": {},
   "outputs": [],
   "source": [
    "schools = levels(factor(df$College))"
   ]
  },
  {
   "cell_type": "code",
   "execution_count": 12,
   "metadata": {},
   "outputs": [],
   "source": [
    "Harpur_df = df[df$College %in% schools[1:4],]\n",
    "Management_df = df[df$College==\"GD Management\",]\n",
    "Nursing_df = df[df$College==\"GD Nursing\",]\n",
    "Watson_df = df[df$College==\"GD Watson\",]"
   ]
  },
  {
   "cell_type": "code",
   "execution_count": 13,
   "metadata": {
    "scrolled": false
   },
   "outputs": [
    {
     "data": {
      "text/html": [
       "<ol class=list-inline>\n",
       "\t<li>Chemistry</li>\n",
       "\t<li>Behavioral Neuroscience</li>\n",
       "\t<li>Cognitive Psychology</li>\n",
       "\t<li>Physics</li>\n",
       "\t<li>Mathematics</li>\n",
       "\t<li>Comparative Literature</li>\n",
       "\t<li>Translation Studies</li>\n",
       "\t<li>Educational Theory and Practic</li>\n",
       "\t<li>Philosophy Interpretation and</li>\n",
       "\t<li>Biological Sciences</li>\n",
       "\t<li>English</li>\n",
       "\t<li>Materials Science and Engineer</li>\n",
       "\t<li>History</li>\n",
       "\t<li>Anthropology</li>\n",
       "\t<li>Sociology</li>\n",
       "\t<li>Material Sci and Eng-Engineerg</li>\n",
       "\t<li>Clinical Psychology</li>\n",
       "\t<li>Economics</li>\n",
       "\t<li>Geology</li>\n",
       "\t<li>Philosophy SPEL</li>\n",
       "\t<li>Political Science</li>\n",
       "\t<li>Community and Public Affairs</li>\n",
       "\t<li>Art History</li>\n",
       "\t<li>Materials Science and Engr</li>\n",
       "\t<li>Biological Sciences EEB</li>\n",
       "\t<li>X Geology</li>\n",
       "\t<li>Art History Combined MA PhD</li>\n",
       "\t<li>Mechanical Engineering</li>\n",
       "\t<li>Mathematics/Economics</li>\n",
       "</ol>\n",
       "\n",
       "<details>\n",
       "\t<summary style=display:list-item;cursor:pointer>\n",
       "\t\t<strong>Levels</strong>:\n",
       "\t</summary>\n",
       "\t<ol class=list-inline>\n",
       "\t\t<li>'Anthropology'</li>\n",
       "\t\t<li>'Art History'</li>\n",
       "\t\t<li>'Art History Combined MA PhD'</li>\n",
       "\t\t<li>'Behavioral Neuroscience'</li>\n",
       "\t\t<li>'Biological Sciences'</li>\n",
       "\t\t<li>'Biological Sciences EEB'</li>\n",
       "\t\t<li>'Biomedical Engineering'</li>\n",
       "\t\t<li>'Chemistry'</li>\n",
       "\t\t<li>'Clinical Psychology'</li>\n",
       "\t\t<li>'Cognitive Psychology'</li>\n",
       "\t\t<li>'Community and Public Affairs'</li>\n",
       "\t\t<li>'Community Health NP'</li>\n",
       "\t\t<li>'Comparative Literature'</li>\n",
       "\t\t<li>'Computer Science'</li>\n",
       "\t\t<li>'Economics'</li>\n",
       "\t\t<li>'Educational Theory and Practic'</li>\n",
       "\t\t<li>'Electrical and Computer Engr'</li>\n",
       "\t\t<li>'Electrical Engineering'</li>\n",
       "\t\t<li>'English'</li>\n",
       "\t\t<li>'Family Nurse Practitioner'</li>\n",
       "\t\t<li>'Family Psych Mental Health NP'</li>\n",
       "\t\t<li>'Geology'</li>\n",
       "\t\t<li>'History'</li>\n",
       "\t\t<li>'Industrial and Systems Enginee'</li>\n",
       "\t\t<li>'Management PHD'</li>\n",
       "\t\t<li>'Material Sci and Eng-Engineerg'</li>\n",
       "\t\t<li>'Materials Engineering'</li>\n",
       "\t\t<li>'Materials Science and Engineer'</li>\n",
       "\t\t<li>'Materials Science and Engr'</li>\n",
       "\t\t<li>'Mathematics'</li>\n",
       "\t\t<li>'Mathematics/Economics'</li>\n",
       "\t\t<li>'Mechanical Engineering'</li>\n",
       "\t\t<li>'Nursing'</li>\n",
       "\t\t<li>'Philosophy Interpretation and'</li>\n",
       "\t\t<li>'Philosophy SPEL'</li>\n",
       "\t\t<li>'Physics'</li>\n",
       "\t\t<li>'Political Science'</li>\n",
       "\t\t<li>'Sociology'</li>\n",
       "\t\t<li>'Systems Science'</li>\n",
       "\t\t<li>'Systems Science/Biomedical Engineering'</li>\n",
       "\t\t<li>'Systems Science/EE'</li>\n",
       "\t\t<li>'Translation Studies'</li>\n",
       "\t\t<li>'X Geology'</li>\n",
       "\t\t<li>'X Gerontological NP'</li>\n",
       "\t\t<li>'XGerontolog Clin Nurse Special'</li>\n",
       "\t</ol>\n",
       "</details>"
      ],
      "text/latex": [
       "\\begin{enumerate*}\n",
       "\\item Chemistry\n",
       "\\item Behavioral Neuroscience\n",
       "\\item Cognitive Psychology\n",
       "\\item Physics\n",
       "\\item Mathematics\n",
       "\\item Comparative Literature\n",
       "\\item Translation Studies\n",
       "\\item Educational Theory and Practic\n",
       "\\item Philosophy Interpretation and\n",
       "\\item Biological Sciences\n",
       "\\item English\n",
       "\\item Materials Science and Engineer\n",
       "\\item History\n",
       "\\item Anthropology\n",
       "\\item Sociology\n",
       "\\item Material Sci and Eng-Engineerg\n",
       "\\item Clinical Psychology\n",
       "\\item Economics\n",
       "\\item Geology\n",
       "\\item Philosophy SPEL\n",
       "\\item Political Science\n",
       "\\item Community and Public Affairs\n",
       "\\item Art History\n",
       "\\item Materials Science and Engr\n",
       "\\item Biological Sciences EEB\n",
       "\\item X Geology\n",
       "\\item Art History Combined MA PhD\n",
       "\\item Mechanical Engineering\n",
       "\\item Mathematics/Economics\n",
       "\\end{enumerate*}\n",
       "\n",
       "\\emph{Levels}: \\begin{enumerate*}\n",
       "\\item 'Anthropology'\n",
       "\\item 'Art History'\n",
       "\\item 'Art History Combined MA PhD'\n",
       "\\item 'Behavioral Neuroscience'\n",
       "\\item 'Biological Sciences'\n",
       "\\item 'Biological Sciences EEB'\n",
       "\\item 'Biomedical Engineering'\n",
       "\\item 'Chemistry'\n",
       "\\item 'Clinical Psychology'\n",
       "\\item 'Cognitive Psychology'\n",
       "\\item 'Community and Public Affairs'\n",
       "\\item 'Community Health NP'\n",
       "\\item 'Comparative Literature'\n",
       "\\item 'Computer Science'\n",
       "\\item 'Economics'\n",
       "\\item 'Educational Theory and Practic'\n",
       "\\item 'Electrical and Computer Engr'\n",
       "\\item 'Electrical Engineering'\n",
       "\\item 'English'\n",
       "\\item 'Family Nurse Practitioner'\n",
       "\\item 'Family Psych Mental Health NP'\n",
       "\\item 'Geology'\n",
       "\\item 'History'\n",
       "\\item 'Industrial and Systems Enginee'\n",
       "\\item 'Management PHD'\n",
       "\\item 'Material Sci and Eng-Engineerg'\n",
       "\\item 'Materials Engineering'\n",
       "\\item 'Materials Science and Engineer'\n",
       "\\item 'Materials Science and Engr'\n",
       "\\item 'Mathematics'\n",
       "\\item 'Mathematics/Economics'\n",
       "\\item 'Mechanical Engineering'\n",
       "\\item 'Nursing'\n",
       "\\item 'Philosophy Interpretation and'\n",
       "\\item 'Philosophy SPEL'\n",
       "\\item 'Physics'\n",
       "\\item 'Political Science'\n",
       "\\item 'Sociology'\n",
       "\\item 'Systems Science'\n",
       "\\item 'Systems Science/Biomedical Engineering'\n",
       "\\item 'Systems Science/EE'\n",
       "\\item 'Translation Studies'\n",
       "\\item 'X Geology'\n",
       "\\item 'X Gerontological NP'\n",
       "\\item 'XGerontolog Clin Nurse Special'\n",
       "\\end{enumerate*}\n"
      ],
      "text/markdown": [
       "1. Chemistry\n",
       "2. Behavioral Neuroscience\n",
       "3. Cognitive Psychology\n",
       "4. Physics\n",
       "5. Mathematics\n",
       "6. Comparative Literature\n",
       "7. Translation Studies\n",
       "8. Educational Theory and Practic\n",
       "9. Philosophy Interpretation and\n",
       "10. Biological Sciences\n",
       "11. English\n",
       "12. Materials Science and Engineer\n",
       "13. History\n",
       "14. Anthropology\n",
       "15. Sociology\n",
       "16. Material Sci and Eng-Engineerg\n",
       "17. Clinical Psychology\n",
       "18. Economics\n",
       "19. Geology\n",
       "20. Philosophy SPEL\n",
       "21. Political Science\n",
       "22. Community and Public Affairs\n",
       "23. Art History\n",
       "24. Materials Science and Engr\n",
       "25. Biological Sciences EEB\n",
       "26. X Geology\n",
       "27. Art History Combined MA PhD\n",
       "28. Mechanical Engineering\n",
       "29. Mathematics/Economics\n",
       "\n",
       "\n",
       "\n",
       "**Levels**: 1. 'Anthropology'\n",
       "2. 'Art History'\n",
       "3. 'Art History Combined MA PhD'\n",
       "4. 'Behavioral Neuroscience'\n",
       "5. 'Biological Sciences'\n",
       "6. 'Biological Sciences EEB'\n",
       "7. 'Biomedical Engineering'\n",
       "8. 'Chemistry'\n",
       "9. 'Clinical Psychology'\n",
       "10. 'Cognitive Psychology'\n",
       "11. 'Community and Public Affairs'\n",
       "12. 'Community Health NP'\n",
       "13. 'Comparative Literature'\n",
       "14. 'Computer Science'\n",
       "15. 'Economics'\n",
       "16. 'Educational Theory and Practic'\n",
       "17. 'Electrical and Computer Engr'\n",
       "18. 'Electrical Engineering'\n",
       "19. 'English'\n",
       "20. 'Family Nurse Practitioner'\n",
       "21. 'Family Psych Mental Health NP'\n",
       "22. 'Geology'\n",
       "23. 'History'\n",
       "24. 'Industrial and Systems Enginee'\n",
       "25. 'Management PHD'\n",
       "26. 'Material Sci and Eng-Engineerg'\n",
       "27. 'Materials Engineering'\n",
       "28. 'Materials Science and Engineer'\n",
       "29. 'Materials Science and Engr'\n",
       "30. 'Mathematics'\n",
       "31. 'Mathematics/Economics'\n",
       "32. 'Mechanical Engineering'\n",
       "33. 'Nursing'\n",
       "34. 'Philosophy Interpretation and'\n",
       "35. 'Philosophy SPEL'\n",
       "36. 'Physics'\n",
       "37. 'Political Science'\n",
       "38. 'Sociology'\n",
       "39. 'Systems Science'\n",
       "40. 'Systems Science/Biomedical Engineering'\n",
       "41. 'Systems Science/EE'\n",
       "42. 'Translation Studies'\n",
       "43. 'X Geology'\n",
       "44. 'X Gerontological NP'\n",
       "45. 'XGerontolog Clin Nurse Special'\n",
       "\n",
       "\n"
      ],
      "text/plain": [
       " [1] Chemistry                      Behavioral Neuroscience       \n",
       " [3] Cognitive Psychology           Physics                       \n",
       " [5] Mathematics                    Comparative Literature        \n",
       " [7] Translation Studies            Educational Theory and Practic\n",
       " [9] Philosophy Interpretation and  Biological Sciences           \n",
       "[11] English                        Materials Science and Engineer\n",
       "[13] History                        Anthropology                  \n",
       "[15] Sociology                      Material Sci and Eng-Engineerg\n",
       "[17] Clinical Psychology            Economics                     \n",
       "[19] Geology                        Philosophy SPEL               \n",
       "[21] Political Science              Community and Public Affairs  \n",
       "[23] Art History                    Materials Science and Engr    \n",
       "[25] Biological Sciences EEB        X Geology                     \n",
       "[27] Art History Combined MA PhD    Mechanical Engineering        \n",
       "[29] Mathematics/Economics         \n",
       "45 Levels: Anthropology Art History ... XGerontolog Clin Nurse Special"
      ]
     },
     "metadata": {},
     "output_type": "display_data"
    }
   ],
   "source": [
    "unique(Harpur_df$Major)"
   ]
  },
  {
   "cell_type": "code",
   "execution_count": 14,
   "metadata": {},
   "outputs": [],
   "source": [
    "harpur_sciences <- c(\"Chemistry\", \"Behavioral Neuroscience\",\"Cognitive Psychology\",\"Physics\",\"Mathematics\",\n",
    "                     \"Biological Sciences\",\"Materials Science and Engineer\",\"Material Sci and Eng-Engineerg\",\n",
    "                     \"Clinical Psychology\",\"Economics\",\"Geology\",\"Political Science\",\"Materials Science and Engr\",\n",
    "                     \"Biological Sciences EEB\", \"X Geology\",\"Mathematics/Economics\")\n",
    "harpur_arts <- c(\"Comparative Literature\",\"Translation Studies\",\"Educational Theory and Practic\",\n",
    "                 \"Philosophy Interpretation and\", \"English\",\"History\",\"Anthropology\",\"Sociology\",\"Philosophy SPEL\",\n",
    "                 \"Community and Public Affairs\",\"Art History\",\"Art History Combined MA PhD\")"
   ]
  },
  {
   "cell_type": "code",
   "execution_count": 15,
   "metadata": {},
   "outputs": [],
   "source": [
    "Harpur_sciences = Harpur_df[Harpur_df$Major %in% harpur_sciences,]\n",
    "Harpur_arts = Harpur_df[Harpur_df$Major %in% harpur_arts,]"
   ]
  },
  {
   "cell_type": "code",
   "execution_count": 16,
   "metadata": {},
   "outputs": [],
   "source": [
    "Harpur_sciences <- within(Harpur_sciences, Citizenship <- relevel(Citizenship, ref = \"White\"))\n",
    "Harpur_arts <- within(Harpur_arts, Citizenship <- relevel(Citizenship, ref = \"White\"))\n",
    "Management_df <- within(Management_df, Citizenship <- relevel(Citizenship, ref = \"White\"))\n",
    "Watson_df <- within(Watson_df, Citizenship <- relevel(Citizenship, ref = \"White\"))\n",
    "Nursing_df <- within(Nursing_df, Citizenship <- relevel(Citizenship, ref = \"White\"))"
   ]
  },
  {
   "cell_type": "code",
   "execution_count": 17,
   "metadata": {},
   "outputs": [
    {
     "data": {
      "text/html": [
       "861"
      ],
      "text/latex": [
       "861"
      ],
      "text/markdown": [
       "861"
      ],
      "text/plain": [
       "[1] 861"
      ]
     },
     "metadata": {},
     "output_type": "display_data"
    },
    {
     "data": {
      "text/html": [
       "918"
      ],
      "text/latex": [
       "918"
      ],
      "text/markdown": [
       "918"
      ],
      "text/plain": [
       "[1] 918"
      ]
     },
     "metadata": {},
     "output_type": "display_data"
    },
    {
     "data": {
      "text/html": [
       "1780"
      ],
      "text/latex": [
       "1780"
      ],
      "text/markdown": [
       "1780"
      ],
      "text/plain": [
       "[1] 1780"
      ]
     },
     "metadata": {},
     "output_type": "display_data"
    }
   ],
   "source": [
    "dim(Harpur_sciences)[1]\n",
    "dim(Harpur_arts)[1]\n",
    "dim(Harpur_df)[1]"
   ]
  },
  {
   "cell_type": "code",
   "execution_count": 18,
   "metadata": {
    "scrolled": false
   },
   "outputs": [
    {
     "data": {
      "text/html": [
       "<table>\n",
       "<thead><tr><th scope=col>School</th><th scope=col>Total</th><th scope=col>Successful.Graduates</th><th scope=col>Unsuccessful.Graduates</th></tr></thead>\n",
       "<tbody>\n",
       "\t<tr><td>Harpur sciences</td><td>861            </td><td>542            </td><td>319            </td></tr>\n",
       "\t<tr><td>Harpur_arts    </td><td>918            </td><td>534            </td><td>384            </td></tr>\n",
       "\t<tr><td>SOM            </td><td> 58            </td><td> 38            </td><td> 20            </td></tr>\n",
       "\t<tr><td>Nursing        </td><td>117            </td><td> 72            </td><td> 45            </td></tr>\n",
       "\t<tr><td>Watson         </td><td>515            </td><td>343            </td><td>172            </td></tr>\n",
       "</tbody>\n",
       "</table>\n"
      ],
      "text/latex": [
       "\\begin{tabular}{r|llll}\n",
       " School & Total & Successful.Graduates & Unsuccessful.Graduates\\\\\n",
       "\\hline\n",
       "\t Harpur sciences & 861             & 542             & 319            \\\\\n",
       "\t Harpur\\_arts     & 918               & 534               & 384              \\\\\n",
       "\t SOM             &  58             &  38             &  20            \\\\\n",
       "\t Nursing         & 117             &  72             &  45            \\\\\n",
       "\t Watson          & 515             & 343             & 172            \\\\\n",
       "\\end{tabular}\n"
      ],
      "text/markdown": [
       "\n",
       "| School | Total | Successful.Graduates | Unsuccessful.Graduates |\n",
       "|---|---|---|---|\n",
       "| Harpur sciences | 861             | 542             | 319             |\n",
       "| Harpur_arts     | 918             | 534             | 384             |\n",
       "| SOM             |  58             |  38             |  20             |\n",
       "| Nursing         | 117             |  72             |  45             |\n",
       "| Watson          | 515             | 343             | 172             |\n",
       "\n"
      ],
      "text/plain": [
       "  School          Total Successful.Graduates Unsuccessful.Graduates\n",
       "1 Harpur sciences 861   542                  319                   \n",
       "2 Harpur_arts     918   534                  384                   \n",
       "3 SOM              58    38                   20                   \n",
       "4 Nursing         117    72                   45                   \n",
       "5 Watson          515   343                  172                   "
      ]
     },
     "metadata": {},
     "output_type": "display_data"
    }
   ],
   "source": [
    "a_n = dim(Harpur_sciences)[1]\n",
    "a_1 = sum(Harpur_sciences$Y)\n",
    "a_0 = a_n - a_1\n",
    "b_n = dim(Harpur_arts)[1]\n",
    "b_1 = sum(Harpur_arts$Y)\n",
    "b_0 = b_n - b_1\n",
    "c_n = dim(Management_df)[1]\n",
    "c_1 = sum(Management_df$Y)\n",
    "c_0 = c_n - c_1\n",
    "d_n = dim(Nursing_df)[1]\n",
    "d_1 = sum(Nursing_df$Y)\n",
    "d_0 = d_n - d_1\n",
    "e_n = dim(Watson_df)[1]\n",
    "e_1 = sum(Watson_df$Y)\n",
    "e_0 = e_n - e_1\n",
    "School = c(\"Harpur sciences\",\"Harpur_arts\",\"SOM\",\"Nursing\",\"Watson\")\n",
    "sch_total = c(a_n,b_n,c_n,d_n,e_n)\n",
    "succ_total = c(a_1,b_1,c_1,d_1,e_1)\n",
    "unsucc_total = c(a_0,b_0,c_0,d_0,e_0)\n",
    "data.frame(\"School\"=School,\"Total\"=sch_total,\"Successful Graduates\"=succ_total,\"Unsuccessful Graduates\"=unsucc_total)"
   ]
  },
  {
   "cell_type": "code",
   "execution_count": 19,
   "metadata": {
    "scrolled": true
   },
   "outputs": [
    {
     "data": {
      "text/html": [
       "<dl class=dl-horizontal>\n",
       "\t<dt>White</dt>\n",
       "\t\t<dd>46</dd>\n",
       "\t<dt>Africa</dt>\n",
       "\t\t<dd>6</dd>\n",
       "\t<dt>Asia</dt>\n",
       "\t\t<dd>92</dd>\n",
       "\t<dt>Asian</dt>\n",
       "\t\t<dd>16</dd>\n",
       "\t<dt>Black or African American</dt>\n",
       "\t\t<dd>7</dd>\n",
       "\t<dt>China</dt>\n",
       "\t\t<dd>95</dd>\n",
       "\t<dt>Europe</dt>\n",
       "\t\t<dd>8</dd>\n",
       "\t<dt>Hispanic or Latino</dt>\n",
       "\t\t<dd>6</dd>\n",
       "\t<dt>India</dt>\n",
       "\t\t<dd>46</dd>\n",
       "\t<dt>Other International Students</dt>\n",
       "\t\t<dd>2</dd>\n",
       "\t<dt>Unknown</dt>\n",
       "\t\t<dd>19</dd>\n",
       "</dl>\n"
      ],
      "text/latex": [
       "\\begin{description*}\n",
       "\\item[White] 46\n",
       "\\item[Africa] 6\n",
       "\\item[Asia] 92\n",
       "\\item[Asian] 16\n",
       "\\item[Black or African American] 7\n",
       "\\item[China] 95\n",
       "\\item[Europe] 8\n",
       "\\item[Hispanic or Latino] 6\n",
       "\\item[India] 46\n",
       "\\item[Other International Students] 2\n",
       "\\item[Unknown] 19\n",
       "\\end{description*}\n"
      ],
      "text/markdown": [
       "White\n",
       ":   46Africa\n",
       ":   6Asia\n",
       ":   92Asian\n",
       ":   16Black or African American\n",
       ":   7China\n",
       ":   95Europe\n",
       ":   8Hispanic or Latino\n",
       ":   6India\n",
       ":   46Other International Students\n",
       ":   2Unknown\n",
       ":   19\n",
       "\n"
      ],
      "text/plain": [
       "                       White                       Africa \n",
       "                          46                            6 \n",
       "                        Asia                        Asian \n",
       "                          92                           16 \n",
       "   Black or African American                        China \n",
       "                           7                           95 \n",
       "                      Europe           Hispanic or Latino \n",
       "                           8                            6 \n",
       "                       India Other International Students \n",
       "                          46                            2 \n",
       "                     Unknown \n",
       "                          19 "
      ]
     },
     "metadata": {},
     "output_type": "display_data"
    }
   ],
   "source": [
    "summary(Watson_df[which(Watson_df$Y==1), ]$Citizenship)"
   ]
  },
  {
   "cell_type": "code",
   "execution_count": 20,
   "metadata": {},
   "outputs": [
    {
     "data": {
      "text/html": [
       "<table>\n",
       "<thead><tr><th></th><th scope=col>X1st_Term_Funding</th><th scope=col>X2nd_Term_Funding</th><th scope=col>X3rd_Term_Funding</th><th scope=col>X4th_Term_Funding</th><th scope=col>Start_year</th><th scope=col>Start_age</th><th scope=col>College</th><th scope=col>Age</th><th scope=col>Degree</th><th scope=col>Gender</th><th scope=col>...</th><th scope=col>GRE.Combined.Quantitative.Score</th><th scope=col>GRE.Combined.General.Verbal.Score</th><th scope=col>s_start_age</th><th scope=col>s_net_cost</th><th scope=col>s_start_year</th><th scope=col>avs_net_cost</th><th scope=col>s_Average.Precol.GPA</th><th scope=col>s_GRE.Combined.General.Write.Score</th><th scope=col>s_GRE.Combined.Quantitative.Score</th><th scope=col>s_GRE.Combined.General.Verbal.Score</th></tr></thead>\n",
       "<tbody>\n",
       "\t<tr><th scope=row>1</th><td>4685                </td><td>4935                </td><td>4110.0              </td><td> 432.0              </td><td>2013                </td><td>22.3                </td><td>GD Harpur           </td><td>29                  </td><td>Doctor of Philosophy</td><td>Male                </td><td>...                 </td><td>159.0000            </td><td>160.0000            </td><td>-0.758619253        </td><td>-0.826374490        </td><td> 0.85901134         </td><td>-0.65494776         </td><td> 9.450694e-02       </td><td>-0.5485791332       </td><td> 8.546803e-02       </td><td> 3.279657e-01       </td></tr>\n",
       "\t<tr><th scope=row>3</th><td>4685                </td><td>4685                </td><td>3699.0              </td><td>3699.0              </td><td>2012                </td><td>22.0                </td><td>GD Harpur           </td><td>29                  </td><td>Doctor of Philosophy</td><td>Female              </td><td>...                 </td><td>155.0000            </td><td>147.0000            </td><td>-0.798100147        </td><td>-0.732387052        </td><td> 0.64687796         </td><td>-0.68741906         </td><td> 2.832543e-02       </td><td> 0.3180845011       </td><td>-1.204902e-01       </td><td>-5.110037e-01       </td></tr>\n",
       "\t<tr><th scope=row>4</th><td>4685                </td><td>4685                </td><td>3699.0              </td><td>3699.0              </td><td>2012                </td><td>23.0                </td><td>GD Harpur           </td><td>30                  </td><td>Doctor of Philosophy</td><td>Female              </td><td>...                 </td><td>159.0000            </td><td>170.0000            </td><td>-0.666497166        </td><td>-0.731452053        </td><td> 0.64687796         </td><td>-0.68693362         </td><td> 1.732499e+00       </td><td> 2.9180754037       </td><td> 8.546803e-02       </td><td> 9.733268e-01       </td></tr>\n",
       "\t<tr><th scope=row>11</th><td>3699                </td><td>3699                </td><td> 432.0              </td><td> 432.0              </td><td>2013                </td><td>23.0                </td><td>GD Harpur           </td><td>29                  </td><td>Doctor of Philosophy</td><td>Male                </td><td>...                 </td><td>159.0000            </td><td>163.0000            </td><td>-0.666497166        </td><td> 1.846713327        </td><td> 0.85901134         </td><td> 3.58982146         </td><td>-9.643972e-01       </td><td> 0.3180845011       </td><td> 8.546803e-02       </td><td> 5.215741e-01       </td></tr>\n",
       "\t<tr><th scope=row>12</th><td>8325                </td><td>8325                </td><td> 925.0              </td><td> 925.0              </td><td>2013                </td><td>23.0                </td><td>GD Harpur           </td><td>29                  </td><td>Doctor of Philosophy</td><td>Female              </td><td>...                 </td><td>166.0000            </td><td>170.0000            </td><td>-0.666497166        </td><td>-0.664944044        </td><td> 0.85901134         </td><td>-0.65240349         </td><td> 7.894128e-01       </td><td>-1.4152427674       </td><td> 4.458950e-01       </td><td> 9.733268e-01       </td></tr>\n",
       "\t<tr><th scope=row>14</th><td>   0                </td><td>   0                </td><td>3141.0              </td><td>3141.0              </td><td>2008                </td><td>22.0                </td><td>GD Harpur           </td><td>33                  </td><td>Doctor of Philosophy</td><td>Female              </td><td>...                 </td><td>157.3401            </td><td>154.9181            </td><td>-0.798100147        </td><td> 0.115601102        </td><td>-0.20165553         </td><td>-0.24715426         </td><td>-2.545443e-07       </td><td> 0.0000189473       </td><td> 4.961343e-07       </td><td>-3.187613e-07       </td></tr>\n",
       "\t<tr><th scope=row>23</th><td>   0                </td><td>   0                </td><td>3141.0              </td><td>3141.0              </td><td>2008                </td><td>33.0                </td><td>GD Harpur           </td><td>44                  </td><td>Doctor of Philosophy</td><td>Male                </td><td>...                 </td><td>157.3401            </td><td>154.9181            </td><td> 0.649532636        </td><td>-0.429510596        </td><td>-0.20165553         </td><td>-0.38651183         </td><td>-2.545443e-07       </td><td> 0.0000189473       </td><td> 4.961343e-07       </td><td>-3.187613e-07       </td></tr>\n",
       "\t<tr><th scope=row>26</th><td>   0                </td><td>   0                </td><td>4968.0              </td><td>4968.0              </td><td>2008                </td><td>22.0                </td><td>GD Harpur           </td><td>33                  </td><td>Doctor of Philosophy</td><td>Female              </td><td>...                 </td><td>157.3401            </td><td>154.9181            </td><td>-0.798100147        </td><td>-0.170550395        </td><td>-0.20165553         </td><td>-0.18483851         </td><td>-2.545443e-07       </td><td> 0.0000189473       </td><td> 4.961343e-07       </td><td>-3.187613e-07       </td></tr>\n",
       "\t<tr><th scope=row>29</th><td>4968                </td><td>6072                </td><td>5166.0              </td><td>5683.2              </td><td>2009                </td><td>24.0                </td><td>GD Grad School      </td><td>34                  </td><td>Doctor of Philosophy</td><td>Male                </td><td>...                 </td><td>157.3401            </td><td>154.9181            </td><td>-0.534894186        </td><td>-0.245971116        </td><td> 0.01047784         </td><td>-0.05227148         </td><td> 6.141618e-02       </td><td> 0.0000189473       </td><td> 4.961343e-07       </td><td>-3.187613e-07       </td></tr>\n",
       "\t<tr><th scope=row>32</th><td>   0                </td><td>   0                </td><td>   0.0              </td><td>4968.0              </td><td>2008                </td><td>23.3                </td><td>GD Harpur           </td><td>35                  </td><td>Doctor of Philosophy</td><td>Female              </td><td>...                 </td><td>157.3401            </td><td>154.9181            </td><td>-0.627016272        </td><td> 0.214431648        </td><td>-0.20165553         </td><td>-0.07151431         </td><td>-2.545443e-07       </td><td> 0.0000189473       </td><td> 4.961343e-07       </td><td>-3.187613e-07       </td></tr>\n",
       "\t<tr><th scope=row>35</th><td>4185                </td><td>4185                </td><td>3141.0              </td><td>3330.0              </td><td>2010                </td><td>28.3                </td><td>GD Harpur           </td><td>38                  </td><td>Doctor of Philosophy</td><td>Male                </td><td>...                 </td><td>149.0000            </td><td>156.0000            </td><td> 0.030998629        </td><td>-0.759549225        </td><td> 0.22261122         </td><td>-0.67832867         </td><td>-2.364006e-01       </td><td> 1.1847481353       </td><td>-4.294277e-01       </td><td> 6.982130e-02       </td></tr>\n",
       "\t<tr><th scope=row>36</th><td>   0                </td><td>   0                </td><td>   0.0              </td><td>4968.0              </td><td>2008                </td><td>27.3                </td><td>GD Harpur           </td><td>39                  </td><td>Doctor of Philosophy</td><td>Female              </td><td>...                 </td><td>157.3401            </td><td>154.9181            </td><td>-0.100604351        </td><td> 0.372693072        </td><td>-0.20165553         </td><td> 0.23822926         </td><td>-2.545443e-07       </td><td> 0.0000189473       </td><td> 4.961343e-07       </td><td>-3.187613e-07       </td></tr>\n",
       "\t<tr><th scope=row>41</th><td>   0                </td><td>   0                </td><td>3350.4              </td><td>3350.4              </td><td>2008                </td><td>22.0                </td><td>GD Harpur           </td><td>33                  </td><td>Doctor of Philosophy</td><td>Female              </td><td>...                 </td><td>157.3401            </td><td>154.9181            </td><td>-0.798100147        </td><td>-0.383883193        </td><td>-0.20165553         </td><td>-0.35097807         </td><td> 1.937792e-01       </td><td> 0.0000189473       </td><td> 4.961343e-07       </td><td>-3.187613e-07       </td></tr>\n",
       "\t<tr><th scope=row>51</th><td>   0                </td><td>   0                </td><td>   0.0              </td><td>4968.0              </td><td>2008                </td><td>25.3                </td><td>GD Grad School      </td><td>37                  </td><td>Doctor of Philosophy</td><td>Male                </td><td>...                 </td><td>157.3401            </td><td>154.9181            </td><td>-0.363810312        </td><td> 0.072123887        </td><td>-0.20165553         </td><td> 0.27803038         </td><td> 6.141618e-02       </td><td> 0.0000189473       </td><td> 4.961343e-07       </td><td>-3.187613e-07       </td></tr>\n",
       "\t<tr><th scope=row>55</th><td>   0                </td><td>   0                </td><td>4968.0              </td><td>4968.0              </td><td>2008                </td><td>26.0                </td><td>GD Harpur           </td><td>37                  </td><td>Doctor of Philosophy</td><td>Male                </td><td>...                 </td><td>157.3401            </td><td>154.9181            </td><td>-0.271688226        </td><td> 0.007898439        </td><td>-0.20165553         </td><td>-0.04586592         </td><td>-3.687636e-01       </td><td> 0.0000189473       </td><td> 4.961343e-07       </td><td>-3.187613e-07       </td></tr>\n",
       "\t<tr><th scope=row>62</th><td>   0                </td><td>   0                </td><td>4968.0              </td><td>4968.0              </td><td>2009                </td><td>25.0                </td><td>GD Grad School      </td><td>35                  </td><td>Doctor of Philosophy</td><td>Male                </td><td>...                 </td><td>157.3401            </td><td>154.9181            </td><td>-0.403291206        </td><td>-0.113066732        </td><td> 0.01047784         </td><td> 1.89216838         </td><td> 2.268700e-01       </td><td> 0.0000189473       </td><td> 4.961343e-07       </td><td>-3.187613e-07       </td></tr>\n",
       "\t<tr><th scope=row>65</th><td>   0                </td><td>   0                </td><td>4185.0              </td><td>3141.0              </td><td>2008                </td><td>22.0                </td><td>GD Harpur           </td><td>33                  </td><td>Doctor of Philosophy</td><td>Female              </td><td>...                 </td><td>157.3401            </td><td>154.9181            </td><td>-0.798100147        </td><td> 2.068813668        </td><td>-0.20165553         </td><td> 0.37082573         </td><td> 6.901405e-01       </td><td> 0.0000189473       </td><td> 4.961343e-07       </td><td>-3.187613e-07       </td></tr>\n",
       "\t<tr><th scope=row>66</th><td>   0                </td><td>   0                </td><td>4185.0              </td><td>3141.0              </td><td>2008                </td><td>26.0                </td><td>GD Harpur           </td><td>37                  </td><td>Doctor of Philosophy</td><td>Male                </td><td>...                 </td><td>157.3401            </td><td>154.9181            </td><td>-0.271688226        </td><td>-0.205667337        </td><td>-0.20165553         </td><td>-0.41395280         </td><td>-2.545443e-07       </td><td> 0.0000189473       </td><td> 4.961343e-07       </td><td>-3.187613e-07       </td></tr>\n",
       "\t<tr><th scope=row>68</th><td>   0                </td><td>   0                </td><td>4185.0              </td><td>3141.0              </td><td>2008                </td><td>22.0                </td><td>GD Harpur           </td><td>33                  </td><td>Doctor of Philosophy</td><td>Female              </td><td>...                 </td><td>157.3401            </td><td>154.9181            </td><td>-0.798100147        </td><td> 2.325795767        </td><td>-0.20165553         </td><td> 0.47089214         </td><td> 7.563220e-01       </td><td> 0.0000189473       </td><td> 4.961343e-07       </td><td>-3.187613e-07       </td></tr>\n",
       "\t<tr><th scope=row>69</th><td>3141                </td><td> 349                </td><td> 370.0              </td><td> 370.0              </td><td>2008                </td><td>23.0                </td><td>GD Harpur           </td><td>34                  </td><td>Doctor of Philosophy</td><td>Male                </td><td>...                 </td><td>157.3401            </td><td>154.9181            </td><td>-0.666497166        </td><td>-0.465524590        </td><td>-0.20165553         </td><td>-0.28025029         </td><td>-2.545443e-07       </td><td> 0.0000189473       </td><td> 4.961343e-07       </td><td>-3.187613e-07       </td></tr>\n",
       "\t<tr><th scope=row>72</th><td>   0                </td><td>3141                </td><td>3141.0              </td><td> 349.0              </td><td>2009                </td><td>47.0                </td><td>GD Grad School      </td><td>57                  </td><td>Doctor of Philosophy</td><td>Female              </td><td>...                 </td><td>157.3401            </td><td>154.9181            </td><td> 2.491974360        </td><td>-0.668504010        </td><td> 0.01047784         </td><td> 0.16191205         </td><td> 1.649772e+00       </td><td> 0.0000189473       </td><td> 4.961343e-07       </td><td>-3.187613e-07       </td></tr>\n",
       "\t<tr><th scope=row>76</th><td>   0                </td><td>   0                </td><td>4968.0              </td><td>4968.0              </td><td>2008                </td><td>27.0                </td><td>GD Harpur           </td><td>38                  </td><td>Doctor of Philosophy</td><td>Male                </td><td>...                 </td><td>157.3401            </td><td>154.9181            </td><td>-0.140085245        </td><td> 0.136963990        </td><td>-0.20165553         </td><td>-0.23606292         </td><td>-2.545443e-07       </td><td> 0.0000189473       </td><td> 4.961343e-07       </td><td>-3.187613e-07       </td></tr>\n",
       "\t<tr><th scope=row>77</th><td>   0                </td><td>   0                </td><td>4185.0              </td><td>4185.0              </td><td>2008                </td><td>27.0                </td><td>GD Harpur           </td><td>38                  </td><td>Doctor of Philosophy</td><td>Male                </td><td>...                 </td><td>157.3401            </td><td>154.9181            </td><td>-0.140085245        </td><td> 0.681675038        </td><td>-0.20165553         </td><td> 0.21958996         </td><td> 8.225035e-01       </td><td> 0.0000189473       </td><td> 4.961343e-07       </td><td>-3.187613e-07       </td></tr>\n",
       "\t<tr><th scope=row>79</th><td>   0                </td><td>   0                </td><td>4185.0              </td><td>3141.0              </td><td>2008                </td><td>23.0                </td><td>GD Harpur           </td><td>34                  </td><td>Doctor of Philosophy</td><td>Female              </td><td>...                 </td><td>157.3401            </td><td>154.9181            </td><td>-0.666497166        </td><td> 2.133606116        </td><td>-0.20165553         </td><td> 0.39605530         </td><td> 1.186502e+00       </td><td> 0.0000189473       </td><td> 4.961343e-07       </td><td>-3.187613e-07       </td></tr>\n",
       "\t<tr><th scope=row>87</th><td>   0                </td><td>   0                </td><td>3141.0              </td><td>3141.0              </td><td>2008                </td><td>24.0                </td><td>GD Harpur           </td><td>35                  </td><td>Doctor of Philosophy</td><td>Male                </td><td>...                 </td><td>157.3401            </td><td>154.9181            </td><td>-0.534894186        </td><td> 1.127461555        </td><td>-0.20165553         </td><td> 0.12166590         </td><td> 1.616682e+00       </td><td> 0.0000189473       </td><td> 4.961343e-07       </td><td>-3.187613e-07       </td></tr>\n",
       "\t<tr><th scope=row>89</th><td>   0                </td><td>   0                </td><td>6625.0              </td><td>4968.0              </td><td>2008                </td><td>22.0                </td><td>GD Harpur           </td><td>33                  </td><td>Doctor of Philosophy</td><td>Female              </td><td>...                 </td><td>157.3401            </td><td>154.9181            </td><td>-0.798100147        </td><td> 0.110069652        </td><td>-0.20165553         </td><td>-0.25002612         </td><td>-2.545443e-07       </td><td> 0.0000189473       </td><td> 4.961343e-07       </td><td>-3.187613e-07       </td></tr>\n",
       "\t<tr><th scope=row>94</th><td>   0                </td><td>   0                </td><td>4185.0              </td><td>3141.0              </td><td>2008                </td><td>23.0                </td><td>GD Harpur           </td><td>34                  </td><td>Doctor of Philosophy</td><td>Female              </td><td>...                 </td><td>157.3401            </td><td>154.9181            </td><td>-0.666497166        </td><td> 0.265307664        </td><td>-0.20165553         </td><td>-0.26200793         </td><td> 8.886850e-01       </td><td> 0.0000189473       </td><td> 4.961343e-07       </td><td>-3.187613e-07       </td></tr>\n",
       "\t<tr><th scope=row>95</th><td>   0                </td><td>   0                </td><td>4185.0              </td><td>4185.0              </td><td>2008                </td><td>24.0                </td><td>GD Harpur           </td><td>35                  </td><td>Doctor of Philosophy</td><td>Female              </td><td>...                 </td><td>157.3401            </td><td>154.9181            </td><td>-0.534894186        </td><td>-0.103337716        </td><td>-0.20165553         </td><td>-0.47498955         </td><td> 1.285774e+00       </td><td> 0.0000189473       </td><td> 4.961343e-07       </td><td>-3.187613e-07       </td></tr>\n",
       "\t<tr><th scope=row>96</th><td>   0                </td><td>   0                </td><td>4185.0              </td><td>4185.0              </td><td>2008                </td><td>22.0                </td><td>GD Harpur           </td><td>33                  </td><td>Doctor of Philosophy</td><td>Male                </td><td>...                 </td><td>157.3401            </td><td>154.9181            </td><td>-0.798100147        </td><td> 0.802078945        </td><td>-0.20165553         </td><td> 0.29460460         </td><td>-2.545443e-07       </td><td> 0.0000189473       </td><td> 4.961343e-07       </td><td>-3.187613e-07       </td></tr>\n",
       "\t<tr><th scope=row>97</th><td>   0                </td><td>   0                </td><td>4968.0              </td><td> 552.0              </td><td>2009                </td><td>28.0                </td><td>GD Grad School      </td><td>38                  </td><td>Doctor of Philosophy</td><td>Female              </td><td>...                 </td><td>157.3401            </td><td>154.9181            </td><td>-0.008482265        </td><td>-0.150872623        </td><td> 0.01047784         </td><td> 1.77439832         </td><td> 8.225035e-01       </td><td> 0.0000189473       </td><td> 4.961343e-07       </td><td>-3.187613e-07       </td></tr>\n",
       "\t<tr><th scope=row>...</th><td>...</td><td>...</td><td>...</td><td>...</td><td>...</td><td>...</td><td>...</td><td>...</td><td>...</td><td>...</td><td>   </td><td>...</td><td>...</td><td>...</td><td>...</td><td>...</td><td>...</td><td>...</td><td>...</td><td>...</td><td>...</td></tr>\n",
       "\t<tr><th scope=row>1884</th><td>4935                      </td><td>4935                      </td><td>   0.0                    </td><td>   0.0                    </td><td>2012                      </td><td>23.0                      </td><td>GD Nursing                </td><td>30                        </td><td>Doctor of Philosophy      </td><td>Female                    </td><td>...                       </td><td>157.3401                  </td><td>154.9181                  </td><td>-0.6664972                </td><td>-0.514831537              </td><td>0.64687796                </td><td>-0.45295818               </td><td> 3.426876e-01             </td><td>1.89473e-05               </td><td>4.961343e-07              </td><td>-3.187613e-07             </td></tr>\n",
       "\t<tr><th scope=row>1902</th><td>   0                      </td><td>   0                      </td><td>   0.0                    </td><td> 432.0                    </td><td>2011                      </td><td>38.0                      </td><td>GD Nursing                </td><td>46                        </td><td>Doctor of Philosophy      </td><td>Female                    </td><td>...                       </td><td>157.3401                  </td><td>154.9181                  </td><td> 1.3075475                </td><td>-0.411767684              </td><td>0.43474459                </td><td>-0.56331852               </td><td>-5.562889e-01             </td><td>1.89473e-05               </td><td>4.961343e-07              </td><td>-3.187613e-07             </td></tr>\n",
       "\t<tr><th scope=row>1904</th><td>   0                      </td><td>   0                      </td><td>   0.0                    </td><td>   0.0                    </td><td>2010                      </td><td>39.0                      </td><td>GD Nursing                </td><td>48                        </td><td>Doctor of Nursing Practice</td><td>Female                    </td><td>...                       </td><td>157.3401                  </td><td>154.9181                  </td><td> 1.4391505                </td><td>-0.461661488              </td><td>0.22261122                </td><td> 0.80625228               </td><td> 1.467773e+00             </td><td>1.89473e-05               </td><td>4.961343e-07              </td><td>-3.187613e-07             </td></tr>\n",
       "\t<tr><th scope=row>1910</th><td>4185                      </td><td>3839                      </td><td>2092.5                    </td><td>2092.5                    </td><td>2009                      </td><td>52.0                      </td><td>GD Nursing                </td><td>62                        </td><td>Doctor of Philosophy      </td><td>Female                    </td><td>...                       </td><td>157.3401                  </td><td>154.9181                  </td><td> 3.1499893                </td><td> 1.421970236              </td><td>0.01047784                </td><td> 0.43109618               </td><td> 5.246867e-01             </td><td>1.89473e-05               </td><td>4.961343e-07              </td><td>-3.187613e-07             </td></tr>\n",
       "\t<tr><th scope=row>1915</th><td>   0                      </td><td>   0                      </td><td>   0.0                    </td><td>   0.0                    </td><td>2010                      </td><td>46.0                      </td><td>GD Nursing                </td><td>55                        </td><td>Doctor of Nursing Practice</td><td>Female                    </td><td>...                       </td><td>157.3401                  </td><td>154.9181                  </td><td> 2.3603714                </td><td> 1.106993954              </td><td>0.22261122                </td><td> 0.81008895               </td><td>-2.364006e-01             </td><td>1.89473e-05               </td><td>4.961343e-07              </td><td>-3.187613e-07             </td></tr>\n",
       "\t<tr><th scope=row>1918</th><td>   0                      </td><td>   0                      </td><td>   0.0                    </td><td>   0.0                    </td><td>2011                      </td><td>43.0                      </td><td>GD Nursing                </td><td>51                        </td><td>Doctor of Nursing Practice</td><td>Female                    </td><td>...                       </td><td>157.3401                  </td><td>154.9181                  </td><td> 1.9655624                </td><td>-0.242413797              </td><td>0.43474459                </td><td> 0.33587580               </td><td>-3.246536e-01             </td><td>1.89473e-05               </td><td>4.961343e-07              </td><td>-3.187613e-07             </td></tr>\n",
       "\t<tr><th scope=row>1926</th><td>5185                      </td><td>5185                      </td><td>   0.0                    </td><td>   0.0                    </td><td>2014                      </td><td>23.0                      </td><td>GD Nursing                </td><td>28                        </td><td>Doctor of Philosophy      </td><td>Female                    </td><td>...                       </td><td>157.3401                  </td><td>154.9181                  </td><td>-0.6664972                </td><td>-0.859677915              </td><td>1.07114471                </td><td>-0.62555152               </td><td> 1.600136e+00             </td><td>1.89473e-05               </td><td>4.961343e-07              </td><td>-3.187613e-07             </td></tr>\n",
       "\t<tr><th scope=row>1976</th><td>4077                      </td><td>4077                      </td><td>   0.0                    </td><td>   0.0                    </td><td>2016                      </td><td>26.0                      </td><td>GD Nursing                </td><td>29                        </td><td>Doctor of Nursing Practice</td><td>Female                    </td><td>...                       </td><td>157.3401                  </td><td>154.9181                  </td><td>-0.2716882                </td><td>-0.506132387              </td><td>1.49541146                </td><td>-0.32241641               </td><td>-6.003989e-01             </td><td>1.89473e-05               </td><td>4.961343e-07              </td><td>-3.187613e-07             </td></tr>\n",
       "\t<tr><th scope=row>2002</th><td>   0                      </td><td>   0                      </td><td>   0.0                    </td><td>   0.0                    </td><td>2010                      </td><td>48.3                      </td><td>GD Nursing                </td><td>58                        </td><td>Doctor of Philosophy      </td><td>Female                    </td><td>...                       </td><td>157.3401                  </td><td>154.9181                  </td><td> 2.6630582                </td><td>-0.925761005              </td><td>0.22261122                </td><td>-0.63947555               </td><td>-2.545443e-07             </td><td>1.89473e-05               </td><td>4.961343e-07              </td><td>-3.187613e-07             </td></tr>\n",
       "\t<tr><th scope=row>2025</th><td>   0                      </td><td>   0                      </td><td>   0.0                    </td><td>   0.0                    </td><td>2012                      </td><td>32.0                      </td><td>GD Nursing                </td><td>39                        </td><td>Doctor of Nursing Practice</td><td>Female                    </td><td>...                       </td><td>157.3401                  </td><td>154.9181                  </td><td> 0.5179297                </td><td>-0.852161302              </td><td>0.64687796                </td><td>-0.73602830               </td><td>-7.989434e-01             </td><td>1.89473e-05               </td><td>4.961343e-07              </td><td>-3.187613e-07             </td></tr>\n",
       "\t<tr><th scope=row>2078</th><td>   0                      </td><td>   0                      </td><td>   0.0                    </td><td>   0.0                    </td><td>2010                      </td><td>51.0                      </td><td>GD Nursing                </td><td>60                        </td><td>Doctor of Nursing Practice</td><td>Female                    </td><td>...                       </td><td>157.3401                  </td><td>154.9181                  </td><td> 3.0183863                </td><td>-0.309226708              </td><td>0.22261122                </td><td>-0.55516078               </td><td>-2.545443e-07             </td><td>1.89473e-05               </td><td>4.961343e-07              </td><td>-3.187613e-07             </td></tr>\n",
       "\t<tr><th scope=row>2079</th><td>   0                      </td><td>   0                      </td><td>   0.0                    </td><td>   0.0                    </td><td>2010                      </td><td>63.0                      </td><td>GD Nursing                </td><td>72                        </td><td>Doctor of Nursing Practice</td><td>Female                    </td><td>...                       </td><td>157.3401                  </td><td>154.9181                  </td><td> 4.5976220                </td><td>-0.404917352              </td><td>0.22261122                </td><td> 0.98301733               </td><td>-2.545443e-07             </td><td>1.89473e-05               </td><td>4.961343e-07              </td><td>-3.187613e-07             </td></tr>\n",
       "\t<tr><th scope=row>2084</th><td>4935                      </td><td>4935                      </td><td>5185.0                    </td><td>4752.0                    </td><td>2013                      </td><td>25.0                      </td><td>GD Nursing                </td><td>31                        </td><td>Doctor of Philosophy      </td><td>Male                      </td><td>...                       </td><td>157.3401                  </td><td>154.9181                  </td><td>-0.4032912                </td><td>-0.707262990              </td><td>0.85901134                </td><td>-0.64575304               </td><td>-9.313064e-01             </td><td>1.89473e-05               </td><td>4.961343e-07              </td><td>-3.187613e-07             </td></tr>\n",
       "\t<tr><th scope=row>2107</th><td>   0                      </td><td>   0                      </td><td>   0.0                    </td><td>   0.0                    </td><td>2013                      </td><td>40.0                      </td><td>GD Nursing                </td><td>46                        </td><td>Doctor of Philosophy      </td><td>Female                    </td><td>...                       </td><td>157.3401                  </td><td>154.9181                  </td><td> 1.5707535                </td><td>-0.530936988              </td><td>0.85901134                </td><td> 0.59045047               </td><td> 1.178005e-02             </td><td>1.89473e-05               </td><td>4.961343e-07              </td><td>-3.187613e-07             </td></tr>\n",
       "\t<tr><th scope=row>2124</th><td>   0                      </td><td>   0                      </td><td>   0.0                    </td><td>   0.0                    </td><td>2012                      </td><td>23.0                      </td><td>GD Nursing                </td><td>30                        </td><td>Doctor of Nursing Practice</td><td>Female                    </td><td>...                       </td><td>157.3401                  </td><td>154.9181                  </td><td>-0.6664972                </td><td>-0.982904467              </td><td>0.64687796                </td><td>-0.81748455               </td><td> 1.275977e-01             </td><td>1.89473e-05               </td><td>4.961343e-07              </td><td>-3.187613e-07             </td></tr>\n",
       "\t<tr><th scope=row>2144</th><td>   0                      </td><td>   0                      </td><td>   0.0                    </td><td>   0.0                    </td><td>2011                      </td><td>44.0                      </td><td>GD Nursing                </td><td>52                        </td><td>Doctor of Nursing Practice</td><td>Female                    </td><td>...                       </td><td>157.3401                  </td><td>154.9181                  </td><td> 2.0971654                </td><td>-0.847998154              </td><td>0.43474459                </td><td>-0.39723457               </td><td> 1.467773e+00             </td><td>1.89473e-05               </td><td>4.961343e-07              </td><td>-3.187613e-07             </td></tr>\n",
       "\t<tr><th scope=row>2148</th><td>5000                      </td><td>5000                      </td><td>   0.0                    </td><td>   0.0                    </td><td>2014                      </td><td>29.0                      </td><td>GD Nursing                </td><td>34                        </td><td>Doctor of Nursing Practice</td><td>Female                    </td><td>...                       </td><td>157.3401                  </td><td>154.9181                  </td><td> 0.1231207                </td><td> 1.054324718              </td><td>1.07114471                </td><td>-0.02420671               </td><td>-6.665804e-01             </td><td>1.89473e-05               </td><td>4.961343e-07              </td><td>-3.187613e-07             </td></tr>\n",
       "\t<tr><th scope=row>2151</th><td>   0                      </td><td>   0                      </td><td>   0.0                    </td><td>   0.0                    </td><td>2012                      </td><td>60.0                      </td><td>GD Nursing                </td><td>67                        </td><td>Doctor of Nursing Practice</td><td>Female                    </td><td>...                       </td><td>157.3401                  </td><td>154.9181                  </td><td> 4.2028131                </td><td>-0.109766218              </td><td>0.64687796                </td><td> 0.08916026               </td><td>-1.394577e+00             </td><td>1.89473e-05               </td><td>4.961343e-07              </td><td>-3.187613e-07             </td></tr>\n",
       "\t<tr><th scope=row>2163</th><td>8712                      </td><td>   0                      </td><td>   0.0                    </td><td>   0.0                    </td><td>2013                      </td><td>46.0                      </td><td>GD Nursing                </td><td>52                        </td><td>Doctor of Nursing Practice</td><td>Male                      </td><td>...                       </td><td>157.3401                  </td><td>154.9181                  </td><td> 2.3603714                </td><td>-0.807575679              </td><td>0.85901134                </td><td>-0.68094180               </td><td>-2.288027e+00             </td><td>1.89473e-05               </td><td>4.961343e-07              </td><td>-3.187613e-07             </td></tr>\n",
       "\t<tr><th scope=row>2221</th><td>   0                      </td><td>   0                      </td><td>   0.0                    </td><td>   0.0                    </td><td>2012                      </td><td>56.0                      </td><td>GD Nursing                </td><td>63                        </td><td>Doctor of Nursing Practice</td><td>Female                    </td><td>...                       </td><td>157.3401                  </td><td>154.9181                  </td><td> 3.6764012                </td><td>-0.358608666              </td><td>0.64687796                </td><td> 1.12727466               </td><td> 3.426876e-01             </td><td>1.89473e-05               </td><td>4.961343e-07              </td><td>-3.187613e-07             </td></tr>\n",
       "\t<tr><th scope=row>2231</th><td>   0                      </td><td>   0                      </td><td>   0.0                    </td><td>   0.0                    </td><td>2015                      </td><td>40.0                      </td><td>GD Nursing                </td><td>44                        </td><td>Doctor of Nursing Practice</td><td>Male                      </td><td>...                       </td><td>157.3401                  </td><td>154.9181                  </td><td> 1.5707535                </td><td>-0.666222772              </td><td>1.28327808                </td><td>-0.62018396               </td><td>-1.435940e+00             </td><td>1.89473e-05               </td><td>4.961343e-07              </td><td>-3.187613e-07             </td></tr>\n",
       "\t<tr><th scope=row>2276</th><td>5185                      </td><td>4320                      </td><td>3171.0                    </td><td>3171.0                    </td><td>2013                      </td><td>33.0                      </td><td>GD Nursing                </td><td>39                        </td><td>Doctor of Philosophy      </td><td>Female                    </td><td>...                       </td><td>157.3401                  </td><td>154.9181                  </td><td> 0.6495326                </td><td>-0.806692747              </td><td>0.85901134                </td><td>-0.72599764               </td><td>-1.278759e+00             </td><td>1.89473e-05               </td><td>4.961343e-07              </td><td>-3.187613e-07             </td></tr>\n",
       "\t<tr><th scope=row>2322</th><td>   0                      </td><td>8325                      </td><td>8325.0                    </td><td>   0.0                    </td><td>2014                      </td><td>27.0                      </td><td>GD Nursing                </td><td>32                        </td><td>Doctor of Philosophy      </td><td>Female                    </td><td>...                       </td><td>157.3401                  </td><td>154.9181                  </td><td>-0.1400852                </td><td> 0.218241801              </td><td>1.07114471                </td><td> 0.11794552               </td><td> 3.592330e-01             </td><td>1.89473e-05               </td><td>4.961343e-07              </td><td>-3.187613e-07             </td></tr>\n",
       "\t<tr><th scope=row>2323</th><td>5435                      </td><td>5545                      </td><td>4158.0                    </td><td>   0.0                    </td><td>2017                      </td><td>34.3                      </td><td>GD Nursing                </td><td>37                        </td><td>Doctor of Philosophy      </td><td>Female                    </td><td>...                       </td><td>157.3401                  </td><td>154.9181                  </td><td> 0.8206165                </td><td> 0.003525258              </td><td>1.70754483                </td><td>-0.20291425               </td><td>-1.477304e+00             </td><td>1.89473e-05               </td><td>4.961343e-07              </td><td>-3.187613e-07             </td></tr>\n",
       "\t<tr><th scope=row>2325</th><td>   0                      </td><td>1296                      </td><td>   0.0                    </td><td>   0.0                    </td><td>2014                      </td><td>31.0                      </td><td>GD Nursing                </td><td>36                        </td><td>Doctor of Philosophy      </td><td>Female                    </td><td>...                       </td><td>157.3401                  </td><td>154.9181                  </td><td> 0.3863267                </td><td>-0.813558964              </td><td>1.07114471                </td><td>-0.64164044               </td><td>-2.959640e-01             </td><td>1.89473e-05               </td><td>4.961343e-07              </td><td>-3.187613e-07             </td></tr>\n",
       "\t<tr><th scope=row>2389</th><td>   0                      </td><td>   0                      </td><td>   0.0                    </td><td>   0.0                    </td><td>2017                      </td><td>53.3                      </td><td>GD Nursing                </td><td>56                        </td><td>Doctor of Philosophy      </td><td>Female                    </td><td>...                       </td><td>157.3401                  </td><td>154.9181                  </td><td> 3.3210731                </td><td>-0.462323356              </td><td>1.70754483                </td><td>-0.41206579               </td><td>-1.725485e+00             </td><td>1.89473e-05               </td><td>4.961343e-07              </td><td>-3.187613e-07             </td></tr>\n",
       "\t<tr><th scope=row>2427</th><td>   0                      </td><td>   0                      </td><td>   0.0                    </td><td>   0.0                    </td><td>2016                      </td><td>47.0                      </td><td>GD Nursing                </td><td>50                        </td><td>Doctor of Philosophy      </td><td>Female                    </td><td>...                       </td><td>157.3401                  </td><td>154.9181                  </td><td> 2.4919744                </td><td>-0.799655327              </td><td>1.49541146                </td><td>-0.24664064               </td><td>-3.137368e+00             </td><td>1.89473e-05               </td><td>4.961343e-07              </td><td>-3.187613e-07             </td></tr>\n",
       "\t<tr><th scope=row>2455</th><td>   0                      </td><td>   0                      </td><td>   0.0                    </td><td>   0.0                    </td><td>2018                      </td><td>29.3                      </td><td>GD Nursing                </td><td>31                        </td><td>Doctor of Philosophy      </td><td>Male                      </td><td>...                       </td><td>157.3401                  </td><td>154.9181                  </td><td> 0.1626016                </td><td>-0.384081753              </td><td>1.91967820                </td><td> 1.04792282               </td><td>-2.694914e-01             </td><td>1.89473e-05               </td><td>4.961343e-07              </td><td>-3.187613e-07             </td></tr>\n",
       "\t<tr><th scope=row>2456</th><td>   0                      </td><td>   0                      </td><td>   0.0                    </td><td>   0.0                    </td><td>2018                      </td><td>27.3                      </td><td>GD Nursing                </td><td>29                        </td><td>Doctor of Philosophy      </td><td>Male                      </td><td>...                       </td><td>157.3401                  </td><td>154.9181                  </td><td>-0.1006044                </td><td>-0.517686394              </td><td>1.91967820                </td><td> 0.63172772               </td><td>-3.785608e-02             </td><td>1.89473e-05               </td><td>4.961343e-07              </td><td>-3.187613e-07             </td></tr>\n",
       "\t<tr><th scope=row>2468</th><td>   0                      </td><td>   0                      </td><td>   0.0                    </td><td>   0.0                    </td><td>2018                      </td><td>26.0                      </td><td>GD Nursing                </td><td>27                        </td><td>Doctor of Philosophy      </td><td>Female                    </td><td>...                       </td><td>157.3401                  </td><td>154.9181                  </td><td>-0.2716882                </td><td>-0.039654558              </td><td>1.91967820                </td><td> 2.12085645               </td><td> 9.107566e-01             </td><td>1.89473e-05               </td><td>4.961343e-07              </td><td>-3.187613e-07             </td></tr>\n",
       "</tbody>\n",
       "</table>\n"
      ],
      "text/latex": [
       "\\begin{tabular}{r|lllllllllllllllllllllllllllllllllllllllllllllllll}\n",
       "  & X1st\\_Term\\_Funding & X2nd\\_Term\\_Funding & X3rd\\_Term\\_Funding & X4th\\_Term\\_Funding & Start\\_year & Start\\_age & College & Age & Degree & Gender & ... & GRE.Combined.Quantitative.Score & GRE.Combined.General.Verbal.Score & s\\_start\\_age & s\\_net\\_cost & s\\_start\\_year & avs\\_net\\_cost & s\\_Average.Precol.GPA & s\\_GRE.Combined.General.Write.Score & s\\_GRE.Combined.Quantitative.Score & s\\_GRE.Combined.General.Verbal.Score\\\\\n",
       "\\hline\n",
       "\t1 & 4685                 & 4935                 & 4110.0               &  432.0               & 2013                 & 22.3                 & GD Harpur            & 29                   & Doctor of Philosophy & Male                 & ...                  & 159.0000             & 160.0000             & -0.758619253         & -0.826374490         &  0.85901134          & -0.65494776          &  9.450694e-02        & -0.5485791332        &  8.546803e-02        &  3.279657e-01       \\\\\n",
       "\t3 & 4685                 & 4685                 & 3699.0               & 3699.0               & 2012                 & 22.0                 & GD Harpur            & 29                   & Doctor of Philosophy & Female               & ...                  & 155.0000             & 147.0000             & -0.798100147         & -0.732387052         &  0.64687796          & -0.68741906          &  2.832543e-02        &  0.3180845011        & -1.204902e-01        & -5.110037e-01       \\\\\n",
       "\t4 & 4685                 & 4685                 & 3699.0               & 3699.0               & 2012                 & 23.0                 & GD Harpur            & 30                   & Doctor of Philosophy & Female               & ...                  & 159.0000             & 170.0000             & -0.666497166         & -0.731452053         &  0.64687796          & -0.68693362          &  1.732499e+00        &  2.9180754037        &  8.546803e-02        &  9.733268e-01       \\\\\n",
       "\t11 & 3699                 & 3699                 &  432.0               &  432.0               & 2013                 & 23.0                 & GD Harpur            & 29                   & Doctor of Philosophy & Male                 & ...                  & 159.0000             & 163.0000             & -0.666497166         &  1.846713327         &  0.85901134          &  3.58982146          & -9.643972e-01        &  0.3180845011        &  8.546803e-02        &  5.215741e-01       \\\\\n",
       "\t12 & 8325                 & 8325                 &  925.0               &  925.0               & 2013                 & 23.0                 & GD Harpur            & 29                   & Doctor of Philosophy & Female               & ...                  & 166.0000             & 170.0000             & -0.666497166         & -0.664944044         &  0.85901134          & -0.65240349          &  7.894128e-01        & -1.4152427674        &  4.458950e-01        &  9.733268e-01       \\\\\n",
       "\t14 &    0                 &    0                 & 3141.0               & 3141.0               & 2008                 & 22.0                 & GD Harpur            & 33                   & Doctor of Philosophy & Female               & ...                  & 157.3401             & 154.9181             & -0.798100147         &  0.115601102         & -0.20165553          & -0.24715426          & -2.545443e-07        &  0.0000189473        &  4.961343e-07        & -3.187613e-07       \\\\\n",
       "\t23 &    0                 &    0                 & 3141.0               & 3141.0               & 2008                 & 33.0                 & GD Harpur            & 44                   & Doctor of Philosophy & Male                 & ...                  & 157.3401             & 154.9181             &  0.649532636         & -0.429510596         & -0.20165553          & -0.38651183          & -2.545443e-07        &  0.0000189473        &  4.961343e-07        & -3.187613e-07       \\\\\n",
       "\t26 &    0                 &    0                 & 4968.0               & 4968.0               & 2008                 & 22.0                 & GD Harpur            & 33                   & Doctor of Philosophy & Female               & ...                  & 157.3401             & 154.9181             & -0.798100147         & -0.170550395         & -0.20165553          & -0.18483851          & -2.545443e-07        &  0.0000189473        &  4.961343e-07        & -3.187613e-07       \\\\\n",
       "\t29 & 4968                 & 6072                 & 5166.0               & 5683.2               & 2009                 & 24.0                 & GD Grad School       & 34                   & Doctor of Philosophy & Male                 & ...                  & 157.3401             & 154.9181             & -0.534894186         & -0.245971116         &  0.01047784          & -0.05227148          &  6.141618e-02        &  0.0000189473        &  4.961343e-07        & -3.187613e-07       \\\\\n",
       "\t32 &    0                 &    0                 &    0.0               & 4968.0               & 2008                 & 23.3                 & GD Harpur            & 35                   & Doctor of Philosophy & Female               & ...                  & 157.3401             & 154.9181             & -0.627016272         &  0.214431648         & -0.20165553          & -0.07151431          & -2.545443e-07        &  0.0000189473        &  4.961343e-07        & -3.187613e-07       \\\\\n",
       "\t35 & 4185                 & 4185                 & 3141.0               & 3330.0               & 2010                 & 28.3                 & GD Harpur            & 38                   & Doctor of Philosophy & Male                 & ...                  & 149.0000             & 156.0000             &  0.030998629         & -0.759549225         &  0.22261122          & -0.67832867          & -2.364006e-01        &  1.1847481353        & -4.294277e-01        &  6.982130e-02       \\\\\n",
       "\t36 &    0                 &    0                 &    0.0               & 4968.0               & 2008                 & 27.3                 & GD Harpur            & 39                   & Doctor of Philosophy & Female               & ...                  & 157.3401             & 154.9181             & -0.100604351         &  0.372693072         & -0.20165553          &  0.23822926          & -2.545443e-07        &  0.0000189473        &  4.961343e-07        & -3.187613e-07       \\\\\n",
       "\t41 &    0                 &    0                 & 3350.4               & 3350.4               & 2008                 & 22.0                 & GD Harpur            & 33                   & Doctor of Philosophy & Female               & ...                  & 157.3401             & 154.9181             & -0.798100147         & -0.383883193         & -0.20165553          & -0.35097807          &  1.937792e-01        &  0.0000189473        &  4.961343e-07        & -3.187613e-07       \\\\\n",
       "\t51 &    0                 &    0                 &    0.0               & 4968.0               & 2008                 & 25.3                 & GD Grad School       & 37                   & Doctor of Philosophy & Male                 & ...                  & 157.3401             & 154.9181             & -0.363810312         &  0.072123887         & -0.20165553          &  0.27803038          &  6.141618e-02        &  0.0000189473        &  4.961343e-07        & -3.187613e-07       \\\\\n",
       "\t55 &    0                 &    0                 & 4968.0               & 4968.0               & 2008                 & 26.0                 & GD Harpur            & 37                   & Doctor of Philosophy & Male                 & ...                  & 157.3401             & 154.9181             & -0.271688226         &  0.007898439         & -0.20165553          & -0.04586592          & -3.687636e-01        &  0.0000189473        &  4.961343e-07        & -3.187613e-07       \\\\\n",
       "\t62 &    0                 &    0                 & 4968.0               & 4968.0               & 2009                 & 25.0                 & GD Grad School       & 35                   & Doctor of Philosophy & Male                 & ...                  & 157.3401             & 154.9181             & -0.403291206         & -0.113066732         &  0.01047784          &  1.89216838          &  2.268700e-01        &  0.0000189473        &  4.961343e-07        & -3.187613e-07       \\\\\n",
       "\t65 &    0                 &    0                 & 4185.0               & 3141.0               & 2008                 & 22.0                 & GD Harpur            & 33                   & Doctor of Philosophy & Female               & ...                  & 157.3401             & 154.9181             & -0.798100147         &  2.068813668         & -0.20165553          &  0.37082573          &  6.901405e-01        &  0.0000189473        &  4.961343e-07        & -3.187613e-07       \\\\\n",
       "\t66 &    0                 &    0                 & 4185.0               & 3141.0               & 2008                 & 26.0                 & GD Harpur            & 37                   & Doctor of Philosophy & Male                 & ...                  & 157.3401             & 154.9181             & -0.271688226         & -0.205667337         & -0.20165553          & -0.41395280          & -2.545443e-07        &  0.0000189473        &  4.961343e-07        & -3.187613e-07       \\\\\n",
       "\t68 &    0                 &    0                 & 4185.0               & 3141.0               & 2008                 & 22.0                 & GD Harpur            & 33                   & Doctor of Philosophy & Female               & ...                  & 157.3401             & 154.9181             & -0.798100147         &  2.325795767         & -0.20165553          &  0.47089214          &  7.563220e-01        &  0.0000189473        &  4.961343e-07        & -3.187613e-07       \\\\\n",
       "\t69 & 3141                 &  349                 &  370.0               &  370.0               & 2008                 & 23.0                 & GD Harpur            & 34                   & Doctor of Philosophy & Male                 & ...                  & 157.3401             & 154.9181             & -0.666497166         & -0.465524590         & -0.20165553          & -0.28025029          & -2.545443e-07        &  0.0000189473        &  4.961343e-07        & -3.187613e-07       \\\\\n",
       "\t72 &    0                 & 3141                 & 3141.0               &  349.0               & 2009                 & 47.0                 & GD Grad School       & 57                   & Doctor of Philosophy & Female               & ...                  & 157.3401             & 154.9181             &  2.491974360         & -0.668504010         &  0.01047784          &  0.16191205          &  1.649772e+00        &  0.0000189473        &  4.961343e-07        & -3.187613e-07       \\\\\n",
       "\t76 &    0                 &    0                 & 4968.0               & 4968.0               & 2008                 & 27.0                 & GD Harpur            & 38                   & Doctor of Philosophy & Male                 & ...                  & 157.3401             & 154.9181             & -0.140085245         &  0.136963990         & -0.20165553          & -0.23606292          & -2.545443e-07        &  0.0000189473        &  4.961343e-07        & -3.187613e-07       \\\\\n",
       "\t77 &    0                 &    0                 & 4185.0               & 4185.0               & 2008                 & 27.0                 & GD Harpur            & 38                   & Doctor of Philosophy & Male                 & ...                  & 157.3401             & 154.9181             & -0.140085245         &  0.681675038         & -0.20165553          &  0.21958996          &  8.225035e-01        &  0.0000189473        &  4.961343e-07        & -3.187613e-07       \\\\\n",
       "\t79 &    0                 &    0                 & 4185.0               & 3141.0               & 2008                 & 23.0                 & GD Harpur            & 34                   & Doctor of Philosophy & Female               & ...                  & 157.3401             & 154.9181             & -0.666497166         &  2.133606116         & -0.20165553          &  0.39605530          &  1.186502e+00        &  0.0000189473        &  4.961343e-07        & -3.187613e-07       \\\\\n",
       "\t87 &    0                 &    0                 & 3141.0               & 3141.0               & 2008                 & 24.0                 & GD Harpur            & 35                   & Doctor of Philosophy & Male                 & ...                  & 157.3401             & 154.9181             & -0.534894186         &  1.127461555         & -0.20165553          &  0.12166590          &  1.616682e+00        &  0.0000189473        &  4.961343e-07        & -3.187613e-07       \\\\\n",
       "\t89 &    0                 &    0                 & 6625.0               & 4968.0               & 2008                 & 22.0                 & GD Harpur            & 33                   & Doctor of Philosophy & Female               & ...                  & 157.3401             & 154.9181             & -0.798100147         &  0.110069652         & -0.20165553          & -0.25002612          & -2.545443e-07        &  0.0000189473        &  4.961343e-07        & -3.187613e-07       \\\\\n",
       "\t94 &    0                 &    0                 & 4185.0               & 3141.0               & 2008                 & 23.0                 & GD Harpur            & 34                   & Doctor of Philosophy & Female               & ...                  & 157.3401             & 154.9181             & -0.666497166         &  0.265307664         & -0.20165553          & -0.26200793          &  8.886850e-01        &  0.0000189473        &  4.961343e-07        & -3.187613e-07       \\\\\n",
       "\t95 &    0                 &    0                 & 4185.0               & 4185.0               & 2008                 & 24.0                 & GD Harpur            & 35                   & Doctor of Philosophy & Female               & ...                  & 157.3401             & 154.9181             & -0.534894186         & -0.103337716         & -0.20165553          & -0.47498955          &  1.285774e+00        &  0.0000189473        &  4.961343e-07        & -3.187613e-07       \\\\\n",
       "\t96 &    0                 &    0                 & 4185.0               & 4185.0               & 2008                 & 22.0                 & GD Harpur            & 33                   & Doctor of Philosophy & Male                 & ...                  & 157.3401             & 154.9181             & -0.798100147         &  0.802078945         & -0.20165553          &  0.29460460          & -2.545443e-07        &  0.0000189473        &  4.961343e-07        & -3.187613e-07       \\\\\n",
       "\t97 &    0                 &    0                 & 4968.0               &  552.0               & 2009                 & 28.0                 & GD Grad School       & 38                   & Doctor of Philosophy & Female               & ...                  & 157.3401             & 154.9181             & -0.008482265         & -0.150872623         &  0.01047784          &  1.77439832          &  8.225035e-01        &  0.0000189473        &  4.961343e-07        & -3.187613e-07       \\\\\n",
       "\t... & ... & ... & ... & ... & ... & ... & ... & ... & ... & ... &     & ... & ... & ... & ... & ... & ... & ... & ... & ... & ...\\\\\n",
       "\t1884 & 4935                       & 4935                       &    0.0                     &    0.0                     & 2012                       & 23.0                       & GD Nursing                 & 30                         & Doctor of Philosophy       & Female                     & ...                        & 157.3401                   & 154.9181                   & -0.6664972                 & -0.514831537               & 0.64687796                 & -0.45295818                &  3.426876e-01              & 1.89473e-05                & 4.961343e-07               & -3.187613e-07             \\\\\n",
       "\t1902 &    0                       &    0                       &    0.0                     &  432.0                     & 2011                       & 38.0                       & GD Nursing                 & 46                         & Doctor of Philosophy       & Female                     & ...                        & 157.3401                   & 154.9181                   &  1.3075475                 & -0.411767684               & 0.43474459                 & -0.56331852                & -5.562889e-01              & 1.89473e-05                & 4.961343e-07               & -3.187613e-07             \\\\\n",
       "\t1904 &    0                       &    0                       &    0.0                     &    0.0                     & 2010                       & 39.0                       & GD Nursing                 & 48                         & Doctor of Nursing Practice & Female                     & ...                        & 157.3401                   & 154.9181                   &  1.4391505                 & -0.461661488               & 0.22261122                 &  0.80625228                &  1.467773e+00              & 1.89473e-05                & 4.961343e-07               & -3.187613e-07             \\\\\n",
       "\t1910 & 4185                       & 3839                       & 2092.5                     & 2092.5                     & 2009                       & 52.0                       & GD Nursing                 & 62                         & Doctor of Philosophy       & Female                     & ...                        & 157.3401                   & 154.9181                   &  3.1499893                 &  1.421970236               & 0.01047784                 &  0.43109618                &  5.246867e-01              & 1.89473e-05                & 4.961343e-07               & -3.187613e-07             \\\\\n",
       "\t1915 &    0                       &    0                       &    0.0                     &    0.0                     & 2010                       & 46.0                       & GD Nursing                 & 55                         & Doctor of Nursing Practice & Female                     & ...                        & 157.3401                   & 154.9181                   &  2.3603714                 &  1.106993954               & 0.22261122                 &  0.81008895                & -2.364006e-01              & 1.89473e-05                & 4.961343e-07               & -3.187613e-07             \\\\\n",
       "\t1918 &    0                       &    0                       &    0.0                     &    0.0                     & 2011                       & 43.0                       & GD Nursing                 & 51                         & Doctor of Nursing Practice & Female                     & ...                        & 157.3401                   & 154.9181                   &  1.9655624                 & -0.242413797               & 0.43474459                 &  0.33587580                & -3.246536e-01              & 1.89473e-05                & 4.961343e-07               & -3.187613e-07             \\\\\n",
       "\t1926 & 5185                       & 5185                       &    0.0                     &    0.0                     & 2014                       & 23.0                       & GD Nursing                 & 28                         & Doctor of Philosophy       & Female                     & ...                        & 157.3401                   & 154.9181                   & -0.6664972                 & -0.859677915               & 1.07114471                 & -0.62555152                &  1.600136e+00              & 1.89473e-05                & 4.961343e-07               & -3.187613e-07             \\\\\n",
       "\t1976 & 4077                       & 4077                       &    0.0                     &    0.0                     & 2016                       & 26.0                       & GD Nursing                 & 29                         & Doctor of Nursing Practice & Female                     & ...                        & 157.3401                   & 154.9181                   & -0.2716882                 & -0.506132387               & 1.49541146                 & -0.32241641                & -6.003989e-01              & 1.89473e-05                & 4.961343e-07               & -3.187613e-07             \\\\\n",
       "\t2002 &    0                       &    0                       &    0.0                     &    0.0                     & 2010                       & 48.3                       & GD Nursing                 & 58                         & Doctor of Philosophy       & Female                     & ...                        & 157.3401                   & 154.9181                   &  2.6630582                 & -0.925761005               & 0.22261122                 & -0.63947555                & -2.545443e-07              & 1.89473e-05                & 4.961343e-07               & -3.187613e-07             \\\\\n",
       "\t2025 &    0                       &    0                       &    0.0                     &    0.0                     & 2012                       & 32.0                       & GD Nursing                 & 39                         & Doctor of Nursing Practice & Female                     & ...                        & 157.3401                   & 154.9181                   &  0.5179297                 & -0.852161302               & 0.64687796                 & -0.73602830                & -7.989434e-01              & 1.89473e-05                & 4.961343e-07               & -3.187613e-07             \\\\\n",
       "\t2078 &    0                       &    0                       &    0.0                     &    0.0                     & 2010                       & 51.0                       & GD Nursing                 & 60                         & Doctor of Nursing Practice & Female                     & ...                        & 157.3401                   & 154.9181                   &  3.0183863                 & -0.309226708               & 0.22261122                 & -0.55516078                & -2.545443e-07              & 1.89473e-05                & 4.961343e-07               & -3.187613e-07             \\\\\n",
       "\t2079 &    0                       &    0                       &    0.0                     &    0.0                     & 2010                       & 63.0                       & GD Nursing                 & 72                         & Doctor of Nursing Practice & Female                     & ...                        & 157.3401                   & 154.9181                   &  4.5976220                 & -0.404917352               & 0.22261122                 &  0.98301733                & -2.545443e-07              & 1.89473e-05                & 4.961343e-07               & -3.187613e-07             \\\\\n",
       "\t2084 & 4935                       & 4935                       & 5185.0                     & 4752.0                     & 2013                       & 25.0                       & GD Nursing                 & 31                         & Doctor of Philosophy       & Male                       & ...                        & 157.3401                   & 154.9181                   & -0.4032912                 & -0.707262990               & 0.85901134                 & -0.64575304                & -9.313064e-01              & 1.89473e-05                & 4.961343e-07               & -3.187613e-07             \\\\\n",
       "\t2107 &    0                       &    0                       &    0.0                     &    0.0                     & 2013                       & 40.0                       & GD Nursing                 & 46                         & Doctor of Philosophy       & Female                     & ...                        & 157.3401                   & 154.9181                   &  1.5707535                 & -0.530936988               & 0.85901134                 &  0.59045047                &  1.178005e-02              & 1.89473e-05                & 4.961343e-07               & -3.187613e-07             \\\\\n",
       "\t2124 &    0                       &    0                       &    0.0                     &    0.0                     & 2012                       & 23.0                       & GD Nursing                 & 30                         & Doctor of Nursing Practice & Female                     & ...                        & 157.3401                   & 154.9181                   & -0.6664972                 & -0.982904467               & 0.64687796                 & -0.81748455                &  1.275977e-01              & 1.89473e-05                & 4.961343e-07               & -3.187613e-07             \\\\\n",
       "\t2144 &    0                       &    0                       &    0.0                     &    0.0                     & 2011                       & 44.0                       & GD Nursing                 & 52                         & Doctor of Nursing Practice & Female                     & ...                        & 157.3401                   & 154.9181                   &  2.0971654                 & -0.847998154               & 0.43474459                 & -0.39723457                &  1.467773e+00              & 1.89473e-05                & 4.961343e-07               & -3.187613e-07             \\\\\n",
       "\t2148 & 5000                       & 5000                       &    0.0                     &    0.0                     & 2014                       & 29.0                       & GD Nursing                 & 34                         & Doctor of Nursing Practice & Female                     & ...                        & 157.3401                   & 154.9181                   &  0.1231207                 &  1.054324718               & 1.07114471                 & -0.02420671                & -6.665804e-01              & 1.89473e-05                & 4.961343e-07               & -3.187613e-07             \\\\\n",
       "\t2151 &    0                       &    0                       &    0.0                     &    0.0                     & 2012                       & 60.0                       & GD Nursing                 & 67                         & Doctor of Nursing Practice & Female                     & ...                        & 157.3401                   & 154.9181                   &  4.2028131                 & -0.109766218               & 0.64687796                 &  0.08916026                & -1.394577e+00              & 1.89473e-05                & 4.961343e-07               & -3.187613e-07             \\\\\n",
       "\t2163 & 8712                       &    0                       &    0.0                     &    0.0                     & 2013                       & 46.0                       & GD Nursing                 & 52                         & Doctor of Nursing Practice & Male                       & ...                        & 157.3401                   & 154.9181                   &  2.3603714                 & -0.807575679               & 0.85901134                 & -0.68094180                & -2.288027e+00              & 1.89473e-05                & 4.961343e-07               & -3.187613e-07             \\\\\n",
       "\t2221 &    0                       &    0                       &    0.0                     &    0.0                     & 2012                       & 56.0                       & GD Nursing                 & 63                         & Doctor of Nursing Practice & Female                     & ...                        & 157.3401                   & 154.9181                   &  3.6764012                 & -0.358608666               & 0.64687796                 &  1.12727466                &  3.426876e-01              & 1.89473e-05                & 4.961343e-07               & -3.187613e-07             \\\\\n",
       "\t2231 &    0                       &    0                       &    0.0                     &    0.0                     & 2015                       & 40.0                       & GD Nursing                 & 44                         & Doctor of Nursing Practice & Male                       & ...                        & 157.3401                   & 154.9181                   &  1.5707535                 & -0.666222772               & 1.28327808                 & -0.62018396                & -1.435940e+00              & 1.89473e-05                & 4.961343e-07               & -3.187613e-07             \\\\\n",
       "\t2276 & 5185                       & 4320                       & 3171.0                     & 3171.0                     & 2013                       & 33.0                       & GD Nursing                 & 39                         & Doctor of Philosophy       & Female                     & ...                        & 157.3401                   & 154.9181                   &  0.6495326                 & -0.806692747               & 0.85901134                 & -0.72599764                & -1.278759e+00              & 1.89473e-05                & 4.961343e-07               & -3.187613e-07             \\\\\n",
       "\t2322 &    0                       & 8325                       & 8325.0                     &    0.0                     & 2014                       & 27.0                       & GD Nursing                 & 32                         & Doctor of Philosophy       & Female                     & ...                        & 157.3401                   & 154.9181                   & -0.1400852                 &  0.218241801               & 1.07114471                 &  0.11794552                &  3.592330e-01              & 1.89473e-05                & 4.961343e-07               & -3.187613e-07             \\\\\n",
       "\t2323 & 5435                       & 5545                       & 4158.0                     &    0.0                     & 2017                       & 34.3                       & GD Nursing                 & 37                         & Doctor of Philosophy       & Female                     & ...                        & 157.3401                   & 154.9181                   &  0.8206165                 &  0.003525258               & 1.70754483                 & -0.20291425                & -1.477304e+00              & 1.89473e-05                & 4.961343e-07               & -3.187613e-07             \\\\\n",
       "\t2325 &    0                       & 1296                       &    0.0                     &    0.0                     & 2014                       & 31.0                       & GD Nursing                 & 36                         & Doctor of Philosophy       & Female                     & ...                        & 157.3401                   & 154.9181                   &  0.3863267                 & -0.813558964               & 1.07114471                 & -0.64164044                & -2.959640e-01              & 1.89473e-05                & 4.961343e-07               & -3.187613e-07             \\\\\n",
       "\t2389 &    0                       &    0                       &    0.0                     &    0.0                     & 2017                       & 53.3                       & GD Nursing                 & 56                         & Doctor of Philosophy       & Female                     & ...                        & 157.3401                   & 154.9181                   &  3.3210731                 & -0.462323356               & 1.70754483                 & -0.41206579                & -1.725485e+00              & 1.89473e-05                & 4.961343e-07               & -3.187613e-07             \\\\\n",
       "\t2427 &    0                       &    0                       &    0.0                     &    0.0                     & 2016                       & 47.0                       & GD Nursing                 & 50                         & Doctor of Philosophy       & Female                     & ...                        & 157.3401                   & 154.9181                   &  2.4919744                 & -0.799655327               & 1.49541146                 & -0.24664064                & -3.137368e+00              & 1.89473e-05                & 4.961343e-07               & -3.187613e-07             \\\\\n",
       "\t2455 &    0                       &    0                       &    0.0                     &    0.0                     & 2018                       & 29.3                       & GD Nursing                 & 31                         & Doctor of Philosophy       & Male                       & ...                        & 157.3401                   & 154.9181                   &  0.1626016                 & -0.384081753               & 1.91967820                 &  1.04792282                & -2.694914e-01              & 1.89473e-05                & 4.961343e-07               & -3.187613e-07             \\\\\n",
       "\t2456 &    0                       &    0                       &    0.0                     &    0.0                     & 2018                       & 27.3                       & GD Nursing                 & 29                         & Doctor of Philosophy       & Male                       & ...                        & 157.3401                   & 154.9181                   & -0.1006044                 & -0.517686394               & 1.91967820                 &  0.63172772                & -3.785608e-02              & 1.89473e-05                & 4.961343e-07               & -3.187613e-07             \\\\\n",
       "\t2468 &    0                       &    0                       &    0.0                     &    0.0                     & 2018                       & 26.0                       & GD Nursing                 & 27                         & Doctor of Philosophy       & Female                     & ...                        & 157.3401                   & 154.9181                   & -0.2716882                 & -0.039654558               & 1.91967820                 &  2.12085645                &  9.107566e-01              & 1.89473e-05                & 4.961343e-07               & -3.187613e-07             \\\\\n",
       "\\end{tabular}\n"
      ],
      "text/markdown": [
       "\n",
       "| <!--/--> | X1st_Term_Funding | X2nd_Term_Funding | X3rd_Term_Funding | X4th_Term_Funding | Start_year | Start_age | College | Age | Degree | Gender | ... | GRE.Combined.Quantitative.Score | GRE.Combined.General.Verbal.Score | s_start_age | s_net_cost | s_start_year | avs_net_cost | s_Average.Precol.GPA | s_GRE.Combined.General.Write.Score | s_GRE.Combined.Quantitative.Score | s_GRE.Combined.General.Verbal.Score |\n",
       "|---|---|---|---|---|---|---|---|---|---|---|---|---|---|---|---|---|---|---|---|---|---|\n",
       "| 1 | 4685                 | 4935                 | 4110.0               |  432.0               | 2013                 | 22.3                 | GD Harpur            | 29                   | Doctor of Philosophy | Male                 | ...                  | 159.0000             | 160.0000             | -0.758619253         | -0.826374490         |  0.85901134          | -0.65494776          |  9.450694e-02        | -0.5485791332        |  8.546803e-02        |  3.279657e-01        |\n",
       "| 3 | 4685                 | 4685                 | 3699.0               | 3699.0               | 2012                 | 22.0                 | GD Harpur            | 29                   | Doctor of Philosophy | Female               | ...                  | 155.0000             | 147.0000             | -0.798100147         | -0.732387052         |  0.64687796          | -0.68741906          |  2.832543e-02        |  0.3180845011        | -1.204902e-01        | -5.110037e-01        |\n",
       "| 4 | 4685                 | 4685                 | 3699.0               | 3699.0               | 2012                 | 23.0                 | GD Harpur            | 30                   | Doctor of Philosophy | Female               | ...                  | 159.0000             | 170.0000             | -0.666497166         | -0.731452053         |  0.64687796          | -0.68693362          |  1.732499e+00        |  2.9180754037        |  8.546803e-02        |  9.733268e-01        |\n",
       "| 11 | 3699                 | 3699                 |  432.0               |  432.0               | 2013                 | 23.0                 | GD Harpur            | 29                   | Doctor of Philosophy | Male                 | ...                  | 159.0000             | 163.0000             | -0.666497166         |  1.846713327         |  0.85901134          |  3.58982146          | -9.643972e-01        |  0.3180845011        |  8.546803e-02        |  5.215741e-01        |\n",
       "| 12 | 8325                 | 8325                 |  925.0               |  925.0               | 2013                 | 23.0                 | GD Harpur            | 29                   | Doctor of Philosophy | Female               | ...                  | 166.0000             | 170.0000             | -0.666497166         | -0.664944044         |  0.85901134          | -0.65240349          |  7.894128e-01        | -1.4152427674        |  4.458950e-01        |  9.733268e-01        |\n",
       "| 14 |    0                 |    0                 | 3141.0               | 3141.0               | 2008                 | 22.0                 | GD Harpur            | 33                   | Doctor of Philosophy | Female               | ...                  | 157.3401             | 154.9181             | -0.798100147         |  0.115601102         | -0.20165553          | -0.24715426          | -2.545443e-07        |  0.0000189473        |  4.961343e-07        | -3.187613e-07        |\n",
       "| 23 |    0                 |    0                 | 3141.0               | 3141.0               | 2008                 | 33.0                 | GD Harpur            | 44                   | Doctor of Philosophy | Male                 | ...                  | 157.3401             | 154.9181             |  0.649532636         | -0.429510596         | -0.20165553          | -0.38651183          | -2.545443e-07        |  0.0000189473        |  4.961343e-07        | -3.187613e-07        |\n",
       "| 26 |    0                 |    0                 | 4968.0               | 4968.0               | 2008                 | 22.0                 | GD Harpur            | 33                   | Doctor of Philosophy | Female               | ...                  | 157.3401             | 154.9181             | -0.798100147         | -0.170550395         | -0.20165553          | -0.18483851          | -2.545443e-07        |  0.0000189473        |  4.961343e-07        | -3.187613e-07        |\n",
       "| 29 | 4968                 | 6072                 | 5166.0               | 5683.2               | 2009                 | 24.0                 | GD Grad School       | 34                   | Doctor of Philosophy | Male                 | ...                  | 157.3401             | 154.9181             | -0.534894186         | -0.245971116         |  0.01047784          | -0.05227148          |  6.141618e-02        |  0.0000189473        |  4.961343e-07        | -3.187613e-07        |\n",
       "| 32 |    0                 |    0                 |    0.0               | 4968.0               | 2008                 | 23.3                 | GD Harpur            | 35                   | Doctor of Philosophy | Female               | ...                  | 157.3401             | 154.9181             | -0.627016272         |  0.214431648         | -0.20165553          | -0.07151431          | -2.545443e-07        |  0.0000189473        |  4.961343e-07        | -3.187613e-07        |\n",
       "| 35 | 4185                 | 4185                 | 3141.0               | 3330.0               | 2010                 | 28.3                 | GD Harpur            | 38                   | Doctor of Philosophy | Male                 | ...                  | 149.0000             | 156.0000             |  0.030998629         | -0.759549225         |  0.22261122          | -0.67832867          | -2.364006e-01        |  1.1847481353        | -4.294277e-01        |  6.982130e-02        |\n",
       "| 36 |    0                 |    0                 |    0.0               | 4968.0               | 2008                 | 27.3                 | GD Harpur            | 39                   | Doctor of Philosophy | Female               | ...                  | 157.3401             | 154.9181             | -0.100604351         |  0.372693072         | -0.20165553          |  0.23822926          | -2.545443e-07        |  0.0000189473        |  4.961343e-07        | -3.187613e-07        |\n",
       "| 41 |    0                 |    0                 | 3350.4               | 3350.4               | 2008                 | 22.0                 | GD Harpur            | 33                   | Doctor of Philosophy | Female               | ...                  | 157.3401             | 154.9181             | -0.798100147         | -0.383883193         | -0.20165553          | -0.35097807          |  1.937792e-01        |  0.0000189473        |  4.961343e-07        | -3.187613e-07        |\n",
       "| 51 |    0                 |    0                 |    0.0               | 4968.0               | 2008                 | 25.3                 | GD Grad School       | 37                   | Doctor of Philosophy | Male                 | ...                  | 157.3401             | 154.9181             | -0.363810312         |  0.072123887         | -0.20165553          |  0.27803038          |  6.141618e-02        |  0.0000189473        |  4.961343e-07        | -3.187613e-07        |\n",
       "| 55 |    0                 |    0                 | 4968.0               | 4968.0               | 2008                 | 26.0                 | GD Harpur            | 37                   | Doctor of Philosophy | Male                 | ...                  | 157.3401             | 154.9181             | -0.271688226         |  0.007898439         | -0.20165553          | -0.04586592          | -3.687636e-01        |  0.0000189473        |  4.961343e-07        | -3.187613e-07        |\n",
       "| 62 |    0                 |    0                 | 4968.0               | 4968.0               | 2009                 | 25.0                 | GD Grad School       | 35                   | Doctor of Philosophy | Male                 | ...                  | 157.3401             | 154.9181             | -0.403291206         | -0.113066732         |  0.01047784          |  1.89216838          |  2.268700e-01        |  0.0000189473        |  4.961343e-07        | -3.187613e-07        |\n",
       "| 65 |    0                 |    0                 | 4185.0               | 3141.0               | 2008                 | 22.0                 | GD Harpur            | 33                   | Doctor of Philosophy | Female               | ...                  | 157.3401             | 154.9181             | -0.798100147         |  2.068813668         | -0.20165553          |  0.37082573          |  6.901405e-01        |  0.0000189473        |  4.961343e-07        | -3.187613e-07        |\n",
       "| 66 |    0                 |    0                 | 4185.0               | 3141.0               | 2008                 | 26.0                 | GD Harpur            | 37                   | Doctor of Philosophy | Male                 | ...                  | 157.3401             | 154.9181             | -0.271688226         | -0.205667337         | -0.20165553          | -0.41395280          | -2.545443e-07        |  0.0000189473        |  4.961343e-07        | -3.187613e-07        |\n",
       "| 68 |    0                 |    0                 | 4185.0               | 3141.0               | 2008                 | 22.0                 | GD Harpur            | 33                   | Doctor of Philosophy | Female               | ...                  | 157.3401             | 154.9181             | -0.798100147         |  2.325795767         | -0.20165553          |  0.47089214          |  7.563220e-01        |  0.0000189473        |  4.961343e-07        | -3.187613e-07        |\n",
       "| 69 | 3141                 |  349                 |  370.0               |  370.0               | 2008                 | 23.0                 | GD Harpur            | 34                   | Doctor of Philosophy | Male                 | ...                  | 157.3401             | 154.9181             | -0.666497166         | -0.465524590         | -0.20165553          | -0.28025029          | -2.545443e-07        |  0.0000189473        |  4.961343e-07        | -3.187613e-07        |\n",
       "| 72 |    0                 | 3141                 | 3141.0               |  349.0               | 2009                 | 47.0                 | GD Grad School       | 57                   | Doctor of Philosophy | Female               | ...                  | 157.3401             | 154.9181             |  2.491974360         | -0.668504010         |  0.01047784          |  0.16191205          |  1.649772e+00        |  0.0000189473        |  4.961343e-07        | -3.187613e-07        |\n",
       "| 76 |    0                 |    0                 | 4968.0               | 4968.0               | 2008                 | 27.0                 | GD Harpur            | 38                   | Doctor of Philosophy | Male                 | ...                  | 157.3401             | 154.9181             | -0.140085245         |  0.136963990         | -0.20165553          | -0.23606292          | -2.545443e-07        |  0.0000189473        |  4.961343e-07        | -3.187613e-07        |\n",
       "| 77 |    0                 |    0                 | 4185.0               | 4185.0               | 2008                 | 27.0                 | GD Harpur            | 38                   | Doctor of Philosophy | Male                 | ...                  | 157.3401             | 154.9181             | -0.140085245         |  0.681675038         | -0.20165553          |  0.21958996          |  8.225035e-01        |  0.0000189473        |  4.961343e-07        | -3.187613e-07        |\n",
       "| 79 |    0                 |    0                 | 4185.0               | 3141.0               | 2008                 | 23.0                 | GD Harpur            | 34                   | Doctor of Philosophy | Female               | ...                  | 157.3401             | 154.9181             | -0.666497166         |  2.133606116         | -0.20165553          |  0.39605530          |  1.186502e+00        |  0.0000189473        |  4.961343e-07        | -3.187613e-07        |\n",
       "| 87 |    0                 |    0                 | 3141.0               | 3141.0               | 2008                 | 24.0                 | GD Harpur            | 35                   | Doctor of Philosophy | Male                 | ...                  | 157.3401             | 154.9181             | -0.534894186         |  1.127461555         | -0.20165553          |  0.12166590          |  1.616682e+00        |  0.0000189473        |  4.961343e-07        | -3.187613e-07        |\n",
       "| 89 |    0                 |    0                 | 6625.0               | 4968.0               | 2008                 | 22.0                 | GD Harpur            | 33                   | Doctor of Philosophy | Female               | ...                  | 157.3401             | 154.9181             | -0.798100147         |  0.110069652         | -0.20165553          | -0.25002612          | -2.545443e-07        |  0.0000189473        |  4.961343e-07        | -3.187613e-07        |\n",
       "| 94 |    0                 |    0                 | 4185.0               | 3141.0               | 2008                 | 23.0                 | GD Harpur            | 34                   | Doctor of Philosophy | Female               | ...                  | 157.3401             | 154.9181             | -0.666497166         |  0.265307664         | -0.20165553          | -0.26200793          |  8.886850e-01        |  0.0000189473        |  4.961343e-07        | -3.187613e-07        |\n",
       "| 95 |    0                 |    0                 | 4185.0               | 4185.0               | 2008                 | 24.0                 | GD Harpur            | 35                   | Doctor of Philosophy | Female               | ...                  | 157.3401             | 154.9181             | -0.534894186         | -0.103337716         | -0.20165553          | -0.47498955          |  1.285774e+00        |  0.0000189473        |  4.961343e-07        | -3.187613e-07        |\n",
       "| 96 |    0                 |    0                 | 4185.0               | 4185.0               | 2008                 | 22.0                 | GD Harpur            | 33                   | Doctor of Philosophy | Male                 | ...                  | 157.3401             | 154.9181             | -0.798100147         |  0.802078945         | -0.20165553          |  0.29460460          | -2.545443e-07        |  0.0000189473        |  4.961343e-07        | -3.187613e-07        |\n",
       "| 97 |    0                 |    0                 | 4968.0               |  552.0               | 2009                 | 28.0                 | GD Grad School       | 38                   | Doctor of Philosophy | Female               | ...                  | 157.3401             | 154.9181             | -0.008482265         | -0.150872623         |  0.01047784          |  1.77439832          |  8.225035e-01        |  0.0000189473        |  4.961343e-07        | -3.187613e-07        |\n",
       "| ... | ... | ... | ... | ... | ... | ... | ... | ... | ... | ... |     | ... | ... | ... | ... | ... | ... | ... | ... | ... | ... |\n",
       "| 1884 | 4935                       | 4935                       |    0.0                     |    0.0                     | 2012                       | 23.0                       | GD Nursing                 | 30                         | Doctor of Philosophy       | Female                     | ...                        | 157.3401                   | 154.9181                   | -0.6664972                 | -0.514831537               | 0.64687796                 | -0.45295818                |  3.426876e-01              | 1.89473e-05                | 4.961343e-07               | -3.187613e-07              |\n",
       "| 1902 |    0                       |    0                       |    0.0                     |  432.0                     | 2011                       | 38.0                       | GD Nursing                 | 46                         | Doctor of Philosophy       | Female                     | ...                        | 157.3401                   | 154.9181                   |  1.3075475                 | -0.411767684               | 0.43474459                 | -0.56331852                | -5.562889e-01              | 1.89473e-05                | 4.961343e-07               | -3.187613e-07              |\n",
       "| 1904 |    0                       |    0                       |    0.0                     |    0.0                     | 2010                       | 39.0                       | GD Nursing                 | 48                         | Doctor of Nursing Practice | Female                     | ...                        | 157.3401                   | 154.9181                   |  1.4391505                 | -0.461661488               | 0.22261122                 |  0.80625228                |  1.467773e+00              | 1.89473e-05                | 4.961343e-07               | -3.187613e-07              |\n",
       "| 1910 | 4185                       | 3839                       | 2092.5                     | 2092.5                     | 2009                       | 52.0                       | GD Nursing                 | 62                         | Doctor of Philosophy       | Female                     | ...                        | 157.3401                   | 154.9181                   |  3.1499893                 |  1.421970236               | 0.01047784                 |  0.43109618                |  5.246867e-01              | 1.89473e-05                | 4.961343e-07               | -3.187613e-07              |\n",
       "| 1915 |    0                       |    0                       |    0.0                     |    0.0                     | 2010                       | 46.0                       | GD Nursing                 | 55                         | Doctor of Nursing Practice | Female                     | ...                        | 157.3401                   | 154.9181                   |  2.3603714                 |  1.106993954               | 0.22261122                 |  0.81008895                | -2.364006e-01              | 1.89473e-05                | 4.961343e-07               | -3.187613e-07              |\n",
       "| 1918 |    0                       |    0                       |    0.0                     |    0.0                     | 2011                       | 43.0                       | GD Nursing                 | 51                         | Doctor of Nursing Practice | Female                     | ...                        | 157.3401                   | 154.9181                   |  1.9655624                 | -0.242413797               | 0.43474459                 |  0.33587580                | -3.246536e-01              | 1.89473e-05                | 4.961343e-07               | -3.187613e-07              |\n",
       "| 1926 | 5185                       | 5185                       |    0.0                     |    0.0                     | 2014                       | 23.0                       | GD Nursing                 | 28                         | Doctor of Philosophy       | Female                     | ...                        | 157.3401                   | 154.9181                   | -0.6664972                 | -0.859677915               | 1.07114471                 | -0.62555152                |  1.600136e+00              | 1.89473e-05                | 4.961343e-07               | -3.187613e-07              |\n",
       "| 1976 | 4077                       | 4077                       |    0.0                     |    0.0                     | 2016                       | 26.0                       | GD Nursing                 | 29                         | Doctor of Nursing Practice | Female                     | ...                        | 157.3401                   | 154.9181                   | -0.2716882                 | -0.506132387               | 1.49541146                 | -0.32241641                | -6.003989e-01              | 1.89473e-05                | 4.961343e-07               | -3.187613e-07              |\n",
       "| 2002 |    0                       |    0                       |    0.0                     |    0.0                     | 2010                       | 48.3                       | GD Nursing                 | 58                         | Doctor of Philosophy       | Female                     | ...                        | 157.3401                   | 154.9181                   |  2.6630582                 | -0.925761005               | 0.22261122                 | -0.63947555                | -2.545443e-07              | 1.89473e-05                | 4.961343e-07               | -3.187613e-07              |\n",
       "| 2025 |    0                       |    0                       |    0.0                     |    0.0                     | 2012                       | 32.0                       | GD Nursing                 | 39                         | Doctor of Nursing Practice | Female                     | ...                        | 157.3401                   | 154.9181                   |  0.5179297                 | -0.852161302               | 0.64687796                 | -0.73602830                | -7.989434e-01              | 1.89473e-05                | 4.961343e-07               | -3.187613e-07              |\n",
       "| 2078 |    0                       |    0                       |    0.0                     |    0.0                     | 2010                       | 51.0                       | GD Nursing                 | 60                         | Doctor of Nursing Practice | Female                     | ...                        | 157.3401                   | 154.9181                   |  3.0183863                 | -0.309226708               | 0.22261122                 | -0.55516078                | -2.545443e-07              | 1.89473e-05                | 4.961343e-07               | -3.187613e-07              |\n",
       "| 2079 |    0                       |    0                       |    0.0                     |    0.0                     | 2010                       | 63.0                       | GD Nursing                 | 72                         | Doctor of Nursing Practice | Female                     | ...                        | 157.3401                   | 154.9181                   |  4.5976220                 | -0.404917352               | 0.22261122                 |  0.98301733                | -2.545443e-07              | 1.89473e-05                | 4.961343e-07               | -3.187613e-07              |\n",
       "| 2084 | 4935                       | 4935                       | 5185.0                     | 4752.0                     | 2013                       | 25.0                       | GD Nursing                 | 31                         | Doctor of Philosophy       | Male                       | ...                        | 157.3401                   | 154.9181                   | -0.4032912                 | -0.707262990               | 0.85901134                 | -0.64575304                | -9.313064e-01              | 1.89473e-05                | 4.961343e-07               | -3.187613e-07              |\n",
       "| 2107 |    0                       |    0                       |    0.0                     |    0.0                     | 2013                       | 40.0                       | GD Nursing                 | 46                         | Doctor of Philosophy       | Female                     | ...                        | 157.3401                   | 154.9181                   |  1.5707535                 | -0.530936988               | 0.85901134                 |  0.59045047                |  1.178005e-02              | 1.89473e-05                | 4.961343e-07               | -3.187613e-07              |\n",
       "| 2124 |    0                       |    0                       |    0.0                     |    0.0                     | 2012                       | 23.0                       | GD Nursing                 | 30                         | Doctor of Nursing Practice | Female                     | ...                        | 157.3401                   | 154.9181                   | -0.6664972                 | -0.982904467               | 0.64687796                 | -0.81748455                |  1.275977e-01              | 1.89473e-05                | 4.961343e-07               | -3.187613e-07              |\n",
       "| 2144 |    0                       |    0                       |    0.0                     |    0.0                     | 2011                       | 44.0                       | GD Nursing                 | 52                         | Doctor of Nursing Practice | Female                     | ...                        | 157.3401                   | 154.9181                   |  2.0971654                 | -0.847998154               | 0.43474459                 | -0.39723457                |  1.467773e+00              | 1.89473e-05                | 4.961343e-07               | -3.187613e-07              |\n",
       "| 2148 | 5000                       | 5000                       |    0.0                     |    0.0                     | 2014                       | 29.0                       | GD Nursing                 | 34                         | Doctor of Nursing Practice | Female                     | ...                        | 157.3401                   | 154.9181                   |  0.1231207                 |  1.054324718               | 1.07114471                 | -0.02420671                | -6.665804e-01              | 1.89473e-05                | 4.961343e-07               | -3.187613e-07              |\n",
       "| 2151 |    0                       |    0                       |    0.0                     |    0.0                     | 2012                       | 60.0                       | GD Nursing                 | 67                         | Doctor of Nursing Practice | Female                     | ...                        | 157.3401                   | 154.9181                   |  4.2028131                 | -0.109766218               | 0.64687796                 |  0.08916026                | -1.394577e+00              | 1.89473e-05                | 4.961343e-07               | -3.187613e-07              |\n",
       "| 2163 | 8712                       |    0                       |    0.0                     |    0.0                     | 2013                       | 46.0                       | GD Nursing                 | 52                         | Doctor of Nursing Practice | Male                       | ...                        | 157.3401                   | 154.9181                   |  2.3603714                 | -0.807575679               | 0.85901134                 | -0.68094180                | -2.288027e+00              | 1.89473e-05                | 4.961343e-07               | -3.187613e-07              |\n",
       "| 2221 |    0                       |    0                       |    0.0                     |    0.0                     | 2012                       | 56.0                       | GD Nursing                 | 63                         | Doctor of Nursing Practice | Female                     | ...                        | 157.3401                   | 154.9181                   |  3.6764012                 | -0.358608666               | 0.64687796                 |  1.12727466                |  3.426876e-01              | 1.89473e-05                | 4.961343e-07               | -3.187613e-07              |\n",
       "| 2231 |    0                       |    0                       |    0.0                     |    0.0                     | 2015                       | 40.0                       | GD Nursing                 | 44                         | Doctor of Nursing Practice | Male                       | ...                        | 157.3401                   | 154.9181                   |  1.5707535                 | -0.666222772               | 1.28327808                 | -0.62018396                | -1.435940e+00              | 1.89473e-05                | 4.961343e-07               | -3.187613e-07              |\n",
       "| 2276 | 5185                       | 4320                       | 3171.0                     | 3171.0                     | 2013                       | 33.0                       | GD Nursing                 | 39                         | Doctor of Philosophy       | Female                     | ...                        | 157.3401                   | 154.9181                   |  0.6495326                 | -0.806692747               | 0.85901134                 | -0.72599764                | -1.278759e+00              | 1.89473e-05                | 4.961343e-07               | -3.187613e-07              |\n",
       "| 2322 |    0                       | 8325                       | 8325.0                     |    0.0                     | 2014                       | 27.0                       | GD Nursing                 | 32                         | Doctor of Philosophy       | Female                     | ...                        | 157.3401                   | 154.9181                   | -0.1400852                 |  0.218241801               | 1.07114471                 |  0.11794552                |  3.592330e-01              | 1.89473e-05                | 4.961343e-07               | -3.187613e-07              |\n",
       "| 2323 | 5435                       | 5545                       | 4158.0                     |    0.0                     | 2017                       | 34.3                       | GD Nursing                 | 37                         | Doctor of Philosophy       | Female                     | ...                        | 157.3401                   | 154.9181                   |  0.8206165                 |  0.003525258               | 1.70754483                 | -0.20291425                | -1.477304e+00              | 1.89473e-05                | 4.961343e-07               | -3.187613e-07              |\n",
       "| 2325 |    0                       | 1296                       |    0.0                     |    0.0                     | 2014                       | 31.0                       | GD Nursing                 | 36                         | Doctor of Philosophy       | Female                     | ...                        | 157.3401                   | 154.9181                   |  0.3863267                 | -0.813558964               | 1.07114471                 | -0.64164044                | -2.959640e-01              | 1.89473e-05                | 4.961343e-07               | -3.187613e-07              |\n",
       "| 2389 |    0                       |    0                       |    0.0                     |    0.0                     | 2017                       | 53.3                       | GD Nursing                 | 56                         | Doctor of Philosophy       | Female                     | ...                        | 157.3401                   | 154.9181                   |  3.3210731                 | -0.462323356               | 1.70754483                 | -0.41206579                | -1.725485e+00              | 1.89473e-05                | 4.961343e-07               | -3.187613e-07              |\n",
       "| 2427 |    0                       |    0                       |    0.0                     |    0.0                     | 2016                       | 47.0                       | GD Nursing                 | 50                         | Doctor of Philosophy       | Female                     | ...                        | 157.3401                   | 154.9181                   |  2.4919744                 | -0.799655327               | 1.49541146                 | -0.24664064                | -3.137368e+00              | 1.89473e-05                | 4.961343e-07               | -3.187613e-07              |\n",
       "| 2455 |    0                       |    0                       |    0.0                     |    0.0                     | 2018                       | 29.3                       | GD Nursing                 | 31                         | Doctor of Philosophy       | Male                       | ...                        | 157.3401                   | 154.9181                   |  0.1626016                 | -0.384081753               | 1.91967820                 |  1.04792282                | -2.694914e-01              | 1.89473e-05                | 4.961343e-07               | -3.187613e-07              |\n",
       "| 2456 |    0                       |    0                       |    0.0                     |    0.0                     | 2018                       | 27.3                       | GD Nursing                 | 29                         | Doctor of Philosophy       | Male                       | ...                        | 157.3401                   | 154.9181                   | -0.1006044                 | -0.517686394               | 1.91967820                 |  0.63172772                | -3.785608e-02              | 1.89473e-05                | 4.961343e-07               | -3.187613e-07              |\n",
       "| 2468 |    0                       |    0                       |    0.0                     |    0.0                     | 2018                       | 26.0                       | GD Nursing                 | 27                         | Doctor of Philosophy       | Female                     | ...                        | 157.3401                   | 154.9181                   | -0.2716882                 | -0.039654558               | 1.91967820                 |  2.12085645                |  9.107566e-01              | 1.89473e-05                | 4.961343e-07               | -3.187613e-07              |\n",
       "\n"
      ],
      "text/plain": [
       "     X1st_Term_Funding X2nd_Term_Funding X3rd_Term_Funding X4th_Term_Funding\n",
       "1    4685              4935              4110.0             432.0           \n",
       "3    4685              4685              3699.0            3699.0           \n",
       "4    4685              4685              3699.0            3699.0           \n",
       "11   3699              3699               432.0             432.0           \n",
       "12   8325              8325               925.0             925.0           \n",
       "14      0                 0              3141.0            3141.0           \n",
       "23      0                 0              3141.0            3141.0           \n",
       "26      0                 0              4968.0            4968.0           \n",
       "29   4968              6072              5166.0            5683.2           \n",
       "32      0                 0                 0.0            4968.0           \n",
       "35   4185              4185              3141.0            3330.0           \n",
       "36      0                 0                 0.0            4968.0           \n",
       "41      0                 0              3350.4            3350.4           \n",
       "51      0                 0                 0.0            4968.0           \n",
       "55      0                 0              4968.0            4968.0           \n",
       "62      0                 0              4968.0            4968.0           \n",
       "65      0                 0              4185.0            3141.0           \n",
       "66      0                 0              4185.0            3141.0           \n",
       "68      0                 0              4185.0            3141.0           \n",
       "69   3141               349               370.0             370.0           \n",
       "72      0              3141              3141.0             349.0           \n",
       "76      0                 0              4968.0            4968.0           \n",
       "77      0                 0              4185.0            4185.0           \n",
       "79      0                 0              4185.0            3141.0           \n",
       "87      0                 0              3141.0            3141.0           \n",
       "89      0                 0              6625.0            4968.0           \n",
       "94      0                 0              4185.0            3141.0           \n",
       "95      0                 0              4185.0            4185.0           \n",
       "96      0                 0              4185.0            4185.0           \n",
       "97      0                 0              4968.0             552.0           \n",
       "...  ...               ...               ...               ...              \n",
       "1884 4935              4935                 0.0               0.0           \n",
       "1902    0                 0                 0.0             432.0           \n",
       "1904    0                 0                 0.0               0.0           \n",
       "1910 4185              3839              2092.5            2092.5           \n",
       "1915    0                 0                 0.0               0.0           \n",
       "1918    0                 0                 0.0               0.0           \n",
       "1926 5185              5185                 0.0               0.0           \n",
       "1976 4077              4077                 0.0               0.0           \n",
       "2002    0                 0                 0.0               0.0           \n",
       "2025    0                 0                 0.0               0.0           \n",
       "2078    0                 0                 0.0               0.0           \n",
       "2079    0                 0                 0.0               0.0           \n",
       "2084 4935              4935              5185.0            4752.0           \n",
       "2107    0                 0                 0.0               0.0           \n",
       "2124    0                 0                 0.0               0.0           \n",
       "2144    0                 0                 0.0               0.0           \n",
       "2148 5000              5000                 0.0               0.0           \n",
       "2151    0                 0                 0.0               0.0           \n",
       "2163 8712                 0                 0.0               0.0           \n",
       "2221    0                 0                 0.0               0.0           \n",
       "2231    0                 0                 0.0               0.0           \n",
       "2276 5185              4320              3171.0            3171.0           \n",
       "2322    0              8325              8325.0               0.0           \n",
       "2323 5435              5545              4158.0               0.0           \n",
       "2325    0              1296                 0.0               0.0           \n",
       "2389    0                 0                 0.0               0.0           \n",
       "2427    0                 0                 0.0               0.0           \n",
       "2455    0                 0                 0.0               0.0           \n",
       "2456    0                 0                 0.0               0.0           \n",
       "2468    0                 0                 0.0               0.0           \n",
       "     Start_year Start_age College        Age Degree                     Gender\n",
       "1    2013       22.3      GD Harpur      29  Doctor of Philosophy       Male  \n",
       "3    2012       22.0      GD Harpur      29  Doctor of Philosophy       Female\n",
       "4    2012       23.0      GD Harpur      30  Doctor of Philosophy       Female\n",
       "11   2013       23.0      GD Harpur      29  Doctor of Philosophy       Male  \n",
       "12   2013       23.0      GD Harpur      29  Doctor of Philosophy       Female\n",
       "14   2008       22.0      GD Harpur      33  Doctor of Philosophy       Female\n",
       "23   2008       33.0      GD Harpur      44  Doctor of Philosophy       Male  \n",
       "26   2008       22.0      GD Harpur      33  Doctor of Philosophy       Female\n",
       "29   2009       24.0      GD Grad School 34  Doctor of Philosophy       Male  \n",
       "32   2008       23.3      GD Harpur      35  Doctor of Philosophy       Female\n",
       "35   2010       28.3      GD Harpur      38  Doctor of Philosophy       Male  \n",
       "36   2008       27.3      GD Harpur      39  Doctor of Philosophy       Female\n",
       "41   2008       22.0      GD Harpur      33  Doctor of Philosophy       Female\n",
       "51   2008       25.3      GD Grad School 37  Doctor of Philosophy       Male  \n",
       "55   2008       26.0      GD Harpur      37  Doctor of Philosophy       Male  \n",
       "62   2009       25.0      GD Grad School 35  Doctor of Philosophy       Male  \n",
       "65   2008       22.0      GD Harpur      33  Doctor of Philosophy       Female\n",
       "66   2008       26.0      GD Harpur      37  Doctor of Philosophy       Male  \n",
       "68   2008       22.0      GD Harpur      33  Doctor of Philosophy       Female\n",
       "69   2008       23.0      GD Harpur      34  Doctor of Philosophy       Male  \n",
       "72   2009       47.0      GD Grad School 57  Doctor of Philosophy       Female\n",
       "76   2008       27.0      GD Harpur      38  Doctor of Philosophy       Male  \n",
       "77   2008       27.0      GD Harpur      38  Doctor of Philosophy       Male  \n",
       "79   2008       23.0      GD Harpur      34  Doctor of Philosophy       Female\n",
       "87   2008       24.0      GD Harpur      35  Doctor of Philosophy       Male  \n",
       "89   2008       22.0      GD Harpur      33  Doctor of Philosophy       Female\n",
       "94   2008       23.0      GD Harpur      34  Doctor of Philosophy       Female\n",
       "95   2008       24.0      GD Harpur      35  Doctor of Philosophy       Female\n",
       "96   2008       22.0      GD Harpur      33  Doctor of Philosophy       Male  \n",
       "97   2009       28.0      GD Grad School 38  Doctor of Philosophy       Female\n",
       "...  ...        ...       ...            ... ...                        ...   \n",
       "1884 2012       23.0      GD Nursing     30  Doctor of Philosophy       Female\n",
       "1902 2011       38.0      GD Nursing     46  Doctor of Philosophy       Female\n",
       "1904 2010       39.0      GD Nursing     48  Doctor of Nursing Practice Female\n",
       "1910 2009       52.0      GD Nursing     62  Doctor of Philosophy       Female\n",
       "1915 2010       46.0      GD Nursing     55  Doctor of Nursing Practice Female\n",
       "1918 2011       43.0      GD Nursing     51  Doctor of Nursing Practice Female\n",
       "1926 2014       23.0      GD Nursing     28  Doctor of Philosophy       Female\n",
       "1976 2016       26.0      GD Nursing     29  Doctor of Nursing Practice Female\n",
       "2002 2010       48.3      GD Nursing     58  Doctor of Philosophy       Female\n",
       "2025 2012       32.0      GD Nursing     39  Doctor of Nursing Practice Female\n",
       "2078 2010       51.0      GD Nursing     60  Doctor of Nursing Practice Female\n",
       "2079 2010       63.0      GD Nursing     72  Doctor of Nursing Practice Female\n",
       "2084 2013       25.0      GD Nursing     31  Doctor of Philosophy       Male  \n",
       "2107 2013       40.0      GD Nursing     46  Doctor of Philosophy       Female\n",
       "2124 2012       23.0      GD Nursing     30  Doctor of Nursing Practice Female\n",
       "2144 2011       44.0      GD Nursing     52  Doctor of Nursing Practice Female\n",
       "2148 2014       29.0      GD Nursing     34  Doctor of Nursing Practice Female\n",
       "2151 2012       60.0      GD Nursing     67  Doctor of Nursing Practice Female\n",
       "2163 2013       46.0      GD Nursing     52  Doctor of Nursing Practice Male  \n",
       "2221 2012       56.0      GD Nursing     63  Doctor of Nursing Practice Female\n",
       "2231 2015       40.0      GD Nursing     44  Doctor of Nursing Practice Male  \n",
       "2276 2013       33.0      GD Nursing     39  Doctor of Philosophy       Female\n",
       "2322 2014       27.0      GD Nursing     32  Doctor of Philosophy       Female\n",
       "2323 2017       34.3      GD Nursing     37  Doctor of Philosophy       Female\n",
       "2325 2014       31.0      GD Nursing     36  Doctor of Philosophy       Female\n",
       "2389 2017       53.3      GD Nursing     56  Doctor of Philosophy       Female\n",
       "2427 2016       47.0      GD Nursing     50  Doctor of Philosophy       Female\n",
       "2455 2018       29.3      GD Nursing     31  Doctor of Philosophy       Male  \n",
       "2456 2018       27.3      GD Nursing     29  Doctor of Philosophy       Male  \n",
       "2468 2018       26.0      GD Nursing     27  Doctor of Philosophy       Female\n",
       "     ... GRE.Combined.Quantitative.Score GRE.Combined.General.Verbal.Score\n",
       "1    ... 159.0000                        160.0000                         \n",
       "3    ... 155.0000                        147.0000                         \n",
       "4    ... 159.0000                        170.0000                         \n",
       "11   ... 159.0000                        163.0000                         \n",
       "12   ... 166.0000                        170.0000                         \n",
       "14   ... 157.3401                        154.9181                         \n",
       "23   ... 157.3401                        154.9181                         \n",
       "26   ... 157.3401                        154.9181                         \n",
       "29   ... 157.3401                        154.9181                         \n",
       "32   ... 157.3401                        154.9181                         \n",
       "35   ... 149.0000                        156.0000                         \n",
       "36   ... 157.3401                        154.9181                         \n",
       "41   ... 157.3401                        154.9181                         \n",
       "51   ... 157.3401                        154.9181                         \n",
       "55   ... 157.3401                        154.9181                         \n",
       "62   ... 157.3401                        154.9181                         \n",
       "65   ... 157.3401                        154.9181                         \n",
       "66   ... 157.3401                        154.9181                         \n",
       "68   ... 157.3401                        154.9181                         \n",
       "69   ... 157.3401                        154.9181                         \n",
       "72   ... 157.3401                        154.9181                         \n",
       "76   ... 157.3401                        154.9181                         \n",
       "77   ... 157.3401                        154.9181                         \n",
       "79   ... 157.3401                        154.9181                         \n",
       "87   ... 157.3401                        154.9181                         \n",
       "89   ... 157.3401                        154.9181                         \n",
       "94   ... 157.3401                        154.9181                         \n",
       "95   ... 157.3401                        154.9181                         \n",
       "96   ... 157.3401                        154.9181                         \n",
       "97   ... 157.3401                        154.9181                         \n",
       "...      ...                             ...                              \n",
       "1884 ... 157.3401                        154.9181                         \n",
       "1902 ... 157.3401                        154.9181                         \n",
       "1904 ... 157.3401                        154.9181                         \n",
       "1910 ... 157.3401                        154.9181                         \n",
       "1915 ... 157.3401                        154.9181                         \n",
       "1918 ... 157.3401                        154.9181                         \n",
       "1926 ... 157.3401                        154.9181                         \n",
       "1976 ... 157.3401                        154.9181                         \n",
       "2002 ... 157.3401                        154.9181                         \n",
       "2025 ... 157.3401                        154.9181                         \n",
       "2078 ... 157.3401                        154.9181                         \n",
       "2079 ... 157.3401                        154.9181                         \n",
       "2084 ... 157.3401                        154.9181                         \n",
       "2107 ... 157.3401                        154.9181                         \n",
       "2124 ... 157.3401                        154.9181                         \n",
       "2144 ... 157.3401                        154.9181                         \n",
       "2148 ... 157.3401                        154.9181                         \n",
       "2151 ... 157.3401                        154.9181                         \n",
       "2163 ... 157.3401                        154.9181                         \n",
       "2221 ... 157.3401                        154.9181                         \n",
       "2231 ... 157.3401                        154.9181                         \n",
       "2276 ... 157.3401                        154.9181                         \n",
       "2322 ... 157.3401                        154.9181                         \n",
       "2323 ... 157.3401                        154.9181                         \n",
       "2325 ... 157.3401                        154.9181                         \n",
       "2389 ... 157.3401                        154.9181                         \n",
       "2427 ... 157.3401                        154.9181                         \n",
       "2455 ... 157.3401                        154.9181                         \n",
       "2456 ... 157.3401                        154.9181                         \n",
       "2468 ... 157.3401                        154.9181                         \n",
       "     s_start_age  s_net_cost   s_start_year avs_net_cost s_Average.Precol.GPA\n",
       "1    -0.758619253 -0.826374490  0.85901134  -0.65494776   9.450694e-02       \n",
       "3    -0.798100147 -0.732387052  0.64687796  -0.68741906   2.832543e-02       \n",
       "4    -0.666497166 -0.731452053  0.64687796  -0.68693362   1.732499e+00       \n",
       "11   -0.666497166  1.846713327  0.85901134   3.58982146  -9.643972e-01       \n",
       "12   -0.666497166 -0.664944044  0.85901134  -0.65240349   7.894128e-01       \n",
       "14   -0.798100147  0.115601102 -0.20165553  -0.24715426  -2.545443e-07       \n",
       "23    0.649532636 -0.429510596 -0.20165553  -0.38651183  -2.545443e-07       \n",
       "26   -0.798100147 -0.170550395 -0.20165553  -0.18483851  -2.545443e-07       \n",
       "29   -0.534894186 -0.245971116  0.01047784  -0.05227148   6.141618e-02       \n",
       "32   -0.627016272  0.214431648 -0.20165553  -0.07151431  -2.545443e-07       \n",
       "35    0.030998629 -0.759549225  0.22261122  -0.67832867  -2.364006e-01       \n",
       "36   -0.100604351  0.372693072 -0.20165553   0.23822926  -2.545443e-07       \n",
       "41   -0.798100147 -0.383883193 -0.20165553  -0.35097807   1.937792e-01       \n",
       "51   -0.363810312  0.072123887 -0.20165553   0.27803038   6.141618e-02       \n",
       "55   -0.271688226  0.007898439 -0.20165553  -0.04586592  -3.687636e-01       \n",
       "62   -0.403291206 -0.113066732  0.01047784   1.89216838   2.268700e-01       \n",
       "65   -0.798100147  2.068813668 -0.20165553   0.37082573   6.901405e-01       \n",
       "66   -0.271688226 -0.205667337 -0.20165553  -0.41395280  -2.545443e-07       \n",
       "68   -0.798100147  2.325795767 -0.20165553   0.47089214   7.563220e-01       \n",
       "69   -0.666497166 -0.465524590 -0.20165553  -0.28025029  -2.545443e-07       \n",
       "72    2.491974360 -0.668504010  0.01047784   0.16191205   1.649772e+00       \n",
       "76   -0.140085245  0.136963990 -0.20165553  -0.23606292  -2.545443e-07       \n",
       "77   -0.140085245  0.681675038 -0.20165553   0.21958996   8.225035e-01       \n",
       "79   -0.666497166  2.133606116 -0.20165553   0.39605530   1.186502e+00       \n",
       "87   -0.534894186  1.127461555 -0.20165553   0.12166590   1.616682e+00       \n",
       "89   -0.798100147  0.110069652 -0.20165553  -0.25002612  -2.545443e-07       \n",
       "94   -0.666497166  0.265307664 -0.20165553  -0.26200793   8.886850e-01       \n",
       "95   -0.534894186 -0.103337716 -0.20165553  -0.47498955   1.285774e+00       \n",
       "96   -0.798100147  0.802078945 -0.20165553   0.29460460  -2.545443e-07       \n",
       "97   -0.008482265 -0.150872623  0.01047784   1.77439832   8.225035e-01       \n",
       "...  ...          ...          ...          ...          ...                 \n",
       "1884 -0.6664972   -0.514831537 0.64687796   -0.45295818   3.426876e-01       \n",
       "1902  1.3075475   -0.411767684 0.43474459   -0.56331852  -5.562889e-01       \n",
       "1904  1.4391505   -0.461661488 0.22261122    0.80625228   1.467773e+00       \n",
       "1910  3.1499893    1.421970236 0.01047784    0.43109618   5.246867e-01       \n",
       "1915  2.3603714    1.106993954 0.22261122    0.81008895  -2.364006e-01       \n",
       "1918  1.9655624   -0.242413797 0.43474459    0.33587580  -3.246536e-01       \n",
       "1926 -0.6664972   -0.859677915 1.07114471   -0.62555152   1.600136e+00       \n",
       "1976 -0.2716882   -0.506132387 1.49541146   -0.32241641  -6.003989e-01       \n",
       "2002  2.6630582   -0.925761005 0.22261122   -0.63947555  -2.545443e-07       \n",
       "2025  0.5179297   -0.852161302 0.64687796   -0.73602830  -7.989434e-01       \n",
       "2078  3.0183863   -0.309226708 0.22261122   -0.55516078  -2.545443e-07       \n",
       "2079  4.5976220   -0.404917352 0.22261122    0.98301733  -2.545443e-07       \n",
       "2084 -0.4032912   -0.707262990 0.85901134   -0.64575304  -9.313064e-01       \n",
       "2107  1.5707535   -0.530936988 0.85901134    0.59045047   1.178005e-02       \n",
       "2124 -0.6664972   -0.982904467 0.64687796   -0.81748455   1.275977e-01       \n",
       "2144  2.0971654   -0.847998154 0.43474459   -0.39723457   1.467773e+00       \n",
       "2148  0.1231207    1.054324718 1.07114471   -0.02420671  -6.665804e-01       \n",
       "2151  4.2028131   -0.109766218 0.64687796    0.08916026  -1.394577e+00       \n",
       "2163  2.3603714   -0.807575679 0.85901134   -0.68094180  -2.288027e+00       \n",
       "2221  3.6764012   -0.358608666 0.64687796    1.12727466   3.426876e-01       \n",
       "2231  1.5707535   -0.666222772 1.28327808   -0.62018396  -1.435940e+00       \n",
       "2276  0.6495326   -0.806692747 0.85901134   -0.72599764  -1.278759e+00       \n",
       "2322 -0.1400852    0.218241801 1.07114471    0.11794552   3.592330e-01       \n",
       "2323  0.8206165    0.003525258 1.70754483   -0.20291425  -1.477304e+00       \n",
       "2325  0.3863267   -0.813558964 1.07114471   -0.64164044  -2.959640e-01       \n",
       "2389  3.3210731   -0.462323356 1.70754483   -0.41206579  -1.725485e+00       \n",
       "2427  2.4919744   -0.799655327 1.49541146   -0.24664064  -3.137368e+00       \n",
       "2455  0.1626016   -0.384081753 1.91967820    1.04792282  -2.694914e-01       \n",
       "2456 -0.1006044   -0.517686394 1.91967820    0.63172772  -3.785608e-02       \n",
       "2468 -0.2716882   -0.039654558 1.91967820    2.12085645   9.107566e-01       \n",
       "     s_GRE.Combined.General.Write.Score s_GRE.Combined.Quantitative.Score\n",
       "1    -0.5485791332                       8.546803e-02                    \n",
       "3     0.3180845011                      -1.204902e-01                    \n",
       "4     2.9180754037                       8.546803e-02                    \n",
       "11    0.3180845011                       8.546803e-02                    \n",
       "12   -1.4152427674                       4.458950e-01                    \n",
       "14    0.0000189473                       4.961343e-07                    \n",
       "23    0.0000189473                       4.961343e-07                    \n",
       "26    0.0000189473                       4.961343e-07                    \n",
       "29    0.0000189473                       4.961343e-07                    \n",
       "32    0.0000189473                       4.961343e-07                    \n",
       "35    1.1847481353                      -4.294277e-01                    \n",
       "36    0.0000189473                       4.961343e-07                    \n",
       "41    0.0000189473                       4.961343e-07                    \n",
       "51    0.0000189473                       4.961343e-07                    \n",
       "55    0.0000189473                       4.961343e-07                    \n",
       "62    0.0000189473                       4.961343e-07                    \n",
       "65    0.0000189473                       4.961343e-07                    \n",
       "66    0.0000189473                       4.961343e-07                    \n",
       "68    0.0000189473                       4.961343e-07                    \n",
       "69    0.0000189473                       4.961343e-07                    \n",
       "72    0.0000189473                       4.961343e-07                    \n",
       "76    0.0000189473                       4.961343e-07                    \n",
       "77    0.0000189473                       4.961343e-07                    \n",
       "79    0.0000189473                       4.961343e-07                    \n",
       "87    0.0000189473                       4.961343e-07                    \n",
       "89    0.0000189473                       4.961343e-07                    \n",
       "94    0.0000189473                       4.961343e-07                    \n",
       "95    0.0000189473                       4.961343e-07                    \n",
       "96    0.0000189473                       4.961343e-07                    \n",
       "97    0.0000189473                       4.961343e-07                    \n",
       "...  ...                                ...                              \n",
       "1884 1.89473e-05                        4.961343e-07                     \n",
       "1902 1.89473e-05                        4.961343e-07                     \n",
       "1904 1.89473e-05                        4.961343e-07                     \n",
       "1910 1.89473e-05                        4.961343e-07                     \n",
       "1915 1.89473e-05                        4.961343e-07                     \n",
       "1918 1.89473e-05                        4.961343e-07                     \n",
       "1926 1.89473e-05                        4.961343e-07                     \n",
       "1976 1.89473e-05                        4.961343e-07                     \n",
       "2002 1.89473e-05                        4.961343e-07                     \n",
       "2025 1.89473e-05                        4.961343e-07                     \n",
       "2078 1.89473e-05                        4.961343e-07                     \n",
       "2079 1.89473e-05                        4.961343e-07                     \n",
       "2084 1.89473e-05                        4.961343e-07                     \n",
       "2107 1.89473e-05                        4.961343e-07                     \n",
       "2124 1.89473e-05                        4.961343e-07                     \n",
       "2144 1.89473e-05                        4.961343e-07                     \n",
       "2148 1.89473e-05                        4.961343e-07                     \n",
       "2151 1.89473e-05                        4.961343e-07                     \n",
       "2163 1.89473e-05                        4.961343e-07                     \n",
       "2221 1.89473e-05                        4.961343e-07                     \n",
       "2231 1.89473e-05                        4.961343e-07                     \n",
       "2276 1.89473e-05                        4.961343e-07                     \n",
       "2322 1.89473e-05                        4.961343e-07                     \n",
       "2323 1.89473e-05                        4.961343e-07                     \n",
       "2325 1.89473e-05                        4.961343e-07                     \n",
       "2389 1.89473e-05                        4.961343e-07                     \n",
       "2427 1.89473e-05                        4.961343e-07                     \n",
       "2455 1.89473e-05                        4.961343e-07                     \n",
       "2456 1.89473e-05                        4.961343e-07                     \n",
       "2468 1.89473e-05                        4.961343e-07                     \n",
       "     s_GRE.Combined.General.Verbal.Score\n",
       "1     3.279657e-01                      \n",
       "3    -5.110037e-01                      \n",
       "4     9.733268e-01                      \n",
       "11    5.215741e-01                      \n",
       "12    9.733268e-01                      \n",
       "14   -3.187613e-07                      \n",
       "23   -3.187613e-07                      \n",
       "26   -3.187613e-07                      \n",
       "29   -3.187613e-07                      \n",
       "32   -3.187613e-07                      \n",
       "35    6.982130e-02                      \n",
       "36   -3.187613e-07                      \n",
       "41   -3.187613e-07                      \n",
       "51   -3.187613e-07                      \n",
       "55   -3.187613e-07                      \n",
       "62   -3.187613e-07                      \n",
       "65   -3.187613e-07                      \n",
       "66   -3.187613e-07                      \n",
       "68   -3.187613e-07                      \n",
       "69   -3.187613e-07                      \n",
       "72   -3.187613e-07                      \n",
       "76   -3.187613e-07                      \n",
       "77   -3.187613e-07                      \n",
       "79   -3.187613e-07                      \n",
       "87   -3.187613e-07                      \n",
       "89   -3.187613e-07                      \n",
       "94   -3.187613e-07                      \n",
       "95   -3.187613e-07                      \n",
       "96   -3.187613e-07                      \n",
       "97   -3.187613e-07                      \n",
       "...  ...                                \n",
       "1884 -3.187613e-07                      \n",
       "1902 -3.187613e-07                      \n",
       "1904 -3.187613e-07                      \n",
       "1910 -3.187613e-07                      \n",
       "1915 -3.187613e-07                      \n",
       "1918 -3.187613e-07                      \n",
       "1926 -3.187613e-07                      \n",
       "1976 -3.187613e-07                      \n",
       "2002 -3.187613e-07                      \n",
       "2025 -3.187613e-07                      \n",
       "2078 -3.187613e-07                      \n",
       "2079 -3.187613e-07                      \n",
       "2084 -3.187613e-07                      \n",
       "2107 -3.187613e-07                      \n",
       "2124 -3.187613e-07                      \n",
       "2144 -3.187613e-07                      \n",
       "2148 -3.187613e-07                      \n",
       "2151 -3.187613e-07                      \n",
       "2163 -3.187613e-07                      \n",
       "2221 -3.187613e-07                      \n",
       "2231 -3.187613e-07                      \n",
       "2276 -3.187613e-07                      \n",
       "2322 -3.187613e-07                      \n",
       "2323 -3.187613e-07                      \n",
       "2325 -3.187613e-07                      \n",
       "2389 -3.187613e-07                      \n",
       "2427 -3.187613e-07                      \n",
       "2455 -3.187613e-07                      \n",
       "2456 -3.187613e-07                      \n",
       "2468 -3.187613e-07                      "
      ]
     },
     "metadata": {},
     "output_type": "display_data"
    }
   ],
   "source": [
    "df1 = rbind(Harpur_sciences, Harpur_arts, Management_df, Watson_df, Nursing_df)\n",
    "df1"
   ]
  },
  {
   "cell_type": "markdown",
   "metadata": {},
   "source": [
    "# Harpur Sciences Analysis"
   ]
  },
  {
   "cell_type": "markdown",
   "metadata": {},
   "source": [
    "Won't use Degree column since it does not accurately show the student's major"
   ]
  },
  {
   "cell_type": "markdown",
   "metadata": {},
   "source": [
    "<b> Logistic regression model:"
   ]
  },
  {
   "cell_type": "code",
   "execution_count": 21,
   "metadata": {},
   "outputs": [
    {
     "data": {
      "text/plain": [
       "\n",
       "Call:\n",
       "glm(formula = Y ~ s_start_age + factor(Gender) + factor(funding_indicator) + \n",
       "    factor(Citizenship) + avs_net_cost + s_Average.Precol.GPA + \n",
       "    s_GRE.Combined.General.Write.Score + s_GRE.Combined.Quantitative.Score + \n",
       "    s_GRE.Combined.General.Verbal.Score + factor(gap_indicator) + \n",
       "    GPA_trend + s_start_year, family = \"binomial\", data = Harpur_sciences)\n",
       "\n",
       "Deviance Residuals: \n",
       "    Min       1Q   Median       3Q      Max  \n",
       "-3.2437  -0.9592   0.5585   0.8648   2.1207  \n",
       "\n",
       "Coefficients:\n",
       "                                                 Estimate Std. Error z value\n",
       "(Intercept)                                     -0.436360   0.260852  -1.673\n",
       "s_start_age                                      0.150515   0.149366   1.008\n",
       "factor(Gender)Male                              -0.004027   0.165234  -0.024\n",
       "factor(funding_indicator)1                       1.295113   0.256252   5.054\n",
       "factor(Citizenship)Africa                        0.978364   0.479821   2.039\n",
       "factor(Citizenship)Asia                          0.261048   0.358038   0.729\n",
       "factor(Citizenship)Asian                        -0.363964   0.426528  -0.853\n",
       "factor(Citizenship)Black or African American     0.300014   0.527378   0.569\n",
       "factor(Citizenship)China                         0.533631   0.251002   2.126\n",
       "factor(Citizenship)Europe                        0.059662   0.438667   0.136\n",
       "factor(Citizenship)Hispanic or Latino           -0.747059   0.401425  -1.861\n",
       "factor(Citizenship)India                         0.513216   0.447194   1.148\n",
       "factor(Citizenship)Other International Students  0.203895   0.528717   0.386\n",
       "factor(Citizenship)Unknown                       0.348733   0.373261   0.934\n",
       "avs_net_cost                                     0.156160   0.106311   1.469\n",
       "s_Average.Precol.GPA                             0.044447   0.080381   0.553\n",
       "s_GRE.Combined.General.Write.Score              -0.021951   0.092843  -0.236\n",
       "s_GRE.Combined.Quantitative.Score               -0.010481   0.181436  -0.058\n",
       "s_GRE.Combined.General.Verbal.Score              0.082964   0.251030   0.330\n",
       "factor(gap_indicator)1                           0.649349   0.350566   1.852\n",
       "GPA_trend                                        1.073696   0.426502   2.517\n",
       "s_start_year                                    -1.341286   0.133406 -10.054\n",
       "                                                Pr(>|z|)    \n",
       "(Intercept)                                       0.0944 .  \n",
       "s_start_age                                       0.3136    \n",
       "factor(Gender)Male                                0.9806    \n",
       "factor(funding_indicator)1                      4.33e-07 ***\n",
       "factor(Citizenship)Africa                         0.0414 *  \n",
       "factor(Citizenship)Asia                           0.4659    \n",
       "factor(Citizenship)Asian                          0.3935    \n",
       "factor(Citizenship)Black or African American      0.5694    \n",
       "factor(Citizenship)China                          0.0335 *  \n",
       "factor(Citizenship)Europe                         0.8918    \n",
       "factor(Citizenship)Hispanic or Latino             0.0627 .  \n",
       "factor(Citizenship)India                          0.2511    \n",
       "factor(Citizenship)Other International Students   0.6998    \n",
       "factor(Citizenship)Unknown                        0.3502    \n",
       "avs_net_cost                                      0.1419    \n",
       "s_Average.Precol.GPA                              0.5803    \n",
       "s_GRE.Combined.General.Write.Score                0.8131    \n",
       "s_GRE.Combined.Quantitative.Score                 0.9539    \n",
       "s_GRE.Combined.General.Verbal.Score               0.7410    \n",
       "factor(gap_indicator)1                            0.0640 .  \n",
       "GPA_trend                                         0.0118 *  \n",
       "s_start_year                                     < 2e-16 ***\n",
       "---\n",
       "Signif. codes:  0 '***' 0.001 '**' 0.01 '*' 0.05 '.' 0.1 ' ' 1\n",
       "\n",
       "(Dispersion parameter for binomial family taken to be 1)\n",
       "\n",
       "    Null deviance: 1135.18  on 860  degrees of freedom\n",
       "Residual deviance:  953.96  on 839  degrees of freedom\n",
       "AIC: 997.96\n",
       "\n",
       "Number of Fisher Scoring iterations: 5\n"
      ]
     },
     "metadata": {},
     "output_type": "display_data"
    }
   ],
   "source": [
    "log_mod_h_s = glm(Y~s_start_age+factor(Gender)+factor(funding_indicator)+factor(Citizenship)+\n",
    "                avs_net_cost+s_Average.Precol.GPA+s_GRE.Combined.General.Write.Score+s_GRE.Combined.Quantitative.Score+s_GRE.Combined.General.Verbal.Score+\n",
    "                factor(gap_indicator)+GPA_trend+s_start_year,\n",
    "                data=Harpur_sciences,family=\"binomial\")\n",
    "summary(log_mod_h_s)"
   ]
  },
  {
   "cell_type": "markdown",
   "metadata": {},
   "source": [
    "<b> Significant Variables of logistic regression model: "
   ]
  },
  {
   "cell_type": "code",
   "execution_count": 22,
   "metadata": {},
   "outputs": [
    {
     "data": {
      "text/html": [
       "<table>\n",
       "<thead><tr><th></th><th scope=col>Estimate</th><th scope=col>Pr(&gt;|z|)</th></tr></thead>\n",
       "<tbody>\n",
       "\t<tr><th scope=row>factor(funding_indicator)1</th><td> 1.29511</td><td>0.00000 </td></tr>\n",
       "\t<tr><th scope=row>factor(Citizenship)Africa</th><td> 0.97836</td><td>0.04145 </td></tr>\n",
       "\t<tr><th scope=row>factor(Citizenship)China</th><td> 0.53363</td><td>0.03350 </td></tr>\n",
       "\t<tr><th scope=row>GPA_trend</th><td> 1.07370</td><td>0.01182 </td></tr>\n",
       "\t<tr><th scope=row>s_start_year</th><td>-1.34129</td><td>0.00000 </td></tr>\n",
       "</tbody>\n",
       "</table>\n"
      ],
      "text/latex": [
       "\\begin{tabular}{r|ll}\n",
       "  & Estimate & Pr(>\\textbar{}z\\textbar{})\\\\\n",
       "\\hline\n",
       "\tfactor(funding\\_indicator)1 &  1.29511 & 0.00000 \\\\\n",
       "\tfactor(Citizenship)Africa &  0.97836 & 0.04145 \\\\\n",
       "\tfactor(Citizenship)China &  0.53363 & 0.03350 \\\\\n",
       "\tGPA\\_trend &  1.07370 & 0.01182 \\\\\n",
       "\ts\\_start\\_year & -1.34129 & 0.00000 \\\\\n",
       "\\end{tabular}\n"
      ],
      "text/markdown": [
       "\n",
       "| <!--/--> | Estimate | Pr(>|z|) |\n",
       "|---|---|---|\n",
       "| factor(funding_indicator)1 |  1.29511 | 0.00000  |\n",
       "| factor(Citizenship)Africa |  0.97836 | 0.04145  |\n",
       "| factor(Citizenship)China |  0.53363 | 0.03350  |\n",
       "| GPA_trend |  1.07370 | 0.01182  |\n",
       "| s_start_year | -1.34129 | 0.00000  |\n",
       "\n"
      ],
      "text/plain": [
       "                           Estimate Pr(>|z|)\n",
       "factor(funding_indicator)1  1.29511 0.00000 \n",
       "factor(Citizenship)Africa   0.97836 0.04145 \n",
       "factor(Citizenship)China    0.53363 0.03350 \n",
       "GPA_trend                   1.07370 0.01182 \n",
       "s_start_year               -1.34129 0.00000 "
      ]
     },
     "metadata": {},
     "output_type": "display_data"
    }
   ],
   "source": [
    "round(summary(log_mod_h_s)$coeff[which(summary(log_mod_h_s)$coef[,4] <= .05),c(1,4)],5)"
   ]
  },
  {
   "cell_type": "markdown",
   "metadata": {},
   "source": [
    "Things we need\n",
    "-  Run AIC/BIC stepwise model selection for Harpur and summarize results\n",
    "-  Repeat for the other schools"
   ]
  },
  {
   "cell_type": "markdown",
   "metadata": {},
   "source": [
    "<b> Both AIC:"
   ]
  },
  {
   "cell_type": "code",
   "execution_count": 23,
   "metadata": {},
   "outputs": [
    {
     "name": "stdout",
     "output_type": "stream",
     "text": [
      "Start:  AIC=997.96\n",
      "Y ~ s_start_age + factor(Gender) + factor(funding_indicator) + \n",
      "    factor(Citizenship) + avs_net_cost + s_Average.Precol.GPA + \n",
      "    s_GRE.Combined.General.Write.Score + s_GRE.Combined.Quantitative.Score + \n",
      "    s_GRE.Combined.General.Verbal.Score + factor(gap_indicator) + \n",
      "    GPA_trend + s_start_year\n",
      "\n",
      "                                      Df Deviance     AIC\n",
      "- factor(Citizenship)                 10   970.03  994.03\n",
      "- factor(Gender)                       1   953.96  995.96\n",
      "- s_GRE.Combined.Quantitative.Score    1   953.96  995.96\n",
      "- s_GRE.Combined.General.Write.Score   1   954.02  996.02\n",
      "- s_GRE.Combined.General.Verbal.Score  1   954.07  996.07\n",
      "- s_Average.Precol.GPA                 1   954.27  996.27\n",
      "- s_start_age                          1   954.98  996.98\n",
      "<none>                                     953.96  997.96\n",
      "- avs_net_cost                         1   956.21  998.21\n",
      "- factor(gap_indicator)                1   957.71  999.71\n",
      "- GPA_trend                            1   960.96 1002.96\n",
      "- factor(funding_indicator)            1   980.19 1022.19\n",
      "- s_start_year                         1  1076.95 1118.95\n",
      "\n",
      "Step:  AIC=994.03\n",
      "Y ~ s_start_age + factor(Gender) + factor(funding_indicator) + \n",
      "    avs_net_cost + s_Average.Precol.GPA + s_GRE.Combined.General.Write.Score + \n",
      "    s_GRE.Combined.Quantitative.Score + s_GRE.Combined.General.Verbal.Score + \n",
      "    factor(gap_indicator) + GPA_trend + s_start_year\n",
      "\n",
      "                                      Df Deviance     AIC\n",
      "- factor(Gender)                       1   970.04  992.04\n",
      "- s_GRE.Combined.General.Verbal.Score  1   970.06  992.06\n",
      "- s_Average.Precol.GPA                 1   970.19  992.19\n",
      "- s_GRE.Combined.Quantitative.Score    1   970.33  992.33\n",
      "- s_GRE.Combined.General.Write.Score   1   971.62  993.62\n",
      "- s_start_age                          1   971.86  993.86\n",
      "<none>                                     970.03  994.03\n",
      "- avs_net_cost                         1   972.08  994.08\n",
      "- factor(gap_indicator)                1   973.39  995.39\n",
      "+ factor(Citizenship)                 10   953.96  997.96\n",
      "- GPA_trend                            1   976.53  998.53\n",
      "- factor(funding_indicator)            1   997.61 1019.61\n",
      "- s_start_year                         1  1101.13 1123.13\n",
      "\n",
      "Step:  AIC=992.04\n",
      "Y ~ s_start_age + factor(funding_indicator) + avs_net_cost + \n",
      "    s_Average.Precol.GPA + s_GRE.Combined.General.Write.Score + \n",
      "    s_GRE.Combined.Quantitative.Score + s_GRE.Combined.General.Verbal.Score + \n",
      "    factor(gap_indicator) + GPA_trend + s_start_year\n",
      "\n",
      "                                      Df Deviance     AIC\n",
      "- s_GRE.Combined.General.Verbal.Score  1   970.08  990.08\n",
      "- s_Average.Precol.GPA                 1   970.22  990.22\n",
      "- s_GRE.Combined.Quantitative.Score    1   970.34  990.34\n",
      "- s_GRE.Combined.General.Write.Score   1   971.65  991.65\n",
      "- s_start_age                          1   971.86  991.86\n",
      "<none>                                     970.04  992.04\n",
      "- avs_net_cost                         1   972.08  992.08\n",
      "- factor(gap_indicator)                1   973.42  993.42\n",
      "+ factor(Gender)                       1   970.03  994.03\n",
      "+ factor(Citizenship)                 10   953.96  995.96\n",
      "- GPA_trend                            1   976.68  996.68\n",
      "- factor(funding_indicator)            1   997.62 1017.62\n",
      "- s_start_year                         1  1101.67 1121.67\n",
      "\n",
      "Step:  AIC=990.08\n",
      "Y ~ s_start_age + factor(funding_indicator) + avs_net_cost + \n",
      "    s_Average.Precol.GPA + s_GRE.Combined.General.Write.Score + \n",
      "    s_GRE.Combined.Quantitative.Score + factor(gap_indicator) + \n",
      "    GPA_trend + s_start_year\n",
      "\n",
      "                                      Df Deviance     AIC\n",
      "- s_Average.Precol.GPA                 1   970.27  988.27\n",
      "- s_GRE.Combined.Quantitative.Score    1   970.58  988.58\n",
      "- s_GRE.Combined.General.Write.Score   1   971.92  989.92\n",
      "- s_start_age                          1   971.96  989.96\n",
      "<none>                                     970.08  990.08\n",
      "- avs_net_cost                         1   972.11  990.11\n",
      "- factor(gap_indicator)                1   973.47  991.47\n",
      "+ s_GRE.Combined.General.Verbal.Score  1   970.04  992.04\n",
      "+ factor(Gender)                       1   970.06  992.06\n",
      "+ factor(Citizenship)                 10   954.07  994.07\n",
      "- GPA_trend                            1   976.68  994.68\n",
      "- factor(funding_indicator)            1   998.01 1016.01\n",
      "- s_start_year                         1  1103.22 1121.22\n",
      "\n",
      "Step:  AIC=988.27\n",
      "Y ~ s_start_age + factor(funding_indicator) + avs_net_cost + \n",
      "    s_GRE.Combined.General.Write.Score + s_GRE.Combined.Quantitative.Score + \n",
      "    factor(gap_indicator) + GPA_trend + s_start_year\n",
      "\n",
      "                                      Df Deviance     AIC\n",
      "- s_GRE.Combined.Quantitative.Score    1   970.80  986.80\n",
      "- s_GRE.Combined.General.Write.Score   1   971.96  987.96\n",
      "- s_start_age                          1   972.12  988.12\n",
      "- avs_net_cost                         1   972.24  988.24\n",
      "<none>                                     970.27  988.27\n",
      "- factor(gap_indicator)                1   973.59  989.59\n",
      "+ s_Average.Precol.GPA                 1   970.08  990.08\n",
      "+ s_GRE.Combined.General.Verbal.Score  1   970.22  990.22\n",
      "+ factor(Gender)                       1   970.24  990.24\n",
      "+ factor(Citizenship)                 10   954.43  992.43\n",
      "- GPA_trend                            1   976.70  992.70\n",
      "- factor(funding_indicator)            1   998.73 1014.73\n",
      "- s_start_year                         1  1104.38 1120.38\n",
      "\n",
      "Step:  AIC=986.8\n",
      "Y ~ s_start_age + factor(funding_indicator) + avs_net_cost + \n",
      "    s_GRE.Combined.General.Write.Score + factor(gap_indicator) + \n",
      "    GPA_trend + s_start_year\n",
      "\n",
      "                                      Df Deviance     AIC\n",
      "- s_start_age                          1   972.51  986.51\n",
      "- avs_net_cost                         1   972.69  986.69\n",
      "<none>                                     970.80  986.80\n",
      "- s_GRE.Combined.General.Write.Score   1   972.85  986.85\n",
      "- factor(gap_indicator)                1   974.05  988.05\n",
      "+ s_GRE.Combined.Quantitative.Score    1   970.27  988.27\n",
      "+ s_GRE.Combined.General.Verbal.Score  1   970.50  988.50\n",
      "+ s_Average.Precol.GPA                 1   970.58  988.58\n",
      "+ factor(Gender)                       1   970.79  988.79\n",
      "+ factor(Citizenship)                 10   954.48  990.48\n",
      "- GPA_trend                            1   977.11  991.11\n",
      "- factor(funding_indicator)            1   999.22 1013.22\n",
      "- s_start_year                         1  1104.92 1118.92\n",
      "\n",
      "Step:  AIC=986.51\n",
      "Y ~ factor(funding_indicator) + avs_net_cost + s_GRE.Combined.General.Write.Score + \n",
      "    factor(gap_indicator) + GPA_trend + s_start_year\n",
      "\n",
      "                                      Df Deviance     AIC\n",
      "<none>                                     972.51  986.51\n",
      "- s_GRE.Combined.General.Write.Score   1   974.64  986.64\n",
      "+ s_start_age                          1   970.80  986.80\n",
      "- avs_net_cost                         1   975.35  987.35\n",
      "- factor(gap_indicator)                1   975.85  987.85\n",
      "+ s_GRE.Combined.Quantitative.Score    1   972.12  988.12\n",
      "+ s_GRE.Combined.General.Verbal.Score  1   972.12  988.12\n",
      "+ s_Average.Precol.GPA                 1   972.34  988.34\n",
      "+ factor(Gender)                       1   972.51  988.51\n",
      "+ factor(Citizenship)                 10   955.62  989.62\n",
      "- GPA_trend                            1   978.72  990.72\n",
      "- factor(funding_indicator)            1   999.25 1011.25\n",
      "- s_start_year                         1  1105.50 1117.50\n"
     ]
    }
   ],
   "source": [
    "library('MASS')\n",
    "log_mod_h_s_aic = stepAIC(log_mod_h_s, direction = 'both')"
   ]
  },
  {
   "cell_type": "markdown",
   "metadata": {},
   "source": [
    "<b> Significant variables both AIC selects:"
   ]
  },
  {
   "cell_type": "code",
   "execution_count": 24,
   "metadata": {},
   "outputs": [
    {
     "data": {
      "text/html": [
       "<table>\n",
       "<thead><tr><th></th><th scope=col>Estimate</th><th scope=col>Pr(&gt;|z|)</th></tr></thead>\n",
       "<tbody>\n",
       "\t<tr><th scope=row>factor(funding_indicator)1</th><td> 1.24768</td><td>0.00000 </td></tr>\n",
       "\t<tr><th scope=row>GPA_trend</th><td> 0.96399</td><td>0.01727 </td></tr>\n",
       "\t<tr><th scope=row>s_start_year</th><td>-1.35272</td><td>0.00000 </td></tr>\n",
       "</tbody>\n",
       "</table>\n"
      ],
      "text/latex": [
       "\\begin{tabular}{r|ll}\n",
       "  & Estimate & Pr(>\\textbar{}z\\textbar{})\\\\\n",
       "\\hline\n",
       "\tfactor(funding\\_indicator)1 &  1.24768 & 0.00000 \\\\\n",
       "\tGPA\\_trend &  0.96399 & 0.01727 \\\\\n",
       "\ts\\_start\\_year & -1.35272 & 0.00000 \\\\\n",
       "\\end{tabular}\n"
      ],
      "text/markdown": [
       "\n",
       "| <!--/--> | Estimate | Pr(>|z|) |\n",
       "|---|---|---|\n",
       "| factor(funding_indicator)1 |  1.24768 | 0.00000  |\n",
       "| GPA_trend |  0.96399 | 0.01727  |\n",
       "| s_start_year | -1.35272 | 0.00000  |\n",
       "\n"
      ],
      "text/plain": [
       "                           Estimate Pr(>|z|)\n",
       "factor(funding_indicator)1  1.24768 0.00000 \n",
       "GPA_trend                   0.96399 0.01727 \n",
       "s_start_year               -1.35272 0.00000 "
      ]
     },
     "metadata": {},
     "output_type": "display_data"
    }
   ],
   "source": [
    "round(summary(log_mod_h_s_aic)$coeff[which(summary(log_mod_h_s_aic)$coef[,4] <= .05),c(1,4)],5)"
   ]
  },
  {
   "cell_type": "markdown",
   "metadata": {},
   "source": [
    "<b> Both BIC"
   ]
  },
  {
   "cell_type": "code",
   "execution_count": 25,
   "metadata": {
    "scrolled": false
   },
   "outputs": [
    {
     "name": "stdout",
     "output_type": "stream",
     "text": [
      "Start:  AIC=1102.64\n",
      "Y ~ s_start_age + factor(Gender) + factor(funding_indicator) + \n",
      "    factor(Citizenship) + avs_net_cost + s_Average.Precol.GPA + \n",
      "    s_GRE.Combined.General.Write.Score + s_GRE.Combined.Quantitative.Score + \n",
      "    s_GRE.Combined.General.Verbal.Score + factor(gap_indicator) + \n",
      "    GPA_trend + s_start_year\n",
      "\n",
      "                                      Df Deviance    AIC\n",
      "- factor(Citizenship)                 10   970.03 1051.1\n",
      "- factor(Gender)                       1   953.96 1095.9\n",
      "- s_GRE.Combined.Quantitative.Score    1   953.96 1095.9\n",
      "- s_GRE.Combined.General.Write.Score   1   954.02 1095.9\n",
      "- s_GRE.Combined.General.Verbal.Score  1   954.07 1096.0\n",
      "- s_Average.Precol.GPA                 1   954.27 1096.2\n",
      "- s_start_age                          1   954.98 1096.9\n",
      "- avs_net_cost                         1   956.21 1098.1\n",
      "- factor(gap_indicator)                1   957.71 1099.6\n",
      "<none>                                     953.96 1102.6\n",
      "- GPA_trend                            1   960.96 1102.9\n",
      "- factor(funding_indicator)            1   980.19 1122.1\n",
      "- s_start_year                         1  1076.95 1218.9\n",
      "\n",
      "Step:  AIC=1051.12\n",
      "Y ~ s_start_age + factor(Gender) + factor(funding_indicator) + \n",
      "    avs_net_cost + s_Average.Precol.GPA + s_GRE.Combined.General.Write.Score + \n",
      "    s_GRE.Combined.Quantitative.Score + s_GRE.Combined.General.Verbal.Score + \n",
      "    factor(gap_indicator) + GPA_trend + s_start_year\n",
      "\n",
      "                                      Df Deviance    AIC\n",
      "- factor(Gender)                       1   970.04 1044.4\n",
      "- s_GRE.Combined.General.Verbal.Score  1   970.06 1044.4\n",
      "- s_Average.Precol.GPA                 1   970.19 1044.5\n",
      "- s_GRE.Combined.Quantitative.Score    1   970.33 1044.7\n",
      "- s_GRE.Combined.General.Write.Score   1   971.62 1046.0\n",
      "- s_start_age                          1   971.86 1046.2\n",
      "- avs_net_cost                         1   972.08 1046.4\n",
      "- factor(gap_indicator)                1   973.39 1047.7\n",
      "- GPA_trend                            1   976.53 1050.9\n",
      "<none>                                     970.03 1051.1\n",
      "- factor(funding_indicator)            1   997.61 1072.0\n",
      "+ factor(Citizenship)                 10   953.96 1102.6\n",
      "- s_start_year                         1  1101.13 1175.5\n",
      "\n",
      "Step:  AIC=1044.38\n",
      "Y ~ s_start_age + factor(funding_indicator) + avs_net_cost + \n",
      "    s_Average.Precol.GPA + s_GRE.Combined.General.Write.Score + \n",
      "    s_GRE.Combined.Quantitative.Score + s_GRE.Combined.General.Verbal.Score + \n",
      "    factor(gap_indicator) + GPA_trend + s_start_year\n",
      "\n",
      "                                      Df Deviance    AIC\n",
      "- s_GRE.Combined.General.Verbal.Score  1   970.08 1037.7\n",
      "- s_Average.Precol.GPA                 1   970.22 1037.8\n",
      "- s_GRE.Combined.Quantitative.Score    1   970.34 1037.9\n",
      "- s_GRE.Combined.General.Write.Score   1   971.65 1039.2\n",
      "- s_start_age                          1   971.86 1039.4\n",
      "- avs_net_cost                         1   972.08 1039.7\n",
      "- factor(gap_indicator)                1   973.42 1041.0\n",
      "- GPA_trend                            1   976.68 1044.3\n",
      "<none>                                     970.04 1044.4\n",
      "+ factor(Gender)                       1   970.03 1051.1\n",
      "- factor(funding_indicator)            1   997.62 1065.2\n",
      "+ factor(Citizenship)                 10   953.96 1095.9\n",
      "- s_start_year                         1  1101.67 1169.2\n",
      "\n",
      "Step:  AIC=1037.66\n",
      "Y ~ s_start_age + factor(funding_indicator) + avs_net_cost + \n",
      "    s_Average.Precol.GPA + s_GRE.Combined.General.Write.Score + \n",
      "    s_GRE.Combined.Quantitative.Score + factor(gap_indicator) + \n",
      "    GPA_trend + s_start_year\n",
      "\n",
      "                                      Df Deviance    AIC\n",
      "- s_Average.Precol.GPA                 1   970.27 1031.1\n",
      "- s_GRE.Combined.Quantitative.Score    1   970.58 1031.4\n",
      "- s_GRE.Combined.General.Write.Score   1   971.92 1032.7\n",
      "- s_start_age                          1   971.96 1032.8\n",
      "- avs_net_cost                         1   972.11 1032.9\n",
      "- factor(gap_indicator)                1   973.47 1034.3\n",
      "- GPA_trend                            1   976.68 1037.5\n",
      "<none>                                     970.08 1037.7\n",
      "+ s_GRE.Combined.General.Verbal.Score  1   970.04 1044.4\n",
      "+ factor(Gender)                       1   970.06 1044.4\n",
      "- factor(funding_indicator)            1   998.01 1058.8\n",
      "+ factor(Citizenship)                 10   954.07 1089.2\n",
      "- s_start_year                         1  1103.22 1164.0\n",
      "\n",
      "Step:  AIC=1031.09\n",
      "Y ~ s_start_age + factor(funding_indicator) + avs_net_cost + \n",
      "    s_GRE.Combined.General.Write.Score + s_GRE.Combined.Quantitative.Score + \n",
      "    factor(gap_indicator) + GPA_trend + s_start_year\n",
      "\n",
      "                                      Df Deviance    AIC\n",
      "- s_GRE.Combined.Quantitative.Score    1   970.80 1024.9\n",
      "- s_GRE.Combined.General.Write.Score   1   971.96 1026.0\n",
      "- s_start_age                          1   972.12 1026.2\n",
      "- avs_net_cost                         1   972.24 1026.3\n",
      "- factor(gap_indicator)                1   973.59 1027.7\n",
      "- GPA_trend                            1   976.70 1030.8\n",
      "<none>                                     970.27 1031.1\n",
      "+ s_Average.Precol.GPA                 1   970.08 1037.7\n",
      "+ s_GRE.Combined.General.Verbal.Score  1   970.22 1037.8\n",
      "+ factor(Gender)                       1   970.24 1037.8\n",
      "- factor(funding_indicator)            1   998.73 1052.8\n",
      "+ factor(Citizenship)                 10   954.43 1082.8\n",
      "- s_start_year                         1  1104.38 1158.5\n",
      "\n",
      "Step:  AIC=1024.86\n",
      "Y ~ s_start_age + factor(funding_indicator) + avs_net_cost + \n",
      "    s_GRE.Combined.General.Write.Score + factor(gap_indicator) + \n",
      "    GPA_trend + s_start_year\n",
      "\n",
      "                                      Df Deviance    AIC\n",
      "- s_start_age                          1   972.51 1019.8\n",
      "- avs_net_cost                         1   972.69 1020.0\n",
      "- s_GRE.Combined.General.Write.Score   1   972.85 1020.2\n",
      "- factor(gap_indicator)                1   974.05 1021.4\n",
      "- GPA_trend                            1   977.11 1024.4\n",
      "<none>                                     970.80 1024.9\n",
      "+ s_GRE.Combined.Quantitative.Score    1   970.27 1031.1\n",
      "+ s_GRE.Combined.General.Verbal.Score  1   970.50 1031.3\n",
      "+ s_Average.Precol.GPA                 1   970.58 1031.4\n",
      "+ factor(Gender)                       1   970.79 1031.6\n",
      "- factor(funding_indicator)            1   999.22 1046.5\n",
      "+ factor(Citizenship)                 10   954.48 1076.1\n",
      "- s_start_year                         1  1104.92 1152.2\n",
      "\n",
      "Step:  AIC=1019.82\n",
      "Y ~ factor(funding_indicator) + avs_net_cost + s_GRE.Combined.General.Write.Score + \n",
      "    factor(gap_indicator) + GPA_trend + s_start_year\n",
      "\n",
      "                                      Df Deviance    AIC\n",
      "- s_GRE.Combined.General.Write.Score   1   974.64 1015.2\n",
      "- avs_net_cost                         1   975.35 1015.9\n",
      "- factor(gap_indicator)                1   975.85 1016.4\n",
      "- GPA_trend                            1   978.72 1019.3\n",
      "<none>                                     972.51 1019.8\n",
      "+ s_start_age                          1   970.80 1024.9\n",
      "+ s_GRE.Combined.Quantitative.Score    1   972.12 1026.2\n",
      "+ s_GRE.Combined.General.Verbal.Score  1   972.12 1026.2\n",
      "+ s_Average.Precol.GPA                 1   972.34 1026.4\n",
      "+ factor(Gender)                       1   972.51 1026.6\n",
      "- factor(funding_indicator)            1   999.25 1039.8\n",
      "+ factor(Citizenship)                 10   955.62 1070.5\n",
      "- s_start_year                         1  1105.50 1146.0\n",
      "\n",
      "Step:  AIC=1015.18\n",
      "Y ~ factor(funding_indicator) + avs_net_cost + factor(gap_indicator) + \n",
      "    GPA_trend + s_start_year\n",
      "\n",
      "                                      Df Deviance    AIC\n",
      "- factor(gap_indicator)                1   977.75 1011.5\n",
      "- avs_net_cost                         1   977.87 1011.7\n",
      "- GPA_trend                            1   980.77 1014.6\n",
      "<none>                                     974.64 1015.2\n",
      "+ s_GRE.Combined.General.Write.Score   1   972.51 1019.8\n",
      "+ s_start_age                          1   972.85 1020.2\n",
      "+ s_GRE.Combined.Quantitative.Score    1   973.95 1021.3\n",
      "+ s_Average.Precol.GPA                 1   974.62 1021.9\n",
      "+ s_GRE.Combined.General.Verbal.Score  1   974.63 1021.9\n",
      "+ factor(Gender)                       1   974.63 1021.9\n",
      "- factor(funding_indicator)            1  1000.10 1033.9\n",
      "+ factor(Citizenship)                 10   955.62 1063.8\n",
      "- s_start_year                         1  1106.10 1139.9\n"
     ]
    },
    {
     "name": "stdout",
     "output_type": "stream",
     "text": [
      "\n",
      "Step:  AIC=1011.54\n",
      "Y ~ factor(funding_indicator) + avs_net_cost + GPA_trend + s_start_year\n",
      "\n",
      "                                      Df Deviance    AIC\n",
      "- avs_net_cost                         1   980.78 1007.8\n",
      "- GPA_trend                            1   983.93 1011.0\n",
      "<none>                                     977.75 1011.5\n",
      "+ factor(gap_indicator)                1   974.64 1015.2\n",
      "+ s_GRE.Combined.General.Write.Score   1   975.85 1016.4\n",
      "+ s_start_age                          1   975.89 1016.4\n",
      "+ s_GRE.Combined.Quantitative.Score    1   977.16 1017.7\n",
      "+ s_GRE.Combined.General.Verbal.Score  1   977.74 1018.3\n",
      "+ s_Average.Precol.GPA                 1   977.75 1018.3\n",
      "+ factor(Gender)                       1   977.75 1018.3\n",
      "- factor(funding_indicator)            1  1003.94 1031.0\n",
      "+ factor(Citizenship)                 10   959.41 1060.8\n",
      "- s_start_year                         1  1119.26 1146.3\n",
      "\n",
      "Step:  AIC=1007.81\n",
      "Y ~ factor(funding_indicator) + GPA_trend + s_start_year\n",
      "\n",
      "                                      Df Deviance    AIC\n",
      "- GPA_trend                            1   987.32 1007.6\n",
      "<none>                                     980.78 1007.8\n",
      "+ avs_net_cost                         1   977.75 1011.5\n",
      "+ factor(gap_indicator)                1   977.87 1011.7\n",
      "+ s_start_age                          1   977.89 1011.7\n",
      "+ s_GRE.Combined.General.Write.Score   1   978.50 1012.3\n",
      "+ s_GRE.Combined.Quantitative.Score    1   980.30 1014.1\n",
      "+ factor(Gender)                       1   980.73 1014.5\n",
      "+ s_GRE.Combined.General.Verbal.Score  1   980.77 1014.6\n",
      "+ s_Average.Precol.GPA                 1   980.77 1014.6\n",
      "- factor(funding_indicator)            1  1004.81 1025.1\n",
      "+ factor(Citizenship)                 10   962.26 1056.9\n",
      "- s_start_year                         1  1121.62 1141.9\n",
      "\n",
      "Step:  AIC=1007.59\n",
      "Y ~ factor(funding_indicator) + s_start_year\n",
      "\n",
      "                                      Df Deviance    AIC\n",
      "<none>                                     987.32 1007.6\n",
      "+ GPA_trend                            1   980.78 1007.8\n",
      "+ avs_net_cost                         1   983.93 1011.0\n",
      "+ factor(gap_indicator)                1   984.38 1011.4\n",
      "+ s_start_age                          1   984.51 1011.5\n",
      "+ s_GRE.Combined.General.Write.Score   1   985.08 1012.1\n",
      "+ s_GRE.Combined.Quantitative.Score    1   986.95 1014.0\n",
      "+ s_Average.Precol.GPA                 1   987.19 1014.2\n",
      "+ s_GRE.Combined.General.Verbal.Score  1   987.31 1014.3\n",
      "+ factor(Gender)                       1   987.32 1014.4\n",
      "- factor(funding_indicator)            1  1012.20 1025.7\n",
      "+ factor(Citizenship)                 10   969.34 1057.2\n",
      "- s_start_year                         1  1134.97 1148.5\n"
     ]
    }
   ],
   "source": [
    "log_mod_h_s_bic = stepAIC(log_mod_h_s, direction = \"both\", k = log(a_n))"
   ]
  },
  {
   "cell_type": "markdown",
   "metadata": {},
   "source": [
    "<b> Significant variables both BIC selects:"
   ]
  },
  {
   "cell_type": "code",
   "execution_count": 26,
   "metadata": {},
   "outputs": [
    {
     "data": {
      "text/html": [
       "<table>\n",
       "<thead><tr><th></th><th scope=col>Estimate</th><th scope=col>Pr(&gt;|z|)</th></tr></thead>\n",
       "<tbody>\n",
       "\t<tr><th scope=row>factor(funding_indicator)1</th><td> 1.18085</td><td>0       </td></tr>\n",
       "\t<tr><th scope=row>s_start_year</th><td>-1.38659</td><td>0       </td></tr>\n",
       "</tbody>\n",
       "</table>\n"
      ],
      "text/latex": [
       "\\begin{tabular}{r|ll}\n",
       "  & Estimate & Pr(>\\textbar{}z\\textbar{})\\\\\n",
       "\\hline\n",
       "\tfactor(funding\\_indicator)1 &  1.18085 & 0       \\\\\n",
       "\ts\\_start\\_year & -1.38659 & 0       \\\\\n",
       "\\end{tabular}\n"
      ],
      "text/markdown": [
       "\n",
       "| <!--/--> | Estimate | Pr(>|z|) |\n",
       "|---|---|---|\n",
       "| factor(funding_indicator)1 |  1.18085 | 0        |\n",
       "| s_start_year | -1.38659 | 0        |\n",
       "\n"
      ],
      "text/plain": [
       "                           Estimate Pr(>|z|)\n",
       "factor(funding_indicator)1  1.18085 0       \n",
       "s_start_year               -1.38659 0       "
      ]
     },
     "metadata": {},
     "output_type": "display_data"
    }
   ],
   "source": [
    "round(summary(log_mod_h_s_bic)$coeff[which(summary(log_mod_h_s_bic)$coef[,4] <= .05),c(1,4)],5)"
   ]
  },
  {
   "cell_type": "markdown",
   "metadata": {},
   "source": [
    "# Harpur Arts Analysis"
   ]
  },
  {
   "cell_type": "markdown",
   "metadata": {},
   "source": [
    "<b> Logistic regression model:"
   ]
  },
  {
   "cell_type": "code",
   "execution_count": 27,
   "metadata": {
    "scrolled": false
   },
   "outputs": [
    {
     "data": {
      "text/plain": [
       "\n",
       "Call:\n",
       "glm(formula = Y ~ s_start_age + factor(Gender) + factor(funding_indicator) + \n",
       "    factor(Citizenship) + avs_net_cost + s_Average.Precol.GPA + \n",
       "    s_GRE.Combined.General.Write.Score + s_GRE.Combined.Quantitative.Score + \n",
       "    s_GRE.Combined.General.Verbal.Score + factor(gap_indicator) + \n",
       "    GPA_trend + s_start_year, family = \"binomial\", data = Harpur_arts)\n",
       "\n",
       "Deviance Residuals: \n",
       "    Min       1Q   Median       3Q      Max  \n",
       "-2.0747  -1.1505   0.7573   0.9953   1.7514  \n",
       "\n",
       "Coefficients:\n",
       "                                                 Estimate Std. Error z value\n",
       "(Intercept)                                     -0.310246   0.173581  -1.787\n",
       "s_start_age                                      0.107226   0.071319   1.503\n",
       "factor(Gender)Male                               0.031559   0.145284   0.217\n",
       "factor(funding_indicator)1                       0.714213   0.172699   4.136\n",
       "factor(Citizenship)Africa                       -0.470445   0.536178  -0.877\n",
       "factor(Citizenship)Asia                          0.622047   0.240697   2.584\n",
       "factor(Citizenship)Asian                        -0.366342   0.386495  -0.948\n",
       "factor(Citizenship)Black or African American     0.076106   0.413341   0.184\n",
       "factor(Citizenship)China                         0.292208   0.492129   0.594\n",
       "factor(Citizenship)Europe                        0.616326   0.475216   1.297\n",
       "factor(Citizenship)Hispanic or Latino            0.026795   0.304350   0.088\n",
       "factor(Citizenship)India                         0.468933   1.183634   0.396\n",
       "factor(Citizenship)Other International Students  0.165522   0.477335   0.347\n",
       "factor(Citizenship)Unknown                      -0.149624   0.248453  -0.602\n",
       "avs_net_cost                                     0.004359   0.056129   0.078\n",
       "s_Average.Precol.GPA                             0.188822   0.082655   2.284\n",
       "s_GRE.Combined.General.Write.Score              -0.073623   0.095201  -0.773\n",
       "s_GRE.Combined.Quantitative.Score                0.175179   0.259574   0.675\n",
       "s_GRE.Combined.General.Verbal.Score             -0.401264   0.296681  -1.353\n",
       "factor(gap_indicator)1                           0.220058   0.254301   0.865\n",
       "GPA_trend                                        0.736305   0.517641   1.422\n",
       "s_start_year                                    -0.481368   0.081724  -5.890\n",
       "                                                Pr(>|z|)    \n",
       "(Intercept)                                      0.07388 .  \n",
       "s_start_age                                      0.13272    \n",
       "factor(Gender)Male                               0.82803    \n",
       "factor(funding_indicator)1                      3.54e-05 ***\n",
       "factor(Citizenship)Africa                        0.38027    \n",
       "factor(Citizenship)Asia                          0.00976 ** \n",
       "factor(Citizenship)Asian                         0.34320    \n",
       "factor(Citizenship)Black or African American     0.85392    \n",
       "factor(Citizenship)China                         0.55267    \n",
       "factor(Citizenship)Europe                        0.19465    \n",
       "factor(Citizenship)Hispanic or Latino            0.92984    \n",
       "factor(Citizenship)India                         0.69197    \n",
       "factor(Citizenship)Other International Students  0.72877    \n",
       "factor(Citizenship)Unknown                       0.54703    \n",
       "avs_net_cost                                     0.93810    \n",
       "s_Average.Precol.GPA                             0.02234 *  \n",
       "s_GRE.Combined.General.Write.Score               0.43932    \n",
       "s_GRE.Combined.Quantitative.Score                0.49976    \n",
       "s_GRE.Combined.General.Verbal.Score              0.17621    \n",
       "factor(gap_indicator)1                           0.38685    \n",
       "GPA_trend                                        0.15490    \n",
       "s_start_year                                    3.86e-09 ***\n",
       "---\n",
       "Signif. codes:  0 '***' 0.001 '**' 0.01 '*' 0.05 '.' 0.1 ' ' 1\n",
       "\n",
       "(Dispersion parameter for binomial family taken to be 1)\n",
       "\n",
       "    Null deviance: 1248.0  on 917  degrees of freedom\n",
       "Residual deviance: 1161.6  on 896  degrees of freedom\n",
       "AIC: 1205.6\n",
       "\n",
       "Number of Fisher Scoring iterations: 7\n"
      ]
     },
     "metadata": {},
     "output_type": "display_data"
    }
   ],
   "source": [
    "log_mod_h_a = glm(Y~s_start_age+factor(Gender)+factor(funding_indicator)+factor(Citizenship)+\n",
    "                avs_net_cost+s_Average.Precol.GPA+s_GRE.Combined.General.Write.Score+s_GRE.Combined.Quantitative.Score+s_GRE.Combined.General.Verbal.Score+factor(gap_indicator)+GPA_trend+s_start_year,\n",
    "                data=Harpur_arts,family=\"binomial\")\n",
    "summary(log_mod_h_a)"
   ]
  },
  {
   "cell_type": "markdown",
   "metadata": {},
   "source": [
    "<b> Significant Variables of logistic regression model: "
   ]
  },
  {
   "cell_type": "code",
   "execution_count": 28,
   "metadata": {},
   "outputs": [
    {
     "data": {
      "text/html": [
       "<table>\n",
       "<thead><tr><th></th><th scope=col>Estimate</th><th scope=col>Pr(&gt;|z|)</th></tr></thead>\n",
       "<tbody>\n",
       "\t<tr><th scope=row>factor(funding_indicator)1</th><td> 0.71421</td><td>0.00004 </td></tr>\n",
       "\t<tr><th scope=row>factor(Citizenship)Asia</th><td> 0.62205</td><td>0.00976 </td></tr>\n",
       "\t<tr><th scope=row>s_Average.Precol.GPA</th><td> 0.18882</td><td>0.02234 </td></tr>\n",
       "\t<tr><th scope=row>s_start_year</th><td>-0.48137</td><td>0.00000 </td></tr>\n",
       "</tbody>\n",
       "</table>\n"
      ],
      "text/latex": [
       "\\begin{tabular}{r|ll}\n",
       "  & Estimate & Pr(>\\textbar{}z\\textbar{})\\\\\n",
       "\\hline\n",
       "\tfactor(funding\\_indicator)1 &  0.71421 & 0.00004 \\\\\n",
       "\tfactor(Citizenship)Asia &  0.62205 & 0.00976 \\\\\n",
       "\ts\\_Average.Precol.GPA &  0.18882 & 0.02234 \\\\\n",
       "\ts\\_start\\_year & -0.48137 & 0.00000 \\\\\n",
       "\\end{tabular}\n"
      ],
      "text/markdown": [
       "\n",
       "| <!--/--> | Estimate | Pr(>|z|) |\n",
       "|---|---|---|\n",
       "| factor(funding_indicator)1 |  0.71421 | 0.00004  |\n",
       "| factor(Citizenship)Asia |  0.62205 | 0.00976  |\n",
       "| s_Average.Precol.GPA |  0.18882 | 0.02234  |\n",
       "| s_start_year | -0.48137 | 0.00000  |\n",
       "\n"
      ],
      "text/plain": [
       "                           Estimate Pr(>|z|)\n",
       "factor(funding_indicator)1  0.71421 0.00004 \n",
       "factor(Citizenship)Asia     0.62205 0.00976 \n",
       "s_Average.Precol.GPA        0.18882 0.02234 \n",
       "s_start_year               -0.48137 0.00000 "
      ]
     },
     "metadata": {},
     "output_type": "display_data"
    }
   ],
   "source": [
    "round(summary(log_mod_h_a)$coeff[which(summary(log_mod_h_a)$coef[,4] <= .05),c(1,4)],5)"
   ]
  },
  {
   "cell_type": "markdown",
   "metadata": {},
   "source": [
    "<b> Both AIC:"
   ]
  },
  {
   "cell_type": "code",
   "execution_count": 29,
   "metadata": {},
   "outputs": [
    {
     "name": "stdout",
     "output_type": "stream",
     "text": [
      "Start:  AIC=1205.55\n",
      "Y ~ s_start_age + factor(Gender) + factor(funding_indicator) + \n",
      "    factor(Citizenship) + avs_net_cost + s_Average.Precol.GPA + \n",
      "    s_GRE.Combined.General.Write.Score + s_GRE.Combined.Quantitative.Score + \n",
      "    s_GRE.Combined.General.Verbal.Score + factor(gap_indicator) + \n",
      "    GPA_trend + s_start_year\n",
      "\n",
      "                                      Df Deviance    AIC\n",
      "- factor(Citizenship)                 10   1173.6 1197.6\n",
      "- avs_net_cost                         1   1161.6 1203.6\n",
      "- factor(Gender)                       1   1161.6 1203.6\n",
      "- s_GRE.Combined.Quantitative.Score    1   1162.0 1204.0\n",
      "- s_GRE.Combined.General.Write.Score   1   1162.2 1204.2\n",
      "- factor(gap_indicator)                1   1162.3 1204.3\n",
      "<none>                                     1161.5 1205.5\n",
      "- GPA_trend                            1   1163.6 1205.6\n",
      "- s_start_age                          1   1163.8 1205.8\n",
      "- s_GRE.Combined.General.Verbal.Score  1   1164.4 1206.4\n",
      "- s_Average.Precol.GPA                 1   1167.4 1209.4\n",
      "- factor(funding_indicator)            1   1179.1 1221.1\n",
      "- s_start_year                         1   1200.5 1242.5\n",
      "\n",
      "Step:  AIC=1197.61\n",
      "Y ~ s_start_age + factor(Gender) + factor(funding_indicator) + \n",
      "    avs_net_cost + s_Average.Precol.GPA + s_GRE.Combined.General.Write.Score + \n",
      "    s_GRE.Combined.Quantitative.Score + s_GRE.Combined.General.Verbal.Score + \n",
      "    factor(gap_indicator) + GPA_trend + s_start_year\n",
      "\n",
      "                                      Df Deviance    AIC\n",
      "- factor(Gender)                       1   1173.6 1195.6\n",
      "- avs_net_cost                         1   1173.6 1195.6\n",
      "- factor(gap_indicator)                1   1174.4 1196.4\n",
      "- s_GRE.Combined.Quantitative.Score    1   1174.5 1196.5\n",
      "- s_start_age                          1   1174.7 1196.7\n",
      "- GPA_trend                            1   1175.2 1197.2\n",
      "<none>                                     1173.6 1197.6\n",
      "- s_GRE.Combined.General.Write.Score   1   1175.7 1197.7\n",
      "- s_GRE.Combined.General.Verbal.Score  1   1177.4 1199.4\n",
      "- s_Average.Precol.GPA                 1   1179.2 1201.2\n",
      "+ factor(Citizenship)                 10   1161.5 1205.5\n",
      "- factor(funding_indicator)            1   1191.8 1213.8\n",
      "- s_start_year                         1   1208.7 1230.7\n",
      "\n",
      "Step:  AIC=1195.61\n",
      "Y ~ s_start_age + factor(funding_indicator) + avs_net_cost + \n",
      "    s_Average.Precol.GPA + s_GRE.Combined.General.Write.Score + \n",
      "    s_GRE.Combined.Quantitative.Score + s_GRE.Combined.General.Verbal.Score + \n",
      "    factor(gap_indicator) + GPA_trend + s_start_year\n",
      "\n",
      "                                      Df Deviance    AIC\n",
      "- avs_net_cost                         1   1173.6 1193.6\n",
      "- factor(gap_indicator)                1   1174.4 1194.4\n",
      "- s_GRE.Combined.Quantitative.Score    1   1174.5 1194.5\n",
      "- s_start_age                          1   1174.7 1194.7\n",
      "- GPA_trend                            1   1175.2 1195.2\n",
      "<none>                                     1173.6 1195.6\n",
      "- s_GRE.Combined.General.Write.Score   1   1175.7 1195.7\n",
      "- s_GRE.Combined.General.Verbal.Score  1   1177.4 1197.4\n",
      "+ factor(Gender)                       1   1173.6 1197.6\n",
      "- s_Average.Precol.GPA                 1   1179.2 1199.2\n",
      "+ factor(Citizenship)                 10   1161.6 1203.6\n",
      "- factor(funding_indicator)            1   1191.9 1211.9\n",
      "- s_start_year                         1   1208.7 1228.7\n",
      "\n",
      "Step:  AIC=1193.63\n",
      "Y ~ s_start_age + factor(funding_indicator) + s_Average.Precol.GPA + \n",
      "    s_GRE.Combined.General.Write.Score + s_GRE.Combined.Quantitative.Score + \n",
      "    s_GRE.Combined.General.Verbal.Score + factor(gap_indicator) + \n",
      "    GPA_trend + s_start_year\n",
      "\n",
      "                                      Df Deviance    AIC\n",
      "- factor(gap_indicator)                1   1174.5 1192.5\n",
      "- s_GRE.Combined.Quantitative.Score    1   1174.5 1192.5\n",
      "- s_start_age                          1   1174.7 1192.7\n",
      "- GPA_trend                            1   1175.2 1193.2\n",
      "<none>                                     1173.6 1193.6\n",
      "- s_GRE.Combined.General.Write.Score   1   1175.7 1193.7\n",
      "- s_GRE.Combined.General.Verbal.Score  1   1177.4 1195.4\n",
      "+ avs_net_cost                         1   1173.6 1195.6\n",
      "+ factor(Gender)                       1   1173.6 1195.6\n",
      "- s_Average.Precol.GPA                 1   1179.2 1197.2\n",
      "+ factor(Citizenship)                 10   1161.6 1201.6\n",
      "- factor(funding_indicator)            1   1192.0 1210.0\n",
      "- s_start_year                         1   1209.4 1227.4\n",
      "\n",
      "Step:  AIC=1192.45\n",
      "Y ~ s_start_age + factor(funding_indicator) + s_Average.Precol.GPA + \n",
      "    s_GRE.Combined.General.Write.Score + s_GRE.Combined.Quantitative.Score + \n",
      "    s_GRE.Combined.General.Verbal.Score + GPA_trend + s_start_year\n",
      "\n",
      "                                      Df Deviance    AIC\n",
      "- s_GRE.Combined.Quantitative.Score    1   1175.4 1191.4\n",
      "- s_start_age                          1   1175.5 1191.5\n",
      "- GPA_trend                            1   1176.0 1192.0\n",
      "<none>                                     1174.5 1192.5\n",
      "- s_GRE.Combined.General.Write.Score   1   1176.6 1192.6\n",
      "+ factor(gap_indicator)                1   1173.6 1193.6\n",
      "- s_GRE.Combined.General.Verbal.Score  1   1178.2 1194.2\n",
      "+ avs_net_cost                         1   1174.4 1194.4\n",
      "+ factor(Gender)                       1   1174.5 1194.5\n",
      "- s_Average.Precol.GPA                 1   1180.2 1196.2\n",
      "+ factor(Citizenship)                 10   1162.4 1200.4\n",
      "- factor(funding_indicator)            1   1192.5 1208.5\n",
      "- s_start_year                         1   1213.6 1229.6\n",
      "\n",
      "Step:  AIC=1191.4\n",
      "Y ~ s_start_age + factor(funding_indicator) + s_Average.Precol.GPA + \n",
      "    s_GRE.Combined.General.Write.Score + s_GRE.Combined.General.Verbal.Score + \n",
      "    GPA_trend + s_start_year\n",
      "\n",
      "                                      Df Deviance    AIC\n",
      "- s_start_age                          1   1176.5 1190.5\n",
      "- GPA_trend                            1   1177.0 1191.0\n",
      "<none>                                     1175.4 1191.4\n",
      "+ s_GRE.Combined.Quantitative.Score    1   1174.5 1192.5\n",
      "+ factor(gap_indicator)                1   1174.5 1192.5\n",
      "- s_GRE.Combined.General.Write.Score   1   1178.6 1192.6\n",
      "+ avs_net_cost                         1   1175.4 1193.4\n",
      "+ factor(Gender)                       1   1175.4 1193.4\n",
      "- s_GRE.Combined.General.Verbal.Score  1   1179.5 1193.5\n",
      "- s_Average.Precol.GPA                 1   1181.3 1195.3\n",
      "+ factor(Citizenship)                 10   1162.8 1198.8\n",
      "- factor(funding_indicator)            1   1193.1 1207.1\n",
      "- s_start_year                         1   1223.0 1237.0\n",
      "\n",
      "Step:  AIC=1190.52\n",
      "Y ~ factor(funding_indicator) + s_Average.Precol.GPA + s_GRE.Combined.General.Write.Score + \n",
      "    s_GRE.Combined.General.Verbal.Score + GPA_trend + s_start_year\n",
      "\n",
      "                                      Df Deviance    AIC\n",
      "- GPA_trend                            1   1178.1 1190.1\n",
      "<none>                                     1176.5 1190.5\n",
      "+ s_start_age                          1   1175.4 1191.4\n",
      "+ s_GRE.Combined.Quantitative.Score    1   1175.5 1191.5\n",
      "+ factor(gap_indicator)                1   1175.7 1191.7\n",
      "- s_GRE.Combined.General.Write.Score   1   1180.3 1192.3\n",
      "- s_GRE.Combined.General.Verbal.Score  1   1180.4 1192.4\n",
      "+ avs_net_cost                         1   1176.5 1192.5\n",
      "+ factor(Gender)                       1   1176.5 1192.5\n",
      "- s_Average.Precol.GPA                 1   1182.2 1194.2\n",
      "+ factor(Citizenship)                 10   1165.2 1199.2\n",
      "- factor(funding_indicator)            1   1193.1 1205.1\n",
      "- s_start_year                         1   1223.0 1235.0\n",
      "\n",
      "Step:  AIC=1190.1\n",
      "Y ~ factor(funding_indicator) + s_Average.Precol.GPA + s_GRE.Combined.General.Write.Score + \n",
      "    s_GRE.Combined.General.Verbal.Score + s_start_year\n",
      "\n",
      "                                      Df Deviance    AIC\n",
      "<none>                                     1178.1 1190.1\n",
      "+ GPA_trend                            1   1176.5 1190.5\n",
      "+ s_start_age                          1   1177.0 1191.0\n",
      "+ s_GRE.Combined.Quantitative.Score    1   1177.1 1191.1\n",
      "+ factor(gap_indicator)                1   1177.3 1191.3\n",
      "- s_GRE.Combined.General.Write.Score   1   1181.7 1191.7\n",
      "+ avs_net_cost                         1   1178.1 1192.1\n",
      "+ factor(Gender)                       1   1178.1 1192.1\n",
      "- s_GRE.Combined.General.Verbal.Score  1   1182.5 1192.5\n",
      "- s_Average.Precol.GPA                 1   1183.7 1193.7\n",
      "+ factor(Citizenship)                 10   1167.2 1199.2\n",
      "- factor(funding_indicator)            1   1194.6 1204.6\n",
      "- s_start_year                         1   1225.2 1235.2\n"
     ]
    }
   ],
   "source": [
    "log_mod_h_a_aic = stepAIC(log_mod_h_a, direction = 'both')"
   ]
  },
  {
   "cell_type": "markdown",
   "metadata": {},
   "source": [
    "<b> Significant variables both AIC selects:"
   ]
  },
  {
   "cell_type": "code",
   "execution_count": 30,
   "metadata": {},
   "outputs": [
    {
     "data": {
      "text/html": [
       "<table>\n",
       "<thead><tr><th></th><th scope=col>Estimate</th><th scope=col>Pr(&gt;|z|)</th></tr></thead>\n",
       "<tbody>\n",
       "\t<tr><th scope=row>factor(funding_indicator)1</th><td> 0.65119</td><td>0.00006 </td></tr>\n",
       "\t<tr><th scope=row>s_Average.Precol.GPA</th><td> 0.17695</td><td>0.02501 </td></tr>\n",
       "\t<tr><th scope=row>s_start_year</th><td>-0.47224</td><td>0.00000 </td></tr>\n",
       "</tbody>\n",
       "</table>\n"
      ],
      "text/latex": [
       "\\begin{tabular}{r|ll}\n",
       "  & Estimate & Pr(>\\textbar{}z\\textbar{})\\\\\n",
       "\\hline\n",
       "\tfactor(funding\\_indicator)1 &  0.65119 & 0.00006 \\\\\n",
       "\ts\\_Average.Precol.GPA &  0.17695 & 0.02501 \\\\\n",
       "\ts\\_start\\_year & -0.47224 & 0.00000 \\\\\n",
       "\\end{tabular}\n"
      ],
      "text/markdown": [
       "\n",
       "| <!--/--> | Estimate | Pr(>|z|) |\n",
       "|---|---|---|\n",
       "| factor(funding_indicator)1 |  0.65119 | 0.00006  |\n",
       "| s_Average.Precol.GPA |  0.17695 | 0.02501  |\n",
       "| s_start_year | -0.47224 | 0.00000  |\n",
       "\n"
      ],
      "text/plain": [
       "                           Estimate Pr(>|z|)\n",
       "factor(funding_indicator)1  0.65119 0.00006 \n",
       "s_Average.Precol.GPA        0.17695 0.02501 \n",
       "s_start_year               -0.47224 0.00000 "
      ]
     },
     "metadata": {},
     "output_type": "display_data"
    }
   ],
   "source": [
    "round(summary(log_mod_h_a_aic)$coeff[which(summary(log_mod_h_a_aic)$coef[,4] <= .05),c(1,4)],5)"
   ]
  },
  {
   "cell_type": "markdown",
   "metadata": {},
   "source": [
    "<b> Both BIC"
   ]
  },
  {
   "cell_type": "code",
   "execution_count": 31,
   "metadata": {
    "scrolled": false
   },
   "outputs": [
    {
     "name": "stdout",
     "output_type": "stream",
     "text": [
      "Start:  AIC=1311.64\n",
      "Y ~ s_start_age + factor(Gender) + factor(funding_indicator) + \n",
      "    factor(Citizenship) + avs_net_cost + s_Average.Precol.GPA + \n",
      "    s_GRE.Combined.General.Write.Score + s_GRE.Combined.Quantitative.Score + \n",
      "    s_GRE.Combined.General.Verbal.Score + factor(gap_indicator) + \n",
      "    GPA_trend + s_start_year\n",
      "\n",
      "                                      Df Deviance    AIC\n",
      "- factor(Citizenship)                 10   1173.6 1255.5\n",
      "- avs_net_cost                         1   1161.6 1304.8\n",
      "- factor(Gender)                       1   1161.6 1304.9\n",
      "- s_GRE.Combined.Quantitative.Score    1   1162.0 1305.3\n",
      "- s_GRE.Combined.General.Write.Score   1   1162.2 1305.4\n",
      "- factor(gap_indicator)                1   1162.3 1305.6\n",
      "- GPA_trend                            1   1163.6 1306.9\n",
      "- s_start_age                          1   1163.8 1307.1\n",
      "- s_GRE.Combined.General.Verbal.Score  1   1164.4 1307.7\n",
      "- s_Average.Precol.GPA                 1   1167.4 1310.7\n",
      "<none>                                     1161.5 1311.6\n",
      "- factor(funding_indicator)            1   1179.1 1322.4\n",
      "- s_start_year                         1   1200.5 1343.7\n",
      "\n",
      "Step:  AIC=1255.47\n",
      "Y ~ s_start_age + factor(Gender) + factor(funding_indicator) + \n",
      "    avs_net_cost + s_Average.Precol.GPA + s_GRE.Combined.General.Write.Score + \n",
      "    s_GRE.Combined.Quantitative.Score + s_GRE.Combined.General.Verbal.Score + \n",
      "    factor(gap_indicator) + GPA_trend + s_start_year\n",
      "\n",
      "                                      Df Deviance    AIC\n",
      "- factor(Gender)                       1   1173.6 1248.7\n",
      "- avs_net_cost                         1   1173.6 1248.7\n",
      "- factor(gap_indicator)                1   1174.4 1249.5\n",
      "- s_GRE.Combined.Quantitative.Score    1   1174.5 1249.6\n",
      "- s_start_age                          1   1174.7 1249.8\n",
      "- GPA_trend                            1   1175.2 1250.2\n",
      "- s_GRE.Combined.General.Write.Score   1   1175.7 1250.8\n",
      "- s_GRE.Combined.General.Verbal.Score  1   1177.4 1252.4\n",
      "- s_Average.Precol.GPA                 1   1179.2 1254.2\n",
      "<none>                                     1173.6 1255.5\n",
      "- factor(funding_indicator)            1   1191.8 1266.8\n",
      "- s_start_year                         1   1208.7 1283.7\n",
      "+ factor(Citizenship)                 10   1161.5 1311.6\n",
      "\n",
      "Step:  AIC=1248.66\n",
      "Y ~ s_start_age + factor(funding_indicator) + avs_net_cost + \n",
      "    s_Average.Precol.GPA + s_GRE.Combined.General.Write.Score + \n",
      "    s_GRE.Combined.Quantitative.Score + s_GRE.Combined.General.Verbal.Score + \n",
      "    factor(gap_indicator) + GPA_trend + s_start_year\n",
      "\n",
      "                                      Df Deviance    AIC\n",
      "- avs_net_cost                         1   1173.6 1241.8\n",
      "- factor(gap_indicator)                1   1174.4 1242.6\n",
      "- s_GRE.Combined.Quantitative.Score    1   1174.5 1242.8\n",
      "- s_start_age                          1   1174.7 1243.0\n",
      "- GPA_trend                            1   1175.2 1243.4\n",
      "- s_GRE.Combined.General.Write.Score   1   1175.7 1244.0\n",
      "- s_GRE.Combined.General.Verbal.Score  1   1177.4 1245.6\n",
      "- s_Average.Precol.GPA                 1   1179.2 1247.4\n",
      "<none>                                     1173.6 1248.7\n",
      "+ factor(Gender)                       1   1173.6 1255.5\n",
      "- factor(funding_indicator)            1   1191.9 1260.1\n",
      "- s_start_year                         1   1208.7 1276.9\n",
      "+ factor(Citizenship)                 10   1161.6 1304.9\n",
      "\n",
      "Step:  AIC=1241.85\n",
      "Y ~ s_start_age + factor(funding_indicator) + s_Average.Precol.GPA + \n",
      "    s_GRE.Combined.General.Write.Score + s_GRE.Combined.Quantitative.Score + \n",
      "    s_GRE.Combined.General.Verbal.Score + factor(gap_indicator) + \n",
      "    GPA_trend + s_start_year\n",
      "\n",
      "                                      Df Deviance    AIC\n",
      "- factor(gap_indicator)                1   1174.5 1235.8\n",
      "- s_GRE.Combined.Quantitative.Score    1   1174.5 1235.9\n",
      "- s_start_age                          1   1174.7 1236.1\n",
      "- GPA_trend                            1   1175.2 1236.6\n",
      "- s_GRE.Combined.General.Write.Score   1   1175.7 1237.1\n",
      "- s_GRE.Combined.General.Verbal.Score  1   1177.4 1238.8\n",
      "- s_Average.Precol.GPA                 1   1179.2 1240.7\n",
      "<none>                                     1173.6 1241.8\n",
      "+ avs_net_cost                         1   1173.6 1248.7\n",
      "+ factor(Gender)                       1   1173.6 1248.7\n",
      "- factor(funding_indicator)            1   1192.0 1253.4\n",
      "- s_start_year                         1   1209.4 1270.8\n",
      "+ factor(Citizenship)                 10   1161.6 1298.0\n",
      "\n",
      "Step:  AIC=1235.85\n",
      "Y ~ s_start_age + factor(funding_indicator) + s_Average.Precol.GPA + \n",
      "    s_GRE.Combined.General.Write.Score + s_GRE.Combined.Quantitative.Score + \n",
      "    s_GRE.Combined.General.Verbal.Score + GPA_trend + s_start_year\n",
      "\n",
      "                                      Df Deviance    AIC\n",
      "- s_GRE.Combined.Quantitative.Score    1   1175.4 1230.0\n",
      "- s_start_age                          1   1175.5 1230.1\n",
      "- GPA_trend                            1   1176.0 1230.6\n",
      "- s_GRE.Combined.General.Write.Score   1   1176.6 1231.2\n",
      "- s_GRE.Combined.General.Verbal.Score  1   1178.2 1232.8\n",
      "- s_Average.Precol.GPA                 1   1180.2 1234.8\n",
      "<none>                                     1174.5 1235.8\n",
      "+ factor(gap_indicator)                1   1173.6 1241.8\n",
      "+ avs_net_cost                         1   1174.4 1242.6\n",
      "+ factor(Gender)                       1   1174.5 1242.7\n",
      "- factor(funding_indicator)            1   1192.5 1247.1\n",
      "- s_start_year                         1   1213.6 1268.2\n",
      "+ factor(Citizenship)                 10   1162.4 1292.0\n",
      "\n",
      "Step:  AIC=1229.97\n",
      "Y ~ s_start_age + factor(funding_indicator) + s_Average.Precol.GPA + \n",
      "    s_GRE.Combined.General.Write.Score + s_GRE.Combined.General.Verbal.Score + \n",
      "    GPA_trend + s_start_year\n",
      "\n",
      "                                      Df Deviance    AIC\n",
      "- s_start_age                          1   1176.5 1224.3\n",
      "- GPA_trend                            1   1177.0 1224.8\n",
      "- s_GRE.Combined.General.Write.Score   1   1178.6 1226.3\n",
      "- s_GRE.Combined.General.Verbal.Score  1   1179.5 1227.2\n",
      "- s_Average.Precol.GPA                 1   1181.3 1229.1\n",
      "<none>                                     1175.4 1230.0\n",
      "+ s_GRE.Combined.Quantitative.Score    1   1174.5 1235.8\n",
      "+ factor(gap_indicator)                1   1174.5 1235.9\n",
      "+ avs_net_cost                         1   1175.4 1236.8\n",
      "+ factor(Gender)                       1   1175.4 1236.8\n",
      "- factor(funding_indicator)            1   1193.1 1240.8\n",
      "- s_start_year                         1   1223.0 1270.7\n",
      "+ factor(Citizenship)                 10   1162.8 1285.6\n",
      "\n",
      "Step:  AIC=1224.28\n",
      "Y ~ factor(funding_indicator) + s_Average.Precol.GPA + s_GRE.Combined.General.Write.Score + \n",
      "    s_GRE.Combined.General.Verbal.Score + GPA_trend + s_start_year\n",
      "\n",
      "                                      Df Deviance    AIC\n",
      "- GPA_trend                            1   1178.1 1219.0\n",
      "- s_GRE.Combined.General.Write.Score   1   1180.3 1221.2\n",
      "- s_GRE.Combined.General.Verbal.Score  1   1180.4 1221.4\n",
      "- s_Average.Precol.GPA                 1   1182.2 1223.2\n",
      "<none>                                     1176.5 1224.3\n",
      "+ s_start_age                          1   1175.4 1230.0\n",
      "+ s_GRE.Combined.Quantitative.Score    1   1175.5 1230.1\n",
      "+ factor(gap_indicator)                1   1175.7 1230.3\n",
      "+ avs_net_cost                         1   1176.5 1231.1\n",
      "+ factor(Gender)                       1   1176.5 1231.1\n",
      "- factor(funding_indicator)            1   1193.1 1234.0\n",
      "- s_start_year                         1   1223.0 1263.9\n",
      "+ factor(Citizenship)                 10   1165.2 1281.1\n",
      "\n",
      "Step:  AIC=1219.04\n",
      "Y ~ factor(funding_indicator) + s_Average.Precol.GPA + s_GRE.Combined.General.Write.Score + \n",
      "    s_GRE.Combined.General.Verbal.Score + s_start_year\n",
      "\n",
      "                                      Df Deviance    AIC\n",
      "- s_GRE.Combined.General.Write.Score   1   1181.7 1215.8\n",
      "- s_GRE.Combined.General.Verbal.Score  1   1182.5 1216.6\n",
      "- s_Average.Precol.GPA                 1   1183.7 1217.8\n",
      "<none>                                     1178.1 1219.0\n",
      "+ GPA_trend                            1   1176.5 1224.3\n",
      "+ s_start_age                          1   1177.0 1224.8\n",
      "+ s_GRE.Combined.Quantitative.Score    1   1177.1 1224.8\n",
      "+ factor(gap_indicator)                1   1177.3 1225.0\n",
      "+ avs_net_cost                         1   1178.1 1225.8\n",
      "+ factor(Gender)                       1   1178.1 1225.9\n",
      "- factor(funding_indicator)            1   1194.6 1228.7\n",
      "- s_start_year                         1   1225.2 1259.3\n",
      "+ factor(Citizenship)                 10   1167.2 1276.4\n"
     ]
    },
    {
     "name": "stdout",
     "output_type": "stream",
     "text": [
      "\n",
      "Step:  AIC=1215.78\n",
      "Y ~ factor(funding_indicator) + s_Average.Precol.GPA + s_GRE.Combined.General.Verbal.Score + \n",
      "    s_start_year\n",
      "\n",
      "                                      Df Deviance    AIC\n",
      "- s_Average.Precol.GPA                 1   1186.0 1213.3\n",
      "<none>                                     1181.7 1215.8\n",
      "- s_GRE.Combined.General.Verbal.Score  1   1190.9 1218.2\n",
      "+ s_GRE.Combined.General.Write.Score   1   1178.1 1219.0\n",
      "+ s_GRE.Combined.Quantitative.Score    1   1179.4 1220.3\n",
      "+ s_start_age                          1   1180.0 1221.0\n",
      "+ GPA_trend                            1   1180.3 1221.2\n",
      "+ factor(gap_indicator)                1   1180.8 1221.7\n",
      "+ avs_net_cost                         1   1181.7 1222.6\n",
      "+ factor(Gender)                       1   1181.7 1222.6\n",
      "- factor(funding_indicator)            1   1197.1 1224.4\n",
      "- s_start_year                         1   1231.0 1258.3\n",
      "+ factor(Citizenship)                 10   1168.5 1270.8\n",
      "\n",
      "Step:  AIC=1213.29\n",
      "Y ~ factor(funding_indicator) + s_GRE.Combined.General.Verbal.Score + \n",
      "    s_start_year\n",
      "\n",
      "                                      Df Deviance    AIC\n",
      "<none>                                     1186.0 1213.3\n",
      "- s_GRE.Combined.General.Verbal.Score  1   1194.0 1214.5\n",
      "+ s_Average.Precol.GPA                 1   1181.7 1215.8\n",
      "+ s_GRE.Combined.General.Write.Score   1   1183.7 1217.8\n",
      "+ s_GRE.Combined.Quantitative.Score    1   1183.8 1217.9\n",
      "+ s_start_age                          1   1184.7 1218.8\n",
      "+ GPA_trend                            1   1184.7 1218.8\n",
      "+ factor(gap_indicator)                1   1185.0 1219.1\n",
      "+ avs_net_cost                         1   1186.0 1220.1\n",
      "+ factor(Gender)                       1   1186.0 1220.1\n",
      "- factor(funding_indicator)            1   1202.3 1222.8\n",
      "- s_start_year                         1   1235.5 1256.0\n",
      "+ factor(Citizenship)                 10   1173.5 1269.0\n"
     ]
    }
   ],
   "source": [
    "log_mod_h_a_bic = stepAIC(log_mod_h_a, direction = \"both\", k = log(b_n))"
   ]
  },
  {
   "cell_type": "markdown",
   "metadata": {},
   "source": [
    "<b> Significant variables both BIC selects:"
   ]
  },
  {
   "cell_type": "code",
   "execution_count": 32,
   "metadata": {},
   "outputs": [
    {
     "data": {
      "text/html": [
       "<table>\n",
       "<thead><tr><th></th><th scope=col>Estimate</th><th scope=col>Pr(&gt;|z|)</th></tr></thead>\n",
       "<tbody>\n",
       "\t<tr><th scope=row>factor(funding_indicator)1</th><td> 0.64293</td><td>0.00006 </td></tr>\n",
       "\t<tr><th scope=row>s_GRE.Combined.General.Verbal.Score</th><td>-0.54242</td><td>0.03417 </td></tr>\n",
       "\t<tr><th scope=row>s_start_year</th><td>-0.48063</td><td>0.00000 </td></tr>\n",
       "</tbody>\n",
       "</table>\n"
      ],
      "text/latex": [
       "\\begin{tabular}{r|ll}\n",
       "  & Estimate & Pr(>\\textbar{}z\\textbar{})\\\\\n",
       "\\hline\n",
       "\tfactor(funding\\_indicator)1 &  0.64293 & 0.00006 \\\\\n",
       "\ts\\_GRE.Combined.General.Verbal.Score & -0.54242 & 0.03417 \\\\\n",
       "\ts\\_start\\_year & -0.48063 & 0.00000 \\\\\n",
       "\\end{tabular}\n"
      ],
      "text/markdown": [
       "\n",
       "| <!--/--> | Estimate | Pr(>|z|) |\n",
       "|---|---|---|\n",
       "| factor(funding_indicator)1 |  0.64293 | 0.00006  |\n",
       "| s_GRE.Combined.General.Verbal.Score | -0.54242 | 0.03417  |\n",
       "| s_start_year | -0.48063 | 0.00000  |\n",
       "\n"
      ],
      "text/plain": [
       "                                    Estimate Pr(>|z|)\n",
       "factor(funding_indicator)1           0.64293 0.00006 \n",
       "s_GRE.Combined.General.Verbal.Score -0.54242 0.03417 \n",
       "s_start_year                        -0.48063 0.00000 "
      ]
     },
     "metadata": {},
     "output_type": "display_data"
    }
   ],
   "source": [
    "round(summary(log_mod_h_a_bic)$coeff[which(summary(log_mod_h_a_bic)$coef[,4] <= .05),c(1,4)],5)"
   ]
  },
  {
   "cell_type": "markdown",
   "metadata": {},
   "source": [
    "# Management Analysis"
   ]
  },
  {
   "cell_type": "markdown",
   "metadata": {},
   "source": [
    "<b> Logistic regression model:"
   ]
  },
  {
   "cell_type": "code",
   "execution_count": 33,
   "metadata": {},
   "outputs": [
    {
     "data": {
      "text/plain": [
       "\n",
       "Call:\n",
       "glm(formula = Y ~ s_start_age + factor(Gender) + factor(Citizenship) + \n",
       "    avs_net_cost + s_Average.Precol.GPA + s_GRE.Combined.General.Write.Score + \n",
       "    s_GRE.Combined.Quantitative.Score + s_GRE.Combined.General.Verbal.Score + \n",
       "    factor(gap_indicator) + GPA_trend + s_start_year, family = \"binomial\", \n",
       "    data = Management_df)\n",
       "\n",
       "Deviance Residuals: \n",
       "    Min       1Q   Median       3Q      Max  \n",
       "-2.1295  -0.4916   0.3455   0.7923   1.5133  \n",
       "\n",
       "Coefficients:\n",
       "                                        Estimate Std. Error z value Pr(>|z|)\n",
       "(Intercept)                              1.44215    1.22207   1.180    0.238\n",
       "s_start_age                              0.50459    0.76275   0.662    0.508\n",
       "factor(Gender)Male                      -1.22344    0.83806  -1.460    0.144\n",
       "factor(Citizenship)Asia                  0.83152    1.17422   0.708    0.479\n",
       "factor(Citizenship)Asian                 1.45387    1.76497   0.824    0.410\n",
       "factor(Citizenship)China                 0.79048    1.43813   0.550    0.583\n",
       "factor(Citizenship)Europe               17.33122 3956.18050   0.004    0.997\n",
       "factor(Citizenship)Hispanic or Latino    1.91673 4417.73948   0.000    1.000\n",
       "factor(Citizenship)India                 0.28520    1.33698   0.213    0.831\n",
       "factor(Citizenship)Unknown               0.87246    1.60644   0.543    0.587\n",
       "avs_net_cost                             2.23172    1.65485   1.349    0.177\n",
       "s_Average.Precol.GPA                     0.59491    0.51387   1.158    0.247\n",
       "s_GRE.Combined.General.Write.Score       1.86024    1.30475   1.426    0.154\n",
       "s_GRE.Combined.Quantitative.Score        8.37887    5.79849   1.445    0.148\n",
       "s_GRE.Combined.General.Verbal.Score     -1.51926    2.54450  -0.597    0.550\n",
       "factor(gap_indicator)1                  17.21786 1965.97518   0.009    0.993\n",
       "GPA_trend                                2.00343    2.23811   0.895    0.371\n",
       "s_start_year                             0.05529    0.64210   0.086    0.931\n",
       "\n",
       "(Dispersion parameter for binomial family taken to be 1)\n",
       "\n",
       "    Null deviance: 74.726  on 57  degrees of freedom\n",
       "Residual deviance: 51.673  on 40  degrees of freedom\n",
       "AIC: 87.673\n",
       "\n",
       "Number of Fisher Scoring iterations: 16\n"
      ]
     },
     "metadata": {},
     "output_type": "display_data"
    }
   ],
   "source": [
    "log_mod_m = glm(Y~s_start_age+factor(Gender)+factor(Citizenship)+\n",
    "                avs_net_cost+s_Average.Precol.GPA+s_GRE.Combined.General.Write.Score+s_GRE.Combined.Quantitative.Score+s_GRE.Combined.General.Verbal.Score+factor(gap_indicator)+GPA_trend+s_start_year,\n",
    "                data=Management_df,family=\"binomial\")\n",
    "summary(log_mod_m)"
   ]
  },
  {
   "cell_type": "markdown",
   "metadata": {},
   "source": [
    "<b> Significant Variables of logistic regression model: "
   ]
  },
  {
   "cell_type": "code",
   "execution_count": 34,
   "metadata": {},
   "outputs": [
    {
     "data": {
      "text/html": [
       "<table>\n",
       "<thead><tr><th scope=col>Estimate</th><th scope=col>Pr(&gt;|z|)</th></tr></thead>\n",
       "<tbody>\n",
       "</tbody>\n",
       "</table>\n"
      ],
      "text/latex": [
       "\\begin{tabular}{ll}\n",
       " Estimate & Pr(>\\textbar{}z\\textbar{})\\\\\n",
       "\\hline\n",
       "\\end{tabular}\n"
      ],
      "text/markdown": [
       "\n",
       "| Estimate | Pr(>|z|) |\n",
       "|---|---|\n",
       "\n"
      ],
      "text/plain": [
       "     Estimate Pr(>|z|)"
      ]
     },
     "metadata": {},
     "output_type": "display_data"
    }
   ],
   "source": [
    "round(summary(log_mod_m)$coeff[which(summary(log_mod_m)$coef[,4] <= .05),c(1,4)],5)"
   ]
  },
  {
   "cell_type": "markdown",
   "metadata": {},
   "source": [
    "<b> Both AIC:"
   ]
  },
  {
   "cell_type": "code",
   "execution_count": 35,
   "metadata": {
    "scrolled": false
   },
   "outputs": [
    {
     "name": "stdout",
     "output_type": "stream",
     "text": [
      "Start:  AIC=87.67\n",
      "Y ~ s_start_age + factor(Gender) + factor(Citizenship) + avs_net_cost + \n",
      "    s_Average.Precol.GPA + s_GRE.Combined.General.Write.Score + \n",
      "    s_GRE.Combined.Quantitative.Score + s_GRE.Combined.General.Verbal.Score + \n",
      "    factor(gap_indicator) + GPA_trend + s_start_year\n",
      "\n",
      "                                      Df Deviance    AIC\n",
      "- factor(Citizenship)                  7   53.322 75.322\n",
      "- s_start_year                         1   51.681 85.681\n",
      "- s_GRE.Combined.General.Verbal.Score  1   52.027 86.027\n",
      "- s_start_age                          1   52.120 86.120\n",
      "- GPA_trend                            1   52.572 86.572\n",
      "- s_Average.Precol.GPA                 1   53.054 87.054\n",
      "<none>                                     51.673 87.673\n",
      "- factor(Gender)                       1   53.947 87.947\n",
      "- avs_net_cost                         1   53.990 87.990\n",
      "- factor(gap_indicator)                1   54.559 88.559\n",
      "- s_GRE.Combined.Quantitative.Score    1   54.769 88.769\n",
      "- s_GRE.Combined.General.Write.Score   1   55.719 89.719\n",
      "\n",
      "Step:  AIC=75.32\n",
      "Y ~ s_start_age + factor(Gender) + avs_net_cost + s_Average.Precol.GPA + \n",
      "    s_GRE.Combined.General.Write.Score + s_GRE.Combined.Quantitative.Score + \n",
      "    s_GRE.Combined.General.Verbal.Score + factor(gap_indicator) + \n",
      "    GPA_trend + s_start_year\n",
      "\n",
      "                                      Df Deviance    AIC\n",
      "- s_start_year                         1   53.364 73.364\n",
      "- s_GRE.Combined.General.Verbal.Score  1   53.549 73.549\n",
      "- s_start_age                          1   53.558 73.558\n",
      "- GPA_trend                            1   54.642 74.642\n",
      "- s_Average.Precol.GPA                 1   54.800 74.800\n",
      "- avs_net_cost                         1   55.183 75.183\n",
      "<none>                                     53.322 75.322\n",
      "- factor(Gender)                       1   55.353 75.353\n",
      "- s_GRE.Combined.Quantitative.Score    1   57.063 77.063\n",
      "- factor(gap_indicator)                1   57.416 77.416\n",
      "- s_GRE.Combined.General.Write.Score   1   57.707 77.707\n",
      "+ factor(Citizenship)                  7   51.673 87.673\n",
      "\n",
      "Step:  AIC=73.36\n",
      "Y ~ s_start_age + factor(Gender) + avs_net_cost + s_Average.Precol.GPA + \n",
      "    s_GRE.Combined.General.Write.Score + s_GRE.Combined.Quantitative.Score + \n",
      "    s_GRE.Combined.General.Verbal.Score + factor(gap_indicator) + \n",
      "    GPA_trend\n",
      "\n",
      "                                      Df Deviance    AIC\n",
      "- s_start_age                          1   53.617 71.617\n",
      "- s_GRE.Combined.General.Verbal.Score  1   53.623 71.623\n",
      "- s_Average.Precol.GPA                 1   54.839 72.839\n",
      "- GPA_trend                            1   55.056 73.056\n",
      "<none>                                     53.364 73.364\n",
      "- factor(Gender)                       1   55.497 73.497\n",
      "- avs_net_cost                         1   55.604 73.604\n",
      "- s_GRE.Combined.Quantitative.Score    1   57.130 75.130\n",
      "+ s_start_year                         1   53.322 75.322\n",
      "- factor(gap_indicator)                1   57.824 75.824\n",
      "- s_GRE.Combined.General.Write.Score   1   58.027 76.027\n",
      "+ factor(Citizenship)                  7   51.681 85.681\n",
      "\n",
      "Step:  AIC=71.62\n",
      "Y ~ factor(Gender) + avs_net_cost + s_Average.Precol.GPA + s_GRE.Combined.General.Write.Score + \n",
      "    s_GRE.Combined.Quantitative.Score + s_GRE.Combined.General.Verbal.Score + \n",
      "    factor(gap_indicator) + GPA_trend\n",
      "\n",
      "                                      Df Deviance    AIC\n",
      "- s_GRE.Combined.General.Verbal.Score  1   53.792 69.792\n",
      "- s_Average.Precol.GPA                 1   54.935 70.935\n",
      "- GPA_trend                            1   55.221 71.221\n",
      "<none>                                     53.617 71.617\n",
      "- factor(Gender)                       1   55.624 71.624\n",
      "- avs_net_cost                         1   56.287 72.287\n",
      "- s_GRE.Combined.Quantitative.Score    1   57.139 73.139\n",
      "+ s_start_age                          1   53.364 73.364\n",
      "+ s_start_year                         1   53.558 73.558\n",
      "- factor(gap_indicator)                1   57.896 73.896\n",
      "- s_GRE.Combined.General.Write.Score   1   58.175 74.175\n",
      "+ factor(Citizenship)                  7   52.121 84.121\n",
      "\n",
      "Step:  AIC=69.79\n",
      "Y ~ factor(Gender) + avs_net_cost + s_Average.Precol.GPA + s_GRE.Combined.General.Write.Score + \n",
      "    s_GRE.Combined.Quantitative.Score + factor(gap_indicator) + \n",
      "    GPA_trend\n",
      "\n",
      "                                      Df Deviance    AIC\n",
      "- s_Average.Precol.GPA                 1   55.054 69.054\n",
      "- GPA_trend                            1   55.334 69.334\n",
      "- factor(Gender)                       1   55.633 69.633\n",
      "<none>                                     53.792 69.792\n",
      "- avs_net_cost                         1   56.386 70.386\n",
      "- s_GRE.Combined.Quantitative.Score    1   57.402 71.402\n",
      "+ s_GRE.Combined.General.Verbal.Score  1   53.617 71.617\n",
      "+ s_start_age                          1   53.623 71.623\n",
      "+ s_start_year                         1   53.708 71.708\n",
      "- factor(gap_indicator)                1   57.954 71.954\n",
      "- s_GRE.Combined.General.Write.Score   1   59.806 73.806\n",
      "+ factor(Citizenship)                  7   52.410 82.410\n",
      "\n",
      "Step:  AIC=69.05\n",
      "Y ~ factor(Gender) + avs_net_cost + s_GRE.Combined.General.Write.Score + \n",
      "    s_GRE.Combined.Quantitative.Score + factor(gap_indicator) + \n",
      "    GPA_trend\n",
      "\n",
      "                                      Df Deviance    AIC\n",
      "- factor(Gender)                       1   56.887 68.887\n",
      "<none>                                     55.054 69.054\n",
      "- avs_net_cost                         1   57.102 69.102\n",
      "+ s_Average.Precol.GPA                 1   53.792 69.792\n",
      "- s_GRE.Combined.Quantitative.Score    1   58.253 70.253\n",
      "- GPA_trend                            1   58.404 70.404\n",
      "+ s_GRE.Combined.General.Verbal.Score  1   54.935 70.935\n",
      "+ s_start_year                         1   54.986 70.986\n",
      "+ s_start_age                          1   54.995 70.995\n",
      "- factor(gap_indicator)                1   59.434 71.434\n",
      "- s_GRE.Combined.General.Write.Score   1   60.915 72.915\n",
      "+ factor(Citizenship)                  7   53.462 81.462\n",
      "\n",
      "Step:  AIC=68.89\n",
      "Y ~ avs_net_cost + s_GRE.Combined.General.Write.Score + s_GRE.Combined.Quantitative.Score + \n",
      "    factor(gap_indicator) + GPA_trend\n",
      "\n",
      "                                      Df Deviance    AIC\n",
      "- avs_net_cost                         1   58.518 68.518\n",
      "<none>                                     56.887 68.887\n",
      "+ factor(Gender)                       1   55.054 69.054\n",
      "- s_GRE.Combined.Quantitative.Score    1   59.547 69.547\n",
      "+ s_Average.Precol.GPA                 1   55.633 69.633\n",
      "- factor(gap_indicator)                1   60.259 70.259\n",
      "+ s_start_year                         1   56.764 70.764\n",
      "+ s_start_age                          1   56.860 70.860\n",
      "+ s_GRE.Combined.General.Verbal.Score  1   56.887 70.887\n",
      "- GPA_trend                            1   61.283 71.283\n",
      "- s_GRE.Combined.General.Write.Score   1   63.731 73.731\n",
      "+ factor(Citizenship)                  7   55.318 81.318\n",
      "\n",
      "Step:  AIC=68.52\n",
      "Y ~ s_GRE.Combined.General.Write.Score + s_GRE.Combined.Quantitative.Score + \n",
      "    factor(gap_indicator) + GPA_trend\n",
      "\n",
      "                                      Df Deviance    AIC\n",
      "<none>                                     58.518 68.518\n",
      "+ avs_net_cost                         1   56.887 68.887\n",
      "+ factor(Gender)                       1   57.102 69.102\n",
      "- s_GRE.Combined.Quantitative.Score    1   61.508 69.508\n",
      "+ s_Average.Precol.GPA                 1   57.857 69.857\n",
      "+ s_start_year                         1   57.930 69.930\n",
      "- factor(gap_indicator)                1   62.051 70.051\n",
      "- GPA_trend                            1   62.239 70.239\n",
      "+ s_start_age                          1   58.259 70.259\n",
      "+ s_GRE.Combined.General.Verbal.Score  1   58.517 70.517\n",
      "- s_GRE.Combined.General.Write.Score   1   66.143 74.143\n",
      "+ factor(Citizenship)                  7   57.034 81.034\n"
     ]
    }
   ],
   "source": [
    "log_mod_m_aic= stepAIC(log_mod_m, direction = 'both')"
   ]
  },
  {
   "cell_type": "markdown",
   "metadata": {},
   "source": [
    "<b> Significant variables both AIC selects:"
   ]
  },
  {
   "cell_type": "code",
   "execution_count": 36,
   "metadata": {},
   "outputs": [
    {
     "data": {
      "text/plain": [
       "\n",
       "Call:\n",
       "glm(formula = Y ~ s_GRE.Combined.General.Write.Score + s_GRE.Combined.Quantitative.Score + \n",
       "    factor(gap_indicator) + GPA_trend, family = \"binomial\", data = Management_df)\n",
       "\n",
       "Deviance Residuals: \n",
       "    Min       1Q   Median       3Q      Max  \n",
       "-2.1061  -0.5955   0.7423   0.8650   1.0392  \n",
       "\n",
       "Coefficients:\n",
       "                                    Estimate Std. Error z value Pr(>|z|)  \n",
       "(Intercept)                           0.7832     0.3351   2.337   0.0194 *\n",
       "s_GRE.Combined.General.Write.Score    2.2017     1.1743   1.875   0.0608 .\n",
       "s_GRE.Combined.Quantitative.Score     6.4343     4.5623   1.410   0.1584  \n",
       "factor(gap_indicator)1               16.8160  1765.0790   0.010   0.9924  \n",
       "GPA_trend                             2.8072     1.6378   1.714   0.0865 .\n",
       "---\n",
       "Signif. codes:  0 '***' 0.001 '**' 0.01 '*' 0.05 '.' 0.1 ' ' 1\n",
       "\n",
       "(Dispersion parameter for binomial family taken to be 1)\n",
       "\n",
       "    Null deviance: 74.726  on 57  degrees of freedom\n",
       "Residual deviance: 58.518  on 53  degrees of freedom\n",
       "AIC: 68.518\n",
       "\n",
       "Number of Fisher Scoring iterations: 16\n"
      ]
     },
     "metadata": {},
     "output_type": "display_data"
    }
   ],
   "source": [
    "summary(log_mod_m_aic)"
   ]
  },
  {
   "cell_type": "markdown",
   "metadata": {},
   "source": [
    "<b> Both BIC:"
   ]
  },
  {
   "cell_type": "code",
   "execution_count": 37,
   "metadata": {
    "scrolled": false
   },
   "outputs": [
    {
     "name": "stdout",
     "output_type": "stream",
     "text": [
      "Start:  AIC=124.76\n",
      "Y ~ s_start_age + factor(Gender) + factor(Citizenship) + avs_net_cost + \n",
      "    s_Average.Precol.GPA + s_GRE.Combined.General.Write.Score + \n",
      "    s_GRE.Combined.Quantitative.Score + s_GRE.Combined.General.Verbal.Score + \n",
      "    factor(gap_indicator) + GPA_trend + s_start_year\n",
      "\n",
      "                                      Df Deviance     AIC\n",
      "- factor(Citizenship)                  7   53.322  97.987\n",
      "- s_start_year                         1   51.681 120.708\n",
      "- s_GRE.Combined.General.Verbal.Score  1   52.027 121.054\n",
      "- s_start_age                          1   52.120 121.147\n",
      "- GPA_trend                            1   52.572 121.600\n",
      "- s_Average.Precol.GPA                 1   53.054 122.081\n",
      "- factor(Gender)                       1   53.947 122.975\n",
      "- avs_net_cost                         1   53.990 123.018\n",
      "- factor(gap_indicator)                1   54.559 123.586\n",
      "- s_GRE.Combined.Quantitative.Score    1   54.769 123.797\n",
      "- s_GRE.Combined.General.Write.Score   1   55.719 124.747\n",
      "<none>                                     51.673 124.761\n",
      "\n",
      "Step:  AIC=97.99\n",
      "Y ~ s_start_age + factor(Gender) + avs_net_cost + s_Average.Precol.GPA + \n",
      "    s_GRE.Combined.General.Write.Score + s_GRE.Combined.Quantitative.Score + \n",
      "    s_GRE.Combined.General.Verbal.Score + factor(gap_indicator) + \n",
      "    GPA_trend + s_start_year\n",
      "\n",
      "                                      Df Deviance     AIC\n",
      "- s_start_year                         1   53.364  93.969\n",
      "- s_GRE.Combined.General.Verbal.Score  1   53.549  94.153\n",
      "- s_start_age                          1   53.558  94.163\n",
      "- GPA_trend                            1   54.642  95.246\n",
      "- s_Average.Precol.GPA                 1   54.800  95.405\n",
      "- avs_net_cost                         1   55.183  95.787\n",
      "- factor(Gender)                       1   55.353  95.958\n",
      "- s_GRE.Combined.Quantitative.Score    1   57.063  97.667\n",
      "<none>                                     53.322  97.987\n",
      "- factor(gap_indicator)                1   57.416  98.020\n",
      "- s_GRE.Combined.General.Write.Score   1   57.707  98.311\n",
      "+ factor(Citizenship)                  7   51.673 124.761\n",
      "\n",
      "Step:  AIC=93.97\n",
      "Y ~ s_start_age + factor(Gender) + avs_net_cost + s_Average.Precol.GPA + \n",
      "    s_GRE.Combined.General.Write.Score + s_GRE.Combined.Quantitative.Score + \n",
      "    s_GRE.Combined.General.Verbal.Score + factor(gap_indicator) + \n",
      "    GPA_trend\n",
      "\n",
      "                                      Df Deviance     AIC\n",
      "- s_start_age                          1   53.617  90.161\n",
      "- s_GRE.Combined.General.Verbal.Score  1   53.623  90.167\n",
      "- s_Average.Precol.GPA                 1   54.839  91.383\n",
      "- GPA_trend                            1   55.056  91.600\n",
      "- factor(Gender)                       1   55.497  92.041\n",
      "- avs_net_cost                         1   55.604  92.148\n",
      "- s_GRE.Combined.Quantitative.Score    1   57.130  93.674\n",
      "<none>                                     53.364  93.969\n",
      "- factor(gap_indicator)                1   57.824  94.368\n",
      "- s_GRE.Combined.General.Write.Score   1   58.027  94.571\n",
      "+ s_start_year                         1   53.322  97.987\n",
      "+ factor(Citizenship)                  7   51.681 120.708\n",
      "\n",
      "Step:  AIC=90.16\n",
      "Y ~ factor(Gender) + avs_net_cost + s_Average.Precol.GPA + s_GRE.Combined.General.Write.Score + \n",
      "    s_GRE.Combined.Quantitative.Score + s_GRE.Combined.General.Verbal.Score + \n",
      "    factor(gap_indicator) + GPA_trend\n",
      "\n",
      "                                      Df Deviance     AIC\n",
      "- s_GRE.Combined.General.Verbal.Score  1   53.792  86.276\n",
      "- s_Average.Precol.GPA                 1   54.935  87.418\n",
      "- GPA_trend                            1   55.221  87.705\n",
      "- factor(Gender)                       1   55.624  88.107\n",
      "- avs_net_cost                         1   56.287  88.770\n",
      "- s_GRE.Combined.Quantitative.Score    1   57.139  89.623\n",
      "<none>                                     53.617  90.161\n",
      "- factor(gap_indicator)                1   57.896  90.380\n",
      "- s_GRE.Combined.General.Write.Score   1   58.175  90.659\n",
      "+ s_start_age                          1   53.364  93.969\n",
      "+ s_start_year                         1   53.558  94.163\n",
      "+ factor(Citizenship)                  7   52.121 117.088\n",
      "\n",
      "Step:  AIC=86.28\n",
      "Y ~ factor(Gender) + avs_net_cost + s_Average.Precol.GPA + s_GRE.Combined.General.Write.Score + \n",
      "    s_GRE.Combined.Quantitative.Score + factor(gap_indicator) + \n",
      "    GPA_trend\n",
      "\n",
      "                                      Df Deviance     AIC\n",
      "- s_Average.Precol.GPA                 1   55.054  83.478\n",
      "- GPA_trend                            1   55.334  83.757\n",
      "- factor(Gender)                       1   55.633  84.056\n",
      "- avs_net_cost                         1   56.386  84.809\n",
      "- s_GRE.Combined.Quantitative.Score    1   57.402  85.825\n",
      "<none>                                     53.792  86.276\n",
      "- factor(gap_indicator)                1   57.954  86.377\n",
      "- s_GRE.Combined.General.Write.Score   1   59.806  88.229\n",
      "+ s_GRE.Combined.General.Verbal.Score  1   53.617  90.161\n",
      "+ s_start_age                          1   53.623  90.167\n",
      "+ s_start_year                         1   53.708  90.252\n",
      "+ factor(Citizenship)                  7   52.410 113.316\n",
      "\n",
      "Step:  AIC=83.48\n",
      "Y ~ factor(Gender) + avs_net_cost + s_GRE.Combined.General.Write.Score + \n",
      "    s_GRE.Combined.Quantitative.Score + factor(gap_indicator) + \n",
      "    GPA_trend\n",
      "\n",
      "                                      Df Deviance     AIC\n",
      "- factor(Gender)                       1   56.887  81.250\n",
      "- avs_net_cost                         1   57.102  81.465\n",
      "- s_GRE.Combined.Quantitative.Score    1   58.253  82.616\n",
      "- GPA_trend                            1   58.404  82.767\n",
      "<none>                                     55.054  83.478\n",
      "- factor(gap_indicator)                1   59.434  83.796\n",
      "- s_GRE.Combined.General.Write.Score   1   60.915  85.277\n",
      "+ s_Average.Precol.GPA                 1   53.792  86.276\n",
      "+ s_GRE.Combined.General.Verbal.Score  1   54.935  87.418\n",
      "+ s_start_year                         1   54.986  87.470\n",
      "+ s_start_age                          1   54.995  87.478\n",
      "+ factor(Citizenship)                  7   53.462 110.308\n",
      "\n",
      "Step:  AIC=81.25\n",
      "Y ~ avs_net_cost + s_GRE.Combined.General.Write.Score + s_GRE.Combined.Quantitative.Score + \n",
      "    factor(gap_indicator) + GPA_trend\n",
      "\n",
      "                                      Df Deviance     AIC\n",
      "- avs_net_cost                         1   58.518  78.820\n",
      "- s_GRE.Combined.Quantitative.Score    1   59.547  79.849\n",
      "- factor(gap_indicator)                1   60.259  80.561\n",
      "<none>                                     56.887  81.250\n",
      "- GPA_trend                            1   61.283  81.585\n",
      "+ factor(Gender)                       1   55.054  83.478\n",
      "- s_GRE.Combined.General.Write.Score   1   63.731  84.033\n",
      "+ s_Average.Precol.GPA                 1   55.633  84.056\n",
      "+ s_start_year                         1   56.764  85.187\n",
      "+ s_start_age                          1   56.860  85.283\n",
      "+ s_GRE.Combined.General.Verbal.Score  1   56.887  85.310\n",
      "+ factor(Citizenship)                  7   55.318 108.104\n",
      "\n",
      "Step:  AIC=78.82\n",
      "Y ~ s_GRE.Combined.General.Write.Score + s_GRE.Combined.Quantitative.Score + \n",
      "    factor(gap_indicator) + GPA_trend\n",
      "\n",
      "                                      Df Deviance     AIC\n",
      "- s_GRE.Combined.Quantitative.Score    1   61.508  77.750\n",
      "- factor(gap_indicator)                1   62.051  78.293\n",
      "- GPA_trend                            1   62.239  78.480\n",
      "<none>                                     58.518  78.820\n",
      "+ avs_net_cost                         1   56.887  81.250\n",
      "+ factor(Gender)                       1   57.102  81.465\n",
      "+ s_Average.Precol.GPA                 1   57.857  82.220\n",
      "+ s_start_year                         1   57.930  82.293\n",
      "- s_GRE.Combined.General.Write.Score   1   66.143  82.384\n",
      "+ s_start_age                          1   58.259  82.622\n",
      "+ s_GRE.Combined.General.Verbal.Score  1   58.517  82.880\n",
      "+ factor(Citizenship)                  7   57.034 105.759\n",
      "\n",
      "Step:  AIC=77.75\n",
      "Y ~ s_GRE.Combined.General.Write.Score + factor(gap_indicator) + \n",
      "    GPA_trend\n",
      "\n",
      "                                      Df Deviance     AIC\n",
      "<none>                                     61.508  77.750\n",
      "- GPA_trend                            1   66.038  78.219\n",
      "- s_GRE.Combined.General.Write.Score   1   66.297  78.478\n",
      "- factor(gap_indicator)                1   66.315  78.497\n",
      "+ s_GRE.Combined.Quantitative.Score    1   58.518  78.820\n",
      "+ avs_net_cost                         1   59.547  79.849\n",
      "+ factor(Gender)                       1   60.379  80.681\n",
      "+ s_GRE.Combined.General.Verbal.Score  1   60.658  80.960\n",
      "+ s_start_year                         1   60.979  81.281\n",
      "+ s_Average.Precol.GPA                 1   61.108  81.410\n",
      "+ s_start_age                          1   61.428  81.730\n",
      "+ factor(Citizenship)                  7   59.643 104.308\n"
     ]
    }
   ],
   "source": [
    "log_mod_m_bic = stepAIC(log_mod_m, direction = \"both\", k = log(c_n))"
   ]
  },
  {
   "cell_type": "markdown",
   "metadata": {},
   "source": [
    "<b> Significant variables both BIC selects:"
   ]
  },
  {
   "cell_type": "code",
   "execution_count": 38,
   "metadata": {},
   "outputs": [
    {
     "data": {
      "text/html": [
       "<dl class=dl-horizontal>\n",
       "\t<dt>Estimate</dt>\n",
       "\t\t<dd>0.85495</dd>\n",
       "\t<dt>Pr(&gt;|z|)</dt>\n",
       "\t\t<dd>0.01084</dd>\n",
       "</dl>\n"
      ],
      "text/latex": [
       "\\begin{description*}\n",
       "\\item[Estimate] 0.85495\n",
       "\\item[Pr(>\\textbackslash{}textbar\\{\\}z\\textbackslash{}textbar\\{\\})] 0.01084\n",
       "\\end{description*}\n"
      ],
      "text/markdown": [
       "Estimate\n",
       ":   0.85495Pr(&amp;gt;|z|)\n",
       ":   0.01084\n",
       "\n"
      ],
      "text/plain": [
       "Estimate Pr(>|z|) \n",
       " 0.85495  0.01084 "
      ]
     },
     "metadata": {},
     "output_type": "display_data"
    },
    {
     "data": {
      "text/plain": [
       "\n",
       "Call:\n",
       "glm(formula = Y ~ s_GRE.Combined.General.Write.Score + factor(gap_indicator) + \n",
       "    GPA_trend, family = \"binomial\", data = Management_df)\n",
       "\n",
       "Deviance Residuals: \n",
       "    Min       1Q   Median       3Q      Max  \n",
       "-2.1667  -0.8056   0.7367   0.8419   1.5918  \n",
       "\n",
       "Coefficients:\n",
       "                                    Estimate Std. Error z value Pr(>|z|)  \n",
       "(Intercept)                           0.8550     0.3356   2.548   0.0108 *\n",
       "s_GRE.Combined.General.Write.Score    1.2446     0.6510   1.912   0.0559 .\n",
       "factor(gap_indicator)1               17.2275  1653.2598   0.010   0.9917  \n",
       "GPA_trend                             2.9614     1.5818   1.872   0.0612 .\n",
       "---\n",
       "Signif. codes:  0 '***' 0.001 '**' 0.01 '*' 0.05 '.' 0.1 ' ' 1\n",
       "\n",
       "(Dispersion parameter for binomial family taken to be 1)\n",
       "\n",
       "    Null deviance: 74.726  on 57  degrees of freedom\n",
       "Residual deviance: 61.508  on 54  degrees of freedom\n",
       "AIC: 69.508\n",
       "\n",
       "Number of Fisher Scoring iterations: 16\n"
      ]
     },
     "metadata": {},
     "output_type": "display_data"
    }
   ],
   "source": [
    "round(summary(log_mod_m_bic)$coeff[which(summary(log_mod_m_bic)$coef[,4] <= .05),c(1,4)],5)\n",
    "summary(log_mod_m_bic)"
   ]
  },
  {
   "cell_type": "markdown",
   "metadata": {},
   "source": [
    "# Nursing Analysis"
   ]
  },
  {
   "cell_type": "markdown",
   "metadata": {},
   "source": [
    "<b> Logistic regression model:"
   ]
  },
  {
   "cell_type": "code",
   "execution_count": 39,
   "metadata": {},
   "outputs": [
    {
     "name": "stderr",
     "output_type": "stream",
     "text": [
      "Warning message:\n",
      "\"glm.fit: fitted probabilities numerically 0 or 1 occurred\""
     ]
    },
    {
     "data": {
      "text/plain": [
       "\n",
       "Call:\n",
       "glm(formula = Y ~ s_start_age + factor(Gender) + factor(funding_indicator) + \n",
       "    factor(Citizenship) + avs_net_cost + s_Average.Precol.GPA + \n",
       "    s_GRE.Combined.General.Write.Score + s_GRE.Combined.Quantitative.Score + \n",
       "    s_GRE.Combined.General.Verbal.Score + factor(gap_indicator) + \n",
       "    GPA_trend + s_start_year, family = \"binomial\", data = Nursing_df)\n",
       "\n",
       "Deviance Residuals: \n",
       "     Min        1Q    Median        3Q       Max  \n",
       "-2.33232  -0.93314   0.00028   0.92340   1.75450  \n",
       "\n",
       "Coefficients:\n",
       "                                               Estimate Std. Error z value\n",
       "(Intercept)                                   5.458e-01  5.240e-01   1.042\n",
       "s_start_age                                  -1.609e-01  1.700e-01  -0.947\n",
       "factor(Gender)Male                            1.380e-01  7.476e-01   0.185\n",
       "factor(funding_indicator)1                    6.545e-01  5.232e-01   1.251\n",
       "factor(Citizenship)Africa                     2.039e+01  1.511e+04   0.001\n",
       "factor(Citizenship)Asia                       2.269e-01  1.421e+00   0.160\n",
       "factor(Citizenship)Asian                      8.298e-02  1.012e+00   0.082\n",
       "factor(Citizenship)Black or African American -1.219e+00  1.287e+00  -0.948\n",
       "factor(Citizenship)China                     -2.206e+01  2.923e+04  -0.001\n",
       "factor(Citizenship)Hispanic or Latino         2.132e+01  1.129e+04   0.002\n",
       "factor(Citizenship)Unknown                   -1.204e-01  9.934e-01  -0.121\n",
       "avs_net_cost                                  2.726e-02  3.952e-01   0.069\n",
       "s_Average.Precol.GPA                          4.751e-01  2.877e-01   1.651\n",
       "s_GRE.Combined.General.Write.Score            5.991e+01  6.909e+03   0.009\n",
       "s_GRE.Combined.Quantitative.Score            -1.941e+02  2.069e+04  -0.009\n",
       "s_GRE.Combined.General.Verbal.Score          -5.246e+01  7.423e+03  -0.007\n",
       "factor(gap_indicator)1                        6.866e-01  8.203e-01   0.837\n",
       "GPA_trend                                    -6.563e-01  2.295e+00  -0.286\n",
       "s_start_year                                 -8.331e-01  3.145e-01  -2.649\n",
       "                                             Pr(>|z|)   \n",
       "(Intercept)                                   0.29763   \n",
       "s_start_age                                   0.34383   \n",
       "factor(Gender)Male                            0.85356   \n",
       "factor(funding_indicator)1                    0.21094   \n",
       "factor(Citizenship)Africa                     0.99892   \n",
       "factor(Citizenship)Asia                       0.87318   \n",
       "factor(Citizenship)Asian                      0.93465   \n",
       "factor(Citizenship)Black or African American  0.34338   \n",
       "factor(Citizenship)China                      0.99940   \n",
       "factor(Citizenship)Hispanic or Latino         0.99849   \n",
       "factor(Citizenship)Unknown                    0.90353   \n",
       "avs_net_cost                                  0.94500   \n",
       "s_Average.Precol.GPA                          0.09868 . \n",
       "s_GRE.Combined.General.Write.Score            0.99308   \n",
       "s_GRE.Combined.Quantitative.Score             0.99252   \n",
       "s_GRE.Combined.General.Verbal.Score           0.99436   \n",
       "factor(gap_indicator)1                        0.40262   \n",
       "GPA_trend                                     0.77487   \n",
       "s_start_year                                  0.00808 **\n",
       "---\n",
       "Signif. codes:  0 '***' 0.001 '**' 0.01 '*' 0.05 '.' 0.1 ' ' 1\n",
       "\n",
       "(Dispersion parameter for binomial family taken to be 1)\n",
       "\n",
       "    Null deviance: 155.91  on 116  degrees of freedom\n",
       "Residual deviance: 118.63  on  98  degrees of freedom\n",
       "AIC: 156.63\n",
       "\n",
       "Number of Fisher Scoring iterations: 20\n"
      ]
     },
     "metadata": {},
     "output_type": "display_data"
    }
   ],
   "source": [
    "log_mod_n = glm(Y~s_start_age+factor(Gender)+factor(funding_indicator)+factor(Citizenship)+\n",
    "                avs_net_cost+s_Average.Precol.GPA+s_GRE.Combined.General.Write.Score+s_GRE.Combined.Quantitative.Score+s_GRE.Combined.General.Verbal.Score+factor(gap_indicator)+GPA_trend+s_start_year,\n",
    "                data=Nursing_df,family=\"binomial\")\n",
    "summary(log_mod_n)"
   ]
  },
  {
   "cell_type": "markdown",
   "metadata": {},
   "source": [
    "<b> Significant Variables of logistic regression model: "
   ]
  },
  {
   "cell_type": "code",
   "execution_count": 40,
   "metadata": {},
   "outputs": [
    {
     "data": {
      "text/html": [
       "<dl class=dl-horizontal>\n",
       "\t<dt>Estimate</dt>\n",
       "\t\t<dd>-0.83314</dd>\n",
       "\t<dt>Pr(&gt;|z|)</dt>\n",
       "\t\t<dd>0.00808</dd>\n",
       "</dl>\n"
      ],
      "text/latex": [
       "\\begin{description*}\n",
       "\\item[Estimate] -0.83314\n",
       "\\item[Pr(>\\textbackslash{}textbar\\{\\}z\\textbackslash{}textbar\\{\\})] 0.00808\n",
       "\\end{description*}\n"
      ],
      "text/markdown": [
       "Estimate\n",
       ":   -0.83314Pr(&amp;gt;|z|)\n",
       ":   0.00808\n",
       "\n"
      ],
      "text/plain": [
       "Estimate Pr(>|z|) \n",
       "-0.83314  0.00808 "
      ]
     },
     "metadata": {},
     "output_type": "display_data"
    }
   ],
   "source": [
    "round(summary(log_mod_n)$coeff[which(summary(log_mod_n)$coef[,4] <= .05),c(1,4)],5)"
   ]
  },
  {
   "cell_type": "markdown",
   "metadata": {},
   "source": [
    "<b> Both AIC:"
   ]
  },
  {
   "cell_type": "code",
   "execution_count": 41,
   "metadata": {
    "scrolled": false
   },
   "outputs": [
    {
     "name": "stdout",
     "output_type": "stream",
     "text": [
      "Start:  AIC=156.63\n",
      "Y ~ s_start_age + factor(Gender) + factor(funding_indicator) + \n",
      "    factor(Citizenship) + avs_net_cost + s_Average.Precol.GPA + \n",
      "    s_GRE.Combined.General.Write.Score + s_GRE.Combined.Quantitative.Score + \n",
      "    s_GRE.Combined.General.Verbal.Score + factor(gap_indicator) + \n",
      "    GPA_trend + s_start_year\n",
      "\n"
     ]
    },
    {
     "name": "stderr",
     "output_type": "stream",
     "text": [
      "Warning message:\n",
      "\"glm.fit: fitted probabilities numerically 0 or 1 occurred\"Warning message:\n",
      "\"glm.fit: fitted probabilities numerically 0 or 1 occurred\"Warning message:\n",
      "\"glm.fit: fitted probabilities numerically 0 or 1 occurred\"Warning message:\n",
      "\"glm.fit: fitted probabilities numerically 0 or 1 occurred\"Warning message:\n",
      "\"glm.fit: fitted probabilities numerically 0 or 1 occurred\"Warning message:\n",
      "\"glm.fit: fitted probabilities numerically 0 or 1 occurred\"Warning message:\n",
      "\"glm.fit: fitted probabilities numerically 0 or 1 occurred\"Warning message:\n",
      "\"glm.fit: fitted probabilities numerically 0 or 1 occurred\"Warning message:\n",
      "\"glm.fit: fitted probabilities numerically 0 or 1 occurred\"Warning message:\n",
      "\"glm.fit: fitted probabilities numerically 0 or 1 occurred\""
     ]
    },
    {
     "name": "stdout",
     "output_type": "stream",
     "text": [
      "                                      Df Deviance    AIC\n",
      "- factor(Citizenship)                  7   127.47 151.47\n",
      "- avs_net_cost                         1   118.64 154.64\n",
      "- factor(Gender)                       1   118.67 154.67\n",
      "- GPA_trend                            1   118.72 154.72\n",
      "- factor(gap_indicator)                1   119.35 155.35\n",
      "- s_start_age                          1   119.54 155.54\n",
      "- s_GRE.Combined.General.Verbal.Score  1   119.92 155.92\n",
      "- factor(funding_indicator)            1   120.24 156.24\n",
      "- s_GRE.Combined.General.Write.Score   1   120.36 156.36\n",
      "<none>                                     118.63 156.63\n",
      "- s_Average.Precol.GPA                 1   121.58 157.58\n",
      "- s_GRE.Combined.Quantitative.Score    1   126.49 162.49\n",
      "- s_start_year                         1   128.54 164.54\n"
     ]
    },
    {
     "name": "stderr",
     "output_type": "stream",
     "text": [
      "Warning message:\n",
      "\"glm.fit: fitted probabilities numerically 0 or 1 occurred\""
     ]
    },
    {
     "name": "stdout",
     "output_type": "stream",
     "text": [
      "\n",
      "Step:  AIC=151.46\n",
      "Y ~ s_start_age + factor(Gender) + factor(funding_indicator) + \n",
      "    avs_net_cost + s_Average.Precol.GPA + s_GRE.Combined.General.Write.Score + \n",
      "    s_GRE.Combined.Quantitative.Score + s_GRE.Combined.General.Verbal.Score + \n",
      "    factor(gap_indicator) + GPA_trend + s_start_year\n",
      "\n"
     ]
    },
    {
     "name": "stderr",
     "output_type": "stream",
     "text": [
      "Warning message:\n",
      "\"glm.fit: fitted probabilities numerically 0 or 1 occurred\"Warning message:\n",
      "\"glm.fit: fitted probabilities numerically 0 or 1 occurred\"Warning message:\n",
      "\"glm.fit: fitted probabilities numerically 0 or 1 occurred\"Warning message:\n",
      "\"glm.fit: fitted probabilities numerically 0 or 1 occurred\"Warning message:\n",
      "\"glm.fit: fitted probabilities numerically 0 or 1 occurred\"Warning message:\n",
      "\"glm.fit: fitted probabilities numerically 0 or 1 occurred\"Warning message:\n",
      "\"glm.fit: fitted probabilities numerically 0 or 1 occurred\"Warning message:\n",
      "\"glm.fit: fitted probabilities numerically 0 or 1 occurred\"Warning message:\n",
      "\"glm.fit: fitted probabilities numerically 0 or 1 occurred\"Warning message:\n",
      "\"glm.fit: fitted probabilities numerically 0 or 1 occurred\""
     ]
    },
    {
     "name": "stdout",
     "output_type": "stream",
     "text": [
      "                                      Df Deviance    AIC\n",
      "- factor(Gender)                       1   127.47 149.47\n",
      "- avs_net_cost                         1   127.47 149.47\n",
      "- GPA_trend                            1   127.65 149.65\n",
      "- s_start_age                          1   127.84 149.84\n",
      "- s_Average.Precol.GPA                 1   129.12 151.12\n",
      "- factor(funding_indicator)            1   129.19 151.19\n",
      "<none>                                     127.47 151.47\n",
      "- s_GRE.Combined.General.Verbal.Score  1   129.50 151.50\n",
      "- factor(gap_indicator)                1   129.54 151.54\n",
      "- s_GRE.Combined.General.Write.Score   1   129.69 151.69\n",
      "+ factor(Citizenship)                  7   118.63 156.63\n",
      "- s_GRE.Combined.Quantitative.Score    1   137.11 159.11\n",
      "- s_start_year                         1   138.33 160.33\n"
     ]
    },
    {
     "name": "stderr",
     "output_type": "stream",
     "text": [
      "Warning message:\n",
      "\"glm.fit: fitted probabilities numerically 0 or 1 occurred\""
     ]
    },
    {
     "name": "stdout",
     "output_type": "stream",
     "text": [
      "\n",
      "Step:  AIC=149.46\n",
      "Y ~ s_start_age + factor(funding_indicator) + avs_net_cost + \n",
      "    s_Average.Precol.GPA + s_GRE.Combined.General.Write.Score + \n",
      "    s_GRE.Combined.Quantitative.Score + s_GRE.Combined.General.Verbal.Score + \n",
      "    factor(gap_indicator) + GPA_trend + s_start_year\n",
      "\n"
     ]
    },
    {
     "name": "stderr",
     "output_type": "stream",
     "text": [
      "Warning message:\n",
      "\"glm.fit: fitted probabilities numerically 0 or 1 occurred\"Warning message:\n",
      "\"glm.fit: fitted probabilities numerically 0 or 1 occurred\"Warning message:\n",
      "\"glm.fit: fitted probabilities numerically 0 or 1 occurred\"Warning message:\n",
      "\"glm.fit: fitted probabilities numerically 0 or 1 occurred\"Warning message:\n",
      "\"glm.fit: fitted probabilities numerically 0 or 1 occurred\"Warning message:\n",
      "\"glm.fit: fitted probabilities numerically 0 or 1 occurred\"Warning message:\n",
      "\"glm.fit: fitted probabilities numerically 0 or 1 occurred\"Warning message:\n",
      "\"glm.fit: fitted probabilities numerically 0 or 1 occurred\"Warning message:\n",
      "\"glm.fit: fitted probabilities numerically 0 or 1 occurred\"Warning message:\n",
      "\"glm.fit: fitted probabilities numerically 0 or 1 occurred\""
     ]
    },
    {
     "name": "stdout",
     "output_type": "stream",
     "text": [
      "                                      Df Deviance    AIC\n",
      "- avs_net_cost                         1   127.47 147.47\n",
      "- GPA_trend                            1   127.65 147.65\n",
      "- s_start_age                          1   127.84 147.84\n",
      "- factor(funding_indicator)            1   129.20 149.20\n",
      "- s_Average.Precol.GPA                 1   129.25 149.25\n",
      "<none>                                     127.47 149.47\n",
      "- factor(gap_indicator)                1   129.55 149.55\n",
      "- s_GRE.Combined.General.Verbal.Score  1   129.57 149.57\n",
      "- s_GRE.Combined.General.Write.Score   1   129.84 149.84\n",
      "+ factor(Gender)                       1   127.47 151.47\n",
      "+ factor(Citizenship)                  7   118.67 154.67\n",
      "- s_GRE.Combined.Quantitative.Score    1   137.11 157.11\n",
      "- s_start_year                         1   138.37 158.37\n"
     ]
    },
    {
     "name": "stderr",
     "output_type": "stream",
     "text": [
      "Warning message:\n",
      "\"glm.fit: fitted probabilities numerically 0 or 1 occurred\""
     ]
    },
    {
     "name": "stdout",
     "output_type": "stream",
     "text": [
      "\n",
      "Step:  AIC=147.47\n",
      "Y ~ s_start_age + factor(funding_indicator) + s_Average.Precol.GPA + \n",
      "    s_GRE.Combined.General.Write.Score + s_GRE.Combined.Quantitative.Score + \n",
      "    s_GRE.Combined.General.Verbal.Score + factor(gap_indicator) + \n",
      "    GPA_trend + s_start_year\n",
      "\n"
     ]
    },
    {
     "name": "stderr",
     "output_type": "stream",
     "text": [
      "Warning message:\n",
      "\"glm.fit: fitted probabilities numerically 0 or 1 occurred\"Warning message:\n",
      "\"glm.fit: fitted probabilities numerically 0 or 1 occurred\"Warning message:\n",
      "\"glm.fit: fitted probabilities numerically 0 or 1 occurred\"Warning message:\n",
      "\"glm.fit: fitted probabilities numerically 0 or 1 occurred\"Warning message:\n",
      "\"glm.fit: fitted probabilities numerically 0 or 1 occurred\"Warning message:\n",
      "\"glm.fit: fitted probabilities numerically 0 or 1 occurred\"Warning message:\n",
      "\"glm.fit: fitted probabilities numerically 0 or 1 occurred\"Warning message:\n",
      "\"glm.fit: fitted probabilities numerically 0 or 1 occurred\"Warning message:\n",
      "\"glm.fit: fitted probabilities numerically 0 or 1 occurred\"Warning message:\n",
      "\"glm.fit: fitted probabilities numerically 0 or 1 occurred\""
     ]
    },
    {
     "name": "stdout",
     "output_type": "stream",
     "text": [
      "                                      Df Deviance    AIC\n",
      "- GPA_trend                            1   127.65 145.65\n",
      "- s_start_age                          1   127.85 145.85\n",
      "- s_Average.Precol.GPA                 1   129.28 147.28\n",
      "- factor(funding_indicator)            1   129.31 147.31\n",
      "<none>                                     127.47 147.47\n",
      "- factor(gap_indicator)                1   129.55 147.55\n",
      "- s_GRE.Combined.General.Verbal.Score  1   129.57 147.57\n",
      "- s_GRE.Combined.General.Write.Score   1   129.84 147.84\n",
      "+ avs_net_cost                         1   127.47 149.47\n",
      "+ factor(Gender)                       1   127.47 149.47\n",
      "+ factor(Citizenship)                  7   118.68 152.68\n",
      "- s_GRE.Combined.Quantitative.Score    1   137.12 155.12\n",
      "- s_start_year                         1   138.83 156.83\n"
     ]
    },
    {
     "name": "stderr",
     "output_type": "stream",
     "text": [
      "Warning message:\n",
      "\"glm.fit: fitted probabilities numerically 0 or 1 occurred\""
     ]
    },
    {
     "name": "stdout",
     "output_type": "stream",
     "text": [
      "\n",
      "Step:  AIC=145.65\n",
      "Y ~ s_start_age + factor(funding_indicator) + s_Average.Precol.GPA + \n",
      "    s_GRE.Combined.General.Write.Score + s_GRE.Combined.Quantitative.Score + \n",
      "    s_GRE.Combined.General.Verbal.Score + factor(gap_indicator) + \n",
      "    s_start_year\n",
      "\n"
     ]
    },
    {
     "name": "stderr",
     "output_type": "stream",
     "text": [
      "Warning message:\n",
      "\"glm.fit: fitted probabilities numerically 0 or 1 occurred\"Warning message:\n",
      "\"glm.fit: fitted probabilities numerically 0 or 1 occurred\"Warning message:\n",
      "\"glm.fit: fitted probabilities numerically 0 or 1 occurred\"Warning message:\n",
      "\"glm.fit: fitted probabilities numerically 0 or 1 occurred\"Warning message:\n",
      "\"glm.fit: fitted probabilities numerically 0 or 1 occurred\"Warning message:\n",
      "\"glm.fit: fitted probabilities numerically 0 or 1 occurred\"Warning message:\n",
      "\"glm.fit: fitted probabilities numerically 0 or 1 occurred\"Warning message:\n",
      "\"glm.fit: fitted probabilities numerically 0 or 1 occurred\"Warning message:\n",
      "\"glm.fit: fitted probabilities numerically 0 or 1 occurred\"Warning message:\n",
      "\"glm.fit: fitted probabilities numerically 0 or 1 occurred\""
     ]
    },
    {
     "name": "stdout",
     "output_type": "stream",
     "text": [
      "                                      Df Deviance    AIC\n",
      "- s_start_age                          1   127.98 143.98\n",
      "- factor(funding_indicator)            1   129.54 145.54\n",
      "<none>                                     127.65 145.65\n",
      "- s_Average.Precol.GPA                 1   129.69 145.69\n",
      "- s_GRE.Combined.General.Verbal.Score  1   129.77 145.77\n",
      "- factor(gap_indicator)                1   129.96 145.96\n",
      "- s_GRE.Combined.General.Write.Score   1   130.02 146.02\n",
      "+ GPA_trend                            1   127.47 147.47\n",
      "+ avs_net_cost                         1   127.65 147.65\n",
      "+ factor(Gender)                       1   127.65 147.65\n",
      "+ factor(Citizenship)                  7   118.77 150.77\n",
      "- s_GRE.Combined.Quantitative.Score    1   137.22 153.22\n",
      "- s_start_year                         1   138.84 154.84\n"
     ]
    },
    {
     "name": "stderr",
     "output_type": "stream",
     "text": [
      "Warning message:\n",
      "\"glm.fit: fitted probabilities numerically 0 or 1 occurred\""
     ]
    },
    {
     "name": "stdout",
     "output_type": "stream",
     "text": [
      "\n",
      "Step:  AIC=143.98\n",
      "Y ~ factor(funding_indicator) + s_Average.Precol.GPA + s_GRE.Combined.General.Write.Score + \n",
      "    s_GRE.Combined.Quantitative.Score + s_GRE.Combined.General.Verbal.Score + \n",
      "    factor(gap_indicator) + s_start_year\n",
      "\n"
     ]
    },
    {
     "name": "stderr",
     "output_type": "stream",
     "text": [
      "Warning message:\n",
      "\"glm.fit: fitted probabilities numerically 0 or 1 occurred\"Warning message:\n",
      "\"glm.fit: fitted probabilities numerically 0 or 1 occurred\"Warning message:\n",
      "\"glm.fit: fitted probabilities numerically 0 or 1 occurred\"Warning message:\n",
      "\"glm.fit: fitted probabilities numerically 0 or 1 occurred\"Warning message:\n",
      "\"glm.fit: fitted probabilities numerically 0 or 1 occurred\"Warning message:\n",
      "\"glm.fit: fitted probabilities numerically 0 or 1 occurred\"Warning message:\n",
      "\"glm.fit: fitted probabilities numerically 0 or 1 occurred\"Warning message:\n",
      "\"glm.fit: fitted probabilities numerically 0 or 1 occurred\"Warning message:\n",
      "\"glm.fit: fitted probabilities numerically 0 or 1 occurred\"Warning message:\n",
      "\"glm.fit: fitted probabilities numerically 0 or 1 occurred\""
     ]
    },
    {
     "name": "stdout",
     "output_type": "stream",
     "text": [
      "                                      Df Deviance    AIC\n",
      "- s_Average.Precol.GPA                 1   129.87 143.87\n",
      "<none>                                     127.98 143.98\n",
      "- factor(gap_indicator)                1   130.11 144.11\n",
      "- s_GRE.Combined.General.Verbal.Score  1   130.36 144.36\n",
      "- factor(funding_indicator)            1   130.59 144.59\n",
      "- s_GRE.Combined.General.Write.Score   1   130.65 144.65\n",
      "+ s_start_age                          1   127.65 145.65\n",
      "+ GPA_trend                            1   127.85 145.85\n",
      "+ factor(Gender)                       1   127.97 145.97\n",
      "+ avs_net_cost                         1   127.97 145.97\n",
      "+ factor(Citizenship)                  7   119.69 149.69\n",
      "- s_GRE.Combined.Quantitative.Score    1   138.42 152.42\n",
      "- s_start_year                         1   138.93 152.93\n"
     ]
    },
    {
     "name": "stderr",
     "output_type": "stream",
     "text": [
      "Warning message:\n",
      "\"glm.fit: fitted probabilities numerically 0 or 1 occurred\""
     ]
    },
    {
     "name": "stdout",
     "output_type": "stream",
     "text": [
      "\n",
      "Step:  AIC=143.87\n",
      "Y ~ factor(funding_indicator) + s_GRE.Combined.General.Write.Score + \n",
      "    s_GRE.Combined.Quantitative.Score + s_GRE.Combined.General.Verbal.Score + \n",
      "    factor(gap_indicator) + s_start_year\n",
      "\n"
     ]
    },
    {
     "name": "stderr",
     "output_type": "stream",
     "text": [
      "Warning message:\n",
      "\"glm.fit: fitted probabilities numerically 0 or 1 occurred\"Warning message:\n",
      "\"glm.fit: fitted probabilities numerically 0 or 1 occurred\"Warning message:\n",
      "\"glm.fit: fitted probabilities numerically 0 or 1 occurred\"Warning message:\n",
      "\"glm.fit: fitted probabilities numerically 0 or 1 occurred\"Warning message:\n",
      "\"glm.fit: fitted probabilities numerically 0 or 1 occurred\"Warning message:\n",
      "\"glm.fit: fitted probabilities numerically 0 or 1 occurred\"Warning message:\n",
      "\"glm.fit: fitted probabilities numerically 0 or 1 occurred\"Warning message:\n",
      "\"glm.fit: fitted probabilities numerically 0 or 1 occurred\"Warning message:\n",
      "\"glm.fit: fitted probabilities numerically 0 or 1 occurred\"Warning message:\n",
      "\"glm.fit: fitted probabilities numerically 0 or 1 occurred\""
     ]
    },
    {
     "name": "stdout",
     "output_type": "stream",
     "text": [
      "                                      Df Deviance    AIC\n",
      "- factor(gap_indicator)                1   131.52 143.52\n",
      "<none>                                     129.87 143.87\n",
      "+ s_Average.Precol.GPA                 1   127.98 143.98\n",
      "- factor(funding_indicator)            1   132.31 144.31\n",
      "- s_GRE.Combined.General.Verbal.Score  1   132.39 144.39\n",
      "- s_GRE.Combined.General.Write.Score   1   133.02 145.02\n",
      "+ GPA_trend                            1   129.52 145.52\n",
      "+ s_start_age                          1   129.69 145.69\n",
      "+ factor(Gender)                       1   129.81 145.81\n",
      "+ avs_net_cost                         1   129.84 145.84\n",
      "+ factor(Citizenship)                  7   122.74 150.74\n",
      "- s_GRE.Combined.Quantitative.Score    1   140.43 152.43\n",
      "- s_start_year                         1   142.03 154.03\n"
     ]
    },
    {
     "name": "stderr",
     "output_type": "stream",
     "text": [
      "Warning message:\n",
      "\"glm.fit: fitted probabilities numerically 0 or 1 occurred\""
     ]
    },
    {
     "name": "stdout",
     "output_type": "stream",
     "text": [
      "\n",
      "Step:  AIC=143.52\n",
      "Y ~ factor(funding_indicator) + s_GRE.Combined.General.Write.Score + \n",
      "    s_GRE.Combined.Quantitative.Score + s_GRE.Combined.General.Verbal.Score + \n",
      "    s_start_year\n",
      "\n"
     ]
    },
    {
     "name": "stderr",
     "output_type": "stream",
     "text": [
      "Warning message:\n",
      "\"glm.fit: fitted probabilities numerically 0 or 1 occurred\"Warning message:\n",
      "\"glm.fit: fitted probabilities numerically 0 or 1 occurred\"Warning message:\n",
      "\"glm.fit: fitted probabilities numerically 0 or 1 occurred\"Warning message:\n",
      "\"glm.fit: fitted probabilities numerically 0 or 1 occurred\"Warning message:\n",
      "\"glm.fit: fitted probabilities numerically 0 or 1 occurred\"Warning message:\n",
      "\"glm.fit: fitted probabilities numerically 0 or 1 occurred\"Warning message:\n",
      "\"glm.fit: fitted probabilities numerically 0 or 1 occurred\"Warning message:\n",
      "\"glm.fit: fitted probabilities numerically 0 or 1 occurred\"Warning message:\n",
      "\"glm.fit: fitted probabilities numerically 0 or 1 occurred\"Warning message:\n",
      "\"glm.fit: fitted probabilities numerically 0 or 1 occurred\""
     ]
    },
    {
     "name": "stdout",
     "output_type": "stream",
     "text": [
      "                                      Df Deviance    AIC\n",
      "- factor(funding_indicator)            1   133.16 143.16\n",
      "<none>                                     131.52 143.52\n",
      "+ factor(gap_indicator)                1   129.87 143.87\n",
      "- s_GRE.Combined.General.Verbal.Score  1   134.08 144.08\n",
      "+ s_Average.Precol.GPA                 1   130.11 144.11\n",
      "+ GPA_trend                            1   130.94 144.94\n",
      "+ factor(Gender)                       1   131.44 145.44\n",
      "+ s_start_age                          1   131.45 145.45\n",
      "+ avs_net_cost                         1   131.50 145.50\n",
      "- s_GRE.Combined.General.Write.Score   1   135.62 145.62\n",
      "+ factor(Citizenship)                  7   123.30 149.30\n",
      "- s_GRE.Combined.Quantitative.Score    1   143.34 153.34\n",
      "- s_start_year                         1   143.37 153.37\n"
     ]
    },
    {
     "name": "stderr",
     "output_type": "stream",
     "text": [
      "Warning message:\n",
      "\"glm.fit: fitted probabilities numerically 0 or 1 occurred\""
     ]
    },
    {
     "name": "stdout",
     "output_type": "stream",
     "text": [
      "\n",
      "Step:  AIC=143.16\n",
      "Y ~ s_GRE.Combined.General.Write.Score + s_GRE.Combined.Quantitative.Score + \n",
      "    s_GRE.Combined.General.Verbal.Score + s_start_year\n",
      "\n"
     ]
    },
    {
     "name": "stderr",
     "output_type": "stream",
     "text": [
      "Warning message:\n",
      "\"glm.fit: fitted probabilities numerically 0 or 1 occurred\"Warning message:\n",
      "\"glm.fit: fitted probabilities numerically 0 or 1 occurred\"Warning message:\n",
      "\"glm.fit: fitted probabilities numerically 0 or 1 occurred\"Warning message:\n",
      "\"glm.fit: fitted probabilities numerically 0 or 1 occurred\"Warning message:\n",
      "\"glm.fit: fitted probabilities numerically 0 or 1 occurred\"Warning message:\n",
      "\"glm.fit: fitted probabilities numerically 0 or 1 occurred\"Warning message:\n",
      "\"glm.fit: fitted probabilities numerically 0 or 1 occurred\"Warning message:\n",
      "\"glm.fit: fitted probabilities numerically 0 or 1 occurred\"Warning message:\n",
      "\"glm.fit: fitted probabilities numerically 0 or 1 occurred\"Warning message:\n",
      "\"glm.fit: fitted probabilities numerically 0 or 1 occurred\""
     ]
    },
    {
     "name": "stdout",
     "output_type": "stream",
     "text": [
      "                                      Df Deviance    AIC\n",
      "<none>                                     133.16 143.16\n",
      "+ factor(funding_indicator)            1   131.52 143.52\n",
      "+ s_Average.Precol.GPA                 1   131.74 143.74\n",
      "- s_GRE.Combined.General.Verbal.Score  1   136.02 144.02\n",
      "+ factor(gap_indicator)                1   132.31 144.31\n",
      "+ GPA_trend                            1   132.63 144.63\n",
      "+ s_start_age                          1   132.70 144.70\n",
      "+ avs_net_cost                         1   133.10 145.10\n",
      "+ factor(Gender)                       1   133.13 145.13\n",
      "- s_GRE.Combined.General.Write.Score   1   137.34 145.34\n",
      "+ factor(Citizenship)                  7   125.37 149.37\n",
      "- s_GRE.Combined.Quantitative.Score    1   144.34 152.34\n",
      "- s_start_year                         1   144.52 152.52\n"
     ]
    }
   ],
   "source": [
    "log_mod_n_aic= stepAIC(log_mod_n, direction = 'both')"
   ]
  },
  {
   "cell_type": "markdown",
   "metadata": {},
   "source": [
    "<b> Significant variables both AIC selects:"
   ]
  },
  {
   "cell_type": "code",
   "execution_count": 42,
   "metadata": {},
   "outputs": [
    {
     "data": {
      "text/html": [
       "<table>\n",
       "<thead><tr><th></th><th scope=col>Estimate</th><th scope=col>Pr(&gt;|z|)</th></tr></thead>\n",
       "<tbody>\n",
       "\t<tr><th scope=row>(Intercept)</th><td> 0.59425</td><td>0.02246 </td></tr>\n",
       "\t<tr><th scope=row>s_start_year</th><td>-0.76541</td><td>0.00448 </td></tr>\n",
       "</tbody>\n",
       "</table>\n"
      ],
      "text/latex": [
       "\\begin{tabular}{r|ll}\n",
       "  & Estimate & Pr(>\\textbar{}z\\textbar{})\\\\\n",
       "\\hline\n",
       "\t(Intercept) &  0.59425 & 0.02246 \\\\\n",
       "\ts\\_start\\_year & -0.76541 & 0.00448 \\\\\n",
       "\\end{tabular}\n"
      ],
      "text/markdown": [
       "\n",
       "| <!--/--> | Estimate | Pr(>|z|) |\n",
       "|---|---|---|\n",
       "| (Intercept) |  0.59425 | 0.02246  |\n",
       "| s_start_year | -0.76541 | 0.00448  |\n",
       "\n"
      ],
      "text/plain": [
       "             Estimate Pr(>|z|)\n",
       "(Intercept)   0.59425 0.02246 \n",
       "s_start_year -0.76541 0.00448 "
      ]
     },
     "metadata": {},
     "output_type": "display_data"
    }
   ],
   "source": [
    "round(summary(log_mod_n_aic)$coeff[which(summary(log_mod_n_aic)$coef[,4] <= .05),c(1,4)],5)"
   ]
  },
  {
   "cell_type": "markdown",
   "metadata": {},
   "source": [
    "<b> Both BIC:"
   ]
  },
  {
   "cell_type": "code",
   "execution_count": 43,
   "metadata": {
    "scrolled": false
   },
   "outputs": [
    {
     "name": "stdout",
     "output_type": "stream",
     "text": [
      "Start:  AIC=209.11\n",
      "Y ~ s_start_age + factor(Gender) + factor(funding_indicator) + \n",
      "    factor(Citizenship) + avs_net_cost + s_Average.Precol.GPA + \n",
      "    s_GRE.Combined.General.Write.Score + s_GRE.Combined.Quantitative.Score + \n",
      "    s_GRE.Combined.General.Verbal.Score + factor(gap_indicator) + \n",
      "    GPA_trend + s_start_year\n",
      "\n"
     ]
    },
    {
     "name": "stderr",
     "output_type": "stream",
     "text": [
      "Warning message:\n",
      "\"glm.fit: fitted probabilities numerically 0 or 1 occurred\"Warning message:\n",
      "\"glm.fit: fitted probabilities numerically 0 or 1 occurred\"Warning message:\n",
      "\"glm.fit: fitted probabilities numerically 0 or 1 occurred\"Warning message:\n",
      "\"glm.fit: fitted probabilities numerically 0 or 1 occurred\"Warning message:\n",
      "\"glm.fit: fitted probabilities numerically 0 or 1 occurred\"Warning message:\n",
      "\"glm.fit: fitted probabilities numerically 0 or 1 occurred\"Warning message:\n",
      "\"glm.fit: fitted probabilities numerically 0 or 1 occurred\"Warning message:\n",
      "\"glm.fit: fitted probabilities numerically 0 or 1 occurred\"Warning message:\n",
      "\"glm.fit: fitted probabilities numerically 0 or 1 occurred\"Warning message:\n",
      "\"glm.fit: fitted probabilities numerically 0 or 1 occurred\""
     ]
    },
    {
     "name": "stdout",
     "output_type": "stream",
     "text": [
      "                                      Df Deviance    AIC\n",
      "- factor(Citizenship)                  7   127.47 184.61\n",
      "- avs_net_cost                         1   118.64 204.36\n",
      "- factor(Gender)                       1   118.67 204.38\n",
      "- GPA_trend                            1   118.72 204.43\n",
      "- factor(gap_indicator)                1   119.35 205.07\n",
      "- s_start_age                          1   119.54 205.26\n",
      "- s_GRE.Combined.General.Verbal.Score  1   119.92 205.64\n",
      "- factor(funding_indicator)            1   120.24 205.96\n",
      "- s_GRE.Combined.General.Write.Score   1   120.36 206.08\n",
      "- s_Average.Precol.GPA                 1   121.58 207.30\n",
      "<none>                                     118.63 209.11\n",
      "- s_GRE.Combined.Quantitative.Score    1   126.49 212.21\n",
      "- s_start_year                         1   128.54 214.26\n"
     ]
    },
    {
     "name": "stderr",
     "output_type": "stream",
     "text": [
      "Warning message:\n",
      "\"glm.fit: fitted probabilities numerically 0 or 1 occurred\""
     ]
    },
    {
     "name": "stdout",
     "output_type": "stream",
     "text": [
      "\n",
      "Step:  AIC=184.61\n",
      "Y ~ s_start_age + factor(Gender) + factor(funding_indicator) + \n",
      "    avs_net_cost + s_Average.Precol.GPA + s_GRE.Combined.General.Write.Score + \n",
      "    s_GRE.Combined.Quantitative.Score + s_GRE.Combined.General.Verbal.Score + \n",
      "    factor(gap_indicator) + GPA_trend + s_start_year\n",
      "\n"
     ]
    },
    {
     "name": "stderr",
     "output_type": "stream",
     "text": [
      "Warning message:\n",
      "\"glm.fit: fitted probabilities numerically 0 or 1 occurred\"Warning message:\n",
      "\"glm.fit: fitted probabilities numerically 0 or 1 occurred\"Warning message:\n",
      "\"glm.fit: fitted probabilities numerically 0 or 1 occurred\"Warning message:\n",
      "\"glm.fit: fitted probabilities numerically 0 or 1 occurred\"Warning message:\n",
      "\"glm.fit: fitted probabilities numerically 0 or 1 occurred\"Warning message:\n",
      "\"glm.fit: fitted probabilities numerically 0 or 1 occurred\"Warning message:\n",
      "\"glm.fit: fitted probabilities numerically 0 or 1 occurred\"Warning message:\n",
      "\"glm.fit: fitted probabilities numerically 0 or 1 occurred\"Warning message:\n",
      "\"glm.fit: fitted probabilities numerically 0 or 1 occurred\"Warning message:\n",
      "\"glm.fit: fitted probabilities numerically 0 or 1 occurred\""
     ]
    },
    {
     "name": "stdout",
     "output_type": "stream",
     "text": [
      "                                      Df Deviance    AIC\n",
      "- factor(Gender)                       1   127.47 179.85\n",
      "- avs_net_cost                         1   127.47 179.85\n",
      "- GPA_trend                            1   127.65 180.03\n",
      "- s_start_age                          1   127.84 180.22\n",
      "- s_Average.Precol.GPA                 1   129.12 181.50\n",
      "- factor(funding_indicator)            1   129.19 181.58\n",
      "- s_GRE.Combined.General.Verbal.Score  1   129.50 181.88\n",
      "- factor(gap_indicator)                1   129.54 181.92\n",
      "- s_GRE.Combined.General.Write.Score   1   129.69 182.07\n",
      "<none>                                     127.47 184.61\n",
      "- s_GRE.Combined.Quantitative.Score    1   137.11 189.49\n",
      "- s_start_year                         1   138.33 190.71\n",
      "+ factor(Citizenship)                  7   118.63 209.11\n"
     ]
    },
    {
     "name": "stderr",
     "output_type": "stream",
     "text": [
      "Warning message:\n",
      "\"glm.fit: fitted probabilities numerically 0 or 1 occurred\""
     ]
    },
    {
     "name": "stdout",
     "output_type": "stream",
     "text": [
      "\n",
      "Step:  AIC=179.85\n",
      "Y ~ s_start_age + factor(funding_indicator) + avs_net_cost + \n",
      "    s_Average.Precol.GPA + s_GRE.Combined.General.Write.Score + \n",
      "    s_GRE.Combined.Quantitative.Score + s_GRE.Combined.General.Verbal.Score + \n",
      "    factor(gap_indicator) + GPA_trend + s_start_year\n",
      "\n"
     ]
    },
    {
     "name": "stderr",
     "output_type": "stream",
     "text": [
      "Warning message:\n",
      "\"glm.fit: fitted probabilities numerically 0 or 1 occurred\"Warning message:\n",
      "\"glm.fit: fitted probabilities numerically 0 or 1 occurred\"Warning message:\n",
      "\"glm.fit: fitted probabilities numerically 0 or 1 occurred\"Warning message:\n",
      "\"glm.fit: fitted probabilities numerically 0 or 1 occurred\"Warning message:\n",
      "\"glm.fit: fitted probabilities numerically 0 or 1 occurred\"Warning message:\n",
      "\"glm.fit: fitted probabilities numerically 0 or 1 occurred\"Warning message:\n",
      "\"glm.fit: fitted probabilities numerically 0 or 1 occurred\"Warning message:\n",
      "\"glm.fit: fitted probabilities numerically 0 or 1 occurred\"Warning message:\n",
      "\"glm.fit: fitted probabilities numerically 0 or 1 occurred\"Warning message:\n",
      "\"glm.fit: fitted probabilities numerically 0 or 1 occurred\""
     ]
    },
    {
     "name": "stdout",
     "output_type": "stream",
     "text": [
      "                                      Df Deviance    AIC\n",
      "- avs_net_cost                         1   127.47 175.09\n",
      "- GPA_trend                            1   127.65 175.27\n",
      "- s_start_age                          1   127.84 175.46\n",
      "- factor(funding_indicator)            1   129.20 176.82\n",
      "- s_Average.Precol.GPA                 1   129.25 176.88\n",
      "- factor(gap_indicator)                1   129.55 177.17\n",
      "- s_GRE.Combined.General.Verbal.Score  1   129.57 177.19\n",
      "- s_GRE.Combined.General.Write.Score   1   129.84 177.46\n",
      "<none>                                     127.47 179.85\n",
      "+ factor(Gender)                       1   127.47 184.61\n",
      "- s_GRE.Combined.Quantitative.Score    1   137.11 184.73\n",
      "- s_start_year                         1   138.37 186.00\n",
      "+ factor(Citizenship)                  7   118.67 204.38\n"
     ]
    },
    {
     "name": "stderr",
     "output_type": "stream",
     "text": [
      "Warning message:\n",
      "\"glm.fit: fitted probabilities numerically 0 or 1 occurred\""
     ]
    },
    {
     "name": "stdout",
     "output_type": "stream",
     "text": [
      "\n",
      "Step:  AIC=175.09\n",
      "Y ~ s_start_age + factor(funding_indicator) + s_Average.Precol.GPA + \n",
      "    s_GRE.Combined.General.Write.Score + s_GRE.Combined.Quantitative.Score + \n",
      "    s_GRE.Combined.General.Verbal.Score + factor(gap_indicator) + \n",
      "    GPA_trend + s_start_year\n",
      "\n"
     ]
    },
    {
     "name": "stderr",
     "output_type": "stream",
     "text": [
      "Warning message:\n",
      "\"glm.fit: fitted probabilities numerically 0 or 1 occurred\"Warning message:\n",
      "\"glm.fit: fitted probabilities numerically 0 or 1 occurred\"Warning message:\n",
      "\"glm.fit: fitted probabilities numerically 0 or 1 occurred\"Warning message:\n",
      "\"glm.fit: fitted probabilities numerically 0 or 1 occurred\"Warning message:\n",
      "\"glm.fit: fitted probabilities numerically 0 or 1 occurred\"Warning message:\n",
      "\"glm.fit: fitted probabilities numerically 0 or 1 occurred\"Warning message:\n",
      "\"glm.fit: fitted probabilities numerically 0 or 1 occurred\"Warning message:\n",
      "\"glm.fit: fitted probabilities numerically 0 or 1 occurred\"Warning message:\n",
      "\"glm.fit: fitted probabilities numerically 0 or 1 occurred\"Warning message:\n",
      "\"glm.fit: fitted probabilities numerically 0 or 1 occurred\""
     ]
    },
    {
     "name": "stdout",
     "output_type": "stream",
     "text": [
      "                                      Df Deviance    AIC\n",
      "- GPA_trend                            1   127.65 170.51\n",
      "- s_start_age                          1   127.85 170.71\n",
      "- s_Average.Precol.GPA                 1   129.28 172.14\n",
      "- factor(funding_indicator)            1   129.31 172.17\n",
      "- factor(gap_indicator)                1   129.55 172.41\n",
      "- s_GRE.Combined.General.Verbal.Score  1   129.57 172.43\n",
      "- s_GRE.Combined.General.Write.Score   1   129.84 172.70\n",
      "<none>                                     127.47 175.09\n",
      "+ avs_net_cost                         1   127.47 179.85\n",
      "+ factor(Gender)                       1   127.47 179.85\n",
      "- s_GRE.Combined.Quantitative.Score    1   137.12 179.98\n",
      "- s_start_year                         1   138.83 181.69\n",
      "+ factor(Citizenship)                  7   118.68 199.63\n"
     ]
    },
    {
     "name": "stderr",
     "output_type": "stream",
     "text": [
      "Warning message:\n",
      "\"glm.fit: fitted probabilities numerically 0 or 1 occurred\""
     ]
    },
    {
     "name": "stdout",
     "output_type": "stream",
     "text": [
      "\n",
      "Step:  AIC=170.51\n",
      "Y ~ s_start_age + factor(funding_indicator) + s_Average.Precol.GPA + \n",
      "    s_GRE.Combined.General.Write.Score + s_GRE.Combined.Quantitative.Score + \n",
      "    s_GRE.Combined.General.Verbal.Score + factor(gap_indicator) + \n",
      "    s_start_year\n",
      "\n"
     ]
    },
    {
     "name": "stderr",
     "output_type": "stream",
     "text": [
      "Warning message:\n",
      "\"glm.fit: fitted probabilities numerically 0 or 1 occurred\"Warning message:\n",
      "\"glm.fit: fitted probabilities numerically 0 or 1 occurred\"Warning message:\n",
      "\"glm.fit: fitted probabilities numerically 0 or 1 occurred\"Warning message:\n",
      "\"glm.fit: fitted probabilities numerically 0 or 1 occurred\"Warning message:\n",
      "\"glm.fit: fitted probabilities numerically 0 or 1 occurred\"Warning message:\n",
      "\"glm.fit: fitted probabilities numerically 0 or 1 occurred\"Warning message:\n",
      "\"glm.fit: fitted probabilities numerically 0 or 1 occurred\"Warning message:\n",
      "\"glm.fit: fitted probabilities numerically 0 or 1 occurred\"Warning message:\n",
      "\"glm.fit: fitted probabilities numerically 0 or 1 occurred\"Warning message:\n",
      "\"glm.fit: fitted probabilities numerically 0 or 1 occurred\""
     ]
    },
    {
     "name": "stdout",
     "output_type": "stream",
     "text": [
      "                                      Df Deviance    AIC\n",
      "- s_start_age                          1   127.98 166.07\n",
      "- factor(funding_indicator)            1   129.54 167.64\n",
      "- s_Average.Precol.GPA                 1   129.69 167.79\n",
      "- s_GRE.Combined.General.Verbal.Score  1   129.77 167.87\n",
      "- factor(gap_indicator)                1   129.96 168.05\n",
      "- s_GRE.Combined.General.Write.Score   1   130.02 168.12\n",
      "<none>                                     127.65 170.51\n",
      "+ GPA_trend                            1   127.47 175.09\n",
      "+ avs_net_cost                         1   127.65 175.27\n",
      "+ factor(Gender)                       1   127.65 175.27\n",
      "- s_GRE.Combined.Quantitative.Score    1   137.22 175.31\n",
      "- s_start_year                         1   138.84 176.94\n",
      "+ factor(Citizenship)                  7   118.77 194.97\n"
     ]
    },
    {
     "name": "stderr",
     "output_type": "stream",
     "text": [
      "Warning message:\n",
      "\"glm.fit: fitted probabilities numerically 0 or 1 occurred\""
     ]
    },
    {
     "name": "stdout",
     "output_type": "stream",
     "text": [
      "\n",
      "Step:  AIC=166.07\n",
      "Y ~ factor(funding_indicator) + s_Average.Precol.GPA + s_GRE.Combined.General.Write.Score + \n",
      "    s_GRE.Combined.Quantitative.Score + s_GRE.Combined.General.Verbal.Score + \n",
      "    factor(gap_indicator) + s_start_year\n",
      "\n"
     ]
    },
    {
     "name": "stderr",
     "output_type": "stream",
     "text": [
      "Warning message:\n",
      "\"glm.fit: fitted probabilities numerically 0 or 1 occurred\"Warning message:\n",
      "\"glm.fit: fitted probabilities numerically 0 or 1 occurred\"Warning message:\n",
      "\"glm.fit: fitted probabilities numerically 0 or 1 occurred\"Warning message:\n",
      "\"glm.fit: fitted probabilities numerically 0 or 1 occurred\"Warning message:\n",
      "\"glm.fit: fitted probabilities numerically 0 or 1 occurred\"Warning message:\n",
      "\"glm.fit: fitted probabilities numerically 0 or 1 occurred\"Warning message:\n",
      "\"glm.fit: fitted probabilities numerically 0 or 1 occurred\"Warning message:\n",
      "\"glm.fit: fitted probabilities numerically 0 or 1 occurred\"Warning message:\n",
      "\"glm.fit: fitted probabilities numerically 0 or 1 occurred\"Warning message:\n",
      "\"glm.fit: fitted probabilities numerically 0 or 1 occurred\""
     ]
    },
    {
     "name": "stdout",
     "output_type": "stream",
     "text": [
      "                                      Df Deviance    AIC\n",
      "- s_Average.Precol.GPA                 1   129.87 163.20\n",
      "- factor(gap_indicator)                1   130.11 163.44\n",
      "- s_GRE.Combined.General.Verbal.Score  1   130.36 163.69\n",
      "- factor(funding_indicator)            1   130.59 163.93\n",
      "- s_GRE.Combined.General.Write.Score   1   130.65 163.98\n",
      "<none>                                     127.98 166.07\n",
      "+ s_start_age                          1   127.65 170.51\n",
      "+ GPA_trend                            1   127.85 170.71\n",
      "+ factor(Gender)                       1   127.97 170.82\n",
      "+ avs_net_cost                         1   127.97 170.83\n",
      "- s_GRE.Combined.Quantitative.Score    1   138.42 171.76\n",
      "- s_start_year                         1   138.93 172.26\n",
      "+ factor(Citizenship)                  7   119.69 191.12\n"
     ]
    },
    {
     "name": "stderr",
     "output_type": "stream",
     "text": [
      "Warning message:\n",
      "\"glm.fit: fitted probabilities numerically 0 or 1 occurred\""
     ]
    },
    {
     "name": "stdout",
     "output_type": "stream",
     "text": [
      "\n",
      "Step:  AIC=163.2\n",
      "Y ~ factor(funding_indicator) + s_GRE.Combined.General.Write.Score + \n",
      "    s_GRE.Combined.Quantitative.Score + s_GRE.Combined.General.Verbal.Score + \n",
      "    factor(gap_indicator) + s_start_year\n",
      "\n"
     ]
    },
    {
     "name": "stderr",
     "output_type": "stream",
     "text": [
      "Warning message:\n",
      "\"glm.fit: fitted probabilities numerically 0 or 1 occurred\"Warning message:\n",
      "\"glm.fit: fitted probabilities numerically 0 or 1 occurred\"Warning message:\n",
      "\"glm.fit: fitted probabilities numerically 0 or 1 occurred\"Warning message:\n",
      "\"glm.fit: fitted probabilities numerically 0 or 1 occurred\"Warning message:\n",
      "\"glm.fit: fitted probabilities numerically 0 or 1 occurred\"Warning message:\n",
      "\"glm.fit: fitted probabilities numerically 0 or 1 occurred\"Warning message:\n",
      "\"glm.fit: fitted probabilities numerically 0 or 1 occurred\"Warning message:\n",
      "\"glm.fit: fitted probabilities numerically 0 or 1 occurred\"Warning message:\n",
      "\"glm.fit: fitted probabilities numerically 0 or 1 occurred\"Warning message:\n",
      "\"glm.fit: fitted probabilities numerically 0 or 1 occurred\""
     ]
    },
    {
     "name": "stdout",
     "output_type": "stream",
     "text": [
      "                                      Df Deviance    AIC\n",
      "- factor(gap_indicator)                1   131.52 160.09\n",
      "- factor(funding_indicator)            1   132.31 160.89\n",
      "- s_GRE.Combined.General.Verbal.Score  1   132.39 160.96\n",
      "- s_GRE.Combined.General.Write.Score   1   133.02 161.59\n",
      "<none>                                     129.87 163.20\n",
      "+ s_Average.Precol.GPA                 1   127.98 166.07\n",
      "+ GPA_trend                            1   129.52 167.62\n",
      "+ s_start_age                          1   129.69 167.79\n",
      "+ factor(Gender)                       1   129.81 167.91\n",
      "+ avs_net_cost                         1   129.84 167.94\n",
      "- s_GRE.Combined.Quantitative.Score    1   140.43 169.00\n",
      "- s_start_year                         1   142.03 170.61\n",
      "+ factor(Citizenship)                  7   122.74 189.41\n"
     ]
    },
    {
     "name": "stderr",
     "output_type": "stream",
     "text": [
      "Warning message:\n",
      "\"glm.fit: fitted probabilities numerically 0 or 1 occurred\""
     ]
    },
    {
     "name": "stdout",
     "output_type": "stream",
     "text": [
      "\n",
      "Step:  AIC=160.09\n",
      "Y ~ factor(funding_indicator) + s_GRE.Combined.General.Write.Score + \n",
      "    s_GRE.Combined.Quantitative.Score + s_GRE.Combined.General.Verbal.Score + \n",
      "    s_start_year\n",
      "\n"
     ]
    },
    {
     "name": "stderr",
     "output_type": "stream",
     "text": [
      "Warning message:\n",
      "\"glm.fit: fitted probabilities numerically 0 or 1 occurred\"Warning message:\n",
      "\"glm.fit: fitted probabilities numerically 0 or 1 occurred\"Warning message:\n",
      "\"glm.fit: fitted probabilities numerically 0 or 1 occurred\"Warning message:\n",
      "\"glm.fit: fitted probabilities numerically 0 or 1 occurred\"Warning message:\n",
      "\"glm.fit: fitted probabilities numerically 0 or 1 occurred\"Warning message:\n",
      "\"glm.fit: fitted probabilities numerically 0 or 1 occurred\"Warning message:\n",
      "\"glm.fit: fitted probabilities numerically 0 or 1 occurred\"Warning message:\n",
      "\"glm.fit: fitted probabilities numerically 0 or 1 occurred\"Warning message:\n",
      "\"glm.fit: fitted probabilities numerically 0 or 1 occurred\"Warning message:\n",
      "\"glm.fit: fitted probabilities numerically 0 or 1 occurred\""
     ]
    },
    {
     "name": "stdout",
     "output_type": "stream",
     "text": [
      "                                      Df Deviance    AIC\n",
      "- factor(funding_indicator)            1   133.16 156.97\n",
      "- s_GRE.Combined.General.Verbal.Score  1   134.08 157.89\n",
      "- s_GRE.Combined.General.Write.Score   1   135.62 159.43\n",
      "<none>                                     131.52 160.09\n",
      "+ factor(gap_indicator)                1   129.87 163.20\n",
      "+ s_Average.Precol.GPA                 1   130.11 163.44\n",
      "+ GPA_trend                            1   130.94 164.28\n",
      "+ factor(Gender)                       1   131.44 164.78\n",
      "+ s_start_age                          1   131.45 164.78\n",
      "+ avs_net_cost                         1   131.50 164.84\n",
      "- s_GRE.Combined.Quantitative.Score    1   143.34 167.15\n",
      "- s_start_year                         1   143.37 167.19\n",
      "+ factor(Citizenship)                  7   123.30 185.21\n"
     ]
    },
    {
     "name": "stderr",
     "output_type": "stream",
     "text": [
      "Warning message:\n",
      "\"glm.fit: fitted probabilities numerically 0 or 1 occurred\""
     ]
    },
    {
     "name": "stdout",
     "output_type": "stream",
     "text": [
      "\n",
      "Step:  AIC=156.97\n",
      "Y ~ s_GRE.Combined.General.Write.Score + s_GRE.Combined.Quantitative.Score + \n",
      "    s_GRE.Combined.General.Verbal.Score + s_start_year\n",
      "\n"
     ]
    },
    {
     "name": "stderr",
     "output_type": "stream",
     "text": [
      "Warning message:\n",
      "\"glm.fit: fitted probabilities numerically 0 or 1 occurred\"Warning message:\n",
      "\"glm.fit: fitted probabilities numerically 0 or 1 occurred\"Warning message:\n",
      "\"glm.fit: fitted probabilities numerically 0 or 1 occurred\"Warning message:\n",
      "\"glm.fit: fitted probabilities numerically 0 or 1 occurred\"Warning message:\n",
      "\"glm.fit: fitted probabilities numerically 0 or 1 occurred\"Warning message:\n",
      "\"glm.fit: fitted probabilities numerically 0 or 1 occurred\"Warning message:\n",
      "\"glm.fit: fitted probabilities numerically 0 or 1 occurred\"Warning message:\n",
      "\"glm.fit: fitted probabilities numerically 0 or 1 occurred\"Warning message:\n",
      "\"glm.fit: fitted probabilities numerically 0 or 1 occurred\"Warning message:\n",
      "\"glm.fit: fitted probabilities numerically 0 or 1 occurred\""
     ]
    },
    {
     "name": "stdout",
     "output_type": "stream",
     "text": [
      "                                      Df Deviance    AIC\n",
      "- s_GRE.Combined.General.Verbal.Score  1   136.02 155.07\n",
      "- s_GRE.Combined.General.Write.Score   1   137.34 156.39\n",
      "<none>                                     133.16 156.97\n",
      "+ factor(funding_indicator)            1   131.52 160.09\n",
      "+ s_Average.Precol.GPA                 1   131.74 160.31\n",
      "+ factor(gap_indicator)                1   132.31 160.89\n",
      "+ GPA_trend                            1   132.63 161.20\n",
      "+ s_start_age                          1   132.70 161.27\n",
      "+ avs_net_cost                         1   133.10 161.67\n",
      "+ factor(Gender)                       1   133.13 161.70\n",
      "- s_GRE.Combined.Quantitative.Score    1   144.34 163.39\n",
      "- s_start_year                         1   144.52 163.57\n",
      "+ factor(Citizenship)                  7   125.37 182.51\n",
      "\n",
      "Step:  AIC=155.07\n",
      "Y ~ s_GRE.Combined.General.Write.Score + s_GRE.Combined.Quantitative.Score + \n",
      "    s_start_year\n",
      "\n"
     ]
    },
    {
     "name": "stderr",
     "output_type": "stream",
     "text": [
      "Warning message:\n",
      "\"glm.fit: fitted probabilities numerically 0 or 1 occurred\"Warning message:\n",
      "\"glm.fit: fitted probabilities numerically 0 or 1 occurred\""
     ]
    },
    {
     "name": "stdout",
     "output_type": "stream",
     "text": [
      "                                      Df Deviance    AIC\n",
      "- s_GRE.Combined.General.Write.Score   1   137.38 151.67\n",
      "<none>                                     136.02 155.07\n",
      "+ s_GRE.Combined.General.Verbal.Score  1   133.16 156.97\n",
      "+ factor(funding_indicator)            1   134.08 157.89\n",
      "+ s_Average.Precol.GPA                 1   134.49 158.30\n",
      "+ s_start_age                          1   135.18 158.99\n",
      "+ factor(gap_indicator)                1   135.21 159.02\n",
      "+ GPA_trend                            1   135.48 159.29\n",
      "+ avs_net_cost                         1   135.88 159.69\n",
      "+ factor(Gender)                       1   135.99 159.80\n",
      "- s_start_year                         1   146.88 161.17\n",
      "- s_GRE.Combined.Quantitative.Score    1   147.59 161.87\n",
      "+ factor(Citizenship)                  7   127.76 180.15\n",
      "\n",
      "Step:  AIC=151.67\n",
      "Y ~ s_GRE.Combined.Quantitative.Score + s_start_year\n",
      "\n",
      "                                      Df Deviance    AIC\n",
      "<none>                                     137.38 151.67\n",
      "+ factor(funding_indicator)            1   135.62 154.67\n",
      "+ s_Average.Precol.GPA                 1   135.65 154.69\n",
      "+ s_GRE.Combined.General.Write.Score   1   136.02 155.07\n",
      "+ factor(gap_indicator)                1   136.09 155.14\n",
      "+ s_start_age                          1   136.47 155.52\n",
      "+ GPA_trend                            1   136.81 155.86\n",
      "+ avs_net_cost                         1   137.21 156.26\n",
      "+ factor(Gender)                       1   137.29 156.34\n",
      "+ s_GRE.Combined.General.Verbal.Score  1   137.34 156.39\n",
      "- s_GRE.Combined.Quantitative.Score    1   147.75 157.28\n",
      "- s_start_year                         1   148.10 157.62\n",
      "+ factor(Citizenship)                  7   129.21 176.83\n"
     ]
    }
   ],
   "source": [
    "log_mod_n_bic = stepAIC(log_mod_n, direction = \"both\", k = log(d_n))"
   ]
  },
  {
   "cell_type": "markdown",
   "metadata": {},
   "source": [
    "<b> Significant variables both BIC selects:"
   ]
  },
  {
   "cell_type": "code",
   "execution_count": 44,
   "metadata": {},
   "outputs": [
    {
     "data": {
      "text/html": [
       "<table>\n",
       "<thead><tr><th></th><th scope=col>Estimate</th><th scope=col>Pr(&gt;|z|)</th></tr></thead>\n",
       "<tbody>\n",
       "\t<tr><th scope=row>(Intercept)</th><td> 0.64429</td><td>0.00839 </td></tr>\n",
       "\t<tr><th scope=row>s_start_year</th><td>-0.74315</td><td>0.00559 </td></tr>\n",
       "</tbody>\n",
       "</table>\n"
      ],
      "text/latex": [
       "\\begin{tabular}{r|ll}\n",
       "  & Estimate & Pr(>\\textbar{}z\\textbar{})\\\\\n",
       "\\hline\n",
       "\t(Intercept) &  0.64429 & 0.00839 \\\\\n",
       "\ts\\_start\\_year & -0.74315 & 0.00559 \\\\\n",
       "\\end{tabular}\n"
      ],
      "text/markdown": [
       "\n",
       "| <!--/--> | Estimate | Pr(>|z|) |\n",
       "|---|---|---|\n",
       "| (Intercept) |  0.64429 | 0.00839  |\n",
       "| s_start_year | -0.74315 | 0.00559  |\n",
       "\n"
      ],
      "text/plain": [
       "             Estimate Pr(>|z|)\n",
       "(Intercept)   0.64429 0.00839 \n",
       "s_start_year -0.74315 0.00559 "
      ]
     },
     "metadata": {},
     "output_type": "display_data"
    }
   ],
   "source": [
    "round(summary(log_mod_n_bic)$coeff[which(summary(log_mod_n_bic)$coef[,4] <= .05),c(1,4)],5)"
   ]
  },
  {
   "cell_type": "markdown",
   "metadata": {},
   "source": [
    "# Watson Analysis "
   ]
  },
  {
   "cell_type": "markdown",
   "metadata": {},
   "source": [
    "<b> Logistic regression model:"
   ]
  },
  {
   "cell_type": "code",
   "execution_count": 45,
   "metadata": {},
   "outputs": [
    {
     "data": {
      "text/plain": [
       "\n",
       "Call:\n",
       "glm(formula = Y ~ s_start_age + factor(Gender) + factor(funding_indicator) + \n",
       "    factor(Citizenship) + avs_net_cost + s_Average.Precol.GPA + \n",
       "    s_GRE.Combined.General.Write.Score + s_GRE.Combined.Quantitative.Score + \n",
       "    s_GRE.Combined.General.Verbal.Score + factor(gap_indicator) + \n",
       "    GPA_trend + s_start_year, family = \"binomial\", data = Watson_df)\n",
       "\n",
       "Deviance Residuals: \n",
       "    Min       1Q   Median       3Q      Max  \n",
       "-2.8992  -0.8096   0.5099   0.8056   1.8473  \n",
       "\n",
       "Coefficients:\n",
       "                                                  Estimate Std. Error z value\n",
       "(Intercept)                                      -1.040263   0.397851  -2.615\n",
       "s_start_age                                      -0.058488   0.143647  -0.407\n",
       "factor(Gender)Male                                0.340448   0.274126   1.242\n",
       "factor(funding_indicator)1                        2.056614   0.304657   6.751\n",
       "factor(Citizenship)Africa                        15.228805 530.952812   0.029\n",
       "factor(Citizenship)Asia                           0.778867   0.372364   2.092\n",
       "factor(Citizenship)Asian                          0.015577   0.524077   0.030\n",
       "factor(Citizenship)Black or African American     -0.371757   0.679395  -0.547\n",
       "factor(Citizenship)China                          0.297071   0.382018   0.778\n",
       "factor(Citizenship)Europe                         0.010299   0.849536   0.012\n",
       "factor(Citizenship)Hispanic or Latino             2.666056   1.407661   1.894\n",
       "factor(Citizenship)India                         -0.008189   0.395142  -0.021\n",
       "factor(Citizenship)Other International Students   0.402373   1.429346   0.282\n",
       "factor(Citizenship)Unknown                       -0.292536   0.472910  -0.619\n",
       "avs_net_cost                                      0.345997   0.145447   2.379\n",
       "s_Average.Precol.GPA                              0.248818   0.117439   2.119\n",
       "s_GRE.Combined.General.Write.Score               -0.040497   0.182573  -0.222\n",
       "s_GRE.Combined.Quantitative.Score                -0.338490   0.552004  -0.613\n",
       "s_GRE.Combined.General.Verbal.Score              -0.103796   0.414850  -0.250\n",
       "factor(gap_indicator)1                            0.257207   0.329115   0.782\n",
       "GPA_trend                                         1.078794   0.629300   1.714\n",
       "s_start_year                                     -1.030627   0.169688  -6.074\n",
       "                                                Pr(>|z|)    \n",
       "(Intercept)                                      0.00893 ** \n",
       "s_start_age                                      0.68389    \n",
       "factor(Gender)Male                               0.21426    \n",
       "factor(funding_indicator)1                      1.47e-11 ***\n",
       "factor(Citizenship)Africa                        0.97712    \n",
       "factor(Citizenship)Asia                          0.03647 *  \n",
       "factor(Citizenship)Asian                         0.97629    \n",
       "factor(Citizenship)Black or African American     0.58425    \n",
       "factor(Citizenship)China                         0.43678    \n",
       "factor(Citizenship)Europe                        0.99033    \n",
       "factor(Citizenship)Hispanic or Latino            0.05823 .  \n",
       "factor(Citizenship)India                         0.98347    \n",
       "factor(Citizenship)Other International Students  0.77832    \n",
       "factor(Citizenship)Unknown                       0.53619    \n",
       "avs_net_cost                                     0.01737 *  \n",
       "s_Average.Precol.GPA                             0.03412 *  \n",
       "s_GRE.Combined.General.Write.Score               0.82446    \n",
       "s_GRE.Combined.Quantitative.Score                0.53974    \n",
       "s_GRE.Combined.General.Verbal.Score              0.80243    \n",
       "factor(gap_indicator)1                           0.43450    \n",
       "GPA_trend                                        0.08648 .  \n",
       "s_start_year                                    1.25e-09 ***\n",
       "---\n",
       "Signif. codes:  0 '***' 0.001 '**' 0.01 '*' 0.05 '.' 0.1 ' ' 1\n",
       "\n",
       "(Dispersion parameter for binomial family taken to be 1)\n",
       "\n",
       "    Null deviance: 656.07  on 514  degrees of freedom\n",
       "Residual deviance: 522.09  on 493  degrees of freedom\n",
       "AIC: 566.09\n",
       "\n",
       "Number of Fisher Scoring iterations: 14\n"
      ]
     },
     "metadata": {},
     "output_type": "display_data"
    }
   ],
   "source": [
    "log_mod_w = glm(Y~s_start_age+factor(Gender)+factor(funding_indicator)+factor(Citizenship)+\n",
    "                avs_net_cost+s_Average.Precol.GPA+s_GRE.Combined.General.Write.Score+s_GRE.Combined.Quantitative.Score+s_GRE.Combined.General.Verbal.Score+factor(gap_indicator)+GPA_trend+s_start_year,\n",
    "                data=Watson_df,family=\"binomial\")\n",
    "summary(log_mod_w)"
   ]
  },
  {
   "cell_type": "markdown",
   "metadata": {},
   "source": [
    "<b> Significant Variables of logistic regression model: "
   ]
  },
  {
   "cell_type": "code",
   "execution_count": 46,
   "metadata": {},
   "outputs": [
    {
     "data": {
      "text/html": [
       "<table>\n",
       "<thead><tr><th></th><th scope=col>Estimate</th><th scope=col>Pr(&gt;|z|)</th></tr></thead>\n",
       "<tbody>\n",
       "\t<tr><th scope=row>(Intercept)</th><td>-1.04026</td><td>0.00893 </td></tr>\n",
       "\t<tr><th scope=row>factor(funding_indicator)1</th><td> 2.05661</td><td>0.00000 </td></tr>\n",
       "\t<tr><th scope=row>factor(Citizenship)Asia</th><td> 0.77887</td><td>0.03647 </td></tr>\n",
       "\t<tr><th scope=row>avs_net_cost</th><td> 0.34600</td><td>0.01737 </td></tr>\n",
       "\t<tr><th scope=row>s_Average.Precol.GPA</th><td> 0.24882</td><td>0.03412 </td></tr>\n",
       "\t<tr><th scope=row>s_start_year</th><td>-1.03063</td><td>0.00000 </td></tr>\n",
       "</tbody>\n",
       "</table>\n"
      ],
      "text/latex": [
       "\\begin{tabular}{r|ll}\n",
       "  & Estimate & Pr(>\\textbar{}z\\textbar{})\\\\\n",
       "\\hline\n",
       "\t(Intercept) & -1.04026 & 0.00893 \\\\\n",
       "\tfactor(funding\\_indicator)1 &  2.05661 & 0.00000 \\\\\n",
       "\tfactor(Citizenship)Asia &  0.77887 & 0.03647 \\\\\n",
       "\tavs\\_net\\_cost &  0.34600 & 0.01737 \\\\\n",
       "\ts\\_Average.Precol.GPA &  0.24882 & 0.03412 \\\\\n",
       "\ts\\_start\\_year & -1.03063 & 0.00000 \\\\\n",
       "\\end{tabular}\n"
      ],
      "text/markdown": [
       "\n",
       "| <!--/--> | Estimate | Pr(>|z|) |\n",
       "|---|---|---|\n",
       "| (Intercept) | -1.04026 | 0.00893  |\n",
       "| factor(funding_indicator)1 |  2.05661 | 0.00000  |\n",
       "| factor(Citizenship)Asia |  0.77887 | 0.03647  |\n",
       "| avs_net_cost |  0.34600 | 0.01737  |\n",
       "| s_Average.Precol.GPA |  0.24882 | 0.03412  |\n",
       "| s_start_year | -1.03063 | 0.00000  |\n",
       "\n"
      ],
      "text/plain": [
       "                           Estimate Pr(>|z|)\n",
       "(Intercept)                -1.04026 0.00893 \n",
       "factor(funding_indicator)1  2.05661 0.00000 \n",
       "factor(Citizenship)Asia     0.77887 0.03647 \n",
       "avs_net_cost                0.34600 0.01737 \n",
       "s_Average.Precol.GPA        0.24882 0.03412 \n",
       "s_start_year               -1.03063 0.00000 "
      ]
     },
     "metadata": {},
     "output_type": "display_data"
    }
   ],
   "source": [
    "round(summary(log_mod_w)$coeff[which(summary(log_mod_w)$coef[,4] <= .05),c(1,4)],5)"
   ]
  },
  {
   "cell_type": "markdown",
   "metadata": {},
   "source": [
    "<b> Both AIC:"
   ]
  },
  {
   "cell_type": "code",
   "execution_count": 47,
   "metadata": {
    "scrolled": false
   },
   "outputs": [
    {
     "name": "stdout",
     "output_type": "stream",
     "text": [
      "Start:  AIC=566.09\n",
      "Y ~ s_start_age + factor(Gender) + factor(funding_indicator) + \n",
      "    factor(Citizenship) + avs_net_cost + s_Average.Precol.GPA + \n",
      "    s_GRE.Combined.General.Write.Score + s_GRE.Combined.Quantitative.Score + \n",
      "    s_GRE.Combined.General.Verbal.Score + factor(gap_indicator) + \n",
      "    GPA_trend + s_start_year\n",
      "\n",
      "                                      Df Deviance    AIC\n",
      "- factor(Citizenship)                 10   539.51 563.51\n",
      "- s_GRE.Combined.General.Write.Score   1   522.14 564.14\n",
      "- s_GRE.Combined.General.Verbal.Score  1   522.15 564.15\n",
      "- s_start_age                          1   522.25 564.25\n",
      "- s_GRE.Combined.Quantitative.Score    1   522.46 564.46\n",
      "- factor(gap_indicator)                1   522.71 564.71\n",
      "- factor(Gender)                       1   523.61 565.61\n",
      "<none>                                     522.09 566.09\n",
      "- GPA_trend                            1   525.16 567.16\n",
      "- s_Average.Precol.GPA                 1   527.40 569.40\n",
      "- avs_net_cost                         1   529.35 571.35\n",
      "- s_start_year                         1   567.58 609.58\n",
      "- factor(funding_indicator)            1   573.31 615.31\n",
      "\n",
      "Step:  AIC=563.51\n",
      "Y ~ s_start_age + factor(Gender) + factor(funding_indicator) + \n",
      "    avs_net_cost + s_Average.Precol.GPA + s_GRE.Combined.General.Write.Score + \n",
      "    s_GRE.Combined.Quantitative.Score + s_GRE.Combined.General.Verbal.Score + \n",
      "    factor(gap_indicator) + GPA_trend + s_start_year\n",
      "\n",
      "                                      Df Deviance    AIC\n",
      "- s_GRE.Combined.General.Verbal.Score  1   539.65 561.65\n",
      "- s_start_age                          1   539.68 561.68\n",
      "- factor(gap_indicator)                1   539.72 561.72\n",
      "- s_GRE.Combined.General.Write.Score   1   540.12 562.12\n",
      "- factor(Gender)                       1   540.34 562.34\n",
      "- s_GRE.Combined.Quantitative.Score    1   540.44 562.44\n",
      "<none>                                     539.51 563.51\n",
      "- GPA_trend                            1   541.77 563.77\n",
      "+ factor(Citizenship)                 10   522.09 566.09\n",
      "- s_Average.Precol.GPA                 1   544.98 566.98\n",
      "- avs_net_cost                         1   546.41 568.41\n",
      "- s_start_year                         1   582.09 604.09\n",
      "- factor(funding_indicator)            1   597.12 619.12\n",
      "\n",
      "Step:  AIC=561.65\n",
      "Y ~ s_start_age + factor(Gender) + factor(funding_indicator) + \n",
      "    avs_net_cost + s_Average.Precol.GPA + s_GRE.Combined.General.Write.Score + \n",
      "    s_GRE.Combined.Quantitative.Score + factor(gap_indicator) + \n",
      "    GPA_trend + s_start_year\n",
      "\n",
      "                                      Df Deviance    AIC\n",
      "- s_start_age                          1   539.82 559.82\n",
      "- factor(gap_indicator)                1   539.85 559.85\n",
      "- factor(Gender)                       1   540.46 560.46\n",
      "- s_GRE.Combined.Quantitative.Score    1   540.70 560.70\n",
      "<none>                                     539.65 561.65\n",
      "- GPA_trend                            1   541.90 561.90\n",
      "- s_GRE.Combined.General.Write.Score   1   542.00 562.00\n",
      "+ s_GRE.Combined.General.Verbal.Score  1   539.51 563.51\n",
      "+ factor(Citizenship)                 10   522.15 564.15\n",
      "- s_Average.Precol.GPA                 1   545.21 565.21\n",
      "- avs_net_cost                         1   546.50 566.50\n",
      "- s_start_year                         1   582.25 602.25\n",
      "- factor(funding_indicator)            1   597.67 617.67\n",
      "\n",
      "Step:  AIC=559.82\n",
      "Y ~ factor(Gender) + factor(funding_indicator) + avs_net_cost + \n",
      "    s_Average.Precol.GPA + s_GRE.Combined.General.Write.Score + \n",
      "    s_GRE.Combined.Quantitative.Score + factor(gap_indicator) + \n",
      "    GPA_trend + s_start_year\n",
      "\n",
      "                                      Df Deviance    AIC\n",
      "- factor(gap_indicator)                1   540.02 558.02\n",
      "- factor(Gender)                       1   540.58 558.58\n",
      "- s_GRE.Combined.Quantitative.Score    1   540.80 558.80\n",
      "<none>                                     539.82 559.82\n",
      "- GPA_trend                            1   542.03 560.03\n",
      "- s_GRE.Combined.General.Write.Score   1   542.25 560.25\n",
      "+ s_start_age                          1   539.65 561.65\n",
      "+ s_GRE.Combined.General.Verbal.Score  1   539.68 561.68\n",
      "+ factor(Citizenship)                 10   522.32 562.32\n",
      "- s_Average.Precol.GPA                 1   545.30 563.30\n",
      "- avs_net_cost                         1   546.59 564.59\n",
      "- s_start_year                         1   586.25 604.25\n",
      "- factor(funding_indicator)            1   609.76 627.76\n",
      "\n",
      "Step:  AIC=558.02\n",
      "Y ~ factor(Gender) + factor(funding_indicator) + avs_net_cost + \n",
      "    s_Average.Precol.GPA + s_GRE.Combined.General.Write.Score + \n",
      "    s_GRE.Combined.Quantitative.Score + GPA_trend + s_start_year\n",
      "\n",
      "                                      Df Deviance    AIC\n",
      "- factor(Gender)                       1   540.79 556.79\n",
      "- s_GRE.Combined.Quantitative.Score    1   541.07 557.07\n",
      "<none>                                     540.02 558.02\n",
      "- GPA_trend                            1   542.25 558.25\n",
      "- s_GRE.Combined.General.Write.Score   1   542.41 558.41\n",
      "+ factor(gap_indicator)                1   539.82 559.82\n",
      "+ s_start_age                          1   539.85 559.85\n",
      "+ s_GRE.Combined.General.Verbal.Score  1   539.89 559.89\n",
      "+ factor(Citizenship)                 10   522.94 560.94\n",
      "- s_Average.Precol.GPA                 1   545.46 561.46\n",
      "- avs_net_cost                         1   546.60 562.60\n",
      "- s_start_year                         1   587.97 603.97\n",
      "- factor(funding_indicator)            1   609.85 625.85\n",
      "\n",
      "Step:  AIC=556.79\n",
      "Y ~ factor(funding_indicator) + avs_net_cost + s_Average.Precol.GPA + \n",
      "    s_GRE.Combined.General.Write.Score + s_GRE.Combined.Quantitative.Score + \n",
      "    GPA_trend + s_start_year\n",
      "\n",
      "                                      Df Deviance    AIC\n",
      "- s_GRE.Combined.Quantitative.Score    1   541.75 555.75\n",
      "<none>                                     540.79 556.79\n",
      "- GPA_trend                            1   543.02 557.02\n",
      "- s_GRE.Combined.General.Write.Score   1   543.22 557.22\n",
      "+ factor(Gender)                       1   540.02 558.02\n",
      "+ factor(gap_indicator)                1   540.58 558.58\n",
      "+ s_start_age                          1   540.66 558.66\n",
      "+ s_GRE.Combined.General.Verbal.Score  1   540.68 558.68\n",
      "- s_Average.Precol.GPA                 1   546.08 560.08\n",
      "+ factor(Citizenship)                 10   524.38 560.38\n",
      "- avs_net_cost                         1   547.59 561.59\n",
      "- s_start_year                         1   589.99 603.99\n",
      "- factor(funding_indicator)            1   610.07 624.07\n",
      "\n",
      "Step:  AIC=555.75\n",
      "Y ~ factor(funding_indicator) + avs_net_cost + s_Average.Precol.GPA + \n",
      "    s_GRE.Combined.General.Write.Score + GPA_trend + s_start_year\n",
      "\n",
      "                                      Df Deviance    AIC\n",
      "<none>                                     541.75 555.75\n",
      "- GPA_trend                            1   543.97 555.97\n",
      "- s_GRE.Combined.General.Write.Score   1   544.21 556.21\n",
      "+ s_GRE.Combined.Quantitative.Score    1   540.79 556.79\n",
      "+ factor(Gender)                       1   541.07 557.07\n",
      "+ factor(gap_indicator)                1   541.48 557.48\n",
      "+ s_GRE.Combined.General.Verbal.Score  1   541.53 557.53\n",
      "+ s_start_age                          1   541.69 557.69\n",
      "+ factor(Citizenship)                 10   524.72 558.72\n",
      "- s_Average.Precol.GPA                 1   547.24 559.24\n",
      "- avs_net_cost                         1   549.09 561.09\n",
      "- s_start_year                         1   593.21 605.21\n",
      "- factor(funding_indicator)            1   610.19 622.19\n"
     ]
    }
   ],
   "source": [
    "log_mod_w_aic= stepAIC(log_mod_w, direction = 'both')"
   ]
  },
  {
   "cell_type": "markdown",
   "metadata": {},
   "source": [
    "<b> Significant variables both AIC selects:"
   ]
  },
  {
   "cell_type": "code",
   "execution_count": 48,
   "metadata": {},
   "outputs": [
    {
     "data": {
      "text/html": [
       "<table>\n",
       "<thead><tr><th></th><th scope=col>Estimate</th><th scope=col>Pr(&gt;|z|)</th></tr></thead>\n",
       "<tbody>\n",
       "\t<tr><th scope=row>(Intercept)</th><td>-0.55229</td><td>0.00780 </td></tr>\n",
       "\t<tr><th scope=row>factor(funding_indicator)1</th><td> 2.06392</td><td>0.00000 </td></tr>\n",
       "\t<tr><th scope=row>avs_net_cost</th><td> 0.34672</td><td>0.02120 </td></tr>\n",
       "\t<tr><th scope=row>s_Average.Precol.GPA</th><td> 0.23712</td><td>0.03158 </td></tr>\n",
       "\t<tr><th scope=row>s_start_year</th><td>-1.01476</td><td>0.00000 </td></tr>\n",
       "</tbody>\n",
       "</table>\n"
      ],
      "text/latex": [
       "\\begin{tabular}{r|ll}\n",
       "  & Estimate & Pr(>\\textbar{}z\\textbar{})\\\\\n",
       "\\hline\n",
       "\t(Intercept) & -0.55229 & 0.00780 \\\\\n",
       "\tfactor(funding\\_indicator)1 &  2.06392 & 0.00000 \\\\\n",
       "\tavs\\_net\\_cost &  0.34672 & 0.02120 \\\\\n",
       "\ts\\_Average.Precol.GPA &  0.23712 & 0.03158 \\\\\n",
       "\ts\\_start\\_year & -1.01476 & 0.00000 \\\\\n",
       "\\end{tabular}\n"
      ],
      "text/markdown": [
       "\n",
       "| <!--/--> | Estimate | Pr(>|z|) |\n",
       "|---|---|---|\n",
       "| (Intercept) | -0.55229 | 0.00780  |\n",
       "| factor(funding_indicator)1 |  2.06392 | 0.00000  |\n",
       "| avs_net_cost |  0.34672 | 0.02120  |\n",
       "| s_Average.Precol.GPA |  0.23712 | 0.03158  |\n",
       "| s_start_year | -1.01476 | 0.00000  |\n",
       "\n"
      ],
      "text/plain": [
       "                           Estimate Pr(>|z|)\n",
       "(Intercept)                -0.55229 0.00780 \n",
       "factor(funding_indicator)1  2.06392 0.00000 \n",
       "avs_net_cost                0.34672 0.02120 \n",
       "s_Average.Precol.GPA        0.23712 0.03158 \n",
       "s_start_year               -1.01476 0.00000 "
      ]
     },
     "metadata": {},
     "output_type": "display_data"
    }
   ],
   "source": [
    "round(summary(log_mod_w_aic)$coeff[which(summary(log_mod_w_aic)$coef[,4] <= .05),c(1,4)],5)"
   ]
  },
  {
   "cell_type": "markdown",
   "metadata": {},
   "source": [
    "<b> Both BIC:"
   ]
  },
  {
   "cell_type": "code",
   "execution_count": 49,
   "metadata": {
    "scrolled": false
   },
   "outputs": [
    {
     "name": "stdout",
     "output_type": "stream",
     "text": [
      "Start:  AIC=659.46\n",
      "Y ~ s_start_age + factor(Gender) + factor(funding_indicator) + \n",
      "    factor(Citizenship) + avs_net_cost + s_Average.Precol.GPA + \n",
      "    s_GRE.Combined.General.Write.Score + s_GRE.Combined.Quantitative.Score + \n",
      "    s_GRE.Combined.General.Verbal.Score + factor(gap_indicator) + \n",
      "    GPA_trend + s_start_year\n",
      "\n",
      "                                      Df Deviance    AIC\n",
      "- factor(Citizenship)                 10   539.51 614.44\n",
      "- s_GRE.Combined.General.Write.Score   1   522.14 653.26\n",
      "- s_GRE.Combined.General.Verbal.Score  1   522.15 653.28\n",
      "- s_start_age                          1   522.25 653.38\n",
      "- s_GRE.Combined.Quantitative.Score    1   522.46 653.59\n",
      "- factor(gap_indicator)                1   522.71 653.84\n",
      "- factor(Gender)                       1   523.61 654.74\n",
      "- GPA_trend                            1   525.16 656.29\n",
      "- s_Average.Precol.GPA                 1   527.40 658.53\n",
      "<none>                                     522.09 659.46\n",
      "- avs_net_cost                         1   529.35 660.47\n",
      "- s_start_year                         1   567.58 698.71\n",
      "- factor(funding_indicator)            1   573.31 704.44\n",
      "\n",
      "Step:  AIC=614.44\n",
      "Y ~ s_start_age + factor(Gender) + factor(funding_indicator) + \n",
      "    avs_net_cost + s_Average.Precol.GPA + s_GRE.Combined.General.Write.Score + \n",
      "    s_GRE.Combined.Quantitative.Score + s_GRE.Combined.General.Verbal.Score + \n",
      "    factor(gap_indicator) + GPA_trend + s_start_year\n",
      "\n",
      "                                      Df Deviance    AIC\n",
      "- s_GRE.Combined.General.Verbal.Score  1   539.65 608.33\n",
      "- s_start_age                          1   539.68 608.37\n",
      "- factor(gap_indicator)                1   539.72 608.40\n",
      "- s_GRE.Combined.General.Write.Score   1   540.12 608.81\n",
      "- factor(Gender)                       1   540.34 609.03\n",
      "- s_GRE.Combined.Quantitative.Score    1   540.44 609.13\n",
      "- GPA_trend                            1   541.77 610.45\n",
      "- s_Average.Precol.GPA                 1   544.98 613.67\n",
      "<none>                                     539.51 614.44\n",
      "- avs_net_cost                         1   546.41 615.10\n",
      "- s_start_year                         1   582.09 650.78\n",
      "+ factor(Citizenship)                 10   522.09 659.46\n",
      "- factor(funding_indicator)            1   597.12 665.81\n",
      "\n",
      "Step:  AIC=608.33\n",
      "Y ~ s_start_age + factor(Gender) + factor(funding_indicator) + \n",
      "    avs_net_cost + s_Average.Precol.GPA + s_GRE.Combined.General.Write.Score + \n",
      "    s_GRE.Combined.Quantitative.Score + factor(gap_indicator) + \n",
      "    GPA_trend + s_start_year\n",
      "\n",
      "                                      Df Deviance    AIC\n",
      "- s_start_age                          1   539.82 602.26\n",
      "- factor(gap_indicator)                1   539.85 602.29\n",
      "- factor(Gender)                       1   540.46 602.90\n",
      "- s_GRE.Combined.Quantitative.Score    1   540.70 603.14\n",
      "- GPA_trend                            1   541.90 604.34\n",
      "- s_GRE.Combined.General.Write.Score   1   542.00 604.45\n",
      "- s_Average.Precol.GPA                 1   545.21 607.65\n",
      "<none>                                     539.65 608.33\n",
      "- avs_net_cost                         1   546.50 608.95\n",
      "+ s_GRE.Combined.General.Verbal.Score  1   539.51 614.44\n",
      "- s_start_year                         1   582.25 644.69\n",
      "+ factor(Citizenship)                 10   522.15 653.28\n",
      "- factor(funding_indicator)            1   597.67 660.11\n",
      "\n",
      "Step:  AIC=602.26\n",
      "Y ~ factor(Gender) + factor(funding_indicator) + avs_net_cost + \n",
      "    s_Average.Precol.GPA + s_GRE.Combined.General.Write.Score + \n",
      "    s_GRE.Combined.Quantitative.Score + factor(gap_indicator) + \n",
      "    GPA_trend + s_start_year\n",
      "\n",
      "                                      Df Deviance    AIC\n",
      "- factor(gap_indicator)                1   540.02 596.22\n",
      "- factor(Gender)                       1   540.58 596.78\n",
      "- s_GRE.Combined.Quantitative.Score    1   540.80 597.00\n",
      "- GPA_trend                            1   542.03 598.23\n",
      "- s_GRE.Combined.General.Write.Score   1   542.25 598.45\n",
      "- s_Average.Precol.GPA                 1   545.30 601.49\n",
      "<none>                                     539.82 602.26\n",
      "- avs_net_cost                         1   546.59 602.79\n",
      "+ s_start_age                          1   539.65 608.33\n",
      "+ s_GRE.Combined.General.Verbal.Score  1   539.68 608.37\n",
      "- s_start_year                         1   586.25 642.45\n",
      "+ factor(Citizenship)                 10   522.32 647.21\n",
      "- factor(funding_indicator)            1   609.76 665.95\n",
      "\n",
      "Step:  AIC=596.22\n",
      "Y ~ factor(Gender) + factor(funding_indicator) + avs_net_cost + \n",
      "    s_Average.Precol.GPA + s_GRE.Combined.General.Write.Score + \n",
      "    s_GRE.Combined.Quantitative.Score + GPA_trend + s_start_year\n",
      "\n",
      "                                      Df Deviance    AIC\n",
      "- factor(Gender)                       1   540.79 590.74\n",
      "- s_GRE.Combined.Quantitative.Score    1   541.07 591.02\n",
      "- GPA_trend                            1   542.25 592.20\n",
      "- s_GRE.Combined.General.Write.Score   1   542.41 592.36\n",
      "- s_Average.Precol.GPA                 1   545.46 595.42\n",
      "<none>                                     540.02 596.22\n",
      "- avs_net_cost                         1   546.60 596.56\n",
      "+ factor(gap_indicator)                1   539.82 602.26\n",
      "+ s_start_age                          1   539.85 602.29\n",
      "+ s_GRE.Combined.General.Verbal.Score  1   539.89 602.33\n",
      "- s_start_year                         1   587.97 637.92\n",
      "+ factor(Citizenship)                 10   522.94 641.58\n",
      "- factor(funding_indicator)            1   609.85 659.80\n",
      "\n",
      "Step:  AIC=590.74\n",
      "Y ~ factor(funding_indicator) + avs_net_cost + s_Average.Precol.GPA + \n",
      "    s_GRE.Combined.General.Write.Score + s_GRE.Combined.Quantitative.Score + \n",
      "    GPA_trend + s_start_year\n",
      "\n",
      "                                      Df Deviance    AIC\n",
      "- s_GRE.Combined.Quantitative.Score    1   541.75 585.46\n",
      "- GPA_trend                            1   543.02 586.73\n",
      "- s_GRE.Combined.General.Write.Score   1   543.22 586.93\n",
      "- s_Average.Precol.GPA                 1   546.08 589.79\n",
      "<none>                                     540.79 590.74\n",
      "- avs_net_cost                         1   547.59 591.30\n",
      "+ factor(Gender)                       1   540.02 596.22\n",
      "+ factor(gap_indicator)                1   540.58 596.78\n",
      "+ s_start_age                          1   540.66 596.86\n",
      "+ s_GRE.Combined.General.Verbal.Score  1   540.68 596.87\n",
      "- s_start_year                         1   589.99 633.70\n",
      "+ factor(Citizenship)                 10   524.38 636.77\n",
      "- factor(funding_indicator)            1   610.07 653.78\n",
      "\n",
      "Step:  AIC=585.46\n",
      "Y ~ factor(funding_indicator) + avs_net_cost + s_Average.Precol.GPA + \n",
      "    s_GRE.Combined.General.Write.Score + GPA_trend + s_start_year\n",
      "\n",
      "                                      Df Deviance    AIC\n",
      "- GPA_trend                            1   543.97 581.44\n",
      "- s_GRE.Combined.General.Write.Score   1   544.21 581.67\n",
      "- s_Average.Precol.GPA                 1   547.24 584.70\n",
      "<none>                                     541.75 585.46\n",
      "- avs_net_cost                         1   549.09 586.55\n",
      "+ s_GRE.Combined.Quantitative.Score    1   540.79 590.74\n",
      "+ factor(Gender)                       1   541.07 591.02\n",
      "+ factor(gap_indicator)                1   541.48 591.44\n",
      "+ s_GRE.Combined.General.Verbal.Score  1   541.53 591.49\n",
      "+ s_start_age                          1   541.69 591.64\n",
      "- s_start_year                         1   593.21 630.67\n",
      "+ factor(Citizenship)                 10   524.72 630.87\n",
      "- factor(funding_indicator)            1   610.19 647.66\n",
      "\n",
      "Step:  AIC=581.44\n",
      "Y ~ factor(funding_indicator) + avs_net_cost + s_Average.Precol.GPA + \n",
      "    s_GRE.Combined.General.Write.Score + s_start_year\n",
      "\n",
      "                                      Df Deviance    AIC\n",
      "- s_GRE.Combined.General.Write.Score   1   546.05 577.27\n",
      "- s_Average.Precol.GPA                 1   549.91 581.13\n",
      "<none>                                     543.97 581.44\n",
      "- avs_net_cost                         1   551.38 582.60\n",
      "+ GPA_trend                            1   541.75 585.46\n",
      "+ s_GRE.Combined.Quantitative.Score    1   543.02 586.73\n",
      "+ factor(Gender)                       1   543.29 587.00\n",
      "+ factor(gap_indicator)                1   543.69 587.40\n",
      "+ s_GRE.Combined.General.Verbal.Score  1   543.76 587.47\n",
      "+ s_start_age                          1   543.93 587.64\n",
      "+ factor(Citizenship)                 10   527.80 627.71\n",
      "- s_start_year                         1   597.30 628.52\n",
      "- factor(funding_indicator)            1   615.59 646.81\n"
     ]
    },
    {
     "name": "stdout",
     "output_type": "stream",
     "text": [
      "\n",
      "Step:  AIC=577.27\n",
      "Y ~ factor(funding_indicator) + avs_net_cost + s_Average.Precol.GPA + \n",
      "    s_start_year\n",
      "\n",
      "                                      Df Deviance    AIC\n",
      "- s_Average.Precol.GPA                 1   551.63 576.60\n",
      "<none>                                     546.05 577.27\n",
      "- avs_net_cost                         1   552.85 577.82\n",
      "+ s_GRE.Combined.General.Write.Score   1   543.97 581.44\n",
      "+ s_GRE.Combined.General.Verbal.Score  1   544.18 581.65\n",
      "+ GPA_trend                            1   544.21 581.67\n",
      "+ s_GRE.Combined.Quantitative.Score    1   545.09 582.55\n",
      "+ factor(Gender)                       1   545.32 582.79\n",
      "+ factor(gap_indicator)                1   545.82 583.29\n",
      "+ s_start_age                          1   545.98 583.44\n",
      "+ factor(Citizenship)                 10   528.06 621.73\n",
      "- s_start_year                         1   598.56 623.54\n",
      "- factor(funding_indicator)            1   620.23 645.20\n",
      "\n",
      "Step:  AIC=576.6\n",
      "Y ~ factor(funding_indicator) + avs_net_cost + s_start_year\n",
      "\n",
      "                                      Df Deviance    AIC\n",
      "<none>                                     551.63 576.60\n",
      "+ s_Average.Precol.GPA                 1   546.05 577.27\n",
      "- avs_net_cost                         1   558.80 577.53\n",
      "+ GPA_trend                            1   549.37 580.59\n",
      "+ s_GRE.Combined.General.Verbal.Score  1   549.80 581.02\n",
      "+ s_GRE.Combined.General.Write.Score   1   549.91 581.13\n",
      "+ s_GRE.Combined.Quantitative.Score    1   550.45 581.67\n",
      "+ factor(Gender)                       1   551.05 582.27\n",
      "+ factor(gap_indicator)                1   551.42 582.64\n",
      "+ s_start_age                          1   551.62 582.84\n",
      "+ factor(Citizenship)                 10   533.69 621.11\n",
      "- s_start_year                         1   611.85 630.59\n",
      "- factor(funding_indicator)            1   625.17 643.90\n"
     ]
    }
   ],
   "source": [
    "log_mod_w_bic = stepAIC(log_mod_w, direction = \"both\", k = log(e_n))"
   ]
  },
  {
   "cell_type": "markdown",
   "metadata": {},
   "source": [
    "<b> Significant variables both BIC selects:"
   ]
  },
  {
   "cell_type": "code",
   "execution_count": 50,
   "metadata": {},
   "outputs": [
    {
     "data": {
      "text/plain": [
       "\n",
       "Call:\n",
       "glm(formula = Y ~ factor(funding_indicator) + avs_net_cost + \n",
       "    s_start_year, family = \"binomial\", data = Watson_df)\n",
       "\n",
       "Deviance Residuals: \n",
       "    Min       1Q   Median       3Q      Max  \n",
       "-2.8893  -0.9101   0.5567   0.8484   1.7719  \n",
       "\n",
       "Coefficients:\n",
       "                           Estimate Std. Error z value Pr(>|z|)    \n",
       "(Intercept)                 -0.5034     0.2001  -2.516   0.0119 *  \n",
       "factor(funding_indicator)1   2.0988     0.2644   7.939 2.04e-15 ***\n",
       "avs_net_cost                 0.3515     0.1548   2.270   0.0232 *  \n",
       "s_start_year                -1.0004     0.1437  -6.963 3.34e-12 ***\n",
       "---\n",
       "Signif. codes:  0 '***' 0.001 '**' 0.01 '*' 0.05 '.' 0.1 ' ' 1\n",
       "\n",
       "(Dispersion parameter for binomial family taken to be 1)\n",
       "\n",
       "    Null deviance: 656.07  on 514  degrees of freedom\n",
       "Residual deviance: 551.63  on 511  degrees of freedom\n",
       "AIC: 559.63\n",
       "\n",
       "Number of Fisher Scoring iterations: 4\n"
      ]
     },
     "metadata": {},
     "output_type": "display_data"
    }
   ],
   "source": [
    "summary(log_mod_w_bic)"
   ]
  },
  {
   "cell_type": "code",
   "execution_count": 51,
   "metadata": {
    "scrolled": true
   },
   "outputs": [
    {
     "data": {
      "text/html": [
       "<table>\n",
       "<thead><tr><th></th><th scope=col>Estimate</th><th scope=col>Pr(&gt;|z|)</th></tr></thead>\n",
       "<tbody>\n",
       "\t<tr><th scope=row>(Intercept)</th><td>-0.50338</td><td>0.01188 </td></tr>\n",
       "\t<tr><th scope=row>factor(funding_indicator)1</th><td> 2.09885</td><td>0.00000 </td></tr>\n",
       "\t<tr><th scope=row>avs_net_cost</th><td> 0.35147</td><td>0.02320 </td></tr>\n",
       "\t<tr><th scope=row>s_start_year</th><td>-1.00040</td><td>0.00000 </td></tr>\n",
       "</tbody>\n",
       "</table>\n"
      ],
      "text/latex": [
       "\\begin{tabular}{r|ll}\n",
       "  & Estimate & Pr(>\\textbar{}z\\textbar{})\\\\\n",
       "\\hline\n",
       "\t(Intercept) & -0.50338 & 0.01188 \\\\\n",
       "\tfactor(funding\\_indicator)1 &  2.09885 & 0.00000 \\\\\n",
       "\tavs\\_net\\_cost &  0.35147 & 0.02320 \\\\\n",
       "\ts\\_start\\_year & -1.00040 & 0.00000 \\\\\n",
       "\\end{tabular}\n"
      ],
      "text/markdown": [
       "\n",
       "| <!--/--> | Estimate | Pr(>|z|) |\n",
       "|---|---|---|\n",
       "| (Intercept) | -0.50338 | 0.01188  |\n",
       "| factor(funding_indicator)1 |  2.09885 | 0.00000  |\n",
       "| avs_net_cost |  0.35147 | 0.02320  |\n",
       "| s_start_year | -1.00040 | 0.00000  |\n",
       "\n"
      ],
      "text/plain": [
       "                           Estimate Pr(>|z|)\n",
       "(Intercept)                -0.50338 0.01188 \n",
       "factor(funding_indicator)1  2.09885 0.00000 \n",
       "avs_net_cost                0.35147 0.02320 \n",
       "s_start_year               -1.00040 0.00000 "
      ]
     },
     "metadata": {},
     "output_type": "display_data"
    }
   ],
   "source": [
    "round(summary(log_mod_w_bic)$coeff[which(summary(log_mod_w_bic)$coef[,4] <= .05),c(1,4)],5)"
   ]
  },
  {
   "cell_type": "markdown",
   "metadata": {},
   "source": [
    "# Joint Analysis"
   ]
  },
  {
   "cell_type": "markdown",
   "metadata": {},
   "source": [
    "<b> Logistic regression model:"
   ]
  },
  {
   "cell_type": "code",
   "execution_count": 52,
   "metadata": {},
   "outputs": [],
   "source": [
    "int_chn = function(x) ifelse(x=='China',1,0)\n",
    "int_afc = function(x) ifelse(x=='Africa',1,0)\n",
    "int_asia = function(x) ifelse(x=='Asia',1,0)"
   ]
  },
  {
   "cell_type": "code",
   "execution_count": 53,
   "metadata": {},
   "outputs": [],
   "source": [
    "df <- within(df, s_Citizenship <- relevel(s_Citizenship, ref = \"White\"))\n",
    "df <- within(df, s_College <- relevel(s_College, ref = \"GD Non-Harpur\"))"
   ]
  },
  {
   "cell_type": "code",
   "execution_count": 54,
   "metadata": {},
   "outputs": [
    {
     "data": {
      "text/plain": [
       "\n",
       "Call:\n",
       "glm(formula = Y ~ factor(funding_indicator) + factor(s_Citizenship) + \n",
       "    avs_net_cost + s_Average.Precol.GPA + s_GRE.Combined.General.Verbal.Score + \n",
       "    s_GRE.Combined.General.Write.Score + s_GRE.Combined.Quantitative.Score + \n",
       "    GPA_trend + s_start_year + factor(s_College) + avs_net_cost:factor(s_College) + \n",
       "    factor(s_College):factor(s_Citizenship) + factor(s_College):s_GRE.Combined.General.Verbal.Score + \n",
       "    factor(s_College):s_Average.Precol.GPA + factor(s_College):s_GRE.Combined.General.Write.Score + \n",
       "    s_GRE.Combined.Quantitative.Score:factor(s_College) + factor(s_College):factor(funding_indicator) + \n",
       "    factor(s_College):GPA_trend + s_start_year:factor(s_College), \n",
       "    family = \"binomial\", data = df)\n",
       "\n",
       "Deviance Residuals: \n",
       "    Min       1Q   Median       3Q      Max  \n",
       "-2.6775  -1.0965   0.6810   0.9201   1.8760  \n",
       "\n",
       "Coefficients:\n",
       "                                                                Estimate\n",
       "(Intercept)                                                    -0.131410\n",
       "factor(funding_indicator)1                                      1.350821\n",
       "factor(s_Citizenship)Africa                                     1.606373\n",
       "factor(s_Citizenship)Asia                                       0.356266\n",
       "factor(s_Citizenship)China                                      0.230485\n",
       "avs_net_cost                                                    0.347812\n",
       "s_Average.Precol.GPA                                            0.172043\n",
       "s_GRE.Combined.General.Verbal.Score                            -0.168207\n",
       "s_GRE.Combined.General.Write.Score                             -0.036399\n",
       "s_GRE.Combined.Quantitative.Score                              -0.197802\n",
       "GPA_trend                                                       1.367002\n",
       "s_start_year                                                   -0.763363\n",
       "factor(s_College)GD Harpur                                     -0.301470\n",
       "avs_net_cost:factor(s_College)GD Harpur                        -0.340247\n",
       "factor(s_Citizenship)Africa:factor(s_College)GD Harpur         -0.886184\n",
       "factor(s_Citizenship)Asia:factor(s_College)GD Harpur            0.236624\n",
       "factor(s_Citizenship)China:factor(s_College)GD Harpur           0.068192\n",
       "s_GRE.Combined.General.Verbal.Score:factor(s_College)GD Harpur  0.092366\n",
       "s_Average.Precol.GPA:factor(s_College)GD Harpur                -0.041470\n",
       "s_GRE.Combined.General.Write.Score:factor(s_College)GD Harpur  -0.002452\n",
       "s_GRE.Combined.Quantitative.Score:factor(s_College)GD Harpur    0.214769\n",
       "factor(funding_indicator)1:factor(s_College)GD Harpur          -0.429218\n",
       "GPA_trend:factor(s_College)GD Harpur                           -0.562506\n",
       "s_start_year:factor(s_College)GD Harpur                        -0.035260\n",
       "                                                               Std. Error\n",
       "(Intercept)                                                      0.137355\n",
       "factor(funding_indicator)1                                       0.184767\n",
       "factor(s_Citizenship)Africa                                      1.090840\n",
       "factor(s_Citizenship)Asia                                        0.234731\n",
       "factor(s_Citizenship)China                                       0.230280\n",
       "avs_net_cost                                                     0.116636\n",
       "s_Average.Precol.GPA                                             0.079591\n",
       "s_GRE.Combined.General.Verbal.Score                              0.305754\n",
       "s_GRE.Combined.General.Write.Score                               0.139624\n",
       "s_GRE.Combined.Quantitative.Score                                0.389665\n",
       "GPA_trend                                                        0.493317\n",
       "s_start_year                                                     0.103630\n",
       "factor(s_College)GD Harpur                                       0.188955\n",
       "avs_net_cost:factor(s_College)GD Harpur                          0.127301\n",
       "factor(s_Citizenship)Africa:factor(s_College)GD Harpur           1.141908\n",
       "factor(s_Citizenship)Asia:factor(s_College)GD Harpur             0.305884\n",
       "factor(s_Citizenship)China:factor(s_College)GD Harpur            0.311552\n",
       "s_GRE.Combined.General.Verbal.Score:factor(s_College)GD Harpur   0.325231\n",
       "s_Average.Precol.GPA:factor(s_College)GD Harpur                  0.098761\n",
       "s_GRE.Combined.General.Write.Score:factor(s_College)GD Harpur    0.152315\n",
       "s_GRE.Combined.Quantitative.Score:factor(s_College)GD Harpur     0.400549\n",
       "factor(funding_indicator)1:factor(s_College)GD Harpur            0.236075\n",
       "GPA_trend:factor(s_College)GD Harpur                             0.587903\n",
       "s_start_year:factor(s_College)GD Harpur                          0.126501\n",
       "                                                               z value Pr(>|z|)\n",
       "(Intercept)                                                     -0.957  0.33871\n",
       "factor(funding_indicator)1                                       7.311 2.65e-13\n",
       "factor(s_Citizenship)Africa                                      1.473  0.14086\n",
       "factor(s_Citizenship)Asia                                        1.518  0.12907\n",
       "factor(s_Citizenship)China                                       1.001  0.31688\n",
       "avs_net_cost                                                     2.982  0.00286\n",
       "s_Average.Precol.GPA                                             2.162  0.03065\n",
       "s_GRE.Combined.General.Verbal.Score                             -0.550  0.58222\n",
       "s_GRE.Combined.General.Write.Score                              -0.261  0.79433\n",
       "s_GRE.Combined.Quantitative.Score                               -0.508  0.61172\n",
       "GPA_trend                                                        2.771  0.00559\n",
       "s_start_year                                                    -7.366 1.76e-13\n",
       "factor(s_College)GD Harpur                                      -1.595  0.11061\n",
       "avs_net_cost:factor(s_College)GD Harpur                         -2.673  0.00752\n",
       "factor(s_Citizenship)Africa:factor(s_College)GD Harpur          -0.776  0.43772\n",
       "factor(s_Citizenship)Asia:factor(s_College)GD Harpur             0.774  0.43918\n",
       "factor(s_Citizenship)China:factor(s_College)GD Harpur            0.219  0.82674\n",
       "s_GRE.Combined.General.Verbal.Score:factor(s_College)GD Harpur   0.284  0.77641\n",
       "s_Average.Precol.GPA:factor(s_College)GD Harpur                 -0.420  0.67456\n",
       "s_GRE.Combined.General.Write.Score:factor(s_College)GD Harpur   -0.016  0.98715\n",
       "s_GRE.Combined.Quantitative.Score:factor(s_College)GD Harpur     0.536  0.59183\n",
       "factor(funding_indicator)1:factor(s_College)GD Harpur           -1.818  0.06904\n",
       "GPA_trend:factor(s_College)GD Harpur                            -0.957  0.33867\n",
       "s_start_year:factor(s_College)GD Harpur                         -0.279  0.78045\n",
       "                                                                  \n",
       "(Intercept)                                                       \n",
       "factor(funding_indicator)1                                     ***\n",
       "factor(s_Citizenship)Africa                                       \n",
       "factor(s_Citizenship)Asia                                         \n",
       "factor(s_Citizenship)China                                        \n",
       "avs_net_cost                                                   ** \n",
       "s_Average.Precol.GPA                                           *  \n",
       "s_GRE.Combined.General.Verbal.Score                               \n",
       "s_GRE.Combined.General.Write.Score                                \n",
       "s_GRE.Combined.Quantitative.Score                                 \n",
       "GPA_trend                                                      ** \n",
       "s_start_year                                                   ***\n",
       "factor(s_College)GD Harpur                                        \n",
       "avs_net_cost:factor(s_College)GD Harpur                        ** \n",
       "factor(s_Citizenship)Africa:factor(s_College)GD Harpur            \n",
       "factor(s_Citizenship)Asia:factor(s_College)GD Harpur              \n",
       "factor(s_Citizenship)China:factor(s_College)GD Harpur             \n",
       "s_GRE.Combined.General.Verbal.Score:factor(s_College)GD Harpur    \n",
       "s_Average.Precol.GPA:factor(s_College)GD Harpur                   \n",
       "s_GRE.Combined.General.Write.Score:factor(s_College)GD Harpur     \n",
       "s_GRE.Combined.Quantitative.Score:factor(s_College)GD Harpur      \n",
       "factor(funding_indicator)1:factor(s_College)GD Harpur          .  \n",
       "GPA_trend:factor(s_College)GD Harpur                              \n",
       "s_start_year:factor(s_College)GD Harpur                           \n",
       "---\n",
       "Signif. codes:  0 '***' 0.001 '**' 0.01 '*' 0.05 '.' 0.1 ' ' 1\n",
       "\n",
       "(Dispersion parameter for binomial family taken to be 1)\n",
       "\n",
       "    Null deviance: 3281.8  on 2469  degrees of freedom\n",
       "Residual deviance: 2944.8  on 2446  degrees of freedom\n",
       "AIC: 2992.8\n",
       "\n",
       "Number of Fisher Scoring iterations: 4\n"
      ]
     },
     "metadata": {},
     "output_type": "display_data"
    }
   ],
   "source": [
    "log_mod_total = glm(Y~factor(funding_indicator)+factor(s_Citizenship)+\n",
    "                avs_net_cost+s_Average.Precol.GPA+s_GRE.Combined.General.Verbal.Score+s_GRE.Combined.General.Write.Score+s_GRE.Combined.Quantitative.Score+GPA_trend+s_start_year+factor(s_College)+avs_net_cost:factor(s_College)+\n",
    "                factor(s_College):factor(s_Citizenship)+factor(s_College):s_GRE.Combined.General.Verbal.Score+factor(s_College):s_Average.Precol.GPA+factor(s_College):s_GRE.Combined.General.Write.Score+s_GRE.Combined.Quantitative.Score:factor(s_College)+\n",
    "                factor(s_College):factor(funding_indicator)+factor(s_College):GPA_trend+s_start_year:factor(s_College),\n",
    "                data=df,family=\"binomial\")\n",
    "summary(log_mod_total)"
   ]
  },
  {
   "cell_type": "markdown",
   "metadata": {},
   "source": [
    "<b> Significant Variables of logistic regression model:"
   ]
  },
  {
   "cell_type": "code",
   "execution_count": 55,
   "metadata": {
    "scrolled": true
   },
   "outputs": [
    {
     "data": {
      "text/html": [
       "<table>\n",
       "<thead><tr><th></th><th scope=col>Estimate</th><th scope=col>Pr(&gt;|z|)</th></tr></thead>\n",
       "<tbody>\n",
       "\t<tr><th scope=row>factor(funding_indicator)1</th><td> 1.35082</td><td>0.00000 </td></tr>\n",
       "\t<tr><th scope=row>avs_net_cost</th><td> 0.34781</td><td>0.00286 </td></tr>\n",
       "\t<tr><th scope=row>s_Average.Precol.GPA</th><td> 0.17204</td><td>0.03065 </td></tr>\n",
       "\t<tr><th scope=row>GPA_trend</th><td> 1.36700</td><td>0.00559 </td></tr>\n",
       "\t<tr><th scope=row>s_start_year</th><td>-0.76336</td><td>0.00000 </td></tr>\n",
       "\t<tr><th scope=row>avs_net_cost:factor(s_College)GD Harpur</th><td>-0.34025</td><td>0.00752 </td></tr>\n",
       "</tbody>\n",
       "</table>\n"
      ],
      "text/latex": [
       "\\begin{tabular}{r|ll}\n",
       "  & Estimate & Pr(>\\textbar{}z\\textbar{})\\\\\n",
       "\\hline\n",
       "\tfactor(funding\\_indicator)1 &  1.35082 & 0.00000 \\\\\n",
       "\tavs\\_net\\_cost &  0.34781 & 0.00286 \\\\\n",
       "\ts\\_Average.Precol.GPA &  0.17204 & 0.03065 \\\\\n",
       "\tGPA\\_trend &  1.36700 & 0.00559 \\\\\n",
       "\ts\\_start\\_year & -0.76336 & 0.00000 \\\\\n",
       "\tavs\\_net\\_cost:factor(s\\_College)GD Harpur & -0.34025 & 0.00752 \\\\\n",
       "\\end{tabular}\n"
      ],
      "text/markdown": [
       "\n",
       "| <!--/--> | Estimate | Pr(>|z|) |\n",
       "|---|---|---|\n",
       "| factor(funding_indicator)1 |  1.35082 | 0.00000  |\n",
       "| avs_net_cost |  0.34781 | 0.00286  |\n",
       "| s_Average.Precol.GPA |  0.17204 | 0.03065  |\n",
       "| GPA_trend |  1.36700 | 0.00559  |\n",
       "| s_start_year | -0.76336 | 0.00000  |\n",
       "| avs_net_cost:factor(s_College)GD Harpur | -0.34025 | 0.00752  |\n",
       "\n"
      ],
      "text/plain": [
       "                                        Estimate Pr(>|z|)\n",
       "factor(funding_indicator)1               1.35082 0.00000 \n",
       "avs_net_cost                             0.34781 0.00286 \n",
       "s_Average.Precol.GPA                     0.17204 0.03065 \n",
       "GPA_trend                                1.36700 0.00559 \n",
       "s_start_year                            -0.76336 0.00000 \n",
       "avs_net_cost:factor(s_College)GD Harpur -0.34025 0.00752 "
      ]
     },
     "metadata": {},
     "output_type": "display_data"
    }
   ],
   "source": [
    "round(summary(log_mod_total)$coeff[which(summary(log_mod_total)$coef[,4] <= .05),c(1,4)],5)"
   ]
  },
  {
   "cell_type": "markdown",
   "metadata": {},
   "source": [
    "<b> Both AIC:"
   ]
  },
  {
   "cell_type": "code",
   "execution_count": 56,
   "metadata": {
    "scrolled": true
   },
   "outputs": [
    {
     "name": "stdout",
     "output_type": "stream",
     "text": [
      "Start:  AIC=2992.81\n",
      "Y ~ factor(funding_indicator) + factor(s_Citizenship) + avs_net_cost + \n",
      "    s_Average.Precol.GPA + s_GRE.Combined.General.Verbal.Score + \n",
      "    s_GRE.Combined.General.Write.Score + s_GRE.Combined.Quantitative.Score + \n",
      "    GPA_trend + s_start_year + factor(s_College) + avs_net_cost:factor(s_College) + \n",
      "    factor(s_College):factor(s_Citizenship) + factor(s_College):s_GRE.Combined.General.Verbal.Score + \n",
      "    factor(s_College):s_Average.Precol.GPA + factor(s_College):s_GRE.Combined.General.Write.Score + \n",
      "    s_GRE.Combined.Quantitative.Score:factor(s_College) + factor(s_College):factor(funding_indicator) + \n",
      "    factor(s_College):GPA_trend + s_start_year:factor(s_College)\n",
      "\n",
      "                                                        Df Deviance    AIC\n",
      "- factor(s_Citizenship):factor(s_College)                3   2946.2 2988.2\n",
      "- s_GRE.Combined.General.Write.Score:factor(s_College)   1   2944.8 2990.8\n",
      "- s_start_year:factor(s_College)                         1   2944.9 2990.9\n",
      "- s_GRE.Combined.General.Verbal.Score:factor(s_College)  1   2944.9 2990.9\n",
      "- s_Average.Precol.GPA:factor(s_College)                 1   2945.0 2991.0\n",
      "- s_GRE.Combined.Quantitative.Score:factor(s_College)    1   2945.1 2991.1\n",
      "- GPA_trend:factor(s_College)                            1   2945.7 2991.7\n",
      "<none>                                                       2944.8 2992.8\n",
      "- factor(funding_indicator):factor(s_College)            1   2948.1 2994.1\n",
      "- avs_net_cost:factor(s_College)                         1   2953.4 2999.4\n",
      "\n",
      "Step:  AIC=2988.23\n",
      "Y ~ factor(funding_indicator) + factor(s_Citizenship) + avs_net_cost + \n",
      "    s_Average.Precol.GPA + s_GRE.Combined.General.Verbal.Score + \n",
      "    s_GRE.Combined.General.Write.Score + s_GRE.Combined.Quantitative.Score + \n",
      "    GPA_trend + s_start_year + factor(s_College) + avs_net_cost:factor(s_College) + \n",
      "    s_GRE.Combined.General.Verbal.Score:factor(s_College) + s_Average.Precol.GPA:factor(s_College) + \n",
      "    s_GRE.Combined.General.Write.Score:factor(s_College) + s_GRE.Combined.Quantitative.Score:factor(s_College) + \n",
      "    factor(funding_indicator):factor(s_College) + GPA_trend:factor(s_College) + \n",
      "    s_start_year:factor(s_College)\n",
      "\n",
      "                                                        Df Deviance    AIC\n",
      "- s_GRE.Combined.General.Write.Score:factor(s_College)   1   2946.2 2986.2\n",
      "- s_GRE.Combined.General.Verbal.Score:factor(s_College)  1   2946.3 2986.3\n",
      "- s_start_year:factor(s_College)                         1   2946.3 2986.3\n",
      "- s_Average.Precol.GPA:factor(s_College)                 1   2946.4 2986.4\n",
      "- s_GRE.Combined.Quantitative.Score:factor(s_College)    1   2946.7 2986.7\n",
      "- GPA_trend:factor(s_College)                            1   2947.2 2987.2\n",
      "<none>                                                       2946.2 2988.2\n",
      "- factor(funding_indicator):factor(s_College)            1   2949.6 2989.6\n",
      "+ factor(s_Citizenship):factor(s_College)                3   2944.8 2992.8\n",
      "- avs_net_cost:factor(s_College)                         1   2954.8 2994.8\n",
      "- factor(s_Citizenship)                                  3   2963.8 2999.8\n",
      "\n",
      "Step:  AIC=2986.24\n",
      "Y ~ factor(funding_indicator) + factor(s_Citizenship) + avs_net_cost + \n",
      "    s_Average.Precol.GPA + s_GRE.Combined.General.Verbal.Score + \n",
      "    s_GRE.Combined.General.Write.Score + s_GRE.Combined.Quantitative.Score + \n",
      "    GPA_trend + s_start_year + factor(s_College) + avs_net_cost:factor(s_College) + \n",
      "    s_GRE.Combined.General.Verbal.Score:factor(s_College) + s_Average.Precol.GPA:factor(s_College) + \n",
      "    s_GRE.Combined.Quantitative.Score:factor(s_College) + factor(funding_indicator):factor(s_College) + \n",
      "    GPA_trend:factor(s_College) + s_start_year:factor(s_College)\n",
      "\n",
      "                                                        Df Deviance    AIC\n",
      "- s_GRE.Combined.General.Verbal.Score:factor(s_College)  1   2946.3 2984.3\n",
      "- s_start_year:factor(s_College)                         1   2946.3 2984.3\n",
      "- s_Average.Precol.GPA:factor(s_College)                 1   2946.4 2984.4\n",
      "- s_GRE.Combined.General.Write.Score                     1   2946.8 2984.8\n",
      "- s_GRE.Combined.Quantitative.Score:factor(s_College)    1   2946.8 2984.8\n",
      "- GPA_trend:factor(s_College)                            1   2947.2 2985.2\n",
      "<none>                                                       2946.2 2986.2\n",
      "- factor(funding_indicator):factor(s_College)            1   2949.6 2987.6\n",
      "+ s_GRE.Combined.General.Write.Score:factor(s_College)   1   2946.2 2988.2\n",
      "+ factor(s_Citizenship):factor(s_College)                3   2944.8 2990.8\n",
      "- avs_net_cost:factor(s_College)                         1   2954.8 2992.8\n",
      "- factor(s_Citizenship)                                  3   2963.8 2997.8\n",
      "\n",
      "Step:  AIC=2984.27\n",
      "Y ~ factor(funding_indicator) + factor(s_Citizenship) + avs_net_cost + \n",
      "    s_Average.Precol.GPA + s_GRE.Combined.General.Verbal.Score + \n",
      "    s_GRE.Combined.General.Write.Score + s_GRE.Combined.Quantitative.Score + \n",
      "    GPA_trend + s_start_year + factor(s_College) + avs_net_cost:factor(s_College) + \n",
      "    s_Average.Precol.GPA:factor(s_College) + s_GRE.Combined.Quantitative.Score:factor(s_College) + \n",
      "    factor(funding_indicator):factor(s_College) + GPA_trend:factor(s_College) + \n",
      "    s_start_year:factor(s_College)\n",
      "\n",
      "                                                        Df Deviance    AIC\n",
      "- s_start_year:factor(s_College)                         1   2946.3 2982.3\n",
      "- s_Average.Precol.GPA:factor(s_College)                 1   2946.4 2982.4\n",
      "- s_GRE.Combined.Quantitative.Score:factor(s_College)    1   2946.9 2982.9\n",
      "- s_GRE.Combined.General.Write.Score                     1   2946.9 2982.9\n",
      "- s_GRE.Combined.General.Verbal.Score                    1   2947.0 2983.0\n",
      "- GPA_trend:factor(s_College)                            1   2947.2 2983.2\n",
      "<none>                                                       2946.3 2984.3\n",
      "- factor(funding_indicator):factor(s_College)            1   2949.7 2985.7\n",
      "+ s_GRE.Combined.General.Verbal.Score:factor(s_College)  1   2946.2 2986.2\n",
      "+ s_GRE.Combined.General.Write.Score:factor(s_College)   1   2946.3 2986.3\n",
      "+ factor(s_Citizenship):factor(s_College)                3   2944.9 2988.9\n",
      "- avs_net_cost:factor(s_College)                         1   2954.8 2990.8\n",
      "- factor(s_Citizenship)                                  3   2963.9 2995.9\n",
      "\n",
      "Step:  AIC=2982.33\n",
      "Y ~ factor(funding_indicator) + factor(s_Citizenship) + avs_net_cost + \n",
      "    s_Average.Precol.GPA + s_GRE.Combined.General.Verbal.Score + \n",
      "    s_GRE.Combined.General.Write.Score + s_GRE.Combined.Quantitative.Score + \n",
      "    GPA_trend + s_start_year + factor(s_College) + avs_net_cost:factor(s_College) + \n",
      "    s_Average.Precol.GPA:factor(s_College) + s_GRE.Combined.Quantitative.Score:factor(s_College) + \n",
      "    factor(funding_indicator):factor(s_College) + GPA_trend:factor(s_College)\n",
      "\n",
      "                                                        Df Deviance    AIC\n",
      "- s_Average.Precol.GPA:factor(s_College)                 1   2946.5 2980.5\n",
      "- s_GRE.Combined.Quantitative.Score:factor(s_College)    1   2946.9 2980.9\n",
      "- s_GRE.Combined.General.Write.Score                     1   2947.0 2981.0\n",
      "- s_GRE.Combined.General.Verbal.Score                    1   2947.1 2981.1\n",
      "- GPA_trend:factor(s_College)                            1   2947.2 2981.2\n",
      "<none>                                                       2946.3 2982.3\n",
      "+ s_start_year:factor(s_College)                         1   2946.3 2984.3\n",
      "+ s_GRE.Combined.General.Verbal.Score:factor(s_College)  1   2946.3 2984.3\n",
      "+ s_GRE.Combined.General.Write.Score:factor(s_College)   1   2946.3 2984.3\n",
      "- factor(funding_indicator):factor(s_College)            1   2950.6 2984.6\n",
      "+ factor(s_Citizenship):factor(s_College)                3   2945.0 2987.0\n",
      "- avs_net_cost:factor(s_College)                         1   2955.1 2989.0\n",
      "- factor(s_Citizenship)                                  3   2963.9 2993.9\n",
      "- s_start_year                                           1   3159.5 3193.5\n",
      "\n",
      "Step:  AIC=2980.49\n",
      "Y ~ factor(funding_indicator) + factor(s_Citizenship) + avs_net_cost + \n",
      "    s_Average.Precol.GPA + s_GRE.Combined.General.Verbal.Score + \n",
      "    s_GRE.Combined.General.Write.Score + s_GRE.Combined.Quantitative.Score + \n",
      "    GPA_trend + s_start_year + factor(s_College) + avs_net_cost:factor(s_College) + \n",
      "    s_GRE.Combined.Quantitative.Score:factor(s_College) + factor(funding_indicator):factor(s_College) + \n",
      "    GPA_trend:factor(s_College)\n",
      "\n"
     ]
    },
    {
     "name": "stdout",
     "output_type": "stream",
     "text": [
      "                                                        Df Deviance    AIC\n",
      "- s_GRE.Combined.Quantitative.Score:factor(s_College)    1   2947.1 2979.1\n",
      "- s_GRE.Combined.General.Write.Score                     1   2947.2 2979.2\n",
      "- s_GRE.Combined.General.Verbal.Score                    1   2947.3 2979.3\n",
      "- GPA_trend:factor(s_College)                            1   2947.4 2979.4\n",
      "<none>                                                       2946.5 2980.5\n",
      "+ s_Average.Precol.GPA:factor(s_College)                 1   2946.3 2982.3\n",
      "+ s_start_year:factor(s_College)                         1   2946.4 2982.4\n",
      "+ s_GRE.Combined.General.Verbal.Score:factor(s_College)  1   2946.5 2982.5\n",
      "+ s_GRE.Combined.General.Write.Score:factor(s_College)   1   2946.5 2982.5\n",
      "- factor(funding_indicator):factor(s_College)            1   2950.7 2982.7\n",
      "+ factor(s_Citizenship):factor(s_College)                3   2945.2 2985.2\n",
      "- avs_net_cost:factor(s_College)                         1   2955.2 2987.2\n",
      "- s_Average.Precol.GPA                                   1   2956.7 2988.7\n",
      "- factor(s_Citizenship)                                  3   2964.1 2992.1\n",
      "- s_start_year                                           1   3160.2 3192.2\n",
      "\n",
      "Step:  AIC=2979.1\n",
      "Y ~ factor(funding_indicator) + factor(s_Citizenship) + avs_net_cost + \n",
      "    s_Average.Precol.GPA + s_GRE.Combined.General.Verbal.Score + \n",
      "    s_GRE.Combined.General.Write.Score + s_GRE.Combined.Quantitative.Score + \n",
      "    GPA_trend + s_start_year + factor(s_College) + avs_net_cost:factor(s_College) + \n",
      "    factor(funding_indicator):factor(s_College) + GPA_trend:factor(s_College)\n",
      "\n",
      "                                                        Df Deviance    AIC\n",
      "- s_GRE.Combined.Quantitative.Score                      1   2947.1 2977.1\n",
      "- s_GRE.Combined.General.Verbal.Score                    1   2947.8 2977.8\n",
      "- s_GRE.Combined.General.Write.Score                     1   2947.9 2977.9\n",
      "- GPA_trend:factor(s_College)                            1   2948.0 2978.0\n",
      "<none>                                                       2947.1 2979.1\n",
      "+ s_GRE.Combined.Quantitative.Score:factor(s_College)    1   2946.5 2980.5\n",
      "+ s_Average.Precol.GPA:factor(s_College)                 1   2946.9 2980.9\n",
      "- factor(funding_indicator):factor(s_College)            1   2950.9 2980.9\n",
      "+ s_GRE.Combined.General.Verbal.Score:factor(s_College)  1   2947.1 2981.1\n",
      "+ s_start_year:factor(s_College)                         1   2947.1 2981.1\n",
      "+ s_GRE.Combined.General.Write.Score:factor(s_College)   1   2947.1 2981.1\n",
      "+ factor(s_Citizenship):factor(s_College)                3   2945.6 2983.5\n",
      "- avs_net_cost:factor(s_College)                         1   2956.2 2986.2\n",
      "- s_Average.Precol.GPA                                   1   2957.4 2987.4\n",
      "- factor(s_Citizenship)                                  3   2964.6 2990.6\n",
      "- s_start_year                                           1   3161.4 3191.4\n",
      "\n",
      "Step:  AIC=2977.14\n",
      "Y ~ factor(funding_indicator) + factor(s_Citizenship) + avs_net_cost + \n",
      "    s_Average.Precol.GPA + s_GRE.Combined.General.Verbal.Score + \n",
      "    s_GRE.Combined.General.Write.Score + GPA_trend + s_start_year + \n",
      "    factor(s_College) + avs_net_cost:factor(s_College) + factor(funding_indicator):factor(s_College) + \n",
      "    GPA_trend:factor(s_College)\n",
      "\n",
      "                                                        Df Deviance    AIC\n",
      "- GPA_trend:factor(s_College)                            1   2948.0 2976.0\n",
      "- s_GRE.Combined.General.Write.Score                     1   2948.2 2976.2\n",
      "- s_GRE.Combined.General.Verbal.Score                    1   2948.5 2976.5\n",
      "<none>                                                       2947.1 2977.1\n",
      "+ s_Average.Precol.GPA:factor(s_College)                 1   2947.0 2979.0\n",
      "- factor(funding_indicator):factor(s_College)            1   2951.0 2979.0\n",
      "+ s_GRE.Combined.General.Verbal.Score:factor(s_College)  1   2947.1 2979.1\n",
      "+ s_start_year:factor(s_College)                         1   2947.1 2979.1\n",
      "+ s_GRE.Combined.Quantitative.Score                      1   2947.1 2979.1\n",
      "+ s_GRE.Combined.General.Write.Score:factor(s_College)   1   2947.1 2979.1\n",
      "+ factor(s_Citizenship):factor(s_College)                3   2945.6 2981.6\n",
      "- avs_net_cost:factor(s_College)                         1   2956.2 2984.2\n",
      "- s_Average.Precol.GPA                                   1   2957.4 2985.4\n",
      "- factor(s_Citizenship)                                  3   2964.9 2988.9\n",
      "- s_start_year                                           1   3162.6 3190.6\n",
      "\n",
      "Step:  AIC=2976.04\n",
      "Y ~ factor(funding_indicator) + factor(s_Citizenship) + avs_net_cost + \n",
      "    s_Average.Precol.GPA + s_GRE.Combined.General.Verbal.Score + \n",
      "    s_GRE.Combined.General.Write.Score + GPA_trend + s_start_year + \n",
      "    factor(s_College) + avs_net_cost:factor(s_College) + factor(funding_indicator):factor(s_College)\n",
      "\n",
      "                                                        Df Deviance    AIC\n",
      "- s_GRE.Combined.General.Write.Score                     1   2949.1 2975.1\n",
      "- s_GRE.Combined.General.Verbal.Score                    1   2949.3 2975.3\n",
      "<none>                                                       2948.0 2976.0\n",
      "+ GPA_trend:factor(s_College)                            1   2947.1 2977.1\n",
      "+ s_Average.Precol.GPA:factor(s_College)                 1   2947.9 2977.9\n",
      "- factor(funding_indicator):factor(s_College)            1   2951.9 2977.9\n",
      "+ s_GRE.Combined.General.Verbal.Score:factor(s_College)  1   2948.0 2978.0\n",
      "+ s_start_year:factor(s_College)                         1   2948.0 2978.0\n",
      "+ s_GRE.Combined.Quantitative.Score                      1   2948.0 2978.0\n",
      "+ s_GRE.Combined.General.Write.Score:factor(s_College)   1   2948.0 2978.0\n",
      "+ factor(s_Citizenship):factor(s_College)                3   2946.5 2980.5\n",
      "- avs_net_cost:factor(s_College)                         1   2957.3 2983.3\n",
      "- s_Average.Precol.GPA                                   1   2958.7 2984.7\n",
      "- factor(s_Citizenship)                                  3   2965.7 2987.7\n",
      "- GPA_trend                                              1   2962.3 2988.3\n",
      "- s_start_year                                           1   3164.1 3190.1\n",
      "\n",
      "Step:  AIC=2975.08\n",
      "Y ~ factor(funding_indicator) + factor(s_Citizenship) + avs_net_cost + \n",
      "    s_Average.Precol.GPA + s_GRE.Combined.General.Verbal.Score + \n",
      "    GPA_trend + s_start_year + factor(s_College) + avs_net_cost:factor(s_College) + \n",
      "    factor(funding_indicator):factor(s_College)\n",
      "\n",
      "                                                        Df Deviance    AIC\n",
      "- s_GRE.Combined.General.Verbal.Score                    1   2951.0 2975.0\n",
      "<none>                                                       2949.1 2975.1\n",
      "+ s_GRE.Combined.General.Write.Score                     1   2948.0 2976.0\n",
      "+ GPA_trend:factor(s_College)                            1   2948.2 2976.2\n",
      "+ s_Average.Precol.GPA:factor(s_College)                 1   2948.8 2976.8\n",
      "+ s_GRE.Combined.Quantitative.Score                      1   2948.8 2976.8\n",
      "+ s_GRE.Combined.General.Verbal.Score:factor(s_College)  1   2948.9 2976.9\n",
      "+ s_start_year:factor(s_College)                         1   2949.0 2977.0\n",
      "- factor(funding_indicator):factor(s_College)            1   2953.3 2977.3\n",
      "+ factor(s_Citizenship):factor(s_College)                3   2947.4 2979.4\n",
      "- avs_net_cost:factor(s_College)                         1   2958.0 2982.0\n",
      "- s_Average.Precol.GPA                                   1   2959.1 2983.1\n",
      "- GPA_trend                                              1   2963.0 2987.0\n",
      "- factor(s_Citizenship)                                  3   2971.1 2991.1\n",
      "- s_start_year                                           1   3165.5 3189.5\n",
      "\n",
      "Step:  AIC=2974.98\n",
      "Y ~ factor(funding_indicator) + factor(s_Citizenship) + avs_net_cost + \n",
      "    s_Average.Precol.GPA + GPA_trend + s_start_year + factor(s_College) + \n",
      "    avs_net_cost:factor(s_College) + factor(funding_indicator):factor(s_College)\n",
      "\n",
      "                                              Df Deviance    AIC\n",
      "<none>                                             2951.0 2975.0\n",
      "+ s_GRE.Combined.General.Verbal.Score          1   2949.1 2975.1\n",
      "+ s_GRE.Combined.General.Write.Score           1   2949.3 2975.3\n",
      "+ GPA_trend:factor(s_College)                  1   2950.2 2976.2\n",
      "+ s_GRE.Combined.Quantitative.Score            1   2950.4 2976.4\n",
      "+ s_Average.Precol.GPA:factor(s_College)       1   2950.7 2976.7\n",
      "+ s_start_year:factor(s_College)               1   2950.8 2976.8\n",
      "- factor(funding_indicator):factor(s_College)  1   2955.4 2977.4\n",
      "+ factor(s_Citizenship):factor(s_College)      3   2949.4 2979.4\n",
      "- avs_net_cost:factor(s_College)               1   2959.8 2981.8\n",
      "- s_Average.Precol.GPA                         1   2960.4 2982.4\n",
      "- GPA_trend                                    1   2965.4 2987.4\n",
      "- factor(s_Citizenship)                        3   2974.5 2992.5\n",
      "- s_start_year                                 1   3168.0 3190.0\n"
     ]
    }
   ],
   "source": [
    "log_mod_total_aic= stepAIC(log_mod_total, direction = 'both')"
   ]
  },
  {
   "cell_type": "markdown",
   "metadata": {},
   "source": [
    "<b> Significant variables both AIC selects:"
   ]
  },
  {
   "cell_type": "code",
   "execution_count": 57,
   "metadata": {
    "scrolled": true
   },
   "outputs": [
    {
     "data": {
      "text/html": [
       "<table>\n",
       "<thead><tr><th></th><th scope=col>Estimate</th><th scope=col>Pr(&gt;|z|)</th></tr></thead>\n",
       "<tbody>\n",
       "\t<tr><th scope=row>factor(funding_indicator)1</th><td> 1.34395</td><td>0.00000 </td></tr>\n",
       "\t<tr><th scope=row>factor(s_Citizenship)Africa</th><td> 0.86196</td><td>0.00669 </td></tr>\n",
       "\t<tr><th scope=row>factor(s_Citizenship)Asia</th><td> 0.55140</td><td>0.00012 </td></tr>\n",
       "\t<tr><th scope=row>factor(s_Citizenship)China</th><td> 0.29809</td><td>0.03482 </td></tr>\n",
       "\t<tr><th scope=row>avs_net_cost</th><td> 0.35217</td><td>0.00235 </td></tr>\n",
       "\t<tr><th scope=row>s_Average.Precol.GPA</th><td> 0.13705</td><td>0.00288 </td></tr>\n",
       "\t<tr><th scope=row>GPA_trend</th><td> 0.98318</td><td>0.00026 </td></tr>\n",
       "\t<tr><th scope=row>s_start_year</th><td>-0.78727</td><td>0.00000 </td></tr>\n",
       "\t<tr><th scope=row>avs_net_cost:factor(s_College)GD Harpur</th><td>-0.34224</td><td>0.00677 </td></tr>\n",
       "\t<tr><th scope=row>factor(funding_indicator)1:factor(s_College)GD Harpur</th><td>-0.45044</td><td>0.03557 </td></tr>\n",
       "</tbody>\n",
       "</table>\n"
      ],
      "text/latex": [
       "\\begin{tabular}{r|ll}\n",
       "  & Estimate & Pr(>\\textbar{}z\\textbar{})\\\\\n",
       "\\hline\n",
       "\tfactor(funding\\_indicator)1 &  1.34395 & 0.00000 \\\\\n",
       "\tfactor(s\\_Citizenship)Africa &  0.86196 & 0.00669 \\\\\n",
       "\tfactor(s\\_Citizenship)Asia &  0.55140 & 0.00012 \\\\\n",
       "\tfactor(s\\_Citizenship)China &  0.29809 & 0.03482 \\\\\n",
       "\tavs\\_net\\_cost &  0.35217 & 0.00235 \\\\\n",
       "\ts\\_Average.Precol.GPA &  0.13705 & 0.00288 \\\\\n",
       "\tGPA\\_trend &  0.98318 & 0.00026 \\\\\n",
       "\ts\\_start\\_year & -0.78727 & 0.00000 \\\\\n",
       "\tavs\\_net\\_cost:factor(s\\_College)GD Harpur & -0.34224 & 0.00677 \\\\\n",
       "\tfactor(funding\\_indicator)1:factor(s\\_College)GD Harpur & -0.45044 & 0.03557 \\\\\n",
       "\\end{tabular}\n"
      ],
      "text/markdown": [
       "\n",
       "| <!--/--> | Estimate | Pr(>|z|) |\n",
       "|---|---|---|\n",
       "| factor(funding_indicator)1 |  1.34395 | 0.00000  |\n",
       "| factor(s_Citizenship)Africa |  0.86196 | 0.00669  |\n",
       "| factor(s_Citizenship)Asia |  0.55140 | 0.00012  |\n",
       "| factor(s_Citizenship)China |  0.29809 | 0.03482  |\n",
       "| avs_net_cost |  0.35217 | 0.00235  |\n",
       "| s_Average.Precol.GPA |  0.13705 | 0.00288  |\n",
       "| GPA_trend |  0.98318 | 0.00026  |\n",
       "| s_start_year | -0.78727 | 0.00000  |\n",
       "| avs_net_cost:factor(s_College)GD Harpur | -0.34224 | 0.00677  |\n",
       "| factor(funding_indicator)1:factor(s_College)GD Harpur | -0.45044 | 0.03557  |\n",
       "\n"
      ],
      "text/plain": [
       "                                                      Estimate Pr(>|z|)\n",
       "factor(funding_indicator)1                             1.34395 0.00000 \n",
       "factor(s_Citizenship)Africa                            0.86196 0.00669 \n",
       "factor(s_Citizenship)Asia                              0.55140 0.00012 \n",
       "factor(s_Citizenship)China                             0.29809 0.03482 \n",
       "avs_net_cost                                           0.35217 0.00235 \n",
       "s_Average.Precol.GPA                                   0.13705 0.00288 \n",
       "GPA_trend                                              0.98318 0.00026 \n",
       "s_start_year                                          -0.78727 0.00000 \n",
       "avs_net_cost:factor(s_College)GD Harpur               -0.34224 0.00677 \n",
       "factor(funding_indicator)1:factor(s_College)GD Harpur -0.45044 0.03557 "
      ]
     },
     "metadata": {},
     "output_type": "display_data"
    }
   ],
   "source": [
    "round(summary(log_mod_total_aic)$coeff[which(summary(log_mod_total_aic)$coef[,4] <= .05),c(1,4)],5)"
   ]
  },
  {
   "cell_type": "markdown",
   "metadata": {},
   "source": [
    "<b> Both BIC:"
   ]
  },
  {
   "cell_type": "code",
   "execution_count": 58,
   "metadata": {
    "scrolled": false
   },
   "outputs": [
    {
     "name": "stdout",
     "output_type": "stream",
     "text": [
      "Start:  AIC=3094.67\n",
      "Y ~ factor(funding_indicator) + factor(s_Citizenship) + avs_net_cost + \n",
      "    s_Average.Precol.GPA + s_GRE.Combined.General.Verbal.Score + \n",
      "    s_GRE.Combined.General.Write.Score + s_GRE.Combined.Quantitative.Score + \n",
      "    GPA_trend + s_start_year + factor(s_College) + avs_net_cost:factor(s_College) + \n",
      "    factor(s_College):factor(s_Citizenship) + factor(s_College):s_GRE.Combined.General.Verbal.Score + \n",
      "    factor(s_College):s_Average.Precol.GPA + factor(s_College):s_GRE.Combined.General.Write.Score + \n",
      "    s_GRE.Combined.Quantitative.Score:factor(s_College) + factor(s_College):factor(funding_indicator) + \n",
      "    factor(s_College):GPA_trend + s_start_year:factor(s_College)\n",
      "\n",
      "                                                        Df Deviance    AIC\n",
      "- factor(s_Citizenship):factor(s_College)                3   2946.2 3077.4\n",
      "- s_GRE.Combined.General.Write.Score:factor(s_College)   1   2944.8 3088.4\n",
      "- s_start_year:factor(s_College)                         1   2944.9 3088.5\n",
      "- s_GRE.Combined.General.Verbal.Score:factor(s_College)  1   2944.9 3088.5\n",
      "- s_Average.Precol.GPA:factor(s_College)                 1   2945.0 3088.6\n",
      "- s_GRE.Combined.Quantitative.Score:factor(s_College)    1   2945.1 3088.7\n",
      "- GPA_trend:factor(s_College)                            1   2945.7 3089.4\n",
      "- factor(funding_indicator):factor(s_College)            1   2948.1 3091.8\n",
      "<none>                                                       2944.8 3094.7\n",
      "- avs_net_cost:factor(s_College)                         1   2953.4 3097.1\n",
      "\n",
      "Step:  AIC=3077.36\n",
      "Y ~ factor(funding_indicator) + factor(s_Citizenship) + avs_net_cost + \n",
      "    s_Average.Precol.GPA + s_GRE.Combined.General.Verbal.Score + \n",
      "    s_GRE.Combined.General.Write.Score + s_GRE.Combined.Quantitative.Score + \n",
      "    GPA_trend + s_start_year + factor(s_College) + avs_net_cost:factor(s_College) + \n",
      "    s_GRE.Combined.General.Verbal.Score:factor(s_College) + s_Average.Precol.GPA:factor(s_College) + \n",
      "    s_GRE.Combined.General.Write.Score:factor(s_College) + s_GRE.Combined.Quantitative.Score:factor(s_College) + \n",
      "    factor(funding_indicator):factor(s_College) + GPA_trend:factor(s_College) + \n",
      "    s_start_year:factor(s_College)\n",
      "\n",
      "                                                        Df Deviance    AIC\n",
      "- s_GRE.Combined.General.Write.Score:factor(s_College)   1   2946.2 3071.1\n",
      "- s_GRE.Combined.General.Verbal.Score:factor(s_College)  1   2946.3 3071.2\n",
      "- s_start_year:factor(s_College)                         1   2946.3 3071.2\n",
      "- s_Average.Precol.GPA:factor(s_College)                 1   2946.4 3071.3\n",
      "- s_GRE.Combined.Quantitative.Score:factor(s_College)    1   2946.7 3071.6\n",
      "- GPA_trend:factor(s_College)                            1   2947.2 3072.1\n",
      "- factor(funding_indicator):factor(s_College)            1   2949.6 3074.4\n",
      "- factor(s_Citizenship)                                  3   2963.8 3076.2\n",
      "<none>                                                       2946.2 3077.4\n",
      "- avs_net_cost:factor(s_College)                         1   2954.8 3079.6\n",
      "+ factor(s_Citizenship):factor(s_College)                3   2944.8 3094.7\n",
      "\n",
      "Step:  AIC=3071.13\n",
      "Y ~ factor(funding_indicator) + factor(s_Citizenship) + avs_net_cost + \n",
      "    s_Average.Precol.GPA + s_GRE.Combined.General.Verbal.Score + \n",
      "    s_GRE.Combined.General.Write.Score + s_GRE.Combined.Quantitative.Score + \n",
      "    GPA_trend + s_start_year + factor(s_College) + avs_net_cost:factor(s_College) + \n",
      "    s_GRE.Combined.General.Verbal.Score:factor(s_College) + s_Average.Precol.GPA:factor(s_College) + \n",
      "    s_GRE.Combined.Quantitative.Score:factor(s_College) + factor(funding_indicator):factor(s_College) + \n",
      "    GPA_trend:factor(s_College) + s_start_year:factor(s_College)\n",
      "\n",
      "                                                        Df Deviance    AIC\n",
      "- s_GRE.Combined.General.Verbal.Score:factor(s_College)  1   2946.3 3064.9\n",
      "- s_start_year:factor(s_College)                         1   2946.3 3064.9\n",
      "- s_Average.Precol.GPA:factor(s_College)                 1   2946.4 3065.1\n",
      "- s_GRE.Combined.General.Write.Score                     1   2946.8 3065.4\n",
      "- s_GRE.Combined.Quantitative.Score:factor(s_College)    1   2946.8 3065.4\n",
      "- GPA_trend:factor(s_College)                            1   2947.2 3065.8\n",
      "- factor(funding_indicator):factor(s_College)            1   2949.6 3068.2\n",
      "- factor(s_Citizenship)                                  3   2963.8 3070.0\n",
      "<none>                                                       2946.2 3071.1\n",
      "- avs_net_cost:factor(s_College)                         1   2954.8 3073.4\n",
      "+ s_GRE.Combined.General.Write.Score:factor(s_College)   1   2946.2 3077.4\n",
      "+ factor(s_Citizenship):factor(s_College)                3   2944.8 3088.4\n",
      "\n",
      "Step:  AIC=3064.91\n",
      "Y ~ factor(funding_indicator) + factor(s_Citizenship) + avs_net_cost + \n",
      "    s_Average.Precol.GPA + s_GRE.Combined.General.Verbal.Score + \n",
      "    s_GRE.Combined.General.Write.Score + s_GRE.Combined.Quantitative.Score + \n",
      "    GPA_trend + s_start_year + factor(s_College) + avs_net_cost:factor(s_College) + \n",
      "    s_Average.Precol.GPA:factor(s_College) + s_GRE.Combined.Quantitative.Score:factor(s_College) + \n",
      "    factor(funding_indicator):factor(s_College) + GPA_trend:factor(s_College) + \n",
      "    s_start_year:factor(s_College)\n",
      "\n",
      "                                                        Df Deviance    AIC\n",
      "- s_start_year:factor(s_College)                         1   2946.3 3058.7\n",
      "- s_Average.Precol.GPA:factor(s_College)                 1   2946.4 3058.8\n",
      "- s_GRE.Combined.Quantitative.Score:factor(s_College)    1   2946.9 3059.3\n",
      "- s_GRE.Combined.General.Write.Score                     1   2946.9 3059.3\n",
      "- s_GRE.Combined.General.Verbal.Score                    1   2947.0 3059.4\n",
      "- GPA_trend:factor(s_College)                            1   2947.2 3059.6\n",
      "- factor(funding_indicator):factor(s_College)            1   2949.7 3062.1\n",
      "- factor(s_Citizenship)                                  3   2963.9 3063.8\n",
      "<none>                                                       2946.3 3064.9\n",
      "- avs_net_cost:factor(s_College)                         1   2954.8 3067.2\n",
      "+ s_GRE.Combined.General.Verbal.Score:factor(s_College)  1   2946.2 3071.1\n",
      "+ s_GRE.Combined.General.Write.Score:factor(s_College)   1   2946.3 3071.2\n",
      "+ factor(s_Citizenship):factor(s_College)                3   2944.9 3082.3\n",
      "\n",
      "Step:  AIC=3058.73\n",
      "Y ~ factor(funding_indicator) + factor(s_Citizenship) + avs_net_cost + \n",
      "    s_Average.Precol.GPA + s_GRE.Combined.General.Verbal.Score + \n",
      "    s_GRE.Combined.General.Write.Score + s_GRE.Combined.Quantitative.Score + \n",
      "    GPA_trend + s_start_year + factor(s_College) + avs_net_cost:factor(s_College) + \n",
      "    s_Average.Precol.GPA:factor(s_College) + s_GRE.Combined.Quantitative.Score:factor(s_College) + \n",
      "    factor(funding_indicator):factor(s_College) + GPA_trend:factor(s_College)\n",
      "\n",
      "                                                        Df Deviance    AIC\n",
      "- s_Average.Precol.GPA:factor(s_College)                 1   2946.5 3052.6\n",
      "- s_GRE.Combined.Quantitative.Score:factor(s_College)    1   2946.9 3053.1\n",
      "- s_GRE.Combined.General.Write.Score                     1   2947.0 3053.1\n",
      "- s_GRE.Combined.General.Verbal.Score                    1   2947.1 3053.3\n",
      "- GPA_trend:factor(s_College)                            1   2947.2 3053.4\n",
      "- factor(funding_indicator):factor(s_College)            1   2950.6 3056.7\n",
      "- factor(s_Citizenship)                                  3   2963.9 3057.6\n",
      "<none>                                                       2946.3 3058.7\n",
      "- avs_net_cost:factor(s_College)                         1   2955.1 3061.2\n",
      "+ s_start_year:factor(s_College)                         1   2946.3 3064.9\n",
      "+ s_GRE.Combined.General.Verbal.Score:factor(s_College)  1   2946.3 3064.9\n",
      "+ s_GRE.Combined.General.Write.Score:factor(s_College)   1   2946.3 3065.0\n",
      "+ factor(s_Citizenship):factor(s_College)                3   2945.0 3076.2\n",
      "- s_start_year                                           1   3159.5 3265.6\n",
      "\n",
      "Step:  AIC=3052.64\n",
      "Y ~ factor(funding_indicator) + factor(s_Citizenship) + avs_net_cost + \n",
      "    s_Average.Precol.GPA + s_GRE.Combined.General.Verbal.Score + \n",
      "    s_GRE.Combined.General.Write.Score + s_GRE.Combined.Quantitative.Score + \n",
      "    GPA_trend + s_start_year + factor(s_College) + avs_net_cost:factor(s_College) + \n",
      "    s_GRE.Combined.Quantitative.Score:factor(s_College) + factor(funding_indicator):factor(s_College) + \n",
      "    GPA_trend:factor(s_College)\n",
      "\n"
     ]
    },
    {
     "name": "stdout",
     "output_type": "stream",
     "text": [
      "                                                        Df Deviance    AIC\n",
      "- s_GRE.Combined.Quantitative.Score:factor(s_College)    1   2947.1 3047.0\n",
      "- s_GRE.Combined.General.Write.Score                     1   2947.2 3047.1\n",
      "- s_GRE.Combined.General.Verbal.Score                    1   2947.3 3047.2\n",
      "- GPA_trend:factor(s_College)                            1   2947.4 3047.3\n",
      "- factor(funding_indicator):factor(s_College)            1   2950.7 3050.6\n",
      "- factor(s_Citizenship)                                  3   2964.1 3051.5\n",
      "<none>                                                       2946.5 3052.6\n",
      "- avs_net_cost:factor(s_College)                         1   2955.2 3055.1\n",
      "- s_Average.Precol.GPA                                   1   2956.7 3056.6\n",
      "+ s_Average.Precol.GPA:factor(s_College)                 1   2946.3 3058.7\n",
      "+ s_start_year:factor(s_College)                         1   2946.4 3058.8\n",
      "+ s_GRE.Combined.General.Verbal.Score:factor(s_College)  1   2946.5 3058.9\n",
      "+ s_GRE.Combined.General.Write.Score:factor(s_College)   1   2946.5 3058.9\n",
      "+ factor(s_Citizenship):factor(s_College)                3   2945.2 3070.1\n",
      "- s_start_year                                           1   3160.2 3260.1\n",
      "\n",
      "Step:  AIC=3047.01\n",
      "Y ~ factor(funding_indicator) + factor(s_Citizenship) + avs_net_cost + \n",
      "    s_Average.Precol.GPA + s_GRE.Combined.General.Verbal.Score + \n",
      "    s_GRE.Combined.General.Write.Score + s_GRE.Combined.Quantitative.Score + \n",
      "    GPA_trend + s_start_year + factor(s_College) + avs_net_cost:factor(s_College) + \n",
      "    factor(funding_indicator):factor(s_College) + GPA_trend:factor(s_College)\n",
      "\n",
      "                                                        Df Deviance    AIC\n",
      "- s_GRE.Combined.Quantitative.Score                      1   2947.1 3040.8\n",
      "- s_GRE.Combined.General.Verbal.Score                    1   2947.8 3041.4\n",
      "- s_GRE.Combined.General.Write.Score                     1   2947.9 3041.6\n",
      "- GPA_trend:factor(s_College)                            1   2948.0 3041.7\n",
      "- factor(funding_indicator):factor(s_College)            1   2950.9 3044.6\n",
      "- factor(s_Citizenship)                                  3   2964.6 3045.7\n",
      "<none>                                                       2947.1 3047.0\n",
      "- avs_net_cost:factor(s_College)                         1   2956.2 3049.9\n",
      "- s_Average.Precol.GPA                                   1   2957.4 3051.1\n",
      "+ s_GRE.Combined.Quantitative.Score:factor(s_College)    1   2946.5 3052.6\n",
      "+ s_Average.Precol.GPA:factor(s_College)                 1   2946.9 3053.1\n",
      "+ s_GRE.Combined.General.Verbal.Score:factor(s_College)  1   2947.1 3053.2\n",
      "+ s_start_year:factor(s_College)                         1   2947.1 3053.2\n",
      "+ s_GRE.Combined.General.Write.Score:factor(s_College)   1   2947.1 3053.2\n",
      "+ factor(s_Citizenship):factor(s_College)                3   2945.6 3064.2\n",
      "- s_start_year                                           1   3161.4 3255.1\n",
      "\n",
      "Step:  AIC=3040.8\n",
      "Y ~ factor(funding_indicator) + factor(s_Citizenship) + avs_net_cost + \n",
      "    s_Average.Precol.GPA + s_GRE.Combined.General.Verbal.Score + \n",
      "    s_GRE.Combined.General.Write.Score + GPA_trend + s_start_year + \n",
      "    factor(s_College) + avs_net_cost:factor(s_College) + factor(funding_indicator):factor(s_College) + \n",
      "    GPA_trend:factor(s_College)\n",
      "\n",
      "                                                        Df Deviance    AIC\n",
      "- GPA_trend:factor(s_College)                            1   2948.0 3035.5\n",
      "- s_GRE.Combined.General.Write.Score                     1   2948.2 3035.6\n",
      "- s_GRE.Combined.General.Verbal.Score                    1   2948.5 3035.9\n",
      "- factor(funding_indicator):factor(s_College)            1   2951.0 3038.4\n",
      "- factor(s_Citizenship)                                  3   2964.9 3039.8\n",
      "<none>                                                       2947.1 3040.8\n",
      "- avs_net_cost:factor(s_College)                         1   2956.2 3043.7\n",
      "- s_Average.Precol.GPA                                   1   2957.4 3044.9\n",
      "+ s_Average.Precol.GPA:factor(s_College)                 1   2947.0 3046.9\n",
      "+ s_GRE.Combined.General.Verbal.Score:factor(s_College)  1   2947.1 3047.0\n",
      "+ s_start_year:factor(s_College)                         1   2947.1 3047.0\n",
      "+ s_GRE.Combined.Quantitative.Score                      1   2947.1 3047.0\n",
      "+ s_GRE.Combined.General.Write.Score:factor(s_College)   1   2947.1 3047.0\n",
      "+ factor(s_Citizenship):factor(s_College)                3   2945.6 3058.0\n",
      "- s_start_year                                           1   3162.6 3250.0\n",
      "\n",
      "Step:  AIC=3035.46\n",
      "Y ~ factor(funding_indicator) + factor(s_Citizenship) + avs_net_cost + \n",
      "    s_Average.Precol.GPA + s_GRE.Combined.General.Verbal.Score + \n",
      "    s_GRE.Combined.General.Write.Score + GPA_trend + s_start_year + \n",
      "    factor(s_College) + avs_net_cost:factor(s_College) + factor(funding_indicator):factor(s_College)\n",
      "\n",
      "                                                        Df Deviance    AIC\n",
      "- s_GRE.Combined.General.Write.Score                     1   2949.1 3030.3\n",
      "- s_GRE.Combined.General.Verbal.Score                    1   2949.3 3030.4\n",
      "- factor(funding_indicator):factor(s_College)            1   2951.9 3033.1\n",
      "- factor(s_Citizenship)                                  3   2965.7 3034.4\n",
      "<none>                                                       2948.0 3035.5\n",
      "- avs_net_cost:factor(s_College)                         1   2957.3 3038.5\n",
      "- s_Average.Precol.GPA                                   1   2958.7 3039.9\n",
      "+ GPA_trend:factor(s_College)                            1   2947.1 3040.8\n",
      "+ s_Average.Precol.GPA:factor(s_College)                 1   2947.9 3041.5\n",
      "+ s_GRE.Combined.General.Verbal.Score:factor(s_College)  1   2948.0 3041.7\n",
      "+ s_start_year:factor(s_College)                         1   2948.0 3041.7\n",
      "+ s_GRE.Combined.Quantitative.Score                      1   2948.0 3041.7\n",
      "+ s_GRE.Combined.General.Write.Score:factor(s_College)   1   2948.0 3041.7\n",
      "- GPA_trend                                              1   2962.3 3043.4\n",
      "+ factor(s_Citizenship):factor(s_College)                3   2946.5 3052.6\n",
      "- s_start_year                                           1   3164.1 3245.3\n",
      "\n",
      "Step:  AIC=3030.26\n",
      "Y ~ factor(funding_indicator) + factor(s_Citizenship) + avs_net_cost + \n",
      "    s_Average.Precol.GPA + s_GRE.Combined.General.Verbal.Score + \n",
      "    GPA_trend + s_start_year + factor(s_College) + avs_net_cost:factor(s_College) + \n",
      "    factor(funding_indicator):factor(s_College)\n",
      "\n",
      "                                                        Df Deviance    AIC\n",
      "- s_GRE.Combined.General.Verbal.Score                    1   2951.0 3025.9\n",
      "- factor(funding_indicator):factor(s_College)            1   2953.3 3028.2\n",
      "<none>                                                       2949.1 3030.3\n",
      "- avs_net_cost:factor(s_College)                         1   2958.0 3033.0\n",
      "- factor(s_Citizenship)                                  3   2971.1 3033.5\n",
      "- s_Average.Precol.GPA                                   1   2959.1 3034.0\n",
      "+ s_GRE.Combined.General.Write.Score                     1   2948.0 3035.5\n",
      "+ GPA_trend:factor(s_College)                            1   2948.2 3035.6\n",
      "+ s_Average.Precol.GPA:factor(s_College)                 1   2948.8 3036.2\n",
      "+ s_GRE.Combined.Quantitative.Score                      1   2948.8 3036.3\n",
      "+ s_GRE.Combined.General.Verbal.Score:factor(s_College)  1   2948.9 3036.3\n",
      "+ s_start_year:factor(s_College)                         1   2949.0 3036.4\n",
      "- GPA_trend                                              1   2963.0 3037.9\n",
      "+ factor(s_Citizenship):factor(s_College)                3   2947.4 3047.3\n",
      "- s_start_year                                           1   3165.5 3240.5\n",
      "\n",
      "Step:  AIC=3025.91\n",
      "Y ~ factor(funding_indicator) + factor(s_Citizenship) + avs_net_cost + \n",
      "    s_Average.Precol.GPA + GPA_trend + s_start_year + factor(s_College) + \n",
      "    avs_net_cost:factor(s_College) + factor(funding_indicator):factor(s_College)\n",
      "\n",
      "                                              Df Deviance    AIC\n",
      "- factor(funding_indicator):factor(s_College)  1   2955.4 3024.1\n",
      "<none>                                             2951.0 3025.9\n",
      "- avs_net_cost:factor(s_College)               1   2959.8 3028.5\n",
      "- s_Average.Precol.GPA                         1   2960.4 3029.1\n",
      "+ s_GRE.Combined.General.Verbal.Score          1   2949.1 3030.3\n",
      "+ s_GRE.Combined.General.Write.Score           1   2949.3 3030.4\n",
      "- factor(s_Citizenship)                        3   2974.5 3030.7\n",
      "+ GPA_trend:factor(s_College)                  1   2950.2 3031.4\n",
      "+ s_GRE.Combined.Quantitative.Score            1   2950.4 3031.5\n",
      "+ s_Average.Precol.GPA:factor(s_College)       1   2950.7 3031.8\n",
      "+ s_start_year:factor(s_College)               1   2950.8 3032.0\n",
      "- GPA_trend                                    1   2965.4 3034.1\n",
      "+ factor(s_Citizenship):factor(s_College)      3   2949.4 3043.0\n",
      "- s_start_year                                 1   3168.0 3236.7\n"
     ]
    },
    {
     "name": "stdout",
     "output_type": "stream",
     "text": [
      "\n",
      "Step:  AIC=3024.07\n",
      "Y ~ factor(funding_indicator) + factor(s_Citizenship) + avs_net_cost + \n",
      "    s_Average.Precol.GPA + GPA_trend + s_start_year + factor(s_College) + \n",
      "    avs_net_cost:factor(s_College)\n",
      "\n",
      "                                              Df Deviance    AIC\n",
      "<none>                                             2955.4 3024.1\n",
      "- avs_net_cost:factor(s_College)               1   2962.7 3025.1\n",
      "+ factor(funding_indicator):factor(s_College)  1   2951.0 3025.9\n",
      "- s_Average.Precol.GPA                         1   2964.0 3026.5\n",
      "+ s_GRE.Combined.General.Write.Score           1   2953.2 3028.1\n",
      "+ s_GRE.Combined.General.Verbal.Score          1   2953.3 3028.2\n",
      "+ s_start_year:factor(s_College)               1   2954.2 3029.1\n",
      "+ GPA_trend:factor(s_College)                  1   2954.6 3029.5\n",
      "+ s_GRE.Combined.Quantitative.Score            1   2954.8 3029.8\n",
      "+ s_Average.Precol.GPA:factor(s_College)       1   2955.2 3030.1\n",
      "- GPA_trend                                    1   2970.3 3032.7\n",
      "- factor(s_Citizenship)                        3   2983.4 3033.3\n",
      "+ factor(s_Citizenship):factor(s_College)      3   2954.1 3041.6\n",
      "- factor(funding_indicator)                    1   3051.6 3114.0\n",
      "- s_start_year                                 1   3192.9 3255.3\n"
     ]
    }
   ],
   "source": [
    "log_mod_total_bic = stepAIC(log_mod_total, direction = \"both\", k = log(e_n))"
   ]
  },
  {
   "cell_type": "markdown",
   "metadata": {},
   "source": [
    "<b>Significant variables both BIC selects:"
   ]
  },
  {
   "cell_type": "code",
   "execution_count": 59,
   "metadata": {
    "scrolled": false
   },
   "outputs": [
    {
     "data": {
      "text/html": [
       "<table>\n",
       "<thead><tr><th></th><th scope=col>Estimate</th><th scope=col>Pr(&gt;|z|)</th></tr></thead>\n",
       "<tbody>\n",
       "\t<tr><th scope=row>factor(funding_indicator)1</th><td> 1.06997</td><td>0.00000 </td></tr>\n",
       "\t<tr><th scope=row>factor(s_Citizenship)Africa</th><td> 0.88357</td><td>0.00546 </td></tr>\n",
       "\t<tr><th scope=row>factor(s_Citizenship)Asia</th><td> 0.59964</td><td>0.00002 </td></tr>\n",
       "\t<tr><th scope=row>factor(s_Citizenship)China</th><td> 0.33587</td><td>0.01636 </td></tr>\n",
       "\t<tr><th scope=row>avs_net_cost</th><td> 0.32281</td><td>0.00394 </td></tr>\n",
       "\t<tr><th scope=row>s_Average.Precol.GPA</th><td> 0.13076</td><td>0.00429 </td></tr>\n",
       "\t<tr><th scope=row>GPA_trend</th><td> 0.99930</td><td>0.00021 </td></tr>\n",
       "\t<tr><th scope=row>s_start_year</th><td>-0.80919</td><td>0.00000 </td></tr>\n",
       "\t<tr><th scope=row>factor(s_College)GD Harpur</th><td>-0.60862</td><td>0.00000 </td></tr>\n",
       "\t<tr><th scope=row>avs_net_cost:factor(s_College)GD Harpur</th><td>-0.30465</td><td>0.01291 </td></tr>\n",
       "</tbody>\n",
       "</table>\n"
      ],
      "text/latex": [
       "\\begin{tabular}{r|ll}\n",
       "  & Estimate & Pr(>\\textbar{}z\\textbar{})\\\\\n",
       "\\hline\n",
       "\tfactor(funding\\_indicator)1 &  1.06997 & 0.00000 \\\\\n",
       "\tfactor(s\\_Citizenship)Africa &  0.88357 & 0.00546 \\\\\n",
       "\tfactor(s\\_Citizenship)Asia &  0.59964 & 0.00002 \\\\\n",
       "\tfactor(s\\_Citizenship)China &  0.33587 & 0.01636 \\\\\n",
       "\tavs\\_net\\_cost &  0.32281 & 0.00394 \\\\\n",
       "\ts\\_Average.Precol.GPA &  0.13076 & 0.00429 \\\\\n",
       "\tGPA\\_trend &  0.99930 & 0.00021 \\\\\n",
       "\ts\\_start\\_year & -0.80919 & 0.00000 \\\\\n",
       "\tfactor(s\\_College)GD Harpur & -0.60862 & 0.00000 \\\\\n",
       "\tavs\\_net\\_cost:factor(s\\_College)GD Harpur & -0.30465 & 0.01291 \\\\\n",
       "\\end{tabular}\n"
      ],
      "text/markdown": [
       "\n",
       "| <!--/--> | Estimate | Pr(>|z|) |\n",
       "|---|---|---|\n",
       "| factor(funding_indicator)1 |  1.06997 | 0.00000  |\n",
       "| factor(s_Citizenship)Africa |  0.88357 | 0.00546  |\n",
       "| factor(s_Citizenship)Asia |  0.59964 | 0.00002  |\n",
       "| factor(s_Citizenship)China |  0.33587 | 0.01636  |\n",
       "| avs_net_cost |  0.32281 | 0.00394  |\n",
       "| s_Average.Precol.GPA |  0.13076 | 0.00429  |\n",
       "| GPA_trend |  0.99930 | 0.00021  |\n",
       "| s_start_year | -0.80919 | 0.00000  |\n",
       "| factor(s_College)GD Harpur | -0.60862 | 0.00000  |\n",
       "| avs_net_cost:factor(s_College)GD Harpur | -0.30465 | 0.01291  |\n",
       "\n"
      ],
      "text/plain": [
       "                                        Estimate Pr(>|z|)\n",
       "factor(funding_indicator)1               1.06997 0.00000 \n",
       "factor(s_Citizenship)Africa              0.88357 0.00546 \n",
       "factor(s_Citizenship)Asia                0.59964 0.00002 \n",
       "factor(s_Citizenship)China               0.33587 0.01636 \n",
       "avs_net_cost                             0.32281 0.00394 \n",
       "s_Average.Precol.GPA                     0.13076 0.00429 \n",
       "GPA_trend                                0.99930 0.00021 \n",
       "s_start_year                            -0.80919 0.00000 \n",
       "factor(s_College)GD Harpur              -0.60862 0.00000 \n",
       "avs_net_cost:factor(s_College)GD Harpur -0.30465 0.01291 "
      ]
     },
     "metadata": {},
     "output_type": "display_data"
    }
   ],
   "source": [
    "round(summary(log_mod_total_bic)$coeff[which(summary(log_mod_total_bic)$coef[,4] <= .05),c(1,4)],5)"
   ]
  },
  {
   "cell_type": "markdown",
   "metadata": {},
   "source": [
    "<b>After analysis the interaction term:"
   ]
  },
  {
   "cell_type": "markdown",
   "metadata": {},
   "source": [
    "<b> Logistic regression model:"
   ]
  },
  {
   "cell_type": "code",
   "execution_count": 60,
   "metadata": {},
   "outputs": [],
   "source": [
    "df <- within(df, s_College <- relevel(s_College, ref = \"GD Harpur\"))"
   ]
  },
  {
   "cell_type": "code",
   "execution_count": 61,
   "metadata": {
    "scrolled": false
   },
   "outputs": [
    {
     "data": {
      "text/plain": [
       "\n",
       "Call:\n",
       "glm(formula = Y ~ factor(funding_indicator) + factor(s_Citizenship) + \n",
       "    avs_net_cost + s_Average.Precol.GPA + s_GRE.Combined.General.Verbal.Score + \n",
       "    GPA_trend + s_start_year + factor(s_College) + avs_net_cost:factor(s_College) + \n",
       "    factor(s_College):factor(s_Citizenship) + factor(s_College):s_GRE.Combined.General.Verbal.Score + \n",
       "    factor(s_College):s_Average.Precol.GPA + factor(s_College):factor(funding_indicator) + \n",
       "    factor(s_College):GPA_trend + s_start_year:factor(s_College), \n",
       "    family = \"binomial\", data = df)\n",
       "\n",
       "Deviance Residuals: \n",
       "    Min       1Q   Median       3Q      Max  \n",
       "-2.6798  -1.0928   0.6792   0.9234   1.8932  \n",
       "\n",
       "Coefficients:\n",
       "                                                                    Estimate\n",
       "(Intercept)                                                        -0.448459\n",
       "factor(funding_indicator)1                                          0.917327\n",
       "factor(s_Citizenship)Africa                                         0.745460\n",
       "factor(s_Citizenship)Asia                                           0.625858\n",
       "factor(s_Citizenship)China                                          0.354882\n",
       "avs_net_cost                                                        0.009849\n",
       "s_Average.Precol.GPA                                                0.123172\n",
       "s_GRE.Combined.General.Verbal.Score                                -0.067471\n",
       "GPA_trend                                                           0.797624\n",
       "s_start_year                                                       -0.805259\n",
       "factor(s_College)GD Non-Harpur                                      0.325957\n",
       "avs_net_cost:factor(s_College)GD Non-Harpur                         0.343272\n",
       "factor(s_Citizenship)Africa:factor(s_College)GD Non-Harpur          0.928931\n",
       "factor(s_Citizenship)Asia:factor(s_College)GD Non-Harpur           -0.265840\n",
       "factor(s_Citizenship)China:factor(s_College)GD Non-Harpur          -0.156978\n",
       "s_GRE.Combined.General.Verbal.Score:factor(s_College)GD Non-Harpur -0.162366\n",
       "s_Average.Precol.GPA:factor(s_College)GD Non-Harpur                 0.049583\n",
       "factor(funding_indicator)1:factor(s_College)GD Non-Harpur           0.424847\n",
       "GPA_trend:factor(s_College)GD Non-Harpur                            0.568254\n",
       "s_start_year:factor(s_College)GD Non-Harpur                         0.041729\n",
       "                                                                   Std. Error\n",
       "(Intercept)                                                          0.127746\n",
       "factor(funding_indicator)1                                           0.146693\n",
       "factor(s_Citizenship)Africa                                          0.335943\n",
       "factor(s_Citizenship)Asia                                            0.191418\n",
       "factor(s_Citizenship)China                                           0.193994\n",
       "avs_net_cost                                                         0.050846\n",
       "s_Average.Precol.GPA                                                 0.057372\n",
       "s_GRE.Combined.General.Verbal.Score                                  0.064431\n",
       "GPA_trend                                                            0.319740\n",
       "s_start_year                                                         0.071702\n",
       "factor(s_College)GD Non-Harpur                                       0.186707\n",
       "avs_net_cost:factor(s_College)GD Non-Harpur                          0.126672\n",
       "factor(s_Citizenship)Africa:factor(s_College)GD Non-Harpur           1.140124\n",
       "factor(s_Citizenship)Asia:factor(s_College)GD Non-Harpur             0.298656\n",
       "factor(s_Citizenship)China:factor(s_College)GD Non-Harpur            0.285907\n",
       "s_GRE.Combined.General.Verbal.Score:factor(s_College)GD Non-Harpur   0.233317\n",
       "s_Average.Precol.GPA:factor(s_College)GD Non-Harpur                  0.098116\n",
       "factor(funding_indicator)1:factor(s_College)GD Non-Harpur            0.235101\n",
       "GPA_trend:factor(s_College)GD Non-Harpur                             0.588621\n",
       "s_start_year:factor(s_College)GD Non-Harpur                          0.125338\n",
       "                                                                   z value\n",
       "(Intercept)                                                         -3.511\n",
       "factor(funding_indicator)1                                           6.253\n",
       "factor(s_Citizenship)Africa                                          2.219\n",
       "factor(s_Citizenship)Asia                                            3.270\n",
       "factor(s_Citizenship)China                                           1.829\n",
       "avs_net_cost                                                         0.194\n",
       "s_Average.Precol.GPA                                                 2.147\n",
       "s_GRE.Combined.General.Verbal.Score                                 -1.047\n",
       "GPA_trend                                                            2.495\n",
       "s_start_year                                                       -11.231\n",
       "factor(s_College)GD Non-Harpur                                       1.746\n",
       "avs_net_cost:factor(s_College)GD Non-Harpur                          2.710\n",
       "factor(s_Citizenship)Africa:factor(s_College)GD Non-Harpur           0.815\n",
       "factor(s_Citizenship)Asia:factor(s_College)GD Non-Harpur            -0.890\n",
       "factor(s_Citizenship)China:factor(s_College)GD Non-Harpur           -0.549\n",
       "s_GRE.Combined.General.Verbal.Score:factor(s_College)GD Non-Harpur  -0.696\n",
       "s_Average.Precol.GPA:factor(s_College)GD Non-Harpur                  0.505\n",
       "factor(funding_indicator)1:factor(s_College)GD Non-Harpur            1.807\n",
       "GPA_trend:factor(s_College)GD Non-Harpur                             0.965\n",
       "s_start_year:factor(s_College)GD Non-Harpur                          0.333\n",
       "                                                                   Pr(>|z|)    \n",
       "(Intercept)                                                        0.000447 ***\n",
       "factor(funding_indicator)1                                         4.02e-10 ***\n",
       "factor(s_Citizenship)Africa                                        0.026486 *  \n",
       "factor(s_Citizenship)Asia                                          0.001077 ** \n",
       "factor(s_Citizenship)China                                         0.067349 .  \n",
       "avs_net_cost                                                       0.846408    \n",
       "s_Average.Precol.GPA                                               0.031801 *  \n",
       "s_GRE.Combined.General.Verbal.Score                                0.295014    \n",
       "GPA_trend                                                          0.012610 *  \n",
       "s_start_year                                                        < 2e-16 ***\n",
       "factor(s_College)GD Non-Harpur                                     0.080843 .  \n",
       "avs_net_cost:factor(s_College)GD Non-Harpur                        0.006730 ** \n",
       "factor(s_Citizenship)Africa:factor(s_College)GD Non-Harpur         0.415208    \n",
       "factor(s_Citizenship)Asia:factor(s_College)GD Non-Harpur           0.373401    \n",
       "factor(s_Citizenship)China:factor(s_College)GD Non-Harpur          0.582970    \n",
       "s_GRE.Combined.General.Verbal.Score:factor(s_College)GD Non-Harpur 0.486490    \n",
       "s_Average.Precol.GPA:factor(s_College)GD Non-Harpur                0.613317    \n",
       "factor(funding_indicator)1:factor(s_College)GD Non-Harpur          0.070749 .  \n",
       "GPA_trend:factor(s_College)GD Non-Harpur                           0.334345    \n",
       "s_start_year:factor(s_College)GD Non-Harpur                        0.739184    \n",
       "---\n",
       "Signif. codes:  0 '***' 0.001 '**' 0.01 '*' 0.05 '.' 0.1 ' ' 1\n",
       "\n",
       "(Dispersion parameter for binomial family taken to be 1)\n",
       "\n",
       "    Null deviance: 3281.8  on 2469  degrees of freedom\n",
       "Residual deviance: 2945.6  on 2450  degrees of freedom\n",
       "AIC: 2985.6\n",
       "\n",
       "Number of Fisher Scoring iterations: 4\n"
      ]
     },
     "metadata": {},
     "output_type": "display_data"
    }
   ],
   "source": [
    "log_mod_total = glm(Y~factor(funding_indicator)+factor(s_Citizenship)+\n",
    "                avs_net_cost+s_Average.Precol.GPA+s_GRE.Combined.General.Verbal.Score+GPA_trend+s_start_year+factor(s_College)+avs_net_cost:factor(s_College)+\n",
    "                factor(s_College):factor(s_Citizenship)+factor(s_College):s_GRE.Combined.General.Verbal.Score+factor(s_College):s_Average.Precol.GPA+\n",
    "                factor(s_College):factor(funding_indicator)+factor(s_College):GPA_trend+s_start_year:factor(s_College),\n",
    "                data=df,family=\"binomial\")\n",
    "summary(log_mod_total)"
   ]
  },
  {
   "cell_type": "markdown",
   "metadata": {},
   "source": [
    "<b> Significant Variables of logistic regression model:"
   ]
  },
  {
   "cell_type": "code",
   "execution_count": 62,
   "metadata": {
    "scrolled": true
   },
   "outputs": [
    {
     "data": {
      "text/html": [
       "<table>\n",
       "<thead><tr><th></th><th scope=col>Estimate</th><th scope=col>Pr(&gt;|z|)</th></tr></thead>\n",
       "<tbody>\n",
       "\t<tr><th scope=row>(Intercept)</th><td>-0.44846</td><td>0.00045 </td></tr>\n",
       "\t<tr><th scope=row>factor(funding_indicator)1</th><td> 0.91733</td><td>0.00000 </td></tr>\n",
       "\t<tr><th scope=row>factor(s_Citizenship)Africa</th><td> 0.74546</td><td>0.02649 </td></tr>\n",
       "\t<tr><th scope=row>factor(s_Citizenship)Asia</th><td> 0.62586</td><td>0.00108 </td></tr>\n",
       "\t<tr><th scope=row>s_Average.Precol.GPA</th><td> 0.12317</td><td>0.03180 </td></tr>\n",
       "\t<tr><th scope=row>GPA_trend</th><td> 0.79762</td><td>0.01261 </td></tr>\n",
       "\t<tr><th scope=row>s_start_year</th><td>-0.80526</td><td>0.00000 </td></tr>\n",
       "\t<tr><th scope=row>avs_net_cost:factor(s_College)GD Non-Harpur</th><td> 0.34327</td><td>0.00673 </td></tr>\n",
       "</tbody>\n",
       "</table>\n"
      ],
      "text/latex": [
       "\\begin{tabular}{r|ll}\n",
       "  & Estimate & Pr(>\\textbar{}z\\textbar{})\\\\\n",
       "\\hline\n",
       "\t(Intercept) & -0.44846 & 0.00045 \\\\\n",
       "\tfactor(funding\\_indicator)1 &  0.91733 & 0.00000 \\\\\n",
       "\tfactor(s\\_Citizenship)Africa &  0.74546 & 0.02649 \\\\\n",
       "\tfactor(s\\_Citizenship)Asia &  0.62586 & 0.00108 \\\\\n",
       "\ts\\_Average.Precol.GPA &  0.12317 & 0.03180 \\\\\n",
       "\tGPA\\_trend &  0.79762 & 0.01261 \\\\\n",
       "\ts\\_start\\_year & -0.80526 & 0.00000 \\\\\n",
       "\tavs\\_net\\_cost:factor(s\\_College)GD Non-Harpur &  0.34327 & 0.00673 \\\\\n",
       "\\end{tabular}\n"
      ],
      "text/markdown": [
       "\n",
       "| <!--/--> | Estimate | Pr(>|z|) |\n",
       "|---|---|---|\n",
       "| (Intercept) | -0.44846 | 0.00045  |\n",
       "| factor(funding_indicator)1 |  0.91733 | 0.00000  |\n",
       "| factor(s_Citizenship)Africa |  0.74546 | 0.02649  |\n",
       "| factor(s_Citizenship)Asia |  0.62586 | 0.00108  |\n",
       "| s_Average.Precol.GPA |  0.12317 | 0.03180  |\n",
       "| GPA_trend |  0.79762 | 0.01261  |\n",
       "| s_start_year | -0.80526 | 0.00000  |\n",
       "| avs_net_cost:factor(s_College)GD Non-Harpur |  0.34327 | 0.00673  |\n",
       "\n"
      ],
      "text/plain": [
       "                                            Estimate Pr(>|z|)\n",
       "(Intercept)                                 -0.44846 0.00045 \n",
       "factor(funding_indicator)1                   0.91733 0.00000 \n",
       "factor(s_Citizenship)Africa                  0.74546 0.02649 \n",
       "factor(s_Citizenship)Asia                    0.62586 0.00108 \n",
       "s_Average.Precol.GPA                         0.12317 0.03180 \n",
       "GPA_trend                                    0.79762 0.01261 \n",
       "s_start_year                                -0.80526 0.00000 \n",
       "avs_net_cost:factor(s_College)GD Non-Harpur  0.34327 0.00673 "
      ]
     },
     "metadata": {},
     "output_type": "display_data"
    }
   ],
   "source": [
    "round(summary(log_mod_total)$coeff[which(summary(log_mod_total)$coef[,4] <= .05),c(1,4)],5)"
   ]
  },
  {
   "cell_type": "markdown",
   "metadata": {},
   "source": [
    "<b> Both AIC:"
   ]
  },
  {
   "cell_type": "code",
   "execution_count": 63,
   "metadata": {},
   "outputs": [
    {
     "name": "stdout",
     "output_type": "stream",
     "text": [
      "Start:  AIC=2985.65\n",
      "Y ~ factor(funding_indicator) + factor(s_Citizenship) + avs_net_cost + \n",
      "    s_Average.Precol.GPA + s_GRE.Combined.General.Verbal.Score + \n",
      "    GPA_trend + s_start_year + factor(s_College) + avs_net_cost:factor(s_College) + \n",
      "    factor(s_College):factor(s_Citizenship) + factor(s_College):s_GRE.Combined.General.Verbal.Score + \n",
      "    factor(s_College):s_Average.Precol.GPA + factor(s_College):factor(funding_indicator) + \n",
      "    factor(s_College):GPA_trend + s_start_year:factor(s_College)\n",
      "\n",
      "                                                        Df Deviance    AIC\n",
      "- factor(s_Citizenship):factor(s_College)                3   2947.5 2981.5\n",
      "- s_start_year:factor(s_College)                         1   2945.8 2983.8\n",
      "- s_Average.Precol.GPA:factor(s_College)                 1   2945.9 2983.9\n",
      "- s_GRE.Combined.General.Verbal.Score:factor(s_College)  1   2946.1 2984.1\n",
      "- GPA_trend:factor(s_College)                            1   2946.6 2984.6\n",
      "<none>                                                       2945.7 2985.7\n",
      "- factor(funding_indicator):factor(s_College)            1   2948.9 2986.9\n",
      "- avs_net_cost:factor(s_College)                         1   2954.5 2992.5\n",
      "\n",
      "Step:  AIC=2981.52\n",
      "Y ~ factor(funding_indicator) + factor(s_Citizenship) + avs_net_cost + \n",
      "    s_Average.Precol.GPA + s_GRE.Combined.General.Verbal.Score + \n",
      "    GPA_trend + s_start_year + factor(s_College) + avs_net_cost:factor(s_College) + \n",
      "    s_GRE.Combined.General.Verbal.Score:factor(s_College) + s_Average.Precol.GPA:factor(s_College) + \n",
      "    factor(funding_indicator):factor(s_College) + GPA_trend:factor(s_College) + \n",
      "    s_start_year:factor(s_College)\n",
      "\n",
      "                                                        Df Deviance    AIC\n",
      "- s_start_year:factor(s_College)                         1   2947.6 2979.6\n",
      "- s_GRE.Combined.General.Verbal.Score:factor(s_College)  1   2947.8 2979.8\n",
      "- s_Average.Precol.GPA:factor(s_College)                 1   2947.8 2979.8\n",
      "- GPA_trend:factor(s_College)                            1   2948.5 2980.5\n",
      "<none>                                                       2947.5 2981.5\n",
      "- factor(funding_indicator):factor(s_College)            1   2950.6 2982.6\n",
      "+ factor(s_Citizenship):factor(s_College)                3   2945.7 2985.7\n",
      "- avs_net_cost:factor(s_College)                         1   2956.2 2988.2\n",
      "- factor(s_Citizenship)                                  3   2968.6 2996.6\n",
      "\n",
      "Step:  AIC=2979.59\n",
      "Y ~ factor(funding_indicator) + factor(s_Citizenship) + avs_net_cost + \n",
      "    s_Average.Precol.GPA + s_GRE.Combined.General.Verbal.Score + \n",
      "    GPA_trend + s_start_year + factor(s_College) + avs_net_cost:factor(s_College) + \n",
      "    s_GRE.Combined.General.Verbal.Score:factor(s_College) + s_Average.Precol.GPA:factor(s_College) + \n",
      "    factor(funding_indicator):factor(s_College) + GPA_trend:factor(s_College)\n",
      "\n",
      "                                                        Df Deviance    AIC\n",
      "- s_Average.Precol.GPA:factor(s_College)                 1   2947.9 2977.9\n",
      "- s_GRE.Combined.General.Verbal.Score:factor(s_College)  1   2947.9 2977.9\n",
      "- GPA_trend:factor(s_College)                            1   2948.6 2978.6\n",
      "<none>                                                       2947.6 2979.6\n",
      "- factor(funding_indicator):factor(s_College)            1   2951.5 2981.5\n",
      "+ s_start_year:factor(s_College)                         1   2947.5 2981.5\n",
      "+ factor(s_Citizenship):factor(s_College)                3   2945.8 2983.8\n",
      "- avs_net_cost:factor(s_College)                         1   2956.5 2986.5\n",
      "- factor(s_Citizenship)                                  3   2968.6 2994.6\n",
      "- s_start_year                                           1   3162.2 3192.2\n",
      "\n",
      "Step:  AIC=2977.88\n",
      "Y ~ factor(funding_indicator) + factor(s_Citizenship) + avs_net_cost + \n",
      "    s_Average.Precol.GPA + s_GRE.Combined.General.Verbal.Score + \n",
      "    GPA_trend + s_start_year + factor(s_College) + avs_net_cost:factor(s_College) + \n",
      "    s_GRE.Combined.General.Verbal.Score:factor(s_College) + factor(funding_indicator):factor(s_College) + \n",
      "    GPA_trend:factor(s_College)\n",
      "\n",
      "                                                        Df Deviance    AIC\n",
      "- s_GRE.Combined.General.Verbal.Score:factor(s_College)  1   2948.2 2976.2\n",
      "- GPA_trend:factor(s_College)                            1   2948.9 2976.9\n",
      "<none>                                                       2947.9 2977.9\n",
      "+ s_Average.Precol.GPA:factor(s_College)                 1   2947.6 2979.6\n",
      "- factor(funding_indicator):factor(s_College)            1   2951.7 2979.7\n",
      "+ s_start_year:factor(s_College)                         1   2947.8 2979.8\n",
      "+ factor(s_Citizenship):factor(s_College)                3   2946.0 2982.0\n",
      "- avs_net_cost:factor(s_College)                         1   2956.7 2984.7\n",
      "- s_Average.Precol.GPA                                   1   2957.5 2985.5\n",
      "- factor(s_Citizenship)                                  3   2969.1 2993.1\n",
      "- s_start_year                                           1   3163.0 3191.0\n",
      "\n",
      "Step:  AIC=2976.17\n",
      "Y ~ factor(funding_indicator) + factor(s_Citizenship) + avs_net_cost + \n",
      "    s_Average.Precol.GPA + s_GRE.Combined.General.Verbal.Score + \n",
      "    GPA_trend + s_start_year + factor(s_College) + avs_net_cost:factor(s_College) + \n",
      "    factor(funding_indicator):factor(s_College) + GPA_trend:factor(s_College)\n",
      "\n",
      "                                                        Df Deviance    AIC\n",
      "- GPA_trend:factor(s_College)                            1   2949.1 2975.1\n",
      "<none>                                                       2948.2 2976.2\n",
      "- s_GRE.Combined.General.Verbal.Score                    1   2950.2 2976.2\n",
      "+ s_GRE.Combined.General.Verbal.Score:factor(s_College)  1   2947.9 2977.9\n",
      "+ s_Average.Precol.GPA:factor(s_College)                 1   2947.9 2977.9\n",
      "+ s_start_year:factor(s_College)                         1   2948.1 2978.1\n",
      "- factor(funding_indicator):factor(s_College)            1   2952.4 2978.4\n",
      "+ factor(s_Citizenship):factor(s_College)                3   2946.5 2980.5\n",
      "- avs_net_cost:factor(s_College)                         1   2957.0 2983.0\n",
      "- s_Average.Precol.GPA                                   1   2957.8 2983.8\n",
      "- factor(s_Citizenship)                                  3   2970.2 2992.2\n",
      "- s_start_year                                           1   3164.0 3190.0\n",
      "\n",
      "Step:  AIC=2975.08\n",
      "Y ~ factor(funding_indicator) + factor(s_Citizenship) + avs_net_cost + \n",
      "    s_Average.Precol.GPA + s_GRE.Combined.General.Verbal.Score + \n",
      "    GPA_trend + s_start_year + factor(s_College) + avs_net_cost:factor(s_College) + \n",
      "    factor(funding_indicator):factor(s_College)\n",
      "\n",
      "                                                        Df Deviance    AIC\n",
      "- s_GRE.Combined.General.Verbal.Score                    1   2951.0 2975.0\n",
      "<none>                                                       2949.1 2975.1\n",
      "+ GPA_trend:factor(s_College)                            1   2948.2 2976.2\n",
      "+ s_Average.Precol.GPA:factor(s_College)                 1   2948.8 2976.8\n",
      "+ s_GRE.Combined.General.Verbal.Score:factor(s_College)  1   2948.9 2976.9\n",
      "+ s_start_year:factor(s_College)                         1   2949.0 2977.0\n",
      "- factor(funding_indicator):factor(s_College)            1   2953.3 2977.3\n",
      "+ factor(s_Citizenship):factor(s_College)                3   2947.4 2979.4\n",
      "- avs_net_cost:factor(s_College)                         1   2958.0 2982.0\n",
      "- s_Average.Precol.GPA                                   1   2959.1 2983.1\n",
      "- GPA_trend                                              1   2963.0 2987.0\n",
      "- factor(s_Citizenship)                                  3   2971.1 2991.1\n",
      "- s_start_year                                           1   3165.5 3189.5\n",
      "\n",
      "Step:  AIC=2974.98\n",
      "Y ~ factor(funding_indicator) + factor(s_Citizenship) + avs_net_cost + \n",
      "    s_Average.Precol.GPA + GPA_trend + s_start_year + factor(s_College) + \n",
      "    avs_net_cost:factor(s_College) + factor(funding_indicator):factor(s_College)\n",
      "\n",
      "                                              Df Deviance    AIC\n",
      "<none>                                             2951.0 2975.0\n",
      "+ s_GRE.Combined.General.Verbal.Score          1   2949.1 2975.1\n",
      "+ GPA_trend:factor(s_College)                  1   2950.2 2976.2\n",
      "+ s_Average.Precol.GPA:factor(s_College)       1   2950.7 2976.7\n",
      "+ s_start_year:factor(s_College)               1   2950.8 2976.8\n",
      "- factor(funding_indicator):factor(s_College)  1   2955.4 2977.4\n",
      "+ factor(s_Citizenship):factor(s_College)      3   2949.4 2979.4\n",
      "- avs_net_cost:factor(s_College)               1   2959.8 2981.8\n",
      "- s_Average.Precol.GPA                         1   2960.4 2982.4\n",
      "- GPA_trend                                    1   2965.4 2987.4\n",
      "- factor(s_Citizenship)                        3   2974.5 2992.5\n",
      "- s_start_year                                 1   3168.0 3190.0\n"
     ]
    }
   ],
   "source": [
    "log_mod_total_aic= stepAIC(log_mod_total, direction = 'both')"
   ]
  },
  {
   "cell_type": "markdown",
   "metadata": {},
   "source": [
    "<b> Significant variables both AIC selects:"
   ]
  },
  {
   "cell_type": "code",
   "execution_count": 64,
   "metadata": {
    "scrolled": true
   },
   "outputs": [
    {
     "data": {
      "text/html": [
       "<table>\n",
       "<thead><tr><th></th><th scope=col>Estimate</th><th scope=col>Pr(&gt;|z|)</th></tr></thead>\n",
       "<tbody>\n",
       "\t<tr><th scope=row>(Intercept)</th><td>-0.43080</td><td>0.00035 </td></tr>\n",
       "\t<tr><th scope=row>factor(funding_indicator)1</th><td> 0.89352</td><td>0.00000 </td></tr>\n",
       "\t<tr><th scope=row>factor(s_Citizenship)Africa</th><td> 0.86196</td><td>0.00669 </td></tr>\n",
       "\t<tr><th scope=row>factor(s_Citizenship)Asia</th><td> 0.55140</td><td>0.00012 </td></tr>\n",
       "\t<tr><th scope=row>factor(s_Citizenship)China</th><td> 0.29809</td><td>0.03482 </td></tr>\n",
       "\t<tr><th scope=row>s_Average.Precol.GPA</th><td> 0.13705</td><td>0.00288 </td></tr>\n",
       "\t<tr><th scope=row>GPA_trend</th><td> 0.98318</td><td>0.00026 </td></tr>\n",
       "\t<tr><th scope=row>s_start_year</th><td>-0.78727</td><td>0.00000 </td></tr>\n",
       "\t<tr><th scope=row>avs_net_cost:factor(s_College)GD Non-Harpur</th><td> 0.34224</td><td>0.00677 </td></tr>\n",
       "\t<tr><th scope=row>factor(funding_indicator)1:factor(s_College)GD Non-Harpur</th><td> 0.45044</td><td>0.03557 </td></tr>\n",
       "</tbody>\n",
       "</table>\n"
      ],
      "text/latex": [
       "\\begin{tabular}{r|ll}\n",
       "  & Estimate & Pr(>\\textbar{}z\\textbar{})\\\\\n",
       "\\hline\n",
       "\t(Intercept) & -0.43080 & 0.00035 \\\\\n",
       "\tfactor(funding\\_indicator)1 &  0.89352 & 0.00000 \\\\\n",
       "\tfactor(s\\_Citizenship)Africa &  0.86196 & 0.00669 \\\\\n",
       "\tfactor(s\\_Citizenship)Asia &  0.55140 & 0.00012 \\\\\n",
       "\tfactor(s\\_Citizenship)China &  0.29809 & 0.03482 \\\\\n",
       "\ts\\_Average.Precol.GPA &  0.13705 & 0.00288 \\\\\n",
       "\tGPA\\_trend &  0.98318 & 0.00026 \\\\\n",
       "\ts\\_start\\_year & -0.78727 & 0.00000 \\\\\n",
       "\tavs\\_net\\_cost:factor(s\\_College)GD Non-Harpur &  0.34224 & 0.00677 \\\\\n",
       "\tfactor(funding\\_indicator)1:factor(s\\_College)GD Non-Harpur &  0.45044 & 0.03557 \\\\\n",
       "\\end{tabular}\n"
      ],
      "text/markdown": [
       "\n",
       "| <!--/--> | Estimate | Pr(>|z|) |\n",
       "|---|---|---|\n",
       "| (Intercept) | -0.43080 | 0.00035  |\n",
       "| factor(funding_indicator)1 |  0.89352 | 0.00000  |\n",
       "| factor(s_Citizenship)Africa |  0.86196 | 0.00669  |\n",
       "| factor(s_Citizenship)Asia |  0.55140 | 0.00012  |\n",
       "| factor(s_Citizenship)China |  0.29809 | 0.03482  |\n",
       "| s_Average.Precol.GPA |  0.13705 | 0.00288  |\n",
       "| GPA_trend |  0.98318 | 0.00026  |\n",
       "| s_start_year | -0.78727 | 0.00000  |\n",
       "| avs_net_cost:factor(s_College)GD Non-Harpur |  0.34224 | 0.00677  |\n",
       "| factor(funding_indicator)1:factor(s_College)GD Non-Harpur |  0.45044 | 0.03557  |\n",
       "\n"
      ],
      "text/plain": [
       "                                                          Estimate Pr(>|z|)\n",
       "(Intercept)                                               -0.43080 0.00035 \n",
       "factor(funding_indicator)1                                 0.89352 0.00000 \n",
       "factor(s_Citizenship)Africa                                0.86196 0.00669 \n",
       "factor(s_Citizenship)Asia                                  0.55140 0.00012 \n",
       "factor(s_Citizenship)China                                 0.29809 0.03482 \n",
       "s_Average.Precol.GPA                                       0.13705 0.00288 \n",
       "GPA_trend                                                  0.98318 0.00026 \n",
       "s_start_year                                              -0.78727 0.00000 \n",
       "avs_net_cost:factor(s_College)GD Non-Harpur                0.34224 0.00677 \n",
       "factor(funding_indicator)1:factor(s_College)GD Non-Harpur  0.45044 0.03557 "
      ]
     },
     "metadata": {},
     "output_type": "display_data"
    }
   ],
   "source": [
    "round(summary(log_mod_total_aic)$coeff[which(summary(log_mod_total_aic)$coef[,4] <= .05),c(1,4)],5)"
   ]
  },
  {
   "cell_type": "markdown",
   "metadata": {},
   "source": [
    "<b>Both BIC"
   ]
  },
  {
   "cell_type": "code",
   "execution_count": 65,
   "metadata": {
    "scrolled": false
   },
   "outputs": [
    {
     "name": "stdout",
     "output_type": "stream",
     "text": [
      "Start:  AIC=3070.53\n",
      "Y ~ factor(funding_indicator) + factor(s_Citizenship) + avs_net_cost + \n",
      "    s_Average.Precol.GPA + s_GRE.Combined.General.Verbal.Score + \n",
      "    GPA_trend + s_start_year + factor(s_College) + avs_net_cost:factor(s_College) + \n",
      "    factor(s_College):factor(s_Citizenship) + factor(s_College):s_GRE.Combined.General.Verbal.Score + \n",
      "    factor(s_College):s_Average.Precol.GPA + factor(s_College):factor(funding_indicator) + \n",
      "    factor(s_College):GPA_trend + s_start_year:factor(s_College)\n",
      "\n",
      "                                                        Df Deviance    AIC\n",
      "- factor(s_Citizenship):factor(s_College)                3   2947.5 3053.7\n",
      "- s_start_year:factor(s_College)                         1   2945.8 3064.4\n",
      "- s_Average.Precol.GPA:factor(s_College)                 1   2945.9 3064.6\n",
      "- s_GRE.Combined.General.Verbal.Score:factor(s_College)  1   2946.1 3064.8\n",
      "- GPA_trend:factor(s_College)                            1   2946.6 3065.2\n",
      "- factor(funding_indicator):factor(s_College)            1   2948.9 3067.6\n",
      "<none>                                                       2945.7 3070.5\n",
      "- avs_net_cost:factor(s_College)                         1   2954.5 3073.2\n",
      "\n",
      "Step:  AIC=3053.67\n",
      "Y ~ factor(funding_indicator) + factor(s_Citizenship) + avs_net_cost + \n",
      "    s_Average.Precol.GPA + s_GRE.Combined.General.Verbal.Score + \n",
      "    GPA_trend + s_start_year + factor(s_College) + avs_net_cost:factor(s_College) + \n",
      "    s_GRE.Combined.General.Verbal.Score:factor(s_College) + s_Average.Precol.GPA:factor(s_College) + \n",
      "    factor(funding_indicator):factor(s_College) + GPA_trend:factor(s_College) + \n",
      "    s_start_year:factor(s_College)\n",
      "\n",
      "                                                        Df Deviance    AIC\n",
      "- s_start_year:factor(s_College)                         1   2947.6 3047.5\n",
      "- s_GRE.Combined.General.Verbal.Score:factor(s_College)  1   2947.8 3047.7\n",
      "- s_Average.Precol.GPA:factor(s_College)                 1   2947.8 3047.7\n",
      "- GPA_trend:factor(s_College)                            1   2948.5 3048.4\n",
      "- factor(funding_indicator):factor(s_College)            1   2950.6 3050.5\n",
      "<none>                                                       2947.5 3053.7\n",
      "- factor(s_Citizenship)                                  3   2968.6 3056.0\n",
      "- avs_net_cost:factor(s_College)                         1   2956.2 3056.2\n",
      "+ factor(s_Citizenship):factor(s_College)                3   2945.7 3070.5\n",
      "\n",
      "Step:  AIC=3047.5\n",
      "Y ~ factor(funding_indicator) + factor(s_Citizenship) + avs_net_cost + \n",
      "    s_Average.Precol.GPA + s_GRE.Combined.General.Verbal.Score + \n",
      "    GPA_trend + s_start_year + factor(s_College) + avs_net_cost:factor(s_College) + \n",
      "    s_GRE.Combined.General.Verbal.Score:factor(s_College) + s_Average.Precol.GPA:factor(s_College) + \n",
      "    factor(funding_indicator):factor(s_College) + GPA_trend:factor(s_College)\n",
      "\n",
      "                                                        Df Deviance    AIC\n",
      "- s_Average.Precol.GPA:factor(s_College)                 1   2947.9 3041.5\n",
      "- s_GRE.Combined.General.Verbal.Score:factor(s_College)  1   2947.9 3041.6\n",
      "- GPA_trend:factor(s_College)                            1   2948.6 3042.2\n",
      "- factor(funding_indicator):factor(s_College)            1   2951.5 3045.2\n",
      "<none>                                                       2947.6 3047.5\n",
      "- factor(s_Citizenship)                                  3   2968.6 3049.8\n",
      "- avs_net_cost:factor(s_College)                         1   2956.5 3050.2\n",
      "+ s_start_year:factor(s_College)                         1   2947.5 3053.7\n",
      "+ factor(s_Citizenship):factor(s_College)                3   2945.8 3064.4\n",
      "- s_start_year                                           1   3162.2 3255.8\n",
      "\n",
      "Step:  AIC=3041.54\n",
      "Y ~ factor(funding_indicator) + factor(s_Citizenship) + avs_net_cost + \n",
      "    s_Average.Precol.GPA + s_GRE.Combined.General.Verbal.Score + \n",
      "    GPA_trend + s_start_year + factor(s_College) + avs_net_cost:factor(s_College) + \n",
      "    s_GRE.Combined.General.Verbal.Score:factor(s_College) + factor(funding_indicator):factor(s_College) + \n",
      "    GPA_trend:factor(s_College)\n",
      "\n",
      "                                                        Df Deviance    AIC\n",
      "- s_GRE.Combined.General.Verbal.Score:factor(s_College)  1   2948.2 3035.6\n",
      "- GPA_trend:factor(s_College)                            1   2948.9 3036.3\n",
      "- factor(funding_indicator):factor(s_College)            1   2951.7 3039.1\n",
      "<none>                                                       2947.9 3041.5\n",
      "- factor(s_Citizenship)                                  3   2969.1 3044.0\n",
      "- avs_net_cost:factor(s_College)                         1   2956.7 3044.2\n",
      "- s_Average.Precol.GPA                                   1   2957.5 3044.9\n",
      "+ s_Average.Precol.GPA:factor(s_College)                 1   2947.6 3047.5\n",
      "+ s_start_year:factor(s_College)                         1   2947.8 3047.7\n",
      "+ factor(s_Citizenship):factor(s_College)                3   2946.0 3058.4\n",
      "- s_start_year                                           1   3163.0 3250.4\n",
      "\n",
      "Step:  AIC=3035.59\n",
      "Y ~ factor(funding_indicator) + factor(s_Citizenship) + avs_net_cost + \n",
      "    s_Average.Precol.GPA + s_GRE.Combined.General.Verbal.Score + \n",
      "    GPA_trend + s_start_year + factor(s_College) + avs_net_cost:factor(s_College) + \n",
      "    factor(funding_indicator):factor(s_College) + GPA_trend:factor(s_College)\n",
      "\n",
      "                                                        Df Deviance    AIC\n",
      "- GPA_trend:factor(s_College)                            1   2949.1 3030.3\n",
      "- s_GRE.Combined.General.Verbal.Score                    1   2950.2 3031.4\n",
      "- factor(funding_indicator):factor(s_College)            1   2952.4 3033.5\n",
      "<none>                                                       2948.2 3035.6\n",
      "- avs_net_cost:factor(s_College)                         1   2957.0 3038.2\n",
      "- factor(s_Citizenship)                                  3   2970.2 3038.9\n",
      "- s_Average.Precol.GPA                                   1   2957.8 3039.0\n",
      "+ s_GRE.Combined.General.Verbal.Score:factor(s_College)  1   2947.9 3041.5\n",
      "+ s_Average.Precol.GPA:factor(s_College)                 1   2947.9 3041.6\n",
      "+ s_start_year:factor(s_College)                         1   2948.1 3041.7\n",
      "+ factor(s_Citizenship):factor(s_College)                3   2946.5 3052.7\n",
      "- s_start_year                                           1   3164.0 3245.2\n",
      "\n",
      "Step:  AIC=3030.26\n",
      "Y ~ factor(funding_indicator) + factor(s_Citizenship) + avs_net_cost + \n",
      "    s_Average.Precol.GPA + s_GRE.Combined.General.Verbal.Score + \n",
      "    GPA_trend + s_start_year + factor(s_College) + avs_net_cost:factor(s_College) + \n",
      "    factor(funding_indicator):factor(s_College)\n",
      "\n",
      "                                                        Df Deviance    AIC\n",
      "- s_GRE.Combined.General.Verbal.Score                    1   2951.0 3025.9\n",
      "- factor(funding_indicator):factor(s_College)            1   2953.3 3028.2\n",
      "<none>                                                       2949.1 3030.3\n",
      "- avs_net_cost:factor(s_College)                         1   2958.0 3033.0\n",
      "- factor(s_Citizenship)                                  3   2971.1 3033.5\n",
      "- s_Average.Precol.GPA                                   1   2959.1 3034.0\n",
      "+ GPA_trend:factor(s_College)                            1   2948.2 3035.6\n",
      "+ s_Average.Precol.GPA:factor(s_College)                 1   2948.8 3036.2\n",
      "+ s_GRE.Combined.General.Verbal.Score:factor(s_College)  1   2948.9 3036.3\n",
      "+ s_start_year:factor(s_College)                         1   2949.0 3036.4\n",
      "- GPA_trend                                              1   2963.0 3037.9\n",
      "+ factor(s_Citizenship):factor(s_College)                3   2947.4 3047.3\n",
      "- s_start_year                                           1   3165.5 3240.5\n",
      "\n",
      "Step:  AIC=3025.91\n",
      "Y ~ factor(funding_indicator) + factor(s_Citizenship) + avs_net_cost + \n",
      "    s_Average.Precol.GPA + GPA_trend + s_start_year + factor(s_College) + \n",
      "    avs_net_cost:factor(s_College) + factor(funding_indicator):factor(s_College)\n",
      "\n",
      "                                              Df Deviance    AIC\n",
      "- factor(funding_indicator):factor(s_College)  1   2955.4 3024.1\n",
      "<none>                                             2951.0 3025.9\n",
      "- avs_net_cost:factor(s_College)               1   2959.8 3028.5\n",
      "- s_Average.Precol.GPA                         1   2960.4 3029.1\n",
      "+ s_GRE.Combined.General.Verbal.Score          1   2949.1 3030.3\n",
      "- factor(s_Citizenship)                        3   2974.5 3030.7\n",
      "+ GPA_trend:factor(s_College)                  1   2950.2 3031.4\n",
      "+ s_Average.Precol.GPA:factor(s_College)       1   2950.7 3031.8\n",
      "+ s_start_year:factor(s_College)               1   2950.8 3032.0\n",
      "- GPA_trend                                    1   2965.4 3034.1\n",
      "+ factor(s_Citizenship):factor(s_College)      3   2949.4 3043.0\n",
      "- s_start_year                                 1   3168.0 3236.7\n"
     ]
    },
    {
     "name": "stdout",
     "output_type": "stream",
     "text": [
      "\n",
      "Step:  AIC=3024.07\n",
      "Y ~ factor(funding_indicator) + factor(s_Citizenship) + avs_net_cost + \n",
      "    s_Average.Precol.GPA + GPA_trend + s_start_year + factor(s_College) + \n",
      "    avs_net_cost:factor(s_College)\n",
      "\n",
      "                                              Df Deviance    AIC\n",
      "<none>                                             2955.4 3024.1\n",
      "- avs_net_cost:factor(s_College)               1   2962.7 3025.1\n",
      "+ factor(funding_indicator):factor(s_College)  1   2951.0 3025.9\n",
      "- s_Average.Precol.GPA                         1   2964.0 3026.5\n",
      "+ s_GRE.Combined.General.Verbal.Score          1   2953.3 3028.2\n",
      "+ s_start_year:factor(s_College)               1   2954.2 3029.1\n",
      "+ GPA_trend:factor(s_College)                  1   2954.6 3029.5\n",
      "+ s_Average.Precol.GPA:factor(s_College)       1   2955.2 3030.1\n",
      "- GPA_trend                                    1   2970.3 3032.7\n",
      "- factor(s_Citizenship)                        3   2983.4 3033.3\n",
      "+ factor(s_Citizenship):factor(s_College)      3   2954.1 3041.6\n",
      "- factor(funding_indicator)                    1   3051.6 3114.0\n",
      "- s_start_year                                 1   3192.9 3255.3\n"
     ]
    }
   ],
   "source": [
    "log_mod_total_bic = stepAIC(log_mod_total, direction = \"both\", k = log(e_n))"
   ]
  },
  {
   "cell_type": "markdown",
   "metadata": {},
   "source": [
    "<b>Significant variables both BIC selects:"
   ]
  },
  {
   "cell_type": "code",
   "execution_count": 66,
   "metadata": {
    "scrolled": true
   },
   "outputs": [
    {
     "data": {
      "text/html": [
       "<table>\n",
       "<thead><tr><th></th><th scope=col>Estimate</th><th scope=col>Pr(&gt;|z|)</th></tr></thead>\n",
       "<tbody>\n",
       "\t<tr><th scope=row>(Intercept)</th><td>-0.57033</td><td>0.00000 </td></tr>\n",
       "\t<tr><th scope=row>factor(funding_indicator)1</th><td> 1.06997</td><td>0.00000 </td></tr>\n",
       "\t<tr><th scope=row>factor(s_Citizenship)Africa</th><td> 0.88357</td><td>0.00546 </td></tr>\n",
       "\t<tr><th scope=row>factor(s_Citizenship)Asia</th><td> 0.59964</td><td>0.00002 </td></tr>\n",
       "\t<tr><th scope=row>factor(s_Citizenship)China</th><td> 0.33587</td><td>0.01636 </td></tr>\n",
       "\t<tr><th scope=row>s_Average.Precol.GPA</th><td> 0.13076</td><td>0.00429 </td></tr>\n",
       "\t<tr><th scope=row>GPA_trend</th><td> 0.99930</td><td>0.00021 </td></tr>\n",
       "\t<tr><th scope=row>s_start_year</th><td>-0.80919</td><td>0.00000 </td></tr>\n",
       "\t<tr><th scope=row>factor(s_College)GD Non-Harpur</th><td> 0.60862</td><td>0.00000 </td></tr>\n",
       "\t<tr><th scope=row>avs_net_cost:factor(s_College)GD Non-Harpur</th><td> 0.30465</td><td>0.01291 </td></tr>\n",
       "</tbody>\n",
       "</table>\n"
      ],
      "text/latex": [
       "\\begin{tabular}{r|ll}\n",
       "  & Estimate & Pr(>\\textbar{}z\\textbar{})\\\\\n",
       "\\hline\n",
       "\t(Intercept) & -0.57033 & 0.00000 \\\\\n",
       "\tfactor(funding\\_indicator)1 &  1.06997 & 0.00000 \\\\\n",
       "\tfactor(s\\_Citizenship)Africa &  0.88357 & 0.00546 \\\\\n",
       "\tfactor(s\\_Citizenship)Asia &  0.59964 & 0.00002 \\\\\n",
       "\tfactor(s\\_Citizenship)China &  0.33587 & 0.01636 \\\\\n",
       "\ts\\_Average.Precol.GPA &  0.13076 & 0.00429 \\\\\n",
       "\tGPA\\_trend &  0.99930 & 0.00021 \\\\\n",
       "\ts\\_start\\_year & -0.80919 & 0.00000 \\\\\n",
       "\tfactor(s\\_College)GD Non-Harpur &  0.60862 & 0.00000 \\\\\n",
       "\tavs\\_net\\_cost:factor(s\\_College)GD Non-Harpur &  0.30465 & 0.01291 \\\\\n",
       "\\end{tabular}\n"
      ],
      "text/markdown": [
       "\n",
       "| <!--/--> | Estimate | Pr(>|z|) |\n",
       "|---|---|---|\n",
       "| (Intercept) | -0.57033 | 0.00000  |\n",
       "| factor(funding_indicator)1 |  1.06997 | 0.00000  |\n",
       "| factor(s_Citizenship)Africa |  0.88357 | 0.00546  |\n",
       "| factor(s_Citizenship)Asia |  0.59964 | 0.00002  |\n",
       "| factor(s_Citizenship)China |  0.33587 | 0.01636  |\n",
       "| s_Average.Precol.GPA |  0.13076 | 0.00429  |\n",
       "| GPA_trend |  0.99930 | 0.00021  |\n",
       "| s_start_year | -0.80919 | 0.00000  |\n",
       "| factor(s_College)GD Non-Harpur |  0.60862 | 0.00000  |\n",
       "| avs_net_cost:factor(s_College)GD Non-Harpur |  0.30465 | 0.01291  |\n",
       "\n"
      ],
      "text/plain": [
       "                                            Estimate Pr(>|z|)\n",
       "(Intercept)                                 -0.57033 0.00000 \n",
       "factor(funding_indicator)1                   1.06997 0.00000 \n",
       "factor(s_Citizenship)Africa                  0.88357 0.00546 \n",
       "factor(s_Citizenship)Asia                    0.59964 0.00002 \n",
       "factor(s_Citizenship)China                   0.33587 0.01636 \n",
       "s_Average.Precol.GPA                         0.13076 0.00429 \n",
       "GPA_trend                                    0.99930 0.00021 \n",
       "s_start_year                                -0.80919 0.00000 \n",
       "factor(s_College)GD Non-Harpur               0.60862 0.00000 \n",
       "avs_net_cost:factor(s_College)GD Non-Harpur  0.30465 0.01291 "
      ]
     },
     "metadata": {},
     "output_type": "display_data"
    }
   ],
   "source": [
    "round(summary(log_mod_total_bic)$coeff[which(summary(log_mod_total_bic)$coef[,4] <= .05),c(1,4)],5)"
   ]
  },
  {
   "cell_type": "markdown",
   "metadata": {},
   "source": [
    "# Using Sparse PCA to do analysis"
   ]
  },
  {
   "cell_type": "markdown",
   "metadata": {},
   "source": [
    "# Harpur Sciences Analysis"
   ]
  },
  {
   "cell_type": "markdown",
   "metadata": {},
   "source": [
    "<b> Logistic regression model:"
   ]
  },
  {
   "cell_type": "code",
   "execution_count": 67,
   "metadata": {
    "scrolled": false
   },
   "outputs": [
    {
     "ename": "ERROR",
     "evalue": "Error in eval(predvars, data, env): object 'SAPC1' not found\n",
     "output_type": "error",
     "traceback": [
      "Error in eval(predvars, data, env): object 'SAPC1' not found\nTraceback:\n",
      "1. glm(Y ~ s_start_age + factor(Gender) + factor(funding_indicator) + \n .     factor(Citizenship) + avs_net_cost + SAPC1 + SAPC2 + SAPC3 + \n .     factor(gap_indicator) + GPA_trend + s_start_year, data = Harpur_sciences, \n .     family = \"binomial\")",
      "2. eval(mf, parent.frame())",
      "3. eval(mf, parent.frame())",
      "4. stats::model.frame(formula = Y ~ s_start_age + factor(Gender) + \n .     factor(funding_indicator) + factor(Citizenship) + avs_net_cost + \n .     SAPC1 + SAPC2 + SAPC3 + factor(gap_indicator) + GPA_trend + \n .     s_start_year, data = Harpur_sciences, drop.unused.levels = TRUE)",
      "5. model.frame.default(formula = Y ~ s_start_age + factor(Gender) + \n .     factor(funding_indicator) + factor(Citizenship) + avs_net_cost + \n .     SAPC1 + SAPC2 + SAPC3 + factor(gap_indicator) + GPA_trend + \n .     s_start_year, data = Harpur_sciences, drop.unused.levels = TRUE)",
      "6. eval(predvars, data, env)",
      "7. eval(predvars, data, env)"
     ]
    }
   ],
   "source": [
    "log_mod_h_s = glm(Y~s_start_age+factor(Gender)+factor(funding_indicator)+factor(Citizenship)+\n",
    "                avs_net_cost+SAPC1+SAPC2+SAPC3+factor(gap_indicator)+GPA_trend+s_start_year,\n",
    "                data=Harpur_sciences,family=\"binomial\")\n",
    "summary(log_mod_h_s)"
   ]
  },
  {
   "cell_type": "markdown",
   "metadata": {},
   "source": [
    "<b> Significant Variables of logistic regression model: "
   ]
  },
  {
   "cell_type": "code",
   "execution_count": null,
   "metadata": {},
   "outputs": [],
   "source": [
    "round(summary(log_mod_h_s)$coeff[which(summary(log_mod_h_s)$coef[,4] <= .05),c(1,4)],5)"
   ]
  },
  {
   "cell_type": "markdown",
   "metadata": {},
   "source": [
    "<b> Both AIC:"
   ]
  },
  {
   "cell_type": "code",
   "execution_count": null,
   "metadata": {},
   "outputs": [],
   "source": [
    "library('MASS')\n",
    "log_mod_h_s_aic = stepAIC(log_mod_h_s, direction = 'both')"
   ]
  },
  {
   "cell_type": "markdown",
   "metadata": {},
   "source": [
    "<b> Significant variables both AIC selects:"
   ]
  },
  {
   "cell_type": "code",
   "execution_count": null,
   "metadata": {},
   "outputs": [],
   "source": [
    "round(summary(log_mod_h_s_aic)$coeff[which(summary(log_mod_h_s_aic)$coef[,4] <= .05),c(1,4)],5)"
   ]
  },
  {
   "cell_type": "markdown",
   "metadata": {},
   "source": [
    "<b> Both BIC"
   ]
  },
  {
   "cell_type": "code",
   "execution_count": null,
   "metadata": {},
   "outputs": [],
   "source": [
    "log_mod_h_s_bic = stepAIC(log_mod_h_s, direction = \"both\", k = log(a_n))"
   ]
  },
  {
   "cell_type": "markdown",
   "metadata": {},
   "source": [
    "<b> Significant variables both BIC selects:"
   ]
  },
  {
   "cell_type": "code",
   "execution_count": null,
   "metadata": {},
   "outputs": [],
   "source": [
    "round(summary(log_mod_h_s_bic)$coeff[which(summary(log_mod_h_s_bic)$coef[,4] <= .05),c(1,4)],5)"
   ]
  },
  {
   "cell_type": "markdown",
   "metadata": {},
   "source": [
    "# Harpur Arts Analysis"
   ]
  },
  {
   "cell_type": "markdown",
   "metadata": {},
   "source": [
    "<b> Logistic regression model:"
   ]
  },
  {
   "cell_type": "code",
   "execution_count": null,
   "metadata": {},
   "outputs": [],
   "source": [
    "log_mod_h_a = glm(Y~s_start_age+factor(Gender)+factor(funding_indicator)+factor(Citizenship)+\n",
    "                avs_net_cost+s_SAPC1+s_SAPC2+s_SAPC3+factor(gap_indicator)+GPA_trend+s_start_year,\n",
    "                data=Harpur_arts,family=\"binomial\")\n",
    "summary(log_mod_h_a)"
   ]
  },
  {
   "cell_type": "markdown",
   "metadata": {},
   "source": [
    "<b> Significant Variables of logistic regression model: "
   ]
  },
  {
   "cell_type": "code",
   "execution_count": null,
   "metadata": {},
   "outputs": [],
   "source": [
    "round(summary(log_mod_h_a)$coeff[which(summary(log_mod_h_a)$coef[,4] <= .05),c(1,4)],5)"
   ]
  },
  {
   "cell_type": "markdown",
   "metadata": {},
   "source": [
    "<b> Both AIC:"
   ]
  },
  {
   "cell_type": "code",
   "execution_count": null,
   "metadata": {},
   "outputs": [],
   "source": [
    "log_mod_h_a_aic = stepAIC(log_mod_h_a, direction = 'both')"
   ]
  },
  {
   "cell_type": "markdown",
   "metadata": {},
   "source": [
    "<b> Significant variables both AIC selects:"
   ]
  },
  {
   "cell_type": "code",
   "execution_count": null,
   "metadata": {},
   "outputs": [],
   "source": [
    "round(summary(log_mod_h_a_aic)$coeff[which(summary(log_mod_h_a_aic)$coef[,4] <= .05),c(1,4)],5)"
   ]
  },
  {
   "cell_type": "markdown",
   "metadata": {},
   "source": [
    "<b> Both BIC"
   ]
  },
  {
   "cell_type": "code",
   "execution_count": null,
   "metadata": {},
   "outputs": [],
   "source": [
    "log_mod_h_a_bic = stepAIC(log_mod_h_a, direction = \"both\", k = log(b_n))"
   ]
  },
  {
   "cell_type": "markdown",
   "metadata": {},
   "source": [
    "<b> Significant variables both BIC selects:"
   ]
  },
  {
   "cell_type": "code",
   "execution_count": null,
   "metadata": {},
   "outputs": [],
   "source": [
    "round(summary(log_mod_h_a_bic)$coeff[which(summary(log_mod_h_a_bic)$coef[,4] <= .05),c(1,4)],5)"
   ]
  },
  {
   "cell_type": "markdown",
   "metadata": {},
   "source": [
    "# Management Analysis"
   ]
  },
  {
   "cell_type": "markdown",
   "metadata": {},
   "source": [
    "<b> Logistic regression model:"
   ]
  },
  {
   "cell_type": "code",
   "execution_count": null,
   "metadata": {},
   "outputs": [],
   "source": [
    "log_mod_m = glm(Y~s_start_age+factor(Gender)+factor(Citizenship)+\n",
    "                avs_net_cost+s_SAPC1+s_SAPC2+s_SAPC3+factor(gap_indicator)+GPA_trend+s_start_year,\n",
    "                data=Management_df,family=\"binomial\")\n",
    "summary(log_mod_m)"
   ]
  },
  {
   "cell_type": "markdown",
   "metadata": {},
   "source": [
    "<b> Significant Variables of logistic regression model: "
   ]
  },
  {
   "cell_type": "code",
   "execution_count": null,
   "metadata": {
    "scrolled": true
   },
   "outputs": [],
   "source": [
    "round(summary(log_mod_m)$coeff[which(summary(log_mod_m)$coef[,4] <= .05),c(1,4)],5)"
   ]
  },
  {
   "cell_type": "markdown",
   "metadata": {},
   "source": [
    "<b> Both AIC:"
   ]
  },
  {
   "cell_type": "code",
   "execution_count": null,
   "metadata": {},
   "outputs": [],
   "source": [
    "log_mod_m_aic= stepAIC(log_mod_m, direction = 'both')"
   ]
  },
  {
   "cell_type": "markdown",
   "metadata": {},
   "source": [
    "<b> Significant variables both AIC selects:"
   ]
  },
  {
   "cell_type": "code",
   "execution_count": null,
   "metadata": {},
   "outputs": [],
   "source": [
    "summary(log_mod_m_aic)"
   ]
  },
  {
   "cell_type": "markdown",
   "metadata": {},
   "source": [
    "<b> Both BIC:"
   ]
  },
  {
   "cell_type": "code",
   "execution_count": null,
   "metadata": {},
   "outputs": [],
   "source": [
    "log_mod_m_bic = stepAIC(log_mod_m, direction = \"both\", k = log(c_n))"
   ]
  },
  {
   "cell_type": "markdown",
   "metadata": {},
   "source": [
    "<b> Significant variables both BIC selects:"
   ]
  },
  {
   "cell_type": "code",
   "execution_count": null,
   "metadata": {},
   "outputs": [],
   "source": [
    "round(summary(log_mod_m_bic)$coeff[which(summary(log_mod_m_bic)$coef[,4] <= .05),c(1,4)],5)\n",
    "summary(log_mod_m_bic)"
   ]
  },
  {
   "cell_type": "markdown",
   "metadata": {},
   "source": [
    "# Nursing Analysis"
   ]
  },
  {
   "cell_type": "markdown",
   "metadata": {},
   "source": [
    "<b> Logistic regression model:"
   ]
  },
  {
   "cell_type": "code",
   "execution_count": null,
   "metadata": {
    "scrolled": false
   },
   "outputs": [],
   "source": [
    "log_mod_n = glm(Y~s_start_age+factor(Gender)+factor(funding_indicator)+factor(Citizenship)+\n",
    "                avs_net_cost+s_SAPC1+s_SAPC2+s_SAPC3+factor(gap_indicator)+GPA_trend+s_start_year,\n",
    "                data=Nursing_df,family=\"binomial\")\n",
    "summary(log_mod_n)"
   ]
  },
  {
   "cell_type": "markdown",
   "metadata": {},
   "source": [
    "<b> Significant Variables of logistic regression model: "
   ]
  },
  {
   "cell_type": "code",
   "execution_count": null,
   "metadata": {},
   "outputs": [],
   "source": [
    "round(summary(log_mod_n)$coeff[which(summary(log_mod_n)$coef[,4] <= .05),c(1,4)],5)"
   ]
  },
  {
   "cell_type": "markdown",
   "metadata": {},
   "source": [
    "<b> Both AIC:"
   ]
  },
  {
   "cell_type": "code",
   "execution_count": null,
   "metadata": {},
   "outputs": [],
   "source": [
    "log_mod_n_aic= stepAIC(log_mod_n, direction = 'both')"
   ]
  },
  {
   "cell_type": "markdown",
   "metadata": {},
   "source": [
    "<b> Significant variables both AIC selects:"
   ]
  },
  {
   "cell_type": "code",
   "execution_count": null,
   "metadata": {},
   "outputs": [],
   "source": [
    "round(summary(log_mod_n_aic)$coeff[which(summary(log_mod_n_aic)$coef[,4] <= .05),c(1,4)],5)\n",
    "summary(log_mod_n_aic)"
   ]
  },
  {
   "cell_type": "markdown",
   "metadata": {},
   "source": [
    "<b> Both BIC:"
   ]
  },
  {
   "cell_type": "code",
   "execution_count": null,
   "metadata": {},
   "outputs": [],
   "source": [
    "log_mod_n_bic = stepAIC(log_mod_n, direction = \"both\", k = log(d_n))"
   ]
  },
  {
   "cell_type": "markdown",
   "metadata": {},
   "source": [
    "<b> Significant variables both BIC selects:"
   ]
  },
  {
   "cell_type": "code",
   "execution_count": null,
   "metadata": {},
   "outputs": [],
   "source": [
    "round(summary(log_mod_n_bic)$coeff[which(summary(log_mod_n_bic)$coef[,4] <= .05),c(1,4)],5)"
   ]
  },
  {
   "cell_type": "markdown",
   "metadata": {},
   "source": [
    "# Watson Analysis "
   ]
  },
  {
   "cell_type": "markdown",
   "metadata": {},
   "source": [
    "<b> Logistic regression model:"
   ]
  },
  {
   "cell_type": "code",
   "execution_count": null,
   "metadata": {},
   "outputs": [],
   "source": [
    "log_mod_w = glm(Y~s_start_age+factor(Gender)+factor(funding_indicator)+factor(Citizenship)+\n",
    "                avs_net_cost+s_SAPC1+s_SAPC2+s_SAPC3+factor(gap_indicator)+GPA_trend+s_start_year,\n",
    "                data=Watson_df,family=\"binomial\")\n",
    "summary(log_mod_w)"
   ]
  },
  {
   "cell_type": "markdown",
   "metadata": {},
   "source": [
    "<b> Significant Variables of logistic regression model:"
   ]
  },
  {
   "cell_type": "code",
   "execution_count": null,
   "metadata": {},
   "outputs": [],
   "source": [
    "round(summary(log_mod_w)$coeff[which(summary(log_mod_w)$coef[,4] <= .05),c(1,4)],5)"
   ]
  },
  {
   "cell_type": "markdown",
   "metadata": {},
   "source": [
    "<b> Both AIC:"
   ]
  },
  {
   "cell_type": "code",
   "execution_count": null,
   "metadata": {},
   "outputs": [],
   "source": [
    "log_mod_w_aic= stepAIC(log_mod_w, direction = 'both')"
   ]
  },
  {
   "cell_type": "markdown",
   "metadata": {},
   "source": [
    "<b> Significant variables both AIC selects:"
   ]
  },
  {
   "cell_type": "code",
   "execution_count": null,
   "metadata": {},
   "outputs": [],
   "source": [
    "round(summary(log_mod_w_aic)$coeff[which(summary(log_mod_w_aic)$coef[,4] <= .05),c(1,4)],5)"
   ]
  },
  {
   "cell_type": "markdown",
   "metadata": {},
   "source": [
    "<b> Both BIC:"
   ]
  },
  {
   "cell_type": "code",
   "execution_count": null,
   "metadata": {},
   "outputs": [],
   "source": [
    "log_mod_w_bic = stepAIC(log_mod_w, direction = \"both\", k = log(e_n))\n"
   ]
  },
  {
   "cell_type": "markdown",
   "metadata": {},
   "source": [
    "<b> Significant variables both BIC selects:"
   ]
  },
  {
   "cell_type": "code",
   "execution_count": null,
   "metadata": {},
   "outputs": [],
   "source": [
    "summary(log_mod_w_bic)\n",
    "round(summary(log_mod_w_bic)$coeff[which(summary(log_mod_w_bic)$coef[,4] <= .05),c(1,4)],5)"
   ]
  },
  {
   "cell_type": "markdown",
   "metadata": {},
   "source": [
    "# Joint Analysis"
   ]
  },
  {
   "cell_type": "markdown",
   "metadata": {},
   "source": [
    "<b> Logistic regression model:"
   ]
  },
  {
   "cell_type": "code",
   "execution_count": null,
   "metadata": {},
   "outputs": [],
   "source": [
    "int_chn = function(x) ifelse(x=='China',1,0)\n",
    "int_afc = function(x) ifelse(x=='Africa',1,0)\n",
    "int_asia = function(x) ifelse(x=='Asia',1,0)"
   ]
  },
  {
   "cell_type": "code",
   "execution_count": null,
   "metadata": {},
   "outputs": [],
   "source": [
    "df <- within(df, s_Citizenship <- relevel(s_Citizenship, ref = \"White\"))\n",
    "df <- within(df, s_College <- relevel(s_College, ref = \"GD Non-Harpur\"))"
   ]
  },
  {
   "cell_type": "code",
   "execution_count": null,
   "metadata": {},
   "outputs": [],
   "source": [
    "log_mod_total = glm(Y~factor(funding_indicator)+factor(s_Citizenship)+\n",
    "                avs_net_cost+s_SAPC1+s_SAPC3+GPA_trend+s_start_year+factor(s_College)+avs_net_cost:factor(s_College)+\n",
    "                factor(s_College):factor(s_Citizenship)+factor(s_College):s_SAPC1+factor(s_College):s_SAPC3+\n",
    "                factor(s_College):factor(funding_indicator)+factor(s_College):GPA_trend+s_start_year:factor(s_College),\n",
    "                data=df,family=\"binomial\")\n",
    "summary(log_mod_total)"
   ]
  },
  {
   "cell_type": "markdown",
   "metadata": {},
   "source": [
    "<b> Significant Variables of logistic regression model:"
   ]
  },
  {
   "cell_type": "code",
   "execution_count": null,
   "metadata": {},
   "outputs": [],
   "source": [
    "round(summary(log_mod_total)$coeff[which(summary(log_mod_total)$coef[,4] <= .05),c(1,4)],5)"
   ]
  },
  {
   "cell_type": "markdown",
   "metadata": {},
   "source": [
    "<b> Both AIC:"
   ]
  },
  {
   "cell_type": "code",
   "execution_count": null,
   "metadata": {},
   "outputs": [],
   "source": [
    "log_mod_total_aic= stepAIC(log_mod_total, direction = 'both')"
   ]
  },
  {
   "cell_type": "markdown",
   "metadata": {},
   "source": [
    "<b> Significant variables both AIC selects:"
   ]
  },
  {
   "cell_type": "code",
   "execution_count": null,
   "metadata": {},
   "outputs": [],
   "source": [
    "round(summary(log_mod_total_aic)$coeff[which(summary(log_mod_total_aic)$coef[,4] <= .05),c(1,4)],5)"
   ]
  },
  {
   "cell_type": "markdown",
   "metadata": {},
   "source": [
    "<b> Both BIC:"
   ]
  },
  {
   "cell_type": "code",
   "execution_count": null,
   "metadata": {},
   "outputs": [],
   "source": [
    "log_mod_total_bic = stepAIC(log_mod_total, direction = \"both\", k = log(e_n))"
   ]
  },
  {
   "cell_type": "markdown",
   "metadata": {},
   "source": [
    "<b>Significant variables both BIC selects:"
   ]
  },
  {
   "cell_type": "code",
   "execution_count": null,
   "metadata": {},
   "outputs": [],
   "source": [
    "round(summary(log_mod_total_bic)$coeff[which(summary(log_mod_total_bic)$coef[,4] <= .05),c(1,4)],5)"
   ]
  },
  {
   "cell_type": "markdown",
   "metadata": {},
   "source": [
    "<b>After analysis the interaction term:"
   ]
  },
  {
   "cell_type": "markdown",
   "metadata": {},
   "source": [
    "<b> Logistic regression model:"
   ]
  },
  {
   "cell_type": "code",
   "execution_count": null,
   "metadata": {},
   "outputs": [],
   "source": [
    "df <- within(df, s_College <- relevel(s_College, ref = \"GD Harpur\"))"
   ]
  },
  {
   "cell_type": "code",
   "execution_count": null,
   "metadata": {},
   "outputs": [],
   "source": [
    "log_mod_total = glm(Y~factor(funding_indicator)+factor(s_Citizenship)+\n",
    "                avs_net_cost+s_SAPC1+s_SAPC3+GPA_trend+s_start_year+factor(s_College)+avs_net_cost:factor(s_College)+\n",
    "                factor(s_College):factor(s_Citizenship)+factor(s_College):s_SAPC1+factor(s_College):s_SAPC3+\n",
    "                factor(s_College):factor(funding_indicator)+factor(s_College):GPA_trend+s_start_year:factor(s_College),\n",
    "                data=df,family=\"binomial\")\n",
    "summary(log_mod_total)"
   ]
  },
  {
   "cell_type": "markdown",
   "metadata": {},
   "source": [
    "<b> Significant Variables of logistic regression model:"
   ]
  },
  {
   "cell_type": "code",
   "execution_count": null,
   "metadata": {
    "scrolled": true
   },
   "outputs": [],
   "source": [
    "round(summary(log_mod_total)$coeff[which(summary(log_mod_total)$coef[,4] <= .05),c(1,4)],5)"
   ]
  },
  {
   "cell_type": "markdown",
   "metadata": {},
   "source": [
    "<b> Both AIC:"
   ]
  },
  {
   "cell_type": "code",
   "execution_count": null,
   "metadata": {},
   "outputs": [],
   "source": [
    "log_mod_total_aic= stepAIC(log_mod_total, direction = 'both')"
   ]
  },
  {
   "cell_type": "markdown",
   "metadata": {},
   "source": [
    "<b> Significant variables both AIC selects:"
   ]
  },
  {
   "cell_type": "code",
   "execution_count": null,
   "metadata": {},
   "outputs": [],
   "source": [
    "round(summary(log_mod_total_aic)$coeff[which(summary(log_mod_total_aic)$coef[,4] <= .05),c(1,4)],5)"
   ]
  },
  {
   "cell_type": "markdown",
   "metadata": {},
   "source": [
    "<b>Both BIC"
   ]
  },
  {
   "cell_type": "code",
   "execution_count": null,
   "metadata": {},
   "outputs": [],
   "source": [
    "log_mod_total_bic = stepAIC(log_mod_total, direction = \"both\", k = log(e_n))"
   ]
  },
  {
   "cell_type": "markdown",
   "metadata": {},
   "source": [
    "<b>Significant variables both BIC selects:"
   ]
  },
  {
   "cell_type": "code",
   "execution_count": null,
   "metadata": {},
   "outputs": [],
   "source": [
    "round(summary(log_mod_total_bic)$coeff[which(summary(log_mod_total_bic)$coef[,4] <= .05),c(1,4)],5)"
   ]
  },
  {
   "cell_type": "markdown",
   "metadata": {},
   "source": [
    "# Prediction"
   ]
  },
  {
   "cell_type": "code",
   "execution_count": 69,
   "metadata": {
    "scrolled": true
   },
   "outputs": [
    {
     "data": {
      "text/html": [
       "<ol class=list-inline>\n",
       "\t<li>'X1st_Term_Funding'</li>\n",
       "\t<li>'X2nd_Term_Funding'</li>\n",
       "\t<li>'X3rd_Term_Funding'</li>\n",
       "\t<li>'X4th_Term_Funding'</li>\n",
       "\t<li>'Start_year'</li>\n",
       "\t<li>'Start_age'</li>\n",
       "\t<li>'College'</li>\n",
       "\t<li>'Age'</li>\n",
       "\t<li>'Degree'</li>\n",
       "\t<li>'Gender'</li>\n",
       "\t<li>'funding_indicator'</li>\n",
       "\t<li>'ID'</li>\n",
       "\t<li>'Citizenship'</li>\n",
       "\t<li>'Major_id'</li>\n",
       "\t<li>'Major'</li>\n",
       "\t<li>'net_cost'</li>\n",
       "\t<li>'Program'</li>\n",
       "\t<li>'Prep.Level'</li>\n",
       "\t<li>'Total.Charges'</li>\n",
       "\t<li>'Total.Funding.Amount'</li>\n",
       "\t<li>'Y'</li>\n",
       "\t<li>'Term.1.GPA'</li>\n",
       "\t<li>'Term.2.GPA'</li>\n",
       "\t<li>'Term.3.GPA'</li>\n",
       "\t<li>'Term.4.GPA'</li>\n",
       "\t<li>'Term.5.GPA'</li>\n",
       "\t<li>'Term.6.GPA'</li>\n",
       "\t<li>'Term.7.GPA'</li>\n",
       "\t<li>'Term.8.GPA'</li>\n",
       "\t<li>'gap_indicator'</li>\n",
       "\t<li>'GPA_trend'</li>\n",
       "\t<li>'Valid.term'</li>\n",
       "\t<li>'Average_GPA'</li>\n",
       "\t<li>'academic_period'</li>\n",
       "\t<li>'s_College'</li>\n",
       "\t<li>'s_Citizenship'</li>\n",
       "\t<li>'Average.Precol.GPA'</li>\n",
       "\t<li>'GMAT.Score'</li>\n",
       "\t<li>'GRE.Combined.General.Write.Score'</li>\n",
       "\t<li>'GRE.Combined.Quantitative.Score'</li>\n",
       "\t<li>'GRE.Combined.General.Verbal.Score'</li>\n",
       "\t<li>'s_start_age'</li>\n",
       "\t<li>'s_net_cost'</li>\n",
       "\t<li>'s_start_year'</li>\n",
       "\t<li>'avs_net_cost'</li>\n",
       "\t<li>'s_Average.Precol.GPA'</li>\n",
       "\t<li>'s_GRE.Combined.General.Write.Score'</li>\n",
       "\t<li>'s_GRE.Combined.Quantitative.Score'</li>\n",
       "\t<li>'s_GRE.Combined.General.Verbal.Score'</li>\n",
       "</ol>\n"
      ],
      "text/latex": [
       "\\begin{enumerate*}\n",
       "\\item 'X1st\\_Term\\_Funding'\n",
       "\\item 'X2nd\\_Term\\_Funding'\n",
       "\\item 'X3rd\\_Term\\_Funding'\n",
       "\\item 'X4th\\_Term\\_Funding'\n",
       "\\item 'Start\\_year'\n",
       "\\item 'Start\\_age'\n",
       "\\item 'College'\n",
       "\\item 'Age'\n",
       "\\item 'Degree'\n",
       "\\item 'Gender'\n",
       "\\item 'funding\\_indicator'\n",
       "\\item 'ID'\n",
       "\\item 'Citizenship'\n",
       "\\item 'Major\\_id'\n",
       "\\item 'Major'\n",
       "\\item 'net\\_cost'\n",
       "\\item 'Program'\n",
       "\\item 'Prep.Level'\n",
       "\\item 'Total.Charges'\n",
       "\\item 'Total.Funding.Amount'\n",
       "\\item 'Y'\n",
       "\\item 'Term.1.GPA'\n",
       "\\item 'Term.2.GPA'\n",
       "\\item 'Term.3.GPA'\n",
       "\\item 'Term.4.GPA'\n",
       "\\item 'Term.5.GPA'\n",
       "\\item 'Term.6.GPA'\n",
       "\\item 'Term.7.GPA'\n",
       "\\item 'Term.8.GPA'\n",
       "\\item 'gap\\_indicator'\n",
       "\\item 'GPA\\_trend'\n",
       "\\item 'Valid.term'\n",
       "\\item 'Average\\_GPA'\n",
       "\\item 'academic\\_period'\n",
       "\\item 's\\_College'\n",
       "\\item 's\\_Citizenship'\n",
       "\\item 'Average.Precol.GPA'\n",
       "\\item 'GMAT.Score'\n",
       "\\item 'GRE.Combined.General.Write.Score'\n",
       "\\item 'GRE.Combined.Quantitative.Score'\n",
       "\\item 'GRE.Combined.General.Verbal.Score'\n",
       "\\item 's\\_start\\_age'\n",
       "\\item 's\\_net\\_cost'\n",
       "\\item 's\\_start\\_year'\n",
       "\\item 'avs\\_net\\_cost'\n",
       "\\item 's\\_Average.Precol.GPA'\n",
       "\\item 's\\_GRE.Combined.General.Write.Score'\n",
       "\\item 's\\_GRE.Combined.Quantitative.Score'\n",
       "\\item 's\\_GRE.Combined.General.Verbal.Score'\n",
       "\\end{enumerate*}\n"
      ],
      "text/markdown": [
       "1. 'X1st_Term_Funding'\n",
       "2. 'X2nd_Term_Funding'\n",
       "3. 'X3rd_Term_Funding'\n",
       "4. 'X4th_Term_Funding'\n",
       "5. 'Start_year'\n",
       "6. 'Start_age'\n",
       "7. 'College'\n",
       "8. 'Age'\n",
       "9. 'Degree'\n",
       "10. 'Gender'\n",
       "11. 'funding_indicator'\n",
       "12. 'ID'\n",
       "13. 'Citizenship'\n",
       "14. 'Major_id'\n",
       "15. 'Major'\n",
       "16. 'net_cost'\n",
       "17. 'Program'\n",
       "18. 'Prep.Level'\n",
       "19. 'Total.Charges'\n",
       "20. 'Total.Funding.Amount'\n",
       "21. 'Y'\n",
       "22. 'Term.1.GPA'\n",
       "23. 'Term.2.GPA'\n",
       "24. 'Term.3.GPA'\n",
       "25. 'Term.4.GPA'\n",
       "26. 'Term.5.GPA'\n",
       "27. 'Term.6.GPA'\n",
       "28. 'Term.7.GPA'\n",
       "29. 'Term.8.GPA'\n",
       "30. 'gap_indicator'\n",
       "31. 'GPA_trend'\n",
       "32. 'Valid.term'\n",
       "33. 'Average_GPA'\n",
       "34. 'academic_period'\n",
       "35. 's_College'\n",
       "36. 's_Citizenship'\n",
       "37. 'Average.Precol.GPA'\n",
       "38. 'GMAT.Score'\n",
       "39. 'GRE.Combined.General.Write.Score'\n",
       "40. 'GRE.Combined.Quantitative.Score'\n",
       "41. 'GRE.Combined.General.Verbal.Score'\n",
       "42. 's_start_age'\n",
       "43. 's_net_cost'\n",
       "44. 's_start_year'\n",
       "45. 'avs_net_cost'\n",
       "46. 's_Average.Precol.GPA'\n",
       "47. 's_GRE.Combined.General.Write.Score'\n",
       "48. 's_GRE.Combined.Quantitative.Score'\n",
       "49. 's_GRE.Combined.General.Verbal.Score'\n",
       "\n",
       "\n"
      ],
      "text/plain": [
       " [1] \"X1st_Term_Funding\"                   \"X2nd_Term_Funding\"                  \n",
       " [3] \"X3rd_Term_Funding\"                   \"X4th_Term_Funding\"                  \n",
       " [5] \"Start_year\"                          \"Start_age\"                          \n",
       " [7] \"College\"                             \"Age\"                                \n",
       " [9] \"Degree\"                              \"Gender\"                             \n",
       "[11] \"funding_indicator\"                   \"ID\"                                 \n",
       "[13] \"Citizenship\"                         \"Major_id\"                           \n",
       "[15] \"Major\"                               \"net_cost\"                           \n",
       "[17] \"Program\"                             \"Prep.Level\"                         \n",
       "[19] \"Total.Charges\"                       \"Total.Funding.Amount\"               \n",
       "[21] \"Y\"                                   \"Term.1.GPA\"                         \n",
       "[23] \"Term.2.GPA\"                          \"Term.3.GPA\"                         \n",
       "[25] \"Term.4.GPA\"                          \"Term.5.GPA\"                         \n",
       "[27] \"Term.6.GPA\"                          \"Term.7.GPA\"                         \n",
       "[29] \"Term.8.GPA\"                          \"gap_indicator\"                      \n",
       "[31] \"GPA_trend\"                           \"Valid.term\"                         \n",
       "[33] \"Average_GPA\"                         \"academic_period\"                    \n",
       "[35] \"s_College\"                           \"s_Citizenship\"                      \n",
       "[37] \"Average.Precol.GPA\"                  \"GMAT.Score\"                         \n",
       "[39] \"GRE.Combined.General.Write.Score\"    \"GRE.Combined.Quantitative.Score\"    \n",
       "[41] \"GRE.Combined.General.Verbal.Score\"   \"s_start_age\"                        \n",
       "[43] \"s_net_cost\"                          \"s_start_year\"                       \n",
       "[45] \"avs_net_cost\"                        \"s_Average.Precol.GPA\"               \n",
       "[47] \"s_GRE.Combined.General.Write.Score\"  \"s_GRE.Combined.Quantitative.Score\"  \n",
       "[49] \"s_GRE.Combined.General.Verbal.Score\""
      ]
     },
     "metadata": {},
     "output_type": "display_data"
    }
   ],
   "source": [
    "colnames(df)"
   ]
  },
  {
   "cell_type": "code",
   "execution_count": 70,
   "metadata": {},
   "outputs": [
    {
     "data": {
      "text/html": [
       "<ol class=list-inline>\n",
       "\t<li>'Start_year'</li>\n",
       "\t<li>'Start_age'</li>\n",
       "\t<li>'ID'</li>\n",
       "\t<li>'Citizenship'</li>\n",
       "\t<li>'Major_id'</li>\n",
       "\t<li>'net_cost'</li>\n",
       "\t<li>'Prep.Level'</li>\n",
       "\t<li>'Total.Charges'</li>\n",
       "\t<li>'Total.Funding.Amount'</li>\n",
       "\t<li>'Term.4.GPA'</li>\n",
       "\t<li>'Term.5.GPA'</li>\n",
       "\t<li>'Term.6.GPA'</li>\n",
       "\t<li>'Term.7.GPA'</li>\n",
       "\t<li>'Term.8.GPA'</li>\n",
       "\t<li>'gap_indicator'</li>\n",
       "\t<li>'GPA_trend'</li>\n",
       "\t<li>'Valid.term'</li>\n",
       "</ol>\n"
      ],
      "text/latex": [
       "\\begin{enumerate*}\n",
       "\\item 'Start\\_year'\n",
       "\\item 'Start\\_age'\n",
       "\\item 'ID'\n",
       "\\item 'Citizenship'\n",
       "\\item 'Major\\_id'\n",
       "\\item 'net\\_cost'\n",
       "\\item 'Prep.Level'\n",
       "\\item 'Total.Charges'\n",
       "\\item 'Total.Funding.Amount'\n",
       "\\item 'Term.4.GPA'\n",
       "\\item 'Term.5.GPA'\n",
       "\\item 'Term.6.GPA'\n",
       "\\item 'Term.7.GPA'\n",
       "\\item 'Term.8.GPA'\n",
       "\\item 'gap\\_indicator'\n",
       "\\item 'GPA\\_trend'\n",
       "\\item 'Valid.term'\n",
       "\\end{enumerate*}\n"
      ],
      "text/markdown": [
       "1. 'Start_year'\n",
       "2. 'Start_age'\n",
       "3. 'ID'\n",
       "4. 'Citizenship'\n",
       "5. 'Major_id'\n",
       "6. 'net_cost'\n",
       "7. 'Prep.Level'\n",
       "8. 'Total.Charges'\n",
       "9. 'Total.Funding.Amount'\n",
       "10. 'Term.4.GPA'\n",
       "11. 'Term.5.GPA'\n",
       "12. 'Term.6.GPA'\n",
       "13. 'Term.7.GPA'\n",
       "14. 'Term.8.GPA'\n",
       "15. 'gap_indicator'\n",
       "16. 'GPA_trend'\n",
       "17. 'Valid.term'\n",
       "\n",
       "\n"
      ],
      "text/plain": [
       " [1] \"Start_year\"           \"Start_age\"            \"ID\"                  \n",
       " [4] \"Citizenship\"          \"Major_id\"             \"net_cost\"            \n",
       " [7] \"Prep.Level\"           \"Total.Charges\"        \"Total.Funding.Amount\"\n",
       "[10] \"Term.4.GPA\"           \"Term.5.GPA\"           \"Term.6.GPA\"          \n",
       "[13] \"Term.7.GPA\"           \"Term.8.GPA\"           \"gap_indicator\"       \n",
       "[16] \"GPA_trend\"            \"Valid.term\"          "
      ]
     },
     "metadata": {},
     "output_type": "display_data"
    }
   ],
   "source": [
    "column_to_keep = which(colnames(df)=='','')"
   ]
  },
  {
   "cell_type": "code",
   "execution_count": 71,
   "metadata": {},
   "outputs": [
    {
     "data": {
      "text/html": [
       "<ol class=list-inline>\n",
       "\t<li>'X1st_Term_Funding'</li>\n",
       "\t<li>'X2nd_Term_Funding'</li>\n",
       "\t<li>'X3rd_Term_Funding'</li>\n",
       "\t<li>'X4th_Term_Funding'</li>\n",
       "\t<li>'College'</li>\n",
       "\t<li>'Age'</li>\n",
       "\t<li>'Degree'</li>\n",
       "\t<li>'Gender'</li>\n",
       "\t<li>'funding_indicator'</li>\n",
       "\t<li>'Major'</li>\n",
       "\t<li>'Program'</li>\n",
       "\t<li>'Y'</li>\n",
       "\t<li>'Term.1.GPA'</li>\n",
       "\t<li>'Term.2.GPA'</li>\n",
       "\t<li>'Term.3.GPA'</li>\n",
       "\t<li>'Average_GPA'</li>\n",
       "\t<li>'academic_period'</li>\n",
       "\t<li>'s_College'</li>\n",
       "\t<li>'s_Citizenship'</li>\n",
       "\t<li>'Average.Precol.GPA'</li>\n",
       "\t<li>'GMAT.Score'</li>\n",
       "\t<li>'GRE.Combined.General.Write.Score'</li>\n",
       "\t<li>'GRE.Combined.Quantitative.Score'</li>\n",
       "\t<li>'GRE.Combined.General.Verbal.Score'</li>\n",
       "\t<li>'s_start_age'</li>\n",
       "\t<li>'s_net_cost'</li>\n",
       "\t<li>'s_start_year'</li>\n",
       "\t<li>'avs_net_cost'</li>\n",
       "\t<li>'s_Average.Precol.GPA'</li>\n",
       "\t<li>'s_GRE.Combined.General.Write.Score'</li>\n",
       "\t<li>'s_GRE.Combined.Quantitative.Score'</li>\n",
       "\t<li>'s_GRE.Combined.General.Verbal.Score'</li>\n",
       "</ol>\n"
      ],
      "text/latex": [
       "\\begin{enumerate*}\n",
       "\\item 'X1st\\_Term\\_Funding'\n",
       "\\item 'X2nd\\_Term\\_Funding'\n",
       "\\item 'X3rd\\_Term\\_Funding'\n",
       "\\item 'X4th\\_Term\\_Funding'\n",
       "\\item 'College'\n",
       "\\item 'Age'\n",
       "\\item 'Degree'\n",
       "\\item 'Gender'\n",
       "\\item 'funding\\_indicator'\n",
       "\\item 'Major'\n",
       "\\item 'Program'\n",
       "\\item 'Y'\n",
       "\\item 'Term.1.GPA'\n",
       "\\item 'Term.2.GPA'\n",
       "\\item 'Term.3.GPA'\n",
       "\\item 'Average\\_GPA'\n",
       "\\item 'academic\\_period'\n",
       "\\item 's\\_College'\n",
       "\\item 's\\_Citizenship'\n",
       "\\item 'Average.Precol.GPA'\n",
       "\\item 'GMAT.Score'\n",
       "\\item 'GRE.Combined.General.Write.Score'\n",
       "\\item 'GRE.Combined.Quantitative.Score'\n",
       "\\item 'GRE.Combined.General.Verbal.Score'\n",
       "\\item 's\\_start\\_age'\n",
       "\\item 's\\_net\\_cost'\n",
       "\\item 's\\_start\\_year'\n",
       "\\item 'avs\\_net\\_cost'\n",
       "\\item 's\\_Average.Precol.GPA'\n",
       "\\item 's\\_GRE.Combined.General.Write.Score'\n",
       "\\item 's\\_GRE.Combined.Quantitative.Score'\n",
       "\\item 's\\_GRE.Combined.General.Verbal.Score'\n",
       "\\end{enumerate*}\n"
      ],
      "text/markdown": [
       "1. 'X1st_Term_Funding'\n",
       "2. 'X2nd_Term_Funding'\n",
       "3. 'X3rd_Term_Funding'\n",
       "4. 'X4th_Term_Funding'\n",
       "5. 'College'\n",
       "6. 'Age'\n",
       "7. 'Degree'\n",
       "8. 'Gender'\n",
       "9. 'funding_indicator'\n",
       "10. 'Major'\n",
       "11. 'Program'\n",
       "12. 'Y'\n",
       "13. 'Term.1.GPA'\n",
       "14. 'Term.2.GPA'\n",
       "15. 'Term.3.GPA'\n",
       "16. 'Average_GPA'\n",
       "17. 'academic_period'\n",
       "18. 's_College'\n",
       "19. 's_Citizenship'\n",
       "20. 'Average.Precol.GPA'\n",
       "21. 'GMAT.Score'\n",
       "22. 'GRE.Combined.General.Write.Score'\n",
       "23. 'GRE.Combined.Quantitative.Score'\n",
       "24. 'GRE.Combined.General.Verbal.Score'\n",
       "25. 's_start_age'\n",
       "26. 's_net_cost'\n",
       "27. 's_start_year'\n",
       "28. 'avs_net_cost'\n",
       "29. 's_Average.Precol.GPA'\n",
       "30. 's_GRE.Combined.General.Write.Score'\n",
       "31. 's_GRE.Combined.Quantitative.Score'\n",
       "32. 's_GRE.Combined.General.Verbal.Score'\n",
       "\n",
       "\n"
      ],
      "text/plain": [
       " [1] \"X1st_Term_Funding\"                   \"X2nd_Term_Funding\"                  \n",
       " [3] \"X3rd_Term_Funding\"                   \"X4th_Term_Funding\"                  \n",
       " [5] \"College\"                             \"Age\"                                \n",
       " [7] \"Degree\"                              \"Gender\"                             \n",
       " [9] \"funding_indicator\"                   \"Major\"                              \n",
       "[11] \"Program\"                             \"Y\"                                  \n",
       "[13] \"Term.1.GPA\"                          \"Term.2.GPA\"                         \n",
       "[15] \"Term.3.GPA\"                          \"Average_GPA\"                        \n",
       "[17] \"academic_period\"                     \"s_College\"                          \n",
       "[19] \"s_Citizenship\"                       \"Average.Precol.GPA\"                 \n",
       "[21] \"GMAT.Score\"                          \"GRE.Combined.General.Write.Score\"   \n",
       "[23] \"GRE.Combined.Quantitative.Score\"     \"GRE.Combined.General.Verbal.Score\"  \n",
       "[25] \"s_start_age\"                         \"s_net_cost\"                         \n",
       "[27] \"s_start_year\"                        \"avs_net_cost\"                       \n",
       "[29] \"s_Average.Precol.GPA\"                \"s_GRE.Combined.General.Write.Score\" \n",
       "[31] \"s_GRE.Combined.Quantitative.Score\"   \"s_GRE.Combined.General.Verbal.Score\""
      ]
     },
     "metadata": {},
     "output_type": "display_data"
    }
   ],
   "source": [
    "df = df[,-c(5,6,12,13,14,16,18,19,20,25:32)]\n",
    "colnames(df)"
   ]
  },
  {
   "cell_type": "code",
   "execution_count": 72,
   "metadata": {},
   "outputs": [
    {
     "data": {
      "text/html": [
       "<ol class=list-inline>\n",
       "\t<li>1235</li>\n",
       "\t<li>32</li>\n",
       "</ol>\n"
      ],
      "text/latex": [
       "\\begin{enumerate*}\n",
       "\\item 1235\n",
       "\\item 32\n",
       "\\end{enumerate*}\n"
      ],
      "text/markdown": [
       "1. 1235\n",
       "2. 32\n",
       "\n",
       "\n"
      ],
      "text/plain": [
       "[1] 1235   32"
      ]
     },
     "metadata": {},
     "output_type": "display_data"
    },
    {
     "data": {
      "text/html": [
       "<ol class=list-inline>\n",
       "\t<li>617</li>\n",
       "\t<li>32</li>\n",
       "</ol>\n"
      ],
      "text/latex": [
       "\\begin{enumerate*}\n",
       "\\item 617\n",
       "\\item 32\n",
       "\\end{enumerate*}\n"
      ],
      "text/markdown": [
       "1. 617\n",
       "2. 32\n",
       "\n",
       "\n"
      ],
      "text/plain": [
       "[1] 617  32"
      ]
     },
     "metadata": {},
     "output_type": "display_data"
    }
   ],
   "source": [
    "set.seed(123)\n",
    "s1 = sample(nrow(df),0.5*nrow(df))\n",
    "train = df[s1,]\n",
    "non_train = df[-s1,]\n",
    "s2 = sample(nrow(non_train),0.5*nrow(non_train))\n",
    "test = non_train[s2,]\n",
    "vld = non_train[-s2,]\n",
    "\n",
    "train_y=train[,12]\n",
    "train_x=train[,-12]\n",
    "test_y=test[,12]\n",
    "test_x=test[,-12]\n",
    "dim(train)\n",
    "dim(test)"
   ]
  },
  {
   "cell_type": "markdown",
   "metadata": {},
   "source": [
    "## LDA"
   ]
  },
  {
   "cell_type": "code",
   "execution_count": 73,
   "metadata": {},
   "outputs": [
    {
     "ename": "ERROR",
     "evalue": "Error in eval(predvars, data, env): object 'PC1' not found\n",
     "output_type": "error",
     "traceback": [
      "Error in eval(predvars, data, env): object 'PC1' not found\nTraceback:\n",
      "1. lda(Y ~ s_start_age + factor(Gender) + factor(funding_indicator) + \n .     avs_net_cost + PC1 + PC2 + PC3 + factor(gap_indicator) + \n .     GPA_trend + s_start_year + Valid.term + Average_GPA + academic_period + \n .     College + Age, data = as.data.frame(train))",
      "2. lda.formula(Y ~ s_start_age + factor(Gender) + factor(funding_indicator) + \n .     avs_net_cost + PC1 + PC2 + PC3 + factor(gap_indicator) + \n .     GPA_trend + s_start_year + Valid.term + Average_GPA + academic_period + \n .     College + Age, data = as.data.frame(train))",
      "3. eval.parent(m)",
      "4. eval(expr, p)",
      "5. eval(expr, p)",
      "6. stats::model.frame(formula = Y ~ s_start_age + factor(Gender) + \n .     factor(funding_indicator) + avs_net_cost + PC1 + PC2 + PC3 + \n .     factor(gap_indicator) + GPA_trend + s_start_year + Valid.term + \n .     Average_GPA + academic_period + College + Age, data = as.data.frame(train))",
      "7. model.frame.default(formula = Y ~ s_start_age + factor(Gender) + \n .     factor(funding_indicator) + avs_net_cost + PC1 + PC2 + PC3 + \n .     factor(gap_indicator) + GPA_trend + s_start_year + Valid.term + \n .     Average_GPA + academic_period + College + Age, data = as.data.frame(train))",
      "8. eval(predvars, data, env)",
      "9. eval(predvars, data, env)"
     ]
    }
   ],
   "source": [
    "mod_lda = lda(Y~s_start_age+factor(Gender)+factor(funding_indicator)+\n",
    "                avs_net_cost+PC1+PC2+PC3+factor(gap_indicator)+GPA_trend+s_start_year\n",
    "                + Valid.term + Average_GPA + academic_period + College + Age,\n",
    "              data = as.data.frame(train))\n",
    "lda_pred = predict(mod_lda, newdata = test)"
   ]
  },
  {
   "cell_type": "code",
   "execution_count": null,
   "metadata": {},
   "outputs": [],
   "source": [
    "(lda_acc = round(sum(lda_pred$class == test$Y)/length(lda_pred$class),4))"
   ]
  },
  {
   "cell_type": "markdown",
   "metadata": {},
   "source": [
    "## Neural Network"
   ]
  },
  {
   "cell_type": "code",
   "execution_count": null,
   "metadata": {},
   "outputs": [],
   "source": [
    "nnet_vld = NULL\n",
    "for (i in seq(1,20,1)){\n",
    "    mod_nnet = nnet(Y~s_start_age+factor(Gender)+factor(funding_indicator)+\n",
    "                avs_net_cost+PC1+PC2+PC3+factor(gap_indicator)+GPA_trend+Average_GPA+Valid.term,\n",
    "                data = train, size  = i,trace = FALSE, decay =.1, rang = 0, maxit = 250)\n",
    "    nn_pred = predict(mod_nnet, newdata = vld)\n",
    "    nn_pred = as.numeric(nn_pred>=.5)\n",
    "    nnet_vld = c(nnet_vld, sum(nn_pred == vld$Y)/length(nn_pred))\n",
    "}\n",
    "(tr_size = which.max(nnet_vld))"
   ]
  },
  {
   "cell_type": "code",
   "execution_count": null,
   "metadata": {},
   "outputs": [],
   "source": [
    "mod_nnet = nnet(Y~s_start_age+factor(Gender)+factor(funding_indicator)+\n",
    "                avs_net_cost+PC1+PC2+PC3+factor(gap_indicator)+GPA_trend+Average_GPA+Valid.term,\n",
    "                data = train, size  = tr_size,trace = FALSE, decay =.1, rang = 0, maxit = 250)\n",
    "nn_pred = as.numeric(predict(mod_nnet, newdata = test)>= .5)"
   ]
  },
  {
   "cell_type": "code",
   "execution_count": null,
   "metadata": {},
   "outputs": [],
   "source": [
    "(nnet_acc = round(sum(nn_pred == test$Y)/length(nn_pred),4))"
   ]
  },
  {
   "cell_type": "markdown",
   "metadata": {},
   "source": [
    "## Generalized Linear Model"
   ]
  },
  {
   "cell_type": "code",
   "execution_count": null,
   "metadata": {},
   "outputs": [],
   "source": [
    "mod_glm = glm(Y~s_start_age+factor(Gender)+factor(funding_indicator)+\n",
    "                avs_net_cost+PC1+PC2+PC3+factor(gap_indicator)+GPA_trend+s_start_year\n",
    "                +Average_GPA + academic_period + College,\n",
    "                data = train,\n",
    "                family=binomial())\n",
    "glm_pred = as.numeric(predict(mod_glm, newdata = test, type=\"response\") >= .5)"
   ]
  },
  {
   "cell_type": "code",
   "execution_count": null,
   "metadata": {
    "scrolled": true
   },
   "outputs": [],
   "source": [
    "(glm_acc = round(sum(glm_pred == test$Y)/length(glm_pred),4))"
   ]
  },
  {
   "cell_type": "markdown",
   "metadata": {},
   "source": [
    "## SVM"
   ]
  },
  {
   "cell_type": "code",
   "execution_count": null,
   "metadata": {},
   "outputs": [],
   "source": [
    "mod_svm = svm(Y~s_start_age+factor(Gender)+factor(funding_indicator)+\n",
    "                avs_net_cost+PC1+PC2+PC3+factor(gap_indicator)+GPA_trend+s_start_year\n",
    "                +Average_GPA + academic_period + College,\n",
    "                data = train,\n",
    "                family=binomial())\n",
    "svm_pred = as.numeric(predict(mod_svm, newdata = test, type=\"response\") >= .5)"
   ]
  },
  {
   "cell_type": "code",
   "execution_count": null,
   "metadata": {},
   "outputs": [],
   "source": [
    "(svm_acc = round(sum(svm_pred == test$Y)/length(svm_pred),4))"
   ]
  },
  {
   "cell_type": "markdown",
   "metadata": {},
   "source": [
    "## LASSO"
   ]
  },
  {
   "cell_type": "code",
   "execution_count": null,
   "metadata": {},
   "outputs": [],
   "source": [
    "train_x = model.matrix(~s_start_age+factor(Gender)+factor(funding_indicator)+\n",
    "                avs_net_cost+PC1+PC2+PC3+factor(gap_indicator)+GPA_trend+s_start_year\n",
    "                +Average_GPA + academic_period + College,\n",
    "                data = train_x)\n",
    "test_x = model.matrix(~s_start_age+factor(Gender)+factor(funding_indicator)+\n",
    "                avs_net_cost+PC1+PC2+PC3+factor(gap_indicator)+GPA_trend+s_start_year\n",
    "                +Average_GPA + academic_period + College,\n",
    "                data = test_x)"
   ]
  },
  {
   "cell_type": "code",
   "execution_count": null,
   "metadata": {
    "scrolled": false
   },
   "outputs": [],
   "source": [
    "cvfit = cv.glmnet(train_x,train_y,alpha=1,family='binomial',type.measure='mse')\n",
    "mod_lasso = glmnet(train_x,train_y,alpha=1, family = \"binomial\",lambda = cvfit$lambda)\n",
    "plot(cvfit)\n",
    "plot_glmnet(mod_lasso)\n",
    "mod_lasso <- glmnet(train_x,train_y,alpha=1, family = \"binomial\",lambda = cvfit$lambda.min)"
   ]
  },
  {
   "cell_type": "code",
   "execution_count": null,
   "metadata": {
    "scrolled": true
   },
   "outputs": [],
   "source": [
    "lasso_pred = predict(mod_lasso, test_x, type=\"class\")\n",
    "lasso_right = colSums(lasso_pred == test_y)\n",
    "(lasso_acc = round(max(lasso_right)/length(test_y),4))"
   ]
  },
  {
   "cell_type": "markdown",
   "metadata": {},
   "source": [
    "## Prediction Summary"
   ]
  },
  {
   "cell_type": "code",
   "execution_count": null,
   "metadata": {},
   "outputs": [],
   "source": [
    "res = data.frame(rbind(lda_acc, nnet_acc, glm_acc,svm_acc,lasso_acc))\n",
    "colnames(res) = 'Accuracy'\n",
    "rownames(res) = c('LDA', 'Neural Network', 'GLM', 'SVM', 'LASSO')\n",
    "res"
   ]
  }
 ],
 "metadata": {
  "hide_input": false,
  "kernelspec": {
   "display_name": "R",
   "language": "R",
   "name": "ir"
  },
  "language_info": {
   "codemirror_mode": "r",
   "file_extension": ".r",
   "mimetype": "text/x-r-source",
   "name": "R",
   "pygments_lexer": "r",
   "version": "3.6.1"
  },
  "latex_envs": {
   "LaTeX_envs_menu_present": true,
   "autoclose": false,
   "autocomplete": true,
   "bibliofile": "biblio.bib",
   "cite_by": "apalike",
   "current_citInitial": 1,
   "eqLabelWithNumbers": true,
   "eqNumInitial": 1,
   "hotkeys": {
    "equation": "Ctrl-E",
    "itemize": "Ctrl-I"
   },
   "labels_anchors": false,
   "latex_user_defs": false,
   "report_style_numbering": false,
   "user_envs_cfg": false
  },
  "toc": {
   "base_numbering": 1,
   "nav_menu": {},
   "number_sections": true,
   "sideBar": true,
   "skip_h1_title": false,
   "title_cell": "Table of Contents",
   "title_sidebar": "Contents",
   "toc_cell": false,
   "toc_position": {
    "height": "calc(100% - 180px)",
    "left": "10px",
    "top": "150px",
    "width": "190.139px"
   },
   "toc_section_display": true,
   "toc_window_display": true
  }
 },
 "nbformat": 4,
 "nbformat_minor": 2
}
