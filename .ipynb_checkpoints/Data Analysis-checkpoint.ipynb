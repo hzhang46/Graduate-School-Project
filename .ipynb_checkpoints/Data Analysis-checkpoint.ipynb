{
 "cells": [
  {
   "cell_type": "code",
   "execution_count": 1,
   "metadata": {},
   "outputs": [
    {
     "name": "stderr",
     "output_type": "stream",
     "text": [
      "Warning message:\n",
      "\"package 'nnet' was built under R version 3.6.3\"Warning message:\n",
      "\"package 'caret' was built under R version 3.6.3\"Loading required package: lattice\n",
      "Loading required package: ggplot2\n",
      "Warning message:\n",
      "\"package 'plotmo' was built under R version 3.6.3\"Loading required package: Formula\n",
      "Loading required package: plotrix\n",
      "Loading required package: TeachingDemos\n",
      "Warning message:\n",
      "\"package 'TeachingDemos' was built under R version 3.6.3\"Warning message:\n",
      "\"package 'faraway' was built under R version 3.6.3\"\n",
      "Attaching package: 'faraway'\n",
      "\n",
      "The following object is masked from 'package:lattice':\n",
      "\n",
      "    melanoma\n",
      "\n",
      "Loading required package: Matrix\n",
      "Loading required package: foreach\n",
      "Loaded glmnet 2.0-16\n",
      "\n",
      "Warning message:\n",
      "\"package 'e1071' was built under R version 3.6.3\"Warning message:\n",
      "\"package 'randomForest' was built under R version 3.6.3\"randomForest 4.6-14\n",
      "Type rfNews() to see new features/changes/bug fixes.\n",
      "\n",
      "Attaching package: 'randomForest'\n",
      "\n",
      "The following object is masked from 'package:ggplot2':\n",
      "\n",
      "    margin\n",
      "\n"
     ]
    }
   ],
   "source": [
    "library(MASS)\n",
    "library(nnet)\n",
    "library(caret)\n",
    "library(plotmo)\n",
    "library(readr)\n",
    "library(faraway)\n",
    "library(ggplot2)\n",
    "library(glmnet)\n",
    "library(e1071)\n",
    "library(randomForest)"
   ]
  },
  {
   "cell_type": "markdown",
   "metadata": {},
   "source": [
    "# Load Data and Final Clean"
   ]
  },
  {
   "cell_type": "code",
   "execution_count": 2,
   "metadata": {
    "scrolled": true
   },
   "outputs": [
    {
     "data": {
      "text/html": [
       "<ol class=list-inline>\n",
       "\t<li>2470</li>\n",
       "\t<li>47</li>\n",
       "</ol>\n"
      ],
      "text/latex": [
       "\\begin{enumerate*}\n",
       "\\item 2470\n",
       "\\item 47\n",
       "\\end{enumerate*}\n"
      ],
      "text/markdown": [
       "1. 2470\n",
       "2. 47\n",
       "\n",
       "\n"
      ],
      "text/plain": [
       "[1] 2470   47"
      ]
     },
     "metadata": {},
     "output_type": "display_data"
    }
   ],
   "source": [
    "df <- read.csv(file=\"cleaned_data_0330.csv\",sep=\",\",header=TRUE)\n",
    "df = df[,-1]\n",
    "dim(df)"
   ]
  },
  {
   "cell_type": "markdown",
   "metadata": {},
   "source": [
    "## Scale and center some variables:"
   ]
  },
  {
   "cell_type": "code",
   "execution_count": 3,
   "metadata": {},
   "outputs": [],
   "source": [
    "mean_age = mean(df$Start_age)\n",
    "sd_age = sd(df$Start_age)\n",
    "df$s_start_age = round((df$Start_age - mean_age)/sd_age,5)\n",
    "mean_net = mean(df$net_cost)\n",
    "sd_net = sd(df$net_cost)\n",
    "df$s_net_cost = round((df$net_cost - mean_net)/sd_net,5)\n",
    "mean_year = mean(df$Start_year)\n",
    "sd_year = sd(df$Start_year)\n",
    "df$s_start_year = round((df$Start_year - mean_year)/sd_year,5)\n",
    "av_net_cost = ifelse(df$Valid.term > 0, df$net_cost / df$Valid.term, df$net_cost)\n",
    "av_mean_net = mean(av_net_cost)\n",
    "av_sd_net = sd(av_net_cost)\n",
    "df$avs_net_cost = round((av_net_cost - av_mean_net)/av_sd_net,5)\n",
    "mean_Average.Precol.GPA = mean(df$Average.Precol.GPA)\n",
    "sd_Average.Precol.GPA = sd(df$Average.Precol.GPA)\n",
    "df$Precol.GPA = round((df$Average.Precol.GPA - mean_Average.Precol.GPA)/sd_Average.Precol.GPA,5)\n",
    "mean_GRE.Combined.General.Write.Score = mean(df$GRE.Combined.General.Write.Score)\n",
    "sd_GRE.Combined.General.Write.Score = sd(df$GRE.Combined.General.Write.Score)\n",
    "df$GRE_Write = round((df$GRE.Combined.General.Write.Score - mean_GRE.Combined.General.Write.Score)/sd_GRE.Combined.General.Write.Score,5)\n",
    "mean_GRE.Combined.Quantitative.Score = mean(df$GRE.Combined.Quantitative.Score)\n",
    "sd_GRE.Combined.Quantitative.Score = sd(df$GRE.Combined.Quantitative.Score)\n",
    "df$GRE.Quant = round((df$GRE.Combined.Quantitative.Score - mean_GRE.Combined.Quantitative.Score)/sd_GRE.Combined.Quantitative.Score,5)\n",
    "mean_GRE.Combined.General.Verbal.Score = mean(df$GRE.Combined.General.Verbal.Score)\n",
    "sd_GRE.Combined.General.Verbal.Score = sd(df$GRE.Combined.General.Verbal.Score)\n",
    "df$GRE.Verbal = round((df$GRE.Combined.General.Verbal.Score - mean_GRE.Combined.General.Verbal.Score)/sd_GRE.Combined.General.Verbal.Score,5)\n",
    "mean_GMAT.Score = mean(df$GMAT.Score)\n",
    "sd_GMAT.Score = sd(df$GMAT.Score)\n",
    "df$GMAT.Score = round((df$GMAT.Score - mean_GMAT.Score)/sd_GMAT.Score,5)\n",
    "mean_gpa = mean(df$Average_GPA)\n",
    "sd_gpa = sd(df$Average_GPA)\n",
    "df$average_gpa = round((df$Average_GPA - mean_gpa)/sd_gpa,2)"
   ]
  },
  {
   "cell_type": "code",
   "execution_count": 4,
   "metadata": {},
   "outputs": [],
   "source": [
    "# mean_SAPC1 = mean(df$SAPC1)\n",
    "# sd_SAPC1 = sd(df$SAPC1)\n",
    "# df$s_SAPC1 = (df$SAPC1 - mean_SAPC1)/sd_SAPC1\n",
    "# mean_SAPC2 = mean(df$SAPC2)\n",
    "# sd_SAPC2 = sd(df$SAPC2)\n",
    "# df$s_SAPC2 = (df$SAPC2 - mean_SAPC2)/sd_SAPC2\n",
    "# mean_SAPC3 = mean(df$SAPC3)\n",
    "# sd_SAPC3 = sd(df$SAPC3)\n",
    "# df$s_SAPC3 = (df$SAPC3 - mean_SAPC3)/sd_SAPC3"
   ]
  },
  {
   "cell_type": "markdown",
   "metadata": {},
   "source": [
    "##  Add No GRE Indicator"
   ]
  },
  {
   "cell_type": "code",
   "execution_count": 35,
   "metadata": {},
   "outputs": [],
   "source": [
    "df$has_gre = ifelse(df$GRE.Quant == 0,1,0)\n",
    "df$has_gre1 = ifelse(df$GRE.Quant == 0,0,1)"
   ]
  },
  {
   "cell_type": "markdown",
   "metadata": {},
   "source": [
    "## Seperate by School"
   ]
  },
  {
   "cell_type": "markdown",
   "metadata": {},
   "source": [
    "Different Schools"
   ]
  },
  {
   "cell_type": "code",
   "execution_count": 38,
   "metadata": {},
   "outputs": [],
   "source": [
    "schools = levels(factor(df$College))"
   ]
  },
  {
   "cell_type": "code",
   "execution_count": 39,
   "metadata": {},
   "outputs": [],
   "source": [
    "Harpur_df = df[df$College %in% schools[1:4],]\n",
    "Management_df = df[df$College==\"GD Management\",]\n",
    "Nursing_df = df[df$College==\"GD Nursing\",]\n",
    "Watson_df = df[df$College==\"GD Watson\",]"
   ]
  },
  {
   "cell_type": "code",
   "execution_count": 40,
   "metadata": {
    "scrolled": false
   },
   "outputs": [
    {
     "data": {
      "text/html": [
       "<ol class=list-inline>\n",
       "\t<li>Translation Studies</li>\n",
       "\t<li>Chemistry</li>\n",
       "\t<li>Behavioral Neuroscience</li>\n",
       "\t<li>Cognitive Psychology</li>\n",
       "\t<li>Physics</li>\n",
       "\t<li>Mathematics</li>\n",
       "\t<li>Comparative Literature</li>\n",
       "\t<li>Educational Theory and Practic</li>\n",
       "\t<li>Philosophy Interpretation and</li>\n",
       "\t<li>Biological Sciences</li>\n",
       "\t<li>English</li>\n",
       "\t<li>Materials Science and Engineer</li>\n",
       "\t<li>History</li>\n",
       "\t<li>Anthropology</li>\n",
       "\t<li>Sociology</li>\n",
       "\t<li>Material Sci and Eng-Engineerg</li>\n",
       "\t<li>Clinical Psychology</li>\n",
       "\t<li>Economics</li>\n",
       "\t<li>Geology</li>\n",
       "\t<li>Philosophy SPEL</li>\n",
       "\t<li>Political Science</li>\n",
       "\t<li>Community and Public Affairs</li>\n",
       "\t<li>Art History</li>\n",
       "\t<li>Materials Science and Engr</li>\n",
       "\t<li>Biological Sciences EEB</li>\n",
       "\t<li>X Geology</li>\n",
       "\t<li>Art History Combined MA PhD</li>\n",
       "\t<li>Mechanical Engineering</li>\n",
       "\t<li>Mathematics/Economics</li>\n",
       "</ol>\n",
       "\n",
       "<details>\n",
       "\t<summary style=display:list-item;cursor:pointer>\n",
       "\t\t<strong>Levels</strong>:\n",
       "\t</summary>\n",
       "\t<ol class=list-inline>\n",
       "\t\t<li>'Anthropology'</li>\n",
       "\t\t<li>'Art History'</li>\n",
       "\t\t<li>'Art History Combined MA PhD'</li>\n",
       "\t\t<li>'Behavioral Neuroscience'</li>\n",
       "\t\t<li>'Biological Sciences'</li>\n",
       "\t\t<li>'Biological Sciences EEB'</li>\n",
       "\t\t<li>'Biomedical Engineering'</li>\n",
       "\t\t<li>'Chemistry'</li>\n",
       "\t\t<li>'Clinical Psychology'</li>\n",
       "\t\t<li>'Cognitive Psychology'</li>\n",
       "\t\t<li>'Community and Public Affairs'</li>\n",
       "\t\t<li>'Community Health NP'</li>\n",
       "\t\t<li>'Comparative Literature'</li>\n",
       "\t\t<li>'Computer Science'</li>\n",
       "\t\t<li>'Economics'</li>\n",
       "\t\t<li>'Educational Theory and Practic'</li>\n",
       "\t\t<li>'Electrical and Computer Engr'</li>\n",
       "\t\t<li>'Electrical Engineering'</li>\n",
       "\t\t<li>'English'</li>\n",
       "\t\t<li>'Family Nurse Practitioner'</li>\n",
       "\t\t<li>'Family Psych Mental Health NP'</li>\n",
       "\t\t<li>'Geology'</li>\n",
       "\t\t<li>'History'</li>\n",
       "\t\t<li>'Industrial and Systems Enginee'</li>\n",
       "\t\t<li>'Management PHD'</li>\n",
       "\t\t<li>'Material Sci and Eng-Engineerg'</li>\n",
       "\t\t<li>'Materials Engineering'</li>\n",
       "\t\t<li>'Materials Science and Engineer'</li>\n",
       "\t\t<li>'Materials Science and Engr'</li>\n",
       "\t\t<li>'Mathematics'</li>\n",
       "\t\t<li>'Mathematics/Economics'</li>\n",
       "\t\t<li>'Mechanical Engineering'</li>\n",
       "\t\t<li>'Nursing'</li>\n",
       "\t\t<li>'Philosophy Interpretation and'</li>\n",
       "\t\t<li>'Philosophy SPEL'</li>\n",
       "\t\t<li>'Physics'</li>\n",
       "\t\t<li>'Political Science'</li>\n",
       "\t\t<li>'Sociology'</li>\n",
       "\t\t<li>'Systems Science'</li>\n",
       "\t\t<li>'Systems Science/Biomedical Engineering'</li>\n",
       "\t\t<li>'Systems Science/EE'</li>\n",
       "\t\t<li>'Translation Studies'</li>\n",
       "\t\t<li>'X Geology'</li>\n",
       "\t\t<li>'X Gerontological NP'</li>\n",
       "\t\t<li>'XGerontolog Clin Nurse Special'</li>\n",
       "\t</ol>\n",
       "</details>"
      ],
      "text/latex": [
       "\\begin{enumerate*}\n",
       "\\item Translation Studies\n",
       "\\item Chemistry\n",
       "\\item Behavioral Neuroscience\n",
       "\\item Cognitive Psychology\n",
       "\\item Physics\n",
       "\\item Mathematics\n",
       "\\item Comparative Literature\n",
       "\\item Educational Theory and Practic\n",
       "\\item Philosophy Interpretation and\n",
       "\\item Biological Sciences\n",
       "\\item English\n",
       "\\item Materials Science and Engineer\n",
       "\\item History\n",
       "\\item Anthropology\n",
       "\\item Sociology\n",
       "\\item Material Sci and Eng-Engineerg\n",
       "\\item Clinical Psychology\n",
       "\\item Economics\n",
       "\\item Geology\n",
       "\\item Philosophy SPEL\n",
       "\\item Political Science\n",
       "\\item Community and Public Affairs\n",
       "\\item Art History\n",
       "\\item Materials Science and Engr\n",
       "\\item Biological Sciences EEB\n",
       "\\item X Geology\n",
       "\\item Art History Combined MA PhD\n",
       "\\item Mechanical Engineering\n",
       "\\item Mathematics/Economics\n",
       "\\end{enumerate*}\n",
       "\n",
       "\\emph{Levels}: \\begin{enumerate*}\n",
       "\\item 'Anthropology'\n",
       "\\item 'Art History'\n",
       "\\item 'Art History Combined MA PhD'\n",
       "\\item 'Behavioral Neuroscience'\n",
       "\\item 'Biological Sciences'\n",
       "\\item 'Biological Sciences EEB'\n",
       "\\item 'Biomedical Engineering'\n",
       "\\item 'Chemistry'\n",
       "\\item 'Clinical Psychology'\n",
       "\\item 'Cognitive Psychology'\n",
       "\\item 'Community and Public Affairs'\n",
       "\\item 'Community Health NP'\n",
       "\\item 'Comparative Literature'\n",
       "\\item 'Computer Science'\n",
       "\\item 'Economics'\n",
       "\\item 'Educational Theory and Practic'\n",
       "\\item 'Electrical and Computer Engr'\n",
       "\\item 'Electrical Engineering'\n",
       "\\item 'English'\n",
       "\\item 'Family Nurse Practitioner'\n",
       "\\item 'Family Psych Mental Health NP'\n",
       "\\item 'Geology'\n",
       "\\item 'History'\n",
       "\\item 'Industrial and Systems Enginee'\n",
       "\\item 'Management PHD'\n",
       "\\item 'Material Sci and Eng-Engineerg'\n",
       "\\item 'Materials Engineering'\n",
       "\\item 'Materials Science and Engineer'\n",
       "\\item 'Materials Science and Engr'\n",
       "\\item 'Mathematics'\n",
       "\\item 'Mathematics/Economics'\n",
       "\\item 'Mechanical Engineering'\n",
       "\\item 'Nursing'\n",
       "\\item 'Philosophy Interpretation and'\n",
       "\\item 'Philosophy SPEL'\n",
       "\\item 'Physics'\n",
       "\\item 'Political Science'\n",
       "\\item 'Sociology'\n",
       "\\item 'Systems Science'\n",
       "\\item 'Systems Science/Biomedical Engineering'\n",
       "\\item 'Systems Science/EE'\n",
       "\\item 'Translation Studies'\n",
       "\\item 'X Geology'\n",
       "\\item 'X Gerontological NP'\n",
       "\\item 'XGerontolog Clin Nurse Special'\n",
       "\\end{enumerate*}\n"
      ],
      "text/markdown": [
       "1. Translation Studies\n",
       "2. Chemistry\n",
       "3. Behavioral Neuroscience\n",
       "4. Cognitive Psychology\n",
       "5. Physics\n",
       "6. Mathematics\n",
       "7. Comparative Literature\n",
       "8. Educational Theory and Practic\n",
       "9. Philosophy Interpretation and\n",
       "10. Biological Sciences\n",
       "11. English\n",
       "12. Materials Science and Engineer\n",
       "13. History\n",
       "14. Anthropology\n",
       "15. Sociology\n",
       "16. Material Sci and Eng-Engineerg\n",
       "17. Clinical Psychology\n",
       "18. Economics\n",
       "19. Geology\n",
       "20. Philosophy SPEL\n",
       "21. Political Science\n",
       "22. Community and Public Affairs\n",
       "23. Art History\n",
       "24. Materials Science and Engr\n",
       "25. Biological Sciences EEB\n",
       "26. X Geology\n",
       "27. Art History Combined MA PhD\n",
       "28. Mechanical Engineering\n",
       "29. Mathematics/Economics\n",
       "\n",
       "\n",
       "\n",
       "**Levels**: 1. 'Anthropology'\n",
       "2. 'Art History'\n",
       "3. 'Art History Combined MA PhD'\n",
       "4. 'Behavioral Neuroscience'\n",
       "5. 'Biological Sciences'\n",
       "6. 'Biological Sciences EEB'\n",
       "7. 'Biomedical Engineering'\n",
       "8. 'Chemistry'\n",
       "9. 'Clinical Psychology'\n",
       "10. 'Cognitive Psychology'\n",
       "11. 'Community and Public Affairs'\n",
       "12. 'Community Health NP'\n",
       "13. 'Comparative Literature'\n",
       "14. 'Computer Science'\n",
       "15. 'Economics'\n",
       "16. 'Educational Theory and Practic'\n",
       "17. 'Electrical and Computer Engr'\n",
       "18. 'Electrical Engineering'\n",
       "19. 'English'\n",
       "20. 'Family Nurse Practitioner'\n",
       "21. 'Family Psych Mental Health NP'\n",
       "22. 'Geology'\n",
       "23. 'History'\n",
       "24. 'Industrial and Systems Enginee'\n",
       "25. 'Management PHD'\n",
       "26. 'Material Sci and Eng-Engineerg'\n",
       "27. 'Materials Engineering'\n",
       "28. 'Materials Science and Engineer'\n",
       "29. 'Materials Science and Engr'\n",
       "30. 'Mathematics'\n",
       "31. 'Mathematics/Economics'\n",
       "32. 'Mechanical Engineering'\n",
       "33. 'Nursing'\n",
       "34. 'Philosophy Interpretation and'\n",
       "35. 'Philosophy SPEL'\n",
       "36. 'Physics'\n",
       "37. 'Political Science'\n",
       "38. 'Sociology'\n",
       "39. 'Systems Science'\n",
       "40. 'Systems Science/Biomedical Engineering'\n",
       "41. 'Systems Science/EE'\n",
       "42. 'Translation Studies'\n",
       "43. 'X Geology'\n",
       "44. 'X Gerontological NP'\n",
       "45. 'XGerontolog Clin Nurse Special'\n",
       "\n",
       "\n"
      ],
      "text/plain": [
       " [1] Translation Studies            Chemistry                     \n",
       " [3] Behavioral Neuroscience        Cognitive Psychology          \n",
       " [5] Physics                        Mathematics                   \n",
       " [7] Comparative Literature         Educational Theory and Practic\n",
       " [9] Philosophy Interpretation and  Biological Sciences           \n",
       "[11] English                        Materials Science and Engineer\n",
       "[13] History                        Anthropology                  \n",
       "[15] Sociology                      Material Sci and Eng-Engineerg\n",
       "[17] Clinical Psychology            Economics                     \n",
       "[19] Geology                        Philosophy SPEL               \n",
       "[21] Political Science              Community and Public Affairs  \n",
       "[23] Art History                    Materials Science and Engr    \n",
       "[25] Biological Sciences EEB        X Geology                     \n",
       "[27] Art History Combined MA PhD    Mechanical Engineering        \n",
       "[29] Mathematics/Economics         \n",
       "45 Levels: Anthropology Art History ... XGerontolog Clin Nurse Special"
      ]
     },
     "metadata": {},
     "output_type": "display_data"
    }
   ],
   "source": [
    "unique(Harpur_df$Major)"
   ]
  },
  {
   "cell_type": "code",
   "execution_count": 41,
   "metadata": {},
   "outputs": [],
   "source": [
    "harpur_sciences <- c(\"Chemistry\", \"Behavioral Neuroscience\",\"Cognitive Psychology\",\"Physics\",\"Mathematics\",\n",
    "                     \"Biological Sciences\",\"Materials Science and Engineer\",\"Material Sci and Eng-Engineerg\",\n",
    "                     \"Clinical Psychology\",\"Economics\",\"Geology\",\"Political Science\",\"Materials Science and Engr\",\n",
    "                     \"Biological Sciences EEB\", \"X Geology\",\"Mathematics/Economics\")\n",
    "harpur_arts <- c(\"Comparative Literature\",\"Translation Studies\",\"Educational Theory and Practic\",\n",
    "                 \"Philosophy Interpretation and\", \"English\",\"History\",\"Anthropology\",\"Sociology\",\"Philosophy SPEL\",\n",
    "                 \"Community and Public Affairs\",\"Art History\",\"Art History Combined MA PhD\")"
   ]
  },
  {
   "cell_type": "code",
   "execution_count": 42,
   "metadata": {},
   "outputs": [],
   "source": [
    "Harpur_sciences = Harpur_df[Harpur_df$Major %in% harpur_sciences,]\n",
    "Harpur_arts = Harpur_df[Harpur_df$Major %in% harpur_arts,]"
   ]
  },
  {
   "cell_type": "code",
   "execution_count": 43,
   "metadata": {},
   "outputs": [],
   "source": [
    "Harpur_sciences <- within(Harpur_sciences, Citizenship <- relevel(Citizenship, ref = \"White\"))\n",
    "Harpur_arts <- within(Harpur_arts, Citizenship <- relevel(Citizenship, ref = \"White\"))\n",
    "Management_df <- within(Management_df, Citizenship <- relevel(Citizenship, ref = \"White\"))\n",
    "Watson_df <- within(Watson_df, Citizenship <- relevel(Citizenship, ref = \"White\"))\n",
    "Nursing_df <- within(Nursing_df, Citizenship <- relevel(Citizenship, ref = \"White\"))"
   ]
  },
  {
   "cell_type": "code",
   "execution_count": 44,
   "metadata": {},
   "outputs": [
    {
     "data": {
      "text/html": [
       "861"
      ],
      "text/latex": [
       "861"
      ],
      "text/markdown": [
       "861"
      ],
      "text/plain": [
       "[1] 861"
      ]
     },
     "metadata": {},
     "output_type": "display_data"
    },
    {
     "data": {
      "text/html": [
       "918"
      ],
      "text/latex": [
       "918"
      ],
      "text/markdown": [
       "918"
      ],
      "text/plain": [
       "[1] 918"
      ]
     },
     "metadata": {},
     "output_type": "display_data"
    },
    {
     "data": {
      "text/html": [
       "1780"
      ],
      "text/latex": [
       "1780"
      ],
      "text/markdown": [
       "1780"
      ],
      "text/plain": [
       "[1] 1780"
      ]
     },
     "metadata": {},
     "output_type": "display_data"
    }
   ],
   "source": [
    "dim(Harpur_sciences)[1]\n",
    "dim(Harpur_arts)[1]\n",
    "dim(Harpur_df)[1]"
   ]
  },
  {
   "cell_type": "code",
   "execution_count": 45,
   "metadata": {
    "scrolled": false
   },
   "outputs": [
    {
     "data": {
      "text/html": [
       "<table>\n",
       "<thead><tr><th scope=col>School</th><th scope=col>Total</th><th scope=col>Successful.Graduates</th><th scope=col>Unsuccessful.Graduates</th></tr></thead>\n",
       "<tbody>\n",
       "\t<tr><td>Harpur sciences</td><td>861            </td><td>542            </td><td>319            </td></tr>\n",
       "\t<tr><td>Harpur_arts    </td><td>918            </td><td>534            </td><td>384            </td></tr>\n",
       "\t<tr><td>SOM            </td><td> 58            </td><td> 38            </td><td> 20            </td></tr>\n",
       "\t<tr><td>Nursing        </td><td>117            </td><td> 72            </td><td> 45            </td></tr>\n",
       "\t<tr><td>Watson         </td><td>515            </td><td>343            </td><td>172            </td></tr>\n",
       "</tbody>\n",
       "</table>\n"
      ],
      "text/latex": [
       "\\begin{tabular}{r|llll}\n",
       " School & Total & Successful.Graduates & Unsuccessful.Graduates\\\\\n",
       "\\hline\n",
       "\t Harpur sciences & 861             & 542             & 319            \\\\\n",
       "\t Harpur\\_arts     & 918               & 534               & 384              \\\\\n",
       "\t SOM             &  58             &  38             &  20            \\\\\n",
       "\t Nursing         & 117             &  72             &  45            \\\\\n",
       "\t Watson          & 515             & 343             & 172            \\\\\n",
       "\\end{tabular}\n"
      ],
      "text/markdown": [
       "\n",
       "| School | Total | Successful.Graduates | Unsuccessful.Graduates |\n",
       "|---|---|---|---|\n",
       "| Harpur sciences | 861             | 542             | 319             |\n",
       "| Harpur_arts     | 918             | 534             | 384             |\n",
       "| SOM             |  58             |  38             |  20             |\n",
       "| Nursing         | 117             |  72             |  45             |\n",
       "| Watson          | 515             | 343             | 172             |\n",
       "\n"
      ],
      "text/plain": [
       "  School          Total Successful.Graduates Unsuccessful.Graduates\n",
       "1 Harpur sciences 861   542                  319                   \n",
       "2 Harpur_arts     918   534                  384                   \n",
       "3 SOM              58    38                   20                   \n",
       "4 Nursing         117    72                   45                   \n",
       "5 Watson          515   343                  172                   "
      ]
     },
     "metadata": {},
     "output_type": "display_data"
    }
   ],
   "source": [
    "a_n = dim(Harpur_sciences)[1]\n",
    "a_1 = sum(Harpur_sciences$Y)\n",
    "a_0 = a_n - a_1\n",
    "b_n = dim(Harpur_arts)[1]\n",
    "b_1 = sum(Harpur_arts$Y)\n",
    "b_0 = b_n - b_1\n",
    "c_n = dim(Management_df)[1]\n",
    "c_1 = sum(Management_df$Y)\n",
    "c_0 = c_n - c_1\n",
    "d_n = dim(Nursing_df)[1]\n",
    "d_1 = sum(Nursing_df$Y)\n",
    "d_0 = d_n - d_1\n",
    "e_n = dim(Watson_df)[1]\n",
    "e_1 = sum(Watson_df$Y)\n",
    "e_0 = e_n - e_1\n",
    "School = c(\"Harpur sciences\",\"Harpur_arts\",\"SOM\",\"Nursing\",\"Watson\")\n",
    "sch_total = c(a_n,b_n,c_n,d_n,e_n)\n",
    "succ_total = c(a_1,b_1,c_1,d_1,e_1)\n",
    "unsucc_total = c(a_0,b_0,c_0,d_0,e_0)\n",
    "data.frame(\"School\"=School,\"Total\"=sch_total,\"Successful Graduates\"=succ_total,\"Unsuccessful Graduates\"=unsucc_total)"
   ]
  },
  {
   "cell_type": "code",
   "execution_count": 46,
   "metadata": {},
   "outputs": [],
   "source": [
    "Harpur_sciences$college_1 = 1\n",
    "Harpur_arts$college_1 = 2\n",
    "Management_df$college_1 = 3\n",
    "Watson_df$college_1 = 4\n",
    "Nursing_df$college_1 = 5\n",
    "df1 = rbind(Harpur_sciences, Harpur_arts, Management_df, Watson_df, Nursing_df)"
   ]
  },
  {
   "cell_type": "markdown",
   "metadata": {},
   "source": [
    "# Harpur Sciences Analysis"
   ]
  },
  {
   "cell_type": "markdown",
   "metadata": {},
   "source": [
    "Won't use Degree column since it does not accurately show the student's major"
   ]
  },
  {
   "cell_type": "markdown",
   "metadata": {},
   "source": [
    "<b> Logistic regression model:"
   ]
  },
  {
   "cell_type": "code",
   "execution_count": 56,
   "metadata": {},
   "outputs": [],
   "source": [
    "log_mod_h_s = glm(Y~s_start_age+factor(Gender)+s_start_year+factor(funding_indicator)+factor(Citizenship)+\n",
    "                avs_net_cost+Precol.GPA+ factor(gap_indicator)+GPA_trend+average_gpa+\n",
    "                +factor(has_gre)+factor(has_gre1)*GRE_Write+factor(has_gre1)*GRE.Quant+factor(has_gre1)*GRE.Verbal,\n",
    "                data=Harpur_sciences,family=\"binomial\")\n",
    "# round(summary(log_mod_h_s)$coeff[which(summary(log_mod_h_s)$coef[,4] <= .05),c(1,4)],5)"
   ]
  },
  {
   "cell_type": "markdown",
   "metadata": {},
   "source": [
    "<b> Both BIC"
   ]
  },
  {
   "cell_type": "code",
   "execution_count": 58,
   "metadata": {
    "scrolled": true
   },
   "outputs": [
    {
     "data": {
      "text/html": [
       "<table>\n",
       "<thead><tr><th></th><th scope=col>Estimate</th><th scope=col>Pr(&gt;|z|)</th></tr></thead>\n",
       "<tbody>\n",
       "\t<tr><th scope=row>s_start_year</th><td>-1.33439</td><td>0.00000 </td></tr>\n",
       "\t<tr><th scope=row>factor(funding_indicator)1</th><td> 1.10597</td><td>0.00001 </td></tr>\n",
       "\t<tr><th scope=row>avs_net_cost</th><td> 0.40391</td><td>0.00083 </td></tr>\n",
       "\t<tr><th scope=row>average_gpa</th><td> 0.41468</td><td>0.00001 </td></tr>\n",
       "</tbody>\n",
       "</table>\n"
      ],
      "text/latex": [
       "\\begin{tabular}{r|ll}\n",
       "  & Estimate & Pr(>\\textbar{}z\\textbar{})\\\\\n",
       "\\hline\n",
       "\ts\\_start\\_year & -1.33439 & 0.00000 \\\\\n",
       "\tfactor(funding\\_indicator)1 &  1.10597 & 0.00001 \\\\\n",
       "\tavs\\_net\\_cost &  0.40391 & 0.00083 \\\\\n",
       "\taverage\\_gpa &  0.41468 & 0.00001 \\\\\n",
       "\\end{tabular}\n"
      ],
      "text/markdown": [
       "\n",
       "| <!--/--> | Estimate | Pr(>|z|) |\n",
       "|---|---|---|\n",
       "| s_start_year | -1.33439 | 0.00000  |\n",
       "| factor(funding_indicator)1 |  1.10597 | 0.00001  |\n",
       "| avs_net_cost |  0.40391 | 0.00083  |\n",
       "| average_gpa |  0.41468 | 0.00001  |\n",
       "\n"
      ],
      "text/plain": [
       "                           Estimate Pr(>|z|)\n",
       "s_start_year               -1.33439 0.00000 \n",
       "factor(funding_indicator)1  1.10597 0.00001 \n",
       "avs_net_cost                0.40391 0.00083 \n",
       "average_gpa                 0.41468 0.00001 "
      ]
     },
     "metadata": {},
     "output_type": "display_data"
    }
   ],
   "source": [
    "round(summary(log_mod_h_s_bic)$coeff[which(summary(log_mod_h_s_bic)$coef[,4] <= .05),c(1,4)],5)"
   ]
  },
  {
   "cell_type": "code",
   "execution_count": 54,
   "metadata": {},
   "outputs": [
    {
     "data": {
      "text/plain": [
       "\n",
       "Call:\n",
       "glm(formula = Y ~ s_start_year + factor(funding_indicator) + \n",
       "    avs_net_cost + average_gpa, family = \"binomial\", data = Harpur_sciences)\n",
       "\n",
       "Deviance Residuals: \n",
       "    Min       1Q   Median       3Q      Max  \n",
       "-3.3969  -0.9619   0.5772   0.8600   2.2088  \n",
       "\n",
       "Coefficients:\n",
       "                           Estimate Std. Error z value Pr(>|z|)    \n",
       "(Intercept)                -0.05770    0.21340  -0.270  0.78685    \n",
       "s_start_year               -1.33439    0.12875 -10.364  < 2e-16 ***\n",
       "factor(funding_indicator)1  1.10597    0.24726   4.473 7.72e-06 ***\n",
       "avs_net_cost                0.40391    0.12083   3.343  0.00083 ***\n",
       "average_gpa                 0.41468    0.09543   4.345 1.39e-05 ***\n",
       "---\n",
       "Signif. codes:  0 '***' 0.001 '**' 0.01 '*' 0.05 '.' 0.1 ' ' 1\n",
       "\n",
       "(Dispersion parameter for binomial family taken to be 1)\n",
       "\n",
       "    Null deviance: 1135.18  on 860  degrees of freedom\n",
       "Residual deviance:  962.76  on 856  degrees of freedom\n",
       "AIC: 972.76\n",
       "\n",
       "Number of Fisher Scoring iterations: 4\n"
      ]
     },
     "metadata": {},
     "output_type": "display_data"
    }
   ],
   "source": [
    "summary(log_mod_h_s_bic)"
   ]
  },
  {
   "cell_type": "markdown",
   "metadata": {},
   "source": [
    "# Harpur Arts Analysis"
   ]
  },
  {
   "cell_type": "markdown",
   "metadata": {},
   "source": [
    "<b> Logistic regression model:"
   ]
  },
  {
   "cell_type": "code",
   "execution_count": 68,
   "metadata": {
    "scrolled": false
   },
   "outputs": [],
   "source": [
    "log_mod_h_a = glm(Y~s_start_age+factor(Gender)+s_start_year+factor(funding_indicator)+factor(Citizenship)+\n",
    "                avs_net_cost+Precol.GPA+ factor(gap_indicator)+GPA_trend+average_gpa+\n",
    "                +factor(has_gre)+factor(has_gre1)*GRE_Write+factor(has_gre1)*GRE.Quant+factor(has_gre1)*GRE.Verbal,\n",
    "                data=Harpur_arts,family=\"binomial\")"
   ]
  },
  {
   "cell_type": "markdown",
   "metadata": {},
   "source": [
    "<b> Both AIC:"
   ]
  },
  {
   "cell_type": "code",
   "execution_count": 60,
   "metadata": {},
   "outputs": [],
   "source": [
    "# log_mod_h_a_aic = stepAIC(log_mod_h_a, direction = 'both')\n",
    "# round(summary(log_mod_h_a_aic)$coeff[which(summary(log_mod_h_a_aic)$coef[,4] <= .05),c(1,4)],5)"
   ]
  },
  {
   "cell_type": "markdown",
   "metadata": {},
   "source": [
    "<b> Both BIC"
   ]
  },
  {
   "cell_type": "code",
   "execution_count": 65,
   "metadata": {
    "scrolled": false
   },
   "outputs": [],
   "source": [
    "log_mod_h_a_bic = stepAIC(log_mod_h_a, direction = \"both\", k = log(b_n),trace=0)"
   ]
  },
  {
   "cell_type": "markdown",
   "metadata": {},
   "source": [
    "<b> Significant variables both BIC selects:"
   ]
  },
  {
   "cell_type": "code",
   "execution_count": 67,
   "metadata": {},
   "outputs": [
    {
     "data": {
      "text/plain": [
       "\n",
       "Call:\n",
       "glm(formula = Y ~ s_start_year + factor(funding_indicator) + \n",
       "    average_gpa + factor(has_gre), family = \"binomial\", data = Harpur_arts)\n",
       "\n",
       "Deviance Residuals: \n",
       "    Min       1Q   Median       3Q      Max  \n",
       "-1.8295  -1.1350   0.7538   0.9647   1.8477  \n",
       "\n",
       "Coefficients:\n",
       "                           Estimate Std. Error z value Pr(>|z|)    \n",
       "(Intercept)                -0.74585    0.18548  -4.021 5.79e-05 ***\n",
       "s_start_year               -0.25131    0.08054  -3.120 0.001806 ** \n",
       "factor(funding_indicator)1  0.67883    0.17227   3.941 8.13e-05 ***\n",
       "average_gpa                 0.31227    0.09436   3.309 0.000935 ***\n",
       "factor(has_gre)1            0.89446    0.18848   4.746 2.08e-06 ***\n",
       "---\n",
       "Signif. codes:  0 '***' 0.001 '**' 0.01 '*' 0.05 '.' 0.1 ' ' 1\n",
       "\n",
       "(Dispersion parameter for binomial family taken to be 1)\n",
       "\n",
       "    Null deviance: 1248.0  on 917  degrees of freedom\n",
       "Residual deviance: 1158.9  on 913  degrees of freedom\n",
       "AIC: 1168.9\n",
       "\n",
       "Number of Fisher Scoring iterations: 4\n"
      ]
     },
     "metadata": {},
     "output_type": "display_data"
    }
   ],
   "source": [
    "summary(log_mod_h_a_bic)"
   ]
  },
  {
   "cell_type": "markdown",
   "metadata": {},
   "source": [
    "# Management Analysis"
   ]
  },
  {
   "cell_type": "markdown",
   "metadata": {},
   "source": [
    "<b> Logistic regression model:"
   ]
  },
  {
   "cell_type": "code",
   "execution_count": 71,
   "metadata": {},
   "outputs": [],
   "source": [
    "log_mod_m = glm(Y~s_start_age+factor(Gender)+s_start_year+factor(Citizenship)+\n",
    "                avs_net_cost+Precol.GPA+ factor(gap_indicator)+GPA_trend+average_gpa+\n",
    "                +factor(has_gre)+factor(has_gre1)*GRE_Write+factor(has_gre1)*GRE.Quant+factor(has_gre1)*GRE.Verbal,\n",
    "                data=Management_df,family=\"binomial\")"
   ]
  },
  {
   "cell_type": "markdown",
   "metadata": {},
   "source": [
    "<b> Both BIC:"
   ]
  },
  {
   "cell_type": "code",
   "execution_count": 73,
   "metadata": {
    "scrolled": false
   },
   "outputs": [],
   "source": [
    "log_mod_m_bic = stepAIC(log_mod_m, direction = \"both\", k = log(c_n),trace=0)"
   ]
  },
  {
   "cell_type": "markdown",
   "metadata": {},
   "source": [
    "<b> Significant variables both BIC selects:"
   ]
  },
  {
   "cell_type": "code",
   "execution_count": 74,
   "metadata": {},
   "outputs": [
    {
     "data": {
      "text/html": [
       "<table>\n",
       "<thead><tr><th></th><th scope=col>Estimate</th><th scope=col>Pr(&gt;|z|)</th></tr></thead>\n",
       "<tbody>\n",
       "\t<tr><th scope=row>(Intercept)</th><td>-2.62893</td><td>0.00680 </td></tr>\n",
       "\t<tr><th scope=row>s_start_age</th><td> 2.00724</td><td>0.02719 </td></tr>\n",
       "\t<tr><th scope=row>average_gpa</th><td> 7.07830</td><td>0.00028 </td></tr>\n",
       "\t<tr><th scope=row>factor(has_gre)1</th><td> 3.13347</td><td>0.00263 </td></tr>\n",
       "</tbody>\n",
       "</table>\n"
      ],
      "text/latex": [
       "\\begin{tabular}{r|ll}\n",
       "  & Estimate & Pr(>\\textbar{}z\\textbar{})\\\\\n",
       "\\hline\n",
       "\t(Intercept) & -2.62893 & 0.00680 \\\\\n",
       "\ts\\_start\\_age &  2.00724 & 0.02719 \\\\\n",
       "\taverage\\_gpa &  7.07830 & 0.00028 \\\\\n",
       "\tfactor(has\\_gre)1 &  3.13347 & 0.00263 \\\\\n",
       "\\end{tabular}\n"
      ],
      "text/markdown": [
       "\n",
       "| <!--/--> | Estimate | Pr(>|z|) |\n",
       "|---|---|---|\n",
       "| (Intercept) | -2.62893 | 0.00680  |\n",
       "| s_start_age |  2.00724 | 0.02719  |\n",
       "| average_gpa |  7.07830 | 0.00028  |\n",
       "| factor(has_gre)1 |  3.13347 | 0.00263  |\n",
       "\n"
      ],
      "text/plain": [
       "                 Estimate Pr(>|z|)\n",
       "(Intercept)      -2.62893 0.00680 \n",
       "s_start_age       2.00724 0.02719 \n",
       "average_gpa       7.07830 0.00028 \n",
       "factor(has_gre)1  3.13347 0.00263 "
      ]
     },
     "metadata": {},
     "output_type": "display_data"
    },
    {
     "data": {
      "text/plain": [
       "\n",
       "Call:\n",
       "glm(formula = Y ~ s_start_age + average_gpa + factor(has_gre), \n",
       "    family = \"binomial\", data = Management_df)\n",
       "\n",
       "Deviance Residuals: \n",
       "    Min       1Q   Median       3Q      Max  \n",
       "-2.1868  -0.5733   0.2320   0.5893   1.9024  \n",
       "\n",
       "Coefficients:\n",
       "                 Estimate Std. Error z value Pr(>|z|)    \n",
       "(Intercept)       -2.6289     0.9714  -2.706 0.006803 ** \n",
       "s_start_age        2.0072     0.9087   2.209 0.027186 *  \n",
       "average_gpa        7.0783     1.9458   3.638 0.000275 ***\n",
       "factor(has_gre)1   3.1335     1.0416   3.008 0.002626 ** \n",
       "---\n",
       "Signif. codes:  0 '***' 0.001 '**' 0.01 '*' 0.05 '.' 0.1 ' ' 1\n",
       "\n",
       "(Dispersion parameter for binomial family taken to be 1)\n",
       "\n",
       "    Null deviance: 74.726  on 57  degrees of freedom\n",
       "Residual deviance: 41.303  on 54  degrees of freedom\n",
       "AIC: 49.303\n",
       "\n",
       "Number of Fisher Scoring iterations: 6\n"
      ]
     },
     "metadata": {},
     "output_type": "display_data"
    }
   ],
   "source": [
    "round(summary(log_mod_m_bic)$coeff[which(summary(log_mod_m_bic)$coef[,4] <= .05),c(1,4)],5)\n",
    "summary(log_mod_m_bic)"
   ]
  },
  {
   "cell_type": "markdown",
   "metadata": {},
   "source": [
    "# Nursing Analysis"
   ]
  },
  {
   "cell_type": "markdown",
   "metadata": {},
   "source": [
    "<b> Logistic regression model:"
   ]
  },
  {
   "cell_type": "code",
   "execution_count": 107,
   "metadata": {},
   "outputs": [],
   "source": [
    "log_mod_n = glm(Y~s_start_age+factor(Gender)+s_start_year+factor(funding_indicator)+\n",
    "                avs_net_cost+Precol.GPA+ factor(gap_indicator)+GPA_trend+average_gpa+\n",
    "                +factor(has_gre1)*GRE_Write+factor(has_gre1)*GRE.Quant+factor(has_gre1)*GRE.Verbal,\n",
    "                data=Nursing_df,family=\"binomial\")"
   ]
  },
  {
   "cell_type": "markdown",
   "metadata": {},
   "source": [
    "<b> Both BIC:"
   ]
  },
  {
   "cell_type": "code",
   "execution_count": 108,
   "metadata": {
    "scrolled": false
   },
   "outputs": [
    {
     "name": "stderr",
     "output_type": "stream",
     "text": [
      "Warning message:\n",
      "\"glm.fit: fitted probabilities numerically 0 or 1 occurred\""
     ]
    }
   ],
   "source": [
    "log_mod_n_bic = stepAIC(log_mod_n, direction = \"both\", k = log(d_n),trace=0)"
   ]
  },
  {
   "cell_type": "code",
   "execution_count": 109,
   "metadata": {},
   "outputs": [
    {
     "data": {
      "text/plain": [
       "\n",
       "Call:\n",
       "glm(formula = Y ~ s_start_year + average_gpa + factor(has_gre1), \n",
       "    family = \"binomial\", data = Nursing_df)\n",
       "\n",
       "Deviance Residuals: \n",
       "    Min       1Q   Median       3Q      Max  \n",
       "-2.1675  -1.0764   0.3518   0.9639   2.4148  \n",
       "\n",
       "Coefficients:\n",
       "                   Estimate Std. Error z value Pr(>|z|)   \n",
       "(Intercept)          0.5469     0.2602   2.102  0.03557 * \n",
       "s_start_year        -0.7407     0.2732  -2.711  0.00671 **\n",
       "average_gpa          0.6010     0.3179   1.890  0.05871 . \n",
       "factor(has_gre1)1   17.4553  1181.6295   0.015  0.98821   \n",
       "---\n",
       "Signif. codes:  0 '***' 0.001 '**' 0.01 '*' 0.05 '.' 0.1 ' ' 1\n",
       "\n",
       "(Dispersion parameter for binomial family taken to be 1)\n",
       "\n",
       "    Null deviance: 155.91  on 116  degrees of freedom\n",
       "Residual deviance: 126.66  on 113  degrees of freedom\n",
       "AIC: 134.66\n",
       "\n",
       "Number of Fisher Scoring iterations: 16\n"
      ]
     },
     "metadata": {},
     "output_type": "display_data"
    }
   ],
   "source": [
    "summary(log_mod_n_bic)"
   ]
  },
  {
   "cell_type": "markdown",
   "metadata": {},
   "source": [
    "# Watson Analysis "
   ]
  },
  {
   "cell_type": "markdown",
   "metadata": {},
   "source": [
    "<b> Logistic regression model:"
   ]
  },
  {
   "cell_type": "code",
   "execution_count": 112,
   "metadata": {},
   "outputs": [],
   "source": [
    "log_mod_w = glm(Y~s_start_age+factor(Gender)+s_start_year+factor(funding_indicator)+factor(Citizenship)+\n",
    "                avs_net_cost+Precol.GPA+ factor(gap_indicator)+GPA_trend+average_gpa+\n",
    "                +factor(has_gre)+factor(has_gre1)*GRE_Write+factor(has_gre1)*GRE.Quant+factor(has_gre1)*GRE.Verbal,\n",
    "                data=Watson_df,family=\"binomial\")"
   ]
  },
  {
   "cell_type": "markdown",
   "metadata": {},
   "source": [
    "<b> Both BIC:"
   ]
  },
  {
   "cell_type": "code",
   "execution_count": 113,
   "metadata": {
    "scrolled": false
   },
   "outputs": [],
   "source": [
    "log_mod_w_bic = stepAIC(log_mod_w, direction = \"both\", k = log(e_n),trace=0)"
   ]
  },
  {
   "cell_type": "markdown",
   "metadata": {},
   "source": [
    "<b> Significant variables both BIC selects:"
   ]
  },
  {
   "cell_type": "code",
   "execution_count": 114,
   "metadata": {
    "scrolled": false
   },
   "outputs": [
    {
     "data": {
      "text/plain": [
       "\n",
       "Call:\n",
       "glm(formula = Y ~ s_start_year + factor(funding_indicator) + \n",
       "    avs_net_cost, family = \"binomial\", data = Watson_df)\n",
       "\n",
       "Deviance Residuals: \n",
       "    Min       1Q   Median       3Q      Max  \n",
       "-2.8893  -0.9101   0.5567   0.8484   1.7719  \n",
       "\n",
       "Coefficients:\n",
       "                           Estimate Std. Error z value Pr(>|z|)    \n",
       "(Intercept)                 -0.5034     0.2001  -2.516   0.0119 *  \n",
       "s_start_year                -1.0004     0.1437  -6.963 3.34e-12 ***\n",
       "factor(funding_indicator)1   2.0988     0.2644   7.939 2.04e-15 ***\n",
       "avs_net_cost                 0.3515     0.1548   2.270   0.0232 *  \n",
       "---\n",
       "Signif. codes:  0 '***' 0.001 '**' 0.01 '*' 0.05 '.' 0.1 ' ' 1\n",
       "\n",
       "(Dispersion parameter for binomial family taken to be 1)\n",
       "\n",
       "    Null deviance: 656.07  on 514  degrees of freedom\n",
       "Residual deviance: 551.63  on 511  degrees of freedom\n",
       "AIC: 559.63\n",
       "\n",
       "Number of Fisher Scoring iterations: 4\n"
      ]
     },
     "metadata": {},
     "output_type": "display_data"
    }
   ],
   "source": [
    "summary(log_mod_w_bic)"
   ]
  },
  {
   "cell_type": "markdown",
   "metadata": {},
   "source": [
    "# Joint Analysis"
   ]
  },
  {
   "cell_type": "markdown",
   "metadata": {},
   "source": [
    "<b> Logistic regression model:"
   ]
  },
  {
   "cell_type": "code",
   "execution_count": 82,
   "metadata": {},
   "outputs": [],
   "source": [
    "int_chn = function(x) ifelse(x=='China',1,0)\n",
    "int_afc = function(x) ifelse(x=='Africa',1,0)\n",
    "int_asia = function(x) ifelse(x=='Asia',1,0)"
   ]
  },
  {
   "cell_type": "code",
   "execution_count": 83,
   "metadata": {},
   "outputs": [],
   "source": [
    "df <- within(df, s_Citizenship <- relevel(s_Citizenship, ref = \"White\"))\n",
    "df <- within(df, s_College <- relevel(s_College, ref = \"GD Non-Harpur\"))"
   ]
  },
  {
   "cell_type": "code",
   "execution_count": 89,
   "metadata": {},
   "outputs": [
    {
     "data": {
      "text/html": [
       "<ol class=list-inline>\n",
       "\t<li>'GD Non-Harpur'</li>\n",
       "\t<li>'GD Harpur'</li>\n",
       "</ol>\n"
      ],
      "text/latex": [
       "\\begin{enumerate*}\n",
       "\\item 'GD Non-Harpur'\n",
       "\\item 'GD Harpur'\n",
       "\\end{enumerate*}\n"
      ],
      "text/markdown": [
       "1. 'GD Non-Harpur'\n",
       "2. 'GD Harpur'\n",
       "\n",
       "\n"
      ],
      "text/plain": [
       "[1] \"GD Non-Harpur\" \"GD Harpur\"    "
      ]
     },
     "metadata": {},
     "output_type": "display_data"
    }
   ],
   "source": [
    "levels(df$s_College)"
   ]
  },
  {
   "cell_type": "code",
   "execution_count": 84,
   "metadata": {},
   "outputs": [
    {
     "data": {
      "text/html": [
       "<table>\n",
       "<thead><tr><th scope=col>X1st_Term_Funding</th><th scope=col>X2nd_Term_Funding</th><th scope=col>X3rd_Term_Funding</th><th scope=col>X4th_Term_Funding</th><th scope=col>Start_year</th><th scope=col>Start_age</th><th scope=col>College</th><th scope=col>Age</th><th scope=col>Degree</th><th scope=col>Gender</th><th scope=col>...</th><th scope=col>s_start_year</th><th scope=col>avs_net_cost</th><th scope=col>s_SAPC1</th><th scope=col>s_SAPC2</th><th scope=col>s_SAPC3</th><th scope=col>s_Average.Precol.GPA</th><th scope=col>s_GRE.Combined.General.Write.Score</th><th scope=col>s_GRE.Combined.Quantitative.Score</th><th scope=col>s_GRE.Combined.General.Verbal.Score</th><th scope=col>s_GMAT.Score</th></tr></thead>\n",
       "<tbody>\n",
       "\t<tr><td>10095                     </td><td>10095.0                   </td><td> 8325                     </td><td> 9250                     </td><td>2014                      </td><td>24.0                      </td><td>GD Management             </td><td>29                        </td><td>Doctor of Philosophy      </td><td>Male                      </td><td>...                       </td><td>1.07114471                </td><td>-0.5199562                </td><td> 1.338065e-05             </td><td> 2.107395e-10             </td><td> 5.553861e-01             </td><td> 1.021048e+00             </td><td> 0.0000189473             </td><td> 4.961343e-07             </td><td>-3.187613e-07             </td><td> 15.639542923             </td></tr>\n",
       "\t<tr><td> 8340                     </td><td> 8340.0                   </td><td> 9175                     </td><td> 6885                     </td><td>2012                      </td><td>24.0                      </td><td>GD Management             </td><td>31                        </td><td>Doctor of Philosophy      </td><td>Male                      </td><td>...                       </td><td>0.64687796                </td><td>-0.2634601                </td><td> 5.575445e-06             </td><td> 2.107395e-10             </td><td> 2.313988e-01             </td><td> 4.254145e-01             </td><td> 0.0000189473             </td><td> 4.961343e-07             </td><td>-3.187613e-07             </td><td>  9.840944996             </td></tr>\n",
       "\t<tr><td> 4685                     </td><td> 4685.0                   </td><td> 4935                     </td><td> 3699                     </td><td>2012                      </td><td>34.0                      </td><td>GD Management             </td><td>41                        </td><td>Doctor of Philosophy      </td><td>Male                      </td><td>...                       </td><td>0.64687796                </td><td>-0.7055291                </td><td> 7.743558e-06             </td><td> 2.107395e-10             </td><td> 3.213952e-01             </td><td> 5.908682e-01             </td><td> 0.0000189473             </td><td> 4.961343e-07             </td><td>-3.187613e-07             </td><td>  9.840944996             </td></tr>\n",
       "\t<tr><td>11100                     </td><td>11105.0                   </td><td>11105                     </td><td>    0                     </td><td>2017                      </td><td>22.3                      </td><td>GD Management             </td><td>25                        </td><td>Doctor of Philosophy      </td><td>Male                      </td><td>...                       </td><td>1.70754483                </td><td>-0.4096741                </td><td>-2.372856e-06             </td><td> 2.107395e-10             </td><td>-9.858835e-02             </td><td>-1.812383e-01             </td><td> 0.0000189473             </td><td> 4.961343e-07             </td><td>-3.187613e-07             </td><td>  9.840944996             </td></tr>\n",
       "\t<tr><td> 4685                     </td><td> 4685.0                   </td><td> 4935                     </td><td> 3699                     </td><td>2012                      </td><td>30.0                      </td><td>GD Management             </td><td>37                        </td><td>Doctor of Philosophy      </td><td>Female                    </td><td>...                       </td><td>0.64687796                </td><td>-0.6754591                </td><td> 1.381427e-05             </td><td> 2.107395e-10             </td><td> 5.733854e-01             </td><td> 1.054139e+00             </td><td> 0.0000189473             </td><td> 4.961343e-07             </td><td>-3.187613e-07             </td><td>  7.908079021             </td></tr>\n",
       "\t<tr><td>11105                     </td><td>11105.0                   </td><td>11100                     </td><td>11100                     </td><td>2015                      </td><td>31.0                      </td><td>GD Management             </td><td>35                        </td><td>Doctor of Philosophy      </td><td>Male                      </td><td>...                       </td><td>1.28327808                </td><td>-0.4290227                </td><td>-6.132364e-06             </td><td> 2.107395e-10             </td><td>-2.545823e-01             </td><td>-4.680359e-01             </td><td> 0.0000189473             </td><td> 4.961343e-07             </td><td>-3.187613e-07             </td><td>  7.908079021             </td></tr>\n",
       "\t<tr><td> 7580                     </td><td> 7580.0                   </td><td> 8340                     </td><td> 6255                     </td><td>2011                      </td><td>29.0                      </td><td>GD Management             </td><td>37                        </td><td>Doctor of Philosophy      </td><td>Male                      </td><td>...                       </td><td>0.43474459                </td><td>-0.4722164                </td><td>-9.409784e-10             </td><td> 2.107395e-10             </td><td>-2.179561e-10             </td><td>-2.545443e-07             </td><td> 0.0000189473             </td><td> 4.961343e-07             </td><td>-3.187613e-07             </td><td>  5.975213045             </td></tr>\n",
       "\t<tr><td>10095                     </td><td> 9251.0                   </td><td>11105                     </td><td>11105                     </td><td>2014                      </td><td>26.0                      </td><td>GD Management             </td><td>31                        </td><td>Doctor of Philosophy      </td><td>Female                    </td><td>...                       </td><td>1.07114471                </td><td>-0.4523077                </td><td> 2.248673e-05             </td><td> 2.107395e-10             </td><td> 9.333713e-01             </td><td> 1.715954e+00             </td><td> 0.0000189473             </td><td> 4.961343e-07             </td><td>-3.187613e-07             </td><td>  5.975213045             </td></tr>\n",
       "\t<tr><td> 4935                     </td><td>    0.0                   </td><td>    0                     </td><td>    0                     </td><td>2013                      </td><td>38.0                      </td><td>GD Management             </td><td>44                        </td><td>Doctor of Philosophy      </td><td>Male                      </td><td>...                       </td><td>0.85901134                </td><td> 0.5835778                </td><td>-2.911436e-05             </td><td> 2.107395e-10             </td><td>-1.208545e+00             </td><td>-2.221846e+00             </td><td> 0.0000189473             </td><td> 4.961343e-07             </td><td>-3.187613e-07             </td><td>  5.975213045             </td></tr>\n",
       "\t<tr><td> 6625                     </td><td> 6625.0                   </td><td> 6890                     </td><td> 6085                     </td><td>2009                      </td><td>38.0                      </td><td>GD Management             </td><td>48                        </td><td>Doctor of Philosophy      </td><td>Male                      </td><td>...                       </td><td>0.01047784                </td><td>-0.2156751                </td><td> 7.743558e-06             </td><td> 2.107395e-10             </td><td> 3.213952e-01             </td><td> 5.908682e-01             </td><td> 0.0000189473             </td><td> 4.961343e-07             </td><td>-3.187613e-07             </td><td>  4.042347070             </td></tr>\n",
       "\t<tr><td>11105                     </td><td>11105.0                   </td><td>11100                     </td><td>11100                     </td><td>2015                      </td><td>27.0                      </td><td>GD Management             </td><td>31                        </td><td>Doctor of Philosophy      </td><td>Female                    </td><td>...                       </td><td>1.28327808                </td><td>-0.4286791                </td><td> 1.446471e-05             </td><td> 2.107395e-10             </td><td> 6.003843e-01             </td><td> 1.103775e+00             </td><td> 0.0000189473             </td><td> 4.961343e-07             </td><td>-3.187613e-07             </td><td>  2.109481095             </td></tr>\n",
       "\t<tr><td> 6625                     </td><td> 6625.0                   </td><td>    0                     </td><td>    0                     </td><td>2009                      </td><td>36.0                      </td><td>GD Management             </td><td>46                        </td><td>Doctor of Philosophy      </td><td>Male                      </td><td>...                       </td><td>0.01047784                </td><td>-0.6597568                </td><td>-3.747440e-06             </td><td>-2.365187e+00             </td><td>-1.555861e-01             </td><td>-2.860367e-01             </td><td>-0.5485791332             </td><td>-1.204902e-01             </td><td>-7.046120e-01             </td><td>  2.109481095             </td></tr>\n",
       "\t<tr><td> 7580                     </td><td> 6320.0                   </td><td>    0                     </td><td>    0                     </td><td>2011                      </td><td>26.0                      </td><td>GD Management             </td><td>34                        </td><td>Doctor of Philosophy      </td><td>Female                    </td><td>...                       </td><td>0.43474459                </td><td>-0.5588014                </td><td>-2.446572e-06             </td><td> 2.107395e-10             </td><td>-1.015882e-01             </td><td>-1.867645e-01             </td><td> 0.0000189473             </td><td> 4.961343e-07             </td><td>-3.187613e-07             </td><td>  2.109481095             </td></tr>\n",
       "\t<tr><td> 7580                     </td><td> 7580.0                   </td><td> 8340                     </td><td> 6255                     </td><td>2011                      </td><td>25.0                      </td><td>GD Management             </td><td>33                        </td><td>Doctor of Philosophy      </td><td>Female                    </td><td>...                       </td><td>0.43474459                </td><td>-0.3252595                </td><td>-8.734100e-06             </td><td> 2.107395e-10             </td><td>-3.625780e-01             </td><td>-6.665804e-01             </td><td> 0.0000189473             </td><td> 4.961343e-07             </td><td>-3.187613e-07             </td><td>  0.176615119             </td></tr>\n",
       "\t<tr><td> 6625                     </td><td> 6625.0                   </td><td> 6890                     </td><td> 6890                     </td><td>2009                      </td><td>25.0                      </td><td>GD Management             </td><td>35                        </td><td>Doctor of Philosophy      </td><td>Female                    </td><td>...                       </td><td>0.01047784                </td><td>-0.5218814                </td><td>-9.409784e-10             </td><td> 2.107395e-10             </td><td>-2.179561e-10             </td><td>-2.545443e-07             </td><td> 0.0000189473             </td><td> 4.961343e-07             </td><td>-3.187613e-07             </td><td>  0.176615119             </td></tr>\n",
       "\t<tr><td> 6890                     </td><td> 6890.0                   </td><td> 7580                     </td><td> 7580                     </td><td>2010                      </td><td>30.0                      </td><td>GD Management             </td><td>39                        </td><td>Doctor of Philosophy      </td><td>Male                      </td><td>...                       </td><td>0.22261122                </td><td>-0.3886843                </td><td> 1.554876e-05             </td><td> 2.107395e-10             </td><td> 6.453826e-01             </td><td> 1.186502e+00             </td><td> 0.0000189473             </td><td> 4.961343e-07             </td><td>-3.187613e-07             </td><td> -1.756250856             </td></tr>\n",
       "\t<tr><td> 6625                     </td><td> 6625.0                   </td><td> 6890                     </td><td> 6890                     </td><td>2009                      </td><td>26.0                      </td><td>GD Management             </td><td>36                        </td><td>Doctor of Philosophy      </td><td>Female                    </td><td>...                       </td><td>0.01047784                </td><td>-0.2924776                </td><td>-9.409784e-10             </td><td> 2.107395e-10             </td><td>-2.179561e-10             </td><td>-2.545443e-07             </td><td> 0.0000189473             </td><td> 4.961343e-07             </td><td>-3.187613e-07             </td><td> -5.621982807             </td></tr>\n",
       "\t<tr><td> 4685                     </td><td> 4685.0                   </td><td> 4935                     </td><td>    0                     </td><td>2012                      </td><td>31.0                      </td><td>GD Management             </td><td>38                        </td><td>Doctor of Philosophy      </td><td>Female                    </td><td>...                       </td><td>0.64687796                </td><td>-0.7086219                </td><td> 1.022408e-06             </td><td> 2.107395e-10             </td><td> 4.240614e-02             </td><td> 7.796156e-02             </td><td> 0.0000189473             </td><td> 4.961343e-07             </td><td>-3.187613e-07             </td><td> -7.554848783             </td></tr>\n",
       "\t<tr><td> 6625                     </td><td> 6072.0                   </td><td>    0                     </td><td>    0                     </td><td>2009                      </td><td>32.0                      </td><td>GD Management             </td><td>42                        </td><td>Doctor of Philosophy      </td><td>Male                      </td><td>...                       </td><td>0.01047784                </td><td>-0.5001253                </td><td> 1.641601e-05             </td><td> 2.107395e-10             </td><td> 6.813812e-01             </td><td> 1.252683e+00             </td><td> 0.0000189473             </td><td> 4.961343e-07             </td><td>-3.187613e-07             </td><td>-11.420580734             </td></tr>\n",
       "\t<tr><td> 6625                     </td><td> 5299.2                   </td><td> 6890                     </td><td> 6890                     </td><td>2009                      </td><td>32.0                      </td><td>GD Management             </td><td>42                        </td><td>Doctor of Philosophy      </td><td>Female                    </td><td>...                       </td><td>0.01047784                </td><td>-0.4708828                </td><td>-9.409784e-10             </td><td> 2.107395e-10             </td><td>-2.179561e-10             </td><td>-2.545443e-07             </td><td> 0.0000189473             </td><td> 4.961343e-07             </td><td>-3.187613e-07             </td><td>-13.353446709             </td></tr>\n",
       "\t<tr><td> 4435                     </td><td> 4435.0                   </td><td> 4685                     </td><td> 3510                     </td><td>2011                      </td><td>24.0                      </td><td>GD Management             </td><td>32                        </td><td>Doctor of Philosophy      </td><td>Male                      </td><td>...                       </td><td>0.43474459                </td><td>-0.6996601                </td><td>-9.409784e-10             </td><td> 2.107395e-10             </td><td>-2.179561e-10             </td><td>-2.545443e-07             </td><td> 0.0000189473             </td><td> 4.961343e-07             </td><td>-3.187613e-07             </td><td>-15.286312685             </td></tr>\n",
       "\t<tr><td> 6625                     </td><td> 6625.0                   </td><td> 6890                     </td><td> 6890                     </td><td>2009                      </td><td>30.0                      </td><td>GD Management             </td><td>40                        </td><td>Doctor of Philosophy      </td><td>Female                    </td><td>...                       </td><td>0.01047784                </td><td>-0.4824223                </td><td>-9.409784e-10             </td><td> 2.107395e-10             </td><td>-2.179561e-10             </td><td>-2.545443e-07             </td><td> 0.0000189473             </td><td> 4.961343e-07             </td><td>-3.187613e-07             </td><td>-17.219178660             </td></tr>\n",
       "\t<tr><td> 4435                     </td><td> 4435.0                   </td><td> 4685                     </td><td> 3510                     </td><td>2011                      </td><td>25.0                      </td><td>GD Management             </td><td>33                        </td><td>Doctor of Philosophy      </td><td>Female                    </td><td>...                       </td><td>0.43474459                </td><td>-0.6666319                </td><td> 1.728326e-05             </td><td> 2.107395e-10             </td><td> 7.173798e-01             </td><td> 1.318865e+00             </td><td> 0.0000189473             </td><td> 4.961343e-07             </td><td>-3.187613e-07             </td><td>-17.219178660             </td></tr>\n",
       "\t<tr><td>    0                     </td><td>    0.0                   </td><td> 5435                     </td><td>    0                     </td><td>2015                      </td><td>40.0                      </td><td>GD Harpur                 </td><td>44                        </td><td>Doctor of Philosophy      </td><td>Male                      </td><td>...                       </td><td>1.28327808                </td><td> 0.2668279                </td><td> 2.309457e-01             </td><td>-3.371835e+00             </td><td> 3.925037e-01             </td><td> 1.368501e+00             </td><td>-0.5485791332             </td><td> 3.397846e-02             </td><td>-3.173954e-01             </td><td>-21.084910611             </td></tr>\n",
       "\t<tr><td> 4685                     </td><td> 4935.0                   </td><td> 4110                     </td><td>  432                     </td><td>2013                      </td><td>22.3                      </td><td>GD Harpur                 </td><td>29                        </td><td>Doctor of Philosophy      </td><td>Male                      </td><td>...                       </td><td>0.85901134                </td><td>-0.6549478                </td><td>-1.125434e-01             </td><td> 2.107395e-10             </td><td>-3.004692e-01             </td><td> 9.450694e-02             </td><td>-0.5485791332             </td><td> 8.546803e-02             </td><td> 3.279657e-01             </td><td>  0.008539859             </td></tr>\n",
       "\t<tr><td>    0                     </td><td>    0.0                   </td><td>    0                     </td><td>    0                     </td><td>2013                      </td><td>25.3                      </td><td>GD Nursing                </td><td>32                        </td><td>Doctor of Nursing Practice</td><td>Male                      </td><td>...                       </td><td>0.85901134                </td><td>-0.3549195                </td><td>-2.195959e-05             </td><td> 2.107395e-10             </td><td>-9.115566e-01             </td><td>-1.675848e+00             </td><td> 0.0000189473             </td><td> 4.961343e-07             </td><td>-3.187613e-07             </td><td>  0.008539859             </td></tr>\n",
       "\t<tr><td> 4685                     </td><td> 4685.0                   </td><td> 3699                     </td><td> 3699                     </td><td>2012                      </td><td>22.0                      </td><td>GD Harpur                 </td><td>29                        </td><td>Doctor of Philosophy      </td><td>Female                    </td><td>...                       </td><td>0.64687796                </td><td>-0.6874191                </td><td> 4.148709e-01             </td><td> 2.107395e-10             </td><td> 6.817704e-01             </td><td> 2.832543e-02             </td><td> 0.3180845011             </td><td>-1.204902e-01             </td><td>-5.110037e-01             </td><td>  0.008539859             </td></tr>\n",
       "\t<tr><td> 4685                     </td><td> 4685.0                   </td><td> 3699                     </td><td> 3699                     </td><td>2012                      </td><td>23.0                      </td><td>GD Harpur                 </td><td>30                        </td><td>Doctor of Philosophy      </td><td>Female                    </td><td>...                       </td><td>0.64687796                </td><td>-0.6869336                </td><td>-4.260311e-01             </td><td> 2.107395e-10             </td><td> 4.663449e+00             </td><td> 1.732499e+00             </td><td> 2.9180754037             </td><td> 8.546803e-02             </td><td> 9.733268e-01             </td><td>  0.008539859             </td></tr>\n",
       "\t<tr><td>14616                     </td><td>    0.0                   </td><td>    0                     </td><td>    0                     </td><td>2012                      </td><td>24.3                      </td><td>GD Nursing                </td><td>32                        </td><td>Doctor of Nursing Practice</td><td>Male                      </td><td>...                       </td><td>0.64687796                </td><td>-0.5674698                </td><td> 2.337048e-01             </td><td> 2.107395e-10             </td><td> 7.417680e-01             </td><td> 1.386169e-01             </td><td> 0.3180845011             </td><td> 1.369576e-01             </td><td>-4.464676e-01             </td><td>  0.008539859             </td></tr>\n",
       "\t<tr><td> 4685                     </td><td> 8340.0                   </td><td> 6885                     </td><td> 6885                     </td><td>2012                      </td><td>21.0                      </td><td>GD Watson                 </td><td>28                        </td><td>Doctor of Philosophy      </td><td>Male                      </td><td>...                       </td><td>0.64687796                </td><td>-0.5655772                </td><td>-1.610568e-05             </td><td> 2.107395e-10             </td><td>-6.685661e-01             </td><td>-1.229123e+00             </td><td> 0.0000189473             </td><td> 4.961343e-07             </td><td>-3.187613e-07             </td><td>  0.008539859             </td></tr>\n",
       "\t<tr><td>...</td><td>...</td><td>...</td><td>...</td><td>...</td><td>...</td><td>...</td><td>...</td><td>...</td><td>...</td><td>   </td><td>...</td><td>...</td><td>...</td><td>...</td><td>...</td><td>...</td><td>...</td><td>...</td><td>...</td><td>...</td></tr>\n",
       "\t<tr><td>11105               </td><td>11105               </td><td>    0               </td><td>   0                </td><td>2017                </td><td>26.0                </td><td>GD Harpur           </td><td>28                  </td><td>Doctor of Philosophy</td><td>Female              </td><td>...                 </td><td>1.707545            </td><td>-0.5559245          </td><td> 9.611482e-01       </td><td>2.107395e-10        </td><td>-1.370113e+00       </td><td>-2.545443e-07       </td><td>-1.4152427674       </td><td>-7.898546e-01       </td><td>-8.336842e-01       </td><td>0.008539859         </td></tr>\n",
       "\t<tr><td> 4158               </td><td> 4158               </td><td>    0               </td><td>   0                </td><td>2017                </td><td>23.0                </td><td>GD Harpur           </td><td>25                  </td><td>Doctor of Philosophy</td><td>Female              </td><td>...                 </td><td>1.707545            </td><td>-0.7342813          </td><td> 3.451927e-02       </td><td>2.107395e-10        </td><td> 3.636211e+00       </td><td> 1.715954e+00       </td><td> 2.0514117695       </td><td>-2.749589e-01       </td><td> 4.570379e-01       </td><td>0.008539859         </td></tr>\n",
       "\t<tr><td>    0               </td><td>    0               </td><td>    0               </td><td>   0                </td><td>2017                </td><td>23.0                </td><td>GD Harpur           </td><td>25                  </td><td>Doctor of Philosophy</td><td>Female              </td><td>...                 </td><td>1.707545            </td><td> 2.2748042          </td><td> 7.418446e-02       </td><td>2.107395e-10        </td><td> 3.168229e+00       </td><td> 8.555943e-01       </td><td> 2.0514117695       </td><td> 3.397846e-02       </td><td> 5.285188e-03       </td><td>0.008539859         </td></tr>\n",
       "\t<tr><td>11105               </td><td>11105               </td><td>11325               </td><td>   0                </td><td>2017                </td><td>26.0                </td><td>GD Harpur           </td><td>28                  </td><td>Doctor of Philosophy</td><td>Female              </td><td>...                 </td><td>1.707545            </td><td>-0.5589091          </td><td>-1.139206e-01       </td><td>2.107395e-10        </td><td>-8.867242e-01       </td><td> 8.886850e-01       </td><td>-1.4152427674       </td><td> 3.397846e-02       </td><td> 3.925018e-01       </td><td>0.008539859         </td></tr>\n",
       "\t<tr><td>11105               </td><td>11105               </td><td> 4158               </td><td>4158                </td><td>2017                </td><td>22.0                </td><td>GD Harpur           </td><td>24                  </td><td>Doctor of Philosophy</td><td>Male                </td><td>...                 </td><td>1.707545            </td><td>-0.6629076          </td><td> 1.148307e-02       </td><td>2.107395e-10        </td><td> 1.149752e+00       </td><td> 8.886850e-01       </td><td> 0.3180845011       </td><td> 3.397846e-02       </td><td> 1.343574e-01       </td><td>0.008539859         </td></tr>\n",
       "\t<tr><td> 8325               </td><td> 8325               </td><td>    0               </td><td>   0                </td><td>2017                </td><td>35.0                </td><td>GD Watson           </td><td>37                  </td><td>Doctor of Philosophy</td><td>Male                </td><td>...                 </td><td>1.707545            </td><td>-0.5460279          </td><td> 6.043778e-01       </td><td>2.107395e-10        </td><td>-7.787284e-01       </td><td> 1.087230e+00       </td><td>-1.4152427674       </td><td>-6.900067e-02       </td><td>-9.627564e-01       </td><td>0.008539859         </td></tr>\n",
       "\t<tr><td>11105               </td><td>11105               </td><td>    0               </td><td>   0                </td><td>2017                </td><td>27.0                </td><td>GD Harpur           </td><td>29                  </td><td>Doctor of Philosophy</td><td>Male                </td><td>...                 </td><td>1.707545            </td><td>-0.5472911          </td><td>-1.987949e-02       </td><td>2.107395e-10        </td><td> 6.663632e-01       </td><td>-2.545443e-07       </td><td> 0.3180845011       </td><td> 3.397846e-02       </td><td> 1.988935e-01       </td><td>0.008539859         </td></tr>\n",
       "\t<tr><td>11105               </td><td>    0               </td><td>    0               </td><td>   0                </td><td>2017                </td><td>23.0                </td><td>GD Harpur           </td><td>25                  </td><td>Doctor of Philosophy</td><td>Female              </td><td>...                 </td><td>1.707545            </td><td>-0.6661745          </td><td> 7.131182e-01       </td><td>2.107395e-10        </td><td>-1.282709e+00       </td><td> 1.606884e-01       </td><td>-1.4152427674       </td><td>-6.868755e-01       </td><td>-4.464676e-01       </td><td>0.008539859         </td></tr>\n",
       "\t<tr><td> 8325               </td><td> 8325               </td><td>    0               </td><td>   0                </td><td>2017                </td><td>25.0                </td><td>GD Watson           </td><td>27                  </td><td>Doctor of Philosophy</td><td>Male                </td><td>...                 </td><td>1.707545            </td><td>-0.5334639          </td><td> 5.251547e-02       </td><td>2.107395e-10        </td><td>-2.200673e+00       </td><td>-1.526940e+00       </td><td>-1.4152427674       </td><td> 3.944054e-01       </td><td>-3.819315e-01       </td><td>0.008539859         </td></tr>\n",
       "\t<tr><td> 4077               </td><td> 4077               </td><td> 4158               </td><td>4158                </td><td>2017                </td><td>26.0                </td><td>GD Harpur           </td><td>28                  </td><td>Doctor of Philosophy</td><td>Male                </td><td>...                 </td><td>1.707545            </td><td>-0.6065481          </td><td> 5.688386e-01       </td><td>2.107395e-10        </td><td>-1.840687e+00       </td><td>-8.651249e-01       </td><td>-1.4152427674       </td><td>-2.234694e-01       </td><td>-7.046120e-01       </td><td>0.008539859         </td></tr>\n",
       "\t<tr><td> 8325               </td><td> 8325               </td><td>    0               </td><td>   0                </td><td>2017                </td><td>25.0                </td><td>GD Watson           </td><td>27                  </td><td>Doctor of Philosophy</td><td>Male                </td><td>...                 </td><td>1.707545            </td><td> 0.2568415          </td><td> 4.761986e-01       </td><td>2.107395e-10        </td><td>-7.967277e-01       </td><td> 1.054139e+00       </td><td>-1.4152427674       </td><td>-1.719798e-01       </td><td>-5.755398e-01       </td><td>0.008539859         </td></tr>\n",
       "\t<tr><td>11105               </td><td>11105               </td><td>    0               </td><td>   0                </td><td>2017                </td><td>32.0                </td><td>GD Management       </td><td>34                  </td><td>Doctor of Philosophy</td><td>Female              </td><td>...                 </td><td>1.707545            </td><td>-0.5495460          </td><td>-2.087553e-05       </td><td>2.107395e-10        </td><td>-8.665583e-01       </td><td>-1.593122e+00       </td><td> 0.0000189473       </td><td> 4.961343e-07       </td><td>-3.187613e-07       </td><td>0.008539859         </td></tr>\n",
       "\t<tr><td> 8325               </td><td> 8325               </td><td> 8496               </td><td>   0                </td><td>2017                </td><td>27.0                </td><td>GD Watson           </td><td>29                  </td><td>Doctor of Philosophy</td><td>Female              </td><td>...                 </td><td>1.707545            </td><td>-0.5314734          </td><td> 6.015940e-01       </td><td>2.107395e-10        </td><td>-2.156953e+00       </td><td> 4.254145e-01       </td><td>-2.2819064016       </td><td>-1.719798e-01       </td><td>-8.336842e-01       </td><td>0.008539859         </td></tr>\n",
       "\t<tr><td>    0               </td><td>    0               </td><td>    0               </td><td>   0                </td><td>2017                </td><td>49.0                </td><td>GD Watson           </td><td>51                  </td><td>Doctor of Philosophy</td><td>Male                </td><td>...                 </td><td>1.707545            </td><td> 0.5497986          </td><td> 7.541864e-01       </td><td>2.107395e-10        </td><td> 9.247609e-01       </td><td> 4.750506e-01       </td><td> 0.3180845011       </td><td>-3.264485e-01       </td><td>-9.627564e-01       </td><td>0.008539859         </td></tr>\n",
       "\t<tr><td>    0               </td><td>    0               </td><td>    0               </td><td>   0                </td><td>2018                </td><td>29.3                </td><td>GD Nursing          </td><td>31                  </td><td>Doctor of Philosophy</td><td>Male                </td><td>...                 </td><td>1.919678            </td><td> 1.0479228          </td><td>-3.530629e-06       </td><td>2.107395e-10        </td><td>-1.465865e-01       </td><td>-2.694914e-01       </td><td> 0.0000189473       </td><td> 4.961343e-07       </td><td>-3.187613e-07       </td><td>0.008539859         </td></tr>\n",
       "\t<tr><td>    0               </td><td>    0               </td><td>    0               </td><td>   0                </td><td>2018                </td><td>27.3                </td><td>GD Nursing          </td><td>29                  </td><td>Doctor of Philosophy</td><td>Male                </td><td>...                 </td><td>1.919678            </td><td> 0.6317277          </td><td>-4.952707e-07       </td><td>2.107395e-10        </td><td>-2.059140e-02       </td><td>-3.785608e-02       </td><td> 0.0000189473       </td><td> 4.961343e-07       </td><td>-3.187613e-07       </td><td>0.008539859         </td></tr>\n",
       "\t<tr><td>    0               </td><td>    0               </td><td>    0               </td><td>   0                </td><td>2017                </td><td>53.0                </td><td>GD CCPA             </td><td>55                  </td><td>Doctor of Education </td><td>Female              </td><td>...                 </td><td>1.707545            </td><td>-0.4981803          </td><td> 4.274578e-06       </td><td>2.107395e-10        </td><td> 1.774009e-01       </td><td> 3.261422e-01       </td><td> 0.0000189473       </td><td> 4.961343e-07       </td><td>-3.187613e-07       </td><td>0.008539859         </td></tr>\n",
       "\t<tr><td>    0               </td><td>    0               </td><td>    0               </td><td>   0                </td><td>2018                </td><td>60.0                </td><td>GD Watson           </td><td>61                  </td><td>Doctor of Philosophy</td><td>Male                </td><td>...                 </td><td>1.919678            </td><td>-0.3851318          </td><td>-9.409784e-10       </td><td>2.107395e-10        </td><td>-2.179561e-10       </td><td>-2.545443e-07       </td><td> 0.0000189473       </td><td> 4.961343e-07       </td><td>-3.187613e-07       </td><td>0.008539859         </td></tr>\n",
       "\t<tr><td> 8325               </td><td>    0               </td><td>    0               </td><td>   0                </td><td>2018                </td><td>24.3                </td><td>GD Watson           </td><td>26                  </td><td>Doctor of Philosophy</td><td>Male                </td><td>...                 </td><td>1.919678            </td><td>-0.5212313          </td><td>-2.255316e-01       </td><td>2.107395e-10        </td><td>-3.324351e+00       </td><td>-5.464740e+00       </td><td>-0.5485791332       </td><td> 5.488741e-01       </td><td> 5.285188e-03       </td><td>0.008539859         </td></tr>\n",
       "\t<tr><td> 8325               </td><td>    0               </td><td>    0               </td><td>   0                </td><td>2018                </td><td>32.3                </td><td>GD Watson           </td><td>34                  </td><td>Doctor of Philosophy</td><td>Female              </td><td>...                 </td><td>1.919678            </td><td>-0.5171077          </td><td> 7.555674e-01       </td><td>2.107395e-10        </td><td>-2.404443e+00       </td><td>-2.958339e-02       </td><td>-2.2819064016       </td><td>-2.749589e-01       </td><td>-1.027293e+00       </td><td>0.008539859         </td></tr>\n",
       "\t<tr><td>11325               </td><td>11325               </td><td>    0               </td><td>   0                </td><td>2018                </td><td>24.0                </td><td>GD Harpur           </td><td>25                  </td><td>Doctor of Philosophy</td><td>Male                </td><td>...                 </td><td>1.919678            </td><td>-0.6664034          </td><td>-2.323763e-01       </td><td>2.107395e-10        </td><td> 1.563736e+00       </td><td> 1.649772e+00       </td><td> 0.3180845011       </td><td> 2.914263e-01       </td><td> 3.279657e-01       </td><td>0.008539859         </td></tr>\n",
       "\t<tr><td> 8496               </td><td> 8496               </td><td>    0               </td><td>   0                </td><td>2018                </td><td>45.0                </td><td>GD Harpur           </td><td>46                  </td><td>Doctor of Philosophy</td><td>Female              </td><td>...                 </td><td>1.919678            </td><td>-0.6600468          </td><td> 4.525946e-01       </td><td>2.107395e-10        </td><td>-3.964654e-01       </td><td>-8.196605e-02       </td><td>-0.5485791332       </td><td>-1.047302e+00       </td><td> 5.215741e-01       </td><td>0.008539859         </td></tr>\n",
       "\t<tr><td> 8496               </td><td>    0               </td><td>    0               </td><td>   0                </td><td>2018                </td><td>26.0                </td><td>GD Watson           </td><td>27                  </td><td>Doctor of Philosophy</td><td>Male                </td><td>...                 </td><td>1.919678            </td><td>-0.5468457          </td><td> 4.015767e-01       </td><td>2.107395e-10        </td><td>-6.077351e-01       </td><td> 1.401592e+00       </td><td>-1.4152427674       </td><td> 5.488741e-01       </td><td>-1.285437e+00       </td><td>0.008539859         </td></tr>\n",
       "\t<tr><td>11325               </td><td>11325               </td><td>    0               </td><td>   0                </td><td>2018                </td><td>30.0                </td><td>GD Watson           </td><td>31                  </td><td>Doctor of Philosophy</td><td>Female              </td><td>...                 </td><td>1.919678            </td><td>-0.5225055          </td><td> 5.416394e-01       </td><td>2.107395e-10        </td><td>-2.299669e+00       </td><td>-1.708939e+00       </td><td>-1.4152427674       </td><td>-6.900067e-02       </td><td>-8.336842e-01       </td><td>0.008539859         </td></tr>\n",
       "\t<tr><td>    0               </td><td>    0               </td><td>    0               </td><td>   0                </td><td>2018                </td><td>32.0                </td><td>GD Watson           </td><td>33                  </td><td>Doctor of Philosophy</td><td>Male                </td><td>...                 </td><td>1.919678            </td><td>-0.5752917          </td><td> 8.610803e-06       </td><td>2.107395e-10        </td><td> 3.573938e-01       </td><td> 6.570498e-01       </td><td> 0.0000189473       </td><td> 4.961343e-07       </td><td>-3.187613e-07       </td><td>0.008539859         </td></tr>\n",
       "\t<tr><td>11325               </td><td>11325               </td><td>    0               </td><td>   0                </td><td>2018                </td><td>23.0                </td><td>GD Harpur           </td><td>24                  </td><td>Doctor of Philosophy</td><td>Female              </td><td>...                 </td><td>1.919678            </td><td>-0.6728149          </td><td> 2.226152e-01       </td><td>2.107395e-10        </td><td> 3.240226e+00       </td><td> 9.879573e-01       </td><td> 2.0514117695       </td><td>-2.749589e-01       </td><td> 6.982130e-02       </td><td>0.008539859         </td></tr>\n",
       "\t<tr><td>    0               </td><td>    0               </td><td>    0               </td><td>   0                </td><td>2018                </td><td>24.7                </td><td>GD CCPA             </td><td>26                  </td><td>Doctor of Education </td><td>Female              </td><td>...                 </td><td>1.919678            </td><td>-0.2840005          </td><td> 2.248673e-05       </td><td>2.107395e-10        </td><td> 9.333713e-01       </td><td> 1.715954e+00       </td><td> 0.0000189473       </td><td> 4.961343e-07       </td><td>-3.187613e-07       </td><td>0.008539859         </td></tr>\n",
       "\t<tr><td>    0               </td><td>    0               </td><td>    0               </td><td>   0                </td><td>2018                </td><td>26.0                </td><td>GD Nursing          </td><td>27                  </td><td>Doctor of Philosophy</td><td>Female              </td><td>...                 </td><td>1.919678            </td><td> 2.1208565          </td><td> 1.193669e-05       </td><td>2.107395e-10        </td><td> 4.953884e-01       </td><td> 9.107566e-01       </td><td> 0.0000189473       </td><td> 4.961343e-07       </td><td>-3.187613e-07       </td><td>0.008539859         </td></tr>\n",
       "\t<tr><td>11325               </td><td>11325               </td><td>    0               </td><td>   0                </td><td>2018                </td><td>28.0                </td><td>GD Watson           </td><td>29                  </td><td>Doctor of Philosophy</td><td>Male                </td><td>...                 </td><td>1.919678            </td><td>-0.5332117          </td><td>-3.740325e-02       </td><td>2.107395e-10        </td><td>-3.394626e+00       </td><td>-3.721949e+00       </td><td>-1.4152427674       </td><td> 5.488741e-01       </td><td>-3.819315e-01       </td><td>0.008539859         </td></tr>\n",
       "\t<tr><td>    0               </td><td>    0               </td><td>    0               </td><td>   0                </td><td>2019                </td><td>33.7                </td><td>GD Watson           </td><td>34                  </td><td>Doctor of Philosophy</td><td>Male                </td><td>...                 </td><td>2.131812            </td><td>-0.3172367          </td><td>-2.571910e-05       </td><td>2.107395e-10        </td><td>-1.067550e+00       </td><td>-1.962646e+00       </td><td> 0.0000189473       </td><td> 4.961343e-07       </td><td>-3.187613e-07       </td><td>0.008539859         </td></tr>\n",
       "</tbody>\n",
       "</table>\n"
      ],
      "text/latex": [
       "\\begin{tabular}{r|lllllllllllllllllllllllllllllllllllllllllllllllllllllllllll}\n",
       " X1st\\_Term\\_Funding & X2nd\\_Term\\_Funding & X3rd\\_Term\\_Funding & X4th\\_Term\\_Funding & Start\\_year & Start\\_age & College & Age & Degree & Gender & ... & s\\_start\\_year & avs\\_net\\_cost & s\\_SAPC1 & s\\_SAPC2 & s\\_SAPC3 & s\\_Average.Precol.GPA & s\\_GRE.Combined.General.Write.Score & s\\_GRE.Combined.Quantitative.Score & s\\_GRE.Combined.General.Verbal.Score & s\\_GMAT.Score\\\\\n",
       "\\hline\n",
       "\t 10095                      & 10095.0                    &  8325                      &  9250                      & 2014                       & 24.0                       & GD Management              & 29                         & Doctor of Philosophy       & Male                       & ...                        & 1.07114471                 & -0.5199562                 &  1.338065e-05              &  2.107395e-10              &  5.553861e-01              &  1.021048e+00              &  0.0000189473              &  4.961343e-07              & -3.187613e-07              &  15.639542923             \\\\\n",
       "\t  8340                      &  8340.0                    &  9175                      &  6885                      & 2012                       & 24.0                       & GD Management              & 31                         & Doctor of Philosophy       & Male                       & ...                        & 0.64687796                 & -0.2634601                 &  5.575445e-06              &  2.107395e-10              &  2.313988e-01              &  4.254145e-01              &  0.0000189473              &  4.961343e-07              & -3.187613e-07              &   9.840944996             \\\\\n",
       "\t  4685                      &  4685.0                    &  4935                      &  3699                      & 2012                       & 34.0                       & GD Management              & 41                         & Doctor of Philosophy       & Male                       & ...                        & 0.64687796                 & -0.7055291                 &  7.743558e-06              &  2.107395e-10              &  3.213952e-01              &  5.908682e-01              &  0.0000189473              &  4.961343e-07              & -3.187613e-07              &   9.840944996             \\\\\n",
       "\t 11100                      & 11105.0                    & 11105                      &     0                      & 2017                       & 22.3                       & GD Management              & 25                         & Doctor of Philosophy       & Male                       & ...                        & 1.70754483                 & -0.4096741                 & -2.372856e-06              &  2.107395e-10              & -9.858835e-02              & -1.812383e-01              &  0.0000189473              &  4.961343e-07              & -3.187613e-07              &   9.840944996             \\\\\n",
       "\t  4685                      &  4685.0                    &  4935                      &  3699                      & 2012                       & 30.0                       & GD Management              & 37                         & Doctor of Philosophy       & Female                     & ...                        & 0.64687796                 & -0.6754591                 &  1.381427e-05              &  2.107395e-10              &  5.733854e-01              &  1.054139e+00              &  0.0000189473              &  4.961343e-07              & -3.187613e-07              &   7.908079021             \\\\\n",
       "\t 11105                      & 11105.0                    & 11100                      & 11100                      & 2015                       & 31.0                       & GD Management              & 35                         & Doctor of Philosophy       & Male                       & ...                        & 1.28327808                 & -0.4290227                 & -6.132364e-06              &  2.107395e-10              & -2.545823e-01              & -4.680359e-01              &  0.0000189473              &  4.961343e-07              & -3.187613e-07              &   7.908079021             \\\\\n",
       "\t  7580                      &  7580.0                    &  8340                      &  6255                      & 2011                       & 29.0                       & GD Management              & 37                         & Doctor of Philosophy       & Male                       & ...                        & 0.43474459                 & -0.4722164                 & -9.409784e-10              &  2.107395e-10              & -2.179561e-10              & -2.545443e-07              &  0.0000189473              &  4.961343e-07              & -3.187613e-07              &   5.975213045             \\\\\n",
       "\t 10095                      &  9251.0                    & 11105                      & 11105                      & 2014                       & 26.0                       & GD Management              & 31                         & Doctor of Philosophy       & Female                     & ...                        & 1.07114471                 & -0.4523077                 &  2.248673e-05              &  2.107395e-10              &  9.333713e-01              &  1.715954e+00              &  0.0000189473              &  4.961343e-07              & -3.187613e-07              &   5.975213045             \\\\\n",
       "\t  4935                      &     0.0                    &     0                      &     0                      & 2013                       & 38.0                       & GD Management              & 44                         & Doctor of Philosophy       & Male                       & ...                        & 0.85901134                 &  0.5835778                 & -2.911436e-05              &  2.107395e-10              & -1.208545e+00              & -2.221846e+00              &  0.0000189473              &  4.961343e-07              & -3.187613e-07              &   5.975213045             \\\\\n",
       "\t  6625                      &  6625.0                    &  6890                      &  6085                      & 2009                       & 38.0                       & GD Management              & 48                         & Doctor of Philosophy       & Male                       & ...                        & 0.01047784                 & -0.2156751                 &  7.743558e-06              &  2.107395e-10              &  3.213952e-01              &  5.908682e-01              &  0.0000189473              &  4.961343e-07              & -3.187613e-07              &   4.042347070             \\\\\n",
       "\t 11105                      & 11105.0                    & 11100                      & 11100                      & 2015                       & 27.0                       & GD Management              & 31                         & Doctor of Philosophy       & Female                     & ...                        & 1.28327808                 & -0.4286791                 &  1.446471e-05              &  2.107395e-10              &  6.003843e-01              &  1.103775e+00              &  0.0000189473              &  4.961343e-07              & -3.187613e-07              &   2.109481095             \\\\\n",
       "\t  6625                      &  6625.0                    &     0                      &     0                      & 2009                       & 36.0                       & GD Management              & 46                         & Doctor of Philosophy       & Male                       & ...                        & 0.01047784                 & -0.6597568                 & -3.747440e-06              & -2.365187e+00              & -1.555861e-01              & -2.860367e-01              & -0.5485791332              & -1.204902e-01              & -7.046120e-01              &   2.109481095             \\\\\n",
       "\t  7580                      &  6320.0                    &     0                      &     0                      & 2011                       & 26.0                       & GD Management              & 34                         & Doctor of Philosophy       & Female                     & ...                        & 0.43474459                 & -0.5588014                 & -2.446572e-06              &  2.107395e-10              & -1.015882e-01              & -1.867645e-01              &  0.0000189473              &  4.961343e-07              & -3.187613e-07              &   2.109481095             \\\\\n",
       "\t  7580                      &  7580.0                    &  8340                      &  6255                      & 2011                       & 25.0                       & GD Management              & 33                         & Doctor of Philosophy       & Female                     & ...                        & 0.43474459                 & -0.3252595                 & -8.734100e-06              &  2.107395e-10              & -3.625780e-01              & -6.665804e-01              &  0.0000189473              &  4.961343e-07              & -3.187613e-07              &   0.176615119             \\\\\n",
       "\t  6625                      &  6625.0                    &  6890                      &  6890                      & 2009                       & 25.0                       & GD Management              & 35                         & Doctor of Philosophy       & Female                     & ...                        & 0.01047784                 & -0.5218814                 & -9.409784e-10              &  2.107395e-10              & -2.179561e-10              & -2.545443e-07              &  0.0000189473              &  4.961343e-07              & -3.187613e-07              &   0.176615119             \\\\\n",
       "\t  6890                      &  6890.0                    &  7580                      &  7580                      & 2010                       & 30.0                       & GD Management              & 39                         & Doctor of Philosophy       & Male                       & ...                        & 0.22261122                 & -0.3886843                 &  1.554876e-05              &  2.107395e-10              &  6.453826e-01              &  1.186502e+00              &  0.0000189473              &  4.961343e-07              & -3.187613e-07              &  -1.756250856             \\\\\n",
       "\t  6625                      &  6625.0                    &  6890                      &  6890                      & 2009                       & 26.0                       & GD Management              & 36                         & Doctor of Philosophy       & Female                     & ...                        & 0.01047784                 & -0.2924776                 & -9.409784e-10              &  2.107395e-10              & -2.179561e-10              & -2.545443e-07              &  0.0000189473              &  4.961343e-07              & -3.187613e-07              &  -5.621982807             \\\\\n",
       "\t  4685                      &  4685.0                    &  4935                      &     0                      & 2012                       & 31.0                       & GD Management              & 38                         & Doctor of Philosophy       & Female                     & ...                        & 0.64687796                 & -0.7086219                 &  1.022408e-06              &  2.107395e-10              &  4.240614e-02              &  7.796156e-02              &  0.0000189473              &  4.961343e-07              & -3.187613e-07              &  -7.554848783             \\\\\n",
       "\t  6625                      &  6072.0                    &     0                      &     0                      & 2009                       & 32.0                       & GD Management              & 42                         & Doctor of Philosophy       & Male                       & ...                        & 0.01047784                 & -0.5001253                 &  1.641601e-05              &  2.107395e-10              &  6.813812e-01              &  1.252683e+00              &  0.0000189473              &  4.961343e-07              & -3.187613e-07              & -11.420580734             \\\\\n",
       "\t  6625                      &  5299.2                    &  6890                      &  6890                      & 2009                       & 32.0                       & GD Management              & 42                         & Doctor of Philosophy       & Female                     & ...                        & 0.01047784                 & -0.4708828                 & -9.409784e-10              &  2.107395e-10              & -2.179561e-10              & -2.545443e-07              &  0.0000189473              &  4.961343e-07              & -3.187613e-07              & -13.353446709             \\\\\n",
       "\t  4435                      &  4435.0                    &  4685                      &  3510                      & 2011                       & 24.0                       & GD Management              & 32                         & Doctor of Philosophy       & Male                       & ...                        & 0.43474459                 & -0.6996601                 & -9.409784e-10              &  2.107395e-10              & -2.179561e-10              & -2.545443e-07              &  0.0000189473              &  4.961343e-07              & -3.187613e-07              & -15.286312685             \\\\\n",
       "\t  6625                      &  6625.0                    &  6890                      &  6890                      & 2009                       & 30.0                       & GD Management              & 40                         & Doctor of Philosophy       & Female                     & ...                        & 0.01047784                 & -0.4824223                 & -9.409784e-10              &  2.107395e-10              & -2.179561e-10              & -2.545443e-07              &  0.0000189473              &  4.961343e-07              & -3.187613e-07              & -17.219178660             \\\\\n",
       "\t  4435                      &  4435.0                    &  4685                      &  3510                      & 2011                       & 25.0                       & GD Management              & 33                         & Doctor of Philosophy       & Female                     & ...                        & 0.43474459                 & -0.6666319                 &  1.728326e-05              &  2.107395e-10              &  7.173798e-01              &  1.318865e+00              &  0.0000189473              &  4.961343e-07              & -3.187613e-07              & -17.219178660             \\\\\n",
       "\t     0                      &     0.0                    &  5435                      &     0                      & 2015                       & 40.0                       & GD Harpur                  & 44                         & Doctor of Philosophy       & Male                       & ...                        & 1.28327808                 &  0.2668279                 &  2.309457e-01              & -3.371835e+00              &  3.925037e-01              &  1.368501e+00              & -0.5485791332              &  3.397846e-02              & -3.173954e-01              & -21.084910611             \\\\\n",
       "\t  4685                      &  4935.0                    &  4110                      &   432                      & 2013                       & 22.3                       & GD Harpur                  & 29                         & Doctor of Philosophy       & Male                       & ...                        & 0.85901134                 & -0.6549478                 & -1.125434e-01              &  2.107395e-10              & -3.004692e-01              &  9.450694e-02              & -0.5485791332              &  8.546803e-02              &  3.279657e-01              &   0.008539859             \\\\\n",
       "\t     0                      &     0.0                    &     0                      &     0                      & 2013                       & 25.3                       & GD Nursing                 & 32                         & Doctor of Nursing Practice & Male                       & ...                        & 0.85901134                 & -0.3549195                 & -2.195959e-05              &  2.107395e-10              & -9.115566e-01              & -1.675848e+00              &  0.0000189473              &  4.961343e-07              & -3.187613e-07              &   0.008539859             \\\\\n",
       "\t  4685                      &  4685.0                    &  3699                      &  3699                      & 2012                       & 22.0                       & GD Harpur                  & 29                         & Doctor of Philosophy       & Female                     & ...                        & 0.64687796                 & -0.6874191                 &  4.148709e-01              &  2.107395e-10              &  6.817704e-01              &  2.832543e-02              &  0.3180845011              & -1.204902e-01              & -5.110037e-01              &   0.008539859             \\\\\n",
       "\t  4685                      &  4685.0                    &  3699                      &  3699                      & 2012                       & 23.0                       & GD Harpur                  & 30                         & Doctor of Philosophy       & Female                     & ...                        & 0.64687796                 & -0.6869336                 & -4.260311e-01              &  2.107395e-10              &  4.663449e+00              &  1.732499e+00              &  2.9180754037              &  8.546803e-02              &  9.733268e-01              &   0.008539859             \\\\\n",
       "\t 14616                      &     0.0                    &     0                      &     0                      & 2012                       & 24.3                       & GD Nursing                 & 32                         & Doctor of Nursing Practice & Male                       & ...                        & 0.64687796                 & -0.5674698                 &  2.337048e-01              &  2.107395e-10              &  7.417680e-01              &  1.386169e-01              &  0.3180845011              &  1.369576e-01              & -4.464676e-01              &   0.008539859             \\\\\n",
       "\t  4685                      &  8340.0                    &  6885                      &  6885                      & 2012                       & 21.0                       & GD Watson                  & 28                         & Doctor of Philosophy       & Male                       & ...                        & 0.64687796                 & -0.5655772                 & -1.610568e-05              &  2.107395e-10              & -6.685661e-01              & -1.229123e+00              &  0.0000189473              &  4.961343e-07              & -3.187613e-07              &   0.008539859             \\\\\n",
       "\t ... & ... & ... & ... & ... & ... & ... & ... & ... & ... &     & ... & ... & ... & ... & ... & ... & ... & ... & ... & ...\\\\\n",
       "\t 11105                & 11105                &     0                &    0                 & 2017                 & 26.0                 & GD Harpur            & 28                   & Doctor of Philosophy & Female               & ...                  & 1.707545             & -0.5559245           &  9.611482e-01        & 2.107395e-10         & -1.370113e+00        & -2.545443e-07        & -1.4152427674        & -7.898546e-01        & -8.336842e-01        & 0.008539859         \\\\\n",
       "\t  4158                &  4158                &     0                &    0                 & 2017                 & 23.0                 & GD Harpur            & 25                   & Doctor of Philosophy & Female               & ...                  & 1.707545             & -0.7342813           &  3.451927e-02        & 2.107395e-10         &  3.636211e+00        &  1.715954e+00        &  2.0514117695        & -2.749589e-01        &  4.570379e-01        & 0.008539859         \\\\\n",
       "\t     0                &     0                &     0                &    0                 & 2017                 & 23.0                 & GD Harpur            & 25                   & Doctor of Philosophy & Female               & ...                  & 1.707545             &  2.2748042           &  7.418446e-02        & 2.107395e-10         &  3.168229e+00        &  8.555943e-01        &  2.0514117695        &  3.397846e-02        &  5.285188e-03        & 0.008539859         \\\\\n",
       "\t 11105                & 11105                & 11325                &    0                 & 2017                 & 26.0                 & GD Harpur            & 28                   & Doctor of Philosophy & Female               & ...                  & 1.707545             & -0.5589091           & -1.139206e-01        & 2.107395e-10         & -8.867242e-01        &  8.886850e-01        & -1.4152427674        &  3.397846e-02        &  3.925018e-01        & 0.008539859         \\\\\n",
       "\t 11105                & 11105                &  4158                & 4158                 & 2017                 & 22.0                 & GD Harpur            & 24                   & Doctor of Philosophy & Male                 & ...                  & 1.707545             & -0.6629076           &  1.148307e-02        & 2.107395e-10         &  1.149752e+00        &  8.886850e-01        &  0.3180845011        &  3.397846e-02        &  1.343574e-01        & 0.008539859         \\\\\n",
       "\t  8325                &  8325                &     0                &    0                 & 2017                 & 35.0                 & GD Watson            & 37                   & Doctor of Philosophy & Male                 & ...                  & 1.707545             & -0.5460279           &  6.043778e-01        & 2.107395e-10         & -7.787284e-01        &  1.087230e+00        & -1.4152427674        & -6.900067e-02        & -9.627564e-01        & 0.008539859         \\\\\n",
       "\t 11105                & 11105                &     0                &    0                 & 2017                 & 27.0                 & GD Harpur            & 29                   & Doctor of Philosophy & Male                 & ...                  & 1.707545             & -0.5472911           & -1.987949e-02        & 2.107395e-10         &  6.663632e-01        & -2.545443e-07        &  0.3180845011        &  3.397846e-02        &  1.988935e-01        & 0.008539859         \\\\\n",
       "\t 11105                &     0                &     0                &    0                 & 2017                 & 23.0                 & GD Harpur            & 25                   & Doctor of Philosophy & Female               & ...                  & 1.707545             & -0.6661745           &  7.131182e-01        & 2.107395e-10         & -1.282709e+00        &  1.606884e-01        & -1.4152427674        & -6.868755e-01        & -4.464676e-01        & 0.008539859         \\\\\n",
       "\t  8325                &  8325                &     0                &    0                 & 2017                 & 25.0                 & GD Watson            & 27                   & Doctor of Philosophy & Male                 & ...                  & 1.707545             & -0.5334639           &  5.251547e-02        & 2.107395e-10         & -2.200673e+00        & -1.526940e+00        & -1.4152427674        &  3.944054e-01        & -3.819315e-01        & 0.008539859         \\\\\n",
       "\t  4077                &  4077                &  4158                & 4158                 & 2017                 & 26.0                 & GD Harpur            & 28                   & Doctor of Philosophy & Male                 & ...                  & 1.707545             & -0.6065481           &  5.688386e-01        & 2.107395e-10         & -1.840687e+00        & -8.651249e-01        & -1.4152427674        & -2.234694e-01        & -7.046120e-01        & 0.008539859         \\\\\n",
       "\t  8325                &  8325                &     0                &    0                 & 2017                 & 25.0                 & GD Watson            & 27                   & Doctor of Philosophy & Male                 & ...                  & 1.707545             &  0.2568415           &  4.761986e-01        & 2.107395e-10         & -7.967277e-01        &  1.054139e+00        & -1.4152427674        & -1.719798e-01        & -5.755398e-01        & 0.008539859         \\\\\n",
       "\t 11105                & 11105                &     0                &    0                 & 2017                 & 32.0                 & GD Management        & 34                   & Doctor of Philosophy & Female               & ...                  & 1.707545             & -0.5495460           & -2.087553e-05        & 2.107395e-10         & -8.665583e-01        & -1.593122e+00        &  0.0000189473        &  4.961343e-07        & -3.187613e-07        & 0.008539859         \\\\\n",
       "\t  8325                &  8325                &  8496                &    0                 & 2017                 & 27.0                 & GD Watson            & 29                   & Doctor of Philosophy & Female               & ...                  & 1.707545             & -0.5314734           &  6.015940e-01        & 2.107395e-10         & -2.156953e+00        &  4.254145e-01        & -2.2819064016        & -1.719798e-01        & -8.336842e-01        & 0.008539859         \\\\\n",
       "\t     0                &     0                &     0                &    0                 & 2017                 & 49.0                 & GD Watson            & 51                   & Doctor of Philosophy & Male                 & ...                  & 1.707545             &  0.5497986           &  7.541864e-01        & 2.107395e-10         &  9.247609e-01        &  4.750506e-01        &  0.3180845011        & -3.264485e-01        & -9.627564e-01        & 0.008539859         \\\\\n",
       "\t     0                &     0                &     0                &    0                 & 2018                 & 29.3                 & GD Nursing           & 31                   & Doctor of Philosophy & Male                 & ...                  & 1.919678             &  1.0479228           & -3.530629e-06        & 2.107395e-10         & -1.465865e-01        & -2.694914e-01        &  0.0000189473        &  4.961343e-07        & -3.187613e-07        & 0.008539859         \\\\\n",
       "\t     0                &     0                &     0                &    0                 & 2018                 & 27.3                 & GD Nursing           & 29                   & Doctor of Philosophy & Male                 & ...                  & 1.919678             &  0.6317277           & -4.952707e-07        & 2.107395e-10         & -2.059140e-02        & -3.785608e-02        &  0.0000189473        &  4.961343e-07        & -3.187613e-07        & 0.008539859         \\\\\n",
       "\t     0                &     0                &     0                &    0                 & 2017                 & 53.0                 & GD CCPA              & 55                   & Doctor of Education  & Female               & ...                  & 1.707545             & -0.4981803           &  4.274578e-06        & 2.107395e-10         &  1.774009e-01        &  3.261422e-01        &  0.0000189473        &  4.961343e-07        & -3.187613e-07        & 0.008539859         \\\\\n",
       "\t     0                &     0                &     0                &    0                 & 2018                 & 60.0                 & GD Watson            & 61                   & Doctor of Philosophy & Male                 & ...                  & 1.919678             & -0.3851318           & -9.409784e-10        & 2.107395e-10         & -2.179561e-10        & -2.545443e-07        &  0.0000189473        &  4.961343e-07        & -3.187613e-07        & 0.008539859         \\\\\n",
       "\t  8325                &     0                &     0                &    0                 & 2018                 & 24.3                 & GD Watson            & 26                   & Doctor of Philosophy & Male                 & ...                  & 1.919678             & -0.5212313           & -2.255316e-01        & 2.107395e-10         & -3.324351e+00        & -5.464740e+00        & -0.5485791332        &  5.488741e-01        &  5.285188e-03        & 0.008539859         \\\\\n",
       "\t  8325                &     0                &     0                &    0                 & 2018                 & 32.3                 & GD Watson            & 34                   & Doctor of Philosophy & Female               & ...                  & 1.919678             & -0.5171077           &  7.555674e-01        & 2.107395e-10         & -2.404443e+00        & -2.958339e-02        & -2.2819064016        & -2.749589e-01        & -1.027293e+00        & 0.008539859         \\\\\n",
       "\t 11325                & 11325                &     0                &    0                 & 2018                 & 24.0                 & GD Harpur            & 25                   & Doctor of Philosophy & Male                 & ...                  & 1.919678             & -0.6664034           & -2.323763e-01        & 2.107395e-10         &  1.563736e+00        &  1.649772e+00        &  0.3180845011        &  2.914263e-01        &  3.279657e-01        & 0.008539859         \\\\\n",
       "\t  8496                &  8496                &     0                &    0                 & 2018                 & 45.0                 & GD Harpur            & 46                   & Doctor of Philosophy & Female               & ...                  & 1.919678             & -0.6600468           &  4.525946e-01        & 2.107395e-10         & -3.964654e-01        & -8.196605e-02        & -0.5485791332        & -1.047302e+00        &  5.215741e-01        & 0.008539859         \\\\\n",
       "\t  8496                &     0                &     0                &    0                 & 2018                 & 26.0                 & GD Watson            & 27                   & Doctor of Philosophy & Male                 & ...                  & 1.919678             & -0.5468457           &  4.015767e-01        & 2.107395e-10         & -6.077351e-01        &  1.401592e+00        & -1.4152427674        &  5.488741e-01        & -1.285437e+00        & 0.008539859         \\\\\n",
       "\t 11325                & 11325                &     0                &    0                 & 2018                 & 30.0                 & GD Watson            & 31                   & Doctor of Philosophy & Female               & ...                  & 1.919678             & -0.5225055           &  5.416394e-01        & 2.107395e-10         & -2.299669e+00        & -1.708939e+00        & -1.4152427674        & -6.900067e-02        & -8.336842e-01        & 0.008539859         \\\\\n",
       "\t     0                &     0                &     0                &    0                 & 2018                 & 32.0                 & GD Watson            & 33                   & Doctor of Philosophy & Male                 & ...                  & 1.919678             & -0.5752917           &  8.610803e-06        & 2.107395e-10         &  3.573938e-01        &  6.570498e-01        &  0.0000189473        &  4.961343e-07        & -3.187613e-07        & 0.008539859         \\\\\n",
       "\t 11325                & 11325                &     0                &    0                 & 2018                 & 23.0                 & GD Harpur            & 24                   & Doctor of Philosophy & Female               & ...                  & 1.919678             & -0.6728149           &  2.226152e-01        & 2.107395e-10         &  3.240226e+00        &  9.879573e-01        &  2.0514117695        & -2.749589e-01        &  6.982130e-02        & 0.008539859         \\\\\n",
       "\t     0                &     0                &     0                &    0                 & 2018                 & 24.7                 & GD CCPA              & 26                   & Doctor of Education  & Female               & ...                  & 1.919678             & -0.2840005           &  2.248673e-05        & 2.107395e-10         &  9.333713e-01        &  1.715954e+00        &  0.0000189473        &  4.961343e-07        & -3.187613e-07        & 0.008539859         \\\\\n",
       "\t     0                &     0                &     0                &    0                 & 2018                 & 26.0                 & GD Nursing           & 27                   & Doctor of Philosophy & Female               & ...                  & 1.919678             &  2.1208565           &  1.193669e-05        & 2.107395e-10         &  4.953884e-01        &  9.107566e-01        &  0.0000189473        &  4.961343e-07        & -3.187613e-07        & 0.008539859         \\\\\n",
       "\t 11325                & 11325                &     0                &    0                 & 2018                 & 28.0                 & GD Watson            & 29                   & Doctor of Philosophy & Male                 & ...                  & 1.919678             & -0.5332117           & -3.740325e-02        & 2.107395e-10         & -3.394626e+00        & -3.721949e+00        & -1.4152427674        &  5.488741e-01        & -3.819315e-01        & 0.008539859         \\\\\n",
       "\t     0                &     0                &     0                &    0                 & 2019                 & 33.7                 & GD Watson            & 34                   & Doctor of Philosophy & Male                 & ...                  & 2.131812             & -0.3172367           & -2.571910e-05        & 2.107395e-10         & -1.067550e+00        & -1.962646e+00        &  0.0000189473        &  4.961343e-07        & -3.187613e-07        & 0.008539859         \\\\\n",
       "\\end{tabular}\n"
      ],
      "text/markdown": [
       "\n",
       "| X1st_Term_Funding | X2nd_Term_Funding | X3rd_Term_Funding | X4th_Term_Funding | Start_year | Start_age | College | Age | Degree | Gender | ... | s_start_year | avs_net_cost | s_SAPC1 | s_SAPC2 | s_SAPC3 | s_Average.Precol.GPA | s_GRE.Combined.General.Write.Score | s_GRE.Combined.Quantitative.Score | s_GRE.Combined.General.Verbal.Score | s_GMAT.Score |\n",
       "|---|---|---|---|---|---|---|---|---|---|---|---|---|---|---|---|---|---|---|---|---|\n",
       "| 10095                      | 10095.0                    |  8325                      |  9250                      | 2014                       | 24.0                       | GD Management              | 29                         | Doctor of Philosophy       | Male                       | ...                        | 1.07114471                 | -0.5199562                 |  1.338065e-05              |  2.107395e-10              |  5.553861e-01              |  1.021048e+00              |  0.0000189473              |  4.961343e-07              | -3.187613e-07              |  15.639542923              |\n",
       "|  8340                      |  8340.0                    |  9175                      |  6885                      | 2012                       | 24.0                       | GD Management              | 31                         | Doctor of Philosophy       | Male                       | ...                        | 0.64687796                 | -0.2634601                 |  5.575445e-06              |  2.107395e-10              |  2.313988e-01              |  4.254145e-01              |  0.0000189473              |  4.961343e-07              | -3.187613e-07              |   9.840944996              |\n",
       "|  4685                      |  4685.0                    |  4935                      |  3699                      | 2012                       | 34.0                       | GD Management              | 41                         | Doctor of Philosophy       | Male                       | ...                        | 0.64687796                 | -0.7055291                 |  7.743558e-06              |  2.107395e-10              |  3.213952e-01              |  5.908682e-01              |  0.0000189473              |  4.961343e-07              | -3.187613e-07              |   9.840944996              |\n",
       "| 11100                      | 11105.0                    | 11105                      |     0                      | 2017                       | 22.3                       | GD Management              | 25                         | Doctor of Philosophy       | Male                       | ...                        | 1.70754483                 | -0.4096741                 | -2.372856e-06              |  2.107395e-10              | -9.858835e-02              | -1.812383e-01              |  0.0000189473              |  4.961343e-07              | -3.187613e-07              |   9.840944996              |\n",
       "|  4685                      |  4685.0                    |  4935                      |  3699                      | 2012                       | 30.0                       | GD Management              | 37                         | Doctor of Philosophy       | Female                     | ...                        | 0.64687796                 | -0.6754591                 |  1.381427e-05              |  2.107395e-10              |  5.733854e-01              |  1.054139e+00              |  0.0000189473              |  4.961343e-07              | -3.187613e-07              |   7.908079021              |\n",
       "| 11105                      | 11105.0                    | 11100                      | 11100                      | 2015                       | 31.0                       | GD Management              | 35                         | Doctor of Philosophy       | Male                       | ...                        | 1.28327808                 | -0.4290227                 | -6.132364e-06              |  2.107395e-10              | -2.545823e-01              | -4.680359e-01              |  0.0000189473              |  4.961343e-07              | -3.187613e-07              |   7.908079021              |\n",
       "|  7580                      |  7580.0                    |  8340                      |  6255                      | 2011                       | 29.0                       | GD Management              | 37                         | Doctor of Philosophy       | Male                       | ...                        | 0.43474459                 | -0.4722164                 | -9.409784e-10              |  2.107395e-10              | -2.179561e-10              | -2.545443e-07              |  0.0000189473              |  4.961343e-07              | -3.187613e-07              |   5.975213045              |\n",
       "| 10095                      |  9251.0                    | 11105                      | 11105                      | 2014                       | 26.0                       | GD Management              | 31                         | Doctor of Philosophy       | Female                     | ...                        | 1.07114471                 | -0.4523077                 |  2.248673e-05              |  2.107395e-10              |  9.333713e-01              |  1.715954e+00              |  0.0000189473              |  4.961343e-07              | -3.187613e-07              |   5.975213045              |\n",
       "|  4935                      |     0.0                    |     0                      |     0                      | 2013                       | 38.0                       | GD Management              | 44                         | Doctor of Philosophy       | Male                       | ...                        | 0.85901134                 |  0.5835778                 | -2.911436e-05              |  2.107395e-10              | -1.208545e+00              | -2.221846e+00              |  0.0000189473              |  4.961343e-07              | -3.187613e-07              |   5.975213045              |\n",
       "|  6625                      |  6625.0                    |  6890                      |  6085                      | 2009                       | 38.0                       | GD Management              | 48                         | Doctor of Philosophy       | Male                       | ...                        | 0.01047784                 | -0.2156751                 |  7.743558e-06              |  2.107395e-10              |  3.213952e-01              |  5.908682e-01              |  0.0000189473              |  4.961343e-07              | -3.187613e-07              |   4.042347070              |\n",
       "| 11105                      | 11105.0                    | 11100                      | 11100                      | 2015                       | 27.0                       | GD Management              | 31                         | Doctor of Philosophy       | Female                     | ...                        | 1.28327808                 | -0.4286791                 |  1.446471e-05              |  2.107395e-10              |  6.003843e-01              |  1.103775e+00              |  0.0000189473              |  4.961343e-07              | -3.187613e-07              |   2.109481095              |\n",
       "|  6625                      |  6625.0                    |     0                      |     0                      | 2009                       | 36.0                       | GD Management              | 46                         | Doctor of Philosophy       | Male                       | ...                        | 0.01047784                 | -0.6597568                 | -3.747440e-06              | -2.365187e+00              | -1.555861e-01              | -2.860367e-01              | -0.5485791332              | -1.204902e-01              | -7.046120e-01              |   2.109481095              |\n",
       "|  7580                      |  6320.0                    |     0                      |     0                      | 2011                       | 26.0                       | GD Management              | 34                         | Doctor of Philosophy       | Female                     | ...                        | 0.43474459                 | -0.5588014                 | -2.446572e-06              |  2.107395e-10              | -1.015882e-01              | -1.867645e-01              |  0.0000189473              |  4.961343e-07              | -3.187613e-07              |   2.109481095              |\n",
       "|  7580                      |  7580.0                    |  8340                      |  6255                      | 2011                       | 25.0                       | GD Management              | 33                         | Doctor of Philosophy       | Female                     | ...                        | 0.43474459                 | -0.3252595                 | -8.734100e-06              |  2.107395e-10              | -3.625780e-01              | -6.665804e-01              |  0.0000189473              |  4.961343e-07              | -3.187613e-07              |   0.176615119              |\n",
       "|  6625                      |  6625.0                    |  6890                      |  6890                      | 2009                       | 25.0                       | GD Management              | 35                         | Doctor of Philosophy       | Female                     | ...                        | 0.01047784                 | -0.5218814                 | -9.409784e-10              |  2.107395e-10              | -2.179561e-10              | -2.545443e-07              |  0.0000189473              |  4.961343e-07              | -3.187613e-07              |   0.176615119              |\n",
       "|  6890                      |  6890.0                    |  7580                      |  7580                      | 2010                       | 30.0                       | GD Management              | 39                         | Doctor of Philosophy       | Male                       | ...                        | 0.22261122                 | -0.3886843                 |  1.554876e-05              |  2.107395e-10              |  6.453826e-01              |  1.186502e+00              |  0.0000189473              |  4.961343e-07              | -3.187613e-07              |  -1.756250856              |\n",
       "|  6625                      |  6625.0                    |  6890                      |  6890                      | 2009                       | 26.0                       | GD Management              | 36                         | Doctor of Philosophy       | Female                     | ...                        | 0.01047784                 | -0.2924776                 | -9.409784e-10              |  2.107395e-10              | -2.179561e-10              | -2.545443e-07              |  0.0000189473              |  4.961343e-07              | -3.187613e-07              |  -5.621982807              |\n",
       "|  4685                      |  4685.0                    |  4935                      |     0                      | 2012                       | 31.0                       | GD Management              | 38                         | Doctor of Philosophy       | Female                     | ...                        | 0.64687796                 | -0.7086219                 |  1.022408e-06              |  2.107395e-10              |  4.240614e-02              |  7.796156e-02              |  0.0000189473              |  4.961343e-07              | -3.187613e-07              |  -7.554848783              |\n",
       "|  6625                      |  6072.0                    |     0                      |     0                      | 2009                       | 32.0                       | GD Management              | 42                         | Doctor of Philosophy       | Male                       | ...                        | 0.01047784                 | -0.5001253                 |  1.641601e-05              |  2.107395e-10              |  6.813812e-01              |  1.252683e+00              |  0.0000189473              |  4.961343e-07              | -3.187613e-07              | -11.420580734              |\n",
       "|  6625                      |  5299.2                    |  6890                      |  6890                      | 2009                       | 32.0                       | GD Management              | 42                         | Doctor of Philosophy       | Female                     | ...                        | 0.01047784                 | -0.4708828                 | -9.409784e-10              |  2.107395e-10              | -2.179561e-10              | -2.545443e-07              |  0.0000189473              |  4.961343e-07              | -3.187613e-07              | -13.353446709              |\n",
       "|  4435                      |  4435.0                    |  4685                      |  3510                      | 2011                       | 24.0                       | GD Management              | 32                         | Doctor of Philosophy       | Male                       | ...                        | 0.43474459                 | -0.6996601                 | -9.409784e-10              |  2.107395e-10              | -2.179561e-10              | -2.545443e-07              |  0.0000189473              |  4.961343e-07              | -3.187613e-07              | -15.286312685              |\n",
       "|  6625                      |  6625.0                    |  6890                      |  6890                      | 2009                       | 30.0                       | GD Management              | 40                         | Doctor of Philosophy       | Female                     | ...                        | 0.01047784                 | -0.4824223                 | -9.409784e-10              |  2.107395e-10              | -2.179561e-10              | -2.545443e-07              |  0.0000189473              |  4.961343e-07              | -3.187613e-07              | -17.219178660              |\n",
       "|  4435                      |  4435.0                    |  4685                      |  3510                      | 2011                       | 25.0                       | GD Management              | 33                         | Doctor of Philosophy       | Female                     | ...                        | 0.43474459                 | -0.6666319                 |  1.728326e-05              |  2.107395e-10              |  7.173798e-01              |  1.318865e+00              |  0.0000189473              |  4.961343e-07              | -3.187613e-07              | -17.219178660              |\n",
       "|     0                      |     0.0                    |  5435                      |     0                      | 2015                       | 40.0                       | GD Harpur                  | 44                         | Doctor of Philosophy       | Male                       | ...                        | 1.28327808                 |  0.2668279                 |  2.309457e-01              | -3.371835e+00              |  3.925037e-01              |  1.368501e+00              | -0.5485791332              |  3.397846e-02              | -3.173954e-01              | -21.084910611              |\n",
       "|  4685                      |  4935.0                    |  4110                      |   432                      | 2013                       | 22.3                       | GD Harpur                  | 29                         | Doctor of Philosophy       | Male                       | ...                        | 0.85901134                 | -0.6549478                 | -1.125434e-01              |  2.107395e-10              | -3.004692e-01              |  9.450694e-02              | -0.5485791332              |  8.546803e-02              |  3.279657e-01              |   0.008539859              |\n",
       "|     0                      |     0.0                    |     0                      |     0                      | 2013                       | 25.3                       | GD Nursing                 | 32                         | Doctor of Nursing Practice | Male                       | ...                        | 0.85901134                 | -0.3549195                 | -2.195959e-05              |  2.107395e-10              | -9.115566e-01              | -1.675848e+00              |  0.0000189473              |  4.961343e-07              | -3.187613e-07              |   0.008539859              |\n",
       "|  4685                      |  4685.0                    |  3699                      |  3699                      | 2012                       | 22.0                       | GD Harpur                  | 29                         | Doctor of Philosophy       | Female                     | ...                        | 0.64687796                 | -0.6874191                 |  4.148709e-01              |  2.107395e-10              |  6.817704e-01              |  2.832543e-02              |  0.3180845011              | -1.204902e-01              | -5.110037e-01              |   0.008539859              |\n",
       "|  4685                      |  4685.0                    |  3699                      |  3699                      | 2012                       | 23.0                       | GD Harpur                  | 30                         | Doctor of Philosophy       | Female                     | ...                        | 0.64687796                 | -0.6869336                 | -4.260311e-01              |  2.107395e-10              |  4.663449e+00              |  1.732499e+00              |  2.9180754037              |  8.546803e-02              |  9.733268e-01              |   0.008539859              |\n",
       "| 14616                      |     0.0                    |     0                      |     0                      | 2012                       | 24.3                       | GD Nursing                 | 32                         | Doctor of Nursing Practice | Male                       | ...                        | 0.64687796                 | -0.5674698                 |  2.337048e-01              |  2.107395e-10              |  7.417680e-01              |  1.386169e-01              |  0.3180845011              |  1.369576e-01              | -4.464676e-01              |   0.008539859              |\n",
       "|  4685                      |  8340.0                    |  6885                      |  6885                      | 2012                       | 21.0                       | GD Watson                  | 28                         | Doctor of Philosophy       | Male                       | ...                        | 0.64687796                 | -0.5655772                 | -1.610568e-05              |  2.107395e-10              | -6.685661e-01              | -1.229123e+00              |  0.0000189473              |  4.961343e-07              | -3.187613e-07              |   0.008539859              |\n",
       "| ... | ... | ... | ... | ... | ... | ... | ... | ... | ... |     | ... | ... | ... | ... | ... | ... | ... | ... | ... | ... |\n",
       "| 11105                | 11105                |     0                |    0                 | 2017                 | 26.0                 | GD Harpur            | 28                   | Doctor of Philosophy | Female               | ...                  | 1.707545             | -0.5559245           |  9.611482e-01        | 2.107395e-10         | -1.370113e+00        | -2.545443e-07        | -1.4152427674        | -7.898546e-01        | -8.336842e-01        | 0.008539859          |\n",
       "|  4158                |  4158                |     0                |    0                 | 2017                 | 23.0                 | GD Harpur            | 25                   | Doctor of Philosophy | Female               | ...                  | 1.707545             | -0.7342813           |  3.451927e-02        | 2.107395e-10         |  3.636211e+00        |  1.715954e+00        |  2.0514117695        | -2.749589e-01        |  4.570379e-01        | 0.008539859          |\n",
       "|     0                |     0                |     0                |    0                 | 2017                 | 23.0                 | GD Harpur            | 25                   | Doctor of Philosophy | Female               | ...                  | 1.707545             |  2.2748042           |  7.418446e-02        | 2.107395e-10         |  3.168229e+00        |  8.555943e-01        |  2.0514117695        |  3.397846e-02        |  5.285188e-03        | 0.008539859          |\n",
       "| 11105                | 11105                | 11325                |    0                 | 2017                 | 26.0                 | GD Harpur            | 28                   | Doctor of Philosophy | Female               | ...                  | 1.707545             | -0.5589091           | -1.139206e-01        | 2.107395e-10         | -8.867242e-01        |  8.886850e-01        | -1.4152427674        |  3.397846e-02        |  3.925018e-01        | 0.008539859          |\n",
       "| 11105                | 11105                |  4158                | 4158                 | 2017                 | 22.0                 | GD Harpur            | 24                   | Doctor of Philosophy | Male                 | ...                  | 1.707545             | -0.6629076           |  1.148307e-02        | 2.107395e-10         |  1.149752e+00        |  8.886850e-01        |  0.3180845011        |  3.397846e-02        |  1.343574e-01        | 0.008539859          |\n",
       "|  8325                |  8325                |     0                |    0                 | 2017                 | 35.0                 | GD Watson            | 37                   | Doctor of Philosophy | Male                 | ...                  | 1.707545             | -0.5460279           |  6.043778e-01        | 2.107395e-10         | -7.787284e-01        |  1.087230e+00        | -1.4152427674        | -6.900067e-02        | -9.627564e-01        | 0.008539859          |\n",
       "| 11105                | 11105                |     0                |    0                 | 2017                 | 27.0                 | GD Harpur            | 29                   | Doctor of Philosophy | Male                 | ...                  | 1.707545             | -0.5472911           | -1.987949e-02        | 2.107395e-10         |  6.663632e-01        | -2.545443e-07        |  0.3180845011        |  3.397846e-02        |  1.988935e-01        | 0.008539859          |\n",
       "| 11105                |     0                |     0                |    0                 | 2017                 | 23.0                 | GD Harpur            | 25                   | Doctor of Philosophy | Female               | ...                  | 1.707545             | -0.6661745           |  7.131182e-01        | 2.107395e-10         | -1.282709e+00        |  1.606884e-01        | -1.4152427674        | -6.868755e-01        | -4.464676e-01        | 0.008539859          |\n",
       "|  8325                |  8325                |     0                |    0                 | 2017                 | 25.0                 | GD Watson            | 27                   | Doctor of Philosophy | Male                 | ...                  | 1.707545             | -0.5334639           |  5.251547e-02        | 2.107395e-10         | -2.200673e+00        | -1.526940e+00        | -1.4152427674        |  3.944054e-01        | -3.819315e-01        | 0.008539859          |\n",
       "|  4077                |  4077                |  4158                | 4158                 | 2017                 | 26.0                 | GD Harpur            | 28                   | Doctor of Philosophy | Male                 | ...                  | 1.707545             | -0.6065481           |  5.688386e-01        | 2.107395e-10         | -1.840687e+00        | -8.651249e-01        | -1.4152427674        | -2.234694e-01        | -7.046120e-01        | 0.008539859          |\n",
       "|  8325                |  8325                |     0                |    0                 | 2017                 | 25.0                 | GD Watson            | 27                   | Doctor of Philosophy | Male                 | ...                  | 1.707545             |  0.2568415           |  4.761986e-01        | 2.107395e-10         | -7.967277e-01        |  1.054139e+00        | -1.4152427674        | -1.719798e-01        | -5.755398e-01        | 0.008539859          |\n",
       "| 11105                | 11105                |     0                |    0                 | 2017                 | 32.0                 | GD Management        | 34                   | Doctor of Philosophy | Female               | ...                  | 1.707545             | -0.5495460           | -2.087553e-05        | 2.107395e-10         | -8.665583e-01        | -1.593122e+00        |  0.0000189473        |  4.961343e-07        | -3.187613e-07        | 0.008539859          |\n",
       "|  8325                |  8325                |  8496                |    0                 | 2017                 | 27.0                 | GD Watson            | 29                   | Doctor of Philosophy | Female               | ...                  | 1.707545             | -0.5314734           |  6.015940e-01        | 2.107395e-10         | -2.156953e+00        |  4.254145e-01        | -2.2819064016        | -1.719798e-01        | -8.336842e-01        | 0.008539859          |\n",
       "|     0                |     0                |     0                |    0                 | 2017                 | 49.0                 | GD Watson            | 51                   | Doctor of Philosophy | Male                 | ...                  | 1.707545             |  0.5497986           |  7.541864e-01        | 2.107395e-10         |  9.247609e-01        |  4.750506e-01        |  0.3180845011        | -3.264485e-01        | -9.627564e-01        | 0.008539859          |\n",
       "|     0                |     0                |     0                |    0                 | 2018                 | 29.3                 | GD Nursing           | 31                   | Doctor of Philosophy | Male                 | ...                  | 1.919678             |  1.0479228           | -3.530629e-06        | 2.107395e-10         | -1.465865e-01        | -2.694914e-01        |  0.0000189473        |  4.961343e-07        | -3.187613e-07        | 0.008539859          |\n",
       "|     0                |     0                |     0                |    0                 | 2018                 | 27.3                 | GD Nursing           | 29                   | Doctor of Philosophy | Male                 | ...                  | 1.919678             |  0.6317277           | -4.952707e-07        | 2.107395e-10         | -2.059140e-02        | -3.785608e-02        |  0.0000189473        |  4.961343e-07        | -3.187613e-07        | 0.008539859          |\n",
       "|     0                |     0                |     0                |    0                 | 2017                 | 53.0                 | GD CCPA              | 55                   | Doctor of Education  | Female               | ...                  | 1.707545             | -0.4981803           |  4.274578e-06        | 2.107395e-10         |  1.774009e-01        |  3.261422e-01        |  0.0000189473        |  4.961343e-07        | -3.187613e-07        | 0.008539859          |\n",
       "|     0                |     0                |     0                |    0                 | 2018                 | 60.0                 | GD Watson            | 61                   | Doctor of Philosophy | Male                 | ...                  | 1.919678             | -0.3851318           | -9.409784e-10        | 2.107395e-10         | -2.179561e-10        | -2.545443e-07        |  0.0000189473        |  4.961343e-07        | -3.187613e-07        | 0.008539859          |\n",
       "|  8325                |     0                |     0                |    0                 | 2018                 | 24.3                 | GD Watson            | 26                   | Doctor of Philosophy | Male                 | ...                  | 1.919678             | -0.5212313           | -2.255316e-01        | 2.107395e-10         | -3.324351e+00        | -5.464740e+00        | -0.5485791332        |  5.488741e-01        |  5.285188e-03        | 0.008539859          |\n",
       "|  8325                |     0                |     0                |    0                 | 2018                 | 32.3                 | GD Watson            | 34                   | Doctor of Philosophy | Female               | ...                  | 1.919678             | -0.5171077           |  7.555674e-01        | 2.107395e-10         | -2.404443e+00        | -2.958339e-02        | -2.2819064016        | -2.749589e-01        | -1.027293e+00        | 0.008539859          |\n",
       "| 11325                | 11325                |     0                |    0                 | 2018                 | 24.0                 | GD Harpur            | 25                   | Doctor of Philosophy | Male                 | ...                  | 1.919678             | -0.6664034           | -2.323763e-01        | 2.107395e-10         |  1.563736e+00        |  1.649772e+00        |  0.3180845011        |  2.914263e-01        |  3.279657e-01        | 0.008539859          |\n",
       "|  8496                |  8496                |     0                |    0                 | 2018                 | 45.0                 | GD Harpur            | 46                   | Doctor of Philosophy | Female               | ...                  | 1.919678             | -0.6600468           |  4.525946e-01        | 2.107395e-10         | -3.964654e-01        | -8.196605e-02        | -0.5485791332        | -1.047302e+00        |  5.215741e-01        | 0.008539859          |\n",
       "|  8496                |     0                |     0                |    0                 | 2018                 | 26.0                 | GD Watson            | 27                   | Doctor of Philosophy | Male                 | ...                  | 1.919678             | -0.5468457           |  4.015767e-01        | 2.107395e-10         | -6.077351e-01        |  1.401592e+00        | -1.4152427674        |  5.488741e-01        | -1.285437e+00        | 0.008539859          |\n",
       "| 11325                | 11325                |     0                |    0                 | 2018                 | 30.0                 | GD Watson            | 31                   | Doctor of Philosophy | Female               | ...                  | 1.919678             | -0.5225055           |  5.416394e-01        | 2.107395e-10         | -2.299669e+00        | -1.708939e+00        | -1.4152427674        | -6.900067e-02        | -8.336842e-01        | 0.008539859          |\n",
       "|     0                |     0                |     0                |    0                 | 2018                 | 32.0                 | GD Watson            | 33                   | Doctor of Philosophy | Male                 | ...                  | 1.919678             | -0.5752917           |  8.610803e-06        | 2.107395e-10         |  3.573938e-01        |  6.570498e-01        |  0.0000189473        |  4.961343e-07        | -3.187613e-07        | 0.008539859          |\n",
       "| 11325                | 11325                |     0                |    0                 | 2018                 | 23.0                 | GD Harpur            | 24                   | Doctor of Philosophy | Female               | ...                  | 1.919678             | -0.6728149           |  2.226152e-01        | 2.107395e-10         |  3.240226e+00        |  9.879573e-01        |  2.0514117695        | -2.749589e-01        |  6.982130e-02        | 0.008539859          |\n",
       "|     0                |     0                |     0                |    0                 | 2018                 | 24.7                 | GD CCPA              | 26                   | Doctor of Education  | Female               | ...                  | 1.919678             | -0.2840005           |  2.248673e-05        | 2.107395e-10         |  9.333713e-01        |  1.715954e+00        |  0.0000189473        |  4.961343e-07        | -3.187613e-07        | 0.008539859          |\n",
       "|     0                |     0                |     0                |    0                 | 2018                 | 26.0                 | GD Nursing           | 27                   | Doctor of Philosophy | Female               | ...                  | 1.919678             |  2.1208565           |  1.193669e-05        | 2.107395e-10         |  4.953884e-01        |  9.107566e-01        |  0.0000189473        |  4.961343e-07        | -3.187613e-07        | 0.008539859          |\n",
       "| 11325                | 11325                |     0                |    0                 | 2018                 | 28.0                 | GD Watson            | 29                   | Doctor of Philosophy | Male                 | ...                  | 1.919678             | -0.5332117           | -3.740325e-02        | 2.107395e-10         | -3.394626e+00        | -3.721949e+00        | -1.4152427674        |  5.488741e-01        | -3.819315e-01        | 0.008539859          |\n",
       "|     0                |     0                |     0                |    0                 | 2019                 | 33.7                 | GD Watson            | 34                   | Doctor of Philosophy | Male                 | ...                  | 2.131812             | -0.3172367           | -2.571910e-05        | 2.107395e-10         | -1.067550e+00        | -1.962646e+00        |  0.0000189473        |  4.961343e-07        | -3.187613e-07        | 0.008539859          |\n",
       "\n"
      ],
      "text/plain": [
       "     X1st_Term_Funding X2nd_Term_Funding X3rd_Term_Funding X4th_Term_Funding\n",
       "1    10095             10095.0            8325              9250            \n",
       "2     8340              8340.0            9175              6885            \n",
       "3     4685              4685.0            4935              3699            \n",
       "4    11100             11105.0           11105                 0            \n",
       "5     4685              4685.0            4935              3699            \n",
       "6    11105             11105.0           11100             11100            \n",
       "7     7580              7580.0            8340              6255            \n",
       "8    10095              9251.0           11105             11105            \n",
       "9     4935                 0.0               0                 0            \n",
       "10    6625              6625.0            6890              6085            \n",
       "11   11105             11105.0           11100             11100            \n",
       "12    6625              6625.0               0                 0            \n",
       "13    7580              6320.0               0                 0            \n",
       "14    7580              7580.0            8340              6255            \n",
       "15    6625              6625.0            6890              6890            \n",
       "16    6890              6890.0            7580              7580            \n",
       "17    6625              6625.0            6890              6890            \n",
       "18    4685              4685.0            4935                 0            \n",
       "19    6625              6072.0               0                 0            \n",
       "20    6625              5299.2            6890              6890            \n",
       "21    4435              4435.0            4685              3510            \n",
       "22    6625              6625.0            6890              6890            \n",
       "23    4435              4435.0            4685              3510            \n",
       "24       0                 0.0            5435                 0            \n",
       "25    4685              4935.0            4110               432            \n",
       "26       0                 0.0               0                 0            \n",
       "27    4685              4685.0            3699              3699            \n",
       "28    4685              4685.0            3699              3699            \n",
       "29   14616                 0.0               0                 0            \n",
       "30    4685              8340.0            6885              6885            \n",
       "...  ...               ...               ...               ...              \n",
       "2441 11105             11105                 0                0             \n",
       "2442  4158              4158                 0                0             \n",
       "2443     0                 0                 0                0             \n",
       "2444 11105             11105             11325                0             \n",
       "2445 11105             11105              4158             4158             \n",
       "2446  8325              8325                 0                0             \n",
       "2447 11105             11105                 0                0             \n",
       "2448 11105                 0                 0                0             \n",
       "2449  8325              8325                 0                0             \n",
       "2450  4077              4077              4158             4158             \n",
       "2451  8325              8325                 0                0             \n",
       "2452 11105             11105                 0                0             \n",
       "2453  8325              8325              8496                0             \n",
       "2454     0                 0                 0                0             \n",
       "2455     0                 0                 0                0             \n",
       "2456     0                 0                 0                0             \n",
       "2457     0                 0                 0                0             \n",
       "2458     0                 0                 0                0             \n",
       "2459  8325                 0                 0                0             \n",
       "2460  8325                 0                 0                0             \n",
       "2461 11325             11325                 0                0             \n",
       "2462  8496              8496                 0                0             \n",
       "2463  8496                 0                 0                0             \n",
       "2464 11325             11325                 0                0             \n",
       "2465     0                 0                 0                0             \n",
       "2466 11325             11325                 0                0             \n",
       "2467     0                 0                 0                0             \n",
       "2468     0                 0                 0                0             \n",
       "2469 11325             11325                 0                0             \n",
       "2470     0                 0                 0                0             \n",
       "     Start_year Start_age College       Age Degree                     Gender\n",
       "1    2014       24.0      GD Management 29  Doctor of Philosophy       Male  \n",
       "2    2012       24.0      GD Management 31  Doctor of Philosophy       Male  \n",
       "3    2012       34.0      GD Management 41  Doctor of Philosophy       Male  \n",
       "4    2017       22.3      GD Management 25  Doctor of Philosophy       Male  \n",
       "5    2012       30.0      GD Management 37  Doctor of Philosophy       Female\n",
       "6    2015       31.0      GD Management 35  Doctor of Philosophy       Male  \n",
       "7    2011       29.0      GD Management 37  Doctor of Philosophy       Male  \n",
       "8    2014       26.0      GD Management 31  Doctor of Philosophy       Female\n",
       "9    2013       38.0      GD Management 44  Doctor of Philosophy       Male  \n",
       "10   2009       38.0      GD Management 48  Doctor of Philosophy       Male  \n",
       "11   2015       27.0      GD Management 31  Doctor of Philosophy       Female\n",
       "12   2009       36.0      GD Management 46  Doctor of Philosophy       Male  \n",
       "13   2011       26.0      GD Management 34  Doctor of Philosophy       Female\n",
       "14   2011       25.0      GD Management 33  Doctor of Philosophy       Female\n",
       "15   2009       25.0      GD Management 35  Doctor of Philosophy       Female\n",
       "16   2010       30.0      GD Management 39  Doctor of Philosophy       Male  \n",
       "17   2009       26.0      GD Management 36  Doctor of Philosophy       Female\n",
       "18   2012       31.0      GD Management 38  Doctor of Philosophy       Female\n",
       "19   2009       32.0      GD Management 42  Doctor of Philosophy       Male  \n",
       "20   2009       32.0      GD Management 42  Doctor of Philosophy       Female\n",
       "21   2011       24.0      GD Management 32  Doctor of Philosophy       Male  \n",
       "22   2009       30.0      GD Management 40  Doctor of Philosophy       Female\n",
       "23   2011       25.0      GD Management 33  Doctor of Philosophy       Female\n",
       "24   2015       40.0      GD Harpur     44  Doctor of Philosophy       Male  \n",
       "25   2013       22.3      GD Harpur     29  Doctor of Philosophy       Male  \n",
       "26   2013       25.3      GD Nursing    32  Doctor of Nursing Practice Male  \n",
       "27   2012       22.0      GD Harpur     29  Doctor of Philosophy       Female\n",
       "28   2012       23.0      GD Harpur     30  Doctor of Philosophy       Female\n",
       "29   2012       24.3      GD Nursing    32  Doctor of Nursing Practice Male  \n",
       "30   2012       21.0      GD Watson     28  Doctor of Philosophy       Male  \n",
       "...  ...        ...       ...           ... ...                        ...   \n",
       "2441 2017       26.0      GD Harpur     28  Doctor of Philosophy       Female\n",
       "2442 2017       23.0      GD Harpur     25  Doctor of Philosophy       Female\n",
       "2443 2017       23.0      GD Harpur     25  Doctor of Philosophy       Female\n",
       "2444 2017       26.0      GD Harpur     28  Doctor of Philosophy       Female\n",
       "2445 2017       22.0      GD Harpur     24  Doctor of Philosophy       Male  \n",
       "2446 2017       35.0      GD Watson     37  Doctor of Philosophy       Male  \n",
       "2447 2017       27.0      GD Harpur     29  Doctor of Philosophy       Male  \n",
       "2448 2017       23.0      GD Harpur     25  Doctor of Philosophy       Female\n",
       "2449 2017       25.0      GD Watson     27  Doctor of Philosophy       Male  \n",
       "2450 2017       26.0      GD Harpur     28  Doctor of Philosophy       Male  \n",
       "2451 2017       25.0      GD Watson     27  Doctor of Philosophy       Male  \n",
       "2452 2017       32.0      GD Management 34  Doctor of Philosophy       Female\n",
       "2453 2017       27.0      GD Watson     29  Doctor of Philosophy       Female\n",
       "2454 2017       49.0      GD Watson     51  Doctor of Philosophy       Male  \n",
       "2455 2018       29.3      GD Nursing    31  Doctor of Philosophy       Male  \n",
       "2456 2018       27.3      GD Nursing    29  Doctor of Philosophy       Male  \n",
       "2457 2017       53.0      GD CCPA       55  Doctor of Education        Female\n",
       "2458 2018       60.0      GD Watson     61  Doctor of Philosophy       Male  \n",
       "2459 2018       24.3      GD Watson     26  Doctor of Philosophy       Male  \n",
       "2460 2018       32.3      GD Watson     34  Doctor of Philosophy       Female\n",
       "2461 2018       24.0      GD Harpur     25  Doctor of Philosophy       Male  \n",
       "2462 2018       45.0      GD Harpur     46  Doctor of Philosophy       Female\n",
       "2463 2018       26.0      GD Watson     27  Doctor of Philosophy       Male  \n",
       "2464 2018       30.0      GD Watson     31  Doctor of Philosophy       Female\n",
       "2465 2018       32.0      GD Watson     33  Doctor of Philosophy       Male  \n",
       "2466 2018       23.0      GD Harpur     24  Doctor of Philosophy       Female\n",
       "2467 2018       24.7      GD CCPA       26  Doctor of Education        Female\n",
       "2468 2018       26.0      GD Nursing    27  Doctor of Philosophy       Female\n",
       "2469 2018       28.0      GD Watson     29  Doctor of Philosophy       Male  \n",
       "2470 2019       33.7      GD Watson     34  Doctor of Philosophy       Male  \n",
       "     ... s_start_year avs_net_cost s_SAPC1       s_SAPC2       s_SAPC3      \n",
       "1    ... 1.07114471   -0.5199562    1.338065e-05  2.107395e-10  5.553861e-01\n",
       "2    ... 0.64687796   -0.2634601    5.575445e-06  2.107395e-10  2.313988e-01\n",
       "3    ... 0.64687796   -0.7055291    7.743558e-06  2.107395e-10  3.213952e-01\n",
       "4    ... 1.70754483   -0.4096741   -2.372856e-06  2.107395e-10 -9.858835e-02\n",
       "5    ... 0.64687796   -0.6754591    1.381427e-05  2.107395e-10  5.733854e-01\n",
       "6    ... 1.28327808   -0.4290227   -6.132364e-06  2.107395e-10 -2.545823e-01\n",
       "7    ... 0.43474459   -0.4722164   -9.409784e-10  2.107395e-10 -2.179561e-10\n",
       "8    ... 1.07114471   -0.4523077    2.248673e-05  2.107395e-10  9.333713e-01\n",
       "9    ... 0.85901134    0.5835778   -2.911436e-05  2.107395e-10 -1.208545e+00\n",
       "10   ... 0.01047784   -0.2156751    7.743558e-06  2.107395e-10  3.213952e-01\n",
       "11   ... 1.28327808   -0.4286791    1.446471e-05  2.107395e-10  6.003843e-01\n",
       "12   ... 0.01047784   -0.6597568   -3.747440e-06 -2.365187e+00 -1.555861e-01\n",
       "13   ... 0.43474459   -0.5588014   -2.446572e-06  2.107395e-10 -1.015882e-01\n",
       "14   ... 0.43474459   -0.3252595   -8.734100e-06  2.107395e-10 -3.625780e-01\n",
       "15   ... 0.01047784   -0.5218814   -9.409784e-10  2.107395e-10 -2.179561e-10\n",
       "16   ... 0.22261122   -0.3886843    1.554876e-05  2.107395e-10  6.453826e-01\n",
       "17   ... 0.01047784   -0.2924776   -9.409784e-10  2.107395e-10 -2.179561e-10\n",
       "18   ... 0.64687796   -0.7086219    1.022408e-06  2.107395e-10  4.240614e-02\n",
       "19   ... 0.01047784   -0.5001253    1.641601e-05  2.107395e-10  6.813812e-01\n",
       "20   ... 0.01047784   -0.4708828   -9.409784e-10  2.107395e-10 -2.179561e-10\n",
       "21   ... 0.43474459   -0.6996601   -9.409784e-10  2.107395e-10 -2.179561e-10\n",
       "22   ... 0.01047784   -0.4824223   -9.409784e-10  2.107395e-10 -2.179561e-10\n",
       "23   ... 0.43474459   -0.6666319    1.728326e-05  2.107395e-10  7.173798e-01\n",
       "24   ... 1.28327808    0.2668279    2.309457e-01 -3.371835e+00  3.925037e-01\n",
       "25   ... 0.85901134   -0.6549478   -1.125434e-01  2.107395e-10 -3.004692e-01\n",
       "26   ... 0.85901134   -0.3549195   -2.195959e-05  2.107395e-10 -9.115566e-01\n",
       "27   ... 0.64687796   -0.6874191    4.148709e-01  2.107395e-10  6.817704e-01\n",
       "28   ... 0.64687796   -0.6869336   -4.260311e-01  2.107395e-10  4.663449e+00\n",
       "29   ... 0.64687796   -0.5674698    2.337048e-01  2.107395e-10  7.417680e-01\n",
       "30   ... 0.64687796   -0.5655772   -1.610568e-05  2.107395e-10 -6.685661e-01\n",
       "...      ...          ...          ...           ...           ...          \n",
       "2441 ... 1.707545     -0.5559245    9.611482e-01 2.107395e-10  -1.370113e+00\n",
       "2442 ... 1.707545     -0.7342813    3.451927e-02 2.107395e-10   3.636211e+00\n",
       "2443 ... 1.707545      2.2748042    7.418446e-02 2.107395e-10   3.168229e+00\n",
       "2444 ... 1.707545     -0.5589091   -1.139206e-01 2.107395e-10  -8.867242e-01\n",
       "2445 ... 1.707545     -0.6629076    1.148307e-02 2.107395e-10   1.149752e+00\n",
       "2446 ... 1.707545     -0.5460279    6.043778e-01 2.107395e-10  -7.787284e-01\n",
       "2447 ... 1.707545     -0.5472911   -1.987949e-02 2.107395e-10   6.663632e-01\n",
       "2448 ... 1.707545     -0.6661745    7.131182e-01 2.107395e-10  -1.282709e+00\n",
       "2449 ... 1.707545     -0.5334639    5.251547e-02 2.107395e-10  -2.200673e+00\n",
       "2450 ... 1.707545     -0.6065481    5.688386e-01 2.107395e-10  -1.840687e+00\n",
       "2451 ... 1.707545      0.2568415    4.761986e-01 2.107395e-10  -7.967277e-01\n",
       "2452 ... 1.707545     -0.5495460   -2.087553e-05 2.107395e-10  -8.665583e-01\n",
       "2453 ... 1.707545     -0.5314734    6.015940e-01 2.107395e-10  -2.156953e+00\n",
       "2454 ... 1.707545      0.5497986    7.541864e-01 2.107395e-10   9.247609e-01\n",
       "2455 ... 1.919678      1.0479228   -3.530629e-06 2.107395e-10  -1.465865e-01\n",
       "2456 ... 1.919678      0.6317277   -4.952707e-07 2.107395e-10  -2.059140e-02\n",
       "2457 ... 1.707545     -0.4981803    4.274578e-06 2.107395e-10   1.774009e-01\n",
       "2458 ... 1.919678     -0.3851318   -9.409784e-10 2.107395e-10  -2.179561e-10\n",
       "2459 ... 1.919678     -0.5212313   -2.255316e-01 2.107395e-10  -3.324351e+00\n",
       "2460 ... 1.919678     -0.5171077    7.555674e-01 2.107395e-10  -2.404443e+00\n",
       "2461 ... 1.919678     -0.6664034   -2.323763e-01 2.107395e-10   1.563736e+00\n",
       "2462 ... 1.919678     -0.6600468    4.525946e-01 2.107395e-10  -3.964654e-01\n",
       "2463 ... 1.919678     -0.5468457    4.015767e-01 2.107395e-10  -6.077351e-01\n",
       "2464 ... 1.919678     -0.5225055    5.416394e-01 2.107395e-10  -2.299669e+00\n",
       "2465 ... 1.919678     -0.5752917    8.610803e-06 2.107395e-10   3.573938e-01\n",
       "2466 ... 1.919678     -0.6728149    2.226152e-01 2.107395e-10   3.240226e+00\n",
       "2467 ... 1.919678     -0.2840005    2.248673e-05 2.107395e-10   9.333713e-01\n",
       "2468 ... 1.919678      2.1208565    1.193669e-05 2.107395e-10   4.953884e-01\n",
       "2469 ... 1.919678     -0.5332117   -3.740325e-02 2.107395e-10  -3.394626e+00\n",
       "2470 ... 2.131812     -0.3172367   -2.571910e-05 2.107395e-10  -1.067550e+00\n",
       "     s_Average.Precol.GPA s_GRE.Combined.General.Write.Score\n",
       "1     1.021048e+00         0.0000189473                     \n",
       "2     4.254145e-01         0.0000189473                     \n",
       "3     5.908682e-01         0.0000189473                     \n",
       "4    -1.812383e-01         0.0000189473                     \n",
       "5     1.054139e+00         0.0000189473                     \n",
       "6    -4.680359e-01         0.0000189473                     \n",
       "7    -2.545443e-07         0.0000189473                     \n",
       "8     1.715954e+00         0.0000189473                     \n",
       "9    -2.221846e+00         0.0000189473                     \n",
       "10    5.908682e-01         0.0000189473                     \n",
       "11    1.103775e+00         0.0000189473                     \n",
       "12   -2.860367e-01        -0.5485791332                     \n",
       "13   -1.867645e-01         0.0000189473                     \n",
       "14   -6.665804e-01         0.0000189473                     \n",
       "15   -2.545443e-07         0.0000189473                     \n",
       "16    1.186502e+00         0.0000189473                     \n",
       "17   -2.545443e-07         0.0000189473                     \n",
       "18    7.796156e-02         0.0000189473                     \n",
       "19    1.252683e+00         0.0000189473                     \n",
       "20   -2.545443e-07         0.0000189473                     \n",
       "21   -2.545443e-07         0.0000189473                     \n",
       "22   -2.545443e-07         0.0000189473                     \n",
       "23    1.318865e+00         0.0000189473                     \n",
       "24    1.368501e+00        -0.5485791332                     \n",
       "25    9.450694e-02        -0.5485791332                     \n",
       "26   -1.675848e+00         0.0000189473                     \n",
       "27    2.832543e-02         0.3180845011                     \n",
       "28    1.732499e+00         2.9180754037                     \n",
       "29    1.386169e-01         0.3180845011                     \n",
       "30   -1.229123e+00         0.0000189473                     \n",
       "...  ...                  ...                               \n",
       "2441 -2.545443e-07        -1.4152427674                     \n",
       "2442  1.715954e+00         2.0514117695                     \n",
       "2443  8.555943e-01         2.0514117695                     \n",
       "2444  8.886850e-01        -1.4152427674                     \n",
       "2445  8.886850e-01         0.3180845011                     \n",
       "2446  1.087230e+00        -1.4152427674                     \n",
       "2447 -2.545443e-07         0.3180845011                     \n",
       "2448  1.606884e-01        -1.4152427674                     \n",
       "2449 -1.526940e+00        -1.4152427674                     \n",
       "2450 -8.651249e-01        -1.4152427674                     \n",
       "2451  1.054139e+00        -1.4152427674                     \n",
       "2452 -1.593122e+00         0.0000189473                     \n",
       "2453  4.254145e-01        -2.2819064016                     \n",
       "2454  4.750506e-01         0.3180845011                     \n",
       "2455 -2.694914e-01         0.0000189473                     \n",
       "2456 -3.785608e-02         0.0000189473                     \n",
       "2457  3.261422e-01         0.0000189473                     \n",
       "2458 -2.545443e-07         0.0000189473                     \n",
       "2459 -5.464740e+00        -0.5485791332                     \n",
       "2460 -2.958339e-02        -2.2819064016                     \n",
       "2461  1.649772e+00         0.3180845011                     \n",
       "2462 -8.196605e-02        -0.5485791332                     \n",
       "2463  1.401592e+00        -1.4152427674                     \n",
       "2464 -1.708939e+00        -1.4152427674                     \n",
       "2465  6.570498e-01         0.0000189473                     \n",
       "2466  9.879573e-01         2.0514117695                     \n",
       "2467  1.715954e+00         0.0000189473                     \n",
       "2468  9.107566e-01         0.0000189473                     \n",
       "2469 -3.721949e+00        -1.4152427674                     \n",
       "2470 -1.962646e+00         0.0000189473                     \n",
       "     s_GRE.Combined.Quantitative.Score s_GRE.Combined.General.Verbal.Score\n",
       "1     4.961343e-07                     -3.187613e-07                      \n",
       "2     4.961343e-07                     -3.187613e-07                      \n",
       "3     4.961343e-07                     -3.187613e-07                      \n",
       "4     4.961343e-07                     -3.187613e-07                      \n",
       "5     4.961343e-07                     -3.187613e-07                      \n",
       "6     4.961343e-07                     -3.187613e-07                      \n",
       "7     4.961343e-07                     -3.187613e-07                      \n",
       "8     4.961343e-07                     -3.187613e-07                      \n",
       "9     4.961343e-07                     -3.187613e-07                      \n",
       "10    4.961343e-07                     -3.187613e-07                      \n",
       "11    4.961343e-07                     -3.187613e-07                      \n",
       "12   -1.204902e-01                     -7.046120e-01                      \n",
       "13    4.961343e-07                     -3.187613e-07                      \n",
       "14    4.961343e-07                     -3.187613e-07                      \n",
       "15    4.961343e-07                     -3.187613e-07                      \n",
       "16    4.961343e-07                     -3.187613e-07                      \n",
       "17    4.961343e-07                     -3.187613e-07                      \n",
       "18    4.961343e-07                     -3.187613e-07                      \n",
       "19    4.961343e-07                     -3.187613e-07                      \n",
       "20    4.961343e-07                     -3.187613e-07                      \n",
       "21    4.961343e-07                     -3.187613e-07                      \n",
       "22    4.961343e-07                     -3.187613e-07                      \n",
       "23    4.961343e-07                     -3.187613e-07                      \n",
       "24    3.397846e-02                     -3.173954e-01                      \n",
       "25    8.546803e-02                      3.279657e-01                      \n",
       "26    4.961343e-07                     -3.187613e-07                      \n",
       "27   -1.204902e-01                     -5.110037e-01                      \n",
       "28    8.546803e-02                      9.733268e-01                      \n",
       "29    1.369576e-01                     -4.464676e-01                      \n",
       "30    4.961343e-07                     -3.187613e-07                      \n",
       "...  ...                               ...                                \n",
       "2441 -7.898546e-01                     -8.336842e-01                      \n",
       "2442 -2.749589e-01                      4.570379e-01                      \n",
       "2443  3.397846e-02                      5.285188e-03                      \n",
       "2444  3.397846e-02                      3.925018e-01                      \n",
       "2445  3.397846e-02                      1.343574e-01                      \n",
       "2446 -6.900067e-02                     -9.627564e-01                      \n",
       "2447  3.397846e-02                      1.988935e-01                      \n",
       "2448 -6.868755e-01                     -4.464676e-01                      \n",
       "2449  3.944054e-01                     -3.819315e-01                      \n",
       "2450 -2.234694e-01                     -7.046120e-01                      \n",
       "2451 -1.719798e-01                     -5.755398e-01                      \n",
       "2452  4.961343e-07                     -3.187613e-07                      \n",
       "2453 -1.719798e-01                     -8.336842e-01                      \n",
       "2454 -3.264485e-01                     -9.627564e-01                      \n",
       "2455  4.961343e-07                     -3.187613e-07                      \n",
       "2456  4.961343e-07                     -3.187613e-07                      \n",
       "2457  4.961343e-07                     -3.187613e-07                      \n",
       "2458  4.961343e-07                     -3.187613e-07                      \n",
       "2459  5.488741e-01                      5.285188e-03                      \n",
       "2460 -2.749589e-01                     -1.027293e+00                      \n",
       "2461  2.914263e-01                      3.279657e-01                      \n",
       "2462 -1.047302e+00                      5.215741e-01                      \n",
       "2463  5.488741e-01                     -1.285437e+00                      \n",
       "2464 -6.900067e-02                     -8.336842e-01                      \n",
       "2465  4.961343e-07                     -3.187613e-07                      \n",
       "2466 -2.749589e-01                      6.982130e-02                      \n",
       "2467  4.961343e-07                     -3.187613e-07                      \n",
       "2468  4.961343e-07                     -3.187613e-07                      \n",
       "2469  5.488741e-01                     -3.819315e-01                      \n",
       "2470  4.961343e-07                     -3.187613e-07                      \n",
       "     s_GMAT.Score \n",
       "1     15.639542923\n",
       "2      9.840944996\n",
       "3      9.840944996\n",
       "4      9.840944996\n",
       "5      7.908079021\n",
       "6      7.908079021\n",
       "7      5.975213045\n",
       "8      5.975213045\n",
       "9      5.975213045\n",
       "10     4.042347070\n",
       "11     2.109481095\n",
       "12     2.109481095\n",
       "13     2.109481095\n",
       "14     0.176615119\n",
       "15     0.176615119\n",
       "16    -1.756250856\n",
       "17    -5.621982807\n",
       "18    -7.554848783\n",
       "19   -11.420580734\n",
       "20   -13.353446709\n",
       "21   -15.286312685\n",
       "22   -17.219178660\n",
       "23   -17.219178660\n",
       "24   -21.084910611\n",
       "25     0.008539859\n",
       "26     0.008539859\n",
       "27     0.008539859\n",
       "28     0.008539859\n",
       "29     0.008539859\n",
       "30     0.008539859\n",
       "...  ...          \n",
       "2441 0.008539859  \n",
       "2442 0.008539859  \n",
       "2443 0.008539859  \n",
       "2444 0.008539859  \n",
       "2445 0.008539859  \n",
       "2446 0.008539859  \n",
       "2447 0.008539859  \n",
       "2448 0.008539859  \n",
       "2449 0.008539859  \n",
       "2450 0.008539859  \n",
       "2451 0.008539859  \n",
       "2452 0.008539859  \n",
       "2453 0.008539859  \n",
       "2454 0.008539859  \n",
       "2455 0.008539859  \n",
       "2456 0.008539859  \n",
       "2457 0.008539859  \n",
       "2458 0.008539859  \n",
       "2459 0.008539859  \n",
       "2460 0.008539859  \n",
       "2461 0.008539859  \n",
       "2462 0.008539859  \n",
       "2463 0.008539859  \n",
       "2464 0.008539859  \n",
       "2465 0.008539859  \n",
       "2466 0.008539859  \n",
       "2467 0.008539859  \n",
       "2468 0.008539859  \n",
       "2469 0.008539859  \n",
       "2470 0.008539859  "
      ]
     },
     "metadata": {},
     "output_type": "display_data"
    }
   ],
   "source": [
    "df"
   ]
  },
  {
   "cell_type": "code",
   "execution_count": 225,
   "metadata": {},
   "outputs": [
    {
     "data": {
      "text/plain": [
       "\n",
       "Call:\n",
       "glm(formula = Y ~ factor(funding_indicator) + factor(s_Citizenship) + \n",
       "    avs_net_cost + s_Average.Precol.GPA + s_GRE.Combined.General.Verbal.Score + \n",
       "    s_GRE.Combined.General.Write.Score + GPA_trend + s_start_year + \n",
       "    factor(s_College) + avs_net_cost:factor(s_College) + factor(s_College):factor(s_Citizenship) + \n",
       "    factor(s_College):s_GRE.Combined.General.Verbal.Score + factor(s_College):s_Average.Precol.GPA + \n",
       "    factor(s_College):s_GRE.Combined.General.Write.Score, family = \"binomial\", \n",
       "    data = df)\n",
       "\n",
       "Deviance Residuals: \n",
       "    Min       1Q   Median       3Q      Max  \n",
       "-2.8023  -1.0996   0.6777   0.9248   1.9389  \n",
       "\n",
       "Coefficients:\n",
       "                                                               Estimate\n",
       "(Intercept)                                                     0.02618\n",
       "factor(funding_indicator)1                                      1.08072\n",
       "factor(s_Citizenship)Africa                                     1.70099\n",
       "factor(s_Citizenship)Asia                                       0.41488\n",
       "factor(s_Citizenship)China                                      0.26405\n",
       "avs_net_cost                                                    0.33120\n",
       "s_Average.Precol.GPA                                            0.16508\n",
       "s_GRE.Combined.General.Verbal.Score                            -0.21616\n",
       "s_GRE.Combined.General.Write.Score                             -0.03925\n",
       "GPA_trend                                                       0.99588\n",
       "s_start_year                                                   -0.81080\n",
       "factor(s_College)GD Harpur                                     -0.58166\n",
       "avs_net_cost:factor(s_College)GD Harpur                        -0.31820\n",
       "factor(s_Citizenship)Africa:factor(s_College)GD Harpur         -0.97684\n",
       "factor(s_Citizenship)Asia:factor(s_College)GD Harpur            0.19812\n",
       "factor(s_Citizenship)China:factor(s_College)GD Harpur           0.03302\n",
       "s_GRE.Combined.General.Verbal.Score:factor(s_College)GD Harpur  0.15903\n",
       "s_Average.Precol.GPA:factor(s_College)GD Harpur                -0.03522\n",
       "s_GRE.Combined.General.Write.Score:factor(s_College)GD Harpur  -0.01099\n",
       "                                                               Std. Error\n",
       "(Intercept)                                                       0.11596\n",
       "factor(funding_indicator)1                                        0.11381\n",
       "factor(s_Citizenship)Africa                                       1.07833\n",
       "factor(s_Citizenship)Asia                                         0.23021\n",
       "factor(s_Citizenship)China                                        0.20905\n",
       "avs_net_cost                                                      0.11248\n",
       "s_Average.Precol.GPA                                              0.07815\n",
       "s_GRE.Combined.General.Verbal.Score                               0.29676\n",
       "s_GRE.Combined.General.Write.Score                                0.13506\n",
       "GPA_trend                                                         0.27049\n",
       "s_start_year                                                      0.05843\n",
       "factor(s_College)GD Harpur                                        0.12700\n",
       "avs_net_cost:factor(s_College)GD Harpur                           0.12298\n",
       "factor(s_Citizenship)Africa:factor(s_College)GD Harpur            1.13021\n",
       "factor(s_Citizenship)Asia:factor(s_College)GD Harpur              0.30283\n",
       "factor(s_Citizenship)China:factor(s_College)GD Harpur             0.29256\n",
       "s_GRE.Combined.General.Verbal.Score:factor(s_College)GD Harpur    0.30365\n",
       "s_Average.Precol.GPA:factor(s_College)GD Harpur                   0.09774\n",
       "s_GRE.Combined.General.Write.Score:factor(s_College)GD Harpur     0.14762\n",
       "                                                               z value Pr(>|z|)\n",
       "(Intercept)                                                      0.226 0.821401\n",
       "factor(funding_indicator)1                                       9.496  < 2e-16\n",
       "factor(s_Citizenship)Africa                                      1.577 0.114698\n",
       "factor(s_Citizenship)Asia                                        1.802 0.071517\n",
       "factor(s_Citizenship)China                                       1.263 0.206563\n",
       "avs_net_cost                                                     2.945 0.003233\n",
       "s_Average.Precol.GPA                                             2.112 0.034656\n",
       "s_GRE.Combined.General.Verbal.Score                             -0.728 0.466370\n",
       "s_GRE.Combined.General.Write.Score                              -0.291 0.771335\n",
       "GPA_trend                                                        3.682 0.000232\n",
       "s_start_year                                                   -13.876  < 2e-16\n",
       "factor(s_College)GD Harpur                                      -4.580 4.65e-06\n",
       "avs_net_cost:factor(s_College)GD Harpur                         -2.587 0.009671\n",
       "factor(s_Citizenship)Africa:factor(s_College)GD Harpur          -0.864 0.387424\n",
       "factor(s_Citizenship)Asia:factor(s_College)GD Harpur             0.654 0.512955\n",
       "factor(s_Citizenship)China:factor(s_College)GD Harpur            0.113 0.910127\n",
       "s_GRE.Combined.General.Verbal.Score:factor(s_College)GD Harpur   0.524 0.600470\n",
       "s_Average.Precol.GPA:factor(s_College)GD Harpur                 -0.360 0.718592\n",
       "s_GRE.Combined.General.Write.Score:factor(s_College)GD Harpur   -0.074 0.940674\n",
       "                                                                  \n",
       "(Intercept)                                                       \n",
       "factor(funding_indicator)1                                     ***\n",
       "factor(s_Citizenship)Africa                                       \n",
       "factor(s_Citizenship)Asia                                      .  \n",
       "factor(s_Citizenship)China                                        \n",
       "avs_net_cost                                                   ** \n",
       "s_Average.Precol.GPA                                           *  \n",
       "s_GRE.Combined.General.Verbal.Score                               \n",
       "s_GRE.Combined.General.Write.Score                                \n",
       "GPA_trend                                                      ***\n",
       "s_start_year                                                   ***\n",
       "factor(s_College)GD Harpur                                     ***\n",
       "avs_net_cost:factor(s_College)GD Harpur                        ** \n",
       "factor(s_Citizenship)Africa:factor(s_College)GD Harpur            \n",
       "factor(s_Citizenship)Asia:factor(s_College)GD Harpur              \n",
       "factor(s_Citizenship)China:factor(s_College)GD Harpur             \n",
       "s_GRE.Combined.General.Verbal.Score:factor(s_College)GD Harpur    \n",
       "s_Average.Precol.GPA:factor(s_College)GD Harpur                   \n",
       "s_GRE.Combined.General.Write.Score:factor(s_College)GD Harpur     \n",
       "---\n",
       "Signif. codes:  0 '***' 0.001 '**' 0.01 '*' 0.05 '.' 0.1 ' ' 1\n",
       "\n",
       "(Dispersion parameter for binomial family taken to be 1)\n",
       "\n",
       "    Null deviance: 3281.8  on 2469  degrees of freedom\n",
       "Residual deviance: 2950.2  on 2451  degrees of freedom\n",
       "AIC: 2988.2\n",
       "\n",
       "Number of Fisher Scoring iterations: 4\n"
      ]
     },
     "metadata": {},
     "output_type": "display_data"
    }
   ],
   "source": [
    "log_mod_total = glm(Y~factor(funding_indicator)+factor(s_Citizenship)+avs_net_cost+s_Average.Precol.GPA+\n",
    "                    s_GRE.Combined.General.Verbal.Score+s_GRE.Combined.General.Write.Score+GPA_trend+s_start_year+\n",
    "                    factor(s_College)+avs_net_cost:factor(s_College)+\n",
    "                factor(s_College):factor(s_Citizenship)+factor(s_College):s_GRE.Combined.General.Verbal.Score+factor(s_College):s_Average.Precol.GPA+factor(s_College):s_GRE.Combined.General.Write.Score,\n",
    "                data=df,family=\"binomial\")\n",
    "summary(log_mod_total)"
   ]
  },
  {
   "cell_type": "markdown",
   "metadata": {},
   "source": [
    "<b> Significant Variables of logistic regression model:"
   ]
  },
  {
   "cell_type": "code",
   "execution_count": 227,
   "metadata": {
    "scrolled": true
   },
   "outputs": [
    {
     "data": {
      "text/html": [
       "<table>\n",
       "<thead><tr><th></th><th scope=col>Estimate</th><th scope=col>Pr(&gt;|z|)</th></tr></thead>\n",
       "<tbody>\n",
       "\t<tr><th scope=row>factor(funding_indicator)1</th><td> 1.08072</td><td>0.00000 </td></tr>\n",
       "\t<tr><th scope=row>avs_net_cost</th><td> 0.33120</td><td>0.00323 </td></tr>\n",
       "\t<tr><th scope=row>s_Average.Precol.GPA</th><td> 0.16508</td><td>0.03466 </td></tr>\n",
       "\t<tr><th scope=row>GPA_trend</th><td> 0.99588</td><td>0.00023 </td></tr>\n",
       "\t<tr><th scope=row>s_start_year</th><td>-0.81080</td><td>0.00000 </td></tr>\n",
       "\t<tr><th scope=row>factor(s_College)GD Harpur</th><td>-0.58166</td><td>0.00000 </td></tr>\n",
       "\t<tr><th scope=row>avs_net_cost:factor(s_College)GD Harpur</th><td>-0.31820</td><td>0.00967 </td></tr>\n",
       "</tbody>\n",
       "</table>\n"
      ],
      "text/latex": [
       "\\begin{tabular}{r|ll}\n",
       "  & Estimate & Pr(>\\textbar{}z\\textbar{})\\\\\n",
       "\\hline\n",
       "\tfactor(funding\\_indicator)1 &  1.08072 & 0.00000 \\\\\n",
       "\tavs\\_net\\_cost &  0.33120 & 0.00323 \\\\\n",
       "\ts\\_Average.Precol.GPA &  0.16508 & 0.03466 \\\\\n",
       "\tGPA\\_trend &  0.99588 & 0.00023 \\\\\n",
       "\ts\\_start\\_year & -0.81080 & 0.00000 \\\\\n",
       "\tfactor(s\\_College)GD Harpur & -0.58166 & 0.00000 \\\\\n",
       "\tavs\\_net\\_cost:factor(s\\_College)GD Harpur & -0.31820 & 0.00967 \\\\\n",
       "\\end{tabular}\n"
      ],
      "text/markdown": [
       "\n",
       "| <!--/--> | Estimate | Pr(>|z|) |\n",
       "|---|---|---|\n",
       "| factor(funding_indicator)1 |  1.08072 | 0.00000  |\n",
       "| avs_net_cost |  0.33120 | 0.00323  |\n",
       "| s_Average.Precol.GPA |  0.16508 | 0.03466  |\n",
       "| GPA_trend |  0.99588 | 0.00023  |\n",
       "| s_start_year | -0.81080 | 0.00000  |\n",
       "| factor(s_College)GD Harpur | -0.58166 | 0.00000  |\n",
       "| avs_net_cost:factor(s_College)GD Harpur | -0.31820 | 0.00967  |\n",
       "\n"
      ],
      "text/plain": [
       "                                        Estimate Pr(>|z|)\n",
       "factor(funding_indicator)1               1.08072 0.00000 \n",
       "avs_net_cost                             0.33120 0.00323 \n",
       "s_Average.Precol.GPA                     0.16508 0.03466 \n",
       "GPA_trend                                0.99588 0.00023 \n",
       "s_start_year                            -0.81080 0.00000 \n",
       "factor(s_College)GD Harpur              -0.58166 0.00000 \n",
       "avs_net_cost:factor(s_College)GD Harpur -0.31820 0.00967 "
      ]
     },
     "metadata": {},
     "output_type": "display_data"
    }
   ],
   "source": [
    "round(summary(log_mod_total)$coeff[which(summary(log_mod_total)$coef[,4] <= .05),c(1,4)],5)"
   ]
  },
  {
   "cell_type": "markdown",
   "metadata": {},
   "source": [
    "<b> Both AIC:"
   ]
  },
  {
   "cell_type": "code",
   "execution_count": 228,
   "metadata": {
    "scrolled": true
   },
   "outputs": [
    {
     "name": "stdout",
     "output_type": "stream",
     "text": [
      "Start:  AIC=2988.15\n",
      "Y ~ factor(funding_indicator) + factor(s_Citizenship) + avs_net_cost + \n",
      "    s_Average.Precol.GPA + s_GRE.Combined.General.Verbal.Score + \n",
      "    s_GRE.Combined.General.Write.Score + GPA_trend + s_start_year + \n",
      "    factor(s_College) + avs_net_cost:factor(s_College) + factor(s_College):factor(s_Citizenship) + \n",
      "    factor(s_College):s_GRE.Combined.General.Verbal.Score + factor(s_College):s_Average.Precol.GPA + \n",
      "    factor(s_College):s_GRE.Combined.General.Write.Score\n",
      "\n",
      "                                                        Df Deviance    AIC\n",
      "- factor(s_Citizenship):factor(s_College)                3   2951.6 2983.6\n",
      "- s_GRE.Combined.General.Write.Score:factor(s_College)   1   2950.2 2986.2\n",
      "- s_Average.Precol.GPA:factor(s_College)                 1   2950.3 2986.3\n",
      "- s_GRE.Combined.General.Verbal.Score:factor(s_College)  1   2950.4 2986.4\n",
      "<none>                                                       2950.2 2988.2\n",
      "- avs_net_cost:factor(s_College)                         1   2958.1 2994.1\n",
      "- GPA_trend                                              1   2964.8 3000.8\n",
      "- factor(funding_indicator)                              1   3044.7 3080.7\n",
      "- s_start_year                                           1   3179.8 3215.8\n",
      "\n",
      "Step:  AIC=2983.58\n",
      "Y ~ factor(funding_indicator) + factor(s_Citizenship) + avs_net_cost + \n",
      "    s_Average.Precol.GPA + s_GRE.Combined.General.Verbal.Score + \n",
      "    s_GRE.Combined.General.Write.Score + GPA_trend + s_start_year + \n",
      "    factor(s_College) + avs_net_cost:factor(s_College) + s_GRE.Combined.General.Verbal.Score:factor(s_College) + \n",
      "    s_Average.Precol.GPA:factor(s_College) + s_GRE.Combined.General.Write.Score:factor(s_College)\n",
      "\n",
      "                                                        Df Deviance    AIC\n",
      "- s_GRE.Combined.General.Write.Score:factor(s_College)   1   2951.6 2981.6\n",
      "- s_Average.Precol.GPA:factor(s_College)                 1   2951.7 2981.7\n",
      "- s_GRE.Combined.General.Verbal.Score:factor(s_College)  1   2951.8 2981.8\n",
      "<none>                                                       2951.6 2983.6\n",
      "+ factor(s_Citizenship):factor(s_College)                3   2950.2 2988.2\n",
      "- avs_net_cost:factor(s_College)                         1   2959.5 2989.5\n",
      "- GPA_trend                                              1   2966.1 2996.1\n",
      "- factor(s_Citizenship)                                  3   2971.6 2997.6\n",
      "- factor(funding_indicator)                              1   3047.0 3077.0\n",
      "- s_start_year                                           1   3184.8 3214.8\n",
      "\n",
      "Step:  AIC=2981.61\n",
      "Y ~ factor(funding_indicator) + factor(s_Citizenship) + avs_net_cost + \n",
      "    s_Average.Precol.GPA + s_GRE.Combined.General.Verbal.Score + \n",
      "    s_GRE.Combined.General.Write.Score + GPA_trend + s_start_year + \n",
      "    factor(s_College) + avs_net_cost:factor(s_College) + s_GRE.Combined.General.Verbal.Score:factor(s_College) + \n",
      "    s_Average.Precol.GPA:factor(s_College)\n",
      "\n",
      "                                                        Df Deviance    AIC\n",
      "- s_Average.Precol.GPA:factor(s_College)                 1   2951.7 2979.7\n",
      "- s_GRE.Combined.General.Verbal.Score:factor(s_College)  1   2951.8 2979.8\n",
      "- s_GRE.Combined.General.Write.Score                     1   2952.5 2980.5\n",
      "<none>                                                       2951.6 2981.6\n",
      "+ s_GRE.Combined.General.Write.Score:factor(s_College)   1   2951.6 2983.6\n",
      "+ factor(s_Citizenship):factor(s_College)                3   2950.2 2986.2\n",
      "- avs_net_cost:factor(s_College)                         1   2959.5 2987.5\n",
      "- GPA_trend                                              1   2966.1 2994.1\n",
      "- factor(s_Citizenship)                                  3   2971.6 2995.6\n",
      "- factor(funding_indicator)                              1   3047.2 3075.2\n",
      "- s_start_year                                           1   3186.1 3214.1\n",
      "\n",
      "Step:  AIC=2979.75\n",
      "Y ~ factor(funding_indicator) + factor(s_Citizenship) + avs_net_cost + \n",
      "    s_Average.Precol.GPA + s_GRE.Combined.General.Verbal.Score + \n",
      "    s_GRE.Combined.General.Write.Score + GPA_trend + s_start_year + \n",
      "    factor(s_College) + avs_net_cost:factor(s_College) + s_GRE.Combined.General.Verbal.Score:factor(s_College)\n",
      "\n",
      "                                                        Df Deviance    AIC\n",
      "- s_GRE.Combined.General.Verbal.Score:factor(s_College)  1   2951.9 2977.9\n",
      "- s_GRE.Combined.General.Write.Score                     1   2952.7 2978.7\n",
      "<none>                                                       2951.7 2979.7\n",
      "+ s_Average.Precol.GPA:factor(s_College)                 1   2951.6 2981.6\n",
      "+ s_GRE.Combined.General.Write.Score:factor(s_College)   1   2951.7 2981.7\n",
      "+ factor(s_Citizenship):factor(s_College)                3   2950.3 2984.3\n",
      "- avs_net_cost:factor(s_College)                         1   2959.7 2985.7\n",
      "- s_Average.Precol.GPA                                   1   2961.7 2987.7\n",
      "- GPA_trend                                              1   2966.5 2992.5\n",
      "- factor(s_Citizenship)                                  3   2971.7 2993.7\n",
      "- factor(funding_indicator)                              1   3047.2 3073.2\n",
      "- s_start_year                                           1   3186.4 3212.4\n",
      "\n",
      "Step:  AIC=2977.93\n",
      "Y ~ factor(funding_indicator) + factor(s_Citizenship) + avs_net_cost + \n",
      "    s_Average.Precol.GPA + s_GRE.Combined.General.Verbal.Score + \n",
      "    s_GRE.Combined.General.Write.Score + GPA_trend + s_start_year + \n",
      "    factor(s_College) + avs_net_cost:factor(s_College)\n",
      "\n",
      "                                                        Df Deviance    AIC\n",
      "- s_GRE.Combined.General.Verbal.Score                    1   2953.2 2977.2\n",
      "- s_GRE.Combined.General.Write.Score                     1   2953.3 2977.3\n",
      "<none>                                                       2951.9 2977.9\n",
      "+ s_GRE.Combined.General.Verbal.Score:factor(s_College)  1   2951.7 2979.7\n",
      "+ s_Average.Precol.GPA:factor(s_College)                 1   2951.8 2979.8\n",
      "+ s_GRE.Combined.General.Write.Score:factor(s_College)   1   2951.9 2979.9\n",
      "+ factor(s_Citizenship):factor(s_College)                3   2950.6 2982.6\n",
      "- avs_net_cost:factor(s_College)                         1   2959.8 2983.8\n",
      "- s_Average.Precol.GPA                                   1   2962.0 2986.0\n",
      "- GPA_trend                                              1   2966.6 2990.6\n",
      "- factor(s_Citizenship)                                  3   2972.2 2992.2\n",
      "- factor(funding_indicator)                              1   3048.6 3072.6\n",
      "- s_start_year                                           1   3187.6 3211.6\n",
      "\n",
      "Step:  AIC=2977.19\n",
      "Y ~ factor(funding_indicator) + factor(s_Citizenship) + avs_net_cost + \n",
      "    s_Average.Precol.GPA + s_GRE.Combined.General.Write.Score + \n",
      "    GPA_trend + s_start_year + factor(s_College) + avs_net_cost:factor(s_College)\n",
      "\n",
      "                                                       Df Deviance    AIC\n",
      "<none>                                                      2953.2 2977.2\n",
      "- s_GRE.Combined.General.Write.Score                    1   2955.4 2977.4\n",
      "+ s_GRE.Combined.General.Verbal.Score                   1   2951.9 2977.9\n",
      "+ s_Average.Precol.GPA:factor(s_College)                1   2953.1 2979.1\n",
      "+ s_GRE.Combined.General.Write.Score:factor(s_College)  1   2953.1 2979.1\n",
      "+ factor(s_Citizenship):factor(s_College)               3   2951.9 2981.9\n",
      "- avs_net_cost:factor(s_College)                        1   2961.0 2983.0\n",
      "- s_Average.Precol.GPA                                  1   2963.0 2985.0\n",
      "- GPA_trend                                             1   2968.4 2990.4\n",
      "- factor(s_Citizenship)                                 3   2973.7 2991.7\n",
      "- factor(funding_indicator)                             1   3050.4 3072.4\n",
      "- s_start_year                                          1   3189.1 3211.1\n"
     ]
    }
   ],
   "source": [
    "log_mod_total_aic= stepAIC(log_mod_total, direction = 'both')"
   ]
  },
  {
   "cell_type": "markdown",
   "metadata": {},
   "source": [
    "<b> Significant variables both AIC selects:"
   ]
  },
  {
   "cell_type": "code",
   "execution_count": 229,
   "metadata": {
    "scrolled": true
   },
   "outputs": [
    {
     "data": {
      "text/html": [
       "<table>\n",
       "<thead><tr><th></th><th scope=col>Estimate</th><th scope=col>Pr(&gt;|z|)</th></tr></thead>\n",
       "<tbody>\n",
       "\t<tr><th scope=row>factor(funding_indicator)1</th><td> 1.07725</td><td>0.00000 </td></tr>\n",
       "\t<tr><th scope=row>factor(s_Citizenship)Africa</th><td> 0.84144</td><td>0.00837 </td></tr>\n",
       "\t<tr><th scope=row>factor(s_Citizenship)Asia</th><td> 0.53759</td><td>0.00027 </td></tr>\n",
       "\t<tr><th scope=row>avs_net_cost</th><td> 0.33024</td><td>0.00326 </td></tr>\n",
       "\t<tr><th scope=row>s_Average.Precol.GPA</th><td> 0.14133</td><td>0.00237 </td></tr>\n",
       "\t<tr><th scope=row>GPA_trend</th><td> 1.01033</td><td>0.00018 </td></tr>\n",
       "\t<tr><th scope=row>s_start_year</th><td>-0.80751</td><td>0.00000 </td></tr>\n",
       "\t<tr><th scope=row>factor(s_College)GD Harpur</th><td>-0.57474</td><td>0.00000 </td></tr>\n",
       "\t<tr><th scope=row>avs_net_cost:factor(s_College)GD Harpur</th><td>-0.31634</td><td>0.01011 </td></tr>\n",
       "</tbody>\n",
       "</table>\n"
      ],
      "text/latex": [
       "\\begin{tabular}{r|ll}\n",
       "  & Estimate & Pr(>\\textbar{}z\\textbar{})\\\\\n",
       "\\hline\n",
       "\tfactor(funding\\_indicator)1 &  1.07725 & 0.00000 \\\\\n",
       "\tfactor(s\\_Citizenship)Africa &  0.84144 & 0.00837 \\\\\n",
       "\tfactor(s\\_Citizenship)Asia &  0.53759 & 0.00027 \\\\\n",
       "\tavs\\_net\\_cost &  0.33024 & 0.00326 \\\\\n",
       "\ts\\_Average.Precol.GPA &  0.14133 & 0.00237 \\\\\n",
       "\tGPA\\_trend &  1.01033 & 0.00018 \\\\\n",
       "\ts\\_start\\_year & -0.80751 & 0.00000 \\\\\n",
       "\tfactor(s\\_College)GD Harpur & -0.57474 & 0.00000 \\\\\n",
       "\tavs\\_net\\_cost:factor(s\\_College)GD Harpur & -0.31634 & 0.01011 \\\\\n",
       "\\end{tabular}\n"
      ],
      "text/markdown": [
       "\n",
       "| <!--/--> | Estimate | Pr(>|z|) |\n",
       "|---|---|---|\n",
       "| factor(funding_indicator)1 |  1.07725 | 0.00000  |\n",
       "| factor(s_Citizenship)Africa |  0.84144 | 0.00837  |\n",
       "| factor(s_Citizenship)Asia |  0.53759 | 0.00027  |\n",
       "| avs_net_cost |  0.33024 | 0.00326  |\n",
       "| s_Average.Precol.GPA |  0.14133 | 0.00237  |\n",
       "| GPA_trend |  1.01033 | 0.00018  |\n",
       "| s_start_year | -0.80751 | 0.00000  |\n",
       "| factor(s_College)GD Harpur | -0.57474 | 0.00000  |\n",
       "| avs_net_cost:factor(s_College)GD Harpur | -0.31634 | 0.01011  |\n",
       "\n"
      ],
      "text/plain": [
       "                                        Estimate Pr(>|z|)\n",
       "factor(funding_indicator)1               1.07725 0.00000 \n",
       "factor(s_Citizenship)Africa              0.84144 0.00837 \n",
       "factor(s_Citizenship)Asia                0.53759 0.00027 \n",
       "avs_net_cost                             0.33024 0.00326 \n",
       "s_Average.Precol.GPA                     0.14133 0.00237 \n",
       "GPA_trend                                1.01033 0.00018 \n",
       "s_start_year                            -0.80751 0.00000 \n",
       "factor(s_College)GD Harpur              -0.57474 0.00000 \n",
       "avs_net_cost:factor(s_College)GD Harpur -0.31634 0.01011 "
      ]
     },
     "metadata": {},
     "output_type": "display_data"
    }
   ],
   "source": [
    "round(summary(log_mod_total_aic)$coeff[which(summary(log_mod_total_aic)$coef[,4] <= .05),c(1,4)],5)"
   ]
  },
  {
   "cell_type": "markdown",
   "metadata": {},
   "source": [
    "<b> Both BIC:"
   ]
  },
  {
   "cell_type": "code",
   "execution_count": 230,
   "metadata": {
    "scrolled": false
   },
   "outputs": [
    {
     "name": "stdout",
     "output_type": "stream",
     "text": [
      "Start:  AIC=3068.79\n",
      "Y ~ factor(funding_indicator) + factor(s_Citizenship) + avs_net_cost + \n",
      "    s_Average.Precol.GPA + s_GRE.Combined.General.Verbal.Score + \n",
      "    s_GRE.Combined.General.Write.Score + GPA_trend + s_start_year + \n",
      "    factor(s_College) + avs_net_cost:factor(s_College) + factor(s_College):factor(s_Citizenship) + \n",
      "    factor(s_College):s_GRE.Combined.General.Verbal.Score + factor(s_College):s_Average.Precol.GPA + \n",
      "    factor(s_College):s_GRE.Combined.General.Write.Score\n",
      "\n",
      "                                                        Df Deviance    AIC\n",
      "- factor(s_Citizenship):factor(s_College)                3   2951.6 3051.5\n",
      "- s_GRE.Combined.General.Write.Score:factor(s_College)   1   2950.2 3062.6\n",
      "- s_Average.Precol.GPA:factor(s_College)                 1   2950.3 3062.7\n",
      "- s_GRE.Combined.General.Verbal.Score:factor(s_College)  1   2950.4 3062.8\n",
      "<none>                                                       2950.2 3068.8\n",
      "- avs_net_cost:factor(s_College)                         1   2958.1 3070.5\n",
      "- GPA_trend                                              1   2964.8 3077.2\n",
      "- factor(funding_indicator)                              1   3044.7 3157.1\n",
      "- s_start_year                                           1   3179.8 3292.2\n",
      "\n",
      "Step:  AIC=3051.49\n",
      "Y ~ factor(funding_indicator) + factor(s_Citizenship) + avs_net_cost + \n",
      "    s_Average.Precol.GPA + s_GRE.Combined.General.Verbal.Score + \n",
      "    s_GRE.Combined.General.Write.Score + GPA_trend + s_start_year + \n",
      "    factor(s_College) + avs_net_cost:factor(s_College) + s_GRE.Combined.General.Verbal.Score:factor(s_College) + \n",
      "    s_Average.Precol.GPA:factor(s_College) + s_GRE.Combined.General.Write.Score:factor(s_College)\n",
      "\n",
      "                                                        Df Deviance    AIC\n",
      "- s_GRE.Combined.General.Write.Score:factor(s_College)   1   2951.6 3045.3\n",
      "- s_Average.Precol.GPA:factor(s_College)                 1   2951.7 3045.4\n",
      "- s_GRE.Combined.General.Verbal.Score:factor(s_College)  1   2951.8 3045.5\n",
      "<none>                                                       2951.6 3051.5\n",
      "- factor(s_Citizenship)                                  3   2971.6 3052.8\n",
      "- avs_net_cost:factor(s_College)                         1   2959.5 3053.1\n",
      "- GPA_trend                                              1   2966.1 3059.8\n",
      "+ factor(s_Citizenship):factor(s_College)                3   2950.2 3068.8\n",
      "- factor(funding_indicator)                              1   3047.0 3140.7\n",
      "- s_start_year                                           1   3184.8 3278.5\n",
      "\n",
      "Step:  AIC=3045.27\n",
      "Y ~ factor(funding_indicator) + factor(s_Citizenship) + avs_net_cost + \n",
      "    s_Average.Precol.GPA + s_GRE.Combined.General.Verbal.Score + \n",
      "    s_GRE.Combined.General.Write.Score + GPA_trend + s_start_year + \n",
      "    factor(s_College) + avs_net_cost:factor(s_College) + s_GRE.Combined.General.Verbal.Score:factor(s_College) + \n",
      "    s_Average.Precol.GPA:factor(s_College)\n",
      "\n",
      "                                                        Df Deviance    AIC\n",
      "- s_Average.Precol.GPA:factor(s_College)                 1   2951.7 3039.2\n",
      "- s_GRE.Combined.General.Verbal.Score:factor(s_College)  1   2951.8 3039.2\n",
      "- s_GRE.Combined.General.Write.Score                     1   2952.5 3039.9\n",
      "<none>                                                       2951.6 3045.3\n",
      "- factor(s_Citizenship)                                  3   2971.6 3046.5\n",
      "- avs_net_cost:factor(s_College)                         1   2959.5 3047.0\n",
      "+ s_GRE.Combined.General.Write.Score:factor(s_College)   1   2951.6 3051.5\n",
      "- GPA_trend                                              1   2966.1 3053.6\n",
      "+ factor(s_Citizenship):factor(s_College)                3   2950.2 3062.6\n",
      "- factor(funding_indicator)                              1   3047.2 3134.6\n",
      "- s_start_year                                           1   3186.1 3273.5\n",
      "\n",
      "Step:  AIC=3039.17\n",
      "Y ~ factor(funding_indicator) + factor(s_Citizenship) + avs_net_cost + \n",
      "    s_Average.Precol.GPA + s_GRE.Combined.General.Verbal.Score + \n",
      "    s_GRE.Combined.General.Write.Score + GPA_trend + s_start_year + \n",
      "    factor(s_College) + avs_net_cost:factor(s_College) + s_GRE.Combined.General.Verbal.Score:factor(s_College)\n",
      "\n",
      "                                                        Df Deviance    AIC\n",
      "- s_GRE.Combined.General.Verbal.Score:factor(s_College)  1   2951.9 3033.1\n",
      "- s_GRE.Combined.General.Write.Score                     1   2952.7 3033.9\n",
      "<none>                                                       2951.7 3039.2\n",
      "- factor(s_Citizenship)                                  3   2971.7 3040.4\n",
      "- avs_net_cost:factor(s_College)                         1   2959.7 3040.8\n",
      "- s_Average.Precol.GPA                                   1   2961.7 3042.9\n",
      "+ s_Average.Precol.GPA:factor(s_College)                 1   2951.6 3045.3\n",
      "+ s_GRE.Combined.General.Write.Score:factor(s_College)   1   2951.7 3045.4\n",
      "- GPA_trend                                              1   2966.5 3047.7\n",
      "+ factor(s_Citizenship):factor(s_College)                3   2950.3 3056.4\n",
      "- factor(funding_indicator)                              1   3047.2 3128.4\n",
      "- s_start_year                                           1   3186.4 3267.6\n",
      "\n",
      "Step:  AIC=3033.11\n",
      "Y ~ factor(funding_indicator) + factor(s_Citizenship) + avs_net_cost + \n",
      "    s_Average.Precol.GPA + s_GRE.Combined.General.Verbal.Score + \n",
      "    s_GRE.Combined.General.Write.Score + GPA_trend + s_start_year + \n",
      "    factor(s_College) + avs_net_cost:factor(s_College)\n",
      "\n",
      "                                                        Df Deviance    AIC\n",
      "- s_GRE.Combined.General.Verbal.Score                    1   2953.2 3028.1\n",
      "- s_GRE.Combined.General.Write.Score                     1   2953.3 3028.2\n",
      "<none>                                                       2951.9 3033.1\n",
      "- factor(s_Citizenship)                                  3   2972.2 3034.6\n",
      "- avs_net_cost:factor(s_College)                         1   2959.8 3034.7\n",
      "- s_Average.Precol.GPA                                   1   2962.0 3036.9\n",
      "+ s_GRE.Combined.General.Verbal.Score:factor(s_College)  1   2951.7 3039.2\n",
      "+ s_Average.Precol.GPA:factor(s_College)                 1   2951.8 3039.2\n",
      "+ s_GRE.Combined.General.Write.Score:factor(s_College)   1   2951.9 3039.3\n",
      "- GPA_trend                                              1   2966.6 3041.5\n",
      "+ factor(s_Citizenship):factor(s_College)                3   2950.6 3050.5\n",
      "- factor(funding_indicator)                              1   3048.6 3123.5\n",
      "- s_start_year                                           1   3187.6 3262.5\n",
      "\n",
      "Step:  AIC=3028.12\n",
      "Y ~ factor(funding_indicator) + factor(s_Citizenship) + avs_net_cost + \n",
      "    s_Average.Precol.GPA + s_GRE.Combined.General.Write.Score + \n",
      "    GPA_trend + s_start_year + factor(s_College) + avs_net_cost:factor(s_College)\n",
      "\n",
      "                                                       Df Deviance    AIC\n",
      "- s_GRE.Combined.General.Write.Score                    1   2955.4 3024.1\n",
      "<none>                                                      2953.2 3028.1\n",
      "- avs_net_cost:factor(s_College)                        1   2961.0 3029.7\n",
      "- factor(s_Citizenship)                                 3   2973.7 3029.9\n",
      "- s_Average.Precol.GPA                                  1   2963.0 3031.7\n",
      "+ s_GRE.Combined.General.Verbal.Score                   1   2951.9 3033.1\n",
      "+ s_Average.Precol.GPA:factor(s_College)                1   2953.1 3034.2\n",
      "+ s_GRE.Combined.General.Write.Score:factor(s_College)  1   2953.1 3034.3\n",
      "- GPA_trend                                             1   2968.4 3037.1\n",
      "+ factor(s_Citizenship):factor(s_College)               3   2951.9 3045.6\n",
      "- factor(funding_indicator)                             1   3050.4 3119.1\n",
      "- s_start_year                                          1   3189.1 3257.8\n",
      "\n",
      "Step:  AIC=3024.07\n",
      "Y ~ factor(funding_indicator) + factor(s_Citizenship) + avs_net_cost + \n",
      "    s_Average.Precol.GPA + GPA_trend + s_start_year + factor(s_College) + \n",
      "    avs_net_cost:factor(s_College)\n",
      "\n",
      "                                          Df Deviance    AIC\n",
      "<none>                                         2955.4 3024.1\n",
      "- avs_net_cost:factor(s_College)           1   2962.7 3025.1\n",
      "- s_Average.Precol.GPA                     1   2964.0 3026.5\n",
      "+ s_GRE.Combined.General.Write.Score       1   2953.2 3028.1\n",
      "+ s_GRE.Combined.General.Verbal.Score      1   2953.3 3028.2\n",
      "+ s_Average.Precol.GPA:factor(s_College)   1   2955.2 3030.1\n",
      "- GPA_trend                                1   2970.3 3032.7\n",
      "- factor(s_Citizenship)                    3   2983.4 3033.3\n",
      "+ factor(s_Citizenship):factor(s_College)  3   2954.1 3041.6\n",
      "- factor(funding_indicator)                1   3051.6 3114.0\n",
      "- s_start_year                             1   3192.9 3255.3\n"
     ]
    }
   ],
   "source": [
    "log_mod_total_bic = stepAIC(log_mod_total, direction = \"both\", k = log(e_n))"
   ]
  },
  {
   "cell_type": "markdown",
   "metadata": {},
   "source": [
    "<b>Significant variables both BIC selects:"
   ]
  },
  {
   "cell_type": "code",
   "execution_count": 231,
   "metadata": {
    "scrolled": false
   },
   "outputs": [
    {
     "data": {
      "text/html": [
       "<table>\n",
       "<thead><tr><th></th><th scope=col>Estimate</th><th scope=col>Pr(&gt;|z|)</th></tr></thead>\n",
       "<tbody>\n",
       "\t<tr><th scope=row>factor(funding_indicator)1</th><td> 1.06997</td><td>0.00000 </td></tr>\n",
       "\t<tr><th scope=row>factor(s_Citizenship)Africa</th><td> 0.88357</td><td>0.00546 </td></tr>\n",
       "\t<tr><th scope=row>factor(s_Citizenship)Asia</th><td> 0.59964</td><td>0.00002 </td></tr>\n",
       "\t<tr><th scope=row>factor(s_Citizenship)China</th><td> 0.33587</td><td>0.01636 </td></tr>\n",
       "\t<tr><th scope=row>avs_net_cost</th><td> 0.32281</td><td>0.00394 </td></tr>\n",
       "\t<tr><th scope=row>s_Average.Precol.GPA</th><td> 0.13076</td><td>0.00429 </td></tr>\n",
       "\t<tr><th scope=row>GPA_trend</th><td> 0.99930</td><td>0.00021 </td></tr>\n",
       "\t<tr><th scope=row>s_start_year</th><td>-0.80919</td><td>0.00000 </td></tr>\n",
       "\t<tr><th scope=row>factor(s_College)GD Harpur</th><td>-0.60862</td><td>0.00000 </td></tr>\n",
       "\t<tr><th scope=row>avs_net_cost:factor(s_College)GD Harpur</th><td>-0.30465</td><td>0.01291 </td></tr>\n",
       "</tbody>\n",
       "</table>\n"
      ],
      "text/latex": [
       "\\begin{tabular}{r|ll}\n",
       "  & Estimate & Pr(>\\textbar{}z\\textbar{})\\\\\n",
       "\\hline\n",
       "\tfactor(funding\\_indicator)1 &  1.06997 & 0.00000 \\\\\n",
       "\tfactor(s\\_Citizenship)Africa &  0.88357 & 0.00546 \\\\\n",
       "\tfactor(s\\_Citizenship)Asia &  0.59964 & 0.00002 \\\\\n",
       "\tfactor(s\\_Citizenship)China &  0.33587 & 0.01636 \\\\\n",
       "\tavs\\_net\\_cost &  0.32281 & 0.00394 \\\\\n",
       "\ts\\_Average.Precol.GPA &  0.13076 & 0.00429 \\\\\n",
       "\tGPA\\_trend &  0.99930 & 0.00021 \\\\\n",
       "\ts\\_start\\_year & -0.80919 & 0.00000 \\\\\n",
       "\tfactor(s\\_College)GD Harpur & -0.60862 & 0.00000 \\\\\n",
       "\tavs\\_net\\_cost:factor(s\\_College)GD Harpur & -0.30465 & 0.01291 \\\\\n",
       "\\end{tabular}\n"
      ],
      "text/markdown": [
       "\n",
       "| <!--/--> | Estimate | Pr(>|z|) |\n",
       "|---|---|---|\n",
       "| factor(funding_indicator)1 |  1.06997 | 0.00000  |\n",
       "| factor(s_Citizenship)Africa |  0.88357 | 0.00546  |\n",
       "| factor(s_Citizenship)Asia |  0.59964 | 0.00002  |\n",
       "| factor(s_Citizenship)China |  0.33587 | 0.01636  |\n",
       "| avs_net_cost |  0.32281 | 0.00394  |\n",
       "| s_Average.Precol.GPA |  0.13076 | 0.00429  |\n",
       "| GPA_trend |  0.99930 | 0.00021  |\n",
       "| s_start_year | -0.80919 | 0.00000  |\n",
       "| factor(s_College)GD Harpur | -0.60862 | 0.00000  |\n",
       "| avs_net_cost:factor(s_College)GD Harpur | -0.30465 | 0.01291  |\n",
       "\n"
      ],
      "text/plain": [
       "                                        Estimate Pr(>|z|)\n",
       "factor(funding_indicator)1               1.06997 0.00000 \n",
       "factor(s_Citizenship)Africa              0.88357 0.00546 \n",
       "factor(s_Citizenship)Asia                0.59964 0.00002 \n",
       "factor(s_Citizenship)China               0.33587 0.01636 \n",
       "avs_net_cost                             0.32281 0.00394 \n",
       "s_Average.Precol.GPA                     0.13076 0.00429 \n",
       "GPA_trend                                0.99930 0.00021 \n",
       "s_start_year                            -0.80919 0.00000 \n",
       "factor(s_College)GD Harpur              -0.60862 0.00000 \n",
       "avs_net_cost:factor(s_College)GD Harpur -0.30465 0.01291 "
      ]
     },
     "metadata": {},
     "output_type": "display_data"
    }
   ],
   "source": [
    "round(summary(log_mod_total_bic)$coeff[which(summary(log_mod_total_bic)$coef[,4] <= .05),c(1,4)],5)"
   ]
  },
  {
   "cell_type": "markdown",
   "metadata": {},
   "source": [
    "<b>Harpur Baseline"
   ]
  },
  {
   "cell_type": "markdown",
   "metadata": {},
   "source": [
    "<b> Logistic regression model:"
   ]
  },
  {
   "cell_type": "code",
   "execution_count": 234,
   "metadata": {},
   "outputs": [],
   "source": [
    "df <- within(df, s_College <- relevel(s_College, ref = \"GD Harpur\"))"
   ]
  },
  {
   "cell_type": "code",
   "execution_count": 235,
   "metadata": {
    "scrolled": false
   },
   "outputs": [
    {
     "data": {
      "text/plain": [
       "\n",
       "Call:\n",
       "glm(formula = Y ~ factor(funding_indicator) + factor(s_Citizenship) + \n",
       "    avs_net_cost + s_Average.Precol.GPA + s_GRE.Combined.General.Verbal.Score + \n",
       "    s_GRE.Combined.General.Write.Score + GPA_trend + s_start_year + \n",
       "    factor(s_College) + avs_net_cost:factor(s_College) + factor(s_College):factor(s_Citizenship) + \n",
       "    factor(s_College):s_GRE.Combined.General.Verbal.Score + factor(s_College):s_Average.Precol.GPA + \n",
       "    factor(s_College):s_GRE.Combined.General.Write.Score, family = \"binomial\", \n",
       "    data = df)\n",
       "\n",
       "Deviance Residuals: \n",
       "    Min       1Q   Median       3Q      Max  \n",
       "-2.8023  -1.0996   0.6777   0.9248   1.9389  \n",
       "\n",
       "Coefficients:\n",
       "                                                                   Estimate\n",
       "(Intercept)                                                        -0.55548\n",
       "factor(funding_indicator)1                                          1.08072\n",
       "factor(s_Citizenship)Africa                                         0.72415\n",
       "factor(s_Citizenship)Asia                                           0.61300\n",
       "factor(s_Citizenship)China                                          0.29707\n",
       "avs_net_cost                                                        0.01300\n",
       "s_Average.Precol.GPA                                                0.12986\n",
       "s_GRE.Combined.General.Verbal.Score                                -0.05713\n",
       "s_GRE.Combined.General.Write.Score                                 -0.05024\n",
       "GPA_trend                                                           0.99588\n",
       "s_start_year                                                       -0.81080\n",
       "factor(s_College)GD Non-Harpur                                      0.58166\n",
       "avs_net_cost:factor(s_College)GD Non-Harpur                         0.31820\n",
       "factor(s_Citizenship)Africa:factor(s_College)GD Non-Harpur          0.97684\n",
       "factor(s_Citizenship)Asia:factor(s_College)GD Non-Harpur           -0.19812\n",
       "factor(s_Citizenship)China:factor(s_College)GD Non-Harpur          -0.03302\n",
       "s_GRE.Combined.General.Verbal.Score:factor(s_College)GD Non-Harpur -0.15903\n",
       "s_Average.Precol.GPA:factor(s_College)GD Non-Harpur                 0.03522\n",
       "s_GRE.Combined.General.Write.Score:factor(s_College)GD Non-Harpur   0.01099\n",
       "                                                                   Std. Error\n",
       "(Intercept)                                                           0.10775\n",
       "factor(funding_indicator)1                                            0.11381\n",
       "factor(s_Citizenship)Africa                                           0.33827\n",
       "factor(s_Citizenship)Asia                                             0.19587\n",
       "factor(s_Citizenship)China                                            0.20492\n",
       "avs_net_cost                                                          0.05109\n",
       "s_Average.Precol.GPA                                                  0.05851\n",
       "s_GRE.Combined.General.Verbal.Score                                   0.06390\n",
       "s_GRE.Combined.General.Write.Score                                    0.05859\n",
       "GPA_trend                                                             0.27049\n",
       "s_start_year                                                          0.05843\n",
       "factor(s_College)GD Non-Harpur                                        0.12700\n",
       "avs_net_cost:factor(s_College)GD Non-Harpur                           0.12298\n",
       "factor(s_Citizenship)Africa:factor(s_College)GD Non-Harpur            1.13021\n",
       "factor(s_Citizenship)Asia:factor(s_College)GD Non-Harpur              0.30283\n",
       "factor(s_Citizenship)China:factor(s_College)GD Non-Harpur             0.29256\n",
       "s_GRE.Combined.General.Verbal.Score:factor(s_College)GD Non-Harpur    0.30365\n",
       "s_Average.Precol.GPA:factor(s_College)GD Non-Harpur                   0.09774\n",
       "s_GRE.Combined.General.Write.Score:factor(s_College)GD Non-Harpur     0.14762\n",
       "                                                                   z value\n",
       "(Intercept)                                                         -5.155\n",
       "factor(funding_indicator)1                                           9.496\n",
       "factor(s_Citizenship)Africa                                          2.141\n",
       "factor(s_Citizenship)Asia                                            3.130\n",
       "factor(s_Citizenship)China                                           1.450\n",
       "avs_net_cost                                                         0.255\n",
       "s_Average.Precol.GPA                                                 2.219\n",
       "s_GRE.Combined.General.Verbal.Score                                 -0.894\n",
       "s_GRE.Combined.General.Write.Score                                  -0.858\n",
       "GPA_trend                                                            3.682\n",
       "s_start_year                                                       -13.876\n",
       "factor(s_College)GD Non-Harpur                                       4.580\n",
       "avs_net_cost:factor(s_College)GD Non-Harpur                          2.587\n",
       "factor(s_Citizenship)Africa:factor(s_College)GD Non-Harpur           0.864\n",
       "factor(s_Citizenship)Asia:factor(s_College)GD Non-Harpur            -0.654\n",
       "factor(s_Citizenship)China:factor(s_College)GD Non-Harpur           -0.113\n",
       "s_GRE.Combined.General.Verbal.Score:factor(s_College)GD Non-Harpur  -0.524\n",
       "s_Average.Precol.GPA:factor(s_College)GD Non-Harpur                  0.360\n",
       "s_GRE.Combined.General.Write.Score:factor(s_College)GD Non-Harpur    0.074\n",
       "                                                                   Pr(>|z|)    \n",
       "(Intercept)                                                        2.53e-07 ***\n",
       "factor(funding_indicator)1                                          < 2e-16 ***\n",
       "factor(s_Citizenship)Africa                                        0.032295 *  \n",
       "factor(s_Citizenship)Asia                                          0.001750 ** \n",
       "factor(s_Citizenship)China                                         0.147130    \n",
       "avs_net_cost                                                       0.799082    \n",
       "s_Average.Precol.GPA                                               0.026468 *  \n",
       "s_GRE.Combined.General.Verbal.Score                                0.371278    \n",
       "s_GRE.Combined.General.Write.Score                                 0.391157    \n",
       "GPA_trend                                                          0.000232 ***\n",
       "s_start_year                                                        < 2e-16 ***\n",
       "factor(s_College)GD Non-Harpur                                     4.65e-06 ***\n",
       "avs_net_cost:factor(s_College)GD Non-Harpur                        0.009671 ** \n",
       "factor(s_Citizenship)Africa:factor(s_College)GD Non-Harpur         0.387424    \n",
       "factor(s_Citizenship)Asia:factor(s_College)GD Non-Harpur           0.512955    \n",
       "factor(s_Citizenship)China:factor(s_College)GD Non-Harpur          0.910127    \n",
       "s_GRE.Combined.General.Verbal.Score:factor(s_College)GD Non-Harpur 0.600470    \n",
       "s_Average.Precol.GPA:factor(s_College)GD Non-Harpur                0.718592    \n",
       "s_GRE.Combined.General.Write.Score:factor(s_College)GD Non-Harpur  0.940674    \n",
       "---\n",
       "Signif. codes:  0 '***' 0.001 '**' 0.01 '*' 0.05 '.' 0.1 ' ' 1\n",
       "\n",
       "(Dispersion parameter for binomial family taken to be 1)\n",
       "\n",
       "    Null deviance: 3281.8  on 2469  degrees of freedom\n",
       "Residual deviance: 2950.2  on 2451  degrees of freedom\n",
       "AIC: 2988.2\n",
       "\n",
       "Number of Fisher Scoring iterations: 4\n"
      ]
     },
     "metadata": {},
     "output_type": "display_data"
    }
   ],
   "source": [
    "log_mod_total = glm(Y~factor(funding_indicator)+factor(s_Citizenship)+\n",
    "                avs_net_cost+s_Average.Precol.GPA+s_GRE.Combined.General.Verbal.Score+s_GRE.Combined.General.Write.Score+GPA_trend+s_start_year+factor(s_College)+avs_net_cost:factor(s_College)+\n",
    "                factor(s_College):factor(s_Citizenship)+factor(s_College):s_GRE.Combined.General.Verbal.Score+factor(s_College):s_Average.Precol.GPA+factor(s_College):s_GRE.Combined.General.Write.Score,\n",
    "                data=df,family=\"binomial\")\n",
    "summary(log_mod_total)"
   ]
  },
  {
   "cell_type": "markdown",
   "metadata": {},
   "source": [
    "<b> Significant Variables of logistic regression model:"
   ]
  },
  {
   "cell_type": "code",
   "execution_count": 236,
   "metadata": {
    "scrolled": true
   },
   "outputs": [
    {
     "data": {
      "text/html": [
       "<table>\n",
       "<thead><tr><th></th><th scope=col>Estimate</th><th scope=col>Pr(&gt;|z|)</th></tr></thead>\n",
       "<tbody>\n",
       "\t<tr><th scope=row>(Intercept)</th><td>-0.55548</td><td>0.00000 </td></tr>\n",
       "\t<tr><th scope=row>factor(funding_indicator)1</th><td> 1.08072</td><td>0.00000 </td></tr>\n",
       "\t<tr><th scope=row>factor(s_Citizenship)Africa</th><td> 0.72415</td><td>0.03230 </td></tr>\n",
       "\t<tr><th scope=row>factor(s_Citizenship)Asia</th><td> 0.61300</td><td>0.00175 </td></tr>\n",
       "\t<tr><th scope=row>s_Average.Precol.GPA</th><td> 0.12986</td><td>0.02647 </td></tr>\n",
       "\t<tr><th scope=row>GPA_trend</th><td> 0.99588</td><td>0.00023 </td></tr>\n",
       "\t<tr><th scope=row>s_start_year</th><td>-0.81080</td><td>0.00000 </td></tr>\n",
       "\t<tr><th scope=row>factor(s_College)GD Non-Harpur</th><td> 0.58166</td><td>0.00000 </td></tr>\n",
       "\t<tr><th scope=row>avs_net_cost:factor(s_College)GD Non-Harpur</th><td> 0.31820</td><td>0.00967 </td></tr>\n",
       "</tbody>\n",
       "</table>\n"
      ],
      "text/latex": [
       "\\begin{tabular}{r|ll}\n",
       "  & Estimate & Pr(>\\textbar{}z\\textbar{})\\\\\n",
       "\\hline\n",
       "\t(Intercept) & -0.55548 & 0.00000 \\\\\n",
       "\tfactor(funding\\_indicator)1 &  1.08072 & 0.00000 \\\\\n",
       "\tfactor(s\\_Citizenship)Africa &  0.72415 & 0.03230 \\\\\n",
       "\tfactor(s\\_Citizenship)Asia &  0.61300 & 0.00175 \\\\\n",
       "\ts\\_Average.Precol.GPA &  0.12986 & 0.02647 \\\\\n",
       "\tGPA\\_trend &  0.99588 & 0.00023 \\\\\n",
       "\ts\\_start\\_year & -0.81080 & 0.00000 \\\\\n",
       "\tfactor(s\\_College)GD Non-Harpur &  0.58166 & 0.00000 \\\\\n",
       "\tavs\\_net\\_cost:factor(s\\_College)GD Non-Harpur &  0.31820 & 0.00967 \\\\\n",
       "\\end{tabular}\n"
      ],
      "text/markdown": [
       "\n",
       "| <!--/--> | Estimate | Pr(>|z|) |\n",
       "|---|---|---|\n",
       "| (Intercept) | -0.55548 | 0.00000  |\n",
       "| factor(funding_indicator)1 |  1.08072 | 0.00000  |\n",
       "| factor(s_Citizenship)Africa |  0.72415 | 0.03230  |\n",
       "| factor(s_Citizenship)Asia |  0.61300 | 0.00175  |\n",
       "| s_Average.Precol.GPA |  0.12986 | 0.02647  |\n",
       "| GPA_trend |  0.99588 | 0.00023  |\n",
       "| s_start_year | -0.81080 | 0.00000  |\n",
       "| factor(s_College)GD Non-Harpur |  0.58166 | 0.00000  |\n",
       "| avs_net_cost:factor(s_College)GD Non-Harpur |  0.31820 | 0.00967  |\n",
       "\n"
      ],
      "text/plain": [
       "                                            Estimate Pr(>|z|)\n",
       "(Intercept)                                 -0.55548 0.00000 \n",
       "factor(funding_indicator)1                   1.08072 0.00000 \n",
       "factor(s_Citizenship)Africa                  0.72415 0.03230 \n",
       "factor(s_Citizenship)Asia                    0.61300 0.00175 \n",
       "s_Average.Precol.GPA                         0.12986 0.02647 \n",
       "GPA_trend                                    0.99588 0.00023 \n",
       "s_start_year                                -0.81080 0.00000 \n",
       "factor(s_College)GD Non-Harpur               0.58166 0.00000 \n",
       "avs_net_cost:factor(s_College)GD Non-Harpur  0.31820 0.00967 "
      ]
     },
     "metadata": {},
     "output_type": "display_data"
    }
   ],
   "source": [
    "round(summary(log_mod_total)$coeff[which(summary(log_mod_total)$coef[,4] <= .05),c(1,4)],5)"
   ]
  },
  {
   "cell_type": "markdown",
   "metadata": {},
   "source": [
    "<b> Both AIC:"
   ]
  },
  {
   "cell_type": "code",
   "execution_count": 237,
   "metadata": {},
   "outputs": [
    {
     "name": "stdout",
     "output_type": "stream",
     "text": [
      "Start:  AIC=2988.15\n",
      "Y ~ factor(funding_indicator) + factor(s_Citizenship) + avs_net_cost + \n",
      "    s_Average.Precol.GPA + s_GRE.Combined.General.Verbal.Score + \n",
      "    s_GRE.Combined.General.Write.Score + GPA_trend + s_start_year + \n",
      "    factor(s_College) + avs_net_cost:factor(s_College) + factor(s_College):factor(s_Citizenship) + \n",
      "    factor(s_College):s_GRE.Combined.General.Verbal.Score + factor(s_College):s_Average.Precol.GPA + \n",
      "    factor(s_College):s_GRE.Combined.General.Write.Score\n",
      "\n",
      "                                                        Df Deviance    AIC\n",
      "- factor(s_Citizenship):factor(s_College)                3   2951.6 2983.6\n",
      "- s_GRE.Combined.General.Write.Score:factor(s_College)   1   2950.2 2986.2\n",
      "- s_Average.Precol.GPA:factor(s_College)                 1   2950.3 2986.3\n",
      "- s_GRE.Combined.General.Verbal.Score:factor(s_College)  1   2950.4 2986.4\n",
      "<none>                                                       2950.2 2988.2\n",
      "- avs_net_cost:factor(s_College)                         1   2958.1 2994.1\n",
      "- GPA_trend                                              1   2964.8 3000.8\n",
      "- factor(funding_indicator)                              1   3044.7 3080.7\n",
      "- s_start_year                                           1   3179.8 3215.8\n",
      "\n",
      "Step:  AIC=2983.58\n",
      "Y ~ factor(funding_indicator) + factor(s_Citizenship) + avs_net_cost + \n",
      "    s_Average.Precol.GPA + s_GRE.Combined.General.Verbal.Score + \n",
      "    s_GRE.Combined.General.Write.Score + GPA_trend + s_start_year + \n",
      "    factor(s_College) + avs_net_cost:factor(s_College) + s_GRE.Combined.General.Verbal.Score:factor(s_College) + \n",
      "    s_Average.Precol.GPA:factor(s_College) + s_GRE.Combined.General.Write.Score:factor(s_College)\n",
      "\n",
      "                                                        Df Deviance    AIC\n",
      "- s_GRE.Combined.General.Write.Score:factor(s_College)   1   2951.6 2981.6\n",
      "- s_Average.Precol.GPA:factor(s_College)                 1   2951.7 2981.7\n",
      "- s_GRE.Combined.General.Verbal.Score:factor(s_College)  1   2951.8 2981.8\n",
      "<none>                                                       2951.6 2983.6\n",
      "+ factor(s_Citizenship):factor(s_College)                3   2950.2 2988.2\n",
      "- avs_net_cost:factor(s_College)                         1   2959.5 2989.5\n",
      "- GPA_trend                                              1   2966.1 2996.1\n",
      "- factor(s_Citizenship)                                  3   2971.6 2997.6\n",
      "- factor(funding_indicator)                              1   3047.0 3077.0\n",
      "- s_start_year                                           1   3184.8 3214.8\n",
      "\n",
      "Step:  AIC=2981.61\n",
      "Y ~ factor(funding_indicator) + factor(s_Citizenship) + avs_net_cost + \n",
      "    s_Average.Precol.GPA + s_GRE.Combined.General.Verbal.Score + \n",
      "    s_GRE.Combined.General.Write.Score + GPA_trend + s_start_year + \n",
      "    factor(s_College) + avs_net_cost:factor(s_College) + s_GRE.Combined.General.Verbal.Score:factor(s_College) + \n",
      "    s_Average.Precol.GPA:factor(s_College)\n",
      "\n",
      "                                                        Df Deviance    AIC\n",
      "- s_Average.Precol.GPA:factor(s_College)                 1   2951.7 2979.7\n",
      "- s_GRE.Combined.General.Verbal.Score:factor(s_College)  1   2951.8 2979.8\n",
      "- s_GRE.Combined.General.Write.Score                     1   2952.5 2980.5\n",
      "<none>                                                       2951.6 2981.6\n",
      "+ s_GRE.Combined.General.Write.Score:factor(s_College)   1   2951.6 2983.6\n",
      "+ factor(s_Citizenship):factor(s_College)                3   2950.2 2986.2\n",
      "- avs_net_cost:factor(s_College)                         1   2959.5 2987.5\n",
      "- GPA_trend                                              1   2966.1 2994.1\n",
      "- factor(s_Citizenship)                                  3   2971.6 2995.6\n",
      "- factor(funding_indicator)                              1   3047.2 3075.2\n",
      "- s_start_year                                           1   3186.1 3214.1\n",
      "\n",
      "Step:  AIC=2979.75\n",
      "Y ~ factor(funding_indicator) + factor(s_Citizenship) + avs_net_cost + \n",
      "    s_Average.Precol.GPA + s_GRE.Combined.General.Verbal.Score + \n",
      "    s_GRE.Combined.General.Write.Score + GPA_trend + s_start_year + \n",
      "    factor(s_College) + avs_net_cost:factor(s_College) + s_GRE.Combined.General.Verbal.Score:factor(s_College)\n",
      "\n",
      "                                                        Df Deviance    AIC\n",
      "- s_GRE.Combined.General.Verbal.Score:factor(s_College)  1   2951.9 2977.9\n",
      "- s_GRE.Combined.General.Write.Score                     1   2952.7 2978.7\n",
      "<none>                                                       2951.7 2979.7\n",
      "+ s_Average.Precol.GPA:factor(s_College)                 1   2951.6 2981.6\n",
      "+ s_GRE.Combined.General.Write.Score:factor(s_College)   1   2951.7 2981.7\n",
      "+ factor(s_Citizenship):factor(s_College)                3   2950.3 2984.3\n",
      "- avs_net_cost:factor(s_College)                         1   2959.7 2985.7\n",
      "- s_Average.Precol.GPA                                   1   2961.7 2987.7\n",
      "- GPA_trend                                              1   2966.5 2992.5\n",
      "- factor(s_Citizenship)                                  3   2971.7 2993.7\n",
      "- factor(funding_indicator)                              1   3047.2 3073.2\n",
      "- s_start_year                                           1   3186.4 3212.4\n",
      "\n",
      "Step:  AIC=2977.93\n",
      "Y ~ factor(funding_indicator) + factor(s_Citizenship) + avs_net_cost + \n",
      "    s_Average.Precol.GPA + s_GRE.Combined.General.Verbal.Score + \n",
      "    s_GRE.Combined.General.Write.Score + GPA_trend + s_start_year + \n",
      "    factor(s_College) + avs_net_cost:factor(s_College)\n",
      "\n",
      "                                                        Df Deviance    AIC\n",
      "- s_GRE.Combined.General.Verbal.Score                    1   2953.2 2977.2\n",
      "- s_GRE.Combined.General.Write.Score                     1   2953.3 2977.3\n",
      "<none>                                                       2951.9 2977.9\n",
      "+ s_GRE.Combined.General.Verbal.Score:factor(s_College)  1   2951.7 2979.7\n",
      "+ s_Average.Precol.GPA:factor(s_College)                 1   2951.8 2979.8\n",
      "+ s_GRE.Combined.General.Write.Score:factor(s_College)   1   2951.9 2979.9\n",
      "+ factor(s_Citizenship):factor(s_College)                3   2950.6 2982.6\n",
      "- avs_net_cost:factor(s_College)                         1   2959.8 2983.8\n",
      "- s_Average.Precol.GPA                                   1   2962.0 2986.0\n",
      "- GPA_trend                                              1   2966.6 2990.6\n",
      "- factor(s_Citizenship)                                  3   2972.2 2992.2\n",
      "- factor(funding_indicator)                              1   3048.6 3072.6\n",
      "- s_start_year                                           1   3187.6 3211.6\n",
      "\n",
      "Step:  AIC=2977.19\n",
      "Y ~ factor(funding_indicator) + factor(s_Citizenship) + avs_net_cost + \n",
      "    s_Average.Precol.GPA + s_GRE.Combined.General.Write.Score + \n",
      "    GPA_trend + s_start_year + factor(s_College) + avs_net_cost:factor(s_College)\n",
      "\n",
      "                                                       Df Deviance    AIC\n",
      "<none>                                                      2953.2 2977.2\n",
      "- s_GRE.Combined.General.Write.Score                    1   2955.4 2977.4\n",
      "+ s_GRE.Combined.General.Verbal.Score                   1   2951.9 2977.9\n",
      "+ s_Average.Precol.GPA:factor(s_College)                1   2953.1 2979.1\n",
      "+ s_GRE.Combined.General.Write.Score:factor(s_College)  1   2953.1 2979.1\n",
      "+ factor(s_Citizenship):factor(s_College)               3   2951.9 2981.9\n",
      "- avs_net_cost:factor(s_College)                        1   2961.0 2983.0\n",
      "- s_Average.Precol.GPA                                  1   2963.0 2985.0\n",
      "- GPA_trend                                             1   2968.4 2990.4\n",
      "- factor(s_Citizenship)                                 3   2973.7 2991.7\n",
      "- factor(funding_indicator)                             1   3050.4 3072.4\n",
      "- s_start_year                                          1   3189.1 3211.1\n"
     ]
    }
   ],
   "source": [
    "log_mod_total_aic= stepAIC(log_mod_total, direction = 'both')"
   ]
  },
  {
   "cell_type": "markdown",
   "metadata": {},
   "source": [
    "<b> Significant variables both AIC selects:"
   ]
  },
  {
   "cell_type": "code",
   "execution_count": 238,
   "metadata": {
    "scrolled": true
   },
   "outputs": [
    {
     "data": {
      "text/html": [
       "<table>\n",
       "<thead><tr><th></th><th scope=col>Estimate</th><th scope=col>Pr(&gt;|z|)</th></tr></thead>\n",
       "<tbody>\n",
       "\t<tr><th scope=row>(Intercept)</th><td>-0.54697</td><td>0.00000 </td></tr>\n",
       "\t<tr><th scope=row>factor(funding_indicator)1</th><td> 1.07725</td><td>0.00000 </td></tr>\n",
       "\t<tr><th scope=row>factor(s_Citizenship)Africa</th><td> 0.84144</td><td>0.00837 </td></tr>\n",
       "\t<tr><th scope=row>factor(s_Citizenship)Asia</th><td> 0.53759</td><td>0.00027 </td></tr>\n",
       "\t<tr><th scope=row>s_Average.Precol.GPA</th><td> 0.14133</td><td>0.00237 </td></tr>\n",
       "\t<tr><th scope=row>GPA_trend</th><td> 1.01033</td><td>0.00018 </td></tr>\n",
       "\t<tr><th scope=row>s_start_year</th><td>-0.80751</td><td>0.00000 </td></tr>\n",
       "\t<tr><th scope=row>factor(s_College)GD Non-Harpur</th><td> 0.57474</td><td>0.00000 </td></tr>\n",
       "\t<tr><th scope=row>avs_net_cost:factor(s_College)GD Non-Harpur</th><td> 0.31634</td><td>0.01011 </td></tr>\n",
       "</tbody>\n",
       "</table>\n"
      ],
      "text/latex": [
       "\\begin{tabular}{r|ll}\n",
       "  & Estimate & Pr(>\\textbar{}z\\textbar{})\\\\\n",
       "\\hline\n",
       "\t(Intercept) & -0.54697 & 0.00000 \\\\\n",
       "\tfactor(funding\\_indicator)1 &  1.07725 & 0.00000 \\\\\n",
       "\tfactor(s\\_Citizenship)Africa &  0.84144 & 0.00837 \\\\\n",
       "\tfactor(s\\_Citizenship)Asia &  0.53759 & 0.00027 \\\\\n",
       "\ts\\_Average.Precol.GPA &  0.14133 & 0.00237 \\\\\n",
       "\tGPA\\_trend &  1.01033 & 0.00018 \\\\\n",
       "\ts\\_start\\_year & -0.80751 & 0.00000 \\\\\n",
       "\tfactor(s\\_College)GD Non-Harpur &  0.57474 & 0.00000 \\\\\n",
       "\tavs\\_net\\_cost:factor(s\\_College)GD Non-Harpur &  0.31634 & 0.01011 \\\\\n",
       "\\end{tabular}\n"
      ],
      "text/markdown": [
       "\n",
       "| <!--/--> | Estimate | Pr(>|z|) |\n",
       "|---|---|---|\n",
       "| (Intercept) | -0.54697 | 0.00000  |\n",
       "| factor(funding_indicator)1 |  1.07725 | 0.00000  |\n",
       "| factor(s_Citizenship)Africa |  0.84144 | 0.00837  |\n",
       "| factor(s_Citizenship)Asia |  0.53759 | 0.00027  |\n",
       "| s_Average.Precol.GPA |  0.14133 | 0.00237  |\n",
       "| GPA_trend |  1.01033 | 0.00018  |\n",
       "| s_start_year | -0.80751 | 0.00000  |\n",
       "| factor(s_College)GD Non-Harpur |  0.57474 | 0.00000  |\n",
       "| avs_net_cost:factor(s_College)GD Non-Harpur |  0.31634 | 0.01011  |\n",
       "\n"
      ],
      "text/plain": [
       "                                            Estimate Pr(>|z|)\n",
       "(Intercept)                                 -0.54697 0.00000 \n",
       "factor(funding_indicator)1                   1.07725 0.00000 \n",
       "factor(s_Citizenship)Africa                  0.84144 0.00837 \n",
       "factor(s_Citizenship)Asia                    0.53759 0.00027 \n",
       "s_Average.Precol.GPA                         0.14133 0.00237 \n",
       "GPA_trend                                    1.01033 0.00018 \n",
       "s_start_year                                -0.80751 0.00000 \n",
       "factor(s_College)GD Non-Harpur               0.57474 0.00000 \n",
       "avs_net_cost:factor(s_College)GD Non-Harpur  0.31634 0.01011 "
      ]
     },
     "metadata": {},
     "output_type": "display_data"
    }
   ],
   "source": [
    "round(summary(log_mod_total_aic)$coeff[which(summary(log_mod_total_aic)$coef[,4] <= .05),c(1,4)],5)"
   ]
  },
  {
   "cell_type": "markdown",
   "metadata": {},
   "source": [
    "<b>Both BIC"
   ]
  },
  {
   "cell_type": "code",
   "execution_count": 239,
   "metadata": {
    "scrolled": false
   },
   "outputs": [
    {
     "name": "stdout",
     "output_type": "stream",
     "text": [
      "Start:  AIC=3068.79\n",
      "Y ~ factor(funding_indicator) + factor(s_Citizenship) + avs_net_cost + \n",
      "    s_Average.Precol.GPA + s_GRE.Combined.General.Verbal.Score + \n",
      "    s_GRE.Combined.General.Write.Score + GPA_trend + s_start_year + \n",
      "    factor(s_College) + avs_net_cost:factor(s_College) + factor(s_College):factor(s_Citizenship) + \n",
      "    factor(s_College):s_GRE.Combined.General.Verbal.Score + factor(s_College):s_Average.Precol.GPA + \n",
      "    factor(s_College):s_GRE.Combined.General.Write.Score\n",
      "\n",
      "                                                        Df Deviance    AIC\n",
      "- factor(s_Citizenship):factor(s_College)                3   2951.6 3051.5\n",
      "- s_GRE.Combined.General.Write.Score:factor(s_College)   1   2950.2 3062.6\n",
      "- s_Average.Precol.GPA:factor(s_College)                 1   2950.3 3062.7\n",
      "- s_GRE.Combined.General.Verbal.Score:factor(s_College)  1   2950.4 3062.8\n",
      "<none>                                                       2950.2 3068.8\n",
      "- avs_net_cost:factor(s_College)                         1   2958.1 3070.5\n",
      "- GPA_trend                                              1   2964.8 3077.2\n",
      "- factor(funding_indicator)                              1   3044.7 3157.1\n",
      "- s_start_year                                           1   3179.8 3292.2\n",
      "\n",
      "Step:  AIC=3051.49\n",
      "Y ~ factor(funding_indicator) + factor(s_Citizenship) + avs_net_cost + \n",
      "    s_Average.Precol.GPA + s_GRE.Combined.General.Verbal.Score + \n",
      "    s_GRE.Combined.General.Write.Score + GPA_trend + s_start_year + \n",
      "    factor(s_College) + avs_net_cost:factor(s_College) + s_GRE.Combined.General.Verbal.Score:factor(s_College) + \n",
      "    s_Average.Precol.GPA:factor(s_College) + s_GRE.Combined.General.Write.Score:factor(s_College)\n",
      "\n",
      "                                                        Df Deviance    AIC\n",
      "- s_GRE.Combined.General.Write.Score:factor(s_College)   1   2951.6 3045.3\n",
      "- s_Average.Precol.GPA:factor(s_College)                 1   2951.7 3045.4\n",
      "- s_GRE.Combined.General.Verbal.Score:factor(s_College)  1   2951.8 3045.5\n",
      "<none>                                                       2951.6 3051.5\n",
      "- factor(s_Citizenship)                                  3   2971.6 3052.8\n",
      "- avs_net_cost:factor(s_College)                         1   2959.5 3053.1\n",
      "- GPA_trend                                              1   2966.1 3059.8\n",
      "+ factor(s_Citizenship):factor(s_College)                3   2950.2 3068.8\n",
      "- factor(funding_indicator)                              1   3047.0 3140.7\n",
      "- s_start_year                                           1   3184.8 3278.5\n",
      "\n",
      "Step:  AIC=3045.27\n",
      "Y ~ factor(funding_indicator) + factor(s_Citizenship) + avs_net_cost + \n",
      "    s_Average.Precol.GPA + s_GRE.Combined.General.Verbal.Score + \n",
      "    s_GRE.Combined.General.Write.Score + GPA_trend + s_start_year + \n",
      "    factor(s_College) + avs_net_cost:factor(s_College) + s_GRE.Combined.General.Verbal.Score:factor(s_College) + \n",
      "    s_Average.Precol.GPA:factor(s_College)\n",
      "\n",
      "                                                        Df Deviance    AIC\n",
      "- s_Average.Precol.GPA:factor(s_College)                 1   2951.7 3039.2\n",
      "- s_GRE.Combined.General.Verbal.Score:factor(s_College)  1   2951.8 3039.2\n",
      "- s_GRE.Combined.General.Write.Score                     1   2952.5 3039.9\n",
      "<none>                                                       2951.6 3045.3\n",
      "- factor(s_Citizenship)                                  3   2971.6 3046.5\n",
      "- avs_net_cost:factor(s_College)                         1   2959.5 3047.0\n",
      "+ s_GRE.Combined.General.Write.Score:factor(s_College)   1   2951.6 3051.5\n",
      "- GPA_trend                                              1   2966.1 3053.6\n",
      "+ factor(s_Citizenship):factor(s_College)                3   2950.2 3062.6\n",
      "- factor(funding_indicator)                              1   3047.2 3134.6\n",
      "- s_start_year                                           1   3186.1 3273.5\n",
      "\n",
      "Step:  AIC=3039.17\n",
      "Y ~ factor(funding_indicator) + factor(s_Citizenship) + avs_net_cost + \n",
      "    s_Average.Precol.GPA + s_GRE.Combined.General.Verbal.Score + \n",
      "    s_GRE.Combined.General.Write.Score + GPA_trend + s_start_year + \n",
      "    factor(s_College) + avs_net_cost:factor(s_College) + s_GRE.Combined.General.Verbal.Score:factor(s_College)\n",
      "\n",
      "                                                        Df Deviance    AIC\n",
      "- s_GRE.Combined.General.Verbal.Score:factor(s_College)  1   2951.9 3033.1\n",
      "- s_GRE.Combined.General.Write.Score                     1   2952.7 3033.9\n",
      "<none>                                                       2951.7 3039.2\n",
      "- factor(s_Citizenship)                                  3   2971.7 3040.4\n",
      "- avs_net_cost:factor(s_College)                         1   2959.7 3040.8\n",
      "- s_Average.Precol.GPA                                   1   2961.7 3042.9\n",
      "+ s_Average.Precol.GPA:factor(s_College)                 1   2951.6 3045.3\n",
      "+ s_GRE.Combined.General.Write.Score:factor(s_College)   1   2951.7 3045.4\n",
      "- GPA_trend                                              1   2966.5 3047.7\n",
      "+ factor(s_Citizenship):factor(s_College)                3   2950.3 3056.4\n",
      "- factor(funding_indicator)                              1   3047.2 3128.4\n",
      "- s_start_year                                           1   3186.4 3267.6\n",
      "\n",
      "Step:  AIC=3033.11\n",
      "Y ~ factor(funding_indicator) + factor(s_Citizenship) + avs_net_cost + \n",
      "    s_Average.Precol.GPA + s_GRE.Combined.General.Verbal.Score + \n",
      "    s_GRE.Combined.General.Write.Score + GPA_trend + s_start_year + \n",
      "    factor(s_College) + avs_net_cost:factor(s_College)\n",
      "\n",
      "                                                        Df Deviance    AIC\n",
      "- s_GRE.Combined.General.Verbal.Score                    1   2953.2 3028.1\n",
      "- s_GRE.Combined.General.Write.Score                     1   2953.3 3028.2\n",
      "<none>                                                       2951.9 3033.1\n",
      "- factor(s_Citizenship)                                  3   2972.2 3034.6\n",
      "- avs_net_cost:factor(s_College)                         1   2959.8 3034.7\n",
      "- s_Average.Precol.GPA                                   1   2962.0 3036.9\n",
      "+ s_GRE.Combined.General.Verbal.Score:factor(s_College)  1   2951.7 3039.2\n",
      "+ s_Average.Precol.GPA:factor(s_College)                 1   2951.8 3039.2\n",
      "+ s_GRE.Combined.General.Write.Score:factor(s_College)   1   2951.9 3039.3\n",
      "- GPA_trend                                              1   2966.6 3041.5\n",
      "+ factor(s_Citizenship):factor(s_College)                3   2950.6 3050.5\n",
      "- factor(funding_indicator)                              1   3048.6 3123.5\n",
      "- s_start_year                                           1   3187.6 3262.5\n",
      "\n",
      "Step:  AIC=3028.12\n",
      "Y ~ factor(funding_indicator) + factor(s_Citizenship) + avs_net_cost + \n",
      "    s_Average.Precol.GPA + s_GRE.Combined.General.Write.Score + \n",
      "    GPA_trend + s_start_year + factor(s_College) + avs_net_cost:factor(s_College)\n",
      "\n",
      "                                                       Df Deviance    AIC\n",
      "- s_GRE.Combined.General.Write.Score                    1   2955.4 3024.1\n",
      "<none>                                                      2953.2 3028.1\n",
      "- avs_net_cost:factor(s_College)                        1   2961.0 3029.7\n",
      "- factor(s_Citizenship)                                 3   2973.7 3029.9\n",
      "- s_Average.Precol.GPA                                  1   2963.0 3031.7\n",
      "+ s_GRE.Combined.General.Verbal.Score                   1   2951.9 3033.1\n",
      "+ s_Average.Precol.GPA:factor(s_College)                1   2953.1 3034.2\n",
      "+ s_GRE.Combined.General.Write.Score:factor(s_College)  1   2953.1 3034.3\n",
      "- GPA_trend                                             1   2968.4 3037.1\n",
      "+ factor(s_Citizenship):factor(s_College)               3   2951.9 3045.6\n",
      "- factor(funding_indicator)                             1   3050.4 3119.1\n",
      "- s_start_year                                          1   3189.1 3257.8\n",
      "\n",
      "Step:  AIC=3024.07\n",
      "Y ~ factor(funding_indicator) + factor(s_Citizenship) + avs_net_cost + \n",
      "    s_Average.Precol.GPA + GPA_trend + s_start_year + factor(s_College) + \n",
      "    avs_net_cost:factor(s_College)\n",
      "\n",
      "                                          Df Deviance    AIC\n",
      "<none>                                         2955.4 3024.1\n",
      "- avs_net_cost:factor(s_College)           1   2962.7 3025.1\n",
      "- s_Average.Precol.GPA                     1   2964.0 3026.5\n",
      "+ s_GRE.Combined.General.Write.Score       1   2953.2 3028.1\n",
      "+ s_GRE.Combined.General.Verbal.Score      1   2953.3 3028.2\n",
      "+ s_Average.Precol.GPA:factor(s_College)   1   2955.2 3030.1\n",
      "- GPA_trend                                1   2970.3 3032.7\n",
      "- factor(s_Citizenship)                    3   2983.4 3033.3\n",
      "+ factor(s_Citizenship):factor(s_College)  3   2954.1 3041.6\n",
      "- factor(funding_indicator)                1   3051.6 3114.0\n",
      "- s_start_year                             1   3192.9 3255.3\n"
     ]
    }
   ],
   "source": [
    "log_mod_total_bic = stepAIC(log_mod_total, direction = \"both\", k = log(e_n))"
   ]
  },
  {
   "cell_type": "markdown",
   "metadata": {},
   "source": [
    "<b>Significant variables both BIC selects:"
   ]
  },
  {
   "cell_type": "code",
   "execution_count": 240,
   "metadata": {
    "scrolled": true
   },
   "outputs": [
    {
     "data": {
      "text/html": [
       "<table>\n",
       "<thead><tr><th></th><th scope=col>Estimate</th><th scope=col>Pr(&gt;|z|)</th></tr></thead>\n",
       "<tbody>\n",
       "\t<tr><th scope=row>(Intercept)</th><td>-0.57033</td><td>0.00000 </td></tr>\n",
       "\t<tr><th scope=row>factor(funding_indicator)1</th><td> 1.06997</td><td>0.00000 </td></tr>\n",
       "\t<tr><th scope=row>factor(s_Citizenship)Africa</th><td> 0.88357</td><td>0.00546 </td></tr>\n",
       "\t<tr><th scope=row>factor(s_Citizenship)Asia</th><td> 0.59964</td><td>0.00002 </td></tr>\n",
       "\t<tr><th scope=row>factor(s_Citizenship)China</th><td> 0.33587</td><td>0.01636 </td></tr>\n",
       "\t<tr><th scope=row>s_Average.Precol.GPA</th><td> 0.13076</td><td>0.00429 </td></tr>\n",
       "\t<tr><th scope=row>GPA_trend</th><td> 0.99930</td><td>0.00021 </td></tr>\n",
       "\t<tr><th scope=row>s_start_year</th><td>-0.80919</td><td>0.00000 </td></tr>\n",
       "\t<tr><th scope=row>factor(s_College)GD Non-Harpur</th><td> 0.60862</td><td>0.00000 </td></tr>\n",
       "\t<tr><th scope=row>avs_net_cost:factor(s_College)GD Non-Harpur</th><td> 0.30465</td><td>0.01291 </td></tr>\n",
       "</tbody>\n",
       "</table>\n"
      ],
      "text/latex": [
       "\\begin{tabular}{r|ll}\n",
       "  & Estimate & Pr(>\\textbar{}z\\textbar{})\\\\\n",
       "\\hline\n",
       "\t(Intercept) & -0.57033 & 0.00000 \\\\\n",
       "\tfactor(funding\\_indicator)1 &  1.06997 & 0.00000 \\\\\n",
       "\tfactor(s\\_Citizenship)Africa &  0.88357 & 0.00546 \\\\\n",
       "\tfactor(s\\_Citizenship)Asia &  0.59964 & 0.00002 \\\\\n",
       "\tfactor(s\\_Citizenship)China &  0.33587 & 0.01636 \\\\\n",
       "\ts\\_Average.Precol.GPA &  0.13076 & 0.00429 \\\\\n",
       "\tGPA\\_trend &  0.99930 & 0.00021 \\\\\n",
       "\ts\\_start\\_year & -0.80919 & 0.00000 \\\\\n",
       "\tfactor(s\\_College)GD Non-Harpur &  0.60862 & 0.00000 \\\\\n",
       "\tavs\\_net\\_cost:factor(s\\_College)GD Non-Harpur &  0.30465 & 0.01291 \\\\\n",
       "\\end{tabular}\n"
      ],
      "text/markdown": [
       "\n",
       "| <!--/--> | Estimate | Pr(>|z|) |\n",
       "|---|---|---|\n",
       "| (Intercept) | -0.57033 | 0.00000  |\n",
       "| factor(funding_indicator)1 |  1.06997 | 0.00000  |\n",
       "| factor(s_Citizenship)Africa |  0.88357 | 0.00546  |\n",
       "| factor(s_Citizenship)Asia |  0.59964 | 0.00002  |\n",
       "| factor(s_Citizenship)China |  0.33587 | 0.01636  |\n",
       "| s_Average.Precol.GPA |  0.13076 | 0.00429  |\n",
       "| GPA_trend |  0.99930 | 0.00021  |\n",
       "| s_start_year | -0.80919 | 0.00000  |\n",
       "| factor(s_College)GD Non-Harpur |  0.60862 | 0.00000  |\n",
       "| avs_net_cost:factor(s_College)GD Non-Harpur |  0.30465 | 0.01291  |\n",
       "\n"
      ],
      "text/plain": [
       "                                            Estimate Pr(>|z|)\n",
       "(Intercept)                                 -0.57033 0.00000 \n",
       "factor(funding_indicator)1                   1.06997 0.00000 \n",
       "factor(s_Citizenship)Africa                  0.88357 0.00546 \n",
       "factor(s_Citizenship)Asia                    0.59964 0.00002 \n",
       "factor(s_Citizenship)China                   0.33587 0.01636 \n",
       "s_Average.Precol.GPA                         0.13076 0.00429 \n",
       "GPA_trend                                    0.99930 0.00021 \n",
       "s_start_year                                -0.80919 0.00000 \n",
       "factor(s_College)GD Non-Harpur               0.60862 0.00000 \n",
       "avs_net_cost:factor(s_College)GD Non-Harpur  0.30465 0.01291 "
      ]
     },
     "metadata": {},
     "output_type": "display_data"
    }
   ],
   "source": [
    "round(summary(log_mod_total_bic)$coeff[which(summary(log_mod_total_bic)$coef[,4] <= .05),c(1,4)],5)"
   ]
  },
  {
   "cell_type": "markdown",
   "metadata": {},
   "source": [
    "# Using Sparse PCA to do analysis"
   ]
  },
  {
   "cell_type": "markdown",
   "metadata": {},
   "source": [
    "# Harpur Sciences Analysis"
   ]
  },
  {
   "cell_type": "markdown",
   "metadata": {},
   "source": [
    "<b> Logistic regression model:"
   ]
  },
  {
   "cell_type": "code",
   "execution_count": 68,
   "metadata": {
    "scrolled": false
   },
   "outputs": [
    {
     "data": {
      "text/plain": [
       "\n",
       "Call:\n",
       "glm(formula = Y ~ s_start_age + factor(Gender) + factor(funding_indicator) + \n",
       "    factor(Citizenship) + avs_net_cost + SAPC1 + SAPC2 + SAPC3 + \n",
       "    factor(gap_indicator) + GPA_trend + s_start_year, family = \"binomial\", \n",
       "    data = Harpur_sciences)\n",
       "\n",
       "Deviance Residuals: \n",
       "    Min       1Q   Median       3Q      Max  \n",
       "-3.2490  -0.9440   0.5559   0.8614   2.1701  \n",
       "\n",
       "Coefficients:\n",
       "                                                 Estimate Std. Error z value\n",
       "(Intercept)                                     -0.754066   1.583191  -0.476\n",
       "s_start_age                                      0.133101   0.149035   0.893\n",
       "factor(Gender)Male                               0.001121   0.164237   0.007\n",
       "factor(funding_indicator)1                       1.299579   0.256153   5.073\n",
       "factor(Citizenship)Africa                        0.980062   0.474867   2.064\n",
       "factor(Citizenship)Asia                          0.296456   0.351802   0.843\n",
       "factor(Citizenship)Asian                        -0.346654   0.425599  -0.815\n",
       "factor(Citizenship)Black or African American     0.295510   0.526262   0.562\n",
       "factor(Citizenship)China                         0.586945   0.234131   2.507\n",
       "factor(Citizenship)Europe                        0.101770   0.437199   0.233\n",
       "factor(Citizenship)Hispanic or Latino           -0.741781   0.400922  -1.850\n",
       "factor(Citizenship)India                         0.542288   0.444915   1.219\n",
       "factor(Citizenship)Other International Students  0.230293   0.525652   0.438\n",
       "factor(Citizenship)Unknown                       0.314594   0.374086   0.841\n",
       "avs_net_cost                                     0.154515   0.106660   1.449\n",
       "SAPC1                                           -0.000172   0.005408  -0.032\n",
       "SAPC2                                            0.002532   0.001826   1.386\n",
       "SAPC3                                           -0.009601   0.219063  -0.044\n",
       "factor(gap_indicator)1                           0.629320   0.349307   1.802\n",
       "GPA_trend                                        1.090860   0.425162   2.566\n",
       "s_start_year                                    -1.350891   0.133969 -10.084\n",
       "                                                Pr(>|z|)    \n",
       "(Intercept)                                       0.6339    \n",
       "s_start_age                                       0.3718    \n",
       "factor(Gender)Male                                0.9946    \n",
       "factor(funding_indicator)1                      3.91e-07 ***\n",
       "factor(Citizenship)Africa                         0.0390 *  \n",
       "factor(Citizenship)Asia                           0.3994    \n",
       "factor(Citizenship)Asian                          0.4154    \n",
       "factor(Citizenship)Black or African American      0.5744    \n",
       "factor(Citizenship)China                          0.0122 *  \n",
       "factor(Citizenship)Europe                         0.8159    \n",
       "factor(Citizenship)Hispanic or Latino             0.0643 .  \n",
       "factor(Citizenship)India                          0.2229    \n",
       "factor(Citizenship)Other International Students   0.6613    \n",
       "factor(Citizenship)Unknown                        0.4004    \n",
       "avs_net_cost                                      0.1474    \n",
       "SAPC1                                             0.9746    \n",
       "SAPC2                                             0.1656    \n",
       "SAPC3                                             0.9650    \n",
       "factor(gap_indicator)1                            0.0716 .  \n",
       "GPA_trend                                         0.0103 *  \n",
       "s_start_year                                     < 2e-16 ***\n",
       "---\n",
       "Signif. codes:  0 '***' 0.001 '**' 0.01 '*' 0.05 '.' 0.1 ' ' 1\n",
       "\n",
       "(Dispersion parameter for binomial family taken to be 1)\n",
       "\n",
       "    Null deviance: 1135.18  on 860  degrees of freedom\n",
       "Residual deviance:  952.54  on 840  degrees of freedom\n",
       "AIC: 994.54\n",
       "\n",
       "Number of Fisher Scoring iterations: 4\n"
      ]
     },
     "metadata": {},
     "output_type": "display_data"
    }
   ],
   "source": [
    "log_mod_h_s = glm(Y~s_start_age+factor(Gender)+factor(funding_indicator)+factor(Citizenship)+\n",
    "                avs_net_cost+SAPC1+SAPC2+SAPC3+factor(gap_indicator)+GPA_trend+s_start_year,\n",
    "                data=Harpur_sciences,family=\"binomial\")\n",
    "summary(log_mod_h_s)"
   ]
  },
  {
   "cell_type": "markdown",
   "metadata": {},
   "source": [
    "<b> Significant Variables of logistic regression model: "
   ]
  },
  {
   "cell_type": "code",
   "execution_count": 69,
   "metadata": {},
   "outputs": [
    {
     "data": {
      "text/html": [
       "<table>\n",
       "<thead><tr><th></th><th scope=col>Estimate</th><th scope=col>Pr(&gt;|z|)</th></tr></thead>\n",
       "<tbody>\n",
       "\t<tr><th scope=row>factor(funding_indicator)1</th><td> 1.29958</td><td>0.00000 </td></tr>\n",
       "\t<tr><th scope=row>factor(Citizenship)Africa</th><td> 0.98006</td><td>0.03903 </td></tr>\n",
       "\t<tr><th scope=row>factor(Citizenship)China</th><td> 0.58694</td><td>0.01218 </td></tr>\n",
       "\t<tr><th scope=row>GPA_trend</th><td> 1.09086</td><td>0.01030 </td></tr>\n",
       "\t<tr><th scope=row>s_start_year</th><td>-1.35089</td><td>0.00000 </td></tr>\n",
       "</tbody>\n",
       "</table>\n"
      ],
      "text/latex": [
       "\\begin{tabular}{r|ll}\n",
       "  & Estimate & Pr(>\\textbar{}z\\textbar{})\\\\\n",
       "\\hline\n",
       "\tfactor(funding\\_indicator)1 &  1.29958 & 0.00000 \\\\\n",
       "\tfactor(Citizenship)Africa &  0.98006 & 0.03903 \\\\\n",
       "\tfactor(Citizenship)China &  0.58694 & 0.01218 \\\\\n",
       "\tGPA\\_trend &  1.09086 & 0.01030 \\\\\n",
       "\ts\\_start\\_year & -1.35089 & 0.00000 \\\\\n",
       "\\end{tabular}\n"
      ],
      "text/markdown": [
       "\n",
       "| <!--/--> | Estimate | Pr(>|z|) |\n",
       "|---|---|---|\n",
       "| factor(funding_indicator)1 |  1.29958 | 0.00000  |\n",
       "| factor(Citizenship)Africa |  0.98006 | 0.03903  |\n",
       "| factor(Citizenship)China |  0.58694 | 0.01218  |\n",
       "| GPA_trend |  1.09086 | 0.01030  |\n",
       "| s_start_year | -1.35089 | 0.00000  |\n",
       "\n"
      ],
      "text/plain": [
       "                           Estimate Pr(>|z|)\n",
       "factor(funding_indicator)1  1.29958 0.00000 \n",
       "factor(Citizenship)Africa   0.98006 0.03903 \n",
       "factor(Citizenship)China    0.58694 0.01218 \n",
       "GPA_trend                   1.09086 0.01030 \n",
       "s_start_year               -1.35089 0.00000 "
      ]
     },
     "metadata": {},
     "output_type": "display_data"
    }
   ],
   "source": [
    "round(summary(log_mod_h_s)$coeff[which(summary(log_mod_h_s)$coef[,4] <= .05),c(1,4)],5)"
   ]
  },
  {
   "cell_type": "markdown",
   "metadata": {},
   "source": [
    "<b> Both AIC:"
   ]
  },
  {
   "cell_type": "code",
   "execution_count": 70,
   "metadata": {},
   "outputs": [
    {
     "name": "stdout",
     "output_type": "stream",
     "text": [
      "Start:  AIC=994.54\n",
      "Y ~ s_start_age + factor(Gender) + factor(funding_indicator) + \n",
      "    factor(Citizenship) + avs_net_cost + SAPC1 + SAPC2 + SAPC3 + \n",
      "    factor(gap_indicator) + GPA_trend + s_start_year\n",
      "\n",
      "                            Df Deviance     AIC\n",
      "- factor(Gender)             1   952.54  992.54\n",
      "- SAPC1                      1   952.54  992.54\n",
      "- SAPC3                      1   952.54  992.54\n",
      "- factor(Citizenship)       10   970.75  992.75\n",
      "- s_start_age                1   953.34  993.34\n",
      "- SAPC2                      1   954.47  994.47\n",
      "<none>                           952.54  994.54\n",
      "- avs_net_cost               1   954.73  994.73\n",
      "- factor(gap_indicator)      1   956.08  996.08\n",
      "- GPA_trend                  1   959.79  999.79\n",
      "- factor(funding_indicator)  1   978.99 1018.99\n",
      "- s_start_year               1  1075.80 1115.80\n",
      "\n",
      "Step:  AIC=992.54\n",
      "Y ~ s_start_age + factor(funding_indicator) + factor(Citizenship) + \n",
      "    avs_net_cost + SAPC1 + SAPC2 + SAPC3 + factor(gap_indicator) + \n",
      "    GPA_trend + s_start_year\n",
      "\n",
      "                            Df Deviance     AIC\n",
      "- SAPC1                      1   952.54  990.54\n",
      "- SAPC3                      1   952.54  990.54\n",
      "- factor(Citizenship)       10   970.76  990.76\n",
      "- s_start_age                1   953.35  991.35\n",
      "- SAPC2                      1   954.48  992.48\n",
      "<none>                           952.54  992.54\n",
      "- avs_net_cost               1   954.75  992.75\n",
      "- factor(gap_indicator)      1   956.08  994.08\n",
      "+ factor(Gender)             1   952.54  994.54\n",
      "- GPA_trend                  1   959.86  997.86\n",
      "- factor(funding_indicator)  1   978.99 1016.99\n",
      "- s_start_year               1  1076.59 1114.59\n",
      "\n",
      "Step:  AIC=990.54\n",
      "Y ~ s_start_age + factor(funding_indicator) + factor(Citizenship) + \n",
      "    avs_net_cost + SAPC2 + SAPC3 + factor(gap_indicator) + GPA_trend + \n",
      "    s_start_year\n",
      "\n",
      "                            Df Deviance     AIC\n",
      "- SAPC3                      1   952.54  988.54\n",
      "- factor(Citizenship)       10   970.80  988.80\n",
      "- s_start_age                1   953.35  989.35\n",
      "- SAPC2                      1   954.48  990.48\n",
      "<none>                           952.54  990.54\n",
      "- avs_net_cost               1   954.75  990.75\n",
      "- factor(gap_indicator)      1   956.08  992.08\n",
      "+ SAPC1                      1   952.54  992.54\n",
      "+ factor(Gender)             1   952.54  992.54\n",
      "- GPA_trend                  1   959.86  995.86\n",
      "- factor(funding_indicator)  1   979.05 1015.05\n",
      "- s_start_year               1  1078.80 1114.80\n",
      "\n",
      "Step:  AIC=988.54\n",
      "Y ~ s_start_age + factor(funding_indicator) + factor(Citizenship) + \n",
      "    avs_net_cost + SAPC2 + factor(gap_indicator) + GPA_trend + \n",
      "    s_start_year\n",
      "\n",
      "                            Df Deviance     AIC\n",
      "- s_start_age                1   953.35  987.35\n",
      "- factor(Citizenship)       10   972.07  988.07\n",
      "- SAPC2                      1   954.48  988.48\n",
      "<none>                           952.54  988.54\n",
      "- avs_net_cost               1   954.77  988.77\n",
      "- factor(gap_indicator)      1   956.08  990.08\n",
      "+ SAPC3                      1   952.54  990.54\n",
      "+ SAPC1                      1   952.54  990.54\n",
      "+ factor(Gender)             1   952.54  990.54\n",
      "- GPA_trend                  1   959.88  993.88\n",
      "- factor(funding_indicator)  1   979.20 1013.20\n",
      "- s_start_year               1  1078.95 1112.95\n",
      "\n",
      "Step:  AIC=987.35\n",
      "Y ~ factor(funding_indicator) + factor(Citizenship) + avs_net_cost + \n",
      "    SAPC2 + factor(gap_indicator) + GPA_trend + s_start_year\n",
      "\n",
      "                            Df Deviance     AIC\n",
      "<none>                           953.35  987.35\n",
      "- factor(Citizenship)       10   973.62  987.62\n",
      "- SAPC2                      1   955.62  987.62\n",
      "- avs_net_cost               1   956.37  988.37\n",
      "+ s_start_age                1   952.54  988.54\n",
      "- factor(gap_indicator)      1   957.00  989.00\n",
      "+ factor(Gender)             1   953.35  989.35\n",
      "+ SAPC3                      1   953.35  989.35\n",
      "+ SAPC1                      1   953.35  989.35\n",
      "- GPA_trend                  1   960.64  992.64\n",
      "- factor(funding_indicator)  1   979.23 1011.23\n",
      "- s_start_year               1  1079.01 1111.01\n"
     ]
    }
   ],
   "source": [
    "library('MASS')\n",
    "log_mod_h_s_aic = stepAIC(log_mod_h_s, direction = 'both')"
   ]
  },
  {
   "cell_type": "markdown",
   "metadata": {},
   "source": [
    "<b> Significant variables both AIC selects:"
   ]
  },
  {
   "cell_type": "code",
   "execution_count": 71,
   "metadata": {},
   "outputs": [
    {
     "data": {
      "text/html": [
       "<table>\n",
       "<thead><tr><th></th><th scope=col>Estimate</th><th scope=col>Pr(&gt;|z|)</th></tr></thead>\n",
       "<tbody>\n",
       "\t<tr><th scope=row>(Intercept)</th><td>-0.80628</td><td>0.01345 </td></tr>\n",
       "\t<tr><th scope=row>factor(funding_indicator)1</th><td> 1.25234</td><td>0.00000 </td></tr>\n",
       "\t<tr><th scope=row>factor(Citizenship)Africa</th><td> 1.05933</td><td>0.02216 </td></tr>\n",
       "\t<tr><th scope=row>factor(Citizenship)China</th><td> 0.58856</td><td>0.00834 </td></tr>\n",
       "\t<tr><th scope=row>GPA_trend</th><td> 1.08267</td><td>0.01010 </td></tr>\n",
       "\t<tr><th scope=row>s_start_year</th><td>-1.34429</td><td>0.00000 </td></tr>\n",
       "</tbody>\n",
       "</table>\n"
      ],
      "text/latex": [
       "\\begin{tabular}{r|ll}\n",
       "  & Estimate & Pr(>\\textbar{}z\\textbar{})\\\\\n",
       "\\hline\n",
       "\t(Intercept) & -0.80628 & 0.01345 \\\\\n",
       "\tfactor(funding\\_indicator)1 &  1.25234 & 0.00000 \\\\\n",
       "\tfactor(Citizenship)Africa &  1.05933 & 0.02216 \\\\\n",
       "\tfactor(Citizenship)China &  0.58856 & 0.00834 \\\\\n",
       "\tGPA\\_trend &  1.08267 & 0.01010 \\\\\n",
       "\ts\\_start\\_year & -1.34429 & 0.00000 \\\\\n",
       "\\end{tabular}\n"
      ],
      "text/markdown": [
       "\n",
       "| <!--/--> | Estimate | Pr(>|z|) |\n",
       "|---|---|---|\n",
       "| (Intercept) | -0.80628 | 0.01345  |\n",
       "| factor(funding_indicator)1 |  1.25234 | 0.00000  |\n",
       "| factor(Citizenship)Africa |  1.05933 | 0.02216  |\n",
       "| factor(Citizenship)China |  0.58856 | 0.00834  |\n",
       "| GPA_trend |  1.08267 | 0.01010  |\n",
       "| s_start_year | -1.34429 | 0.00000  |\n",
       "\n"
      ],
      "text/plain": [
       "                           Estimate Pr(>|z|)\n",
       "(Intercept)                -0.80628 0.01345 \n",
       "factor(funding_indicator)1  1.25234 0.00000 \n",
       "factor(Citizenship)Africa   1.05933 0.02216 \n",
       "factor(Citizenship)China    0.58856 0.00834 \n",
       "GPA_trend                   1.08267 0.01010 \n",
       "s_start_year               -1.34429 0.00000 "
      ]
     },
     "metadata": {},
     "output_type": "display_data"
    }
   ],
   "source": [
    "round(summary(log_mod_h_s_aic)$coeff[which(summary(log_mod_h_s_aic)$coef[,4] <= .05),c(1,4)],5)"
   ]
  },
  {
   "cell_type": "markdown",
   "metadata": {},
   "source": [
    "<b> Both BIC"
   ]
  },
  {
   "cell_type": "code",
   "execution_count": 72,
   "metadata": {},
   "outputs": [
    {
     "name": "stdout",
     "output_type": "stream",
     "text": [
      "Start:  AIC=1094.46\n",
      "Y ~ s_start_age + factor(Gender) + factor(funding_indicator) + \n",
      "    factor(Citizenship) + avs_net_cost + SAPC1 + SAPC2 + SAPC3 + \n",
      "    factor(gap_indicator) + GPA_trend + s_start_year\n",
      "\n",
      "                            Df Deviance    AIC\n",
      "- factor(Citizenship)       10   970.75 1045.1\n",
      "- factor(Gender)             1   952.54 1087.7\n",
      "- SAPC1                      1   952.54 1087.7\n",
      "- SAPC3                      1   952.54 1087.7\n",
      "- s_start_age                1   953.34 1088.5\n",
      "- SAPC2                      1   954.47 1089.6\n",
      "- avs_net_cost               1   954.73 1089.9\n",
      "- factor(gap_indicator)      1   956.08 1091.2\n",
      "<none>                           952.54 1094.5\n",
      "- GPA_trend                  1   959.79 1095.0\n",
      "- factor(funding_indicator)  1   978.99 1114.2\n",
      "- s_start_year               1  1075.80 1211.0\n",
      "\n",
      "Step:  AIC=1045.09\n",
      "Y ~ s_start_age + factor(Gender) + factor(funding_indicator) + \n",
      "    avs_net_cost + SAPC1 + SAPC2 + SAPC3 + factor(gap_indicator) + \n",
      "    GPA_trend + s_start_year\n",
      "\n",
      "                            Df Deviance    AIC\n",
      "- factor(Gender)             1   970.76 1038.3\n",
      "- SAPC1                      1   970.79 1038.4\n",
      "- SAPC2                      1   971.77 1039.3\n",
      "- SAPC3                      1   972.05 1039.6\n",
      "- s_start_age                1   972.16 1039.7\n",
      "- avs_net_cost               1   972.70 1040.3\n",
      "- factor(gap_indicator)      1   973.82 1041.4\n",
      "- GPA_trend                  1   977.09 1044.7\n",
      "<none>                           970.75 1045.1\n",
      "- factor(funding_indicator)  1   997.88 1065.5\n",
      "+ factor(Citizenship)       10   952.54 1094.5\n",
      "- s_start_year               1  1099.24 1166.8\n",
      "\n",
      "Step:  AIC=1038.34\n",
      "Y ~ s_start_age + factor(funding_indicator) + avs_net_cost + \n",
      "    SAPC1 + SAPC2 + SAPC3 + factor(gap_indicator) + GPA_trend + \n",
      "    s_start_year\n",
      "\n",
      "                            Df Deviance    AIC\n",
      "- SAPC1                      1   970.80 1031.6\n",
      "- SAPC2                      1   971.79 1032.6\n",
      "- SAPC3                      1   972.06 1032.9\n",
      "- s_start_age                1   972.16 1033.0\n",
      "- avs_net_cost               1   972.70 1033.5\n",
      "- factor(gap_indicator)      1   973.82 1034.7\n",
      "- GPA_trend                  1   977.18 1038.0\n",
      "<none>                           970.76 1038.3\n",
      "+ factor(Gender)             1   970.75 1045.1\n",
      "- factor(funding_indicator)  1   997.89 1058.7\n",
      "+ factor(Citizenship)       10   952.54 1087.7\n",
      "- s_start_year               1  1100.05 1160.9\n",
      "\n",
      "Step:  AIC=1031.62\n",
      "Y ~ s_start_age + factor(funding_indicator) + avs_net_cost + \n",
      "    SAPC2 + SAPC3 + factor(gap_indicator) + GPA_trend + s_start_year\n",
      "\n",
      "                            Df Deviance    AIC\n",
      "- SAPC2                      1   971.82 1025.9\n",
      "- SAPC3                      1   972.07 1026.1\n",
      "- s_start_age                1   972.20 1026.3\n",
      "- avs_net_cost               1   972.74 1026.8\n",
      "- factor(gap_indicator)      1   973.86 1027.9\n",
      "- GPA_trend                  1   977.21 1031.3\n",
      "<none>                           970.80 1031.6\n",
      "+ SAPC1                      1   970.76 1038.3\n",
      "+ factor(Gender)             1   970.79 1038.4\n",
      "- factor(funding_indicator)  1   998.03 1052.1\n",
      "+ factor(Citizenship)       10   952.54 1080.9\n",
      "- s_start_year               1  1102.55 1156.6\n",
      "\n",
      "Step:  AIC=1025.89\n",
      "Y ~ s_start_age + factor(funding_indicator) + avs_net_cost + \n",
      "    SAPC3 + factor(gap_indicator) + GPA_trend + s_start_year\n",
      "\n",
      "                            Df Deviance    AIC\n",
      "- SAPC3                      1   972.85 1020.2\n",
      "- s_start_age                1   973.50 1020.8\n",
      "- avs_net_cost               1   973.75 1021.0\n",
      "- factor(gap_indicator)      1   974.98 1022.3\n",
      "- GPA_trend                  1   977.86 1025.2\n",
      "<none>                           971.82 1025.9\n",
      "+ SAPC2                      1   970.80 1031.6\n",
      "+ SAPC1                      1   971.79 1032.6\n",
      "+ factor(Gender)             1   971.81 1032.6\n",
      "- factor(funding_indicator)  1   999.81 1047.1\n",
      "+ factor(Citizenship)       10   954.48 1076.1\n",
      "- s_start_year               1  1104.21 1151.5\n",
      "\n",
      "Step:  AIC=1020.16\n",
      "Y ~ s_start_age + factor(funding_indicator) + avs_net_cost + \n",
      "    factor(gap_indicator) + GPA_trend + s_start_year\n",
      "\n",
      "                            Df Deviance    AIC\n",
      "- s_start_age                1   974.64 1015.2\n",
      "- avs_net_cost               1   975.04 1015.6\n",
      "- factor(gap_indicator)      1   975.89 1016.4\n",
      "- GPA_trend                  1   979.09 1019.6\n",
      "<none>                           972.85 1020.2\n",
      "+ SAPC3                      1   971.82 1025.9\n",
      "+ SAPC2                      1   972.07 1026.1\n",
      "+ SAPC1                      1   972.84 1026.9\n",
      "+ factor(Gender)             1   972.84 1026.9\n",
      "- factor(funding_indicator)  1  1000.06 1040.6\n",
      "+ factor(Citizenship)       10   954.48 1069.4\n",
      "- s_start_year               1  1105.50 1146.0\n",
      "\n",
      "Step:  AIC=1015.18\n",
      "Y ~ factor(funding_indicator) + avs_net_cost + factor(gap_indicator) + \n",
      "    GPA_trend + s_start_year\n",
      "\n",
      "                            Df Deviance    AIC\n",
      "- factor(gap_indicator)      1   977.75 1011.5\n",
      "- avs_net_cost               1   977.87 1011.7\n",
      "- GPA_trend                  1   980.77 1014.6\n",
      "<none>                           974.64 1015.2\n",
      "+ s_start_age                1   972.85 1020.2\n",
      "+ SAPC3                      1   973.50 1020.8\n",
      "+ SAPC2                      1   973.62 1020.9\n",
      "+ SAPC1                      1   974.63 1021.9\n",
      "+ factor(Gender)             1   974.63 1021.9\n",
      "- factor(funding_indicator)  1  1000.10 1033.9\n",
      "+ factor(Citizenship)       10   955.62 1063.8\n",
      "- s_start_year               1  1106.10 1139.9\n",
      "\n",
      "Step:  AIC=1011.54\n",
      "Y ~ factor(funding_indicator) + avs_net_cost + GPA_trend + s_start_year\n",
      "\n",
      "                            Df Deviance    AIC\n",
      "- avs_net_cost               1   980.78 1007.8\n",
      "- GPA_trend                  1   983.93 1011.0\n",
      "<none>                           977.75 1011.5\n",
      "+ factor(gap_indicator)      1   974.64 1015.2\n",
      "+ s_start_age                1   975.89 1016.4\n",
      "+ SAPC2                      1   976.61 1017.2\n",
      "+ SAPC3                      1   976.73 1017.3\n",
      "+ SAPC1                      1   977.74 1018.3\n",
      "+ factor(Gender)             1   977.75 1018.3\n",
      "- factor(funding_indicator)  1  1003.94 1031.0\n",
      "+ factor(Citizenship)       10   959.41 1060.8\n",
      "- s_start_year               1  1119.26 1146.3\n",
      "\n",
      "Step:  AIC=1007.81\n",
      "Y ~ factor(funding_indicator) + GPA_trend + s_start_year\n",
      "\n",
      "                            Df Deviance    AIC\n",
      "- GPA_trend                  1   987.32 1007.6\n",
      "<none>                           980.78 1007.8\n",
      "+ avs_net_cost               1   977.75 1011.5\n",
      "+ factor(gap_indicator)      1   977.87 1011.7\n",
      "+ s_start_age                1   977.89 1011.7\n",
      "+ SAPC3                      1   979.40 1013.2\n",
      "+ SAPC2                      1   979.63 1013.4\n",
      "+ factor(Gender)             1   980.73 1014.5\n",
      "+ SAPC1                      1   980.77 1014.6\n",
      "- factor(funding_indicator)  1  1004.81 1025.1\n",
      "+ factor(Citizenship)       10   962.26 1056.9\n",
      "- s_start_year               1  1121.62 1141.9\n",
      "\n",
      "Step:  AIC=1007.59\n",
      "Y ~ factor(funding_indicator) + s_start_year\n",
      "\n",
      "                            Df Deviance    AIC\n",
      "<none>                           987.32 1007.6\n",
      "+ GPA_trend                  1   980.78 1007.8\n",
      "+ avs_net_cost               1   983.93 1011.0\n",
      "+ factor(gap_indicator)      1   984.38 1011.4\n",
      "+ s_start_age                1   984.51 1011.5\n",
      "+ SAPC3                      1   985.68 1012.7\n",
      "+ SAPC2                      1   986.59 1013.6\n",
      "+ SAPC1                      1   987.32 1014.4\n",
      "+ factor(Gender)             1   987.32 1014.4\n",
      "- factor(funding_indicator)  1  1012.20 1025.7\n",
      "+ factor(Citizenship)       10   969.34 1057.2\n",
      "- s_start_year               1  1134.97 1148.5\n"
     ]
    }
   ],
   "source": [
    "log_mod_h_s_bic = stepAIC(log_mod_h_s, direction = \"both\", k = log(a_n))"
   ]
  },
  {
   "cell_type": "markdown",
   "metadata": {},
   "source": [
    "<b> Significant variables both BIC selects:"
   ]
  },
  {
   "cell_type": "code",
   "execution_count": 73,
   "metadata": {},
   "outputs": [
    {
     "data": {
      "text/html": [
       "<table>\n",
       "<thead><tr><th></th><th scope=col>Estimate</th><th scope=col>Pr(&gt;|z|)</th></tr></thead>\n",
       "<tbody>\n",
       "\t<tr><th scope=row>factor(funding_indicator)1</th><td> 1.18085</td><td>0       </td></tr>\n",
       "\t<tr><th scope=row>s_start_year</th><td>-1.38659</td><td>0       </td></tr>\n",
       "</tbody>\n",
       "</table>\n"
      ],
      "text/latex": [
       "\\begin{tabular}{r|ll}\n",
       "  & Estimate & Pr(>\\textbar{}z\\textbar{})\\\\\n",
       "\\hline\n",
       "\tfactor(funding\\_indicator)1 &  1.18085 & 0       \\\\\n",
       "\ts\\_start\\_year & -1.38659 & 0       \\\\\n",
       "\\end{tabular}\n"
      ],
      "text/markdown": [
       "\n",
       "| <!--/--> | Estimate | Pr(>|z|) |\n",
       "|---|---|---|\n",
       "| factor(funding_indicator)1 |  1.18085 | 0        |\n",
       "| s_start_year | -1.38659 | 0        |\n",
       "\n"
      ],
      "text/plain": [
       "                           Estimate Pr(>|z|)\n",
       "factor(funding_indicator)1  1.18085 0       \n",
       "s_start_year               -1.38659 0       "
      ]
     },
     "metadata": {},
     "output_type": "display_data"
    }
   ],
   "source": [
    "round(summary(log_mod_h_s_bic)$coeff[which(summary(log_mod_h_s_bic)$coef[,4] <= .05),c(1,4)],5)"
   ]
  },
  {
   "cell_type": "markdown",
   "metadata": {},
   "source": [
    "# Harpur Arts Analysis"
   ]
  },
  {
   "cell_type": "markdown",
   "metadata": {},
   "source": [
    "<b> Logistic regression model:"
   ]
  },
  {
   "cell_type": "code",
   "execution_count": 74,
   "metadata": {},
   "outputs": [
    {
     "data": {
      "text/plain": [
       "\n",
       "Call:\n",
       "glm(formula = Y ~ s_start_age + factor(Gender) + factor(funding_indicator) + \n",
       "    factor(Citizenship) + avs_net_cost + s_SAPC1 + s_SAPC2 + \n",
       "    s_SAPC3 + factor(gap_indicator) + GPA_trend + s_start_year, \n",
       "    family = \"binomial\", data = Harpur_arts)\n",
       "\n",
       "Deviance Residuals: \n",
       "    Min       1Q   Median       3Q      Max  \n",
       "-2.1161  -1.1697   0.7625   1.0087   1.6012  \n",
       "\n",
       "Coefficients:\n",
       "                                                 Estimate Std. Error z value\n",
       "(Intercept)                                     -0.344290   0.167557  -2.055\n",
       "s_start_age                                      0.108965   0.070395   1.548\n",
       "factor(Gender)Male                              -0.006508   0.144130  -0.045\n",
       "factor(funding_indicator)1                       0.706190   0.172063   4.104\n",
       "factor(Citizenship)Africa                       -0.404466   0.528807  -0.765\n",
       "factor(Citizenship)Asia                          0.699986   0.236934   2.954\n",
       "factor(Citizenship)Asian                        -0.390757   0.384683  -1.016\n",
       "factor(Citizenship)Black or African American     0.033765   0.407952   0.083\n",
       "factor(Citizenship)China                         0.435042   0.476752   0.913\n",
       "factor(Citizenship)Europe                        0.606732   0.472455   1.284\n",
       "factor(Citizenship)Hispanic or Latino            0.034737   0.302980   0.115\n",
       "factor(Citizenship)India                         0.546416   1.183625   0.462\n",
       "factor(Citizenship)Other International Students  0.214126   0.477584   0.448\n",
       "factor(Citizenship)Unknown                      -0.140197   0.247780  -0.566\n",
       "avs_net_cost                                     0.009616   0.055640   0.173\n",
       "s_SAPC1                                          0.110246   0.120357   0.916\n",
       "s_SAPC2                                         -0.083526   0.080392  -1.039\n",
       "s_SAPC3                                          0.042897   0.076460   0.561\n",
       "factor(gap_indicator)1                           0.222766   0.255042   0.873\n",
       "GPA_trend                                        0.667510   0.522001   1.279\n",
       "s_start_year                                    -0.517064   0.077721  -6.653\n",
       "                                                Pr(>|z|)    \n",
       "(Intercept)                                      0.03990 *  \n",
       "s_start_age                                      0.12164    \n",
       "factor(Gender)Male                               0.96399    \n",
       "factor(funding_indicator)1                      4.06e-05 ***\n",
       "factor(Citizenship)Africa                        0.44435    \n",
       "factor(Citizenship)Asia                          0.00313 ** \n",
       "factor(Citizenship)Asian                         0.30973    \n",
       "factor(Citizenship)Black or African American     0.93404    \n",
       "factor(Citizenship)China                         0.36150    \n",
       "factor(Citizenship)Europe                        0.19907    \n",
       "factor(Citizenship)Hispanic or Latino            0.90872    \n",
       "factor(Citizenship)India                         0.64434    \n",
       "factor(Citizenship)Other International Students  0.65390    \n",
       "factor(Citizenship)Unknown                       0.57152    \n",
       "avs_net_cost                                     0.86279    \n",
       "s_SAPC1                                          0.35967    \n",
       "s_SAPC2                                          0.29882    \n",
       "s_SAPC3                                          0.57477    \n",
       "factor(gap_indicator)1                           0.38242    \n",
       "GPA_trend                                        0.20098    \n",
       "s_start_year                                    2.87e-11 ***\n",
       "---\n",
       "Signif. codes:  0 '***' 0.001 '**' 0.01 '*' 0.05 '.' 0.1 ' ' 1\n",
       "\n",
       "(Dispersion parameter for binomial family taken to be 1)\n",
       "\n",
       "    Null deviance: 1248.0  on 917  degrees of freedom\n",
       "Residual deviance: 1170.2  on 897  degrees of freedom\n",
       "AIC: 1212.2\n",
       "\n",
       "Number of Fisher Scoring iterations: 5\n"
      ]
     },
     "metadata": {},
     "output_type": "display_data"
    }
   ],
   "source": [
    "log_mod_h_a = glm(Y~s_start_age+factor(Gender)+factor(funding_indicator)+factor(Citizenship)+\n",
    "                avs_net_cost+s_SAPC1+s_SAPC2+s_SAPC3+factor(gap_indicator)+GPA_trend+s_start_year,\n",
    "                data=Harpur_arts,family=\"binomial\")\n",
    "summary(log_mod_h_a)"
   ]
  },
  {
   "cell_type": "markdown",
   "metadata": {},
   "source": [
    "<b> Significant Variables of logistic regression model: "
   ]
  },
  {
   "cell_type": "code",
   "execution_count": 75,
   "metadata": {},
   "outputs": [
    {
     "data": {
      "text/html": [
       "<table>\n",
       "<thead><tr><th></th><th scope=col>Estimate</th><th scope=col>Pr(&gt;|z|)</th></tr></thead>\n",
       "<tbody>\n",
       "\t<tr><th scope=row>(Intercept)</th><td>-0.34429</td><td>0.03990 </td></tr>\n",
       "\t<tr><th scope=row>factor(funding_indicator)1</th><td> 0.70619</td><td>0.00004 </td></tr>\n",
       "\t<tr><th scope=row>factor(Citizenship)Asia</th><td> 0.69999</td><td>0.00313 </td></tr>\n",
       "\t<tr><th scope=row>s_start_year</th><td>-0.51706</td><td>0.00000 </td></tr>\n",
       "</tbody>\n",
       "</table>\n"
      ],
      "text/latex": [
       "\\begin{tabular}{r|ll}\n",
       "  & Estimate & Pr(>\\textbar{}z\\textbar{})\\\\\n",
       "\\hline\n",
       "\t(Intercept) & -0.34429 & 0.03990 \\\\\n",
       "\tfactor(funding\\_indicator)1 &  0.70619 & 0.00004 \\\\\n",
       "\tfactor(Citizenship)Asia &  0.69999 & 0.00313 \\\\\n",
       "\ts\\_start\\_year & -0.51706 & 0.00000 \\\\\n",
       "\\end{tabular}\n"
      ],
      "text/markdown": [
       "\n",
       "| <!--/--> | Estimate | Pr(>|z|) |\n",
       "|---|---|---|\n",
       "| (Intercept) | -0.34429 | 0.03990  |\n",
       "| factor(funding_indicator)1 |  0.70619 | 0.00004  |\n",
       "| factor(Citizenship)Asia |  0.69999 | 0.00313  |\n",
       "| s_start_year | -0.51706 | 0.00000  |\n",
       "\n"
      ],
      "text/plain": [
       "                           Estimate Pr(>|z|)\n",
       "(Intercept)                -0.34429 0.03990 \n",
       "factor(funding_indicator)1  0.70619 0.00004 \n",
       "factor(Citizenship)Asia     0.69999 0.00313 \n",
       "s_start_year               -0.51706 0.00000 "
      ]
     },
     "metadata": {},
     "output_type": "display_data"
    }
   ],
   "source": [
    "round(summary(log_mod_h_a)$coeff[which(summary(log_mod_h_a)$coef[,4] <= .05),c(1,4)],5)"
   ]
  },
  {
   "cell_type": "markdown",
   "metadata": {},
   "source": [
    "<b> Both AIC:"
   ]
  },
  {
   "cell_type": "code",
   "execution_count": 76,
   "metadata": {},
   "outputs": [
    {
     "name": "stdout",
     "output_type": "stream",
     "text": [
      "Start:  AIC=1212.2\n",
      "Y ~ s_start_age + factor(Gender) + factor(funding_indicator) + \n",
      "    factor(Citizenship) + avs_net_cost + s_SAPC1 + s_SAPC2 + \n",
      "    s_SAPC3 + factor(gap_indicator) + GPA_trend + s_start_year\n",
      "\n",
      "                            Df Deviance    AIC\n",
      "- factor(Citizenship)       10   1185.0 1207.0\n",
      "- factor(Gender)             1   1170.2 1210.2\n",
      "- avs_net_cost               1   1170.2 1210.2\n",
      "- s_SAPC3                    1   1170.5 1210.5\n",
      "- factor(gap_indicator)      1   1171.0 1211.0\n",
      "- s_SAPC2                    1   1171.3 1211.3\n",
      "- GPA_trend                  1   1171.9 1211.9\n",
      "- s_SAPC1                    1   1171.9 1211.9\n",
      "<none>                           1170.2 1212.2\n",
      "- s_start_age                1   1172.6 1212.6\n",
      "- factor(funding_indicator)  1   1187.5 1227.5\n",
      "- s_start_year               1   1219.7 1259.7\n",
      "\n",
      "Step:  AIC=1207.04\n",
      "Y ~ s_start_age + factor(Gender) + factor(funding_indicator) + \n",
      "    avs_net_cost + s_SAPC1 + s_SAPC2 + s_SAPC3 + factor(gap_indicator) + \n",
      "    GPA_trend + s_start_year\n",
      "\n",
      "                            Df Deviance    AIC\n",
      "- avs_net_cost               1   1185.0 1205.0\n",
      "- s_SAPC3                    1   1185.0 1205.0\n",
      "- factor(Gender)             1   1185.1 1205.1\n",
      "- factor(gap_indicator)      1   1185.9 1205.9\n",
      "- s_start_age                1   1186.2 1206.2\n",
      "- GPA_trend                  1   1186.3 1206.3\n",
      "- s_SAPC1                    1   1186.9 1206.9\n",
      "<none>                           1185.0 1207.0\n",
      "- s_SAPC2                    1   1187.7 1207.7\n",
      "+ factor(Citizenship)       10   1170.2 1212.2\n",
      "- factor(funding_indicator)  1   1202.9 1222.9\n",
      "- s_start_year               1   1229.9 1249.9\n",
      "\n",
      "Step:  AIC=1205.05\n",
      "Y ~ s_start_age + factor(Gender) + factor(funding_indicator) + \n",
      "    s_SAPC1 + s_SAPC2 + s_SAPC3 + factor(gap_indicator) + GPA_trend + \n",
      "    s_start_year\n",
      "\n",
      "                            Df Deviance    AIC\n",
      "- s_SAPC3                    1   1185.0 1203.0\n",
      "- factor(Gender)             1   1185.1 1203.1\n",
      "- factor(gap_indicator)      1   1185.9 1203.9\n",
      "- s_start_age                1   1186.2 1204.2\n",
      "- GPA_trend                  1   1186.3 1204.3\n",
      "- s_SAPC1                    1   1186.9 1204.9\n",
      "<none>                           1185.0 1205.0\n",
      "- s_SAPC2                    1   1187.7 1205.7\n",
      "+ avs_net_cost               1   1185.0 1207.0\n",
      "+ factor(Citizenship)       10   1170.2 1210.2\n",
      "- factor(funding_indicator)  1   1203.0 1221.0\n",
      "- s_start_year               1   1230.6 1248.6\n",
      "\n",
      "Step:  AIC=1203.05\n",
      "Y ~ s_start_age + factor(Gender) + factor(funding_indicator) + \n",
      "    s_SAPC1 + s_SAPC2 + factor(gap_indicator) + GPA_trend + s_start_year\n",
      "\n",
      "                            Df Deviance    AIC\n",
      "- factor(Gender)             1   1185.1 1201.1\n",
      "- factor(gap_indicator)      1   1185.9 1201.9\n",
      "- GPA_trend                  1   1186.3 1202.3\n",
      "- s_start_age                1   1186.3 1202.3\n",
      "- s_SAPC1                    1   1187.0 1203.0\n",
      "<none>                           1185.0 1203.0\n",
      "- s_SAPC2                    1   1187.7 1203.7\n",
      "+ s_SAPC3                    1   1185.0 1205.0\n",
      "+ avs_net_cost               1   1185.0 1205.0\n",
      "+ factor(Citizenship)       10   1170.5 1208.5\n",
      "- factor(funding_indicator)  1   1203.0 1219.0\n",
      "- s_start_year               1   1231.4 1247.4\n",
      "\n",
      "Step:  AIC=1201.11\n",
      "Y ~ s_start_age + factor(funding_indicator) + s_SAPC1 + s_SAPC2 + \n",
      "    factor(gap_indicator) + GPA_trend + s_start_year\n",
      "\n",
      "                            Df Deviance    AIC\n",
      "- factor(gap_indicator)      1   1186.0 1200.0\n",
      "- GPA_trend                  1   1186.3 1200.3\n",
      "- s_start_age                1   1186.4 1200.4\n",
      "- s_SAPC1                    1   1187.0 1201.0\n",
      "<none>                           1185.1 1201.1\n",
      "- s_SAPC2                    1   1187.7 1201.7\n",
      "+ factor(Gender)             1   1185.0 1203.0\n",
      "+ avs_net_cost               1   1185.1 1203.1\n",
      "+ s_SAPC3                    1   1185.1 1203.1\n",
      "+ factor(Citizenship)       10   1170.5 1206.5\n",
      "- factor(funding_indicator)  1   1203.0 1217.0\n",
      "- s_start_year               1   1231.5 1245.5\n",
      "\n",
      "Step:  AIC=1199.99\n",
      "Y ~ s_start_age + factor(funding_indicator) + s_SAPC1 + s_SAPC2 + \n",
      "    GPA_trend + s_start_year\n",
      "\n",
      "                            Df Deviance    AIC\n",
      "- s_start_age                1   1187.2 1199.2\n",
      "- GPA_trend                  1   1187.2 1199.2\n",
      "- s_SAPC1                    1   1187.8 1199.8\n",
      "<none>                           1186.0 1200.0\n",
      "- s_SAPC2                    1   1188.7 1200.7\n",
      "+ factor(gap_indicator)      1   1185.1 1201.1\n",
      "+ factor(Gender)             1   1185.9 1201.9\n",
      "+ avs_net_cost               1   1186.0 1202.0\n",
      "+ s_SAPC3                    1   1186.0 1202.0\n",
      "+ factor(Citizenship)       10   1171.3 1205.3\n",
      "- factor(funding_indicator)  1   1203.5 1215.5\n",
      "- s_start_year               1   1236.5 1248.5\n",
      "\n",
      "Step:  AIC=1199.19\n",
      "Y ~ factor(funding_indicator) + s_SAPC1 + s_SAPC2 + GPA_trend + \n",
      "    s_start_year\n",
      "\n",
      "                            Df Deviance    AIC\n",
      "- GPA_trend                  1   1188.4 1198.4\n",
      "- s_SAPC1                    1   1189.0 1199.0\n",
      "<none>                           1187.2 1199.2\n",
      "+ s_start_age                1   1186.0 1200.0\n",
      "- s_SAPC2                    1   1190.0 1200.0\n",
      "+ factor(gap_indicator)      1   1186.4 1200.4\n",
      "+ factor(Gender)             1   1187.1 1201.1\n",
      "+ s_SAPC3                    1   1187.2 1201.2\n",
      "+ avs_net_cost               1   1187.2 1201.2\n",
      "+ factor(Citizenship)       10   1173.6 1205.6\n",
      "- factor(funding_indicator)  1   1203.5 1213.5\n",
      "- s_start_year               1   1236.5 1246.5\n",
      "\n",
      "Step:  AIC=1198.36\n",
      "Y ~ factor(funding_indicator) + s_SAPC1 + s_SAPC2 + s_start_year\n",
      "\n",
      "                            Df Deviance    AIC\n",
      "<none>                           1188.4 1198.4\n",
      "- s_SAPC1                    1   1190.5 1198.5\n",
      "+ GPA_trend                  1   1187.2 1199.2\n",
      "+ s_start_age                1   1187.2 1199.2\n",
      "- s_SAPC2                    1   1191.3 1199.3\n",
      "+ factor(gap_indicator)      1   1187.5 1199.5\n",
      "+ factor(Gender)             1   1188.3 1200.3\n",
      "+ s_SAPC3                    1   1188.3 1200.3\n",
      "+ avs_net_cost               1   1188.4 1200.4\n",
      "+ factor(Citizenship)       10   1175.3 1205.3\n",
      "- factor(funding_indicator)  1   1204.6 1212.6\n",
      "- s_start_year               1   1238.1 1246.1\n"
     ]
    }
   ],
   "source": [
    "log_mod_h_a_aic = stepAIC(log_mod_h_a, direction = 'both')"
   ]
  },
  {
   "cell_type": "markdown",
   "metadata": {},
   "source": [
    "<b> Significant variables both AIC selects:"
   ]
  },
  {
   "cell_type": "code",
   "execution_count": 77,
   "metadata": {},
   "outputs": [
    {
     "data": {
      "text/html": [
       "<table>\n",
       "<thead><tr><th></th><th scope=col>Estimate</th><th scope=col>Pr(&gt;|z|)</th></tr></thead>\n",
       "<tbody>\n",
       "\t<tr><th scope=row>factor(funding_indicator)1</th><td> 0.64319</td><td>7e-05   </td></tr>\n",
       "\t<tr><th scope=row>s_start_year</th><td>-0.48421</td><td>0e+00   </td></tr>\n",
       "</tbody>\n",
       "</table>\n"
      ],
      "text/latex": [
       "\\begin{tabular}{r|ll}\n",
       "  & Estimate & Pr(>\\textbar{}z\\textbar{})\\\\\n",
       "\\hline\n",
       "\tfactor(funding\\_indicator)1 &  0.64319 & 7e-05   \\\\\n",
       "\ts\\_start\\_year & -0.48421 & 0e+00   \\\\\n",
       "\\end{tabular}\n"
      ],
      "text/markdown": [
       "\n",
       "| <!--/--> | Estimate | Pr(>|z|) |\n",
       "|---|---|---|\n",
       "| factor(funding_indicator)1 |  0.64319 | 7e-05    |\n",
       "| s_start_year | -0.48421 | 0e+00    |\n",
       "\n"
      ],
      "text/plain": [
       "                           Estimate Pr(>|z|)\n",
       "factor(funding_indicator)1  0.64319 7e-05   \n",
       "s_start_year               -0.48421 0e+00   "
      ]
     },
     "metadata": {},
     "output_type": "display_data"
    }
   ],
   "source": [
    "round(summary(log_mod_h_a_aic)$coeff[which(summary(log_mod_h_a_aic)$coef[,4] <= .05),c(1,4)],5)"
   ]
  },
  {
   "cell_type": "markdown",
   "metadata": {},
   "source": [
    "<b> Both BIC"
   ]
  },
  {
   "cell_type": "code",
   "execution_count": 78,
   "metadata": {},
   "outputs": [
    {
     "name": "stdout",
     "output_type": "stream",
     "text": [
      "Start:  AIC=1313.46\n",
      "Y ~ s_start_age + factor(Gender) + factor(funding_indicator) + \n",
      "    factor(Citizenship) + avs_net_cost + s_SAPC1 + s_SAPC2 + \n",
      "    s_SAPC3 + factor(gap_indicator) + GPA_trend + s_start_year\n",
      "\n",
      "                            Df Deviance    AIC\n",
      "- factor(Citizenship)       10   1185.0 1260.1\n",
      "- factor(Gender)             1   1170.2 1306.6\n",
      "- avs_net_cost               1   1170.2 1306.7\n",
      "- s_SAPC3                    1   1170.5 1307.0\n",
      "- factor(gap_indicator)      1   1171.0 1307.4\n",
      "- s_SAPC2                    1   1171.3 1307.7\n",
      "- GPA_trend                  1   1171.9 1308.3\n",
      "- s_SAPC1                    1   1171.9 1308.4\n",
      "- s_start_age                1   1172.6 1309.1\n",
      "<none>                           1170.2 1313.5\n",
      "- factor(funding_indicator)  1   1187.5 1324.0\n",
      "- s_start_year               1   1219.7 1356.1\n",
      "\n",
      "Step:  AIC=1260.09\n",
      "Y ~ s_start_age + factor(Gender) + factor(funding_indicator) + \n",
      "    avs_net_cost + s_SAPC1 + s_SAPC2 + s_SAPC3 + factor(gap_indicator) + \n",
      "    GPA_trend + s_start_year\n",
      "\n",
      "                            Df Deviance    AIC\n",
      "- avs_net_cost               1   1185.0 1253.3\n",
      "- s_SAPC3                    1   1185.0 1253.3\n",
      "- factor(Gender)             1   1185.1 1253.3\n",
      "- factor(gap_indicator)      1   1185.9 1254.1\n",
      "- s_start_age                1   1186.2 1254.5\n",
      "- GPA_trend                  1   1186.3 1254.5\n",
      "- s_SAPC1                    1   1186.9 1255.1\n",
      "- s_SAPC2                    1   1187.7 1255.9\n",
      "<none>                           1185.0 1260.1\n",
      "- factor(funding_indicator)  1   1202.9 1271.1\n",
      "- s_start_year               1   1229.9 1298.1\n",
      "+ factor(Citizenship)       10   1170.2 1313.5\n",
      "\n",
      "Step:  AIC=1253.27\n",
      "Y ~ s_start_age + factor(Gender) + factor(funding_indicator) + \n",
      "    s_SAPC1 + s_SAPC2 + s_SAPC3 + factor(gap_indicator) + GPA_trend + \n",
      "    s_start_year\n",
      "\n",
      "                            Df Deviance    AIC\n",
      "- s_SAPC3                    1   1185.0 1246.5\n",
      "- factor(Gender)             1   1185.1 1246.5\n",
      "- factor(gap_indicator)      1   1185.9 1247.3\n",
      "- s_start_age                1   1186.2 1247.7\n",
      "- GPA_trend                  1   1186.3 1247.7\n",
      "- s_SAPC1                    1   1186.9 1248.3\n",
      "- s_SAPC2                    1   1187.7 1249.0\n",
      "<none>                           1185.0 1253.3\n",
      "+ avs_net_cost               1   1185.0 1260.1\n",
      "- factor(funding_indicator)  1   1203.0 1264.4\n",
      "- s_start_year               1   1230.6 1292.0\n",
      "+ factor(Citizenship)       10   1170.2 1306.7\n",
      "\n",
      "Step:  AIC=1246.45\n",
      "Y ~ s_start_age + factor(Gender) + factor(funding_indicator) + \n",
      "    s_SAPC1 + s_SAPC2 + factor(gap_indicator) + GPA_trend + s_start_year\n",
      "\n",
      "                            Df Deviance    AIC\n",
      "- factor(Gender)             1   1185.1 1239.7\n",
      "- factor(gap_indicator)      1   1185.9 1240.5\n",
      "- GPA_trend                  1   1186.3 1240.8\n",
      "- s_start_age                1   1186.3 1240.9\n",
      "- s_SAPC1                    1   1187.0 1241.5\n",
      "- s_SAPC2                    1   1187.7 1242.2\n",
      "<none>                           1185.0 1246.5\n",
      "+ s_SAPC3                    1   1185.0 1253.3\n",
      "+ avs_net_cost               1   1185.0 1253.3\n",
      "- factor(funding_indicator)  1   1203.0 1257.6\n",
      "- s_start_year               1   1231.4 1286.0\n",
      "+ factor(Citizenship)       10   1170.5 1300.2\n",
      "\n",
      "Step:  AIC=1239.68\n",
      "Y ~ s_start_age + factor(funding_indicator) + s_SAPC1 + s_SAPC2 + \n",
      "    factor(gap_indicator) + GPA_trend + s_start_year\n",
      "\n",
      "                            Df Deviance    AIC\n",
      "- factor(gap_indicator)      1   1186.0 1233.7\n",
      "- GPA_trend                  1   1186.3 1234.1\n",
      "- s_start_age                1   1186.4 1234.1\n",
      "- s_SAPC1                    1   1187.0 1234.8\n",
      "- s_SAPC2                    1   1187.7 1235.5\n",
      "<none>                           1185.1 1239.7\n",
      "+ factor(Gender)             1   1185.0 1246.5\n",
      "+ avs_net_cost               1   1185.1 1246.5\n",
      "+ s_SAPC3                    1   1185.1 1246.5\n",
      "- factor(funding_indicator)  1   1203.0 1250.8\n",
      "- s_start_year               1   1231.5 1279.2\n",
      "+ factor(Citizenship)       10   1170.5 1293.3\n",
      "\n",
      "Step:  AIC=1233.74\n",
      "Y ~ s_start_age + factor(funding_indicator) + s_SAPC1 + s_SAPC2 + \n",
      "    GPA_trend + s_start_year\n",
      "\n",
      "                            Df Deviance    AIC\n",
      "- s_start_age                1   1187.2 1228.1\n",
      "- GPA_trend                  1   1187.2 1228.1\n",
      "- s_SAPC1                    1   1187.8 1228.7\n",
      "- s_SAPC2                    1   1188.7 1229.7\n",
      "<none>                           1186.0 1233.7\n",
      "+ factor(gap_indicator)      1   1185.1 1239.7\n",
      "+ factor(Gender)             1   1185.9 1240.5\n",
      "+ avs_net_cost               1   1186.0 1240.6\n",
      "+ s_SAPC3                    1   1186.0 1240.6\n",
      "- factor(funding_indicator)  1   1203.5 1244.5\n",
      "- s_start_year               1   1236.5 1277.5\n",
      "+ factor(Citizenship)       10   1171.3 1287.3\n",
      "\n",
      "Step:  AIC=1228.13\n",
      "Y ~ factor(funding_indicator) + s_SAPC1 + s_SAPC2 + GPA_trend + \n",
      "    s_start_year\n",
      "\n",
      "                            Df Deviance    AIC\n",
      "- GPA_trend                  1   1188.4 1222.5\n",
      "- s_SAPC1                    1   1189.0 1223.1\n",
      "- s_SAPC2                    1   1190.0 1224.2\n",
      "<none>                           1187.2 1228.1\n",
      "+ s_start_age                1   1186.0 1233.7\n",
      "+ factor(gap_indicator)      1   1186.4 1234.1\n",
      "+ factor(Gender)             1   1187.1 1234.9\n",
      "+ s_SAPC3                    1   1187.2 1234.9\n",
      "+ avs_net_cost               1   1187.2 1235.0\n",
      "- factor(funding_indicator)  1   1203.5 1237.7\n",
      "- s_start_year               1   1236.5 1270.7\n",
      "+ factor(Citizenship)       10   1173.6 1282.7\n",
      "\n",
      "Step:  AIC=1222.47\n",
      "Y ~ factor(funding_indicator) + s_SAPC1 + s_SAPC2 + s_start_year\n",
      "\n",
      "                            Df Deviance    AIC\n",
      "- s_SAPC1                    1   1190.5 1217.8\n",
      "- s_SAPC2                    1   1191.3 1218.6\n",
      "<none>                           1188.4 1222.5\n",
      "+ GPA_trend                  1   1187.2 1228.1\n",
      "+ s_start_age                1   1187.2 1228.1\n",
      "+ factor(gap_indicator)      1   1187.5 1228.4\n",
      "+ factor(Gender)             1   1188.3 1229.2\n",
      "+ s_SAPC3                    1   1188.3 1229.3\n",
      "+ avs_net_cost               1   1188.4 1229.3\n",
      "- factor(funding_indicator)  1   1204.6 1231.9\n",
      "- s_start_year               1   1238.1 1265.4\n",
      "+ factor(Citizenship)       10   1175.3 1277.6\n",
      "\n",
      "Step:  AIC=1217.79\n",
      "Y ~ factor(funding_indicator) + s_SAPC2 + s_start_year\n",
      "\n",
      "                            Df Deviance    AIC\n",
      "- s_SAPC2                    1   1194.0 1214.5\n",
      "<none>                           1190.5 1217.8\n",
      "+ s_SAPC1                    1   1188.4 1222.5\n",
      "+ GPA_trend                  1   1189.0 1223.1\n",
      "+ s_start_age                1   1189.3 1223.5\n",
      "+ factor(gap_indicator)      1   1189.8 1223.9\n",
      "+ factor(Gender)             1   1190.4 1224.5\n",
      "+ s_SAPC3                    1   1190.4 1224.5\n",
      "+ avs_net_cost               1   1190.5 1224.6\n",
      "- factor(funding_indicator)  1   1207.4 1227.8\n",
      "- s_start_year               1   1240.3 1260.8\n",
      "+ factor(Citizenship)       10   1177.2 1272.7\n",
      "\n",
      "Step:  AIC=1214.45\n",
      "Y ~ factor(funding_indicator) + s_start_year\n",
      "\n",
      "                            Df Deviance    AIC\n",
      "<none>                           1194.0 1214.5\n",
      "+ s_SAPC2                    1   1190.5 1217.8\n",
      "+ s_SAPC1                    1   1191.3 1218.6\n",
      "+ GPA_trend                  1   1192.3 1219.6\n",
      "+ s_start_age                1   1192.7 1220.0\n",
      "+ factor(gap_indicator)      1   1193.1 1220.4\n",
      "+ factor(Gender)             1   1193.9 1221.2\n",
      "+ s_SAPC3                    1   1193.9 1221.2\n",
      "+ avs_net_cost               1   1194.0 1221.3\n",
      "- factor(funding_indicator)  1   1209.2 1222.9\n",
      "- s_start_year               1   1247.6 1261.2\n",
      "+ factor(Citizenship)       10   1179.0 1267.7\n"
     ]
    }
   ],
   "source": [
    "log_mod_h_a_bic = stepAIC(log_mod_h_a, direction = \"both\", k = log(b_n))"
   ]
  },
  {
   "cell_type": "markdown",
   "metadata": {},
   "source": [
    "<b> Significant variables both BIC selects:"
   ]
  },
  {
   "cell_type": "code",
   "execution_count": 79,
   "metadata": {},
   "outputs": [
    {
     "data": {
      "text/html": [
       "<table>\n",
       "<thead><tr><th></th><th scope=col>Estimate</th><th scope=col>Pr(&gt;|z|)</th></tr></thead>\n",
       "<tbody>\n",
       "\t<tr><th scope=row>factor(funding_indicator)1</th><td> 0.61318</td><td>0.00011 </td></tr>\n",
       "\t<tr><th scope=row>s_start_year</th><td>-0.49610</td><td>0.00000 </td></tr>\n",
       "</tbody>\n",
       "</table>\n"
      ],
      "text/latex": [
       "\\begin{tabular}{r|ll}\n",
       "  & Estimate & Pr(>\\textbar{}z\\textbar{})\\\\\n",
       "\\hline\n",
       "\tfactor(funding\\_indicator)1 &  0.61318 & 0.00011 \\\\\n",
       "\ts\\_start\\_year & -0.49610 & 0.00000 \\\\\n",
       "\\end{tabular}\n"
      ],
      "text/markdown": [
       "\n",
       "| <!--/--> | Estimate | Pr(>|z|) |\n",
       "|---|---|---|\n",
       "| factor(funding_indicator)1 |  0.61318 | 0.00011  |\n",
       "| s_start_year | -0.49610 | 0.00000  |\n",
       "\n"
      ],
      "text/plain": [
       "                           Estimate Pr(>|z|)\n",
       "factor(funding_indicator)1  0.61318 0.00011 \n",
       "s_start_year               -0.49610 0.00000 "
      ]
     },
     "metadata": {},
     "output_type": "display_data"
    }
   ],
   "source": [
    "round(summary(log_mod_h_a_bic)$coeff[which(summary(log_mod_h_a_bic)$coef[,4] <= .05),c(1,4)],5)"
   ]
  },
  {
   "cell_type": "markdown",
   "metadata": {},
   "source": [
    "# Management Analysis"
   ]
  },
  {
   "cell_type": "markdown",
   "metadata": {},
   "source": [
    "<b> Logistic regression model:"
   ]
  },
  {
   "cell_type": "code",
   "execution_count": 80,
   "metadata": {},
   "outputs": [
    {
     "name": "stderr",
     "output_type": "stream",
     "text": [
      "Warning message:\n",
      "\"glm.fit: fitted probabilities numerically 0 or 1 occurred\""
     ]
    },
    {
     "data": {
      "text/plain": [
       "\n",
       "Call:\n",
       "glm(formula = Y ~ s_start_age + factor(Gender) + factor(Citizenship) + \n",
       "    avs_net_cost + s_SAPC1 + s_SAPC2 + s_SAPC3 + factor(gap_indicator) + \n",
       "    GPA_trend + s_start_year, family = \"binomial\", data = Management_df)\n",
       "\n",
       "Deviance Residuals: \n",
       "    Min       1Q   Median       3Q      Max  \n",
       "-2.4356  -0.7961   0.2668   0.8370   1.3116  \n",
       "\n",
       "Coefficients:\n",
       "                                        Estimate Std. Error z value Pr(>|z|)  \n",
       "(Intercept)                               1.8111     1.2123   1.494   0.1352  \n",
       "s_start_age                               0.2795     0.7312   0.382   0.7023  \n",
       "factor(Gender)Male                       -1.3494     0.8570  -1.575   0.1154  \n",
       "factor(Citizenship)Asia                   0.4940     1.1314   0.437   0.6624  \n",
       "factor(Citizenship)Asian                  2.2675     2.0278   1.118   0.2635  \n",
       "factor(Citizenship)China                  0.6582     1.4268   0.461   0.6446  \n",
       "factor(Citizenship)Europe                19.2355 10754.0130   0.002   0.9986  \n",
       "factor(Citizenship)Hispanic or Latino     1.3713 11901.5912   0.000   0.9999  \n",
       "factor(Citizenship)India                  0.8012     1.4739   0.544   0.5867  \n",
       "factor(Citizenship)Unknown                0.7863     1.6246   0.484   0.6284  \n",
       "avs_net_cost                              2.9903     1.7061   1.753   0.0797 .\n",
       "s_SAPC1                                -273.7954 39252.9620  -0.007   0.9944  \n",
       "s_SAPC2                                  -0.6882     0.5502  -1.251   0.2110  \n",
       "s_SAPC3                                   1.4004     1.3966   1.003   0.3160  \n",
       "factor(gap_indicator)1                   19.7921  5098.9290   0.004   0.9969  \n",
       "GPA_trend                                 2.3609     2.1980   1.074   0.2828  \n",
       "s_start_year                              0.3657     0.6465   0.566   0.5716  \n",
       "---\n",
       "Signif. codes:  0 '***' 0.001 '**' 0.01 '*' 0.05 '.' 0.1 ' ' 1\n",
       "\n",
       "(Dispersion parameter for binomial family taken to be 1)\n",
       "\n",
       "    Null deviance: 74.726  on 57  degrees of freedom\n",
       "Residual deviance: 52.774  on 41  degrees of freedom\n",
       "AIC: 86.774\n",
       "\n",
       "Number of Fisher Scoring iterations: 18\n"
      ]
     },
     "metadata": {},
     "output_type": "display_data"
    }
   ],
   "source": [
    "log_mod_m = glm(Y~s_start_age+factor(Gender)+factor(Citizenship)+\n",
    "                avs_net_cost+s_SAPC1+s_SAPC2+s_SAPC3+factor(gap_indicator)+GPA_trend+s_start_year,\n",
    "                data=Management_df,family=\"binomial\")\n",
    "summary(log_mod_m)"
   ]
  },
  {
   "cell_type": "markdown",
   "metadata": {},
   "source": [
    "<b> Significant Variables of logistic regression model: "
   ]
  },
  {
   "cell_type": "code",
   "execution_count": 81,
   "metadata": {
    "scrolled": true
   },
   "outputs": [
    {
     "data": {
      "text/html": [
       "<table>\n",
       "<thead><tr><th scope=col>Estimate</th><th scope=col>Pr(&gt;|z|)</th></tr></thead>\n",
       "<tbody>\n",
       "</tbody>\n",
       "</table>\n"
      ],
      "text/latex": [
       "\\begin{tabular}{ll}\n",
       " Estimate & Pr(>\\textbar{}z\\textbar{})\\\\\n",
       "\\hline\n",
       "\\end{tabular}\n"
      ],
      "text/markdown": [
       "\n",
       "| Estimate | Pr(>|z|) |\n",
       "|---|---|\n",
       "\n"
      ],
      "text/plain": [
       "     Estimate Pr(>|z|)"
      ]
     },
     "metadata": {},
     "output_type": "display_data"
    }
   ],
   "source": [
    "round(summary(log_mod_m)$coeff[which(summary(log_mod_m)$coef[,4] <= .05),c(1,4)],5)"
   ]
  },
  {
   "cell_type": "markdown",
   "metadata": {},
   "source": [
    "<b> Both AIC:"
   ]
  },
  {
   "cell_type": "code",
   "execution_count": 82,
   "metadata": {},
   "outputs": [
    {
     "name": "stdout",
     "output_type": "stream",
     "text": [
      "Start:  AIC=86.77\n",
      "Y ~ s_start_age + factor(Gender) + factor(Citizenship) + avs_net_cost + \n",
      "    s_SAPC1 + s_SAPC2 + s_SAPC3 + factor(gap_indicator) + GPA_trend + \n",
      "    s_start_year\n",
      "\n"
     ]
    },
    {
     "name": "stderr",
     "output_type": "stream",
     "text": [
      "Warning message:\n",
      "\"glm.fit: fitted probabilities numerically 0 or 1 occurred\"Warning message:\n",
      "\"glm.fit: fitted probabilities numerically 0 or 1 occurred\"Warning message:\n",
      "\"glm.fit: fitted probabilities numerically 0 or 1 occurred\"Warning message:\n",
      "\"glm.fit: fitted probabilities numerically 0 or 1 occurred\"Warning message:\n",
      "\"glm.fit: fitted probabilities numerically 0 or 1 occurred\"Warning message:\n",
      "\"glm.fit: fitted probabilities numerically 0 or 1 occurred\"Warning message:\n",
      "\"glm.fit: fitted probabilities numerically 0 or 1 occurred\"Warning message:\n",
      "\"glm.fit: fitted probabilities numerically 0 or 1 occurred\"Warning message:\n",
      "\"glm.fit: fitted probabilities numerically 0 or 1 occurred\""
     ]
    },
    {
     "name": "stdout",
     "output_type": "stream",
     "text": [
      "                        Df Deviance    AIC\n",
      "- factor(Citizenship)    7   54.979 74.979\n",
      "- s_start_age            1   52.922 84.922\n",
      "- s_start_year           1   53.096 85.096\n",
      "- GPA_trend              1   54.094 86.094\n",
      "- s_SAPC2                1   54.372 86.372\n",
      "<none>                       52.774 86.774\n",
      "- s_SAPC3                1   54.793 86.793\n",
      "- factor(Gender)         1   55.501 87.501\n",
      "- s_SAPC1                1   56.545 88.545\n",
      "- avs_net_cost           1   56.564 88.564\n",
      "- factor(gap_indicator)  1   57.218 89.218\n"
     ]
    },
    {
     "name": "stderr",
     "output_type": "stream",
     "text": [
      "Warning message:\n",
      "\"glm.fit: fitted probabilities numerically 0 or 1 occurred\""
     ]
    },
    {
     "name": "stdout",
     "output_type": "stream",
     "text": [
      "\n",
      "Step:  AIC=74.98\n",
      "Y ~ s_start_age + factor(Gender) + avs_net_cost + s_SAPC1 + s_SAPC2 + \n",
      "    s_SAPC3 + factor(gap_indicator) + GPA_trend + s_start_year\n",
      "\n"
     ]
    },
    {
     "name": "stderr",
     "output_type": "stream",
     "text": [
      "Warning message:\n",
      "\"glm.fit: fitted probabilities numerically 0 or 1 occurred\"Warning message:\n",
      "\"glm.fit: fitted probabilities numerically 0 or 1 occurred\"Warning message:\n",
      "\"glm.fit: fitted probabilities numerically 0 or 1 occurred\"Warning message:\n",
      "\"glm.fit: fitted probabilities numerically 0 or 1 occurred\"Warning message:\n",
      "\"glm.fit: fitted probabilities numerically 0 or 1 occurred\"Warning message:\n",
      "\"glm.fit: fitted probabilities numerically 0 or 1 occurred\"Warning message:\n",
      "\"glm.fit: fitted probabilities numerically 0 or 1 occurred\"Warning message:\n",
      "\"glm.fit: fitted probabilities numerically 0 or 1 occurred\"Warning message:\n",
      "\"glm.fit: fitted probabilities numerically 0 or 1 occurred\"Warning message:\n",
      "\"glm.fit: fitted probabilities numerically 0 or 1 occurred\""
     ]
    },
    {
     "name": "stdout",
     "output_type": "stream",
     "text": [
      "                        Df Deviance    AIC\n",
      "- s_start_age            1   54.989 72.989\n",
      "- s_start_year           1   55.108 73.108\n",
      "- s_SAPC2                1   56.454 74.454\n",
      "- s_SAPC3                1   56.461 74.461\n",
      "<none>                       54.979 74.979\n",
      "- GPA_trend              1   57.481 75.481\n",
      "- factor(Gender)         1   57.683 75.683\n",
      "- avs_net_cost           1   57.746 75.746\n",
      "- s_SAPC1                1   58.968 76.968\n",
      "- factor(gap_indicator)  1   60.389 78.389\n",
      "+ factor(Citizenship)    7   52.774 86.774\n"
     ]
    },
    {
     "name": "stderr",
     "output_type": "stream",
     "text": [
      "Warning message:\n",
      "\"glm.fit: fitted probabilities numerically 0 or 1 occurred\""
     ]
    },
    {
     "name": "stdout",
     "output_type": "stream",
     "text": [
      "\n",
      "Step:  AIC=72.99\n",
      "Y ~ factor(Gender) + avs_net_cost + s_SAPC1 + s_SAPC2 + s_SAPC3 + \n",
      "    factor(gap_indicator) + GPA_trend + s_start_year\n",
      "\n"
     ]
    },
    {
     "name": "stderr",
     "output_type": "stream",
     "text": [
      "Warning message:\n",
      "\"glm.fit: fitted probabilities numerically 0 or 1 occurred\"Warning message:\n",
      "\"glm.fit: fitted probabilities numerically 0 or 1 occurred\"Warning message:\n",
      "\"glm.fit: fitted probabilities numerically 0 or 1 occurred\"Warning message:\n",
      "\"glm.fit: fitted probabilities numerically 0 or 1 occurred\"Warning message:\n",
      "\"glm.fit: fitted probabilities numerically 0 or 1 occurred\"Warning message:\n",
      "\"glm.fit: fitted probabilities numerically 0 or 1 occurred\"Warning message:\n",
      "\"glm.fit: fitted probabilities numerically 0 or 1 occurred\"Warning message:\n",
      "\"glm.fit: fitted probabilities numerically 0 or 1 occurred\"Warning message:\n",
      "\"glm.fit: fitted probabilities numerically 0 or 1 occurred\"Warning message:\n",
      "\"glm.fit: fitted probabilities numerically 0 or 1 occurred\""
     ]
    },
    {
     "name": "stdout",
     "output_type": "stream",
     "text": [
      "                        Df Deviance    AIC\n",
      "- s_start_year           1   55.115 71.115\n",
      "- s_SAPC2                1   56.455 72.455\n",
      "- s_SAPC3                1   56.462 72.462\n",
      "<none>                       54.989 72.989\n",
      "- GPA_trend              1   57.519 73.519\n",
      "- factor(Gender)         1   57.683 73.683\n",
      "- avs_net_cost           1   57.844 73.844\n",
      "+ s_start_age            1   54.979 74.979\n",
      "- s_SAPC1                1   59.021 75.021\n",
      "- factor(gap_indicator)  1   60.400 76.400\n",
      "+ factor(Citizenship)    7   52.922 84.922\n"
     ]
    },
    {
     "name": "stderr",
     "output_type": "stream",
     "text": [
      "Warning message:\n",
      "\"glm.fit: fitted probabilities numerically 0 or 1 occurred\""
     ]
    },
    {
     "name": "stdout",
     "output_type": "stream",
     "text": [
      "\n",
      "Step:  AIC=71.11\n",
      "Y ~ factor(Gender) + avs_net_cost + s_SAPC1 + s_SAPC2 + s_SAPC3 + \n",
      "    factor(gap_indicator) + GPA_trend\n",
      "\n"
     ]
    },
    {
     "name": "stderr",
     "output_type": "stream",
     "text": [
      "Warning message:\n",
      "\"glm.fit: fitted probabilities numerically 0 or 1 occurred\"Warning message:\n",
      "\"glm.fit: fitted probabilities numerically 0 or 1 occurred\"Warning message:\n",
      "\"glm.fit: fitted probabilities numerically 0 or 1 occurred\"Warning message:\n",
      "\"glm.fit: fitted probabilities numerically 0 or 1 occurred\"Warning message:\n",
      "\"glm.fit: fitted probabilities numerically 0 or 1 occurred\"Warning message:\n",
      "\"glm.fit: fitted probabilities numerically 0 or 1 occurred\"Warning message:\n",
      "\"glm.fit: fitted probabilities numerically 0 or 1 occurred\"Warning message:\n",
      "\"glm.fit: fitted probabilities numerically 0 or 1 occurred\"Warning message:\n",
      "\"glm.fit: fitted probabilities numerically 0 or 1 occurred\"Warning message:\n",
      "\"glm.fit: fitted probabilities numerically 0 or 1 occurred\""
     ]
    },
    {
     "name": "stdout",
     "output_type": "stream",
     "text": [
      "                        Df Deviance    AIC\n",
      "- s_SAPC2                1   56.455 70.455\n",
      "- s_SAPC3                1   56.531 70.531\n",
      "<none>                       55.115 71.115\n",
      "- GPA_trend              1   57.525 71.525\n",
      "- factor(Gender)         1   57.684 71.684\n",
      "- avs_net_cost           1   57.901 71.901\n",
      "+ s_start_year           1   54.989 72.989\n",
      "+ s_start_age            1   55.108 73.108\n",
      "- s_SAPC1                1   59.191 73.191\n",
      "- factor(gap_indicator)  1   60.417 74.417\n",
      "+ factor(Citizenship)    7   53.190 83.190\n"
     ]
    },
    {
     "name": "stderr",
     "output_type": "stream",
     "text": [
      "Warning message:\n",
      "\"glm.fit: fitted probabilities numerically 0 or 1 occurred\""
     ]
    },
    {
     "name": "stdout",
     "output_type": "stream",
     "text": [
      "\n",
      "Step:  AIC=70.46\n",
      "Y ~ factor(Gender) + avs_net_cost + s_SAPC1 + s_SAPC3 + factor(gap_indicator) + \n",
      "    GPA_trend\n",
      "\n"
     ]
    },
    {
     "name": "stderr",
     "output_type": "stream",
     "text": [
      "Warning message:\n",
      "\"glm.fit: fitted probabilities numerically 0 or 1 occurred\"Warning message:\n",
      "\"glm.fit: fitted probabilities numerically 0 or 1 occurred\"Warning message:\n",
      "\"glm.fit: fitted probabilities numerically 0 or 1 occurred\"Warning message:\n",
      "\"glm.fit: fitted probabilities numerically 0 or 1 occurred\"Warning message:\n",
      "\"glm.fit: fitted probabilities numerically 0 or 1 occurred\"Warning message:\n",
      "\"glm.fit: fitted probabilities numerically 0 or 1 occurred\"Warning message:\n",
      "\"glm.fit: fitted probabilities numerically 0 or 1 occurred\"Warning message:\n",
      "\"glm.fit: fitted probabilities numerically 0 or 1 occurred\"Warning message:\n",
      "\"glm.fit: fitted probabilities numerically 0 or 1 occurred\"Warning message:\n",
      "\"glm.fit: fitted probabilities numerically 0 or 1 occurred\""
     ]
    },
    {
     "name": "stdout",
     "output_type": "stream",
     "text": [
      "                        Df Deviance    AIC\n",
      "- s_SAPC3                1   57.781 69.781\n",
      "- GPA_trend              1   58.163 70.163\n",
      "<none>                       56.455 70.455\n",
      "- factor(Gender)         1   58.603 70.603\n",
      "- avs_net_cost           1   58.871 70.871\n",
      "+ s_SAPC2                1   55.115 71.115\n",
      "- s_SAPC1                1   60.366 72.366\n",
      "+ s_start_year           1   56.455 72.455\n",
      "+ s_start_age            1   56.455 72.455\n",
      "- factor(gap_indicator)  1   61.043 73.043\n",
      "+ factor(Citizenship)    7   54.503 82.503\n"
     ]
    },
    {
     "name": "stderr",
     "output_type": "stream",
     "text": [
      "Warning message:\n",
      "\"glm.fit: fitted probabilities numerically 0 or 1 occurred\""
     ]
    },
    {
     "name": "stdout",
     "output_type": "stream",
     "text": [
      "\n",
      "Step:  AIC=69.78\n",
      "Y ~ factor(Gender) + avs_net_cost + s_SAPC1 + factor(gap_indicator) + \n",
      "    GPA_trend\n",
      "\n"
     ]
    },
    {
     "name": "stderr",
     "output_type": "stream",
     "text": [
      "Warning message:\n",
      "\"glm.fit: fitted probabilities numerically 0 or 1 occurred\"Warning message:\n",
      "\"glm.fit: fitted probabilities numerically 0 or 1 occurred\"Warning message:\n",
      "\"glm.fit: fitted probabilities numerically 0 or 1 occurred\"Warning message:\n",
      "\"glm.fit: fitted probabilities numerically 0 or 1 occurred\"Warning message:\n",
      "\"glm.fit: fitted probabilities numerically 0 or 1 occurred\"Warning message:\n",
      "\"glm.fit: fitted probabilities numerically 0 or 1 occurred\"Warning message:\n",
      "\"glm.fit: fitted probabilities numerically 0 or 1 occurred\"Warning message:\n",
      "\"glm.fit: fitted probabilities numerically 0 or 1 occurred\"Warning message:\n",
      "\"glm.fit: fitted probabilities numerically 0 or 1 occurred\"Warning message:\n",
      "\"glm.fit: fitted probabilities numerically 0 or 1 occurred\""
     ]
    },
    {
     "name": "stdout",
     "output_type": "stream",
     "text": [
      "                        Df Deviance    AIC\n",
      "- avs_net_cost           1   59.727 69.727\n",
      "<none>                       57.781 69.781\n",
      "- factor(Gender)         1   60.012 70.012\n",
      "+ s_SAPC3                1   56.455 70.455\n",
      "+ s_SAPC2                1   56.531 70.531\n",
      "- GPA_trend              1   61.387 71.387\n",
      "- s_SAPC1                1   61.509 71.509\n",
      "+ s_start_age            1   57.770 71.770\n",
      "+ s_start_year           1   57.781 71.781\n",
      "- factor(gap_indicator)  1   62.608 72.608\n",
      "+ factor(Citizenship)    7   56.376 82.376\n"
     ]
    },
    {
     "name": "stderr",
     "output_type": "stream",
     "text": [
      "Warning message:\n",
      "\"glm.fit: fitted probabilities numerically 0 or 1 occurred\""
     ]
    },
    {
     "name": "stdout",
     "output_type": "stream",
     "text": [
      "\n",
      "Step:  AIC=69.73\n",
      "Y ~ factor(Gender) + s_SAPC1 + factor(gap_indicator) + GPA_trend\n",
      "\n"
     ]
    },
    {
     "name": "stderr",
     "output_type": "stream",
     "text": [
      "Warning message:\n",
      "\"glm.fit: fitted probabilities numerically 0 or 1 occurred\"Warning message:\n",
      "\"glm.fit: fitted probabilities numerically 0 or 1 occurred\"Warning message:\n",
      "\"glm.fit: fitted probabilities numerically 0 or 1 occurred\"Warning message:\n",
      "\"glm.fit: fitted probabilities numerically 0 or 1 occurred\"Warning message:\n",
      "\"glm.fit: fitted probabilities numerically 0 or 1 occurred\"Warning message:\n",
      "\"glm.fit: fitted probabilities numerically 0 or 1 occurred\"Warning message:\n",
      "\"glm.fit: fitted probabilities numerically 0 or 1 occurred\"Warning message:\n",
      "\"glm.fit: fitted probabilities numerically 0 or 1 occurred\"Warning message:\n",
      "\"glm.fit: fitted probabilities numerically 0 or 1 occurred\"Warning message:\n",
      "\"glm.fit: fitted probabilities numerically 0 or 1 occurred\""
     ]
    },
    {
     "name": "stdout",
     "output_type": "stream",
     "text": [
      "                        Df Deviance    AIC\n",
      "<none>                       59.727 69.727\n",
      "+ avs_net_cost           1   57.781 69.781\n",
      "- factor(Gender)         1   61.842 69.842\n",
      "- GPA_trend              1   62.721 70.721\n",
      "+ s_SAPC2                1   58.811 70.811\n",
      "+ s_SAPC3                1   58.871 70.871\n",
      "+ s_start_year           1   59.508 71.508\n",
      "+ s_start_age            1   59.686 71.686\n",
      "- s_SAPC1                1   64.114 72.114\n",
      "- factor(gap_indicator)  1   64.699 72.699\n",
      "+ factor(Citizenship)    7   58.807 82.807\n"
     ]
    }
   ],
   "source": [
    "log_mod_m_aic= stepAIC(log_mod_m, direction = 'both')"
   ]
  },
  {
   "cell_type": "markdown",
   "metadata": {},
   "source": [
    "<b> Significant variables both AIC selects:"
   ]
  },
  {
   "cell_type": "code",
   "execution_count": 83,
   "metadata": {},
   "outputs": [
    {
     "data": {
      "text/plain": [
       "\n",
       "Call:\n",
       "glm(formula = Y ~ factor(Gender) + s_SAPC1 + factor(gap_indicator) + \n",
       "    GPA_trend, family = \"binomial\", data = Management_df)\n",
       "\n",
       "Deviance Residuals: \n",
       "    Min       1Q   Median       3Q      Max  \n",
       "-2.2091  -0.7080   0.6555   0.8285   1.1567  \n",
       "\n",
       "Coefficients:\n",
       "                        Estimate Std. Error z value Pr(>|z|)  \n",
       "(Intercept)               1.1642     0.4692   2.481   0.0131 *\n",
       "factor(Gender)Male       -0.9133     0.6354  -1.437   0.1506  \n",
       "s_SAPC1                -122.4466   720.9701  -0.170   0.8651  \n",
       "factor(gap_indicator)1   17.3008  1768.7933   0.010   0.9922  \n",
       "GPA_trend                 2.5249     1.6408   1.539   0.1239  \n",
       "---\n",
       "Signif. codes:  0 '***' 0.001 '**' 0.01 '*' 0.05 '.' 0.1 ' ' 1\n",
       "\n",
       "(Dispersion parameter for binomial family taken to be 1)\n",
       "\n",
       "    Null deviance: 74.726  on 57  degrees of freedom\n",
       "Residual deviance: 59.727  on 53  degrees of freedom\n",
       "AIC: 69.727\n",
       "\n",
       "Number of Fisher Scoring iterations: 16\n"
      ]
     },
     "metadata": {},
     "output_type": "display_data"
    }
   ],
   "source": [
    "summary(log_mod_m_aic)"
   ]
  },
  {
   "cell_type": "markdown",
   "metadata": {},
   "source": [
    "<b> Both BIC:"
   ]
  },
  {
   "cell_type": "code",
   "execution_count": 84,
   "metadata": {},
   "outputs": [
    {
     "name": "stdout",
     "output_type": "stream",
     "text": [
      "Start:  AIC=121.8\n",
      "Y ~ s_start_age + factor(Gender) + factor(Citizenship) + avs_net_cost + \n",
      "    s_SAPC1 + s_SAPC2 + s_SAPC3 + factor(gap_indicator) + GPA_trend + \n",
      "    s_start_year\n",
      "\n"
     ]
    },
    {
     "name": "stderr",
     "output_type": "stream",
     "text": [
      "Warning message:\n",
      "\"glm.fit: fitted probabilities numerically 0 or 1 occurred\"Warning message:\n",
      "\"glm.fit: fitted probabilities numerically 0 or 1 occurred\"Warning message:\n",
      "\"glm.fit: fitted probabilities numerically 0 or 1 occurred\"Warning message:\n",
      "\"glm.fit: fitted probabilities numerically 0 or 1 occurred\"Warning message:\n",
      "\"glm.fit: fitted probabilities numerically 0 or 1 occurred\"Warning message:\n",
      "\"glm.fit: fitted probabilities numerically 0 or 1 occurred\"Warning message:\n",
      "\"glm.fit: fitted probabilities numerically 0 or 1 occurred\"Warning message:\n",
      "\"glm.fit: fitted probabilities numerically 0 or 1 occurred\"Warning message:\n",
      "\"glm.fit: fitted probabilities numerically 0 or 1 occurred\""
     ]
    },
    {
     "name": "stdout",
     "output_type": "stream",
     "text": [
      "                        Df Deviance     AIC\n",
      "- factor(Citizenship)    7   54.979  95.583\n",
      "- s_start_age            1   52.922 117.889\n",
      "- s_start_year           1   53.096 118.063\n",
      "- GPA_trend              1   54.094 119.061\n",
      "- s_SAPC2                1   54.372 119.339\n",
      "- s_SAPC3                1   54.793 119.760\n",
      "- factor(Gender)         1   55.501 120.468\n",
      "- s_SAPC1                1   56.545 121.512\n",
      "- avs_net_cost           1   56.564 121.531\n",
      "<none>                       52.774 121.802\n",
      "- factor(gap_indicator)  1   57.218 122.185\n"
     ]
    },
    {
     "name": "stderr",
     "output_type": "stream",
     "text": [
      "Warning message:\n",
      "\"glm.fit: fitted probabilities numerically 0 or 1 occurred\""
     ]
    },
    {
     "name": "stdout",
     "output_type": "stream",
     "text": [
      "\n",
      "Step:  AIC=95.58\n",
      "Y ~ s_start_age + factor(Gender) + avs_net_cost + s_SAPC1 + s_SAPC2 + \n",
      "    s_SAPC3 + factor(gap_indicator) + GPA_trend + s_start_year\n",
      "\n"
     ]
    },
    {
     "name": "stderr",
     "output_type": "stream",
     "text": [
      "Warning message:\n",
      "\"glm.fit: fitted probabilities numerically 0 or 1 occurred\"Warning message:\n",
      "\"glm.fit: fitted probabilities numerically 0 or 1 occurred\"Warning message:\n",
      "\"glm.fit: fitted probabilities numerically 0 or 1 occurred\"Warning message:\n",
      "\"glm.fit: fitted probabilities numerically 0 or 1 occurred\"Warning message:\n",
      "\"glm.fit: fitted probabilities numerically 0 or 1 occurred\"Warning message:\n",
      "\"glm.fit: fitted probabilities numerically 0 or 1 occurred\"Warning message:\n",
      "\"glm.fit: fitted probabilities numerically 0 or 1 occurred\"Warning message:\n",
      "\"glm.fit: fitted probabilities numerically 0 or 1 occurred\"Warning message:\n",
      "\"glm.fit: fitted probabilities numerically 0 or 1 occurred\"Warning message:\n",
      "\"glm.fit: fitted probabilities numerically 0 or 1 occurred\""
     ]
    },
    {
     "name": "stdout",
     "output_type": "stream",
     "text": [
      "                        Df Deviance     AIC\n",
      "- s_start_age            1   54.989  91.533\n",
      "- s_start_year           1   55.108  91.652\n",
      "- s_SAPC2                1   56.454  92.998\n",
      "- s_SAPC3                1   56.461  93.005\n",
      "- GPA_trend              1   57.481  94.025\n",
      "- factor(Gender)         1   57.683  94.227\n",
      "- avs_net_cost           1   57.746  94.290\n",
      "- s_SAPC1                1   58.968  95.512\n",
      "<none>                       54.979  95.583\n",
      "- factor(gap_indicator)  1   60.389  96.933\n",
      "+ factor(Citizenship)    7   52.774 121.802\n"
     ]
    },
    {
     "name": "stderr",
     "output_type": "stream",
     "text": [
      "Warning message:\n",
      "\"glm.fit: fitted probabilities numerically 0 or 1 occurred\""
     ]
    },
    {
     "name": "stdout",
     "output_type": "stream",
     "text": [
      "\n",
      "Step:  AIC=91.53\n",
      "Y ~ factor(Gender) + avs_net_cost + s_SAPC1 + s_SAPC2 + s_SAPC3 + \n",
      "    factor(gap_indicator) + GPA_trend + s_start_year\n",
      "\n"
     ]
    },
    {
     "name": "stderr",
     "output_type": "stream",
     "text": [
      "Warning message:\n",
      "\"glm.fit: fitted probabilities numerically 0 or 1 occurred\"Warning message:\n",
      "\"glm.fit: fitted probabilities numerically 0 or 1 occurred\"Warning message:\n",
      "\"glm.fit: fitted probabilities numerically 0 or 1 occurred\"Warning message:\n",
      "\"glm.fit: fitted probabilities numerically 0 or 1 occurred\"Warning message:\n",
      "\"glm.fit: fitted probabilities numerically 0 or 1 occurred\"Warning message:\n",
      "\"glm.fit: fitted probabilities numerically 0 or 1 occurred\"Warning message:\n",
      "\"glm.fit: fitted probabilities numerically 0 or 1 occurred\"Warning message:\n",
      "\"glm.fit: fitted probabilities numerically 0 or 1 occurred\"Warning message:\n",
      "\"glm.fit: fitted probabilities numerically 0 or 1 occurred\"Warning message:\n",
      "\"glm.fit: fitted probabilities numerically 0 or 1 occurred\""
     ]
    },
    {
     "name": "stdout",
     "output_type": "stream",
     "text": [
      "                        Df Deviance     AIC\n",
      "- s_start_year           1   55.115  87.599\n",
      "- s_SAPC2                1   56.455  88.938\n",
      "- s_SAPC3                1   56.462  88.946\n",
      "- GPA_trend              1   57.519  90.002\n",
      "- factor(Gender)         1   57.683  90.167\n",
      "- avs_net_cost           1   57.844  90.327\n",
      "- s_SAPC1                1   59.021  91.505\n",
      "<none>                       54.989  91.533\n",
      "- factor(gap_indicator)  1   60.400  92.883\n",
      "+ s_start_age            1   54.979  95.583\n",
      "+ factor(Citizenship)    7   52.922 117.889\n"
     ]
    },
    {
     "name": "stderr",
     "output_type": "stream",
     "text": [
      "Warning message:\n",
      "\"glm.fit: fitted probabilities numerically 0 or 1 occurred\""
     ]
    },
    {
     "name": "stdout",
     "output_type": "stream",
     "text": [
      "\n",
      "Step:  AIC=87.6\n",
      "Y ~ factor(Gender) + avs_net_cost + s_SAPC1 + s_SAPC2 + s_SAPC3 + \n",
      "    factor(gap_indicator) + GPA_trend\n",
      "\n"
     ]
    },
    {
     "name": "stderr",
     "output_type": "stream",
     "text": [
      "Warning message:\n",
      "\"glm.fit: fitted probabilities numerically 0 or 1 occurred\"Warning message:\n",
      "\"glm.fit: fitted probabilities numerically 0 or 1 occurred\"Warning message:\n",
      "\"glm.fit: fitted probabilities numerically 0 or 1 occurred\"Warning message:\n",
      "\"glm.fit: fitted probabilities numerically 0 or 1 occurred\"Warning message:\n",
      "\"glm.fit: fitted probabilities numerically 0 or 1 occurred\"Warning message:\n",
      "\"glm.fit: fitted probabilities numerically 0 or 1 occurred\"Warning message:\n",
      "\"glm.fit: fitted probabilities numerically 0 or 1 occurred\"Warning message:\n",
      "\"glm.fit: fitted probabilities numerically 0 or 1 occurred\"Warning message:\n",
      "\"glm.fit: fitted probabilities numerically 0 or 1 occurred\"Warning message:\n",
      "\"glm.fit: fitted probabilities numerically 0 or 1 occurred\""
     ]
    },
    {
     "name": "stdout",
     "output_type": "stream",
     "text": [
      "                        Df Deviance     AIC\n",
      "- s_SAPC2                1   56.455  84.879\n",
      "- s_SAPC3                1   56.531  84.954\n",
      "- GPA_trend              1   57.525  85.948\n",
      "- factor(Gender)         1   57.684  86.108\n",
      "- avs_net_cost           1   57.901  86.324\n",
      "<none>                       55.115  87.599\n",
      "- s_SAPC1                1   59.191  87.614\n",
      "- factor(gap_indicator)  1   60.417  88.840\n",
      "+ s_start_year           1   54.989  91.533\n",
      "+ s_start_age            1   55.108  91.652\n",
      "+ factor(Citizenship)    7   53.190 114.096\n"
     ]
    },
    {
     "name": "stderr",
     "output_type": "stream",
     "text": [
      "Warning message:\n",
      "\"glm.fit: fitted probabilities numerically 0 or 1 occurred\""
     ]
    },
    {
     "name": "stdout",
     "output_type": "stream",
     "text": [
      "\n",
      "Step:  AIC=84.88\n",
      "Y ~ factor(Gender) + avs_net_cost + s_SAPC1 + s_SAPC3 + factor(gap_indicator) + \n",
      "    GPA_trend\n",
      "\n"
     ]
    },
    {
     "name": "stderr",
     "output_type": "stream",
     "text": [
      "Warning message:\n",
      "\"glm.fit: fitted probabilities numerically 0 or 1 occurred\"Warning message:\n",
      "\"glm.fit: fitted probabilities numerically 0 or 1 occurred\"Warning message:\n",
      "\"glm.fit: fitted probabilities numerically 0 or 1 occurred\"Warning message:\n",
      "\"glm.fit: fitted probabilities numerically 0 or 1 occurred\"Warning message:\n",
      "\"glm.fit: fitted probabilities numerically 0 or 1 occurred\"Warning message:\n",
      "\"glm.fit: fitted probabilities numerically 0 or 1 occurred\"Warning message:\n",
      "\"glm.fit: fitted probabilities numerically 0 or 1 occurred\"Warning message:\n",
      "\"glm.fit: fitted probabilities numerically 0 or 1 occurred\"Warning message:\n",
      "\"glm.fit: fitted probabilities numerically 0 or 1 occurred\"Warning message:\n",
      "\"glm.fit: fitted probabilities numerically 0 or 1 occurred\""
     ]
    },
    {
     "name": "stdout",
     "output_type": "stream",
     "text": [
      "                        Df Deviance     AIC\n",
      "- s_SAPC3                1   57.781  82.144\n",
      "- GPA_trend              1   58.163  82.525\n",
      "- factor(Gender)         1   58.603  82.965\n",
      "- avs_net_cost           1   58.871  83.234\n",
      "- s_SAPC1                1   60.366  84.729\n",
      "<none>                       56.455  84.879\n",
      "- factor(gap_indicator)  1   61.043  85.405\n",
      "+ s_SAPC2                1   55.115  87.599\n",
      "+ s_start_year           1   56.455  88.938\n",
      "+ s_start_age            1   56.455  88.939\n",
      "+ factor(Citizenship)    7   54.503 111.349\n"
     ]
    },
    {
     "name": "stderr",
     "output_type": "stream",
     "text": [
      "Warning message:\n",
      "\"glm.fit: fitted probabilities numerically 0 or 1 occurred\""
     ]
    },
    {
     "name": "stdout",
     "output_type": "stream",
     "text": [
      "\n",
      "Step:  AIC=82.14\n",
      "Y ~ factor(Gender) + avs_net_cost + s_SAPC1 + factor(gap_indicator) + \n",
      "    GPA_trend\n",
      "\n"
     ]
    },
    {
     "name": "stderr",
     "output_type": "stream",
     "text": [
      "Warning message:\n",
      "\"glm.fit: fitted probabilities numerically 0 or 1 occurred\"Warning message:\n",
      "\"glm.fit: fitted probabilities numerically 0 or 1 occurred\"Warning message:\n",
      "\"glm.fit: fitted probabilities numerically 0 or 1 occurred\"Warning message:\n",
      "\"glm.fit: fitted probabilities numerically 0 or 1 occurred\"Warning message:\n",
      "\"glm.fit: fitted probabilities numerically 0 or 1 occurred\"Warning message:\n",
      "\"glm.fit: fitted probabilities numerically 0 or 1 occurred\"Warning message:\n",
      "\"glm.fit: fitted probabilities numerically 0 or 1 occurred\"Warning message:\n",
      "\"glm.fit: fitted probabilities numerically 0 or 1 occurred\"Warning message:\n",
      "\"glm.fit: fitted probabilities numerically 0 or 1 occurred\"Warning message:\n",
      "\"glm.fit: fitted probabilities numerically 0 or 1 occurred\""
     ]
    },
    {
     "name": "stdout",
     "output_type": "stream",
     "text": [
      "                        Df Deviance     AIC\n",
      "- avs_net_cost           1   59.727  80.030\n",
      "- factor(Gender)         1   60.012  80.314\n",
      "- GPA_trend              1   61.387  81.689\n",
      "- s_SAPC1                1   61.509  81.811\n",
      "<none>                       57.781  82.144\n",
      "- factor(gap_indicator)  1   62.608  82.910\n",
      "+ s_SAPC3                1   56.455  84.879\n",
      "+ s_SAPC2                1   56.531  84.954\n",
      "+ s_start_age            1   57.770  86.193\n",
      "+ s_start_year           1   57.781  86.204\n",
      "+ factor(Citizenship)    7   56.376 109.162\n"
     ]
    },
    {
     "name": "stderr",
     "output_type": "stream",
     "text": [
      "Warning message:\n",
      "\"glm.fit: fitted probabilities numerically 0 or 1 occurred\""
     ]
    },
    {
     "name": "stdout",
     "output_type": "stream",
     "text": [
      "\n",
      "Step:  AIC=80.03\n",
      "Y ~ factor(Gender) + s_SAPC1 + factor(gap_indicator) + GPA_trend\n",
      "\n"
     ]
    },
    {
     "name": "stderr",
     "output_type": "stream",
     "text": [
      "Warning message:\n",
      "\"glm.fit: fitted probabilities numerically 0 or 1 occurred\"Warning message:\n",
      "\"glm.fit: fitted probabilities numerically 0 or 1 occurred\"Warning message:\n",
      "\"glm.fit: fitted probabilities numerically 0 or 1 occurred\"Warning message:\n",
      "\"glm.fit: fitted probabilities numerically 0 or 1 occurred\"Warning message:\n",
      "\"glm.fit: fitted probabilities numerically 0 or 1 occurred\"Warning message:\n",
      "\"glm.fit: fitted probabilities numerically 0 or 1 occurred\"Warning message:\n",
      "\"glm.fit: fitted probabilities numerically 0 or 1 occurred\"Warning message:\n",
      "\"glm.fit: fitted probabilities numerically 0 or 1 occurred\"Warning message:\n",
      "\"glm.fit: fitted probabilities numerically 0 or 1 occurred\"Warning message:\n",
      "\"glm.fit: fitted probabilities numerically 0 or 1 occurred\""
     ]
    },
    {
     "name": "stdout",
     "output_type": "stream",
     "text": [
      "                        Df Deviance     AIC\n",
      "- factor(Gender)         1   61.842  78.084\n",
      "- GPA_trend              1   62.721  78.963\n",
      "<none>                       59.727  80.030\n",
      "- s_SAPC1                1   64.114  80.355\n",
      "- factor(gap_indicator)  1   64.699  80.940\n",
      "+ avs_net_cost           1   57.781  82.144\n",
      "+ s_SAPC2                1   58.811  83.174\n",
      "+ s_SAPC3                1   58.871  83.234\n",
      "+ s_start_year           1   59.508  83.871\n",
      "+ s_start_age            1   59.686  84.049\n",
      "+ factor(Citizenship)    7   58.807 107.532\n"
     ]
    },
    {
     "name": "stderr",
     "output_type": "stream",
     "text": [
      "Warning message:\n",
      "\"glm.fit: fitted probabilities numerically 0 or 1 occurred\""
     ]
    },
    {
     "name": "stdout",
     "output_type": "stream",
     "text": [
      "\n",
      "Step:  AIC=78.08\n",
      "Y ~ s_SAPC1 + factor(gap_indicator) + GPA_trend\n",
      "\n"
     ]
    },
    {
     "name": "stderr",
     "output_type": "stream",
     "text": [
      "Warning message:\n",
      "\"glm.fit: fitted probabilities numerically 0 or 1 occurred\"Warning message:\n",
      "\"glm.fit: fitted probabilities numerically 0 or 1 occurred\"Warning message:\n",
      "\"glm.fit: fitted probabilities numerically 0 or 1 occurred\"Warning message:\n",
      "\"glm.fit: fitted probabilities numerically 0 or 1 occurred\"Warning message:\n",
      "\"glm.fit: fitted probabilities numerically 0 or 1 occurred\"Warning message:\n",
      "\"glm.fit: fitted probabilities numerically 0 or 1 occurred\"Warning message:\n",
      "\"glm.fit: fitted probabilities numerically 0 or 1 occurred\"Warning message:\n",
      "\"glm.fit: fitted probabilities numerically 0 or 1 occurred\"Warning message:\n",
      "\"glm.fit: fitted probabilities numerically 0 or 1 occurred\"Warning message:\n",
      "\"glm.fit: fitted probabilities numerically 0 or 1 occurred\""
     ]
    },
    {
     "name": "stdout",
     "output_type": "stream",
     "text": [
      "                        Df Deviance     AIC\n",
      "- factor(gap_indicator)  1   65.579  77.761\n",
      "<none>                       61.842  78.084\n",
      "- GPA_trend              1   66.237  78.418\n",
      "- s_SAPC1                1   66.297  78.478\n",
      "+ factor(Gender)         1   59.727  80.030\n",
      "+ avs_net_cost           1   60.012  80.314\n",
      "+ s_SAPC3                1   61.038  81.341\n",
      "+ s_SAPC2                1   61.233  81.535\n",
      "+ s_start_year           1   61.379  81.681\n",
      "+ s_start_age            1   61.829  82.132\n",
      "+ factor(Citizenship)    7   60.316 104.981\n"
     ]
    },
    {
     "name": "stderr",
     "output_type": "stream",
     "text": [
      "Warning message:\n",
      "\"glm.fit: fitted probabilities numerically 0 or 1 occurred\""
     ]
    },
    {
     "name": "stdout",
     "output_type": "stream",
     "text": [
      "\n",
      "Step:  AIC=77.76\n",
      "Y ~ s_SAPC1 + GPA_trend\n",
      "\n"
     ]
    },
    {
     "name": "stderr",
     "output_type": "stream",
     "text": [
      "Warning message:\n",
      "\"glm.fit: fitted probabilities numerically 0 or 1 occurred\"Warning message:\n",
      "\"glm.fit: fitted probabilities numerically 0 or 1 occurred\"Warning message:\n",
      "\"glm.fit: fitted probabilities numerically 0 or 1 occurred\"Warning message:\n",
      "\"glm.fit: fitted probabilities numerically 0 or 1 occurred\"Warning message:\n",
      "\"glm.fit: fitted probabilities numerically 0 or 1 occurred\"Warning message:\n",
      "\"glm.fit: fitted probabilities numerically 0 or 1 occurred\"Warning message:\n",
      "\"glm.fit: fitted probabilities numerically 0 or 1 occurred\"Warning message:\n",
      "\"glm.fit: fitted probabilities numerically 0 or 1 occurred\"Warning message:\n",
      "\"glm.fit: fitted probabilities numerically 0 or 1 occurred\"Warning message:\n",
      "\"glm.fit: fitted probabilities numerically 0 or 1 occurred\""
     ]
    },
    {
     "name": "stdout",
     "output_type": "stream",
     "text": [
      "                        Df Deviance     AIC\n",
      "<none>                       65.579  77.761\n",
      "+ factor(gap_indicator)  1   61.842  78.084\n",
      "- GPA_trend              1   70.344  78.465\n",
      "- s_SAPC1                1   70.441  78.562\n",
      "+ avs_net_cost           1   63.600  79.842\n",
      "+ s_start_year           1   64.566  80.807\n",
      "+ s_SAPC3                1   64.597  80.839\n",
      "+ factor(Gender)         1   64.699  80.940\n",
      "+ s_SAPC2                1   65.206  81.448\n",
      "+ s_start_age            1   65.577  81.819\n",
      "+ factor(Citizenship)    7   63.549 104.154\n"
     ]
    }
   ],
   "source": [
    "log_mod_m_bic = stepAIC(log_mod_m, direction = \"both\", k = log(c_n))"
   ]
  },
  {
   "cell_type": "markdown",
   "metadata": {},
   "source": [
    "<b> Significant variables both BIC selects:"
   ]
  },
  {
   "cell_type": "code",
   "execution_count": 85,
   "metadata": {},
   "outputs": [
    {
     "data": {
      "text/html": [
       "<dl class=dl-horizontal>\n",
       "\t<dt>Estimate</dt>\n",
       "\t\t<dd>0.84723</dd>\n",
       "\t<dt>Pr(&gt;|z|)</dt>\n",
       "\t\t<dd>0.00517</dd>\n",
       "</dl>\n"
      ],
      "text/latex": [
       "\\begin{description*}\n",
       "\\item[Estimate] 0.84723\n",
       "\\item[Pr(>\\textbackslash{}textbar\\{\\}z\\textbackslash{}textbar\\{\\})] 0.00517\n",
       "\\end{description*}\n"
      ],
      "text/markdown": [
       "Estimate\n",
       ":   0.84723Pr(&amp;gt;|z|)\n",
       ":   0.00517\n",
       "\n"
      ],
      "text/plain": [
       "Estimate Pr(>|z|) \n",
       " 0.84723  0.00517 "
      ]
     },
     "metadata": {},
     "output_type": "display_data"
    },
    {
     "data": {
      "text/plain": [
       "\n",
       "Call:\n",
       "glm(formula = Y ~ s_SAPC1 + GPA_trend, family = \"binomial\", data = Management_df)\n",
       "\n",
       "Deviance Residuals: \n",
       "    Min       1Q   Median       3Q      Max  \n",
       "-2.1732  -0.8080   0.7821   0.8446   1.0269  \n",
       "\n",
       "Coefficients:\n",
       "             Estimate Std. Error z value Pr(>|z|)   \n",
       "(Intercept)    0.8472     0.3030   2.797  0.00517 **\n",
       "s_SAPC1     -115.5842   680.2835  -0.170  0.86508   \n",
       "GPA_trend      3.0151     1.5608   1.932  0.05339 . \n",
       "---\n",
       "Signif. codes:  0 '***' 0.001 '**' 0.01 '*' 0.05 '.' 0.1 ' ' 1\n",
       "\n",
       "(Dispersion parameter for binomial family taken to be 1)\n",
       "\n",
       "    Null deviance: 74.726  on 57  degrees of freedom\n",
       "Residual deviance: 65.579  on 55  degrees of freedom\n",
       "AIC: 71.579\n",
       "\n",
       "Number of Fisher Scoring iterations: 12\n"
      ]
     },
     "metadata": {},
     "output_type": "display_data"
    }
   ],
   "source": [
    "round(summary(log_mod_m_bic)$coeff[which(summary(log_mod_m_bic)$coef[,4] <= .05),c(1,4)],5)\n",
    "summary(log_mod_m_bic)"
   ]
  },
  {
   "cell_type": "markdown",
   "metadata": {},
   "source": [
    "# Nursing Analysis"
   ]
  },
  {
   "cell_type": "markdown",
   "metadata": {},
   "source": [
    "<b> Logistic regression model:"
   ]
  },
  {
   "cell_type": "code",
   "execution_count": 86,
   "metadata": {
    "scrolled": false
   },
   "outputs": [
    {
     "name": "stderr",
     "output_type": "stream",
     "text": [
      "Warning message:\n",
      "\"glm.fit: fitted probabilities numerically 0 or 1 occurred\""
     ]
    },
    {
     "data": {
      "text/plain": [
       "\n",
       "Call:\n",
       "glm(formula = Y ~ s_start_age + factor(Gender) + factor(funding_indicator) + \n",
       "    factor(Citizenship) + avs_net_cost + s_SAPC1 + s_SAPC2 + \n",
       "    s_SAPC3 + factor(gap_indicator) + GPA_trend + s_start_year, \n",
       "    family = \"binomial\", data = Nursing_df)\n",
       "\n",
       "Deviance Residuals: \n",
       "    Min       1Q   Median       3Q      Max  \n",
       "-2.3248  -0.9384   0.1491   0.9448   1.7125  \n",
       "\n",
       "Coefficients:\n",
       "                                               Estimate Std. Error z value\n",
       "(Intercept)                                   5.388e-01  5.114e-01   1.054\n",
       "s_start_age                                  -1.633e-01  1.708e-01  -0.956\n",
       "factor(Gender)Male                            2.459e-01  7.210e-01   0.341\n",
       "factor(funding_indicator)1                    6.497e-01  5.251e-01   1.237\n",
       "factor(Citizenship)Africa                     1.841e+01  5.711e+03   0.003\n",
       "factor(Citizenship)Asia                       2.158e-01  1.414e+00   0.153\n",
       "factor(Citizenship)Asian                      4.009e-02  1.010e+00   0.040\n",
       "factor(Citizenship)Black or African American -1.207e+00  1.280e+00  -0.943\n",
       "factor(Citizenship)China                     -2.007e+01  1.075e+04  -0.002\n",
       "factor(Citizenship)Hispanic or Latino         1.963e+01  4.604e+03   0.004\n",
       "factor(Citizenship)Unknown                   -1.814e-01  9.857e-01  -0.184\n",
       "avs_net_cost                                  8.218e-03  3.951e-01   0.021\n",
       "s_SAPC1                                       1.182e+01  1.177e+01   1.004\n",
       "s_SAPC2                                       1.354e+02  1.190e+04   0.011\n",
       "s_SAPC3                                       9.935e-01  4.767e-01   2.084\n",
       "factor(gap_indicator)1                        7.708e-01  8.102e-01   0.951\n",
       "GPA_trend                                    -5.029e-01  2.265e+00  -0.222\n",
       "s_start_year                                 -8.303e-01  3.163e-01  -2.625\n",
       "                                             Pr(>|z|)   \n",
       "(Intercept)                                   0.29207   \n",
       "s_start_age                                   0.33911   \n",
       "factor(Gender)Male                            0.73303   \n",
       "factor(funding_indicator)1                    0.21598   \n",
       "factor(Citizenship)Africa                     0.99743   \n",
       "factor(Citizenship)Asia                       0.87872   \n",
       "factor(Citizenship)Asian                      0.96834   \n",
       "factor(Citizenship)Black or African American  0.34564   \n",
       "factor(Citizenship)China                      0.99851   \n",
       "factor(Citizenship)Hispanic or Latino         0.99660   \n",
       "factor(Citizenship)Unknown                    0.85401   \n",
       "avs_net_cost                                  0.98340   \n",
       "s_SAPC1                                       0.31532   \n",
       "s_SAPC2                                       0.99092   \n",
       "s_SAPC3                                       0.03716 * \n",
       "factor(gap_indicator)1                        0.34142   \n",
       "GPA_trend                                     0.82433   \n",
       "s_start_year                                  0.00866 **\n",
       "---\n",
       "Signif. codes:  0 '***' 0.001 '**' 0.01 '*' 0.05 '.' 0.1 ' ' 1\n",
       "\n",
       "(Dispersion parameter for binomial family taken to be 1)\n",
       "\n",
       "    Null deviance: 155.91  on 116  degrees of freedom\n",
       "Residual deviance: 119.03  on  99  degrees of freedom\n",
       "AIC: 155.03\n",
       "\n",
       "Number of Fisher Scoring iterations: 18\n"
      ]
     },
     "metadata": {},
     "output_type": "display_data"
    }
   ],
   "source": [
    "log_mod_n = glm(Y~s_start_age+factor(Gender)+factor(funding_indicator)+factor(Citizenship)+\n",
    "                avs_net_cost+s_SAPC1+s_SAPC2+s_SAPC3+factor(gap_indicator)+GPA_trend+s_start_year,\n",
    "                data=Nursing_df,family=\"binomial\")\n",
    "summary(log_mod_n)"
   ]
  },
  {
   "cell_type": "markdown",
   "metadata": {},
   "source": [
    "<b> Significant Variables of logistic regression model: "
   ]
  },
  {
   "cell_type": "code",
   "execution_count": 87,
   "metadata": {},
   "outputs": [
    {
     "data": {
      "text/html": [
       "<table>\n",
       "<thead><tr><th></th><th scope=col>Estimate</th><th scope=col>Pr(&gt;|z|)</th></tr></thead>\n",
       "<tbody>\n",
       "\t<tr><th scope=row>s_SAPC3</th><td> 0.99350</td><td>0.03716 </td></tr>\n",
       "\t<tr><th scope=row>s_start_year</th><td>-0.83026</td><td>0.00866 </td></tr>\n",
       "</tbody>\n",
       "</table>\n"
      ],
      "text/latex": [
       "\\begin{tabular}{r|ll}\n",
       "  & Estimate & Pr(>\\textbar{}z\\textbar{})\\\\\n",
       "\\hline\n",
       "\ts\\_SAPC3 &  0.99350 & 0.03716 \\\\\n",
       "\ts\\_start\\_year & -0.83026 & 0.00866 \\\\\n",
       "\\end{tabular}\n"
      ],
      "text/markdown": [
       "\n",
       "| <!--/--> | Estimate | Pr(>|z|) |\n",
       "|---|---|---|\n",
       "| s_SAPC3 |  0.99350 | 0.03716  |\n",
       "| s_start_year | -0.83026 | 0.00866  |\n",
       "\n"
      ],
      "text/plain": [
       "             Estimate Pr(>|z|)\n",
       "s_SAPC3       0.99350 0.03716 \n",
       "s_start_year -0.83026 0.00866 "
      ]
     },
     "metadata": {},
     "output_type": "display_data"
    }
   ],
   "source": [
    "round(summary(log_mod_n)$coeff[which(summary(log_mod_n)$coef[,4] <= .05),c(1,4)],5)"
   ]
  },
  {
   "cell_type": "markdown",
   "metadata": {},
   "source": [
    "<b> Both AIC:"
   ]
  },
  {
   "cell_type": "code",
   "execution_count": 88,
   "metadata": {},
   "outputs": [
    {
     "name": "stdout",
     "output_type": "stream",
     "text": [
      "Start:  AIC=155.03\n",
      "Y ~ s_start_age + factor(Gender) + factor(funding_indicator) + \n",
      "    factor(Citizenship) + avs_net_cost + s_SAPC1 + s_SAPC2 + \n",
      "    s_SAPC3 + factor(gap_indicator) + GPA_trend + s_start_year\n",
      "\n"
     ]
    },
    {
     "name": "stderr",
     "output_type": "stream",
     "text": [
      "Warning message:\n",
      "\"glm.fit: fitted probabilities numerically 0 or 1 occurred\"Warning message:\n",
      "\"glm.fit: fitted probabilities numerically 0 or 1 occurred\"Warning message:\n",
      "\"glm.fit: fitted probabilities numerically 0 or 1 occurred\"Warning message:\n",
      "\"glm.fit: fitted probabilities numerically 0 or 1 occurred\"Warning message:\n",
      "\"glm.fit: fitted probabilities numerically 0 or 1 occurred\"Warning message:\n",
      "\"glm.fit: fitted probabilities numerically 0 or 1 occurred\"Warning message:\n",
      "\"glm.fit: fitted probabilities numerically 0 or 1 occurred\"Warning message:\n",
      "\"glm.fit: fitted probabilities numerically 0 or 1 occurred\"Warning message:\n",
      "\"glm.fit: fitted probabilities numerically 0 or 1 occurred\"Warning message:\n",
      "\"glm.fit: fitted probabilities numerically 0 or 1 occurred\""
     ]
    },
    {
     "name": "stdout",
     "output_type": "stream",
     "text": [
      "                            Df Deviance    AIC\n",
      "- factor(Citizenship)        7   128.03 150.03\n",
      "- avs_net_cost               1   119.03 153.03\n",
      "- GPA_trend                  1   119.08 153.08\n",
      "- factor(Gender)             1   119.14 153.14\n",
      "- s_start_age                1   119.95 153.95\n",
      "- factor(gap_indicator)      1   119.97 153.97\n",
      "- factor(funding_indicator)  1   120.60 154.60\n",
      "<none>                           119.03 155.03\n",
      "- s_SAPC2                    1   121.76 155.76\n",
      "- s_SAPC3                    1   124.32 158.32\n",
      "- s_SAPC1                    1   125.42 159.42\n",
      "- s_start_year               1   128.77 162.77\n"
     ]
    },
    {
     "name": "stderr",
     "output_type": "stream",
     "text": [
      "Warning message:\n",
      "\"glm.fit: fitted probabilities numerically 0 or 1 occurred\""
     ]
    },
    {
     "name": "stdout",
     "output_type": "stream",
     "text": [
      "\n",
      "Step:  AIC=150.03\n",
      "Y ~ s_start_age + factor(Gender) + factor(funding_indicator) + \n",
      "    avs_net_cost + s_SAPC1 + s_SAPC2 + s_SAPC3 + factor(gap_indicator) + \n",
      "    GPA_trend + s_start_year\n",
      "\n"
     ]
    },
    {
     "name": "stderr",
     "output_type": "stream",
     "text": [
      "Warning message:\n",
      "\"glm.fit: fitted probabilities numerically 0 or 1 occurred\"Warning message:\n",
      "\"glm.fit: fitted probabilities numerically 0 or 1 occurred\"Warning message:\n",
      "\"glm.fit: fitted probabilities numerically 0 or 1 occurred\"Warning message:\n",
      "\"glm.fit: fitted probabilities numerically 0 or 1 occurred\"Warning message:\n",
      "\"glm.fit: fitted probabilities numerically 0 or 1 occurred\"Warning message:\n",
      "\"glm.fit: fitted probabilities numerically 0 or 1 occurred\"Warning message:\n",
      "\"glm.fit: fitted probabilities numerically 0 or 1 occurred\"Warning message:\n",
      "\"glm.fit: fitted probabilities numerically 0 or 1 occurred\"Warning message:\n",
      "\"glm.fit: fitted probabilities numerically 0 or 1 occurred\"Warning message:\n",
      "\"glm.fit: fitted probabilities numerically 0 or 1 occurred\"Warning message:\n",
      "\"glm.fit: fitted probabilities numerically 0 or 1 occurred\""
     ]
    },
    {
     "name": "stdout",
     "output_type": "stream",
     "text": [
      "                            Df Deviance    AIC\n",
      "- avs_net_cost               1   128.03 148.03\n",
      "- factor(Gender)             1   128.06 148.06\n",
      "- GPA_trend                  1   128.17 148.17\n",
      "- s_start_age                1   128.41 148.41\n",
      "- factor(funding_indicator)  1   129.71 149.71\n",
      "<none>                           128.03 150.03\n",
      "- factor(gap_indicator)      1   130.71 150.71\n",
      "- s_SAPC3                    1   131.41 151.41\n",
      "- s_SAPC2                    1   133.89 153.89\n",
      "+ factor(Citizenship)        7   119.03 155.03\n",
      "- s_SAPC1                    1   135.77 155.77\n",
      "- s_start_year               1   138.66 158.66\n"
     ]
    },
    {
     "name": "stderr",
     "output_type": "stream",
     "text": [
      "Warning message:\n",
      "\"glm.fit: fitted probabilities numerically 0 or 1 occurred\""
     ]
    },
    {
     "name": "stdout",
     "output_type": "stream",
     "text": [
      "\n",
      "Step:  AIC=148.03\n",
      "Y ~ s_start_age + factor(Gender) + factor(funding_indicator) + \n",
      "    s_SAPC1 + s_SAPC2 + s_SAPC3 + factor(gap_indicator) + GPA_trend + \n",
      "    s_start_year\n",
      "\n"
     ]
    },
    {
     "name": "stderr",
     "output_type": "stream",
     "text": [
      "Warning message:\n",
      "\"glm.fit: fitted probabilities numerically 0 or 1 occurred\"Warning message:\n",
      "\"glm.fit: fitted probabilities numerically 0 or 1 occurred\"Warning message:\n",
      "\"glm.fit: fitted probabilities numerically 0 or 1 occurred\"Warning message:\n",
      "\"glm.fit: fitted probabilities numerically 0 or 1 occurred\"Warning message:\n",
      "\"glm.fit: fitted probabilities numerically 0 or 1 occurred\"Warning message:\n",
      "\"glm.fit: fitted probabilities numerically 0 or 1 occurred\"Warning message:\n",
      "\"glm.fit: fitted probabilities numerically 0 or 1 occurred\"Warning message:\n",
      "\"glm.fit: fitted probabilities numerically 0 or 1 occurred\"Warning message:\n",
      "\"glm.fit: fitted probabilities numerically 0 or 1 occurred\"Warning message:\n",
      "\"glm.fit: fitted probabilities numerically 0 or 1 occurred\"Warning message:\n",
      "\"glm.fit: fitted probabilities numerically 0 or 1 occurred\""
     ]
    },
    {
     "name": "stdout",
     "output_type": "stream",
     "text": [
      "                            Df Deviance    AIC\n",
      "- factor(Gender)             1   128.06 146.06\n",
      "- GPA_trend                  1   128.17 146.17\n",
      "- s_start_age                1   128.41 146.41\n",
      "- factor(funding_indicator)  1   129.88 147.88\n",
      "<none>                           128.03 148.03\n",
      "- factor(gap_indicator)      1   130.71 148.71\n",
      "- s_SAPC3                    1   131.42 149.42\n",
      "+ avs_net_cost               1   128.03 150.03\n",
      "- s_SAPC2                    1   133.91 151.91\n",
      "+ factor(Citizenship)        7   119.03 153.03\n",
      "- s_SAPC1                    1   135.87 153.87\n",
      "- s_start_year               1   139.13 157.13\n"
     ]
    },
    {
     "name": "stderr",
     "output_type": "stream",
     "text": [
      "Warning message:\n",
      "\"glm.fit: fitted probabilities numerically 0 or 1 occurred\""
     ]
    },
    {
     "name": "stdout",
     "output_type": "stream",
     "text": [
      "\n",
      "Step:  AIC=146.06\n",
      "Y ~ s_start_age + factor(funding_indicator) + s_SAPC1 + s_SAPC2 + \n",
      "    s_SAPC3 + factor(gap_indicator) + GPA_trend + s_start_year\n",
      "\n"
     ]
    },
    {
     "name": "stderr",
     "output_type": "stream",
     "text": [
      "Warning message:\n",
      "\"glm.fit: fitted probabilities numerically 0 or 1 occurred\"Warning message:\n",
      "\"glm.fit: fitted probabilities numerically 0 or 1 occurred\"Warning message:\n",
      "\"glm.fit: fitted probabilities numerically 0 or 1 occurred\"Warning message:\n",
      "\"glm.fit: fitted probabilities numerically 0 or 1 occurred\"Warning message:\n",
      "\"glm.fit: fitted probabilities numerically 0 or 1 occurred\"Warning message:\n",
      "\"glm.fit: fitted probabilities numerically 0 or 1 occurred\"Warning message:\n",
      "\"glm.fit: fitted probabilities numerically 0 or 1 occurred\"Warning message:\n",
      "\"glm.fit: fitted probabilities numerically 0 or 1 occurred\"Warning message:\n",
      "\"glm.fit: fitted probabilities numerically 0 or 1 occurred\"Warning message:\n",
      "\"glm.fit: fitted probabilities numerically 0 or 1 occurred\"Warning message:\n",
      "\"glm.fit: fitted probabilities numerically 0 or 1 occurred\""
     ]
    },
    {
     "name": "stdout",
     "output_type": "stream",
     "text": [
      "                            Df Deviance    AIC\n",
      "- GPA_trend                  1   128.21 144.21\n",
      "- s_start_age                1   128.49 144.49\n",
      "- factor(funding_indicator)  1   129.92 145.92\n",
      "<none>                           128.06 146.06\n",
      "- factor(gap_indicator)      1   130.76 146.76\n",
      "- s_SAPC3                    1   131.42 147.42\n",
      "+ factor(Gender)             1   128.03 148.03\n",
      "+ avs_net_cost               1   128.06 148.06\n",
      "- s_SAPC2                    1   133.93 149.93\n",
      "+ factor(Citizenship)        7   119.15 151.15\n",
      "- s_SAPC1                    1   135.91 151.91\n",
      "- s_start_year               1   139.17 155.17\n"
     ]
    },
    {
     "name": "stderr",
     "output_type": "stream",
     "text": [
      "Warning message:\n",
      "\"glm.fit: fitted probabilities numerically 0 or 1 occurred\""
     ]
    },
    {
     "name": "stdout",
     "output_type": "stream",
     "text": [
      "\n",
      "Step:  AIC=144.21\n",
      "Y ~ s_start_age + factor(funding_indicator) + s_SAPC1 + s_SAPC2 + \n",
      "    s_SAPC3 + factor(gap_indicator) + s_start_year\n",
      "\n"
     ]
    },
    {
     "name": "stderr",
     "output_type": "stream",
     "text": [
      "Warning message:\n",
      "\"glm.fit: fitted probabilities numerically 0 or 1 occurred\"Warning message:\n",
      "\"glm.fit: fitted probabilities numerically 0 or 1 occurred\"Warning message:\n",
      "\"glm.fit: fitted probabilities numerically 0 or 1 occurred\"Warning message:\n",
      "\"glm.fit: fitted probabilities numerically 0 or 1 occurred\"Warning message:\n",
      "\"glm.fit: fitted probabilities numerically 0 or 1 occurred\"Warning message:\n",
      "\"glm.fit: fitted probabilities numerically 0 or 1 occurred\"Warning message:\n",
      "\"glm.fit: fitted probabilities numerically 0 or 1 occurred\"Warning message:\n",
      "\"glm.fit: fitted probabilities numerically 0 or 1 occurred\"Warning message:\n",
      "\"glm.fit: fitted probabilities numerically 0 or 1 occurred\"Warning message:\n",
      "\"glm.fit: fitted probabilities numerically 0 or 1 occurred\"Warning message:\n",
      "\"glm.fit: fitted probabilities numerically 0 or 1 occurred\""
     ]
    },
    {
     "name": "stdout",
     "output_type": "stream",
     "text": [
      "                            Df Deviance    AIC\n",
      "- s_start_age                1   128.58 142.58\n",
      "- factor(funding_indicator)  1   130.10 144.10\n",
      "<none>                           128.21 144.21\n",
      "- factor(gap_indicator)      1   131.09 145.09\n",
      "- s_SAPC3                    1   131.81 145.81\n",
      "+ GPA_trend                  1   128.06 146.06\n",
      "+ factor(Gender)             1   128.17 146.17\n",
      "+ avs_net_cost               1   128.21 146.21\n",
      "- s_SAPC2                    1   134.09 148.09\n",
      "+ factor(Citizenship)        7   119.21 149.21\n",
      "- s_SAPC1                    1   136.11 150.11\n",
      "- s_start_year               1   139.18 153.18\n"
     ]
    },
    {
     "name": "stderr",
     "output_type": "stream",
     "text": [
      "Warning message:\n",
      "\"glm.fit: fitted probabilities numerically 0 or 1 occurred\""
     ]
    },
    {
     "name": "stdout",
     "output_type": "stream",
     "text": [
      "\n",
      "Step:  AIC=142.58\n",
      "Y ~ factor(funding_indicator) + s_SAPC1 + s_SAPC2 + s_SAPC3 + \n",
      "    factor(gap_indicator) + s_start_year\n",
      "\n"
     ]
    },
    {
     "name": "stderr",
     "output_type": "stream",
     "text": [
      "Warning message:\n",
      "\"glm.fit: fitted probabilities numerically 0 or 1 occurred\"Warning message:\n",
      "\"glm.fit: fitted probabilities numerically 0 or 1 occurred\"Warning message:\n",
      "\"glm.fit: fitted probabilities numerically 0 or 1 occurred\"Warning message:\n",
      "\"glm.fit: fitted probabilities numerically 0 or 1 occurred\"Warning message:\n",
      "\"glm.fit: fitted probabilities numerically 0 or 1 occurred\"Warning message:\n",
      "\"glm.fit: fitted probabilities numerically 0 or 1 occurred\"Warning message:\n",
      "\"glm.fit: fitted probabilities numerically 0 or 1 occurred\"Warning message:\n",
      "\"glm.fit: fitted probabilities numerically 0 or 1 occurred\"Warning message:\n",
      "\"glm.fit: fitted probabilities numerically 0 or 1 occurred\"Warning message:\n",
      "\"glm.fit: fitted probabilities numerically 0 or 1 occurred\"Warning message:\n",
      "\"glm.fit: fitted probabilities numerically 0 or 1 occurred\""
     ]
    },
    {
     "name": "stdout",
     "output_type": "stream",
     "text": [
      "                            Df Deviance    AIC\n",
      "<none>                           128.58 142.58\n",
      "- factor(funding_indicator)  1   131.26 143.26\n",
      "- factor(gap_indicator)      1   131.28 143.28\n",
      "- s_SAPC3                    1   132.02 144.02\n",
      "+ s_start_age                1   128.21 144.21\n",
      "+ GPA_trend                  1   128.49 144.49\n",
      "+ factor(Gender)             1   128.50 144.50\n",
      "+ avs_net_cost               1   128.58 144.58\n",
      "- s_SAPC2                    1   135.52 147.52\n",
      "+ factor(Citizenship)        7   120.20 148.20\n",
      "- s_SAPC1                    1   136.56 148.56\n",
      "- s_start_year               1   139.28 151.28\n"
     ]
    }
   ],
   "source": [
    "log_mod_n_aic= stepAIC(log_mod_n, direction = 'both')"
   ]
  },
  {
   "cell_type": "markdown",
   "metadata": {},
   "source": [
    "<b> Significant variables both AIC selects:"
   ]
  },
  {
   "cell_type": "code",
   "execution_count": 89,
   "metadata": {},
   "outputs": [
    {
     "data": {
      "text/html": [
       "<dl class=dl-horizontal>\n",
       "\t<dt>Estimate</dt>\n",
       "\t\t<dd>-0.77205</dd>\n",
       "\t<dt>Pr(&gt;|z|)</dt>\n",
       "\t\t<dd>0.00543</dd>\n",
       "</dl>\n"
      ],
      "text/latex": [
       "\\begin{description*}\n",
       "\\item[Estimate] -0.77205\n",
       "\\item[Pr(>\\textbackslash{}textbar\\{\\}z\\textbackslash{}textbar\\{\\})] 0.00543\n",
       "\\end{description*}\n"
      ],
      "text/markdown": [
       "Estimate\n",
       ":   -0.77205Pr(&amp;gt;|z|)\n",
       ":   0.00543\n",
       "\n"
      ],
      "text/plain": [
       "Estimate Pr(>|z|) \n",
       "-0.77205  0.00543 "
      ]
     },
     "metadata": {},
     "output_type": "display_data"
    },
    {
     "data": {
      "text/plain": [
       "\n",
       "Call:\n",
       "glm(formula = Y ~ factor(funding_indicator) + s_SAPC1 + s_SAPC2 + \n",
       "    s_SAPC3 + factor(gap_indicator) + s_start_year, family = \"binomial\", \n",
       "    data = Nursing_df)\n",
       "\n",
       "Deviance Residuals: \n",
       "    Min       1Q   Median       3Q      Max  \n",
       "-2.2979  -0.9952   0.3440   0.9610   1.5477  \n",
       "\n",
       "Coefficients:\n",
       "                             Estimate Std. Error z value Pr(>|z|)   \n",
       "(Intercept)                    0.2015     0.3162   0.637  0.52391   \n",
       "factor(funding_indicator)1     0.7348     0.4557   1.613  0.10682   \n",
       "s_SAPC1                        9.8789     9.9168   0.996  0.31916   \n",
       "s_SAPC2                      139.6578 11823.3082   0.012  0.99058   \n",
       "s_SAPC3                        0.6940     0.3945   1.759  0.07857 . \n",
       "factor(gap_indicator)1         1.1302     0.7138   1.583  0.11332   \n",
       "s_start_year                  -0.7720     0.2777  -2.781  0.00543 **\n",
       "---\n",
       "Signif. codes:  0 '***' 0.001 '**' 0.01 '*' 0.05 '.' 0.1 ' ' 1\n",
       "\n",
       "(Dispersion parameter for binomial family taken to be 1)\n",
       "\n",
       "    Null deviance: 155.91  on 116  degrees of freedom\n",
       "Residual deviance: 128.58  on 110  degrees of freedom\n",
       "AIC: 142.58\n",
       "\n",
       "Number of Fisher Scoring iterations: 18\n"
      ]
     },
     "metadata": {},
     "output_type": "display_data"
    }
   ],
   "source": [
    "round(summary(log_mod_n_aic)$coeff[which(summary(log_mod_n_aic)$coef[,4] <= .05),c(1,4)],5)\n",
    "summary(log_mod_n_aic)"
   ]
  },
  {
   "cell_type": "markdown",
   "metadata": {},
   "source": [
    "<b> Both BIC:"
   ]
  },
  {
   "cell_type": "code",
   "execution_count": 90,
   "metadata": {},
   "outputs": [
    {
     "name": "stdout",
     "output_type": "stream",
     "text": [
      "Start:  AIC=204.75\n",
      "Y ~ s_start_age + factor(Gender) + factor(funding_indicator) + \n",
      "    factor(Citizenship) + avs_net_cost + s_SAPC1 + s_SAPC2 + \n",
      "    s_SAPC3 + factor(gap_indicator) + GPA_trend + s_start_year\n",
      "\n"
     ]
    },
    {
     "name": "stderr",
     "output_type": "stream",
     "text": [
      "Warning message:\n",
      "\"glm.fit: fitted probabilities numerically 0 or 1 occurred\"Warning message:\n",
      "\"glm.fit: fitted probabilities numerically 0 or 1 occurred\"Warning message:\n",
      "\"glm.fit: fitted probabilities numerically 0 or 1 occurred\"Warning message:\n",
      "\"glm.fit: fitted probabilities numerically 0 or 1 occurred\"Warning message:\n",
      "\"glm.fit: fitted probabilities numerically 0 or 1 occurred\"Warning message:\n",
      "\"glm.fit: fitted probabilities numerically 0 or 1 occurred\"Warning message:\n",
      "\"glm.fit: fitted probabilities numerically 0 or 1 occurred\"Warning message:\n",
      "\"glm.fit: fitted probabilities numerically 0 or 1 occurred\"Warning message:\n",
      "\"glm.fit: fitted probabilities numerically 0 or 1 occurred\"Warning message:\n",
      "\"glm.fit: fitted probabilities numerically 0 or 1 occurred\""
     ]
    },
    {
     "name": "stdout",
     "output_type": "stream",
     "text": [
      "                            Df Deviance    AIC\n",
      "- factor(Citizenship)        7   128.03 180.41\n",
      "- avs_net_cost               1   119.03 199.98\n",
      "- GPA_trend                  1   119.08 200.03\n",
      "- factor(Gender)             1   119.14 200.10\n",
      "- s_start_age                1   119.95 200.91\n",
      "- factor(gap_indicator)      1   119.97 200.92\n",
      "- factor(funding_indicator)  1   120.60 201.56\n",
      "- s_SAPC2                    1   121.76 202.71\n",
      "<none>                           119.03 204.75\n",
      "- s_SAPC3                    1   124.32 205.28\n",
      "- s_SAPC1                    1   125.42 206.38\n",
      "- s_start_year               1   128.77 209.73\n"
     ]
    },
    {
     "name": "stderr",
     "output_type": "stream",
     "text": [
      "Warning message:\n",
      "\"glm.fit: fitted probabilities numerically 0 or 1 occurred\""
     ]
    },
    {
     "name": "stdout",
     "output_type": "stream",
     "text": [
      "\n",
      "Step:  AIC=180.41\n",
      "Y ~ s_start_age + factor(Gender) + factor(funding_indicator) + \n",
      "    avs_net_cost + s_SAPC1 + s_SAPC2 + s_SAPC3 + factor(gap_indicator) + \n",
      "    GPA_trend + s_start_year\n",
      "\n"
     ]
    },
    {
     "name": "stderr",
     "output_type": "stream",
     "text": [
      "Warning message:\n",
      "\"glm.fit: fitted probabilities numerically 0 or 1 occurred\"Warning message:\n",
      "\"glm.fit: fitted probabilities numerically 0 or 1 occurred\"Warning message:\n",
      "\"glm.fit: fitted probabilities numerically 0 or 1 occurred\"Warning message:\n",
      "\"glm.fit: fitted probabilities numerically 0 or 1 occurred\"Warning message:\n",
      "\"glm.fit: fitted probabilities numerically 0 or 1 occurred\"Warning message:\n",
      "\"glm.fit: fitted probabilities numerically 0 or 1 occurred\"Warning message:\n",
      "\"glm.fit: fitted probabilities numerically 0 or 1 occurred\"Warning message:\n",
      "\"glm.fit: fitted probabilities numerically 0 or 1 occurred\"Warning message:\n",
      "\"glm.fit: fitted probabilities numerically 0 or 1 occurred\"Warning message:\n",
      "\"glm.fit: fitted probabilities numerically 0 or 1 occurred\"Warning message:\n",
      "\"glm.fit: fitted probabilities numerically 0 or 1 occurred\""
     ]
    },
    {
     "name": "stdout",
     "output_type": "stream",
     "text": [
      "                            Df Deviance    AIC\n",
      "- avs_net_cost               1   128.03 175.65\n",
      "- factor(Gender)             1   128.06 175.68\n",
      "- GPA_trend                  1   128.17 175.79\n",
      "- s_start_age                1   128.41 176.03\n",
      "- factor(funding_indicator)  1   129.71 177.33\n",
      "- factor(gap_indicator)      1   130.71 178.33\n",
      "- s_SAPC3                    1   131.41 179.03\n",
      "<none>                           128.03 180.41\n",
      "- s_SAPC2                    1   133.89 181.51\n",
      "- s_SAPC1                    1   135.77 183.39\n",
      "- s_start_year               1   138.66 186.28\n",
      "+ factor(Citizenship)        7   119.03 204.75\n"
     ]
    },
    {
     "name": "stderr",
     "output_type": "stream",
     "text": [
      "Warning message:\n",
      "\"glm.fit: fitted probabilities numerically 0 or 1 occurred\""
     ]
    },
    {
     "name": "stdout",
     "output_type": "stream",
     "text": [
      "\n",
      "Step:  AIC=175.65\n",
      "Y ~ s_start_age + factor(Gender) + factor(funding_indicator) + \n",
      "    s_SAPC1 + s_SAPC2 + s_SAPC3 + factor(gap_indicator) + GPA_trend + \n",
      "    s_start_year\n",
      "\n"
     ]
    },
    {
     "name": "stderr",
     "output_type": "stream",
     "text": [
      "Warning message:\n",
      "\"glm.fit: fitted probabilities numerically 0 or 1 occurred\"Warning message:\n",
      "\"glm.fit: fitted probabilities numerically 0 or 1 occurred\"Warning message:\n",
      "\"glm.fit: fitted probabilities numerically 0 or 1 occurred\"Warning message:\n",
      "\"glm.fit: fitted probabilities numerically 0 or 1 occurred\"Warning message:\n",
      "\"glm.fit: fitted probabilities numerically 0 or 1 occurred\"Warning message:\n",
      "\"glm.fit: fitted probabilities numerically 0 or 1 occurred\"Warning message:\n",
      "\"glm.fit: fitted probabilities numerically 0 or 1 occurred\"Warning message:\n",
      "\"glm.fit: fitted probabilities numerically 0 or 1 occurred\"Warning message:\n",
      "\"glm.fit: fitted probabilities numerically 0 or 1 occurred\"Warning message:\n",
      "\"glm.fit: fitted probabilities numerically 0 or 1 occurred\"Warning message:\n",
      "\"glm.fit: fitted probabilities numerically 0 or 1 occurred\""
     ]
    },
    {
     "name": "stdout",
     "output_type": "stream",
     "text": [
      "                            Df Deviance    AIC\n",
      "- factor(Gender)             1   128.06 170.92\n",
      "- GPA_trend                  1   128.17 171.03\n",
      "- s_start_age                1   128.41 171.27\n",
      "- factor(funding_indicator)  1   129.88 172.73\n",
      "- factor(gap_indicator)      1   130.71 173.57\n",
      "- s_SAPC3                    1   131.42 174.28\n",
      "<none>                           128.03 175.65\n",
      "- s_SAPC2                    1   133.91 176.77\n",
      "- s_SAPC1                    1   135.87 178.73\n",
      "+ avs_net_cost               1   128.03 180.41\n",
      "- s_start_year               1   139.13 181.99\n",
      "+ factor(Citizenship)        7   119.03 199.98\n"
     ]
    },
    {
     "name": "stderr",
     "output_type": "stream",
     "text": [
      "Warning message:\n",
      "\"glm.fit: fitted probabilities numerically 0 or 1 occurred\""
     ]
    },
    {
     "name": "stdout",
     "output_type": "stream",
     "text": [
      "\n",
      "Step:  AIC=170.92\n",
      "Y ~ s_start_age + factor(funding_indicator) + s_SAPC1 + s_SAPC2 + \n",
      "    s_SAPC3 + factor(gap_indicator) + GPA_trend + s_start_year\n",
      "\n"
     ]
    },
    {
     "name": "stderr",
     "output_type": "stream",
     "text": [
      "Warning message:\n",
      "\"glm.fit: fitted probabilities numerically 0 or 1 occurred\"Warning message:\n",
      "\"glm.fit: fitted probabilities numerically 0 or 1 occurred\"Warning message:\n",
      "\"glm.fit: fitted probabilities numerically 0 or 1 occurred\"Warning message:\n",
      "\"glm.fit: fitted probabilities numerically 0 or 1 occurred\"Warning message:\n",
      "\"glm.fit: fitted probabilities numerically 0 or 1 occurred\"Warning message:\n",
      "\"glm.fit: fitted probabilities numerically 0 or 1 occurred\"Warning message:\n",
      "\"glm.fit: fitted probabilities numerically 0 or 1 occurred\"Warning message:\n",
      "\"glm.fit: fitted probabilities numerically 0 or 1 occurred\"Warning message:\n",
      "\"glm.fit: fitted probabilities numerically 0 or 1 occurred\"Warning message:\n",
      "\"glm.fit: fitted probabilities numerically 0 or 1 occurred\"Warning message:\n",
      "\"glm.fit: fitted probabilities numerically 0 or 1 occurred\""
     ]
    },
    {
     "name": "stdout",
     "output_type": "stream",
     "text": [
      "                            Df Deviance    AIC\n",
      "- GPA_trend                  1   128.21 166.30\n",
      "- s_start_age                1   128.49 166.58\n",
      "- factor(funding_indicator)  1   129.92 168.01\n",
      "- factor(gap_indicator)      1   130.76 168.86\n",
      "- s_SAPC3                    1   131.42 169.52\n",
      "<none>                           128.06 170.92\n",
      "- s_SAPC2                    1   133.93 172.03\n",
      "- s_SAPC1                    1   135.91 174.00\n",
      "+ factor(Gender)             1   128.03 175.65\n",
      "+ avs_net_cost               1   128.06 175.68\n",
      "- s_start_year               1   139.17 177.27\n",
      "+ factor(Citizenship)        7   119.15 195.34\n"
     ]
    },
    {
     "name": "stderr",
     "output_type": "stream",
     "text": [
      "Warning message:\n",
      "\"glm.fit: fitted probabilities numerically 0 or 1 occurred\""
     ]
    },
    {
     "name": "stdout",
     "output_type": "stream",
     "text": [
      "\n",
      "Step:  AIC=166.3\n",
      "Y ~ s_start_age + factor(funding_indicator) + s_SAPC1 + s_SAPC2 + \n",
      "    s_SAPC3 + factor(gap_indicator) + s_start_year\n",
      "\n"
     ]
    },
    {
     "name": "stderr",
     "output_type": "stream",
     "text": [
      "Warning message:\n",
      "\"glm.fit: fitted probabilities numerically 0 or 1 occurred\"Warning message:\n",
      "\"glm.fit: fitted probabilities numerically 0 or 1 occurred\"Warning message:\n",
      "\"glm.fit: fitted probabilities numerically 0 or 1 occurred\"Warning message:\n",
      "\"glm.fit: fitted probabilities numerically 0 or 1 occurred\"Warning message:\n",
      "\"glm.fit: fitted probabilities numerically 0 or 1 occurred\"Warning message:\n",
      "\"glm.fit: fitted probabilities numerically 0 or 1 occurred\"Warning message:\n",
      "\"glm.fit: fitted probabilities numerically 0 or 1 occurred\"Warning message:\n",
      "\"glm.fit: fitted probabilities numerically 0 or 1 occurred\"Warning message:\n",
      "\"glm.fit: fitted probabilities numerically 0 or 1 occurred\"Warning message:\n",
      "\"glm.fit: fitted probabilities numerically 0 or 1 occurred\"Warning message:\n",
      "\"glm.fit: fitted probabilities numerically 0 or 1 occurred\""
     ]
    },
    {
     "name": "stdout",
     "output_type": "stream",
     "text": [
      "                            Df Deviance    AIC\n",
      "- s_start_age                1   128.58 161.92\n",
      "- factor(funding_indicator)  1   130.10 163.44\n",
      "- factor(gap_indicator)      1   131.09 164.43\n",
      "- s_SAPC3                    1   131.81 165.14\n",
      "<none>                           128.21 166.30\n",
      "- s_SAPC2                    1   134.09 167.42\n",
      "- s_SAPC1                    1   136.11 169.45\n",
      "+ GPA_trend                  1   128.06 170.92\n",
      "+ factor(Gender)             1   128.17 171.03\n",
      "+ avs_net_cost               1   128.21 171.06\n",
      "- s_start_year               1   139.18 172.51\n",
      "+ factor(Citizenship)        7   119.21 190.64\n"
     ]
    },
    {
     "name": "stderr",
     "output_type": "stream",
     "text": [
      "Warning message:\n",
      "\"glm.fit: fitted probabilities numerically 0 or 1 occurred\""
     ]
    },
    {
     "name": "stdout",
     "output_type": "stream",
     "text": [
      "\n",
      "Step:  AIC=161.92\n",
      "Y ~ factor(funding_indicator) + s_SAPC1 + s_SAPC2 + s_SAPC3 + \n",
      "    factor(gap_indicator) + s_start_year\n",
      "\n"
     ]
    },
    {
     "name": "stderr",
     "output_type": "stream",
     "text": [
      "Warning message:\n",
      "\"glm.fit: fitted probabilities numerically 0 or 1 occurred\"Warning message:\n",
      "\"glm.fit: fitted probabilities numerically 0 or 1 occurred\"Warning message:\n",
      "\"glm.fit: fitted probabilities numerically 0 or 1 occurred\"Warning message:\n",
      "\"glm.fit: fitted probabilities numerically 0 or 1 occurred\"Warning message:\n",
      "\"glm.fit: fitted probabilities numerically 0 or 1 occurred\"Warning message:\n",
      "\"glm.fit: fitted probabilities numerically 0 or 1 occurred\"Warning message:\n",
      "\"glm.fit: fitted probabilities numerically 0 or 1 occurred\"Warning message:\n",
      "\"glm.fit: fitted probabilities numerically 0 or 1 occurred\"Warning message:\n",
      "\"glm.fit: fitted probabilities numerically 0 or 1 occurred\"Warning message:\n",
      "\"glm.fit: fitted probabilities numerically 0 or 1 occurred\"Warning message:\n",
      "\"glm.fit: fitted probabilities numerically 0 or 1 occurred\""
     ]
    },
    {
     "name": "stdout",
     "output_type": "stream",
     "text": [
      "                            Df Deviance    AIC\n",
      "- factor(funding_indicator)  1   131.26 159.83\n",
      "- factor(gap_indicator)      1   131.28 159.86\n",
      "- s_SAPC3                    1   132.02 160.59\n",
      "<none>                           128.58 161.92\n",
      "- s_SAPC2                    1   135.52 164.10\n",
      "- s_SAPC1                    1   136.56 165.14\n",
      "+ s_start_age                1   128.21 166.30\n",
      "+ GPA_trend                  1   128.49 166.58\n",
      "+ factor(Gender)             1   128.50 166.60\n",
      "+ avs_net_cost               1   128.58 166.68\n",
      "- s_start_year               1   139.28 167.85\n",
      "+ factor(Citizenship)        7   120.20 186.87\n"
     ]
    },
    {
     "name": "stderr",
     "output_type": "stream",
     "text": [
      "Warning message:\n",
      "\"glm.fit: fitted probabilities numerically 0 or 1 occurred\""
     ]
    },
    {
     "name": "stdout",
     "output_type": "stream",
     "text": [
      "\n",
      "Step:  AIC=159.83\n",
      "Y ~ s_SAPC1 + s_SAPC2 + s_SAPC3 + factor(gap_indicator) + s_start_year\n",
      "\n"
     ]
    },
    {
     "name": "stderr",
     "output_type": "stream",
     "text": [
      "Warning message:\n",
      "\"glm.fit: fitted probabilities numerically 0 or 1 occurred\"Warning message:\n",
      "\"glm.fit: fitted probabilities numerically 0 or 1 occurred\"Warning message:\n",
      "\"glm.fit: fitted probabilities numerically 0 or 1 occurred\"Warning message:\n",
      "\"glm.fit: fitted probabilities numerically 0 or 1 occurred\"Warning message:\n",
      "\"glm.fit: fitted probabilities numerically 0 or 1 occurred\"Warning message:\n",
      "\"glm.fit: fitted probabilities numerically 0 or 1 occurred\"Warning message:\n",
      "\"glm.fit: fitted probabilities numerically 0 or 1 occurred\"Warning message:\n",
      "\"glm.fit: fitted probabilities numerically 0 or 1 occurred\"Warning message:\n",
      "\"glm.fit: fitted probabilities numerically 0 or 1 occurred\"Warning message:\n",
      "\"glm.fit: fitted probabilities numerically 0 or 1 occurred\"Warning message:\n",
      "\"glm.fit: fitted probabilities numerically 0 or 1 occurred\""
     ]
    },
    {
     "name": "stdout",
     "output_type": "stream",
     "text": [
      "                            Df Deviance    AIC\n",
      "- factor(gap_indicator)      1   132.82 156.63\n",
      "- s_SAPC3                    1   134.46 158.27\n",
      "<none>                           131.26 159.83\n",
      "+ factor(funding_indicator)  1   128.58 161.92\n",
      "- s_SAPC2                    1   138.14 161.95\n",
      "+ s_start_age                1   130.10 163.44\n",
      "- s_SAPC1                    1   139.63 163.44\n",
      "+ avs_net_cost               1   131.04 164.37\n",
      "+ factor(Gender)             1   131.09 164.43\n",
      "+ GPA_trend                  1   131.16 164.49\n",
      "- s_start_year               1   141.11 164.92\n",
      "+ factor(Citizenship)        7   123.19 185.10\n"
     ]
    },
    {
     "name": "stderr",
     "output_type": "stream",
     "text": [
      "Warning message:\n",
      "\"glm.fit: fitted probabilities numerically 0 or 1 occurred\""
     ]
    },
    {
     "name": "stdout",
     "output_type": "stream",
     "text": [
      "\n",
      "Step:  AIC=156.64\n",
      "Y ~ s_SAPC1 + s_SAPC2 + s_SAPC3 + s_start_year\n",
      "\n"
     ]
    },
    {
     "name": "stderr",
     "output_type": "stream",
     "text": [
      "Warning message:\n",
      "\"glm.fit: fitted probabilities numerically 0 or 1 occurred\"Warning message:\n",
      "\"glm.fit: fitted probabilities numerically 0 or 1 occurred\"Warning message:\n",
      "\"glm.fit: fitted probabilities numerically 0 or 1 occurred\"Warning message:\n",
      "\"glm.fit: fitted probabilities numerically 0 or 1 occurred\"Warning message:\n",
      "\"glm.fit: fitted probabilities numerically 0 or 1 occurred\"Warning message:\n",
      "\"glm.fit: fitted probabilities numerically 0 or 1 occurred\"Warning message:\n",
      "\"glm.fit: fitted probabilities numerically 0 or 1 occurred\"Warning message:\n",
      "\"glm.fit: fitted probabilities numerically 0 or 1 occurred\"Warning message:\n",
      "\"glm.fit: fitted probabilities numerically 0 or 1 occurred\"Warning message:\n",
      "\"glm.fit: fitted probabilities numerically 0 or 1 occurred\"Warning message:\n",
      "\"glm.fit: fitted probabilities numerically 0 or 1 occurred\""
     ]
    },
    {
     "name": "stdout",
     "output_type": "stream",
     "text": [
      "                            Df Deviance    AIC\n",
      "- s_SAPC3                    1   136.03 155.08\n",
      "<none>                           132.82 156.63\n",
      "- s_SAPC2                    1   139.67 158.72\n",
      "+ factor(gap_indicator)      1   131.26 159.83\n",
      "+ factor(funding_indicator)  1   131.28 159.86\n",
      "- s_SAPC1                    1   141.23 160.28\n",
      "+ s_start_age                1   132.15 160.73\n",
      "+ GPA_trend                  1   132.58 161.16\n",
      "+ avs_net_cost               1   132.66 161.23\n",
      "+ factor(Gender)             1   132.66 161.24\n",
      "- s_start_year               1   142.59 161.64\n",
      "+ factor(Citizenship)        7   123.45 180.60\n"
     ]
    },
    {
     "name": "stderr",
     "output_type": "stream",
     "text": [
      "Warning message:\n",
      "\"glm.fit: fitted probabilities numerically 0 or 1 occurred\""
     ]
    },
    {
     "name": "stdout",
     "output_type": "stream",
     "text": [
      "\n",
      "Step:  AIC=155.08\n",
      "Y ~ s_SAPC1 + s_SAPC2 + s_start_year\n",
      "\n"
     ]
    },
    {
     "name": "stderr",
     "output_type": "stream",
     "text": [
      "Warning message:\n",
      "\"glm.fit: fitted probabilities numerically 0 or 1 occurred\"Warning message:\n",
      "\"glm.fit: fitted probabilities numerically 0 or 1 occurred\"Warning message:\n",
      "\"glm.fit: fitted probabilities numerically 0 or 1 occurred\"Warning message:\n",
      "\"glm.fit: fitted probabilities numerically 0 or 1 occurred\"Warning message:\n",
      "\"glm.fit: fitted probabilities numerically 0 or 1 occurred\"Warning message:\n",
      "\"glm.fit: fitted probabilities numerically 0 or 1 occurred\"Warning message:\n",
      "\"glm.fit: fitted probabilities numerically 0 or 1 occurred\"Warning message:\n",
      "\"glm.fit: fitted probabilities numerically 0 or 1 occurred\"Warning message:\n",
      "\"glm.fit: fitted probabilities numerically 0 or 1 occurred\"Warning message:\n",
      "\"glm.fit: fitted probabilities numerically 0 or 1 occurred\"Warning message:\n",
      "\"glm.fit: fitted probabilities numerically 0 or 1 occurred\""
     ]
    },
    {
     "name": "stdout",
     "output_type": "stream",
     "text": [
      "                            Df Deviance    AIC\n",
      "<none>                           136.03 155.08\n",
      "- s_SAPC1                    1   141.87 156.16\n",
      "+ s_SAPC3                    1   132.82 156.63\n",
      "- s_SAPC2                    1   142.38 156.66\n",
      "+ factor(gap_indicator)      1   134.46 158.27\n",
      "+ factor(funding_indicator)  1   134.65 158.46\n",
      "+ GPA_trend                  1   135.47 159.28\n",
      "+ s_start_age                1   135.60 159.41\n",
      "+ avs_net_cost               1   135.94 159.75\n",
      "+ factor(Gender)             1   135.97 159.78\n",
      "- s_start_year               1   146.79 161.07\n",
      "+ factor(Citizenship)        7   128.44 180.83\n"
     ]
    }
   ],
   "source": [
    "log_mod_n_bic = stepAIC(log_mod_n, direction = \"both\", k = log(d_n))"
   ]
  },
  {
   "cell_type": "markdown",
   "metadata": {},
   "source": [
    "<b> Significant variables both BIC selects:"
   ]
  },
  {
   "cell_type": "code",
   "execution_count": 91,
   "metadata": {},
   "outputs": [
    {
     "data": {
      "text/html": [
       "<table>\n",
       "<thead><tr><th></th><th scope=col>Estimate</th><th scope=col>Pr(&gt;|z|)</th></tr></thead>\n",
       "<tbody>\n",
       "\t<tr><th scope=row>(Intercept)</th><td> 0.62282</td><td>0.01068 </td></tr>\n",
       "\t<tr><th scope=row>s_start_year</th><td>-0.74070</td><td>0.00545 </td></tr>\n",
       "</tbody>\n",
       "</table>\n"
      ],
      "text/latex": [
       "\\begin{tabular}{r|ll}\n",
       "  & Estimate & Pr(>\\textbar{}z\\textbar{})\\\\\n",
       "\\hline\n",
       "\t(Intercept) &  0.62282 & 0.01068 \\\\\n",
       "\ts\\_start\\_year & -0.74070 & 0.00545 \\\\\n",
       "\\end{tabular}\n"
      ],
      "text/markdown": [
       "\n",
       "| <!--/--> | Estimate | Pr(>|z|) |\n",
       "|---|---|---|\n",
       "| (Intercept) |  0.62282 | 0.01068  |\n",
       "| s_start_year | -0.74070 | 0.00545  |\n",
       "\n"
      ],
      "text/plain": [
       "             Estimate Pr(>|z|)\n",
       "(Intercept)   0.62282 0.01068 \n",
       "s_start_year -0.74070 0.00545 "
      ]
     },
     "metadata": {},
     "output_type": "display_data"
    }
   ],
   "source": [
    "round(summary(log_mod_n_bic)$coeff[which(summary(log_mod_n_bic)$coef[,4] <= .05),c(1,4)],5)"
   ]
  },
  {
   "cell_type": "markdown",
   "metadata": {},
   "source": [
    "# Watson Analysis "
   ]
  },
  {
   "cell_type": "markdown",
   "metadata": {},
   "source": [
    "<b> Logistic regression model:"
   ]
  },
  {
   "cell_type": "code",
   "execution_count": 92,
   "metadata": {},
   "outputs": [
    {
     "data": {
      "text/plain": [
       "\n",
       "Call:\n",
       "glm(formula = Y ~ s_start_age + factor(Gender) + factor(funding_indicator) + \n",
       "    factor(Citizenship) + avs_net_cost + s_SAPC1 + s_SAPC2 + \n",
       "    s_SAPC3 + factor(gap_indicator) + GPA_trend + s_start_year, \n",
       "    family = \"binomial\", data = Watson_df)\n",
       "\n",
       "Deviance Residuals: \n",
       "    Min       1Q   Median       3Q      Max  \n",
       "-2.8214  -0.8256   0.4993   0.7949   1.8283  \n",
       "\n",
       "Coefficients:\n",
       "                                                 Estimate Std. Error z value\n",
       "(Intercept)                                      -1.01862    0.39736  -2.563\n",
       "s_start_age                                      -0.05547    0.14288  -0.388\n",
       "factor(Gender)Male                                0.33420    0.27550   1.213\n",
       "factor(funding_indicator)1                        1.93264    0.30274   6.384\n",
       "factor(Citizenship)Africa                        15.29114  530.91526   0.029\n",
       "factor(Citizenship)Asia                           0.78398    0.36854   2.127\n",
       "factor(Citizenship)Asian                         -0.06487    0.51701  -0.125\n",
       "factor(Citizenship)Black or African American     -0.37609    0.67589  -0.556\n",
       "factor(Citizenship)China                          0.30523    0.35842   0.852\n",
       "factor(Citizenship)Europe                         0.03072    0.84542   0.036\n",
       "factor(Citizenship)Hispanic or Latino             2.58197    1.36032   1.898\n",
       "factor(Citizenship)India                          0.03278    0.39098   0.084\n",
       "factor(Citizenship)Other International Students   0.58838    1.57221   0.374\n",
       "factor(Citizenship)Unknown                       -0.27797    0.46573  -0.597\n",
       "avs_net_cost                                      0.36128    0.14886   2.427\n",
       "s_SAPC1                                           0.92067    0.68889   1.336\n",
       "s_SAPC2                                          -0.19463    0.11357  -1.714\n",
       "s_SAPC3                                           0.27980    0.13772   2.032\n",
       "factor(gap_indicator)1                            0.29798    0.32791   0.909\n",
       "GPA_trend                                         1.04305    0.62839   1.660\n",
       "s_start_year                                     -0.97430    0.16665  -5.847\n",
       "                                                Pr(>|z|)    \n",
       "(Intercept)                                       0.0104 *  \n",
       "s_start_age                                       0.6979    \n",
       "factor(Gender)Male                                0.2251    \n",
       "factor(funding_indicator)1                      1.73e-10 ***\n",
       "factor(Citizenship)Africa                         0.9770    \n",
       "factor(Citizenship)Asia                           0.0334 *  \n",
       "factor(Citizenship)Asian                          0.9001    \n",
       "factor(Citizenship)Black or African American      0.5779    \n",
       "factor(Citizenship)China                          0.3944    \n",
       "factor(Citizenship)Europe                         0.9710    \n",
       "factor(Citizenship)Hispanic or Latino             0.0577 .  \n",
       "factor(Citizenship)India                          0.9332    \n",
       "factor(Citizenship)Other International Students   0.7082    \n",
       "factor(Citizenship)Unknown                        0.5506    \n",
       "avs_net_cost                                      0.0152 *  \n",
       "s_SAPC1                                           0.1814    \n",
       "s_SAPC2                                           0.0866 .  \n",
       "s_SAPC3                                           0.0422 *  \n",
       "factor(gap_indicator)1                            0.3635    \n",
       "GPA_trend                                         0.0969 .  \n",
       "s_start_year                                    5.02e-09 ***\n",
       "---\n",
       "Signif. codes:  0 '***' 0.001 '**' 0.01 '*' 0.05 '.' 0.1 ' ' 1\n",
       "\n",
       "(Dispersion parameter for binomial family taken to be 1)\n",
       "\n",
       "    Null deviance: 656.07  on 514  degrees of freedom\n",
       "Residual deviance: 520.15  on 494  degrees of freedom\n",
       "AIC: 562.15\n",
       "\n",
       "Number of Fisher Scoring iterations: 14\n"
      ]
     },
     "metadata": {},
     "output_type": "display_data"
    }
   ],
   "source": [
    "log_mod_w = glm(Y~s_start_age+factor(Gender)+factor(funding_indicator)+factor(Citizenship)+\n",
    "                avs_net_cost+s_SAPC1+s_SAPC2+s_SAPC3+factor(gap_indicator)+GPA_trend+s_start_year,\n",
    "                data=Watson_df,family=\"binomial\")\n",
    "summary(log_mod_w)"
   ]
  },
  {
   "cell_type": "markdown",
   "metadata": {},
   "source": [
    "<b> Significant Variables of logistic regression model:"
   ]
  },
  {
   "cell_type": "code",
   "execution_count": 93,
   "metadata": {},
   "outputs": [
    {
     "data": {
      "text/html": [
       "<table>\n",
       "<thead><tr><th></th><th scope=col>Estimate</th><th scope=col>Pr(&gt;|z|)</th></tr></thead>\n",
       "<tbody>\n",
       "\t<tr><th scope=row>(Intercept)</th><td>-1.01862</td><td>0.01036 </td></tr>\n",
       "\t<tr><th scope=row>factor(funding_indicator)1</th><td> 1.93264</td><td>0.00000 </td></tr>\n",
       "\t<tr><th scope=row>factor(Citizenship)Asia</th><td> 0.78398</td><td>0.03340 </td></tr>\n",
       "\t<tr><th scope=row>avs_net_cost</th><td> 0.36128</td><td>0.01522 </td></tr>\n",
       "\t<tr><th scope=row>s_SAPC3</th><td> 0.27980</td><td>0.04219 </td></tr>\n",
       "\t<tr><th scope=row>s_start_year</th><td>-0.97430</td><td>0.00000 </td></tr>\n",
       "</tbody>\n",
       "</table>\n"
      ],
      "text/latex": [
       "\\begin{tabular}{r|ll}\n",
       "  & Estimate & Pr(>\\textbar{}z\\textbar{})\\\\\n",
       "\\hline\n",
       "\t(Intercept) & -1.01862 & 0.01036 \\\\\n",
       "\tfactor(funding\\_indicator)1 &  1.93264 & 0.00000 \\\\\n",
       "\tfactor(Citizenship)Asia &  0.78398 & 0.03340 \\\\\n",
       "\tavs\\_net\\_cost &  0.36128 & 0.01522 \\\\\n",
       "\ts\\_SAPC3 &  0.27980 & 0.04219 \\\\\n",
       "\ts\\_start\\_year & -0.97430 & 0.00000 \\\\\n",
       "\\end{tabular}\n"
      ],
      "text/markdown": [
       "\n",
       "| <!--/--> | Estimate | Pr(>|z|) |\n",
       "|---|---|---|\n",
       "| (Intercept) | -1.01862 | 0.01036  |\n",
       "| factor(funding_indicator)1 |  1.93264 | 0.00000  |\n",
       "| factor(Citizenship)Asia |  0.78398 | 0.03340  |\n",
       "| avs_net_cost |  0.36128 | 0.01522  |\n",
       "| s_SAPC3 |  0.27980 | 0.04219  |\n",
       "| s_start_year | -0.97430 | 0.00000  |\n",
       "\n"
      ],
      "text/plain": [
       "                           Estimate Pr(>|z|)\n",
       "(Intercept)                -1.01862 0.01036 \n",
       "factor(funding_indicator)1  1.93264 0.00000 \n",
       "factor(Citizenship)Asia     0.78398 0.03340 \n",
       "avs_net_cost                0.36128 0.01522 \n",
       "s_SAPC3                     0.27980 0.04219 \n",
       "s_start_year               -0.97430 0.00000 "
      ]
     },
     "metadata": {},
     "output_type": "display_data"
    }
   ],
   "source": [
    "round(summary(log_mod_w)$coeff[which(summary(log_mod_w)$coef[,4] <= .05),c(1,4)],5)"
   ]
  },
  {
   "cell_type": "markdown",
   "metadata": {},
   "source": [
    "<b> Both AIC:"
   ]
  },
  {
   "cell_type": "code",
   "execution_count": 94,
   "metadata": {},
   "outputs": [
    {
     "name": "stdout",
     "output_type": "stream",
     "text": [
      "Start:  AIC=562.15\n",
      "Y ~ s_start_age + factor(Gender) + factor(funding_indicator) + \n",
      "    factor(Citizenship) + avs_net_cost + s_SAPC1 + s_SAPC2 + \n",
      "    s_SAPC3 + factor(gap_indicator) + GPA_trend + s_start_year\n",
      "\n",
      "                            Df Deviance    AIC\n",
      "- factor(Citizenship)       10   537.82 559.82\n",
      "- s_start_age                1   520.30 560.30\n",
      "- factor(gap_indicator)      1   520.99 560.99\n",
      "- factor(Gender)             1   521.61 561.61\n",
      "- s_SAPC1                    1   521.98 561.98\n",
      "<none>                           520.15 562.15\n",
      "- GPA_trend                  1   523.05 563.05\n",
      "- s_SAPC2                    1   523.32 563.32\n",
      "- s_SAPC3                    1   524.74 564.74\n",
      "- avs_net_cost               1   527.98 567.98\n",
      "- s_start_year               1   561.57 601.57\n",
      "- factor(funding_indicator)  1   565.39 605.39\n",
      "\n",
      "Step:  AIC=559.82\n",
      "Y ~ s_start_age + factor(Gender) + factor(funding_indicator) + \n",
      "    avs_net_cost + s_SAPC1 + s_SAPC2 + s_SAPC3 + factor(gap_indicator) + \n",
      "    GPA_trend + s_start_year\n",
      "\n",
      "                            Df Deviance    AIC\n",
      "- s_start_age                1   538.02 558.02\n",
      "- factor(gap_indicator)      1   538.19 558.19\n",
      "- factor(Gender)             1   538.69 558.69\n",
      "<none>                           537.82 559.82\n",
      "- GPA_trend                  1   539.92 559.92\n",
      "+ factor(Citizenship)       10   520.15 562.15\n",
      "- s_SAPC3                    1   542.15 562.15\n",
      "- s_SAPC2                    1   542.53 562.53\n",
      "- s_SAPC1                    1   542.56 562.56\n",
      "- avs_net_cost               1   545.27 565.27\n",
      "- s_start_year               1   577.05 597.05\n",
      "- factor(funding_indicator)  1   590.05 610.05\n",
      "\n",
      "Step:  AIC=558.02\n",
      "Y ~ factor(Gender) + factor(funding_indicator) + avs_net_cost + \n",
      "    s_SAPC1 + s_SAPC2 + s_SAPC3 + factor(gap_indicator) + GPA_trend + \n",
      "    s_start_year\n",
      "\n",
      "                            Df Deviance    AIC\n",
      "- factor(gap_indicator)      1   538.39 556.39\n",
      "- factor(Gender)             1   538.84 556.84\n",
      "<none>                           538.02 558.02\n",
      "- GPA_trend                  1   540.07 558.07\n",
      "+ s_start_age                1   537.82 559.82\n",
      "- s_SAPC3                    1   542.21 560.21\n",
      "+ factor(Citizenship)       10   520.30 560.30\n",
      "- s_SAPC1                    1   542.67 560.67\n",
      "- s_SAPC2                    1   542.73 560.73\n",
      "- avs_net_cost               1   545.35 563.35\n",
      "- s_start_year               1   580.49 598.49\n",
      "- factor(funding_indicator)  1   602.55 620.55\n",
      "\n",
      "Step:  AIC=556.39\n",
      "Y ~ factor(Gender) + factor(funding_indicator) + avs_net_cost + \n",
      "    s_SAPC1 + s_SAPC2 + s_SAPC3 + GPA_trend + s_start_year\n",
      "\n",
      "                            Df Deviance    AIC\n",
      "- factor(Gender)             1   539.20 555.20\n",
      "<none>                           538.39 556.39\n",
      "- GPA_trend                  1   540.47 556.47\n",
      "+ factor(gap_indicator)      1   538.02 558.02\n",
      "+ s_start_age                1   538.19 558.19\n",
      "- s_SAPC3                    1   542.55 558.55\n",
      "- s_SAPC2                    1   542.95 558.95\n",
      "- s_SAPC1                    1   542.98 558.98\n",
      "+ factor(Citizenship)       10   521.14 559.14\n",
      "- avs_net_cost               1   545.43 561.43\n",
      "- s_start_year               1   582.79 598.79\n",
      "- factor(funding_indicator)  1   602.56 618.56\n",
      "\n",
      "Step:  AIC=555.2\n",
      "Y ~ factor(funding_indicator) + avs_net_cost + s_SAPC1 + s_SAPC2 + \n",
      "    s_SAPC3 + GPA_trend + s_start_year\n",
      "\n",
      "                            Df Deviance    AIC\n",
      "<none>                           539.20 555.20\n",
      "- GPA_trend                  1   541.26 555.26\n",
      "+ factor(Gender)             1   538.39 556.39\n",
      "+ factor(gap_indicator)      1   538.84 556.84\n",
      "+ s_start_age                1   539.05 557.05\n",
      "- s_SAPC3                    1   543.24 557.24\n",
      "- s_SAPC1                    1   543.54 557.54\n",
      "- s_SAPC2                    1   543.79 557.79\n",
      "+ factor(Citizenship)       10   522.51 558.51\n",
      "- avs_net_cost               1   546.46 560.46\n",
      "- s_start_year               1   584.36 598.36\n",
      "- factor(funding_indicator)  1   602.91 616.91\n"
     ]
    }
   ],
   "source": [
    "log_mod_w_aic= stepAIC(log_mod_w, direction = 'both')"
   ]
  },
  {
   "cell_type": "markdown",
   "metadata": {},
   "source": [
    "<b> Significant variables both AIC selects:"
   ]
  },
  {
   "cell_type": "code",
   "execution_count": 95,
   "metadata": {},
   "outputs": [
    {
     "data": {
      "text/html": [
       "<table>\n",
       "<thead><tr><th></th><th scope=col>Estimate</th><th scope=col>Pr(&gt;|z|)</th></tr></thead>\n",
       "<tbody>\n",
       "\t<tr><th scope=row>(Intercept)</th><td>-0.53326</td><td>0.00946 </td></tr>\n",
       "\t<tr><th scope=row>factor(funding_indicator)1</th><td> 2.00221</td><td>0.00000 </td></tr>\n",
       "\t<tr><th scope=row>avs_net_cost</th><td> 0.34681</td><td>0.02200 </td></tr>\n",
       "\t<tr><th scope=row>s_SAPC1</th><td> 1.26405</td><td>0.04089 </td></tr>\n",
       "\t<tr><th scope=row>s_SAPC2</th><td>-0.22045</td><td>0.04152 </td></tr>\n",
       "\t<tr><th scope=row>s_start_year</th><td>-0.96362</td><td>0.00000 </td></tr>\n",
       "</tbody>\n",
       "</table>\n"
      ],
      "text/latex": [
       "\\begin{tabular}{r|ll}\n",
       "  & Estimate & Pr(>\\textbar{}z\\textbar{})\\\\\n",
       "\\hline\n",
       "\t(Intercept) & -0.53326 & 0.00946 \\\\\n",
       "\tfactor(funding\\_indicator)1 &  2.00221 & 0.00000 \\\\\n",
       "\tavs\\_net\\_cost &  0.34681 & 0.02200 \\\\\n",
       "\ts\\_SAPC1 &  1.26405 & 0.04089 \\\\\n",
       "\ts\\_SAPC2 & -0.22045 & 0.04152 \\\\\n",
       "\ts\\_start\\_year & -0.96362 & 0.00000 \\\\\n",
       "\\end{tabular}\n"
      ],
      "text/markdown": [
       "\n",
       "| <!--/--> | Estimate | Pr(>|z|) |\n",
       "|---|---|---|\n",
       "| (Intercept) | -0.53326 | 0.00946  |\n",
       "| factor(funding_indicator)1 |  2.00221 | 0.00000  |\n",
       "| avs_net_cost |  0.34681 | 0.02200  |\n",
       "| s_SAPC1 |  1.26405 | 0.04089  |\n",
       "| s_SAPC2 | -0.22045 | 0.04152  |\n",
       "| s_start_year | -0.96362 | 0.00000  |\n",
       "\n"
      ],
      "text/plain": [
       "                           Estimate Pr(>|z|)\n",
       "(Intercept)                -0.53326 0.00946 \n",
       "factor(funding_indicator)1  2.00221 0.00000 \n",
       "avs_net_cost                0.34681 0.02200 \n",
       "s_SAPC1                     1.26405 0.04089 \n",
       "s_SAPC2                    -0.22045 0.04152 \n",
       "s_start_year               -0.96362 0.00000 "
      ]
     },
     "metadata": {},
     "output_type": "display_data"
    }
   ],
   "source": [
    "round(summary(log_mod_w_aic)$coeff[which(summary(log_mod_w_aic)$coef[,4] <= .05),c(1,4)],5)"
   ]
  },
  {
   "cell_type": "markdown",
   "metadata": {},
   "source": [
    "<b> Both BIC:"
   ]
  },
  {
   "cell_type": "code",
   "execution_count": 96,
   "metadata": {},
   "outputs": [
    {
     "name": "stdout",
     "output_type": "stream",
     "text": [
      "Start:  AIC=651.28\n",
      "Y ~ s_start_age + factor(Gender) + factor(funding_indicator) + \n",
      "    factor(Citizenship) + avs_net_cost + s_SAPC1 + s_SAPC2 + \n",
      "    s_SAPC3 + factor(gap_indicator) + GPA_trend + s_start_year\n",
      "\n",
      "                            Df Deviance    AIC\n",
      "- factor(Citizenship)       10   537.82 606.50\n",
      "- s_start_age                1   520.30 645.18\n",
      "- factor(gap_indicator)      1   520.99 645.87\n",
      "- factor(Gender)             1   521.61 646.49\n",
      "- s_SAPC1                    1   521.98 646.86\n",
      "- GPA_trend                  1   523.05 647.93\n",
      "- s_SAPC2                    1   523.32 648.20\n",
      "- s_SAPC3                    1   524.74 649.62\n",
      "<none>                           520.15 651.28\n",
      "- avs_net_cost               1   527.98 652.86\n",
      "- s_start_year               1   561.57 686.45\n",
      "- factor(funding_indicator)  1   565.39 690.27\n",
      "\n",
      "Step:  AIC=606.5\n",
      "Y ~ s_start_age + factor(Gender) + factor(funding_indicator) + \n",
      "    avs_net_cost + s_SAPC1 + s_SAPC2 + s_SAPC3 + factor(gap_indicator) + \n",
      "    GPA_trend + s_start_year\n",
      "\n",
      "                            Df Deviance    AIC\n",
      "- s_start_age                1   538.02 600.46\n",
      "- factor(gap_indicator)      1   538.19 600.63\n",
      "- factor(Gender)             1   538.69 601.13\n",
      "- GPA_trend                  1   539.92 602.36\n",
      "- s_SAPC3                    1   542.15 604.59\n",
      "- s_SAPC2                    1   542.53 604.98\n",
      "- s_SAPC1                    1   542.56 605.00\n",
      "<none>                           537.82 606.50\n",
      "- avs_net_cost               1   545.27 607.72\n",
      "- s_start_year               1   577.05 639.50\n",
      "+ factor(Citizenship)       10   520.15 651.28\n",
      "- factor(funding_indicator)  1   590.05 652.49\n",
      "\n",
      "Step:  AIC=600.46\n",
      "Y ~ factor(Gender) + factor(funding_indicator) + avs_net_cost + \n",
      "    s_SAPC1 + s_SAPC2 + s_SAPC3 + factor(gap_indicator) + GPA_trend + \n",
      "    s_start_year\n",
      "\n",
      "                            Df Deviance    AIC\n",
      "- factor(gap_indicator)      1   538.39 594.59\n",
      "- factor(Gender)             1   538.84 595.04\n",
      "- GPA_trend                  1   540.07 596.27\n",
      "- s_SAPC3                    1   542.21 598.41\n",
      "- s_SAPC1                    1   542.67 598.87\n",
      "- s_SAPC2                    1   542.73 598.93\n",
      "<none>                           538.02 600.46\n",
      "- avs_net_cost               1   545.35 601.55\n",
      "+ s_start_age                1   537.82 606.50\n",
      "- s_start_year               1   580.49 636.69\n",
      "+ factor(Citizenship)       10   520.30 645.18\n",
      "- factor(funding_indicator)  1   602.55 658.75\n",
      "\n",
      "Step:  AIC=594.59\n",
      "Y ~ factor(Gender) + factor(funding_indicator) + avs_net_cost + \n",
      "    s_SAPC1 + s_SAPC2 + s_SAPC3 + GPA_trend + s_start_year\n",
      "\n",
      "                            Df Deviance    AIC\n",
      "- factor(Gender)             1   539.20 589.16\n",
      "- GPA_trend                  1   540.47 590.42\n",
      "- s_SAPC3                    1   542.55 592.50\n",
      "- s_SAPC2                    1   542.95 592.91\n",
      "- s_SAPC1                    1   542.98 592.93\n",
      "<none>                           538.39 594.59\n",
      "- avs_net_cost               1   545.43 595.38\n",
      "+ factor(gap_indicator)      1   538.02 600.46\n",
      "+ s_start_age                1   538.19 600.63\n",
      "- s_start_year               1   582.79 632.74\n",
      "+ factor(Citizenship)       10   521.14 639.78\n",
      "- factor(funding_indicator)  1   602.56 652.52\n",
      "\n",
      "Step:  AIC=589.16\n",
      "Y ~ factor(funding_indicator) + avs_net_cost + s_SAPC1 + s_SAPC2 + \n",
      "    s_SAPC3 + GPA_trend + s_start_year\n",
      "\n",
      "                            Df Deviance    AIC\n",
      "- GPA_trend                  1   541.26 584.97\n",
      "- s_SAPC3                    1   543.24 586.95\n",
      "- s_SAPC1                    1   543.54 587.25\n",
      "- s_SAPC2                    1   543.79 587.49\n",
      "<none>                           539.20 589.16\n",
      "- avs_net_cost               1   546.46 590.17\n",
      "+ factor(Gender)             1   538.39 594.59\n",
      "+ factor(gap_indicator)      1   538.84 595.04\n",
      "+ s_start_age                1   539.05 595.25\n",
      "- s_start_year               1   584.36 628.07\n",
      "+ factor(Citizenship)       10   522.51 634.91\n",
      "- factor(funding_indicator)  1   602.91 646.62\n",
      "\n",
      "Step:  AIC=584.97\n",
      "Y ~ factor(funding_indicator) + avs_net_cost + s_SAPC1 + s_SAPC2 + \n",
      "    s_SAPC3 + s_start_year\n",
      "\n",
      "                            Df Deviance    AIC\n",
      "- s_SAPC2                    1   545.55 583.02\n",
      "- s_SAPC1                    1   545.59 583.05\n",
      "- s_SAPC3                    1   546.07 583.54\n",
      "<none>                           541.26 584.97\n",
      "- avs_net_cost               1   548.55 586.02\n",
      "+ GPA_trend                  1   539.20 589.16\n",
      "+ factor(Gender)             1   540.47 590.42\n",
      "+ factor(gap_indicator)      1   540.87 590.83\n",
      "+ s_start_age                1   541.14 591.09\n",
      "- s_start_year               1   587.61 625.08\n",
      "+ factor(Citizenship)       10   525.37 631.52\n",
      "- factor(funding_indicator)  1   607.98 645.45\n",
      "\n",
      "Step:  AIC=583.02\n",
      "Y ~ factor(funding_indicator) + avs_net_cost + s_SAPC1 + s_SAPC3 + \n",
      "    s_start_year\n",
      "\n",
      "                            Df Deviance    AIC\n",
      "- s_SAPC1                    1   549.41 580.63\n",
      "- s_SAPC3                    1   550.53 581.76\n",
      "<none>                           545.55 583.02\n",
      "- avs_net_cost               1   552.07 583.29\n",
      "+ s_SAPC2                    1   541.26 584.97\n",
      "+ GPA_trend                  1   543.79 587.49\n",
      "+ factor(Gender)             1   544.73 588.44\n",
      "+ factor(gap_indicator)      1   545.32 589.03\n",
      "+ s_start_age                1   545.43 589.14\n",
      "- s_start_year               1   591.05 622.27\n",
      "+ factor(Citizenship)       10   528.16 628.07\n",
      "- factor(funding_indicator)  1   620.37 651.59\n",
      "\n",
      "Step:  AIC=580.63\n",
      "Y ~ factor(funding_indicator) + avs_net_cost + s_SAPC3 + s_start_year\n",
      "\n",
      "                            Df Deviance    AIC\n",
      "- s_SAPC3                    1   551.63 576.60\n",
      "<none>                           549.41 580.63\n",
      "- avs_net_cost               1   556.13 581.10\n",
      "+ s_SAPC1                    1   545.55 583.02\n",
      "+ s_SAPC2                    1   545.59 583.05\n",
      "+ GPA_trend                  1   547.68 585.15\n",
      "+ factor(Gender)             1   548.81 586.28\n",
      "+ factor(gap_indicator)      1   549.20 586.67\n",
      "+ s_start_age                1   549.35 586.81\n",
      "- s_start_year               1   591.59 616.57\n",
      "+ factor(Citizenship)       10   529.50 623.17\n",
      "- factor(funding_indicator)  1   622.61 647.59\n",
      "\n",
      "Step:  AIC=576.6\n",
      "Y ~ factor(funding_indicator) + avs_net_cost + s_start_year\n",
      "\n",
      "                            Df Deviance    AIC\n",
      "<none>                           551.63 576.60\n",
      "- avs_net_cost               1   558.80 577.53\n",
      "+ s_SAPC2                    1   547.50 578.72\n",
      "+ GPA_trend                  1   549.37 580.59\n",
      "+ s_SAPC3                    1   549.41 580.63\n",
      "+ s_SAPC1                    1   550.53 581.76\n",
      "+ factor(Gender)             1   551.05 582.27\n",
      "+ factor(gap_indicator)      1   551.42 582.64\n",
      "+ s_start_age                1   551.62 582.84\n",
      "+ factor(Citizenship)       10   533.69 621.11\n",
      "- s_start_year               1   611.85 630.59\n",
      "- factor(funding_indicator)  1   625.17 643.90\n"
     ]
    }
   ],
   "source": [
    "log_mod_w_bic = stepAIC(log_mod_w, direction = \"both\", k = log(e_n))\n"
   ]
  },
  {
   "cell_type": "markdown",
   "metadata": {},
   "source": [
    "<b> Significant variables both BIC selects:"
   ]
  },
  {
   "cell_type": "code",
   "execution_count": 97,
   "metadata": {},
   "outputs": [
    {
     "data": {
      "text/plain": [
       "\n",
       "Call:\n",
       "glm(formula = Y ~ factor(funding_indicator) + avs_net_cost + \n",
       "    s_start_year, family = \"binomial\", data = Watson_df)\n",
       "\n",
       "Deviance Residuals: \n",
       "    Min       1Q   Median       3Q      Max  \n",
       "-2.8893  -0.9101   0.5567   0.8484   1.7719  \n",
       "\n",
       "Coefficients:\n",
       "                           Estimate Std. Error z value Pr(>|z|)    \n",
       "(Intercept)                 -0.5034     0.2001  -2.516   0.0119 *  \n",
       "factor(funding_indicator)1   2.0988     0.2644   7.939 2.04e-15 ***\n",
       "avs_net_cost                 0.3515     0.1548   2.270   0.0232 *  \n",
       "s_start_year                -1.0004     0.1437  -6.963 3.34e-12 ***\n",
       "---\n",
       "Signif. codes:  0 '***' 0.001 '**' 0.01 '*' 0.05 '.' 0.1 ' ' 1\n",
       "\n",
       "(Dispersion parameter for binomial family taken to be 1)\n",
       "\n",
       "    Null deviance: 656.07  on 514  degrees of freedom\n",
       "Residual deviance: 551.63  on 511  degrees of freedom\n",
       "AIC: 559.63\n",
       "\n",
       "Number of Fisher Scoring iterations: 4\n"
      ]
     },
     "metadata": {},
     "output_type": "display_data"
    },
    {
     "data": {
      "text/html": [
       "<table>\n",
       "<thead><tr><th></th><th scope=col>Estimate</th><th scope=col>Pr(&gt;|z|)</th></tr></thead>\n",
       "<tbody>\n",
       "\t<tr><th scope=row>(Intercept)</th><td>-0.50338</td><td>0.01188 </td></tr>\n",
       "\t<tr><th scope=row>factor(funding_indicator)1</th><td> 2.09885</td><td>0.00000 </td></tr>\n",
       "\t<tr><th scope=row>avs_net_cost</th><td> 0.35147</td><td>0.02320 </td></tr>\n",
       "\t<tr><th scope=row>s_start_year</th><td>-1.00040</td><td>0.00000 </td></tr>\n",
       "</tbody>\n",
       "</table>\n"
      ],
      "text/latex": [
       "\\begin{tabular}{r|ll}\n",
       "  & Estimate & Pr(>\\textbar{}z\\textbar{})\\\\\n",
       "\\hline\n",
       "\t(Intercept) & -0.50338 & 0.01188 \\\\\n",
       "\tfactor(funding\\_indicator)1 &  2.09885 & 0.00000 \\\\\n",
       "\tavs\\_net\\_cost &  0.35147 & 0.02320 \\\\\n",
       "\ts\\_start\\_year & -1.00040 & 0.00000 \\\\\n",
       "\\end{tabular}\n"
      ],
      "text/markdown": [
       "\n",
       "| <!--/--> | Estimate | Pr(>|z|) |\n",
       "|---|---|---|\n",
       "| (Intercept) | -0.50338 | 0.01188  |\n",
       "| factor(funding_indicator)1 |  2.09885 | 0.00000  |\n",
       "| avs_net_cost |  0.35147 | 0.02320  |\n",
       "| s_start_year | -1.00040 | 0.00000  |\n",
       "\n"
      ],
      "text/plain": [
       "                           Estimate Pr(>|z|)\n",
       "(Intercept)                -0.50338 0.01188 \n",
       "factor(funding_indicator)1  2.09885 0.00000 \n",
       "avs_net_cost                0.35147 0.02320 \n",
       "s_start_year               -1.00040 0.00000 "
      ]
     },
     "metadata": {},
     "output_type": "display_data"
    }
   ],
   "source": [
    "summary(log_mod_w_bic)\n",
    "round(summary(log_mod_w_bic)$coeff[which(summary(log_mod_w_bic)$coef[,4] <= .05),c(1,4)],5)"
   ]
  },
  {
   "cell_type": "markdown",
   "metadata": {},
   "source": [
    "# Joint Analysis"
   ]
  },
  {
   "cell_type": "markdown",
   "metadata": {},
   "source": [
    "<b> Logistic regression model:"
   ]
  },
  {
   "cell_type": "code",
   "execution_count": 98,
   "metadata": {},
   "outputs": [],
   "source": [
    "# int_chn = function(x) ifelse(x=='China',1,0)\n",
    "# int_afc = function(x) ifelse(x=='Africa',1,0)\n",
    "# int_asia = function(x) ifelse(x=='Asia',1,0)"
   ]
  },
  {
   "cell_type": "code",
   "execution_count": 99,
   "metadata": {},
   "outputs": [],
   "source": [
    "# df <- within(df, s_Citizenship <- relevel(s_Citizenship, ref = \"White\"))\n",
    "# df <- within(df, s_College <- relevel(s_College, ref = \"GD Non-Harpur\"))"
   ]
  },
  {
   "cell_type": "code",
   "execution_count": 193,
   "metadata": {},
   "outputs": [],
   "source": [
    "df1$is_ha = ifelse(df1$college_1 == 2,1,0)\n",
    "df1$is_som = ifelse(df1$college_1 == 3,1,0)\n",
    "df1$is_wat = ifelse(df1$college_1 == 5,1,0)"
   ]
  },
  {
   "cell_type": "code",
   "execution_count": 220,
   "metadata": {},
   "outputs": [],
   "source": [
    "log_mod_total = glm(Y~factor(Gender)+s_start_year+factor(college_1)+factor(funding_indicator)+factor(Citizenship)+\n",
    "                    avs_net_cost+factor(gap_indicator)+GPA_trend+GRE.Combined.Quantitative.Score+\n",
    "                   Average.Precol.GPA+factor(is_ha):GRE.Combined.General.Verbal.Score+\n",
    "                    factor(is_som):GPA_trend+factor(is_som):GRE.Combined.General.Write.Score+factor(is_som):GMAT.Score+\n",
    "                    factor(is_wat):avs_net_cost,data=df1,family=\"binomial\")"
   ]
  },
  {
   "cell_type": "code",
   "execution_count": 155,
   "metadata": {},
   "outputs": [],
   "source": [
    "# log_mod_total = glm(Y~factor(funding_indicator)+factor(s_Citizenship)+\n",
    "#                 avs_net_cost+GPA_trend+s_start_year+factor(s_College)+avs_net_cost:factor(s_College)+\n",
    "#                 factor(s_College):factor(s_Citizenship)+factor(s_College):s_SAPC1+factor(s_College):s_SAPC3+\n",
    "#                 factor(s_College):factor(funding_indicator)+factor(s_College):GPA_trend+s_start_year:factor(s_College),\n",
    "#                 data=df1,family=\"binomial\")\n",
    "# summary(log_mod_total)"
   ]
  },
  {
   "cell_type": "markdown",
   "metadata": {},
   "source": [
    "<b> Significant Variables of logistic regression model:"
   ]
  },
  {
   "cell_type": "code",
   "execution_count": 221,
   "metadata": {
    "scrolled": true
   },
   "outputs": [
    {
     "data": {
      "text/html": [
       "<table>\n",
       "<thead><tr><th></th><th scope=col>Estimate</th><th scope=col>Pr(&gt;|z|)</th></tr></thead>\n",
       "<tbody>\n",
       "\t<tr><th scope=row>s_start_year</th><td>-0.78448</td><td>0.00000 </td></tr>\n",
       "\t<tr><th scope=row>factor(college_1)5</th><td> 0.68651</td><td>0.00328 </td></tr>\n",
       "\t<tr><th scope=row>factor(funding_indicator)1</th><td> 1.03396</td><td>0.00000 </td></tr>\n",
       "\t<tr><th scope=row>factor(Citizenship)Africa</th><td> 0.81592</td><td>0.01189 </td></tr>\n",
       "\t<tr><th scope=row>factor(Citizenship)Asia</th><td> 0.67604</td><td>0.00003 </td></tr>\n",
       "\t<tr><th scope=row>factor(Citizenship)China</th><td> 0.40140</td><td>0.01244 </td></tr>\n",
       "\t<tr><th scope=row>avs_net_cost</th><td> 0.09991</td><td>0.03009 </td></tr>\n",
       "\t<tr><th scope=row>factor(gap_indicator)1</th><td> 0.41432</td><td>0.01073 </td></tr>\n",
       "\t<tr><th scope=row>GPA_trend</th><td> 0.94283</td><td>0.00054 </td></tr>\n",
       "\t<tr><th scope=row>Average.Precol.GPA</th><td> 0.50647</td><td>0.00130 </td></tr>\n",
       "</tbody>\n",
       "</table>\n"
      ],
      "text/latex": [
       "\\begin{tabular}{r|ll}\n",
       "  & Estimate & Pr(>\\textbar{}z\\textbar{})\\\\\n",
       "\\hline\n",
       "\ts\\_start\\_year & -0.78448 & 0.00000 \\\\\n",
       "\tfactor(college\\_1)5 &  0.68651 & 0.00328 \\\\\n",
       "\tfactor(funding\\_indicator)1 &  1.03396 & 0.00000 \\\\\n",
       "\tfactor(Citizenship)Africa &  0.81592 & 0.01189 \\\\\n",
       "\tfactor(Citizenship)Asia &  0.67604 & 0.00003 \\\\\n",
       "\tfactor(Citizenship)China &  0.40140 & 0.01244 \\\\\n",
       "\tavs\\_net\\_cost &  0.09991 & 0.03009 \\\\\n",
       "\tfactor(gap\\_indicator)1 &  0.41432 & 0.01073 \\\\\n",
       "\tGPA\\_trend &  0.94283 & 0.00054 \\\\\n",
       "\tAverage.Precol.GPA &  0.50647 & 0.00130 \\\\\n",
       "\\end{tabular}\n"
      ],
      "text/markdown": [
       "\n",
       "| <!--/--> | Estimate | Pr(>|z|) |\n",
       "|---|---|---|\n",
       "| s_start_year | -0.78448 | 0.00000  |\n",
       "| factor(college_1)5 |  0.68651 | 0.00328  |\n",
       "| factor(funding_indicator)1 |  1.03396 | 0.00000  |\n",
       "| factor(Citizenship)Africa |  0.81592 | 0.01189  |\n",
       "| factor(Citizenship)Asia |  0.67604 | 0.00003  |\n",
       "| factor(Citizenship)China |  0.40140 | 0.01244  |\n",
       "| avs_net_cost |  0.09991 | 0.03009  |\n",
       "| factor(gap_indicator)1 |  0.41432 | 0.01073  |\n",
       "| GPA_trend |  0.94283 | 0.00054  |\n",
       "| Average.Precol.GPA |  0.50647 | 0.00130  |\n",
       "\n"
      ],
      "text/plain": [
       "                           Estimate Pr(>|z|)\n",
       "s_start_year               -0.78448 0.00000 \n",
       "factor(college_1)5          0.68651 0.00328 \n",
       "factor(funding_indicator)1  1.03396 0.00000 \n",
       "factor(Citizenship)Africa   0.81592 0.01189 \n",
       "factor(Citizenship)Asia     0.67604 0.00003 \n",
       "factor(Citizenship)China    0.40140 0.01244 \n",
       "avs_net_cost                0.09991 0.03009 \n",
       "factor(gap_indicator)1      0.41432 0.01073 \n",
       "GPA_trend                   0.94283 0.00054 \n",
       "Average.Precol.GPA          0.50647 0.00130 "
      ]
     },
     "metadata": {},
     "output_type": "display_data"
    }
   ],
   "source": [
    "round(summary(log_mod_total)$coeff[which(summary(log_mod_total)$coef[,4] <= .05),c(1,4)],5)"
   ]
  },
  {
   "cell_type": "markdown",
   "metadata": {},
   "source": [
    "<b> Both AIC:"
   ]
  },
  {
   "cell_type": "code",
   "execution_count": 222,
   "metadata": {
    "scrolled": false
   },
   "outputs": [],
   "source": [
    "log_mod_total_aic= stepAIC(log_mod_total, direction = 'both',trace=0)"
   ]
  },
  {
   "cell_type": "markdown",
   "metadata": {},
   "source": [
    "<b> Significant variables both AIC selects:"
   ]
  },
  {
   "cell_type": "code",
   "execution_count": 223,
   "metadata": {
    "scrolled": true
   },
   "outputs": [
    {
     "data": {
      "text/html": [
       "<table>\n",
       "<thead><tr><th></th><th scope=col>Estimate</th><th scope=col>Pr(&gt;|z|)</th></tr></thead>\n",
       "<tbody>\n",
       "\t<tr><th scope=row>(Intercept)</th><td>-1.71236</td><td>0.00547 </td></tr>\n",
       "\t<tr><th scope=row>s_start_year</th><td>-0.78785</td><td>0.00000 </td></tr>\n",
       "\t<tr><th scope=row>factor(college_1)2</th><td>-0.26611</td><td>0.01622 </td></tr>\n",
       "\t<tr><th scope=row>factor(college_1)5</th><td> 0.69304</td><td>0.00244 </td></tr>\n",
       "\t<tr><th scope=row>factor(funding_indicator)1</th><td> 1.03278</td><td>0.00000 </td></tr>\n",
       "\t<tr><th scope=row>factor(Citizenship)Africa</th><td> 0.81766</td><td>0.01155 </td></tr>\n",
       "\t<tr><th scope=row>factor(Citizenship)Asia</th><td> 0.66499</td><td>0.00003 </td></tr>\n",
       "\t<tr><th scope=row>factor(Citizenship)China</th><td> 0.38531</td><td>0.01438 </td></tr>\n",
       "\t<tr><th scope=row>avs_net_cost</th><td> 0.10482</td><td>0.02153 </td></tr>\n",
       "\t<tr><th scope=row>factor(gap_indicator)1</th><td> 0.41187</td><td>0.01087 </td></tr>\n",
       "\t<tr><th scope=row>GPA_trend</th><td> 1.01950</td><td>0.00015 </td></tr>\n",
       "\t<tr><th scope=row>Average.Precol.GPA</th><td> 0.51956</td><td>0.00090 </td></tr>\n",
       "</tbody>\n",
       "</table>\n"
      ],
      "text/latex": [
       "\\begin{tabular}{r|ll}\n",
       "  & Estimate & Pr(>\\textbar{}z\\textbar{})\\\\\n",
       "\\hline\n",
       "\t(Intercept) & -1.71236 & 0.00547 \\\\\n",
       "\ts\\_start\\_year & -0.78785 & 0.00000 \\\\\n",
       "\tfactor(college\\_1)2 & -0.26611 & 0.01622 \\\\\n",
       "\tfactor(college\\_1)5 &  0.69304 & 0.00244 \\\\\n",
       "\tfactor(funding\\_indicator)1 &  1.03278 & 0.00000 \\\\\n",
       "\tfactor(Citizenship)Africa &  0.81766 & 0.01155 \\\\\n",
       "\tfactor(Citizenship)Asia &  0.66499 & 0.00003 \\\\\n",
       "\tfactor(Citizenship)China &  0.38531 & 0.01438 \\\\\n",
       "\tavs\\_net\\_cost &  0.10482 & 0.02153 \\\\\n",
       "\tfactor(gap\\_indicator)1 &  0.41187 & 0.01087 \\\\\n",
       "\tGPA\\_trend &  1.01950 & 0.00015 \\\\\n",
       "\tAverage.Precol.GPA &  0.51956 & 0.00090 \\\\\n",
       "\\end{tabular}\n"
      ],
      "text/markdown": [
       "\n",
       "| <!--/--> | Estimate | Pr(>|z|) |\n",
       "|---|---|---|\n",
       "| (Intercept) | -1.71236 | 0.00547  |\n",
       "| s_start_year | -0.78785 | 0.00000  |\n",
       "| factor(college_1)2 | -0.26611 | 0.01622  |\n",
       "| factor(college_1)5 |  0.69304 | 0.00244  |\n",
       "| factor(funding_indicator)1 |  1.03278 | 0.00000  |\n",
       "| factor(Citizenship)Africa |  0.81766 | 0.01155  |\n",
       "| factor(Citizenship)Asia |  0.66499 | 0.00003  |\n",
       "| factor(Citizenship)China |  0.38531 | 0.01438  |\n",
       "| avs_net_cost |  0.10482 | 0.02153  |\n",
       "| factor(gap_indicator)1 |  0.41187 | 0.01087  |\n",
       "| GPA_trend |  1.01950 | 0.00015  |\n",
       "| Average.Precol.GPA |  0.51956 | 0.00090  |\n",
       "\n"
      ],
      "text/plain": [
       "                           Estimate Pr(>|z|)\n",
       "(Intercept)                -1.71236 0.00547 \n",
       "s_start_year               -0.78785 0.00000 \n",
       "factor(college_1)2         -0.26611 0.01622 \n",
       "factor(college_1)5          0.69304 0.00244 \n",
       "factor(funding_indicator)1  1.03278 0.00000 \n",
       "factor(Citizenship)Africa   0.81766 0.01155 \n",
       "factor(Citizenship)Asia     0.66499 0.00003 \n",
       "factor(Citizenship)China    0.38531 0.01438 \n",
       "avs_net_cost                0.10482 0.02153 \n",
       "factor(gap_indicator)1      0.41187 0.01087 \n",
       "GPA_trend                   1.01950 0.00015 \n",
       "Average.Precol.GPA          0.51956 0.00090 "
      ]
     },
     "metadata": {},
     "output_type": "display_data"
    }
   ],
   "source": [
    "round(summary(log_mod_total_aic)$coeff[which(summary(log_mod_total_aic)$coef[,4] <= .05),c(1,4)],5)"
   ]
  },
  {
   "cell_type": "markdown",
   "metadata": {},
   "source": [
    "<b> Both BIC:"
   ]
  },
  {
   "cell_type": "code",
   "execution_count": 224,
   "metadata": {
    "scrolled": false
   },
   "outputs": [],
   "source": [
    "log_mod_total_bic = stepAIC(log_mod_total, direction = \"both\", k = log(e_n),trace=0)"
   ]
  },
  {
   "cell_type": "markdown",
   "metadata": {},
   "source": [
    "<b>Significant variables both BIC selects:"
   ]
  },
  {
   "cell_type": "code",
   "execution_count": 225,
   "metadata": {},
   "outputs": [
    {
     "data": {
      "text/html": [
       "<table>\n",
       "<thead><tr><th></th><th scope=col>Estimate</th><th scope=col>Pr(&gt;|z|)</th></tr></thead>\n",
       "<tbody>\n",
       "\t<tr><th scope=row>s_start_year</th><td>-0.75096</td><td>0.00000 </td></tr>\n",
       "\t<tr><th scope=row>factor(funding_indicator)1</th><td> 0.90595</td><td>0.00000 </td></tr>\n",
       "\t<tr><th scope=row>GPA_trend</th><td> 0.96623</td><td>0.00023 </td></tr>\n",
       "\t<tr><th scope=row>Average.Precol.GPA</th><td> 0.38090</td><td>0.01123 </td></tr>\n",
       "\t<tr><th scope=row>factor(is_ha)1:GRE.Combined.General.Verbal.Score</th><td>-0.01340</td><td>0.02373 </td></tr>\n",
       "</tbody>\n",
       "</table>\n"
      ],
      "text/latex": [
       "\\begin{tabular}{r|ll}\n",
       "  & Estimate & Pr(>\\textbar{}z\\textbar{})\\\\\n",
       "\\hline\n",
       "\ts\\_start\\_year & -0.75096 & 0.00000 \\\\\n",
       "\tfactor(funding\\_indicator)1 &  0.90595 & 0.00000 \\\\\n",
       "\tGPA\\_trend &  0.96623 & 0.00023 \\\\\n",
       "\tAverage.Precol.GPA &  0.38090 & 0.01123 \\\\\n",
       "\tfactor(is\\_ha)1:GRE.Combined.General.Verbal.Score & -0.01340 & 0.02373 \\\\\n",
       "\\end{tabular}\n"
      ],
      "text/markdown": [
       "\n",
       "| <!--/--> | Estimate | Pr(>|z|) |\n",
       "|---|---|---|\n",
       "| s_start_year | -0.75096 | 0.00000  |\n",
       "| factor(funding_indicator)1 |  0.90595 | 0.00000  |\n",
       "| GPA_trend |  0.96623 | 0.00023  |\n",
       "| Average.Precol.GPA |  0.38090 | 0.01123  |\n",
       "| factor(is_ha)1:GRE.Combined.General.Verbal.Score | -0.01340 | 0.02373  |\n",
       "\n"
      ],
      "text/plain": [
       "                                                 Estimate Pr(>|z|)\n",
       "s_start_year                                     -0.75096 0.00000 \n",
       "factor(funding_indicator)1                        0.90595 0.00000 \n",
       "GPA_trend                                         0.96623 0.00023 \n",
       "Average.Precol.GPA                                0.38090 0.01123 \n",
       "factor(is_ha)1:GRE.Combined.General.Verbal.Score -0.01340 0.02373 "
      ]
     },
     "metadata": {},
     "output_type": "display_data"
    }
   ],
   "source": [
    "(a = round(summary(log_mod_total_bic)$coeff[which(summary(log_mod_total_bic)$coef[,4] <= .05),c(1,4)],5))"
   ]
  },
  {
   "cell_type": "code",
   "execution_count": 226,
   "metadata": {},
   "outputs": [
    {
     "data": {
      "text/html": [
       "<dl class=dl-horizontal>\n",
       "\t<dt>s_start_year</dt>\n",
       "\t\t<dd>0.471913298447254</dd>\n",
       "\t<dt>factor(funding_indicator)1</dt>\n",
       "\t\t<dd>2.47428137419697</dd>\n",
       "\t<dt>GPA_trend</dt>\n",
       "\t\t<dd>2.62801813162698</dd>\n",
       "\t<dt>Average.Precol.GPA</dt>\n",
       "\t\t<dd>1.46360123796768</dd>\n",
       "\t<dt>factor(is_ha)1:GRE.Combined.General.Verbal.Score</dt>\n",
       "\t\t<dd>0.986689380322482</dd>\n",
       "</dl>\n"
      ],
      "text/latex": [
       "\\begin{description*}\n",
       "\\item[s\\textbackslash{}\\_start\\textbackslash{}\\_year] 0.471913298447254\n",
       "\\item[factor(funding\\textbackslash{}\\_indicator)1] 2.47428137419697\n",
       "\\item[GPA\\textbackslash{}\\_trend] 2.62801813162698\n",
       "\\item[Average.Precol.GPA] 1.46360123796768\n",
       "\\item[factor(is\\textbackslash{}\\_ha)1:GRE.Combined.General.Verbal.Score] 0.986689380322482\n",
       "\\end{description*}\n"
      ],
      "text/markdown": [
       "s_start_year\n",
       ":   0.471913298447254factor(funding_indicator)1\n",
       ":   2.47428137419697GPA_trend\n",
       ":   2.62801813162698Average.Precol.GPA\n",
       ":   1.46360123796768factor(is_ha)1:GRE.Combined.General.Verbal.Score\n",
       ":   0.986689380322482\n",
       "\n"
      ],
      "text/plain": [
       "                                    s_start_year \n",
       "                                       0.4719133 \n",
       "                      factor(funding_indicator)1 \n",
       "                                       2.4742814 \n",
       "                                       GPA_trend \n",
       "                                       2.6280181 \n",
       "                              Average.Precol.GPA \n",
       "                                       1.4636012 \n",
       "factor(is_ha)1:GRE.Combined.General.Verbal.Score \n",
       "                                       0.9866894 "
      ]
     },
     "metadata": {},
     "output_type": "display_data"
    }
   ],
   "source": [
    "exp(a[,1])"
   ]
  },
  {
   "cell_type": "markdown",
   "metadata": {},
   "source": [
    "<b>After analysis the interaction term:"
   ]
  },
  {
   "cell_type": "markdown",
   "metadata": {},
   "source": [
    "<b> Logistic regression model:"
   ]
  },
  {
   "cell_type": "code",
   "execution_count": 114,
   "metadata": {},
   "outputs": [],
   "source": [
    "# df <- within(df, s_College <- relevel(s_College, ref = \"GD Harpur\"))"
   ]
  },
  {
   "cell_type": "code",
   "execution_count": 115,
   "metadata": {},
   "outputs": [],
   "source": [
    "# log_mod_total = glm(Y~factor(funding_indicator)+factor(s_Citizenship)+\n",
    "#                 avs_net_cost+s_SAPC1+s_SAPC3+GPA_trend+s_start_year+factor(s_College)+avs_net_cost:factor(s_College)+\n",
    "#                 factor(s_College):factor(s_Citizenship)+factor(s_College):s_SAPC1+factor(s_College):s_SAPC3+\n",
    "#                 factor(s_College):factor(funding_indicator)+factor(s_College):GPA_trend+s_start_year:factor(s_College),\n",
    "#                 data=df,family=\"binomial\")\n",
    "# summary(log_mod_total)"
   ]
  },
  {
   "cell_type": "markdown",
   "metadata": {},
   "source": [
    "<b> Significant Variables of logistic regression model:"
   ]
  },
  {
   "cell_type": "code",
   "execution_count": 116,
   "metadata": {
    "scrolled": true
   },
   "outputs": [],
   "source": [
    "# round(summary(log_mod_total)$coeff[which(summary(log_mod_total)$coef[,4] <= .05),c(1,4)],5)"
   ]
  },
  {
   "cell_type": "markdown",
   "metadata": {},
   "source": [
    "<b> Both AIC:"
   ]
  },
  {
   "cell_type": "code",
   "execution_count": 117,
   "metadata": {},
   "outputs": [],
   "source": [
    "# log_mod_total_aic= stepAIC(log_mod_total, direction = 'both')"
   ]
  },
  {
   "cell_type": "markdown",
   "metadata": {},
   "source": [
    "<b> Significant variables both AIC selects:"
   ]
  },
  {
   "cell_type": "code",
   "execution_count": 118,
   "metadata": {},
   "outputs": [],
   "source": [
    "# round(summary(log_mod_total_aic)$coeff[which(summary(log_mod_total_aic)$coef[,4] <= .05),c(1,4)],5)"
   ]
  },
  {
   "cell_type": "markdown",
   "metadata": {},
   "source": [
    "<b>Both BIC"
   ]
  },
  {
   "cell_type": "code",
   "execution_count": 119,
   "metadata": {},
   "outputs": [],
   "source": [
    "# log_mod_total_bic = stepAIC(log_mod_total, direction = \"both\", k = log(e_n))"
   ]
  },
  {
   "cell_type": "markdown",
   "metadata": {},
   "source": [
    "<b>Significant variables both BIC selects:"
   ]
  },
  {
   "cell_type": "code",
   "execution_count": 120,
   "metadata": {},
   "outputs": [],
   "source": [
    "# round(summary(log_mod_total_bic)$coeff[which(summary(log_mod_total_bic)$coef[,4] <= .05),c(1,4)],5)"
   ]
  },
  {
   "cell_type": "markdown",
   "metadata": {},
   "source": [
    "# Prediction"
   ]
  },
  {
   "cell_type": "code",
   "execution_count": 212,
   "metadata": {},
   "outputs": [],
   "source": [
    "df = df_save"
   ]
  },
  {
   "cell_type": "code",
   "execution_count": 213,
   "metadata": {},
   "outputs": [],
   "source": [
    "column_to_keep_name = c('Y','Gender','Average_GPA','s_start_year','s_Citizenship','avs_net_cost','Gender','s_Average.Precol.GPA','s_GRE.Combined.General.Write.Score','s_GRE.Combined.Quantitative.Score','s_GRE.Combined.General.Verbal.Score','College','funding_indicator','Citizenship','gap_indicator','GPA_trend')\n",
    "column_to_keep = NULL\n",
    "for (i in 1:length(column_to_keep_name)){\n",
    "    column_to_keep = c(column_to_keep,which(colnames(df)==column_to_keep_name[i]))\n",
    "}"
   ]
  },
  {
   "cell_type": "code",
   "execution_count": 214,
   "metadata": {},
   "outputs": [
    {
     "data": {
      "text/html": [
       "<ol class=list-inline>\n",
       "\t<li>'Y'</li>\n",
       "\t<li>'Gender'</li>\n",
       "\t<li>'Average_GPA'</li>\n",
       "\t<li>'s_start_year'</li>\n",
       "\t<li>'s_Citizenship'</li>\n",
       "\t<li>'avs_net_cost'</li>\n",
       "\t<li>'Gender.1'</li>\n",
       "\t<li>'s_Average.Precol.GPA'</li>\n",
       "\t<li>'College'</li>\n",
       "\t<li>'funding_indicator'</li>\n",
       "\t<li>'Citizenship'</li>\n",
       "\t<li>'gap_indicator'</li>\n",
       "\t<li>'GPA_trend'</li>\n",
       "</ol>\n"
      ],
      "text/latex": [
       "\\begin{enumerate*}\n",
       "\\item 'Y'\n",
       "\\item 'Gender'\n",
       "\\item 'Average\\_GPA'\n",
       "\\item 's\\_start\\_year'\n",
       "\\item 's\\_Citizenship'\n",
       "\\item 'avs\\_net\\_cost'\n",
       "\\item 'Gender.1'\n",
       "\\item 's\\_Average.Precol.GPA'\n",
       "\\item 'College'\n",
       "\\item 'funding\\_indicator'\n",
       "\\item 'Citizenship'\n",
       "\\item 'gap\\_indicator'\n",
       "\\item 'GPA\\_trend'\n",
       "\\end{enumerate*}\n"
      ],
      "text/markdown": [
       "1. 'Y'\n",
       "2. 'Gender'\n",
       "3. 'Average_GPA'\n",
       "4. 's_start_year'\n",
       "5. 's_Citizenship'\n",
       "6. 'avs_net_cost'\n",
       "7. 'Gender.1'\n",
       "8. 's_Average.Precol.GPA'\n",
       "9. 'College'\n",
       "10. 'funding_indicator'\n",
       "11. 'Citizenship'\n",
       "12. 'gap_indicator'\n",
       "13. 'GPA_trend'\n",
       "\n",
       "\n"
      ],
      "text/plain": [
       " [1] \"Y\"                    \"Gender\"               \"Average_GPA\"         \n",
       " [4] \"s_start_year\"         \"s_Citizenship\"        \"avs_net_cost\"        \n",
       " [7] \"Gender.1\"             \"s_Average.Precol.GPA\" \"College\"             \n",
       "[10] \"funding_indicator\"    \"Citizenship\"          \"gap_indicator\"       \n",
       "[13] \"GPA_trend\"           "
      ]
     },
     "metadata": {},
     "output_type": "display_data"
    }
   ],
   "source": [
    "df = df[,column_to_keep]\n",
    "colnames(df)"
   ]
  },
  {
   "cell_type": "code",
   "execution_count": 215,
   "metadata": {},
   "outputs": [
    {
     "data": {
      "text/html": [
       "<ol class=list-inline>\n",
       "\t<li>1235</li>\n",
       "\t<li>13</li>\n",
       "</ol>\n"
      ],
      "text/latex": [
       "\\begin{enumerate*}\n",
       "\\item 1235\n",
       "\\item 13\n",
       "\\end{enumerate*}\n"
      ],
      "text/markdown": [
       "1. 1235\n",
       "2. 13\n",
       "\n",
       "\n"
      ],
      "text/plain": [
       "[1] 1235   13"
      ]
     },
     "metadata": {},
     "output_type": "display_data"
    },
    {
     "data": {
      "text/html": [
       "<ol class=list-inline>\n",
       "\t<li>617</li>\n",
       "\t<li>13</li>\n",
       "</ol>\n"
      ],
      "text/latex": [
       "\\begin{enumerate*}\n",
       "\\item 617\n",
       "\\item 13\n",
       "\\end{enumerate*}\n"
      ],
      "text/markdown": [
       "1. 617\n",
       "2. 13\n",
       "\n",
       "\n"
      ],
      "text/plain": [
       "[1] 617  13"
      ]
     },
     "metadata": {},
     "output_type": "display_data"
    }
   ],
   "source": [
    "set.seed(123)\n",
    "s1 = sample(nrow(df),0.5*nrow(df))\n",
    "train = df[s1,]\n",
    "non_train = df[-s1,]\n",
    "s2 = sample(nrow(non_train),0.5*nrow(non_train))\n",
    "test = non_train[s2,]\n",
    "vld = non_train[-s2,]\n",
    "\n",
    "train_y=train[,1]\n",
    "train_x=train[,-1]\n",
    "test_y=test[,1]\n",
    "test_x=test[,-1]\n",
    "vld_y=vld[,1]\n",
    "vld_x=vld[,-1]\n",
    "dim(train)\n",
    "dim(test)"
   ]
  },
  {
   "cell_type": "markdown",
   "metadata": {},
   "source": [
    "## Random Forest"
   ]
  },
  {
   "cell_type": "code",
   "execution_count": 216,
   "metadata": {
    "scrolled": false
   },
   "outputs": [
    {
     "name": "stdout",
     "output_type": "stream",
     "text": [
      "\n",
      "Call:\n",
      " randomForest(formula = as.factor(train$Y) ~ ., data = train,      mtry = i, ntree = 1000) \n",
      "               Type of random forest: classification\n",
      "                     Number of trees: 1000\n",
      "No. of variables tried at each split: 1\n",
      "\n",
      "        OOB estimate of  error rate: 31.34%\n",
      "Confusion matrix:\n",
      "   0   1 class.error\n",
      "0 81 381 0.824675325\n",
      "1  6 767 0.007761966\n",
      "\n",
      "Call:\n",
      " randomForest(formula = as.factor(train$Y) ~ ., data = train,      mtry = i, ntree = 1000) \n",
      "               Type of random forest: classification\n",
      "                     Number of trees: 1000\n",
      "No. of variables tried at each split: 2\n",
      "\n",
      "        OOB estimate of  error rate: 22.91%\n",
      "Confusion matrix:\n",
      "    0   1 class.error\n",
      "0 238 224   0.4848485\n",
      "1  59 714   0.0763260\n",
      "\n",
      "Call:\n",
      " randomForest(formula = as.factor(train$Y) ~ ., data = train,      mtry = i, ntree = 1000) \n",
      "               Type of random forest: classification\n",
      "                     Number of trees: 1000\n",
      "No. of variables tried at each split: 3\n",
      "\n",
      "        OOB estimate of  error rate: 23.16%\n",
      "Confusion matrix:\n",
      "    0   1 class.error\n",
      "0 249 213  0.46103896\n",
      "1  73 700  0.09443726\n",
      "\n",
      "Call:\n",
      " randomForest(formula = as.factor(train$Y) ~ ., data = train,      mtry = i, ntree = 1000) \n",
      "               Type of random forest: classification\n",
      "                     Number of trees: 1000\n",
      "No. of variables tried at each split: 4\n",
      "\n",
      "        OOB estimate of  error rate: 23.64%\n",
      "Confusion matrix:\n",
      "    0   1 class.error\n",
      "0 252 210   0.4545455\n",
      "1  82 691   0.1060802\n",
      "\n",
      "Call:\n",
      " randomForest(formula = as.factor(train$Y) ~ ., data = train,      mtry = i, ntree = 1000) \n",
      "               Type of random forest: classification\n",
      "                     Number of trees: 1000\n",
      "No. of variables tried at each split: 5\n",
      "\n",
      "        OOB estimate of  error rate: 23.56%\n",
      "Confusion matrix:\n",
      "    0   1 class.error\n",
      "0 252 210   0.4545455\n",
      "1  81 692   0.1047865\n",
      "\n",
      "Call:\n",
      " randomForest(formula = as.factor(train$Y) ~ ., data = train,      mtry = i, ntree = 1000) \n",
      "               Type of random forest: classification\n",
      "                     Number of trees: 1000\n",
      "No. of variables tried at each split: 6\n",
      "\n",
      "        OOB estimate of  error rate: 23.81%\n",
      "Confusion matrix:\n",
      "    0   1 class.error\n",
      "0 251 211   0.4567100\n",
      "1  83 690   0.1073739\n",
      "\n",
      "Call:\n",
      " randomForest(formula = as.factor(train$Y) ~ ., data = train,      mtry = i, ntree = 1000) \n",
      "               Type of random forest: classification\n",
      "                     Number of trees: 1000\n",
      "No. of variables tried at each split: 7\n",
      "\n",
      "        OOB estimate of  error rate: 23.32%\n",
      "Confusion matrix:\n",
      "    0   1 class.error\n",
      "0 256 206   0.4458874\n",
      "1  82 691   0.1060802\n",
      "\n",
      "Call:\n",
      " randomForest(formula = as.factor(train$Y) ~ ., data = train,      mtry = i, ntree = 1000) \n",
      "               Type of random forest: classification\n",
      "                     Number of trees: 1000\n",
      "No. of variables tried at each split: 8\n",
      "\n",
      "        OOB estimate of  error rate: 23.72%\n",
      "Confusion matrix:\n",
      "    0   1 class.error\n",
      "0 256 206   0.4458874\n",
      "1  87 686   0.1125485\n",
      "\n",
      "Call:\n",
      " randomForest(formula = as.factor(train$Y) ~ ., data = train,      mtry = i, ntree = 1000) \n",
      "               Type of random forest: classification\n",
      "                     Number of trees: 1000\n",
      "No. of variables tried at each split: 9\n",
      "\n",
      "        OOB estimate of  error rate: 23.81%\n",
      "Confusion matrix:\n",
      "    0   1 class.error\n",
      "0 260 202   0.4372294\n",
      "1  92 681   0.1190168\n",
      "\n",
      "Call:\n",
      " randomForest(formula = as.factor(train$Y) ~ ., data = train,      mtry = i, ntree = 1000) \n",
      "               Type of random forest: classification\n",
      "                     Number of trees: 1000\n",
      "No. of variables tried at each split: 10\n",
      "\n",
      "        OOB estimate of  error rate: 23.81%\n",
      "Confusion matrix:\n",
      "    0   1 class.error\n",
      "0 259 203   0.4393939\n",
      "1  91 682   0.1177232\n",
      "\n",
      "Call:\n",
      " randomForest(formula = as.factor(train$Y) ~ ., data = train,      mtry = i, ntree = 1000) \n",
      "               Type of random forest: classification\n",
      "                     Number of trees: 1000\n",
      "No. of variables tried at each split: 11\n",
      "\n",
      "        OOB estimate of  error rate: 23.72%\n",
      "Confusion matrix:\n",
      "    0   1 class.error\n",
      "0 260 202   0.4372294\n",
      "1  91 682   0.1177232\n",
      "\n",
      "Call:\n",
      " randomForest(formula = as.factor(train$Y) ~ ., data = train,      mtry = i, ntree = 1000) \n",
      "               Type of random forest: classification\n",
      "                     Number of trees: 1000\n",
      "No. of variables tried at each split: 12\n",
      "\n",
      "        OOB estimate of  error rate: 24.05%\n",
      "Confusion matrix:\n",
      "    0   1 class.error\n",
      "0 256 206   0.4458874\n",
      "1  91 682   0.1177232\n"
     ]
    }
   ],
   "source": [
    "library(\"randomForest\")\n",
    "n<-length(names(train)) \n",
    "rate=1\n",
    "for(i in 1:(n-1)){\n",
    "  set.seed(1234)\n",
    "  rf_train<-randomForest(as.factor(train$Y)~.,data=train,mtry=i,ntree=1000)\n",
    "  rate[i]<-mean(rf_train$err.rate)  \n",
    "  print(rf_train)    \n",
    "}"
   ]
  },
  {
   "cell_type": "code",
   "execution_count": 217,
   "metadata": {
    "scrolled": false
   },
   "outputs": [
    {
     "data": {
      "text/html": [
       "<ol class=list-inline>\n",
       "\t<li>0.371324067421155</li>\n",
       "\t<li>0.267592067261721</li>\n",
       "\t<li>0.267219141169845</li>\n",
       "\t<li>0.267148608356147</li>\n",
       "\t<li>0.268345060323847</li>\n",
       "\t<li>0.26998591422064</li>\n",
       "\t<li>0.270781066322134</li>\n",
       "\t<li>0.267442617614497</li>\n",
       "\t<li>0.269117294105553</li>\n",
       "\t<li>0.26959158541787</li>\n",
       "\t<li>0.269980842530642</li>\n",
       "\t<li>0.270080382337023</li>\n",
       "</ol>\n"
      ],
      "text/latex": [
       "\\begin{enumerate*}\n",
       "\\item 0.371324067421155\n",
       "\\item 0.267592067261721\n",
       "\\item 0.267219141169845\n",
       "\\item 0.267148608356147\n",
       "\\item 0.268345060323847\n",
       "\\item 0.26998591422064\n",
       "\\item 0.270781066322134\n",
       "\\item 0.267442617614497\n",
       "\\item 0.269117294105553\n",
       "\\item 0.26959158541787\n",
       "\\item 0.269980842530642\n",
       "\\item 0.270080382337023\n",
       "\\end{enumerate*}\n"
      ],
      "text/markdown": [
       "1. 0.371324067421155\n",
       "2. 0.267592067261721\n",
       "3. 0.267219141169845\n",
       "4. 0.267148608356147\n",
       "5. 0.268345060323847\n",
       "6. 0.26998591422064\n",
       "7. 0.270781066322134\n",
       "8. 0.267442617614497\n",
       "9. 0.269117294105553\n",
       "10. 0.26959158541787\n",
       "11. 0.269980842530642\n",
       "12. 0.270080382337023\n",
       "\n",
       "\n"
      ],
      "text/plain": [
       " [1] 0.3713241 0.2675921 0.2672191 0.2671486 0.2683451 0.2699859 0.2707811\n",
       " [8] 0.2674426 0.2691173 0.2695916 0.2699808 0.2700804"
      ]
     },
     "metadata": {},
     "output_type": "display_data"
    },
    {
     "data": {
      "image/png": "[encoded data removed]",
      "text/plain": [
       "plot without title"
      ]
     },
     "metadata": {},
     "output_type": "display_data"
    }
   ],
   "source": [
    "rate  \n",
    "plot(rate)"
   ]
  },
  {
   "cell_type": "code",
   "execution_count": 218,
   "metadata": {
    "scrolled": false
   },
   "outputs": [
    {
     "data": {
      "image/png": "[encoded data removed]",
      "text/plain": [
       "Plot with title \"rf_train\""
      ]
     },
     "metadata": {},
     "output_type": "display_data"
    }
   ],
   "source": [
    "rf_train<-randomForest(as.factor(train$Y)~.,data=train,mtry=6)\n",
    "plot(rf_train)    \n",
    "legend(800,0.02,\"Y=0\",cex=0.9,bty=\"n\")    \n",
    "legend(800,0.0245,\"total\",cex=0.09,bty=\"n\")   "
   ]
  },
  {
   "cell_type": "code",
   "execution_count": 142,
   "metadata": {
    "scrolled": true
   },
   "outputs": [
    {
     "data": {
      "text/plain": [
       "\n",
       "Call:\n",
       " randomForest(formula = as.factor(train$Y) ~ ., data = as.data.frame(train),      mtry = 6, importance = TRUE) \n",
       "               Type of random forest: classification\n",
       "                     Number of trees: 500\n",
       "No. of variables tried at each split: 6\n",
       "\n",
       "        OOB estimate of  error rate: 23.97%\n",
       "Confusion matrix:\n",
       "    0   1 class.error\n",
       "0 244 218   0.4718615\n",
       "1  78 695   0.1009056"
      ]
     },
     "metadata": {},
     "output_type": "display_data"
    }
   ],
   "source": [
    "set.seed(100)\n",
    "rf_train<-randomForest(as.factor(train$Y)~.,data=as.data.frame(train),mtry = 6,importance=TRUE)\n",
    "rf_train"
   ]
  },
  {
   "cell_type": "code",
   "execution_count": 143,
   "metadata": {},
   "outputs": [
    {
     "data": {
      "text/html": [
       "0.7601"
      ],
      "text/latex": [
       "0.7601"
      ],
      "text/markdown": [
       "0.7601"
      ],
      "text/plain": [
       "[1] 0.7601"
      ]
     },
     "metadata": {},
     "output_type": "display_data"
    }
   ],
   "source": [
    "rf_pred = predict(rf_train, newdata = test)\n",
    "(rf_acc = round(sum(rf_pred == test$Y)/length(rf_pred),4))"
   ]
  },
  {
   "cell_type": "code",
   "execution_count": 219,
   "metadata": {},
   "outputs": [
    {
     "data": {
      "text/html": [
       "<table>\n",
       "<thead><tr><th></th><th scope=col>MeanDecreaseGini</th></tr></thead>\n",
       "<tbody>\n",
       "\t<tr><th scope=row>Gender</th><td>  7.296652</td></tr>\n",
       "\t<tr><th scope=row>Average_GPA</th><td>120.375164</td></tr>\n",
       "\t<tr><th scope=row>s_start_year</th><td>104.782834</td></tr>\n",
       "\t<tr><th scope=row>s_Citizenship</th><td>  8.620803</td></tr>\n",
       "\t<tr><th scope=row>avs_net_cost</th><td>102.301805</td></tr>\n",
       "\t<tr><th scope=row>Gender.1</th><td>  7.294950</td></tr>\n",
       "\t<tr><th scope=row>s_Average.Precol.GPA</th><td> 54.221848</td></tr>\n",
       "\t<tr><th scope=row>College</th><td> 26.482746</td></tr>\n",
       "\t<tr><th scope=row>funding_indicator</th><td> 12.515407</td></tr>\n",
       "\t<tr><th scope=row>Citizenship</th><td> 54.840312</td></tr>\n",
       "\t<tr><th scope=row>gap_indicator</th><td>  8.430289</td></tr>\n",
       "\t<tr><th scope=row>GPA_trend</th><td> 69.120967</td></tr>\n",
       "</tbody>\n",
       "</table>\n"
      ],
      "text/latex": [
       "\\begin{tabular}{r|l}\n",
       "  & MeanDecreaseGini\\\\\n",
       "\\hline\n",
       "\tGender &   7.296652\\\\\n",
       "\tAverage\\_GPA & 120.375164\\\\\n",
       "\ts\\_start\\_year & 104.782834\\\\\n",
       "\ts\\_Citizenship &   8.620803\\\\\n",
       "\tavs\\_net\\_cost & 102.301805\\\\\n",
       "\tGender.1 &   7.294950\\\\\n",
       "\ts\\_Average.Precol.GPA &  54.221848\\\\\n",
       "\tCollege &  26.482746\\\\\n",
       "\tfunding\\_indicator &  12.515407\\\\\n",
       "\tCitizenship &  54.840312\\\\\n",
       "\tgap\\_indicator &   8.430289\\\\\n",
       "\tGPA\\_trend &  69.120967\\\\\n",
       "\\end{tabular}\n"
      ],
      "text/markdown": [
       "\n",
       "| <!--/--> | MeanDecreaseGini |\n",
       "|---|---|\n",
       "| Gender |   7.296652 |\n",
       "| Average_GPA | 120.375164 |\n",
       "| s_start_year | 104.782834 |\n",
       "| s_Citizenship |   8.620803 |\n",
       "| avs_net_cost | 102.301805 |\n",
       "| Gender.1 |   7.294950 |\n",
       "| s_Average.Precol.GPA |  54.221848 |\n",
       "| College |  26.482746 |\n",
       "| funding_indicator |  12.515407 |\n",
       "| Citizenship |  54.840312 |\n",
       "| gap_indicator |   8.430289 |\n",
       "| GPA_trend |  69.120967 |\n",
       "\n"
      ],
      "text/plain": [
       "                     MeanDecreaseGini\n",
       "Gender                 7.296652      \n",
       "Average_GPA          120.375164      \n",
       "s_start_year         104.782834      \n",
       "s_Citizenship          8.620803      \n",
       "avs_net_cost         102.301805      \n",
       "Gender.1               7.294950      \n",
       "s_Average.Precol.GPA  54.221848      \n",
       "College               26.482746      \n",
       "funding_indicator     12.515407      \n",
       "Citizenship           54.840312      \n",
       "gap_indicator          8.430289      \n",
       "GPA_trend             69.120967      "
      ]
     },
     "metadata": {},
     "output_type": "display_data"
    },
    {
     "data": {
      "image/png": "[encoded data removed]",
      "text/plain": [
       "Plot with title \"rf_train\""
      ]
     },
     "metadata": {},
     "output_type": "display_data"
    }
   ],
   "source": [
    "importance(rf_train)\n",
    "varImpPlot(rf_train)"
   ]
  },
  {
   "cell_type": "markdown",
   "metadata": {},
   "source": [
    "## LDA"
   ]
  },
  {
   "cell_type": "code",
   "execution_count": 122,
   "metadata": {},
   "outputs": [
    {
     "name": "stderr",
     "output_type": "stream",
     "text": [
      "Warning message in lda.default(x, grouping, ...):\n",
      "\"variables are collinear\""
     ]
    }
   ],
   "source": [
    "mod_lda = lda(Y~., data = as.data.frame(train))\n",
    "lda_pred = predict(mod_lda, newdata = test)"
   ]
  },
  {
   "cell_type": "code",
   "execution_count": 123,
   "metadata": {},
   "outputs": [
    {
     "data": {
      "text/html": [
       "0.7164"
      ],
      "text/latex": [
       "0.7164"
      ],
      "text/markdown": [
       "0.7164"
      ],
      "text/plain": [
       "[1] 0.7164"
      ]
     },
     "metadata": {},
     "output_type": "display_data"
    }
   ],
   "source": [
    "(lda_acc = round(sum(lda_pred$class == test$Y)/length(lda_pred$class),4))"
   ]
  },
  {
   "cell_type": "markdown",
   "metadata": {},
   "source": [
    "<b> Summary"
   ]
  },
  {
   "cell_type": "code",
   "execution_count": 124,
   "metadata": {},
   "outputs": [
    {
     "data": {
      "text/html": [
       "<table>\n",
       "<thead><tr><th></th><th scope=col>LD1</th></tr></thead>\n",
       "<tbody>\n",
       "\t<tr><th scope=row>GenderMale</th><td> 0.15861060</td></tr>\n",
       "\t<tr><th scope=row>Average_GPA</th><td> 0.61905577</td></tr>\n",
       "\t<tr><th scope=row>s_start_year</th><td>-0.75898310</td></tr>\n",
       "\t<tr><th scope=row>s_CitizenshipAsia</th><td>-0.29331910</td></tr>\n",
       "\t<tr><th scope=row>s_CitizenshipChina</th><td>-0.39924550</td></tr>\n",
       "\t<tr><th scope=row>s_CitizenshipWhite</th><td>-0.83318958</td></tr>\n",
       "\t<tr><th scope=row>avs_net_cost</th><td> 0.10807050</td></tr>\n",
       "\t<tr><th scope=row>Gender.1Male</th><td> 0.15861060</td></tr>\n",
       "\t<tr><th scope=row>s_Average.Precol.GPA</th><td> 0.06589271</td></tr>\n",
       "\t<tr><th scope=row>s_GRE.Combined.General.Write.Score</th><td> 0.05595929</td></tr>\n",
       "\t<tr><th scope=row>s_GRE.Combined.Quantitative.Score</th><td> 0.03193554</td></tr>\n",
       "\t<tr><th scope=row>s_GRE.Combined.General.Verbal.Score</th><td>-0.07470856</td></tr>\n",
       "\t<tr><th scope=row>CollegeGD Education</th><td> 0.14946947</td></tr>\n",
       "\t<tr><th scope=row>CollegeGD Grad School</th><td> 2.55836023</td></tr>\n",
       "\t<tr><th scope=row>CollegeGD Harpur</th><td>-0.10082299</td></tr>\n",
       "\t<tr><th scope=row>CollegeGD Management</th><td> 0.29561667</td></tr>\n",
       "\t<tr><th scope=row>CollegeGD Nursing</th><td> 0.94251734</td></tr>\n",
       "\t<tr><th scope=row>CollegeGD Watson</th><td> 0.42606402</td></tr>\n",
       "\t<tr><th scope=row>funding_indicator</th><td> 0.82788954</td></tr>\n",
       "\t<tr><th scope=row>CitizenshipAsia</th><td>-0.29331910</td></tr>\n",
       "\t<tr><th scope=row>CitizenshipAsian</th><td>-0.70932701</td></tr>\n",
       "\t<tr><th scope=row>CitizenshipBlack or African American</th><td> 0.35784790</td></tr>\n",
       "\t<tr><th scope=row>CitizenshipChina</th><td>-0.39924550</td></tr>\n",
       "\t<tr><th scope=row>CitizenshipEurope</th><td>-0.02879569</td></tr>\n",
       "\t<tr><th scope=row>CitizenshipHispanic or Latino</th><td>-0.70459694</td></tr>\n",
       "\t<tr><th scope=row>CitizenshipIndia</th><td>-0.25234500</td></tr>\n",
       "\t<tr><th scope=row>CitizenshipOther International Students</th><td>-0.09696372</td></tr>\n",
       "\t<tr><th scope=row>CitizenshipUnknown</th><td>-0.34529668</td></tr>\n",
       "\t<tr><th scope=row>CitizenshipWhite</th><td>-0.37419243</td></tr>\n",
       "\t<tr><th scope=row>gap_indicator</th><td> 0.38233033</td></tr>\n",
       "\t<tr><th scope=row>GPA_trend</th><td> 1.54849189</td></tr>\n",
       "</tbody>\n",
       "</table>\n"
      ],
      "text/latex": [
       "\\begin{tabular}{r|l}\n",
       "  & LD1\\\\\n",
       "\\hline\n",
       "\tGenderMale &  0.15861060\\\\\n",
       "\tAverage\\_GPA &  0.61905577\\\\\n",
       "\ts\\_start\\_year & -0.75898310\\\\\n",
       "\ts\\_CitizenshipAsia & -0.29331910\\\\\n",
       "\ts\\_CitizenshipChina & -0.39924550\\\\\n",
       "\ts\\_CitizenshipWhite & -0.83318958\\\\\n",
       "\tavs\\_net\\_cost &  0.10807050\\\\\n",
       "\tGender.1Male &  0.15861060\\\\\n",
       "\ts\\_Average.Precol.GPA &  0.06589271\\\\\n",
       "\ts\\_GRE.Combined.General.Write.Score &  0.05595929\\\\\n",
       "\ts\\_GRE.Combined.Quantitative.Score &  0.03193554\\\\\n",
       "\ts\\_GRE.Combined.General.Verbal.Score & -0.07470856\\\\\n",
       "\tCollegeGD Education &  0.14946947\\\\\n",
       "\tCollegeGD Grad School &  2.55836023\\\\\n",
       "\tCollegeGD Harpur & -0.10082299\\\\\n",
       "\tCollegeGD Management &  0.29561667\\\\\n",
       "\tCollegeGD Nursing &  0.94251734\\\\\n",
       "\tCollegeGD Watson &  0.42606402\\\\\n",
       "\tfunding\\_indicator &  0.82788954\\\\\n",
       "\tCitizenshipAsia & -0.29331910\\\\\n",
       "\tCitizenshipAsian & -0.70932701\\\\\n",
       "\tCitizenshipBlack or African American &  0.35784790\\\\\n",
       "\tCitizenshipChina & -0.39924550\\\\\n",
       "\tCitizenshipEurope & -0.02879569\\\\\n",
       "\tCitizenshipHispanic or Latino & -0.70459694\\\\\n",
       "\tCitizenshipIndia & -0.25234500\\\\\n",
       "\tCitizenshipOther International Students & -0.09696372\\\\\n",
       "\tCitizenshipUnknown & -0.34529668\\\\\n",
       "\tCitizenshipWhite & -0.37419243\\\\\n",
       "\tgap\\_indicator &  0.38233033\\\\\n",
       "\tGPA\\_trend &  1.54849189\\\\\n",
       "\\end{tabular}\n"
      ],
      "text/markdown": [
       "\n",
       "| <!--/--> | LD1 |\n",
       "|---|---|\n",
       "| GenderMale |  0.15861060 |\n",
       "| Average_GPA |  0.61905577 |\n",
       "| s_start_year | -0.75898310 |\n",
       "| s_CitizenshipAsia | -0.29331910 |\n",
       "| s_CitizenshipChina | -0.39924550 |\n",
       "| s_CitizenshipWhite | -0.83318958 |\n",
       "| avs_net_cost |  0.10807050 |\n",
       "| Gender.1Male |  0.15861060 |\n",
       "| s_Average.Precol.GPA |  0.06589271 |\n",
       "| s_GRE.Combined.General.Write.Score |  0.05595929 |\n",
       "| s_GRE.Combined.Quantitative.Score |  0.03193554 |\n",
       "| s_GRE.Combined.General.Verbal.Score | -0.07470856 |\n",
       "| CollegeGD Education |  0.14946947 |\n",
       "| CollegeGD Grad School |  2.55836023 |\n",
       "| CollegeGD Harpur | -0.10082299 |\n",
       "| CollegeGD Management |  0.29561667 |\n",
       "| CollegeGD Nursing |  0.94251734 |\n",
       "| CollegeGD Watson |  0.42606402 |\n",
       "| funding_indicator |  0.82788954 |\n",
       "| CitizenshipAsia | -0.29331910 |\n",
       "| CitizenshipAsian | -0.70932701 |\n",
       "| CitizenshipBlack or African American |  0.35784790 |\n",
       "| CitizenshipChina | -0.39924550 |\n",
       "| CitizenshipEurope | -0.02879569 |\n",
       "| CitizenshipHispanic or Latino | -0.70459694 |\n",
       "| CitizenshipIndia | -0.25234500 |\n",
       "| CitizenshipOther International Students | -0.09696372 |\n",
       "| CitizenshipUnknown | -0.34529668 |\n",
       "| CitizenshipWhite | -0.37419243 |\n",
       "| gap_indicator |  0.38233033 |\n",
       "| GPA_trend |  1.54849189 |\n",
       "\n"
      ],
      "text/plain": [
       "                                        LD1        \n",
       "GenderMale                               0.15861060\n",
       "Average_GPA                              0.61905577\n",
       "s_start_year                            -0.75898310\n",
       "s_CitizenshipAsia                       -0.29331910\n",
       "s_CitizenshipChina                      -0.39924550\n",
       "s_CitizenshipWhite                      -0.83318958\n",
       "avs_net_cost                             0.10807050\n",
       "Gender.1Male                             0.15861060\n",
       "s_Average.Precol.GPA                     0.06589271\n",
       "s_GRE.Combined.General.Write.Score       0.05595929\n",
       "s_GRE.Combined.Quantitative.Score        0.03193554\n",
       "s_GRE.Combined.General.Verbal.Score     -0.07470856\n",
       "CollegeGD Education                      0.14946947\n",
       "CollegeGD Grad School                    2.55836023\n",
       "CollegeGD Harpur                        -0.10082299\n",
       "CollegeGD Management                     0.29561667\n",
       "CollegeGD Nursing                        0.94251734\n",
       "CollegeGD Watson                         0.42606402\n",
       "funding_indicator                        0.82788954\n",
       "CitizenshipAsia                         -0.29331910\n",
       "CitizenshipAsian                        -0.70932701\n",
       "CitizenshipBlack or African American     0.35784790\n",
       "CitizenshipChina                        -0.39924550\n",
       "CitizenshipEurope                       -0.02879569\n",
       "CitizenshipHispanic or Latino           -0.70459694\n",
       "CitizenshipIndia                        -0.25234500\n",
       "CitizenshipOther International Students -0.09696372\n",
       "CitizenshipUnknown                      -0.34529668\n",
       "CitizenshipWhite                        -0.37419243\n",
       "gap_indicator                            0.38233033\n",
       "GPA_trend                                1.54849189"
      ]
     },
     "metadata": {},
     "output_type": "display_data"
    }
   ],
   "source": [
    "mod_lda$scaling"
   ]
  },
  {
   "cell_type": "markdown",
   "metadata": {},
   "source": [
    "## Neural Network"
   ]
  },
  {
   "cell_type": "code",
   "execution_count": 125,
   "metadata": {},
   "outputs": [
    {
     "data": {
      "text/html": [
       "2"
      ],
      "text/latex": [
       "2"
      ],
      "text/markdown": [
       "2"
      ],
      "text/plain": [
       "[1] 2"
      ]
     },
     "metadata": {},
     "output_type": "display_data"
    }
   ],
   "source": [
    "nnet_vld = NULL\n",
    "for (i in seq(1,20,1)){\n",
    "    mod_nnet = nnet(Y~., data = train, size  = i,trace = FALSE, decay =.1, rang = 0, maxit = 250)\n",
    "    nn_pred = predict(mod_nnet, newdata = vld)\n",
    "    nn_pred = as.numeric(nn_pred>=.5)\n",
    "    nnet_vld = c(nnet_vld, sum(nn_pred == vld$Y)/length(nn_pred))\n",
    "}\n",
    "(tr_size = which.max(nnet_vld))"
   ]
  },
  {
   "cell_type": "code",
   "execution_count": 126,
   "metadata": {},
   "outputs": [],
   "source": [
    "mod_nnet = nnet(Y~., data = train, size  = tr_size,trace = FALSE, decay =.1, rang = 0, maxit = 250)\n",
    "nn_pred = as.numeric(predict(mod_nnet, newdata = test)>= .5)"
   ]
  },
  {
   "cell_type": "code",
   "execution_count": 127,
   "metadata": {},
   "outputs": [
    {
     "data": {
      "text/html": [
       "0.7229"
      ],
      "text/latex": [
       "0.7229"
      ],
      "text/markdown": [
       "0.7229"
      ],
      "text/plain": [
       "[1] 0.7229"
      ]
     },
     "metadata": {},
     "output_type": "display_data"
    }
   ],
   "source": [
    "(nnet_acc = round(sum(nn_pred == test$Y)/length(nn_pred),4))"
   ]
  },
  {
   "cell_type": "markdown",
   "metadata": {},
   "source": [
    "<b> Summary"
   ]
  },
  {
   "cell_type": "code",
   "execution_count": 128,
   "metadata": {},
   "outputs": [
    {
     "data": {
      "text/plain": [
       "a 31-2-1 network with 67 weights\n",
       "options were - decay=0.1\n",
       "  b->h1  i1->h1  i2->h1  i3->h1  i4->h1  i5->h1  i6->h1  i7->h1  i8->h1  i9->h1 \n",
       "  -3.40    0.01    1.62   -0.02   -0.37   -0.59   -1.30   -0.16    0.01   -0.06 \n",
       "i10->h1 i11->h1 i12->h1 i13->h1 i14->h1 i15->h1 i16->h1 i17->h1 i18->h1 i19->h1 \n",
       "  -0.23    0.40    0.20   -1.36    4.69   -1.38   -0.59   -0.88   -1.20    0.41 \n",
       "i20->h1 i21->h1 i22->h1 i23->h1 i24->h1 i25->h1 i26->h1 i27->h1 i28->h1 i29->h1 \n",
       "  -0.37   -0.49    0.23   -0.59    0.26   -0.37   -0.28    0.17   -0.54   -0.29 \n",
       "i30->h1 i31->h1 \n",
       "   0.04   -0.36 \n",
       "  b->h2  i1->h2  i2->h2  i3->h2  i4->h2  i5->h2  i6->h2  i7->h2  i8->h2  i9->h2 \n",
       "  -0.34    0.28    0.34   -1.54   -0.07    0.16    0.07    0.93    0.28    0.12 \n",
       "i10->h2 i11->h2 i12->h2 i13->h2 i14->h2 i15->h2 i16->h2 i17->h2 i18->h2 i19->h2 \n",
       "   0.28   -0.96   -0.26    0.69    0.97    0.02   -0.16    0.55    0.38    0.64 \n",
       "i20->h2 i21->h2 i22->h2 i23->h2 i24->h2 i25->h2 i26->h2 i27->h2 i28->h2 i29->h2 \n",
       "  -0.07    0.34    0.29    0.16   -1.00   -0.08    0.58   -0.73    0.46    0.21 \n",
       "i30->h2 i31->h2 \n",
       "   1.54    3.38 \n",
       " b->o h1->o h2->o \n",
       "-5.43  4.49  4.30 "
      ]
     },
     "metadata": {},
     "output_type": "display_data"
    }
   ],
   "source": [
    "summary(mod_nnet)"
   ]
  },
  {
   "cell_type": "markdown",
   "metadata": {},
   "source": [
    "## Logistic Regression"
   ]
  },
  {
   "cell_type": "code",
   "execution_count": 129,
   "metadata": {},
   "outputs": [
    {
     "name": "stderr",
     "output_type": "stream",
     "text": [
      "Warning message in predict.lm(object, newdata, se.fit, scale = 1, type = if (type == :\n",
      "\"prediction from a rank-deficient fit may be misleading\""
     ]
    }
   ],
   "source": [
    "mod_glm = glm(Y~., data = train, family=binomial())\n",
    "glm_pred = as.numeric(predict(mod_glm, newdata = test, type=\"response\") >= .5)"
   ]
  },
  {
   "cell_type": "code",
   "execution_count": 130,
   "metadata": {
    "scrolled": true
   },
   "outputs": [
    {
     "data": {
      "text/html": [
       "0.7164"
      ],
      "text/latex": [
       "0.7164"
      ],
      "text/markdown": [
       "0.7164"
      ],
      "text/plain": [
       "[1] 0.7164"
      ]
     },
     "metadata": {},
     "output_type": "display_data"
    }
   ],
   "source": [
    "(glm_acc = round(sum(glm_pred == test$Y)/length(glm_pred),4))"
   ]
  },
  {
   "cell_type": "markdown",
   "metadata": {},
   "source": [
    "<b> Summary"
   ]
  },
  {
   "cell_type": "code",
   "execution_count": 131,
   "metadata": {},
   "outputs": [
    {
     "data": {
      "text/plain": [
       "\n",
       "Call:\n",
       "glm(formula = Y ~ ., family = binomial(), data = train)\n",
       "\n",
       "Deviance Residuals: \n",
       "    Min       1Q   Median       3Q      Max  \n",
       "-2.5222  -1.0673   0.6306   0.9005   2.6069  \n",
       "\n",
       "Coefficients: (4 not defined because of singularities)\n",
       "                                          Estimate Std. Error z value Pr(>|z|)\n",
       "(Intercept)                             -1.3519815  0.9476446  -1.427  0.15367\n",
       "GenderMale                               0.2954337  0.1411657   2.093  0.03637\n",
       "Average_GPA                              0.6377503  0.1173186   5.436 5.45e-08\n",
       "s_start_year                            -0.7448138  0.0886730  -8.400  < 2e-16\n",
       "s_CitizenshipAsia                       -0.6270261  0.5893894  -1.064  0.28739\n",
       "s_CitizenshipChina                      -0.7642329  0.5909230  -1.293  0.19591\n",
       "s_CitizenshipWhite                      -1.2021457  0.5632633  -2.134  0.03282\n",
       "avs_net_cost                             0.1021013  0.0664638   1.536  0.12449\n",
       "Gender.1Male                                    NA         NA      NA       NA\n",
       "s_Average.Precol.GPA                     0.0562713  0.0731085   0.770  0.44148\n",
       "s_GRE.Combined.General.Write.Score       0.0147781  0.0843002   0.175  0.86084\n",
       "s_GRE.Combined.Quantitative.Score       -0.2338052  0.2360903  -0.990  0.32202\n",
       "s_GRE.Combined.General.Verbal.Score      0.0208466  0.1705733   0.122  0.90273\n",
       "CollegeGD Education                     -0.0670363  0.7543443  -0.089  0.92919\n",
       "CollegeGD Grad School                    3.1254570  1.0734951   2.911  0.00360\n",
       "CollegeGD Harpur                        -0.3544612  0.6577762  -0.539  0.58997\n",
       "CollegeGD Management                    -0.0041443  0.7879186  -0.005  0.99580\n",
       "CollegeGD Nursing                        0.7196845  0.7025311   1.024  0.30564\n",
       "CollegeGD Watson                         0.1637891  0.6769332   0.242  0.80881\n",
       "funding_indicator                        0.7849413  0.1724067   4.553 5.29e-06\n",
       "CitizenshipAsia                                 NA         NA      NA       NA\n",
       "CitizenshipAsian                        -0.3080801  0.3361915  -0.916  0.35947\n",
       "CitizenshipBlack or African American     0.6968108  0.4246436   1.641  0.10081\n",
       "CitizenshipChina                                NA         NA      NA       NA\n",
       "CitizenshipEurope                        0.2710711  0.4318070   0.628  0.53016\n",
       "CitizenshipHispanic or Latino           -0.2582503  0.3288150  -0.785  0.43222\n",
       "CitizenshipIndia                         0.2142404  0.3634800   0.589  0.55558\n",
       "CitizenshipOther International Students  0.1772048  0.5127203   0.346  0.72963\n",
       "CitizenshipUnknown                       0.0009262  0.2580292   0.004  0.99714\n",
       "CitizenshipWhite                                NA         NA      NA       NA\n",
       "gap_indicator                            0.3943836  0.2257201   1.747  0.08060\n",
       "GPA_trend                                1.4993861  0.4833509   3.102  0.00192\n",
       "                                           \n",
       "(Intercept)                                \n",
       "GenderMale                              *  \n",
       "Average_GPA                             ***\n",
       "s_start_year                            ***\n",
       "s_CitizenshipAsia                          \n",
       "s_CitizenshipChina                         \n",
       "s_CitizenshipWhite                      *  \n",
       "avs_net_cost                               \n",
       "Gender.1Male                               \n",
       "s_Average.Precol.GPA                       \n",
       "s_GRE.Combined.General.Write.Score         \n",
       "s_GRE.Combined.Quantitative.Score          \n",
       "s_GRE.Combined.General.Verbal.Score        \n",
       "CollegeGD Education                        \n",
       "CollegeGD Grad School                   ** \n",
       "CollegeGD Harpur                           \n",
       "CollegeGD Management                       \n",
       "CollegeGD Nursing                          \n",
       "CollegeGD Watson                           \n",
       "funding_indicator                       ***\n",
       "CitizenshipAsia                            \n",
       "CitizenshipAsian                           \n",
       "CitizenshipBlack or African American       \n",
       "CitizenshipChina                           \n",
       "CitizenshipEurope                          \n",
       "CitizenshipHispanic or Latino              \n",
       "CitizenshipIndia                           \n",
       "CitizenshipOther International Students    \n",
       "CitizenshipUnknown                         \n",
       "CitizenshipWhite                           \n",
       "gap_indicator                           .  \n",
       "GPA_trend                               ** \n",
       "---\n",
       "Signif. codes:  0 '***' 0.001 '**' 0.01 '*' 0.05 '.' 0.1 ' ' 1\n",
       "\n",
       "(Dispersion parameter for binomial family taken to be 1)\n",
       "\n",
       "    Null deviance: 1632.9  on 1234  degrees of freedom\n",
       "Residual deviance: 1403.4  on 1207  degrees of freedom\n",
       "AIC: 1459.4\n",
       "\n",
       "Number of Fisher Scoring iterations: 6\n"
      ]
     },
     "metadata": {},
     "output_type": "display_data"
    }
   ],
   "source": [
    "summary(mod_glm)"
   ]
  },
  {
   "cell_type": "markdown",
   "metadata": {},
   "source": [
    "## SVM"
   ]
  },
  {
   "cell_type": "code",
   "execution_count": 132,
   "metadata": {},
   "outputs": [],
   "source": [
    "mod_svm = svm(Y~., data = train, family=binomial())\n",
    "svm_pred = as.numeric(predict(mod_svm, newdata = test, type=\"response\") >= .5)"
   ]
  },
  {
   "cell_type": "code",
   "execution_count": 133,
   "metadata": {
    "scrolled": true
   },
   "outputs": [
    {
     "data": {
      "text/html": [
       "0.7018"
      ],
      "text/latex": [
       "0.7018"
      ],
      "text/markdown": [
       "0.7018"
      ],
      "text/plain": [
       "[1] 0.7018"
      ]
     },
     "metadata": {},
     "output_type": "display_data"
    }
   ],
   "source": [
    "(svm_acc = round(sum(svm_pred == test$Y)/length(svm_pred),4))"
   ]
  },
  {
   "cell_type": "markdown",
   "metadata": {},
   "source": [
    "<b> Summary"
   ]
  },
  {
   "cell_type": "code",
   "execution_count": 134,
   "metadata": {
    "scrolled": false
   },
   "outputs": [
    {
     "data": {
      "text/plain": [
       "\n",
       "Call:\n",
       "svm(formula = Y ~ ., data = train, family = binomial())\n",
       "\n",
       "\n",
       "Parameters:\n",
       "   SVM-Type:  eps-regression \n",
       " SVM-Kernel:  radial \n",
       "       cost:  1 \n",
       "      gamma:  0.03125 \n",
       "    epsilon:  0.1 \n",
       "\n",
       "\n",
       "Number of Support Vectors:  1001\n",
       "\n",
       "\n",
       "\n",
       "\n"
      ]
     },
     "metadata": {},
     "output_type": "display_data"
    },
    {
     "data": {
      "text/html": [
       "<dl class=dl-horizontal>\n",
       "\t<dt>GenderFemale</dt>\n",
       "\t\t<dd>0.464535464535465</dd>\n",
       "\t<dt>GenderMale</dt>\n",
       "\t\t<dd>0.535464535464535</dd>\n",
       "\t<dt>Average_GPA</dt>\n",
       "\t\t<dd>-0.0607653196473238</dd>\n",
       "\t<dt>s_start_year</dt>\n",
       "\t\t<dd>0.109074019209957</dd>\n",
       "\t<dt>s_CitizenshipAsia</dt>\n",
       "\t\t<dd>0.126873126873127</dd>\n",
       "\t<dt>s_CitizenshipChina</dt>\n",
       "\t\t<dd>0.134865134865135</dd>\n",
       "\t<dt>s_CitizenshipWhite</dt>\n",
       "\t\t<dd>0.715284715284715</dd>\n",
       "\t<dt>avs_net_cost</dt>\n",
       "\t\t<dd>0.0157306753722701</dd>\n",
       "\t<dt>Gender.1Male</dt>\n",
       "\t\t<dd>0.535464535464535</dd>\n",
       "\t<dt>s_Average.Precol.GPA</dt>\n",
       "\t\t<dd>0.00745300405385959</dd>\n",
       "\t<dt>s_GRE.Combined.General.Write.Score</dt>\n",
       "\t\t<dd>0.0385404575714552</dd>\n",
       "\t<dt>s_GRE.Combined.Quantitative.Score</dt>\n",
       "\t\t<dd>-0.00314552277149265</dd>\n",
       "\t<dt>s_GRE.Combined.General.Verbal.Score</dt>\n",
       "\t\t<dd>0.0150696424770825</dd>\n",
       "\t<dt>CollegeGD.Education</dt>\n",
       "\t\t<dd>0.027972027972028</dd>\n",
       "\t<dt>CollegeGD.Grad.School</dt>\n",
       "\t\t<dd>0.023976023976024</dd>\n",
       "\t<dt>CollegeGD.Harpur</dt>\n",
       "\t\t<dd>0.664335664335664</dd>\n",
       "\t<dt>CollegeGD.Management</dt>\n",
       "\t\t<dd>0.022977022977023</dd>\n",
       "\t<dt>CollegeGD.Nursing</dt>\n",
       "\t\t<dd>0.048951048951049</dd>\n",
       "\t<dt>CollegeGD.Watson</dt>\n",
       "\t\t<dd>0.1998001998002</dd>\n",
       "\t<dt>funding_indicator</dt>\n",
       "\t\t<dd>-0.0154891730882483</dd>\n",
       "\t<dt>CitizenshipAsia</dt>\n",
       "\t\t<dd>0.126873126873127</dd>\n",
       "\t<dt>CitizenshipAsian</dt>\n",
       "\t\t<dd>0.040959040959041</dd>\n",
       "\t<dt>CitizenshipBlack.or.African.American</dt>\n",
       "\t\t<dd>0.032967032967033</dd>\n",
       "\t<dt>CitizenshipChina</dt>\n",
       "\t\t<dd>0.134865134865135</dd>\n",
       "\t<dt>CitizenshipEurope</dt>\n",
       "\t\t<dd>0.020979020979021</dd>\n",
       "\t<dt>CitizenshipHispanic.or.Latino</dt>\n",
       "\t\t<dd>0.03996003996004</dd>\n",
       "\t<dt>CitizenshipIndia</dt>\n",
       "\t\t<dd>0.046953046953047</dd>\n",
       "\t<dt>CitizenshipOther.International.Students</dt>\n",
       "\t\t<dd>0.016983016983017</dd>\n",
       "\t<dt>CitizenshipUnknown</dt>\n",
       "\t\t<dd>0.0669330669330669</dd>\n",
       "\t<dt>CitizenshipWhite</dt>\n",
       "\t\t<dd>0.44955044955045</dd>\n",
       "\t<dt>gap_indicator</dt>\n",
       "\t\t<dd>-0.0294486010709027</dd>\n",
       "\t<dt>GPA_trend</dt>\n",
       "\t\t<dd>-0.00851275334027022</dd>\n",
       "</dl>\n"
      ],
      "text/latex": [
       "\\begin{description*}\n",
       "\\item[GenderFemale] 0.464535464535465\n",
       "\\item[GenderMale] 0.535464535464535\n",
       "\\item[Average\\textbackslash{}\\_GPA] -0.0607653196473238\n",
       "\\item[s\\textbackslash{}\\_start\\textbackslash{}\\_year] 0.109074019209957\n",
       "\\item[s\\textbackslash{}\\_CitizenshipAsia] 0.126873126873127\n",
       "\\item[s\\textbackslash{}\\_CitizenshipChina] 0.134865134865135\n",
       "\\item[s\\textbackslash{}\\_CitizenshipWhite] 0.715284715284715\n",
       "\\item[avs\\textbackslash{}\\_net\\textbackslash{}\\_cost] 0.0157306753722701\n",
       "\\item[Gender.1Male] 0.535464535464535\n",
       "\\item[s\\textbackslash{}\\_Average.Precol.GPA] 0.00745300405385959\n",
       "\\item[s\\textbackslash{}\\_GRE.Combined.General.Write.Score] 0.0385404575714552\n",
       "\\item[s\\textbackslash{}\\_GRE.Combined.Quantitative.Score] -0.00314552277149265\n",
       "\\item[s\\textbackslash{}\\_GRE.Combined.General.Verbal.Score] 0.0150696424770825\n",
       "\\item[CollegeGD.Education] 0.027972027972028\n",
       "\\item[CollegeGD.Grad.School] 0.023976023976024\n",
       "\\item[CollegeGD.Harpur] 0.664335664335664\n",
       "\\item[CollegeGD.Management] 0.022977022977023\n",
       "\\item[CollegeGD.Nursing] 0.048951048951049\n",
       "\\item[CollegeGD.Watson] 0.1998001998002\n",
       "\\item[funding\\textbackslash{}\\_indicator] -0.0154891730882483\n",
       "\\item[CitizenshipAsia] 0.126873126873127\n",
       "\\item[CitizenshipAsian] 0.040959040959041\n",
       "\\item[CitizenshipBlack.or.African.American] 0.032967032967033\n",
       "\\item[CitizenshipChina] 0.134865134865135\n",
       "\\item[CitizenshipEurope] 0.020979020979021\n",
       "\\item[CitizenshipHispanic.or.Latino] 0.03996003996004\n",
       "\\item[CitizenshipIndia] 0.046953046953047\n",
       "\\item[CitizenshipOther.International.Students] 0.016983016983017\n",
       "\\item[CitizenshipUnknown] 0.0669330669330669\n",
       "\\item[CitizenshipWhite] 0.44955044955045\n",
       "\\item[gap\\textbackslash{}\\_indicator] -0.0294486010709027\n",
       "\\item[GPA\\textbackslash{}\\_trend] -0.00851275334027022\n",
       "\\end{description*}\n"
      ],
      "text/markdown": [
       "GenderFemale\n",
       ":   0.464535464535465GenderMale\n",
       ":   0.535464535464535Average_GPA\n",
       ":   -0.0607653196473238s_start_year\n",
       ":   0.109074019209957s_CitizenshipAsia\n",
       ":   0.126873126873127s_CitizenshipChina\n",
       ":   0.134865134865135s_CitizenshipWhite\n",
       ":   0.715284715284715avs_net_cost\n",
       ":   0.0157306753722701Gender.1Male\n",
       ":   0.535464535464535s_Average.Precol.GPA\n",
       ":   0.00745300405385959s_GRE.Combined.General.Write.Score\n",
       ":   0.0385404575714552s_GRE.Combined.Quantitative.Score\n",
       ":   -0.00314552277149265s_GRE.Combined.General.Verbal.Score\n",
       ":   0.0150696424770825CollegeGD.Education\n",
       ":   0.027972027972028CollegeGD.Grad.School\n",
       ":   0.023976023976024CollegeGD.Harpur\n",
       ":   0.664335664335664CollegeGD.Management\n",
       ":   0.022977022977023CollegeGD.Nursing\n",
       ":   0.048951048951049CollegeGD.Watson\n",
       ":   0.1998001998002funding_indicator\n",
       ":   -0.0154891730882483CitizenshipAsia\n",
       ":   0.126873126873127CitizenshipAsian\n",
       ":   0.040959040959041CitizenshipBlack.or.African.American\n",
       ":   0.032967032967033CitizenshipChina\n",
       ":   0.134865134865135CitizenshipEurope\n",
       ":   0.020979020979021CitizenshipHispanic.or.Latino\n",
       ":   0.03996003996004CitizenshipIndia\n",
       ":   0.046953046953047CitizenshipOther.International.Students\n",
       ":   0.016983016983017CitizenshipUnknown\n",
       ":   0.0669330669330669CitizenshipWhite\n",
       ":   0.44955044955045gap_indicator\n",
       ":   -0.0294486010709027GPA_trend\n",
       ":   -0.00851275334027022\n",
       "\n"
      ],
      "text/plain": [
       "                           GenderFemale                              GenderMale \n",
       "                            0.464535465                             0.535464535 \n",
       "                            Average_GPA                            s_start_year \n",
       "                           -0.060765320                             0.109074019 \n",
       "                      s_CitizenshipAsia                      s_CitizenshipChina \n",
       "                            0.126873127                             0.134865135 \n",
       "                     s_CitizenshipWhite                            avs_net_cost \n",
       "                            0.715284715                             0.015730675 \n",
       "                           Gender.1Male                    s_Average.Precol.GPA \n",
       "                            0.535464535                             0.007453004 \n",
       "     s_GRE.Combined.General.Write.Score       s_GRE.Combined.Quantitative.Score \n",
       "                            0.038540458                            -0.003145523 \n",
       "    s_GRE.Combined.General.Verbal.Score                     CollegeGD.Education \n",
       "                            0.015069642                             0.027972028 \n",
       "                  CollegeGD.Grad.School                        CollegeGD.Harpur \n",
       "                            0.023976024                             0.664335664 \n",
       "                   CollegeGD.Management                       CollegeGD.Nursing \n",
       "                            0.022977023                             0.048951049 \n",
       "                       CollegeGD.Watson                       funding_indicator \n",
       "                            0.199800200                            -0.015489173 \n",
       "                        CitizenshipAsia                        CitizenshipAsian \n",
       "                            0.126873127                             0.040959041 \n",
       "   CitizenshipBlack.or.African.American                        CitizenshipChina \n",
       "                            0.032967033                             0.134865135 \n",
       "                      CitizenshipEurope           CitizenshipHispanic.or.Latino \n",
       "                            0.020979021                             0.039960040 \n",
       "                       CitizenshipIndia CitizenshipOther.International.Students \n",
       "                            0.046953047                             0.016983017 \n",
       "                     CitizenshipUnknown                        CitizenshipWhite \n",
       "                            0.066933067                             0.449550450 \n",
       "                          gap_indicator                               GPA_trend \n",
       "                           -0.029448601                            -0.008512753 "
      ]
     },
     "metadata": {},
     "output_type": "display_data"
    }
   ],
   "source": [
    "summary(mod_svm)\n",
    "colMeans(mod_svm$SV)\n",
    "#The resulting support vectors (possibly scaled)."
   ]
  },
  {
   "cell_type": "markdown",
   "metadata": {},
   "source": [
    "## LASSO"
   ]
  },
  {
   "cell_type": "code",
   "execution_count": 135,
   "metadata": {},
   "outputs": [],
   "source": [
    "train_x = model.matrix(~., data = train_x)\n",
    "test_x = model.matrix(~., data = test_x)"
   ]
  },
  {
   "cell_type": "code",
   "execution_count": 136,
   "metadata": {
    "scrolled": false
   },
   "outputs": [
    {
     "data": {
      "image/png": "[encoded data removed]",
      "text/plain": [
       "plot without title"
      ]
     },
     "metadata": {},
     "output_type": "display_data"
    },
    {
     "data": {
      "image/png": "[encoded data removed]",
      "text/plain": [
       "Plot with title \"\""
      ]
     },
     "metadata": {},
     "output_type": "display_data"
    }
   ],
   "source": [
    "cvfit = cv.glmnet(train_x,train_y,alpha=1,family='binomial',type.measure='mse')\n",
    "mod_lasso = glmnet(train_x,train_y,alpha=1, family = \"binomial\",lambda = cvfit$lambda)\n",
    "plot(cvfit)\n",
    "plot_glmnet(mod_lasso)\n",
    "mod_lasso <- glmnet(train_x,train_y,alpha=1, family = \"binomial\",lambda = cvfit$lambda.min)"
   ]
  },
  {
   "cell_type": "code",
   "execution_count": 137,
   "metadata": {
    "scrolled": true
   },
   "outputs": [
    {
     "data": {
      "text/html": [
       "0.718"
      ],
      "text/latex": [
       "0.718"
      ],
      "text/markdown": [
       "0.718"
      ],
      "text/plain": [
       "[1] 0.718"
      ]
     },
     "metadata": {},
     "output_type": "display_data"
    }
   ],
   "source": [
    "lasso_pred = predict(mod_lasso, test_x, type=\"class\")\n",
    "lasso_right = colSums(lasso_pred == test_y)\n",
    "(lasso_acc = round(max(lasso_right)/length(test_y),4))"
   ]
  },
  {
   "cell_type": "markdown",
   "metadata": {},
   "source": [
    "<b> Summary"
   ]
  },
  {
   "cell_type": "code",
   "execution_count": 138,
   "metadata": {
    "scrolled": true
   },
   "outputs": [
    {
     "data": {
      "text/plain": [
       "32 x 1 sparse Matrix of class \"dgCMatrix\"\n",
       "                                                  s0\n",
       "(Intercept)                              .          \n",
       "GenderMale                               0.064072188\n",
       "Average_GPA                              0.580199378\n",
       "s_start_year                            -0.707438846\n",
       "s_CitizenshipAsia                        .          \n",
       "s_CitizenshipChina                       .          \n",
       "s_CitizenshipWhite                      -0.493806771\n",
       "avs_net_cost                             0.077545147\n",
       "Gender.1Male                             0.193333187\n",
       "s_Average.Precol.GPA                     0.036061025\n",
       "s_GRE.Combined.General.Write.Score       0.001396758\n",
       "s_GRE.Combined.Quantitative.Score       -0.127946847\n",
       "s_GRE.Combined.General.Verbal.Score      .          \n",
       "CollegeGD Education                     -0.019215033\n",
       "CollegeGD Grad School                    2.709025411\n",
       "CollegeGD Harpur                        -0.325760503\n",
       "CollegeGD Management                     .          \n",
       "CollegeGD Nursing                        0.611371551\n",
       "CollegeGD Watson                         0.103897085\n",
       "funding_indicator                        0.736486958\n",
       "CitizenshipAsia                          .          \n",
       "CitizenshipAsian                        -0.275230075\n",
       "CitizenshipBlack or African American     0.539159526\n",
       "CitizenshipChina                        -0.109834153\n",
       "CitizenshipEurope                        0.124419593\n",
       "CitizenshipHispanic or Latino           -0.247678323\n",
       "CitizenshipIndia                         0.091740750\n",
       "CitizenshipOther International Students  0.015033512\n",
       "CitizenshipUnknown                       .          \n",
       "CitizenshipWhite                        -0.032428235\n",
       "gap_indicator                            0.343416883\n",
       "GPA_trend                                1.363760259"
      ]
     },
     "metadata": {},
     "output_type": "display_data"
    }
   ],
   "source": [
    "mod_lasso$beta"
   ]
  },
  {
   "cell_type": "markdown",
   "metadata": {},
   "source": [
    "## Prediction Summary"
   ]
  },
  {
   "cell_type": "code",
   "execution_count": 146,
   "metadata": {},
   "outputs": [
    {
     "data": {
      "text/html": [
       "<table>\n",
       "<thead><tr><th></th><th scope=col>Accuracy</th></tr></thead>\n",
       "<tbody>\n",
       "\t<tr><th scope=row>Random Forest</th><td>0.7601</td></tr>\n",
       "\t<tr><th scope=row>LDA</th><td>0.7164</td></tr>\n",
       "\t<tr><th scope=row>Neural Network</th><td>0.7229</td></tr>\n",
       "\t<tr><th scope=row>Logistic Regression</th><td>0.7164</td></tr>\n",
       "\t<tr><th scope=row>SVM</th><td>0.7018</td></tr>\n",
       "\t<tr><th scope=row>LASSO</th><td>0.7180</td></tr>\n",
       "</tbody>\n",
       "</table>\n"
      ],
      "text/latex": [
       "\\begin{tabular}{r|l}\n",
       "  & Accuracy\\\\\n",
       "\\hline\n",
       "\tRandom Forest & 0.7601\\\\\n",
       "\tLDA & 0.7164\\\\\n",
       "\tNeural Network & 0.7229\\\\\n",
       "\tLogistic Regression & 0.7164\\\\\n",
       "\tSVM & 0.7018\\\\\n",
       "\tLASSO & 0.7180\\\\\n",
       "\\end{tabular}\n"
      ],
      "text/markdown": [
       "\n",
       "| <!--/--> | Accuracy |\n",
       "|---|---|\n",
       "| Random Forest | 0.7601 |\n",
       "| LDA | 0.7164 |\n",
       "| Neural Network | 0.7229 |\n",
       "| Logistic Regression | 0.7164 |\n",
       "| SVM | 0.7018 |\n",
       "| LASSO | 0.7180 |\n",
       "\n"
      ],
      "text/plain": [
       "                    Accuracy\n",
       "Random Forest       0.7601  \n",
       "LDA                 0.7164  \n",
       "Neural Network      0.7229  \n",
       "Logistic Regression 0.7164  \n",
       "SVM                 0.7018  \n",
       "LASSO               0.7180  "
      ]
     },
     "metadata": {},
     "output_type": "display_data"
    }
   ],
   "source": [
    "res = data.frame(rbind(rf_acc, lda_acc, nnet_acc, glm_acc,svm_acc,lasso_acc))\n",
    "colnames(res) = 'Accuracy'\n",
    "rownames(res) = c('Random Forest','LDA', 'Neural Network', 'Logistic Regression', 'SVM', 'LASSO')\n",
    "res"
   ]
  },
  {
   "cell_type": "code",
   "execution_count": 10,
   "metadata": {},
   "outputs": [
    {
     "data": {
      "text/html": [
       "854.058762526152"
      ],
      "text/latex": [
       "854.058762526152"
      ],
      "text/markdown": [
       "854.058762526152"
      ],
      "text/plain": [
       "[1] 854.0588"
      ]
     },
     "metadata": {},
     "output_type": "display_data"
    }
   ],
   "source": [
    "odds = exp(1.35*5)\n",
    "p = (odds)/(1+odds)\n",
    "odds"
   ]
  }
 ],
 "metadata": {
  "hide_input": false,
  "kernelspec": {
   "display_name": "R",
   "language": "R",
   "name": "ir"
  },
  "language_info": {
   "codemirror_mode": "r",
   "file_extension": ".r",
   "mimetype": "text/x-r-source",
   "name": "R",
   "pygments_lexer": "r",
   "version": "3.6.1"
  },
  "latex_envs": {
   "LaTeX_envs_menu_present": true,
   "autoclose": false,
   "autocomplete": true,
   "bibliofile": "biblio.bib",
   "cite_by": "apalike",
   "current_citInitial": 1,
   "eqLabelWithNumbers": true,
   "eqNumInitial": 1,
   "hotkeys": {
    "equation": "Ctrl-E",
    "itemize": "Ctrl-I"
   },
   "labels_anchors": false,
   "latex_user_defs": false,
   "report_style_numbering": false,
   "user_envs_cfg": false
  },
  "toc": {
   "base_numbering": 1,
   "nav_menu": {},
   "number_sections": true,
   "sideBar": true,
   "skip_h1_title": false,
   "title_cell": "Table of Contents",
   "title_sidebar": "Contents",
   "toc_cell": false,
   "toc_position": {
    "height": "calc(100% - 180px)",
    "left": "10px",
    "top": "150px",
    "width": "196.91px"
   },
   "toc_section_display": true,
   "toc_window_display": true
  }
 },
 "nbformat": 4,
 "nbformat_minor": 2
}
