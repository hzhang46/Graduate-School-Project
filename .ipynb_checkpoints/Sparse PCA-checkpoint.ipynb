{
 "cells": [
  {
   "cell_type": "markdown",
   "metadata": {},
   "source": [
    "References: \n",
    "https://crude2refined.wordpress.com/2013/07/30/sparse-pca-example-in-r-part-1/\n",
    "https://rdrr.io/cran/elasticnet/man/spca.html"
   ]
  },
  {
   "cell_type": "code",
   "execution_count": 4,
   "metadata": {},
   "outputs": [],
   "source": [
    "df = read.csv(file=\"pca_df.csv\",sep=\",\",header=TRUE)\n",
    "x = as.matrix(df)\n",
    "x = scale(x)"
   ]
  },
  {
   "cell_type": "code",
   "execution_count": 2,
   "metadata": {
    "scrolled": true
   },
   "outputs": [
    {
     "name": "stderr",
     "output_type": "stream",
     "text": [
      "Loading required package: elasticnet\n",
      "Loading required package: lars\n",
      "Loaded lars 1.2\n",
      "\n"
     ]
    }
   ],
   "source": [
    "require(\"elasticnet\")"
   ]
  },
  {
   "cell_type": "code",
   "execution_count": 15,
   "metadata": {},
   "outputs": [
    {
     "name": "stdout",
     "output_type": "stream",
     "text": [
      "You may wish to restart and use a more efficient way \n",
      "let the argument x be the sample covariance/correlation matrix and set type=Gram \n"
     ]
    }
   ],
   "source": [
    "out = spca(x=x,K=3,type=\"predictor\",sparse=\"varnum\",para=c(3,3,3))"
   ]
  },
  {
   "cell_type": "code",
   "execution_count": 16,
   "metadata": {},
   "outputs": [
    {
     "data": {
      "text/html": [
       "<table>\n",
       "<thead><tr><th></th><th scope=col>PC1</th><th scope=col>PC2</th><th scope=col>PC3</th></tr></thead>\n",
       "<tbody>\n",
       "\t<tr><th scope=row>GMAT.Score</th><td> 0.0000000000</td><td> 0.0000000   </td><td> 0.0000000000</td></tr>\n",
       "\t<tr><th scope=row>GRE.Analytical.Writing.Score</th><td> 0.0000000000</td><td> 0.7154034   </td><td> 0.0000000000</td></tr>\n",
       "\t<tr><th scope=row>GRE.Quantitative.Score</th><td> 0.0000000000</td><td>-0.3006650   </td><td> 0.0000000000</td></tr>\n",
       "\t<tr><th scope=row>GRE.Revised.General.Quant.Score</th><td>-0.6911847929</td><td> 0.0000000   </td><td>-0.0002358673</td></tr>\n",
       "\t<tr><th scope=row>GRE.Revised.General.Verbal.Score</th><td>-0.7226778445</td><td> 0.0000000   </td><td> 0.0000000000</td></tr>\n",
       "\t<tr><th scope=row>GRE.Revised.General.Write.Score</th><td> 0.0000000000</td><td> 0.0000000   </td><td> 0.7493768133</td></tr>\n",
       "\t<tr><th scope=row>GRE.Verbal.Score</th><td> 0.0000000000</td><td> 0.6307127   </td><td> 0.0000000000</td></tr>\n",
       "\t<tr><th scope=row>Average.Precol.GPA</th><td> 0.0005613509</td><td> 0.0000000   </td><td> 0.6621437428</td></tr>\n",
       "</tbody>\n",
       "</table>\n"
      ],
      "text/latex": [
       "\\begin{tabular}{r|lll}\n",
       "  & PC1 & PC2 & PC3\\\\\n",
       "\\hline\n",
       "\tGMAT.Score &  0.0000000000 &  0.0000000    &  0.0000000000\\\\\n",
       "\tGRE.Analytical.Writing.Score &  0.0000000000 &  0.7154034    &  0.0000000000\\\\\n",
       "\tGRE.Quantitative.Score &  0.0000000000 & -0.3006650    &  0.0000000000\\\\\n",
       "\tGRE.Revised.General.Quant.Score & -0.6911847929 &  0.0000000    & -0.0002358673\\\\\n",
       "\tGRE.Revised.General.Verbal.Score & -0.7226778445 &  0.0000000    &  0.0000000000\\\\\n",
       "\tGRE.Revised.General.Write.Score &  0.0000000000 &  0.0000000    &  0.7493768133\\\\\n",
       "\tGRE.Verbal.Score &  0.0000000000 &  0.6307127    &  0.0000000000\\\\\n",
       "\tAverage.Precol.GPA &  0.0005613509 &  0.0000000    &  0.6621437428\\\\\n",
       "\\end{tabular}\n"
      ],
      "text/markdown": [
       "\n",
       "| <!--/--> | PC1 | PC2 | PC3 |\n",
       "|---|---|---|---|\n",
       "| GMAT.Score |  0.0000000000 |  0.0000000    |  0.0000000000 |\n",
       "| GRE.Analytical.Writing.Score |  0.0000000000 |  0.7154034    |  0.0000000000 |\n",
       "| GRE.Quantitative.Score |  0.0000000000 | -0.3006650    |  0.0000000000 |\n",
       "| GRE.Revised.General.Quant.Score | -0.6911847929 |  0.0000000    | -0.0002358673 |\n",
       "| GRE.Revised.General.Verbal.Score | -0.7226778445 |  0.0000000    |  0.0000000000 |\n",
       "| GRE.Revised.General.Write.Score |  0.0000000000 |  0.0000000    |  0.7493768133 |\n",
       "| GRE.Verbal.Score |  0.0000000000 |  0.6307127    |  0.0000000000 |\n",
       "| Average.Precol.GPA |  0.0005613509 |  0.0000000    |  0.6621437428 |\n",
       "\n"
      ],
      "text/plain": [
       "                                 PC1           PC2        PC3          \n",
       "GMAT.Score                        0.0000000000  0.0000000  0.0000000000\n",
       "GRE.Analytical.Writing.Score      0.0000000000  0.7154034  0.0000000000\n",
       "GRE.Quantitative.Score            0.0000000000 -0.3006650  0.0000000000\n",
       "GRE.Revised.General.Quant.Score  -0.6911847929  0.0000000 -0.0002358673\n",
       "GRE.Revised.General.Verbal.Score -0.7226778445  0.0000000  0.0000000000\n",
       "GRE.Revised.General.Write.Score   0.0000000000  0.0000000  0.7493768133\n",
       "GRE.Verbal.Score                  0.0000000000  0.6307127  0.0000000000\n",
       "Average.Precol.GPA                0.0005613509  0.0000000  0.6621437428"
      ]
     },
     "metadata": {},
     "output_type": "display_data"
    }
   ],
   "source": [
    "out$loadings"
   ]
  },
  {
   "cell_type": "code",
   "execution_count": 17,
   "metadata": {},
   "outputs": [
    {
     "data": {
      "text/plain": [
       "\n",
       "Call:\n",
       "spca(x = x, K = 3, para = c(3, 3, 3), type = \"predictor\", sparse = \"varnum\")\n",
       "\n",
       "3 sparse PCs \n",
       "Pct. of exp. var. : 23.2 20.5 13.9 \n",
       "Num. of non-zero loadings :  3 3 3 \n",
       "Sparse loadings \n",
       "                                    PC1    PC2   PC3\n",
       "GMAT.Score                        0.000  0.000 0.000\n",
       "GRE.Analytical.Writing.Score      0.000  0.715 0.000\n",
       "GRE.Quantitative.Score            0.000 -0.301 0.000\n",
       "GRE.Revised.General.Quant.Score  -0.691  0.000 0.000\n",
       "GRE.Revised.General.Verbal.Score -0.723  0.000 0.000\n",
       "GRE.Revised.General.Write.Score   0.000  0.000 0.749\n",
       "GRE.Verbal.Score                  0.000  0.631 0.000\n",
       "Average.Precol.GPA                0.001  0.000 0.662"
      ]
     },
     "metadata": {},
     "output_type": "display_data"
    }
   ],
   "source": [
    "out"
   ]
  }
 ],
 "metadata": {
  "kernelspec": {
   "display_name": "R",
   "language": "R",
   "name": "ir"
  },
  "language_info": {
   "codemirror_mode": "r",
   "file_extension": ".r",
   "mimetype": "text/x-r-source",
   "name": "R",
   "pygments_lexer": "r",
   "version": "3.6.1"
  },
  "toc": {
   "base_numbering": 1,
   "nav_menu": {},
   "number_sections": true,
   "sideBar": true,
   "skip_h1_title": false,
   "title_cell": "Table of Contents",
   "title_sidebar": "Contents",
   "toc_cell": false,
   "toc_position": {},
   "toc_section_display": true,
   "toc_window_display": false
  }
 },
 "nbformat": 4,
 "nbformat_minor": 2
}
