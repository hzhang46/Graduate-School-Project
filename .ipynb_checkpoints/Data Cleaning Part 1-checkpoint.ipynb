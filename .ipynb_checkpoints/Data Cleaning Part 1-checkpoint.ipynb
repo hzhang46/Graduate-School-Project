{
 "cells": [
  {
   "cell_type": "markdown",
   "metadata": {},
   "source": [
    "### Graduate School Project Data Cleaning"
   ]
  },
  {
   "cell_type": "code",
   "execution_count": 4,
   "metadata": {},
   "outputs": [],
   "source": [
    "import pandas as pd\n",
    "import numpy as np\n",
    "from CountryMappings import getCountries\n",
    "from sklearn.preprocessing import StandardScaler\n",
    "from sklearn.decomposition import SparsePCA, PCA\n",
    "import matplotlib.pyplot as plt\n",
    "import os"
   ]
  },
  {
   "cell_type": "code",
   "execution_count": 5,
   "metadata": {},
   "outputs": [
    {
     "name": "stdout",
     "output_type": "stream",
     "text": [
      "['.git', '.gitignore', '.ipynb_checkpoints', '.Rhistory', 'cleaned_data_0210.csv', 'cleaned_data_0217.csv', 'cleaned_data_02171.csv', 'CountryMappings.py', 'current_dataset.csv', 'Data Cleaning Part 1.ipynb', 'Data_cleaning_from_current_dataset.ipynb', 'doc_successful.xlsx', 'doc_unsuccessful.xlsx', 'Graduate-School-Analysis(0224).xlsx', 'Graduate-School-Analysis(New).xlsx', 'Graduate-School-Project', 'Individual School Analysis.xlsx', 'Individual+School+Analysis.xlsx', 'Initial Data Analysis.ipynb', 'Patch Notes.docx', 'pc_components.csv', 'phd.R', 'project.Rproj', 'README.md', '__pycache__']\n"
     ]
    }
   ],
   "source": [
    "print(os.listdir())\n",
    "df_success = pd.read_excel('doc_successful.xlsx')\n",
    "df_unsuccess = pd.read_excel('doc_unsuccessful.xlsx')"
   ]
  },
  {
   "cell_type": "markdown",
   "metadata": {},
   "source": [
    "## Initial Data Cleaning"
   ]
  },
  {
   "cell_type": "markdown",
   "metadata": {},
   "source": [
    "### Merging Columns\n",
    "The two datasets no not have the same columns"
   ]
  },
  {
   "cell_type": "code",
   "execution_count": 6,
   "metadata": {},
   "outputs": [
    {
     "name": "stdout",
     "output_type": "stream",
     "text": [
      "Successful Data has 47 columns\n",
      "Unsuccessful Data has 45 columns\n",
      "\n",
      "Columns in Successful Data but not in Unsuccessful Data: ['Prep Level', 'AWARD_CATEGORY_DESC', 'Time to PhD Degree', 'Average Precol GPA']\n",
      "\n",
      "Columns in Unsuccessful Data but not in Successful Data: ['Avg Previous College GPA', 'DEGREE_AWARD_CATEGORY_DESC']\n"
     ]
    }
   ],
   "source": [
    "print(\"Successful Data has\", len(df_success.columns), \"columns\")\n",
    "print(\"Unsuccessful Data has\", len(df_unsuccess.columns), \"columns\")\n",
    "\n",
    "print(\"\\nColumns in Successful Data but not in Unsuccessful Data:\", list(set(df_success) - set(df_unsuccess)))\n",
    "\n",
    "print(\"\\nColumns in Unsuccessful Data but not in Successful Data:\", list(set(df_unsuccess) - set(df_success)))"
   ]
  },
  {
   "cell_type": "markdown",
   "metadata": {},
   "source": [
    "Dealing with \"AWARD_CATEGORY_DESC\" and \"DEGREE_AWARD_CATEGORY_DESC\""
   ]
  },
  {
   "cell_type": "code",
   "execution_count": 7,
   "metadata": {
    "scrolled": true
   },
   "outputs": [
    {
     "name": "stdout",
     "output_type": "stream",
     "text": [
      "Number of Unique values in DEGREE_AWARD_CATEGORY_DESC: 1\n",
      "Unique Value:  Doctoral Degree\n",
      "\n",
      "Number of Unique values in AWARD_CATEGORY_DESC: 1\n",
      "Unique Value:  Doctoral Degree\n"
     ]
    }
   ],
   "source": [
    "print(\"Number of Unique values in DEGREE_AWARD_CATEGORY_DESC:\", df_unsuccess[\"DEGREE_AWARD_CATEGORY_DESC\"].nunique())\n",
    "print(\"Unique Value: \", df_unsuccess[\"DEGREE_AWARD_CATEGORY_DESC\"][1])\n",
    "\n",
    "print(\"\\nNumber of Unique values in AWARD_CATEGORY_DESC:\", df_success[\"AWARD_CATEGORY_DESC\"].nunique())\n",
    "print(\"Unique Value: \", df_success[\"AWARD_CATEGORY_DESC\"][1])"
   ]
  },
  {
   "cell_type": "markdown",
   "metadata": {},
   "source": [
    "Since this column provides no information, we delete it."
   ]
  },
  {
   "cell_type": "code",
   "execution_count": 8,
   "metadata": {},
   "outputs": [],
   "source": [
    "df_success = df_success.drop(columns = \"AWARD_CATEGORY_DESC\")\n",
    "df_unsuccess = df_unsuccess.drop(columns = \"DEGREE_AWARD_CATEGORY_DESC\")"
   ]
  },
  {
   "cell_type": "markdown",
   "metadata": {},
   "source": [
    "Dealing with \"Time to PhD Degree\" - We will delete this column"
   ]
  },
  {
   "cell_type": "code",
   "execution_count": 9,
   "metadata": {
    "scrolled": true
   },
   "outputs": [
    {
     "data": {
      "text/plain": [
       "0    5.0\n",
       "1    NaN\n",
       "2    6.0\n",
       "3    5.0\n",
       "4    NaN\n",
       "Name: Time to PhD Degree, dtype: float64"
      ]
     },
     "execution_count": 9,
     "metadata": {},
     "output_type": "execute_result"
    }
   ],
   "source": [
    "df_success[\"Time to PhD Degree\"].head()"
   ]
  },
  {
   "cell_type": "code",
   "execution_count": 10,
   "metadata": {},
   "outputs": [],
   "source": [
    "df_success.drop(columns = \"Time to PhD Degree\", inplace = True)"
   ]
  },
  {
   "cell_type": "markdown",
   "metadata": {},
   "source": [
    "Dealing with Prep Level - We will add NaN and \"absorb it\" when we consoladate all previous information with PCA"
   ]
  },
  {
   "cell_type": "code",
   "execution_count": 11,
   "metadata": {},
   "outputs": [],
   "source": [
    "df_unsuccess[\"Prep Level\"] = np.nan"
   ]
  },
  {
   "cell_type": "markdown",
   "metadata": {},
   "source": [
    "Dealing with \"Average Precol GPA\" and \"Avg Previous College GPA\""
   ]
  },
  {
   "cell_type": "code",
   "execution_count": 12,
   "metadata": {},
   "outputs": [],
   "source": [
    "df_unsuccess.rename(columns = {\"Avg Previous College GPA\" : \"Average Precol GPA\" }, inplace = True)"
   ]
  },
  {
   "cell_type": "markdown",
   "metadata": {},
   "source": [
    "Values are the same, column names are different. "
   ]
  },
  {
   "cell_type": "markdown",
   "metadata": {},
   "source": [
    "Looking at our two datasets again:"
   ]
  },
  {
   "cell_type": "code",
   "execution_count": 13,
   "metadata": {},
   "outputs": [
    {
     "name": "stdout",
     "output_type": "stream",
     "text": [
      "Successful Data has 45 columns\n",
      "Unsuccessful Data has 45 columns\n",
      "\n",
      "Columns in Successful Data but not in Unsuccessful Data: []\n",
      "\n",
      "Columns in Unsuccessful Data but not in Successful Data: []\n"
     ]
    }
   ],
   "source": [
    "print(\"Successful Data has\", len(df_success.columns), \"columns\")\n",
    "print(\"Unsuccessful Data has\", len(df_unsuccess.columns), \"columns\")\n",
    "\n",
    "print(\"\\nColumns in Successful Data but not in Unsuccessful Data:\", list(set(df_success) - set(df_unsuccess)))\n",
    "\n",
    "print(\"\\nColumns in Unsuccessful Data but not in Successful Data:\", list(set(df_unsuccess) - set(df_success)))"
   ]
  },
  {
   "cell_type": "markdown",
   "metadata": {},
   "source": [
    "Adding a response Column Y and Merging the two together: "
   ]
  },
  {
   "cell_type": "code",
   "execution_count": 14,
   "metadata": {},
   "outputs": [],
   "source": [
    "df_success['Y'] = 1\n",
    "df_unsuccess['Y'] = 0\n",
    "df = pd.concat([df_success, df_unsuccess], ignore_index=True, sort=True)"
   ]
  },
  {
   "cell_type": "code",
   "execution_count": 16,
   "metadata": {},
   "outputs": [
    {
     "name": "stdout",
     "output_type": "stream",
     "text": [
      "Data Shape:  (2470, 46)\n",
      "Number of Positives:  1530\n",
      "Number of Negatives:  940\n"
     ]
    }
   ],
   "source": [
    "print(\"Data Shape: \", df.shape)\n",
    "print(\"Number of Positives: \",df[df['Y']==1].shape[0])\n",
    "print(\"Number of Negatives: \", df[df['Y']==0].shape[0])"
   ]
  },
  {
   "cell_type": "markdown",
   "metadata": {},
   "source": [
    "## Consolidating Columns"
   ]
  },
  {
   "cell_type": "markdown",
   "metadata": {},
   "source": [
    "#### Race\n",
    "\n",
    "We will consolidate all information presented in columns CITIZENSHIP_DESC, Intl Nation of Citizenship, American Indian, Asian, Black or African American, White, Hawaiian or Pacific Islander, Hispanic or Latino, Unknown Race Ethnicity together."
   ]
  },
  {
   "cell_type": "code",
   "execution_count": 17,
   "metadata": {},
   "outputs": [
    {
     "name": "stdout",
     "output_type": "stream",
     "text": [
      "Values for International Citizenship 78\n"
     ]
    }
   ],
   "source": [
    "print(\"Values for International Citizenship\", df[\"Intl Nation of Citizenship\"].nunique())"
   ]
  },
  {
   "cell_type": "code",
   "execution_count": 18,
   "metadata": {},
   "outputs": [
    {
     "name": "stdout",
     "output_type": "stream",
     "text": [
      "Vales for Citizen Field  ['Citizen' 'Non-Citizen' 'Elig NonCtzn Res Alien Prm Res']\n"
     ]
    }
   ],
   "source": [
    "print(\"Vales for Citizen Field \", df[\"CITIZENSHIP_DESC\"].unique())"
   ]
  },
  {
   "cell_type": "markdown",
   "metadata": {},
   "source": [
    "We would like to merge the two fields together."
   ]
  },
  {
   "cell_type": "code",
   "execution_count": 19,
   "metadata": {},
   "outputs": [
    {
     "data": {
      "text/html": [
       "<div>\n",
       "<style scoped>\n",
       "    .dataframe tbody tr th:only-of-type {\n",
       "        vertical-align: middle;\n",
       "    }\n",
       "\n",
       "    .dataframe tbody tr th {\n",
       "        vertical-align: top;\n",
       "    }\n",
       "\n",
       "    .dataframe thead th {\n",
       "        text-align: right;\n",
       "    }\n",
       "</style>\n",
       "<table border=\"1\" class=\"dataframe\">\n",
       "  <thead>\n",
       "    <tr style=\"text-align: right;\">\n",
       "      <th></th>\n",
       "      <th>1st Term Funding</th>\n",
       "      <th>2nd Term Funding</th>\n",
       "      <th>3rd Term Funding</th>\n",
       "      <th>4th Term Funding</th>\n",
       "      <th>Academic Period Matriculated</th>\n",
       "      <th>Age at Matriculation</th>\n",
       "      <th>American Indian</th>\n",
       "      <th>Asian</th>\n",
       "      <th>Average Precol GPA</th>\n",
       "      <th>Black or African American</th>\n",
       "      <th>...</th>\n",
       "      <th>Term 4 GPA</th>\n",
       "      <th>Term 5 GPA</th>\n",
       "      <th>Term 6 GPA</th>\n",
       "      <th>Term 7 GPA</th>\n",
       "      <th>Term 8 GPA</th>\n",
       "      <th>Total Charges</th>\n",
       "      <th>Total Funding Amount</th>\n",
       "      <th>Unknown Race Ethnicity</th>\n",
       "      <th>White</th>\n",
       "      <th>Y</th>\n",
       "    </tr>\n",
       "  </thead>\n",
       "  <tbody>\n",
       "    <tr>\n",
       "      <th>0</th>\n",
       "      <td>4685.0</td>\n",
       "      <td>4935.0</td>\n",
       "      <td>4110.0</td>\n",
       "      <td>432.0</td>\n",
       "      <td>201320</td>\n",
       "      <td>22.3</td>\n",
       "      <td>NaN</td>\n",
       "      <td>NaN</td>\n",
       "      <td>3.510000</td>\n",
       "      <td>NaN</td>\n",
       "      <td>...</td>\n",
       "      <td>0.000000</td>\n",
       "      <td>0.0</td>\n",
       "      <td>0.0</td>\n",
       "      <td>0.000000</td>\n",
       "      <td>0.0</td>\n",
       "      <td>20406.46</td>\n",
       "      <td>16859.0</td>\n",
       "      <td>NaN</td>\n",
       "      <td>White</td>\n",
       "      <td>1</td>\n",
       "    </tr>\n",
       "    <tr>\n",
       "      <th>1</th>\n",
       "      <td>NaN</td>\n",
       "      <td>NaN</td>\n",
       "      <td>NaN</td>\n",
       "      <td>NaN</td>\n",
       "      <td>201320</td>\n",
       "      <td>25.3</td>\n",
       "      <td>NaN</td>\n",
       "      <td>NaN</td>\n",
       "      <td>2.975000</td>\n",
       "      <td>Black or African American</td>\n",
       "      <td>...</td>\n",
       "      <td>2.890000</td>\n",
       "      <td>3.4</td>\n",
       "      <td>0.0</td>\n",
       "      <td>3.657143</td>\n",
       "      <td>NaN</td>\n",
       "      <td>20191.50</td>\n",
       "      <td>NaN</td>\n",
       "      <td>NaN</td>\n",
       "      <td>NaN</td>\n",
       "      <td>1</td>\n",
       "    </tr>\n",
       "    <tr>\n",
       "      <th>2</th>\n",
       "      <td>4685.0</td>\n",
       "      <td>4685.0</td>\n",
       "      <td>3699.0</td>\n",
       "      <td>3699.0</td>\n",
       "      <td>201290</td>\n",
       "      <td>22.0</td>\n",
       "      <td>NaN</td>\n",
       "      <td>Asian</td>\n",
       "      <td>3.490000</td>\n",
       "      <td>NaN</td>\n",
       "      <td>...</td>\n",
       "      <td>3.275000</td>\n",
       "      <td>3.0</td>\n",
       "      <td>3.0</td>\n",
       "      <td>0.000000</td>\n",
       "      <td>0.0</td>\n",
       "      <td>32939.51</td>\n",
       "      <td>27262.0</td>\n",
       "      <td>NaN</td>\n",
       "      <td>NaN</td>\n",
       "      <td>1</td>\n",
       "    </tr>\n",
       "    <tr>\n",
       "      <th>3</th>\n",
       "      <td>4685.0</td>\n",
       "      <td>4685.0</td>\n",
       "      <td>3699.0</td>\n",
       "      <td>3699.0</td>\n",
       "      <td>201290</td>\n",
       "      <td>23.0</td>\n",
       "      <td>NaN</td>\n",
       "      <td>NaN</td>\n",
       "      <td>4.005000</td>\n",
       "      <td>NaN</td>\n",
       "      <td>...</td>\n",
       "      <td>3.850000</td>\n",
       "      <td>4.0</td>\n",
       "      <td>4.0</td>\n",
       "      <td>0.000000</td>\n",
       "      <td>0.0</td>\n",
       "      <td>32054.70</td>\n",
       "      <td>26356.0</td>\n",
       "      <td>NaN</td>\n",
       "      <td>White</td>\n",
       "      <td>1</td>\n",
       "    </tr>\n",
       "    <tr>\n",
       "      <th>5</th>\n",
       "      <td>4685.0</td>\n",
       "      <td>8340.0</td>\n",
       "      <td>6885.0</td>\n",
       "      <td>6885.0</td>\n",
       "      <td>201290</td>\n",
       "      <td>21.0</td>\n",
       "      <td>NaN</td>\n",
       "      <td>NaN</td>\n",
       "      <td>3.110000</td>\n",
       "      <td>NaN</td>\n",
       "      <td>...</td>\n",
       "      <td>3.666667</td>\n",
       "      <td>0.0</td>\n",
       "      <td>0.0</td>\n",
       "      <td>NaN</td>\n",
       "      <td>NaN</td>\n",
       "      <td>35807.70</td>\n",
       "      <td>28477.0</td>\n",
       "      <td>NaN</td>\n",
       "      <td>White</td>\n",
       "      <td>1</td>\n",
       "    </tr>\n",
       "    <tr>\n",
       "      <th>...</th>\n",
       "      <td>...</td>\n",
       "      <td>...</td>\n",
       "      <td>...</td>\n",
       "      <td>...</td>\n",
       "      <td>...</td>\n",
       "      <td>...</td>\n",
       "      <td>...</td>\n",
       "      <td>...</td>\n",
       "      <td>...</td>\n",
       "      <td>...</td>\n",
       "      <td>...</td>\n",
       "      <td>...</td>\n",
       "      <td>...</td>\n",
       "      <td>...</td>\n",
       "      <td>...</td>\n",
       "      <td>...</td>\n",
       "      <td>...</td>\n",
       "      <td>...</td>\n",
       "      <td>...</td>\n",
       "      <td>...</td>\n",
       "      <td>...</td>\n",
       "    </tr>\n",
       "    <tr>\n",
       "      <th>2464</th>\n",
       "      <td>NaN</td>\n",
       "      <td>NaN</td>\n",
       "      <td>NaN</td>\n",
       "      <td>NaN</td>\n",
       "      <td>201890</td>\n",
       "      <td>32.0</td>\n",
       "      <td>NaN</td>\n",
       "      <td>Asian</td>\n",
       "      <td>3.680000</td>\n",
       "      <td>NaN</td>\n",
       "      <td>...</td>\n",
       "      <td>NaN</td>\n",
       "      <td>NaN</td>\n",
       "      <td>NaN</td>\n",
       "      <td>NaN</td>\n",
       "      <td>NaN</td>\n",
       "      <td>1762.00</td>\n",
       "      <td>NaN</td>\n",
       "      <td>NaN</td>\n",
       "      <td>NaN</td>\n",
       "      <td>0</td>\n",
       "    </tr>\n",
       "    <tr>\n",
       "      <th>2465</th>\n",
       "      <td>11325.0</td>\n",
       "      <td>11325.0</td>\n",
       "      <td>NaN</td>\n",
       "      <td>NaN</td>\n",
       "      <td>201890</td>\n",
       "      <td>23.0</td>\n",
       "      <td>NaN</td>\n",
       "      <td>NaN</td>\n",
       "      <td>3.780000</td>\n",
       "      <td>NaN</td>\n",
       "      <td>...</td>\n",
       "      <td>NaN</td>\n",
       "      <td>NaN</td>\n",
       "      <td>NaN</td>\n",
       "      <td>NaN</td>\n",
       "      <td>NaN</td>\n",
       "      <td>24755.00</td>\n",
       "      <td>22650.0</td>\n",
       "      <td>NaN</td>\n",
       "      <td>White</td>\n",
       "      <td>0</td>\n",
       "    </tr>\n",
       "    <tr>\n",
       "      <th>2466</th>\n",
       "      <td>NaN</td>\n",
       "      <td>NaN</td>\n",
       "      <td>NaN</td>\n",
       "      <td>NaN</td>\n",
       "      <td>201860</td>\n",
       "      <td>24.7</td>\n",
       "      <td>NaN</td>\n",
       "      <td>NaN</td>\n",
       "      <td>4.000000</td>\n",
       "      <td>NaN</td>\n",
       "      <td>...</td>\n",
       "      <td>NaN</td>\n",
       "      <td>NaN</td>\n",
       "      <td>NaN</td>\n",
       "      <td>NaN</td>\n",
       "      <td>NaN</td>\n",
       "      <td>3881.20</td>\n",
       "      <td>NaN</td>\n",
       "      <td>NaN</td>\n",
       "      <td>White</td>\n",
       "      <td>0</td>\n",
       "    </tr>\n",
       "    <tr>\n",
       "      <th>2467</th>\n",
       "      <td>NaN</td>\n",
       "      <td>NaN</td>\n",
       "      <td>NaN</td>\n",
       "      <td>NaN</td>\n",
       "      <td>201890</td>\n",
       "      <td>26.0</td>\n",
       "      <td>NaN</td>\n",
       "      <td>NaN</td>\n",
       "      <td>3.756667</td>\n",
       "      <td>Black or African American</td>\n",
       "      <td>...</td>\n",
       "      <td>NaN</td>\n",
       "      <td>NaN</td>\n",
       "      <td>NaN</td>\n",
       "      <td>NaN</td>\n",
       "      <td>NaN</td>\n",
       "      <td>21377.00</td>\n",
       "      <td>NaN</td>\n",
       "      <td>NaN</td>\n",
       "      <td>NaN</td>\n",
       "      <td>0</td>\n",
       "    </tr>\n",
       "    <tr>\n",
       "      <th>2469</th>\n",
       "      <td>NaN</td>\n",
       "      <td>NaN</td>\n",
       "      <td>NaN</td>\n",
       "      <td>NaN</td>\n",
       "      <td>201960</td>\n",
       "      <td>33.7</td>\n",
       "      <td>NaN</td>\n",
       "      <td>NaN</td>\n",
       "      <td>2.888333</td>\n",
       "      <td>NaN</td>\n",
       "      <td>...</td>\n",
       "      <td>NaN</td>\n",
       "      <td>NaN</td>\n",
       "      <td>NaN</td>\n",
       "      <td>NaN</td>\n",
       "      <td>NaN</td>\n",
       "      <td>3639.40</td>\n",
       "      <td>NaN</td>\n",
       "      <td>NaN</td>\n",
       "      <td>White</td>\n",
       "      <td>0</td>\n",
       "    </tr>\n",
       "  </tbody>\n",
       "</table>\n",
       "<p>1367 rows × 46 columns</p>\n",
       "</div>"
      ],
      "text/plain": [
       "      1st Term Funding  2nd Term Funding  3rd Term Funding  4th Term Funding  \\\n",
       "0               4685.0            4935.0            4110.0             432.0   \n",
       "1                  NaN               NaN               NaN               NaN   \n",
       "2               4685.0            4685.0            3699.0            3699.0   \n",
       "3               4685.0            4685.0            3699.0            3699.0   \n",
       "5               4685.0            8340.0            6885.0            6885.0   \n",
       "...                ...               ...               ...               ...   \n",
       "2464               NaN               NaN               NaN               NaN   \n",
       "2465           11325.0           11325.0               NaN               NaN   \n",
       "2466               NaN               NaN               NaN               NaN   \n",
       "2467               NaN               NaN               NaN               NaN   \n",
       "2469               NaN               NaN               NaN               NaN   \n",
       "\n",
       "      Academic Period Matriculated  Age at Matriculation American Indian  \\\n",
       "0                           201320                  22.3             NaN   \n",
       "1                           201320                  25.3             NaN   \n",
       "2                           201290                  22.0             NaN   \n",
       "3                           201290                  23.0             NaN   \n",
       "5                           201290                  21.0             NaN   \n",
       "...                            ...                   ...             ...   \n",
       "2464                        201890                  32.0             NaN   \n",
       "2465                        201890                  23.0             NaN   \n",
       "2466                        201860                  24.7             NaN   \n",
       "2467                        201890                  26.0             NaN   \n",
       "2469                        201960                  33.7             NaN   \n",
       "\n",
       "      Asian  Average Precol GPA  Black or African American  ... Term 4 GPA  \\\n",
       "0       NaN            3.510000                        NaN  ...   0.000000   \n",
       "1       NaN            2.975000  Black or African American  ...   2.890000   \n",
       "2     Asian            3.490000                        NaN  ...   3.275000   \n",
       "3       NaN            4.005000                        NaN  ...   3.850000   \n",
       "5       NaN            3.110000                        NaN  ...   3.666667   \n",
       "...     ...                 ...                        ...  ...        ...   \n",
       "2464  Asian            3.680000                        NaN  ...        NaN   \n",
       "2465    NaN            3.780000                        NaN  ...        NaN   \n",
       "2466    NaN            4.000000                        NaN  ...        NaN   \n",
       "2467    NaN            3.756667  Black or African American  ...        NaN   \n",
       "2469    NaN            2.888333                        NaN  ...        NaN   \n",
       "\n",
       "     Term 5 GPA  Term 6 GPA Term 7 GPA Term 8 GPA  Total Charges  \\\n",
       "0           0.0         0.0   0.000000        0.0       20406.46   \n",
       "1           3.4         0.0   3.657143        NaN       20191.50   \n",
       "2           3.0         3.0   0.000000        0.0       32939.51   \n",
       "3           4.0         4.0   0.000000        0.0       32054.70   \n",
       "5           0.0         0.0        NaN        NaN       35807.70   \n",
       "...         ...         ...        ...        ...            ...   \n",
       "2464        NaN         NaN        NaN        NaN        1762.00   \n",
       "2465        NaN         NaN        NaN        NaN       24755.00   \n",
       "2466        NaN         NaN        NaN        NaN        3881.20   \n",
       "2467        NaN         NaN        NaN        NaN       21377.00   \n",
       "2469        NaN         NaN        NaN        NaN        3639.40   \n",
       "\n",
       "      Total Funding Amount  Unknown Race Ethnicity  White  Y  \n",
       "0                  16859.0                     NaN  White  1  \n",
       "1                      NaN                     NaN    NaN  1  \n",
       "2                  27262.0                     NaN    NaN  1  \n",
       "3                  26356.0                     NaN  White  1  \n",
       "5                  28477.0                     NaN  White  1  \n",
       "...                    ...                     ...    ... ..  \n",
       "2464                   NaN                     NaN    NaN  0  \n",
       "2465               22650.0                     NaN  White  0  \n",
       "2466                   NaN                     NaN  White  0  \n",
       "2467                   NaN                     NaN    NaN  0  \n",
       "2469                   NaN                     NaN  White  0  \n",
       "\n",
       "[1367 rows x 46 columns]"
      ]
     },
     "execution_count": 19,
     "metadata": {},
     "output_type": "execute_result"
    }
   ],
   "source": [
    "df.loc[df[\"CITIZENSHIP_DESC\"] == 'Citizen'] #all rows where Citizenship = Noncitizen"
   ]
  },
  {
   "cell_type": "code",
   "execution_count": 20,
   "metadata": {},
   "outputs": [],
   "source": [
    "df.loc[df[\"CITIZENSHIP_DESC\"] != 'Non-Citizen',\"Intl Nation of Citizenship\"] = \"US\""
   ]
  },
  {
   "cell_type": "code",
   "execution_count": 21,
   "metadata": {
    "scrolled": true
   },
   "outputs": [
    {
     "data": {
      "text/plain": [
       "0           US\n",
       "1           US\n",
       "2           US\n",
       "3           US\n",
       "4    Hong Kong\n",
       "Name: Intl Nation of Citizenship, dtype: object"
      ]
     },
     "execution_count": 21,
     "metadata": {},
     "output_type": "execute_result"
    }
   ],
   "source": [
    "df[\"Intl Nation of Citizenship\"].head()"
   ]
  },
  {
   "cell_type": "markdown",
   "metadata": {},
   "source": [
    "We now find the 5 largest catagories."
   ]
  },
  {
   "cell_type": "code",
   "execution_count": 22,
   "metadata": {},
   "outputs": [
    {
     "data": {
      "text/plain": [
       "US                   1525\n",
       "China                 333\n",
       "India                 120\n",
       "Turkey                 80\n",
       "Korea Republic Of      61\n",
       "Name: Intl Nation of Citizenship, dtype: int64"
      ]
     },
     "execution_count": 22,
     "metadata": {},
     "output_type": "execute_result"
    }
   ],
   "source": [
    "df[\"Intl Nation of Citizenship\"].value_counts().head()"
   ]
  },
  {
   "cell_type": "code",
   "execution_count": 23,
   "metadata": {},
   "outputs": [],
   "source": [
    "largest_categories = ['US','China','India']"
   ]
  },
  {
   "cell_type": "code",
   "execution_count": 24,
   "metadata": {},
   "outputs": [
    {
     "name": "stdout",
     "output_type": "stream",
     "text": [
      "Values for Citizenship 14\n"
     ]
    }
   ],
   "source": [
    "countries_to_continent = getCountries()\n",
    "df_temp = df.copy()\n",
    "countries = df[\"Intl Nation of Citizenship\"].unique()\n",
    "for country in countries:\n",
    "    try:\n",
    "        if country not in largest_categories:\n",
    "            continent = list(filter(lambda c: c['name'] == country, countries_to_continent))[0][\"continent\"]\n",
    "            df.loc[df[\"Intl Nation of Citizenship\"] == country,'Intl Nation of Citizenship'] = continent \n",
    "    except: \n",
    "        pass\n",
    "print(\"Values for Citizenship\", df[\"Intl Nation of Citizenship\"].nunique())"
   ]
  },
  {
   "cell_type": "code",
   "execution_count": 25,
   "metadata": {
    "scrolled": true
   },
   "outputs": [
    {
     "name": "stdout",
     "output_type": "stream",
     "text": [
      "Values before ['US' 'Asia' 'China' 'Africa' 'India' 'Occupied Palestinian Territory'\n",
      " 'Europe' 'South America' 'Korea Republic Of' 'Cote dIvoire'\n",
      " 'North America' 'Oceania' 'Christmas Island' 'Netherlands']\n",
      "Values ['US' 'Asia' 'China' 'Africa' 'India' 'Europe' 'South America' 'Afria'\n",
      " 'North America']\n"
     ]
    }
   ],
   "source": [
    "print(\"Values before\",df[\"Intl Nation of Citizenship\"].unique())\n",
    "df.loc[df[\"Intl Nation of Citizenship\"] == \"Occupied Palestinian Territory\",\"Intl Nation of Citizenship\"] = \"Asia\"\n",
    "df.loc[df[\"Intl Nation of Citizenship\"] == \"Korea Republic Of\",\"Intl Nation of Citizenship\"] = \"Asia\"\n",
    "df.loc[df[\"Intl Nation of Citizenship\"] == \"Cote dIvoire\",\"Intl Nation of Citizenship\"] = \"Afria\"\n",
    "df.loc[df[\"Intl Nation of Citizenship\"] == \"Oceania\",\"Intl Nation of Citizenship\"] = \"Asia\"\n",
    "df.loc[df[\"Intl Nation of Citizenship\"] == \"Christmas Island\",\"Intl Nation of Citizenship\"] = \"Asia\"\n",
    "df.loc[df[\"Intl Nation of Citizenship\"] == \"Netherlands\",\"Intl Nation of Citizenship\"] = \"Europe\"\n",
    "print(\"Values\", df[\"Intl Nation of Citizenship\"].unique())"
   ]
  },
  {
   "cell_type": "code",
   "execution_count": 26,
   "metadata": {},
   "outputs": [],
   "source": [
    "df = df.drop(columns = \"CITIZENSHIP_DESC\")\n",
    "df.rename(columns = {\"Intl Nation of Citizenship\" : \"Citizenship\" }, inplace = True)"
   ]
  },
  {
   "cell_type": "code",
   "execution_count": 27,
   "metadata": {},
   "outputs": [],
   "source": [
    "df[\"Race\"] = np.nan\n",
    "df.Race.fillna(df.Asian, inplace=True)\n",
    "df.Race.fillna(df[\"Black or African American\"], inplace=True)\n",
    "df.Race.fillna(df[\"American Indian\"], inplace=True)\n",
    "df.Race.fillna(df[\"White\"], inplace=True)\n",
    "df.Race.fillna(df[\"Hawaiian or Pacific Islander\"], inplace=True)\n",
    "df.Race.fillna(df[\"Hispanic or Latino\"], inplace=True)\n",
    "df.Race.fillna(df[\"Unknown Race Ethnicity\"], inplace=True)"
   ]
  },
  {
   "cell_type": "code",
   "execution_count": 28,
   "metadata": {},
   "outputs": [],
   "source": [
    "del df[\"Black or African American\"]\n",
    "del df[\"American Indian\"]\n",
    "del df[\"White\"]\n",
    "del df[\"Hawaiian or Pacific Islander\"]\n",
    "del df[\"Hispanic or Latino\"]\n",
    "del df[\"Unknown Race Ethnicity\"]\n",
    "del df[\"Asian\"]"
   ]
  },
  {
   "cell_type": "code",
   "execution_count": 29,
   "metadata": {
    "scrolled": true
   },
   "outputs": [
    {
     "name": "stdout",
     "output_type": "stream",
     "text": [
      "(2470, 39)\n"
     ]
    }
   ],
   "source": [
    "print(df.shape)"
   ]
  },
  {
   "cell_type": "code",
   "execution_count": 30,
   "metadata": {},
   "outputs": [],
   "source": [
    "df['Citizenship'] = np.where(df['Citizenship']=='US',df['Race'],df['Citizenship'])"
   ]
  },
  {
   "cell_type": "code",
   "execution_count": 31,
   "metadata": {},
   "outputs": [],
   "source": [
    "del df['Race']"
   ]
  },
  {
   "cell_type": "markdown",
   "metadata": {},
   "source": [
    "### Replacing Nans"
   ]
  },
  {
   "cell_type": "code",
   "execution_count": 32,
   "metadata": {},
   "outputs": [],
   "source": [
    "df.iloc[:,0:4].fillna(0, inplace = True)"
   ]
  },
  {
   "cell_type": "markdown",
   "metadata": {},
   "source": [
    "### Use PCA for Application Strength"
   ]
  },
  {
   "cell_type": "code",
   "execution_count": 37,
   "metadata": {},
   "outputs": [],
   "source": [
    "features = ['GMAT Score',\n",
    "       'GRE Analytical Writing Score', 'GRE Quantitative Score',\n",
    "       'GRE Revised General Quant Score', 'GRE Revised General Verbal Score',\n",
    "       'GRE Revised General Write Score', 'GRE Verbal Score','Average Precol GPA']\n",
    "x = df.loc[:, features]\n",
    "x.fillna(x.mean(),inplace=True)\n",
    "m = x.values"
   ]
  },
  {
   "cell_type": "code",
   "execution_count": 38,
   "metadata": {},
   "outputs": [],
   "source": [
    "x.to_csv(\"pca_df.csv\",index=False)"
   ]
  },
  {
   "cell_type": "code",
   "execution_count": 36,
   "metadata": {
    "scrolled": true
   },
   "outputs": [
    {
     "name": "stdout",
     "output_type": "stream",
     "text": [
      "(2470, 8)\n"
     ]
    },
    {
     "data": {
      "text/plain": [
       "Text(0, 0.5, '% of Variance Explained')"
      ]
     },
     "execution_count": 36,
     "metadata": {},
     "output_type": "execute_result"
    },
    {
     "data": {
      "image/png": "[encoded data removed]",
      "text/plain": [
       "<Figure size 432x288 with 1 Axes>"
      ]
     },
     "metadata": {
      "needs_background": "light"
     },
     "output_type": "display_data"
    }
   ],
   "source": [
    "# features = ['GMAT Score',\n",
    "#        'GRE Analytical Writing Score', 'GRE Quantitative Score',\n",
    "#        'GRE Revised General Quant Score', 'GRE Revised General Verbal Score',\n",
    "#        'GRE Revised General Write Score', 'GRE Verbal Score','Average Precol GPA']\n",
    "# x = df.loc[:, features].values\n",
    "# x = np.nan_to_num(x) \n",
    "m = StandardScaler().fit_transform(m)\n",
    "pca = PCA()\n",
    "principalComponents = pca.fit_transform(m)\n",
    "\n",
    "print(principalComponents.shape)\n",
    "var = pca.explained_variance_ratio_\n",
    "plt.plot(range(1,9),var)\n",
    "plt.xlabel('Principal Component')\n",
    "plt.ylabel('% of Variance Explained')"
   ]
  },
  {
   "cell_type": "code",
   "execution_count": 43,
   "metadata": {},
   "outputs": [
    {
     "data": {
      "text/plain": [
       "array([[ 0.011,  0.286, -0.181,  0.595,  0.632,  0.214,  0.241,  0.169],\n",
       "       [-0.024, -0.597,  0.275,  0.338,  0.309, -0.017, -0.556, -0.221],\n",
       "       [ 0.139,  0.155, -0.246,  0.194,  0.035, -0.71 ,  0.098, -0.586]])"
      ]
     },
     "execution_count": 43,
     "metadata": {},
     "output_type": "execute_result"
    }
   ],
   "source": [
    "np.round(pca.components_[0:3,:],3)"
   ]
  },
  {
   "cell_type": "markdown",
   "metadata": {},
   "source": [
    "We will use first three Components"
   ]
  },
  {
   "cell_type": "code",
   "execution_count": 46,
   "metadata": {},
   "outputs": [],
   "source": [
    "pc_df = pd.DataFrame()\n",
    "pc_df[\"PC1\"] = principalComponents[:,0]\n",
    "pc_df[\"PC2\"] = principalComponents[:,1]\n",
    "pc_df[\"PC3\"] = principalComponents[:,2]"
   ]
  },
  {
   "cell_type": "code",
   "execution_count": 48,
   "metadata": {},
   "outputs": [],
   "source": [
    "pc_df.to_csv('pc_components.csv',index=False)"
   ]
  },
  {
   "cell_type": "code",
   "execution_count": 31,
   "metadata": {},
   "outputs": [
    {
     "name": "stdout",
     "output_type": "stream",
     "text": [
      "(2470, 33)\n"
     ]
    }
   ],
   "source": [
    "print(df.shape)"
   ]
  },
  {
   "cell_type": "markdown",
   "metadata": {},
   "source": [
    "# Summary\n",
    "-  Started with two data sets with different colummns\n",
    "-  To make columns same, deleted \"Degree\" since it only contained a single value, changed the name of 2 columns and added zeros to a column\n",
    "    -  QUESTION: How to deal with \"years to degree\" for unsuccessful students? - make it 0 or a large value?\n",
    "    -  UPDATE: Deleted the column\n",
    "-  Merged the Citizenship column together into a \"Regions\" field, indicating which continent the student is from.\n",
    "-  Merged the multiple Race fields into a single column\n",
    "    -  UPDATE: Added China, US and India as different columns, and merged race for all US students\n",
    "-  Subbed out NaN's with zeros in columns that made sense. \n",
    "-  QUESTION: There is 8 different GPA fields, for up to 8 years of GPA but not all fields are filled. Furthermore, some observations go from GPA -> 0 -> GPA. How to handle.\n",
    "-  Used PCA to summarize each student's application strength. From Skree Plot, decided to use first three PCs"
   ]
  },
  {
   "cell_type": "code",
   "execution_count": 32,
   "metadata": {},
   "outputs": [],
   "source": [
    "df.to_csv('current_dataset.csv', index = False)"
   ]
  }
 ],
 "metadata": {
  "hide_input": false,
  "kernelspec": {
   "display_name": "Tensorflow GPU",
   "language": "python",
   "name": "tensorflow"
  },
  "language_info": {
   "codemirror_mode": {
    "name": "ipython",
    "version": 3
   },
   "file_extension": ".py",
   "mimetype": "text/x-python",
   "name": "python",
   "nbconvert_exporter": "python",
   "pygments_lexer": "ipython3",
   "version": "3.7.5"
  },
  "toc": {
   "base_numbering": 1,
   "nav_menu": {},
   "number_sections": true,
   "sideBar": true,
   "skip_h1_title": false,
   "title_cell": "Table of Contents",
   "title_sidebar": "Contents",
   "toc_cell": false,
   "toc_position": {},
   "toc_section_display": true,
   "toc_window_display": true
  }
 },
 "nbformat": 4,
 "nbformat_minor": 2
}
